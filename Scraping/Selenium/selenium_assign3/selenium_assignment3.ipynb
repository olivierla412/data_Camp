{
 "cells": [
  {
   "cell_type": "code",
   "execution_count": 1,
   "id": "93f52841-13b7-49c5-a5e7-7969276b237f",
   "metadata": {},
   "outputs": [
    {
     "data": {
      "text/plain": [
       "'/Users/olivierla412/projects/data_camp/Scraping/Selenium/selenium_assign3'"
      ]
     },
     "execution_count": 1,
     "metadata": {},
     "output_type": "execute_result"
    }
   ],
   "source": []
  },
  {
   "cell_type": "code",
   "execution_count": 949,
   "id": "368b28c4-c565-46b0-bfbf-4abcf73f9599",
   "metadata": {},
   "outputs": [],
   "source": [
    "## Importing the libraries\n",
    "import pandas as pd\n",
    "import selenium\n",
    "from selenium import webdriver\n",
    "import time\n",
    "from selenium.common.exceptions import StaleElementReferenceException,NoSuchElementException"
   ]
  },
  {
   "cell_type": "code",
   "execution_count": 620,
   "id": "c14fd72c-c345-447c-965d-4db87db3fd28",
   "metadata": {},
   "outputs": [],
   "source": [
    "driver = webdriver.Chrome('/Users/olivierla412/Desktop/chromedriver')"
   ]
  },
  {
   "cell_type": "markdown",
   "id": "8941ac0e-0f3c-439a-a062-aa31a3700bdf",
   "metadata": {},
   "source": [
    "## Q1. Write a python program which searches all the product under a particular product vertical\n",
    "## from www.amazon.in. The product verticals to be searched will be taken as input from user.\n",
    "## For e.g. If user input is ‘guitar’. Then search for guitars."
   ]
  },
  {
   "cell_type": "code",
   "execution_count": 80,
   "id": "f928b739-af5d-4d36-8ce7-8409233844ec",
   "metadata": {},
   "outputs": [],
   "source": [
    "## Fetching amazom website\n",
    "url ='https://www.amazon.in'\n",
    "driver.get(url)\n"
   ]
  },
  {
   "cell_type": "code",
   "execution_count": 81,
   "id": "5038c27a-3d6c-4eec-88a9-478ac7a98203",
   "metadata": {},
   "outputs": [],
   "source": [
    "input_search = driver.find_element_by_id(\"twotabsearchtextbox\")"
   ]
  },
  {
   "cell_type": "code",
   "execution_count": 82,
   "id": "51f585e0-f5cd-4632-85d6-121df893281b",
   "metadata": {},
   "outputs": [],
   "source": [
    "input_search.send_keys('Mobile phone above 30000 rupees')"
   ]
  },
  {
   "cell_type": "code",
   "execution_count": 83,
   "id": "9cdb3578-4fd4-4167-b30d-39d86eecb62b",
   "metadata": {},
   "outputs": [],
   "source": [
    "search_button = driver.find_element_by_id(\"nav-search-submit-button\")\n"
   ]
  },
  {
   "cell_type": "code",
   "execution_count": 84,
   "id": "26b4883b-f8dc-40d8-a0b9-6198e777ae2e",
   "metadata": {},
   "outputs": [],
   "source": [
    "search_button.click()"
   ]
  },
  {
   "cell_type": "markdown",
   "id": "a809cce6-18a4-4076-901d-f154bbc2f1b4",
   "metadata": {},
   "source": [
    "## 2. In the above question, now scrape the following\n",
    "## details of each product listed in first 3 pages of your\n",
    "## search results and save it in a data frame and csv.\n",
    "## In case if any product vertical has less than 3 pages\n",
    "## in search results then scrape all the products available under that product vertical.\n",
    "## Details to be scraped are: \"Brand Name\", \"Name of the Product\", \"Rating\", \"No. of Ratings\",\n",
    "## \"Price\", \"Return/Exchange\", \"Expected Delivery\", \"Availability\", \"Other Details\" and “Product URL”.\n",
    "## In case, if any of the details are missing for any of the product then replace it by “-“."
   ]
  },
  {
   "cell_type": "markdown",
   "id": "94594dd5-6a61-47f5-a2a4-a9e1c667e8e7",
   "metadata": {},
   "source": [
    "#### First let's the product urls."
   ]
  },
  {
   "cell_type": "code",
   "execution_count": null,
   "id": "db53dd39-414c-4153-b978-a574d4091a8a",
   "metadata": {},
   "outputs": [],
   "source": []
  },
  {
   "cell_type": "code",
   "execution_count": 85,
   "id": "a826cb59-7cc4-4cad-a6ce-f1cd23ba067c",
   "metadata": {},
   "outputs": [],
   "source": [
    "## getting the phones urls.\n",
    " \n",
    "links = []\n",
    "try:\n",
    "    for i in range(1,4):\n",
    "        product_link = driver.find_elements_by_xpath('//a[@class=\"a-link-normal a-text-normal\"]')\n",
    "        for oli in product_link:\n",
    "            links.append(oli.get_attribute('href'))\n",
    "        next_btn = driver.find_element_by_xpath('//li[@class=\"a-last\"]')\n",
    "        next_btn.click() \n",
    "        \n",
    "except NoSuchElementException:\n",
    "    links.append('-')\n",
    "time.sleep(3)   \n",
    "next_btn = driver.find_element_by_xpath('//li[@class=\"a-last\"]')\n",
    "next_btn.click() "
   ]
  },
  {
   "cell_type": "code",
   "execution_count": 86,
   "id": "bf097d37-8c4b-4b9c-b2a6-4ab0d9e87b9e",
   "metadata": {},
   "outputs": [
    {
     "data": {
      "text/plain": [
       "22"
      ]
     },
     "execution_count": 86,
     "metadata": {},
     "output_type": "execute_result"
    }
   ],
   "source": [
    "len(links)"
   ]
  },
  {
   "cell_type": "code",
   "execution_count": 87,
   "id": "c1b73244-d37f-4121-8fad-79ae8899cbec",
   "metadata": {},
   "outputs": [
    {
     "data": {
      "text/plain": [
       "['https://www.amazon.in/India-Gadgets-Android-Waterproof-Smartphone/dp/B094PM9JRN/ref=sr_1_1?dchild=1&keywords=Mobile+phone+above+30000+rupees&qid=1626713168&sr=8-1',\n",
       " 'https://www.amazon.in/India-Gadgets-Android-Waterproof-Smartphone/dp/B096MVQSXJ/ref=sr_1_2?dchild=1&keywords=Mobile+phone+above+30000+rupees&qid=1626713168&sr=8-2',\n",
       " 'https://www.amazon.in/iQOO-Solid-Blue-128GB-Storage/dp/B085J19DPV/ref=sr_1_3?dchild=1&keywords=Mobile+phone+above+30000+rupees&qid=1626713168&sr=8-3',\n",
       " 'https://www.amazon.in/LG-Velvet-Aurora-Silver-Storage/dp/B08NZTS2SJ/ref=sr_1_4?dchild=1&keywords=Mobile+phone+above+30000+rupees&qid=1626713168&sr=8-4',\n",
       " 'https://www.amazon.in/OnePlus-Mirror-Black-128GB-Storage/dp/B07DJD1Y3Q/ref=sr_1_5?dchild=1&keywords=Mobile+phone+above+30000+rupees&qid=1626713168&sr=8-5',\n",
       " 'https://www.amazon.in/Mi11XPro-Lunar-White-256GB-Storage/dp/B08LRDTY1M/ref=sr_1_6?dchild=1&keywords=Mobile+phone+above+30000+rupees&qid=1626713168&sr=8-6',\n",
       " 'https://www.amazon.in/Test-Exclusive_2020_1177-Multi-3GB-Storage/dp/B089MV3MW8/ref=sr_1_7?dchild=1&keywords=Mobile+phone+above+30000+rupees&qid=1626713168&sr=8-7',\n",
       " 'https://www.amazon.in/Mi11XPro-Celestial-Silver-256GB-Storage/dp/B08LRG6J3B/ref=sr_1_8?dchild=1&keywords=Mobile+phone+above+30000+rupees&qid=1626713168&sr=8-8',\n",
       " 'https://www.amazon.in/Test-Exclusive_2020_1179-Multi-3GB-Storage/dp/B089MS8WHL/ref=sr_1_9?dchild=1&keywords=Mobile+phone+above+30000+rupees&qid=1626713168&sr=8-9',\n",
       " 'https://www.amazon.in/Vivo-V21-8GB-RAM-256GB/dp/B08ZJS74FC/ref=sr_1_10?dchild=1&keywords=Mobile+phone+above+30000+rupees&qid=1626713168&sr=8-10',\n",
       " 'https://www.amazon.in/Test-Exclusive_2020_1181-Multi-3GB-Storage/dp/B089MSK447/ref=sr_1_11?dchild=1&keywords=Mobile+phone+above+30000+rupees&qid=1626713168&sr=8-11',\n",
       " 'https://www.amazon.in/Test-Exclusive_2020_1180-Multi-3GB-Storage/dp/B089MT34QL/ref=sr_1_12?dchild=1&keywords=Mobile+phone+above+30000+rupees&qid=1626713168&sr=8-12',\n",
       " 'https://www.amazon.in/11X-Cosmic-Black-128GB-Storage/dp/B085J1DRPG/ref=sr_1_13?dchild=1&keywords=Mobile+phone+above+30000+rupees&qid=1626713168&sr=8-13',\n",
       " 'https://www.amazon.in/iqoo7/dp/B086978F35/ref=sr_1_14?dchild=1&keywords=Mobile+phone+above+30000+rupees&qid=1626713168&sr=8-14',\n",
       " 'https://www.amazon.in/iQOO-Storm-Black-128GB-Storage/dp/B085J1RJV6/ref=sr_1_15?dchild=1&keywords=Mobile+phone+above+30000+rupees&qid=1626713168&sr=8-15',\n",
       " 'https://www.amazon.in/iQOO-Storm-Black-256GB-Storage/dp/B085J17VVQ/ref=sr_1_16?dchild=1&keywords=Mobile+phone+above+30000+rupees&qid=1626713168&sr=8-16',\n",
       " 'https://www.amazon.in/Test-Exclusive_2020_1178-Multi-3GB-Storage/dp/B089MTJVLD/ref=sr_1_17?dchild=1&keywords=Mobile+phone+above+30000+rupees&qid=1626713174&sr=8-17',\n",
       " 'https://www.amazon.in/New-Apple-iPhone-12-64GB/dp/B08L5TGWD1/ref=sr_1_18?dchild=1&keywords=Mobile+phone+above+30000+rupees&qid=1626713174&sr=8-18',\n",
       " 'https://www.amazon.in/OnePlus-Mirror-Black-128GB-Storage/dp/B085J19V4P/ref=sr_1_19?dchild=1&keywords=Mobile+phone+above+30000+rupees&qid=1626713174&sr=8-19',\n",
       " 'https://www.amazon.in/iqoo7/dp/B08697QP9B/ref=sr_1_20?dchild=1&keywords=Mobile+phone+above+30000+rupees&qid=1626713174&sr=8-20',\n",
       " 'https://www.amazon.in/iQOO-Solid-Blue-256GB-Storage/dp/B085J3GN6X/ref=sr_1_21?dchild=1&keywords=Mobile+phone+above+30000+rupees&qid=1626713174&sr=8-21',\n",
       " '-']"
      ]
     },
     "execution_count": 87,
     "metadata": {},
     "output_type": "execute_result"
    }
   ],
   "source": [
    "links"
   ]
  },
  {
   "cell_type": "code",
   "execution_count": 97,
   "id": "6a447d2d-f4d5-43e4-bc29-eb284517097e",
   "metadata": {},
   "outputs": [],
   "source": [
    "valid_links= links[:21]"
   ]
  },
  {
   "cell_type": "code",
   "execution_count": 98,
   "id": "d3ba845a-1ac5-49a9-9799-40b9c0208aba",
   "metadata": {},
   "outputs": [
    {
     "data": {
      "text/plain": [
       "21"
      ]
     },
     "execution_count": 98,
     "metadata": {},
     "output_type": "execute_result"
    }
   ],
   "source": [
    "len(valid_links)"
   ]
  },
  {
   "cell_type": "code",
   "execution_count": 99,
   "id": "0ea08a7d-5099-4059-a12b-de923e0d785c",
   "metadata": {},
   "outputs": [
    {
     "data": {
      "text/plain": [
       "['https://www.amazon.in/India-Gadgets-Android-Waterproof-Smartphone/dp/B094PM9JRN/ref=sr_1_1?dchild=1&keywords=Mobile+phone+above+30000+rupees&qid=1626713168&sr=8-1',\n",
       " 'https://www.amazon.in/India-Gadgets-Android-Waterproof-Smartphone/dp/B096MVQSXJ/ref=sr_1_2?dchild=1&keywords=Mobile+phone+above+30000+rupees&qid=1626713168&sr=8-2',\n",
       " 'https://www.amazon.in/iQOO-Solid-Blue-128GB-Storage/dp/B085J19DPV/ref=sr_1_3?dchild=1&keywords=Mobile+phone+above+30000+rupees&qid=1626713168&sr=8-3',\n",
       " 'https://www.amazon.in/LG-Velvet-Aurora-Silver-Storage/dp/B08NZTS2SJ/ref=sr_1_4?dchild=1&keywords=Mobile+phone+above+30000+rupees&qid=1626713168&sr=8-4',\n",
       " 'https://www.amazon.in/OnePlus-Mirror-Black-128GB-Storage/dp/B07DJD1Y3Q/ref=sr_1_5?dchild=1&keywords=Mobile+phone+above+30000+rupees&qid=1626713168&sr=8-5',\n",
       " 'https://www.amazon.in/Mi11XPro-Lunar-White-256GB-Storage/dp/B08LRDTY1M/ref=sr_1_6?dchild=1&keywords=Mobile+phone+above+30000+rupees&qid=1626713168&sr=8-6',\n",
       " 'https://www.amazon.in/Test-Exclusive_2020_1177-Multi-3GB-Storage/dp/B089MV3MW8/ref=sr_1_7?dchild=1&keywords=Mobile+phone+above+30000+rupees&qid=1626713168&sr=8-7',\n",
       " 'https://www.amazon.in/Mi11XPro-Celestial-Silver-256GB-Storage/dp/B08LRG6J3B/ref=sr_1_8?dchild=1&keywords=Mobile+phone+above+30000+rupees&qid=1626713168&sr=8-8',\n",
       " 'https://www.amazon.in/Test-Exclusive_2020_1179-Multi-3GB-Storage/dp/B089MS8WHL/ref=sr_1_9?dchild=1&keywords=Mobile+phone+above+30000+rupees&qid=1626713168&sr=8-9',\n",
       " 'https://www.amazon.in/Vivo-V21-8GB-RAM-256GB/dp/B08ZJS74FC/ref=sr_1_10?dchild=1&keywords=Mobile+phone+above+30000+rupees&qid=1626713168&sr=8-10',\n",
       " 'https://www.amazon.in/Test-Exclusive_2020_1181-Multi-3GB-Storage/dp/B089MSK447/ref=sr_1_11?dchild=1&keywords=Mobile+phone+above+30000+rupees&qid=1626713168&sr=8-11',\n",
       " 'https://www.amazon.in/Test-Exclusive_2020_1180-Multi-3GB-Storage/dp/B089MT34QL/ref=sr_1_12?dchild=1&keywords=Mobile+phone+above+30000+rupees&qid=1626713168&sr=8-12',\n",
       " 'https://www.amazon.in/11X-Cosmic-Black-128GB-Storage/dp/B085J1DRPG/ref=sr_1_13?dchild=1&keywords=Mobile+phone+above+30000+rupees&qid=1626713168&sr=8-13',\n",
       " 'https://www.amazon.in/iqoo7/dp/B086978F35/ref=sr_1_14?dchild=1&keywords=Mobile+phone+above+30000+rupees&qid=1626713168&sr=8-14',\n",
       " 'https://www.amazon.in/iQOO-Storm-Black-128GB-Storage/dp/B085J1RJV6/ref=sr_1_15?dchild=1&keywords=Mobile+phone+above+30000+rupees&qid=1626713168&sr=8-15',\n",
       " 'https://www.amazon.in/iQOO-Storm-Black-256GB-Storage/dp/B085J17VVQ/ref=sr_1_16?dchild=1&keywords=Mobile+phone+above+30000+rupees&qid=1626713168&sr=8-16',\n",
       " 'https://www.amazon.in/Test-Exclusive_2020_1178-Multi-3GB-Storage/dp/B089MTJVLD/ref=sr_1_17?dchild=1&keywords=Mobile+phone+above+30000+rupees&qid=1626713174&sr=8-17',\n",
       " 'https://www.amazon.in/New-Apple-iPhone-12-64GB/dp/B08L5TGWD1/ref=sr_1_18?dchild=1&keywords=Mobile+phone+above+30000+rupees&qid=1626713174&sr=8-18',\n",
       " 'https://www.amazon.in/OnePlus-Mirror-Black-128GB-Storage/dp/B085J19V4P/ref=sr_1_19?dchild=1&keywords=Mobile+phone+above+30000+rupees&qid=1626713174&sr=8-19',\n",
       " 'https://www.amazon.in/iqoo7/dp/B08697QP9B/ref=sr_1_20?dchild=1&keywords=Mobile+phone+above+30000+rupees&qid=1626713174&sr=8-20',\n",
       " 'https://www.amazon.in/iQOO-Solid-Blue-256GB-Storage/dp/B085J3GN6X/ref=sr_1_21?dchild=1&keywords=Mobile+phone+above+30000+rupees&qid=1626713174&sr=8-21']"
      ]
     },
     "execution_count": 99,
     "metadata": {},
     "output_type": "execute_result"
    }
   ],
   "source": [
    "valid_links"
   ]
  },
  {
   "cell_type": "markdown",
   "id": "03bb915e-4f1c-4a6a-a89b-5b7766d4c5ca",
   "metadata": {},
   "source": [
    "### let's find the product brand and price"
   ]
  },
  {
   "cell_type": "code",
   "execution_count": 105,
   "id": "87d542ed-6ae1-4da6-94a7-fca28a046db7",
   "metadata": {},
   "outputs": [],
   "source": [
    "## declaration of variables\n",
    "\n",
    "product_brand = []\n",
    "product_price = []\n",
    "for i in valid_links:\n",
    "    driver.get(i)\n",
    "    time.sleep(4)\n",
    "    #product_brand\n",
    "    try:\n",
    "        brand = driver.find_element_by_xpath('//td[@class=\"a-span9\"]//span')\n",
    "        product_brand.append(brand.text)\n",
    "    except NoSuchElementException:\n",
    "        product_brand.append('-') \n",
    "    \n",
    "    #fetching product_price\n",
    "    try:\n",
    "        price = driver.find_element_by_xpath('//span[@class=\"a-size-medium a-color-price priceBlockBuyingPriceString\"]')\n",
    "        product_price.append(price.text)\n",
    "    except NoSuchElementException:\n",
    "        product_price.append('-')\n"
   ]
  },
  {
   "cell_type": "code",
   "execution_count": 106,
   "id": "7eb6b214-5750-43cc-8aaf-f59bd16c6d3a",
   "metadata": {},
   "outputs": [
    {
     "data": {
      "text/plain": [
       "['Arm 9E',\n",
       " 'Armor 11T',\n",
       " 'IQOO 7 5G (Solid Ice Blue, 8GB RAM, 128GB Storage)',\n",
       " 'LMG910EMW.AINDAS',\n",
       " 'A6010',\n",
       " 'Mi 11X Pro',\n",
       " 'OnePlus 9',\n",
       " 'Mi 11X Pro',\n",
       " 'Exclusive_2020_1179',\n",
       " 'Vivo V21 (Dusk Blue, 8GB RAM, 256GB ROM)',\n",
       " 'Exclusive_2020_1181',\n",
       " 'OnePlus 9R',\n",
       " 'Mi 11X',\n",
       " 'IQOO 7 5G (Storm Black, 12GB RAM, 256GB Storage)',\n",
       " 'IQOO 7 5G (Storm Black, 8GB RAM, 128GB Storage)',\n",
       " 'IQOO 7 5G (Storm Black, 8GB RAM, 256GB Storage)',\n",
       " 'Exclusive_2020_1178',\n",
       " 'IPhone 12 64GB (PRODUCT)RED',\n",
       " 'OnePlus 8T 5G',\n",
       " 'IQOO 7 5G (Solid Ice Blue, 12GB RAM, 256GB Storage)',\n",
       " 'IQOO 7 5G (Solid Ice Blue, 8GB RAM, 256GB Storage)']"
      ]
     },
     "execution_count": 106,
     "metadata": {},
     "output_type": "execute_result"
    }
   ],
   "source": [
    "product_brand"
   ]
  },
  {
   "cell_type": "code",
   "execution_count": 107,
   "id": "2b6ba8a5-3129-4ffd-8a0b-c18a56993906",
   "metadata": {},
   "outputs": [
    {
     "data": {
      "text/plain": [
       "21"
      ]
     },
     "execution_count": 107,
     "metadata": {},
     "output_type": "execute_result"
    }
   ],
   "source": [
    "len(product_brand)"
   ]
  },
  {
   "cell_type": "code",
   "execution_count": 108,
   "id": "4bc2884a-a89d-49f3-853f-0fb44b335348",
   "metadata": {},
   "outputs": [
    {
     "data": {
      "text/plain": [
       "['₹37,500.00',\n",
       " '₹53,000.00',\n",
       " '₹31,990.00',\n",
       " '₹31,999.00',\n",
       " '₹31,999.00',\n",
       " '₹41,999.00',\n",
       " '₹54,999.00',\n",
       " '₹41,999.00',\n",
       " '₹43,999.00',\n",
       " '₹32,990.00',\n",
       " '₹43,999.00',\n",
       " '₹39,999.00',\n",
       " '-',\n",
       " '₹35,990.00',\n",
       " '₹31,990.00',\n",
       " '₹33,990.00',\n",
       " '-',\n",
       " '₹72,900.00',\n",
       " '₹41,999.00',\n",
       " '₹35,990.00',\n",
       " '₹33,990.00']"
      ]
     },
     "execution_count": 108,
     "metadata": {},
     "output_type": "execute_result"
    }
   ],
   "source": [
    "product_price"
   ]
  },
  {
   "cell_type": "code",
   "execution_count": 109,
   "id": "a1fabd88-0bb1-4cad-9acc-e63c58f697e6",
   "metadata": {},
   "outputs": [
    {
     "data": {
      "text/plain": [
       "21"
      ]
     },
     "execution_count": 109,
     "metadata": {},
     "output_type": "execute_result"
    }
   ],
   "source": [
    "len(product_price)"
   ]
  },
  {
   "cell_type": "markdown",
   "id": "2ff23859-051a-41de-bb44-a498a7fa70d5",
   "metadata": {},
   "source": [
    "### Let's scrap the product name and delivery"
   ]
  },
  {
   "cell_type": "code",
   "execution_count": 110,
   "id": "18fe6dd1-73df-4ae3-8046-ae6d9ac9cbd2",
   "metadata": {},
   "outputs": [],
   "source": [
    "## declaration of variables\n",
    "\n",
    "product_name = []\n",
    "product_delivery = []\n",
    "for i in valid_links:\n",
    "    driver.get(i)\n",
    "    time.sleep(4)\n",
    "    # fetching product_name\n",
    "    try:\n",
    "        name = driver.find_element_by_xpath('//span[@class=\"a-size-large product-title-word-break\"]')\n",
    "        product_name.append(name.text)\n",
    "    except NoSuchElementException:\n",
    "        product_name.append('-') \n",
    "    \n",
    "    #fetching product_delivery date\n",
    "    try:\n",
    "        delivery= driver.find_element_by_xpath('//div[@class=\"a-section a-spacing-mini\"]//b')\n",
    "        product_delivery.append(delivery.text)\n",
    "    except NoSuchElementException:\n",
    "        product_delivery.append('-')\n"
   ]
  },
  {
   "cell_type": "code",
   "execution_count": 111,
   "id": "4054abf6-d5bf-4054-a225-b0a2f3ebf8c9",
   "metadata": {},
   "outputs": [
    {
     "data": {
      "text/plain": [
       "21"
      ]
     },
     "execution_count": 111,
     "metadata": {},
     "output_type": "execute_result"
    }
   ],
   "source": [
    "len(product_name)"
   ]
  },
  {
   "cell_type": "code",
   "execution_count": 112,
   "id": "ff929cb6-75dd-4e5a-816b-e79ff47ad0ca",
   "metadata": {},
   "outputs": [
    {
     "data": {
      "text/plain": [
       "['India Gadgets - Armor 9E Rugged Android Mobile Phone: 6.3\" FHD+ IPS Display: 8Gb + 128Gb: 64MP Quad Camera: 6600mAh Battery: OTG NFC: Waterproof IP68 & IP69K Smartphone (Phone Only)',\n",
       " 'India Gadgets - Armor 11T 5G Rugged Android 11 Mobile Phone: 8Gb + 256Gb: 48MP Quad Camera with Thermal Imaging Camera: 6.1\" HD+ Display: 5200mAh Battery: Waterproof IP68 & IP69K Smartphone',\n",
       " 'iQOO 7 5G (Solid Ice Blue, 8GB RAM, 128GB Storage)| Upto 9 Months No Cost EMI | 3GB Extended RAM | Extra Rs.2000 Off on Exchange',\n",
       " 'LG Velvet (Aurora Silver, 6GB RAM, 128GB Storage) - P-OLED FHD+ Display | Snapdragon 845 Processor, Small (LMG910EMW.AINDAS)',\n",
       " 'OnePlus 6T (Mirror Black, 6GB RAM, 128GB Storage)',\n",
       " 'Mi 11X Pro 5G (Lunar White, 8GB RAM, 256GB Storage) | Snapdragon 888 | 108MP Camera',\n",
       " 'OnePlus 9 5G (Arctic Sky,12GB RAM, 256GB Storage)',\n",
       " 'MI 11X Pro 5G (Celestial Silver, 8GB RAM, 256GB Storage) | Snapdragon 888 | 108MP Camera | Upto 2000 Additional Exchange',\n",
       " 'OnePlus 9R 5G (Carbon Black, 12GB RAM, 256 GB Storage)',\n",
       " 'Vivo V21 5G (Dusk Blue, 8GB RAM, 256GB Storage) with No Cost EMI/Additional Exchange Offers',\n",
       " 'OnePlus 9R 5G (Lake Blue, 12GB RAM, 256GB Storage)',\n",
       " 'OnePlus 9R 5G (Lake Blue, 8GB RAM, 128GB Storage)',\n",
       " 'Mi 11X 5G Cosmic Black 8GB RAM 128GB ROM | SD 870 | DisplayMate A+ rated E4 AMOLED|Upto 5000 Additional Exchange',\n",
       " 'iQOO 7 5G (Storm Black, 12GB RAM, 256GB Storage)| Upto 9 Months No Cost EMI | 3GB Extended RAM | Extra Rs.2000 Off on Exchange',\n",
       " 'iQOO 7 5G (Storm Black, 8GB RAM, 128GB Storage)| Upto 9 Months No Cost EMI | 3GB Extended RAM | Extra Rs.2000 Off on Exchange',\n",
       " 'iQOO 7 5G (Storm Black, 8GB RAM, 256GB Storage)| Upto 9 Months No Cost EMI | 3GB Extended RAM | Extra Rs.2000 Off on Exchange',\n",
       " 'OnePlus 9R 5G (Carbon Black, 8GB RAM, 128GB Storage)',\n",
       " 'New Apple iPhone 12 (64GB) - (Product) RED',\n",
       " 'OnePlus 8T 5G (Aquamarine Green, 12GB RAM, 256GB Storage)',\n",
       " 'iQOO 7 5G (Solid Ice Blue, 12GB RAM, 256GB Storage)| Upto 9 Months No Cost EMI | 3GB Extended RAM | Extra Rs.2000 Off on Exchange',\n",
       " 'iQOO 7 5G (Solid Ice Blue, 8GB RAM, 256GB Storage)| Upto 9 Months No Cost EMI | 3GB Extended RAM | Extra Rs.2000 Off on Exchange']"
      ]
     },
     "execution_count": 112,
     "metadata": {},
     "output_type": "execute_result"
    }
   ],
   "source": [
    "product_name"
   ]
  },
  {
   "cell_type": "code",
   "execution_count": 113,
   "id": "a7519da2-c6ae-4ea7-85c5-9ea9906a2e3c",
   "metadata": {},
   "outputs": [
    {
     "data": {
      "text/plain": [
       "21"
      ]
     },
     "execution_count": 113,
     "metadata": {},
     "output_type": "execute_result"
    }
   ],
   "source": [
    "len(product_delivery)"
   ]
  },
  {
   "cell_type": "code",
   "execution_count": 114,
   "id": "a0d0986d-157f-4995-9ec4-00526bc82f57",
   "metadata": {},
   "outputs": [
    {
     "data": {
      "text/plain": [
       "['Aug 17 - 30',\n",
       " 'Aug 17 - 30',\n",
       " 'Friday, July 23',\n",
       " 'Sunday, July 25',\n",
       " 'Saturday, July 24',\n",
       " 'Thursday, July 22',\n",
       " 'Thursday, July 22',\n",
       " 'Wednesday, July 21',\n",
       " 'Friday, July 30',\n",
       " 'Wednesday, July 21',\n",
       " 'Thursday, July 22',\n",
       " 'July 22 - 23',\n",
       " 'Sunday, July 25',\n",
       " 'Saturday, July 24',\n",
       " 'Saturday, July 24',\n",
       " 'Wednesday, July 21',\n",
       " 'Wednesday, July 21',\n",
       " 'Wednesday, July 21',\n",
       " 'Friday, July 30',\n",
       " 'Saturday, July 24',\n",
       " 'Wednesday, July 21']"
      ]
     },
     "execution_count": 114,
     "metadata": {},
     "output_type": "execute_result"
    }
   ],
   "source": [
    "product_delivery\n"
   ]
  },
  {
   "cell_type": "markdown",
   "id": "1fe52c6c-1125-4f3e-b895-17a92a1e80b9",
   "metadata": {},
   "source": [
    "### Let's find product __return exchange__ and __availability__"
   ]
  },
  {
   "cell_type": "code",
   "execution_count": 115,
   "id": "800f2204-4a39-4be9-b547-1c36e9155cc8",
   "metadata": {},
   "outputs": [],
   "source": [
    "## declaration of variables\n",
    "return_exchange = []\n",
    "availability =[]\n",
    "for i in valid_links:\n",
    "    driver.get(i)\n",
    "    time.sleep(4)\n",
    "    # fetching return_exchange\n",
    "    try:\n",
    "        exchange = driver.find_element_by_xpath('//td[@class=\"a-span12 a-color-price a-size-base priceBlockSavingsString\"]')\n",
    "        return_exchange.append(exchange.text)\n",
    "    except NoSuchElementException:\n",
    "        return_exchange.append('-') \n",
    "    \n",
    "    #fetching availability\n",
    "    try:\n",
    "        aval= driver.find_element_by_xpath('//span[@class=\"a-size-medium a-color-success\"]')\n",
    "        availability.append(aval.text)\n",
    "    except NoSuchElementException:\n",
    "        availability.append('-')\n"
   ]
  },
  {
   "cell_type": "code",
   "execution_count": 116,
   "id": "74f33240-96d1-4eb8-a4c0-865b72c03186",
   "metadata": {},
   "outputs": [
    {
     "data": {
      "text/plain": [
       "21"
      ]
     },
     "execution_count": 116,
     "metadata": {},
     "output_type": "execute_result"
    }
   ],
   "source": [
    "len(return_exchange)"
   ]
  },
  {
   "cell_type": "code",
   "execution_count": 117,
   "id": "5d203371-4bc3-4c51-a51d-9a78e20dcc7a",
   "metadata": {},
   "outputs": [
    {
     "data": {
      "text/plain": [
       "21"
      ]
     },
     "execution_count": 117,
     "metadata": {},
     "output_type": "execute_result"
    }
   ],
   "source": [
    "len(availability)"
   ]
  },
  {
   "cell_type": "code",
   "execution_count": 118,
   "id": "78428e6c-d2e1-4408-997a-2a2f2e472497",
   "metadata": {},
   "outputs": [
    {
     "data": {
      "text/plain": [
       "['₹13,500.00 (26%)',\n",
       " '₹7,000.00 (12%)',\n",
       " '₹3,000.00 (9%)',\n",
       " '₹22,110.00 (40%)',\n",
       " '₹6,000.00 (16%)',\n",
       " '₹8,000.00 (16%)',\n",
       " '-',\n",
       " '₹8,000.00 (16%)',\n",
       " '-',\n",
       " '₹3,000.00 (8%)',\n",
       " '-',\n",
       " '-',\n",
       " '₹3,000.00 (9%)',\n",
       " '₹4,000.00 (10%)',\n",
       " '₹3,000.00 (9%)',\n",
       " '₹4,000.00 (11%)',\n",
       " '-',\n",
       " '₹7,000.00 (9%)',\n",
       " '₹4,000.00 (9%)',\n",
       " '₹4,000.00 (10%)',\n",
       " '₹4,000.00 (11%)']"
      ]
     },
     "execution_count": 118,
     "metadata": {},
     "output_type": "execute_result"
    }
   ],
   "source": [
    "return_exchange"
   ]
  },
  {
   "cell_type": "code",
   "execution_count": 119,
   "id": "7377fcdd-7762-4cfa-8989-f6b59a0a67dc",
   "metadata": {},
   "outputs": [
    {
     "data": {
      "text/plain": [
       "['-',\n",
       " '-',\n",
       " 'In stock.',\n",
       " 'In stock.',\n",
       " 'In stock.',\n",
       " 'In stock.',\n",
       " 'In stock.',\n",
       " 'In stock.',\n",
       " 'In stock.',\n",
       " 'In stock.',\n",
       " 'In stock.',\n",
       " '-',\n",
       " 'In stock.',\n",
       " 'In stock.',\n",
       " 'In stock.',\n",
       " 'In stock.',\n",
       " 'In stock.',\n",
       " 'In stock.',\n",
       " 'In stock.',\n",
       " 'In stock.',\n",
       " 'In stock.']"
      ]
     },
     "execution_count": 119,
     "metadata": {},
     "output_type": "execute_result"
    }
   ],
   "source": [
    "availability"
   ]
  },
  {
   "cell_type": "markdown",
   "id": "46049de1-e3eb-4a42-8d64-c8b886f571d1",
   "metadata": {},
   "source": [
    "### Let's find the rating and no of rating.\n"
   ]
  },
  {
   "cell_type": "code",
   "execution_count": 139,
   "id": "154aca39-0481-4cf3-9204-babfa0d13a25",
   "metadata": {},
   "outputs": [],
   "source": [
    "prodcut_rating = []\n",
    "product_no_of_rating = []\n",
    "for i in valid_links:\n",
    "    driver.get(i)\n",
    "    time.sleep(4)\n",
    "    # fetching prodcut_rating\n",
    "    try:\n",
    "        rating = driver.find_element_by_xpath('//span[@class=\"a-size-medium a-color-base\"]')\n",
    "        prodcut_rating.append(rating.text)\n",
    "    except NoSuchElementException:\n",
    "        prodcut_rating.append('-') \n",
    "    \n",
    "    #fetching availability\n",
    "    try:\n",
    "        no_rating= driver.find_element_by_xpath('/html/body/div[2]/div[2]/div[5]/div[4]/div[4]/div[5]/div/span[3]/a/span')\n",
    "        product_no_of_rating.append(no_rating.text)\n",
    "    except NoSuchElementException:\n",
    "        product_no_of_rating.append('-')\n",
    "\n",
    "\n",
    "\n",
    "\n",
    "\n",
    "\n"
   ]
  },
  {
   "cell_type": "code",
   "execution_count": 129,
   "id": "eaf8d14e-220b-4717-9126-a4fa6c229251",
   "metadata": {},
   "outputs": [
    {
     "data": {
      "text/plain": [
       "21"
      ]
     },
     "execution_count": 129,
     "metadata": {},
     "output_type": "execute_result"
    }
   ],
   "source": [
    "len(prodcut_rating)"
   ]
  },
  {
   "cell_type": "code",
   "execution_count": 128,
   "id": "1f15c76d-9330-4226-bdc1-de616978535a",
   "metadata": {},
   "outputs": [
    {
     "data": {
      "text/plain": [
       "21"
      ]
     },
     "execution_count": 128,
     "metadata": {},
     "output_type": "execute_result"
    }
   ],
   "source": []
  },
  {
   "cell_type": "code",
   "execution_count": 142,
   "id": "3781376b-ad5c-4106-b838-3a4ac34aefa0",
   "metadata": {},
   "outputs": [
    {
     "data": {
      "text/plain": [
       "['-',\n",
       " '-',\n",
       " '4.5 out of 5',\n",
       " '4.1 out of 5',\n",
       " '4.5 out of 5',\n",
       " '3.9 out of 5',\n",
       " '4.1 out of 5',\n",
       " '3.9 out of 5',\n",
       " '4.3 out of 5',\n",
       " '4.2 out of 5',\n",
       " '4.3 out of 5',\n",
       " '4.3 out of 5',\n",
       " '4 out of 5',\n",
       " '4.5 out of 5',\n",
       " '4.5 out of 5',\n",
       " '4.5 out of 5',\n",
       " '4.3 out of 5',\n",
       " '4.6 out of 5',\n",
       " '4.4 out of 5',\n",
       " '4.5 out of 5',\n",
       " '4.5 out of 5']"
      ]
     },
     "execution_count": 142,
     "metadata": {},
     "output_type": "execute_result"
    }
   ],
   "source": [
    "prodcut_rating"
   ]
  },
  {
   "cell_type": "code",
   "execution_count": 141,
   "id": "d5f132ed-1a78-4f5d-aa9d-9c53b83ee4d8",
   "metadata": {},
   "outputs": [
    {
     "data": {
      "text/plain": [
       "['-',\n",
       " '-',\n",
       " '4,760 ratings',\n",
       " '82 ratings',\n",
       " '30,032 ratings',\n",
       " '530 ratings',\n",
       " '2,430 ratings',\n",
       " '530 ratings',\n",
       " '11,027 ratings',\n",
       " '42 ratings',\n",
       " '11,027 ratings',\n",
       " '11,027 ratings',\n",
       " '2,872 ratings',\n",
       " '4,760 ratings',\n",
       " '4,760 ratings',\n",
       " '4,760 ratings',\n",
       " '11,027 ratings',\n",
       " '-',\n",
       " '20,943 ratings',\n",
       " '4,760 ratings',\n",
       " '4,760 ratings']"
      ]
     },
     "execution_count": 141,
     "metadata": {},
     "output_type": "execute_result"
    }
   ],
   "source": [
    "product_no_of_rating"
   ]
  },
  {
   "cell_type": "markdown",
   "id": "e3fa40ea-6ec5-41d3-afc5-f6bfa9f71c7d",
   "metadata": {},
   "source": [
    "## Now let's make our data frame"
   ]
  },
  {
   "cell_type": "code",
   "execution_count": 147,
   "id": "880ac34b-63e4-4078-873a-c39a125261db",
   "metadata": {},
   "outputs": [],
   "source": [
    "data1 = pd.DataFrame({})"
   ]
  },
  {
   "cell_type": "code",
   "execution_count": 148,
   "id": "124b0231-a9d8-45dd-a2f2-cb1a9e3037e8",
   "metadata": {},
   "outputs": [],
   "source": [
    "data1['Product_Brand'] = product_brand\n",
    "data1['Product_Price'] =product_price\n",
    "data1['Product_Name'] = product_name\n",
    "data1['Product_Delivery_Date'] = product_delivery\n",
    "data1['Product_Return_Exchange'] = return_exchange\n",
    "data1['Product_Availability'] =availability\n",
    "data1['Product_Rating'] =prodcut_rating\n",
    "data1['Product_No_Of_Rating'] = product_no_of_rating\n",
    "data1['Product_Url'] = valid_links"
   ]
  },
  {
   "cell_type": "code",
   "execution_count": 149,
   "id": "c5cf6549-0484-465a-9488-3e6c74d2c1ea",
   "metadata": {},
   "outputs": [
    {
     "data": {
      "text/html": [
       "<div>\n",
       "<style scoped>\n",
       "    .dataframe tbody tr th:only-of-type {\n",
       "        vertical-align: middle;\n",
       "    }\n",
       "\n",
       "    .dataframe tbody tr th {\n",
       "        vertical-align: top;\n",
       "    }\n",
       "\n",
       "    .dataframe thead th {\n",
       "        text-align: right;\n",
       "    }\n",
       "</style>\n",
       "<table border=\"1\" class=\"dataframe\">\n",
       "  <thead>\n",
       "    <tr style=\"text-align: right;\">\n",
       "      <th></th>\n",
       "      <th>Product_Brand</th>\n",
       "      <th>Product_Price</th>\n",
       "      <th>Product_Name</th>\n",
       "      <th>Product_Delivery_Date</th>\n",
       "      <th>Product_Return_Exchange</th>\n",
       "      <th>Product_Availability</th>\n",
       "      <th>Product_Rating</th>\n",
       "      <th>Product_No_Of_Rating</th>\n",
       "      <th>Product_Url</th>\n",
       "    </tr>\n",
       "  </thead>\n",
       "  <tbody>\n",
       "    <tr>\n",
       "      <th>0</th>\n",
       "      <td>Arm 9E</td>\n",
       "      <td>₹37,500.00</td>\n",
       "      <td>India Gadgets - Armor 9E Rugged Android Mobile...</td>\n",
       "      <td>Aug 17 - 30</td>\n",
       "      <td>₹13,500.00 (26%)</td>\n",
       "      <td>-</td>\n",
       "      <td>-</td>\n",
       "      <td>-</td>\n",
       "      <td>https://www.amazon.in/India-Gadgets-Android-Wa...</td>\n",
       "    </tr>\n",
       "    <tr>\n",
       "      <th>1</th>\n",
       "      <td>Armor 11T</td>\n",
       "      <td>₹53,000.00</td>\n",
       "      <td>India Gadgets - Armor 11T 5G Rugged Android 11...</td>\n",
       "      <td>Aug 17 - 30</td>\n",
       "      <td>₹7,000.00 (12%)</td>\n",
       "      <td>-</td>\n",
       "      <td>-</td>\n",
       "      <td>-</td>\n",
       "      <td>https://www.amazon.in/India-Gadgets-Android-Wa...</td>\n",
       "    </tr>\n",
       "    <tr>\n",
       "      <th>2</th>\n",
       "      <td>IQOO 7 5G (Solid Ice Blue, 8GB RAM, 128GB Stor...</td>\n",
       "      <td>₹31,990.00</td>\n",
       "      <td>iQOO 7 5G (Solid Ice Blue, 8GB RAM, 128GB Stor...</td>\n",
       "      <td>Friday, July 23</td>\n",
       "      <td>₹3,000.00 (9%)</td>\n",
       "      <td>In stock.</td>\n",
       "      <td>4.5 out of 5</td>\n",
       "      <td>4,760 ratings</td>\n",
       "      <td>https://www.amazon.in/iQOO-Solid-Blue-128GB-St...</td>\n",
       "    </tr>\n",
       "    <tr>\n",
       "      <th>3</th>\n",
       "      <td>LMG910EMW.AINDAS</td>\n",
       "      <td>₹31,999.00</td>\n",
       "      <td>LG Velvet (Aurora Silver, 6GB RAM, 128GB Stora...</td>\n",
       "      <td>Sunday, July 25</td>\n",
       "      <td>₹22,110.00 (40%)</td>\n",
       "      <td>In stock.</td>\n",
       "      <td>4.1 out of 5</td>\n",
       "      <td>82 ratings</td>\n",
       "      <td>https://www.amazon.in/LG-Velvet-Aurora-Silver-...</td>\n",
       "    </tr>\n",
       "    <tr>\n",
       "      <th>4</th>\n",
       "      <td>A6010</td>\n",
       "      <td>₹31,999.00</td>\n",
       "      <td>OnePlus 6T (Mirror Black, 6GB RAM, 128GB Storage)</td>\n",
       "      <td>Saturday, July 24</td>\n",
       "      <td>₹6,000.00 (16%)</td>\n",
       "      <td>In stock.</td>\n",
       "      <td>4.5 out of 5</td>\n",
       "      <td>30,032 ratings</td>\n",
       "      <td>https://www.amazon.in/OnePlus-Mirror-Black-128...</td>\n",
       "    </tr>\n",
       "    <tr>\n",
       "      <th>5</th>\n",
       "      <td>Mi 11X Pro</td>\n",
       "      <td>₹41,999.00</td>\n",
       "      <td>Mi 11X Pro 5G (Lunar White, 8GB RAM, 256GB Sto...</td>\n",
       "      <td>Thursday, July 22</td>\n",
       "      <td>₹8,000.00 (16%)</td>\n",
       "      <td>In stock.</td>\n",
       "      <td>3.9 out of 5</td>\n",
       "      <td>530 ratings</td>\n",
       "      <td>https://www.amazon.in/Mi11XPro-Lunar-White-256...</td>\n",
       "    </tr>\n",
       "    <tr>\n",
       "      <th>6</th>\n",
       "      <td>OnePlus 9</td>\n",
       "      <td>₹54,999.00</td>\n",
       "      <td>OnePlus 9 5G (Arctic Sky,12GB RAM, 256GB Storage)</td>\n",
       "      <td>Thursday, July 22</td>\n",
       "      <td>-</td>\n",
       "      <td>In stock.</td>\n",
       "      <td>4.1 out of 5</td>\n",
       "      <td>2,430 ratings</td>\n",
       "      <td>https://www.amazon.in/Test-Exclusive_2020_1177...</td>\n",
       "    </tr>\n",
       "    <tr>\n",
       "      <th>7</th>\n",
       "      <td>Mi 11X Pro</td>\n",
       "      <td>₹41,999.00</td>\n",
       "      <td>MI 11X Pro 5G (Celestial Silver, 8GB RAM, 256G...</td>\n",
       "      <td>Wednesday, July 21</td>\n",
       "      <td>₹8,000.00 (16%)</td>\n",
       "      <td>In stock.</td>\n",
       "      <td>3.9 out of 5</td>\n",
       "      <td>530 ratings</td>\n",
       "      <td>https://www.amazon.in/Mi11XPro-Celestial-Silve...</td>\n",
       "    </tr>\n",
       "    <tr>\n",
       "      <th>8</th>\n",
       "      <td>Exclusive_2020_1179</td>\n",
       "      <td>₹43,999.00</td>\n",
       "      <td>OnePlus 9R 5G (Carbon Black, 12GB RAM, 256 GB ...</td>\n",
       "      <td>Friday, July 30</td>\n",
       "      <td>-</td>\n",
       "      <td>In stock.</td>\n",
       "      <td>4.3 out of 5</td>\n",
       "      <td>11,027 ratings</td>\n",
       "      <td>https://www.amazon.in/Test-Exclusive_2020_1179...</td>\n",
       "    </tr>\n",
       "    <tr>\n",
       "      <th>9</th>\n",
       "      <td>Vivo V21 (Dusk Blue, 8GB RAM, 256GB ROM)</td>\n",
       "      <td>₹32,990.00</td>\n",
       "      <td>Vivo V21 5G (Dusk Blue, 8GB RAM, 256GB Storage...</td>\n",
       "      <td>Wednesday, July 21</td>\n",
       "      <td>₹3,000.00 (8%)</td>\n",
       "      <td>In stock.</td>\n",
       "      <td>4.2 out of 5</td>\n",
       "      <td>42 ratings</td>\n",
       "      <td>https://www.amazon.in/Vivo-V21-8GB-RAM-256GB/d...</td>\n",
       "    </tr>\n",
       "    <tr>\n",
       "      <th>10</th>\n",
       "      <td>Exclusive_2020_1181</td>\n",
       "      <td>₹43,999.00</td>\n",
       "      <td>OnePlus 9R 5G (Lake Blue, 12GB RAM, 256GB Stor...</td>\n",
       "      <td>Thursday, July 22</td>\n",
       "      <td>-</td>\n",
       "      <td>In stock.</td>\n",
       "      <td>4.3 out of 5</td>\n",
       "      <td>11,027 ratings</td>\n",
       "      <td>https://www.amazon.in/Test-Exclusive_2020_1181...</td>\n",
       "    </tr>\n",
       "    <tr>\n",
       "      <th>11</th>\n",
       "      <td>OnePlus 9R</td>\n",
       "      <td>₹39,999.00</td>\n",
       "      <td>OnePlus 9R 5G (Lake Blue, 8GB RAM, 128GB Storage)</td>\n",
       "      <td>July 22 - 23</td>\n",
       "      <td>-</td>\n",
       "      <td>-</td>\n",
       "      <td>4.3 out of 5</td>\n",
       "      <td>11,027 ratings</td>\n",
       "      <td>https://www.amazon.in/Test-Exclusive_2020_1180...</td>\n",
       "    </tr>\n",
       "    <tr>\n",
       "      <th>12</th>\n",
       "      <td>Mi 11X</td>\n",
       "      <td>-</td>\n",
       "      <td>Mi 11X 5G Cosmic Black 8GB RAM 128GB ROM | SD ...</td>\n",
       "      <td>Sunday, July 25</td>\n",
       "      <td>₹3,000.00 (9%)</td>\n",
       "      <td>In stock.</td>\n",
       "      <td>4 out of 5</td>\n",
       "      <td>2,872 ratings</td>\n",
       "      <td>https://www.amazon.in/11X-Cosmic-Black-128GB-S...</td>\n",
       "    </tr>\n",
       "    <tr>\n",
       "      <th>13</th>\n",
       "      <td>IQOO 7 5G (Storm Black, 12GB RAM, 256GB Storage)</td>\n",
       "      <td>₹35,990.00</td>\n",
       "      <td>iQOO 7 5G (Storm Black, 12GB RAM, 256GB Storag...</td>\n",
       "      <td>Saturday, July 24</td>\n",
       "      <td>₹4,000.00 (10%)</td>\n",
       "      <td>In stock.</td>\n",
       "      <td>4.5 out of 5</td>\n",
       "      <td>4,760 ratings</td>\n",
       "      <td>https://www.amazon.in/iqoo7/dp/B086978F35/ref=...</td>\n",
       "    </tr>\n",
       "    <tr>\n",
       "      <th>14</th>\n",
       "      <td>IQOO 7 5G (Storm Black, 8GB RAM, 128GB Storage)</td>\n",
       "      <td>₹31,990.00</td>\n",
       "      <td>iQOO 7 5G (Storm Black, 8GB RAM, 128GB Storage...</td>\n",
       "      <td>Saturday, July 24</td>\n",
       "      <td>₹3,000.00 (9%)</td>\n",
       "      <td>In stock.</td>\n",
       "      <td>4.5 out of 5</td>\n",
       "      <td>4,760 ratings</td>\n",
       "      <td>https://www.amazon.in/iQOO-Storm-Black-128GB-S...</td>\n",
       "    </tr>\n",
       "    <tr>\n",
       "      <th>15</th>\n",
       "      <td>IQOO 7 5G (Storm Black, 8GB RAM, 256GB Storage)</td>\n",
       "      <td>₹33,990.00</td>\n",
       "      <td>iQOO 7 5G (Storm Black, 8GB RAM, 256GB Storage...</td>\n",
       "      <td>Wednesday, July 21</td>\n",
       "      <td>₹4,000.00 (11%)</td>\n",
       "      <td>In stock.</td>\n",
       "      <td>4.5 out of 5</td>\n",
       "      <td>4,760 ratings</td>\n",
       "      <td>https://www.amazon.in/iQOO-Storm-Black-256GB-S...</td>\n",
       "    </tr>\n",
       "    <tr>\n",
       "      <th>16</th>\n",
       "      <td>Exclusive_2020_1178</td>\n",
       "      <td>-</td>\n",
       "      <td>OnePlus 9R 5G (Carbon Black, 8GB RAM, 128GB St...</td>\n",
       "      <td>Wednesday, July 21</td>\n",
       "      <td>-</td>\n",
       "      <td>In stock.</td>\n",
       "      <td>4.3 out of 5</td>\n",
       "      <td>11,027 ratings</td>\n",
       "      <td>https://www.amazon.in/Test-Exclusive_2020_1178...</td>\n",
       "    </tr>\n",
       "    <tr>\n",
       "      <th>17</th>\n",
       "      <td>IPhone 12 64GB (PRODUCT)RED</td>\n",
       "      <td>₹72,900.00</td>\n",
       "      <td>New Apple iPhone 12 (64GB) - (Product) RED</td>\n",
       "      <td>Wednesday, July 21</td>\n",
       "      <td>₹7,000.00 (9%)</td>\n",
       "      <td>In stock.</td>\n",
       "      <td>4.6 out of 5</td>\n",
       "      <td>-</td>\n",
       "      <td>https://www.amazon.in/New-Apple-iPhone-12-64GB...</td>\n",
       "    </tr>\n",
       "    <tr>\n",
       "      <th>18</th>\n",
       "      <td>OnePlus 8T 5G</td>\n",
       "      <td>₹41,999.00</td>\n",
       "      <td>OnePlus 8T 5G (Aquamarine Green, 12GB RAM, 256...</td>\n",
       "      <td>Friday, July 30</td>\n",
       "      <td>₹4,000.00 (9%)</td>\n",
       "      <td>In stock.</td>\n",
       "      <td>4.4 out of 5</td>\n",
       "      <td>20,943 ratings</td>\n",
       "      <td>https://www.amazon.in/OnePlus-Mirror-Black-128...</td>\n",
       "    </tr>\n",
       "    <tr>\n",
       "      <th>19</th>\n",
       "      <td>IQOO 7 5G (Solid Ice Blue, 12GB RAM, 256GB Sto...</td>\n",
       "      <td>₹35,990.00</td>\n",
       "      <td>iQOO 7 5G (Solid Ice Blue, 12GB RAM, 256GB Sto...</td>\n",
       "      <td>Saturday, July 24</td>\n",
       "      <td>₹4,000.00 (10%)</td>\n",
       "      <td>In stock.</td>\n",
       "      <td>4.5 out of 5</td>\n",
       "      <td>4,760 ratings</td>\n",
       "      <td>https://www.amazon.in/iqoo7/dp/B08697QP9B/ref=...</td>\n",
       "    </tr>\n",
       "    <tr>\n",
       "      <th>20</th>\n",
       "      <td>IQOO 7 5G (Solid Ice Blue, 8GB RAM, 256GB Stor...</td>\n",
       "      <td>₹33,990.00</td>\n",
       "      <td>iQOO 7 5G (Solid Ice Blue, 8GB RAM, 256GB Stor...</td>\n",
       "      <td>Wednesday, July 21</td>\n",
       "      <td>₹4,000.00 (11%)</td>\n",
       "      <td>In stock.</td>\n",
       "      <td>4.5 out of 5</td>\n",
       "      <td>4,760 ratings</td>\n",
       "      <td>https://www.amazon.in/iQOO-Solid-Blue-256GB-St...</td>\n",
       "    </tr>\n",
       "  </tbody>\n",
       "</table>\n",
       "</div>"
      ],
      "text/plain": [
       "                                        Product_Brand Product_Price  \\\n",
       "0                                              Arm 9E    ₹37,500.00   \n",
       "1                                           Armor 11T    ₹53,000.00   \n",
       "2   IQOO 7 5G (Solid Ice Blue, 8GB RAM, 128GB Stor...    ₹31,990.00   \n",
       "3                                    LMG910EMW.AINDAS    ₹31,999.00   \n",
       "4                                               A6010    ₹31,999.00   \n",
       "5                                          Mi 11X Pro    ₹41,999.00   \n",
       "6                                           OnePlus 9    ₹54,999.00   \n",
       "7                                          Mi 11X Pro    ₹41,999.00   \n",
       "8                                 Exclusive_2020_1179    ₹43,999.00   \n",
       "9            Vivo V21 (Dusk Blue, 8GB RAM, 256GB ROM)    ₹32,990.00   \n",
       "10                                Exclusive_2020_1181    ₹43,999.00   \n",
       "11                                         OnePlus 9R    ₹39,999.00   \n",
       "12                                             Mi 11X             -   \n",
       "13   IQOO 7 5G (Storm Black, 12GB RAM, 256GB Storage)    ₹35,990.00   \n",
       "14    IQOO 7 5G (Storm Black, 8GB RAM, 128GB Storage)    ₹31,990.00   \n",
       "15    IQOO 7 5G (Storm Black, 8GB RAM, 256GB Storage)    ₹33,990.00   \n",
       "16                                Exclusive_2020_1178             -   \n",
       "17                        IPhone 12 64GB (PRODUCT)RED    ₹72,900.00   \n",
       "18                                      OnePlus 8T 5G    ₹41,999.00   \n",
       "19  IQOO 7 5G (Solid Ice Blue, 12GB RAM, 256GB Sto...    ₹35,990.00   \n",
       "20  IQOO 7 5G (Solid Ice Blue, 8GB RAM, 256GB Stor...    ₹33,990.00   \n",
       "\n",
       "                                         Product_Name Product_Delivery_Date  \\\n",
       "0   India Gadgets - Armor 9E Rugged Android Mobile...           Aug 17 - 30   \n",
       "1   India Gadgets - Armor 11T 5G Rugged Android 11...           Aug 17 - 30   \n",
       "2   iQOO 7 5G (Solid Ice Blue, 8GB RAM, 128GB Stor...       Friday, July 23   \n",
       "3   LG Velvet (Aurora Silver, 6GB RAM, 128GB Stora...       Sunday, July 25   \n",
       "4   OnePlus 6T (Mirror Black, 6GB RAM, 128GB Storage)     Saturday, July 24   \n",
       "5   Mi 11X Pro 5G (Lunar White, 8GB RAM, 256GB Sto...     Thursday, July 22   \n",
       "6   OnePlus 9 5G (Arctic Sky,12GB RAM, 256GB Storage)     Thursday, July 22   \n",
       "7   MI 11X Pro 5G (Celestial Silver, 8GB RAM, 256G...    Wednesday, July 21   \n",
       "8   OnePlus 9R 5G (Carbon Black, 12GB RAM, 256 GB ...       Friday, July 30   \n",
       "9   Vivo V21 5G (Dusk Blue, 8GB RAM, 256GB Storage...    Wednesday, July 21   \n",
       "10  OnePlus 9R 5G (Lake Blue, 12GB RAM, 256GB Stor...     Thursday, July 22   \n",
       "11  OnePlus 9R 5G (Lake Blue, 8GB RAM, 128GB Storage)          July 22 - 23   \n",
       "12  Mi 11X 5G Cosmic Black 8GB RAM 128GB ROM | SD ...       Sunday, July 25   \n",
       "13  iQOO 7 5G (Storm Black, 12GB RAM, 256GB Storag...     Saturday, July 24   \n",
       "14  iQOO 7 5G (Storm Black, 8GB RAM, 128GB Storage...     Saturday, July 24   \n",
       "15  iQOO 7 5G (Storm Black, 8GB RAM, 256GB Storage...    Wednesday, July 21   \n",
       "16  OnePlus 9R 5G (Carbon Black, 8GB RAM, 128GB St...    Wednesday, July 21   \n",
       "17         New Apple iPhone 12 (64GB) - (Product) RED    Wednesday, July 21   \n",
       "18  OnePlus 8T 5G (Aquamarine Green, 12GB RAM, 256...       Friday, July 30   \n",
       "19  iQOO 7 5G (Solid Ice Blue, 12GB RAM, 256GB Sto...     Saturday, July 24   \n",
       "20  iQOO 7 5G (Solid Ice Blue, 8GB RAM, 256GB Stor...    Wednesday, July 21   \n",
       "\n",
       "   Product_Return_Exchange Product_Availability Product_Rating  \\\n",
       "0         ₹13,500.00 (26%)                    -              -   \n",
       "1          ₹7,000.00 (12%)                    -              -   \n",
       "2           ₹3,000.00 (9%)            In stock.   4.5 out of 5   \n",
       "3         ₹22,110.00 (40%)            In stock.   4.1 out of 5   \n",
       "4          ₹6,000.00 (16%)            In stock.   4.5 out of 5   \n",
       "5          ₹8,000.00 (16%)            In stock.   3.9 out of 5   \n",
       "6                        -            In stock.   4.1 out of 5   \n",
       "7          ₹8,000.00 (16%)            In stock.   3.9 out of 5   \n",
       "8                        -            In stock.   4.3 out of 5   \n",
       "9           ₹3,000.00 (8%)            In stock.   4.2 out of 5   \n",
       "10                       -            In stock.   4.3 out of 5   \n",
       "11                       -                    -   4.3 out of 5   \n",
       "12          ₹3,000.00 (9%)            In stock.     4 out of 5   \n",
       "13         ₹4,000.00 (10%)            In stock.   4.5 out of 5   \n",
       "14          ₹3,000.00 (9%)            In stock.   4.5 out of 5   \n",
       "15         ₹4,000.00 (11%)            In stock.   4.5 out of 5   \n",
       "16                       -            In stock.   4.3 out of 5   \n",
       "17          ₹7,000.00 (9%)            In stock.   4.6 out of 5   \n",
       "18          ₹4,000.00 (9%)            In stock.   4.4 out of 5   \n",
       "19         ₹4,000.00 (10%)            In stock.   4.5 out of 5   \n",
       "20         ₹4,000.00 (11%)            In stock.   4.5 out of 5   \n",
       "\n",
       "   Product_No_Of_Rating                                        Product_Url  \n",
       "0                     -  https://www.amazon.in/India-Gadgets-Android-Wa...  \n",
       "1                     -  https://www.amazon.in/India-Gadgets-Android-Wa...  \n",
       "2         4,760 ratings  https://www.amazon.in/iQOO-Solid-Blue-128GB-St...  \n",
       "3            82 ratings  https://www.amazon.in/LG-Velvet-Aurora-Silver-...  \n",
       "4        30,032 ratings  https://www.amazon.in/OnePlus-Mirror-Black-128...  \n",
       "5           530 ratings  https://www.amazon.in/Mi11XPro-Lunar-White-256...  \n",
       "6         2,430 ratings  https://www.amazon.in/Test-Exclusive_2020_1177...  \n",
       "7           530 ratings  https://www.amazon.in/Mi11XPro-Celestial-Silve...  \n",
       "8        11,027 ratings  https://www.amazon.in/Test-Exclusive_2020_1179...  \n",
       "9            42 ratings  https://www.amazon.in/Vivo-V21-8GB-RAM-256GB/d...  \n",
       "10       11,027 ratings  https://www.amazon.in/Test-Exclusive_2020_1181...  \n",
       "11       11,027 ratings  https://www.amazon.in/Test-Exclusive_2020_1180...  \n",
       "12        2,872 ratings  https://www.amazon.in/11X-Cosmic-Black-128GB-S...  \n",
       "13        4,760 ratings  https://www.amazon.in/iqoo7/dp/B086978F35/ref=...  \n",
       "14        4,760 ratings  https://www.amazon.in/iQOO-Storm-Black-128GB-S...  \n",
       "15        4,760 ratings  https://www.amazon.in/iQOO-Storm-Black-256GB-S...  \n",
       "16       11,027 ratings  https://www.amazon.in/Test-Exclusive_2020_1178...  \n",
       "17                    -  https://www.amazon.in/New-Apple-iPhone-12-64GB...  \n",
       "18       20,943 ratings  https://www.amazon.in/OnePlus-Mirror-Black-128...  \n",
       "19        4,760 ratings  https://www.amazon.in/iqoo7/dp/B08697QP9B/ref=...  \n",
       "20        4,760 ratings  https://www.amazon.in/iQOO-Solid-Blue-256GB-St...  "
      ]
     },
     "execution_count": 149,
     "metadata": {},
     "output_type": "execute_result"
    }
   ],
   "source": [
    "data1"
   ]
  },
  {
   "cell_type": "markdown",
   "id": "4dcc0a2e-ee83-4c1f-a1e2-9a18c8c22836",
   "metadata": {},
   "source": [
    "## Let's save the Data Frame (data1) to .csv file"
   ]
  },
  {
   "cell_type": "code",
   "execution_count": 151,
   "id": "feb6d4d2-8609-46ab-97ee-1dde25e00e02",
   "metadata": {},
   "outputs": [],
   "source": [
    "data1.to_csv('data1.csv',index=False)"
   ]
  },
  {
   "cell_type": "code",
   "execution_count": 153,
   "id": "dec7be5e-2db6-48eb-a801-a77dc26bd3af",
   "metadata": {},
   "outputs": [],
   "source": [
    "driver.close()"
   ]
  },
  {
   "cell_type": "markdown",
   "id": "671695a1-363c-4d90-b3c5-db18c8a0b9ec",
   "metadata": {},
   "source": [
    "### **************************************************\n",
    "### **************************************************"
   ]
  },
  {
   "cell_type": "markdown",
   "id": "c3b18827-73b2-4519-80c2-15659bec328a",
   "metadata": {},
   "source": [
    "## 3. Write a python program to access the search bar and search button on images.\n",
    "## google.com and scrape 100 images each for keywords ‘fruits’, ‘cars’ and ‘Machine Learning’."
   ]
  },
  {
   "cell_type": "code",
   "execution_count": 348,
   "id": "1b452b9c-b2a3-4e4b-a606-3f5a54887e9a",
   "metadata": {},
   "outputs": [],
   "source": [
    "## fetching Google website\n",
    "\n",
    "google_url ='https://www.google.com'"
   ]
  },
  {
   "cell_type": "code",
   "execution_count": 349,
   "id": "7327fc2a-5ace-41e8-9973-f3ad87ff8a68",
   "metadata": {},
   "outputs": [],
   "source": [
    "driver.get(url=google_url)"
   ]
  },
  {
   "cell_type": "code",
   "execution_count": 350,
   "id": "51b0b50c-f03b-4f4b-89a3-07864bcf4bd0",
   "metadata": {},
   "outputs": [],
   "source": [
    "search_bn_image = driver.find_element_by_xpath('/html/body/div[1]/div[1]/div/div/div/div[1]/div/div[2]/a')"
   ]
  },
  {
   "cell_type": "code",
   "execution_count": 351,
   "id": "911ea055-47e4-4018-80cc-a3d794dd5cc6",
   "metadata": {},
   "outputs": [],
   "source": [
    "search_bn_image.click()"
   ]
  },
  {
   "cell_type": "code",
   "execution_count": 352,
   "id": "82e976b5-e99c-448c-a9f1-8b757ae495cf",
   "metadata": {},
   "outputs": [],
   "source": [
    "input_search = driver.find_element_by_xpath('//input[@class=\"gLFyf gsfi\"]')"
   ]
  },
  {
   "cell_type": "code",
   "execution_count": 353,
   "id": "008201e8-7479-496c-b250-a2c45f8aa446",
   "metadata": {},
   "outputs": [],
   "source": [
    "input_search.send_keys('Cars')\n"
   ]
  },
  {
   "cell_type": "code",
   "execution_count": 354,
   "id": "69d304af-bd09-46a0-bd9a-600b4f5d520c",
   "metadata": {},
   "outputs": [],
   "source": [
    "bn_search = driver.find_element_by_xpath('//span[@class=\"z1asCe MZy1Rb\"]')\n"
   ]
  },
  {
   "cell_type": "code",
   "execution_count": 355,
   "id": "574a1919-376f-4c04-98db-d1c30e0c8511",
   "metadata": {},
   "outputs": [],
   "source": [
    "bn_search.click()"
   ]
  },
  {
   "cell_type": "markdown",
   "id": "31f04591-c824-4de8-ac89-4d41e4d589f8",
   "metadata": {},
   "source": [
    "### scrapping 100 image of cars\n"
   ]
  },
  {
   "cell_type": "code",
   "execution_count": 179,
   "id": "53b02a73-40ae-475a-b451-1028120b8463",
   "metadata": {},
   "outputs": [],
   "source": [
    "## scrapping 100 image of cars\n",
    "images = []\n",
    "image_Xpath = driver.find_elements_by_xpath('//div[@class=\"bRMDJf islir\"]//img')\n",
    "for i in image_Xpath:\n",
    "    images.append(i.get_attribute('src'))\n",
    "    "
   ]
  },
  {
   "cell_type": "code",
   "execution_count": 180,
   "id": "de09efd2-5d2a-4d75-bde9-6fadbf47c890",
   "metadata": {},
   "outputs": [
    {
     "data": {
      "text/plain": [
       "400"
      ]
     },
     "execution_count": 180,
     "metadata": {},
     "output_type": "execute_result"
    }
   ],
   "source": [
    "len(images)"
   ]
  },
  {
   "cell_type": "code",
   "execution_count": 183,
   "id": "d0e3e74d-b4e0-4d80-8e78-82ef52aa9f93",
   "metadata": {},
   "outputs": [],
   "source": [
    "image_src = images[300:]"
   ]
  },
  {
   "cell_type": "code",
   "execution_count": 347,
   "id": "693433ae-74f6-46d4-ba6d-b7f6d22f3ec7",
   "metadata": {},
   "outputs": [
    {
     "data": {
      "text/plain": [
       "100"
      ]
     },
     "execution_count": 347,
     "metadata": {},
     "output_type": "execute_result"
    }
   ],
   "source": [
    "len(image_src)"
   ]
  },
  {
   "cell_type": "code",
   "execution_count": 381,
   "id": "38d6daa3-4438-425e-87d7-61cf3558b73a",
   "metadata": {},
   "outputs": [],
   "source": [
    "#image_src\n",
    "import os\n",
    "import urllib.request\n"
   ]
  },
  {
   "cell_type": "code",
   "execution_count": null,
   "id": "9be75d11-42f9-4ce5-bd03-c65d805cbf68",
   "metadata": {},
   "outputs": [],
   "source": [
    "## Download images in my current working directory\n",
    "for i in image_src:\n",
    "    urllib.request.urlretrieve(i,str(image_src.index(i))+'.jpg')"
   ]
  },
  {
   "cell_type": "code",
   "execution_count": 397,
   "id": "ab005d78-0d86-42c7-b2dc-d7b407c3f76c",
   "metadata": {},
   "outputs": [
    {
     "name": "stdout",
     "output_type": "stream",
     "text": [
      "/Users/olivierla412/projects/data_camp/Scraping/Selenium/selenium_assign3\n"
     ]
    }
   ],
   "source": [
    "cd .."
   ]
  },
  {
   "cell_type": "code",
   "execution_count": 398,
   "id": "cf8bd955-8fb3-4ca6-ba98-d7a592fcfcf6",
   "metadata": {},
   "outputs": [
    {
     "name": "stdout",
     "output_type": "stream",
     "text": [
      "/Users/olivierla412/projects/data_camp/Scraping/Selenium/selenium_assign3/cars_images\n"
     ]
    }
   ],
   "source": [
    "cd cars_images"
   ]
  },
  {
   "cell_type": "code",
   "execution_count": 400,
   "id": "43b54993-e321-4a93-9fbe-0697af028eb9",
   "metadata": {},
   "outputs": [
    {
     "name": "stdout",
     "output_type": "stream",
     "text": [
      "0.jpg   18.jpg  27.jpg  36.jpg  45.jpg  54.jpg  63.jpg  72.jpg  81.jpg  90.jpg\n",
      "1.jpg   19.jpg  28.jpg  37.jpg  46.jpg  55.jpg  64.jpg  73.jpg  82.jpg  91.jpg\n",
      "10.jpg  2.jpg   29.jpg  38.jpg  47.jpg  56.jpg  65.jpg  74.jpg  83.jpg  92.jpg\n",
      "11.jpg  20.jpg  3.jpg   39.jpg  48.jpg  57.jpg  66.jpg  75.jpg  84.jpg  93.jpg\n",
      "12.jpg  21.jpg  30.jpg  4.jpg   49.jpg  58.jpg  67.jpg  76.jpg  85.jpg  94.jpg\n",
      "13.jpg  22.jpg  31.jpg  40.jpg  5.jpg   59.jpg  68.jpg  77.jpg  86.jpg  95.jpg\n",
      "14.jpg  23.jpg  32.jpg  41.jpg  50.jpg  6.jpg   69.jpg  78.jpg  87.jpg  96.jpg\n",
      "15.jpg  24.jpg  33.jpg  42.jpg  51.jpg  60.jpg  7.jpg   79.jpg  88.jpg  97.jpg\n",
      "16.jpg  25.jpg  34.jpg  43.jpg  52.jpg  61.jpg  70.jpg  8.jpg   89.jpg  98.jpg\n",
      "17.jpg  26.jpg  35.jpg  44.jpg  53.jpg  62.jpg  71.jpg  80.jpg  9.jpg   99.jpg\n"
     ]
    }
   ],
   "source": [
    "\n",
    "ls"
   ]
  },
  {
   "cell_type": "markdown",
   "id": "c9aa4479-8e4b-4a23-afa2-27aa5e5d925d",
   "metadata": {},
   "source": [
    "### scrapping 100 image of fruits."
   ]
  },
  {
   "cell_type": "code",
   "execution_count": 382,
   "id": "7c36c669-48b8-4fba-b0de-cd1cea50443f",
   "metadata": {},
   "outputs": [],
   "source": [
    "## fetching Google website\n",
    "\n",
    "google_url ='https://www.google.com'\n",
    "driver.get(url=google_url)\n",
    "search_bn_image = driver.find_element_by_xpath('/html/body/div[1]/div[1]/div/div/div/div[1]/div/div[2]/a')\n",
    "search_bn_image.click()"
   ]
  },
  {
   "cell_type": "code",
   "execution_count": 383,
   "id": "a3185ae7-105f-413d-bfce-f07b2a929f70",
   "metadata": {},
   "outputs": [],
   "source": [
    "input_search = driver.find_element_by_xpath('//input[@class=\"gLFyf gsfi\"]')\n",
    "input_search.send_keys('fruits')"
   ]
  },
  {
   "cell_type": "code",
   "execution_count": 213,
   "id": "83ff5aa6-05ae-41d8-ae20-b2d3fe069c3f",
   "metadata": {},
   "outputs": [],
   "source": [
    "bn_search = driver.find_element_by_xpath('//span[@class=\"z1asCe MZy1Rb\"]')\n",
    "bn_search.click()"
   ]
  },
  {
   "cell_type": "code",
   "execution_count": 216,
   "id": "27caf8c0-f6c5-4ba9-96c6-3cb1b19d6197",
   "metadata": {},
   "outputs": [],
   "source": [
    "fruits_images= []\n",
    "image_Xpath = driver.find_elements_by_xpath('//img[@jsname=\"Q4LuWd\"]')\n",
    "for i in image_Xpath:\n",
    "    fruits_images.append(i.get_attribute('src'))"
   ]
  },
  {
   "cell_type": "code",
   "execution_count": 234,
   "id": "40e5ba0d-a38a-4508-838c-2d6588b92f80",
   "metadata": {},
   "outputs": [
    {
     "data": {
      "text/plain": [
       "200"
      ]
     },
     "execution_count": 234,
     "metadata": {},
     "output_type": "execute_result"
    }
   ],
   "source": [
    "len(fruits_images)"
   ]
  },
  {
   "cell_type": "code",
   "execution_count": 228,
   "id": "1fd3bf2e-ca6d-4808-a0a2-7716f840eb79",
   "metadata": {},
   "outputs": [
    {
     "data": {
      "text/plain": [
       "21"
      ]
     },
     "execution_count": 228,
     "metadata": {},
     "output_type": "execute_result"
    }
   ],
   "source": [
    "fruits_images.index('https://encrypted-tbn0.gstatic.com/images?q=tbn:ANd9GcSsZyKU4pEUcVP2x_GtXrgZ8kRbLhim4vwD5Q&usqp=CAU')"
   ]
  },
  {
   "cell_type": "code",
   "execution_count": 229,
   "id": "ea44d456-c917-4db3-806c-e83525db0082",
   "metadata": {},
   "outputs": [
    {
     "data": {
      "text/plain": [
       "'https://encrypted-tbn0.gstatic.com/images?q=tbn:ANd9GcSsZyKU4pEUcVP2x_GtXrgZ8kRbLhim4vwD5Q&usqp=CAU'"
      ]
     },
     "execution_count": 229,
     "metadata": {},
     "output_type": "execute_result"
    }
   ],
   "source": [
    "## let's verify again\n",
    "fruits_images[21]"
   ]
  },
  {
   "cell_type": "code",
   "execution_count": null,
   "id": "c60c35a0-e306-401a-89b3-0563b26bcda1",
   "metadata": {},
   "outputs": [],
   "source": []
  },
  {
   "cell_type": "markdown",
   "id": "9895dfa9-2fa6-4be3-92ac-3745d5982649",
   "metadata": {},
   "source": [
    "### The first image __src__ have index = 21 the fruits_images list."
   ]
  },
  {
   "cell_type": "code",
   "execution_count": 235,
   "id": "9af6e4f1-08fc-4395-bf5a-108a24c6d181",
   "metadata": {},
   "outputs": [],
   "source": [
    "## the first image have index = 21 the fruits_images list.\n",
    "\n",
    "fruits_image_list = fruits_images[21:121]"
   ]
  },
  {
   "cell_type": "code",
   "execution_count": 236,
   "id": "5a67f93f-7421-40af-82dd-3159e31f6a86",
   "metadata": {},
   "outputs": [
    {
     "data": {
      "text/plain": [
       "100"
      ]
     },
     "execution_count": 236,
     "metadata": {},
     "output_type": "execute_result"
    }
   ],
   "source": [
    "len(fruits_image_list)"
   ]
  },
  {
   "cell_type": "code",
   "execution_count": 384,
   "id": "aac314dd-82ca-4bb4-8341-22b10dfe4605",
   "metadata": {},
   "outputs": [
    {
     "data": {
      "text/plain": [
       "['https://encrypted-tbn0.gstatic.com/images?q=tbn:ANd9GcSsZyKU4pEUcVP2x_GtXrgZ8kRbLhim4vwD5Q&usqp=CAU',\n",
       " 'https://encrypted-tbn0.gstatic.com/images?q=tbn:ANd9GcQlCy3oYbyuVFpu_1gPqRsxYmFnuhD8TyY33w&usqp=CAU',\n",
       " 'https://encrypted-tbn0.gstatic.com/images?q=tbn:ANd9GcREf50eNWUXvnoP0sP9x8SZUILcwQHHImfm1A&usqp=CAU',\n",
       " 'https://encrypted-tbn0.gstatic.com/images?q=tbn:ANd9GcRaeGJ_PSJlNLxm6sUANm3yiU0_G-x4-FAsmA&usqp=CAU',\n",
       " 'https://encrypted-tbn0.gstatic.com/images?q=tbn:ANd9GcTo4_shfG85msF591Y45W4T800Efmd5L8ksvg&usqp=CAU',\n",
       " 'https://encrypted-tbn0.gstatic.com/images?q=tbn:ANd9GcQjsfUDUvWZc01lnUG7Z95c7LJ9evo--0rhKA&usqp=CAU',\n",
       " 'https://encrypted-tbn0.gstatic.com/images?q=tbn:ANd9GcREigGYTlK6HSMTEX61HTklKWVqqCzNRVrKPw&usqp=CAU',\n",
       " 'https://encrypted-tbn0.gstatic.com/images?q=tbn:ANd9GcQCOVVYHwTsUQcY7dnyC3GgppF8lmLOAxaQzQ&usqp=CAU',\n",
       " 'https://encrypted-tbn0.gstatic.com/images?q=tbn:ANd9GcR0stZS_khsMt4thgts-I7oWRkfrvl9a8cOLw&usqp=CAU',\n",
       " 'https://encrypted-tbn0.gstatic.com/images?q=tbn:ANd9GcT68b0O5wgNnMvg2hrPVjD4cRADRiFNcmXHvQ&usqp=CAU',\n",
       " 'https://encrypted-tbn0.gstatic.com/images?q=tbn:ANd9GcQe8VslCxBjszxWAv1OcZ_mPUTroZPGqMSK9w&usqp=CAU',\n",
       " 'https://encrypted-tbn0.gstatic.com/images?q=tbn:ANd9GcS-_Qp0xHt0hA8k_qVLW0cu9tbB3rtH1oC3qQ&usqp=CAU',\n",
       " 'https://encrypted-tbn0.gstatic.com/images?q=tbn:ANd9GcQA6yOWfPWP2ncAFz-eKvuGPQB4KfbpqzT5vA&usqp=CAU',\n",
       " 'https://encrypted-tbn0.gstatic.com/images?q=tbn:ANd9GcSMvZV81aVdJAGJOeAQlc9KbgUEGvfQzxO8TQ&usqp=CAU',\n",
       " 'https://encrypted-tbn0.gstatic.com/images?q=tbn:ANd9GcSM6FaMqO8nF21C_YUpfch4XTbcQLO-cidOcg&usqp=CAU',\n",
       " 'https://encrypted-tbn0.gstatic.com/images?q=tbn:ANd9GcSRmgU4zBr4B9fB234u2QU4n4BYjzHNaFwCOQ&usqp=CAU',\n",
       " 'https://encrypted-tbn0.gstatic.com/images?q=tbn:ANd9GcQioIYpIr5c7BW4jNiUiLt-5W_-oK-i-I061w&usqp=CAU',\n",
       " 'https://encrypted-tbn0.gstatic.com/images?q=tbn:ANd9GcT3Fd1Y-_ZITh_utQW_mnjwhAyyHRwGqst_rA&usqp=CAU',\n",
       " 'https://encrypted-tbn0.gstatic.com/images?q=tbn:ANd9GcR6SjYxZXy_JKZ6NhUw1ZlY2uLry91NcHxN6A&usqp=CAU',\n",
       " 'https://encrypted-tbn0.gstatic.com/images?q=tbn:ANd9GcQVEttZoEZw0MRpJ-uDyr6QiqzbIJyRR7ofNA&usqp=CAU',\n",
       " 'https://encrypted-tbn0.gstatic.com/images?q=tbn:ANd9GcSYFPmypiw7PW8VNKtTiazr80huza3qbKpa6w&usqp=CAU',\n",
       " 'https://encrypted-tbn0.gstatic.com/images?q=tbn:ANd9GcQ0TRoKTY_TmII7EOceT09KN0X_xguZwG7DHQ&usqp=CAU',\n",
       " 'https://encrypted-tbn0.gstatic.com/images?q=tbn:ANd9GcTwmbjWK_eeyoT5xJr4JIresRijlqdZaoyyFg&usqp=CAU',\n",
       " 'https://encrypted-tbn0.gstatic.com/images?q=tbn:ANd9GcQKk0jstrNoNfE90Fw-lax4gi1WHAzmARR1VA&usqp=CAU',\n",
       " 'https://encrypted-tbn0.gstatic.com/images?q=tbn:ANd9GcQ7kkivkhNYl7J-zrplcR4yzU2SWnbokp6Gxg&usqp=CAU',\n",
       " 'https://encrypted-tbn0.gstatic.com/images?q=tbn:ANd9GcTgTRW4ZNSVuY8fB6SzZtmrsOIomb2Z8ShK9w&usqp=CAU',\n",
       " 'https://encrypted-tbn0.gstatic.com/images?q=tbn:ANd9GcRgxf6_nAXz7qiU4oQG5D7xVLrZb2b_Sd1-jg&usqp=CAU',\n",
       " 'https://encrypted-tbn0.gstatic.com/images?q=tbn:ANd9GcQvcc_8J6lgVVlzMB-SZ0LZMryd_k2w43g5Iw&usqp=CAU',\n",
       " 'https://encrypted-tbn0.gstatic.com/images?q=tbn:ANd9GcQi1jMN52gdkPzYUPdKtesa7uHIOvBPKSiFNA&usqp=CAU',\n",
       " 'https://encrypted-tbn0.gstatic.com/images?q=tbn:ANd9GcSiL0JtfAKPR7jbeVJRgjYrXstLau_VGn0FKQ&usqp=CAU',\n",
       " 'https://encrypted-tbn0.gstatic.com/images?q=tbn:ANd9GcTOVYgQmT5-0gbN0yr3pnB8DGy720MvPdsU-g&usqp=CAU',\n",
       " 'https://encrypted-tbn0.gstatic.com/images?q=tbn:ANd9GcTYRn-Emn3lR4WiglVrDx69oghAW7W8Al-26g&usqp=CAU',\n",
       " 'https://encrypted-tbn0.gstatic.com/images?q=tbn:ANd9GcQBdd8-MJYIddpzmS-wApekUqisc64EXl-okQ&usqp=CAU',\n",
       " 'https://encrypted-tbn0.gstatic.com/images?q=tbn:ANd9GcS-pM2cVm5aP1LOpQmwK2y41Ohv81XUmeds5g&usqp=CAU',\n",
       " 'https://encrypted-tbn0.gstatic.com/images?q=tbn:ANd9GcTmUw2lufsov9i2tyY2MTG4C5H7pNKgxpBfcg&usqp=CAU',\n",
       " 'https://encrypted-tbn0.gstatic.com/images?q=tbn:ANd9GcQbyzwQx20akgrIDEW4ICiulWRH6IIjGRnMPA&usqp=CAU',\n",
       " 'https://encrypted-tbn0.gstatic.com/images?q=tbn:ANd9GcRenGZHB84JcIXCX7jMQUkZt7GFpp8mK1x7RA&usqp=CAU',\n",
       " 'https://encrypted-tbn0.gstatic.com/images?q=tbn:ANd9GcRjjrUvE9z0q2EffbP-pUjCjQMqicmmTqUFhw&usqp=CAU',\n",
       " 'https://encrypted-tbn0.gstatic.com/images?q=tbn:ANd9GcSNZLnkDolVbBOFnO0cXiN3BD8a8NzE8odcmw&usqp=CAU',\n",
       " 'https://encrypted-tbn0.gstatic.com/images?q=tbn:ANd9GcRAFt0xHiff3fl4uAzBm9kkAa36Rnq2-i1lHQ&usqp=CAU',\n",
       " 'https://encrypted-tbn0.gstatic.com/images?q=tbn:ANd9GcRBkFc8TorOi082iVCII3FTQA_8ZJ-B2xkoBg&usqp=CAU',\n",
       " 'https://encrypted-tbn0.gstatic.com/images?q=tbn:ANd9GcRQDr9ULjOquuPdJ2V--OpedrVVI29pJJP80g&usqp=CAU',\n",
       " 'https://encrypted-tbn0.gstatic.com/images?q=tbn:ANd9GcS62r1-dyhhAiaOPeU9qZzlAGrbmoTygqATCQ&usqp=CAU',\n",
       " 'https://encrypted-tbn0.gstatic.com/images?q=tbn:ANd9GcRGHJT8q-l4tpC1yJh-mnZTLpp1feWPFNBJ2g&usqp=CAU',\n",
       " 'https://encrypted-tbn0.gstatic.com/images?q=tbn:ANd9GcTAWGLaxP14syLHBBDlJFI61ZmBYqH6cakUHA&usqp=CAU',\n",
       " 'https://encrypted-tbn0.gstatic.com/images?q=tbn:ANd9GcTBJUrYiKaStYk6Z8F4RGBa5UEOTxt9ycchIQ&usqp=CAU',\n",
       " 'https://encrypted-tbn0.gstatic.com/images?q=tbn:ANd9GcQu_hqtAewLdFJnQE00FiG00mQ4C9rvmNHeZg&usqp=CAU',\n",
       " 'https://encrypted-tbn0.gstatic.com/images?q=tbn:ANd9GcTsRLK-La6p9LPjx5MkCD7KjZ2PFQY8XNX0YA&usqp=CAU',\n",
       " 'https://encrypted-tbn0.gstatic.com/images?q=tbn:ANd9GcQrze6YgEOUkpBVygJ4r2nujU1dmBU0HPkdIw&usqp=CAU',\n",
       " 'https://encrypted-tbn0.gstatic.com/images?q=tbn:ANd9GcT4fqXfgTypAMphAwIjfmK5Gvzfzj-5KQVKRA&usqp=CAU',\n",
       " 'https://encrypted-tbn0.gstatic.com/images?q=tbn:ANd9GcSoGMXw8qL4lY4Lxbfk-dq6r-DELYghjEjItg&usqp=CAU',\n",
       " 'https://encrypted-tbn0.gstatic.com/images?q=tbn:ANd9GcRapfG6VRBKRApzCEdIoKmjRp96gv1Ay-bbUA&usqp=CAU',\n",
       " 'https://encrypted-tbn0.gstatic.com/images?q=tbn:ANd9GcQIgoHvQfGTeTa4I6ljKX4RXN7Fp5TzTxf8qQ&usqp=CAU',\n",
       " 'https://encrypted-tbn0.gstatic.com/images?q=tbn:ANd9GcRdUDfOELEltqFcW_9mpgkgI04gN9BfYjya_Q&usqp=CAU',\n",
       " 'https://encrypted-tbn0.gstatic.com/images?q=tbn:ANd9GcRNsfLS8AliS_xwl5Xx5y351zT0MiIxcJ50UQ&usqp=CAU',\n",
       " 'https://encrypted-tbn0.gstatic.com/images?q=tbn:ANd9GcT4KvOajFWpf1A7OfI7dRqR40hYoDdq3d1I3w&usqp=CAU',\n",
       " 'https://encrypted-tbn0.gstatic.com/images?q=tbn:ANd9GcS6p2mgoiBKnnIKR9AJ7j_Vn1dZdlbmSBK8zQ&usqp=CAU',\n",
       " 'https://encrypted-tbn0.gstatic.com/images?q=tbn:ANd9GcQcZzhXXK6RyxVrPdIAFhEnTdHWzQu7jbWniQ&usqp=CAU',\n",
       " 'https://encrypted-tbn0.gstatic.com/images?q=tbn:ANd9GcQGBQL4nuc3ljLM47A1lf37G8k7Sxcq8OtJKw&usqp=CAU',\n",
       " 'https://encrypted-tbn0.gstatic.com/images?q=tbn:ANd9GcQcFRmI28s6kqvy0X6nEymNwMhEX-EdC9fjWA&usqp=CAU',\n",
       " 'https://encrypted-tbn0.gstatic.com/images?q=tbn:ANd9GcRigBeAVbrQ2jT4nkVv_Jfo4UQSnxFehkDL2g&usqp=CAU',\n",
       " 'https://encrypted-tbn0.gstatic.com/images?q=tbn:ANd9GcRH-2CpX2y0f-coZ3V59mxDPV2at-HF_ix7NQ&usqp=CAU',\n",
       " 'https://encrypted-tbn0.gstatic.com/images?q=tbn:ANd9GcR00HDenAZFZgNG4neq5qqGGOkCXrPuVmJdlg&usqp=CAU',\n",
       " 'https://encrypted-tbn0.gstatic.com/images?q=tbn:ANd9GcQdLh4f4OdLbOX_Y-PrMRJMG9IyousCwNRKyw&usqp=CAU',\n",
       " 'https://encrypted-tbn0.gstatic.com/images?q=tbn:ANd9GcTHV_Y3aMTapyi_R43Gk8YyuiCc4xaG5-HS3g&usqp=CAU',\n",
       " 'https://encrypted-tbn0.gstatic.com/images?q=tbn:ANd9GcTgH1EYG6kCu_rbCkJDqUpVvO1Tm3aBNapJBw&usqp=CAU',\n",
       " 'https://encrypted-tbn0.gstatic.com/images?q=tbn:ANd9GcQEDzBbshsuJRSkVXcN9qTW8sz639DMF3tXCw&usqp=CAU',\n",
       " 'https://encrypted-tbn0.gstatic.com/images?q=tbn:ANd9GcQ-G-djb34QIeAMxuONnVxuKczs47YvTU2zZA&usqp=CAU',\n",
       " 'https://encrypted-tbn0.gstatic.com/images?q=tbn:ANd9GcQrzBdnzL-1zU85qMcYG9kriUK3axu67BzX5A&usqp=CAU',\n",
       " 'https://encrypted-tbn0.gstatic.com/images?q=tbn:ANd9GcTbqyhSzKWawYBdCInUlQLj4g5h3fP6WBgCaA&usqp=CAU',\n",
       " 'https://encrypted-tbn0.gstatic.com/images?q=tbn:ANd9GcRcoER2Fjr1zoK-RIRyAyjgFgLJ5WpMgHnyfA&usqp=CAU',\n",
       " 'https://encrypted-tbn0.gstatic.com/images?q=tbn:ANd9GcR2Vcol1fqtnlIoKOVSwqPajQhal3pUQdRuFA&usqp=CAU',\n",
       " 'https://encrypted-tbn0.gstatic.com/images?q=tbn:ANd9GcRI2C2mp0oCS76i1PDcmFshBsSSRuW9Y7tvMg&usqp=CAU',\n",
       " 'https://encrypted-tbn0.gstatic.com/images?q=tbn:ANd9GcTghZdLlpvybwnp2_1yGXA7FCFKGcZfOu7nzw&usqp=CAU',\n",
       " 'https://encrypted-tbn0.gstatic.com/images?q=tbn:ANd9GcTvQngZEiXA7WggE2Z8oUpL3ZjKJao6H5vM4g&usqp=CAU',\n",
       " 'https://encrypted-tbn0.gstatic.com/images?q=tbn:ANd9GcShxATPdwjA6uXd_4sGX5cUfhumrDXT2LcaZQ&usqp=CAU',\n",
       " 'https://encrypted-tbn0.gstatic.com/images?q=tbn:ANd9GcRz2_X34ibmgT-ieSfqh_gthA0gBpYJaI-FOg&usqp=CAU',\n",
       " 'https://encrypted-tbn0.gstatic.com/images?q=tbn:ANd9GcQh7unjCj27JKW2IQgucFutRHjN3yDiIaG2cQ&usqp=CAU',\n",
       " 'https://encrypted-tbn0.gstatic.com/images?q=tbn:ANd9GcQGlTcP6vLEpRIpYJjZuWCvL_cfXRtfkzFR2A&usqp=CAU',\n",
       " 'https://encrypted-tbn0.gstatic.com/images?q=tbn:ANd9GcSP4Wgg0oJUxQ6FUyjRquQqzSZIMqQuVy_gSA&usqp=CAU',\n",
       " 'https://encrypted-tbn0.gstatic.com/images?q=tbn:ANd9GcT1HThnRcA-B9wVxBM3jYyEDdv1vOJtbCzrcw&usqp=CAU',\n",
       " 'https://encrypted-tbn0.gstatic.com/images?q=tbn:ANd9GcQGlTcP6vLEpRIpYJjZuWCvL_cfXRtfkzFR2A&usqp=CAU',\n",
       " 'https://encrypted-tbn0.gstatic.com/images?q=tbn:ANd9GcQBfr-6DljdTqrSRdEpRd1F-h11bKNqp_FHpg&usqp=CAU',\n",
       " 'https://encrypted-tbn0.gstatic.com/images?q=tbn:ANd9GcSart9PX1F5xYS5yxZFcHrsX2SosqGph3Vy9Q&usqp=CAU',\n",
       " 'https://encrypted-tbn0.gstatic.com/images?q=tbn:ANd9GcRipoNK6VcU-DEox7u69PvMwj931SbzeoAJ_Q&usqp=CAU',\n",
       " 'https://encrypted-tbn0.gstatic.com/images?q=tbn:ANd9GcQiWY5__nAamE4BerQHY5_da_eHY-_vxhTwWA&usqp=CAU',\n",
       " 'https://encrypted-tbn0.gstatic.com/images?q=tbn:ANd9GcRrh1e0cst7mYFeBiESV_fngMoVP8htDMOmFA&usqp=CAU',\n",
       " 'https://encrypted-tbn0.gstatic.com/images?q=tbn:ANd9GcSQUTyJ-Aht82ko0Lx4AKEFfFBeIIIcQ5rlUQ&usqp=CAU',\n",
       " 'https://encrypted-tbn0.gstatic.com/images?q=tbn:ANd9GcSNrQkX4tNsh23J0PyLrl6iohlwvWbqviH9WQ&usqp=CAU',\n",
       " 'https://encrypted-tbn0.gstatic.com/images?q=tbn:ANd9GcRI40S6fTqLOduN2ora3Dy9-SXS2jX7F8RFcQ&usqp=CAU',\n",
       " 'https://encrypted-tbn0.gstatic.com/images?q=tbn:ANd9GcQRf4VdWDA7P65N8VRi-i3UFCqubpOFxy-sMg&usqp=CAU',\n",
       " 'https://encrypted-tbn0.gstatic.com/images?q=tbn:ANd9GcQa-QnFOGEpzPZfWGyvtjr1OnDml9m711MVbQ&usqp=CAU',\n",
       " 'https://encrypted-tbn0.gstatic.com/images?q=tbn:ANd9GcTmruwKOq0OWswtMPojDqpv03dohvl_-hs6NQ&usqp=CAU',\n",
       " 'https://encrypted-tbn0.gstatic.com/images?q=tbn:ANd9GcRCrUohxabHlK5b2tuCvdUWy3zRbK9Mn_LO8g&usqp=CAU',\n",
       " 'https://encrypted-tbn0.gstatic.com/images?q=tbn:ANd9GcR5noAY2pvgiDcjtcFxn817VcGjvmZ-YD06Aw&usqp=CAU',\n",
       " 'https://encrypted-tbn0.gstatic.com/images?q=tbn:ANd9GcRMXo6uzFA4oUp15hPxlDmiqMY8I8RAgq2NTQ&usqp=CAU',\n",
       " 'https://encrypted-tbn0.gstatic.com/images?q=tbn:ANd9GcQle5gAzia23iAHTi1cM7lyxt-VpNMzHbAV9A&usqp=CAU',\n",
       " 'https://encrypted-tbn0.gstatic.com/images?q=tbn:ANd9GcSdlJKgDnyjPwjcDYRLxTeYVq7UHKf9otiZrw&usqp=CAU',\n",
       " 'https://encrypted-tbn0.gstatic.com/images?q=tbn:ANd9GcRnihQlzWJLGbdVW6iY_VwFAOrdt05_1mpimw&usqp=CAU',\n",
       " 'https://encrypted-tbn0.gstatic.com/images?q=tbn:ANd9GcSvZhlJXY23Pq9mPtc0l4f-_FufvVMIwy3rWA&usqp=CAU']"
      ]
     },
     "execution_count": 384,
     "metadata": {},
     "output_type": "execute_result"
    }
   ],
   "source": [
    "fruits_image_list"
   ]
  },
  {
   "cell_type": "code",
   "execution_count": 390,
   "id": "c46e61cf-a843-4b60-9748-7568ffbe04ca",
   "metadata": {},
   "outputs": [],
   "source": [
    "## Download images in my current working directory\n",
    "\n",
    "for i in fruits_image_list:\n",
    "    urllib.request.urlretrieve(i,str(fruits_image_list.index(i))+'.jpg')\n",
    "    \n",
    "    "
   ]
  },
  {
   "cell_type": "code",
   "execution_count": 395,
   "id": "3dc4a02c-0c61-42b1-bc78-279d64d099d4",
   "metadata": {},
   "outputs": [
    {
     "name": "stdout",
     "output_type": "stream",
     "text": [
      "/Users/olivierla412/projects/data_camp/Scraping/Selenium/selenium_assign3/fruits_images\n"
     ]
    }
   ],
   "source": [
    "cd fruits_images"
   ]
  },
  {
   "cell_type": "code",
   "execution_count": 396,
   "id": "cf52d834-a1ba-4ccc-a9a2-c9d2fa0d50b3",
   "metadata": {},
   "outputs": [
    {
     "name": "stdout",
     "output_type": "stream",
     "text": [
      "0.jpg   18.jpg  27.jpg  36.jpg  45.jpg  54.jpg  63.jpg  72.jpg  82.jpg  91.jpg\n",
      "1.jpg   19.jpg  28.jpg  37.jpg  46.jpg  55.jpg  64.jpg  73.jpg  83.jpg  92.jpg\n",
      "10.jpg  2.jpg   29.jpg  38.jpg  47.jpg  56.jpg  65.jpg  74.jpg  84.jpg  93.jpg\n",
      "11.jpg  20.jpg  3.jpg   39.jpg  48.jpg  57.jpg  66.jpg  75.jpg  85.jpg  94.jpg\n",
      "12.jpg  21.jpg  30.jpg  4.jpg   49.jpg  58.jpg  67.jpg  76.jpg  86.jpg  95.jpg\n",
      "13.jpg  22.jpg  31.jpg  40.jpg  5.jpg   59.jpg  68.jpg  77.jpg  87.jpg  96.jpg\n",
      "14.jpg  23.jpg  32.jpg  41.jpg  50.jpg  6.jpg   69.jpg  78.jpg  88.jpg  97.jpg\n",
      "15.jpg  24.jpg  33.jpg  42.jpg  51.jpg  60.jpg  7.jpg   79.jpg  89.jpg  98.jpg\n",
      "16.jpg  25.jpg  34.jpg  43.jpg  52.jpg  61.jpg  70.jpg  8.jpg   9.jpg   99.jpg\n",
      "17.jpg  26.jpg  35.jpg  44.jpg  53.jpg  62.jpg  71.jpg  80.jpg  90.jpg\n"
     ]
    }
   ],
   "source": [
    "ls"
   ]
  },
  {
   "cell_type": "markdown",
   "id": "93da31e6-f02f-45ee-950d-71dcf449e18b",
   "metadata": {},
   "source": [
    "## scrapping 100 image of Machine Learning."
   ]
  },
  {
   "cell_type": "code",
   "execution_count": 231,
   "id": "ece1053d-d06e-47c1-a059-9b018feba443",
   "metadata": {},
   "outputs": [],
   "source": [
    "## fetching Google website\n",
    "\n",
    "google_url ='https://www.google.com'\n",
    "driver.get(url=google_url)\n",
    "search_bn_image = driver.find_element_by_xpath('/html/body/div[1]/div[1]/div/div/div/div[1]/div/div[2]/a')\n",
    "search_bn_image.click()"
   ]
  },
  {
   "cell_type": "code",
   "execution_count": 232,
   "id": "30e23c58-8531-4600-a68d-470f9d8db7d0",
   "metadata": {},
   "outputs": [],
   "source": [
    "input_search = driver.find_element_by_xpath('//input[@class=\"gLFyf gsfi\"]')\n",
    "input_search.send_keys('Machine Learning')"
   ]
  },
  {
   "cell_type": "code",
   "execution_count": 233,
   "id": "643c3a3d-4e94-4543-b8fa-146fc6140dd2",
   "metadata": {},
   "outputs": [],
   "source": [
    "bn_search = driver.find_element_by_xpath('//span[@class=\"z1asCe MZy1Rb\"]')\n",
    "bn_search.click()"
   ]
  },
  {
   "cell_type": "code",
   "execution_count": 245,
   "id": "7eb04a04-1018-4239-84a8-3db1f95fcf57",
   "metadata": {},
   "outputs": [],
   "source": [
    "Machine_learn_images= []\n",
    "time.sleep(2)\n",
    "m_image_Xpath = driver.find_elements_by_xpath('//img[@jsaction=\"rcuQ6b:trigger.M8vzZb;\"]')\n",
    "for i in m_image_Xpath:\n",
    "    Machine_learn_images.append(i.get_attribute('src'))"
   ]
  },
  {
   "cell_type": "code",
   "execution_count": 246,
   "id": "06befe2a-4d8e-4025-89b9-e09b281d1de8",
   "metadata": {},
   "outputs": [
    {
     "data": {
      "text/plain": [
       "259"
      ]
     },
     "execution_count": 246,
     "metadata": {},
     "output_type": "execute_result"
    }
   ],
   "source": [
    "len(Machine_learn_images)"
   ]
  },
  {
   "cell_type": "code",
   "execution_count": 248,
   "id": "e6eb0fbd-32e0-4e32-9013-f12a4b780d17",
   "metadata": {},
   "outputs": [],
   "source": [
    "Machine_learn_images_list = Machine_learn_images[:100]"
   ]
  },
  {
   "cell_type": "code",
   "execution_count": 249,
   "id": "1734a985-679c-412a-bea8-31a75b12da97",
   "metadata": {},
   "outputs": [
    {
     "data": {
      "text/plain": [
       "['https://encrypted-tbn0.gstatic.com/images?q=tbn:ANd9GcRI7Yx95d0p3CKcJiHEVv-y4I7fJIlqVopUPm3AsD0&usqp=CAU',\n",
       " 'https://encrypted-tbn0.gstatic.com/images?q=tbn:ANd9GcRfjNPFojvTcTxHvYJXPEnxyZl6ggryFJZoiBh5cA9VX6h9I_HZ&usqp=CAU',\n",
       " 'https://encrypted-tbn0.gstatic.com/images?q=tbn:ANd9GcT6EjjIdqNiYByf1T3NfTU6OyUhJ1jQIJey5l4vaBR3xosEp4K8&usqp=CAU',\n",
       " 'https://encrypted-tbn0.gstatic.com/images?q=tbn:ANd9GcQievcyeGhVMtsJ12iZ0Z6NZ7X1DsIvXuDUTOzANq9cpWDHOIYn&usqp=CAU',\n",
       " 'https://encrypted-tbn0.gstatic.com/images?q=tbn:ANd9GcRdBIkR3obuHdd7aNFW1Oa3yoYN1LMrBBvmW1PxT3QhK7417QD1&usqp=CAU',\n",
       " 'https://encrypted-tbn0.gstatic.com/images?q=tbn:ANd9GcQZC7TOLbEU2IOzu6QVzLyxaCI7SMFUlNdRK1pkVjqCXTEy6rix&usqp=CAU',\n",
       " 'https://encrypted-tbn0.gstatic.com/images?q=tbn:ANd9GcStkfRTfosx2a2uOrcStQyxHpeHWG-Z-zxHTlKvfeYFsr9_DhiQ&usqp=CAU',\n",
       " 'https://encrypted-tbn0.gstatic.com/images?q=tbn:ANd9GcSyLDAJqRlqyls1xVbRLiFKfMCruMgymD8dJzleV9pbI_pm5UoE&usqp=CAU',\n",
       " 'https://encrypted-tbn0.gstatic.com/images?q=tbn:ANd9GcQRGthMvTyDNx38k0tf91cIbIEUCa4jgCsakCynqq73qqVdv_t-&usqp=CAU',\n",
       " 'https://encrypted-tbn0.gstatic.com/images?q=tbn:ANd9GcSMg2ZtVatuQcyjDZtXa4PRD00dVNtiP_UbWfDYpE08DVB4GO4n&usqp=CAU',\n",
       " 'https://encrypted-tbn0.gstatic.com/images?q=tbn:ANd9GcQF05nw9DhQfQYyYDYfjxNr5uNnSyxJKZzWLxM6VGxg_PBsR21m&usqp=CAU',\n",
       " 'https://encrypted-tbn0.gstatic.com/images?q=tbn:ANd9GcSAPpXTf5NzPnjerA4svxu9WJK6IOe_r3V_sEaKVsDuyxkETk3D&usqp=CAU',\n",
       " 'https://encrypted-tbn0.gstatic.com/images?q=tbn:ANd9GcTbjcIE9uEMc3hjUyURikcr7QxvLd_7xA5-Qd4BnnIUpIn7uS1G&usqp=CAU',\n",
       " 'https://encrypted-tbn0.gstatic.com/images?q=tbn:ANd9GcQRhowsYTaFopa-8C2GD0XWersRf5YcdyAZBareLR-a_lohmtkg&usqp=CAU',\n",
       " 'https://encrypted-tbn0.gstatic.com/images?q=tbn:ANd9GcRRfI4gczvEA8uewXXdbjfejOgjcdiMu-9uWg3Sy29ZU-d1bSgM&usqp=CAU',\n",
       " 'https://encrypted-tbn0.gstatic.com/images?q=tbn:ANd9GcRfT_XuH07pdLsLp1wy8VKQ8hKnYnB4V6ERv5AqdDnWcLQqOX3z&usqp=CAU',\n",
       " 'https://encrypted-tbn0.gstatic.com/images?q=tbn:ANd9GcRVuLtnLpFrGqQhQfs9m1_jETUSyBfWsWApbVAubdwjKNGCZgxV&usqp=CAU',\n",
       " 'https://encrypted-tbn0.gstatic.com/images?q=tbn:ANd9GcTXao4Xt8-OOaW_QOGAqYnN9Skal97f02LJkxhNLLbPJsiHyBwY&usqp=CAU',\n",
       " 'https://encrypted-tbn0.gstatic.com/images?q=tbn:ANd9GcQ-qD2rRXFGMce45la7pokLMZpwRAad6sZKAw&usqp=CAU',\n",
       " 'https://encrypted-tbn0.gstatic.com/images?q=tbn:ANd9GcRNfq7FthuJM8V7ev3FRCeqqHjmcXLDXlkwng&usqp=CAU',\n",
       " 'https://encrypted-tbn0.gstatic.com/images?q=tbn:ANd9GcS7l8X_i4VHSvd1QfZ_pFg51PJJc75NFfmexw&usqp=CAU',\n",
       " 'https://encrypted-tbn0.gstatic.com/images?q=tbn:ANd9GcSRkU62g7Rhz3aNupBoOc6pizY-19hH9-MJKA&usqp=CAU',\n",
       " 'https://encrypted-tbn0.gstatic.com/images?q=tbn:ANd9GcRnJajte8k4hat5OemiCgLPtorxCS9FmUKXKA&usqp=CAU',\n",
       " 'https://encrypted-tbn0.gstatic.com/images?q=tbn:ANd9GcSp2BlkHDrMpBa5pOZAgpzkL8RMmvgEU5I_Aw&usqp=CAU',\n",
       " 'https://encrypted-tbn0.gstatic.com/images?q=tbn:ANd9GcSFueOb66mkdjk_FrOsnYVpzw7U3AwkhUOB5g&usqp=CAU',\n",
       " 'https://encrypted-tbn0.gstatic.com/images?q=tbn:ANd9GcTDtgtwbe84_gCxl_OF13wQOIGGcgN9Vwaidg&usqp=CAU',\n",
       " 'https://encrypted-tbn0.gstatic.com/images?q=tbn:ANd9GcR1VXGCyLKk_U8qzQ31abMiOSM3lg953_Qw3A&usqp=CAU',\n",
       " 'https://encrypted-tbn0.gstatic.com/images?q=tbn:ANd9GcTOSwX0K0UGwBx3QEEuA4jYokxrs2iTEl9R6w&usqp=CAU',\n",
       " 'https://encrypted-tbn0.gstatic.com/images?q=tbn:ANd9GcSMFWgErcxBOju7NYcTXjCkOAcL_D7xVuskdw&usqp=CAU',\n",
       " 'https://encrypted-tbn0.gstatic.com/images?q=tbn:ANd9GcQulizjoCvcETV2mLWm9WcZ0mlsl-MjY0B7RQ&usqp=CAU',\n",
       " 'https://encrypted-tbn0.gstatic.com/images?q=tbn:ANd9GcQh4HzGIRo74WpbQfcr6SFZFkcsiykKzX5A-w&usqp=CAU',\n",
       " 'https://encrypted-tbn0.gstatic.com/images?q=tbn:ANd9GcToqqMfOrfY6GZ4px8jFHkK_4NtQHwzHP3Npg&usqp=CAU',\n",
       " 'https://encrypted-tbn0.gstatic.com/images?q=tbn:ANd9GcTba5qkPbfxaExGGfEhcujsY708WyfHopDV8w&usqp=CAU',\n",
       " 'https://encrypted-tbn0.gstatic.com/images?q=tbn:ANd9GcQ5LFpAD-FPmniqb8OCMo64l4q87A37IN6UMQ&usqp=CAU',\n",
       " 'https://encrypted-tbn0.gstatic.com/images?q=tbn:ANd9GcRcFx4emSxsFpL3HokaHTahfwGIumrvxUUWUA&usqp=CAU',\n",
       " 'https://encrypted-tbn0.gstatic.com/images?q=tbn:ANd9GcQfN12oiCbkM3yQNEyPU1BU2oWCHh3gEGKNcA&usqp=CAU',\n",
       " 'https://encrypted-tbn0.gstatic.com/images?q=tbn:ANd9GcRqX-g9A6tbPAlpj85G-no0fk7A3xH1wFUcyQ&usqp=CAU',\n",
       " 'https://encrypted-tbn0.gstatic.com/images?q=tbn:ANd9GcRrGoA2Crpg8Xcqacy8jDQELbeolPDWu-GykQ&usqp=CAU',\n",
       " 'https://encrypted-tbn0.gstatic.com/images?q=tbn:ANd9GcQSYylHvRw4uZOGozJG1VYgdMReGDGuxSwxPQ&usqp=CAU',\n",
       " 'https://encrypted-tbn0.gstatic.com/images?q=tbn:ANd9GcSE3FFuF-ouM78pOMvwCpbyEkJ1jKRaUum2-g&usqp=CAU',\n",
       " 'https://encrypted-tbn0.gstatic.com/images?q=tbn:ANd9GcQPRh_bHRkCuP3PSyEYC_gw8mrKONs57eeBXw&usqp=CAU',\n",
       " 'https://encrypted-tbn0.gstatic.com/images?q=tbn:ANd9GcSStzA7U2Svu6OSEzfKGBPxzCbfMS0sjtrPvA&usqp=CAU',\n",
       " 'https://encrypted-tbn0.gstatic.com/images?q=tbn:ANd9GcTolY6xPXK9bWaMdIh4PyzpPOVbuAdmnRLavA&usqp=CAU',\n",
       " 'https://encrypted-tbn0.gstatic.com/images?q=tbn:ANd9GcR9jSIVMuAS2N4w2cdGf5iA178b_C3Rz6wtvw&usqp=CAU',\n",
       " 'https://encrypted-tbn0.gstatic.com/images?q=tbn:ANd9GcTg0H3Ctmp4CJ7Xv2aVpgfNQaDwJtVZDPL2XQ&usqp=CAU',\n",
       " 'https://encrypted-tbn0.gstatic.com/images?q=tbn:ANd9GcSWShvZgyNR29CrJJKSA3MdMJtKDaS-B-_6dw&usqp=CAU',\n",
       " 'https://encrypted-tbn0.gstatic.com/images?q=tbn:ANd9GcSBSnQdgRaQQDDwd039ul9wyaqgymUcRyIosQ&usqp=CAU',\n",
       " 'https://encrypted-tbn0.gstatic.com/images?q=tbn:ANd9GcRVTT3e6fT7u4ormLM5SnutHobjS_Z4CSDeFg&usqp=CAU',\n",
       " 'https://encrypted-tbn0.gstatic.com/images?q=tbn:ANd9GcQvjFkgPuFBkUIb7WukseDQ6Kav9nTthyybUw&usqp=CAU',\n",
       " 'https://encrypted-tbn0.gstatic.com/images?q=tbn:ANd9GcRbSZZu9FPzqUJM0x_ET1-vye01bULxB1LnsA&usqp=CAU',\n",
       " 'https://encrypted-tbn0.gstatic.com/images?q=tbn:ANd9GcQ0Kfd40DrWeXpLo4KL8ZRdDLw7AQlRdQxisg&usqp=CAU',\n",
       " 'https://encrypted-tbn0.gstatic.com/images?q=tbn:ANd9GcSrqPSV1NlpA6A-mUXfKlgbC6ci9VWcwgg1CA&usqp=CAU',\n",
       " 'https://encrypted-tbn0.gstatic.com/images?q=tbn:ANd9GcTlrRupcFP48cR8T8Lv0nmohh-nsuFWuKy90Q&usqp=CAU',\n",
       " 'https://encrypted-tbn0.gstatic.com/images?q=tbn:ANd9GcT3nBM-d0cTqcESB94gdHqzKfeQ189Nv_1ckw&usqp=CAU',\n",
       " 'https://encrypted-tbn0.gstatic.com/images?q=tbn:ANd9GcQZc_PTpvBRL66czmsoFIqQhIpsE7sI71vIGA&usqp=CAU',\n",
       " 'https://encrypted-tbn0.gstatic.com/images?q=tbn:ANd9GcSC4ZvFL47Ta0lMESWsN7qq1zQuMnqo7C4CLA&usqp=CAU',\n",
       " 'https://encrypted-tbn0.gstatic.com/images?q=tbn:ANd9GcRtsQ2491eHCVnkW_r0GEUSuFi9lLiuPml37Q&usqp=CAU',\n",
       " 'https://encrypted-tbn0.gstatic.com/images?q=tbn:ANd9GcQyk-rAWff8es4lJvIa_J3mIuveLfNztGCpLg&usqp=CAU',\n",
       " 'https://encrypted-tbn0.gstatic.com/images?q=tbn:ANd9GcSBAf0cgqA4bEmr-OMFtr1OPOId8zxDMbdV8w&usqp=CAU',\n",
       " 'https://encrypted-tbn0.gstatic.com/images?q=tbn:ANd9GcRl5Xu-T4-nc9bxvkM4n2o8a_KUFJBVbYXnNQ&usqp=CAU',\n",
       " 'https://encrypted-tbn0.gstatic.com/images?q=tbn:ANd9GcQC0Sj01x9201XlisxESGkci8R91Fp2cM8Vzg&usqp=CAU',\n",
       " 'https://encrypted-tbn0.gstatic.com/images?q=tbn:ANd9GcSEMHTPfP9YZM7V99dKJrGBiDwui2iBsniBjg&usqp=CAU',\n",
       " 'https://encrypted-tbn0.gstatic.com/images?q=tbn:ANd9GcTq8iHrI-8n2iBfaaJ1TWdlwOnY2xqNbPQfWw&usqp=CAU',\n",
       " 'https://encrypted-tbn0.gstatic.com/images?q=tbn:ANd9GcQ3WHJB5RectMLlSdaKaTIllE4wEwUmeJms0w&usqp=CAU',\n",
       " 'https://encrypted-tbn0.gstatic.com/images?q=tbn:ANd9GcTAIsh7NIE3dovmzwPITu_D49wGTMVO4xRkmg&usqp=CAU',\n",
       " 'https://encrypted-tbn0.gstatic.com/images?q=tbn:ANd9GcQOMSanYLW--S2wtGTzqwOyT9mwm9YA4agS7g&usqp=CAU',\n",
       " 'https://encrypted-tbn0.gstatic.com/images?q=tbn:ANd9GcT5sN83LcL1q_Gs6wTuepkBYdRe5QcVDosaXw&usqp=CAU',\n",
       " 'https://encrypted-tbn0.gstatic.com/images?q=tbn:ANd9GcQErJ2RoXU1wALg8XpKBH_UK1TOJqCe8k7lHA&usqp=CAU',\n",
       " 'https://encrypted-tbn0.gstatic.com/images?q=tbn:ANd9GcR_upvMtBDZiIFYilt6oSwh-oLe-W8TSfKd4A&usqp=CAU',\n",
       " 'https://encrypted-tbn0.gstatic.com/images?q=tbn:ANd9GcRsLpoWRiRxkZBy14dztKhTlseA_bJbhOjWuQ&usqp=CAU',\n",
       " 'https://encrypted-tbn0.gstatic.com/images?q=tbn:ANd9GcTTCAhOw2gJomKakgDXC0502G_di7MCoKqtjg&usqp=CAU',\n",
       " 'https://encrypted-tbn0.gstatic.com/images?q=tbn:ANd9GcRNYkZLW3iUc9ksvBB_uVgcLL_evUZkgYAlJA&usqp=CAU',\n",
       " 'https://encrypted-tbn0.gstatic.com/images?q=tbn:ANd9GcRyUsvp8lFRGIPJc6R5KIfzr2Y-3uklW1hZLg&usqp=CAU',\n",
       " 'https://encrypted-tbn0.gstatic.com/images?q=tbn:ANd9GcT_NQ08RBS3uf3wz_kWTai84SCnsH7-uqsmdA&usqp=CAU',\n",
       " 'https://encrypted-tbn0.gstatic.com/images?q=tbn:ANd9GcRNN2xhubP-H5u3W-zztxe6g3dfo1m1PrTSCQ&usqp=CAU',\n",
       " 'https://encrypted-tbn0.gstatic.com/images?q=tbn:ANd9GcSxUKIDE5NBIf3wRAn88uCUDuypWWkBGw1K9w&usqp=CAU',\n",
       " 'https://encrypted-tbn0.gstatic.com/images?q=tbn:ANd9GcR9wpAMaeS-HvhvLAiZ4Vf0hE61O7TTmXStKw&usqp=CAU',\n",
       " 'https://encrypted-tbn0.gstatic.com/images?q=tbn:ANd9GcQGgLrNFzg4S0LvFlpmGK-BM4j5DZ3gku_bAQ&usqp=CAU',\n",
       " 'https://encrypted-tbn0.gstatic.com/images?q=tbn:ANd9GcT0quHAS8gIGDTSeoDDzOPI6yRR9inJv1mT-w&usqp=CAU',\n",
       " 'https://encrypted-tbn0.gstatic.com/images?q=tbn:ANd9GcRs6s7hyj4AjilLRAsXKOGODpotWHFcjyA_yw&usqp=CAU',\n",
       " 'https://encrypted-tbn0.gstatic.com/images?q=tbn:ANd9GcQ9ZhBDEGVp-DOA_hJ917nUadeZatP0P2UC-w&usqp=CAU',\n",
       " 'https://encrypted-tbn0.gstatic.com/images?q=tbn:ANd9GcRXLJv5P4pJmN8u-i2w-YFrW55kvzw7pxKaZQ&usqp=CAU',\n",
       " 'https://encrypted-tbn0.gstatic.com/images?q=tbn:ANd9GcTqTtNSrYNNqo_2PHO2SYs6aQSm_uB5MAxmPA&usqp=CAU',\n",
       " 'https://encrypted-tbn0.gstatic.com/images?q=tbn:ANd9GcQ9VZDWqN-fStbNMxasHzEWHBWnfpz0L5T7ow&usqp=CAU',\n",
       " 'https://encrypted-tbn0.gstatic.com/images?q=tbn:ANd9GcSoGwWya17bwcExfYQlkkcjYkZCvbkY9wgsqA&usqp=CAU',\n",
       " 'https://encrypted-tbn0.gstatic.com/images?q=tbn:ANd9GcSOzp_k8AagZ0T8gjgQVWpvLJ1Iq7r03Qj3Kw&usqp=CAU',\n",
       " 'https://encrypted-tbn0.gstatic.com/images?q=tbn:ANd9GcTqGCFdiGDgPD1F_ySnkokL6RLHJLPKcPjyGw&usqp=CAU',\n",
       " 'https://encrypted-tbn0.gstatic.com/images?q=tbn:ANd9GcQ-KGtKyTAliLTgKWIKxXyoaGskiPl75K_bZw&usqp=CAU',\n",
       " 'https://encrypted-tbn0.gstatic.com/images?q=tbn:ANd9GcTKRoKbqYUqRn5Vtsz7G3WIHpNDeatsMzkDWw&usqp=CAU',\n",
       " 'https://encrypted-tbn0.gstatic.com/images?q=tbn:ANd9GcRa7b1TiC9sWeKjO0H8-g9vqQu_FA52yLN3fA&usqp=CAU',\n",
       " 'https://encrypted-tbn0.gstatic.com/images?q=tbn:ANd9GcQfzcYFeL2xmrJJFojK5tDJIdrXQ8CdoGg-_g&usqp=CAU',\n",
       " 'https://encrypted-tbn0.gstatic.com/images?q=tbn:ANd9GcSRnLbqEYBepm8h2t7eWefAImcaAG17HPhg8A&usqp=CAU',\n",
       " 'https://encrypted-tbn0.gstatic.com/images?q=tbn:ANd9GcTwo5FVqBRZmUacDLaq01O78NFOaaZaTEVGng&usqp=CAU',\n",
       " 'https://encrypted-tbn0.gstatic.com/images?q=tbn:ANd9GcQeyMZBVgDd-_L3ZD4xvuGkjfuBJKtcZyj4HQ&usqp=CAU',\n",
       " 'https://encrypted-tbn0.gstatic.com/images?q=tbn:ANd9GcSrLJC3_WvbczJOuZxy8-hqxbzM_he66BhhOw&usqp=CAU',\n",
       " 'https://encrypted-tbn0.gstatic.com/images?q=tbn:ANd9GcSusXHuPFC1rCwWDg-_SoxB9c6aKs-5IyrAog&usqp=CAU',\n",
       " 'https://encrypted-tbn0.gstatic.com/images?q=tbn:ANd9GcSiV6adz9nSLV5-skd9j2aJIoOhalsoGz-OlA&usqp=CAU',\n",
       " 'https://encrypted-tbn0.gstatic.com/images?q=tbn:ANd9GcQE54Hcc7IuAlsi4sErN0S_3BSb0sakeQsDGw&usqp=CAU',\n",
       " 'https://encrypted-tbn0.gstatic.com/images?q=tbn:ANd9GcQyZL91pc9WTKiLT6QsRdVYUR7pBOw9jd3fYA&usqp=CAU',\n",
       " 'https://encrypted-tbn0.gstatic.com/images?q=tbn:ANd9GcS9iTuLyw50tp544zYHoEsymiSY5N7LSi8N4A&usqp=CAU']"
      ]
     },
     "execution_count": 249,
     "metadata": {},
     "output_type": "execute_result"
    }
   ],
   "source": [
    "Machine_learn_images_list"
   ]
  },
  {
   "cell_type": "code",
   "execution_count": 391,
   "id": "057fa671-06e7-4aa3-84c1-359275a81cc5",
   "metadata": {},
   "outputs": [],
   "source": [
    "## Download images in my current working directory\n",
    "\n",
    "for i in Machine_learn_images_list:\n",
    "    urllib.request.urlretrieve(i,str(Machine_learn_images_list.index(i))+'.jpg')\n",
    "    "
   ]
  },
  {
   "cell_type": "code",
   "execution_count": 392,
   "id": "a494a30b-8a04-4c82-85c0-d511c7e1a1fd",
   "metadata": {},
   "outputs": [
    {
     "name": "stdout",
     "output_type": "stream",
     "text": [
      "/Users/olivierla412/projects/data_camp/Scraping/Selenium/selenium_assign3/machine_learning_img\n"
     ]
    }
   ],
   "source": [
    "cd machine_learning_img"
   ]
  },
  {
   "cell_type": "code",
   "execution_count": 403,
   "id": "55d6ded5-7cd8-48cb-b3c8-fbe332aa29a6",
   "metadata": {},
   "outputs": [
    {
     "name": "stdout",
     "output_type": "stream",
     "text": [
      "/Users/olivierla412/projects/data_camp/Scraping/Selenium/selenium_assign3/machine_learning_img\n"
     ]
    }
   ],
   "source": [
    "cd machine_learning_img"
   ]
  },
  {
   "cell_type": "code",
   "execution_count": 404,
   "id": "21801a80-2fc2-4806-8acd-990f187db833",
   "metadata": {},
   "outputs": [
    {
     "name": "stdout",
     "output_type": "stream",
     "text": [
      "0.jpg   18.jpg  27.jpg  36.jpg  45.jpg  54.jpg  63.jpg  72.jpg  81.jpg  90.jpg\n",
      "1.jpg   19.jpg  28.jpg  37.jpg  46.jpg  55.jpg  64.jpg  73.jpg  82.jpg  91.jpg\n",
      "10.jpg  2.jpg   29.jpg  38.jpg  47.jpg  56.jpg  65.jpg  74.jpg  83.jpg  92.jpg\n",
      "11.jpg  20.jpg  3.jpg   39.jpg  48.jpg  57.jpg  66.jpg  75.jpg  84.jpg  93.jpg\n",
      "12.jpg  21.jpg  30.jpg  4.jpg   49.jpg  58.jpg  67.jpg  76.jpg  85.jpg  94.jpg\n",
      "13.jpg  22.jpg  31.jpg  40.jpg  5.jpg   59.jpg  68.jpg  77.jpg  86.jpg  95.jpg\n",
      "14.jpg  23.jpg  32.jpg  41.jpg  50.jpg  6.jpg   69.jpg  78.jpg  87.jpg  96.jpg\n",
      "15.jpg  24.jpg  33.jpg  42.jpg  51.jpg  60.jpg  7.jpg   79.jpg  88.jpg  97.jpg\n",
      "16.jpg  25.jpg  34.jpg  43.jpg  52.jpg  61.jpg  70.jpg  8.jpg   89.jpg  98.jpg\n",
      "17.jpg  26.jpg  35.jpg  44.jpg  53.jpg  62.jpg  71.jpg  80.jpg  9.jpg   99.jpg\n"
     ]
    }
   ],
   "source": [
    "ls"
   ]
  },
  {
   "cell_type": "markdown",
   "id": "021b2fc7-506c-4635-a7c6-241911bc45ba",
   "metadata": {},
   "source": [
    "### **********************************************\n",
    "### **********************************************"
   ]
  },
  {
   "cell_type": "markdown",
   "id": "d98ee93d-fdf3-4a2b-8245-57b6c4a7ea49",
   "metadata": {},
   "source": [
    "## Q4. Write a python program to search for a smartphone(e.g.: Oneplus Nord, pixel 4A, etc.)\n",
    "## on www.flipkart.com and scrape following details for all the search results displayed on\n",
    "## 1st page. Details to be scraped:\n",
    "## “Brand Name”, “Smartphone name”, “Colour”, “RAM”, “Storage(ROM)”, “Primary Camera”, “Secondary Camera”, “Display Size”, “Display Resolution”, “Processor”, “Processor Cores”, “Battery Capacity”, “Price”, “Product URL”.\n",
    "## Incase if any of the details is missing then replace it by “- “. Save your results in a dataframe and CSV."
   ]
  },
  {
   "cell_type": "code",
   "execution_count": 588,
   "id": "f098b81d-f24f-4450-85ac-3a45271db135",
   "metadata": {},
   "outputs": [],
   "source": [
    "## fetching the website\n",
    "url_flipkart = 'https://www.flipkart.com' "
   ]
  },
  {
   "cell_type": "code",
   "execution_count": 590,
   "id": "c1c038cd-26f3-4e3e-98a3-4e1227911c97",
   "metadata": {},
   "outputs": [],
   "source": [
    "driver.get(url=url_flipkart)\n",
    "input_searchf = driver.find_element_by_xpath('//input[@class=\"_3704LK\"]')\n",
    "input_searchf.send_keys('One-plus Nord, pixel 4A')\n"
   ]
  },
  {
   "cell_type": "code",
   "execution_count": 591,
   "id": "f9736356-b6c2-429f-a75f-11555ad991ed",
   "metadata": {},
   "outputs": [],
   "source": [
    "btn_search = driver.find_element_by_xpath('//button[@type=\"submit\"]')\n",
    "btn_search.click()\n"
   ]
  },
  {
   "cell_type": "code",
   "execution_count": 548,
   "id": "9d0e6a0c-d631-451a-8335-771d941cc095",
   "metadata": {},
   "outputs": [],
   "source": []
  },
  {
   "cell_type": "code",
   "execution_count": 553,
   "id": "8d98787f-992d-4541-8841-a6ee8c67db04",
   "metadata": {},
   "outputs": [],
   "source": []
  },
  {
   "cell_type": "code",
   "execution_count": 554,
   "id": "12377a08-74cd-498f-b209-0d57514b5f6a",
   "metadata": {},
   "outputs": [],
   "source": []
  },
  {
   "cell_type": "markdown",
   "id": "16825179-513d-403c-828c-214eb9754a7e",
   "metadata": {},
   "source": [
    "#### First let get the smartphone urls"
   ]
  },
  {
   "cell_type": "code",
   "execution_count": 592,
   "id": "71051dab-14ab-4884-98de-27826748fd3a",
   "metadata": {},
   "outputs": [],
   "source": [
    "URLS= []\n",
    "xpath_smart = driver.find_elements_by_xpath('//a[@class=\"_1fQZEK\"]')\n",
    "for i in xpath_smart:\n",
    "    URLS.append(i.get_attribute('href'))"
   ]
  },
  {
   "cell_type": "code",
   "execution_count": 593,
   "id": "0d715adc-d9b0-4b2e-b1aa-30db68ac6a0c",
   "metadata": {},
   "outputs": [
    {
     "data": {
      "text/plain": [
       "['https://www.flipkart.com/karbonn-titanium-s9-plus-black-32-gb/p/itmecad7098b9d03?pid=MOBG482ZYYZDEDD6&lid=LSTMOBG482ZYYZDEDD6EY4DFM&marketplace=FLIPKART&q=One-plus+Nord%2C+pixel+4A&store=tyy%2F4io&srno=s_1_1&otracker=search&otracker1=search&fm=SEARCH&iid=6ef7b070-cfdd-456f-ae83-e6b8d41841e1.MOBG482ZYYZDEDD6.SEARCH&ppt=hp&ppn=homepage&ssid=dka2gxdu0w0000001626964223356&qH=bca18867ca9b1b3c',\n",
       " 'https://www.flipkart.com/karbonn-viraat-plus-black-16-gb/p/itm535f93cc7d146?pid=MOBFZYRF9BAHH4Y8&lid=LSTMOBFZYRF9BAHH4Y8LMP5KD&marketplace=FLIPKART&q=One-plus+Nord%2C+pixel+4A&store=tyy%2F4io&srno=s_1_2&otracker=search&otracker1=search&fm=SEARCH&iid=6ef7b070-cfdd-456f-ae83-e6b8d41841e1.MOBFZYRF9BAHH4Y8.SEARCH&ppt=hp&ppn=homepage&ssid=dka2gxdu0w0000001626964223356&qH=bca18867ca9b1b3c',\n",
       " 'https://www.flipkart.com/apple-iphone-8-plus-silver-256-gb/p/itmexrgvxatuyrqw?pid=MOBEXRGVGETABXWZ&lid=LSTMOBEXRGVGETABXWZJ0ZD9D&marketplace=FLIPKART&q=One-plus+Nord%2C+pixel+4A&store=tyy%2F4io&srno=s_1_3&otracker=search&otracker1=search&fm=SEARCH&iid=6ef7b070-cfdd-456f-ae83-e6b8d41841e1.MOBEXRGVGETABXWZ.SEARCH&ppt=hp&ppn=homepage&ssid=dka2gxdu0w0000001626964223356&qH=bca18867ca9b1b3c',\n",
       " 'https://www.flipkart.com/karbonn-titanium-s9-plus-blue-32-gb/p/itmecad7098b9d03?pid=MOBG45WTKHHMPYYE&lid=LSTMOBG45WTKHHMPYYEE8RFPN&marketplace=FLIPKART&q=One-plus+Nord%2C+pixel+4A&store=tyy%2F4io&srno=s_1_4&otracker=search&otracker1=search&fm=SEARCH&iid=6ef7b070-cfdd-456f-ae83-e6b8d41841e1.MOBG45WTKHHMPYYE.SEARCH&ppt=hp&ppn=homepage&ssid=dka2gxdu0w0000001626964223356&qH=bca18867ca9b1b3c',\n",
       " 'https://www.flipkart.com/apple-iphone-8-plus-silver-64-gb/p/itmexrgv7yfjbryy?pid=MOBEXRGVQGYYP8FV&lid=LSTMOBEXRGVQGYYP8FVDQUZL8&marketplace=FLIPKART&q=One-plus+Nord%2C+pixel+4A&store=tyy%2F4io&srno=s_1_5&otracker=search&otracker1=search&fm=SEARCH&iid=6ef7b070-cfdd-456f-ae83-e6b8d41841e1.MOBEXRGVQGYYP8FV.SEARCH&ppt=hp&ppn=homepage&ssid=dka2gxdu0w0000001626964223356&qH=bca18867ca9b1b3c',\n",
       " 'https://www.flipkart.com/apple-iphone-8-plus-space-grey-64-gb/p/itmexrgvehtzhh9v?pid=MOBEXRGVQKBREZP8&lid=LSTMOBEXRGVQKBREZP8PI8YSV&marketplace=FLIPKART&q=One-plus+Nord%2C+pixel+4A&store=tyy%2F4io&srno=s_1_6&otracker=search&otracker1=search&fm=SEARCH&iid=6ef7b070-cfdd-456f-ae83-e6b8d41841e1.MOBEXRGVQKBREZP8.SEARCH&ppt=hp&ppn=homepage&ssid=dka2gxdu0w0000001626964223356&qH=bca18867ca9b1b3c',\n",
       " 'https://www.flipkart.com/apple-iphone-8-plus-gold-64-gb/p/itmexrgvuzgzttzh?pid=MOBEXRGV7EHHTGUH&lid=LSTMOBEXRGV7EHHTGUHS9DJVE&marketplace=FLIPKART&q=One-plus+Nord%2C+pixel+4A&store=tyy%2F4io&srno=s_1_7&otracker=search&otracker1=search&fm=SEARCH&iid=6ef7b070-cfdd-456f-ae83-e6b8d41841e1.MOBEXRGV7EHHTGUH.SEARCH&ppt=hp&ppn=homepage&ssid=dka2gxdu0w0000001626964223356&qH=bca18867ca9b1b3c',\n",
       " 'https://www.flipkart.com/apple-iphone-8-plus-space-grey-256-gb/p/itmexrgvzkbyqgtf?pid=MOBEXRGVAC6TJT4F&lid=LSTMOBEXRGVAC6TJT4FMUAMSG&marketplace=FLIPKART&q=One-plus+Nord%2C+pixel+4A&store=tyy%2F4io&srno=s_1_8&otracker=search&otracker1=search&fm=SEARCH&iid=6ef7b070-cfdd-456f-ae83-e6b8d41841e1.MOBEXRGVAC6TJT4F.SEARCH&ppt=hp&ppn=homepage&ssid=dka2gxdu0w0000001626964223356&qH=bca18867ca9b1b3c',\n",
       " 'https://www.flipkart.com/karbonn-aura-sleek-plus-champagne-16-gb/p/itmf53jusebkzafu?pid=MOBF52ZNSAGUJUTF&lid=LSTMOBF52ZNSAGUJUTFUDOJVA&marketplace=FLIPKART&q=One-plus+Nord%2C+pixel+4A&store=tyy%2F4io&srno=s_1_9&otracker=search&otracker1=search&fm=SEARCH&iid=6ef7b070-cfdd-456f-ae83-e6b8d41841e1.MOBF52ZNSAGUJUTF.SEARCH&ppt=hp&ppn=homepage&ssid=dka2gxdu0w0000001626964223356&qH=bca18867ca9b1b3c',\n",
       " 'https://www.flipkart.com/samsung-galaxy-s10-plus-ceramic-white-1-tb/p/itmfdyp6yc3fu2fg?pid=MOBFDNMZC29CBUPF&lid=LSTMOBFDNMZC29CBUPFT0HVQQ&marketplace=FLIPKART&q=One-plus+Nord%2C+pixel+4A&store=tyy%2F4io&srno=s_1_10&otracker=search&otracker1=search&fm=SEARCH&iid=6ef7b070-cfdd-456f-ae83-e6b8d41841e1.MOBFDNMZC29CBUPF.SEARCH&ppt=hp&ppn=homepage&ssid=dka2gxdu0w0000001626964223356&qH=bca18867ca9b1b3c',\n",
       " 'https://www.flipkart.com/samsung-galaxy-j6-plus-blue-64-gb/p/itmf94bxgkh5kzmq?pid=MOBF94BXS83YGWBX&lid=LSTMOBF94BXS83YGWBXKCAXT7&marketplace=FLIPKART&q=One-plus+Nord%2C+pixel+4A&store=tyy%2F4io&srno=s_1_11&otracker=search&otracker1=search&fm=SEARCH&iid=6ef7b070-cfdd-456f-ae83-e6b8d41841e1.MOBF94BXS83YGWBX.SEARCH&ppt=hp&ppn=homepage&ssid=dka2gxdu0w0000001626964223356&qH=bca18867ca9b1b3c',\n",
       " 'https://www.flipkart.com/samsung-galaxy-j4-plus-gold-32-gb/p/itmf94c46zeb5st5?pid=MOBF94C4VASZ42HU&lid=LSTMOBF94C4VASZ42HUVCUXS6&marketplace=FLIPKART&q=One-plus+Nord%2C+pixel+4A&store=tyy%2F4io&srno=s_1_12&otracker=search&otracker1=search&fm=SEARCH&iid=6ef7b070-cfdd-456f-ae83-e6b8d41841e1.MOBF94C4VASZ42HU.SEARCH&ppt=hp&ppn=homepage&ssid=dka2gxdu0w0000001626964223356&qH=bca18867ca9b1b3c',\n",
       " 'https://www.flipkart.com/motorola-one-fusion-moonlight-white-128-gb/p/itm07749a481ee89?pid=MOBFRFXHHWBM6BRR&lid=LSTMOBFRFXHHWBM6BRRZXH93F&marketplace=FLIPKART&q=One-plus+Nord%2C+pixel+4A&store=tyy%2F4io&srno=s_1_13&otracker=search&otracker1=search&fm=SEARCH&iid=6ef7b070-cfdd-456f-ae83-e6b8d41841e1.MOBFRFXHHWBM6BRR.SEARCH&ppt=hp&ppn=homepage&ssid=dka2gxdu0w0000001626964223356&qH=bca18867ca9b1b3c',\n",
       " 'https://www.flipkart.com/samsung-galaxy-j6-plus-red-64-gb/p/itmf94bxfhs4sjzm?pid=MOBF94BXFS3WSHMG&lid=LSTMOBF94BXFS3WSHMGAHRIPP&marketplace=FLIPKART&q=One-plus+Nord%2C+pixel+4A&store=tyy%2F4io&srno=s_1_14&otracker=search&otracker1=search&fm=SEARCH&iid=6ef7b070-cfdd-456f-ae83-e6b8d41841e1.MOBF94BXFS3WSHMG.SEARCH&ppt=hp&ppn=homepage&ssid=dka2gxdu0w0000001626964223356&qH=bca18867ca9b1b3c',\n",
       " 'https://www.flipkart.com/infocus-m535-plus-silver-16-gb/p/itmew7pyhpnmfkxh?pid=MOBEW7PYXJ2JBUUH&lid=LSTMOBEW7PYXJ2JBUUHJNDXJU&marketplace=FLIPKART&q=One-plus+Nord%2C+pixel+4A&store=tyy%2F4io&srno=s_1_15&otracker=search&otracker1=search&fm=SEARCH&iid=6ef7b070-cfdd-456f-ae83-e6b8d41841e1.MOBEW7PYXJ2JBUUH.SEARCH&ppt=hp&ppn=homepage&ssid=dka2gxdu0w0000001626964223356&qH=bca18867ca9b1b3c',\n",
       " 'https://www.flipkart.com/samsung-galaxy-j6-plus-black-64-gb/p/itmf94bxgyhuzx4y?pid=MOBF94BX8HBYHDFC&lid=LSTMOBF94BX8HBYHDFCYDCHUD&marketplace=FLIPKART&q=One-plus+Nord%2C+pixel+4A&store=tyy%2F4io&srno=s_1_16&otracker=search&otracker1=search&fm=SEARCH&iid=6ef7b070-cfdd-456f-ae83-e6b8d41841e1.MOBF94BX8HBYHDFC.SEARCH&ppt=hp&ppn=homepage&ssid=dka2gxdu0w0000001626964223356&qH=bca18867ca9b1b3c',\n",
       " 'https://www.flipkart.com/apple-iphone-7-plus-black-32-gb/p/itmen6davhyetcwf?pid=MOBEMK6289R7UFQH&lid=LSTMOBEMK6289R7UFQHEIIGH8&marketplace=FLIPKART&q=One-plus+Nord%2C+pixel+4A&store=tyy%2F4io&srno=s_1_17&otracker=search&otracker1=search&fm=SEARCH&iid=6ef7b070-cfdd-456f-ae83-e6b8d41841e1.MOBEMK6289R7UFQH.SEARCH&ppt=hp&ppn=homepage&ssid=dka2gxdu0w0000001626964223356&qH=bca18867ca9b1b3c',\n",
       " 'https://www.flipkart.com/moto-c-plus-pearl-white-16-gb/p/itmeuyd6nhzycmaa?pid=MOBEU9WRGVXDPBSF&lid=LSTMOBEU9WRGVXDPBSFADI9JQ&marketplace=FLIPKART&q=One-plus+Nord%2C+pixel+4A&store=tyy%2F4io&srno=s_1_18&otracker=search&otracker1=search&fm=SEARCH&iid=6ef7b070-cfdd-456f-ae83-e6b8d41841e1.MOBEU9WRGVXDPBSF.SEARCH&ppt=hp&ppn=homepage&ssid=dka2gxdu0w0000001626964223356&qH=bca18867ca9b1b3c',\n",
       " 'https://www.flipkart.com/oppo-f1-plus-gold-64-gb/p/itmehzhgq9rsyyzb?pid=MOBEHZHGVQQZBBGC&lid=LSTMOBEHZHGVQQZBBGCDCNLY1&marketplace=FLIPKART&q=One-plus+Nord%2C+pixel+4A&store=tyy%2F4io&srno=s_1_19&otracker=search&otracker1=search&fm=SEARCH&iid=6ef7b070-cfdd-456f-ae83-e6b8d41841e1.MOBEHZHGVQQZBBGC.SEARCH&ppt=hp&ppn=homepage&ssid=dka2gxdu0w0000001626964223356&qH=bca18867ca9b1b3c',\n",
       " 'https://www.flipkart.com/yu-yunique-2-plus-champagne-16-gb/p/itmeww9jyzwjuvwh?pid=MOBEWW8FEMT7AGFW&lid=LSTMOBEWW8FEMT7AGFW6TED2B&marketplace=FLIPKART&q=One-plus+Nord%2C+pixel+4A&store=tyy%2F4io&srno=s_1_20&otracker=search&otracker1=search&fm=SEARCH&iid=6ef7b070-cfdd-456f-ae83-e6b8d41841e1.MOBEWW8FEMT7AGFW.SEARCH&ppt=hp&ppn=homepage&ssid=dka2gxdu0w0000001626964223356&qH=bca18867ca9b1b3c',\n",
       " 'https://www.flipkart.com/micromax-bharat-4-plus-black-16-gb/p/itm489b353906344?pid=MOBFUFPMTHWBCTVW&lid=LSTMOBFUFPMTHWBCTVWJFKLCA&marketplace=FLIPKART&q=One-plus+Nord%2C+pixel+4A&store=tyy%2F4io&srno=s_1_21&otracker=search&otracker1=search&fm=SEARCH&iid=6ef7b070-cfdd-456f-ae83-e6b8d41841e1.MOBFUFPMTHWBCTVW.SEARCH&ppt=hp&ppn=homepage&ssid=dka2gxdu0w0000001626964223356&qH=bca18867ca9b1b3c',\n",
       " 'https://www.flipkart.com/kall-k-2-plus-blue-64-gb/p/itm3af766d54b4c0?pid=MOBFVXHFDTBK385C&lid=LSTMOBFVXHFDTBK385CPUI9UO&marketplace=FLIPKART&q=One-plus+Nord%2C+pixel+4A&store=tyy%2F4io&srno=s_1_22&otracker=search&otracker1=search&fm=SEARCH&iid=6ef7b070-cfdd-456f-ae83-e6b8d41841e1.MOBFVXHFDTBK385C.SEARCH&ppt=hp&ppn=homepage&ssid=dka2gxdu0w0000001626964223356&qH=bca18867ca9b1b3c',\n",
       " 'https://www.flipkart.com/micromax-canvas-2-plus-jet-black-32-gb/p/itmf943zdxvzj84r?pid=MOBFTUA3GJ9FZVKY&lid=LSTMOBFTUA3GJ9FZVKYP2JR8I&marketplace=FLIPKART&q=One-plus+Nord%2C+pixel+4A&store=tyy%2F4io&srno=s_1_23&otracker=search&otracker1=search&fm=SEARCH&iid=6ef7b070-cfdd-456f-ae83-e6b8d41841e1.MOBFTUA3GJ9FZVKY.SEARCH&ppt=hp&ppn=homepage&ssid=dka2gxdu0w0000001626964223356&qH=bca18867ca9b1b3c',\n",
       " 'https://www.flipkart.com/micromax-canvas-4-plus-a315-black-16-gb/p/itmezhdhwtf4wgfz?pid=MOBEYBX4XDGTZQJ9&lid=LSTMOBEYBX4XDGTZQJ9IASVVB&marketplace=FLIPKART&q=One-plus+Nord%2C+pixel+4A&store=tyy%2F4io&srno=s_1_24&otracker=search&otracker1=search&fm=SEARCH&iid=6ef7b070-cfdd-456f-ae83-e6b8d41841e1.MOBEYBX4XDGTZQJ9.SEARCH&ppt=hp&ppn=homepage&ssid=dka2gxdu0w0000001626964223356&qH=bca18867ca9b1b3c']"
      ]
     },
     "execution_count": 593,
     "metadata": {},
     "output_type": "execute_result"
    }
   ],
   "source": [
    "URLS"
   ]
  },
  {
   "cell_type": "code",
   "execution_count": 570,
   "id": "1ed9dc48-35f1-4ad6-8335-7bd1384f7305",
   "metadata": {},
   "outputs": [
    {
     "data": {
      "text/plain": [
       "24"
      ]
     },
     "execution_count": 570,
     "metadata": {},
     "output_type": "execute_result"
    }
   ],
   "source": [
    "len(URLS)"
   ]
  },
  {
   "cell_type": "code",
   "execution_count": null,
   "id": "399d5cff-75d0-49e4-b4c4-747b7ea31e29",
   "metadata": {},
   "outputs": [],
   "source": []
  },
  {
   "cell_type": "markdown",
   "id": "bb93604d-0791-43da-bc51-6c3dfd19e72c",
   "metadata": {},
   "source": [
    "### Let's scrap the phone's __brand name__ and phone __name__."
   ]
  },
  {
   "cell_type": "raw",
   "id": "221e7c11-ee58-474e-850c-e375291f2c9c",
   "metadata": {},
   "source": [
    "Rams = []\n",
    "for i in URLS:\n",
    "    driver.get(i)\n",
    "    time.sleep(3)\n",
    "    try:\n",
    "        driver.find_element_by_xpath('//button[@class=\"_2KpZ6l _1FH0tX\"]').click()\n",
    "    except NoSuchElementException as e:\n",
    "        print(e)\n",
    "    time.sleep(3)   \n",
    "    try:\n",
    "        ram = driver.find_elements_by_xpath('//table[@class=\"_14cfVK\"]')\n",
    "        Rams.append(ra)\n",
    "    except NoSuchElementException:\n",
    "        Rams.append('-')     \n",
    "        "
   ]
  },
  {
   "cell_type": "code",
   "execution_count": null,
   "id": "37266013-c239-42a3-98df-b17ef765ff62",
   "metadata": {},
   "outputs": [],
   "source": []
  },
  {
   "cell_type": "code",
   "execution_count": null,
   "id": "bb8ca2b7-b4b0-44cb-b1af-7bb17de00b84",
   "metadata": {},
   "outputs": [],
   "source": []
  },
  {
   "cell_type": "code",
   "execution_count": null,
   "id": "02cd323e-2c78-493b-b4f9-3ce5b9c0397d",
   "metadata": {},
   "outputs": [],
   "source": []
  },
  {
   "cell_type": "code",
   "execution_count": null,
   "id": "284c0118-c2aa-4ed7-8804-ac3042607e20",
   "metadata": {},
   "outputs": [],
   "source": []
  },
  {
   "cell_type": "code",
   "execution_count": null,
   "id": "d3566aa7-e141-497b-aae8-6b4ffceef9b9",
   "metadata": {},
   "outputs": [],
   "source": []
  },
  {
   "cell_type": "code",
   "execution_count": null,
   "id": "63cbedbd-0d41-4e54-aa01-e25a3987ada8",
   "metadata": {},
   "outputs": [],
   "source": []
  },
  {
   "cell_type": "markdown",
   "id": "82222266-af5d-4f83-90e3-4e941fc77d3c",
   "metadata": {},
   "source": [
    "### Q6. Write a program to scrap details of all the funding deals for second quarter \n",
    "### (i.e. July 20 – September 20) from trak.in."
   ]
  },
  {
   "cell_type": "code",
   "execution_count": 623,
   "id": "c0166c92-fada-462f-9842-b450b7806fda",
   "metadata": {},
   "outputs": [],
   "source": [
    "## fetching the website\n",
    "url_trak = 'https://trak.in'\n",
    "driver.get(url=url_trak)"
   ]
  },
  {
   "cell_type": "code",
   "execution_count": 625,
   "id": "61eedc1d-8e83-4ba7-bb4b-6a57449e4b7a",
   "metadata": {},
   "outputs": [],
   "source": [
    "driver.find_element_by_xpath('//*[@id=\"menu-item-51510\"]/a').click()"
   ]
  },
  {
   "cell_type": "markdown",
   "id": "c5ad3948-a2f3-4c0c-ad03-05f0ac810dec",
   "metadata": {},
   "source": [
    "### let's scrap the whole table of july 20"
   ]
  },
  {
   "cell_type": "code",
   "execution_count": 645,
   "id": "f957d2eb-6ca0-43d3-9167-d68bdbf32a13",
   "metadata": {},
   "outputs": [],
   "source": [
    "\n",
    "\n",
    "numb = driver.find_elements_by_xpath('//*[@id=\"tablepress-48\"]/tbody/tr/td')\n"
   ]
  },
  {
   "cell_type": "code",
   "execution_count": 650,
   "id": "e8f576a6-a387-42d8-adc2-4b48a5e9607e",
   "metadata": {},
   "outputs": [],
   "source": [
    "table = []\n",
    "for i in numb:\n",
    "    table.append(i.text)"
   ]
  },
  {
   "cell_type": "code",
   "execution_count": 651,
   "id": "e1a783dd-81d5-48c0-939d-6dc1a952f357",
   "metadata": {},
   "outputs": [
    {
     "data": {
      "text/plain": [
       "['1',\n",
       " '15/07/2020',\n",
       " 'Flipkart',\n",
       " 'E-commerce',\n",
       " 'E-commerce',\n",
       " 'Bangalore',\n",
       " 'Walmart Inc',\n",
       " 'M&A',\n",
       " '1,200,000,000',\n",
       " '2',\n",
       " '16/07/2020',\n",
       " 'Vedantu',\n",
       " 'EduTech',\n",
       " 'Online Tutoring',\n",
       " 'Bangalore',\n",
       " 'Coatue Management',\n",
       " 'Series D',\n",
       " '100,000,000',\n",
       " '3',\n",
       " '16/07/2020',\n",
       " 'Crio',\n",
       " 'EduTech',\n",
       " 'Learning Platform for Developers',\n",
       " 'Bangalore',\n",
       " '021 Capital',\n",
       " 'pre-Series A',\n",
       " '934,160',\n",
       " '4',\n",
       " '14/07/2020',\n",
       " 'goDutch',\n",
       " 'FinTech',\n",
       " 'Group Payments',\n",
       " 'Mumbai',\n",
       " 'Matrix India,Y Combinator, Global Founders Capital, Soma Capital, and VentureSouq.',\n",
       " 'Seed',\n",
       " '1,700,000',\n",
       " '5',\n",
       " '13/07/2020',\n",
       " 'Mystifly',\n",
       " 'Airfare Marketplace',\n",
       " 'Ticketing, Airline Retailing, and Post-Ticketing Services',\n",
       " 'Singapore and Bangalore',\n",
       " 'Recruit Co. Ltd.',\n",
       " 'pre-Series B',\n",
       " '3,300,000',\n",
       " '6',\n",
       " '09/07/2020',\n",
       " 'JetSynthesys',\n",
       " 'Gaming and Entertainment',\n",
       " 'Gaming and Entertainment',\n",
       " 'Pune',\n",
       " 'Adar Poonawalla and Kris Gopalakrishnan.',\n",
       " 'Venture-Series Unknown',\n",
       " '400,000',\n",
       " '7',\n",
       " '10/07/2020',\n",
       " 'gigIndia',\n",
       " 'Marketplace',\n",
       " 'Crowd Sourcing, Freelance',\n",
       " 'Pune',\n",
       " 'Incubate Fund India and Beyond Next Ventures',\n",
       " 'pre-Series A',\n",
       " '974,200',\n",
       " '8',\n",
       " '15/07/2020',\n",
       " 'PumPumPum',\n",
       " 'Automotive Rental',\n",
       " 'Used Car-leasing platform',\n",
       " 'Gurgaon',\n",
       " 'Early Adapters Syndicate',\n",
       " 'Seed',\n",
       " '292,800',\n",
       " '9',\n",
       " '14/07/2020',\n",
       " 'FLYX',\n",
       " 'OTT Player',\n",
       " 'Streaming Social Network',\n",
       " 'New York and Delhi',\n",
       " 'Raj Mishra, founder of AIT Global Inc',\n",
       " 'pre-Seed',\n",
       " '200,000',\n",
       " '10',\n",
       " '13/07/2020',\n",
       " 'Open Appliances Pvt. Ltd.',\n",
       " 'Information Technology',\n",
       " 'Internet-of-Things Security Solutions',\n",
       " 'Bangalore',\n",
       " 'Unicorn India Ventures',\n",
       " 'Venture-Series Unknown',\n",
       " '500,000']"
      ]
     },
     "execution_count": 651,
     "metadata": {},
     "output_type": "execute_result"
    }
   ],
   "source": [
    "table"
   ]
  },
  {
   "cell_type": "code",
   "execution_count": 666,
   "id": "8fb2a146-558e-4b90-b03e-5c73ea90777c",
   "metadata": {},
   "outputs": [],
   "source": [
    "# declarations of variables\n",
    "Sr_number = []\n",
    "date = []\n",
    "startup_name = []\n",
    "Indistry_vertical =[]\n",
    "Indistry_sb_vertical =[]\n",
    "City_location = []\n",
    "Inverstor_name =[]\n",
    "Investment = []\n",
    "Amount = []\n",
    "for x in range(0,len(table),9):\n",
    "    Sr_number.append(table[x])\n",
    "    date.append(table[x+1])\n",
    "    startup_name.append(table[x+2])\n",
    "    Indistry_vertical.append(table[x+3])\n",
    "    Indistry_sb_vertical.append(table[x+4])\n",
    "    City_location.append(table[x+5])\n",
    "    Inverstor_name.append(table[x+6])\n",
    "    Investment.append(table[x+7])\n",
    "    Amount.append(table[x+8])\n",
    "    \n",
    "    \n",
    "    \n"
   ]
  },
  {
   "cell_type": "code",
   "execution_count": 676,
   "id": "41c4b763-dc3b-4309-9406-f7343773f850",
   "metadata": {},
   "outputs": [
    {
     "data": {
      "text/plain": [
       "['1', '2', '3', '4', '5', '6', '7', '8', '9', '10']"
      ]
     },
     "execution_count": 676,
     "metadata": {},
     "output_type": "execute_result"
    }
   ],
   "source": [
    "Sr_number"
   ]
  },
  {
   "cell_type": "code",
   "execution_count": 677,
   "id": "1a353001-bc87-41c1-949b-e457e4442e97",
   "metadata": {},
   "outputs": [
    {
     "data": {
      "text/plain": [
       "['15/07/2020',\n",
       " '16/07/2020',\n",
       " '16/07/2020',\n",
       " '14/07/2020',\n",
       " '13/07/2020',\n",
       " '09/07/2020',\n",
       " '10/07/2020',\n",
       " '15/07/2020',\n",
       " '14/07/2020',\n",
       " '13/07/2020']"
      ]
     },
     "execution_count": 677,
     "metadata": {},
     "output_type": "execute_result"
    }
   ],
   "source": [
    "date"
   ]
  },
  {
   "cell_type": "code",
   "execution_count": 678,
   "id": "cf6de56b-128b-4667-9c8a-91139dd9471b",
   "metadata": {},
   "outputs": [
    {
     "data": {
      "text/plain": [
       "['Flipkart',\n",
       " 'Vedantu',\n",
       " 'Crio',\n",
       " 'goDutch',\n",
       " 'Mystifly',\n",
       " 'JetSynthesys',\n",
       " 'gigIndia',\n",
       " 'PumPumPum',\n",
       " 'FLYX',\n",
       " 'Open Appliances Pvt. Ltd.']"
      ]
     },
     "execution_count": 678,
     "metadata": {},
     "output_type": "execute_result"
    }
   ],
   "source": [
    "startup_name"
   ]
  },
  {
   "cell_type": "code",
   "execution_count": 679,
   "id": "aaccd083-6aa8-4c16-8ac2-7a74329ad710",
   "metadata": {},
   "outputs": [
    {
     "data": {
      "text/plain": [
       "['E-commerce',\n",
       " 'EduTech',\n",
       " 'EduTech',\n",
       " 'FinTech',\n",
       " 'Airfare Marketplace',\n",
       " 'Gaming and Entertainment',\n",
       " 'Marketplace',\n",
       " 'Automotive Rental',\n",
       " 'OTT Player',\n",
       " 'Information Technology']"
      ]
     },
     "execution_count": 679,
     "metadata": {},
     "output_type": "execute_result"
    }
   ],
   "source": [
    "Indistry_vertical"
   ]
  },
  {
   "cell_type": "code",
   "execution_count": 680,
   "id": "1780e829-54a9-4cbd-ad3a-0aea014582f3",
   "metadata": {},
   "outputs": [
    {
     "data": {
      "text/plain": [
       "['E-commerce',\n",
       " 'Online Tutoring',\n",
       " 'Learning Platform for Developers',\n",
       " 'Group Payments',\n",
       " 'Ticketing, Airline Retailing, and Post-Ticketing Services',\n",
       " 'Gaming and Entertainment',\n",
       " 'Crowd Sourcing, Freelance',\n",
       " 'Used Car-leasing platform',\n",
       " 'Streaming Social Network',\n",
       " 'Internet-of-Things Security Solutions']"
      ]
     },
     "execution_count": 680,
     "metadata": {},
     "output_type": "execute_result"
    }
   ],
   "source": [
    "Indistry_sb_vertical"
   ]
  },
  {
   "cell_type": "code",
   "execution_count": 681,
   "id": "3c30bbda-2d54-45ad-809e-7930d1eeb498",
   "metadata": {},
   "outputs": [
    {
     "data": {
      "text/plain": [
       "['Bangalore',\n",
       " 'Bangalore',\n",
       " 'Bangalore',\n",
       " 'Mumbai',\n",
       " 'Singapore and Bangalore',\n",
       " 'Pune',\n",
       " 'Pune',\n",
       " 'Gurgaon',\n",
       " 'New York and Delhi',\n",
       " 'Bangalore']"
      ]
     },
     "execution_count": 681,
     "metadata": {},
     "output_type": "execute_result"
    }
   ],
   "source": [
    "City_location"
   ]
  },
  {
   "cell_type": "code",
   "execution_count": 682,
   "id": "4d015b77-9de7-4d3a-8e5c-d0e051cbaee0",
   "metadata": {},
   "outputs": [
    {
     "data": {
      "text/plain": [
       "['Walmart Inc',\n",
       " 'Coatue Management',\n",
       " '021 Capital',\n",
       " 'Matrix India,Y Combinator, Global Founders Capital, Soma Capital, and VentureSouq.',\n",
       " 'Recruit Co. Ltd.',\n",
       " 'Adar Poonawalla and Kris Gopalakrishnan.',\n",
       " 'Incubate Fund India and Beyond Next Ventures',\n",
       " 'Early Adapters Syndicate',\n",
       " 'Raj Mishra, founder of AIT Global Inc',\n",
       " 'Unicorn India Ventures']"
      ]
     },
     "execution_count": 682,
     "metadata": {},
     "output_type": "execute_result"
    }
   ],
   "source": [
    "Inverstor_name"
   ]
  },
  {
   "cell_type": "code",
   "execution_count": 683,
   "id": "2dc44fd8-95aa-400e-862c-2b78fca91926",
   "metadata": {},
   "outputs": [
    {
     "data": {
      "text/plain": [
       "['M&A',\n",
       " 'Series D',\n",
       " 'pre-Series A',\n",
       " 'Seed',\n",
       " 'pre-Series B',\n",
       " 'Venture-Series Unknown',\n",
       " 'pre-Series A',\n",
       " 'Seed',\n",
       " 'pre-Seed',\n",
       " 'Venture-Series Unknown']"
      ]
     },
     "execution_count": 683,
     "metadata": {},
     "output_type": "execute_result"
    }
   ],
   "source": [
    "Investment"
   ]
  },
  {
   "cell_type": "code",
   "execution_count": 675,
   "id": "8a71082e-3d29-40fd-812f-909fae0b8e92",
   "metadata": {},
   "outputs": [
    {
     "data": {
      "text/plain": [
       "['1,200,000,000',\n",
       " '100,000,000',\n",
       " '934,160',\n",
       " '1,700,000',\n",
       " '3,300,000',\n",
       " '400,000',\n",
       " '974,200',\n",
       " '292,800',\n",
       " '200,000',\n",
       " '500,000']"
      ]
     },
     "execution_count": 675,
     "metadata": {},
     "output_type": "execute_result"
    }
   ],
   "source": [
    "Amount"
   ]
  },
  {
   "cell_type": "code",
   "execution_count": null,
   "id": "39020e31-adb4-411a-98b5-0b102e7da6a0",
   "metadata": {},
   "outputs": [],
   "source": []
  },
  {
   "cell_type": "markdown",
   "id": "c2143b37-0efa-484d-939d-04c6cb918271",
   "metadata": {},
   "source": [
    "### Let's scrap the whole table of August 2020 and September 2020"
   ]
  },
  {
   "cell_type": "code",
   "execution_count": null,
   "id": "0b7787c4-a89f-4f1a-9523-77463cec503f",
   "metadata": {},
   "outputs": [],
   "source": []
  },
  {
   "cell_type": "code",
   "execution_count": 686,
   "id": "04a9c66e-4b9b-4594-8529-3d3197ed5e2b",
   "metadata": {},
   "outputs": [],
   "source": [
    "data_Aug20 = driver.find_elements_by_xpath('//*[@id=\"tablepress-49\"]/tbody/tr/td')\n"
   ]
  },
  {
   "cell_type": "code",
   "execution_count": 687,
   "id": "3645a38e-88bc-48b6-8f10-142b669ef546",
   "metadata": {},
   "outputs": [],
   "source": [
    "data_Sept20 = driver.find_elements_by_xpath('//*[@id=\"tablepress-50\"]/tbody/tr/td')"
   ]
  },
  {
   "cell_type": "code",
   "execution_count": 688,
   "id": "82de033c-0648-48c7-aa7f-08979c403186",
   "metadata": {},
   "outputs": [],
   "source": [
    "AUG = []\n",
    "for x in data_Aug20:\n",
    "    AUG.append(x.text)"
   ]
  },
  {
   "cell_type": "code",
   "execution_count": 689,
   "id": "83abceab-4f3e-4815-a003-1e0063afe51f",
   "metadata": {},
   "outputs": [
    {
     "data": {
      "text/plain": [
       "['1',\n",
       " '15/08/2020',\n",
       " 'Practo',\n",
       " 'HealthTech',\n",
       " 'Health care and Wellness',\n",
       " 'Bangalore',\n",
       " 'A1A Company',\n",
       " 'Series F',\n",
       " '32,000,000',\n",
       " '2',\n",
       " '13/08/2020',\n",
       " 'Medlife',\n",
       " 'E-commerce',\n",
       " 'Online Pharmacy',\n",
       " 'Bangalore',\n",
       " 'Prasid Uno Family Trust and SC Credit Fund',\n",
       " '',\n",
       " '23,000,000',\n",
       " '3',\n",
       " '13/08/2020',\n",
       " 'HungerBox',\n",
       " 'FoodTech',\n",
       " 'Online Food Delivery Service',\n",
       " 'Bangalore',\n",
       " 'One97, Sabre Partners Trust, Pratithi Investment Trust, and Srihari Kumar',\n",
       " 'Series D1',\n",
       " '1,560,000',\n",
       " '4',\n",
       " '04/08/2020',\n",
       " 'Dunzo',\n",
       " 'Hyper-local Logistics',\n",
       " 'Online Delivery Services',\n",
       " 'Bangalore',\n",
       " 'Existing Backers',\n",
       " 'In Progress',\n",
       " '30,000,000',\n",
       " '5',\n",
       " '11/08/2020',\n",
       " 'Terra.do',\n",
       " 'EduTech',\n",
       " 'Online Climate School, E-learning',\n",
       " 'Stanford, California,',\n",
       " 'Stanford Angels and Entrepreneurs (India), BEENEXT Emerging Asia, Rainmatter Capital',\n",
       " 'Seed',\n",
       " '1,400,000',\n",
       " '6',\n",
       " '12/08/2020',\n",
       " 'Classplus',\n",
       " 'EduTech',\n",
       " 'E-learning, Online Tutoring',\n",
       " 'Noida',\n",
       " 'Falcon Edge',\n",
       " 'In Progress',\n",
       " 'upto 15,000,000',\n",
       " '7',\n",
       " '14/08/2020',\n",
       " 'Niyo',\n",
       " 'FinTech',\n",
       " 'Financial Services',\n",
       " 'Bangalore',\n",
       " 'Niyo Solutions Inc.',\n",
       " '',\n",
       " '6,000,000',\n",
       " '8',\n",
       " '10/08/2020',\n",
       " 'ZestMoney',\n",
       " 'FinTech',\n",
       " 'Financial Services',\n",
       " 'Bangalore',\n",
       " 'Primrose Hills Ventures',\n",
       " '',\n",
       " '10,670,000',\n",
       " '9',\n",
       " '07/08/2020',\n",
       " 'FreshToHome',\n",
       " 'E-commerce',\n",
       " 'Food Delivery',\n",
       " 'Bangalore',\n",
       " 'Ascent Capital',\n",
       " 'Venture',\n",
       " '16,200,000',\n",
       " '10',\n",
       " '13/08/2020',\n",
       " 'Eduvanz',\n",
       " 'FinTech',\n",
       " 'Financial Services',\n",
       " 'Mumbai',\n",
       " 'Sequoia India, Unitus',\n",
       " 'Series A',\n",
       " '5,000,000']"
      ]
     },
     "execution_count": 689,
     "metadata": {},
     "output_type": "execute_result"
    }
   ],
   "source": [
    "AUG"
   ]
  },
  {
   "cell_type": "code",
   "execution_count": 690,
   "id": "f841e52e-12fa-4e14-b449-398f185511bb",
   "metadata": {},
   "outputs": [],
   "source": [
    "SEPT = []\n",
    "for x in data_Sept20:\n",
    "    SEPT.append(x.text)"
   ]
  },
  {
   "cell_type": "code",
   "execution_count": 691,
   "id": "f9e61973-0827-4c96-8c9c-6c4bed3165ad",
   "metadata": {},
   "outputs": [
    {
     "data": {
      "text/plain": [
       "['1',\n",
       " '08/09/2020',\n",
       " 'Byju’s',\n",
       " 'EduTech',\n",
       " 'Online Tutoring',\n",
       " 'Bangalore',\n",
       " 'Silver Lake, Tiger Global, General Atlantic and Owl Ventures',\n",
       " 'Private Equity',\n",
       " '500,000,000',\n",
       " '2',\n",
       " '12/09/2020',\n",
       " 'mCaffeine',\n",
       " 'Personal Care',\n",
       " 'Skincare & Haircare',\n",
       " 'Mumbai',\n",
       " 'Amicus Capital Private Equity I LLP, Amicus Capital Partners India Fund I and RP-SG Venture Fund 1',\n",
       " 'Series B',\n",
       " '3,000,000',\n",
       " '3',\n",
       " '09/09/2020',\n",
       " 'Qshala',\n",
       " 'EduTech',\n",
       " 'Online Curiosity Platform for Kids',\n",
       " 'Bangalore',\n",
       " 'Rainmatter Capital',\n",
       " 'Angel',\n",
       " '370,000',\n",
       " '4',\n",
       " '02/09/2020',\n",
       " 'Winzo',\n",
       " 'Online Gaming',\n",
       " 'Online Gaming',\n",
       " 'New Delhi',\n",
       " 'Kalaari Capital Partners, IndigoEdge Management Consultancy',\n",
       " 'Series B',\n",
       " '15,500,000',\n",
       " '5',\n",
       " '09/09/2020',\n",
       " 'Hippo Video',\n",
       " 'Video Customer Experience(CX) Platform',\n",
       " 'Video Customer Experience(CX) Platform',\n",
       " 'Newark, Delaware, United States of Amercia',\n",
       " 'Alpha Wave Incubation, Exfinity Venture Partners and existing backers.',\n",
       " 'Series A',\n",
       " '4,500,000',\n",
       " '6',\n",
       " '07/09/2020',\n",
       " 'Melorra',\n",
       " 'E-commerce',\n",
       " 'Online Jewelry Store',\n",
       " 'Bangalore',\n",
       " 'Shadow Holdings, Lightbox.',\n",
       " 'Debt Financing',\n",
       " 'upto 8,900,000',\n",
       " '7',\n",
       " '07/09/2020',\n",
       " '1mg',\n",
       " 'E-commerce',\n",
       " 'Online Pharmacy',\n",
       " 'Gurgaon',\n",
       " 'Gaja Capital, Tata Capital, Partners Group',\n",
       " 'In Progress',\n",
       " '100,000,000',\n",
       " '8',\n",
       " '31/08/2020',\n",
       " 'mfine',\n",
       " 'HealthTech',\n",
       " 'On-Demand Healthcare Services',\n",
       " 'Bangalore',\n",
       " 'Caretech Pte Inc',\n",
       " 'Series B',\n",
       " '5,400,000',\n",
       " '9',\n",
       " '31/08/2020',\n",
       " 'Apna',\n",
       " 'Human Resources',\n",
       " 'Recruitment Platform',\n",
       " 'Bangalore',\n",
       " 'Lightspeed India and Sequoia Capital India',\n",
       " 'Series A',\n",
       " '8,000,000',\n",
       " '10',\n",
       " '03/09/2020',\n",
       " 'Railofy',\n",
       " 'Transportation',\n",
       " 'WL & RAC protection platform',\n",
       " 'Mumbai',\n",
       " 'Chiratae Ventures',\n",
       " 'Seed',\n",
       " '950,000']"
      ]
     },
     "execution_count": 691,
     "metadata": {},
     "output_type": "execute_result"
    }
   ],
   "source": [
    "SEPT"
   ]
  },
  {
   "cell_type": "markdown",
   "id": "c0ac8216-6a76-4dcf-b6ca-37c8dfcffd06",
   "metadata": {},
   "source": [
    "### Now the concatinate the both arrays before separate into defferent variable like the first."
   ]
  },
  {
   "cell_type": "code",
   "execution_count": 698,
   "id": "e7b55ffd-6567-461b-8f75-060ebcef53e7",
   "metadata": {},
   "outputs": [],
   "source": [
    "TABLE = AUG + SEPT"
   ]
  },
  {
   "cell_type": "code",
   "execution_count": 699,
   "id": "4df89466-bdcd-4254-a042-8543b434783c",
   "metadata": {},
   "outputs": [
    {
     "data": {
      "text/plain": [
       "['1',\n",
       " '15/08/2020',\n",
       " 'Practo',\n",
       " 'HealthTech',\n",
       " 'Health care and Wellness',\n",
       " 'Bangalore',\n",
       " 'A1A Company',\n",
       " 'Series F',\n",
       " '32,000,000',\n",
       " '2',\n",
       " '13/08/2020',\n",
       " 'Medlife',\n",
       " 'E-commerce',\n",
       " 'Online Pharmacy',\n",
       " 'Bangalore',\n",
       " 'Prasid Uno Family Trust and SC Credit Fund',\n",
       " '',\n",
       " '23,000,000',\n",
       " '3',\n",
       " '13/08/2020',\n",
       " 'HungerBox',\n",
       " 'FoodTech',\n",
       " 'Online Food Delivery Service',\n",
       " 'Bangalore',\n",
       " 'One97, Sabre Partners Trust, Pratithi Investment Trust, and Srihari Kumar',\n",
       " 'Series D1',\n",
       " '1,560,000',\n",
       " '4',\n",
       " '04/08/2020',\n",
       " 'Dunzo',\n",
       " 'Hyper-local Logistics',\n",
       " 'Online Delivery Services',\n",
       " 'Bangalore',\n",
       " 'Existing Backers',\n",
       " 'In Progress',\n",
       " '30,000,000',\n",
       " '5',\n",
       " '11/08/2020',\n",
       " 'Terra.do',\n",
       " 'EduTech',\n",
       " 'Online Climate School, E-learning',\n",
       " 'Stanford, California,',\n",
       " 'Stanford Angels and Entrepreneurs (India), BEENEXT Emerging Asia, Rainmatter Capital',\n",
       " 'Seed',\n",
       " '1,400,000',\n",
       " '6',\n",
       " '12/08/2020',\n",
       " 'Classplus',\n",
       " 'EduTech',\n",
       " 'E-learning, Online Tutoring',\n",
       " 'Noida',\n",
       " 'Falcon Edge',\n",
       " 'In Progress',\n",
       " 'upto 15,000,000',\n",
       " '7',\n",
       " '14/08/2020',\n",
       " 'Niyo',\n",
       " 'FinTech',\n",
       " 'Financial Services',\n",
       " 'Bangalore',\n",
       " 'Niyo Solutions Inc.',\n",
       " '',\n",
       " '6,000,000',\n",
       " '8',\n",
       " '10/08/2020',\n",
       " 'ZestMoney',\n",
       " 'FinTech',\n",
       " 'Financial Services',\n",
       " 'Bangalore',\n",
       " 'Primrose Hills Ventures',\n",
       " '',\n",
       " '10,670,000',\n",
       " '9',\n",
       " '07/08/2020',\n",
       " 'FreshToHome',\n",
       " 'E-commerce',\n",
       " 'Food Delivery',\n",
       " 'Bangalore',\n",
       " 'Ascent Capital',\n",
       " 'Venture',\n",
       " '16,200,000',\n",
       " '10',\n",
       " '13/08/2020',\n",
       " 'Eduvanz',\n",
       " 'FinTech',\n",
       " 'Financial Services',\n",
       " 'Mumbai',\n",
       " 'Sequoia India, Unitus',\n",
       " 'Series A',\n",
       " '5,000,000',\n",
       " '1',\n",
       " '08/09/2020',\n",
       " 'Byju’s',\n",
       " 'EduTech',\n",
       " 'Online Tutoring',\n",
       " 'Bangalore',\n",
       " 'Silver Lake, Tiger Global, General Atlantic and Owl Ventures',\n",
       " 'Private Equity',\n",
       " '500,000,000',\n",
       " '2',\n",
       " '12/09/2020',\n",
       " 'mCaffeine',\n",
       " 'Personal Care',\n",
       " 'Skincare & Haircare',\n",
       " 'Mumbai',\n",
       " 'Amicus Capital Private Equity I LLP, Amicus Capital Partners India Fund I and RP-SG Venture Fund 1',\n",
       " 'Series B',\n",
       " '3,000,000',\n",
       " '3',\n",
       " '09/09/2020',\n",
       " 'Qshala',\n",
       " 'EduTech',\n",
       " 'Online Curiosity Platform for Kids',\n",
       " 'Bangalore',\n",
       " 'Rainmatter Capital',\n",
       " 'Angel',\n",
       " '370,000',\n",
       " '4',\n",
       " '02/09/2020',\n",
       " 'Winzo',\n",
       " 'Online Gaming',\n",
       " 'Online Gaming',\n",
       " 'New Delhi',\n",
       " 'Kalaari Capital Partners, IndigoEdge Management Consultancy',\n",
       " 'Series B',\n",
       " '15,500,000',\n",
       " '5',\n",
       " '09/09/2020',\n",
       " 'Hippo Video',\n",
       " 'Video Customer Experience(CX) Platform',\n",
       " 'Video Customer Experience(CX) Platform',\n",
       " 'Newark, Delaware, United States of Amercia',\n",
       " 'Alpha Wave Incubation, Exfinity Venture Partners and existing backers.',\n",
       " 'Series A',\n",
       " '4,500,000',\n",
       " '6',\n",
       " '07/09/2020',\n",
       " 'Melorra',\n",
       " 'E-commerce',\n",
       " 'Online Jewelry Store',\n",
       " 'Bangalore',\n",
       " 'Shadow Holdings, Lightbox.',\n",
       " 'Debt Financing',\n",
       " 'upto 8,900,000',\n",
       " '7',\n",
       " '07/09/2020',\n",
       " '1mg',\n",
       " 'E-commerce',\n",
       " 'Online Pharmacy',\n",
       " 'Gurgaon',\n",
       " 'Gaja Capital, Tata Capital, Partners Group',\n",
       " 'In Progress',\n",
       " '100,000,000',\n",
       " '8',\n",
       " '31/08/2020',\n",
       " 'mfine',\n",
       " 'HealthTech',\n",
       " 'On-Demand Healthcare Services',\n",
       " 'Bangalore',\n",
       " 'Caretech Pte Inc',\n",
       " 'Series B',\n",
       " '5,400,000',\n",
       " '9',\n",
       " '31/08/2020',\n",
       " 'Apna',\n",
       " 'Human Resources',\n",
       " 'Recruitment Platform',\n",
       " 'Bangalore',\n",
       " 'Lightspeed India and Sequoia Capital India',\n",
       " 'Series A',\n",
       " '8,000,000',\n",
       " '10',\n",
       " '03/09/2020',\n",
       " 'Railofy',\n",
       " 'Transportation',\n",
       " 'WL & RAC protection platform',\n",
       " 'Mumbai',\n",
       " 'Chiratae Ventures',\n",
       " 'Seed',\n",
       " '950,000']"
      ]
     },
     "execution_count": 699,
     "metadata": {},
     "output_type": "execute_result"
    }
   ],
   "source": [
    "TABLE"
   ]
  },
  {
   "cell_type": "markdown",
   "id": "a079b6e4-66ac-4169-8d5b-044409e77022",
   "metadata": {},
   "source": [
    "## Now let's seperate them like the first one."
   ]
  },
  {
   "cell_type": "code",
   "execution_count": 700,
   "id": "1ff938c5-3e80-47e4-b254-72e471c0e4a4",
   "metadata": {},
   "outputs": [],
   "source": [
    "\n",
    "for x in range(0,len(TABLE),9):\n",
    "    Sr_number.append(TABLE[x])\n",
    "    date.append(TABLE[x+1])\n",
    "    startup_name.append(TABLE[x+2])\n",
    "    Indistry_vertical.append(TABLE[x+3])\n",
    "    Indistry_sb_vertical.append(TABLE[x+4])\n",
    "    City_location.append(TABLE[x+5])\n",
    "    Inverstor_name.append(TABLE[x+6])\n",
    "    Investment.append(TABLE[x+7])\n",
    "    Amount.append(TABLE[x+8])"
   ]
  },
  {
   "cell_type": "code",
   "execution_count": 701,
   "id": "12f15d07-fdeb-4aa7-95ef-0def0b3fe47b",
   "metadata": {},
   "outputs": [
    {
     "data": {
      "text/plain": [
       "['1',\n",
       " '2',\n",
       " '3',\n",
       " '4',\n",
       " '5',\n",
       " '6',\n",
       " '7',\n",
       " '8',\n",
       " '9',\n",
       " '10',\n",
       " '1',\n",
       " '2',\n",
       " '3',\n",
       " '4',\n",
       " '5',\n",
       " '6',\n",
       " '7',\n",
       " '8',\n",
       " '9',\n",
       " '10',\n",
       " '1',\n",
       " '2',\n",
       " '3',\n",
       " '4',\n",
       " '5',\n",
       " '6',\n",
       " '7',\n",
       " '8',\n",
       " '9',\n",
       " '10']"
      ]
     },
     "execution_count": 701,
     "metadata": {},
     "output_type": "execute_result"
    }
   ],
   "source": [
    "Sr_number"
   ]
  },
  {
   "cell_type": "code",
   "execution_count": 703,
   "id": "79153a7f-5967-48e9-9b52-08b53bb0b2d3",
   "metadata": {},
   "outputs": [
    {
     "data": {
      "text/plain": [
       "30"
      ]
     },
     "execution_count": 703,
     "metadata": {},
     "output_type": "execute_result"
    }
   ],
   "source": [
    "len(Sr_number)"
   ]
  },
  {
   "cell_type": "markdown",
   "id": "0ba26153-6df5-42b0-bcea-792add82fd0a",
   "metadata": {},
   "source": [
    "### Now make a data frame with these details."
   ]
  },
  {
   "cell_type": "code",
   "execution_count": 706,
   "id": "def9c652-3b96-48c5-ae9a-a9d45c0d30ad",
   "metadata": {},
   "outputs": [],
   "source": [
    "Deals_data = pd.DataFrame({})"
   ]
  },
  {
   "cell_type": "code",
   "execution_count": 707,
   "id": "8545c404-b761-4810-bf79-0e2fdfd876e4",
   "metadata": {},
   "outputs": [],
   "source": [
    "Deals_data['Sr.No'] = Sr_number\n",
    "Deals_data['Deal_Date'] = date \n",
    "Deals_data['Startup_Name'] =startup_name\n",
    "Deals_data['Indistry_Vertical'] = Indistry_vertical\n",
    "Deals_data['Indistry_Sub_Vertical'] =Indistry_sb_vertical\n",
    "Deals_data['City_location'] =City_location \n",
    "Deals_data['Inverstor_Name'] = Inverstor_name\n",
    "Deals_data['Investment'] = Investment\n",
    "Deals_data['Amount'] = Amount"
   ]
  },
  {
   "cell_type": "code",
   "execution_count": 708,
   "id": "d5579b61-8a13-4d93-bbb4-6c084f7c765d",
   "metadata": {},
   "outputs": [
    {
     "data": {
      "text/html": [
       "<div>\n",
       "<style scoped>\n",
       "    .dataframe tbody tr th:only-of-type {\n",
       "        vertical-align: middle;\n",
       "    }\n",
       "\n",
       "    .dataframe tbody tr th {\n",
       "        vertical-align: top;\n",
       "    }\n",
       "\n",
       "    .dataframe thead th {\n",
       "        text-align: right;\n",
       "    }\n",
       "</style>\n",
       "<table border=\"1\" class=\"dataframe\">\n",
       "  <thead>\n",
       "    <tr style=\"text-align: right;\">\n",
       "      <th></th>\n",
       "      <th>Sr.No</th>\n",
       "      <th>Deal_Date</th>\n",
       "      <th>Startup_Name</th>\n",
       "      <th>Indistry_Vertical</th>\n",
       "      <th>Indistry_Sub_Vertical</th>\n",
       "      <th>City_location</th>\n",
       "      <th>Inverstor_Name</th>\n",
       "      <th>Investment</th>\n",
       "      <th>Amount</th>\n",
       "    </tr>\n",
       "  </thead>\n",
       "  <tbody>\n",
       "    <tr>\n",
       "      <th>0</th>\n",
       "      <td>1</td>\n",
       "      <td>15/07/2020</td>\n",
       "      <td>Flipkart</td>\n",
       "      <td>E-commerce</td>\n",
       "      <td>E-commerce</td>\n",
       "      <td>Bangalore</td>\n",
       "      <td>Walmart Inc</td>\n",
       "      <td>M&amp;A</td>\n",
       "      <td>1,200,000,000</td>\n",
       "    </tr>\n",
       "    <tr>\n",
       "      <th>1</th>\n",
       "      <td>2</td>\n",
       "      <td>16/07/2020</td>\n",
       "      <td>Vedantu</td>\n",
       "      <td>EduTech</td>\n",
       "      <td>Online Tutoring</td>\n",
       "      <td>Bangalore</td>\n",
       "      <td>Coatue Management</td>\n",
       "      <td>Series D</td>\n",
       "      <td>100,000,000</td>\n",
       "    </tr>\n",
       "    <tr>\n",
       "      <th>2</th>\n",
       "      <td>3</td>\n",
       "      <td>16/07/2020</td>\n",
       "      <td>Crio</td>\n",
       "      <td>EduTech</td>\n",
       "      <td>Learning Platform for Developers</td>\n",
       "      <td>Bangalore</td>\n",
       "      <td>021 Capital</td>\n",
       "      <td>pre-Series A</td>\n",
       "      <td>934,160</td>\n",
       "    </tr>\n",
       "    <tr>\n",
       "      <th>3</th>\n",
       "      <td>4</td>\n",
       "      <td>14/07/2020</td>\n",
       "      <td>goDutch</td>\n",
       "      <td>FinTech</td>\n",
       "      <td>Group Payments</td>\n",
       "      <td>Mumbai</td>\n",
       "      <td>Matrix India,Y Combinator, Global Founders Cap...</td>\n",
       "      <td>Seed</td>\n",
       "      <td>1,700,000</td>\n",
       "    </tr>\n",
       "    <tr>\n",
       "      <th>4</th>\n",
       "      <td>5</td>\n",
       "      <td>13/07/2020</td>\n",
       "      <td>Mystifly</td>\n",
       "      <td>Airfare Marketplace</td>\n",
       "      <td>Ticketing, Airline Retailing, and Post-Ticketi...</td>\n",
       "      <td>Singapore and Bangalore</td>\n",
       "      <td>Recruit Co. Ltd.</td>\n",
       "      <td>pre-Series B</td>\n",
       "      <td>3,300,000</td>\n",
       "    </tr>\n",
       "    <tr>\n",
       "      <th>5</th>\n",
       "      <td>6</td>\n",
       "      <td>09/07/2020</td>\n",
       "      <td>JetSynthesys</td>\n",
       "      <td>Gaming and Entertainment</td>\n",
       "      <td>Gaming and Entertainment</td>\n",
       "      <td>Pune</td>\n",
       "      <td>Adar Poonawalla and Kris Gopalakrishnan.</td>\n",
       "      <td>Venture-Series Unknown</td>\n",
       "      <td>400,000</td>\n",
       "    </tr>\n",
       "    <tr>\n",
       "      <th>6</th>\n",
       "      <td>7</td>\n",
       "      <td>10/07/2020</td>\n",
       "      <td>gigIndia</td>\n",
       "      <td>Marketplace</td>\n",
       "      <td>Crowd Sourcing, Freelance</td>\n",
       "      <td>Pune</td>\n",
       "      <td>Incubate Fund India and Beyond Next Ventures</td>\n",
       "      <td>pre-Series A</td>\n",
       "      <td>974,200</td>\n",
       "    </tr>\n",
       "    <tr>\n",
       "      <th>7</th>\n",
       "      <td>8</td>\n",
       "      <td>15/07/2020</td>\n",
       "      <td>PumPumPum</td>\n",
       "      <td>Automotive Rental</td>\n",
       "      <td>Used Car-leasing platform</td>\n",
       "      <td>Gurgaon</td>\n",
       "      <td>Early Adapters Syndicate</td>\n",
       "      <td>Seed</td>\n",
       "      <td>292,800</td>\n",
       "    </tr>\n",
       "    <tr>\n",
       "      <th>8</th>\n",
       "      <td>9</td>\n",
       "      <td>14/07/2020</td>\n",
       "      <td>FLYX</td>\n",
       "      <td>OTT Player</td>\n",
       "      <td>Streaming Social Network</td>\n",
       "      <td>New York and Delhi</td>\n",
       "      <td>Raj Mishra, founder of AIT Global Inc</td>\n",
       "      <td>pre-Seed</td>\n",
       "      <td>200,000</td>\n",
       "    </tr>\n",
       "    <tr>\n",
       "      <th>9</th>\n",
       "      <td>10</td>\n",
       "      <td>13/07/2020</td>\n",
       "      <td>Open Appliances Pvt. Ltd.</td>\n",
       "      <td>Information Technology</td>\n",
       "      <td>Internet-of-Things Security Solutions</td>\n",
       "      <td>Bangalore</td>\n",
       "      <td>Unicorn India Ventures</td>\n",
       "      <td>Venture-Series Unknown</td>\n",
       "      <td>500,000</td>\n",
       "    </tr>\n",
       "    <tr>\n",
       "      <th>10</th>\n",
       "      <td>1</td>\n",
       "      <td>15/08/2020</td>\n",
       "      <td>Practo</td>\n",
       "      <td>HealthTech</td>\n",
       "      <td>Health care and Wellness</td>\n",
       "      <td>Bangalore</td>\n",
       "      <td>A1A Company</td>\n",
       "      <td>Series F</td>\n",
       "      <td>32,000,000</td>\n",
       "    </tr>\n",
       "    <tr>\n",
       "      <th>11</th>\n",
       "      <td>2</td>\n",
       "      <td>13/08/2020</td>\n",
       "      <td>Medlife</td>\n",
       "      <td>E-commerce</td>\n",
       "      <td>Online Pharmacy</td>\n",
       "      <td>Bangalore</td>\n",
       "      <td>Prasid Uno Family Trust and SC Credit Fund</td>\n",
       "      <td></td>\n",
       "      <td>23,000,000</td>\n",
       "    </tr>\n",
       "    <tr>\n",
       "      <th>12</th>\n",
       "      <td>3</td>\n",
       "      <td>13/08/2020</td>\n",
       "      <td>HungerBox</td>\n",
       "      <td>FoodTech</td>\n",
       "      <td>Online Food Delivery Service</td>\n",
       "      <td>Bangalore</td>\n",
       "      <td>One97, Sabre Partners Trust, Pratithi Investme...</td>\n",
       "      <td>Series D1</td>\n",
       "      <td>1,560,000</td>\n",
       "    </tr>\n",
       "    <tr>\n",
       "      <th>13</th>\n",
       "      <td>4</td>\n",
       "      <td>04/08/2020</td>\n",
       "      <td>Dunzo</td>\n",
       "      <td>Hyper-local Logistics</td>\n",
       "      <td>Online Delivery Services</td>\n",
       "      <td>Bangalore</td>\n",
       "      <td>Existing Backers</td>\n",
       "      <td>In Progress</td>\n",
       "      <td>30,000,000</td>\n",
       "    </tr>\n",
       "    <tr>\n",
       "      <th>14</th>\n",
       "      <td>5</td>\n",
       "      <td>11/08/2020</td>\n",
       "      <td>Terra.do</td>\n",
       "      <td>EduTech</td>\n",
       "      <td>Online Climate School, E-learning</td>\n",
       "      <td>Stanford, California,</td>\n",
       "      <td>Stanford Angels and Entrepreneurs (India), BEE...</td>\n",
       "      <td>Seed</td>\n",
       "      <td>1,400,000</td>\n",
       "    </tr>\n",
       "    <tr>\n",
       "      <th>15</th>\n",
       "      <td>6</td>\n",
       "      <td>12/08/2020</td>\n",
       "      <td>Classplus</td>\n",
       "      <td>EduTech</td>\n",
       "      <td>E-learning, Online Tutoring</td>\n",
       "      <td>Noida</td>\n",
       "      <td>Falcon Edge</td>\n",
       "      <td>In Progress</td>\n",
       "      <td>upto 15,000,000</td>\n",
       "    </tr>\n",
       "    <tr>\n",
       "      <th>16</th>\n",
       "      <td>7</td>\n",
       "      <td>14/08/2020</td>\n",
       "      <td>Niyo</td>\n",
       "      <td>FinTech</td>\n",
       "      <td>Financial Services</td>\n",
       "      <td>Bangalore</td>\n",
       "      <td>Niyo Solutions Inc.</td>\n",
       "      <td></td>\n",
       "      <td>6,000,000</td>\n",
       "    </tr>\n",
       "    <tr>\n",
       "      <th>17</th>\n",
       "      <td>8</td>\n",
       "      <td>10/08/2020</td>\n",
       "      <td>ZestMoney</td>\n",
       "      <td>FinTech</td>\n",
       "      <td>Financial Services</td>\n",
       "      <td>Bangalore</td>\n",
       "      <td>Primrose Hills Ventures</td>\n",
       "      <td></td>\n",
       "      <td>10,670,000</td>\n",
       "    </tr>\n",
       "    <tr>\n",
       "      <th>18</th>\n",
       "      <td>9</td>\n",
       "      <td>07/08/2020</td>\n",
       "      <td>FreshToHome</td>\n",
       "      <td>E-commerce</td>\n",
       "      <td>Food Delivery</td>\n",
       "      <td>Bangalore</td>\n",
       "      <td>Ascent Capital</td>\n",
       "      <td>Venture</td>\n",
       "      <td>16,200,000</td>\n",
       "    </tr>\n",
       "    <tr>\n",
       "      <th>19</th>\n",
       "      <td>10</td>\n",
       "      <td>13/08/2020</td>\n",
       "      <td>Eduvanz</td>\n",
       "      <td>FinTech</td>\n",
       "      <td>Financial Services</td>\n",
       "      <td>Mumbai</td>\n",
       "      <td>Sequoia India, Unitus</td>\n",
       "      <td>Series A</td>\n",
       "      <td>5,000,000</td>\n",
       "    </tr>\n",
       "    <tr>\n",
       "      <th>20</th>\n",
       "      <td>1</td>\n",
       "      <td>08/09/2020</td>\n",
       "      <td>Byju’s</td>\n",
       "      <td>EduTech</td>\n",
       "      <td>Online Tutoring</td>\n",
       "      <td>Bangalore</td>\n",
       "      <td>Silver Lake, Tiger Global, General Atlantic an...</td>\n",
       "      <td>Private Equity</td>\n",
       "      <td>500,000,000</td>\n",
       "    </tr>\n",
       "    <tr>\n",
       "      <th>21</th>\n",
       "      <td>2</td>\n",
       "      <td>12/09/2020</td>\n",
       "      <td>mCaffeine</td>\n",
       "      <td>Personal Care</td>\n",
       "      <td>Skincare &amp; Haircare</td>\n",
       "      <td>Mumbai</td>\n",
       "      <td>Amicus Capital Private Equity I LLP, Amicus Ca...</td>\n",
       "      <td>Series B</td>\n",
       "      <td>3,000,000</td>\n",
       "    </tr>\n",
       "    <tr>\n",
       "      <th>22</th>\n",
       "      <td>3</td>\n",
       "      <td>09/09/2020</td>\n",
       "      <td>Qshala</td>\n",
       "      <td>EduTech</td>\n",
       "      <td>Online Curiosity Platform for Kids</td>\n",
       "      <td>Bangalore</td>\n",
       "      <td>Rainmatter Capital</td>\n",
       "      <td>Angel</td>\n",
       "      <td>370,000</td>\n",
       "    </tr>\n",
       "    <tr>\n",
       "      <th>23</th>\n",
       "      <td>4</td>\n",
       "      <td>02/09/2020</td>\n",
       "      <td>Winzo</td>\n",
       "      <td>Online Gaming</td>\n",
       "      <td>Online Gaming</td>\n",
       "      <td>New Delhi</td>\n",
       "      <td>Kalaari Capital Partners, IndigoEdge Managemen...</td>\n",
       "      <td>Series B</td>\n",
       "      <td>15,500,000</td>\n",
       "    </tr>\n",
       "    <tr>\n",
       "      <th>24</th>\n",
       "      <td>5</td>\n",
       "      <td>09/09/2020</td>\n",
       "      <td>Hippo Video</td>\n",
       "      <td>Video Customer Experience(CX) Platform</td>\n",
       "      <td>Video Customer Experience(CX) Platform</td>\n",
       "      <td>Newark, Delaware, United States of Amercia</td>\n",
       "      <td>Alpha Wave Incubation, Exfinity Venture Partne...</td>\n",
       "      <td>Series A</td>\n",
       "      <td>4,500,000</td>\n",
       "    </tr>\n",
       "    <tr>\n",
       "      <th>25</th>\n",
       "      <td>6</td>\n",
       "      <td>07/09/2020</td>\n",
       "      <td>Melorra</td>\n",
       "      <td>E-commerce</td>\n",
       "      <td>Online Jewelry Store</td>\n",
       "      <td>Bangalore</td>\n",
       "      <td>Shadow Holdings, Lightbox.</td>\n",
       "      <td>Debt Financing</td>\n",
       "      <td>upto 8,900,000</td>\n",
       "    </tr>\n",
       "    <tr>\n",
       "      <th>26</th>\n",
       "      <td>7</td>\n",
       "      <td>07/09/2020</td>\n",
       "      <td>1mg</td>\n",
       "      <td>E-commerce</td>\n",
       "      <td>Online Pharmacy</td>\n",
       "      <td>Gurgaon</td>\n",
       "      <td>Gaja Capital, Tata Capital, Partners Group</td>\n",
       "      <td>In Progress</td>\n",
       "      <td>100,000,000</td>\n",
       "    </tr>\n",
       "    <tr>\n",
       "      <th>27</th>\n",
       "      <td>8</td>\n",
       "      <td>31/08/2020</td>\n",
       "      <td>mfine</td>\n",
       "      <td>HealthTech</td>\n",
       "      <td>On-Demand Healthcare Services</td>\n",
       "      <td>Bangalore</td>\n",
       "      <td>Caretech Pte Inc</td>\n",
       "      <td>Series B</td>\n",
       "      <td>5,400,000</td>\n",
       "    </tr>\n",
       "    <tr>\n",
       "      <th>28</th>\n",
       "      <td>9</td>\n",
       "      <td>31/08/2020</td>\n",
       "      <td>Apna</td>\n",
       "      <td>Human Resources</td>\n",
       "      <td>Recruitment Platform</td>\n",
       "      <td>Bangalore</td>\n",
       "      <td>Lightspeed India and Sequoia Capital India</td>\n",
       "      <td>Series A</td>\n",
       "      <td>8,000,000</td>\n",
       "    </tr>\n",
       "    <tr>\n",
       "      <th>29</th>\n",
       "      <td>10</td>\n",
       "      <td>03/09/2020</td>\n",
       "      <td>Railofy</td>\n",
       "      <td>Transportation</td>\n",
       "      <td>WL &amp; RAC protection platform</td>\n",
       "      <td>Mumbai</td>\n",
       "      <td>Chiratae Ventures</td>\n",
       "      <td>Seed</td>\n",
       "      <td>950,000</td>\n",
       "    </tr>\n",
       "  </tbody>\n",
       "</table>\n",
       "</div>"
      ],
      "text/plain": [
       "   Sr.No   Deal_Date               Startup_Name  \\\n",
       "0      1  15/07/2020                   Flipkart   \n",
       "1      2  16/07/2020                    Vedantu   \n",
       "2      3  16/07/2020                       Crio   \n",
       "3      4  14/07/2020                    goDutch   \n",
       "4      5  13/07/2020                   Mystifly   \n",
       "5      6  09/07/2020               JetSynthesys   \n",
       "6      7  10/07/2020                   gigIndia   \n",
       "7      8  15/07/2020                  PumPumPum   \n",
       "8      9  14/07/2020                       FLYX   \n",
       "9     10  13/07/2020  Open Appliances Pvt. Ltd.   \n",
       "10     1  15/08/2020                     Practo   \n",
       "11     2  13/08/2020                    Medlife   \n",
       "12     3  13/08/2020                  HungerBox   \n",
       "13     4  04/08/2020                      Dunzo   \n",
       "14     5  11/08/2020                   Terra.do   \n",
       "15     6  12/08/2020                  Classplus   \n",
       "16     7  14/08/2020                       Niyo   \n",
       "17     8  10/08/2020                  ZestMoney   \n",
       "18     9  07/08/2020                FreshToHome   \n",
       "19    10  13/08/2020                    Eduvanz   \n",
       "20     1  08/09/2020                     Byju’s   \n",
       "21     2  12/09/2020                  mCaffeine   \n",
       "22     3  09/09/2020                     Qshala   \n",
       "23     4  02/09/2020                      Winzo   \n",
       "24     5  09/09/2020                Hippo Video   \n",
       "25     6  07/09/2020                    Melorra   \n",
       "26     7  07/09/2020                        1mg   \n",
       "27     8  31/08/2020                      mfine   \n",
       "28     9  31/08/2020                       Apna   \n",
       "29    10  03/09/2020                    Railofy   \n",
       "\n",
       "                         Indistry_Vertical  \\\n",
       "0                               E-commerce   \n",
       "1                                  EduTech   \n",
       "2                                  EduTech   \n",
       "3                                  FinTech   \n",
       "4                      Airfare Marketplace   \n",
       "5                 Gaming and Entertainment   \n",
       "6                              Marketplace   \n",
       "7                        Automotive Rental   \n",
       "8                               OTT Player   \n",
       "9                   Information Technology   \n",
       "10                              HealthTech   \n",
       "11                              E-commerce   \n",
       "12                                FoodTech   \n",
       "13                   Hyper-local Logistics   \n",
       "14                                 EduTech   \n",
       "15                                 EduTech   \n",
       "16                                 FinTech   \n",
       "17                                 FinTech   \n",
       "18                              E-commerce   \n",
       "19                                 FinTech   \n",
       "20                                 EduTech   \n",
       "21                           Personal Care   \n",
       "22                                 EduTech   \n",
       "23                           Online Gaming   \n",
       "24  Video Customer Experience(CX) Platform   \n",
       "25                              E-commerce   \n",
       "26                              E-commerce   \n",
       "27                              HealthTech   \n",
       "28                         Human Resources   \n",
       "29                          Transportation   \n",
       "\n",
       "                                Indistry_Sub_Vertical  \\\n",
       "0                                          E-commerce   \n",
       "1                                     Online Tutoring   \n",
       "2                    Learning Platform for Developers   \n",
       "3                                      Group Payments   \n",
       "4   Ticketing, Airline Retailing, and Post-Ticketi...   \n",
       "5                            Gaming and Entertainment   \n",
       "6                           Crowd Sourcing, Freelance   \n",
       "7                           Used Car-leasing platform   \n",
       "8                            Streaming Social Network   \n",
       "9               Internet-of-Things Security Solutions   \n",
       "10                           Health care and Wellness   \n",
       "11                                    Online Pharmacy   \n",
       "12                       Online Food Delivery Service   \n",
       "13                           Online Delivery Services   \n",
       "14                  Online Climate School, E-learning   \n",
       "15                        E-learning, Online Tutoring   \n",
       "16                                 Financial Services   \n",
       "17                                 Financial Services   \n",
       "18                                      Food Delivery   \n",
       "19                                 Financial Services   \n",
       "20                                    Online Tutoring   \n",
       "21                                Skincare & Haircare   \n",
       "22                 Online Curiosity Platform for Kids   \n",
       "23                                      Online Gaming   \n",
       "24             Video Customer Experience(CX) Platform   \n",
       "25                               Online Jewelry Store   \n",
       "26                                    Online Pharmacy   \n",
       "27                      On-Demand Healthcare Services   \n",
       "28                               Recruitment Platform   \n",
       "29                       WL & RAC protection platform   \n",
       "\n",
       "                                 City_location  \\\n",
       "0                                    Bangalore   \n",
       "1                                    Bangalore   \n",
       "2                                    Bangalore   \n",
       "3                                       Mumbai   \n",
       "4                      Singapore and Bangalore   \n",
       "5                                         Pune   \n",
       "6                                         Pune   \n",
       "7                                      Gurgaon   \n",
       "8                           New York and Delhi   \n",
       "9                                    Bangalore   \n",
       "10                                   Bangalore   \n",
       "11                                   Bangalore   \n",
       "12                                   Bangalore   \n",
       "13                                   Bangalore   \n",
       "14                       Stanford, California,   \n",
       "15                                       Noida   \n",
       "16                                   Bangalore   \n",
       "17                                   Bangalore   \n",
       "18                                   Bangalore   \n",
       "19                                      Mumbai   \n",
       "20                                   Bangalore   \n",
       "21                                      Mumbai   \n",
       "22                                   Bangalore   \n",
       "23                                   New Delhi   \n",
       "24  Newark, Delaware, United States of Amercia   \n",
       "25                                   Bangalore   \n",
       "26                                     Gurgaon   \n",
       "27                                   Bangalore   \n",
       "28                                   Bangalore   \n",
       "29                                      Mumbai   \n",
       "\n",
       "                                       Inverstor_Name              Investment  \\\n",
       "0                                         Walmart Inc                     M&A   \n",
       "1                                   Coatue Management                Series D   \n",
       "2                                         021 Capital            pre-Series A   \n",
       "3   Matrix India,Y Combinator, Global Founders Cap...                    Seed   \n",
       "4                                    Recruit Co. Ltd.            pre-Series B   \n",
       "5            Adar Poonawalla and Kris Gopalakrishnan.  Venture-Series Unknown   \n",
       "6        Incubate Fund India and Beyond Next Ventures            pre-Series A   \n",
       "7                            Early Adapters Syndicate                    Seed   \n",
       "8               Raj Mishra, founder of AIT Global Inc                pre-Seed   \n",
       "9                              Unicorn India Ventures  Venture-Series Unknown   \n",
       "10                                        A1A Company                Series F   \n",
       "11         Prasid Uno Family Trust and SC Credit Fund                           \n",
       "12  One97, Sabre Partners Trust, Pratithi Investme...               Series D1   \n",
       "13                                   Existing Backers             In Progress   \n",
       "14  Stanford Angels and Entrepreneurs (India), BEE...                    Seed   \n",
       "15                                        Falcon Edge             In Progress   \n",
       "16                                Niyo Solutions Inc.                           \n",
       "17                            Primrose Hills Ventures                           \n",
       "18                                     Ascent Capital                 Venture   \n",
       "19                              Sequoia India, Unitus                Series A   \n",
       "20  Silver Lake, Tiger Global, General Atlantic an...          Private Equity   \n",
       "21  Amicus Capital Private Equity I LLP, Amicus Ca...                Series B   \n",
       "22                                 Rainmatter Capital                   Angel   \n",
       "23  Kalaari Capital Partners, IndigoEdge Managemen...                Series B   \n",
       "24  Alpha Wave Incubation, Exfinity Venture Partne...                Series A   \n",
       "25                         Shadow Holdings, Lightbox.          Debt Financing   \n",
       "26         Gaja Capital, Tata Capital, Partners Group             In Progress   \n",
       "27                                   Caretech Pte Inc                Series B   \n",
       "28         Lightspeed India and Sequoia Capital India                Series A   \n",
       "29                                  Chiratae Ventures                    Seed   \n",
       "\n",
       "             Amount  \n",
       "0     1,200,000,000  \n",
       "1       100,000,000  \n",
       "2           934,160  \n",
       "3         1,700,000  \n",
       "4         3,300,000  \n",
       "5           400,000  \n",
       "6           974,200  \n",
       "7           292,800  \n",
       "8           200,000  \n",
       "9           500,000  \n",
       "10       32,000,000  \n",
       "11       23,000,000  \n",
       "12        1,560,000  \n",
       "13       30,000,000  \n",
       "14        1,400,000  \n",
       "15  upto 15,000,000  \n",
       "16        6,000,000  \n",
       "17       10,670,000  \n",
       "18       16,200,000  \n",
       "19        5,000,000  \n",
       "20      500,000,000  \n",
       "21        3,000,000  \n",
       "22          370,000  \n",
       "23       15,500,000  \n",
       "24        4,500,000  \n",
       "25   upto 8,900,000  \n",
       "26      100,000,000  \n",
       "27        5,400,000  \n",
       "28        8,000,000  \n",
       "29          950,000  "
      ]
     },
     "execution_count": 708,
     "metadata": {},
     "output_type": "execute_result"
    }
   ],
   "source": [
    "Deals_data "
   ]
  },
  {
   "cell_type": "markdown",
   "id": "70c84228-1cec-404e-a289-9d92394cb9d4",
   "metadata": {},
   "source": [
    "#### ***************************************************\n",
    "#### ***************************************************"
   ]
  },
  {
   "cell_type": "code",
   "execution_count": null,
   "id": "b2a82ae8-3ed2-49f3-bde8-7a355fb20c62",
   "metadata": {},
   "outputs": [],
   "source": []
  },
  {
   "cell_type": "markdown",
   "id": "adf87426-915f-4a5b-a8bc-0303c0396b19",
   "metadata": {},
   "source": [
    "## __7. Write a program to scrap all the available details of best gaming laptops from digit.in.__"
   ]
  },
  {
   "cell_type": "code",
   "execution_count": 950,
   "id": "33147117-d9fc-4707-80f5-fd01b7687881",
   "metadata": {},
   "outputs": [],
   "source": [
    "driver = webdriver.Chrome('/Users/olivierla412/Desktop/chromedriver')"
   ]
  },
  {
   "cell_type": "code",
   "execution_count": 761,
   "id": "78844f0c-fe51-44b4-9c51-6c0a6a66b7a3",
   "metadata": {},
   "outputs": [],
   "source": [
    "\n",
    "from selenium.webdriver.common.keys import Keys"
   ]
  },
  {
   "cell_type": "code",
   "execution_count": 830,
   "id": "b593f164-8955-423d-92d9-046a91f73dc0",
   "metadata": {},
   "outputs": [
    {
     "data": {
      "text/html": [
       "<div>\n",
       "<style scoped>\n",
       "    .dataframe tbody tr th:only-of-type {\n",
       "        vertical-align: middle;\n",
       "    }\n",
       "\n",
       "    .dataframe tbody tr th {\n",
       "        vertical-align: top;\n",
       "    }\n",
       "\n",
       "    .dataframe thead th {\n",
       "        text-align: right;\n",
       "    }\n",
       "</style>\n",
       "<table border=\"1\" class=\"dataframe\">\n",
       "  <thead>\n",
       "    <tr style=\"text-align: right;\">\n",
       "      <th></th>\n",
       "      <th>Labtop_Desc</th>\n",
       "    </tr>\n",
       "  </thead>\n",
       "  <tbody>\n",
       "    <tr>\n",
       "      <th>0</th>\n",
       "      <td>Best Budget Gaming Laptop</td>\n",
       "    </tr>\n",
       "    <tr>\n",
       "      <th>1</th>\n",
       "      <td>Best Gaming Laptops in India</td>\n",
       "    </tr>\n",
       "    <tr>\n",
       "      <th>2</th>\n",
       "      <td>Best Gaming Laptops Under Rs 50,000</td>\n",
       "    </tr>\n",
       "    <tr>\n",
       "      <th>3</th>\n",
       "      <td>Best Budget Laptops for Students</td>\n",
       "    </tr>\n",
       "    <tr>\n",
       "      <th>4</th>\n",
       "      <td>Best Gaming PC in India</td>\n",
       "    </tr>\n",
       "    <tr>\n",
       "      <th>5</th>\n",
       "      <td>Best Laptops Under 50000</td>\n",
       "    </tr>\n",
       "    <tr>\n",
       "      <th>6</th>\n",
       "      <td>Best Laptops Under 30000 in India</td>\n",
       "    </tr>\n",
       "    <tr>\n",
       "      <th>7</th>\n",
       "      <td>Best Budget Laptops in India</td>\n",
       "    </tr>\n",
       "    <tr>\n",
       "      <th>8</th>\n",
       "      <td>Best Touch Screen Laptops</td>\n",
       "    </tr>\n",
       "    <tr>\n",
       "      <th>9</th>\n",
       "      <td>Best 16GB RAM Laptops</td>\n",
       "    </tr>\n",
       "  </tbody>\n",
       "</table>\n",
       "</div>"
      ],
      "text/plain": [
       "                           Labtop_Desc\n",
       "0            Best Budget Gaming Laptop\n",
       "1         Best Gaming Laptops in India\n",
       "2  Best Gaming Laptops Under Rs 50,000\n",
       "3     Best Budget Laptops for Students\n",
       "4              Best Gaming PC in India\n",
       "5             Best Laptops Under 50000\n",
       "6    Best Laptops Under 30000 in India\n",
       "7         Best Budget Laptops in India\n",
       "8            Best Touch Screen Laptops\n",
       "9                Best 16GB RAM Laptops"
      ]
     },
     "execution_count": 830,
     "metadata": {},
     "output_type": "execute_result"
    }
   ],
   "source": [
    "## Fetching the website url\n",
    "url_lab = 'https://digit.in'\n",
    "driver.get(url= url_lab)\n",
    "time.sleep(2)\n",
    "search_area = driver.find_element_by_xpath('/html/body/div[1]/div[2]/div[3]/div[2]')\n",
    "search_area.click()\n",
    "time.sleep(2)\n",
    "input_searchs = driver.find_element_by_xpath('//input[@id=\"globalPageSearchText\"]')\n",
    "input_searchs.send_keys('best gaming laptops')\n",
    "time.sleep(2)\n",
    "input_searchs.send_keys(Keys.ENTER)\n",
    "time.sleep(2)\n",
    "top10_button = driver.find_element_by_xpath('/html/body/div[6]/div[2]/div[1]/div/form/ul/li[5]/label/input')\n",
    "top10_button.click()\n",
    "time.sleep(3)\n",
    "labtop_desc = []\n",
    "desc=driver.find_elements_by_xpath('//div[@class=\"searchProduct-desc\"]')  #for scrapping labtop description\n",
    "for i in desc:\n",
    "    labtop_desc.append(i.text)\n",
    "data = pd.DataFrame({})\n",
    "data['Labtop_Desc'] = labtop_desc\n",
    "data"
   ]
  },
  {
   "cell_type": "markdown",
   "id": "06421219-8f53-4e46-a7d8-b4b86d405cb7",
   "metadata": {},
   "source": [
    "### ***************************************************************\n",
    "### ***************************************************************\n"
   ]
  },
  {
   "cell_type": "markdown",
   "id": "f4882925-33e3-478a-922f-6763d7f3c5bf",
   "metadata": {},
   "source": [
    "## Q8. Write a python program to scrape the details for all billionaires from www.forbes.com.\n",
    "## Details to be scrapped: “Rank”, “Name”, “Net worth”, “Age”, “Citizenship”, “Source”,“Industry”."
   ]
  },
  {
   "cell_type": "code",
   "execution_count": 936,
   "id": "6f6f73c7-e17b-41c9-b99d-a51f176ad155",
   "metadata": {},
   "outputs": [],
   "source": []
  },
  {
   "cell_type": "code",
   "execution_count": 965,
   "id": "470ab31a-140a-4094-97fa-af59440f7870",
   "metadata": {},
   "outputs": [],
   "source": [
    "## fetching the website\n",
    "driver.get('https://www.forbes.com')"
   ]
  },
  {
   "cell_type": "code",
   "execution_count": 967,
   "id": "d715eae4-0b11-45b7-ad47-c7ca26ad93bb",
   "metadata": {},
   "outputs": [],
   "source": [
    "side_bar = driver.find_element_by_xpath('/html/body/div[1]/header/nav/div[1]/button[1]')\n",
    "side_bar.click()\n",
    "time.sleep(2)\n",
    "billionaire = driver.find_element_by_xpath('/html/body/div[1]/header/nav/div[3]/ul/li[1]')\n",
    "billionaire.click()\n",
    "time.sleep(2)\n",
    "## fetching the website\n",
    "world_billionaire = driver.find_element_by_xpath('/html/body/div[1]/header/nav/div[3]/ul/li[1]/div[2]/ul/li[2]/a')\n",
    "main_url = world_billionaire.get_property('href')\n",
    "driver.get(main_url)\n"
   ]
  },
  {
   "cell_type": "code",
   "execution_count": 969,
   "id": "d86c3965-1860-453c-b394-6a40c97583ba",
   "metadata": {},
   "outputs": [],
   "source": [
    "man_div = driver.find_elements_by_xpath('//div[@role=\"row\"]')"
   ]
  },
  {
   "cell_type": "code",
   "execution_count": 977,
   "id": "c0f98646-0d5c-4fec-9d8a-d930383b215e",
   "metadata": {},
   "outputs": [
    {
     "data": {
      "text/plain": [
       "'30.\\nMichael Dell\\n$45.1 B\\n56\\nUnited States\\nDell computers\\nTechnology'"
      ]
     },
     "execution_count": 977,
     "metadata": {},
     "output_type": "execute_result"
    }
   ],
   "source": [
    "## i got all the detail, we can see from the below verification\n",
    "\n",
    "man_div[30].text"
   ]
  },
  {
   "cell_type": "code",
   "execution_count": null,
   "id": "9e3deb49-a7b8-4547-bf7e-f9b39505e374",
   "metadata": {},
   "outputs": [],
   "source": []
  },
  {
   "cell_type": "markdown",
   "id": "fd98c3c1-d4e6-4616-845e-59c52912ae4a",
   "metadata": {},
   "source": [
    "### We Will loop and strings manipulation to clean and arranged it in a table foramt"
   ]
  },
  {
   "cell_type": "code",
   "execution_count": 1033,
   "id": "20f3ba17-235a-4fca-a01c-1e22eb6a0a33",
   "metadata": {},
   "outputs": [],
   "source": [
    "## declaration of empty lists\n",
    "Rank= []\n",
    "Name=[]\n",
    "Net_worth =[]\n",
    "Age =[]\n",
    "Citizenship=[]\n",
    "Source =[]\n",
    "Industry =[]\n",
    "for i in range(1,len(man_div)):\n",
    "    items = man_div[i].text\n",
    "    y= items.split(sep=\"\\n\",maxsplit=6)\n",
    "    \n",
    "    Rank.append(y[0])\n",
    "    Name.append(y[1])\n",
    "    Net_worth.append(y[2])\n",
    "    Age.append(y[3])\n",
    "    Citizenship.append(y[4])\n",
    "    Source.append(y[5])\n",
    "    Industry.append(y[6])\n",
    "    items =''\n",
    "    y =[]\n",
    "\n",
    "data_billionaire = pd.DataFrame({\n",
    "    'Rank':Rank,\n",
    "        'Name':Name,\n",
    "        'Net worth':Net_worth,\n",
    "        'Age':Age,\n",
    "        'Citizenship':Citizenship,\n",
    "        'Source':Source,\n",
    "        'Industry':Industry\n",
    "  })"
   ]
  },
  {
   "cell_type": "code",
   "execution_count": 1034,
   "id": "8005b10d-27ef-453c-a81c-953ab26ba752",
   "metadata": {},
   "outputs": [
    {
     "data": {
      "text/html": [
       "<div>\n",
       "<style scoped>\n",
       "    .dataframe tbody tr th:only-of-type {\n",
       "        vertical-align: middle;\n",
       "    }\n",
       "\n",
       "    .dataframe tbody tr th {\n",
       "        vertical-align: top;\n",
       "    }\n",
       "\n",
       "    .dataframe thead th {\n",
       "        text-align: right;\n",
       "    }\n",
       "</style>\n",
       "<table border=\"1\" class=\"dataframe\">\n",
       "  <thead>\n",
       "    <tr style=\"text-align: right;\">\n",
       "      <th></th>\n",
       "      <th>Rank</th>\n",
       "      <th>Name</th>\n",
       "      <th>Net worth</th>\n",
       "      <th>Age</th>\n",
       "      <th>Citizenship</th>\n",
       "      <th>Source</th>\n",
       "      <th>Industry</th>\n",
       "    </tr>\n",
       "  </thead>\n",
       "  <tbody>\n",
       "    <tr>\n",
       "      <th>0</th>\n",
       "      <td>1.</td>\n",
       "      <td>Jeff Bezos</td>\n",
       "      <td>$177 B</td>\n",
       "      <td>57</td>\n",
       "      <td>United States</td>\n",
       "      <td>Amazon</td>\n",
       "      <td>Technology</td>\n",
       "    </tr>\n",
       "    <tr>\n",
       "      <th>1</th>\n",
       "      <td>2.</td>\n",
       "      <td>Elon Musk</td>\n",
       "      <td>$151 B</td>\n",
       "      <td>49</td>\n",
       "      <td>United States</td>\n",
       "      <td>Tesla, SpaceX</td>\n",
       "      <td>Automotive</td>\n",
       "    </tr>\n",
       "    <tr>\n",
       "      <th>2</th>\n",
       "      <td>3.</td>\n",
       "      <td>Bernard Arnault &amp; family</td>\n",
       "      <td>$150 B</td>\n",
       "      <td>72</td>\n",
       "      <td>France</td>\n",
       "      <td>LVMH</td>\n",
       "      <td>Fashion &amp; Retail</td>\n",
       "    </tr>\n",
       "    <tr>\n",
       "      <th>3</th>\n",
       "      <td>4.</td>\n",
       "      <td>Bill Gates</td>\n",
       "      <td>$124 B</td>\n",
       "      <td>65</td>\n",
       "      <td>United States</td>\n",
       "      <td>Microsoft</td>\n",
       "      <td>Technology</td>\n",
       "    </tr>\n",
       "    <tr>\n",
       "      <th>4</th>\n",
       "      <td>5.</td>\n",
       "      <td>Mark Zuckerberg</td>\n",
       "      <td>$97 B</td>\n",
       "      <td>36</td>\n",
       "      <td>United States</td>\n",
       "      <td>Facebook</td>\n",
       "      <td>Technology</td>\n",
       "    </tr>\n",
       "    <tr>\n",
       "      <th>...</th>\n",
       "      <td>...</td>\n",
       "      <td>...</td>\n",
       "      <td>...</td>\n",
       "      <td>...</td>\n",
       "      <td>...</td>\n",
       "      <td>...</td>\n",
       "      <td>...</td>\n",
       "    </tr>\n",
       "    <tr>\n",
       "      <th>195</th>\n",
       "      <td>195.</td>\n",
       "      <td>Harry Triguboff</td>\n",
       "      <td>$11.2 B</td>\n",
       "      <td>88</td>\n",
       "      <td>Australia</td>\n",
       "      <td>real estate</td>\n",
       "      <td>Real Estate</td>\n",
       "    </tr>\n",
       "    <tr>\n",
       "      <th>196</th>\n",
       "      <td>197.</td>\n",
       "      <td>Leonid Fedun &amp; family</td>\n",
       "      <td>$11.1 B</td>\n",
       "      <td>65</td>\n",
       "      <td>Russia</td>\n",
       "      <td>oil</td>\n",
       "      <td>Energy</td>\n",
       "    </tr>\n",
       "    <tr>\n",
       "      <th>197</th>\n",
       "      <td>197.</td>\n",
       "      <td>Eyal Ofer</td>\n",
       "      <td>$11.1 B</td>\n",
       "      <td>70</td>\n",
       "      <td>Israel</td>\n",
       "      <td>real estate, shipping</td>\n",
       "      <td>Diversified</td>\n",
       "    </tr>\n",
       "    <tr>\n",
       "      <th>198</th>\n",
       "      <td>197.</td>\n",
       "      <td>Evan Spiegel</td>\n",
       "      <td>$11.1 B</td>\n",
       "      <td>30</td>\n",
       "      <td>United States</td>\n",
       "      <td>Snapchat</td>\n",
       "      <td>Technology</td>\n",
       "    </tr>\n",
       "    <tr>\n",
       "      <th>199</th>\n",
       "      <td>200.</td>\n",
       "      <td>Luis Carlos Sarmiento</td>\n",
       "      <td>$11 B</td>\n",
       "      <td>88</td>\n",
       "      <td>Colombia</td>\n",
       "      <td>banking</td>\n",
       "      <td>Finance &amp; Investments</td>\n",
       "    </tr>\n",
       "  </tbody>\n",
       "</table>\n",
       "<p>200 rows × 7 columns</p>\n",
       "</div>"
      ],
      "text/plain": [
       "     Rank                      Name Net worth Age    Citizenship  \\\n",
       "0      1.                Jeff Bezos    $177 B  57  United States   \n",
       "1      2.                 Elon Musk    $151 B  49  United States   \n",
       "2      3.  Bernard Arnault & family    $150 B  72         France   \n",
       "3      4.                Bill Gates    $124 B  65  United States   \n",
       "4      5.           Mark Zuckerberg     $97 B  36  United States   \n",
       "..    ...                       ...       ...  ..            ...   \n",
       "195  195.           Harry Triguboff   $11.2 B  88      Australia   \n",
       "196  197.     Leonid Fedun & family   $11.1 B  65         Russia   \n",
       "197  197.                 Eyal Ofer   $11.1 B  70         Israel   \n",
       "198  197.              Evan Spiegel   $11.1 B  30  United States   \n",
       "199  200.     Luis Carlos Sarmiento     $11 B  88       Colombia   \n",
       "\n",
       "                    Source               Industry  \n",
       "0                   Amazon             Technology  \n",
       "1            Tesla, SpaceX             Automotive  \n",
       "2                     LVMH       Fashion & Retail  \n",
       "3                Microsoft             Technology  \n",
       "4                 Facebook             Technology  \n",
       "..                     ...                    ...  \n",
       "195            real estate            Real Estate  \n",
       "196                    oil                 Energy  \n",
       "197  real estate, shipping            Diversified  \n",
       "198               Snapchat             Technology  \n",
       "199                banking  Finance & Investments  \n",
       "\n",
       "[200 rows x 7 columns]"
      ]
     },
     "execution_count": 1034,
     "metadata": {},
     "output_type": "execute_result"
    }
   ],
   "source": [
    "data_billionaire"
   ]
  },
  {
   "cell_type": "code",
   "execution_count": 1035,
   "id": "d7922f7f-110d-4acb-9d0c-b56a3ae4c4fe",
   "metadata": {},
   "outputs": [],
   "source": [
    "#driver.find_element_by_xpath(\"//option[@value='{}']\".format(str(state))).click()\n",
    "#your_needed_xpath = \"//*[contains(text(), '{}')]\".format(variable)\n",
    "#Syntax: driver.find_element_by_xpath(“//tag [contains( text(), ‘word’)]”)\n"
   ]
  },
  {
   "cell_type": "markdown",
   "id": "089b8d8b-73f7-47a0-9a03-3e171d1793a2",
   "metadata": {},
   "source": [
    "#### *****************************************************\n",
    "#### *****************************************************"
   ]
  },
  {
   "cell_type": "markdown",
   "id": "067e4fe7-496d-489a-9fd3-90e2950a3a6b",
   "metadata": {},
   "source": [
    "## Q9. Write a program to extract at least 500 Comments, \n",
    "## Comment upvote and time when comment was posted from any YouTube Video."
   ]
  },
  {
   "cell_type": "code",
   "execution_count": 1091,
   "id": "433d69ce-f71c-4514-8290-8304c721222c",
   "metadata": {},
   "outputs": [],
   "source": []
  },
  {
   "cell_type": "code",
   "execution_count": 1175,
   "id": "423e48e9-d037-4ecd-9dd5-82af95b8c2c5",
   "metadata": {},
   "outputs": [],
   "source": [
    "from selenium.webdriver.common.keys import Keys\n",
    "import time\n",
    "from selenium.webdriver.support.ui import WebDriverWait\n",
    "from selenium.webdriver.support import expected_conditions as EC\n",
    "from selenium.webdriver.common.by import By\n"
   ]
  },
  {
   "cell_type": "code",
   "execution_count": 1190,
   "id": "17801f4c-973e-4aee-a451-a18577249372",
   "metadata": {},
   "outputs": [],
   "source": [
    "## let's fetch the video link\n",
    "driver.get('https://www.youtube.com/watch?v=9ejnea_VKbg')\n",
    "\n",
    "#end_elem.send_keys(Keys.END)\n",
    "time.sleep(5)\n",
    "driver.find_element_by_tag_name('body').send_keys(Keys.END)\n",
    "delay = 15 # seconds of delay\n",
    "WebDriverWait(driver,delay).until(EC.presence_of_all_elements_located((By.ID,\"comment\")))\n",
    "elements = driver.find_elements_by_id(\"comment\")\n"
   ]
  },
  {
   "cell_type": "code",
   "execution_count": 1165,
   "id": "d670842c-fe32-4270-ad64-553a80a78013",
   "metadata": {},
   "outputs": [],
   "source": [
    "#comments = driver.find_elements_by_id('paid-comment-images')"
   ]
  },
  {
   "cell_type": "code",
   "execution_count": null,
   "id": "648665a3-1452-4b2d-bca7-5e5075e43a25",
   "metadata": {},
   "outputs": [],
   "source": []
  },
  {
   "cell_type": "code",
   "execution_count": null,
   "id": "36a1fbf9-0bd1-40fa-966d-2d527ff073cb",
   "metadata": {},
   "outputs": [],
   "source": []
  },
  {
   "cell_type": "markdown",
   "id": "4a148884-6b15-46db-9d08-30fbfeeeb1a4",
   "metadata": {},
   "source": [
    "### **********************************************************************\n",
    "### **********************************************************************"
   ]
  },
  {
   "cell_type": "markdown",
   "id": "1875a224-ca46-4257-9243-460480166833",
   "metadata": {},
   "source": [
    "## Q10 Write a python program to scrape a data for all available Hostels from\n",
    "## https://www.hostelworld.com/ in “London” location. You have to scrape hostel\n",
    "## name, distance from city centre, ratings, total reviews, overall reviews,\n",
    "## privates from price, dorms from price, facilities and property description."
   ]
  },
  {
   "cell_type": "code",
   "execution_count": 53,
   "id": "f1236c55-ee7d-48dd-86d2-2364119f3848",
   "metadata": {},
   "outputs": [],
   "source": [
    "import pandas as pd\n",
    "import selenium\n",
    "from selenium import webdriver\n",
    "import time\n",
    "from selenium.webdriver.common.by import By\n",
    "from selenium.common.exceptions import StaleElementReferenceException,NoSuchElementException\n"
   ]
  },
  {
   "cell_type": "code",
   "execution_count": 317,
   "id": "eec7c4f5-7852-4311-8757-5cc59f099974",
   "metadata": {},
   "outputs": [],
   "source": [
    "driver.close()"
   ]
  },
  {
   "cell_type": "code",
   "execution_count": 45,
   "id": "db110b2e-c717-4c69-8edd-c4debaafd93a",
   "metadata": {},
   "outputs": [],
   "source": [
    "from selenium.webdriver.common.keys import Keys\n"
   ]
  },
  {
   "cell_type": "code",
   "execution_count": 318,
   "id": "214e7e23-de2f-43c8-b16b-ed8ac73c2f44",
   "metadata": {},
   "outputs": [],
   "source": [
    "driver = webdriver.Chrome('/Users/olivierla412/Desktop/chromedriver')\n"
   ]
  },
  {
   "cell_type": "code",
   "execution_count": 319,
   "id": "f1d35fb6-c737-42cb-83e1-7c65f96a555a",
   "metadata": {},
   "outputs": [],
   "source": [
    "driver.maximize_window()\n",
    "driver.get('https://www.hostelworld.com/')\n",
    "driver.implicitly_wait(5)\n",
    "input_srch = driver.find_element_by_id(\"location-text-input-field\")\n",
    "input_srch.click()\n",
    "driver.find_element(By.ID,\"search-input-field\").send_keys(\"Lon\")\n",
    "london = driver.find_element_by_xpath('/html/body/div[1]/div/div/div[1]/div[1]/div/div[2]/div[4]/div/div[2]/div/div[1]/div/div/ul/li[2]/div')\n",
    "london.click()\n",
    "time.sleep(3)\n",
    "bnt_srch = driver.find_element_by_id(\"search-button\")\n",
    "bnt_srch.click()"
   ]
  },
  {
   "cell_type": "code",
   "execution_count": 320,
   "id": "e1fb52d5-559d-426f-966b-0165489e04ad",
   "metadata": {},
   "outputs": [],
   "source": [
    "## declarating empty list to find the first 3 hostel details\n",
    "\n",
    "hostel_name = []\n",
    "hostel_rating = []\n",
    "private_f_price =[]\n",
    "dorms_f_price = []\n",
    "total_reviews =[]\n",
    "hostelDist = []\n",
    "\n",
    "\n",
    "host_name = driver.find_elements_by_xpath('//h2[@class=\"title body-1\"]')\n",
    "for i in host_name:\n",
    "    hostel_name.append(i.text)\n",
    "    \n",
    "host_rating = driver.find_elements_by_xpath('//div[@class=\"score orange small\"]')\n",
    "for i in host_rating:\n",
    "    hostel_rating.append(i.text)\n",
    "dorm = driver.find_elements_by_xpath('//span[@class=\"price body-1\"]') \n",
    "for i in dorm:\n",
    "    dorms_f_price.append(i.text)\n",
    "private_f_price =['','','']\n",
    "\n",
    "host_dis = driver.find_elements_by_xpath('//div[@class=\"subtitle body-3\"]')\n",
    "for i in host_dis:\n",
    "    hostelDist.append(i.text)\n",
    "    if len(hostelDist) ==3:\n",
    "        break"
   ]
  },
  {
   "cell_type": "code",
   "execution_count": 321,
   "id": "4f2b9fa3-a4c1-4252-9986-530a32eb3e97",
   "metadata": {},
   "outputs": [
    {
     "data": {
      "text/plain": [
       "['Hostel - 3.6km from city centre',\n",
       " 'Hostel - 5.5km from city centre',\n",
       " 'Hostel - 11.9km from city centre']"
      ]
     },
     "execution_count": 321,
     "metadata": {},
     "output_type": "execute_result"
    }
   ],
   "source": [
    "hostelDist"
   ]
  },
  {
   "cell_type": "code",
   "execution_count": 163,
   "id": "6cd4e4b9-edb9-421c-80a9-57e45323bb89",
   "metadata": {},
   "outputs": [
    {
     "data": {
      "text/plain": [
       "[\"Wombat's The City Hostel London\", 'Selina Camden', 'London Backpackers']"
      ]
     },
     "execution_count": 163,
     "metadata": {},
     "output_type": "execute_result"
    }
   ],
   "source": [
    "hostel_name"
   ]
  },
  {
   "cell_type": "code",
   "execution_count": null,
   "id": "a76705bd-0341-4374-8029-98c4314de9f7",
   "metadata": {},
   "outputs": [],
   "source": []
  },
  {
   "cell_type": "code",
   "execution_count": 229,
   "id": "f804d888-f170-4c95-bde5-0de3d8228464",
   "metadata": {},
   "outputs": [
    {
     "data": {
      "text/plain": [
       "['', '', '']"
      ]
     },
     "execution_count": 229,
     "metadata": {},
     "output_type": "execute_result"
    }
   ],
   "source": [
    "private_f_price"
   ]
  },
  {
   "cell_type": "code",
   "execution_count": 230,
   "id": "e003e8c4-7601-4ecd-a782-03f501699259",
   "metadata": {},
   "outputs": [
    {
     "data": {
      "text/plain": [
       "['Rs2047', 'Rs2362', 'Rs1015']"
      ]
     },
     "execution_count": 230,
     "metadata": {},
     "output_type": "execute_result"
    }
   ],
   "source": [
    "dorms_f_price\n"
   ]
  },
  {
   "cell_type": "code",
   "execution_count": 332,
   "id": "54c6c560-e519-4928-a7f1-1aac167a3859",
   "metadata": {},
   "outputs": [],
   "source": [
    "hostel_distance= []\n",
    "condition = True\n",
    "while condition:\n",
    "    host_dist = driver.find_elements_by_xpath('//a[@class=\"show-on-map\"]//span')\n",
    "    for i in host_dist:\n",
    "        hostel_distance.append(i.text)\n",
    "    time.sleep(3)    \n",
    "    try:\n",
    "        next_bnt = driver.find_element_by_xpath('//i[@class=\"core-icon icon-core-chevron-right\"]')\n",
    "        next_bnt.click()\n",
    "    except:\n",
    "        condition= False\n",
    "    \n",
    "    \n",
    "    "
   ]
  },
  {
   "cell_type": "code",
   "execution_count": 333,
   "id": "118e4512-0d67-493a-9875-de9d66afb79f",
   "metadata": {},
   "outputs": [
    {
     "data": {
      "text/plain": [
       "['Hostel - 1.8km from city centre',\n",
       " 'Show on Map',\n",
       " 'Hostel - 3km from city centre',\n",
       " 'Show on Map',\n",
       " 'Hostel - 5.9km from city centre',\n",
       " 'Show on Map',\n",
       " 'Hostel - 4.7km from city centre',\n",
       " 'Show on Map',\n",
       " 'Hostel - 8.2km from city centre',\n",
       " 'Show on Map',\n",
       " 'Hostel - 0.5km from city centre',\n",
       " 'Show on Map',\n",
       " 'Hostel - 3.6km from city centre',\n",
       " 'Show on Map',\n",
       " 'Hostel - 3.6km from city centre',\n",
       " 'Show on Map',\n",
       " 'Hostel - 1.7km from city centre',\n",
       " 'Show on Map',\n",
       " 'Hostel - 4.3km from city centre',\n",
       " 'Show on Map',\n",
       " 'Hostel - 2.2km from city centre',\n",
       " 'Show on Map',\n",
       " 'Hostel - 2.4km from city centre',\n",
       " 'Show on Map',\n",
       " 'Hostel - 3.6km from city centre',\n",
       " 'Show on Map',\n",
       " 'Hostel - 4.3km from city centre',\n",
       " 'Show on Map',\n",
       " 'Hostel - 10km from city centre',\n",
       " 'Show on Map',\n",
       " 'Hostel - 3.3km from city centre',\n",
       " 'Show on Map',\n",
       " 'Hostel - 2km from city centre',\n",
       " 'Show on Map',\n",
       " 'Hostel - 3.5km from city centre',\n",
       " 'Show on Map',\n",
       " 'Hostel - 3.2km from city centre',\n",
       " 'Show on Map',\n",
       " 'Bed and Breakfast - 6.7km from city centre',\n",
       " 'Show on Map',\n",
       " 'Hostel - 7.1km from city centre',\n",
       " 'Show on Map',\n",
       " 'Hostel - 0.7km from city centre',\n",
       " 'Show on Map',\n",
       " 'Hostel - 10.4km from city centre',\n",
       " 'Show on Map',\n",
       " 'Hostel - 4.3km from city centre',\n",
       " 'Show on Map',\n",
       " 'Hostel - 7.3km from city centre',\n",
       " 'Show on Map',\n",
       " 'Hostel - 1.8km from city centre',\n",
       " 'Show on Map',\n",
       " 'Hostel - 4.9km from city centre',\n",
       " 'Show on Map',\n",
       " 'Hostel - 6.1km from city centre',\n",
       " 'Show on Map',\n",
       " 'Hostel - 8.2km from city centre',\n",
       " 'Show on Map',\n",
       " 'Hostel - 5km from city centre',\n",
       " 'Show on Map',\n",
       " 'Hostel - 4.2km from city centre',\n",
       " 'Show on Map',\n",
       " 'Hostel - 4.1km from city centre',\n",
       " 'Show on Map',\n",
       " 'Hostel - 5km from city centre',\n",
       " 'Show on Map',\n",
       " 'Hostel - 2.6km from city centre',\n",
       " 'Show on Map',\n",
       " 'Hostel - 5km from city centre',\n",
       " 'Show on Map',\n",
       " 'Hostel - 1.8km from city centre',\n",
       " 'Show on Map',\n",
       " 'Hostel - 3.4km from city centre',\n",
       " 'Show on Map',\n",
       " 'Hostel - 3.3km from city centre',\n",
       " 'Show on Map',\n",
       " 'Hostel - 1.3km from city centre',\n",
       " 'Show on Map',\n",
       " 'Hostel - 10.9km from city centre',\n",
       " 'Show on Map',\n",
       " 'Hostel - 5.5km from city centre',\n",
       " 'Show on Map',\n",
       " 'Hostel - 8.2km from city centre',\n",
       " 'Show on Map',\n",
       " 'Hostel - 9.8km from city centre',\n",
       " 'Show on Map',\n",
       " 'Hostel - 9km from city centre',\n",
       " 'Show on Map',\n",
       " 'Hostel - 6.3km from city centre',\n",
       " 'Show on Map',\n",
       " 'Hostel - 4.1km from city centre',\n",
       " 'Show on Map',\n",
       " 'Hostel - 5.5km from city centre',\n",
       " 'Show on Map',\n",
       " 'Hostel - 5.4km from city centre',\n",
       " 'Show on Map',\n",
       " 'Hostel - 1.6km from city centre',\n",
       " 'Show on Map',\n",
       " 'Hostel - 6.9km from city centre',\n",
       " 'Show on Map',\n",
       " 'Hostel - 5.7km from city centre',\n",
       " 'Show on Map',\n",
       " 'Hostel - 8.2km from city centre',\n",
       " 'Show on Map',\n",
       " 'Hostel - 11.9km from city centre',\n",
       " 'Show on Map',\n",
       " 'Hotel - 5.7km from city centre',\n",
       " 'Show on Map',\n",
       " 'Hotel - 3.5km from city centre',\n",
       " 'Show on Map',\n",
       " 'Apartment - 8.2km from city centre',\n",
       " 'Show on Map',\n",
       " 'Hotel - 2.2km from city centre',\n",
       " 'Show on Map',\n",
       " 'Apartment - 3.5km from city centre',\n",
       " 'Show on Map',\n",
       " 'Hotel - 2.1km from city centre',\n",
       " 'Show on Map',\n",
       " 'Hotel - 3.4km from city centre',\n",
       " 'Show on Map',\n",
       " 'Hotel - 2.4km from city centre',\n",
       " 'Show on Map',\n",
       " 'Bed and Breakfast - 4.2km from city centre',\n",
       " 'Show on Map',\n",
       " 'Hotel - 4.3km from city centre',\n",
       " 'Show on Map',\n",
       " 'Apartment - 9.1km from city centre',\n",
       " 'Show on Map',\n",
       " 'Hotel - 14.5km from city centre',\n",
       " 'Show on Map',\n",
       " 'Bed and Breakfast - 3.3km from city centre',\n",
       " 'Show on Map',\n",
       " 'Bed and Breakfast - 23km from city centre',\n",
       " 'Show on Map',\n",
       " 'Hotel - 2.9km from city centre',\n",
       " 'Show on Map',\n",
       " 'Apartment - 3.3km from city centre',\n",
       " 'Show on Map',\n",
       " 'Hotel - 4.9km from city centre',\n",
       " 'Show on Map',\n",
       " 'Hotel - 10.4km from city centre',\n",
       " 'Show on Map',\n",
       " 'Hotel - 2.6km from city centre',\n",
       " 'Show on Map',\n",
       " 'Hotel - 7.6km from city centre',\n",
       " 'Show on Map',\n",
       " 'Hotel - 4.3km from city centre',\n",
       " 'Show on Map',\n",
       " 'Hotel - 6.5km from city centre',\n",
       " 'Show on Map',\n",
       " 'Hotel - 11.4km from city centre',\n",
       " 'Show on Map',\n",
       " 'Hotel - 19.9km from city centre',\n",
       " 'Show on Map',\n",
       " 'Hotel - 8.6km from city centre',\n",
       " 'Show on Map',\n",
       " 'Hotel - 2.1km from city centre',\n",
       " 'Show on Map',\n",
       " 'Hotel - 13.3km from city centre',\n",
       " 'Show on Map',\n",
       " 'Hotel - 3.2km from city centre',\n",
       " 'Show on Map',\n",
       " 'Hotel - 1.8km from city centre',\n",
       " 'Show on Map',\n",
       " 'Hotel - 5.4km from city centre',\n",
       " 'Show on Map',\n",
       " 'Hotel - 6.8km from city centre',\n",
       " 'Show on Map',\n",
       " 'Hotel - 1.9km from city centre',\n",
       " 'Show on Map',\n",
       " 'Hotel - 24.1km from city centre',\n",
       " 'Show on Map',\n",
       " 'Hotel - 14.8km from city centre',\n",
       " 'Show on Map',\n",
       " 'Bed and Breakfast - 2.9km from city centre',\n",
       " 'Show on Map',\n",
       " 'Bed and Breakfast - 13.1km from city centre',\n",
       " 'Show on Map']"
      ]
     },
     "execution_count": 333,
     "metadata": {},
     "output_type": "execute_result"
    }
   ],
   "source": [
    "hostel_distance"
   ]
  },
  {
   "cell_type": "markdown",
   "id": "35888fa8-3c2c-4b54-ba12-9910fd5488f0",
   "metadata": {},
   "source": [
    "#### let's remove show on map."
   ]
  },
  {
   "cell_type": "code",
   "execution_count": 334,
   "id": "82259445-2aa1-49fb-8c65-f961b365acc0",
   "metadata": {},
   "outputs": [
    {
     "data": {
      "text/plain": [
       "178"
      ]
     },
     "execution_count": 334,
     "metadata": {},
     "output_type": "execute_result"
    }
   ],
   "source": [
    "len(hostel_distance)"
   ]
  },
  {
   "cell_type": "code",
   "execution_count": 335,
   "id": "d340f8b6-543b-4abb-9359-20e41ff0573b",
   "metadata": {},
   "outputs": [],
   "source": [
    "HOSTEL_DISTANCE = []\n",
    "for i in range(0,len(hostel_distance),2):\n",
    "    HOSTEL_DISTANCE.append(hostel_distance[i])"
   ]
  },
  {
   "cell_type": "code",
   "execution_count": 336,
   "id": "82f0e127-15d6-4952-94fd-751ea66ac8cb",
   "metadata": {},
   "outputs": [
    {
     "data": {
      "text/plain": [
       "89"
      ]
     },
     "execution_count": 336,
     "metadata": {},
     "output_type": "execute_result"
    }
   ],
   "source": [
    "len(HOSTEL_DISTANCE)"
   ]
  },
  {
   "cell_type": "code",
   "execution_count": 337,
   "id": "85bdc013-a42f-4098-9594-d63ce0f8c06d",
   "metadata": {},
   "outputs": [
    {
     "data": {
      "text/plain": [
       "['Hostel - 1.8km from city centre',\n",
       " 'Hostel - 3km from city centre',\n",
       " 'Hostel - 5.9km from city centre',\n",
       " 'Hostel - 4.7km from city centre',\n",
       " 'Hostel - 8.2km from city centre',\n",
       " 'Hostel - 0.5km from city centre',\n",
       " 'Hostel - 3.6km from city centre',\n",
       " 'Hostel - 3.6km from city centre',\n",
       " 'Hostel - 1.7km from city centre',\n",
       " 'Hostel - 4.3km from city centre',\n",
       " 'Hostel - 2.2km from city centre',\n",
       " 'Hostel - 2.4km from city centre',\n",
       " 'Hostel - 3.6km from city centre',\n",
       " 'Hostel - 4.3km from city centre',\n",
       " 'Hostel - 10km from city centre',\n",
       " 'Hostel - 3.3km from city centre',\n",
       " 'Hostel - 2km from city centre',\n",
       " 'Hostel - 3.5km from city centre',\n",
       " 'Hostel - 3.2km from city centre',\n",
       " 'Bed and Breakfast - 6.7km from city centre',\n",
       " 'Hostel - 7.1km from city centre',\n",
       " 'Hostel - 0.7km from city centre',\n",
       " 'Hostel - 10.4km from city centre',\n",
       " 'Hostel - 4.3km from city centre',\n",
       " 'Hostel - 7.3km from city centre',\n",
       " 'Hostel - 1.8km from city centre',\n",
       " 'Hostel - 4.9km from city centre',\n",
       " 'Hostel - 6.1km from city centre',\n",
       " 'Hostel - 8.2km from city centre',\n",
       " 'Hostel - 5km from city centre',\n",
       " 'Hostel - 4.2km from city centre',\n",
       " 'Hostel - 4.1km from city centre',\n",
       " 'Hostel - 5km from city centre',\n",
       " 'Hostel - 2.6km from city centre',\n",
       " 'Hostel - 5km from city centre',\n",
       " 'Hostel - 1.8km from city centre',\n",
       " 'Hostel - 3.4km from city centre',\n",
       " 'Hostel - 3.3km from city centre',\n",
       " 'Hostel - 1.3km from city centre',\n",
       " 'Hostel - 10.9km from city centre',\n",
       " 'Hostel - 5.5km from city centre',\n",
       " 'Hostel - 8.2km from city centre',\n",
       " 'Hostel - 9.8km from city centre',\n",
       " 'Hostel - 9km from city centre',\n",
       " 'Hostel - 6.3km from city centre',\n",
       " 'Hostel - 4.1km from city centre',\n",
       " 'Hostel - 5.5km from city centre',\n",
       " 'Hostel - 5.4km from city centre',\n",
       " 'Hostel - 1.6km from city centre',\n",
       " 'Hostel - 6.9km from city centre',\n",
       " 'Hostel - 5.7km from city centre',\n",
       " 'Hostel - 8.2km from city centre',\n",
       " 'Hostel - 11.9km from city centre',\n",
       " 'Hotel - 5.7km from city centre',\n",
       " 'Hotel - 3.5km from city centre',\n",
       " 'Apartment - 8.2km from city centre',\n",
       " 'Hotel - 2.2km from city centre',\n",
       " 'Apartment - 3.5km from city centre',\n",
       " 'Hotel - 2.1km from city centre',\n",
       " 'Hotel - 3.4km from city centre',\n",
       " 'Hotel - 2.4km from city centre',\n",
       " 'Bed and Breakfast - 4.2km from city centre',\n",
       " 'Hotel - 4.3km from city centre',\n",
       " 'Apartment - 9.1km from city centre',\n",
       " 'Hotel - 14.5km from city centre',\n",
       " 'Bed and Breakfast - 3.3km from city centre',\n",
       " 'Bed and Breakfast - 23km from city centre',\n",
       " 'Hotel - 2.9km from city centre',\n",
       " 'Apartment - 3.3km from city centre',\n",
       " 'Hotel - 4.9km from city centre',\n",
       " 'Hotel - 10.4km from city centre',\n",
       " 'Hotel - 2.6km from city centre',\n",
       " 'Hotel - 7.6km from city centre',\n",
       " 'Hotel - 4.3km from city centre',\n",
       " 'Hotel - 6.5km from city centre',\n",
       " 'Hotel - 11.4km from city centre',\n",
       " 'Hotel - 19.9km from city centre',\n",
       " 'Hotel - 8.6km from city centre',\n",
       " 'Hotel - 2.1km from city centre',\n",
       " 'Hotel - 13.3km from city centre',\n",
       " 'Hotel - 3.2km from city centre',\n",
       " 'Hotel - 1.8km from city centre',\n",
       " 'Hotel - 5.4km from city centre',\n",
       " 'Hotel - 6.8km from city centre',\n",
       " 'Hotel - 1.9km from city centre',\n",
       " 'Hotel - 24.1km from city centre',\n",
       " 'Hotel - 14.8km from city centre',\n",
       " 'Bed and Breakfast - 2.9km from city centre',\n",
       " 'Bed and Breakfast - 13.1km from city centre']"
      ]
     },
     "execution_count": 337,
     "metadata": {},
     "output_type": "execute_result"
    }
   ],
   "source": [
    "HOSTEL_DISTANCE"
   ]
  },
  {
   "cell_type": "code",
   "execution_count": 340,
   "id": "28148d4b-619b-43bd-b954-625f4c9a71d4",
   "metadata": {},
   "outputs": [
    {
     "data": {
      "text/plain": [
       "['Hostel - 3.6km from city centre',\n",
       " 'Hostel - 5.5km from city centre',\n",
       " 'Hostel - 11.9km from city centre']"
      ]
     },
     "execution_count": 340,
     "metadata": {},
     "output_type": "execute_result"
    }
   ],
   "source": [
    "hostelDist"
   ]
  },
  {
   "cell_type": "code",
   "execution_count": 339,
   "id": "eb6c7536-72e1-46ba-862e-6aa376ea00c3",
   "metadata": {},
   "outputs": [],
   "source": [
    "Hostel_location =[]\n",
    "Hostel_location = hostelDist + HOSTEL_DISTANCE"
   ]
  },
  {
   "cell_type": "code",
   "execution_count": 346,
   "id": "40bc10d0-6ef0-4b68-9a0c-cf993874ce64",
   "metadata": {},
   "outputs": [],
   "source": [
    "del Hostel_location[3]"
   ]
  },
  {
   "cell_type": "code",
   "execution_count": 347,
   "id": "8892da98-6c9d-4c91-ac77-1b3cd11b8d84",
   "metadata": {},
   "outputs": [
    {
     "data": {
      "text/plain": [
       "91"
      ]
     },
     "execution_count": 347,
     "metadata": {},
     "output_type": "execute_result"
    }
   ],
   "source": [
    "len(Hostel_location)"
   ]
  },
  {
   "cell_type": "code",
   "execution_count": 348,
   "id": "f89246b4-968b-4494-9ab4-b34a41c990ef",
   "metadata": {},
   "outputs": [
    {
     "data": {
      "text/plain": [
       "['Hostel - 3.6km from city centre',\n",
       " 'Hostel - 5.5km from city centre',\n",
       " 'Hostel - 11.9km from city centre',\n",
       " 'Hostel - 3km from city centre',\n",
       " 'Hostel - 5.9km from city centre',\n",
       " 'Hostel - 4.7km from city centre',\n",
       " 'Hostel - 8.2km from city centre',\n",
       " 'Hostel - 0.5km from city centre',\n",
       " 'Hostel - 3.6km from city centre',\n",
       " 'Hostel - 3.6km from city centre',\n",
       " 'Hostel - 1.7km from city centre',\n",
       " 'Hostel - 4.3km from city centre',\n",
       " 'Hostel - 2.2km from city centre',\n",
       " 'Hostel - 2.4km from city centre',\n",
       " 'Hostel - 3.6km from city centre',\n",
       " 'Hostel - 4.3km from city centre',\n",
       " 'Hostel - 10km from city centre',\n",
       " 'Hostel - 3.3km from city centre',\n",
       " 'Hostel - 2km from city centre',\n",
       " 'Hostel - 3.5km from city centre',\n",
       " 'Hostel - 3.2km from city centre',\n",
       " 'Bed and Breakfast - 6.7km from city centre',\n",
       " 'Hostel - 7.1km from city centre',\n",
       " 'Hostel - 0.7km from city centre',\n",
       " 'Hostel - 10.4km from city centre',\n",
       " 'Hostel - 4.3km from city centre',\n",
       " 'Hostel - 7.3km from city centre',\n",
       " 'Hostel - 1.8km from city centre',\n",
       " 'Hostel - 4.9km from city centre',\n",
       " 'Hostel - 6.1km from city centre',\n",
       " 'Hostel - 8.2km from city centre',\n",
       " 'Hostel - 5km from city centre',\n",
       " 'Hostel - 4.2km from city centre',\n",
       " 'Hostel - 4.1km from city centre',\n",
       " 'Hostel - 5km from city centre',\n",
       " 'Hostel - 2.6km from city centre',\n",
       " 'Hostel - 5km from city centre',\n",
       " 'Hostel - 1.8km from city centre',\n",
       " 'Hostel - 3.4km from city centre',\n",
       " 'Hostel - 3.3km from city centre',\n",
       " 'Hostel - 1.3km from city centre',\n",
       " 'Hostel - 10.9km from city centre',\n",
       " 'Hostel - 5.5km from city centre',\n",
       " 'Hostel - 8.2km from city centre',\n",
       " 'Hostel - 9.8km from city centre',\n",
       " 'Hostel - 9km from city centre',\n",
       " 'Hostel - 6.3km from city centre',\n",
       " 'Hostel - 4.1km from city centre',\n",
       " 'Hostel - 5.5km from city centre',\n",
       " 'Hostel - 5.4km from city centre',\n",
       " 'Hostel - 1.6km from city centre',\n",
       " 'Hostel - 6.9km from city centre',\n",
       " 'Hostel - 5.7km from city centre',\n",
       " 'Hostel - 8.2km from city centre',\n",
       " 'Hostel - 11.9km from city centre',\n",
       " 'Hotel - 5.7km from city centre',\n",
       " 'Hotel - 3.5km from city centre',\n",
       " 'Apartment - 8.2km from city centre',\n",
       " 'Hotel - 2.2km from city centre',\n",
       " 'Apartment - 3.5km from city centre',\n",
       " 'Hotel - 2.1km from city centre',\n",
       " 'Hotel - 3.4km from city centre',\n",
       " 'Hotel - 2.4km from city centre',\n",
       " 'Bed and Breakfast - 4.2km from city centre',\n",
       " 'Hotel - 4.3km from city centre',\n",
       " 'Apartment - 9.1km from city centre',\n",
       " 'Hotel - 14.5km from city centre',\n",
       " 'Bed and Breakfast - 3.3km from city centre',\n",
       " 'Bed and Breakfast - 23km from city centre',\n",
       " 'Hotel - 2.9km from city centre',\n",
       " 'Apartment - 3.3km from city centre',\n",
       " 'Hotel - 4.9km from city centre',\n",
       " 'Hotel - 10.4km from city centre',\n",
       " 'Hotel - 2.6km from city centre',\n",
       " 'Hotel - 7.6km from city centre',\n",
       " 'Hotel - 4.3km from city centre',\n",
       " 'Hotel - 6.5km from city centre',\n",
       " 'Hotel - 11.4km from city centre',\n",
       " 'Hotel - 19.9km from city centre',\n",
       " 'Hotel - 8.6km from city centre',\n",
       " 'Hotel - 2.1km from city centre',\n",
       " 'Hotel - 13.3km from city centre',\n",
       " 'Hotel - 3.2km from city centre',\n",
       " 'Hotel - 1.8km from city centre',\n",
       " 'Hotel - 5.4km from city centre',\n",
       " 'Hotel - 6.8km from city centre',\n",
       " 'Hotel - 1.9km from city centre',\n",
       " 'Hotel - 24.1km from city centre',\n",
       " 'Hotel - 14.8km from city centre',\n",
       " 'Bed and Breakfast - 2.9km from city centre',\n",
       " 'Bed and Breakfast - 13.1km from city centre']"
      ]
     },
     "execution_count": 348,
     "metadata": {},
     "output_type": "execute_result"
    }
   ],
   "source": [
    "Hostel_location"
   ]
  },
  {
   "cell_type": "code",
   "execution_count": 205,
   "id": "d95c8793-cca3-4726-9271-ac5c6c72e417",
   "metadata": {},
   "outputs": [],
   "source": [
    "last_bnt = driver.find_element_by_xpath('//*[@id=\"__layout\"]/div/div[1]/div[4]/div/div/div[32]/div[1]')"
   ]
  },
  {
   "cell_type": "code",
   "execution_count": 155,
   "id": "51af3ee0-80fd-45f7-a87a-e4df03e82fd6",
   "metadata": {},
   "outputs": [],
   "source": [
    "last_bnt.click()\n"
   ]
  },
  {
   "cell_type": "code",
   "execution_count": 206,
   "id": "68fd6a7a-0128-4771-ac30-3bb53225a20a",
   "metadata": {},
   "outputs": [],
   "source": [
    "## let's find the UrlS the both prices\n",
    "urls_list = []\n",
    "condition = True\n",
    "while condition:\n",
    "    link =  driver.find_elements_by_xpath('//a[@class=\"prices\"]')\n",
    "    for i in link:\n",
    "        urls_list.append(i.get_attribute('href'))\n",
    "    time.sleep(3)\n",
    "    try:\n",
    "        next_bnt = driver.find_element_by_xpath('//i[@class=\"core-icon icon-core-chevron-right\"]')\n",
    "        next_bnt.click()\n",
    "    except:\n",
    "        condition= False"
   ]
  },
  {
   "cell_type": "code",
   "execution_count": 225,
   "id": "ba29acec-6c3c-400a-8f39-94039a1f7466",
   "metadata": {},
   "outputs": [
    {
     "data": {
      "text/plain": [
       "91"
      ]
     },
     "execution_count": 225,
     "metadata": {},
     "output_type": "execute_result"
    }
   ],
   "source": [
    "len(urls_list)"
   ]
  },
  {
   "cell_type": "markdown",
   "id": "c790d6f7-154f-4055-8723-5d9a3d18e818",
   "metadata": {},
   "source": [
    "### we got the locations of the hostels"
   ]
  },
  {
   "cell_type": "code",
   "execution_count": 209,
   "id": "e0d7b1d7-01aa-40cb-b8f1-5b00dfcb46bc",
   "metadata": {},
   "outputs": [
    {
     "data": {
      "text/plain": [
       "['https://www.hostelworld.com/pwa/hosteldetails.php/Wombat-s-The-City-Hostel-London/London/88047?from=2021-07-26&to=2021-07-29&guests=2',\n",
       " 'https://www.hostelworld.com/pwa/hosteldetails.php/Selina-Camden/London/310274?from=2021-07-26&to=2021-07-29&guests=2',\n",
       " 'https://www.hostelworld.com/pwa/hosteldetails.php/London-Backpackers/London/527?from=2021-07-26&to=2021-07-29&guests=2',\n",
       " 'https://www.hostelworld.com/pwa/hosteldetails.php/St-Christopher-s-Village/London/502?from=2021-07-26&to=2021-07-29&guests=2',\n",
       " 'https://www.hostelworld.com/pwa/hosteldetails.php/Generator-London/London/510?from=2021-07-26&to=2021-07-29&guests=2',\n",
       " 'https://www.hostelworld.com/pwa/hosteldetails.php/Safestay-London-Kensington-Holland-Park/London/93920?from=2021-07-26&to=2021-07-29&guests=2',\n",
       " 'https://www.hostelworld.com/pwa/hosteldetails.php/PubLove-The-Crown-Battersea/London/60336?from=2021-07-26&to=2021-07-29&guests=2',\n",
       " 'https://www.hostelworld.com/pwa/hosteldetails.php/247london-Hostel-and-Private-Rooms/London/64523?from=2021-07-26&to=2021-07-29&guests=2',\n",
       " 'https://www.hostelworld.com/pwa/hosteldetails.php/PubLove-The-Steam-Engine-Waterloo/London/29389?from=2021-07-26&to=2021-07-29&guests=2',\n",
       " 'https://www.hostelworld.com/pwa/hosteldetails.php/The-London-Home-Hostel/London/80690?from=2021-07-26&to=2021-07-29&guests=2',\n",
       " 'https://www.hostelworld.com/pwa/hosteldetails.php/Wombat-s-The-City-Hostel-London/London/88047?from=2021-07-26&to=2021-07-29&guests=2',\n",
       " 'https://www.hostelworld.com/pwa/hosteldetails.php/Safestay-London-Elephant-Castle/London/55551?from=2021-07-26&to=2021-07-29&guests=2',\n",
       " 'https://www.hostelworld.com/pwa/hosteldetails.php/PubLove-The-Green-Man-Paddington/London/21953?from=2021-07-26&to=2021-07-29&guests=2',\n",
       " 'https://www.hostelworld.com/pwa/hosteldetails.php/Astor-Museum-Inn/London/520?from=2021-07-26&to=2021-07-29&guests=2',\n",
       " 'https://www.hostelworld.com/pwa/hosteldetails.php/PubLove-The-White-Ferry-Victoria/London/39761?from=2021-07-26&to=2021-07-29&guests=2',\n",
       " 'https://www.hostelworld.com/pwa/hosteldetails.php/Prime-Backpackers-Angel/London/93902?from=2021-07-26&to=2021-07-29&guests=2',\n",
       " 'https://www.hostelworld.com/pwa/hosteldetails.php/Atlas-Hostels/London/79008?from=2021-07-26&to=2021-07-29&guests=2',\n",
       " 'https://www.hostelworld.com/pwa/hosteldetails.php/No-8-Willesden-Hostel-London/London/18420?from=2021-07-26&to=2021-07-29&guests=2',\n",
       " 'https://www.hostelworld.com/pwa/hosteldetails.php/YHA-London-St-Pancras/London/7010?from=2021-07-26&to=2021-07-29&guests=2',\n",
       " 'https://www.hostelworld.com/pwa/hosteldetails.php/SoHostel/London/92473?from=2021-07-26&to=2021-07-29&guests=2',\n",
       " 'https://www.hostelworld.com/pwa/hosteldetails.php/Keystone-House-Kings-Cross/London/43465?from=2021-07-26&to=2021-07-29&guests=2',\n",
       " 'https://www.hostelworld.com/pwa/hosteldetails.php/Well-Street-Hall/London/310642?from=2021-07-26&to=2021-07-29&guests=2',\n",
       " 'https://www.hostelworld.com/pwa/hosteldetails.php/Clink261/London/516?from=2021-07-26&to=2021-07-29&guests=2',\n",
       " 'https://www.hostelworld.com/pwa/hosteldetails.php/Burlington-Residence/London/306383?from=2021-07-26&to=2021-07-29&guests=2',\n",
       " 'https://www.hostelworld.com/pwa/hosteldetails.php/London-Waterloo-Hostel/London/39493?from=2021-07-26&to=2021-07-29&guests=2',\n",
       " 'https://www.hostelworld.com/pwa/hosteldetails.php/Jaeger-Acton-Hostel/London/15584?from=2021-07-26&to=2021-07-29&guests=2',\n",
       " 'https://www.hostelworld.com/pwa/hosteldetails.php/Astor-Hyde-Park/London/25678?from=2021-07-26&to=2021-07-29&guests=2',\n",
       " 'https://www.hostelworld.com/pwa/hosteldetails.php/Abercorn-House/London/34216?from=2021-07-26&to=2021-07-29&guests=2',\n",
       " 'https://www.hostelworld.com/pwa/hosteldetails.php/St-Christopher-s-Oasis-Female-Only/London/504?from=2021-07-26&to=2021-07-29&guests=2',\n",
       " 'https://www.hostelworld.com/pwa/hosteldetails.php/Astor-Kensington/London/523?from=2021-07-26&to=2021-07-29&guests=2',\n",
       " 'https://www.hostelworld.com/pwa/hosteldetails.php/New-Cross-Inn-Hostel/London/15204?from=2021-07-26&to=2021-07-29&guests=2',\n",
       " 'https://www.hostelworld.com/pwa/hosteldetails.php/Mapesbury-Hostel/London/19667?from=2021-07-26&to=2021-07-29&guests=2',\n",
       " 'https://www.hostelworld.com/pwa/hosteldetails.php/Hootananny-Hostel/London/24068?from=2021-07-26&to=2021-07-29&guests=2',\n",
       " 'https://www.hostelworld.com/pwa/hosteldetails.php/Phoenix-Hostel/London/48221?from=2021-07-26&to=2021-07-29&guests=2',\n",
       " 'https://www.hostelworld.com/pwa/hosteldetails.php/Mornington-Camden/London/285882?from=2021-07-26&to=2021-07-29&guests=2',\n",
       " 'https://www.hostelworld.com/pwa/hosteldetails.php/Smart-Hyde-Park-Inn-Hostel/London/517?from=2021-07-26&to=2021-07-29&guests=2',\n",
       " 'https://www.hostelworld.com/pwa/hosteldetails.php/Smart-Russell-Square-Hostel/London/29412?from=2021-07-26&to=2021-07-29&guests=2',\n",
       " 'https://www.hostelworld.com/pwa/hosteldetails.php/Smart-Hyde-Park-View-Hostel/London/8069?from=2021-07-26&to=2021-07-29&guests=2',\n",
       " 'https://www.hostelworld.com/pwa/hosteldetails.php/Astor-Victoria/London/524?from=2021-07-26&to=2021-07-29&guests=2',\n",
       " 'https://www.hostelworld.com/pwa/hosteldetails.php/PubLove-The-Exmouth-Arms-Euston/London/93796?from=2021-07-26&to=2021-07-29&guests=2',\n",
       " 'https://www.hostelworld.com/pwa/hosteldetails.php/International-Students-House/London/515?from=2021-07-26&to=2021-07-29&guests=2',\n",
       " 'https://www.hostelworld.com/pwa/hosteldetails.php/Strand-Continental/London/51118?from=2021-07-26&to=2021-07-29&guests=2',\n",
       " 'https://www.hostelworld.com/pwa/hosteldetails.php/The-Backpackshack/London/63112?from=2021-07-26&to=2021-07-29&guests=2',\n",
       " 'https://www.hostelworld.com/pwa/hosteldetails.php/Saint-James-Backpackers/London/70909?from=2021-07-26&to=2021-07-29&guests=2',\n",
       " 'https://www.hostelworld.com/pwa/hosteldetails.php/Best-London-Hostels/London/72053?from=2021-07-26&to=2021-07-29&guests=2',\n",
       " 'https://www.hostelworld.com/pwa/hosteldetails.php/Le-Junction-Hostel-Pub-Garden/London/90013?from=2021-07-26&to=2021-07-29&guests=2',\n",
       " 'https://www.hostelworld.com/pwa/hosteldetails.php/No-8-Seven-Sisters/London/91108?from=2021-07-26&to=2021-07-29&guests=2',\n",
       " 'https://www.hostelworld.com/pwa/hosteldetails.php/Park-Villa/London/98066?from=2021-07-26&to=2021-07-29&guests=2',\n",
       " 'https://www.hostelworld.com/pwa/hosteldetails.php/The-Dictionary-Hostel/London/310273?from=2021-07-26&to=2021-07-29&guests=2',\n",
       " 'https://www.hostelworld.com/pwa/hosteldetails.php/Selina-Camden/London/310274?from=2021-07-26&to=2021-07-29&guests=2',\n",
       " 'https://www.hostelworld.com/pwa/hosteldetails.php/Urbany-Hostel-London/London/303427?from=2021-07-26&to=2021-07-29&guests=2',\n",
       " 'https://www.hostelworld.com/pwa/hosteldetails.php/PubLove-The-Rose-Crown/London/297123?from=2021-07-26&to=2021-07-29&guests=2',\n",
       " 'https://www.hostelworld.com/pwa/hosteldetails.php/Venture-Hostel/London/14746?from=2021-07-26&to=2021-07-29&guests=2',\n",
       " 'https://www.hostelworld.com/pwa/hosteldetails.php/Queen-Elizabeth-Chelsea/London/50443?from=2021-07-26&to=2021-07-29&guests=2',\n",
       " 'https://www.hostelworld.com/pwa/hosteldetails.php/Kensal-Green-Backpackers/London/4483?from=2021-07-26&to=2021-07-29&guests=2',\n",
       " 'https://www.hostelworld.com/pwa/hosteldetails.php/London-Backpackers/London/527?from=2021-07-26&to=2021-07-29&guests=2',\n",
       " 'https://www.hostelworld.com/pwa/hosteldetails.php/Paramount-Hotel/London/290937?from=2021-07-26&to=2021-07-29&guests=2',\n",
       " 'https://www.hostelworld.com/pwa/hosteldetails.php/Marble-Arch-Inn/London/13337?from=2021-07-26&to=2021-07-29&guests=2',\n",
       " 'https://www.hostelworld.com/pwa/hosteldetails.php/Budget-London-Apartments/London/11493?from=2021-07-26&to=2021-07-29&guests=2',\n",
       " 'https://www.hostelworld.com/pwa/hosteldetails.php/Chester-Hotel-Victoria/London/24750?from=2021-07-26&to=2021-07-29&guests=2',\n",
       " 'https://www.hostelworld.com/pwa/hosteldetails.php/Belgrave-Hotel-London/London/268771?from=2021-07-26&to=2021-07-29&guests=2',\n",
       " 'https://www.hostelworld.com/pwa/hosteldetails.php/Access-City/London/271429?from=2021-07-26&to=2021-07-29&guests=2',\n",
       " 'https://www.hostelworld.com/pwa/hosteldetails.php/Colliers-Hotel/London/308375?from=2021-07-26&to=2021-07-29&guests=2',\n",
       " 'https://www.hostelworld.com/pwa/hosteldetails.php/City-Hotel-Carlton/London/27551?from=2021-07-26&to=2021-07-29&guests=2',\n",
       " 'https://www.hostelworld.com/pwa/hosteldetails.php/Belgravia-Hotel/London/306595?from=2021-07-26&to=2021-07-29&guests=2',\n",
       " 'https://www.hostelworld.com/pwa/hosteldetails.php/Barry-House/London/287321?from=2021-07-26&to=2021-07-29&guests=2',\n",
       " 'https://www.hostelworld.com/pwa/hosteldetails.php/Hyde-Park-Court-Hotel/London/5107?from=2021-07-26&to=2021-07-29&guests=2',\n",
       " 'https://www.hostelworld.com/pwa/hosteldetails.php/All-Star-Private-Studios/London/24709?from=2021-07-26&to=2021-07-29&guests=2',\n",
       " 'https://www.hostelworld.com/pwa/hosteldetails.php/Britannia-Inn-Hotel/London/47955?from=2021-07-26&to=2021-07-29&guests=2',\n",
       " 'https://www.hostelworld.com/pwa/hosteldetails.php/Fairway-Hotel/London/81121?from=2021-07-26&to=2021-07-29&guests=2',\n",
       " 'https://www.hostelworld.com/pwa/hosteldetails.php/Heathrow-LHR-Apartments/London/284380?from=2021-07-26&to=2021-07-29&guests=2',\n",
       " 'https://www.hostelworld.com/pwa/hosteldetails.php/City-Space/London/298030?from=2021-07-26&to=2021-07-29&guests=2',\n",
       " 'https://www.hostelworld.com/pwa/hosteldetails.php/Access-Euston/London/274828?from=2021-07-26&to=2021-07-29&guests=2',\n",
       " 'https://www.hostelworld.com/pwa/hosteldetails.php/Park-Hotel/London/295852?from=2021-07-26&to=2021-07-29&guests=2',\n",
       " 'https://www.hostelworld.com/pwa/hosteldetails.php/Golders-Park-Hotel/London/305286?from=2021-07-26&to=2021-07-29&guests=2',\n",
       " 'https://www.hostelworld.com/pwa/hosteldetails.php/Wellesley-Hotel/London/305734?from=2021-07-26&to=2021-07-29&guests=2',\n",
       " 'https://www.hostelworld.com/pwa/hosteldetails.php/Hotel-Shepherds-Bush-London/London/308621?from=2021-07-26&to=2021-07-29&guests=2',\n",
       " 'https://www.hostelworld.com/pwa/hosteldetails.php/Tony-s-House-Hotel/London/8503?from=2021-07-26&to=2021-07-29&guests=2',\n",
       " 'https://www.hostelworld.com/pwa/hosteldetails.php/The-W14-Hotel-Bar/London/50220?from=2021-07-26&to=2021-07-29&guests=2',\n",
       " 'https://www.hostelworld.com/pwa/hosteldetails.php/The-Crystal-Lodge-Hotel/London/96148?from=2021-07-26&to=2021-07-29&guests=2',\n",
       " 'https://www.hostelworld.com/pwa/hosteldetails.php/Beaconsfield/London/11708?from=2021-07-26&to=2021-07-29&guests=2',\n",
       " 'https://www.hostelworld.com/pwa/hosteldetails.php/London-Wembley-International-Hotel/London/26351?from=2021-07-26&to=2021-07-29&guests=2',\n",
       " 'https://www.hostelworld.com/pwa/hosteldetails.php/Elmwood-Hotel/London/34338?from=2021-07-26&to=2021-07-29&guests=2',\n",
       " 'https://www.hostelworld.com/pwa/hosteldetails.php/Victor-Hotel/London/76699?from=2021-07-26&to=2021-07-29&guests=2',\n",
       " 'https://www.hostelworld.com/pwa/hosteldetails.php/Best-Western-Boltons-London-Kensington/London/266666?from=2021-07-26&to=2021-07-29&guests=2',\n",
       " 'https://www.hostelworld.com/pwa/hosteldetails.php/Kip-Hotel/London/266789?from=2021-07-26&to=2021-07-29&guests=2',\n",
       " 'https://www.hostelworld.com/pwa/hosteldetails.php/The-Dover/London/267341?from=2021-07-26&to=2021-07-29&guests=2',\n",
       " 'https://www.hostelworld.com/pwa/hosteldetails.php/Park-Hotel-Essex/London/10143?from=2021-07-26&to=2021-07-29&guests=2',\n",
       " 'https://www.hostelworld.com/pwa/hosteldetails.php/Cranbrook-Hotel/London/10144?from=2021-07-26&to=2021-07-29&guests=2',\n",
       " 'https://www.hostelworld.com/pwa/hosteldetails.php/St-Athans/London/16231?from=2021-07-26&to=2021-07-29&guests=2',\n",
       " 'https://www.hostelworld.com/pwa/hosteldetails.php/Aron-Guest-House/London/64748?from=2021-07-26&to=2021-07-29&guests=2']"
      ]
     },
     "execution_count": 209,
     "metadata": {},
     "output_type": "execute_result"
    }
   ],
   "source": [
    "#urls_list"
   ]
  },
  {
   "cell_type": "markdown",
   "id": "dc19fc87-9377-4c71-a48f-beb8d882e7b9",
   "metadata": {},
   "source": [
    "### We got all the link,Now let's get the data for each link and let's find the rest of rating."
   ]
  },
  {
   "cell_type": "code",
   "execution_count": 279,
   "id": "72af96cb-e361-4187-bc32-89dd78be3f31",
   "metadata": {},
   "outputs": [
    {
     "name": "stderr",
     "output_type": "stream",
     "text": [
      "100%|██████████| 91/91 [02:08<00:00,  1.42s/it]\n",
      "100%|██████████| 91/91 [04:35<00:00,  3.03s/it]\n"
     ]
    }
   ],
   "source": [
    "## to track the progression, let's import some libraries\n",
    "#Insiddetails = []\n",
    "Host_rate = []\n",
    "Hostels_tt_reviews = []\n",
    "from tqdm import tqdm\n",
    "for i in tqdm(urls_list):\n",
    "    try:\n",
    "        driver.get(i)\n",
    "        host_rat = driver.find_element_by_xpath('/html/body/div[1]/div/div/div[1]/section/div[6]/div/div[1]/div[1]/div[1]')\n",
    "        Host_rate.append(host_rat.text)\n",
    "    except:\n",
    "        Host_rate.append('-')\n",
    "time.sleep(3)  \n",
    "for i in tqdm(urls_list):\n",
    "    try:\n",
    "        driver.get(i)\n",
    "        host_rev= driver.find_element_by_xpath('/html/body/div[1]/div/div/div[1]/section/div[6]/div/div[1]/div[1]/div[2]/div[2]')\n",
    "        Hostels_tt_reviews.append(host_rev.text) \n",
    "    except:\n",
    "        Hostels_tt_reviews.append('-')        "
   ]
  },
  {
   "cell_type": "code",
   "execution_count": 280,
   "id": "e48ea362-5075-4268-8773-37df7546a5f0",
   "metadata": {},
   "outputs": [
    {
     "data": {
      "text/plain": [
       "['13130 Total Reviews',\n",
       " '2 Total Reviews',\n",
       " '4112 Total Reviews',\n",
       " '10820 Total Reviews',\n",
       " '6733 Total Reviews',\n",
       " '1074 Total Reviews',\n",
       " '207 Total Reviews',\n",
       " '-',\n",
       " '186 Total Reviews',\n",
       " '248 Total Reviews',\n",
       " '13130 Total Reviews',\n",
       " '3947 Total Reviews',\n",
       " '391 Total Reviews',\n",
       " '8707 Total Reviews',\n",
       " '130 Total Reviews',\n",
       " '513 Total Reviews',\n",
       " '194 Total Reviews',\n",
       " '4563 Total Reviews',\n",
       " '2775 Total Reviews',\n",
       " '3952 Total Reviews',\n",
       " '8109 Total Reviews',\n",
       " '-',\n",
       " '3167 Total Reviews',\n",
       " '26 Total Reviews',\n",
       " '2400 Total Reviews',\n",
       " '879 Total Reviews',\n",
       " '11321 Total Reviews',\n",
       " '3654 Total Reviews',\n",
       " '593 Total Reviews',\n",
       " '6324 Total Reviews',\n",
       " '999 Total Reviews',\n",
       " '357 Total Reviews',\n",
       " '1406 Total Reviews',\n",
       " '3405 Total Reviews',\n",
       " '-',\n",
       " '6232 Total Reviews',\n",
       " '9499 Total Reviews',\n",
       " '4470 Total Reviews',\n",
       " '14703 Total Reviews',\n",
       " '975 Total Reviews',\n",
       " '918 Total Reviews',\n",
       " '770 Total Reviews',\n",
       " '711 Total Reviews',\n",
       " '1755 Total Reviews',\n",
       " '-',\n",
       " '376 Total Reviews',\n",
       " '3601 Total Reviews',\n",
       " '838 Total Reviews',\n",
       " '-',\n",
       " '2 Total Reviews',\n",
       " '100 Total Reviews',\n",
       " '99 Total Reviews',\n",
       " '1168 Total Reviews',\n",
       " '3144 Total Reviews',\n",
       " '3601 Total Reviews',\n",
       " '4112 Total Reviews',\n",
       " '25 Total Reviews',\n",
       " '-',\n",
       " '-',\n",
       " '141 Total Reviews',\n",
       " '2 Total Reviews',\n",
       " '-',\n",
       " '2 Total Reviews',\n",
       " '38 Total Reviews',\n",
       " '5 Total Reviews',\n",
       " '-',\n",
       " '-',\n",
       " '-',\n",
       " '17 Total Reviews',\n",
       " '-',\n",
       " '24 Total Reviews',\n",
       " '-',\n",
       " '-',\n",
       " '-',\n",
       " '-',\n",
       " '-',\n",
       " '-',\n",
       " '406 Total Reviews',\n",
       " '276 Total Reviews',\n",
       " '-',\n",
       " '-',\n",
       " '-',\n",
       " '-',\n",
       " '-',\n",
       " '2 Total Reviews',\n",
       " '50 Total Reviews',\n",
       " '-',\n",
       " '-',\n",
       " '-',\n",
       " '-',\n",
       " '-']"
      ]
     },
     "execution_count": 280,
     "metadata": {},
     "output_type": "execute_result"
    }
   ],
   "source": [
    "Hostels_tt_reviews"
   ]
  },
  {
   "cell_type": "code",
   "execution_count": 282,
   "id": "02e97df6-7d26-4dde-98e4-97dda76ed6c6",
   "metadata": {},
   "outputs": [
    {
     "data": {
      "text/plain": [
       "91"
      ]
     },
     "execution_count": 282,
     "metadata": {},
     "output_type": "execute_result"
    }
   ],
   "source": [
    "len(Hostels_tt_reviews)"
   ]
  },
  {
   "cell_type": "code",
   "execution_count": 283,
   "id": "289ae957-f3de-46f2-81af-35f0e296d8a8",
   "metadata": {},
   "outputs": [
    {
     "data": {
      "text/plain": [
       "91"
      ]
     },
     "execution_count": 283,
     "metadata": {},
     "output_type": "execute_result"
    }
   ],
   "source": [
    "len(Host_rate)\n"
   ]
  },
  {
   "cell_type": "markdown",
   "id": "8e9c8121-8037-434d-9bc2-eec1a9f70201",
   "metadata": {},
   "source": [
    "### Let's finde the Hostels Descriptions."
   ]
  },
  {
   "cell_type": "code",
   "execution_count": 293,
   "id": "669801c2-1911-42d5-bf55-33ab1776b610",
   "metadata": {},
   "outputs": [
    {
     "name": "stderr",
     "output_type": "stream",
     "text": [
      "100%|██████████| 91/91 [06:39<00:00,  4.39s/it]\n"
     ]
    }
   ],
   "source": [
    "Property_desc=[]\n",
    "for i in tqdm(urls_list):\n",
    "    try:\n",
    "        driver.get(i)\n",
    "        driver.find_element_by_xpath('/html/body/div[1]/div/div/div[1]/section/div[6]/div/div[2]/div/div/a').click()\n",
    "        time.sleep(2)\n",
    "        desc= driver.find_element_by_xpath('/html/body/div[1]/div/div/div[1]/section/div[6]/div/div[2]/div/div/div[2]')\n",
    "        Property_desc.append(desc.text.replace('\\n\\n',' ').replace('\\n*',' ').replace('\\n',' '))\n",
    "    except:\n",
    "        Property_desc.append('-')\n",
    "    "
   ]
  },
  {
   "cell_type": "code",
   "execution_count": 294,
   "id": "b8603c78-3080-46c1-a3a5-3aa0bcf86d49",
   "metadata": {},
   "outputs": [
    {
     "data": {
      "text/plain": [
       "91"
      ]
     },
     "execution_count": 294,
     "metadata": {},
     "output_type": "execute_result"
    }
   ],
   "source": [
    "len(Property_desc)"
   ]
  },
  {
   "cell_type": "code",
   "execution_count": 295,
   "id": "b7d5ccc7-dc4f-4657-82f8-78c3cf8ede3f",
   "metadata": {},
   "outputs": [
    {
     "data": {
      "text/plain": [
       "[\"Wombat's The City Hostel London is definitely the place to stay if you want to experience all that London has to offer. Only minutes away from sights such as the Tower Bridge, the Tower of London, and the City Hall, it's next to Wilton’s Music Hall and an easy walk from the buzzing nightlife of Shoreditch. The location is ideal for young travellers. Not only is the location awesome, the building itself is breath-taking. Formerly a seamen's hostel, the building was converted to an amazing travellers' oasis featuring a huge bar, a courtyard, a cosy hangout area in the lobby, and all the amenities a backpacker could wish for. * Please note: due to the pandemic, our bar remains closed at the moment. Wombat's The City Hostel is proud to be one of the most experienced hostel chains (over 20 years of hostel expertise!) with a history of award-winning properties all over Europe: Budapest, London, Munich, and Vienna. Wombat’s The City Hostel offers safe, clean, quality accommodation in either (1) a spacious dorm room with an ensuite bathroom and individual lockers for personal belongings or (2) a private room with two twin beds/one queen bed and private bathroom. Included + bedding + fast WIFI in the entire building + our own Wombat’s city maps  + fully-equipped guest kitchen (plus: free food section, including free noodles and rice) + luggage room  Additional features + our lively womBar serves affordable drinks/cocktails/snacks and offers happy hours and regular events  Please Note: due to the pandemic, our bar remains closed at the moment. + coin-operated laundry facilities (washing and crying – oops, sorry about the typo, of course we mean drying), so you can re-vitalize your clothes ;) + bike rental  Cleanliness is something not to be taken for granted, and we take it very seriously. We’ve even won the 'cleanest hostel worldwide' award multiple times.  By travellers for travellers We have travelled the world ourselves - so we know firsthand what travelling is like and what you expect from us. We care about you and listen to your feedback. We provide an inviting, safe atmosphere for you to retreat to at the end of the day. After you've been on the road, seeing sights and walking until your feet ache, it's good to know you've got a comfy place waiting for you at our hostel, where you can chill, drink beer, exchange travel wisdom, and make new friends. Among all these extras and details, there’s one thing that makes Wombat’s truly stand out. It’s the hostel atmosphere that we all love: travellers sharing not only a space, but an experience. Your stay is bound to be a memorable one!   (Minimum age: 18.)\",\n",
       " 'Among underground music venues, innovative museums, and hidden foodie hotspots, Selina Camden suits its edgy North London backdrop. Aside from offering beautifully-designed accommodation and a comfortable space to hang out, the Selina Camden hotel is an authentic cultural hub, consistent with great guest experience, an ever-changing calendar of exciting diverse programming, and unique wellness experiences. Reflecting Selina’s unique global reach, our Camden destination is here to explore and tie together the shape-shifting diversity of global music. On-site features include a fully-equipped communal kitchen, a loft complete with a stunning balcony, and a trendy vegan/vegetarian neighbourhood-style eatery. Wake up early and head downstairs for some yoga before experiencing the best of Camden’s vegan gastronomy scene at our hotel restaurant. Take to the streets and explore the many attractions on your doorstep- from Camden Market to London Zoo, The Electric Ballroom, and multiple nearby eateries, we’ve got you! Back at Selina, unwind in the basement accompanied by vinyl tunes, catch a performance by local young talent, or order a pre-gig cocktail at the bar. As the sun sets, catch a show in one of England’s most iconic venues or head to the streets to experience London’s eclectic nightlife till the early hours. Selina Camden - Terms & Conditions  24-hours front desk. Cancellation policy: 24h before arrival. In case of a late cancellation or No Show, you will be charged the first night of your stay. Check in from 15:00 to 23:00 . Check out before 11:00 . Payment upon arrival by cash, credit cards, debit cards.  Taxes included. Breakfast not included. No curfew.',\n",
       " 'IMPORTANT NOTICE: This hostel is for 18–35-year-old ONLY.  Check In is from 2 pm and Checkout is Before 10 am. Passport, Identity Card or Driver License is Required from all Guests. We accept cash in British Pounds and most cards. Please, note the reception is opened between 8am and 10pm only.  \"Your home away from home\"  Looking for a great central London Hostel? Your search can come to rest to at London Backpackers Youth Hostel in Hendon.  We are moment from Hendon Central Underground station, minutes from the heart of London and easy access to nearby airports (detailed instructions of how to find the Hostel will be emailed to you once your Booking is made). We take pride of providing excellent hostel facilities for your stay, whether for a single night or several. For Group Bookings please contact the Hostel Directly. If you are looking for long term accommodation, email us for rooms and prices available for quarantining and long stay.  Our rates are truly inexpensive, but our hostel is jam-packed with amenities tailored for young, and young at heart, people looking for a comfort at a modest price with a friendly atmosphere. Bookings made on this or any website are Not Valid for Existing Guests. If you are and Existing Guest and make an Online Booking, your Booking will be honored but you will be charged the Full Nightly Rate. In the event of a NO SHOW or LATE CANCELLATION, Guests will be charged a Cancellation Fee Equal to the First Night of the Booking. WHAT YOU CAN EXPECT: Our facilities supply free linen, blankets, private rooms with towels, internet access, TV, literature, City Maps and UK Sim Cards, and a fully fitted kitchen for cooking (with Fridge/Freezers, Oven, Stoves, Microwave, Toaster and Kettle). You will not find another cheap London Youth Hostel that provide clean showers and toilets, plus hot water guaranteed 24h a day. For your convenience we also provide a laundry room with washer and dryer. Bunk Beds with Privacy Curtain, USB Charging Ports, Power Sockets, Reading Light and Locker. (Bring a Padlock or purchase from Reception). Sports Equipment for the nearby Hendon Park, just up the road with a large football field, tennis courts, basketball courts and it is a great place to get active during the day or to chill out with friends in the evening. You can also enjoy a Pool game in our brand-new basement, equipped with seats and TV for more comfort! We want your stay to be carefree and we ensure that by offering lockers and luggage room for your use in securing your property during your stay. The Hostel is covered by CCTV and there is 24hr Key Card Access with No Curfew. Moreover, you can find plenty of coffee shops and restaurants around the hostel and for every taste!  For your convenience you will find Tesco, Sainsbury’s, and other international shops 2 min walk from the hostel. They are all opened until late at night, even on the Sunday.  We are a 10-minute walk away from Middlesex University as well as Brent Cross shopping centre. The Royal Air Force museum is right by the next underground station! DESINFECTING AND CLEANING: Since COVID-19 started, face coverings must be worn when arrival at the hostel, in corridors and all public areas. We have implementing a vast number of procedures and training with the team to ensure your safety. The hostel is disinfecting every 4 hours and hand sanitizer stations are available all around the building.  CONTIENTAL BREAKFAST AND HOMEMADE DINNERS TWICE A WEEK: We are offering every day a breakfast served by our team, contactless due to the current situation. We wanted to keep this morning routine for our customers to ensure a better comfort. Home sweet Home!  Twice a week out team is cooking a homemade dinner, using herbs and spices from our indoor hostel garden! Every guest is invited to join us and get a a plate at our table! We have set this up for reducing the number of people using the kitchen and share a great time together, with social distance of course!  Our team is giving the best of them to make your stay comfortable as much as we can during this special time. SAFETY AND HAPPINESS are our first priorities, and we are delighted to welcome you at London Backpackers Youth Hostel!  SPREAD LOVE NOT GERMS!',\n",
       " 'COVID 19 Policy Update. In response to Coronavirus (COVID-19), additional safety and sanitation measures are currently in effect at this property, including social distancing and in-house disinfection.  St Christopher’s Inns at The Village in London Bridge is the UK’s first capsule hostel. Its brand new rooms have been specially designed for our guests to get the best night sleep possible before they wake up in amongst one of London’s most vibrant areas.  Voted as one of the best party hostels in the world, our multi-award winning hostel offers guests Japanese-style capsule beds with USB ports, cool mood lighting and curtains for privacy. We even have new private rooms with one having an awesome view of the Shard right outside! Step out the door and you’ll be just a short walk away from the London Eye, Tower Bridge and the oldest food market in the city, Borough Market. We’re also only a two minute walk from TWO tube stations so getting anywhere in London couldn’t be easier.  Party into the night in our hostel party bar Belushi’s, head down to the Dugout to watch live sports and indulge in our legendary burgers with a discount for all our guests. *Please note that we require an in date government approved - drivers license, passport or national ID card at check-in. **Guests under the age of 18 must stay in a private room with guardians. They cannot share in general dormitory rooms with people who are not part of their own group or family. Under-18s are not allowed in the bars or pubs. ***The maximum stay policy is 14 days',\n",
       " \"Generator London is a design hotel-hostel located in Russell Square in the heart of central London, a short stroll to Covent Garden, Regents Park and trendy King's Cross. Guests can choose from shared dorms to private rooms, offering something for everyone. Complete with 24-hour reception, free wifi, cafe and bar Generator is a fun and affordable choice in London. Generator London was the very first Generator and you'll find it in the area of Russell Square in the heart of the West End.  It's the ideal spot to enjoy London from, everything you need to see is minutes away by tube. You'll never run out of things to do in the UK's capital. You just have to decide where to start and we can help you with that. When you have seen and done it all for the day head back to Generator and unwind.  It's a destination in its own right and a great place to socialise and reflect on your experiences of the day. Head to the bar and chill out areas to get yourself a well deserved drink or two. It's lively, friendly and un-missable. We've also got great beds for sleepy heads and of course you'll be enjoying London life in the most authentic surroundings.  Choose from a great selection of rooms, from Dorms, to Quads, to Private rooms with innovative mod cons. Fast and free Wi-Fi is all yours too. To get the most out of your stay visit the travel shop and our city experts will help you devise an itinerary that will take you to all the hidden treasures this dynamic city has to offer. You'll have to stay longer to fit it all in but you'll not need convincing of that. We'll see you there soon. Important points:  Central location Situated close to Russell Square  Complimentary Wi-Fi in public areas & guest bedrooms  Travel Desk  Luggage Store  Laundry Room  Games Room  Bar & Chill Out Areas  Nightly Events & Entertainment  Dining facilities for breakfast, lunch, dinner and all day snacks  Female Dormitories  Dormitories for 4, 6 & 8  Group bookings FREE WI-FI Stay connected. Free for all! THE BAR Order a classic cocktail. Open from 5pm-2am with fun and games every night. THE LOUNGE & CAFE  Open everyday BREAKFAST Breakfast not included. International breakfast available upon request: £8.50 if booked online. Daily from 7 am to 11 am DINNER.  Delicious meals available between 5-9pm every evening. A dish of the day will also be available together with the bar snack menu. SNACKS Vending machines available for night owls to satisfy the midnight munchies. ROOMS TO AMAZE A wide selection of contemporary Privates, Twins, Triples & Dorms, with crisp white linen all available at great rates. Towels included complimentary in Twin rooms only. BATHROOMS Shared showers on every floor.  LAUNDRY Open 24 hours a day where you can wash, dry and iron for a small fee. 24 HOUR RECEPTION No need to worry about arriving late or early. The Generator Reception is open 24 hours a day with a duty manager who's always around to help. LUGGAGE STORE Secure luggage room is available so you can sightsee without dragging your bag with you. GREAT STAFF All our staff are multi lingual and on hand to help you with whatever info you need. TRAVEL SHOP Purchase tickets, tours and a whole lot more including phone and postal service. We will help you make the most of your stay. Undecided? Take advantage of our complimentary guided walking tour available daily. Unfortunately guests under the age of 18 are not allowed to stay in the dorms . We look forward to giving you a warm welcome to The Generator in the near future.\",\n",
       " \"Safestay Holland Park Safestay Holland Park is ideally located in the heart of London, nestled within one of the capital's most prestigious parks. This stunning hostel consists of 3 buildings, including the East Wing of the park's original Jacobean building and surrounds our private courtyard garden. The property has been fully refurbished to the high standards for which Safestay is renowned.  The Grade 1 listed building is located on the edge of London's famous Holland Park(search for Holland walk and duchess of Bedford Walk on your maps) and will provide Safestay guests with the opportunity to stay in the heart of one of the capital's desirable neighbourhoods. The property dates back to 1605 along with a 1950's extension and is situated in a huge garden within the middle of one of London's most beautiful parks. Historic, Jacobean splendor, in a great city location. Who says you can’t have it all? This mansion in the middle of Holland Park was visited by Sir Walter Scott, Lord Byron and Dickens. Today it offers large, comfortable rooms to you.  Three different houses with a range of standard & ensuite rooms as well as family rooms & private rooms for everyone! Pool room, breakfast room & bar as well as garden, roof terrace & the whole Park itself with its famous beautiful woodland trails, manicured lawns, the Kyoto Japanese Garden with its resident Coi, and a fantastic ice cream stand in the middle. Opened in 1952, Holland Park used to be a private estate belonging to the Earl of Holland. During the 19th century the Holland House attracted high profile visitors from various walks of life, from the politician, Lord Palmerston, to the poet, Lord Byron. Safestay Holland Park has excellent transport links and is within easy reach of The Natural History Museum, Holland Park Avenue, Notting Hill Gate, Portobello Market, Harrods, The Science Museum, Hyde Park, Westfield Shopping Centre and Kensington Palace Gardens. Dormitory style and range in size from 2 beds upwards. They offer mixed accommodation. Clean fresh sheets included in the price. Lockers available in rooms. Padlocks available for sale Safestay Holland Park's Policies & Conditions: Cancellation policy: 24 hours before arrival.  Payment upon arrival by credit cards, debit cards.  This property may pre-authorise your card before arrival. Check in from 14:00 to 23:00. Check out before 10:00. Taxes included. Breakfast not included - 6.00 GBP per person per day. General: 24-hour Reception. No curfew. Bookings cannot be accepted from any person age 16 years or under, unless they are accompanied by an adult (over 18) who is staying in the same dorm/room. Families with children aged 16 years and under are welcome, however they must book and pay for all beds in order to make the room private (i.e. in the case of 4 bedded dorms or larger).  Alternatively we have 2 Bedded and 3 Bedded Private rooms available, subject to availability.  Look out for the Peacocks! Show more\",\n",
       " 'Do London like a local. Stay just outside the hustle of the city in a leafy London suburb at our neighbourhood Hostel-Pub, The Crown. Hang out with the friendliest locals in town and enjoy the banter over live sports on our big screens, watch the world go by on the terrace, or get comfortable with new friends in our courtyard garden. Perfect for travellers looking to experience real London with real Londoners. Legendary London adventures start at PubLove. All our Hostel-Pubs are welcoming, small and social - the perfect places to get to know your fellow travellers. The best thing about staying with us? Your common room is the great British pub! We have 24hr bars specialising in craft beer & gin. Get social with the locals or swap stories over a drink with your fellow backpackers. Our dorms are modern, cool and spotlessly clean. Our bunks have hygiene/privacy screens, dedicated power sockets, great free Wi-Fi and crisp white linen. Our top-class washrooms are private and offer shampoo, shower gel and plenty of hot water. Every Hostel-Pub has an award-winning Burger Craft kitchen serving up burgers, loaded fries and brunch, with vegetarian and vegan options. They open daily from 12pm until 10pm. BOOK NOW to start your own London adventure.',\n",
       " \"247london Hostel and Private Rooms is a home away from home Accommodation for backpackers, travellers or someone who just wants to have a chilled and cosy place stay with all the comforts you would have at your own home... All this for a great price....Look forward to having you stay... If you are looking to meet and socialise with other friendly travellers, you can choose from 6, 8 or 10 bed dorm rooms, mixed or female only! We are not a party hostel, but we offer friendly, relaxed 'homely' accommodation. The hostel has a great atmosphere where you can socialise with other travellers to give you that feel for London life. There's no curfew, so you can discover our beautiful city on your own terms! All bedding is provided. Large, fully equipped shared kitchen, comfortable lounge room with plasma T.V, garden area, night caretaker, daily cleaners, no curfew, FREE INTERNET (basic WiFi connection and shared computers provided), coin operated washer and dryer on site.  - Please note our youth hostel unfortunately has an age restriction of 18-45 years old. We offer private accommodation for guests outside of this age bracket. PRIVATE ACCOMMODATION Choose from single, double/twin, triple and quad rooms and studios. All rooms and studios have : - Fresh linen - plasma TV - Wardrobes - Towels - Welcome pack - Wooden floorboards - Bar fridge - Heaters - FREE WIFI (basic connection) - Access to coin operated washer and dryer on site Private rooms are completely private, and you have access to our fully equipped kitchens, and communal bathrooms. Studio apartments are fully equipped with your own private ensuite, and kitchenette, no shared facilities. - Please note that studio apartments incur an additional £2 per day, on top of the total rent owed. - Please note that private accommodation is not serviced. We can service rooms/studios upon request at an additional charge. Please contact reception. Please note: Check-in from Monday - Sunday : 11am - 5:45pm. Sunday 11am - 3:45pm Check-out by 11:00  Cancellation policy is 24h in advance We have a minimum spend of £250 to make payment by credit/debit card. Any payments made by card incur a 5% surcharge. Payments by cash/bankers draft are accepted.\",\n",
       " 'The heart & soul of London backpacking Pull up a bar stool and talk until morning at PubLove’s most sociable Hostel-Pub. As well as being on the doorstep of London’s biggest tourist attractions, the Steam Engine is beautifully soulful and life-afﬁrming - you’ll feel at home as soon as you step through the door. Warning: you’ll never want to leave.  Perfect for travellers looking to meet new people to share their London adventure. Legendary London adventures start at PubLove. All our Hostel-Pubs are welcoming, small and social - the perfect places to get to know your fellow travellers. The best thing about staying with us? Your common room is the great British pub! We have 24hr bars specialising in craft beer & gin. Get social with the locals or swap stories over a drink with your fellow backpackers. Our dorms are modern, cool and spotlessly clean. Our bunks have hygiene/privacy screens, dedicated power sockets, great free Wi-Fi and crisp white linen. Our top-class washrooms are private and offer shampoo, shower gel and plenty of hot water. Every Hostel-Pub has an award-winning Burger Craft kitchen serving up burgers, loaded fries and brunch, with vegetarian and vegan options. They open daily from 12pm until 10pm. BOOK NOW to start your own London adventure.',\n",
       " \"If you are looking to meet and socialise with other friendly travellers, you can choose from 6, 8, 10,12 bed dorm rooms, mixed or female only! The London Home Hostel is a home away from home for backpackers, travellers or someone who just wants to have a chilled and cosy place to stay with all the comforts of home.  We are not a party hostel, but we offer friendly, relaxed 'homely' accommodation. The hostel has a great atmosphere where you can socialise with other travellers to give you that feel for London life. There's no curfew, so you can discover our beautiful city on your own terms! All bedding is provided. Large, fully equipped shared kitchen, comfortable lounge room with plasma T.V, garden area, night caretaker, daily cleaners, no curfew, FREE INTERNET (basic WiFi connection and shared computers provided), coin operated washer and dryer on site. Please note: Check-in from Monday - Saturday : 11am - 5:45pm. Sunday 11am - 3:45pm Check- out by 11:00 Cancellation policy is 1 day in advance We accept payment by cash and credit card. We have a minimum spend of £250 to make payment by credit/debit card. Any payments made by card incur a 5% surcharge. Payments by cash/bankers draft are accepted Taxes are included\",\n",
       " \"Wombat's The City Hostel London is definitely the place to stay if you want to experience all that London has to offer. Only minutes away from sights such as the Tower Bridge, the Tower of London, and the City Hall, it's next to Wilton’s Music Hall and an easy walk from the buzzing nightlife of Shoreditch. The location is ideal for young travellers. Not only is the location awesome, the building itself is breath-taking. Formerly a seamen's hostel, the building was converted to an amazing travellers' oasis featuring a huge bar, a courtyard, a cosy hangout area in the lobby, and all the amenities a backpacker could wish for. * Please note: due to the pandemic, our bar remains closed at the moment. Wombat's The City Hostel is proud to be one of the most experienced hostel chains (over 20 years of hostel expertise!) with a history of award-winning properties all over Europe: Budapest, London, Munich, and Vienna. Wombat’s The City Hostel offers safe, clean, quality accommodation in either (1) a spacious dorm room with an ensuite bathroom and individual lockers for personal belongings or (2) a private room with two twin beds/one queen bed and private bathroom. Included + bedding + fast WIFI in the entire building + our own Wombat’s city maps  + fully-equipped guest kitchen (plus: free food section, including free noodles and rice) + luggage room  Additional features + our lively womBar serves affordable drinks/cocktails/snacks and offers happy hours and regular events  Please Note: due to the pandemic, our bar remains closed at the moment. + coin-operated laundry facilities (washing and crying – oops, sorry about the typo, of course we mean drying), so you can re-vitalize your clothes ;) + bike rental  Cleanliness is something not to be taken for granted, and we take it very seriously. We’ve even won the 'cleanest hostel worldwide' award multiple times.  By travellers for travellers We have travelled the world ourselves - so we know firsthand what travelling is like and what you expect from us. We care about you and listen to your feedback. We provide an inviting, safe atmosphere for you to retreat to at the end of the day. After you've been on the road, seeing sights and walking until your feet ache, it's good to know you've got a comfy place waiting for you at our hostel, where you can chill, drink beer, exchange travel wisdom, and make new friends. Among all these extras and details, there’s one thing that makes Wombat’s truly stand out. It’s the hostel atmosphere that we all love: travellers sharing not only a space, but an experience. Your stay is bound to be a memorable one!   (Minimum age: 18.)\",\n",
       " \"Safestay at Elephant & Castle is ideal if you are looking for budget accommodation in London, whether you see the sights in this amazing city or travelling with your family. If Tate Modern, the National Theatre, The Imperial War Museum, the London Aquarium, the London Dungeon, a cricket match at the Kia Oval or clubbing at the world-famous Ministry of Sound are on your must-do list, Safestay London Elephant & Castle is perfectly located. Our beautiful 18th-century Georgian building is centrally located, close to London’s mighty River Thames and the restaurants, bars and cafes the Southbank is famed for, along with the London Eye, Borough Market and Shakespeare's Globe Theatre. It's secure, stylish, comfortable and fun, with an illuminated garden for you to relax in. So if you're after budget accommodation in London, bringing a group of school children to study the sights or want something different from the usual options in London, why not try this fantastic hostel out for size. Close to all the big London tourist attractions, our staff will happily help you plan your visit and give you top tips on what is happening in London during your stay. See these London landmarks within 6 stops of the hostel using the Underground: • Oxford Street • Piccadilly Circus • Leicester Square • Covent Garden • Westminster Abbey • Big Ben & the Houses of Parliament • Buckingham Palace • St Paul’s Cathedral • The Tower of London and Tower Bridge  FREE WI-FI Free across all areas BREAKFAST Enjoy our packed breakfast served between 7:00 am – 10:00 am for only £4.50 Travelling with children? Cots are available on request. Please contact the hostel in advance to arrange. Attractions: We sell discounted and fast track entrance tickets to some of London’s most famous sights and best kept secrets. Including the London Eye, Madame Tussauds, The Tower of London, Walking tours, Bike tours, boat trips, and many more. Hostel Activities: We organise fun stuff for you to do nearly every day of the week! Such as Free Walking tours, top-rated Pub Crawls, Group trips to famous West End Shows, Jet boating on the Thames\",\n",
       " 'Where it all began - PubLove was born here in 2007.  Loved by backpackers for well over a decade, The Green Man is the original Hostel-Pub and the ideal base for your London adventure. Visit the legendary Wembley Stadium & Lords Cricket ground, hit the shops on the world-famous Oxford Street, then dive into the warm glow of the West End & Theatre-Land. Head back to the bar to check your photos over a pint & a burger. London baby! Perfect for the travellers looking to experience the London that the whole world loves. Legendary London adventures start at PubLove. All our Hostel-Pubs are welcoming, small and social - the perfect places to get to know your fellow travellers. The best thing about staying with us? Your common room is the great British pub! We have 24hr bars specialising in craft beer & gin. Get social with the locals or swap stories over a drink with your fellow backpackers. Our dorms are modern, cool and spotlessly clean. Our bunks have hygiene/privacy screens, dedicated power sockets, great free Wi-Fi and crisp white linen. Our top-class washrooms are private and offer shampoo, shower gel and plenty of hot water. Every Hostel-Pub has an award-winning Burger Craft kitchen serving up burgers, loaded fries and brunch, with vegetarian and vegan options. They open daily from 12pm until 10pm. BOOK NOW to start your own London adventure.',\n",
       " 'With the British Museum literally on its doorstep, it is impossible to beat this hostel’s location! Located in the very heart of Central London you are a short walk from iconic attractions like Piccadilly Circus, Trafalgar Square and Covent Garden.  It doesn’t matter if you are shopping down the legendary Oxford Street, watching a play in Leicester Square’s world famous theatre district, having dinner in China Town, drinks in Soho, or partying in the West End you are always a short walk home to a nice and quiet street in an amazing neighbourhood! The moment you walk through our doors you become part of our family and we want you to have an incredible experience! We want every detail – from our super clean bathrooms and comfortable pillows to our unforgettable social events - to be perfect, giving you a London adventure that is 10 out of 10! VALID government issued ID required to stay with us, and ALL guests must be between 18-40 YEARS   At our amazing hostel you will have full access to: • Free Fast Wi-Fi throughout the building • Reception  - Check-out is between 8am and 10am (drop-off box is available for earlier check-outs).  - Check-in is available between 2pm and 10pm (please let us know your arrival time to ensure someone is there to greet you with a masked smile!).   (A staff member is available 24 hours a day for emergencies, a number will be provided if you have any issues).  • Facilities  - Kitchen and common areas are closed due to Covid-19 safety measures. Access to these facilities will only be available for long-term guests (28 days and over bookings). These facilities will only be available to use after ten days staying at the hostel; this is a safety precaution for you, other long -term guests, and staff. There will be a maximum number of people allowed to use each space at any one time to ensure social distancing.  - We are currently unable to organise daily events due to government restrictions, but will have all the info you need on what is going on in beautiful London! • CCTV in operation 24 hours • Storage lockers for your valuables (laptops, cameras, phones, etc) £2 per day • Luggage storage available before check-in (free) and after checkout (same day as check-out £2 per bag; per additional days at £7.50 per bag, per day) • Laundry facilities available 24-hours. Hairdryers and ironing facilities free to use • Helpful Extras – (Hidden costs are a pain! If we can give it to you for free we will, if we cannot we will do it as cheap possible!).  • Free City Maps  • Tourist Information, walking tours and advice on local attractions and transport • Hire padlocks and adaptors free of charge with a £5 deposit (you receive your money back upon return) • Towel Hire for only £2 charge with a £5 deposit • Free printing facilities (boarding passes, tickets etc…) • Clean, crisp linen on your bed ready to sleep on! Please note our “Basic” room types allow you access to all of our amazing facilities! However, the building is located a short walk (1 minute) away from the main building, but if you need anything there is a direct telephone which will connect you with our reception. Winner of No.1 Small Hostel Group Worldwide, and a Lifetime Achievement Award for excellence in the Hostel Industry. We thrive on ensuring every guest leaves satisfied and if you have any problems along the way we are always there ready to help! For this and many other reasons staying at Astor Hostels is the top choice for anyone exploring London on a budget!  Reservations must be made for guests over the age of 18. Any reservations made for those under the minimum age will be cancelled and you will not receive a refund. The hostel organises daily events aimed at backpackers between the ages of 18-30, it is therefore suggested that guests under the age of 40 would enjoy the hostel the most. Proof of identification must be shown on arrival and can include a passport, driving license and national identity cards. We cannot accept paper driving licences, student or employee IDs as proof of identity and failure to show proof or a copy upon arrival will result in the cancellation of a reservation without a refund. Get in touch with us for further clarification. When booking for 12 persons or more, different policies and additional supplements will apply.',\n",
       " 'Walk to the river, turn left, and just keep walking… Stay at The White Ferry House and ﬁnd yourself in an oasis of calm in a beautiful London backstreet. Located minutes from Victoria coach & train stations, our stunning ﬂat iron building is full of warmth, charm and history. Start your own river walk 5 minutes from our front door, or walk to Buckingham palace before you’ve ﬁnished your morning coffee!  Perfect for travellers who love to discover their own adventures. Legendary London adventures start at PubLove. All our Hostel-Pubs are welcoming, small and social - the perfect places to get to know your fellow travellers. The best thing about staying with us? Your common room is the great British pub! We have 24hr bars specialising in craft beer & gin. Get social with the locals or swap stories over a drink with your fellow backpackers. Our dorms are modern, cool and spotlessly clean. Our bunks have hygiene/privacy screens, dedicated power sockets, great free Wi-Fi and crisp white linen. Our top-class washrooms are private and offer shampoo, shower gel and plenty of hot water. Every Hostel-Pub has an award-winning Burger Craft kitchen serving up burgers, loaded fries and brunch, with vegetarian and vegan options. They open daily from 12pm until 10pm. BOOK NOW to start your own London adventure.',\n",
       " \"The hostel is housed in a historic building in beautiful Angel (borough of Islington).  Our goal is to create a space for travellers to explore the exciting fast paced life of London, and, at the same time, have a safe environment to relax and recharge, meet likeminded people and share unique experiences. We are just moments from the bars, restaurants and nightlife of Upper Street and Shoreditch, and 150 metres (5 minute walk) from Angel tube station which gets you to all of the best parts of London in minutes.  Angel is a vibrant part of London. On the edge of the City centre, and yet still a traditional local community.  Islington has been the home to reformists for centuries, so behind that elegant facade lies the beating heart of change. Islington is home to many local attractions that will let you see a different side of London than the normal tourist haunts. You can enjoy free unlimited high speed WiFi in all areas, a massive fully equipped kitchen for you to cook (we know how expensive London is to eat out), and a chill-out lounge to while away the hours and make new friends.  We don’t have a bar on site, so you can either sample the many local pubs or bring your own drinks back. We host lots of fun events, movie nights, games evenings and delicious dinners which all can enjoy - to name a few. There’s free tea and coffee all day, a free computer, TV, board games, book exchange, hairdryers, towels, travel advice, and more for you to enjoy.  Feel safe at Prime Angel with 24 hour security and CCTV. We have lockers (bring your own padlock) and luggage storage on the day of arrival and departure. Also, please note that since the building is almost 200 years old there is no elevator (free work out). Prime Backpackers Angel Policies & Conditions: Strictly no Hen or Stag parties, or group bookings for more than 8 people.  If we suspect that you are a Hen or Stag party when you arrive then we reserve the right to cancel your booking and not refund any monies paid.  Same goes for groups bigger than 8 that come in two (or more) separate reservations but actually are one group (we really don't want to do that). Check in from 15:00 to 21:00 .  Check out before 11:00 Cancellation policy:  Standard reservation = 48hours before arrival Payment upon arrival by credit cards and/or debit cards. We do not accept cash payments.  This property may pre-authorise your card before arrival. Non-refundable reservations may be charged in full at any point after the reservation has been made. (Please have the credit card you used for the reservation at check in). Taxes included.  Breakfast not included. General:  No curfew.  Our reception is open from 9am to 9pm, seven days a week. If you plan on arriving outside of these times, please let us know. Guests under the age of 18 can only be accommodated in the private rooms. Please remember that we do not accommodate groups of 8 people or more. Any reservations made for more than 8 people will be cancelled. We have maximum stay of 14 nights per guest (not reservation but person). Any reservations exceeding these 14 nights will be cancelled. Mandatory Requirements: Guest must arrive from within the UK or after 2 weeks of quarantine elsewhere before their arrival here during COVID-19 pandemic. The card owner to be present with their id during check in. Have the guest pay using the PDQ machine (with a pin). Pay via bank transfer\",\n",
       " \"We are centered around one London's historic garden squares, and a very short walking distance to Hyde Park.  Free WIFI  Free Bed Linen  24 hours Hot Shower Facility  Friendly Staff  Easy Transport Links  Discounted Tickets For Tourist Attractions  Free City Maps Please note: Check-in from 15:00-23:00 Check- out by 11.00 We accept payment by cash & credit card Taxes are included. Breakfast is not included The Property will contact you for the CVV of the card used to make the booking. Failure to provide this within a reasonable period of time will lead to the cancellation of your booking. In doing this we will then email/call each guest to secure this number and if we are unable to do so we will then be covered in our rights to cancel the booking if we are not satisfied that the customer is a genuine reservation.\",\n",
       " 'UNFORTUNATELY WE DO NOT HAVE THE FACILITIES TO APPROPRIATELY ACCOMMODATE GUESTS WHO NEED TO SELF ISOLATE FOR 14 DAYS.  ALL GUESTS ARE REQUIRED TO WEAR A FACE COVERING AS PER UK GOVERNMENT GUIDELINES UNLESS THEY CAN DEMONSTRATE THEY ARE EXEMPT. At No.8 we take pride in our Customer Service and ensure that all of our Guests get everything they want from their time in London. We cater for the Young & Young at Heart Backpacker 18-48, Photo IDs will be required on Check In. We have Live Entertainment on Weekends within our Traditional English Pub, along with the usual range of pub entertainment and banter! - Free High-Speed WiFi - Full Facility Kitchen, Dining Space & Outdoor Deck - Secure Storage Facilities & 24 Hr Key Card Access - Large Lounge - Pool Table, Chess Table, Couches, Satellite TV & Darts Board etc.  - Traditional English Pub & Beer Garden - Young & Young at Heart Backpackers 18-48 – ID on Check-In Required. - Payment by Cash only on Check in (Cards not accepted) - ATM on site (Does not accept Credit Cards) - £20 Key Deposit (Fully Refunded On Check-Out) - No refunds are made following Check-In - Reception is open from 10:00am-10:00pm Sun-Thurs and 10:00am-11:00pm Fri-Sat. PLEASE NOTE that Check In will NOT be possible outside these hours. If you are running late or will be arriving slightly outside our reception hours, please contact us to see if there is a possibility of us accommodating your arrival outside of opening hours. Whether it is your first time in London or you are a seasoned traveller, No.8 has everything you need (and a few extras) to ensure that your stay in London is definitely Enjoyable & Comfortable!',\n",
       " \"Temporary changes at YHA London St Pancras, please read carefully.  YHA St Pancras offers private rooms with en-suite or shared toilet and shower facilities on corridors. For stays before 7th September 2020, private rooms using shared toilets and showers will be allocated a specific toilet/shower for sole-use. From the 7th September shared toilets and showers will be in operation with extra Covid-secure cleaning regimes. For the foreseeable future, the following facilities will not likely be in operation at YHA London St Pancras, although we’re working hard to open these safely as soon as we can: Lounge Meeting room Luggage room/stores Dorm rooms Bar Check in time: 5 pm Check out time: 10am Dorms are not currently available but we’re working hard to re-introduce them. We will be serving a limited food and drinks menu for guests to take away. Opposite St Pancras International station and within easy reach of London's top tourist attractions, this is an exciting and convenient base for anyone exploring the city. Across the road from St Pancras station, home of Eurostar, and minutes from Euston and Kings Cross, this location is an ideal mid-trip stopover. Families will love its convenient location for Camden's vibrant markets, London Zoo, the British Library and British Museum.  Visit our licensed café/bar for our city-style breakfast or relax over a light snack or full meal. YHA London St Pancras has no self-catering facilities. We're not equipped for group bookings - please contact YHA London Thameside or YHA London Holland Park for group reservations. Please note, we do not charge an additional temporary membership fee. Discounts are not available for members of YHA (England & Wales) or IYHF as part of this booking. London Attractions: We sell discounted and fast track entrance tickets to some of London’s most famous sights and best kept secrets. Including the London Eye, Madame Tussauds, The Tower of London, Walking tours, Bike tours, boat trips and many, many more. Plus, every penny we make at YHA goes directly back in to our charity ‘Breaks for Kids’ which makes it possible for children from financially disadvantaged backgrounds to take part in school or community group breaks away! Ask us for a full activity list on check in. Hostel Activities: We organise fun stuff for you to do nearly every day of the week! Such as Free Walking tours, top rated Pub Crawls, Group trips to famous West End Shows, Jet boating on the Thames, Burger nights, Sunday Roasts, movie nights…..well, you get the drift! It’s a fantastic way to meet other travellers and really make the most of your time in London! Find out what’s happening in Your YHA London Hostel while you’re staying with us - ask for the itinerary when you check in. Photo ID must be presented upon arrival and match the name and address on the booking. Where a booking is for more than one person, the named person on the booking will need to provide photographic proof of identify that matches the name and address on the booking. Photo ID will also be requested from all other adult guests. These photo IDs must match the name they sign in with at check in. If photo ID cannot be provided, you will be refused entry to the property.\",\n",
       " '*Hostel Update* Our doors will remain open to essential workers and business travel as defined by the UK Government between 5th November - 2nd December 2020. The health and wellbeing of all our guests and team members is, and always has been, at the heart of our business. We have implemented our Staying Safe Together policy to ensure the highest standard cleanliness throughout the Hostel and put social distancing measures are in place to keep everyone safe. If you have an existing leisure booking with us, please don’t worry, our friendly team will be in touch with your options as soon as possible. With room for over 300 guests and an ideal central location, just minutes from Oxford Street, Soho Square, Piccadilly and Leicester Square, you’ll be right in the heart of the action!  SoHostel is London’s newest and most central hostel for travellers seeking comfortable but affordable accommodation. We offer we offer stylish, clean and secure accommodation for single travellers, couples and groups. Our large range of rooms will suit everyone’s needs and budget. From 6-bed dorms to rooms with access to shared bathrooms, and our brand new rooms with private en-suite bathrooms, there is something for everyone! Breakfast is available on-site along with 24 hour vending for your midnight cravings. Bed linen is provided and towels can be hired at a surcharge. Washing and drying laundry facilities are available. Guests can relax in the shared TV lounge, or have a drink and make new friends at the onsite bar and enjoy our happy hour with half price drinks or daily special cocktails along with live music, karaoke nights and more! SoHostel Policies & Conditions: Cancellation policy: 48 hours before arrival.  This property may pre-authorise your card before arrival. Check in from 14:00. Check out before 10:00. Payment upon arrival by cash, credit cards, debit cards (except American express). Taxes included. Breakfast included. General: We ask all guests to show a proof of ID when checking in at SoHostel. This includes UK residents and British nationals. Provisional driving licences are not accepted as proof of ID. Age restrictions apply:  Bookings can ONLY be made by 18+,  UNDER 18(s) must be accompanied by a parent/guardian,  UNDER 11(s) must stay in a private room with a parent/guardian.',\n",
       " \"Keystone House is located in the heart of London, within two minutes' walk from Kings Cross and St Pancras station. Its location is perfect for exploring all the sites and attractions of London including Big Ben, Covent Garden, The British Museum, Madame Tussauds, Buckingham Palace, the Tower of London, St Paul's Cathedral, Tate modern and many more. Kings Cross and St. Pancras stations provide excellent transport links including the tube, bus, overground trains and of course, the Eurostar which operates out of St Pancras. Included in your stay: FREE Wi-Fi access FREE Maps FREE Bed Linen Our friendly staff are onsite and available 24/7 and security is taken seriously with 24 Hr CCTV in place. Before booking, please note that our two-bed basic twin private (or LU (London underground)) rooms are inner cabin rooms without windows but are said to be more peaceful.  We have recently undertaken extensive renovation of our communal shower blocks. Parents or guardians and family members with children under 18 must book the whole room with ensuite bathroom. Minors under the age of 18 must be accompanied by an adult guardian or parent and are not permitted in shared rooms. A valid passport or picture id is required for check-in along with a debit or credit card for all guests.\",\n",
       " 'Looking for a Bed & Breakfast with the best price and location in London? Look no more, Well Street Hall in East London is perfect for your city stay this summer. Located in lively Hackney, Well Street Hall is open to welcome guests for a single night or weekly stays. Well Street Hall - Terms & Conditions  Reception opening hours Mon- Fri 7.30am- 5pm/Sat- Sun 9am- 5pm Cancellation policy: 24h before arrival. In case of a late cancellation or No Show, you will be charged the first night of your stay. Check in from 12:00 to 17:00 . Check out before 10:00 . Payment upon arrival by cash, credit cards, debit cards.  This property may pre-authorise your card before arrival.  Taxes included. Breakfast included. No curfew. Bedding is provided and your room will be cleaned weekly. A rather delicious breakfast choice is available every morning. If you wish to use our kitchens they are equipped with all the things you would expect such as cookers, microwaves, freezers, pots, pans, crockery and cutlery. Well Street Hall is located in vibrant Borough of Hackney, just 5 minutes walking distance from Victoria Park and London Fields with its Broadway Market, best known for the street market held there. Tesco groceries, artisan coffee shops and international supermarket are just walking distance away approx. 3 minutes walk from Well Street Hall.',\n",
       " \"Clink261 is a comfortable, centrally located hostel just 5 minutes walk from King's Cross Tube and St. Pancras International Station; London’s main transport hub. The hostel offers free WiFi throughout the building.   Clink261 opened its doors 20 years ago. It's come a long way since then but it’s still got that laid-back feel that backpackers love. Staying at Clink261 feels a bit like coming home. With a self-catering kitchen, friendly staff, and comfortable sofas, it’s a welcoming place to return to after a day of city exploration. The old Student Union building has been brought to life with unique British-themed interiors. \\u202f    Clink261 has shared dormitory style accommodation along with girls' only dorms and private rooms. All bunk beds have individual reading lights, a USB/electric port to charge up your devices and a locker (sizes vary from room to room, bring your own padlock). Towels are included in private rooms and available to others for a small fee.    Guests can chill out in the lounge area or cook something tasty in the well-equipped self-catering kitchen. They are also welcome to head to ClashBAR at nearby Clink78 (just 320m away) where there are DJ nights, live music, pool/table football, and great drinks deals.\\u202f    Reception is open 24/7 and offers discounted tickets on tours and attractions. The friendly team will be happy to help with any questions.  King's Cross is a bustling and creative area of London. Famous gig venue 'Water Rats' is nearby, an open-air swimming pool is just the other side of King's Cross station (only for the brave!). 'Kerb' Street Food Market is held regularly in Granary Square. The British Museum and Camden Market are a 25-30 minutes’ walk away and all of London's big sights are easily reached on public transport.\\u202f  At just five minutes’ walk from King’s Cross Underground, Clink261’s location is hard to beat.  PARKING We don’t have any parking spaces directly at the hostels, unfortunately. However, parking is available at the nearby NCP car park. The address is: Judd Street NCP Car Park, Judd Street, St. Pancras, WC1H 9QR. The car park is open from: 05:00-23:00. Height restriction is: 1.9m Parking charges are as follows: 2 hours – £10.00 4 hours – £20.00 24 hours – £28.00 You can pre-book at https://www.ncp.co.uk/find-a-car-park/car-parks/london-judd-street/   Please make sure to read the hostel's Terms & Conditions before booking.  Special conditions apply for group bookings (20 guests or more), please contact the hostel directly. If you wish to cancel or amend your reservation and avoid full charges for your booking, please ensure you notify us by email as soon as possible and at least 48 hours prior to your arrival date notice. Passed this time, I am afraid full charges will incur.\",\n",
       " 'Situated in South West London, close to Balham underground and Rail stations, Burlington Residence offers unrivalled access to Central London. The Northern Line station at Balham runs for 24 hours a day on Thursdays Fridays and Saturdays, giving you the perfect opportunity to explore the wonderous nightlife of central London with ease. Being situated just a stone’s throw away from Clapham Common and Toting Common, staying with us will provide you with unprecedented ease of access to some of London’s top parks. While Balham has always had a strong community spirit, the last decade has seen the close-knit residents grow even prouder of SW12 as independent coffee shops, cool boutiques, and cult restaurants arrived aplenty. Whatever your reason for staying with is Balham can provide there are seemingly endless distractions for every interest, from outdoor swimming at the nearby Tooting Bec Lido to home brewing classes at We Brought Beer. The Bedford, located just a 4 minute walk away, offers five beautiful bars offer the finest artisan spirits, craft beers, cocktails, wine and Champagnes. Their restaurant focuses on using the best ingredients from the British Isles. Ed Sheeran famously performs there and stated; “I loved playing The Bedford in Balham – It holds fond memories for me and I look forward to coming back one day.” Burlington Residence Policies & Conditions: Cancellation policy: 24h before arrival. In case of a late cancellation or No Show, you will be charged the first night of your stay. Check in from 14:00  Check out before 10:00  Payment upon arrival by cash, credit cards.  This property may pre-authorize your card before the arrival. Taxes included. Breakfast included. Reception Hours 08:30 - 18:00 Monday to Friday No curfew. Pet friendly. Child friendly. Non smoking. Paid parking.',\n",
       " \"COVID-19 Policy Update In response to Coronavirus (COVID-19), additional safety and sanitation measures are currently in effect at this property, including social distancing and in-house disinfection.  All guest receive Free WIFI, Free lockers, Free linen and FREE BREAKFAST...Located in zone 1 and only 15 minutes walk from Big Ben and Westminster Abbey with the rest of London closeby. Stop press........each bed now has a double UK PLUG socket as well as 2 USB sockets ...so you can now charge your phone/tablet etc from the comfort of your own bed. We also have a kitchen with microwave, hob as well as 2 fridges and freezer to store any food that you buy. We have the honor of being the closest dedicated tourist hostel to Big Bien, Westminster as well as The London Eye itself. Our location is perfect. Free super-fast wi-fi throughout the entire building Free lockers..  Free internet cafe with pc Free tea and coffee 24/7 Free earplugs Free city maps Free london walking tour Free bed linen Check in times are restricted to 18:00 to 21:00 hrs due to covid-19 protocols. If you think you will arrive outside of these times it is not a problem and please email us at info@londonwaterloohostel.com There are no hidden costs Our nearest underground train station (Lambeth North..ZONE 1) is only 5 minutes walk from us and from here you can be in Piccadilly Circus and Oxford Street in less than 15 minutes.  As we are located in the centre of London you can walk all around the city without having to use the buses or London underground trains saving yourself the cost of an Oyster Card Our team are on hand to ensure every traveler has a uniquely memorable stay and a fantastic London experience.  Guests can socialize in our lively communal areas and our lobby bar, serving drinks, snacks and beer all day. The common room has a large-screen 50 inch TV. There's also a large guest kitchen with both microwave and hob, dining room and Free Internet Cafe. There is a bicycle docking station around the corner and a 24-hour bus stop at the end of the road. Lambeth north tube station is only a five-minute walk from the hostel. Our location near the banks of the river Thames puts us only yards from London's famous South Bank. A short stroll takes you into Westminster and the city's top attractions, including Big Ben, Westminster Abbey and Trafalgar Square. Our hostel is also handy for a spot of culture - visit the Tate modern or the imperial war museum nearby. With Waterloo rail station or Lambeth north tube station a short walk away it is the ideal starting point for your London adventure. Please see our reception for luggage storage lockers, tickets and tour bookings, maps and information about London. Our vibrant staff are passionate about making your stay a memorable one. We are unable to accommodate under-16's in our dormitories. Guests under the age of 16 are welcome to stay in one of our private rooms as long as they are accompanied by a adult parent or guardian. A £10 per person (cash only) refundable deposit will be collected on arrival. Photo ID required upon check-in. (no ID, no stay, no exception)  Please read our things to note below before making a booking.\",\n",
       " \"Cov-19 You will have to wear a face mask when entering the building. Compulsory.  Can not check you in if you do not have one.  Thank you. Hello and welcomed - the perfect stop on your backpacker trail of London! We offer a clean, friendly and a vibrant experience with excellent transport links into London. And if you like shopping, we have plenty of choice. Looking for a new Pandora ring or Molton Brown Handbag? Westfields Shopping Centre is just a short bus ride away, along with Ealing Broadway where you will find The all time favourite Primark.  For football and rugby fans you'll be pleased to know we are conveniently located close to Wembley and Twickenham.  Check in:  - Where possible, please arrive for check in before 23:00 - If you are arriving after 23:00 please confirm your booking by phone so a member of staff can discuss your check in. Check-in after 23:00 will incur in a 10£ charge. - Check-out up to 11am\",\n",
       " 'Located in the most beautiful and charming neighbourhood in London, Astor Hyde Park is one minute from Hyde Park and surrounded by some of London’s greatest museums including the Natural History Museum, Victoria & Albert and Science Museum. The hostel is a short walk from London’s best transport connections, including direct trains to Heathrow Airport and all of London’s attractions. If this weren’t enough the iconic pubs, excellent shopping, amazing restaurants and occasional celebrity sighting make it the perfect place to live while in London! The moment you walk through our doors you become part of our family and we want you to have an incredible experience! We want every detail – from our super clean bathrooms and comfortable pillows to our super friendly staff - to be perfect, giving you a London adventure that is 10 out of 10! VALID government issued ID required to stay with us, and ALL guests must be between 18-40 YEARS   At our amazing hostel you will have full access to: • Free Fast Wi-Fi throughout the building • Reception  - Check-out is between 8am and 10am (drop-off box is available for earlier check-outs).  - Check-in is available between 2pm and 10pm (please let us know your arrival time to ensure someone is there to greet you with a masked smile!).   (A member of staff is available 24 hours a day for emergencies, a number will be provided if you have any issues).  Facilities  - Kitchen and common areas are closed due to Covid-19 safety measures. Access to these facilities will only be available for long-term guests (28 days and over bookings). These facilities will only be available to use after ten days staying at the hostel; this is a safety precaution for you, other long -term guests, and staff. There will be a maximum number of people allowed to use each space at any one time to ensure social distancing.  - We are currently unable to organise daily events due to government restrictions, but will have all the info you need on what is going on in beautiful London! • CCTV in operation 24 hours • Storage lockers for your valuables (laptops, cameras, phones, etc) £2 per day • Luggage storage available before check-in (free) and after checkout (same day as check-out £2 per bag; per additional days at £7.50 per bag, per day) • Laundry facilities available 24-hours. Hairdryers and ironing facilities free to use • Helpful Extras – (Hidden costs are a pain! If we can give it to you for free we will, if we cannot we will do it as cheap possible!).  • Free City Maps  • Tourist Information, walking tours and advice on local attractions and transport • Hire padlocks and adapters free of charge with a £5 deposit (you receive your money back upon return) • Towel Hire for only £2 charge with a £5 deposit • Free printing facilities (boarding passes, tickets etc…) • Clean, crisp linen on your bed ready to sleep on! • ATM (Cash Machine) Winner of No.1 Small Hostel Group Worldwide, and a Lifetime Achievement Award for excellence in the Hostel Industry. We thrive on ensuring every guest leaves satisfied and if you have any problems along the way we are always there ready to help! For this and many other reasons staying at Astor Hostels is the top choice for anyone exploring London on a budget!  Reservations must be made for guests over the age of 18. Any reservations made for those under the minimum age will be cancelled and you will not receive a refund. The hostel organises daily events aimed at backpackers between the ages of 18-30, it is therefore suggested that guests under the age of 40 would enjoy the hostel the most. Proof of identification must be shown on arrival and can include a passport, driving license and national identity cards. We cannot accept paper driving licences, student or employee IDs as proof of identity and failure to show proof or a copy upon arrival will result in the cancellation of a reservation without a refund. Get in touch with us for further clarification. When booking for 12 persons or more, different policies and additional supplements will apply.',\n",
       " '-',\n",
       " 'COVID 19 Policy Update. In response to Coronavirus (COVID-19), additional safety and sanitation measures are currently in effect at this property, including social distancing and in-house disinfection.  Find comfort and tranquility in our female-only hostel rooms and bathrooms in the heart of London at The Oasis. Head to the second floor of the newly transformed St Christopher’s At The Village in London Bridge where only special key cards will allow you ladies access.  London Bridge really is a fantastic place to base yourself with the London Eye, Tower Bridge and the oldest food market in London, Borough Market being just minutes away from the hostel. We’re also just a 2 minute walk from not one but TWO tube stations.  By staying at the Oasis you’ll benefit from a few little luxuries to make you feel at home. Included in every room or bathroom are cosy pillows, hair-dryers, towels, fresh bed linen and long mirrors. A lovely place of peace for our female travellers.  *Please note that we require an in date government approved - drivers license, passport or national ID card at check-in. **Guests under the age of 18 must stay in a private room with guardians. They cannot share in general dormitory rooms with people who are not part of their own group or family. Under-18s are not allowed in the bars or pubs.',\n",
       " 'Located a short walk from Notting Hill, Hyde Park and Kensington Palace (home of William, Kate and the Royal Babies!) it is easy to see why so many people fall in love with this neighbourhood. With three Underground Lines and countless 24hr buses, Astor Kensington is the perfect hub from which to explore London. A short walk around the neighbourhood will take you through the world famous Portobello Market, Kensington Gardens and London’s most expensive street! Hop on the tube or bus and within 10 minutes you’ll be in the heart of Oxford Street, Piccadilly Circus and Leicester Square! The moment you walk through our doors you become part of our family and we want you to have an incredible experience! We want every detail – from our super clean bathrooms and comfortable pillows to our unforgettable social events - to be perfect, giving you a London adventure that is 10 out of 10!   VALID government issued ID required to stay with us, and ALL guests must be between 18-40 YEARS   At our amazing hostel you will have full access to: • Free Fast Wi-Fi throughout the building • Reception  - Check-out is between 8am and 10am (drop-off box is available for earlier check-outs).  - Check-in is available between 2pm and 10pm (please let us know your arrival time to ensure someone is there to greet you with a masked smile!).  (A member of staff is available 24 hours a day for emergencies, a number will be provided if you have any issues).  • Facilities  - Kitchen and common areas are closed due to Covid-19 safety measures. Access to these facilities will only be available for long-term guests (28 days and over bookings). These facilities will only be available to use after ten days staying at the hostel; this is a safety precaution for you, other long -term guests, and staff. There will be a maximum number of people allowed to use each space at any one time to ensure social distancing.  -We are currently unable to organise daily events due to government restrictions, but will have all the info you need on what is going on in beautiful London! • CCTV in operation 24 hours • Storage lockers for your valuables (laptops, cameras, phones, etc) £2 per day • Luggage storage available before check-in (free) and after checkout (same day as check-out £2 per bag; per additional days at £7.50 per bag, per day) • Laundry facilities available 24-hours. Hairdryers and ironing facilities free to use • Helpful Extras – (Hidden costs are a pain! If we can give it to you for free we will, if we cannot we will do it as cheap possible!).  • Free City Maps  • Tourist Information, walking tours and advice on local attractions and transport • Hire padlocks and adapters free of charge with a £5 deposit (you receive your money back upon return) • Towel Hire for only £2 charge with a £5 deposit • Free printing facilities (boarding passes, tickets etc…) • Clean, crisp linen on your bed ready to sleep on! Winner of No.1 Small Hostel Group Worldwide, and a Lifetime Achievement Award for excellence in the Hostel Industry. We thrive on ensuring every guest leaves satisfied and if you have any problems along the way we are always there ready to help! For this and many other reasons staying at Astor Hostels is the top choice for anyone exploring London on a budget!  Reservations must be made for guests over the age of 18. Any reservations made for those under the minimum age will be cancelled and you will not receive a refund. The hostel organises daily events aimed at backpackers between the ages of 18-30, it is therefore suggested that guests under the age of 40 would enjoy the hostel the most. Proof of identification must be shown on arrival and can include a passport, driving license and national identity cards. We cannot accept paper driving licences, student or employee IDs as proof of identity and failure to show proof or a copy upon arrival will result in the cancellation of a reservation without a refund. Get in touch with us for further clarification. When booking for 12 persons or more, different policies and additional supplements will apply.',\n",
       " 'Welcome to New Cross Inn Hostel! A Friendly backpackers hostel offering budget style rooms Situated in SE London, close to New Cross Gate or New Cross Tube/ Train lines with easy access to London Bridge or connection to the Jubilee Line. We are also a short bus ride (15 minutes) away to the O2, if you are coming to London for a concert or event. We offer a variety of rooms, including small dormitory rooms and private rooms suitable for Individuals, small groups and families. FACILITIES Inc. :- Self Catering Kitchens. Common Room with DigitalT V. Free Wi-Fi throughout the hostel. Secure Lockers (Chargeable) Free ear plugs (For light sleepers) 24 hour reception Complimentary continental breakfast The Bar next door to the hostel also offers discounts and free shots for our guests and often have live music / DJs. The bar has a pool table and shows all major sports events live. (Please let us know if you need a quiet room). Whether you are coming to London to visit the sights, study or work, we look forward to welcoming you to the New Cross Inn Hostel.   ADDITIONAL INFORMATION We do not accept customers under 18 years old and over 40 years old unless they are part of a group staying in a private room. We reserve the right to refuse your accommodation at any stage according to the manager discretion. * *We require 72 hours notice for a cancellation, if you do not give us 72 hours notice you will be charged in full. *Groups of 8 guests or more will be charged 50% deposit on the day of booking. The remaining 50% is due 14 prior arrival.  * Non-refundable reservations will be charged anytime after booking. UNPAID NON REFUNDABLE RESERVATIONS WILL BE SUBJECT TO AVAILABILITY. *The check-in time is from 2pm-11pm. Guests arriving after 11:00pm need to email at least 24hrs in advance to confirm their reservation, process payment and fill up check in form online to receive code, otherwise will be considered a no show and subject to availability and no show fees. We DO require a valid ID for all arrivals including UK/EU residents. Expired ones or without a clear or damaged photo are not valid to check-in.',\n",
       " \"The Mapesbury Hostel offers budget accommodation in North West London Zone 2 (Kilburn underground station, Jubilee Line.)   large Dorm Rooms and Private Rooms  If you are looking to meet and socialise with other friendly travellers, you can choose from mixed dorm rooms, female only dorm rooms, private rooms and studio apartments.  We are not a party hostel, but we offer friendly, relaxed 'homely' accommodation. The hostel has a great atmosphere where you can socialise with other travellers to give you that feel for London life. There's no curfew, so you can discover our beautiful city on your own terms! All bedding is provided. Large, fully equipped shared kitchen, comfortable lounge room with plasma T.V, garden area, night caretaker, daily cleaners, no curfew, FREE WIFI, convenient quiet location mins walk from the tube only 15 mins from central london.    Please note our youth hostel has an age restriction of 18-45 years old.  PRIVATE ACCOMMODATION Choose from single, double/twin, triple and quad rooms and studios.  All rooms and studios have :  - Fresh linen - Colour TV - Wardrobes - Towels  - Welcome pack - Wooden floorboards  - Bar fridge - Heaters - FREE WIFI  - Access to coin operated washer and dryer on site  Private rooms are completely private, and you have access to our fully equipped kitchens, and communal bathrooms.  Studio apartments are fully equipped with your own private ensuite, and kitchenette, no shared facilities.  CHECKING IN/PAYMENT  We offer a FREE PICK UP SHUTTLE from the Willesden Green tube station.  Monday - Saturday : 11am - 5:30pm Sunday : 11am - 3:30pm  If you are delayed, or plan to arrive outside of these hours, please advise, and we will email details on how to do a 'self check in' We have a minimum spend of £250 to make payment by credit/debit card.  Any payments made by card incur a £25 access fee Payments by cash/bankers draft are accepted with no charge.\",\n",
       " \"Hootananny is a lively hostel with spacious rooms in a traditional Edwardian public house dating back to the early 1850s. We offer large, airy, comfortable rooms and have a great reputation for a warm atmosphere and helpful staff. We're located in the heart of Brixton with excellent transport links - a great location to stay and explore the city of London. With just a ten-minute walk to Brixton underground station, you are straight into Central London on the tube in less than 15 minutes. As one of London’s most diverse and vibrant areas, Brixton has world famous covered and street markets, is a hub for music venues, is full of atmospheric pubs and has the pick of the world’s best cuisine with a great selection of restaurants. Hootananny is located right next to two bus stops with 24-hour connections to the city centre. Hostellers are treated to a 20% discount on drinks at the award-winning bar downstairs that was recently crowned Best Live Music venue in London. Festival headliner Manu Chao chose Hootananny bar to give a secret show after his festival performance, and Hootananny star gigs include big gypsy bands, hip hop, dubstep, afrobeat, live reggae acts from Jamaica, ska, world music and indie rock. Important - Please be aware that you must present photo I.D. when you arrive. We only accept passports or a driving license as valid I.D. This is a hostel for over 18s only, there are no family rooms and we do not cater for young children. - The hostel is located above a live music venue, and music can be heard throughout the hostel until fairly late on Friday and Saturday nights. This does not prove to be a problem for many of our guests, but we can provide you with earplugs if you would like to ensure a good night's sleep. - Reception is open from 9am - 12 midnight. Check-in time is after midday, but if you arrive early you can always relax in our lounge room or use the amenities. - Check-out time is between 9am and 11am. - We take a £10 deposit for the key. This is refunded at check-out when the key is returned. - Bookings for groups of 4 or more require full payment in advance. - We are a backpackers hostel and do not check in local residents of London into our hostel. Happy travels!\",\n",
       " '*Please note we are operating on LIMITED reception working hours* The Phoenix, housed in a homely English-style pub, is an award winning backpackers.  Operating for 11 years we take all of our guests safety and security seriously but we also know how to party! - so come and join us on your next trip to London!  At the Phoenix Hostel we understand the health and safety concerns of travellers and can assure all guests we are doing everything possible to make your experience safe and enjoyable. In keeping with new social distancing requirements, we have reduced our capacity for individual bookings by 2 households per room. We have updated our cleaning process to ensure our cleaning solutions are COVID-19 compliant.  The health and safety of our guests and staff are our number one priority, therefore we have updated our current standards and conditions to reflect this. PLEASE NOTE WE ONLY ACCEPT GUESTS BETWEEN THE AGE OF 18-40. £10 key refundable key deposit required upon check-in. cash. Hostel reception open hours: Monday- Sunday 12:00-13:00, and again at 18:00- 19:30 Forms of ID accepted: UK/ROI Driving Licence EU/EEA Identity Card  International Passport If you do not have these forms of ID, and wish to stay here, please contact us.  Guests can cancel their reservation up to 2 days before Check in date. After this date the full amount will be charged.  Payment is taken in full upon arrival, and is non-refundable should the guest wish to alter their booking after check in.',\n",
       " 'Mornington Camden Hostel is a high class spacious town house with a lovely warm atmosphere. Everything is new.  The staff are very friendly and helpful. We have a nice lounge with a TV, and a Bar, and restaurant with cheap high quality food.  Many restaurants, traditional pubs and bars are nearby and breakfast and snacks can be purchased next door in our sister building, the Crescent Cafe, at a discount. The renowned Camden market, Regents Park, London Zoo and Fitzrovia are within walking distance. Kings Cross, Euston and St Pancras (Eurostar) are within easy reach.  All beds have USB charging points on the electrical sockets.  Free Linen and Towels.  Free Lockers Full Privacy Personal Lamp Full use of a private garden Free Coffee and Tea Free Washing Machine use Free bag storage 24 hour access if arranged with us beforehand  The Hurdwick policies & conditions; Cancellation policy: 24h before arrival 6 PM Check in from 13:00 to 23:00 . Check out before 12:00 . Payment upon arrival by cash, credit cards, debit cards. This property may pre-authorise your card before arrival. Please let us know your arrival time in advance Taxes included. Breakfast not included. General; No curfew. Minimum age = You must be 16 or over to stay in a dormitory / group room. We operate a no-smoking policy throughout the building. The maximum period of stay is of 30 days.',\n",
       " '-',\n",
       " 'Nestled in the heart of London, walking distance to iconic British Museum and Europe’s most popular shopping area, Oxford Street, Smart Russel Square is the perfect destination for budget-conscious travelers who want to experience amazing London adventure. Every room is key card locked as is entry to the main part of the building, security lockers are present in every room. Our transport links are fantastic; we are located only a few minutes walking distance from Russell Square Tube or Metro Station which is directly linked to both Heathrow Airport and Kings Cross St. Pancras for the Eurostar trains. We are directly linked either by bus or the tube to every major train and bus station in London. There are 24 hour buses running next to the hostel, making us accessible at day or night. The Continental Breakfast costs £2.00 per person per day and it will be served from 07:30 AM until 10:00 AM in our common area.',\n",
       " '-',\n",
       " 'With Victoria Station and Buckingham Palace a few minutes’ walk away, it is hard to beat to this location! Amazing 24-hour transport links to attractions, parties, airports, coaches (to the rest of the UK/Europe), and almost anywhere! Astor Victoria is the dream place for a base in London.  The excellent local markets, restaurants, pubs, vintage stores, coffee shops and galleries, all within a 15 minute walk of Big Ben, will make you feel like a true Londoner! This, combined with staff whom love the city and want to share all of their knowledge with you, means there is no better place to stay in Central London! The moment you walk through our doors you become part of our family and we want you to have an incredible experience! We want every detail – from our super clean bathrooms and comfortable pillows to our unforgettable social events - to be perfect, giving you a London adventure that is 10 out of 10! VALID government issued ID required to stay with us, and ALL guests must be between 18-40 YEARS   At our amazing hostel you will have full access to: • Free Fast Wi-Fi throughout the building as well as Free PC Access • 24-hour reception for anything you may need (including late check-in/early check-out) • CCTV in operation 24 hours a day • Storage Lockers available for your valuables £1 per locker, per day (max 14 days). • Luggage room is free to use on day of arrival! You can leave your items from £2 per bag on day of departure (£7.50 per bag for everyday thereafter).  • Laundry facilities available 24-hours. Hairdryers and ironing facilities free to use • All you can eat Breakfast for only £1.00 (All proceeds go to charity) • Wonderful fully equipped kitchens (large fridges available for food and drinks storage)  Kitchen and common areas are closed due to Covid-19 safety measures. Access to these facilities will only be available for long-term guests (28 days and over bookings). These facilities will only be available to use after ten days staying at the hostel; this is a safety precaution for you, other long -term guests, and staff. • Dining room and common area to enjoy a meal or meet fellow travellers • Beautiful lounge area with comfy sofas and enormous projector screen for movies and sports!  Helpful Extras – (Hidden costs are a pain! If we can give it to you for free we will, if we cannot we will do it as cheap possible!).  • Free City Maps  • Tourist Information, walking tours and advice on local attractions and transport (24hrs) • Daily events organized for our guests  We are currently unable to organise daily events due to government restrictions, but will have all the info you need on what is going on in the beautiful London. • Room key is a £5 cash deposit • Padlocks and Adaptors available for £5 cash deposit • Discounts at local restaurants and coffee shops • Towels are available for hire at £2.50 • Free printing facilities (boarding passes, tickets etc…) • Clean, crisp linen on your bed ready to sleep on! • Late Check-Out available to sleep in a little more until Midday (book in advance at reception)! • ATM (Cash Machine) Winner of No.1 Small Hostel Group Worldwide, and a Lifetime Achievement Award for excellence in the Hostel Industry. We thrive on ensuring every guest leaves satisfied and if you have any problems along the way we are always there ready to help! For this and many other reasons staying at Astor Hostels is the top choice for anyone exploring London on a budget!  Reservations must be made for guests over the age of 18. Any reservations made for those under the minimum age will be cancelled and you will not receive a refund. The hostel organises daily events aimed at backpackers between the ages of 18-30, it is therefore suggested that guests under the age of 40 would enjoy the hostel the most.   Proof of identification must be shown on arrival and can include a passport, driving license and national identity cards. We cannot accept paper driving licences, student or employee IDs as proof of identity and failure to show proof or a copy upon arrival will result in the cancellation of a reservation without a refund. Get in touch with us for further clarification.   When booking for 10 persons or more, different policies and additional supplements will apply.',\n",
       " 'Do Camden by day and curb side beers by night.  The Exmouth Arms is an iconic Hostel-Pub situated in the Camden corner of London. Explore the punk mecca from PubLove’s base in the heart of Kings Cross & Camden Town. On a sunny day the street outside is ﬁlled with the best afternoon drinkers in the city. We have plenty of shelter, so we never stop for the great British weather. This place is a backpacking institution. Perfect for travellers wanting to experience the alternative side of London Legendary London adventures start at PubLove. All our Hostel-Pubs are welcoming, small and social - the perfect places to get to know your fellow travellers. The best thing about staying with us? Your common room is the great British pub! We have 24hr bars specialising in craft beer & gin. Get social with the locals or swap stories over a drink with your fellow backpackers. Our dorms are modern, cool and spotlessly clean. Our bunks have hygiene/privacy screens, dedicated power sockets, great free Wi-Fi and crisp white linen. Our top-class washrooms are private and offer shampoo, shower gel and plenty of hot water. Every Hostel-Pub has an award-winning Burger Craft kitchen serving up burgers, loaded fries and brunch, with vegetarian and vegan options. They open daily from 9am until 10pm. BOOK NOW to start your own London adventure.',\n",
       " \"International Students House provides affordable and friendly accommodation in Central London. There are a range of room types from shared dorm rooms to private doubles. You’ll also receive a 2 for 1 bar voucher with access to our on-site bar and free Wi-Fi. International Students House is a charity dedicated to British and International Students in London. We provide a vibrant student centre based in zone one that is used by thousands of students that attend one of the many universities that are part of our International Partnership Scheme and over 600 residents that are housed in the affordable accommodation we offer.  ISH Bar provides a fun and friendly environment, serving food and drink at affordable prices. There are also regular free events, such as karaoke and quiz nights. Bistro - Dine canteen style in our restaurant, which is based on the basement level. Open for breakfast, lunch and dinner. The restaurant offers low cost meals from £4.50 to student residents and guests. International Students House is located in Central London - zone 1, within walking distance from Regent's Park and Oxford Circus. Regent's Park is one of the Royal Parks of London. It contains the London Zoo. Oxford Circus is the busy intersection of Oxford Street and Regent Street in the West End of London. Oxford Street offers an unrivaled shopping experience thanks to its exciting mix of high-street fashion and international brands. Please keep in mind that as this is a student accommodation and music venue, there may be noise especially on the weekends\",\n",
       " \"Welcome to one of London's cheapest, friendliest and well-located hostels! Situated in the heart of the West End, opposite Covent Garden, and 10 minutes walk from Trafalgar Square and the London Eye. There are theatres, restaurants and nightlife all on your doorstep! Offering both mixed dormitories and single, double and family rooms. All rooms are equipped with washbasins, and have shared bathroom facilities. There is also a 1940s bar and restaurant which are great for meeting other travellers.  Guests can enjoy: No curfew Free Continental Breakfast  Free WI-FI in the lounge 24 hour reception Linen included  Towels included in private rooms (not in dorms). You can bring your own or rent them for £2 each towel Tea/Coffee making facilities (in private rooms) Safe luggage storage free of charge Multilingual staff: English, Spanish, French, Hindi, Polish Sorry, no lift! Check in time: 2:00 pm Check out: 10:00 am Cash or credit/debit cards accepted. Cancellation policy: Guests can cancel their bookings free of charge uptil 24 hours prior to arrival. Failure to give a 24 hour cancellation notice will result in a charge of first night's rate. Please note that a £10 key deposit will be charged on arrival, and returned to guests when they return their room key on departure. In order to confirm the booking, you need to provide us with the CVC/CVV/Security number on the back of the card used to book on this site. Please send this to our email address. Failure to comply with this can result in your booking being cancelled. For guest staying over 31st December the following applies: 2 nights minimum stay. Payment is taken at the time of booking. Bookings are non-refundable.\",\n",
       " 'Our hostel is located inside a traditional English pub where you can find friendly locals and travellers alike. Perhaps enjoy a beer, game of pool or chill out listening to music... Upstairs we have 10 bedrooms accommodating 20 people in double rooms, twin rooms and 3 or 4 bed shared rooms. Free WIFI is available and feel free to use our recently refurbished (April 2011) kitchen. A supermarket is close by to stock up on provisions.  We also offer refurbished (February 2012) bathrooms on each floor with hot water naturally.   Please note :  Cancellation policy :  Check in : 09:00 to 24:00 If arriving on a late flight then please make sure you can be here by 2am at the latest. Check out : 11.00 Credit cards not accepted for the time being Breakfast not included Minimum Age : 18 Taxes included',\n",
       " \"We are located in central London - just 5 minutes walk from the station. Rated one of the best hostels in London 2017 by the Telegraph newspaper, we offer free dinner & free breakfast everyday. Come stay with us and make new friends for life. Free high speed WiFi throughout, a huge garden patio with free gym, communal lounge with a 85-inch Ultra HD TV with cable, Netflix & PS4. Guests can also use the modern shared kitchen to cook their own meals. All dorms have contemporary designs and feature free storage lockers. We also have many private rooms.  The hostel is 15 minutes walk from Natural History & Science Museums and Hyde Park. Madame Tussauds, Harrods and Buckingham Palace are also a 15-minute train ride away. Staying COVID-19 Safe at Saint James: The dorms have been halved in size therefore each guest has a double bunk bed to herself Plexiglass protection screens installed as barriers against Covid-19 The showers sanitised before every use Dedicated staircase for going up and separate one for going down The Reception is open 24/7 and the international staff will be there, happy to help you.  More reasons to stay at Saint James Backpackers?  - A 24-hour reception to make sure to be available for our guests at any time  - Massive living rooms with a large television, with options such as Sky TV, Netflix and a PlayStation 4  - USB Charging Points in every room  - An exclusive ladies-only dorm room and showers  - Massive patio garden including BBQ  - Outdoor gym - Hostel activities: movie and popcorn nights, sangria nights, board game competitions, screening sports events, holiday parties… Note:  - There is a 24-hour cancellation policy on all reservations. Any night that isn't cancelled with at least 24 hours notice will not be refunded.  - A £10 key deposit is payable at check-in, which is returned on return of the key at check-out.  - Check-in: 14.00/ Check out: 10.00  - Credit cards accepted  - Taxes included  - No smoking anywhere inside the building (but we do have a large patio garden where you can indulge)  - On the property lives one cat and one dog. - Card Payments must be authorised by chip and pin  - Minimum age to stay in a dorm is 5.  - Please note that there are limited spaces for dinner; you must sign up at reception each day before 16:00, signup is done on a first come first serve bases. If you cannot make it here in time please just call us and request to be put on the list.\",\n",
       " \"If you are looking to meet and socialise with other friendly travellers, at Best London Hostels you can choose from 4, 6, 8 or 10 bed dorm rooms, mixed or female only! We are not a party hostel, but we offer friendly, relaxed 'homely' accommodation. The hostel has a great atmosphere where you can socialise with other travellers to give you that feel for London life. There's no curfew, so you can discover our beautiful city on your own terms! All bedding is provided. Large, fully equipped shared kitchen, comfortable lounge room with plasma T.V, garden area, night caretaker, daily cleaners, no curfew, FREE INTERNET (basic wifi connection and shared computers provided), coin operated washer and dryer on site. you can start your day exploring this great city full of energy!  Cancellation policy : 24h Check in : 11.00 Check out : 10.00 24 hours notice to cancel your booking and in case of a late cancellation or no show there would be a cancellation fee of one nights rent.  Please note our youth hostel unfortunately has an age restriction of 18-45 years old. We offer private accommodation for guests outside of this age bracket. We have a minimum spend of £250 to make payment by credit/debit card Any payments made by card incur a 5% surcharge.\",\n",
       " \"Set over a pub and restaurant in Willesden Junction, Le Junction Hostel - Pub & Garden is a purpose built hostel offers stylish and affordable guest rooms and dorms, plus a wonderful roof terrace, and is handily located just 20 minutes from central London by train.  Le Junction has 14 rooms available, which include private twin and double guest rooms, and dorms with bunks for 4, 6, or 8 guests. All come with en suite bathrooms, free Wi-Fi and free bed linen is provided (towels are available for rent). Guests can use communal kitchen, and the friendly staff at the 24-hour reception can provide storage for your luggage and valuables if required (free while u stay). Downstairs you'll find a lively pub and restaurant with a beer garden and big screen TVs for watching sports events. The guest house is just a 2-minute walk from Willesden Junction station, which has overground and underground trains around the city. The shops of Oxford Street and the bright lights of Soho and Covent Garden can be reached in 20 minutes. Le Junction Hostel - Pub & Garden policies & conditions; Cancellation policy: 24h before arrival. In case of a late cancellation or No Show, you will be charged the first night of your stay. Check in from 14:00 to 23:00 .  Check out before 10:00 . Reception is open 24hrs. Payment upon arrival by cash.  Taxes included. Breakfast not included. General; No curfew. We do not accept customers younger than 12 years of age. Non smoking. ID required to check in, Maximum stay 28 days, No groups of males larger than 8 pax,\",\n",
       " \"UNFORTUNATELY WE DO NOT HAVE THE FACILITIES TO APPROPRIATELY ACCOMMODATE GUESTS WHO NEED TO SELF ISOLATE FOR 14 DAYS. ALL GUESTS ARE REQUIRED TO WEAR A FACE COVERING AS PER UK GOVERNMENT GUIDELINES UNLESS THEY CAN DEMONSTRATE THEY ARE EXEMPT. For Great Facilities, Comfort & Affordability you can't go past No.8 Seven Sisters! We provide Excellent Service and ensure that all of our Guests get Everything they want from their time in London. We cater exclusively for the Young & Young at Heart Backpacker 18-48, Photo IDs are required on Check In, as we have Entertainment on Weekends and operate a Very 'Bustling' and Social Hostel. - Free WiFi - Full Facility Kitchen - Secure Storage Facilities & 24Hr Key Card Access - Pool Table & Darts Board - Satellite TV - Traditional English Pub & Beer Garden - Entertainment on Weekends! - Young & Young at Heart Backpackers 18-48 Years Old Only. - Payment by Cash only on Check in. (Credit cards not accepted) - £20 Key Deposit (Fully Refunded On Check-Out) - No refunds are made following Check-In.  Reception is open from 10am-11pm. PLEASE NOTE that Check In will NOT be possible outside these hours. If you are running late or will be arriving slightly outside our reception hours, please contact us to see if there is a possibility of us accommodating your arrival outside of opening hours. As guests arrive and depart at varying times and numbers, it is impossible for us to guarantee that all group bookings can be allocated in one room together. Nevertheless we always try to keep groups together. Whether it is your first time in London or you are a seasoned traveller, No.8 has everything you need (and a few extras) and will ensure that your stay in London is definitely Enjoyable & Comfortable! We look forward to Welcoming you at No.8 Seven Sisters!\",\n",
       " \"Park Villa is a new boutique hostel in the heart of the old East End of London. The hostel is a Georgian Regency villa with attached coach house and has been lovingly restored to reflect its original character and charm. Superfast WiFi is included in the price and all guests have access to a kitchenette (including kettles, toasters, fridge and combination microwave/grill/oven) and an inviting lounge / TV room. All rooms and showers are cleaned daily and the electronic entry systems, cameras and reception ensure the hostel is safe at all times.  We also offer a continental breakfast (£3 per night), fresh towels (£1 on check-in), a coin operated laundry and a car park (£10 per night). Cards and cash are accepted for payment. Our dorms at Park Villa feature oak wood floors, customised bunk bed pods, luxurious cotton bedding, grand plantation shutters and are mainly en suites. The family rooms offer the same luxury, with shared bathrooms and full size baths. All rooms offer warmth, comfort and lots of space to stretch out and make your own. Park Villa's Policies & Conditions:- Photo ID is required for all guests including UK nationals. Acceptable photo ID includes passport, national ID or drivers licence and for UK nationals, even a student ID is acceptable Cancellation policy: 48 hours before arrival. Check in from 12:00 to 24:00 . Check out before 10:00 . Taxes included. Breakfast not included. Breakfast is available from 8am - 12 noon and costs £3 per night, payable on check-in. Payment upon arrival by cash, credit cards, debit cards. This property may pre-authorise your card before arrival. For Non-Refundable bookings, the full amount amount of the stay will be charged at the time of the booking. In case of a failed charge, we will contact you and we reserve the right to cancel your booking if no answer is given within 24 hours. General:- Car parking available for £10 per night (limited space - please check with us before) No curfew Non smoking\",\n",
       " \"A friendly hostel situated in the heart of Shoreditch (London). A great location for some of the cities best clubs, bars and restaurants.  Only a short walk from our nearest tube station (old street)  Hire a Bicycle from outside the hostel and cycle down the famous River Thames, where you can see some of the most famous attractions of London, only a 10 minute cycle away and you'll find yourself at the famous London bridge, another 5 mins cycle down the thames and you will be at the Tower of London, cycle further and you will find many more attractions of London. Choose from either your own private room with your private shower room, to a single bed in a dormitory from only £15 per night. The Dictionary Hostel - Terms & Conditions  Reception working hours - 9:00 to 23:00 Cancellation policy: 72h before arrival. In case of a late cancellation or No Show, you will be charged the first night of your stay. Check in from 15:00 to 23:00 . Check out before 11:00 . Payment upon arrival by cash, credit cards.  This property may pre-authorise your card before arrival.  Taxes included. Breakfast not included. No curfew.\",\n",
       " 'Among underground music venues, innovative museums, and hidden foodie hotspots, Selina Camden suits its edgy North London backdrop. Aside from offering beautifully-designed accommodation and a comfortable space to hang out, the Selina Camden hotel is an authentic cultural hub, consistent with great guest experience, an ever-changing calendar of exciting diverse programming, and unique wellness experiences. Reflecting Selina’s unique global reach, our Camden destination is here to explore and tie together the shape-shifting diversity of global music. On-site features include a fully-equipped communal kitchen, a loft complete with a stunning balcony, and a trendy vegan/vegetarian neighbourhood-style eatery. Wake up early and head downstairs for some yoga before experiencing the best of Camden’s vegan gastronomy scene at our hotel restaurant. Take to the streets and explore the many attractions on your doorstep- from Camden Market to London Zoo, The Electric Ballroom, and multiple nearby eateries, we’ve got you! Back at Selina, unwind in the basement accompanied by vinyl tunes, catch a performance by local young talent, or order a pre-gig cocktail at the bar. As the sun sets, catch a show in one of England’s most iconic venues or head to the streets to experience London’s eclectic nightlife till the early hours. Selina Camden - Terms & Conditions  24-hours front desk. Cancellation policy: 24h before arrival. In case of a late cancellation or No Show, you will be charged the first night of your stay. Check in from 15:00 to 23:00 . Check out before 11:00 . Payment upon arrival by cash, credit cards, debit cards.  Taxes included. Breakfast not included. No curfew.',\n",
       " \"Welcome to Urbany Hostel London, our first international adventure! We offer you a perfect spot to explore the city, we are a social backpacker hostel, a place where you can make friends & feel at home. We are located in Notting Hill, a cosmopolitan and multicultural neighbourhood, in a typical Victorian terraced house built in the 1800s. From Urbany Hostel, you can easily walk to Portobello Market and Hyde Park, two of the most popular sites in London. Our staff members are just like our guests, friendly, sociable, international and incredibly helpful - They will make sure you know your way around the city. -Before booking with us, please ensure you are travelling from countries, territories or regions on the UK Government travel quarantine exempt list. For the safety and comfort of current guests and staff, reservations of those travelling from areas requiring self isolation/quarantine will be cancelled. -Temporarily our reception hours have varied; to ensure someone will be here to welcome you, please ensure your arrival time is between 8 AM - 10 PM. Alternatively please let us know if you will be arriving outside these hours. -Check in to rooms is from 15:00 to 22:00 -Check out before 11 AM FEEL THE URBANY VIBE: We have a variety of shared mixed dormitories, whilst also offering private rooms for those who prefer not to share. Free high-speed Wi-Fi is available everywhere, even in your room. Luggage storage is also available for free if you arrive before check-in or are leaving after check-out (only for the day). We offer: towel rental (2 GBP) and basic laundry service wash/dry (5 GBP). 24/7 CCTV throughout the whole building for added security. We do require a Â£10 cash key deposit (which you will receive back upon return). Ours key's have 24/7 access so there is no curfew - you can get in and out as much as you like. A VALID government issued ID is required to stay with us and ALL guests must be between 18 - 40 years. It's also important to note that there are 4 floors and there is no elevator. We can't wait to welcome you to our wonderful home and enjoy this amazing city!\",\n",
       " 'Food & culture lovers, assemble! The Rose & Crown is the perfect base to wander the incredible streets of London’s effortlessly cool Southbank. Walk the Thames path to see the majestic sights or head off on a self-guided exploration to discover unseen London. The surrounding area is bursting with vibrancy and culture making it the city’s current food & drink hotspot. The world-famous Borough Market is just around the corner and Flat Iron street food market is opposite our lovely little Hostel-Pub.  Perfect for discovering the beating heart of London’s food & drink and creative scene. Legendary London adventures start at PubLove. All our Hostel-Pubs are welcoming, small and social - the perfect places to get to know your fellow travellers. The best thing about staying with us? Your common room is the great British pub! We have 24hr bars specialising in craft beer & gin. Get social with the locals or swap stories over a drink with your fellow backpackers. Our dorms are modern, cool and spotlessly clean. Our bunks have hygiene/privacy screens, dedicated power sockets, great free Wi-Fi and crisp white linen. Our top-class washrooms are private and offer shampoo, shower gel and plenty of hot water. Every Hostel-Pub has an award-winning Burger Craft kitchen serving up burgers, loaded fries and brunch, with vegetarian and vegan options. They open daily from 9am until 10pm. BOOK NOW to start your own London adventure.',\n",
       " \"Welcome to Venture Hostel.Venture Hostel is a vibrant young hostel, the perfect base to discover the real multi-cultural London. Surrounded by street markets and lively music venues, the exciting atmosphere will make your London stay a memorable experience. Nearby Goldsmiths University was home to the 1990's Britpop movement and Young British Artists movement, with famous alumni including artist Damien Hirst and Blur/Gorillaz frontman Damon Albarn. Situated in West Greenwich, Venture Hostels has excellent transport links to central London and all the major attractions, like the Royal Greenwich observatory, Cutty Sark, the Emirates Air Line and the O2 Arena, a stage for the most exciting and famous concerts in London. Our hostel is close to three main stations, Deptford Bridge on the DLR, Deptford station on the railway and New Cross station on the overground. The hostel is also one stop on the train away from the city centre of London, London Bridge, 20 minutes from the famous Olympic Stadium, Stratford, and within a walking distance from Greenwich Mean Time and Meridian Line.  Our bright, fun and recently refurbished hostel is the place to find visitors from all over the world, the hostel is housed above The Royal Standard bar and restaurant. The restaurant offers a selected gourmet menu on European cuisine including seafood, steaks, burgers and roasts. along with choice craft beers and a vibrant atmosphere. The bar and restaurant boasts a large reception area and bar, incorporating a mixture of lounge and dining style. All the hostels customers have a 15% discount on the Royal Standard Bar & Restaurant Menu. All dormitories include free Wi-Fi, in-room lockers and fresh linen. The hostel also benefits from a 24-hours reception operated by our friendly and attentive staff. Regardless of the length of your stay in our hostel, we will ensure you have a great time in the clean, comfortable and safe environment. Venture Hostels is known for its bursting with character atmosphere that is so necessary for an authentic, unique an unforgettable London experience.\",\n",
       " \"PLEASE NOTE WE ONLY ACCEPT GUESTS FROM THE AGE OF 18-40 with GOVERNMENT ISSUED PHOTO ID, such as driving licence, passport, national ID card.  Student cards and proof of age cards are not accepted.  The Queen Elizabeth Youth Hostel is located above a historic pub in the posh borough of Hammersmith and Fulham. Located conveniently between the Imperial Wharf Overground and the Fulham Broadway Tube Station, we are just a quick train ride away from London's hottest tourist attractions. Located less than 5 minutes from the River Thames and 10 minutes to Chelsea FC's home stadium, Stamford Bridge. This is a prime location for those looking for a peaceful and enjoyable stay. Not far you will find green spaces, great shopping and easy transport connections to Central London. We are also located just off King's Road, one of the most fashionable streets in the world. Facilities: Cheap, vegan-friendly breakfast buffet Linen Included  Free WiFi Internet No Lock Out No Curfew  Bar with cheap drinks for guests 24/Hour Check-in/Check-out Secure Locker Storage Two-Week Maximum Stay -------------------------------------------------------------------------  Check-in is from 15:00 to 00:00 -- if you arrive before 15:00 you can store your bag for FREE in our secure luggage room. Any check-in between 00:00 to 10:00 will be charged a £3 fee. Check-out is at 11:00 -- Luggage storage is available upon departure for a nominal fee. Due to UK alcohol licensing laws, you are not allowed to bring or consume outside alcohol on the premises.  Wi-Fi is available in nearly all of our rooms, depending on your Wi-Fi device. It is specifically not available in our 17-bed dorm. All of our rooms do have electrical points, enabling you to charge your electronic devices.  We can't wait to see you here at Queen Elizabeth!\",\n",
       " 'Kensal Green Backpackers is a legendary hostel full of character, aiming to provide a stay in a fun, affordable and safe enviroment. We are located right across the road from Kensal Green tube and overground station (Bakerloo line) and bus no: 18 will take you to the heart of London 24 hours a day. Our friendly team of multi-lingual staff are happy to assist you 24/7. Fresh linen, Wi-Fi, comfortable beds, hot showers are all included in your stay. All our rooms have showers and water basins. At our amazing hostel you will have free access to: -Full facility kitchens -Dining space -Large lounge with pool table and Sky-TV -Free weekly entertainment Affordable extras -Laundry service (wash&dry) -Bar -Coffee shop -Restaurant -Breakfast available at reasonable cost -Storage room -Adaptors -Towels for hire -Tourist information and advice on local attractions and transport Please note that valid photo ID is mandatory for check-in. We ask for a £10 key deposit which would be returned to you upon check out. Kensal Green Backpackers only caters for travellers aged between 18-40 yrs old.',\n",
       " 'IMPORTANT NOTICE: This hostel is for 18–35-year-old ONLY.  Check In is from 2 pm and Checkout is Before 10 am. Passport, Identity Card or Driver License is Required from all Guests. We accept cash in British Pounds and most cards. Please, note the reception is opened between 8am and 10pm only.  \"Your home away from home\"  Looking for a great central London Hostel? Your search can come to rest to at London Backpackers Youth Hostel in Hendon.  We are moment from Hendon Central Underground station, minutes from the heart of London and easy access to nearby airports (detailed instructions of how to find the Hostel will be emailed to you once your Booking is made). We take pride of providing excellent hostel facilities for your stay, whether for a single night or several. For Group Bookings please contact the Hostel Directly. If you are looking for long term accommodation, email us for rooms and prices available for quarantining and long stay.  Our rates are truly inexpensive, but our hostel is jam-packed with amenities tailored for young, and young at heart, people looking for a comfort at a modest price with a friendly atmosphere. Bookings made on this or any website are Not Valid for Existing Guests. If you are and Existing Guest and make an Online Booking, your Booking will be honored but you will be charged the Full Nightly Rate. In the event of a NO SHOW or LATE CANCELLATION, Guests will be charged a Cancellation Fee Equal to the First Night of the Booking. WHAT YOU CAN EXPECT: Our facilities supply free linen, blankets, private rooms with towels, internet access, TV, literature, City Maps and UK Sim Cards, and a fully fitted kitchen for cooking (with Fridge/Freezers, Oven, Stoves, Microwave, Toaster and Kettle). You will not find another cheap London Youth Hostel that provide clean showers and toilets, plus hot water guaranteed 24h a day. For your convenience we also provide a laundry room with washer and dryer. Bunk Beds with Privacy Curtain, USB Charging Ports, Power Sockets, Reading Light and Locker. (Bring a Padlock or purchase from Reception). Sports Equipment for the nearby Hendon Park, just up the road with a large football field, tennis courts, basketball courts and it is a great place to get active during the day or to chill out with friends in the evening. You can also enjoy a Pool game in our brand-new basement, equipped with seats and TV for more comfort! We want your stay to be carefree and we ensure that by offering lockers and luggage room for your use in securing your property during your stay. The Hostel is covered by CCTV and there is 24hr Key Card Access with No Curfew. Moreover, you can find plenty of coffee shops and restaurants around the hostel and for every taste!  For your convenience you will find Tesco, Sainsbury’s, and other international shops 2 min walk from the hostel. They are all opened until late at night, even on the Sunday.  We are a 10-minute walk away from Middlesex University as well as Brent Cross shopping centre. The Royal Air Force museum is right by the next underground station! DESINFECTING AND CLEANING: Since COVID-19 started, face coverings must be worn when arrival at the hostel, in corridors and all public areas. We have implementing a vast number of procedures and training with the team to ensure your safety. The hostel is disinfecting every 4 hours and hand sanitizer stations are available all around the building.  CONTIENTAL BREAKFAST AND HOMEMADE DINNERS TWICE A WEEK: We are offering every day a breakfast served by our team, contactless due to the current situation. We wanted to keep this morning routine for our customers to ensure a better comfort. Home sweet Home!  Twice a week out team is cooking a homemade dinner, using herbs and spices from our indoor hostel garden! Every guest is invited to join us and get a a plate at our table! We have set this up for reducing the number of people using the kitchen and share a great time together, with social distance of course!  Our team is giving the best of them to make your stay comfortable as much as we can during this special time. SAFETY AND HAPPINESS are our first priorities, and we are delighted to welcome you at London Backpackers Youth Hostel!  SPREAD LOVE NOT GERMS!',\n",
       " \"The Paramount Hotel is a family-owned Victorian town-house hotel which offers bright, well-equipped rooms, with flat-screen TV & en-suite shower rooms in a prime area in London.  With our own private back garden, which includes outdoor seating area, we are a great choice for travellers who want a charming and peaceful place to stay.There are several shops, grocery stores, bars and restaurants, as well as live music venues nearby. Breakfast is not provided, however, are several supermarkets and cafes, (plus bars and restaurants) within a five-minute walk. Food / beverages can be stored in our communal fridge. The hotel is just a 5-minute walk from Earls Court Tube Station, Kensington Palace is less than a mile away, whilst the Natural History Museum, the V&A, Science Museum and Hyde Park are within 15 minutes' walk.  Paramount Hotel policies & conditions;  Cancellation policy: 7 days before arrival by 6pm.  Check in from 15:00 to 23:00 . Check out before 11:00 . Reception hours: 3pm-7am Payment upon arrival by credit cards, debit cards only. We do not accept American Express cards. The cardholder and the card used to make the booking must be present at the time of arrival. The original payment card must be shown upon check-in for a security deposit to be charged. The property does not accept third-party authorisations, virtual cards or company cards.  Guests are required to show a photo identification and payment debit / credit card upon check-in. Please note that we cannot necessarily accommodate any Special Requests and additional charges may apply. Taxes included. Breakfast not included. General: No curfew. We do not accept customers younger than 5 years of age. Minimum age of person booking room: 16 Non smoking. Needs to be stated that our Victorian townhouse hotels do not have lifts or air-conditioning.  Guests may leave luggage in the communal reception. This is an unsupervised and unsecured area.  The hotels are unable to accept packages or tickets on behalf of guests.  VAT Invoices can be supplied at any time during guests’ stay in the presence of the card holder and the card used to make the booking.\",\n",
       " \"PLEASE NOTE: The Triple room has one double bed and one single bed and sleeps 3 people. Modern, newly refurbished hotel with a warm, friendly hospitality which is second to none, matching the stylish facilities and quality service to the perfect location.    We offer clean and comfortable rooms with all the facilities at very competitive prices. We assure you that your stay will be relaxing and enjoyable. Marble Arch Inn has a twenty four hour Reception. From the moment you arrive, at any time, our friendly and well trained staff will ensure you are looked after with only the highest level of service.   We can accommodate you and your guests comfortably in our well equipped and appointed rooms. All rooms with Remote Control Colour Satellite Television, Direct Dial Telephone, Clock/Radio, Central Heating, Hairdryer, Tea/Coffee Bar, Travel Electrical Adaptor, Wash Basin and Fridge/Freezer.  Most rooms with Shower, Toilet and Secondary Air Conditioning. From 15 June 2001 the Marble Arch Inn will be rooms only and details regarding the breakfast can be obtained from the Reception'  Please be advised that the property will pre-authorize the card before arrival. If the credit card is not valid, you will be contacted to provide the details of another valid credit card in order to guarantee your reservation. Failure to do this, might result in the cancellation of the booking.\",\n",
       " \"We offer the best budget accommodation located in North West London zone 2 (Willesden Green/Kilburn being local underground stations.)  SHARED ACCOMMODATION If you are looking to meet and socialise with other friendly travellers, you can choose from 4, 6, 8 or 10 bed dorm rooms, mixed or female only!  We are not a party hostel, but we offer friendly, relaxed homely accommodation. The hostel has a great atmosphere where you can socialise with other travellers to give you that feel for London life. There's no curfew, so you can discover our beautiful city on your own terms! All bedding is provided. Large, fully equipped shared kitchen, comfortable lounge room with plasma T.V, garden area, night caretaker, daily cleaners, no curfew, FREE INTERNET (basic wifi connection and shared computers provided), coin operated washer and dryer on site.  Please note our youth hostel unfortunately has an age restriction of 18-45 years old. We offer private accommodation for guests outside of this age bracket.  PRIVATE ACCOMMODATION Choose from single, double/twin, triple and quad rooms and studios.  All rooms and studios have :  - Fresh linen - Colour TV - Wardrobes - Towels  - Welcome pack - Wooden floorboards  - Bar fridge - Heaters - FREE WIFI (basic connection)  - Access to coin operated washer and dryer on site  Private rooms are completely private, and you have access to our fully equipped kitchens, and communal bathrooms.  Studio apartments are fully equipped with your own private ensuite, and kitchenette, no shared facilities.  Please note that studio apartments incur an additional 2 per day, on top of the total rent owed.  Please note that private accommodation is not serviced. We can service rooms/studios upon request at an additional charge. Please contact reception.  CHECKING IN/PAYMENT   Monday - Saturday : 11am - 5:30pm Sunday : 11am - 3:30pm  If you are delayed, or plan to arrive outside of these hours, please advise, and we will email details on how to do a self check in. We have a minimum spend of 250 to make payment by credit/debit card.  Any payments made by card incur a 5% surcharge. Payments by cash/bankers draft are accepted.\",\n",
       " 'This Hotel is in a perfect location in Central London. We are just moments away from Victoria Coach/Bus/Train/Underground Tube Station (Metro).  You will be walking distance from anything you need and only 5-10 minutes walk from famous tourist sites such as Buckingham Palace and Westminster Abbey. We pride ourselves in offering clean and comfortable accommodation at a price fit for backpackers and traveling students alike. 24 hour access. Now with FREE WIFI Check In Between 14.00 ( 2 PM ) - till Late (3 AM) Luggage may be left with receptionist if checking in earlier. Triple rooms include 1 x Double bed and 1 x single Quad rooms include 2 x Double beds. Please Note:  Advance payment of 1 x night’s stay will be charged before your arrival. Balance can be paid via cash or card on arrival. If notice of cancellation is given 3 days before arrival a refund will be given. If card details are invalid or declined we can not secure the booking, we will attempt to contact you for an alternative card. Early luggage drop off is welcome. Charge on all card transactions £3.00 per item (including advance and refunds).',\n",
       " 'This bright, clean and friendly Belgrave Hotel is just a few minutes’ walk from the “Oval”Cricket Ground and Tube Station. While many other hotels near Victoria Station, Waterloo Station, and hotels in Vauxhall expect you to pay a premium for Wi-Fi, we offer this service free because we want you to be comfortable, able to relax and enjoy your London break. At our hotel we also provide breakfast, tea, and coffee when you stay in our modern rooms. There is on-site parking. The tourist attractions surrounding Westminster and Buckingham Palace are just a few stops on the Tube away. Waterloo Train Station and the South Bank can be reached in 10 minutes’ Tube journey. Very close to Brixton Academy, the largest music venue in London. Modern rooms at the Belgrave Hotel each feature satellite TV, a telephone, radio and tea/coffee facilities. Each room has a private bathroom. While other hotels offer steep prices, we tend to offer value rates because we know you may be on a budget. Belgrave Hotel London Policies & Conditions: Cancellation policy: 48 hours before arrival.  Check in from 13:30 to 23:00 . Check out before 10:30 . Payment upon arrival by cash, credit cards, debit cards.  All guest cards would be Pre-authorised 7 days prior to guest check in date. Taxes included. We will be serving continental breakfast inclusive in the room price. Breakfast from Monday to Friday would be served from 7.30 am to 9.30 am and Saturday/Sunday breakfast will be served from 7.30am to 10.00 am. General: 24 hour Reception. No curfew. Child friendly. Non smoking. Parking spaces on request with additional £15.00 per day from check in to check out time.',\n",
       " 'Access City offers 23 self-catering apartments. These spacious two-bedrooms apartments with one bathroom are located between Angel and Old Street. With its location in between Angel and Old Street, this property allows for easy access to Islington’s trendy Upper Street, which has shops, bars and restaurants galore. It’s also just a tube journey away from central London and the West End. Amenities include: All utilities covered (i.e. gas, water,electricity and council tax), Lift, Microwave, Cooker and Oven, Kettle and toaster, Washer/Dryer, Lounge with a Flat screen TV with Freeview. Bed Linen and Bath towels included. Sofas, Cupboards and Wardrobes, Telephone line for incoming calls and also Free Wi-Fi. Access City Policies & Conditions: Cancellation policy: 72 hours before arrival. Check in from 14:00. Check out before 10:30 . Payment upon arrival by cash, credit cards, debit cards.  This property may pre-authorise your card before arrival. You must provide the CVV code directly to the accommodation provider within 24 hours of the booking being made. If you do not provide the CVV code, we reserve the right to cancel the booking. Breakfast not included. Taxes included. Guests do not pay 20% VAT. We cannot issue an invoice with Rate/VAT breakdown.  Access Accommodation is under the Tour Operators Margin Scheme (TOMS). We do not include VAT at 20% in our rates. We will not be able to issue VAT invoices. General: 24 hour reception. Ability Towers, flat 1, Tower 1, Macclesfield Road EC1V 8AE No curfew. Non smoking.',\n",
       " 'Colliers Hotel offers basic budget accommodation with clean comfortable rooms at affordable rates and friendly environment. It is located very close to Victoria Central London Underground, local Buses, Rail and Coach Station, all easily reachable from the hotel. A variety of pubs and restaurants are also conveniently located within easy walking distance. Colliers hotel is a family run business which offers its clients 20 comfortable bedrooms. All rooms have telephone and colour television. Our prices are inclusive of complimentary continental breakfast and all taxes. Victoria underground and train station is 5-7 minutes walk away and it has underground links to Heathrow and direct frequent trains to Gatwick Airport. Our friendly staff is able and available to assist you plan your stay in London. Colliers Hotel - Terms & Conditions  The reception works 24-hours.  Cancellation policy: 48h before arrival. In case of a late cancellation or No Show, you will be charged the first night of your stay. Check in from 14:00 to 23:00 . Check out before 10:00 . Payment upon arrival by cash, credit cards, debit cards.  This property may pre-authorise your card before arrival.  Taxes included. Breakfast not included. No curfew.',\n",
       " '-',\n",
       " \"Belgravia Hotel ia ideally situated in central London, the bright and modern Belgravia Hotel offers a 24-hour front desk. In chic Belgravia, the basic townhouse hotel is just 5 minutes' walk from Victoria Railway Station and 1 minute from Victoria Coach Station. Each room at Belgravia Hotel offers a TV and tea and coffee making facilities. Belgravia Hotel offers 27 rooms with private bathroom and 5 rooms with shared bathroom. WiFi is available throughout the property. For breakfast, lunch, and evening meals, Belgravia offers a wide variety of shops, cafes, pubs, and restaurants. The popular shopping destination of Oxford Street can be reached after a 10-minute Tube journey. In Knightsbridge, the world-famous Harrods Department Store is within a 20-minute walk. Belgravia Hotel Policies & Conditions: Cancellation policy: 48h before arrival. In case of a late cancellation or No Show, you will be charged the first night of your stay. Check in from 14:00 to 00:00 . Check out before 10:30 . Payment upon arrival by cash, credit cards, debit cards.  This property may pre-authorize your card before the arrival. Taxes included. Breakfast not included. 24 Hours Reception. No curfew. Child friendly. Non smoking.\",\n",
       " \"Barry House is a Central London bed and breakfast offering family friendly accommodation. We are situated on Sussex Place, close to Hyde Park, Paddington, Marble Arch. Most of London’s famous sights are easy accessible including House of Parliament, Buckingham Palace, London Eye, Tower of London, Madam Tussaud's etc. . Paddington and Lancaster Gate underground stations are just two minutes walking distance from us with access to all buses to city centre.  With new management, we have refurbished the whole building including new wooden flooring in all rooms, new soft furnishing and new bathrooms. We have high standards of cleanliness and excellent customer services which is evident from the satisfaction of our guests who have stayed with us. We offer enriched continental breakfast Toasts, Tea/Coffee, Jam, Butter, Hot Chocolate, Croissants, Baked Beans, Variety of cereals, Boiled/Fried/Scrambled eggs, Orange/Apple Juice, Fresh Fruits, Cheese, fruit yogurt etc. Barry House policies & conditions Cancellation policy: 4 days before arrival at 6pm.    Check in from 14:00 to 23:00 . Check out before 11:00 . Payment upon arrival by cash, credit cards, debit cards.  Taxes included. Continental Breakfast included. General; No curfew. Child friendly. Non smoking. The pavement on the street leading to Barry House is level, but there are 2 steps up to our door.\",\n",
       " \"The Hyde Park Court Hotel is a centrally located, family run hotel in a quiet and pleasant square.  All rooms have an ensuite shower and toilet, tea/coffee making facilities, satellite television, hairdryer and direct dial telephones. Our reception is open 24 hours and a continental breakfast is included in the rates. Our location allows easy accessibility to all major parts of London whether the purpose of your stay is business or pleasure. Edgware Road tube station offers easy access to London's major tourist attractions. Hyde Park and Oxford St., the heart of London's shopping area are both only a few minutes walking distance away. Paddington Station is only 2 minutes away. From here, the Heathrow Express takes 15 minutes to get to Heathrow Airport. The underground takes 10 to 20 minutes to get to the West End and most other attractions.  The local Paddington area offers many restaurants, pubs, clubs and cinemas.  Please note this hotel has a 48-hour cancellation policy and your card may be pre-authorised before arrival.  Please be advised that the property requires the CVV code of the card in order to guarantee the booking and customers will be contacted directly regarding this. Failure to provide it will result in the cancellation of your booking.\",\n",
       " \"We offer budget accommodation located in North West London zone 2 (Willesden Green/Kilburn being local underground stations.)  Shared accommodation.  If you are looking to meet and socialise with other friendly travellers, you can choose from 6, 8 or 10 bed dorm rooms, mixed or female only!  We are not a party hostel, but we offer friendly, relaxed 'homely' accommodation. The hostel has a great atmosphere where you can socialise with other travellers to give you that feel for London life. There's no curfew, so you can discover our beautiful city on your own terms! All bedding is provided. Large, fully equipped shared kitchen, comfortable lounge room with plasma T.V, garden area, night caretaker, daily cleaners, no curfew, FREE INTERNET (basic wifi connection and shared computers provided), coin operated washer and dryer on site.  A simple breakfast of toast, butter, jam, coffee and tea is provided free of charge for any dorm bookings  - Please note our youth hostel unfortunately has an age restriction of 18-45 years old. We offer private accommodation for guests outside of this age bracket.  PRIVATE ACCOMMODATION Choose from single, double/twin, triple and quad rooms and studios.  studios have :  - Fresh linen - Wardrobes - Towels  - Wooden flooring - Bar fridge - Heaters - FREE WiFi (basic connection)  - Access to coin operated washer and dryer on site  Private rooms are completely private, and you have access to our fully equipped kitchens, and communal bathrooms.  Studio apartments are fully equipped with your own private ensuite, and kitchenette, no shared facilities.  - Please note that studio apartments incur an additional £2 GBP per day, on top of the total rent owed.  - Please note that private accommodation is not serviced. We can service rooms/studios upon request at an additional charge. Please contact reception.  CHECKING IN/PAYMENT  Our lovely hostel is based in the trendy North West London Area of Willesden Green and Kilburn..we are only 5mins walk from the tube...  When you arrive at Number 30 Chatsworth Road NW2 4BS please phone the head office phone number and one of our lovely staff members will come to the hostel and check you in. This service is only between the hours of 11am to 5:30pm Monday to Saturday. and on Sunday from 11am to 3:30pm   If you are delayed, or plan to arrive outside of these hours, please advise, and we will email details on how to do a 'self check in' We have a minimum spend of £250 to make payment by credit/debit card.  Any payments made by card incur a 5% surcharge. Payments by cash/bankers draft are accepted.  All Hostel bookings include: Fresh linen, duvet, pillow, washing powder. All Private Room bookings include: Fresh linen, duvet, pillows, towels, washing powder, welcome pack of tea/coffee, biscuits, just to get you started. All Studio Apartment bookings include: Fresh linen, duvet, pillows, towels, washing powder, 1 roll of toilet paper, washing up liquid, tea towel, shampoo sachet, welcome pack of tea/coffee, biscuits, just to get you started.\",\n",
       " \"The Britannia Inn Hotel is situated near the ILFORD Town Centre. A brand new Boutique Hotel built to truly international standards. The Britannia Inn Hotel has 'Premier Quality' Rooms all en-suite with power showers and some with baths. Stylish setting with spacious air conditioned reception and lounge.  All rooms with high speed internet access, state of the art Media Hub rooms & multi-media facilities that are very rare in UK. The Britannia Inn Hotel is very close to major attractions, we are 20 mins away from Central London via (Tube/Rail), 10 mins away from Olympic Village. Cancellation policy: 48 Hours. Cancellation term to be added to all the 3rd party web-sites cancellation policy: ***Please Note*** A valid credit card is required to secure the booking and will be preauthorised. Failure to preauthorise your card will result in the booking being cancelled and your deposit will be lost.\",\n",
       " 'Comfortable family run B&B hotel , very centrally located in Central London just opposite Kings Cross St Pancras International stations.  Rooms are available ensuite or economy with sharing bathroom for the budget conscious traveller. All rooms have a complimentary English breakfast, flat screen tvs, high speed internet wifi access and te/coffee making facilities.  The Fairway Hotel is walking distance from the British Library, museum , Camden and the university of London. Tourist attractions are reachable in minutes. Comfortable family run B&B hotel , very centrally located in Central London just opposite Kings Cross St Pancras International stations. Free high speed wifi . Please note: Check-in from 14:00 - 23:00 Check- out by 11am Cancellation policy is 3 days in advance We accept payment by cash, debit & credit card. Please note that there is a 3% charge on credit cards but not on uk debit cards . To avoid the charge you may pay in cash in GBP or euro or bank transfer.  Taxes are included Breakfast is included Minimum stay of 2 nights on Friday and Saturday.',\n",
       " 'Heathrow LHR Apartments is a brand new accommodation for LHR Heathrow Airport Travellers and AirCrew. Our property is very close to Heathrow LHR by free public transport.  You can store you luggage in our accommodation for a minor fee. Heathrow LHR Apartments is only 5 minutes from Heathrow terminals 1, 2 and 3. From here you can get free 24-hour public transportation to and from Heathrow Terminals.  The property is close to London Heathrow Airport, London, Windsor, Richmond and Kingston areas of London. We have direct links to Oxford and Cambridge via National Express and we are also well connected to Gatwick, Stansted and Luton airports. Cross Rail station is only 5 minutes from the property and provides excellent connection everywhere from Reading to Kings Cross,Canary Warf, London City, Paddington, Bond Street, and Tottenham Court Road. Convenience store and Italian eatery are next to the house. Newly developed very spacious rooms with double/king size beds. Every room has an En-suite, TV, table, wardrobe, hairdryer, WiFi, international chargers and washing machine.   Heathrow LHR Apartments Policies and Conditions: Check in from 15:00 to 23:00. Check out before 10:00. Cancellation policy: 72h before arrival. Payment upon arrival by cash. Taxes included. General: Reception: 24/24h. No curfew. Non smoking.',\n",
       " 'Perfectly located adjacent to BOROUGH STATION in a historic and central location. Compromising 20 BEDROOMS, A CAFÉ & THE FLEXIBLE WORK SPACE formed from an old Victorian printworks steeped in HISTORY & CHARACTER CitySpace Borough is the FIRST EAT, SLEEP, WORK concept property City Space - Terms & Conditions  The reception works 24hs Cancellation policy: 72h before arrival. In case of a late cancellation or No Show, you will be charged the first night of your stay. Check in from 15:00 to 23:00 . Check out before 10:00 . Payment upon arrival by cash.  Taxes included. Breakfast not included - 9.50 GBP per person per day. No curfew. Child friendly. Non smoking.',\n",
       " 'Our Access Euston apartments are within a restored, listed Georgian building. The 1, 2 and 3 bedroom apartments are fully furnished with a fully equipped kitchen. Close to the major cultural and commercial areas of the city. An ideal choice for business and leisure travelers. Within convenient reach of London’s West End, it offers easy access to London’s tourist attractions. Re-gents Park is a couple of minutes away on foot too and if you venture a little further, you will find the great sights and shopping around Marble Arch and Oxford Street. All units feature: Microwave, A Four Hob Cooker and Oven, Kettle, Washer/Dryer, Dishwasher. Bed linen and bath towels are included. Also included are: Freeview TV, Free Wi-Fi and a Lift. Access Euston Policies & Conditions: Cancellation policy: 72 hours before arrival.  Guests have to provide their CVV code within 24 hours of making the booking. In case you do not do this, we will contact you requesting the CVV code. If failure to provide the information, we will cancel the booking and inform you about it via email. Check in from 14:00 to 23:00 . Check out before 10:30 . Payment upon arrival by cash, credit cards, debit cards.  This property may pre-authorise your card before arrival. Taxes included. Breakfast not included. General: 24 hour reception.  Check in is done at our sister hotel the Best Western Burns Hotel, 18-26 Barkston Gardens, Kensington, London SW5 0EN. Check in time is from 4pm. A taxi service, free of charge, is supply from the check in point to the apartment. No curfew. Non smoking. Access Accommodation is under the Tour Operators Margin Scheme (TOMS). We DO NOT include VAT at 20% in our rates. We will not be able to issue VAT invoices.  Guests do not pay 20% VAT. The information is only for invoice purpose as sometime guests request an invoice. We cannot issue an invoice with Rate/VAT breakdown.',\n",
       " \"A friendly, family run hotel offering comfortable budget accommodation and breakfast at competitive and moderate prices. The Park Hotel London is situated on Belgrave Road in the heart of central London, close to Victoria Underground, Railway and Coach Stations (3 minutes walk away). Fantastic landmarks such as the British Museum, British Library, University of London, Oxford Street, Regents Park and Madame Tussaud's all within easy reach, guests could not be in a better position to explore the city.  Park Hotel Policies and Conditions: Cancellation policy: 48h before arrival. In case of a late cancellation or No Show, you will be charged the first night of your stay. This property may pre-authosrise your card prior to your arrival in order to secure your booking. 24 hour reception. Check in from 14:00 to 22:00 . Check out from 07:00 to 10:00 . Payment upon arrival by credit cards, debit cards.  Taxes included. Breakfast not included. No curfew. Child friendly. Non smoking. Free WiFi. No pets allowed. Street Parking available.\",\n",
       " \"Set in London, 4.3 miles from London Zoo, Golders Park Hotel offers accommodation with free WiFi and free private parking. The property is located 4.3 miles from Camden Market, 4.3 miles from Lord's Cricket Ground and 5 miles from Alexandra Palace. The accommodation provides a 24-hour front desk, a concierge service and organising tours for guests. At the hotel, the rooms come with a desk, a flat-screen TV and a private bathroom. All guest rooms will provide guests with a wardrobe and a kettle. Guests at Golders Park Hotel can enjoy a continental breakfast. Wembley Stadium is 5 miles from the accommodation, while Madame Tussauds is 5 miles from the property. The nearest airport is London Heathrow Airport, 18 miles from Golders Park Hotel. We speak your language! Golders Park Hotel Policies and Conditions: -Cancellation policy: 72h before arrival. In case of a late cancellation or No Show, you will be charged the first night of your stay. -Receptions opening hours:7:00am-1:00am -Check in from 14:00 to 21:00 . -Check out from 08:00 to 11:00 . -This property may pre-authorise your card prior to arrival. -Payment upon arrival by cash, credit cards, debit cards.  -Taxes included. -Breakfast not included. -No curfew. -Non smoking. -Free WiFi. -Free Parking. -24 hour security.\",\n",
       " 'In the Heart of Ilford, Greater London region, Wellesley Hotel is located 1.1 km from Redbridge Central Library and Museum and 5 minutes walk from the nearest Ilford train station . This 3-star hotel offers luggage storage space. The hotel has Double, Single and Family rooms With a private bathroom. Also has one apartment, rooms at the hotel also have free WiFi. The nearest airport is London City Airport, 10 km from Wellesley Hotel. Plenty of eating spaces available on walking distance.  6.5 Miles from London Stadium and 30mins on the train. Wellesley Hotel Policies and Conditions: Cancellation policy: 24h before arrival. In case of a late cancellation or No Show, you will be charged the first night of your stay. For Non refundable bookings, full amount will be charged in case of cancellation or no show. Reception opening hours 10am-11pm. Check in from 14:00 to 23:00 . Check out from 10:00 to 11:00 . Payment upon arrival by cash, credit cards, debit cards.  Taxes included. Breakfast not included. No curfew. We do not accept customers younger than 18 years of age for check-in. Child friendly. Non smoking. Free WiFi. Public parking available. No pets Allowed. Family rooms available.',\n",
       " \"Hotel Shepherds Bush London'' provide 4 star hotel service in London. Reception and café-Bar is open 24 hours 7 days a week. All hotel bedrooms are En-suite, fully equipped: Free Wi-fi; Linen, towels, and daily cleaning service; Slippers; Tea & Coffee making facilities (including Kettle, tea, coffee); Toiletries: shampoo, soap, conditioner, body wash; Hairdryer; Refrigerator; Iron and Ironing board; Free view TV (flat screen good size). Location: Shepherd’s Bush, White City, London. Next to Westfield Shopping center and near BBC TV center. Metro stations: ‘’Shepherd’s Bush Market’’ (Hammersmith & City line metro), and ‘’Shepherd’s Bush’’ (Central Line metro, Overground, Rail, and Bus station). We follow all COVID safety guidelines including cleaning, disinfection. Hotel Shepherds Bush London - Terms & Conditions  The reception works 24-hours.  Cancellation policy: 24h before arrival. In case of a late cancellation or No Show, you will be charged the first night of your stay. Check in from 14:00 to 23:00 . Check out before 11:00 . Payment upon arrival by credit cards, debit cards.  This property may pre-authorise your card before arrival.  Taxes included. Breakfast not included - 5.00 GBP per person per day. No curfew.\",\n",
       " \"Central London Hotel Accommodation situated in a quiet beautiful garden square in the heart of London. The accommodation has 20 rooms with tea/coffee making facilities, and central heating. Hairdryers, Adaptors and irons available on request. The reception is open 24 hrs, and the staff offer a personalized and friendly service and Free Breakfast!!! The Hotel provides the ideal location to Oxford street - shoppers paradise or whether you want to visit some of the famous historic sights like Big Ben, Tower Bridge, Westminster Abbey and Buckingham Palace, drink a pint of England's finest ale, see a West End show or take a stroll in Hyde Park, not forgeting the hip international restaurants and the city's vibrant multi cultural population. London's fascination is its variety. Old and new stand side by side. History, pageantry and tradition mix with the modern, eccentric and avant garde, London the city thats in a world of its own offering something for everyone. Getting here: By Tube: Our nearest underground station is Paddington, which has the Bakerloo Line, Circle Line, District Line and the Hammersmith and City Line. Once you exit from the tube station, please walk on your right until you reach London Street, then turn left into Norfolk Square we are located on the left hand side at number 30. By Bus: 2 minutes walk from hotel. The London Buses that are nearby are the 36, 15, 23 and 27. From Heathrow Airport: you can take the Heathrow Express, which will take you directly to Paddington Station, then follow directions as above.  Check-in Time: After 1:30 PM Check-out Time: 11:00 AM   IMPORTANT INFORMATION:  Bed linen, towels and blankets are included in the price. All Taxes are included in the price. No extra charge for guests paying by credit cards. No Lockout / No curfew All rooms are equipped with televisions and free satellite channels. Free Tourist Information Service. Free Wireless internet access for guests with laptops. You can leave your luggage with reception if you arrive early or have a late departure.   CANCELLATION POLICY:  48 hours prior to check in, cancallations not with in this time period will be charged the first nights accommadation.\",\n",
       " 'The W14 Hotel London is a 3 star Superior Budget Hotel located in trendy Kensington, Central London and sets a new standard for budget accommodation London. The W14 Hotel spans four beautiful Victorian town houses with original features, mixed in with clean fresh contemporary deco. Situated in a quiet, leafy, residential hotel location conveniently away from all the excitement London can offer, yet close to the prestigious shops of High Street Kensington, the Earls Court & Kensington Olympia.  We have the following room types.  Single En-suite Rooms ( Single Bed)   Double En-Suite Rooms (1 Double Bed)   Twin En-Suite Rooms (2 Single Beds)   Triple En-Suite Rooms (1 Double Bed & 1 Single Bed)   Facilities: We offer clean and comfortable rooms and dormitories with great facilities: @ W14 Hotel - 24hr reception, no curfew, no lockout - CCTV & Alarm activated Emergency Exists - Free Wi-Fi to use on your laptop, phone or pda. - Free Breakfast (7:30 - 9:30) is served downstairs in the Breakfast Room (Bread/Toasts Butter,   Jam, Marmalade, Cereals, Milk, Coffee, Tea, Hot Chocolate & Juice,Cheese ,ham Bread Rolls, Croissant ) - Free Towels - Free Bed Linen - Secure Electronic Key Card Access  -Safety Deposit Box - Washing / Drying / Ironing facilities  - Direct links to Heathrow Victoria (from Victoria coach station) -Rain Dance Showers @ W14 Bar - Lounge Area with Large screen TV - Bar with affordable drinks and daily entertainment  - Vending Machine with a variety of Snacks @ Reception - Free Travel and Local Information  - Tours and Tickets available - Free Luggage storage before and after your stay - Check-out time: 10.30 am (yes you can leave your bags @ Reception upon check-out) ***PLEASE NOTE*** Guests cards will be pre authorised after booking',\n",
       " \"An ideal place to stay, The Crystal Lodge Hotel is a good accommodation choice in London. The Crystal Lodge Hotel in London is the perfect choice for anyone travelling with a partner and looking for great value accommodation in the city. Stay here and you'll have access to an area outside and its Wi-Fi. We are a very well presented Bed & Breakfast Hotel that has been welcoming guests for the last 15 years. As a small Bed & Breakfast we offer a warm welcome to all our guests, providing all what you need to feel that you are coming from home to home. We have a very friendly Lounge room, Fully equipped kitchen to use, and well presented Garden. Free Car park , Free Wi-Fi access 24 hours, Fax and Photocopy machine is available. Crystal Lodge Hotel is e located in Thornton Heath.Our Location makes us very easy to reach, Thornton Heath train station is only 3 minute walk up the road with easy access to Central London means you can reach Victoria Station in less than 15 minutes. Gatwick airport can easily be accessed within 30 minutes. Crystal Lodge Hotel offers a wide range of services and facilities to make your stay more enjoyable; Tea and Coffee making facilities, Colour Television in all rooms, Continental Breakfast from 7:30am - 8:30am, We have on site car parking secured with 24 hours CCTV surveillence, Free Wi-Fi access, Croydon Town Center only 5 minutes away, Thornton Heath train station only 3 minute walk, Local Mini-Cab services, Home Office 8 minutes away, En-suite rooms available, Housekeeping from 7 am to 2 pm, All types of rooms are available ( single-double-Triple-Family), Rooms on the ground floor with wooden flooring are available for those they can not walk up stairs. The Crystal Lodge Hotel Policies & Conditions: Cancellation policy: 48 hours before arrival.  Check in from 13:00. Check out before 11:00. Payment upon arrival by cash, credit cards, debit cards.  This property may pre-authorise your card before arrival. Taxes included. Breakfast not included. General: Reception open 24 hours. No curfew. Child friendly. Non smoking.\",\n",
       " 'Beaconsfield is a basic, budget hotel, situated in Harringey on Green Lanes (A105) within 100 yards of Haringey Green Lanes Mainline Railway Station and five minutes walk from Manor House Tube Station. Guests at this hotel get to enjoy the benefit of being located above a traditional London pub.  This atmospheric Victorian pub is a great place to soak up a real taste of traditional English life. You can relax with a drink or enjoy a game of pool,darts or maybe watch sports on the big screen.  This comfortable hotel combines a peaceful location with a homely atmosphere, as well as easy access to Central London.  This Hotel also has a fully equipped kitchen and ample shared bathroom facilities. **PLEASE NOTE there is NO check in after midnight** Cancellation Policy If cancelled up to 7 days before date of arrival, no fee will be charged.  If cancelled later or in case of no-show, the total price of the reservation will be charged.',\n",
       " 'Superbly located hotel only 5 minutes walk from Wembley Park Underground Station, Wembley Stadium, The SSE Arena, Wembley and London Designer Outlet Shopping Centre, cinema and restaurants. Free WIFI throughout the hotel. Free Parking for cars first come basis. 165 en-suite rooms, sports bar, restaurant, meeting rooms and conference and event halls for hire. Central London is only a 15 minutes tube ride away. Added value offers with your stay  - Free London Designer Outlet Shopping Pass giving an additional 10% discount at most shops - Free London Westfield Shopping Pass giving additional discounts of between 10%-25%  - Free London guided walking tour - Free UK Sim Card - 50% discount off Gym and Swimming Pool day passes located 3 mins walk from the hotel - 20% discount off Wembley Stadium Tour, Arsenal, Chelsea and Kia Oval Cricket Ground Tour Please ask at our Reception Desk for full details We also have disabled rooms available on request',\n",
       " '-',\n",
       " '-',\n",
       " 'Combining Victorian charm with Modern Luxury The 4* Best Western The Bolton’s Kensington is a modern oasis of peace in the conservation area of the Royal Borough of Kensington and Chelsea.  Fully Refurbished in 2012 to incorporate modern simplicity and functionality with Victorian charm Best Western The Bolton’s Hotel London Kensington with 56 fully Air conditioned en suite bedrooms, complimentary High Speed WIFI throughout, a welcoming Restaurant serving a decadent breakfast is the place for the discerning traveller looking for great value for money.  Ideally located just around the corner from Earls Court underground station, within easy reach of some of London’s most prestigious shopping areas such as High Street Kensington and Knightsbridge to the many attractions of London such as the Natural History and the Science museum just off our door step making the Best Western The Bolton’s Hotel London Kensington the ideal location for your visit to London At the Boltons Hotel London Kensington you will find peace and tranquillity in the heart of London. Located in in the leafy conservation area of The Royal Borough of Kensington and Chelsea on a quiet street only a stones throw from the Hustle and Bustle of the big city The Bolton’s Hotel London Kensington is well located for any visit to London.  With Earls Court Station conveniently located only minutes from the front door, you have access to all of London and Heathrow via the Circle, Piccadilly, and District underground lines. If you’re going further afield there are over ground and Main line trains calling at West Brompton station 10 minutes’ walk away.  Surrounded by many excellent local restaurants and pubs that have retained their neighbourhood appeal to make this your home away from home, our hotel will give you an authentic London experience. Whether you are in London or on a budget or wanting to splash out The Bolton’s Hotel London Kensington is your ideal choice. All rooms include free Wifi. Our modern rooms also boast air conditioning, flat screen televisions, ipod docking stations, 24 hour room service, as well as contemporary beds and modern fittings. Here at Best Western Boltons London Kensington we know how difficult it can be travelling with the family, which can be made even harder when trying to find family friendly accommodation. That is why we are proud to say that we are a family friendly hotel, and our rooms can comfortably fit a family of three. Best Western Boltons London Kensington Policies & Conditions: Cancellation policy: 24 hours before arrival.  Check in from 14:00 to 23:00 . Check out before 12:00 . Payment upon arrival by cash, credit cards, debit cards.  This property may pre-authorise your card before arrival. Taxes included. Breakfast not included. General: Reception is open 24 hours. No curfew. Child friendly. Non smoking. There is a breakfast room, but this hotel does not serve lunch or dinner - there are plenty of places nearby to try!  Children are welcome when sharing with an adult. In the unlikely event that you have any reason to complain or experience any problems, you must immediately inform staff in the hotel. Here at The Boltons we put your comfort first and take care of your every need throughout your stay.',\n",
       " \"Kip is on a mission to bring the world style and service without the silly price tags. So do yourself a favour, and next time you’re in town #GetSomeKip. Come see us at our brand new Hackney Central location. We need good kip like we need food, water and free wi-fi, but we don’t think that a stylish, comfortable hotel bed should cost the earth. That’s why we came up with the Kip concept – hand-crafted, monochrome interiors, and a range of accommodation to suit every need, from live/work accommodation through to holiday-makers and families, couples, groups and singles, out-of-towners and London locals. Located In Hackney next to Hackney Central Station the hotel is perfectly situated with great access to the London Travel network. Whether your in London to see the sights or for work, Hackney is the perfect location to base yourself with excellent access to transport and the city. Kip provides a wide range of room types from Pods and Cabin rooms with shared facilities to our large group rooms with en-suites for 6 and 8 people. Kip also provides all of it's guests with free high speed internet. Kip Hotel Policies & Conditions: For standard reservations: Kip will take the full amount of your stay within 48 hours of your arrival date, this amount is non-refundable in case of a no-show or late cancellation. For advance purchase reservations: This reservation requires full pre-payment and is non-amendable and non-refundable. We will charge the full amount of the reservation to the credit card used to make this reservation shortly after the reservation has been made.  For group reservations: This policy applies to bookings for KipFriends group rooms (rooms with capacity for 6+ guests) and/or single reservations for 5 or more rooms. All bookings must be secured with a valid credit card number at the time of booking. Full payment for group bookings will be taken 14 days prior to the arrival date. Once taken this payment is fully non-refundable. If you need to change or cancel a reservation this must be in writing.  Cancellation policy for New Year's Eve(31.12.2017) is 7 days before arrival. Check in from 15:00 to 23:00 . Check out before 11:00 . Payment upon arrival by cash, credit cards, debit cards (Visa, Mastercard). This property may pre-authorise your card before arrival. You MUST present the card used for the booking upon arrival. If this is not possible and the card used for the reservation does not belong to the guest, a third party form must be requested directly from the hotel (email: hello@getsomekip.com or tel: +44 20 8629 7884) and completed prior to the arrival date. Failure to do so may result in the guest not being allowed to check in. Taxes included. Breakfast not included. General: We have 24 hour Reception. No curfew. You can only make a booking if you are 18 years old or over. If you arrive at the hotel and are under 18 years of age you will not be permitted to stay alone. Child friendly.\",\n",
       " 'With friendly staff, excellent service and an ideal location, Dover Hotel is the perfect place to stay if you need a hotel near Victoria Station on your next visit to London. Please explore our site for more details, suitable for any budget, and feel free to contact us with any questions you may have.  The Dover has a 24 hour Reception, 7 days a week. Check In is from 13:00 and check out time is up until 11:00 each morning. We provide safe boxes free of charge to all guests, in addition to free Wi-Fi throughout the building.Our room price includes a full Continental breakfast which is served in our elegant dining room. We are conveniently located near Victoria Rail, Underground and Coach Station (just 3 minutes walk), as well as the Gatwick Express for Gatwick Airport and other major transport links to provide easy access to all tourist and business areas. We’re also well located for shopping in Central London. We are within walking distance of Buckingham Palace, the Queen Elizabeth II Conference Centre, Whitehall and Parliament Square, as well as the London Eye, River Thames and Westminster Abbey. We have 34 rooms, ranging from amazingly well-priced Single Rooms, ideal for solo travellers on a budget, all the way up to 4- and 5-bed rooms ideal for families or groups of friends visiting the capital. All our rooms are modern, comfortable, well-equipped and well-appointed. Each centrally heated room is refurbished to a high standard and most rooms feature: Private Shower & WC, Cots with our Compliments (up to 12 months), Wake up call system, Clock radio, free Wi-Fi Access for our guests – connect up to 4 devices per room, Tea/Coffee facilities, Hair dryer/Shaving Point and Colour TV/Satellite.  The Dover Policies & Conditions: Cancellation policy: 48 hours before arrival.  Check in from 13:00 to 23:00 . Check out before 11:00 . Payment upon arrival by cash, credit cards, debit cards.  This property may pre-authorise your card before arrival. Taxes included. Breakfast included. General: We have 24 hours Reception. No curfew.',\n",
       " 'This Hotel is the right choice for visitors who are searching for a combination of charm, peace and quiet, and a convenient position from which to explore Venice. It is a small, comfortable hotel, situated on the Canale di Cannaregio. The Templatic family and their staff offer an attentive, personalized service and are always available to offer any help to guests. The hotel is arranged on three floors, without a lift. On the ground floor, apart from the reception, there is a comfortable lounge where you can sit and drink tea, or just read. There is also a splendid terrace, where, you can relax and immerge yourself from morning onwards in the atmosphere of Venetian daily life, watching the city travelling about by water and people gathering together and filling the alleyways and little squares with their chatter. The rooms are arranged on the first, second and third floors. On the top floor, there is also a delightful terrace or solarium available for the use of guests, from where you can enjoy the wonderful view. The buffet breakfast is served in the lounge on the ground floor, and also outside on our little patio during the summer months. The hotel provides an internet point, and a Wi-Fi service is available for an additional fee. Service and Facilities 24 hour reception service Internet access Free Wi-Fi Flat-screen TV Radio Alarm clock Desk Electric kettle Private bathroom Free toiletries Towels Linen Fan Heating Breakfast',\n",
       " 'We are located about twenty minutes by tube from London city centre. The Cranbrook Hotel is suited close to Valentines Park, which is beautiful and well cared for, covering over 136 acres. There are amenities for tennis, mini-golf, swimming and boating. The park is well known for its old English garden, the Rosary Terrace and its lakes. The hotel is ideally placed for all public transport a few minutes walk from Ilford Station (twenty minutes to Central London). It is, therefore, an ideal situation for visiting London to see the sights. Eight bus routes pass the door to Barking, Dagenham, Chigwell and further afield. Park Hotel has been established for over twenty-five years and is run as a family business by the resident proprietors. Free car parking is available in the hotel grounds. PLEASE NOTE: After booking, the hotel will contact you for your CVC code and address to gaurantee your reservation. This is normal policy, and must be provided to them, otherwise your booking may be cancelled. We operate a 48 hour cancellation policy',\n",
       " \"The St Athans Hotel is a proudly simple, family-run budget green Bed & Breakfast hotel in Bloomsbury, central London - just walking distance from many famous landmarks, museums, theatres and shops. Based in historic Grade II listed Georgian Townhouses, we offer great value for money and a friendly service - providing a comfortable home from home in a convenient location. Showers and toilets are cleaned twice daily and are usually shared by three-to-four rooms.  Our rates include VAT, but not breakfast. However, we have a coffee house in our premises, offering both English and continental breakfast, as well as a range of coffees and homemade cakes and snacks. If you have any special needs please tell us. We have a number of rooms on the ground floor that could be suitable for those with movement disabilities, though not suitable for wheelchair use, as stairs and narrow corridors are an unavoidable feature of our 200-year-old Georgian building. There are at least three steps up from the pavement outside into our building.  The hotel has been with the same family since 1964 and is run by Lucia Geyer together with her three sons, Hans, Stefan, Karl, and daughter Maria-Lisa. We aim to offer a friendly service at great value for money, providing a clean and comfortable home from home; somewhere you can relax and feel welcome, with easy access to some of London's most famous attractions. Check-in time is from 14:00. Check-out time is 11:00. Our luggage room is available free of charge if you wish to leave bags with us on your arrival or departure day. We require 48 hours' notice in case of a cancellation; otherwise we reserve the right to charge the amount of the first night.  We pre-authorise the amount of the first night in order to confirm your reservation. We are pet friendly!  We welcome pets as family members. We accept any type of pet, as long as they’re well behaved, and don’t make any noise that might upset other guests.  Please ensure your pets are well behaved at all times.  Dogs must never be left unattended in rooms, and if cats are left unattended they must be caged – sorry – this is in case we need to enter the room for some reason.  It would be good if you brought your own pets’ bedding.  Guests are responsible for any mess, damage or personal injuries resulting from their pet.  (e.g. scratches on carpet or furniture, soiling carpet or bed linen etc…)  The Hotel reserves the rights to charge guest for the cost of any damages and extra cleaning etc.  When you book your room please let the receptionist know you’ll be bringing your pet.”\",\n",
       " 'Aron Guest House provides an excellent base, whether as a tourist looking to explore the various sights and sounds which London has to offer or for business travelers needing a comfortable retreat.  -Clean, comfortable Single and Double en-suite rooms available in a beautiful Guesthouse in South Ealing, West London. -Two minute walk to South Ealing Tube Station -Ideally located between Heathrow airport and Central London -Direct 20 minute train to either Piccadilly Circus or Heathrow Terminals -Extremely convenient for Business trips and Family holidays alike. -Breakfast included on request -Coming soon: Bar and restaurant catering to a wide variety of tastes. -Free Wireless Internet -Flat screen TV in every room -Parking available on request -Large Garden with patio ideal for summer barbecues Please note: Check-in from 13:00-19:00 Check-out by 1:00 Cancellation policy is 7 days in advance We accept payment by cash, debit & credit card. Our property is not suitable for children under 18.']"
      ]
     },
     "execution_count": 295,
     "metadata": {},
     "output_type": "execute_result"
    }
   ],
   "source": [
    "Property_desc"
   ]
  },
  {
   "cell_type": "code",
   "execution_count": null,
   "id": "c32e2328-761f-4678-bb64-a8d6dabdb989",
   "metadata": {},
   "outputs": [],
   "source": []
  },
  {
   "cell_type": "markdown",
   "id": "a317b060-b0c5-4299-9b8e-2446cb8bbd06",
   "metadata": {},
   "source": [
    "### let's get the hostels differente prices"
   ]
  },
  {
   "cell_type": "code",
   "execution_count": 211,
   "id": "31fdb67a-6567-470c-a540-4759cfdfdfd7",
   "metadata": {},
   "outputs": [
    {
     "name": "stderr",
     "output_type": "stream",
     "text": [
      "100%|██████████| 30/30 [00:00<00:00, 66.23it/s]\n",
      "100%|██████████| 30/30 [00:00<00:00, 71.12it/s]\n",
      "100%|██████████| 28/28 [00:00<00:00, 64.73it/s]\n"
     ]
    }
   ],
   "source": [
    "Prices_list = []\n",
    "condition = True\n",
    "while condition:\n",
    "    price_div = driver.find_elements_by_xpath('//div[@class=\"prices-col\"]')\n",
    "    for i in tqdm(price_div):\n",
    "        Prices_list.append(i.text) \n",
    "    time.sleep(4)    \n",
    "    try:\n",
    "        next_bnt = driver.find_element_by_xpath('//i[@class=\"core-icon icon-core-chevron-right\"]')\n",
    "        next_bnt.click()\n",
    "    except:\n",
    "        condition= False"
   ]
  },
  {
   "cell_type": "code",
   "execution_count": 212,
   "id": "864294ed-2e41-4b3e-86e1-fcc6608bb98b",
   "metadata": {},
   "outputs": [
    {
     "data": {
      "text/plain": [
       "['Privates From\\nRs3930\\nDorms From\\nRs1510\\nView',\n",
       " 'Privates From\\nRs8099\\nDorms From\\nRs1948\\nView',\n",
       " 'Privates From\\nRs4152\\nDorms From\\nRs1476\\nView',\n",
       " 'Privates From\\nRs8203\\nDorms From\\nRs1538\\nView',\n",
       " 'Privates From\\nRs5229\\nNo Dorms Available\\nView',\n",
       " 'No Privates Available\\nDorms From\\nRs1538\\nView',\n",
       " 'Privates From\\nRs4101\\nDorms From\\nRs1620\\nView',\n",
       " 'Free Cancellation\\nPrivates From\\nRs9329\\nDorms From\\nRs2047\\nView',\n",
       " 'Privates From\\nRs6151\\nDorms From\\nRs1046\\nView',\n",
       " 'Privates From\\nRs8200\\nDorms From\\nRs1538\\nView',\n",
       " 'No Privates Available\\nDorms From\\nRs1845\\nView',\n",
       " 'Privates From\\nRs18454\\nDorms From\\nRs1538\\nView',\n",
       " 'Privates From\\nRs6297\\nDorms From\\nRs2426\\nView',\n",
       " 'Privates From\\nRs10047\\nNo Dorms Available\\nView',\n",
       " 'Privates From\\nRs1738\\nDorms From\\nRs866\\nView',\n",
       " 'Privates From\\nRs6047\\nNo Dorms Available\\nView',\n",
       " 'No Privates Available\\nDorms From\\nRs2050\\nView',\n",
       " 'Privates From\\nRs4269\\nNo Dorms Available\\nView',\n",
       " 'Privates From\\nRs4306\\nNo Dorms Available\\nView',\n",
       " 'Privates From\\nRs5155\\nDorms From\\nRs1243\\nView',\n",
       " 'Privates From\\nRs6810\\nDorms From\\nRs2091\\nView',\n",
       " 'No Privates Available\\nDorms From\\nRs1276\\nView',\n",
       " 'Privates From\\nRs4101\\nNo Dorms Available\\nView',\n",
       " 'Privates From\\nRs4101\\nDorms From\\nRs1538\\nView',\n",
       " 'Privates From\\nRs2597\\nDorms From\\nRs1572\\nView',\n",
       " 'Privates From\\nRs4306\\nDorms From\\nRs1613\\nView',\n",
       " 'No Privates Available\\nDorms From\\nRs1538\\nView',\n",
       " 'Privates From\\nRs2923\\nDorms From\\nRs1095\\nView',\n",
       " 'Privates From\\nRs4613\\nNo Dorms Available\\nView',\n",
       " 'No Privates Available\\nDorms From\\nRs1656\\nView',\n",
       " 'Privates From\\nRs1815\\nDorms From\\nRs1476\\nView',\n",
       " 'No Privates Available\\nDorms From\\nRs3506\\nView',\n",
       " 'Privates From\\nRs3578\\nDorms From\\nRs1071\\nView',\n",
       " 'No Privates Available\\nDorms From\\nRs1071\\nView',\n",
       " 'Privates From\\nRs4398\\nDorms From\\nRs1174\\nView',\n",
       " 'Privates From\\nRs4613\\nDorms From\\nRs1743\\nView',\n",
       " 'Privates From\\nRs6151\\nDorms From\\nRs1538\\nView',\n",
       " 'Privates From\\nRs4613\\nNo Dorms Available\\nView',\n",
       " 'Privates From\\nRs5536\\nDorms From\\nRs1938\\nView',\n",
       " 'Privates From\\nRs2563\\nNo Dorms Available\\nView',\n",
       " 'Privates From\\nRs5110\\nDorms From\\nRs1948\\nView',\n",
       " 'Privates From\\nRs3588\\nDorms From\\nRs1640\\nView',\n",
       " 'No Privates Available\\nDorms From\\nRs1025\\nView',\n",
       " 'No Privates Available\\nDorms From\\nRs661\\nView',\n",
       " 'Privates From\\nRs5194\\nDorms From\\nRs2392\\nView',\n",
       " 'Privates From\\nRs6664\\nNo Dorms Available\\nView',\n",
       " 'Privates From\\nRs8960\\nDorms From\\nRs2362\\nView',\n",
       " 'Privates From\\nRs4208\\nDorms From\\nRs1753\\nView',\n",
       " 'No Privates Available\\nDorms From\\nRs1538\\nView',\n",
       " 'Privates From\\nRs11441\\nDorms From\\nRs1551\\nView',\n",
       " 'Privates From\\nRs1747\\nDorms From\\nRs1142\\nView',\n",
       " 'Privates From\\nRs5741\\nDorms From\\nRs1299\\nView',\n",
       " 'Privates From\\nRs3322\\nDorms From\\nRs1015\\nView',\n",
       " 'Privates From\\nRs8099\\nNo Dorms Available\\nView',\n",
       " 'Privates From\\nRs7304\\nNo Dorms Available\\nView',\n",
       " 'Privates From\\nRs4101\\nDorms From\\nRs1589\\nView',\n",
       " 'Privates From\\nRs5263\\nNo Dorms Available\\nView',\n",
       " 'Privates From\\nRs5263\\nNo Dorms Available\\nView',\n",
       " 'Privates From\\nRs12644\\nNo Dorms Available\\nView',\n",
       " 'Privates From\\nRs3452\\nNo Dorms Available\\nView',\n",
       " 'Privates From\\nRs4033\\nNo Dorms Available\\nView',\n",
       " 'Privates From\\nRs3599\\nNo Dorms Available\\nView',\n",
       " 'Privates From\\nRs5024\\nNo Dorms Available\\nView',\n",
       " 'Privates From\\nRs5639\\nNo Dorms Available\\nView',\n",
       " 'Privates From\\nRs4101\\nDorms From\\nRs1743\\nView',\n",
       " 'Privates From\\nRs3964\\nNo Dorms Available\\nView',\n",
       " 'Privates From\\nRs5399\\nNo Dorms Available\\nView',\n",
       " 'Privates From\\nRs5365\\nNo Dorms Available\\nView',\n",
       " 'Privates From\\nRs5741\\nNo Dorms Available\\nView',\n",
       " 'Privates From\\nRs15207\\nNo Dorms Available\\nView',\n",
       " 'Privates From\\nRs5639\\nNo Dorms Available\\nView',\n",
       " 'Privates From\\nRs6151\\nNo Dorms Available\\nView',\n",
       " 'Privates From\\nRs4306\\nNo Dorms Available\\nView',\n",
       " 'Privates From\\nRs7341\\nNo Dorms Available\\nView',\n",
       " 'Privates From\\nRs10150\\nNo Dorms Available\\nView',\n",
       " 'Privates From\\nRs7074\\nNo Dorms Available\\nView',\n",
       " 'Privates From\\nRs4511\\nNo Dorms Available\\nView',\n",
       " 'Privates From\\nRs4306\\nNo Dorms Available\\nView',\n",
       " 'Privates From\\nRs6049\\nNo Dorms Available\\nView',\n",
       " 'Privates From\\nRs3896\\nNo Dorms Available\\nView',\n",
       " 'Privates From\\nRs5905\\nNo Dorms Available\\nView',\n",
       " 'Privates From\\nRs10609\\nNo Dorms Available\\nView',\n",
       " 'Privates From\\nRs4169\\nNo Dorms Available\\nView',\n",
       " 'Privates From\\nRs6459\\nNo Dorms Available\\nView',\n",
       " 'Privates From\\nRs3793\\nNo Dorms Available\\nView',\n",
       " 'Privates From\\nRs4613\\nNo Dorms Available\\nView',\n",
       " 'Privates From\\nRs3868\\nNo Dorms Available\\nView',\n",
       " 'Privates From\\nRs6664\\nNo Dorms Available\\nView']"
      ]
     },
     "execution_count": 212,
     "metadata": {},
     "output_type": "execute_result"
    }
   ],
   "source": [
    "Prices_list"
   ]
  },
  {
   "cell_type": "code",
   "execution_count": 213,
   "id": "fd374b6c-4cb8-483d-9679-cf981fa5db6b",
   "metadata": {},
   "outputs": [
    {
     "data": {
      "text/plain": [
       "88"
      ]
     },
     "execution_count": 213,
     "metadata": {},
     "output_type": "execute_result"
    }
   ],
   "source": [
    "len(Prices_list)"
   ]
  },
  {
   "cell_type": "code",
   "execution_count": null,
   "id": "7a600c6c-d1ea-4647-b6f0-2f2d1a8cf591",
   "metadata": {},
   "outputs": [],
   "source": [
    "## 'Privates From\\nRs4613\\nDorms From\\nRs1743\\nView'"
   ]
  },
  {
   "cell_type": "code",
   "execution_count": 216,
   "id": "53f9a51b-2001-4d47-ab23-83c18d5d2b5f",
   "metadata": {},
   "outputs": [
    {
     "name": "stderr",
     "output_type": "stream",
     "text": [
      "100%|██████████| 88/88 [00:00<00:00, 473810.98it/s]\n"
     ]
    }
   ],
   "source": [
    "Privates_price = []\n",
    "Dorms_price = []\n",
    "for i in tqdm(range(0,len(Prices_list))):\n",
    "    y= Prices_list[i].split(sep=\"\\n\",maxsplit=4)\n",
    "    Privates_price.append(y[1])\n",
    "    Dorms_price.append(y[3])\n",
    "    items =''\n",
    "    y =[]"
   ]
  },
  {
   "cell_type": "code",
   "execution_count": 239,
   "id": "cf115f20-c71a-47c8-85f6-20f1a918d72f",
   "metadata": {},
   "outputs": [],
   "source": [
    "PRIVATE_PRICE = []\n",
    "for i in Privates_price:\n",
    "    if i =='Dorms From' or i =='Privates From':\n",
    "        PRIVATE_PRICE.append('-')\n",
    "    else:\n",
    "        PRIVATE_PRICE.append(i)\n",
    "        "
   ]
  },
  {
   "cell_type": "code",
   "execution_count": 240,
   "id": "c83b5ed8-b3be-4bb0-a401-e249a38f4343",
   "metadata": {},
   "outputs": [
    {
     "data": {
      "text/plain": [
       "['Rs3930',\n",
       " 'Rs8099',\n",
       " 'Rs4152',\n",
       " 'Rs8203',\n",
       " 'Rs5229',\n",
       " '-',\n",
       " 'Rs4101',\n",
       " '-',\n",
       " 'Rs6151',\n",
       " 'Rs8200',\n",
       " '-',\n",
       " 'Rs18454',\n",
       " 'Rs6297',\n",
       " 'Rs10047',\n",
       " 'Rs1738',\n",
       " 'Rs6047',\n",
       " '-',\n",
       " 'Rs4269',\n",
       " 'Rs4306',\n",
       " 'Rs5155',\n",
       " 'Rs6810',\n",
       " '-',\n",
       " 'Rs4101',\n",
       " 'Rs4101',\n",
       " 'Rs2597',\n",
       " 'Rs4306',\n",
       " '-',\n",
       " 'Rs2923',\n",
       " 'Rs4613',\n",
       " '-',\n",
       " 'Rs1815',\n",
       " '-',\n",
       " 'Rs3578',\n",
       " '-',\n",
       " 'Rs4398',\n",
       " 'Rs4613',\n",
       " 'Rs6151',\n",
       " 'Rs4613',\n",
       " 'Rs5536',\n",
       " 'Rs2563',\n",
       " 'Rs5110',\n",
       " 'Rs3588',\n",
       " '-',\n",
       " '-',\n",
       " 'Rs5194',\n",
       " 'Rs6664',\n",
       " 'Rs8960',\n",
       " 'Rs4208',\n",
       " '-',\n",
       " 'Rs11441',\n",
       " 'Rs1747',\n",
       " 'Rs5741',\n",
       " 'Rs3322',\n",
       " 'Rs8099',\n",
       " 'Rs7304',\n",
       " 'Rs4101',\n",
       " 'Rs5263',\n",
       " 'Rs5263',\n",
       " 'Rs12644',\n",
       " 'Rs3452',\n",
       " 'Rs4033',\n",
       " 'Rs3599',\n",
       " 'Rs5024',\n",
       " 'Rs5639',\n",
       " 'Rs4101',\n",
       " 'Rs3964',\n",
       " 'Rs5399',\n",
       " 'Rs5365',\n",
       " 'Rs5741',\n",
       " 'Rs15207',\n",
       " 'Rs5639',\n",
       " 'Rs6151',\n",
       " 'Rs4306',\n",
       " 'Rs7341',\n",
       " 'Rs10150',\n",
       " 'Rs7074',\n",
       " 'Rs4511',\n",
       " 'Rs4306',\n",
       " 'Rs6049',\n",
       " 'Rs3896',\n",
       " 'Rs5905',\n",
       " 'Rs10609',\n",
       " 'Rs4169',\n",
       " 'Rs6459',\n",
       " 'Rs3793',\n",
       " 'Rs4613',\n",
       " 'Rs3868',\n",
       " 'Rs6664']"
      ]
     },
     "execution_count": 240,
     "metadata": {},
     "output_type": "execute_result"
    }
   ],
   "source": [
    "PRIVATE_PRICE"
   ]
  },
  {
   "cell_type": "code",
   "execution_count": null,
   "id": "b97d0ad7-a4c9-4ecf-bafa-64695d7250b4",
   "metadata": {},
   "outputs": [],
   "source": [
    "len(PRIVATE_PRICE)"
   ]
  },
  {
   "cell_type": "code",
   "execution_count": 218,
   "id": "863531fd-2560-4331-aa4b-777fb1d70dd5",
   "metadata": {},
   "outputs": [
    {
     "data": {
      "text/plain": [
       "88"
      ]
     },
     "execution_count": 218,
     "metadata": {},
     "output_type": "execute_result"
    }
   ],
   "source": [
    "len(Privates_price)"
   ]
  },
  {
   "cell_type": "code",
   "execution_count": 219,
   "id": "84d99826-d6de-4c95-8aa6-be686d380b19",
   "metadata": {},
   "outputs": [
    {
     "data": {
      "text/plain": [
       "['Rs1510',\n",
       " 'Rs1948',\n",
       " 'Rs1476',\n",
       " 'Rs1538',\n",
       " 'View',\n",
       " 'View',\n",
       " 'Rs1620',\n",
       " 'Dorms From',\n",
       " 'Rs1046',\n",
       " 'Rs1538',\n",
       " 'View',\n",
       " 'Rs1538',\n",
       " 'Rs2426',\n",
       " 'View',\n",
       " 'Rs866',\n",
       " 'View',\n",
       " 'View',\n",
       " 'View',\n",
       " 'View',\n",
       " 'Rs1243',\n",
       " 'Rs2091',\n",
       " 'View',\n",
       " 'View',\n",
       " 'Rs1538',\n",
       " 'Rs1572',\n",
       " 'Rs1613',\n",
       " 'View',\n",
       " 'Rs1095',\n",
       " 'View',\n",
       " 'View',\n",
       " 'Rs1476',\n",
       " 'View',\n",
       " 'Rs1071',\n",
       " 'View',\n",
       " 'Rs1174',\n",
       " 'Rs1743',\n",
       " 'Rs1538',\n",
       " 'View',\n",
       " 'Rs1938',\n",
       " 'View',\n",
       " 'Rs1948',\n",
       " 'Rs1640',\n",
       " 'View',\n",
       " 'View',\n",
       " 'Rs2392',\n",
       " 'View',\n",
       " 'Rs2362',\n",
       " 'Rs1753',\n",
       " 'View',\n",
       " 'Rs1551',\n",
       " 'Rs1142',\n",
       " 'Rs1299',\n",
       " 'Rs1015',\n",
       " 'View',\n",
       " 'View',\n",
       " 'Rs1589',\n",
       " 'View',\n",
       " 'View',\n",
       " 'View',\n",
       " 'View',\n",
       " 'View',\n",
       " 'View',\n",
       " 'View',\n",
       " 'View',\n",
       " 'Rs1743',\n",
       " 'View',\n",
       " 'View',\n",
       " 'View',\n",
       " 'View',\n",
       " 'View',\n",
       " 'View',\n",
       " 'View',\n",
       " 'View',\n",
       " 'View',\n",
       " 'View',\n",
       " 'View',\n",
       " 'View',\n",
       " 'View',\n",
       " 'View',\n",
       " 'View',\n",
       " 'View',\n",
       " 'View',\n",
       " 'View',\n",
       " 'View',\n",
       " 'View',\n",
       " 'View',\n",
       " 'View',\n",
       " 'View']"
      ]
     },
     "execution_count": 219,
     "metadata": {},
     "output_type": "execute_result"
    }
   ],
   "source": [
    "Dorms_price"
   ]
  },
  {
   "cell_type": "code",
   "execution_count": 220,
   "id": "a58f02b4-651f-439f-9bb0-01620ed0adce",
   "metadata": {},
   "outputs": [
    {
     "data": {
      "text/plain": [
       "88"
      ]
     },
     "execution_count": 220,
     "metadata": {},
     "output_type": "execute_result"
    }
   ],
   "source": [
    "len(Dorms_price)"
   ]
  },
  {
   "cell_type": "code",
   "execution_count": 237,
   "id": "ff9b5a5f-8fe6-41c2-baa8-b64ce7f6a3ed",
   "metadata": {},
   "outputs": [],
   "source": [
    "DORMS_PRICE = []\n",
    "for i in Dorms_price:\n",
    "    if i =='Dorms From' or i =='View':\n",
    "        DORMS_PRICE.append('-')\n",
    "    else:\n",
    "        DORMS_PRICE.append(i)"
   ]
  },
  {
   "cell_type": "code",
   "execution_count": 246,
   "id": "929c4635-9caf-4871-9193-d98140c5ec8f",
   "metadata": {},
   "outputs": [],
   "source": [
    "#DORMS_PRICE"
   ]
  },
  {
   "cell_type": "code",
   "execution_count": 242,
   "id": "e7b56071-df9a-4a48-b4b4-c2d79e8e4cdd",
   "metadata": {},
   "outputs": [],
   "source": [
    "###  since the first 3 have empty private price , we are replacing by e\n",
    "Final_private_price =[]\n",
    "Final_private_price = private_f_price + PRIVATE_PRICE"
   ]
  },
  {
   "cell_type": "code",
   "execution_count": 241,
   "id": "971ad651-aff8-4787-8268-d00fb2c2bd1b",
   "metadata": {},
   "outputs": [],
   "source": [
    "Final_Dorms_price = []\n",
    "Final_Dorms_price = dorms_f_price + DORMS_PRICE"
   ]
  },
  {
   "cell_type": "code",
   "execution_count": 243,
   "id": "cf1ca3a8-c998-4ff2-90fe-d695d2e6b846",
   "metadata": {},
   "outputs": [
    {
     "data": {
      "text/plain": [
       "['',\n",
       " '',\n",
       " '',\n",
       " 'Rs3930',\n",
       " 'Rs8099',\n",
       " 'Rs4152',\n",
       " 'Rs8203',\n",
       " 'Rs5229',\n",
       " '-',\n",
       " 'Rs4101',\n",
       " '-',\n",
       " 'Rs6151',\n",
       " 'Rs8200',\n",
       " '-',\n",
       " 'Rs18454',\n",
       " 'Rs6297',\n",
       " 'Rs10047',\n",
       " 'Rs1738',\n",
       " 'Rs6047',\n",
       " '-',\n",
       " 'Rs4269',\n",
       " 'Rs4306',\n",
       " 'Rs5155',\n",
       " 'Rs6810',\n",
       " '-',\n",
       " 'Rs4101',\n",
       " 'Rs4101',\n",
       " 'Rs2597',\n",
       " 'Rs4306',\n",
       " '-',\n",
       " 'Rs2923',\n",
       " 'Rs4613',\n",
       " '-',\n",
       " 'Rs1815',\n",
       " '-',\n",
       " 'Rs3578',\n",
       " '-',\n",
       " 'Rs4398',\n",
       " 'Rs4613',\n",
       " 'Rs6151',\n",
       " 'Rs4613',\n",
       " 'Rs5536',\n",
       " 'Rs2563',\n",
       " 'Rs5110',\n",
       " 'Rs3588',\n",
       " '-',\n",
       " '-',\n",
       " 'Rs5194',\n",
       " 'Rs6664',\n",
       " 'Rs8960',\n",
       " 'Rs4208',\n",
       " '-',\n",
       " 'Rs11441',\n",
       " 'Rs1747',\n",
       " 'Rs5741',\n",
       " 'Rs3322',\n",
       " 'Rs8099',\n",
       " 'Rs7304',\n",
       " 'Rs4101',\n",
       " 'Rs5263',\n",
       " 'Rs5263',\n",
       " 'Rs12644',\n",
       " 'Rs3452',\n",
       " 'Rs4033',\n",
       " 'Rs3599',\n",
       " 'Rs5024',\n",
       " 'Rs5639',\n",
       " 'Rs4101',\n",
       " 'Rs3964',\n",
       " 'Rs5399',\n",
       " 'Rs5365',\n",
       " 'Rs5741',\n",
       " 'Rs15207',\n",
       " 'Rs5639',\n",
       " 'Rs6151',\n",
       " 'Rs4306',\n",
       " 'Rs7341',\n",
       " 'Rs10150',\n",
       " 'Rs7074',\n",
       " 'Rs4511',\n",
       " 'Rs4306',\n",
       " 'Rs6049',\n",
       " 'Rs3896',\n",
       " 'Rs5905',\n",
       " 'Rs10609',\n",
       " 'Rs4169',\n",
       " 'Rs6459',\n",
       " 'Rs3793',\n",
       " 'Rs4613',\n",
       " 'Rs3868',\n",
       " 'Rs6664']"
      ]
     },
     "execution_count": 243,
     "metadata": {},
     "output_type": "execute_result"
    }
   ],
   "source": [
    "Final_private_price"
   ]
  },
  {
   "cell_type": "code",
   "execution_count": 244,
   "id": "d7ed4acd-edf7-4e4f-acbd-8d3e96c0c936",
   "metadata": {},
   "outputs": [
    {
     "data": {
      "text/plain": [
       "91"
      ]
     },
     "execution_count": 244,
     "metadata": {},
     "output_type": "execute_result"
    }
   ],
   "source": [
    "len(Final_private_price)\n",
    "Final_private_price\n",
    "Final_Dorms_price"
   ]
  },
  {
   "cell_type": "code",
   "execution_count": 245,
   "id": "35fa90ce-325d-438c-84b7-be2e9a168057",
   "metadata": {},
   "outputs": [
    {
     "data": {
      "text/plain": [
       "91"
      ]
     },
     "execution_count": 245,
     "metadata": {},
     "output_type": "execute_result"
    }
   ],
   "source": [
    "len(Final_Dorms_price)"
   ]
  },
  {
   "cell_type": "markdown",
   "id": "d4562934-fe0a-4bbf-a28a-774f77fa6aff",
   "metadata": {},
   "source": [
    "### We Got the hostels prices"
   ]
  },
  {
   "cell_type": "code",
   "execution_count": null,
   "id": "d02a1665-2696-4724-be2c-1f45528262e0",
   "metadata": {},
   "outputs": [],
   "source": []
  },
  {
   "cell_type": "code",
   "execution_count": null,
   "id": "6ee7c65f-5333-48a5-a64d-f51af1e09eb0",
   "metadata": {},
   "outputs": [],
   "source": [
    "for i in range(0,len(PRICES),2):\n",
    "    private_f_price1.append(PRICES[i])\n",
    "    dorms_f_price1.append(PRICES[i+1])\n"
   ]
  },
  {
   "cell_type": "code",
   "execution_count": 142,
   "id": "b493e5d4-4ee4-4dd1-a57c-683cef734aa2",
   "metadata": {},
   "outputs": [
    {
     "data": {
      "text/plain": [
       "[]"
      ]
     },
     "execution_count": 142,
     "metadata": {},
     "output_type": "execute_result"
    }
   ],
   "source": [
    "href=\"/pwa/hosteldetails.php/Well-Street-Hall/London/310642?from=2021-07-26&to=2021-07-29&guests=2\""
   ]
  },
  {
   "cell_type": "code",
   "execution_count": 136,
   "id": "7260a2a0-5f20-4b64-ab93-a56c2180dba6",
   "metadata": {},
   "outputs": [
    {
     "data": {
      "text/plain": [
       "5"
      ]
     },
     "execution_count": 136,
     "metadata": {},
     "output_type": "execute_result"
    }
   ],
   "source": [
    "\n",
    "## let's the rest of the form priceS\n",
    "private_f_price1 =[]\n",
    "dorms_f_price1 =[]\n",
    "PRICES= []\n",
    "\n",
    "len(private_f_price)"
   ]
  },
  {
   "cell_type": "code",
   "execution_count": 128,
   "id": "0172f144-7e5e-4dbe-b049-9fbe0d990281",
   "metadata": {},
   "outputs": [
    {
     "data": {
      "text/plain": [
       "['Rs2044',\n",
       " 'Rs2359',\n",
       " 'Rs1014',\n",
       " 'Rs1508',\n",
       " 'Rs1945',\n",
       " 'Rs1474',\n",
       " 'Rs1106',\n",
       " 'Rs11524',\n",
       " 'Rs4095',\n",
       " 'Rs9317',\n",
       " 'Rs6143',\n",
       " 'Rs7371',\n",
       " 'Rs1843',\n",
       " 'Rs1382',\n",
       " 'Rs6288',\n",
       " 'Rs10033',\n",
       " 'Rs865',\n",
       " 'Rs2048',\n",
       " 'Rs4263',\n",
       " 'Rs1259',\n",
       " 'Rs2089',\n",
       " 'Rs4095',\n",
       " 'Rs1536',\n",
       " 'Rs1570',\n",
       " 'Rs1611',\n",
       " 'Rs2919',\n",
       " 'Rs4607',\n",
       " 'Rs2027',\n",
       " 'Rs3501',\n",
       " 'Rs1070',\n",
       " 'Rs4392',\n",
       " 'Rs4607',\n",
       " 'Rs6143',\n",
       " 'Rs4607',\n",
       " 'Rs1935',\n",
       " 'Rs4621',\n",
       " 'Rs3583',\n",
       " 'Rs1024',\n",
       " 'Rs5187',\n",
       " 'Rs6655',\n",
       " 'Rs2359',\n",
       " 'Rs1781',\n",
       " 'Rs11426',\n",
       " 'Rs1577',\n",
       " 'Rs5733',\n",
       " 'Rs3317',\n",
       " 'Rs8088',\n",
       " 'Rs4095',\n",
       " 'Rs5256',\n",
       " 'Rs12627',\n",
       " 'Rs4027',\n",
       " 'Rs5017',\n",
       " 'Rs4095',\n",
       " 'Rs3959',\n",
       " 'Rs5699',\n",
       " 'Rs15187',\n",
       " 'Rs6143',\n",
       " 'Rs10136',\n",
       " 'Rs4505',\n",
       " 'Rs4300',\n",
       " 'Rs3890',\n",
       " 'Rs10594',\n",
       " 'Rs6450',\n",
       " 'Rs3788',\n",
       " 'Rs3863']"
      ]
     },
     "execution_count": 128,
     "metadata": {},
     "output_type": "execute_result"
    }
   ],
   "source": [
    "dorms_f_price"
   ]
  },
  {
   "cell_type": "markdown",
   "id": "c0fea5a1-241e-48f0-80fa-34d6dcd1b1dc",
   "metadata": {},
   "source": [
    "### Let's find the Hostel Name."
   ]
  },
  {
   "cell_type": "code",
   "execution_count": 297,
   "id": "34933da4-0b3e-40f4-8350-76a098495b6a",
   "metadata": {},
   "outputs": [
    {
     "name": "stderr",
     "output_type": "stream",
     "text": [
      "100%|██████████| 91/91 [02:15<00:00,  1.49s/it]\n"
     ]
    }
   ],
   "source": [
    "#hostel_name\n",
    "Hostel_name = []\n",
    "from tqdm import tqdm\n",
    "for i in tqdm(urls_list):\n",
    "    try:\n",
    "        driver.get(i)\n",
    "        hostel_n = driver.find_element_by_xpath('/html/body/div[1]/div/div/div[1]/section/div[4]/div/div[1]/h1/div')\n",
    "        Hostel_name.append(hostel_n.text)\n",
    "    except:\n",
    "        Hostel_name.append('-')"
   ]
  },
  {
   "cell_type": "code",
   "execution_count": 298,
   "id": "01fd4001-8342-466e-830e-90e7502c7869",
   "metadata": {},
   "outputs": [
    {
     "data": {
      "text/plain": [
       "[\"Wombat's The City Hostel London\",\n",
       " 'Selina Camden',\n",
       " 'London Backpackers',\n",
       " \"St Christopher's Village\",\n",
       " 'Generator London',\n",
       " 'Safestay London Kensington Holland Park',\n",
       " 'PubLove @ The Crown, Battersea',\n",
       " '247london Hostel and Private Rooms',\n",
       " 'PubLove @ The Steam Engine, Waterloo',\n",
       " 'The London Home Hostel',\n",
       " \"Wombat's The City Hostel London\",\n",
       " 'Safestay London Elephant & Castle',\n",
       " 'PubLove @ The Green Man, Paddington',\n",
       " 'Astor Museum Inn',\n",
       " 'PubLove @ The White Ferry, Victoria',\n",
       " 'Prime Backpackers Angel',\n",
       " 'Atlas Hostels',\n",
       " 'No.8 Willesden Hostel London',\n",
       " 'YHA London St Pancras',\n",
       " 'SoHostel',\n",
       " 'Keystone House Kings Cross',\n",
       " 'Well Street Hall',\n",
       " 'Clink261',\n",
       " 'Burlington Residence',\n",
       " 'London Waterloo Hostel',\n",
       " 'Jaeger Acton Hostel',\n",
       " 'Astor Hyde Park',\n",
       " 'Abercorn House',\n",
       " \"St Christopher's Oasis-Female Only\",\n",
       " 'Astor Kensington',\n",
       " 'New Cross Inn Hostel',\n",
       " 'Mapesbury Hostel',\n",
       " 'Hootananny Hostel',\n",
       " 'Phoenix Hostel',\n",
       " 'Mornington Camden',\n",
       " 'Smart Hyde Park Inn Hostel',\n",
       " 'Smart Russell Square Hostel',\n",
       " 'Smart Hyde Park View Hostel',\n",
       " 'Astor Victoria',\n",
       " 'PubLove @ The Exmouth Arms, Euston',\n",
       " 'International Students House',\n",
       " 'Strand Continental',\n",
       " 'The Backpackshack',\n",
       " 'Saint James Backpackers',\n",
       " 'Best London Hostels',\n",
       " 'Le Junction Hostel - Pub & Garden',\n",
       " 'No.8 Seven Sisters',\n",
       " 'Park Villa',\n",
       " 'The Dictionary Hostel',\n",
       " 'Selina Camden',\n",
       " 'Urbany Hostel London',\n",
       " 'PubLove @ The Rose & Crown',\n",
       " 'Venture Hostel',\n",
       " 'Queen Elizabeth Chelsea',\n",
       " 'Kensal Green Backpackers',\n",
       " 'London Backpackers',\n",
       " 'Paramount Hotel',\n",
       " 'Marble Arch Inn',\n",
       " 'Budget London Apartments',\n",
       " 'Chester Hotel Victoria',\n",
       " 'Belgrave Hotel London',\n",
       " 'Access City',\n",
       " 'Colliers Hotel',\n",
       " 'City Hotel Carlton',\n",
       " 'Belgravia Hotel',\n",
       " 'Barry House',\n",
       " 'Hyde Park Court Hotel',\n",
       " 'All Star Private Studios',\n",
       " 'Britannia Inn Hotel',\n",
       " 'Fairway Hotel',\n",
       " 'Heathrow LHR Apartments',\n",
       " 'City Space',\n",
       " 'Access Euston',\n",
       " 'Park Hotel',\n",
       " 'Golders Park Hotel',\n",
       " 'Wellesley Hotel',\n",
       " 'Hotel Shepherds Bush London',\n",
       " \"Tony's House Hotel\",\n",
       " 'The W14 Hotel & Bar',\n",
       " 'The Crystal Lodge Hotel',\n",
       " 'Beaconsfield',\n",
       " 'London Wembley International Hotel',\n",
       " 'Elmwood Hotel',\n",
       " 'Victor Hotel',\n",
       " 'Best Western Boltons London Kensington',\n",
       " 'Kip Hotel',\n",
       " 'The Dover',\n",
       " 'Park Hotel Essex',\n",
       " 'Cranbrook Hotel',\n",
       " 'St. Athans',\n",
       " 'Aron Guest House']"
      ]
     },
     "execution_count": 298,
     "metadata": {},
     "output_type": "execute_result"
    }
   ],
   "source": [
    "Hostel_name"
   ]
  },
  {
   "cell_type": "code",
   "execution_count": 299,
   "id": "a047ae03-5409-4d5e-9f17-d559ac02cb56",
   "metadata": {},
   "outputs": [
    {
     "data": {
      "text/plain": [
       "91"
      ]
     },
     "execution_count": 299,
     "metadata": {},
     "output_type": "execute_result"
    }
   ],
   "source": [
    "len(Hostel_name)"
   ]
  },
  {
   "cell_type": "markdown",
   "id": "997c263e-f90d-4637-ac53-0581fcc1fb85",
   "metadata": {},
   "source": [
    "## Now let's make pur data frame"
   ]
  },
  {
   "cell_type": "code",
   "execution_count": 349,
   "id": "eb668e59-5aef-46d2-95ef-78bd8d6c733a",
   "metadata": {},
   "outputs": [
    {
     "name": "stdout",
     "output_type": "stream",
     "text": [
      "91\n",
      "91\n",
      "91\n",
      "91\n",
      "91\n",
      "91\n",
      "91\n"
     ]
    }
   ],
   "source": [
    "print(len(Hostel_name))\n",
    "print(len(Final_private_price))\n",
    "print(len(Final_Dorms_price))\n",
    "print(len(Host_rate))\n",
    "print(len(Hostels_tt_reviews))\n",
    "print(len(Hostel_location))\n",
    "print(len(Property_desc))"
   ]
  },
  {
   "cell_type": "code",
   "execution_count": 350,
   "id": "63ed346c-278b-4624-ac79-ff711e5f6fe2",
   "metadata": {},
   "outputs": [],
   "source": [
    "Hostel_data = pd.DataFrame({})\n",
    "Hostel_data['Hostel_Name'] = Hostel_name\n",
    "Hostel_data['Hostel_Private_Price'] = Final_private_price\n",
    "Hostel_data['Hostel_Dorms_Price'] = Final_Dorms_price\n",
    "Hostel_data['Hostel_Rating'] = Host_rate\n",
    "Hostel_data['Hostel_Total_Rating_reviews'] = Hostels_tt_reviews\n",
    "Hostel_data['Hostel_Location'] = Hostel_location\n",
    "Hostel_data['Hostel_Desciption'] = Property_desc"
   ]
  },
  {
   "cell_type": "code",
   "execution_count": 351,
   "id": "d3a5316c-421f-4697-a803-058727c9dcd0",
   "metadata": {},
   "outputs": [
    {
     "data": {
      "text/html": [
       "<div>\n",
       "<style scoped>\n",
       "    .dataframe tbody tr th:only-of-type {\n",
       "        vertical-align: middle;\n",
       "    }\n",
       "\n",
       "    .dataframe tbody tr th {\n",
       "        vertical-align: top;\n",
       "    }\n",
       "\n",
       "    .dataframe thead th {\n",
       "        text-align: right;\n",
       "    }\n",
       "</style>\n",
       "<table border=\"1\" class=\"dataframe\">\n",
       "  <thead>\n",
       "    <tr style=\"text-align: right;\">\n",
       "      <th></th>\n",
       "      <th>Hostel_Name</th>\n",
       "      <th>Hostel_Private_Price</th>\n",
       "      <th>Hostel_Dorms_Price</th>\n",
       "      <th>Hostel_Rating</th>\n",
       "      <th>Hostel_Total_Rating_reviews</th>\n",
       "      <th>Hostel_Location</th>\n",
       "      <th>Hostel_Desciption</th>\n",
       "    </tr>\n",
       "  </thead>\n",
       "  <tbody>\n",
       "    <tr>\n",
       "      <th>0</th>\n",
       "      <td>Wombat's The City Hostel London</td>\n",
       "      <td></td>\n",
       "      <td>Rs2047</td>\n",
       "      <td>9.3</td>\n",
       "      <td>13130 Total Reviews</td>\n",
       "      <td>Hostel - 3.6km from city centre</td>\n",
       "      <td>Wombat's The City Hostel London is definitely ...</td>\n",
       "    </tr>\n",
       "    <tr>\n",
       "      <th>1</th>\n",
       "      <td>Selina Camden</td>\n",
       "      <td></td>\n",
       "      <td>Rs2362</td>\n",
       "      <td>9.1</td>\n",
       "      <td>2 Total Reviews</td>\n",
       "      <td>Hostel - 5.5km from city centre</td>\n",
       "      <td>Among underground music venues, innovative mus...</td>\n",
       "    </tr>\n",
       "    <tr>\n",
       "      <th>2</th>\n",
       "      <td>London Backpackers</td>\n",
       "      <td></td>\n",
       "      <td>Rs1015</td>\n",
       "      <td>8.7</td>\n",
       "      <td>4112 Total Reviews</td>\n",
       "      <td>Hostel - 11.9km from city centre</td>\n",
       "      <td>IMPORTANT NOTICE: This hostel is for 18–35-yea...</td>\n",
       "    </tr>\n",
       "    <tr>\n",
       "      <th>3</th>\n",
       "      <td>St Christopher's Village</td>\n",
       "      <td>Rs3930</td>\n",
       "      <td>Rs1510</td>\n",
       "      <td>8.9</td>\n",
       "      <td>10820 Total Reviews</td>\n",
       "      <td>Hostel - 3km from city centre</td>\n",
       "      <td>COVID 19 Policy Update. In response to Coronav...</td>\n",
       "    </tr>\n",
       "    <tr>\n",
       "      <th>4</th>\n",
       "      <td>Generator London</td>\n",
       "      <td>Rs8099</td>\n",
       "      <td>Rs1948</td>\n",
       "      <td>7.6</td>\n",
       "      <td>6733 Total Reviews</td>\n",
       "      <td>Hostel - 5.9km from city centre</td>\n",
       "      <td>Generator London is a design hotel-hostel loca...</td>\n",
       "    </tr>\n",
       "    <tr>\n",
       "      <th>...</th>\n",
       "      <td>...</td>\n",
       "      <td>...</td>\n",
       "      <td>...</td>\n",
       "      <td>...</td>\n",
       "      <td>...</td>\n",
       "      <td>...</td>\n",
       "      <td>...</td>\n",
       "    </tr>\n",
       "    <tr>\n",
       "      <th>86</th>\n",
       "      <td>The Dover</td>\n",
       "      <td>Rs6459</td>\n",
       "      <td>-</td>\n",
       "      <td>No Rating\\n0 Total Reviews</td>\n",
       "      <td>-</td>\n",
       "      <td>Hotel - 1.9km from city centre</td>\n",
       "      <td>With friendly staff, excellent service and an ...</td>\n",
       "    </tr>\n",
       "    <tr>\n",
       "      <th>87</th>\n",
       "      <td>Park Hotel Essex</td>\n",
       "      <td>Rs3793</td>\n",
       "      <td>-</td>\n",
       "      <td>No Rating\\n0 Total Reviews</td>\n",
       "      <td>-</td>\n",
       "      <td>Hotel - 24.1km from city centre</td>\n",
       "      <td>This Hotel is the right choice for visitors wh...</td>\n",
       "    </tr>\n",
       "    <tr>\n",
       "      <th>88</th>\n",
       "      <td>Cranbrook Hotel</td>\n",
       "      <td>Rs4613</td>\n",
       "      <td>-</td>\n",
       "      <td>No Rating\\n0 Total Reviews</td>\n",
       "      <td>-</td>\n",
       "      <td>Hotel - 14.8km from city centre</td>\n",
       "      <td>We are located about twenty minutes by tube fr...</td>\n",
       "    </tr>\n",
       "    <tr>\n",
       "      <th>89</th>\n",
       "      <td>St. Athans</td>\n",
       "      <td>Rs3868</td>\n",
       "      <td>-</td>\n",
       "      <td>No Rating\\n0 Total Reviews</td>\n",
       "      <td>-</td>\n",
       "      <td>Bed and Breakfast - 2.9km from city centre</td>\n",
       "      <td>The St Athans Hotel is a proudly simple, famil...</td>\n",
       "    </tr>\n",
       "    <tr>\n",
       "      <th>90</th>\n",
       "      <td>Aron Guest House</td>\n",
       "      <td>Rs6664</td>\n",
       "      <td>-</td>\n",
       "      <td>No Rating\\n0 Total Reviews</td>\n",
       "      <td>-</td>\n",
       "      <td>Bed and Breakfast - 13.1km from city centre</td>\n",
       "      <td>Aron Guest House provides an excellent base, w...</td>\n",
       "    </tr>\n",
       "  </tbody>\n",
       "</table>\n",
       "<p>91 rows × 7 columns</p>\n",
       "</div>"
      ],
      "text/plain": [
       "                        Hostel_Name Hostel_Private_Price Hostel_Dorms_Price  \\\n",
       "0   Wombat's The City Hostel London                                  Rs2047   \n",
       "1                     Selina Camden                                  Rs2362   \n",
       "2                London Backpackers                                  Rs1015   \n",
       "3          St Christopher's Village               Rs3930             Rs1510   \n",
       "4                  Generator London               Rs8099             Rs1948   \n",
       "..                              ...                  ...                ...   \n",
       "86                        The Dover               Rs6459                  -   \n",
       "87                 Park Hotel Essex               Rs3793                  -   \n",
       "88                  Cranbrook Hotel               Rs4613                  -   \n",
       "89                       St. Athans               Rs3868                  -   \n",
       "90                 Aron Guest House               Rs6664                  -   \n",
       "\n",
       "                 Hostel_Rating Hostel_Total_Rating_reviews  \\\n",
       "0                          9.3         13130 Total Reviews   \n",
       "1                          9.1             2 Total Reviews   \n",
       "2                          8.7          4112 Total Reviews   \n",
       "3                          8.9         10820 Total Reviews   \n",
       "4                          7.6          6733 Total Reviews   \n",
       "..                         ...                         ...   \n",
       "86  No Rating\\n0 Total Reviews                           -   \n",
       "87  No Rating\\n0 Total Reviews                           -   \n",
       "88  No Rating\\n0 Total Reviews                           -   \n",
       "89  No Rating\\n0 Total Reviews                           -   \n",
       "90  No Rating\\n0 Total Reviews                           -   \n",
       "\n",
       "                                Hostel_Location  \\\n",
       "0               Hostel - 3.6km from city centre   \n",
       "1               Hostel - 5.5km from city centre   \n",
       "2              Hostel - 11.9km from city centre   \n",
       "3                 Hostel - 3km from city centre   \n",
       "4               Hostel - 5.9km from city centre   \n",
       "..                                          ...   \n",
       "86               Hotel - 1.9km from city centre   \n",
       "87              Hotel - 24.1km from city centre   \n",
       "88              Hotel - 14.8km from city centre   \n",
       "89   Bed and Breakfast - 2.9km from city centre   \n",
       "90  Bed and Breakfast - 13.1km from city centre   \n",
       "\n",
       "                                    Hostel_Desciption  \n",
       "0   Wombat's The City Hostel London is definitely ...  \n",
       "1   Among underground music venues, innovative mus...  \n",
       "2   IMPORTANT NOTICE: This hostel is for 18–35-yea...  \n",
       "3   COVID 19 Policy Update. In response to Coronav...  \n",
       "4   Generator London is a design hotel-hostel loca...  \n",
       "..                                                ...  \n",
       "86  With friendly staff, excellent service and an ...  \n",
       "87  This Hotel is the right choice for visitors wh...  \n",
       "88  We are located about twenty minutes by tube fr...  \n",
       "89  The St Athans Hotel is a proudly simple, famil...  \n",
       "90  Aron Guest House provides an excellent base, w...  \n",
       "\n",
       "[91 rows x 7 columns]"
      ]
     },
     "execution_count": 351,
     "metadata": {},
     "output_type": "execute_result"
    }
   ],
   "source": [
    "Hostel_data"
   ]
  },
  {
   "cell_type": "code",
   "execution_count": 352,
   "id": "28470145-67db-4c77-a06a-4ab2451c58e4",
   "metadata": {},
   "outputs": [
    {
     "data": {
      "text/plain": [
       "'/Users/olivierla412/projects/data_camp/Scraping/Selenium/selenium_assign3'"
      ]
     },
     "execution_count": 352,
     "metadata": {},
     "output_type": "execute_result"
    }
   ],
   "source": [
    "pwd"
   ]
  },
  {
   "cell_type": "code",
   "execution_count": null,
   "id": "5ab7356f-f487-40d4-a5e3-f9b0f077b07d",
   "metadata": {},
   "outputs": [],
   "source": []
  },
  {
   "cell_type": "code",
   "execution_count": null,
   "id": "efdafafd-50b8-44ad-9597-f99b2def8914",
   "metadata": {},
   "outputs": [],
   "source": []
  },
  {
   "cell_type": "code",
   "execution_count": null,
   "id": "e04b41ae-82ed-4930-8261-6468a40a36a2",
   "metadata": {},
   "outputs": [],
   "source": []
  },
  {
   "cell_type": "code",
   "execution_count": null,
   "id": "d8accf3c-02ad-4342-9fa2-b99e3640d9a5",
   "metadata": {},
   "outputs": [],
   "source": []
  },
  {
   "cell_type": "code",
   "execution_count": null,
   "id": "c3a28ce7-5b25-42ef-b76e-e0add89eb735",
   "metadata": {},
   "outputs": [],
   "source": []
  },
  {
   "cell_type": "code",
   "execution_count": null,
   "id": "1f888636-b48f-421a-80e0-b0bc554446b2",
   "metadata": {},
   "outputs": [],
   "source": []
  },
  {
   "cell_type": "raw",
   "id": "dce59f8c-8517-4401-990c-547123e80351",
   "metadata": {},
   "source": []
  }
 ],
 "metadata": {
  "kernelspec": {
   "display_name": "Python 3",
   "language": "python",
   "name": "python3"
  },
  "language_info": {
   "codemirror_mode": {
    "name": "ipython",
    "version": 3
   },
   "file_extension": ".py",
   "mimetype": "text/x-python",
   "name": "python",
   "nbconvert_exporter": "python",
   "pygments_lexer": "ipython3",
   "version": "3.8.2"
  }
 },
 "nbformat": 4,
 "nbformat_minor": 5
}

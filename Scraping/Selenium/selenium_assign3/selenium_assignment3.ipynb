{
 "cells": [
  {
   "cell_type": "code",
   "execution_count": 1,
   "id": "93f52841-13b7-49c5-a5e7-7969276b237f",
   "metadata": {},
   "outputs": [
    {
     "data": {
      "text/plain": [
       "'/Users/olivierla412/projects/data_camp/Scraping/Selenium/selenium_assign3'"
      ]
     },
     "execution_count": 1,
     "metadata": {},
     "output_type": "execute_result"
    }
   ],
   "source": []
  },
  {
   "cell_type": "code",
   "execution_count": 949,
   "id": "368b28c4-c565-46b0-bfbf-4abcf73f9599",
   "metadata": {},
   "outputs": [],
   "source": [
    "## Importing the libraries\n",
    "import pandas as pd\n",
    "import selenium\n",
    "from selenium import webdriver\n",
    "import time\n",
    "from selenium.common.exceptions import StaleElementReferenceException,NoSuchElementException"
   ]
  },
  {
   "cell_type": "code",
   "execution_count": 620,
   "id": "c14fd72c-c345-447c-965d-4db87db3fd28",
   "metadata": {},
   "outputs": [],
   "source": [
    "driver = webdriver.Chrome('/Users/olivierla412/Desktop/chromedriver')"
   ]
  },
  {
   "cell_type": "markdown",
   "id": "8941ac0e-0f3c-439a-a062-aa31a3700bdf",
   "metadata": {},
   "source": [
    "## Q1. Write a python program which searches all the product under a particular product vertical\n",
    "## from www.amazon.in. The product verticals to be searched will be taken as input from user.\n",
    "## For e.g. If user input is ‘guitar’. Then search for guitars."
   ]
  },
  {
   "cell_type": "code",
   "execution_count": 80,
   "id": "f928b739-af5d-4d36-8ce7-8409233844ec",
   "metadata": {},
   "outputs": [],
   "source": [
    "## Fetching amazom website\n",
    "url ='https://www.amazon.in'\n",
    "driver.get(url)\n"
   ]
  },
  {
   "cell_type": "code",
   "execution_count": 81,
   "id": "5038c27a-3d6c-4eec-88a9-478ac7a98203",
   "metadata": {},
   "outputs": [],
   "source": [
    "input_search = driver.find_element_by_id(\"twotabsearchtextbox\")"
   ]
  },
  {
   "cell_type": "code",
   "execution_count": 82,
   "id": "51f585e0-f5cd-4632-85d6-121df893281b",
   "metadata": {},
   "outputs": [],
   "source": [
    "input_search.send_keys('Mobile phone above 30000 rupees')"
   ]
  },
  {
   "cell_type": "code",
   "execution_count": 83,
   "id": "9cdb3578-4fd4-4167-b30d-39d86eecb62b",
   "metadata": {},
   "outputs": [],
   "source": [
    "search_button = driver.find_element_by_id(\"nav-search-submit-button\")\n"
   ]
  },
  {
   "cell_type": "code",
   "execution_count": 84,
   "id": "26b4883b-f8dc-40d8-a0b9-6198e777ae2e",
   "metadata": {},
   "outputs": [],
   "source": [
    "search_button.click()"
   ]
  },
  {
   "cell_type": "markdown",
   "id": "a809cce6-18a4-4076-901d-f154bbc2f1b4",
   "metadata": {},
   "source": [
    "## 2. In the above question, now scrape the following\n",
    "## details of each product listed in first 3 pages of your\n",
    "## search results and save it in a data frame and csv.\n",
    "## In case if any product vertical has less than 3 pages\n",
    "## in search results then scrape all the products available under that product vertical.\n",
    "## Details to be scraped are: \"Brand Name\", \"Name of the Product\", \"Rating\", \"No. of Ratings\",\n",
    "## \"Price\", \"Return/Exchange\", \"Expected Delivery\", \"Availability\", \"Other Details\" and “Product URL”.\n",
    "## In case, if any of the details are missing for any of the product then replace it by “-“."
   ]
  },
  {
   "cell_type": "markdown",
   "id": "94594dd5-6a61-47f5-a2a4-a9e1c667e8e7",
   "metadata": {},
   "source": [
    "#### First let's the product urls."
   ]
  },
  {
   "cell_type": "code",
   "execution_count": null,
   "id": "db53dd39-414c-4153-b978-a574d4091a8a",
   "metadata": {},
   "outputs": [],
   "source": []
  },
  {
   "cell_type": "code",
   "execution_count": 85,
   "id": "a826cb59-7cc4-4cad-a6ce-f1cd23ba067c",
   "metadata": {},
   "outputs": [],
   "source": [
    "## getting the phones urls.\n",
    " \n",
    "links = []\n",
    "try:\n",
    "    for i in range(1,4):\n",
    "        product_link = driver.find_elements_by_xpath('//a[@class=\"a-link-normal a-text-normal\"]')\n",
    "        for oli in product_link:\n",
    "            links.append(oli.get_attribute('href'))\n",
    "        next_btn = driver.find_element_by_xpath('//li[@class=\"a-last\"]')\n",
    "        next_btn.click() \n",
    "        \n",
    "except NoSuchElementException:\n",
    "    links.append('-')\n",
    "time.sleep(3)   \n",
    "next_btn = driver.find_element_by_xpath('//li[@class=\"a-last\"]')\n",
    "next_btn.click() "
   ]
  },
  {
   "cell_type": "code",
   "execution_count": 86,
   "id": "bf097d37-8c4b-4b9c-b2a6-4ab0d9e87b9e",
   "metadata": {},
   "outputs": [
    {
     "data": {
      "text/plain": [
       "22"
      ]
     },
     "execution_count": 86,
     "metadata": {},
     "output_type": "execute_result"
    }
   ],
   "source": [
    "len(links)"
   ]
  },
  {
   "cell_type": "code",
   "execution_count": 87,
   "id": "c1b73244-d37f-4121-8fad-79ae8899cbec",
   "metadata": {},
   "outputs": [
    {
     "data": {
      "text/plain": [
       "['https://www.amazon.in/India-Gadgets-Android-Waterproof-Smartphone/dp/B094PM9JRN/ref=sr_1_1?dchild=1&keywords=Mobile+phone+above+30000+rupees&qid=1626713168&sr=8-1',\n",
       " 'https://www.amazon.in/India-Gadgets-Android-Waterproof-Smartphone/dp/B096MVQSXJ/ref=sr_1_2?dchild=1&keywords=Mobile+phone+above+30000+rupees&qid=1626713168&sr=8-2',\n",
       " 'https://www.amazon.in/iQOO-Solid-Blue-128GB-Storage/dp/B085J19DPV/ref=sr_1_3?dchild=1&keywords=Mobile+phone+above+30000+rupees&qid=1626713168&sr=8-3',\n",
       " 'https://www.amazon.in/LG-Velvet-Aurora-Silver-Storage/dp/B08NZTS2SJ/ref=sr_1_4?dchild=1&keywords=Mobile+phone+above+30000+rupees&qid=1626713168&sr=8-4',\n",
       " 'https://www.amazon.in/OnePlus-Mirror-Black-128GB-Storage/dp/B07DJD1Y3Q/ref=sr_1_5?dchild=1&keywords=Mobile+phone+above+30000+rupees&qid=1626713168&sr=8-5',\n",
       " 'https://www.amazon.in/Mi11XPro-Lunar-White-256GB-Storage/dp/B08LRDTY1M/ref=sr_1_6?dchild=1&keywords=Mobile+phone+above+30000+rupees&qid=1626713168&sr=8-6',\n",
       " 'https://www.amazon.in/Test-Exclusive_2020_1177-Multi-3GB-Storage/dp/B089MV3MW8/ref=sr_1_7?dchild=1&keywords=Mobile+phone+above+30000+rupees&qid=1626713168&sr=8-7',\n",
       " 'https://www.amazon.in/Mi11XPro-Celestial-Silver-256GB-Storage/dp/B08LRG6J3B/ref=sr_1_8?dchild=1&keywords=Mobile+phone+above+30000+rupees&qid=1626713168&sr=8-8',\n",
       " 'https://www.amazon.in/Test-Exclusive_2020_1179-Multi-3GB-Storage/dp/B089MS8WHL/ref=sr_1_9?dchild=1&keywords=Mobile+phone+above+30000+rupees&qid=1626713168&sr=8-9',\n",
       " 'https://www.amazon.in/Vivo-V21-8GB-RAM-256GB/dp/B08ZJS74FC/ref=sr_1_10?dchild=1&keywords=Mobile+phone+above+30000+rupees&qid=1626713168&sr=8-10',\n",
       " 'https://www.amazon.in/Test-Exclusive_2020_1181-Multi-3GB-Storage/dp/B089MSK447/ref=sr_1_11?dchild=1&keywords=Mobile+phone+above+30000+rupees&qid=1626713168&sr=8-11',\n",
       " 'https://www.amazon.in/Test-Exclusive_2020_1180-Multi-3GB-Storage/dp/B089MT34QL/ref=sr_1_12?dchild=1&keywords=Mobile+phone+above+30000+rupees&qid=1626713168&sr=8-12',\n",
       " 'https://www.amazon.in/11X-Cosmic-Black-128GB-Storage/dp/B085J1DRPG/ref=sr_1_13?dchild=1&keywords=Mobile+phone+above+30000+rupees&qid=1626713168&sr=8-13',\n",
       " 'https://www.amazon.in/iqoo7/dp/B086978F35/ref=sr_1_14?dchild=1&keywords=Mobile+phone+above+30000+rupees&qid=1626713168&sr=8-14',\n",
       " 'https://www.amazon.in/iQOO-Storm-Black-128GB-Storage/dp/B085J1RJV6/ref=sr_1_15?dchild=1&keywords=Mobile+phone+above+30000+rupees&qid=1626713168&sr=8-15',\n",
       " 'https://www.amazon.in/iQOO-Storm-Black-256GB-Storage/dp/B085J17VVQ/ref=sr_1_16?dchild=1&keywords=Mobile+phone+above+30000+rupees&qid=1626713168&sr=8-16',\n",
       " 'https://www.amazon.in/Test-Exclusive_2020_1178-Multi-3GB-Storage/dp/B089MTJVLD/ref=sr_1_17?dchild=1&keywords=Mobile+phone+above+30000+rupees&qid=1626713174&sr=8-17',\n",
       " 'https://www.amazon.in/New-Apple-iPhone-12-64GB/dp/B08L5TGWD1/ref=sr_1_18?dchild=1&keywords=Mobile+phone+above+30000+rupees&qid=1626713174&sr=8-18',\n",
       " 'https://www.amazon.in/OnePlus-Mirror-Black-128GB-Storage/dp/B085J19V4P/ref=sr_1_19?dchild=1&keywords=Mobile+phone+above+30000+rupees&qid=1626713174&sr=8-19',\n",
       " 'https://www.amazon.in/iqoo7/dp/B08697QP9B/ref=sr_1_20?dchild=1&keywords=Mobile+phone+above+30000+rupees&qid=1626713174&sr=8-20',\n",
       " 'https://www.amazon.in/iQOO-Solid-Blue-256GB-Storage/dp/B085J3GN6X/ref=sr_1_21?dchild=1&keywords=Mobile+phone+above+30000+rupees&qid=1626713174&sr=8-21',\n",
       " '-']"
      ]
     },
     "execution_count": 87,
     "metadata": {},
     "output_type": "execute_result"
    }
   ],
   "source": [
    "links"
   ]
  },
  {
   "cell_type": "code",
   "execution_count": 97,
   "id": "6a447d2d-f4d5-43e4-bc29-eb284517097e",
   "metadata": {},
   "outputs": [],
   "source": [
    "valid_links= links[:21]"
   ]
  },
  {
   "cell_type": "code",
   "execution_count": 98,
   "id": "d3ba845a-1ac5-49a9-9799-40b9c0208aba",
   "metadata": {},
   "outputs": [
    {
     "data": {
      "text/plain": [
       "21"
      ]
     },
     "execution_count": 98,
     "metadata": {},
     "output_type": "execute_result"
    }
   ],
   "source": [
    "len(valid_links)"
   ]
  },
  {
   "cell_type": "code",
   "execution_count": 99,
   "id": "0ea08a7d-5099-4059-a12b-de923e0d785c",
   "metadata": {},
   "outputs": [
    {
     "data": {
      "text/plain": [
       "['https://www.amazon.in/India-Gadgets-Android-Waterproof-Smartphone/dp/B094PM9JRN/ref=sr_1_1?dchild=1&keywords=Mobile+phone+above+30000+rupees&qid=1626713168&sr=8-1',\n",
       " 'https://www.amazon.in/India-Gadgets-Android-Waterproof-Smartphone/dp/B096MVQSXJ/ref=sr_1_2?dchild=1&keywords=Mobile+phone+above+30000+rupees&qid=1626713168&sr=8-2',\n",
       " 'https://www.amazon.in/iQOO-Solid-Blue-128GB-Storage/dp/B085J19DPV/ref=sr_1_3?dchild=1&keywords=Mobile+phone+above+30000+rupees&qid=1626713168&sr=8-3',\n",
       " 'https://www.amazon.in/LG-Velvet-Aurora-Silver-Storage/dp/B08NZTS2SJ/ref=sr_1_4?dchild=1&keywords=Mobile+phone+above+30000+rupees&qid=1626713168&sr=8-4',\n",
       " 'https://www.amazon.in/OnePlus-Mirror-Black-128GB-Storage/dp/B07DJD1Y3Q/ref=sr_1_5?dchild=1&keywords=Mobile+phone+above+30000+rupees&qid=1626713168&sr=8-5',\n",
       " 'https://www.amazon.in/Mi11XPro-Lunar-White-256GB-Storage/dp/B08LRDTY1M/ref=sr_1_6?dchild=1&keywords=Mobile+phone+above+30000+rupees&qid=1626713168&sr=8-6',\n",
       " 'https://www.amazon.in/Test-Exclusive_2020_1177-Multi-3GB-Storage/dp/B089MV3MW8/ref=sr_1_7?dchild=1&keywords=Mobile+phone+above+30000+rupees&qid=1626713168&sr=8-7',\n",
       " 'https://www.amazon.in/Mi11XPro-Celestial-Silver-256GB-Storage/dp/B08LRG6J3B/ref=sr_1_8?dchild=1&keywords=Mobile+phone+above+30000+rupees&qid=1626713168&sr=8-8',\n",
       " 'https://www.amazon.in/Test-Exclusive_2020_1179-Multi-3GB-Storage/dp/B089MS8WHL/ref=sr_1_9?dchild=1&keywords=Mobile+phone+above+30000+rupees&qid=1626713168&sr=8-9',\n",
       " 'https://www.amazon.in/Vivo-V21-8GB-RAM-256GB/dp/B08ZJS74FC/ref=sr_1_10?dchild=1&keywords=Mobile+phone+above+30000+rupees&qid=1626713168&sr=8-10',\n",
       " 'https://www.amazon.in/Test-Exclusive_2020_1181-Multi-3GB-Storage/dp/B089MSK447/ref=sr_1_11?dchild=1&keywords=Mobile+phone+above+30000+rupees&qid=1626713168&sr=8-11',\n",
       " 'https://www.amazon.in/Test-Exclusive_2020_1180-Multi-3GB-Storage/dp/B089MT34QL/ref=sr_1_12?dchild=1&keywords=Mobile+phone+above+30000+rupees&qid=1626713168&sr=8-12',\n",
       " 'https://www.amazon.in/11X-Cosmic-Black-128GB-Storage/dp/B085J1DRPG/ref=sr_1_13?dchild=1&keywords=Mobile+phone+above+30000+rupees&qid=1626713168&sr=8-13',\n",
       " 'https://www.amazon.in/iqoo7/dp/B086978F35/ref=sr_1_14?dchild=1&keywords=Mobile+phone+above+30000+rupees&qid=1626713168&sr=8-14',\n",
       " 'https://www.amazon.in/iQOO-Storm-Black-128GB-Storage/dp/B085J1RJV6/ref=sr_1_15?dchild=1&keywords=Mobile+phone+above+30000+rupees&qid=1626713168&sr=8-15',\n",
       " 'https://www.amazon.in/iQOO-Storm-Black-256GB-Storage/dp/B085J17VVQ/ref=sr_1_16?dchild=1&keywords=Mobile+phone+above+30000+rupees&qid=1626713168&sr=8-16',\n",
       " 'https://www.amazon.in/Test-Exclusive_2020_1178-Multi-3GB-Storage/dp/B089MTJVLD/ref=sr_1_17?dchild=1&keywords=Mobile+phone+above+30000+rupees&qid=1626713174&sr=8-17',\n",
       " 'https://www.amazon.in/New-Apple-iPhone-12-64GB/dp/B08L5TGWD1/ref=sr_1_18?dchild=1&keywords=Mobile+phone+above+30000+rupees&qid=1626713174&sr=8-18',\n",
       " 'https://www.amazon.in/OnePlus-Mirror-Black-128GB-Storage/dp/B085J19V4P/ref=sr_1_19?dchild=1&keywords=Mobile+phone+above+30000+rupees&qid=1626713174&sr=8-19',\n",
       " 'https://www.amazon.in/iqoo7/dp/B08697QP9B/ref=sr_1_20?dchild=1&keywords=Mobile+phone+above+30000+rupees&qid=1626713174&sr=8-20',\n",
       " 'https://www.amazon.in/iQOO-Solid-Blue-256GB-Storage/dp/B085J3GN6X/ref=sr_1_21?dchild=1&keywords=Mobile+phone+above+30000+rupees&qid=1626713174&sr=8-21']"
      ]
     },
     "execution_count": 99,
     "metadata": {},
     "output_type": "execute_result"
    }
   ],
   "source": [
    "valid_links"
   ]
  },
  {
   "cell_type": "markdown",
   "id": "03bb915e-4f1c-4a6a-a89b-5b7766d4c5ca",
   "metadata": {},
   "source": [
    "### let's find the product brand and price"
   ]
  },
  {
   "cell_type": "code",
   "execution_count": 105,
   "id": "87d542ed-6ae1-4da6-94a7-fca28a046db7",
   "metadata": {},
   "outputs": [],
   "source": [
    "## declaration of variables\n",
    "\n",
    "product_brand = []\n",
    "product_price = []\n",
    "for i in valid_links:\n",
    "    driver.get(i)\n",
    "    time.sleep(4)\n",
    "    #product_brand\n",
    "    try:\n",
    "        brand = driver.find_element_by_xpath('//td[@class=\"a-span9\"]//span')\n",
    "        product_brand.append(brand.text)\n",
    "    except NoSuchElementException:\n",
    "        product_brand.append('-') \n",
    "    \n",
    "    #fetching product_price\n",
    "    try:\n",
    "        price = driver.find_element_by_xpath('//span[@class=\"a-size-medium a-color-price priceBlockBuyingPriceString\"]')\n",
    "        product_price.append(price.text)\n",
    "    except NoSuchElementException:\n",
    "        product_price.append('-')\n"
   ]
  },
  {
   "cell_type": "code",
   "execution_count": 106,
   "id": "7eb6b214-5750-43cc-8aaf-f59bd16c6d3a",
   "metadata": {},
   "outputs": [
    {
     "data": {
      "text/plain": [
       "['Arm 9E',\n",
       " 'Armor 11T',\n",
       " 'IQOO 7 5G (Solid Ice Blue, 8GB RAM, 128GB Storage)',\n",
       " 'LMG910EMW.AINDAS',\n",
       " 'A6010',\n",
       " 'Mi 11X Pro',\n",
       " 'OnePlus 9',\n",
       " 'Mi 11X Pro',\n",
       " 'Exclusive_2020_1179',\n",
       " 'Vivo V21 (Dusk Blue, 8GB RAM, 256GB ROM)',\n",
       " 'Exclusive_2020_1181',\n",
       " 'OnePlus 9R',\n",
       " 'Mi 11X',\n",
       " 'IQOO 7 5G (Storm Black, 12GB RAM, 256GB Storage)',\n",
       " 'IQOO 7 5G (Storm Black, 8GB RAM, 128GB Storage)',\n",
       " 'IQOO 7 5G (Storm Black, 8GB RAM, 256GB Storage)',\n",
       " 'Exclusive_2020_1178',\n",
       " 'IPhone 12 64GB (PRODUCT)RED',\n",
       " 'OnePlus 8T 5G',\n",
       " 'IQOO 7 5G (Solid Ice Blue, 12GB RAM, 256GB Storage)',\n",
       " 'IQOO 7 5G (Solid Ice Blue, 8GB RAM, 256GB Storage)']"
      ]
     },
     "execution_count": 106,
     "metadata": {},
     "output_type": "execute_result"
    }
   ],
   "source": [
    "product_brand"
   ]
  },
  {
   "cell_type": "code",
   "execution_count": 107,
   "id": "2b6ba8a5-3129-4ffd-8a0b-c18a56993906",
   "metadata": {},
   "outputs": [
    {
     "data": {
      "text/plain": [
       "21"
      ]
     },
     "execution_count": 107,
     "metadata": {},
     "output_type": "execute_result"
    }
   ],
   "source": [
    "len(product_brand)"
   ]
  },
  {
   "cell_type": "code",
   "execution_count": 108,
   "id": "4bc2884a-a89d-49f3-853f-0fb44b335348",
   "metadata": {},
   "outputs": [
    {
     "data": {
      "text/plain": [
       "['₹37,500.00',\n",
       " '₹53,000.00',\n",
       " '₹31,990.00',\n",
       " '₹31,999.00',\n",
       " '₹31,999.00',\n",
       " '₹41,999.00',\n",
       " '₹54,999.00',\n",
       " '₹41,999.00',\n",
       " '₹43,999.00',\n",
       " '₹32,990.00',\n",
       " '₹43,999.00',\n",
       " '₹39,999.00',\n",
       " '-',\n",
       " '₹35,990.00',\n",
       " '₹31,990.00',\n",
       " '₹33,990.00',\n",
       " '-',\n",
       " '₹72,900.00',\n",
       " '₹41,999.00',\n",
       " '₹35,990.00',\n",
       " '₹33,990.00']"
      ]
     },
     "execution_count": 108,
     "metadata": {},
     "output_type": "execute_result"
    }
   ],
   "source": [
    "product_price"
   ]
  },
  {
   "cell_type": "code",
   "execution_count": 109,
   "id": "a1fabd88-0bb1-4cad-9acc-e63c58f697e6",
   "metadata": {},
   "outputs": [
    {
     "data": {
      "text/plain": [
       "21"
      ]
     },
     "execution_count": 109,
     "metadata": {},
     "output_type": "execute_result"
    }
   ],
   "source": [
    "len(product_price)"
   ]
  },
  {
   "cell_type": "markdown",
   "id": "2ff23859-051a-41de-bb44-a498a7fa70d5",
   "metadata": {},
   "source": [
    "### Let's scrap the product name and delivery"
   ]
  },
  {
   "cell_type": "code",
   "execution_count": 110,
   "id": "18fe6dd1-73df-4ae3-8046-ae6d9ac9cbd2",
   "metadata": {},
   "outputs": [],
   "source": [
    "## declaration of variables\n",
    "\n",
    "product_name = []\n",
    "product_delivery = []\n",
    "for i in valid_links:\n",
    "    driver.get(i)\n",
    "    time.sleep(4)\n",
    "    # fetching product_name\n",
    "    try:\n",
    "        name = driver.find_element_by_xpath('//span[@class=\"a-size-large product-title-word-break\"]')\n",
    "        product_name.append(name.text)\n",
    "    except NoSuchElementException:\n",
    "        product_name.append('-') \n",
    "    \n",
    "    #fetching product_delivery date\n",
    "    try:\n",
    "        delivery= driver.find_element_by_xpath('//div[@class=\"a-section a-spacing-mini\"]//b')\n",
    "        product_delivery.append(delivery.text)\n",
    "    except NoSuchElementException:\n",
    "        product_delivery.append('-')\n"
   ]
  },
  {
   "cell_type": "code",
   "execution_count": 111,
   "id": "4054abf6-d5bf-4054-a225-b0a2f3ebf8c9",
   "metadata": {},
   "outputs": [
    {
     "data": {
      "text/plain": [
       "21"
      ]
     },
     "execution_count": 111,
     "metadata": {},
     "output_type": "execute_result"
    }
   ],
   "source": [
    "len(product_name)"
   ]
  },
  {
   "cell_type": "code",
   "execution_count": 112,
   "id": "ff929cb6-75dd-4e5a-816b-e79ff47ad0ca",
   "metadata": {},
   "outputs": [
    {
     "data": {
      "text/plain": [
       "['India Gadgets - Armor 9E Rugged Android Mobile Phone: 6.3\" FHD+ IPS Display: 8Gb + 128Gb: 64MP Quad Camera: 6600mAh Battery: OTG NFC: Waterproof IP68 & IP69K Smartphone (Phone Only)',\n",
       " 'India Gadgets - Armor 11T 5G Rugged Android 11 Mobile Phone: 8Gb + 256Gb: 48MP Quad Camera with Thermal Imaging Camera: 6.1\" HD+ Display: 5200mAh Battery: Waterproof IP68 & IP69K Smartphone',\n",
       " 'iQOO 7 5G (Solid Ice Blue, 8GB RAM, 128GB Storage)| Upto 9 Months No Cost EMI | 3GB Extended RAM | Extra Rs.2000 Off on Exchange',\n",
       " 'LG Velvet (Aurora Silver, 6GB RAM, 128GB Storage) - P-OLED FHD+ Display | Snapdragon 845 Processor, Small (LMG910EMW.AINDAS)',\n",
       " 'OnePlus 6T (Mirror Black, 6GB RAM, 128GB Storage)',\n",
       " 'Mi 11X Pro 5G (Lunar White, 8GB RAM, 256GB Storage) | Snapdragon 888 | 108MP Camera',\n",
       " 'OnePlus 9 5G (Arctic Sky,12GB RAM, 256GB Storage)',\n",
       " 'MI 11X Pro 5G (Celestial Silver, 8GB RAM, 256GB Storage) | Snapdragon 888 | 108MP Camera | Upto 2000 Additional Exchange',\n",
       " 'OnePlus 9R 5G (Carbon Black, 12GB RAM, 256 GB Storage)',\n",
       " 'Vivo V21 5G (Dusk Blue, 8GB RAM, 256GB Storage) with No Cost EMI/Additional Exchange Offers',\n",
       " 'OnePlus 9R 5G (Lake Blue, 12GB RAM, 256GB Storage)',\n",
       " 'OnePlus 9R 5G (Lake Blue, 8GB RAM, 128GB Storage)',\n",
       " 'Mi 11X 5G Cosmic Black 8GB RAM 128GB ROM | SD 870 | DisplayMate A+ rated E4 AMOLED|Upto 5000 Additional Exchange',\n",
       " 'iQOO 7 5G (Storm Black, 12GB RAM, 256GB Storage)| Upto 9 Months No Cost EMI | 3GB Extended RAM | Extra Rs.2000 Off on Exchange',\n",
       " 'iQOO 7 5G (Storm Black, 8GB RAM, 128GB Storage)| Upto 9 Months No Cost EMI | 3GB Extended RAM | Extra Rs.2000 Off on Exchange',\n",
       " 'iQOO 7 5G (Storm Black, 8GB RAM, 256GB Storage)| Upto 9 Months No Cost EMI | 3GB Extended RAM | Extra Rs.2000 Off on Exchange',\n",
       " 'OnePlus 9R 5G (Carbon Black, 8GB RAM, 128GB Storage)',\n",
       " 'New Apple iPhone 12 (64GB) - (Product) RED',\n",
       " 'OnePlus 8T 5G (Aquamarine Green, 12GB RAM, 256GB Storage)',\n",
       " 'iQOO 7 5G (Solid Ice Blue, 12GB RAM, 256GB Storage)| Upto 9 Months No Cost EMI | 3GB Extended RAM | Extra Rs.2000 Off on Exchange',\n",
       " 'iQOO 7 5G (Solid Ice Blue, 8GB RAM, 256GB Storage)| Upto 9 Months No Cost EMI | 3GB Extended RAM | Extra Rs.2000 Off on Exchange']"
      ]
     },
     "execution_count": 112,
     "metadata": {},
     "output_type": "execute_result"
    }
   ],
   "source": [
    "product_name"
   ]
  },
  {
   "cell_type": "code",
   "execution_count": 113,
   "id": "a7519da2-c6ae-4ea7-85c5-9ea9906a2e3c",
   "metadata": {},
   "outputs": [
    {
     "data": {
      "text/plain": [
       "21"
      ]
     },
     "execution_count": 113,
     "metadata": {},
     "output_type": "execute_result"
    }
   ],
   "source": [
    "len(product_delivery)"
   ]
  },
  {
   "cell_type": "code",
   "execution_count": 114,
   "id": "a0d0986d-157f-4995-9ec4-00526bc82f57",
   "metadata": {},
   "outputs": [
    {
     "data": {
      "text/plain": [
       "['Aug 17 - 30',\n",
       " 'Aug 17 - 30',\n",
       " 'Friday, July 23',\n",
       " 'Sunday, July 25',\n",
       " 'Saturday, July 24',\n",
       " 'Thursday, July 22',\n",
       " 'Thursday, July 22',\n",
       " 'Wednesday, July 21',\n",
       " 'Friday, July 30',\n",
       " 'Wednesday, July 21',\n",
       " 'Thursday, July 22',\n",
       " 'July 22 - 23',\n",
       " 'Sunday, July 25',\n",
       " 'Saturday, July 24',\n",
       " 'Saturday, July 24',\n",
       " 'Wednesday, July 21',\n",
       " 'Wednesday, July 21',\n",
       " 'Wednesday, July 21',\n",
       " 'Friday, July 30',\n",
       " 'Saturday, July 24',\n",
       " 'Wednesday, July 21']"
      ]
     },
     "execution_count": 114,
     "metadata": {},
     "output_type": "execute_result"
    }
   ],
   "source": [
    "product_delivery\n"
   ]
  },
  {
   "cell_type": "markdown",
   "id": "1fe52c6c-1125-4f3e-b895-17a92a1e80b9",
   "metadata": {},
   "source": [
    "### Let's find product __return exchange__ and __availability__"
   ]
  },
  {
   "cell_type": "code",
   "execution_count": 115,
   "id": "800f2204-4a39-4be9-b547-1c36e9155cc8",
   "metadata": {},
   "outputs": [],
   "source": [
    "## declaration of variables\n",
    "return_exchange = []\n",
    "availability =[]\n",
    "for i in valid_links:\n",
    "    driver.get(i)\n",
    "    time.sleep(4)\n",
    "    # fetching return_exchange\n",
    "    try:\n",
    "        exchange = driver.find_element_by_xpath('//td[@class=\"a-span12 a-color-price a-size-base priceBlockSavingsString\"]')\n",
    "        return_exchange.append(exchange.text)\n",
    "    except NoSuchElementException:\n",
    "        return_exchange.append('-') \n",
    "    \n",
    "    #fetching availability\n",
    "    try:\n",
    "        aval= driver.find_element_by_xpath('//span[@class=\"a-size-medium a-color-success\"]')\n",
    "        availability.append(aval.text)\n",
    "    except NoSuchElementException:\n",
    "        availability.append('-')\n"
   ]
  },
  {
   "cell_type": "code",
   "execution_count": 116,
   "id": "74f33240-96d1-4eb8-a4c0-865b72c03186",
   "metadata": {},
   "outputs": [
    {
     "data": {
      "text/plain": [
       "21"
      ]
     },
     "execution_count": 116,
     "metadata": {},
     "output_type": "execute_result"
    }
   ],
   "source": [
    "len(return_exchange)"
   ]
  },
  {
   "cell_type": "code",
   "execution_count": 117,
   "id": "5d203371-4bc3-4c51-a51d-9a78e20dcc7a",
   "metadata": {},
   "outputs": [
    {
     "data": {
      "text/plain": [
       "21"
      ]
     },
     "execution_count": 117,
     "metadata": {},
     "output_type": "execute_result"
    }
   ],
   "source": [
    "len(availability)"
   ]
  },
  {
   "cell_type": "code",
   "execution_count": 118,
   "id": "78428e6c-d2e1-4408-997a-2a2f2e472497",
   "metadata": {},
   "outputs": [
    {
     "data": {
      "text/plain": [
       "['₹13,500.00 (26%)',\n",
       " '₹7,000.00 (12%)',\n",
       " '₹3,000.00 (9%)',\n",
       " '₹22,110.00 (40%)',\n",
       " '₹6,000.00 (16%)',\n",
       " '₹8,000.00 (16%)',\n",
       " '-',\n",
       " '₹8,000.00 (16%)',\n",
       " '-',\n",
       " '₹3,000.00 (8%)',\n",
       " '-',\n",
       " '-',\n",
       " '₹3,000.00 (9%)',\n",
       " '₹4,000.00 (10%)',\n",
       " '₹3,000.00 (9%)',\n",
       " '₹4,000.00 (11%)',\n",
       " '-',\n",
       " '₹7,000.00 (9%)',\n",
       " '₹4,000.00 (9%)',\n",
       " '₹4,000.00 (10%)',\n",
       " '₹4,000.00 (11%)']"
      ]
     },
     "execution_count": 118,
     "metadata": {},
     "output_type": "execute_result"
    }
   ],
   "source": [
    "return_exchange"
   ]
  },
  {
   "cell_type": "code",
   "execution_count": 119,
   "id": "7377fcdd-7762-4cfa-8989-f6b59a0a67dc",
   "metadata": {},
   "outputs": [
    {
     "data": {
      "text/plain": [
       "['-',\n",
       " '-',\n",
       " 'In stock.',\n",
       " 'In stock.',\n",
       " 'In stock.',\n",
       " 'In stock.',\n",
       " 'In stock.',\n",
       " 'In stock.',\n",
       " 'In stock.',\n",
       " 'In stock.',\n",
       " 'In stock.',\n",
       " '-',\n",
       " 'In stock.',\n",
       " 'In stock.',\n",
       " 'In stock.',\n",
       " 'In stock.',\n",
       " 'In stock.',\n",
       " 'In stock.',\n",
       " 'In stock.',\n",
       " 'In stock.',\n",
       " 'In stock.']"
      ]
     },
     "execution_count": 119,
     "metadata": {},
     "output_type": "execute_result"
    }
   ],
   "source": [
    "availability"
   ]
  },
  {
   "cell_type": "markdown",
   "id": "46049de1-e3eb-4a42-8d64-c8b886f571d1",
   "metadata": {},
   "source": [
    "### Let's find the rating and no of rating.\n"
   ]
  },
  {
   "cell_type": "code",
   "execution_count": 139,
   "id": "154aca39-0481-4cf3-9204-babfa0d13a25",
   "metadata": {},
   "outputs": [],
   "source": [
    "prodcut_rating = []\n",
    "product_no_of_rating = []\n",
    "for i in valid_links:\n",
    "    driver.get(i)\n",
    "    time.sleep(4)\n",
    "    # fetching prodcut_rating\n",
    "    try:\n",
    "        rating = driver.find_element_by_xpath('//span[@class=\"a-size-medium a-color-base\"]')\n",
    "        prodcut_rating.append(rating.text)\n",
    "    except NoSuchElementException:\n",
    "        prodcut_rating.append('-') \n",
    "    \n",
    "    #fetching availability\n",
    "    try:\n",
    "        no_rating= driver.find_element_by_xpath('/html/body/div[2]/div[2]/div[5]/div[4]/div[4]/div[5]/div/span[3]/a/span')\n",
    "        product_no_of_rating.append(no_rating.text)\n",
    "    except NoSuchElementException:\n",
    "        product_no_of_rating.append('-')\n",
    "\n",
    "\n",
    "\n",
    "\n",
    "\n",
    "\n"
   ]
  },
  {
   "cell_type": "code",
   "execution_count": 129,
   "id": "eaf8d14e-220b-4717-9126-a4fa6c229251",
   "metadata": {},
   "outputs": [
    {
     "data": {
      "text/plain": [
       "21"
      ]
     },
     "execution_count": 129,
     "metadata": {},
     "output_type": "execute_result"
    }
   ],
   "source": [
    "len(prodcut_rating)"
   ]
  },
  {
   "cell_type": "code",
   "execution_count": 128,
   "id": "1f15c76d-9330-4226-bdc1-de616978535a",
   "metadata": {},
   "outputs": [
    {
     "data": {
      "text/plain": [
       "21"
      ]
     },
     "execution_count": 128,
     "metadata": {},
     "output_type": "execute_result"
    }
   ],
   "source": []
  },
  {
   "cell_type": "code",
   "execution_count": 142,
   "id": "3781376b-ad5c-4106-b838-3a4ac34aefa0",
   "metadata": {},
   "outputs": [
    {
     "data": {
      "text/plain": [
       "['-',\n",
       " '-',\n",
       " '4.5 out of 5',\n",
       " '4.1 out of 5',\n",
       " '4.5 out of 5',\n",
       " '3.9 out of 5',\n",
       " '4.1 out of 5',\n",
       " '3.9 out of 5',\n",
       " '4.3 out of 5',\n",
       " '4.2 out of 5',\n",
       " '4.3 out of 5',\n",
       " '4.3 out of 5',\n",
       " '4 out of 5',\n",
       " '4.5 out of 5',\n",
       " '4.5 out of 5',\n",
       " '4.5 out of 5',\n",
       " '4.3 out of 5',\n",
       " '4.6 out of 5',\n",
       " '4.4 out of 5',\n",
       " '4.5 out of 5',\n",
       " '4.5 out of 5']"
      ]
     },
     "execution_count": 142,
     "metadata": {},
     "output_type": "execute_result"
    }
   ],
   "source": [
    "prodcut_rating"
   ]
  },
  {
   "cell_type": "code",
   "execution_count": 141,
   "id": "d5f132ed-1a78-4f5d-aa9d-9c53b83ee4d8",
   "metadata": {},
   "outputs": [
    {
     "data": {
      "text/plain": [
       "['-',\n",
       " '-',\n",
       " '4,760 ratings',\n",
       " '82 ratings',\n",
       " '30,032 ratings',\n",
       " '530 ratings',\n",
       " '2,430 ratings',\n",
       " '530 ratings',\n",
       " '11,027 ratings',\n",
       " '42 ratings',\n",
       " '11,027 ratings',\n",
       " '11,027 ratings',\n",
       " '2,872 ratings',\n",
       " '4,760 ratings',\n",
       " '4,760 ratings',\n",
       " '4,760 ratings',\n",
       " '11,027 ratings',\n",
       " '-',\n",
       " '20,943 ratings',\n",
       " '4,760 ratings',\n",
       " '4,760 ratings']"
      ]
     },
     "execution_count": 141,
     "metadata": {},
     "output_type": "execute_result"
    }
   ],
   "source": [
    "product_no_of_rating"
   ]
  },
  {
   "cell_type": "markdown",
   "id": "e3fa40ea-6ec5-41d3-afc5-f6bfa9f71c7d",
   "metadata": {},
   "source": [
    "## Now let's make our data frame"
   ]
  },
  {
   "cell_type": "code",
   "execution_count": 147,
   "id": "880ac34b-63e4-4078-873a-c39a125261db",
   "metadata": {},
   "outputs": [],
   "source": [
    "data1 = pd.DataFrame({})"
   ]
  },
  {
   "cell_type": "code",
   "execution_count": 148,
   "id": "124b0231-a9d8-45dd-a2f2-cb1a9e3037e8",
   "metadata": {},
   "outputs": [],
   "source": [
    "data1['Product_Brand'] = product_brand\n",
    "data1['Product_Price'] =product_price\n",
    "data1['Product_Name'] = product_name\n",
    "data1['Product_Delivery_Date'] = product_delivery\n",
    "data1['Product_Return_Exchange'] = return_exchange\n",
    "data1['Product_Availability'] =availability\n",
    "data1['Product_Rating'] =prodcut_rating\n",
    "data1['Product_No_Of_Rating'] = product_no_of_rating\n",
    "data1['Product_Url'] = valid_links"
   ]
  },
  {
   "cell_type": "code",
   "execution_count": 149,
   "id": "c5cf6549-0484-465a-9488-3e6c74d2c1ea",
   "metadata": {},
   "outputs": [
    {
     "data": {
      "text/html": [
       "<div>\n",
       "<style scoped>\n",
       "    .dataframe tbody tr th:only-of-type {\n",
       "        vertical-align: middle;\n",
       "    }\n",
       "\n",
       "    .dataframe tbody tr th {\n",
       "        vertical-align: top;\n",
       "    }\n",
       "\n",
       "    .dataframe thead th {\n",
       "        text-align: right;\n",
       "    }\n",
       "</style>\n",
       "<table border=\"1\" class=\"dataframe\">\n",
       "  <thead>\n",
       "    <tr style=\"text-align: right;\">\n",
       "      <th></th>\n",
       "      <th>Product_Brand</th>\n",
       "      <th>Product_Price</th>\n",
       "      <th>Product_Name</th>\n",
       "      <th>Product_Delivery_Date</th>\n",
       "      <th>Product_Return_Exchange</th>\n",
       "      <th>Product_Availability</th>\n",
       "      <th>Product_Rating</th>\n",
       "      <th>Product_No_Of_Rating</th>\n",
       "      <th>Product_Url</th>\n",
       "    </tr>\n",
       "  </thead>\n",
       "  <tbody>\n",
       "    <tr>\n",
       "      <th>0</th>\n",
       "      <td>Arm 9E</td>\n",
       "      <td>₹37,500.00</td>\n",
       "      <td>India Gadgets - Armor 9E Rugged Android Mobile...</td>\n",
       "      <td>Aug 17 - 30</td>\n",
       "      <td>₹13,500.00 (26%)</td>\n",
       "      <td>-</td>\n",
       "      <td>-</td>\n",
       "      <td>-</td>\n",
       "      <td>https://www.amazon.in/India-Gadgets-Android-Wa...</td>\n",
       "    </tr>\n",
       "    <tr>\n",
       "      <th>1</th>\n",
       "      <td>Armor 11T</td>\n",
       "      <td>₹53,000.00</td>\n",
       "      <td>India Gadgets - Armor 11T 5G Rugged Android 11...</td>\n",
       "      <td>Aug 17 - 30</td>\n",
       "      <td>₹7,000.00 (12%)</td>\n",
       "      <td>-</td>\n",
       "      <td>-</td>\n",
       "      <td>-</td>\n",
       "      <td>https://www.amazon.in/India-Gadgets-Android-Wa...</td>\n",
       "    </tr>\n",
       "    <tr>\n",
       "      <th>2</th>\n",
       "      <td>IQOO 7 5G (Solid Ice Blue, 8GB RAM, 128GB Stor...</td>\n",
       "      <td>₹31,990.00</td>\n",
       "      <td>iQOO 7 5G (Solid Ice Blue, 8GB RAM, 128GB Stor...</td>\n",
       "      <td>Friday, July 23</td>\n",
       "      <td>₹3,000.00 (9%)</td>\n",
       "      <td>In stock.</td>\n",
       "      <td>4.5 out of 5</td>\n",
       "      <td>4,760 ratings</td>\n",
       "      <td>https://www.amazon.in/iQOO-Solid-Blue-128GB-St...</td>\n",
       "    </tr>\n",
       "    <tr>\n",
       "      <th>3</th>\n",
       "      <td>LMG910EMW.AINDAS</td>\n",
       "      <td>₹31,999.00</td>\n",
       "      <td>LG Velvet (Aurora Silver, 6GB RAM, 128GB Stora...</td>\n",
       "      <td>Sunday, July 25</td>\n",
       "      <td>₹22,110.00 (40%)</td>\n",
       "      <td>In stock.</td>\n",
       "      <td>4.1 out of 5</td>\n",
       "      <td>82 ratings</td>\n",
       "      <td>https://www.amazon.in/LG-Velvet-Aurora-Silver-...</td>\n",
       "    </tr>\n",
       "    <tr>\n",
       "      <th>4</th>\n",
       "      <td>A6010</td>\n",
       "      <td>₹31,999.00</td>\n",
       "      <td>OnePlus 6T (Mirror Black, 6GB RAM, 128GB Storage)</td>\n",
       "      <td>Saturday, July 24</td>\n",
       "      <td>₹6,000.00 (16%)</td>\n",
       "      <td>In stock.</td>\n",
       "      <td>4.5 out of 5</td>\n",
       "      <td>30,032 ratings</td>\n",
       "      <td>https://www.amazon.in/OnePlus-Mirror-Black-128...</td>\n",
       "    </tr>\n",
       "    <tr>\n",
       "      <th>5</th>\n",
       "      <td>Mi 11X Pro</td>\n",
       "      <td>₹41,999.00</td>\n",
       "      <td>Mi 11X Pro 5G (Lunar White, 8GB RAM, 256GB Sto...</td>\n",
       "      <td>Thursday, July 22</td>\n",
       "      <td>₹8,000.00 (16%)</td>\n",
       "      <td>In stock.</td>\n",
       "      <td>3.9 out of 5</td>\n",
       "      <td>530 ratings</td>\n",
       "      <td>https://www.amazon.in/Mi11XPro-Lunar-White-256...</td>\n",
       "    </tr>\n",
       "    <tr>\n",
       "      <th>6</th>\n",
       "      <td>OnePlus 9</td>\n",
       "      <td>₹54,999.00</td>\n",
       "      <td>OnePlus 9 5G (Arctic Sky,12GB RAM, 256GB Storage)</td>\n",
       "      <td>Thursday, July 22</td>\n",
       "      <td>-</td>\n",
       "      <td>In stock.</td>\n",
       "      <td>4.1 out of 5</td>\n",
       "      <td>2,430 ratings</td>\n",
       "      <td>https://www.amazon.in/Test-Exclusive_2020_1177...</td>\n",
       "    </tr>\n",
       "    <tr>\n",
       "      <th>7</th>\n",
       "      <td>Mi 11X Pro</td>\n",
       "      <td>₹41,999.00</td>\n",
       "      <td>MI 11X Pro 5G (Celestial Silver, 8GB RAM, 256G...</td>\n",
       "      <td>Wednesday, July 21</td>\n",
       "      <td>₹8,000.00 (16%)</td>\n",
       "      <td>In stock.</td>\n",
       "      <td>3.9 out of 5</td>\n",
       "      <td>530 ratings</td>\n",
       "      <td>https://www.amazon.in/Mi11XPro-Celestial-Silve...</td>\n",
       "    </tr>\n",
       "    <tr>\n",
       "      <th>8</th>\n",
       "      <td>Exclusive_2020_1179</td>\n",
       "      <td>₹43,999.00</td>\n",
       "      <td>OnePlus 9R 5G (Carbon Black, 12GB RAM, 256 GB ...</td>\n",
       "      <td>Friday, July 30</td>\n",
       "      <td>-</td>\n",
       "      <td>In stock.</td>\n",
       "      <td>4.3 out of 5</td>\n",
       "      <td>11,027 ratings</td>\n",
       "      <td>https://www.amazon.in/Test-Exclusive_2020_1179...</td>\n",
       "    </tr>\n",
       "    <tr>\n",
       "      <th>9</th>\n",
       "      <td>Vivo V21 (Dusk Blue, 8GB RAM, 256GB ROM)</td>\n",
       "      <td>₹32,990.00</td>\n",
       "      <td>Vivo V21 5G (Dusk Blue, 8GB RAM, 256GB Storage...</td>\n",
       "      <td>Wednesday, July 21</td>\n",
       "      <td>₹3,000.00 (8%)</td>\n",
       "      <td>In stock.</td>\n",
       "      <td>4.2 out of 5</td>\n",
       "      <td>42 ratings</td>\n",
       "      <td>https://www.amazon.in/Vivo-V21-8GB-RAM-256GB/d...</td>\n",
       "    </tr>\n",
       "    <tr>\n",
       "      <th>10</th>\n",
       "      <td>Exclusive_2020_1181</td>\n",
       "      <td>₹43,999.00</td>\n",
       "      <td>OnePlus 9R 5G (Lake Blue, 12GB RAM, 256GB Stor...</td>\n",
       "      <td>Thursday, July 22</td>\n",
       "      <td>-</td>\n",
       "      <td>In stock.</td>\n",
       "      <td>4.3 out of 5</td>\n",
       "      <td>11,027 ratings</td>\n",
       "      <td>https://www.amazon.in/Test-Exclusive_2020_1181...</td>\n",
       "    </tr>\n",
       "    <tr>\n",
       "      <th>11</th>\n",
       "      <td>OnePlus 9R</td>\n",
       "      <td>₹39,999.00</td>\n",
       "      <td>OnePlus 9R 5G (Lake Blue, 8GB RAM, 128GB Storage)</td>\n",
       "      <td>July 22 - 23</td>\n",
       "      <td>-</td>\n",
       "      <td>-</td>\n",
       "      <td>4.3 out of 5</td>\n",
       "      <td>11,027 ratings</td>\n",
       "      <td>https://www.amazon.in/Test-Exclusive_2020_1180...</td>\n",
       "    </tr>\n",
       "    <tr>\n",
       "      <th>12</th>\n",
       "      <td>Mi 11X</td>\n",
       "      <td>-</td>\n",
       "      <td>Mi 11X 5G Cosmic Black 8GB RAM 128GB ROM | SD ...</td>\n",
       "      <td>Sunday, July 25</td>\n",
       "      <td>₹3,000.00 (9%)</td>\n",
       "      <td>In stock.</td>\n",
       "      <td>4 out of 5</td>\n",
       "      <td>2,872 ratings</td>\n",
       "      <td>https://www.amazon.in/11X-Cosmic-Black-128GB-S...</td>\n",
       "    </tr>\n",
       "    <tr>\n",
       "      <th>13</th>\n",
       "      <td>IQOO 7 5G (Storm Black, 12GB RAM, 256GB Storage)</td>\n",
       "      <td>₹35,990.00</td>\n",
       "      <td>iQOO 7 5G (Storm Black, 12GB RAM, 256GB Storag...</td>\n",
       "      <td>Saturday, July 24</td>\n",
       "      <td>₹4,000.00 (10%)</td>\n",
       "      <td>In stock.</td>\n",
       "      <td>4.5 out of 5</td>\n",
       "      <td>4,760 ratings</td>\n",
       "      <td>https://www.amazon.in/iqoo7/dp/B086978F35/ref=...</td>\n",
       "    </tr>\n",
       "    <tr>\n",
       "      <th>14</th>\n",
       "      <td>IQOO 7 5G (Storm Black, 8GB RAM, 128GB Storage)</td>\n",
       "      <td>₹31,990.00</td>\n",
       "      <td>iQOO 7 5G (Storm Black, 8GB RAM, 128GB Storage...</td>\n",
       "      <td>Saturday, July 24</td>\n",
       "      <td>₹3,000.00 (9%)</td>\n",
       "      <td>In stock.</td>\n",
       "      <td>4.5 out of 5</td>\n",
       "      <td>4,760 ratings</td>\n",
       "      <td>https://www.amazon.in/iQOO-Storm-Black-128GB-S...</td>\n",
       "    </tr>\n",
       "    <tr>\n",
       "      <th>15</th>\n",
       "      <td>IQOO 7 5G (Storm Black, 8GB RAM, 256GB Storage)</td>\n",
       "      <td>₹33,990.00</td>\n",
       "      <td>iQOO 7 5G (Storm Black, 8GB RAM, 256GB Storage...</td>\n",
       "      <td>Wednesday, July 21</td>\n",
       "      <td>₹4,000.00 (11%)</td>\n",
       "      <td>In stock.</td>\n",
       "      <td>4.5 out of 5</td>\n",
       "      <td>4,760 ratings</td>\n",
       "      <td>https://www.amazon.in/iQOO-Storm-Black-256GB-S...</td>\n",
       "    </tr>\n",
       "    <tr>\n",
       "      <th>16</th>\n",
       "      <td>Exclusive_2020_1178</td>\n",
       "      <td>-</td>\n",
       "      <td>OnePlus 9R 5G (Carbon Black, 8GB RAM, 128GB St...</td>\n",
       "      <td>Wednesday, July 21</td>\n",
       "      <td>-</td>\n",
       "      <td>In stock.</td>\n",
       "      <td>4.3 out of 5</td>\n",
       "      <td>11,027 ratings</td>\n",
       "      <td>https://www.amazon.in/Test-Exclusive_2020_1178...</td>\n",
       "    </tr>\n",
       "    <tr>\n",
       "      <th>17</th>\n",
       "      <td>IPhone 12 64GB (PRODUCT)RED</td>\n",
       "      <td>₹72,900.00</td>\n",
       "      <td>New Apple iPhone 12 (64GB) - (Product) RED</td>\n",
       "      <td>Wednesday, July 21</td>\n",
       "      <td>₹7,000.00 (9%)</td>\n",
       "      <td>In stock.</td>\n",
       "      <td>4.6 out of 5</td>\n",
       "      <td>-</td>\n",
       "      <td>https://www.amazon.in/New-Apple-iPhone-12-64GB...</td>\n",
       "    </tr>\n",
       "    <tr>\n",
       "      <th>18</th>\n",
       "      <td>OnePlus 8T 5G</td>\n",
       "      <td>₹41,999.00</td>\n",
       "      <td>OnePlus 8T 5G (Aquamarine Green, 12GB RAM, 256...</td>\n",
       "      <td>Friday, July 30</td>\n",
       "      <td>₹4,000.00 (9%)</td>\n",
       "      <td>In stock.</td>\n",
       "      <td>4.4 out of 5</td>\n",
       "      <td>20,943 ratings</td>\n",
       "      <td>https://www.amazon.in/OnePlus-Mirror-Black-128...</td>\n",
       "    </tr>\n",
       "    <tr>\n",
       "      <th>19</th>\n",
       "      <td>IQOO 7 5G (Solid Ice Blue, 12GB RAM, 256GB Sto...</td>\n",
       "      <td>₹35,990.00</td>\n",
       "      <td>iQOO 7 5G (Solid Ice Blue, 12GB RAM, 256GB Sto...</td>\n",
       "      <td>Saturday, July 24</td>\n",
       "      <td>₹4,000.00 (10%)</td>\n",
       "      <td>In stock.</td>\n",
       "      <td>4.5 out of 5</td>\n",
       "      <td>4,760 ratings</td>\n",
       "      <td>https://www.amazon.in/iqoo7/dp/B08697QP9B/ref=...</td>\n",
       "    </tr>\n",
       "    <tr>\n",
       "      <th>20</th>\n",
       "      <td>IQOO 7 5G (Solid Ice Blue, 8GB RAM, 256GB Stor...</td>\n",
       "      <td>₹33,990.00</td>\n",
       "      <td>iQOO 7 5G (Solid Ice Blue, 8GB RAM, 256GB Stor...</td>\n",
       "      <td>Wednesday, July 21</td>\n",
       "      <td>₹4,000.00 (11%)</td>\n",
       "      <td>In stock.</td>\n",
       "      <td>4.5 out of 5</td>\n",
       "      <td>4,760 ratings</td>\n",
       "      <td>https://www.amazon.in/iQOO-Solid-Blue-256GB-St...</td>\n",
       "    </tr>\n",
       "  </tbody>\n",
       "</table>\n",
       "</div>"
      ],
      "text/plain": [
       "                                        Product_Brand Product_Price  \\\n",
       "0                                              Arm 9E    ₹37,500.00   \n",
       "1                                           Armor 11T    ₹53,000.00   \n",
       "2   IQOO 7 5G (Solid Ice Blue, 8GB RAM, 128GB Stor...    ₹31,990.00   \n",
       "3                                    LMG910EMW.AINDAS    ₹31,999.00   \n",
       "4                                               A6010    ₹31,999.00   \n",
       "5                                          Mi 11X Pro    ₹41,999.00   \n",
       "6                                           OnePlus 9    ₹54,999.00   \n",
       "7                                          Mi 11X Pro    ₹41,999.00   \n",
       "8                                 Exclusive_2020_1179    ₹43,999.00   \n",
       "9            Vivo V21 (Dusk Blue, 8GB RAM, 256GB ROM)    ₹32,990.00   \n",
       "10                                Exclusive_2020_1181    ₹43,999.00   \n",
       "11                                         OnePlus 9R    ₹39,999.00   \n",
       "12                                             Mi 11X             -   \n",
       "13   IQOO 7 5G (Storm Black, 12GB RAM, 256GB Storage)    ₹35,990.00   \n",
       "14    IQOO 7 5G (Storm Black, 8GB RAM, 128GB Storage)    ₹31,990.00   \n",
       "15    IQOO 7 5G (Storm Black, 8GB RAM, 256GB Storage)    ₹33,990.00   \n",
       "16                                Exclusive_2020_1178             -   \n",
       "17                        IPhone 12 64GB (PRODUCT)RED    ₹72,900.00   \n",
       "18                                      OnePlus 8T 5G    ₹41,999.00   \n",
       "19  IQOO 7 5G (Solid Ice Blue, 12GB RAM, 256GB Sto...    ₹35,990.00   \n",
       "20  IQOO 7 5G (Solid Ice Blue, 8GB RAM, 256GB Stor...    ₹33,990.00   \n",
       "\n",
       "                                         Product_Name Product_Delivery_Date  \\\n",
       "0   India Gadgets - Armor 9E Rugged Android Mobile...           Aug 17 - 30   \n",
       "1   India Gadgets - Armor 11T 5G Rugged Android 11...           Aug 17 - 30   \n",
       "2   iQOO 7 5G (Solid Ice Blue, 8GB RAM, 128GB Stor...       Friday, July 23   \n",
       "3   LG Velvet (Aurora Silver, 6GB RAM, 128GB Stora...       Sunday, July 25   \n",
       "4   OnePlus 6T (Mirror Black, 6GB RAM, 128GB Storage)     Saturday, July 24   \n",
       "5   Mi 11X Pro 5G (Lunar White, 8GB RAM, 256GB Sto...     Thursday, July 22   \n",
       "6   OnePlus 9 5G (Arctic Sky,12GB RAM, 256GB Storage)     Thursday, July 22   \n",
       "7   MI 11X Pro 5G (Celestial Silver, 8GB RAM, 256G...    Wednesday, July 21   \n",
       "8   OnePlus 9R 5G (Carbon Black, 12GB RAM, 256 GB ...       Friday, July 30   \n",
       "9   Vivo V21 5G (Dusk Blue, 8GB RAM, 256GB Storage...    Wednesday, July 21   \n",
       "10  OnePlus 9R 5G (Lake Blue, 12GB RAM, 256GB Stor...     Thursday, July 22   \n",
       "11  OnePlus 9R 5G (Lake Blue, 8GB RAM, 128GB Storage)          July 22 - 23   \n",
       "12  Mi 11X 5G Cosmic Black 8GB RAM 128GB ROM | SD ...       Sunday, July 25   \n",
       "13  iQOO 7 5G (Storm Black, 12GB RAM, 256GB Storag...     Saturday, July 24   \n",
       "14  iQOO 7 5G (Storm Black, 8GB RAM, 128GB Storage...     Saturday, July 24   \n",
       "15  iQOO 7 5G (Storm Black, 8GB RAM, 256GB Storage...    Wednesday, July 21   \n",
       "16  OnePlus 9R 5G (Carbon Black, 8GB RAM, 128GB St...    Wednesday, July 21   \n",
       "17         New Apple iPhone 12 (64GB) - (Product) RED    Wednesday, July 21   \n",
       "18  OnePlus 8T 5G (Aquamarine Green, 12GB RAM, 256...       Friday, July 30   \n",
       "19  iQOO 7 5G (Solid Ice Blue, 12GB RAM, 256GB Sto...     Saturday, July 24   \n",
       "20  iQOO 7 5G (Solid Ice Blue, 8GB RAM, 256GB Stor...    Wednesday, July 21   \n",
       "\n",
       "   Product_Return_Exchange Product_Availability Product_Rating  \\\n",
       "0         ₹13,500.00 (26%)                    -              -   \n",
       "1          ₹7,000.00 (12%)                    -              -   \n",
       "2           ₹3,000.00 (9%)            In stock.   4.5 out of 5   \n",
       "3         ₹22,110.00 (40%)            In stock.   4.1 out of 5   \n",
       "4          ₹6,000.00 (16%)            In stock.   4.5 out of 5   \n",
       "5          ₹8,000.00 (16%)            In stock.   3.9 out of 5   \n",
       "6                        -            In stock.   4.1 out of 5   \n",
       "7          ₹8,000.00 (16%)            In stock.   3.9 out of 5   \n",
       "8                        -            In stock.   4.3 out of 5   \n",
       "9           ₹3,000.00 (8%)            In stock.   4.2 out of 5   \n",
       "10                       -            In stock.   4.3 out of 5   \n",
       "11                       -                    -   4.3 out of 5   \n",
       "12          ₹3,000.00 (9%)            In stock.     4 out of 5   \n",
       "13         ₹4,000.00 (10%)            In stock.   4.5 out of 5   \n",
       "14          ₹3,000.00 (9%)            In stock.   4.5 out of 5   \n",
       "15         ₹4,000.00 (11%)            In stock.   4.5 out of 5   \n",
       "16                       -            In stock.   4.3 out of 5   \n",
       "17          ₹7,000.00 (9%)            In stock.   4.6 out of 5   \n",
       "18          ₹4,000.00 (9%)            In stock.   4.4 out of 5   \n",
       "19         ₹4,000.00 (10%)            In stock.   4.5 out of 5   \n",
       "20         ₹4,000.00 (11%)            In stock.   4.5 out of 5   \n",
       "\n",
       "   Product_No_Of_Rating                                        Product_Url  \n",
       "0                     -  https://www.amazon.in/India-Gadgets-Android-Wa...  \n",
       "1                     -  https://www.amazon.in/India-Gadgets-Android-Wa...  \n",
       "2         4,760 ratings  https://www.amazon.in/iQOO-Solid-Blue-128GB-St...  \n",
       "3            82 ratings  https://www.amazon.in/LG-Velvet-Aurora-Silver-...  \n",
       "4        30,032 ratings  https://www.amazon.in/OnePlus-Mirror-Black-128...  \n",
       "5           530 ratings  https://www.amazon.in/Mi11XPro-Lunar-White-256...  \n",
       "6         2,430 ratings  https://www.amazon.in/Test-Exclusive_2020_1177...  \n",
       "7           530 ratings  https://www.amazon.in/Mi11XPro-Celestial-Silve...  \n",
       "8        11,027 ratings  https://www.amazon.in/Test-Exclusive_2020_1179...  \n",
       "9            42 ratings  https://www.amazon.in/Vivo-V21-8GB-RAM-256GB/d...  \n",
       "10       11,027 ratings  https://www.amazon.in/Test-Exclusive_2020_1181...  \n",
       "11       11,027 ratings  https://www.amazon.in/Test-Exclusive_2020_1180...  \n",
       "12        2,872 ratings  https://www.amazon.in/11X-Cosmic-Black-128GB-S...  \n",
       "13        4,760 ratings  https://www.amazon.in/iqoo7/dp/B086978F35/ref=...  \n",
       "14        4,760 ratings  https://www.amazon.in/iQOO-Storm-Black-128GB-S...  \n",
       "15        4,760 ratings  https://www.amazon.in/iQOO-Storm-Black-256GB-S...  \n",
       "16       11,027 ratings  https://www.amazon.in/Test-Exclusive_2020_1178...  \n",
       "17                    -  https://www.amazon.in/New-Apple-iPhone-12-64GB...  \n",
       "18       20,943 ratings  https://www.amazon.in/OnePlus-Mirror-Black-128...  \n",
       "19        4,760 ratings  https://www.amazon.in/iqoo7/dp/B08697QP9B/ref=...  \n",
       "20        4,760 ratings  https://www.amazon.in/iQOO-Solid-Blue-256GB-St...  "
      ]
     },
     "execution_count": 149,
     "metadata": {},
     "output_type": "execute_result"
    }
   ],
   "source": [
    "data1"
   ]
  },
  {
   "cell_type": "markdown",
   "id": "4dcc0a2e-ee83-4c1f-a1e2-9a18c8c22836",
   "metadata": {},
   "source": [
    "## Let's save the Data Frame (data1) to .csv file"
   ]
  },
  {
   "cell_type": "code",
   "execution_count": 151,
   "id": "feb6d4d2-8609-46ab-97ee-1dde25e00e02",
   "metadata": {},
   "outputs": [],
   "source": [
    "data1.to_csv('data1.csv',index=False)"
   ]
  },
  {
   "cell_type": "code",
   "execution_count": 153,
   "id": "dec7be5e-2db6-48eb-a801-a77dc26bd3af",
   "metadata": {},
   "outputs": [],
   "source": [
    "driver.close()"
   ]
  },
  {
   "cell_type": "markdown",
   "id": "671695a1-363c-4d90-b3c5-db18c8a0b9ec",
   "metadata": {},
   "source": [
    "### **************************************************\n",
    "### **************************************************"
   ]
  },
  {
   "cell_type": "markdown",
   "id": "c3b18827-73b2-4519-80c2-15659bec328a",
   "metadata": {},
   "source": [
    "## 3. Write a python program to access the search bar and search button on images.\n",
    "## google.com and scrape 100 images each for keywords ‘fruits’, ‘cars’ and ‘Machine Learning’."
   ]
  },
  {
   "cell_type": "code",
   "execution_count": 348,
   "id": "1b452b9c-b2a3-4e4b-a606-3f5a54887e9a",
   "metadata": {},
   "outputs": [],
   "source": [
    "## fetching Google website\n",
    "\n",
    "google_url ='https://www.google.com'"
   ]
  },
  {
   "cell_type": "code",
   "execution_count": 349,
   "id": "7327fc2a-5ace-41e8-9973-f3ad87ff8a68",
   "metadata": {},
   "outputs": [],
   "source": [
    "driver.get(url=google_url)"
   ]
  },
  {
   "cell_type": "code",
   "execution_count": 350,
   "id": "51b0b50c-f03b-4f4b-89a3-07864bcf4bd0",
   "metadata": {},
   "outputs": [],
   "source": [
    "search_bn_image = driver.find_element_by_xpath('/html/body/div[1]/div[1]/div/div/div/div[1]/div/div[2]/a')"
   ]
  },
  {
   "cell_type": "code",
   "execution_count": 351,
   "id": "911ea055-47e4-4018-80cc-a3d794dd5cc6",
   "metadata": {},
   "outputs": [],
   "source": [
    "search_bn_image.click()"
   ]
  },
  {
   "cell_type": "code",
   "execution_count": 352,
   "id": "82e976b5-e99c-448c-a9f1-8b757ae495cf",
   "metadata": {},
   "outputs": [],
   "source": [
    "input_search = driver.find_element_by_xpath('//input[@class=\"gLFyf gsfi\"]')"
   ]
  },
  {
   "cell_type": "code",
   "execution_count": 353,
   "id": "008201e8-7479-496c-b250-a2c45f8aa446",
   "metadata": {},
   "outputs": [],
   "source": [
    "input_search.send_keys('Cars')\n"
   ]
  },
  {
   "cell_type": "code",
   "execution_count": 354,
   "id": "69d304af-bd09-46a0-bd9a-600b4f5d520c",
   "metadata": {},
   "outputs": [],
   "source": [
    "bn_search = driver.find_element_by_xpath('//span[@class=\"z1asCe MZy1Rb\"]')\n"
   ]
  },
  {
   "cell_type": "code",
   "execution_count": 355,
   "id": "574a1919-376f-4c04-98db-d1c30e0c8511",
   "metadata": {},
   "outputs": [],
   "source": [
    "bn_search.click()"
   ]
  },
  {
   "cell_type": "markdown",
   "id": "31f04591-c824-4de8-ac89-4d41e4d589f8",
   "metadata": {},
   "source": [
    "### scrapping 100 image of cars\n"
   ]
  },
  {
   "cell_type": "code",
   "execution_count": 179,
   "id": "53b02a73-40ae-475a-b451-1028120b8463",
   "metadata": {},
   "outputs": [],
   "source": [
    "## scrapping 100 image of cars\n",
    "images = []\n",
    "image_Xpath = driver.find_elements_by_xpath('//div[@class=\"bRMDJf islir\"]//img')\n",
    "for i in image_Xpath:\n",
    "    images.append(i.get_attribute('src'))\n",
    "    "
   ]
  },
  {
   "cell_type": "code",
   "execution_count": 180,
   "id": "de09efd2-5d2a-4d75-bde9-6fadbf47c890",
   "metadata": {},
   "outputs": [
    {
     "data": {
      "text/plain": [
       "400"
      ]
     },
     "execution_count": 180,
     "metadata": {},
     "output_type": "execute_result"
    }
   ],
   "source": [
    "len(images)"
   ]
  },
  {
   "cell_type": "code",
   "execution_count": 183,
   "id": "d0e3e74d-b4e0-4d80-8e78-82ef52aa9f93",
   "metadata": {},
   "outputs": [],
   "source": [
    "image_src = images[300:]"
   ]
  },
  {
   "cell_type": "code",
   "execution_count": 347,
   "id": "693433ae-74f6-46d4-ba6d-b7f6d22f3ec7",
   "metadata": {},
   "outputs": [
    {
     "data": {
      "text/plain": [
       "100"
      ]
     },
     "execution_count": 347,
     "metadata": {},
     "output_type": "execute_result"
    }
   ],
   "source": [
    "len(image_src)"
   ]
  },
  {
   "cell_type": "code",
   "execution_count": 381,
   "id": "38d6daa3-4438-425e-87d7-61cf3558b73a",
   "metadata": {},
   "outputs": [],
   "source": [
    "#image_src\n",
    "import os\n",
    "import urllib.request\n"
   ]
  },
  {
   "cell_type": "code",
   "execution_count": null,
   "id": "9be75d11-42f9-4ce5-bd03-c65d805cbf68",
   "metadata": {},
   "outputs": [],
   "source": [
    "## Download images in my current working directory\n",
    "for i in image_src:\n",
    "    urllib.request.urlretrieve(i,str(image_src.index(i))+'.jpg')"
   ]
  },
  {
   "cell_type": "code",
   "execution_count": 397,
   "id": "ab005d78-0d86-42c7-b2dc-d7b407c3f76c",
   "metadata": {},
   "outputs": [
    {
     "name": "stdout",
     "output_type": "stream",
     "text": [
      "/Users/olivierla412/projects/data_camp/Scraping/Selenium/selenium_assign3\n"
     ]
    }
   ],
   "source": [
    "cd .."
   ]
  },
  {
   "cell_type": "code",
   "execution_count": 398,
   "id": "cf8bd955-8fb3-4ca6-ba98-d7a592fcfcf6",
   "metadata": {},
   "outputs": [
    {
     "name": "stdout",
     "output_type": "stream",
     "text": [
      "/Users/olivierla412/projects/data_camp/Scraping/Selenium/selenium_assign3/cars_images\n"
     ]
    }
   ],
   "source": [
    "cd cars_images"
   ]
  },
  {
   "cell_type": "code",
   "execution_count": 400,
   "id": "43b54993-e321-4a93-9fbe-0697af028eb9",
   "metadata": {},
   "outputs": [
    {
     "name": "stdout",
     "output_type": "stream",
     "text": [
      "0.jpg   18.jpg  27.jpg  36.jpg  45.jpg  54.jpg  63.jpg  72.jpg  81.jpg  90.jpg\n",
      "1.jpg   19.jpg  28.jpg  37.jpg  46.jpg  55.jpg  64.jpg  73.jpg  82.jpg  91.jpg\n",
      "10.jpg  2.jpg   29.jpg  38.jpg  47.jpg  56.jpg  65.jpg  74.jpg  83.jpg  92.jpg\n",
      "11.jpg  20.jpg  3.jpg   39.jpg  48.jpg  57.jpg  66.jpg  75.jpg  84.jpg  93.jpg\n",
      "12.jpg  21.jpg  30.jpg  4.jpg   49.jpg  58.jpg  67.jpg  76.jpg  85.jpg  94.jpg\n",
      "13.jpg  22.jpg  31.jpg  40.jpg  5.jpg   59.jpg  68.jpg  77.jpg  86.jpg  95.jpg\n",
      "14.jpg  23.jpg  32.jpg  41.jpg  50.jpg  6.jpg   69.jpg  78.jpg  87.jpg  96.jpg\n",
      "15.jpg  24.jpg  33.jpg  42.jpg  51.jpg  60.jpg  7.jpg   79.jpg  88.jpg  97.jpg\n",
      "16.jpg  25.jpg  34.jpg  43.jpg  52.jpg  61.jpg  70.jpg  8.jpg   89.jpg  98.jpg\n",
      "17.jpg  26.jpg  35.jpg  44.jpg  53.jpg  62.jpg  71.jpg  80.jpg  9.jpg   99.jpg\n"
     ]
    }
   ],
   "source": [
    "\n",
    "ls"
   ]
  },
  {
   "cell_type": "markdown",
   "id": "c9aa4479-8e4b-4a23-afa2-27aa5e5d925d",
   "metadata": {},
   "source": [
    "### scrapping 100 image of fruits."
   ]
  },
  {
   "cell_type": "code",
   "execution_count": 382,
   "id": "7c36c669-48b8-4fba-b0de-cd1cea50443f",
   "metadata": {},
   "outputs": [],
   "source": [
    "## fetching Google website\n",
    "\n",
    "google_url ='https://www.google.com'\n",
    "driver.get(url=google_url)\n",
    "search_bn_image = driver.find_element_by_xpath('/html/body/div[1]/div[1]/div/div/div/div[1]/div/div[2]/a')\n",
    "search_bn_image.click()"
   ]
  },
  {
   "cell_type": "code",
   "execution_count": 383,
   "id": "a3185ae7-105f-413d-bfce-f07b2a929f70",
   "metadata": {},
   "outputs": [],
   "source": [
    "input_search = driver.find_element_by_xpath('//input[@class=\"gLFyf gsfi\"]')\n",
    "input_search.send_keys('fruits')"
   ]
  },
  {
   "cell_type": "code",
   "execution_count": 213,
   "id": "83ff5aa6-05ae-41d8-ae20-b2d3fe069c3f",
   "metadata": {},
   "outputs": [],
   "source": [
    "bn_search = driver.find_element_by_xpath('//span[@class=\"z1asCe MZy1Rb\"]')\n",
    "bn_search.click()"
   ]
  },
  {
   "cell_type": "code",
   "execution_count": 216,
   "id": "27caf8c0-f6c5-4ba9-96c6-3cb1b19d6197",
   "metadata": {},
   "outputs": [],
   "source": [
    "fruits_images= []\n",
    "image_Xpath = driver.find_elements_by_xpath('//img[@jsname=\"Q4LuWd\"]')\n",
    "for i in image_Xpath:\n",
    "    fruits_images.append(i.get_attribute('src'))"
   ]
  },
  {
   "cell_type": "code",
   "execution_count": 234,
   "id": "40e5ba0d-a38a-4508-838c-2d6588b92f80",
   "metadata": {},
   "outputs": [
    {
     "data": {
      "text/plain": [
       "200"
      ]
     },
     "execution_count": 234,
     "metadata": {},
     "output_type": "execute_result"
    }
   ],
   "source": [
    "len(fruits_images)"
   ]
  },
  {
   "cell_type": "code",
   "execution_count": 228,
   "id": "1fd3bf2e-ca6d-4808-a0a2-7716f840eb79",
   "metadata": {},
   "outputs": [
    {
     "data": {
      "text/plain": [
       "21"
      ]
     },
     "execution_count": 228,
     "metadata": {},
     "output_type": "execute_result"
    }
   ],
   "source": [
    "fruits_images.index('https://encrypted-tbn0.gstatic.com/images?q=tbn:ANd9GcSsZyKU4pEUcVP2x_GtXrgZ8kRbLhim4vwD5Q&usqp=CAU')"
   ]
  },
  {
   "cell_type": "code",
   "execution_count": 229,
   "id": "ea44d456-c917-4db3-806c-e83525db0082",
   "metadata": {},
   "outputs": [
    {
     "data": {
      "text/plain": [
       "'https://encrypted-tbn0.gstatic.com/images?q=tbn:ANd9GcSsZyKU4pEUcVP2x_GtXrgZ8kRbLhim4vwD5Q&usqp=CAU'"
      ]
     },
     "execution_count": 229,
     "metadata": {},
     "output_type": "execute_result"
    }
   ],
   "source": [
    "## let's verify again\n",
    "fruits_images[21]"
   ]
  },
  {
   "cell_type": "code",
   "execution_count": null,
   "id": "c60c35a0-e306-401a-89b3-0563b26bcda1",
   "metadata": {},
   "outputs": [],
   "source": []
  },
  {
   "cell_type": "markdown",
   "id": "9895dfa9-2fa6-4be3-92ac-3745d5982649",
   "metadata": {},
   "source": [
    "### The first image __src__ have index = 21 the fruits_images list."
   ]
  },
  {
   "cell_type": "code",
   "execution_count": 235,
   "id": "9af6e4f1-08fc-4395-bf5a-108a24c6d181",
   "metadata": {},
   "outputs": [],
   "source": [
    "## the first image have index = 21 the fruits_images list.\n",
    "\n",
    "fruits_image_list = fruits_images[21:121]"
   ]
  },
  {
   "cell_type": "code",
   "execution_count": 236,
   "id": "5a67f93f-7421-40af-82dd-3159e31f6a86",
   "metadata": {},
   "outputs": [
    {
     "data": {
      "text/plain": [
       "100"
      ]
     },
     "execution_count": 236,
     "metadata": {},
     "output_type": "execute_result"
    }
   ],
   "source": [
    "len(fruits_image_list)"
   ]
  },
  {
   "cell_type": "code",
   "execution_count": 384,
   "id": "aac314dd-82ca-4bb4-8341-22b10dfe4605",
   "metadata": {},
   "outputs": [
    {
     "data": {
      "text/plain": [
       "['https://encrypted-tbn0.gstatic.com/images?q=tbn:ANd9GcSsZyKU4pEUcVP2x_GtXrgZ8kRbLhim4vwD5Q&usqp=CAU',\n",
       " 'https://encrypted-tbn0.gstatic.com/images?q=tbn:ANd9GcQlCy3oYbyuVFpu_1gPqRsxYmFnuhD8TyY33w&usqp=CAU',\n",
       " 'https://encrypted-tbn0.gstatic.com/images?q=tbn:ANd9GcREf50eNWUXvnoP0sP9x8SZUILcwQHHImfm1A&usqp=CAU',\n",
       " 'https://encrypted-tbn0.gstatic.com/images?q=tbn:ANd9GcRaeGJ_PSJlNLxm6sUANm3yiU0_G-x4-FAsmA&usqp=CAU',\n",
       " 'https://encrypted-tbn0.gstatic.com/images?q=tbn:ANd9GcTo4_shfG85msF591Y45W4T800Efmd5L8ksvg&usqp=CAU',\n",
       " 'https://encrypted-tbn0.gstatic.com/images?q=tbn:ANd9GcQjsfUDUvWZc01lnUG7Z95c7LJ9evo--0rhKA&usqp=CAU',\n",
       " 'https://encrypted-tbn0.gstatic.com/images?q=tbn:ANd9GcREigGYTlK6HSMTEX61HTklKWVqqCzNRVrKPw&usqp=CAU',\n",
       " 'https://encrypted-tbn0.gstatic.com/images?q=tbn:ANd9GcQCOVVYHwTsUQcY7dnyC3GgppF8lmLOAxaQzQ&usqp=CAU',\n",
       " 'https://encrypted-tbn0.gstatic.com/images?q=tbn:ANd9GcR0stZS_khsMt4thgts-I7oWRkfrvl9a8cOLw&usqp=CAU',\n",
       " 'https://encrypted-tbn0.gstatic.com/images?q=tbn:ANd9GcT68b0O5wgNnMvg2hrPVjD4cRADRiFNcmXHvQ&usqp=CAU',\n",
       " 'https://encrypted-tbn0.gstatic.com/images?q=tbn:ANd9GcQe8VslCxBjszxWAv1OcZ_mPUTroZPGqMSK9w&usqp=CAU',\n",
       " 'https://encrypted-tbn0.gstatic.com/images?q=tbn:ANd9GcS-_Qp0xHt0hA8k_qVLW0cu9tbB3rtH1oC3qQ&usqp=CAU',\n",
       " 'https://encrypted-tbn0.gstatic.com/images?q=tbn:ANd9GcQA6yOWfPWP2ncAFz-eKvuGPQB4KfbpqzT5vA&usqp=CAU',\n",
       " 'https://encrypted-tbn0.gstatic.com/images?q=tbn:ANd9GcSMvZV81aVdJAGJOeAQlc9KbgUEGvfQzxO8TQ&usqp=CAU',\n",
       " 'https://encrypted-tbn0.gstatic.com/images?q=tbn:ANd9GcSM6FaMqO8nF21C_YUpfch4XTbcQLO-cidOcg&usqp=CAU',\n",
       " 'https://encrypted-tbn0.gstatic.com/images?q=tbn:ANd9GcSRmgU4zBr4B9fB234u2QU4n4BYjzHNaFwCOQ&usqp=CAU',\n",
       " 'https://encrypted-tbn0.gstatic.com/images?q=tbn:ANd9GcQioIYpIr5c7BW4jNiUiLt-5W_-oK-i-I061w&usqp=CAU',\n",
       " 'https://encrypted-tbn0.gstatic.com/images?q=tbn:ANd9GcT3Fd1Y-_ZITh_utQW_mnjwhAyyHRwGqst_rA&usqp=CAU',\n",
       " 'https://encrypted-tbn0.gstatic.com/images?q=tbn:ANd9GcR6SjYxZXy_JKZ6NhUw1ZlY2uLry91NcHxN6A&usqp=CAU',\n",
       " 'https://encrypted-tbn0.gstatic.com/images?q=tbn:ANd9GcQVEttZoEZw0MRpJ-uDyr6QiqzbIJyRR7ofNA&usqp=CAU',\n",
       " 'https://encrypted-tbn0.gstatic.com/images?q=tbn:ANd9GcSYFPmypiw7PW8VNKtTiazr80huza3qbKpa6w&usqp=CAU',\n",
       " 'https://encrypted-tbn0.gstatic.com/images?q=tbn:ANd9GcQ0TRoKTY_TmII7EOceT09KN0X_xguZwG7DHQ&usqp=CAU',\n",
       " 'https://encrypted-tbn0.gstatic.com/images?q=tbn:ANd9GcTwmbjWK_eeyoT5xJr4JIresRijlqdZaoyyFg&usqp=CAU',\n",
       " 'https://encrypted-tbn0.gstatic.com/images?q=tbn:ANd9GcQKk0jstrNoNfE90Fw-lax4gi1WHAzmARR1VA&usqp=CAU',\n",
       " 'https://encrypted-tbn0.gstatic.com/images?q=tbn:ANd9GcQ7kkivkhNYl7J-zrplcR4yzU2SWnbokp6Gxg&usqp=CAU',\n",
       " 'https://encrypted-tbn0.gstatic.com/images?q=tbn:ANd9GcTgTRW4ZNSVuY8fB6SzZtmrsOIomb2Z8ShK9w&usqp=CAU',\n",
       " 'https://encrypted-tbn0.gstatic.com/images?q=tbn:ANd9GcRgxf6_nAXz7qiU4oQG5D7xVLrZb2b_Sd1-jg&usqp=CAU',\n",
       " 'https://encrypted-tbn0.gstatic.com/images?q=tbn:ANd9GcQvcc_8J6lgVVlzMB-SZ0LZMryd_k2w43g5Iw&usqp=CAU',\n",
       " 'https://encrypted-tbn0.gstatic.com/images?q=tbn:ANd9GcQi1jMN52gdkPzYUPdKtesa7uHIOvBPKSiFNA&usqp=CAU',\n",
       " 'https://encrypted-tbn0.gstatic.com/images?q=tbn:ANd9GcSiL0JtfAKPR7jbeVJRgjYrXstLau_VGn0FKQ&usqp=CAU',\n",
       " 'https://encrypted-tbn0.gstatic.com/images?q=tbn:ANd9GcTOVYgQmT5-0gbN0yr3pnB8DGy720MvPdsU-g&usqp=CAU',\n",
       " 'https://encrypted-tbn0.gstatic.com/images?q=tbn:ANd9GcTYRn-Emn3lR4WiglVrDx69oghAW7W8Al-26g&usqp=CAU',\n",
       " 'https://encrypted-tbn0.gstatic.com/images?q=tbn:ANd9GcQBdd8-MJYIddpzmS-wApekUqisc64EXl-okQ&usqp=CAU',\n",
       " 'https://encrypted-tbn0.gstatic.com/images?q=tbn:ANd9GcS-pM2cVm5aP1LOpQmwK2y41Ohv81XUmeds5g&usqp=CAU',\n",
       " 'https://encrypted-tbn0.gstatic.com/images?q=tbn:ANd9GcTmUw2lufsov9i2tyY2MTG4C5H7pNKgxpBfcg&usqp=CAU',\n",
       " 'https://encrypted-tbn0.gstatic.com/images?q=tbn:ANd9GcQbyzwQx20akgrIDEW4ICiulWRH6IIjGRnMPA&usqp=CAU',\n",
       " 'https://encrypted-tbn0.gstatic.com/images?q=tbn:ANd9GcRenGZHB84JcIXCX7jMQUkZt7GFpp8mK1x7RA&usqp=CAU',\n",
       " 'https://encrypted-tbn0.gstatic.com/images?q=tbn:ANd9GcRjjrUvE9z0q2EffbP-pUjCjQMqicmmTqUFhw&usqp=CAU',\n",
       " 'https://encrypted-tbn0.gstatic.com/images?q=tbn:ANd9GcSNZLnkDolVbBOFnO0cXiN3BD8a8NzE8odcmw&usqp=CAU',\n",
       " 'https://encrypted-tbn0.gstatic.com/images?q=tbn:ANd9GcRAFt0xHiff3fl4uAzBm9kkAa36Rnq2-i1lHQ&usqp=CAU',\n",
       " 'https://encrypted-tbn0.gstatic.com/images?q=tbn:ANd9GcRBkFc8TorOi082iVCII3FTQA_8ZJ-B2xkoBg&usqp=CAU',\n",
       " 'https://encrypted-tbn0.gstatic.com/images?q=tbn:ANd9GcRQDr9ULjOquuPdJ2V--OpedrVVI29pJJP80g&usqp=CAU',\n",
       " 'https://encrypted-tbn0.gstatic.com/images?q=tbn:ANd9GcS62r1-dyhhAiaOPeU9qZzlAGrbmoTygqATCQ&usqp=CAU',\n",
       " 'https://encrypted-tbn0.gstatic.com/images?q=tbn:ANd9GcRGHJT8q-l4tpC1yJh-mnZTLpp1feWPFNBJ2g&usqp=CAU',\n",
       " 'https://encrypted-tbn0.gstatic.com/images?q=tbn:ANd9GcTAWGLaxP14syLHBBDlJFI61ZmBYqH6cakUHA&usqp=CAU',\n",
       " 'https://encrypted-tbn0.gstatic.com/images?q=tbn:ANd9GcTBJUrYiKaStYk6Z8F4RGBa5UEOTxt9ycchIQ&usqp=CAU',\n",
       " 'https://encrypted-tbn0.gstatic.com/images?q=tbn:ANd9GcQu_hqtAewLdFJnQE00FiG00mQ4C9rvmNHeZg&usqp=CAU',\n",
       " 'https://encrypted-tbn0.gstatic.com/images?q=tbn:ANd9GcTsRLK-La6p9LPjx5MkCD7KjZ2PFQY8XNX0YA&usqp=CAU',\n",
       " 'https://encrypted-tbn0.gstatic.com/images?q=tbn:ANd9GcQrze6YgEOUkpBVygJ4r2nujU1dmBU0HPkdIw&usqp=CAU',\n",
       " 'https://encrypted-tbn0.gstatic.com/images?q=tbn:ANd9GcT4fqXfgTypAMphAwIjfmK5Gvzfzj-5KQVKRA&usqp=CAU',\n",
       " 'https://encrypted-tbn0.gstatic.com/images?q=tbn:ANd9GcSoGMXw8qL4lY4Lxbfk-dq6r-DELYghjEjItg&usqp=CAU',\n",
       " 'https://encrypted-tbn0.gstatic.com/images?q=tbn:ANd9GcRapfG6VRBKRApzCEdIoKmjRp96gv1Ay-bbUA&usqp=CAU',\n",
       " 'https://encrypted-tbn0.gstatic.com/images?q=tbn:ANd9GcQIgoHvQfGTeTa4I6ljKX4RXN7Fp5TzTxf8qQ&usqp=CAU',\n",
       " 'https://encrypted-tbn0.gstatic.com/images?q=tbn:ANd9GcRdUDfOELEltqFcW_9mpgkgI04gN9BfYjya_Q&usqp=CAU',\n",
       " 'https://encrypted-tbn0.gstatic.com/images?q=tbn:ANd9GcRNsfLS8AliS_xwl5Xx5y351zT0MiIxcJ50UQ&usqp=CAU',\n",
       " 'https://encrypted-tbn0.gstatic.com/images?q=tbn:ANd9GcT4KvOajFWpf1A7OfI7dRqR40hYoDdq3d1I3w&usqp=CAU',\n",
       " 'https://encrypted-tbn0.gstatic.com/images?q=tbn:ANd9GcS6p2mgoiBKnnIKR9AJ7j_Vn1dZdlbmSBK8zQ&usqp=CAU',\n",
       " 'https://encrypted-tbn0.gstatic.com/images?q=tbn:ANd9GcQcZzhXXK6RyxVrPdIAFhEnTdHWzQu7jbWniQ&usqp=CAU',\n",
       " 'https://encrypted-tbn0.gstatic.com/images?q=tbn:ANd9GcQGBQL4nuc3ljLM47A1lf37G8k7Sxcq8OtJKw&usqp=CAU',\n",
       " 'https://encrypted-tbn0.gstatic.com/images?q=tbn:ANd9GcQcFRmI28s6kqvy0X6nEymNwMhEX-EdC9fjWA&usqp=CAU',\n",
       " 'https://encrypted-tbn0.gstatic.com/images?q=tbn:ANd9GcRigBeAVbrQ2jT4nkVv_Jfo4UQSnxFehkDL2g&usqp=CAU',\n",
       " 'https://encrypted-tbn0.gstatic.com/images?q=tbn:ANd9GcRH-2CpX2y0f-coZ3V59mxDPV2at-HF_ix7NQ&usqp=CAU',\n",
       " 'https://encrypted-tbn0.gstatic.com/images?q=tbn:ANd9GcR00HDenAZFZgNG4neq5qqGGOkCXrPuVmJdlg&usqp=CAU',\n",
       " 'https://encrypted-tbn0.gstatic.com/images?q=tbn:ANd9GcQdLh4f4OdLbOX_Y-PrMRJMG9IyousCwNRKyw&usqp=CAU',\n",
       " 'https://encrypted-tbn0.gstatic.com/images?q=tbn:ANd9GcTHV_Y3aMTapyi_R43Gk8YyuiCc4xaG5-HS3g&usqp=CAU',\n",
       " 'https://encrypted-tbn0.gstatic.com/images?q=tbn:ANd9GcTgH1EYG6kCu_rbCkJDqUpVvO1Tm3aBNapJBw&usqp=CAU',\n",
       " 'https://encrypted-tbn0.gstatic.com/images?q=tbn:ANd9GcQEDzBbshsuJRSkVXcN9qTW8sz639DMF3tXCw&usqp=CAU',\n",
       " 'https://encrypted-tbn0.gstatic.com/images?q=tbn:ANd9GcQ-G-djb34QIeAMxuONnVxuKczs47YvTU2zZA&usqp=CAU',\n",
       " 'https://encrypted-tbn0.gstatic.com/images?q=tbn:ANd9GcQrzBdnzL-1zU85qMcYG9kriUK3axu67BzX5A&usqp=CAU',\n",
       " 'https://encrypted-tbn0.gstatic.com/images?q=tbn:ANd9GcTbqyhSzKWawYBdCInUlQLj4g5h3fP6WBgCaA&usqp=CAU',\n",
       " 'https://encrypted-tbn0.gstatic.com/images?q=tbn:ANd9GcRcoER2Fjr1zoK-RIRyAyjgFgLJ5WpMgHnyfA&usqp=CAU',\n",
       " 'https://encrypted-tbn0.gstatic.com/images?q=tbn:ANd9GcR2Vcol1fqtnlIoKOVSwqPajQhal3pUQdRuFA&usqp=CAU',\n",
       " 'https://encrypted-tbn0.gstatic.com/images?q=tbn:ANd9GcRI2C2mp0oCS76i1PDcmFshBsSSRuW9Y7tvMg&usqp=CAU',\n",
       " 'https://encrypted-tbn0.gstatic.com/images?q=tbn:ANd9GcTghZdLlpvybwnp2_1yGXA7FCFKGcZfOu7nzw&usqp=CAU',\n",
       " 'https://encrypted-tbn0.gstatic.com/images?q=tbn:ANd9GcTvQngZEiXA7WggE2Z8oUpL3ZjKJao6H5vM4g&usqp=CAU',\n",
       " 'https://encrypted-tbn0.gstatic.com/images?q=tbn:ANd9GcShxATPdwjA6uXd_4sGX5cUfhumrDXT2LcaZQ&usqp=CAU',\n",
       " 'https://encrypted-tbn0.gstatic.com/images?q=tbn:ANd9GcRz2_X34ibmgT-ieSfqh_gthA0gBpYJaI-FOg&usqp=CAU',\n",
       " 'https://encrypted-tbn0.gstatic.com/images?q=tbn:ANd9GcQh7unjCj27JKW2IQgucFutRHjN3yDiIaG2cQ&usqp=CAU',\n",
       " 'https://encrypted-tbn0.gstatic.com/images?q=tbn:ANd9GcQGlTcP6vLEpRIpYJjZuWCvL_cfXRtfkzFR2A&usqp=CAU',\n",
       " 'https://encrypted-tbn0.gstatic.com/images?q=tbn:ANd9GcSP4Wgg0oJUxQ6FUyjRquQqzSZIMqQuVy_gSA&usqp=CAU',\n",
       " 'https://encrypted-tbn0.gstatic.com/images?q=tbn:ANd9GcT1HThnRcA-B9wVxBM3jYyEDdv1vOJtbCzrcw&usqp=CAU',\n",
       " 'https://encrypted-tbn0.gstatic.com/images?q=tbn:ANd9GcQGlTcP6vLEpRIpYJjZuWCvL_cfXRtfkzFR2A&usqp=CAU',\n",
       " 'https://encrypted-tbn0.gstatic.com/images?q=tbn:ANd9GcQBfr-6DljdTqrSRdEpRd1F-h11bKNqp_FHpg&usqp=CAU',\n",
       " 'https://encrypted-tbn0.gstatic.com/images?q=tbn:ANd9GcSart9PX1F5xYS5yxZFcHrsX2SosqGph3Vy9Q&usqp=CAU',\n",
       " 'https://encrypted-tbn0.gstatic.com/images?q=tbn:ANd9GcRipoNK6VcU-DEox7u69PvMwj931SbzeoAJ_Q&usqp=CAU',\n",
       " 'https://encrypted-tbn0.gstatic.com/images?q=tbn:ANd9GcQiWY5__nAamE4BerQHY5_da_eHY-_vxhTwWA&usqp=CAU',\n",
       " 'https://encrypted-tbn0.gstatic.com/images?q=tbn:ANd9GcRrh1e0cst7mYFeBiESV_fngMoVP8htDMOmFA&usqp=CAU',\n",
       " 'https://encrypted-tbn0.gstatic.com/images?q=tbn:ANd9GcSQUTyJ-Aht82ko0Lx4AKEFfFBeIIIcQ5rlUQ&usqp=CAU',\n",
       " 'https://encrypted-tbn0.gstatic.com/images?q=tbn:ANd9GcSNrQkX4tNsh23J0PyLrl6iohlwvWbqviH9WQ&usqp=CAU',\n",
       " 'https://encrypted-tbn0.gstatic.com/images?q=tbn:ANd9GcRI40S6fTqLOduN2ora3Dy9-SXS2jX7F8RFcQ&usqp=CAU',\n",
       " 'https://encrypted-tbn0.gstatic.com/images?q=tbn:ANd9GcQRf4VdWDA7P65N8VRi-i3UFCqubpOFxy-sMg&usqp=CAU',\n",
       " 'https://encrypted-tbn0.gstatic.com/images?q=tbn:ANd9GcQa-QnFOGEpzPZfWGyvtjr1OnDml9m711MVbQ&usqp=CAU',\n",
       " 'https://encrypted-tbn0.gstatic.com/images?q=tbn:ANd9GcTmruwKOq0OWswtMPojDqpv03dohvl_-hs6NQ&usqp=CAU',\n",
       " 'https://encrypted-tbn0.gstatic.com/images?q=tbn:ANd9GcRCrUohxabHlK5b2tuCvdUWy3zRbK9Mn_LO8g&usqp=CAU',\n",
       " 'https://encrypted-tbn0.gstatic.com/images?q=tbn:ANd9GcR5noAY2pvgiDcjtcFxn817VcGjvmZ-YD06Aw&usqp=CAU',\n",
       " 'https://encrypted-tbn0.gstatic.com/images?q=tbn:ANd9GcRMXo6uzFA4oUp15hPxlDmiqMY8I8RAgq2NTQ&usqp=CAU',\n",
       " 'https://encrypted-tbn0.gstatic.com/images?q=tbn:ANd9GcQle5gAzia23iAHTi1cM7lyxt-VpNMzHbAV9A&usqp=CAU',\n",
       " 'https://encrypted-tbn0.gstatic.com/images?q=tbn:ANd9GcSdlJKgDnyjPwjcDYRLxTeYVq7UHKf9otiZrw&usqp=CAU',\n",
       " 'https://encrypted-tbn0.gstatic.com/images?q=tbn:ANd9GcRnihQlzWJLGbdVW6iY_VwFAOrdt05_1mpimw&usqp=CAU',\n",
       " 'https://encrypted-tbn0.gstatic.com/images?q=tbn:ANd9GcSvZhlJXY23Pq9mPtc0l4f-_FufvVMIwy3rWA&usqp=CAU']"
      ]
     },
     "execution_count": 384,
     "metadata": {},
     "output_type": "execute_result"
    }
   ],
   "source": [
    "fruits_image_list"
   ]
  },
  {
   "cell_type": "code",
   "execution_count": 390,
   "id": "c46e61cf-a843-4b60-9748-7568ffbe04ca",
   "metadata": {},
   "outputs": [],
   "source": [
    "## Download images in my current working directory\n",
    "\n",
    "for i in fruits_image_list:\n",
    "    urllib.request.urlretrieve(i,str(fruits_image_list.index(i))+'.jpg')\n",
    "    \n",
    "    "
   ]
  },
  {
   "cell_type": "code",
   "execution_count": 395,
   "id": "3dc4a02c-0c61-42b1-bc78-279d64d099d4",
   "metadata": {},
   "outputs": [
    {
     "name": "stdout",
     "output_type": "stream",
     "text": [
      "/Users/olivierla412/projects/data_camp/Scraping/Selenium/selenium_assign3/fruits_images\n"
     ]
    }
   ],
   "source": [
    "cd fruits_images"
   ]
  },
  {
   "cell_type": "code",
   "execution_count": 396,
   "id": "cf52d834-a1ba-4ccc-a9a2-c9d2fa0d50b3",
   "metadata": {},
   "outputs": [
    {
     "name": "stdout",
     "output_type": "stream",
     "text": [
      "0.jpg   18.jpg  27.jpg  36.jpg  45.jpg  54.jpg  63.jpg  72.jpg  82.jpg  91.jpg\n",
      "1.jpg   19.jpg  28.jpg  37.jpg  46.jpg  55.jpg  64.jpg  73.jpg  83.jpg  92.jpg\n",
      "10.jpg  2.jpg   29.jpg  38.jpg  47.jpg  56.jpg  65.jpg  74.jpg  84.jpg  93.jpg\n",
      "11.jpg  20.jpg  3.jpg   39.jpg  48.jpg  57.jpg  66.jpg  75.jpg  85.jpg  94.jpg\n",
      "12.jpg  21.jpg  30.jpg  4.jpg   49.jpg  58.jpg  67.jpg  76.jpg  86.jpg  95.jpg\n",
      "13.jpg  22.jpg  31.jpg  40.jpg  5.jpg   59.jpg  68.jpg  77.jpg  87.jpg  96.jpg\n",
      "14.jpg  23.jpg  32.jpg  41.jpg  50.jpg  6.jpg   69.jpg  78.jpg  88.jpg  97.jpg\n",
      "15.jpg  24.jpg  33.jpg  42.jpg  51.jpg  60.jpg  7.jpg   79.jpg  89.jpg  98.jpg\n",
      "16.jpg  25.jpg  34.jpg  43.jpg  52.jpg  61.jpg  70.jpg  8.jpg   9.jpg   99.jpg\n",
      "17.jpg  26.jpg  35.jpg  44.jpg  53.jpg  62.jpg  71.jpg  80.jpg  90.jpg\n"
     ]
    }
   ],
   "source": [
    "ls"
   ]
  },
  {
   "cell_type": "markdown",
   "id": "93da31e6-f02f-45ee-950d-71dcf449e18b",
   "metadata": {},
   "source": [
    "## scrapping 100 image of Machine Learning."
   ]
  },
  {
   "cell_type": "code",
   "execution_count": 231,
   "id": "ece1053d-d06e-47c1-a059-9b018feba443",
   "metadata": {},
   "outputs": [],
   "source": [
    "## fetching Google website\n",
    "\n",
    "google_url ='https://www.google.com'\n",
    "driver.get(url=google_url)\n",
    "search_bn_image = driver.find_element_by_xpath('/html/body/div[1]/div[1]/div/div/div/div[1]/div/div[2]/a')\n",
    "search_bn_image.click()"
   ]
  },
  {
   "cell_type": "code",
   "execution_count": 232,
   "id": "30e23c58-8531-4600-a68d-470f9d8db7d0",
   "metadata": {},
   "outputs": [],
   "source": [
    "input_search = driver.find_element_by_xpath('//input[@class=\"gLFyf gsfi\"]')\n",
    "input_search.send_keys('Machine Learning')"
   ]
  },
  {
   "cell_type": "code",
   "execution_count": 233,
   "id": "643c3a3d-4e94-4543-b8fa-146fc6140dd2",
   "metadata": {},
   "outputs": [],
   "source": [
    "bn_search = driver.find_element_by_xpath('//span[@class=\"z1asCe MZy1Rb\"]')\n",
    "bn_search.click()"
   ]
  },
  {
   "cell_type": "code",
   "execution_count": 245,
   "id": "7eb04a04-1018-4239-84a8-3db1f95fcf57",
   "metadata": {},
   "outputs": [],
   "source": [
    "Machine_learn_images= []\n",
    "time.sleep(2)\n",
    "m_image_Xpath = driver.find_elements_by_xpath('//img[@jsaction=\"rcuQ6b:trigger.M8vzZb;\"]')\n",
    "for i in m_image_Xpath:\n",
    "    Machine_learn_images.append(i.get_attribute('src'))"
   ]
  },
  {
   "cell_type": "code",
   "execution_count": 246,
   "id": "06befe2a-4d8e-4025-89b9-e09b281d1de8",
   "metadata": {},
   "outputs": [
    {
     "data": {
      "text/plain": [
       "259"
      ]
     },
     "execution_count": 246,
     "metadata": {},
     "output_type": "execute_result"
    }
   ],
   "source": [
    "len(Machine_learn_images)"
   ]
  },
  {
   "cell_type": "code",
   "execution_count": 248,
   "id": "e6eb0fbd-32e0-4e32-9013-f12a4b780d17",
   "metadata": {},
   "outputs": [],
   "source": [
    "Machine_learn_images_list = Machine_learn_images[:100]"
   ]
  },
  {
   "cell_type": "code",
   "execution_count": 249,
   "id": "1734a985-679c-412a-bea8-31a75b12da97",
   "metadata": {},
   "outputs": [
    {
     "data": {
      "text/plain": [
       "['https://encrypted-tbn0.gstatic.com/images?q=tbn:ANd9GcRI7Yx95d0p3CKcJiHEVv-y4I7fJIlqVopUPm3AsD0&usqp=CAU',\n",
       " 'https://encrypted-tbn0.gstatic.com/images?q=tbn:ANd9GcRfjNPFojvTcTxHvYJXPEnxyZl6ggryFJZoiBh5cA9VX6h9I_HZ&usqp=CAU',\n",
       " 'https://encrypted-tbn0.gstatic.com/images?q=tbn:ANd9GcT6EjjIdqNiYByf1T3NfTU6OyUhJ1jQIJey5l4vaBR3xosEp4K8&usqp=CAU',\n",
       " 'https://encrypted-tbn0.gstatic.com/images?q=tbn:ANd9GcQievcyeGhVMtsJ12iZ0Z6NZ7X1DsIvXuDUTOzANq9cpWDHOIYn&usqp=CAU',\n",
       " 'https://encrypted-tbn0.gstatic.com/images?q=tbn:ANd9GcRdBIkR3obuHdd7aNFW1Oa3yoYN1LMrBBvmW1PxT3QhK7417QD1&usqp=CAU',\n",
       " 'https://encrypted-tbn0.gstatic.com/images?q=tbn:ANd9GcQZC7TOLbEU2IOzu6QVzLyxaCI7SMFUlNdRK1pkVjqCXTEy6rix&usqp=CAU',\n",
       " 'https://encrypted-tbn0.gstatic.com/images?q=tbn:ANd9GcStkfRTfosx2a2uOrcStQyxHpeHWG-Z-zxHTlKvfeYFsr9_DhiQ&usqp=CAU',\n",
       " 'https://encrypted-tbn0.gstatic.com/images?q=tbn:ANd9GcSyLDAJqRlqyls1xVbRLiFKfMCruMgymD8dJzleV9pbI_pm5UoE&usqp=CAU',\n",
       " 'https://encrypted-tbn0.gstatic.com/images?q=tbn:ANd9GcQRGthMvTyDNx38k0tf91cIbIEUCa4jgCsakCynqq73qqVdv_t-&usqp=CAU',\n",
       " 'https://encrypted-tbn0.gstatic.com/images?q=tbn:ANd9GcSMg2ZtVatuQcyjDZtXa4PRD00dVNtiP_UbWfDYpE08DVB4GO4n&usqp=CAU',\n",
       " 'https://encrypted-tbn0.gstatic.com/images?q=tbn:ANd9GcQF05nw9DhQfQYyYDYfjxNr5uNnSyxJKZzWLxM6VGxg_PBsR21m&usqp=CAU',\n",
       " 'https://encrypted-tbn0.gstatic.com/images?q=tbn:ANd9GcSAPpXTf5NzPnjerA4svxu9WJK6IOe_r3V_sEaKVsDuyxkETk3D&usqp=CAU',\n",
       " 'https://encrypted-tbn0.gstatic.com/images?q=tbn:ANd9GcTbjcIE9uEMc3hjUyURikcr7QxvLd_7xA5-Qd4BnnIUpIn7uS1G&usqp=CAU',\n",
       " 'https://encrypted-tbn0.gstatic.com/images?q=tbn:ANd9GcQRhowsYTaFopa-8C2GD0XWersRf5YcdyAZBareLR-a_lohmtkg&usqp=CAU',\n",
       " 'https://encrypted-tbn0.gstatic.com/images?q=tbn:ANd9GcRRfI4gczvEA8uewXXdbjfejOgjcdiMu-9uWg3Sy29ZU-d1bSgM&usqp=CAU',\n",
       " 'https://encrypted-tbn0.gstatic.com/images?q=tbn:ANd9GcRfT_XuH07pdLsLp1wy8VKQ8hKnYnB4V6ERv5AqdDnWcLQqOX3z&usqp=CAU',\n",
       " 'https://encrypted-tbn0.gstatic.com/images?q=tbn:ANd9GcRVuLtnLpFrGqQhQfs9m1_jETUSyBfWsWApbVAubdwjKNGCZgxV&usqp=CAU',\n",
       " 'https://encrypted-tbn0.gstatic.com/images?q=tbn:ANd9GcTXao4Xt8-OOaW_QOGAqYnN9Skal97f02LJkxhNLLbPJsiHyBwY&usqp=CAU',\n",
       " 'https://encrypted-tbn0.gstatic.com/images?q=tbn:ANd9GcQ-qD2rRXFGMce45la7pokLMZpwRAad6sZKAw&usqp=CAU',\n",
       " 'https://encrypted-tbn0.gstatic.com/images?q=tbn:ANd9GcRNfq7FthuJM8V7ev3FRCeqqHjmcXLDXlkwng&usqp=CAU',\n",
       " 'https://encrypted-tbn0.gstatic.com/images?q=tbn:ANd9GcS7l8X_i4VHSvd1QfZ_pFg51PJJc75NFfmexw&usqp=CAU',\n",
       " 'https://encrypted-tbn0.gstatic.com/images?q=tbn:ANd9GcSRkU62g7Rhz3aNupBoOc6pizY-19hH9-MJKA&usqp=CAU',\n",
       " 'https://encrypted-tbn0.gstatic.com/images?q=tbn:ANd9GcRnJajte8k4hat5OemiCgLPtorxCS9FmUKXKA&usqp=CAU',\n",
       " 'https://encrypted-tbn0.gstatic.com/images?q=tbn:ANd9GcSp2BlkHDrMpBa5pOZAgpzkL8RMmvgEU5I_Aw&usqp=CAU',\n",
       " 'https://encrypted-tbn0.gstatic.com/images?q=tbn:ANd9GcSFueOb66mkdjk_FrOsnYVpzw7U3AwkhUOB5g&usqp=CAU',\n",
       " 'https://encrypted-tbn0.gstatic.com/images?q=tbn:ANd9GcTDtgtwbe84_gCxl_OF13wQOIGGcgN9Vwaidg&usqp=CAU',\n",
       " 'https://encrypted-tbn0.gstatic.com/images?q=tbn:ANd9GcR1VXGCyLKk_U8qzQ31abMiOSM3lg953_Qw3A&usqp=CAU',\n",
       " 'https://encrypted-tbn0.gstatic.com/images?q=tbn:ANd9GcTOSwX0K0UGwBx3QEEuA4jYokxrs2iTEl9R6w&usqp=CAU',\n",
       " 'https://encrypted-tbn0.gstatic.com/images?q=tbn:ANd9GcSMFWgErcxBOju7NYcTXjCkOAcL_D7xVuskdw&usqp=CAU',\n",
       " 'https://encrypted-tbn0.gstatic.com/images?q=tbn:ANd9GcQulizjoCvcETV2mLWm9WcZ0mlsl-MjY0B7RQ&usqp=CAU',\n",
       " 'https://encrypted-tbn0.gstatic.com/images?q=tbn:ANd9GcQh4HzGIRo74WpbQfcr6SFZFkcsiykKzX5A-w&usqp=CAU',\n",
       " 'https://encrypted-tbn0.gstatic.com/images?q=tbn:ANd9GcToqqMfOrfY6GZ4px8jFHkK_4NtQHwzHP3Npg&usqp=CAU',\n",
       " 'https://encrypted-tbn0.gstatic.com/images?q=tbn:ANd9GcTba5qkPbfxaExGGfEhcujsY708WyfHopDV8w&usqp=CAU',\n",
       " 'https://encrypted-tbn0.gstatic.com/images?q=tbn:ANd9GcQ5LFpAD-FPmniqb8OCMo64l4q87A37IN6UMQ&usqp=CAU',\n",
       " 'https://encrypted-tbn0.gstatic.com/images?q=tbn:ANd9GcRcFx4emSxsFpL3HokaHTahfwGIumrvxUUWUA&usqp=CAU',\n",
       " 'https://encrypted-tbn0.gstatic.com/images?q=tbn:ANd9GcQfN12oiCbkM3yQNEyPU1BU2oWCHh3gEGKNcA&usqp=CAU',\n",
       " 'https://encrypted-tbn0.gstatic.com/images?q=tbn:ANd9GcRqX-g9A6tbPAlpj85G-no0fk7A3xH1wFUcyQ&usqp=CAU',\n",
       " 'https://encrypted-tbn0.gstatic.com/images?q=tbn:ANd9GcRrGoA2Crpg8Xcqacy8jDQELbeolPDWu-GykQ&usqp=CAU',\n",
       " 'https://encrypted-tbn0.gstatic.com/images?q=tbn:ANd9GcQSYylHvRw4uZOGozJG1VYgdMReGDGuxSwxPQ&usqp=CAU',\n",
       " 'https://encrypted-tbn0.gstatic.com/images?q=tbn:ANd9GcSE3FFuF-ouM78pOMvwCpbyEkJ1jKRaUum2-g&usqp=CAU',\n",
       " 'https://encrypted-tbn0.gstatic.com/images?q=tbn:ANd9GcQPRh_bHRkCuP3PSyEYC_gw8mrKONs57eeBXw&usqp=CAU',\n",
       " 'https://encrypted-tbn0.gstatic.com/images?q=tbn:ANd9GcSStzA7U2Svu6OSEzfKGBPxzCbfMS0sjtrPvA&usqp=CAU',\n",
       " 'https://encrypted-tbn0.gstatic.com/images?q=tbn:ANd9GcTolY6xPXK9bWaMdIh4PyzpPOVbuAdmnRLavA&usqp=CAU',\n",
       " 'https://encrypted-tbn0.gstatic.com/images?q=tbn:ANd9GcR9jSIVMuAS2N4w2cdGf5iA178b_C3Rz6wtvw&usqp=CAU',\n",
       " 'https://encrypted-tbn0.gstatic.com/images?q=tbn:ANd9GcTg0H3Ctmp4CJ7Xv2aVpgfNQaDwJtVZDPL2XQ&usqp=CAU',\n",
       " 'https://encrypted-tbn0.gstatic.com/images?q=tbn:ANd9GcSWShvZgyNR29CrJJKSA3MdMJtKDaS-B-_6dw&usqp=CAU',\n",
       " 'https://encrypted-tbn0.gstatic.com/images?q=tbn:ANd9GcSBSnQdgRaQQDDwd039ul9wyaqgymUcRyIosQ&usqp=CAU',\n",
       " 'https://encrypted-tbn0.gstatic.com/images?q=tbn:ANd9GcRVTT3e6fT7u4ormLM5SnutHobjS_Z4CSDeFg&usqp=CAU',\n",
       " 'https://encrypted-tbn0.gstatic.com/images?q=tbn:ANd9GcQvjFkgPuFBkUIb7WukseDQ6Kav9nTthyybUw&usqp=CAU',\n",
       " 'https://encrypted-tbn0.gstatic.com/images?q=tbn:ANd9GcRbSZZu9FPzqUJM0x_ET1-vye01bULxB1LnsA&usqp=CAU',\n",
       " 'https://encrypted-tbn0.gstatic.com/images?q=tbn:ANd9GcQ0Kfd40DrWeXpLo4KL8ZRdDLw7AQlRdQxisg&usqp=CAU',\n",
       " 'https://encrypted-tbn0.gstatic.com/images?q=tbn:ANd9GcSrqPSV1NlpA6A-mUXfKlgbC6ci9VWcwgg1CA&usqp=CAU',\n",
       " 'https://encrypted-tbn0.gstatic.com/images?q=tbn:ANd9GcTlrRupcFP48cR8T8Lv0nmohh-nsuFWuKy90Q&usqp=CAU',\n",
       " 'https://encrypted-tbn0.gstatic.com/images?q=tbn:ANd9GcT3nBM-d0cTqcESB94gdHqzKfeQ189Nv_1ckw&usqp=CAU',\n",
       " 'https://encrypted-tbn0.gstatic.com/images?q=tbn:ANd9GcQZc_PTpvBRL66czmsoFIqQhIpsE7sI71vIGA&usqp=CAU',\n",
       " 'https://encrypted-tbn0.gstatic.com/images?q=tbn:ANd9GcSC4ZvFL47Ta0lMESWsN7qq1zQuMnqo7C4CLA&usqp=CAU',\n",
       " 'https://encrypted-tbn0.gstatic.com/images?q=tbn:ANd9GcRtsQ2491eHCVnkW_r0GEUSuFi9lLiuPml37Q&usqp=CAU',\n",
       " 'https://encrypted-tbn0.gstatic.com/images?q=tbn:ANd9GcQyk-rAWff8es4lJvIa_J3mIuveLfNztGCpLg&usqp=CAU',\n",
       " 'https://encrypted-tbn0.gstatic.com/images?q=tbn:ANd9GcSBAf0cgqA4bEmr-OMFtr1OPOId8zxDMbdV8w&usqp=CAU',\n",
       " 'https://encrypted-tbn0.gstatic.com/images?q=tbn:ANd9GcRl5Xu-T4-nc9bxvkM4n2o8a_KUFJBVbYXnNQ&usqp=CAU',\n",
       " 'https://encrypted-tbn0.gstatic.com/images?q=tbn:ANd9GcQC0Sj01x9201XlisxESGkci8R91Fp2cM8Vzg&usqp=CAU',\n",
       " 'https://encrypted-tbn0.gstatic.com/images?q=tbn:ANd9GcSEMHTPfP9YZM7V99dKJrGBiDwui2iBsniBjg&usqp=CAU',\n",
       " 'https://encrypted-tbn0.gstatic.com/images?q=tbn:ANd9GcTq8iHrI-8n2iBfaaJ1TWdlwOnY2xqNbPQfWw&usqp=CAU',\n",
       " 'https://encrypted-tbn0.gstatic.com/images?q=tbn:ANd9GcQ3WHJB5RectMLlSdaKaTIllE4wEwUmeJms0w&usqp=CAU',\n",
       " 'https://encrypted-tbn0.gstatic.com/images?q=tbn:ANd9GcTAIsh7NIE3dovmzwPITu_D49wGTMVO4xRkmg&usqp=CAU',\n",
       " 'https://encrypted-tbn0.gstatic.com/images?q=tbn:ANd9GcQOMSanYLW--S2wtGTzqwOyT9mwm9YA4agS7g&usqp=CAU',\n",
       " 'https://encrypted-tbn0.gstatic.com/images?q=tbn:ANd9GcT5sN83LcL1q_Gs6wTuepkBYdRe5QcVDosaXw&usqp=CAU',\n",
       " 'https://encrypted-tbn0.gstatic.com/images?q=tbn:ANd9GcQErJ2RoXU1wALg8XpKBH_UK1TOJqCe8k7lHA&usqp=CAU',\n",
       " 'https://encrypted-tbn0.gstatic.com/images?q=tbn:ANd9GcR_upvMtBDZiIFYilt6oSwh-oLe-W8TSfKd4A&usqp=CAU',\n",
       " 'https://encrypted-tbn0.gstatic.com/images?q=tbn:ANd9GcRsLpoWRiRxkZBy14dztKhTlseA_bJbhOjWuQ&usqp=CAU',\n",
       " 'https://encrypted-tbn0.gstatic.com/images?q=tbn:ANd9GcTTCAhOw2gJomKakgDXC0502G_di7MCoKqtjg&usqp=CAU',\n",
       " 'https://encrypted-tbn0.gstatic.com/images?q=tbn:ANd9GcRNYkZLW3iUc9ksvBB_uVgcLL_evUZkgYAlJA&usqp=CAU',\n",
       " 'https://encrypted-tbn0.gstatic.com/images?q=tbn:ANd9GcRyUsvp8lFRGIPJc6R5KIfzr2Y-3uklW1hZLg&usqp=CAU',\n",
       " 'https://encrypted-tbn0.gstatic.com/images?q=tbn:ANd9GcT_NQ08RBS3uf3wz_kWTai84SCnsH7-uqsmdA&usqp=CAU',\n",
       " 'https://encrypted-tbn0.gstatic.com/images?q=tbn:ANd9GcRNN2xhubP-H5u3W-zztxe6g3dfo1m1PrTSCQ&usqp=CAU',\n",
       " 'https://encrypted-tbn0.gstatic.com/images?q=tbn:ANd9GcSxUKIDE5NBIf3wRAn88uCUDuypWWkBGw1K9w&usqp=CAU',\n",
       " 'https://encrypted-tbn0.gstatic.com/images?q=tbn:ANd9GcR9wpAMaeS-HvhvLAiZ4Vf0hE61O7TTmXStKw&usqp=CAU',\n",
       " 'https://encrypted-tbn0.gstatic.com/images?q=tbn:ANd9GcQGgLrNFzg4S0LvFlpmGK-BM4j5DZ3gku_bAQ&usqp=CAU',\n",
       " 'https://encrypted-tbn0.gstatic.com/images?q=tbn:ANd9GcT0quHAS8gIGDTSeoDDzOPI6yRR9inJv1mT-w&usqp=CAU',\n",
       " 'https://encrypted-tbn0.gstatic.com/images?q=tbn:ANd9GcRs6s7hyj4AjilLRAsXKOGODpotWHFcjyA_yw&usqp=CAU',\n",
       " 'https://encrypted-tbn0.gstatic.com/images?q=tbn:ANd9GcQ9ZhBDEGVp-DOA_hJ917nUadeZatP0P2UC-w&usqp=CAU',\n",
       " 'https://encrypted-tbn0.gstatic.com/images?q=tbn:ANd9GcRXLJv5P4pJmN8u-i2w-YFrW55kvzw7pxKaZQ&usqp=CAU',\n",
       " 'https://encrypted-tbn0.gstatic.com/images?q=tbn:ANd9GcTqTtNSrYNNqo_2PHO2SYs6aQSm_uB5MAxmPA&usqp=CAU',\n",
       " 'https://encrypted-tbn0.gstatic.com/images?q=tbn:ANd9GcQ9VZDWqN-fStbNMxasHzEWHBWnfpz0L5T7ow&usqp=CAU',\n",
       " 'https://encrypted-tbn0.gstatic.com/images?q=tbn:ANd9GcSoGwWya17bwcExfYQlkkcjYkZCvbkY9wgsqA&usqp=CAU',\n",
       " 'https://encrypted-tbn0.gstatic.com/images?q=tbn:ANd9GcSOzp_k8AagZ0T8gjgQVWpvLJ1Iq7r03Qj3Kw&usqp=CAU',\n",
       " 'https://encrypted-tbn0.gstatic.com/images?q=tbn:ANd9GcTqGCFdiGDgPD1F_ySnkokL6RLHJLPKcPjyGw&usqp=CAU',\n",
       " 'https://encrypted-tbn0.gstatic.com/images?q=tbn:ANd9GcQ-KGtKyTAliLTgKWIKxXyoaGskiPl75K_bZw&usqp=CAU',\n",
       " 'https://encrypted-tbn0.gstatic.com/images?q=tbn:ANd9GcTKRoKbqYUqRn5Vtsz7G3WIHpNDeatsMzkDWw&usqp=CAU',\n",
       " 'https://encrypted-tbn0.gstatic.com/images?q=tbn:ANd9GcRa7b1TiC9sWeKjO0H8-g9vqQu_FA52yLN3fA&usqp=CAU',\n",
       " 'https://encrypted-tbn0.gstatic.com/images?q=tbn:ANd9GcQfzcYFeL2xmrJJFojK5tDJIdrXQ8CdoGg-_g&usqp=CAU',\n",
       " 'https://encrypted-tbn0.gstatic.com/images?q=tbn:ANd9GcSRnLbqEYBepm8h2t7eWefAImcaAG17HPhg8A&usqp=CAU',\n",
       " 'https://encrypted-tbn0.gstatic.com/images?q=tbn:ANd9GcTwo5FVqBRZmUacDLaq01O78NFOaaZaTEVGng&usqp=CAU',\n",
       " 'https://encrypted-tbn0.gstatic.com/images?q=tbn:ANd9GcQeyMZBVgDd-_L3ZD4xvuGkjfuBJKtcZyj4HQ&usqp=CAU',\n",
       " 'https://encrypted-tbn0.gstatic.com/images?q=tbn:ANd9GcSrLJC3_WvbczJOuZxy8-hqxbzM_he66BhhOw&usqp=CAU',\n",
       " 'https://encrypted-tbn0.gstatic.com/images?q=tbn:ANd9GcSusXHuPFC1rCwWDg-_SoxB9c6aKs-5IyrAog&usqp=CAU',\n",
       " 'https://encrypted-tbn0.gstatic.com/images?q=tbn:ANd9GcSiV6adz9nSLV5-skd9j2aJIoOhalsoGz-OlA&usqp=CAU',\n",
       " 'https://encrypted-tbn0.gstatic.com/images?q=tbn:ANd9GcQE54Hcc7IuAlsi4sErN0S_3BSb0sakeQsDGw&usqp=CAU',\n",
       " 'https://encrypted-tbn0.gstatic.com/images?q=tbn:ANd9GcQyZL91pc9WTKiLT6QsRdVYUR7pBOw9jd3fYA&usqp=CAU',\n",
       " 'https://encrypted-tbn0.gstatic.com/images?q=tbn:ANd9GcS9iTuLyw50tp544zYHoEsymiSY5N7LSi8N4A&usqp=CAU']"
      ]
     },
     "execution_count": 249,
     "metadata": {},
     "output_type": "execute_result"
    }
   ],
   "source": [
    "Machine_learn_images_list"
   ]
  },
  {
   "cell_type": "code",
   "execution_count": 391,
   "id": "057fa671-06e7-4aa3-84c1-359275a81cc5",
   "metadata": {},
   "outputs": [],
   "source": [
    "## Download images in my current working directory\n",
    "\n",
    "for i in Machine_learn_images_list:\n",
    "    urllib.request.urlretrieve(i,str(Machine_learn_images_list.index(i))+'.jpg')\n",
    "    "
   ]
  },
  {
   "cell_type": "code",
   "execution_count": 392,
   "id": "a494a30b-8a04-4c82-85c0-d511c7e1a1fd",
   "metadata": {},
   "outputs": [
    {
     "name": "stdout",
     "output_type": "stream",
     "text": [
      "/Users/olivierla412/projects/data_camp/Scraping/Selenium/selenium_assign3/machine_learning_img\n"
     ]
    }
   ],
   "source": [
    "cd machine_learning_img"
   ]
  },
  {
   "cell_type": "code",
   "execution_count": 403,
   "id": "55d6ded5-7cd8-48cb-b3c8-fbe332aa29a6",
   "metadata": {},
   "outputs": [
    {
     "name": "stdout",
     "output_type": "stream",
     "text": [
      "/Users/olivierla412/projects/data_camp/Scraping/Selenium/selenium_assign3/machine_learning_img\n"
     ]
    }
   ],
   "source": [
    "cd machine_learning_img"
   ]
  },
  {
   "cell_type": "code",
   "execution_count": 404,
   "id": "21801a80-2fc2-4806-8acd-990f187db833",
   "metadata": {},
   "outputs": [
    {
     "name": "stdout",
     "output_type": "stream",
     "text": [
      "0.jpg   18.jpg  27.jpg  36.jpg  45.jpg  54.jpg  63.jpg  72.jpg  81.jpg  90.jpg\n",
      "1.jpg   19.jpg  28.jpg  37.jpg  46.jpg  55.jpg  64.jpg  73.jpg  82.jpg  91.jpg\n",
      "10.jpg  2.jpg   29.jpg  38.jpg  47.jpg  56.jpg  65.jpg  74.jpg  83.jpg  92.jpg\n",
      "11.jpg  20.jpg  3.jpg   39.jpg  48.jpg  57.jpg  66.jpg  75.jpg  84.jpg  93.jpg\n",
      "12.jpg  21.jpg  30.jpg  4.jpg   49.jpg  58.jpg  67.jpg  76.jpg  85.jpg  94.jpg\n",
      "13.jpg  22.jpg  31.jpg  40.jpg  5.jpg   59.jpg  68.jpg  77.jpg  86.jpg  95.jpg\n",
      "14.jpg  23.jpg  32.jpg  41.jpg  50.jpg  6.jpg   69.jpg  78.jpg  87.jpg  96.jpg\n",
      "15.jpg  24.jpg  33.jpg  42.jpg  51.jpg  60.jpg  7.jpg   79.jpg  88.jpg  97.jpg\n",
      "16.jpg  25.jpg  34.jpg  43.jpg  52.jpg  61.jpg  70.jpg  8.jpg   89.jpg  98.jpg\n",
      "17.jpg  26.jpg  35.jpg  44.jpg  53.jpg  62.jpg  71.jpg  80.jpg  9.jpg   99.jpg\n"
     ]
    }
   ],
   "source": [
    "ls"
   ]
  },
  {
   "cell_type": "markdown",
   "id": "021b2fc7-506c-4635-a7c6-241911bc45ba",
   "metadata": {},
   "source": [
    "### **********************************************\n",
    "### **********************************************"
   ]
  },
  {
   "cell_type": "markdown",
   "id": "d98ee93d-fdf3-4a2b-8245-57b6c4a7ea49",
   "metadata": {},
   "source": [
    "## Q4. Write a python program to search for a smartphone(e.g.: Oneplus Nord, pixel 4A, etc.)\n",
    "## on www.flipkart.com and scrape following details for all the search results displayed on\n",
    "## 1st page. Details to be scraped:\n",
    "## “Brand Name”, “Smartphone name”, “Colour”, “RAM”, “Storage(ROM)”, “Primary Camera”, “Secondary Camera”, “Display Size”, “Display Resolution”, “Processor”, “Processor Cores”, “Battery Capacity”, “Price”, “Product URL”.\n",
    "## Incase if any of the details is missing then replace it by “- “. Save your results in a dataframe and CSV."
   ]
  },
  {
   "cell_type": "code",
   "execution_count": 588,
   "id": "f098b81d-f24f-4450-85ac-3a45271db135",
   "metadata": {},
   "outputs": [],
   "source": [
    "## fetching the website\n",
    "url_flipkart = 'https://www.flipkart.com' "
   ]
  },
  {
   "cell_type": "code",
   "execution_count": 590,
   "id": "c1c038cd-26f3-4e3e-98a3-4e1227911c97",
   "metadata": {},
   "outputs": [],
   "source": [
    "driver.get(url=url_flipkart)\n",
    "input_searchf = driver.find_element_by_xpath('//input[@class=\"_3704LK\"]')\n",
    "input_searchf.send_keys('One-plus Nord, pixel 4A')\n"
   ]
  },
  {
   "cell_type": "code",
   "execution_count": 591,
   "id": "f9736356-b6c2-429f-a75f-11555ad991ed",
   "metadata": {},
   "outputs": [],
   "source": [
    "btn_search = driver.find_element_by_xpath('//button[@type=\"submit\"]')\n",
    "btn_search.click()\n"
   ]
  },
  {
   "cell_type": "code",
   "execution_count": 548,
   "id": "9d0e6a0c-d631-451a-8335-771d941cc095",
   "metadata": {},
   "outputs": [],
   "source": []
  },
  {
   "cell_type": "code",
   "execution_count": 553,
   "id": "8d98787f-992d-4541-8841-a6ee8c67db04",
   "metadata": {},
   "outputs": [],
   "source": []
  },
  {
   "cell_type": "code",
   "execution_count": 554,
   "id": "12377a08-74cd-498f-b209-0d57514b5f6a",
   "metadata": {},
   "outputs": [],
   "source": []
  },
  {
   "cell_type": "markdown",
   "id": "16825179-513d-403c-828c-214eb9754a7e",
   "metadata": {},
   "source": [
    "#### First let get the smartphone urls"
   ]
  },
  {
   "cell_type": "code",
   "execution_count": 592,
   "id": "71051dab-14ab-4884-98de-27826748fd3a",
   "metadata": {},
   "outputs": [],
   "source": [
    "URLS= []\n",
    "xpath_smart = driver.find_elements_by_xpath('//a[@class=\"_1fQZEK\"]')\n",
    "for i in xpath_smart:\n",
    "    URLS.append(i.get_attribute('href'))"
   ]
  },
  {
   "cell_type": "code",
   "execution_count": 593,
   "id": "0d715adc-d9b0-4b2e-b1aa-30db68ac6a0c",
   "metadata": {},
   "outputs": [
    {
     "data": {
      "text/plain": [
       "['https://www.flipkart.com/karbonn-titanium-s9-plus-black-32-gb/p/itmecad7098b9d03?pid=MOBG482ZYYZDEDD6&lid=LSTMOBG482ZYYZDEDD6EY4DFM&marketplace=FLIPKART&q=One-plus+Nord%2C+pixel+4A&store=tyy%2F4io&srno=s_1_1&otracker=search&otracker1=search&fm=SEARCH&iid=6ef7b070-cfdd-456f-ae83-e6b8d41841e1.MOBG482ZYYZDEDD6.SEARCH&ppt=hp&ppn=homepage&ssid=dka2gxdu0w0000001626964223356&qH=bca18867ca9b1b3c',\n",
       " 'https://www.flipkart.com/karbonn-viraat-plus-black-16-gb/p/itm535f93cc7d146?pid=MOBFZYRF9BAHH4Y8&lid=LSTMOBFZYRF9BAHH4Y8LMP5KD&marketplace=FLIPKART&q=One-plus+Nord%2C+pixel+4A&store=tyy%2F4io&srno=s_1_2&otracker=search&otracker1=search&fm=SEARCH&iid=6ef7b070-cfdd-456f-ae83-e6b8d41841e1.MOBFZYRF9BAHH4Y8.SEARCH&ppt=hp&ppn=homepage&ssid=dka2gxdu0w0000001626964223356&qH=bca18867ca9b1b3c',\n",
       " 'https://www.flipkart.com/apple-iphone-8-plus-silver-256-gb/p/itmexrgvxatuyrqw?pid=MOBEXRGVGETABXWZ&lid=LSTMOBEXRGVGETABXWZJ0ZD9D&marketplace=FLIPKART&q=One-plus+Nord%2C+pixel+4A&store=tyy%2F4io&srno=s_1_3&otracker=search&otracker1=search&fm=SEARCH&iid=6ef7b070-cfdd-456f-ae83-e6b8d41841e1.MOBEXRGVGETABXWZ.SEARCH&ppt=hp&ppn=homepage&ssid=dka2gxdu0w0000001626964223356&qH=bca18867ca9b1b3c',\n",
       " 'https://www.flipkart.com/karbonn-titanium-s9-plus-blue-32-gb/p/itmecad7098b9d03?pid=MOBG45WTKHHMPYYE&lid=LSTMOBG45WTKHHMPYYEE8RFPN&marketplace=FLIPKART&q=One-plus+Nord%2C+pixel+4A&store=tyy%2F4io&srno=s_1_4&otracker=search&otracker1=search&fm=SEARCH&iid=6ef7b070-cfdd-456f-ae83-e6b8d41841e1.MOBG45WTKHHMPYYE.SEARCH&ppt=hp&ppn=homepage&ssid=dka2gxdu0w0000001626964223356&qH=bca18867ca9b1b3c',\n",
       " 'https://www.flipkart.com/apple-iphone-8-plus-silver-64-gb/p/itmexrgv7yfjbryy?pid=MOBEXRGVQGYYP8FV&lid=LSTMOBEXRGVQGYYP8FVDQUZL8&marketplace=FLIPKART&q=One-plus+Nord%2C+pixel+4A&store=tyy%2F4io&srno=s_1_5&otracker=search&otracker1=search&fm=SEARCH&iid=6ef7b070-cfdd-456f-ae83-e6b8d41841e1.MOBEXRGVQGYYP8FV.SEARCH&ppt=hp&ppn=homepage&ssid=dka2gxdu0w0000001626964223356&qH=bca18867ca9b1b3c',\n",
       " 'https://www.flipkart.com/apple-iphone-8-plus-space-grey-64-gb/p/itmexrgvehtzhh9v?pid=MOBEXRGVQKBREZP8&lid=LSTMOBEXRGVQKBREZP8PI8YSV&marketplace=FLIPKART&q=One-plus+Nord%2C+pixel+4A&store=tyy%2F4io&srno=s_1_6&otracker=search&otracker1=search&fm=SEARCH&iid=6ef7b070-cfdd-456f-ae83-e6b8d41841e1.MOBEXRGVQKBREZP8.SEARCH&ppt=hp&ppn=homepage&ssid=dka2gxdu0w0000001626964223356&qH=bca18867ca9b1b3c',\n",
       " 'https://www.flipkart.com/apple-iphone-8-plus-gold-64-gb/p/itmexrgvuzgzttzh?pid=MOBEXRGV7EHHTGUH&lid=LSTMOBEXRGV7EHHTGUHS9DJVE&marketplace=FLIPKART&q=One-plus+Nord%2C+pixel+4A&store=tyy%2F4io&srno=s_1_7&otracker=search&otracker1=search&fm=SEARCH&iid=6ef7b070-cfdd-456f-ae83-e6b8d41841e1.MOBEXRGV7EHHTGUH.SEARCH&ppt=hp&ppn=homepage&ssid=dka2gxdu0w0000001626964223356&qH=bca18867ca9b1b3c',\n",
       " 'https://www.flipkart.com/apple-iphone-8-plus-space-grey-256-gb/p/itmexrgvzkbyqgtf?pid=MOBEXRGVAC6TJT4F&lid=LSTMOBEXRGVAC6TJT4FMUAMSG&marketplace=FLIPKART&q=One-plus+Nord%2C+pixel+4A&store=tyy%2F4io&srno=s_1_8&otracker=search&otracker1=search&fm=SEARCH&iid=6ef7b070-cfdd-456f-ae83-e6b8d41841e1.MOBEXRGVAC6TJT4F.SEARCH&ppt=hp&ppn=homepage&ssid=dka2gxdu0w0000001626964223356&qH=bca18867ca9b1b3c',\n",
       " 'https://www.flipkart.com/karbonn-aura-sleek-plus-champagne-16-gb/p/itmf53jusebkzafu?pid=MOBF52ZNSAGUJUTF&lid=LSTMOBF52ZNSAGUJUTFUDOJVA&marketplace=FLIPKART&q=One-plus+Nord%2C+pixel+4A&store=tyy%2F4io&srno=s_1_9&otracker=search&otracker1=search&fm=SEARCH&iid=6ef7b070-cfdd-456f-ae83-e6b8d41841e1.MOBF52ZNSAGUJUTF.SEARCH&ppt=hp&ppn=homepage&ssid=dka2gxdu0w0000001626964223356&qH=bca18867ca9b1b3c',\n",
       " 'https://www.flipkart.com/samsung-galaxy-s10-plus-ceramic-white-1-tb/p/itmfdyp6yc3fu2fg?pid=MOBFDNMZC29CBUPF&lid=LSTMOBFDNMZC29CBUPFT0HVQQ&marketplace=FLIPKART&q=One-plus+Nord%2C+pixel+4A&store=tyy%2F4io&srno=s_1_10&otracker=search&otracker1=search&fm=SEARCH&iid=6ef7b070-cfdd-456f-ae83-e6b8d41841e1.MOBFDNMZC29CBUPF.SEARCH&ppt=hp&ppn=homepage&ssid=dka2gxdu0w0000001626964223356&qH=bca18867ca9b1b3c',\n",
       " 'https://www.flipkart.com/samsung-galaxy-j6-plus-blue-64-gb/p/itmf94bxgkh5kzmq?pid=MOBF94BXS83YGWBX&lid=LSTMOBF94BXS83YGWBXKCAXT7&marketplace=FLIPKART&q=One-plus+Nord%2C+pixel+4A&store=tyy%2F4io&srno=s_1_11&otracker=search&otracker1=search&fm=SEARCH&iid=6ef7b070-cfdd-456f-ae83-e6b8d41841e1.MOBF94BXS83YGWBX.SEARCH&ppt=hp&ppn=homepage&ssid=dka2gxdu0w0000001626964223356&qH=bca18867ca9b1b3c',\n",
       " 'https://www.flipkart.com/samsung-galaxy-j4-plus-gold-32-gb/p/itmf94c46zeb5st5?pid=MOBF94C4VASZ42HU&lid=LSTMOBF94C4VASZ42HUVCUXS6&marketplace=FLIPKART&q=One-plus+Nord%2C+pixel+4A&store=tyy%2F4io&srno=s_1_12&otracker=search&otracker1=search&fm=SEARCH&iid=6ef7b070-cfdd-456f-ae83-e6b8d41841e1.MOBF94C4VASZ42HU.SEARCH&ppt=hp&ppn=homepage&ssid=dka2gxdu0w0000001626964223356&qH=bca18867ca9b1b3c',\n",
       " 'https://www.flipkart.com/motorola-one-fusion-moonlight-white-128-gb/p/itm07749a481ee89?pid=MOBFRFXHHWBM6BRR&lid=LSTMOBFRFXHHWBM6BRRZXH93F&marketplace=FLIPKART&q=One-plus+Nord%2C+pixel+4A&store=tyy%2F4io&srno=s_1_13&otracker=search&otracker1=search&fm=SEARCH&iid=6ef7b070-cfdd-456f-ae83-e6b8d41841e1.MOBFRFXHHWBM6BRR.SEARCH&ppt=hp&ppn=homepage&ssid=dka2gxdu0w0000001626964223356&qH=bca18867ca9b1b3c',\n",
       " 'https://www.flipkart.com/samsung-galaxy-j6-plus-red-64-gb/p/itmf94bxfhs4sjzm?pid=MOBF94BXFS3WSHMG&lid=LSTMOBF94BXFS3WSHMGAHRIPP&marketplace=FLIPKART&q=One-plus+Nord%2C+pixel+4A&store=tyy%2F4io&srno=s_1_14&otracker=search&otracker1=search&fm=SEARCH&iid=6ef7b070-cfdd-456f-ae83-e6b8d41841e1.MOBF94BXFS3WSHMG.SEARCH&ppt=hp&ppn=homepage&ssid=dka2gxdu0w0000001626964223356&qH=bca18867ca9b1b3c',\n",
       " 'https://www.flipkart.com/infocus-m535-plus-silver-16-gb/p/itmew7pyhpnmfkxh?pid=MOBEW7PYXJ2JBUUH&lid=LSTMOBEW7PYXJ2JBUUHJNDXJU&marketplace=FLIPKART&q=One-plus+Nord%2C+pixel+4A&store=tyy%2F4io&srno=s_1_15&otracker=search&otracker1=search&fm=SEARCH&iid=6ef7b070-cfdd-456f-ae83-e6b8d41841e1.MOBEW7PYXJ2JBUUH.SEARCH&ppt=hp&ppn=homepage&ssid=dka2gxdu0w0000001626964223356&qH=bca18867ca9b1b3c',\n",
       " 'https://www.flipkart.com/samsung-galaxy-j6-plus-black-64-gb/p/itmf94bxgyhuzx4y?pid=MOBF94BX8HBYHDFC&lid=LSTMOBF94BX8HBYHDFCYDCHUD&marketplace=FLIPKART&q=One-plus+Nord%2C+pixel+4A&store=tyy%2F4io&srno=s_1_16&otracker=search&otracker1=search&fm=SEARCH&iid=6ef7b070-cfdd-456f-ae83-e6b8d41841e1.MOBF94BX8HBYHDFC.SEARCH&ppt=hp&ppn=homepage&ssid=dka2gxdu0w0000001626964223356&qH=bca18867ca9b1b3c',\n",
       " 'https://www.flipkart.com/apple-iphone-7-plus-black-32-gb/p/itmen6davhyetcwf?pid=MOBEMK6289R7UFQH&lid=LSTMOBEMK6289R7UFQHEIIGH8&marketplace=FLIPKART&q=One-plus+Nord%2C+pixel+4A&store=tyy%2F4io&srno=s_1_17&otracker=search&otracker1=search&fm=SEARCH&iid=6ef7b070-cfdd-456f-ae83-e6b8d41841e1.MOBEMK6289R7UFQH.SEARCH&ppt=hp&ppn=homepage&ssid=dka2gxdu0w0000001626964223356&qH=bca18867ca9b1b3c',\n",
       " 'https://www.flipkart.com/moto-c-plus-pearl-white-16-gb/p/itmeuyd6nhzycmaa?pid=MOBEU9WRGVXDPBSF&lid=LSTMOBEU9WRGVXDPBSFADI9JQ&marketplace=FLIPKART&q=One-plus+Nord%2C+pixel+4A&store=tyy%2F4io&srno=s_1_18&otracker=search&otracker1=search&fm=SEARCH&iid=6ef7b070-cfdd-456f-ae83-e6b8d41841e1.MOBEU9WRGVXDPBSF.SEARCH&ppt=hp&ppn=homepage&ssid=dka2gxdu0w0000001626964223356&qH=bca18867ca9b1b3c',\n",
       " 'https://www.flipkart.com/oppo-f1-plus-gold-64-gb/p/itmehzhgq9rsyyzb?pid=MOBEHZHGVQQZBBGC&lid=LSTMOBEHZHGVQQZBBGCDCNLY1&marketplace=FLIPKART&q=One-plus+Nord%2C+pixel+4A&store=tyy%2F4io&srno=s_1_19&otracker=search&otracker1=search&fm=SEARCH&iid=6ef7b070-cfdd-456f-ae83-e6b8d41841e1.MOBEHZHGVQQZBBGC.SEARCH&ppt=hp&ppn=homepage&ssid=dka2gxdu0w0000001626964223356&qH=bca18867ca9b1b3c',\n",
       " 'https://www.flipkart.com/yu-yunique-2-plus-champagne-16-gb/p/itmeww9jyzwjuvwh?pid=MOBEWW8FEMT7AGFW&lid=LSTMOBEWW8FEMT7AGFW6TED2B&marketplace=FLIPKART&q=One-plus+Nord%2C+pixel+4A&store=tyy%2F4io&srno=s_1_20&otracker=search&otracker1=search&fm=SEARCH&iid=6ef7b070-cfdd-456f-ae83-e6b8d41841e1.MOBEWW8FEMT7AGFW.SEARCH&ppt=hp&ppn=homepage&ssid=dka2gxdu0w0000001626964223356&qH=bca18867ca9b1b3c',\n",
       " 'https://www.flipkart.com/micromax-bharat-4-plus-black-16-gb/p/itm489b353906344?pid=MOBFUFPMTHWBCTVW&lid=LSTMOBFUFPMTHWBCTVWJFKLCA&marketplace=FLIPKART&q=One-plus+Nord%2C+pixel+4A&store=tyy%2F4io&srno=s_1_21&otracker=search&otracker1=search&fm=SEARCH&iid=6ef7b070-cfdd-456f-ae83-e6b8d41841e1.MOBFUFPMTHWBCTVW.SEARCH&ppt=hp&ppn=homepage&ssid=dka2gxdu0w0000001626964223356&qH=bca18867ca9b1b3c',\n",
       " 'https://www.flipkart.com/kall-k-2-plus-blue-64-gb/p/itm3af766d54b4c0?pid=MOBFVXHFDTBK385C&lid=LSTMOBFVXHFDTBK385CPUI9UO&marketplace=FLIPKART&q=One-plus+Nord%2C+pixel+4A&store=tyy%2F4io&srno=s_1_22&otracker=search&otracker1=search&fm=SEARCH&iid=6ef7b070-cfdd-456f-ae83-e6b8d41841e1.MOBFVXHFDTBK385C.SEARCH&ppt=hp&ppn=homepage&ssid=dka2gxdu0w0000001626964223356&qH=bca18867ca9b1b3c',\n",
       " 'https://www.flipkart.com/micromax-canvas-2-plus-jet-black-32-gb/p/itmf943zdxvzj84r?pid=MOBFTUA3GJ9FZVKY&lid=LSTMOBFTUA3GJ9FZVKYP2JR8I&marketplace=FLIPKART&q=One-plus+Nord%2C+pixel+4A&store=tyy%2F4io&srno=s_1_23&otracker=search&otracker1=search&fm=SEARCH&iid=6ef7b070-cfdd-456f-ae83-e6b8d41841e1.MOBFTUA3GJ9FZVKY.SEARCH&ppt=hp&ppn=homepage&ssid=dka2gxdu0w0000001626964223356&qH=bca18867ca9b1b3c',\n",
       " 'https://www.flipkart.com/micromax-canvas-4-plus-a315-black-16-gb/p/itmezhdhwtf4wgfz?pid=MOBEYBX4XDGTZQJ9&lid=LSTMOBEYBX4XDGTZQJ9IASVVB&marketplace=FLIPKART&q=One-plus+Nord%2C+pixel+4A&store=tyy%2F4io&srno=s_1_24&otracker=search&otracker1=search&fm=SEARCH&iid=6ef7b070-cfdd-456f-ae83-e6b8d41841e1.MOBEYBX4XDGTZQJ9.SEARCH&ppt=hp&ppn=homepage&ssid=dka2gxdu0w0000001626964223356&qH=bca18867ca9b1b3c']"
      ]
     },
     "execution_count": 593,
     "metadata": {},
     "output_type": "execute_result"
    }
   ],
   "source": [
    "URLS"
   ]
  },
  {
   "cell_type": "code",
   "execution_count": 570,
   "id": "1ed9dc48-35f1-4ad6-8335-7bd1384f7305",
   "metadata": {},
   "outputs": [
    {
     "data": {
      "text/plain": [
       "24"
      ]
     },
     "execution_count": 570,
     "metadata": {},
     "output_type": "execute_result"
    }
   ],
   "source": [
    "len(URLS)"
   ]
  },
  {
   "cell_type": "code",
   "execution_count": null,
   "id": "399d5cff-75d0-49e4-b4c4-747b7ea31e29",
   "metadata": {},
   "outputs": [],
   "source": []
  },
  {
   "cell_type": "markdown",
   "id": "bb93604d-0791-43da-bc51-6c3dfd19e72c",
   "metadata": {},
   "source": [
    "### Let's scrap the phone's __brand name__ and phone __name__."
   ]
  },
  {
   "cell_type": "raw",
   "id": "221e7c11-ee58-474e-850c-e375291f2c9c",
   "metadata": {},
   "source": [
    "Rams = []\n",
    "for i in URLS:\n",
    "    driver.get(i)\n",
    "    time.sleep(3)\n",
    "    try:\n",
    "        driver.find_element_by_xpath('//button[@class=\"_2KpZ6l _1FH0tX\"]').click()\n",
    "    except NoSuchElementException as e:\n",
    "        print(e)\n",
    "    time.sleep(3)   \n",
    "    try:\n",
    "        ram = driver.find_elements_by_xpath('//table[@class=\"_14cfVK\"]')\n",
    "        Rams.append(ra)\n",
    "    except NoSuchElementException:\n",
    "        Rams.append('-')     \n",
    "        "
   ]
  },
  {
   "cell_type": "code",
   "execution_count": null,
   "id": "37266013-c239-42a3-98df-b17ef765ff62",
   "metadata": {},
   "outputs": [],
   "source": []
  },
  {
   "cell_type": "code",
   "execution_count": null,
   "id": "bb8ca2b7-b4b0-44cb-b1af-7bb17de00b84",
   "metadata": {},
   "outputs": [],
   "source": []
  },
  {
   "cell_type": "code",
   "execution_count": null,
   "id": "02cd323e-2c78-493b-b4f9-3ce5b9c0397d",
   "metadata": {},
   "outputs": [],
   "source": []
  },
  {
   "cell_type": "code",
   "execution_count": null,
   "id": "284c0118-c2aa-4ed7-8804-ac3042607e20",
   "metadata": {},
   "outputs": [],
   "source": []
  },
  {
   "cell_type": "code",
   "execution_count": null,
   "id": "d3566aa7-e141-497b-aae8-6b4ffceef9b9",
   "metadata": {},
   "outputs": [],
   "source": []
  },
  {
   "cell_type": "code",
   "execution_count": null,
   "id": "63cbedbd-0d41-4e54-aa01-e25a3987ada8",
   "metadata": {},
   "outputs": [],
   "source": []
  },
  {
   "cell_type": "markdown",
   "id": "82222266-af5d-4f83-90e3-4e941fc77d3c",
   "metadata": {},
   "source": [
    "### Q6. Write a program to scrap details of all the funding deals for second quarter \n",
    "### (i.e. July 20 – September 20) from trak.in."
   ]
  },
  {
   "cell_type": "code",
   "execution_count": 623,
   "id": "c0166c92-fada-462f-9842-b450b7806fda",
   "metadata": {},
   "outputs": [],
   "source": [
    "## fetching the website\n",
    "url_trak = 'https://trak.in'\n",
    "driver.get(url=url_trak)"
   ]
  },
  {
   "cell_type": "code",
   "execution_count": 625,
   "id": "61eedc1d-8e83-4ba7-bb4b-6a57449e4b7a",
   "metadata": {},
   "outputs": [],
   "source": [
    "driver.find_element_by_xpath('//*[@id=\"menu-item-51510\"]/a').click()"
   ]
  },
  {
   "cell_type": "markdown",
   "id": "c5ad3948-a2f3-4c0c-ad03-05f0ac810dec",
   "metadata": {},
   "source": [
    "### let's scrap the whole table of july 20"
   ]
  },
  {
   "cell_type": "code",
   "execution_count": 645,
   "id": "f957d2eb-6ca0-43d3-9167-d68bdbf32a13",
   "metadata": {},
   "outputs": [],
   "source": [
    "\n",
    "\n",
    "numb = driver.find_elements_by_xpath('//*[@id=\"tablepress-48\"]/tbody/tr/td')\n"
   ]
  },
  {
   "cell_type": "code",
   "execution_count": 650,
   "id": "e8f576a6-a387-42d8-adc2-4b48a5e9607e",
   "metadata": {},
   "outputs": [],
   "source": [
    "table = []\n",
    "for i in numb:\n",
    "    table.append(i.text)"
   ]
  },
  {
   "cell_type": "code",
   "execution_count": 651,
   "id": "e1a783dd-81d5-48c0-939d-6dc1a952f357",
   "metadata": {},
   "outputs": [
    {
     "data": {
      "text/plain": [
       "['1',\n",
       " '15/07/2020',\n",
       " 'Flipkart',\n",
       " 'E-commerce',\n",
       " 'E-commerce',\n",
       " 'Bangalore',\n",
       " 'Walmart Inc',\n",
       " 'M&A',\n",
       " '1,200,000,000',\n",
       " '2',\n",
       " '16/07/2020',\n",
       " 'Vedantu',\n",
       " 'EduTech',\n",
       " 'Online Tutoring',\n",
       " 'Bangalore',\n",
       " 'Coatue Management',\n",
       " 'Series D',\n",
       " '100,000,000',\n",
       " '3',\n",
       " '16/07/2020',\n",
       " 'Crio',\n",
       " 'EduTech',\n",
       " 'Learning Platform for Developers',\n",
       " 'Bangalore',\n",
       " '021 Capital',\n",
       " 'pre-Series A',\n",
       " '934,160',\n",
       " '4',\n",
       " '14/07/2020',\n",
       " 'goDutch',\n",
       " 'FinTech',\n",
       " 'Group Payments',\n",
       " 'Mumbai',\n",
       " 'Matrix India,Y Combinator, Global Founders Capital, Soma Capital, and VentureSouq.',\n",
       " 'Seed',\n",
       " '1,700,000',\n",
       " '5',\n",
       " '13/07/2020',\n",
       " 'Mystifly',\n",
       " 'Airfare Marketplace',\n",
       " 'Ticketing, Airline Retailing, and Post-Ticketing Services',\n",
       " 'Singapore and Bangalore',\n",
       " 'Recruit Co. Ltd.',\n",
       " 'pre-Series B',\n",
       " '3,300,000',\n",
       " '6',\n",
       " '09/07/2020',\n",
       " 'JetSynthesys',\n",
       " 'Gaming and Entertainment',\n",
       " 'Gaming and Entertainment',\n",
       " 'Pune',\n",
       " 'Adar Poonawalla and Kris Gopalakrishnan.',\n",
       " 'Venture-Series Unknown',\n",
       " '400,000',\n",
       " '7',\n",
       " '10/07/2020',\n",
       " 'gigIndia',\n",
       " 'Marketplace',\n",
       " 'Crowd Sourcing, Freelance',\n",
       " 'Pune',\n",
       " 'Incubate Fund India and Beyond Next Ventures',\n",
       " 'pre-Series A',\n",
       " '974,200',\n",
       " '8',\n",
       " '15/07/2020',\n",
       " 'PumPumPum',\n",
       " 'Automotive Rental',\n",
       " 'Used Car-leasing platform',\n",
       " 'Gurgaon',\n",
       " 'Early Adapters Syndicate',\n",
       " 'Seed',\n",
       " '292,800',\n",
       " '9',\n",
       " '14/07/2020',\n",
       " 'FLYX',\n",
       " 'OTT Player',\n",
       " 'Streaming Social Network',\n",
       " 'New York and Delhi',\n",
       " 'Raj Mishra, founder of AIT Global Inc',\n",
       " 'pre-Seed',\n",
       " '200,000',\n",
       " '10',\n",
       " '13/07/2020',\n",
       " 'Open Appliances Pvt. Ltd.',\n",
       " 'Information Technology',\n",
       " 'Internet-of-Things Security Solutions',\n",
       " 'Bangalore',\n",
       " 'Unicorn India Ventures',\n",
       " 'Venture-Series Unknown',\n",
       " '500,000']"
      ]
     },
     "execution_count": 651,
     "metadata": {},
     "output_type": "execute_result"
    }
   ],
   "source": [
    "table"
   ]
  },
  {
   "cell_type": "code",
   "execution_count": 666,
   "id": "8fb2a146-558e-4b90-b03e-5c73ea90777c",
   "metadata": {},
   "outputs": [],
   "source": [
    "# declarations of variables\n",
    "Sr_number = []\n",
    "date = []\n",
    "startup_name = []\n",
    "Indistry_vertical =[]\n",
    "Indistry_sb_vertical =[]\n",
    "City_location = []\n",
    "Inverstor_name =[]\n",
    "Investment = []\n",
    "Amount = []\n",
    "for x in range(0,len(table),9):\n",
    "    Sr_number.append(table[x])\n",
    "    date.append(table[x+1])\n",
    "    startup_name.append(table[x+2])\n",
    "    Indistry_vertical.append(table[x+3])\n",
    "    Indistry_sb_vertical.append(table[x+4])\n",
    "    City_location.append(table[x+5])\n",
    "    Inverstor_name.append(table[x+6])\n",
    "    Investment.append(table[x+7])\n",
    "    Amount.append(table[x+8])\n",
    "    \n",
    "    \n",
    "    \n"
   ]
  },
  {
   "cell_type": "code",
   "execution_count": 676,
   "id": "41c4b763-dc3b-4309-9406-f7343773f850",
   "metadata": {},
   "outputs": [
    {
     "data": {
      "text/plain": [
       "['1', '2', '3', '4', '5', '6', '7', '8', '9', '10']"
      ]
     },
     "execution_count": 676,
     "metadata": {},
     "output_type": "execute_result"
    }
   ],
   "source": [
    "Sr_number"
   ]
  },
  {
   "cell_type": "code",
   "execution_count": 677,
   "id": "1a353001-bc87-41c1-949b-e457e4442e97",
   "metadata": {},
   "outputs": [
    {
     "data": {
      "text/plain": [
       "['15/07/2020',\n",
       " '16/07/2020',\n",
       " '16/07/2020',\n",
       " '14/07/2020',\n",
       " '13/07/2020',\n",
       " '09/07/2020',\n",
       " '10/07/2020',\n",
       " '15/07/2020',\n",
       " '14/07/2020',\n",
       " '13/07/2020']"
      ]
     },
     "execution_count": 677,
     "metadata": {},
     "output_type": "execute_result"
    }
   ],
   "source": [
    "date"
   ]
  },
  {
   "cell_type": "code",
   "execution_count": 678,
   "id": "cf6de56b-128b-4667-9c8a-91139dd9471b",
   "metadata": {},
   "outputs": [
    {
     "data": {
      "text/plain": [
       "['Flipkart',\n",
       " 'Vedantu',\n",
       " 'Crio',\n",
       " 'goDutch',\n",
       " 'Mystifly',\n",
       " 'JetSynthesys',\n",
       " 'gigIndia',\n",
       " 'PumPumPum',\n",
       " 'FLYX',\n",
       " 'Open Appliances Pvt. Ltd.']"
      ]
     },
     "execution_count": 678,
     "metadata": {},
     "output_type": "execute_result"
    }
   ],
   "source": [
    "startup_name"
   ]
  },
  {
   "cell_type": "code",
   "execution_count": 679,
   "id": "aaccd083-6aa8-4c16-8ac2-7a74329ad710",
   "metadata": {},
   "outputs": [
    {
     "data": {
      "text/plain": [
       "['E-commerce',\n",
       " 'EduTech',\n",
       " 'EduTech',\n",
       " 'FinTech',\n",
       " 'Airfare Marketplace',\n",
       " 'Gaming and Entertainment',\n",
       " 'Marketplace',\n",
       " 'Automotive Rental',\n",
       " 'OTT Player',\n",
       " 'Information Technology']"
      ]
     },
     "execution_count": 679,
     "metadata": {},
     "output_type": "execute_result"
    }
   ],
   "source": [
    "Indistry_vertical"
   ]
  },
  {
   "cell_type": "code",
   "execution_count": 680,
   "id": "1780e829-54a9-4cbd-ad3a-0aea014582f3",
   "metadata": {},
   "outputs": [
    {
     "data": {
      "text/plain": [
       "['E-commerce',\n",
       " 'Online Tutoring',\n",
       " 'Learning Platform for Developers',\n",
       " 'Group Payments',\n",
       " 'Ticketing, Airline Retailing, and Post-Ticketing Services',\n",
       " 'Gaming and Entertainment',\n",
       " 'Crowd Sourcing, Freelance',\n",
       " 'Used Car-leasing platform',\n",
       " 'Streaming Social Network',\n",
       " 'Internet-of-Things Security Solutions']"
      ]
     },
     "execution_count": 680,
     "metadata": {},
     "output_type": "execute_result"
    }
   ],
   "source": [
    "Indistry_sb_vertical"
   ]
  },
  {
   "cell_type": "code",
   "execution_count": 681,
   "id": "3c30bbda-2d54-45ad-809e-7930d1eeb498",
   "metadata": {},
   "outputs": [
    {
     "data": {
      "text/plain": [
       "['Bangalore',\n",
       " 'Bangalore',\n",
       " 'Bangalore',\n",
       " 'Mumbai',\n",
       " 'Singapore and Bangalore',\n",
       " 'Pune',\n",
       " 'Pune',\n",
       " 'Gurgaon',\n",
       " 'New York and Delhi',\n",
       " 'Bangalore']"
      ]
     },
     "execution_count": 681,
     "metadata": {},
     "output_type": "execute_result"
    }
   ],
   "source": [
    "City_location"
   ]
  },
  {
   "cell_type": "code",
   "execution_count": 682,
   "id": "4d015b77-9de7-4d3a-8e5c-d0e051cbaee0",
   "metadata": {},
   "outputs": [
    {
     "data": {
      "text/plain": [
       "['Walmart Inc',\n",
       " 'Coatue Management',\n",
       " '021 Capital',\n",
       " 'Matrix India,Y Combinator, Global Founders Capital, Soma Capital, and VentureSouq.',\n",
       " 'Recruit Co. Ltd.',\n",
       " 'Adar Poonawalla and Kris Gopalakrishnan.',\n",
       " 'Incubate Fund India and Beyond Next Ventures',\n",
       " 'Early Adapters Syndicate',\n",
       " 'Raj Mishra, founder of AIT Global Inc',\n",
       " 'Unicorn India Ventures']"
      ]
     },
     "execution_count": 682,
     "metadata": {},
     "output_type": "execute_result"
    }
   ],
   "source": [
    "Inverstor_name"
   ]
  },
  {
   "cell_type": "code",
   "execution_count": 683,
   "id": "2dc44fd8-95aa-400e-862c-2b78fca91926",
   "metadata": {},
   "outputs": [
    {
     "data": {
      "text/plain": [
       "['M&A',\n",
       " 'Series D',\n",
       " 'pre-Series A',\n",
       " 'Seed',\n",
       " 'pre-Series B',\n",
       " 'Venture-Series Unknown',\n",
       " 'pre-Series A',\n",
       " 'Seed',\n",
       " 'pre-Seed',\n",
       " 'Venture-Series Unknown']"
      ]
     },
     "execution_count": 683,
     "metadata": {},
     "output_type": "execute_result"
    }
   ],
   "source": [
    "Investment"
   ]
  },
  {
   "cell_type": "code",
   "execution_count": 675,
   "id": "8a71082e-3d29-40fd-812f-909fae0b8e92",
   "metadata": {},
   "outputs": [
    {
     "data": {
      "text/plain": [
       "['1,200,000,000',\n",
       " '100,000,000',\n",
       " '934,160',\n",
       " '1,700,000',\n",
       " '3,300,000',\n",
       " '400,000',\n",
       " '974,200',\n",
       " '292,800',\n",
       " '200,000',\n",
       " '500,000']"
      ]
     },
     "execution_count": 675,
     "metadata": {},
     "output_type": "execute_result"
    }
   ],
   "source": [
    "Amount"
   ]
  },
  {
   "cell_type": "code",
   "execution_count": null,
   "id": "39020e31-adb4-411a-98b5-0b102e7da6a0",
   "metadata": {},
   "outputs": [],
   "source": []
  },
  {
   "cell_type": "markdown",
   "id": "c2143b37-0efa-484d-939d-04c6cb918271",
   "metadata": {},
   "source": [
    "### Let's scrap the whole table of August 2020 and September 2020"
   ]
  },
  {
   "cell_type": "code",
   "execution_count": null,
   "id": "0b7787c4-a89f-4f1a-9523-77463cec503f",
   "metadata": {},
   "outputs": [],
   "source": []
  },
  {
   "cell_type": "code",
   "execution_count": 686,
   "id": "04a9c66e-4b9b-4594-8529-3d3197ed5e2b",
   "metadata": {},
   "outputs": [],
   "source": [
    "data_Aug20 = driver.find_elements_by_xpath('//*[@id=\"tablepress-49\"]/tbody/tr/td')\n"
   ]
  },
  {
   "cell_type": "code",
   "execution_count": 687,
   "id": "3645a38e-88bc-48b6-8f10-142b669ef546",
   "metadata": {},
   "outputs": [],
   "source": [
    "data_Sept20 = driver.find_elements_by_xpath('//*[@id=\"tablepress-50\"]/tbody/tr/td')"
   ]
  },
  {
   "cell_type": "code",
   "execution_count": 688,
   "id": "82de033c-0648-48c7-aa7f-08979c403186",
   "metadata": {},
   "outputs": [],
   "source": [
    "AUG = []\n",
    "for x in data_Aug20:\n",
    "    AUG.append(x.text)"
   ]
  },
  {
   "cell_type": "code",
   "execution_count": 689,
   "id": "83abceab-4f3e-4815-a003-1e0063afe51f",
   "metadata": {},
   "outputs": [
    {
     "data": {
      "text/plain": [
       "['1',\n",
       " '15/08/2020',\n",
       " 'Practo',\n",
       " 'HealthTech',\n",
       " 'Health care and Wellness',\n",
       " 'Bangalore',\n",
       " 'A1A Company',\n",
       " 'Series F',\n",
       " '32,000,000',\n",
       " '2',\n",
       " '13/08/2020',\n",
       " 'Medlife',\n",
       " 'E-commerce',\n",
       " 'Online Pharmacy',\n",
       " 'Bangalore',\n",
       " 'Prasid Uno Family Trust and SC Credit Fund',\n",
       " '',\n",
       " '23,000,000',\n",
       " '3',\n",
       " '13/08/2020',\n",
       " 'HungerBox',\n",
       " 'FoodTech',\n",
       " 'Online Food Delivery Service',\n",
       " 'Bangalore',\n",
       " 'One97, Sabre Partners Trust, Pratithi Investment Trust, and Srihari Kumar',\n",
       " 'Series D1',\n",
       " '1,560,000',\n",
       " '4',\n",
       " '04/08/2020',\n",
       " 'Dunzo',\n",
       " 'Hyper-local Logistics',\n",
       " 'Online Delivery Services',\n",
       " 'Bangalore',\n",
       " 'Existing Backers',\n",
       " 'In Progress',\n",
       " '30,000,000',\n",
       " '5',\n",
       " '11/08/2020',\n",
       " 'Terra.do',\n",
       " 'EduTech',\n",
       " 'Online Climate School, E-learning',\n",
       " 'Stanford, California,',\n",
       " 'Stanford Angels and Entrepreneurs (India), BEENEXT Emerging Asia, Rainmatter Capital',\n",
       " 'Seed',\n",
       " '1,400,000',\n",
       " '6',\n",
       " '12/08/2020',\n",
       " 'Classplus',\n",
       " 'EduTech',\n",
       " 'E-learning, Online Tutoring',\n",
       " 'Noida',\n",
       " 'Falcon Edge',\n",
       " 'In Progress',\n",
       " 'upto 15,000,000',\n",
       " '7',\n",
       " '14/08/2020',\n",
       " 'Niyo',\n",
       " 'FinTech',\n",
       " 'Financial Services',\n",
       " 'Bangalore',\n",
       " 'Niyo Solutions Inc.',\n",
       " '',\n",
       " '6,000,000',\n",
       " '8',\n",
       " '10/08/2020',\n",
       " 'ZestMoney',\n",
       " 'FinTech',\n",
       " 'Financial Services',\n",
       " 'Bangalore',\n",
       " 'Primrose Hills Ventures',\n",
       " '',\n",
       " '10,670,000',\n",
       " '9',\n",
       " '07/08/2020',\n",
       " 'FreshToHome',\n",
       " 'E-commerce',\n",
       " 'Food Delivery',\n",
       " 'Bangalore',\n",
       " 'Ascent Capital',\n",
       " 'Venture',\n",
       " '16,200,000',\n",
       " '10',\n",
       " '13/08/2020',\n",
       " 'Eduvanz',\n",
       " 'FinTech',\n",
       " 'Financial Services',\n",
       " 'Mumbai',\n",
       " 'Sequoia India, Unitus',\n",
       " 'Series A',\n",
       " '5,000,000']"
      ]
     },
     "execution_count": 689,
     "metadata": {},
     "output_type": "execute_result"
    }
   ],
   "source": [
    "AUG"
   ]
  },
  {
   "cell_type": "code",
   "execution_count": 690,
   "id": "f841e52e-12fa-4e14-b449-398f185511bb",
   "metadata": {},
   "outputs": [],
   "source": [
    "SEPT = []\n",
    "for x in data_Sept20:\n",
    "    SEPT.append(x.text)"
   ]
  },
  {
   "cell_type": "code",
   "execution_count": 691,
   "id": "f9e61973-0827-4c96-8c9c-6c4bed3165ad",
   "metadata": {},
   "outputs": [
    {
     "data": {
      "text/plain": [
       "['1',\n",
       " '08/09/2020',\n",
       " 'Byju’s',\n",
       " 'EduTech',\n",
       " 'Online Tutoring',\n",
       " 'Bangalore',\n",
       " 'Silver Lake, Tiger Global, General Atlantic and Owl Ventures',\n",
       " 'Private Equity',\n",
       " '500,000,000',\n",
       " '2',\n",
       " '12/09/2020',\n",
       " 'mCaffeine',\n",
       " 'Personal Care',\n",
       " 'Skincare & Haircare',\n",
       " 'Mumbai',\n",
       " 'Amicus Capital Private Equity I LLP, Amicus Capital Partners India Fund I and RP-SG Venture Fund 1',\n",
       " 'Series B',\n",
       " '3,000,000',\n",
       " '3',\n",
       " '09/09/2020',\n",
       " 'Qshala',\n",
       " 'EduTech',\n",
       " 'Online Curiosity Platform for Kids',\n",
       " 'Bangalore',\n",
       " 'Rainmatter Capital',\n",
       " 'Angel',\n",
       " '370,000',\n",
       " '4',\n",
       " '02/09/2020',\n",
       " 'Winzo',\n",
       " 'Online Gaming',\n",
       " 'Online Gaming',\n",
       " 'New Delhi',\n",
       " 'Kalaari Capital Partners, IndigoEdge Management Consultancy',\n",
       " 'Series B',\n",
       " '15,500,000',\n",
       " '5',\n",
       " '09/09/2020',\n",
       " 'Hippo Video',\n",
       " 'Video Customer Experience(CX) Platform',\n",
       " 'Video Customer Experience(CX) Platform',\n",
       " 'Newark, Delaware, United States of Amercia',\n",
       " 'Alpha Wave Incubation, Exfinity Venture Partners and existing backers.',\n",
       " 'Series A',\n",
       " '4,500,000',\n",
       " '6',\n",
       " '07/09/2020',\n",
       " 'Melorra',\n",
       " 'E-commerce',\n",
       " 'Online Jewelry Store',\n",
       " 'Bangalore',\n",
       " 'Shadow Holdings, Lightbox.',\n",
       " 'Debt Financing',\n",
       " 'upto 8,900,000',\n",
       " '7',\n",
       " '07/09/2020',\n",
       " '1mg',\n",
       " 'E-commerce',\n",
       " 'Online Pharmacy',\n",
       " 'Gurgaon',\n",
       " 'Gaja Capital, Tata Capital, Partners Group',\n",
       " 'In Progress',\n",
       " '100,000,000',\n",
       " '8',\n",
       " '31/08/2020',\n",
       " 'mfine',\n",
       " 'HealthTech',\n",
       " 'On-Demand Healthcare Services',\n",
       " 'Bangalore',\n",
       " 'Caretech Pte Inc',\n",
       " 'Series B',\n",
       " '5,400,000',\n",
       " '9',\n",
       " '31/08/2020',\n",
       " 'Apna',\n",
       " 'Human Resources',\n",
       " 'Recruitment Platform',\n",
       " 'Bangalore',\n",
       " 'Lightspeed India and Sequoia Capital India',\n",
       " 'Series A',\n",
       " '8,000,000',\n",
       " '10',\n",
       " '03/09/2020',\n",
       " 'Railofy',\n",
       " 'Transportation',\n",
       " 'WL & RAC protection platform',\n",
       " 'Mumbai',\n",
       " 'Chiratae Ventures',\n",
       " 'Seed',\n",
       " '950,000']"
      ]
     },
     "execution_count": 691,
     "metadata": {},
     "output_type": "execute_result"
    }
   ],
   "source": [
    "SEPT"
   ]
  },
  {
   "cell_type": "markdown",
   "id": "c0ac8216-6a76-4dcf-b6ca-37c8dfcffd06",
   "metadata": {},
   "source": [
    "### Now the concatinate the both arrays before separate into defferent variable like the first."
   ]
  },
  {
   "cell_type": "code",
   "execution_count": 698,
   "id": "e7b55ffd-6567-461b-8f75-060ebcef53e7",
   "metadata": {},
   "outputs": [],
   "source": [
    "TABLE = AUG + SEPT"
   ]
  },
  {
   "cell_type": "code",
   "execution_count": 699,
   "id": "4df89466-bdcd-4254-a042-8543b434783c",
   "metadata": {},
   "outputs": [
    {
     "data": {
      "text/plain": [
       "['1',\n",
       " '15/08/2020',\n",
       " 'Practo',\n",
       " 'HealthTech',\n",
       " 'Health care and Wellness',\n",
       " 'Bangalore',\n",
       " 'A1A Company',\n",
       " 'Series F',\n",
       " '32,000,000',\n",
       " '2',\n",
       " '13/08/2020',\n",
       " 'Medlife',\n",
       " 'E-commerce',\n",
       " 'Online Pharmacy',\n",
       " 'Bangalore',\n",
       " 'Prasid Uno Family Trust and SC Credit Fund',\n",
       " '',\n",
       " '23,000,000',\n",
       " '3',\n",
       " '13/08/2020',\n",
       " 'HungerBox',\n",
       " 'FoodTech',\n",
       " 'Online Food Delivery Service',\n",
       " 'Bangalore',\n",
       " 'One97, Sabre Partners Trust, Pratithi Investment Trust, and Srihari Kumar',\n",
       " 'Series D1',\n",
       " '1,560,000',\n",
       " '4',\n",
       " '04/08/2020',\n",
       " 'Dunzo',\n",
       " 'Hyper-local Logistics',\n",
       " 'Online Delivery Services',\n",
       " 'Bangalore',\n",
       " 'Existing Backers',\n",
       " 'In Progress',\n",
       " '30,000,000',\n",
       " '5',\n",
       " '11/08/2020',\n",
       " 'Terra.do',\n",
       " 'EduTech',\n",
       " 'Online Climate School, E-learning',\n",
       " 'Stanford, California,',\n",
       " 'Stanford Angels and Entrepreneurs (India), BEENEXT Emerging Asia, Rainmatter Capital',\n",
       " 'Seed',\n",
       " '1,400,000',\n",
       " '6',\n",
       " '12/08/2020',\n",
       " 'Classplus',\n",
       " 'EduTech',\n",
       " 'E-learning, Online Tutoring',\n",
       " 'Noida',\n",
       " 'Falcon Edge',\n",
       " 'In Progress',\n",
       " 'upto 15,000,000',\n",
       " '7',\n",
       " '14/08/2020',\n",
       " 'Niyo',\n",
       " 'FinTech',\n",
       " 'Financial Services',\n",
       " 'Bangalore',\n",
       " 'Niyo Solutions Inc.',\n",
       " '',\n",
       " '6,000,000',\n",
       " '8',\n",
       " '10/08/2020',\n",
       " 'ZestMoney',\n",
       " 'FinTech',\n",
       " 'Financial Services',\n",
       " 'Bangalore',\n",
       " 'Primrose Hills Ventures',\n",
       " '',\n",
       " '10,670,000',\n",
       " '9',\n",
       " '07/08/2020',\n",
       " 'FreshToHome',\n",
       " 'E-commerce',\n",
       " 'Food Delivery',\n",
       " 'Bangalore',\n",
       " 'Ascent Capital',\n",
       " 'Venture',\n",
       " '16,200,000',\n",
       " '10',\n",
       " '13/08/2020',\n",
       " 'Eduvanz',\n",
       " 'FinTech',\n",
       " 'Financial Services',\n",
       " 'Mumbai',\n",
       " 'Sequoia India, Unitus',\n",
       " 'Series A',\n",
       " '5,000,000',\n",
       " '1',\n",
       " '08/09/2020',\n",
       " 'Byju’s',\n",
       " 'EduTech',\n",
       " 'Online Tutoring',\n",
       " 'Bangalore',\n",
       " 'Silver Lake, Tiger Global, General Atlantic and Owl Ventures',\n",
       " 'Private Equity',\n",
       " '500,000,000',\n",
       " '2',\n",
       " '12/09/2020',\n",
       " 'mCaffeine',\n",
       " 'Personal Care',\n",
       " 'Skincare & Haircare',\n",
       " 'Mumbai',\n",
       " 'Amicus Capital Private Equity I LLP, Amicus Capital Partners India Fund I and RP-SG Venture Fund 1',\n",
       " 'Series B',\n",
       " '3,000,000',\n",
       " '3',\n",
       " '09/09/2020',\n",
       " 'Qshala',\n",
       " 'EduTech',\n",
       " 'Online Curiosity Platform for Kids',\n",
       " 'Bangalore',\n",
       " 'Rainmatter Capital',\n",
       " 'Angel',\n",
       " '370,000',\n",
       " '4',\n",
       " '02/09/2020',\n",
       " 'Winzo',\n",
       " 'Online Gaming',\n",
       " 'Online Gaming',\n",
       " 'New Delhi',\n",
       " 'Kalaari Capital Partners, IndigoEdge Management Consultancy',\n",
       " 'Series B',\n",
       " '15,500,000',\n",
       " '5',\n",
       " '09/09/2020',\n",
       " 'Hippo Video',\n",
       " 'Video Customer Experience(CX) Platform',\n",
       " 'Video Customer Experience(CX) Platform',\n",
       " 'Newark, Delaware, United States of Amercia',\n",
       " 'Alpha Wave Incubation, Exfinity Venture Partners and existing backers.',\n",
       " 'Series A',\n",
       " '4,500,000',\n",
       " '6',\n",
       " '07/09/2020',\n",
       " 'Melorra',\n",
       " 'E-commerce',\n",
       " 'Online Jewelry Store',\n",
       " 'Bangalore',\n",
       " 'Shadow Holdings, Lightbox.',\n",
       " 'Debt Financing',\n",
       " 'upto 8,900,000',\n",
       " '7',\n",
       " '07/09/2020',\n",
       " '1mg',\n",
       " 'E-commerce',\n",
       " 'Online Pharmacy',\n",
       " 'Gurgaon',\n",
       " 'Gaja Capital, Tata Capital, Partners Group',\n",
       " 'In Progress',\n",
       " '100,000,000',\n",
       " '8',\n",
       " '31/08/2020',\n",
       " 'mfine',\n",
       " 'HealthTech',\n",
       " 'On-Demand Healthcare Services',\n",
       " 'Bangalore',\n",
       " 'Caretech Pte Inc',\n",
       " 'Series B',\n",
       " '5,400,000',\n",
       " '9',\n",
       " '31/08/2020',\n",
       " 'Apna',\n",
       " 'Human Resources',\n",
       " 'Recruitment Platform',\n",
       " 'Bangalore',\n",
       " 'Lightspeed India and Sequoia Capital India',\n",
       " 'Series A',\n",
       " '8,000,000',\n",
       " '10',\n",
       " '03/09/2020',\n",
       " 'Railofy',\n",
       " 'Transportation',\n",
       " 'WL & RAC protection platform',\n",
       " 'Mumbai',\n",
       " 'Chiratae Ventures',\n",
       " 'Seed',\n",
       " '950,000']"
      ]
     },
     "execution_count": 699,
     "metadata": {},
     "output_type": "execute_result"
    }
   ],
   "source": [
    "TABLE"
   ]
  },
  {
   "cell_type": "markdown",
   "id": "a079b6e4-66ac-4169-8d5b-044409e77022",
   "metadata": {},
   "source": [
    "## Now let's seperate them like the first one."
   ]
  },
  {
   "cell_type": "code",
   "execution_count": 700,
   "id": "1ff938c5-3e80-47e4-b254-72e471c0e4a4",
   "metadata": {},
   "outputs": [],
   "source": [
    "\n",
    "for x in range(0,len(TABLE),9):\n",
    "    Sr_number.append(TABLE[x])\n",
    "    date.append(TABLE[x+1])\n",
    "    startup_name.append(TABLE[x+2])\n",
    "    Indistry_vertical.append(TABLE[x+3])\n",
    "    Indistry_sb_vertical.append(TABLE[x+4])\n",
    "    City_location.append(TABLE[x+5])\n",
    "    Inverstor_name.append(TABLE[x+6])\n",
    "    Investment.append(TABLE[x+7])\n",
    "    Amount.append(TABLE[x+8])"
   ]
  },
  {
   "cell_type": "code",
   "execution_count": 701,
   "id": "12f15d07-fdeb-4aa7-95ef-0def0b3fe47b",
   "metadata": {},
   "outputs": [
    {
     "data": {
      "text/plain": [
       "['1',\n",
       " '2',\n",
       " '3',\n",
       " '4',\n",
       " '5',\n",
       " '6',\n",
       " '7',\n",
       " '8',\n",
       " '9',\n",
       " '10',\n",
       " '1',\n",
       " '2',\n",
       " '3',\n",
       " '4',\n",
       " '5',\n",
       " '6',\n",
       " '7',\n",
       " '8',\n",
       " '9',\n",
       " '10',\n",
       " '1',\n",
       " '2',\n",
       " '3',\n",
       " '4',\n",
       " '5',\n",
       " '6',\n",
       " '7',\n",
       " '8',\n",
       " '9',\n",
       " '10']"
      ]
     },
     "execution_count": 701,
     "metadata": {},
     "output_type": "execute_result"
    }
   ],
   "source": [
    "Sr_number"
   ]
  },
  {
   "cell_type": "code",
   "execution_count": 703,
   "id": "79153a7f-5967-48e9-9b52-08b53bb0b2d3",
   "metadata": {},
   "outputs": [
    {
     "data": {
      "text/plain": [
       "30"
      ]
     },
     "execution_count": 703,
     "metadata": {},
     "output_type": "execute_result"
    }
   ],
   "source": [
    "len(Sr_number)"
   ]
  },
  {
   "cell_type": "markdown",
   "id": "0ba26153-6df5-42b0-bcea-792add82fd0a",
   "metadata": {},
   "source": [
    "### Now make a data frame with these details."
   ]
  },
  {
   "cell_type": "code",
   "execution_count": 706,
   "id": "def9c652-3b96-48c5-ae9a-a9d45c0d30ad",
   "metadata": {},
   "outputs": [],
   "source": [
    "Deals_data = pd.DataFrame({})"
   ]
  },
  {
   "cell_type": "code",
   "execution_count": 707,
   "id": "8545c404-b761-4810-bf79-0e2fdfd876e4",
   "metadata": {},
   "outputs": [],
   "source": [
    "Deals_data['Sr.No'] = Sr_number\n",
    "Deals_data['Deal_Date'] = date \n",
    "Deals_data['Startup_Name'] =startup_name\n",
    "Deals_data['Indistry_Vertical'] = Indistry_vertical\n",
    "Deals_data['Indistry_Sub_Vertical'] =Indistry_sb_vertical\n",
    "Deals_data['City_location'] =City_location \n",
    "Deals_data['Inverstor_Name'] = Inverstor_name\n",
    "Deals_data['Investment'] = Investment\n",
    "Deals_data['Amount'] = Amount"
   ]
  },
  {
   "cell_type": "code",
   "execution_count": 708,
   "id": "d5579b61-8a13-4d93-bbb4-6c084f7c765d",
   "metadata": {},
   "outputs": [
    {
     "data": {
      "text/html": [
       "<div>\n",
       "<style scoped>\n",
       "    .dataframe tbody tr th:only-of-type {\n",
       "        vertical-align: middle;\n",
       "    }\n",
       "\n",
       "    .dataframe tbody tr th {\n",
       "        vertical-align: top;\n",
       "    }\n",
       "\n",
       "    .dataframe thead th {\n",
       "        text-align: right;\n",
       "    }\n",
       "</style>\n",
       "<table border=\"1\" class=\"dataframe\">\n",
       "  <thead>\n",
       "    <tr style=\"text-align: right;\">\n",
       "      <th></th>\n",
       "      <th>Sr.No</th>\n",
       "      <th>Deal_Date</th>\n",
       "      <th>Startup_Name</th>\n",
       "      <th>Indistry_Vertical</th>\n",
       "      <th>Indistry_Sub_Vertical</th>\n",
       "      <th>City_location</th>\n",
       "      <th>Inverstor_Name</th>\n",
       "      <th>Investment</th>\n",
       "      <th>Amount</th>\n",
       "    </tr>\n",
       "  </thead>\n",
       "  <tbody>\n",
       "    <tr>\n",
       "      <th>0</th>\n",
       "      <td>1</td>\n",
       "      <td>15/07/2020</td>\n",
       "      <td>Flipkart</td>\n",
       "      <td>E-commerce</td>\n",
       "      <td>E-commerce</td>\n",
       "      <td>Bangalore</td>\n",
       "      <td>Walmart Inc</td>\n",
       "      <td>M&amp;A</td>\n",
       "      <td>1,200,000,000</td>\n",
       "    </tr>\n",
       "    <tr>\n",
       "      <th>1</th>\n",
       "      <td>2</td>\n",
       "      <td>16/07/2020</td>\n",
       "      <td>Vedantu</td>\n",
       "      <td>EduTech</td>\n",
       "      <td>Online Tutoring</td>\n",
       "      <td>Bangalore</td>\n",
       "      <td>Coatue Management</td>\n",
       "      <td>Series D</td>\n",
       "      <td>100,000,000</td>\n",
       "    </tr>\n",
       "    <tr>\n",
       "      <th>2</th>\n",
       "      <td>3</td>\n",
       "      <td>16/07/2020</td>\n",
       "      <td>Crio</td>\n",
       "      <td>EduTech</td>\n",
       "      <td>Learning Platform for Developers</td>\n",
       "      <td>Bangalore</td>\n",
       "      <td>021 Capital</td>\n",
       "      <td>pre-Series A</td>\n",
       "      <td>934,160</td>\n",
       "    </tr>\n",
       "    <tr>\n",
       "      <th>3</th>\n",
       "      <td>4</td>\n",
       "      <td>14/07/2020</td>\n",
       "      <td>goDutch</td>\n",
       "      <td>FinTech</td>\n",
       "      <td>Group Payments</td>\n",
       "      <td>Mumbai</td>\n",
       "      <td>Matrix India,Y Combinator, Global Founders Cap...</td>\n",
       "      <td>Seed</td>\n",
       "      <td>1,700,000</td>\n",
       "    </tr>\n",
       "    <tr>\n",
       "      <th>4</th>\n",
       "      <td>5</td>\n",
       "      <td>13/07/2020</td>\n",
       "      <td>Mystifly</td>\n",
       "      <td>Airfare Marketplace</td>\n",
       "      <td>Ticketing, Airline Retailing, and Post-Ticketi...</td>\n",
       "      <td>Singapore and Bangalore</td>\n",
       "      <td>Recruit Co. Ltd.</td>\n",
       "      <td>pre-Series B</td>\n",
       "      <td>3,300,000</td>\n",
       "    </tr>\n",
       "    <tr>\n",
       "      <th>5</th>\n",
       "      <td>6</td>\n",
       "      <td>09/07/2020</td>\n",
       "      <td>JetSynthesys</td>\n",
       "      <td>Gaming and Entertainment</td>\n",
       "      <td>Gaming and Entertainment</td>\n",
       "      <td>Pune</td>\n",
       "      <td>Adar Poonawalla and Kris Gopalakrishnan.</td>\n",
       "      <td>Venture-Series Unknown</td>\n",
       "      <td>400,000</td>\n",
       "    </tr>\n",
       "    <tr>\n",
       "      <th>6</th>\n",
       "      <td>7</td>\n",
       "      <td>10/07/2020</td>\n",
       "      <td>gigIndia</td>\n",
       "      <td>Marketplace</td>\n",
       "      <td>Crowd Sourcing, Freelance</td>\n",
       "      <td>Pune</td>\n",
       "      <td>Incubate Fund India and Beyond Next Ventures</td>\n",
       "      <td>pre-Series A</td>\n",
       "      <td>974,200</td>\n",
       "    </tr>\n",
       "    <tr>\n",
       "      <th>7</th>\n",
       "      <td>8</td>\n",
       "      <td>15/07/2020</td>\n",
       "      <td>PumPumPum</td>\n",
       "      <td>Automotive Rental</td>\n",
       "      <td>Used Car-leasing platform</td>\n",
       "      <td>Gurgaon</td>\n",
       "      <td>Early Adapters Syndicate</td>\n",
       "      <td>Seed</td>\n",
       "      <td>292,800</td>\n",
       "    </tr>\n",
       "    <tr>\n",
       "      <th>8</th>\n",
       "      <td>9</td>\n",
       "      <td>14/07/2020</td>\n",
       "      <td>FLYX</td>\n",
       "      <td>OTT Player</td>\n",
       "      <td>Streaming Social Network</td>\n",
       "      <td>New York and Delhi</td>\n",
       "      <td>Raj Mishra, founder of AIT Global Inc</td>\n",
       "      <td>pre-Seed</td>\n",
       "      <td>200,000</td>\n",
       "    </tr>\n",
       "    <tr>\n",
       "      <th>9</th>\n",
       "      <td>10</td>\n",
       "      <td>13/07/2020</td>\n",
       "      <td>Open Appliances Pvt. Ltd.</td>\n",
       "      <td>Information Technology</td>\n",
       "      <td>Internet-of-Things Security Solutions</td>\n",
       "      <td>Bangalore</td>\n",
       "      <td>Unicorn India Ventures</td>\n",
       "      <td>Venture-Series Unknown</td>\n",
       "      <td>500,000</td>\n",
       "    </tr>\n",
       "    <tr>\n",
       "      <th>10</th>\n",
       "      <td>1</td>\n",
       "      <td>15/08/2020</td>\n",
       "      <td>Practo</td>\n",
       "      <td>HealthTech</td>\n",
       "      <td>Health care and Wellness</td>\n",
       "      <td>Bangalore</td>\n",
       "      <td>A1A Company</td>\n",
       "      <td>Series F</td>\n",
       "      <td>32,000,000</td>\n",
       "    </tr>\n",
       "    <tr>\n",
       "      <th>11</th>\n",
       "      <td>2</td>\n",
       "      <td>13/08/2020</td>\n",
       "      <td>Medlife</td>\n",
       "      <td>E-commerce</td>\n",
       "      <td>Online Pharmacy</td>\n",
       "      <td>Bangalore</td>\n",
       "      <td>Prasid Uno Family Trust and SC Credit Fund</td>\n",
       "      <td></td>\n",
       "      <td>23,000,000</td>\n",
       "    </tr>\n",
       "    <tr>\n",
       "      <th>12</th>\n",
       "      <td>3</td>\n",
       "      <td>13/08/2020</td>\n",
       "      <td>HungerBox</td>\n",
       "      <td>FoodTech</td>\n",
       "      <td>Online Food Delivery Service</td>\n",
       "      <td>Bangalore</td>\n",
       "      <td>One97, Sabre Partners Trust, Pratithi Investme...</td>\n",
       "      <td>Series D1</td>\n",
       "      <td>1,560,000</td>\n",
       "    </tr>\n",
       "    <tr>\n",
       "      <th>13</th>\n",
       "      <td>4</td>\n",
       "      <td>04/08/2020</td>\n",
       "      <td>Dunzo</td>\n",
       "      <td>Hyper-local Logistics</td>\n",
       "      <td>Online Delivery Services</td>\n",
       "      <td>Bangalore</td>\n",
       "      <td>Existing Backers</td>\n",
       "      <td>In Progress</td>\n",
       "      <td>30,000,000</td>\n",
       "    </tr>\n",
       "    <tr>\n",
       "      <th>14</th>\n",
       "      <td>5</td>\n",
       "      <td>11/08/2020</td>\n",
       "      <td>Terra.do</td>\n",
       "      <td>EduTech</td>\n",
       "      <td>Online Climate School, E-learning</td>\n",
       "      <td>Stanford, California,</td>\n",
       "      <td>Stanford Angels and Entrepreneurs (India), BEE...</td>\n",
       "      <td>Seed</td>\n",
       "      <td>1,400,000</td>\n",
       "    </tr>\n",
       "    <tr>\n",
       "      <th>15</th>\n",
       "      <td>6</td>\n",
       "      <td>12/08/2020</td>\n",
       "      <td>Classplus</td>\n",
       "      <td>EduTech</td>\n",
       "      <td>E-learning, Online Tutoring</td>\n",
       "      <td>Noida</td>\n",
       "      <td>Falcon Edge</td>\n",
       "      <td>In Progress</td>\n",
       "      <td>upto 15,000,000</td>\n",
       "    </tr>\n",
       "    <tr>\n",
       "      <th>16</th>\n",
       "      <td>7</td>\n",
       "      <td>14/08/2020</td>\n",
       "      <td>Niyo</td>\n",
       "      <td>FinTech</td>\n",
       "      <td>Financial Services</td>\n",
       "      <td>Bangalore</td>\n",
       "      <td>Niyo Solutions Inc.</td>\n",
       "      <td></td>\n",
       "      <td>6,000,000</td>\n",
       "    </tr>\n",
       "    <tr>\n",
       "      <th>17</th>\n",
       "      <td>8</td>\n",
       "      <td>10/08/2020</td>\n",
       "      <td>ZestMoney</td>\n",
       "      <td>FinTech</td>\n",
       "      <td>Financial Services</td>\n",
       "      <td>Bangalore</td>\n",
       "      <td>Primrose Hills Ventures</td>\n",
       "      <td></td>\n",
       "      <td>10,670,000</td>\n",
       "    </tr>\n",
       "    <tr>\n",
       "      <th>18</th>\n",
       "      <td>9</td>\n",
       "      <td>07/08/2020</td>\n",
       "      <td>FreshToHome</td>\n",
       "      <td>E-commerce</td>\n",
       "      <td>Food Delivery</td>\n",
       "      <td>Bangalore</td>\n",
       "      <td>Ascent Capital</td>\n",
       "      <td>Venture</td>\n",
       "      <td>16,200,000</td>\n",
       "    </tr>\n",
       "    <tr>\n",
       "      <th>19</th>\n",
       "      <td>10</td>\n",
       "      <td>13/08/2020</td>\n",
       "      <td>Eduvanz</td>\n",
       "      <td>FinTech</td>\n",
       "      <td>Financial Services</td>\n",
       "      <td>Mumbai</td>\n",
       "      <td>Sequoia India, Unitus</td>\n",
       "      <td>Series A</td>\n",
       "      <td>5,000,000</td>\n",
       "    </tr>\n",
       "    <tr>\n",
       "      <th>20</th>\n",
       "      <td>1</td>\n",
       "      <td>08/09/2020</td>\n",
       "      <td>Byju’s</td>\n",
       "      <td>EduTech</td>\n",
       "      <td>Online Tutoring</td>\n",
       "      <td>Bangalore</td>\n",
       "      <td>Silver Lake, Tiger Global, General Atlantic an...</td>\n",
       "      <td>Private Equity</td>\n",
       "      <td>500,000,000</td>\n",
       "    </tr>\n",
       "    <tr>\n",
       "      <th>21</th>\n",
       "      <td>2</td>\n",
       "      <td>12/09/2020</td>\n",
       "      <td>mCaffeine</td>\n",
       "      <td>Personal Care</td>\n",
       "      <td>Skincare &amp; Haircare</td>\n",
       "      <td>Mumbai</td>\n",
       "      <td>Amicus Capital Private Equity I LLP, Amicus Ca...</td>\n",
       "      <td>Series B</td>\n",
       "      <td>3,000,000</td>\n",
       "    </tr>\n",
       "    <tr>\n",
       "      <th>22</th>\n",
       "      <td>3</td>\n",
       "      <td>09/09/2020</td>\n",
       "      <td>Qshala</td>\n",
       "      <td>EduTech</td>\n",
       "      <td>Online Curiosity Platform for Kids</td>\n",
       "      <td>Bangalore</td>\n",
       "      <td>Rainmatter Capital</td>\n",
       "      <td>Angel</td>\n",
       "      <td>370,000</td>\n",
       "    </tr>\n",
       "    <tr>\n",
       "      <th>23</th>\n",
       "      <td>4</td>\n",
       "      <td>02/09/2020</td>\n",
       "      <td>Winzo</td>\n",
       "      <td>Online Gaming</td>\n",
       "      <td>Online Gaming</td>\n",
       "      <td>New Delhi</td>\n",
       "      <td>Kalaari Capital Partners, IndigoEdge Managemen...</td>\n",
       "      <td>Series B</td>\n",
       "      <td>15,500,000</td>\n",
       "    </tr>\n",
       "    <tr>\n",
       "      <th>24</th>\n",
       "      <td>5</td>\n",
       "      <td>09/09/2020</td>\n",
       "      <td>Hippo Video</td>\n",
       "      <td>Video Customer Experience(CX) Platform</td>\n",
       "      <td>Video Customer Experience(CX) Platform</td>\n",
       "      <td>Newark, Delaware, United States of Amercia</td>\n",
       "      <td>Alpha Wave Incubation, Exfinity Venture Partne...</td>\n",
       "      <td>Series A</td>\n",
       "      <td>4,500,000</td>\n",
       "    </tr>\n",
       "    <tr>\n",
       "      <th>25</th>\n",
       "      <td>6</td>\n",
       "      <td>07/09/2020</td>\n",
       "      <td>Melorra</td>\n",
       "      <td>E-commerce</td>\n",
       "      <td>Online Jewelry Store</td>\n",
       "      <td>Bangalore</td>\n",
       "      <td>Shadow Holdings, Lightbox.</td>\n",
       "      <td>Debt Financing</td>\n",
       "      <td>upto 8,900,000</td>\n",
       "    </tr>\n",
       "    <tr>\n",
       "      <th>26</th>\n",
       "      <td>7</td>\n",
       "      <td>07/09/2020</td>\n",
       "      <td>1mg</td>\n",
       "      <td>E-commerce</td>\n",
       "      <td>Online Pharmacy</td>\n",
       "      <td>Gurgaon</td>\n",
       "      <td>Gaja Capital, Tata Capital, Partners Group</td>\n",
       "      <td>In Progress</td>\n",
       "      <td>100,000,000</td>\n",
       "    </tr>\n",
       "    <tr>\n",
       "      <th>27</th>\n",
       "      <td>8</td>\n",
       "      <td>31/08/2020</td>\n",
       "      <td>mfine</td>\n",
       "      <td>HealthTech</td>\n",
       "      <td>On-Demand Healthcare Services</td>\n",
       "      <td>Bangalore</td>\n",
       "      <td>Caretech Pte Inc</td>\n",
       "      <td>Series B</td>\n",
       "      <td>5,400,000</td>\n",
       "    </tr>\n",
       "    <tr>\n",
       "      <th>28</th>\n",
       "      <td>9</td>\n",
       "      <td>31/08/2020</td>\n",
       "      <td>Apna</td>\n",
       "      <td>Human Resources</td>\n",
       "      <td>Recruitment Platform</td>\n",
       "      <td>Bangalore</td>\n",
       "      <td>Lightspeed India and Sequoia Capital India</td>\n",
       "      <td>Series A</td>\n",
       "      <td>8,000,000</td>\n",
       "    </tr>\n",
       "    <tr>\n",
       "      <th>29</th>\n",
       "      <td>10</td>\n",
       "      <td>03/09/2020</td>\n",
       "      <td>Railofy</td>\n",
       "      <td>Transportation</td>\n",
       "      <td>WL &amp; RAC protection platform</td>\n",
       "      <td>Mumbai</td>\n",
       "      <td>Chiratae Ventures</td>\n",
       "      <td>Seed</td>\n",
       "      <td>950,000</td>\n",
       "    </tr>\n",
       "  </tbody>\n",
       "</table>\n",
       "</div>"
      ],
      "text/plain": [
       "   Sr.No   Deal_Date               Startup_Name  \\\n",
       "0      1  15/07/2020                   Flipkart   \n",
       "1      2  16/07/2020                    Vedantu   \n",
       "2      3  16/07/2020                       Crio   \n",
       "3      4  14/07/2020                    goDutch   \n",
       "4      5  13/07/2020                   Mystifly   \n",
       "5      6  09/07/2020               JetSynthesys   \n",
       "6      7  10/07/2020                   gigIndia   \n",
       "7      8  15/07/2020                  PumPumPum   \n",
       "8      9  14/07/2020                       FLYX   \n",
       "9     10  13/07/2020  Open Appliances Pvt. Ltd.   \n",
       "10     1  15/08/2020                     Practo   \n",
       "11     2  13/08/2020                    Medlife   \n",
       "12     3  13/08/2020                  HungerBox   \n",
       "13     4  04/08/2020                      Dunzo   \n",
       "14     5  11/08/2020                   Terra.do   \n",
       "15     6  12/08/2020                  Classplus   \n",
       "16     7  14/08/2020                       Niyo   \n",
       "17     8  10/08/2020                  ZestMoney   \n",
       "18     9  07/08/2020                FreshToHome   \n",
       "19    10  13/08/2020                    Eduvanz   \n",
       "20     1  08/09/2020                     Byju’s   \n",
       "21     2  12/09/2020                  mCaffeine   \n",
       "22     3  09/09/2020                     Qshala   \n",
       "23     4  02/09/2020                      Winzo   \n",
       "24     5  09/09/2020                Hippo Video   \n",
       "25     6  07/09/2020                    Melorra   \n",
       "26     7  07/09/2020                        1mg   \n",
       "27     8  31/08/2020                      mfine   \n",
       "28     9  31/08/2020                       Apna   \n",
       "29    10  03/09/2020                    Railofy   \n",
       "\n",
       "                         Indistry_Vertical  \\\n",
       "0                               E-commerce   \n",
       "1                                  EduTech   \n",
       "2                                  EduTech   \n",
       "3                                  FinTech   \n",
       "4                      Airfare Marketplace   \n",
       "5                 Gaming and Entertainment   \n",
       "6                              Marketplace   \n",
       "7                        Automotive Rental   \n",
       "8                               OTT Player   \n",
       "9                   Information Technology   \n",
       "10                              HealthTech   \n",
       "11                              E-commerce   \n",
       "12                                FoodTech   \n",
       "13                   Hyper-local Logistics   \n",
       "14                                 EduTech   \n",
       "15                                 EduTech   \n",
       "16                                 FinTech   \n",
       "17                                 FinTech   \n",
       "18                              E-commerce   \n",
       "19                                 FinTech   \n",
       "20                                 EduTech   \n",
       "21                           Personal Care   \n",
       "22                                 EduTech   \n",
       "23                           Online Gaming   \n",
       "24  Video Customer Experience(CX) Platform   \n",
       "25                              E-commerce   \n",
       "26                              E-commerce   \n",
       "27                              HealthTech   \n",
       "28                         Human Resources   \n",
       "29                          Transportation   \n",
       "\n",
       "                                Indistry_Sub_Vertical  \\\n",
       "0                                          E-commerce   \n",
       "1                                     Online Tutoring   \n",
       "2                    Learning Platform for Developers   \n",
       "3                                      Group Payments   \n",
       "4   Ticketing, Airline Retailing, and Post-Ticketi...   \n",
       "5                            Gaming and Entertainment   \n",
       "6                           Crowd Sourcing, Freelance   \n",
       "7                           Used Car-leasing platform   \n",
       "8                            Streaming Social Network   \n",
       "9               Internet-of-Things Security Solutions   \n",
       "10                           Health care and Wellness   \n",
       "11                                    Online Pharmacy   \n",
       "12                       Online Food Delivery Service   \n",
       "13                           Online Delivery Services   \n",
       "14                  Online Climate School, E-learning   \n",
       "15                        E-learning, Online Tutoring   \n",
       "16                                 Financial Services   \n",
       "17                                 Financial Services   \n",
       "18                                      Food Delivery   \n",
       "19                                 Financial Services   \n",
       "20                                    Online Tutoring   \n",
       "21                                Skincare & Haircare   \n",
       "22                 Online Curiosity Platform for Kids   \n",
       "23                                      Online Gaming   \n",
       "24             Video Customer Experience(CX) Platform   \n",
       "25                               Online Jewelry Store   \n",
       "26                                    Online Pharmacy   \n",
       "27                      On-Demand Healthcare Services   \n",
       "28                               Recruitment Platform   \n",
       "29                       WL & RAC protection platform   \n",
       "\n",
       "                                 City_location  \\\n",
       "0                                    Bangalore   \n",
       "1                                    Bangalore   \n",
       "2                                    Bangalore   \n",
       "3                                       Mumbai   \n",
       "4                      Singapore and Bangalore   \n",
       "5                                         Pune   \n",
       "6                                         Pune   \n",
       "7                                      Gurgaon   \n",
       "8                           New York and Delhi   \n",
       "9                                    Bangalore   \n",
       "10                                   Bangalore   \n",
       "11                                   Bangalore   \n",
       "12                                   Bangalore   \n",
       "13                                   Bangalore   \n",
       "14                       Stanford, California,   \n",
       "15                                       Noida   \n",
       "16                                   Bangalore   \n",
       "17                                   Bangalore   \n",
       "18                                   Bangalore   \n",
       "19                                      Mumbai   \n",
       "20                                   Bangalore   \n",
       "21                                      Mumbai   \n",
       "22                                   Bangalore   \n",
       "23                                   New Delhi   \n",
       "24  Newark, Delaware, United States of Amercia   \n",
       "25                                   Bangalore   \n",
       "26                                     Gurgaon   \n",
       "27                                   Bangalore   \n",
       "28                                   Bangalore   \n",
       "29                                      Mumbai   \n",
       "\n",
       "                                       Inverstor_Name              Investment  \\\n",
       "0                                         Walmart Inc                     M&A   \n",
       "1                                   Coatue Management                Series D   \n",
       "2                                         021 Capital            pre-Series A   \n",
       "3   Matrix India,Y Combinator, Global Founders Cap...                    Seed   \n",
       "4                                    Recruit Co. Ltd.            pre-Series B   \n",
       "5            Adar Poonawalla and Kris Gopalakrishnan.  Venture-Series Unknown   \n",
       "6        Incubate Fund India and Beyond Next Ventures            pre-Series A   \n",
       "7                            Early Adapters Syndicate                    Seed   \n",
       "8               Raj Mishra, founder of AIT Global Inc                pre-Seed   \n",
       "9                              Unicorn India Ventures  Venture-Series Unknown   \n",
       "10                                        A1A Company                Series F   \n",
       "11         Prasid Uno Family Trust and SC Credit Fund                           \n",
       "12  One97, Sabre Partners Trust, Pratithi Investme...               Series D1   \n",
       "13                                   Existing Backers             In Progress   \n",
       "14  Stanford Angels and Entrepreneurs (India), BEE...                    Seed   \n",
       "15                                        Falcon Edge             In Progress   \n",
       "16                                Niyo Solutions Inc.                           \n",
       "17                            Primrose Hills Ventures                           \n",
       "18                                     Ascent Capital                 Venture   \n",
       "19                              Sequoia India, Unitus                Series A   \n",
       "20  Silver Lake, Tiger Global, General Atlantic an...          Private Equity   \n",
       "21  Amicus Capital Private Equity I LLP, Amicus Ca...                Series B   \n",
       "22                                 Rainmatter Capital                   Angel   \n",
       "23  Kalaari Capital Partners, IndigoEdge Managemen...                Series B   \n",
       "24  Alpha Wave Incubation, Exfinity Venture Partne...                Series A   \n",
       "25                         Shadow Holdings, Lightbox.          Debt Financing   \n",
       "26         Gaja Capital, Tata Capital, Partners Group             In Progress   \n",
       "27                                   Caretech Pte Inc                Series B   \n",
       "28         Lightspeed India and Sequoia Capital India                Series A   \n",
       "29                                  Chiratae Ventures                    Seed   \n",
       "\n",
       "             Amount  \n",
       "0     1,200,000,000  \n",
       "1       100,000,000  \n",
       "2           934,160  \n",
       "3         1,700,000  \n",
       "4         3,300,000  \n",
       "5           400,000  \n",
       "6           974,200  \n",
       "7           292,800  \n",
       "8           200,000  \n",
       "9           500,000  \n",
       "10       32,000,000  \n",
       "11       23,000,000  \n",
       "12        1,560,000  \n",
       "13       30,000,000  \n",
       "14        1,400,000  \n",
       "15  upto 15,000,000  \n",
       "16        6,000,000  \n",
       "17       10,670,000  \n",
       "18       16,200,000  \n",
       "19        5,000,000  \n",
       "20      500,000,000  \n",
       "21        3,000,000  \n",
       "22          370,000  \n",
       "23       15,500,000  \n",
       "24        4,500,000  \n",
       "25   upto 8,900,000  \n",
       "26      100,000,000  \n",
       "27        5,400,000  \n",
       "28        8,000,000  \n",
       "29          950,000  "
      ]
     },
     "execution_count": 708,
     "metadata": {},
     "output_type": "execute_result"
    }
   ],
   "source": [
    "Deals_data "
   ]
  },
  {
   "cell_type": "markdown",
   "id": "70c84228-1cec-404e-a289-9d92394cb9d4",
   "metadata": {},
   "source": [
    "#### ***************************************************\n",
    "#### ***************************************************"
   ]
  },
  {
   "cell_type": "code",
   "execution_count": null,
   "id": "b2a82ae8-3ed2-49f3-bde8-7a355fb20c62",
   "metadata": {},
   "outputs": [],
   "source": []
  },
  {
   "cell_type": "markdown",
   "id": "adf87426-915f-4a5b-a8bc-0303c0396b19",
   "metadata": {},
   "source": [
    "## __7. Write a program to scrap all the available details of best gaming laptops from digit.in.__"
   ]
  },
  {
   "cell_type": "code",
   "execution_count": 950,
   "id": "33147117-d9fc-4707-80f5-fd01b7687881",
   "metadata": {},
   "outputs": [],
   "source": [
    "driver = webdriver.Chrome('/Users/olivierla412/Desktop/chromedriver')"
   ]
  },
  {
   "cell_type": "code",
   "execution_count": 761,
   "id": "78844f0c-fe51-44b4-9c51-6c0a6a66b7a3",
   "metadata": {},
   "outputs": [],
   "source": [
    "\n",
    "from selenium.webdriver.common.keys import Keys"
   ]
  },
  {
   "cell_type": "code",
   "execution_count": 830,
   "id": "b593f164-8955-423d-92d9-046a91f73dc0",
   "metadata": {},
   "outputs": [
    {
     "data": {
      "text/html": [
       "<div>\n",
       "<style scoped>\n",
       "    .dataframe tbody tr th:only-of-type {\n",
       "        vertical-align: middle;\n",
       "    }\n",
       "\n",
       "    .dataframe tbody tr th {\n",
       "        vertical-align: top;\n",
       "    }\n",
       "\n",
       "    .dataframe thead th {\n",
       "        text-align: right;\n",
       "    }\n",
       "</style>\n",
       "<table border=\"1\" class=\"dataframe\">\n",
       "  <thead>\n",
       "    <tr style=\"text-align: right;\">\n",
       "      <th></th>\n",
       "      <th>Labtop_Desc</th>\n",
       "    </tr>\n",
       "  </thead>\n",
       "  <tbody>\n",
       "    <tr>\n",
       "      <th>0</th>\n",
       "      <td>Best Budget Gaming Laptop</td>\n",
       "    </tr>\n",
       "    <tr>\n",
       "      <th>1</th>\n",
       "      <td>Best Gaming Laptops in India</td>\n",
       "    </tr>\n",
       "    <tr>\n",
       "      <th>2</th>\n",
       "      <td>Best Gaming Laptops Under Rs 50,000</td>\n",
       "    </tr>\n",
       "    <tr>\n",
       "      <th>3</th>\n",
       "      <td>Best Budget Laptops for Students</td>\n",
       "    </tr>\n",
       "    <tr>\n",
       "      <th>4</th>\n",
       "      <td>Best Gaming PC in India</td>\n",
       "    </tr>\n",
       "    <tr>\n",
       "      <th>5</th>\n",
       "      <td>Best Laptops Under 50000</td>\n",
       "    </tr>\n",
       "    <tr>\n",
       "      <th>6</th>\n",
       "      <td>Best Laptops Under 30000 in India</td>\n",
       "    </tr>\n",
       "    <tr>\n",
       "      <th>7</th>\n",
       "      <td>Best Budget Laptops in India</td>\n",
       "    </tr>\n",
       "    <tr>\n",
       "      <th>8</th>\n",
       "      <td>Best Touch Screen Laptops</td>\n",
       "    </tr>\n",
       "    <tr>\n",
       "      <th>9</th>\n",
       "      <td>Best 16GB RAM Laptops</td>\n",
       "    </tr>\n",
       "  </tbody>\n",
       "</table>\n",
       "</div>"
      ],
      "text/plain": [
       "                           Labtop_Desc\n",
       "0            Best Budget Gaming Laptop\n",
       "1         Best Gaming Laptops in India\n",
       "2  Best Gaming Laptops Under Rs 50,000\n",
       "3     Best Budget Laptops for Students\n",
       "4              Best Gaming PC in India\n",
       "5             Best Laptops Under 50000\n",
       "6    Best Laptops Under 30000 in India\n",
       "7         Best Budget Laptops in India\n",
       "8            Best Touch Screen Laptops\n",
       "9                Best 16GB RAM Laptops"
      ]
     },
     "execution_count": 830,
     "metadata": {},
     "output_type": "execute_result"
    }
   ],
   "source": [
    "## Fetching the website url\n",
    "url_lab = 'https://digit.in'\n",
    "driver.get(url= url_lab)\n",
    "time.sleep(2)\n",
    "search_area = driver.find_element_by_xpath('/html/body/div[1]/div[2]/div[3]/div[2]')\n",
    "search_area.click()\n",
    "time.sleep(2)\n",
    "input_searchs = driver.find_element_by_xpath('//input[@id=\"globalPageSearchText\"]')\n",
    "input_searchs.send_keys('best gaming laptops')\n",
    "time.sleep(2)\n",
    "input_searchs.send_keys(Keys.ENTER)\n",
    "time.sleep(2)\n",
    "top10_button = driver.find_element_by_xpath('/html/body/div[6]/div[2]/div[1]/div/form/ul/li[5]/label/input')\n",
    "top10_button.click()\n",
    "time.sleep(3)\n",
    "labtop_desc = []\n",
    "desc=driver.find_elements_by_xpath('//div[@class=\"searchProduct-desc\"]')  #for scrapping labtop description\n",
    "for i in desc:\n",
    "    labtop_desc.append(i.text)\n",
    "data = pd.DataFrame({})\n",
    "data['Labtop_Desc'] = labtop_desc\n",
    "data"
   ]
  },
  {
   "cell_type": "markdown",
   "id": "06421219-8f53-4e46-a7d8-b4b86d405cb7",
   "metadata": {},
   "source": [
    "### ***************************************************************\n",
    "### ***************************************************************\n"
   ]
  },
  {
   "cell_type": "markdown",
   "id": "f4882925-33e3-478a-922f-6763d7f3c5bf",
   "metadata": {},
   "source": [
    "## Q8. Write a python program to scrape the details for all billionaires from www.forbes.com.\n",
    "## Details to be scrapped: “Rank”, “Name”, “Net worth”, “Age”, “Citizenship”, “Source”,“Industry”."
   ]
  },
  {
   "cell_type": "code",
   "execution_count": 936,
   "id": "6f6f73c7-e17b-41c9-b99d-a51f176ad155",
   "metadata": {},
   "outputs": [],
   "source": []
  },
  {
   "cell_type": "code",
   "execution_count": 965,
   "id": "470ab31a-140a-4094-97fa-af59440f7870",
   "metadata": {},
   "outputs": [],
   "source": [
    "## fetching the website\n",
    "driver.get('https://www.forbes.com')"
   ]
  },
  {
   "cell_type": "code",
   "execution_count": 967,
   "id": "d715eae4-0b11-45b7-ad47-c7ca26ad93bb",
   "metadata": {},
   "outputs": [],
   "source": [
    "side_bar = driver.find_element_by_xpath('/html/body/div[1]/header/nav/div[1]/button[1]')\n",
    "side_bar.click()\n",
    "time.sleep(2)\n",
    "billionaire = driver.find_element_by_xpath('/html/body/div[1]/header/nav/div[3]/ul/li[1]')\n",
    "billionaire.click()\n",
    "time.sleep(2)\n",
    "## fetching the website\n",
    "world_billionaire = driver.find_element_by_xpath('/html/body/div[1]/header/nav/div[3]/ul/li[1]/div[2]/ul/li[2]/a')\n",
    "main_url = world_billionaire.get_property('href')\n",
    "driver.get(main_url)\n"
   ]
  },
  {
   "cell_type": "code",
   "execution_count": 969,
   "id": "d86c3965-1860-453c-b394-6a40c97583ba",
   "metadata": {},
   "outputs": [],
   "source": [
    "man_div = driver.find_elements_by_xpath('//div[@role=\"row\"]')"
   ]
  },
  {
   "cell_type": "code",
   "execution_count": 977,
   "id": "c0f98646-0d5c-4fec-9d8a-d930383b215e",
   "metadata": {},
   "outputs": [
    {
     "data": {
      "text/plain": [
       "'30.\\nMichael Dell\\n$45.1 B\\n56\\nUnited States\\nDell computers\\nTechnology'"
      ]
     },
     "execution_count": 977,
     "metadata": {},
     "output_type": "execute_result"
    }
   ],
   "source": [
    "## i got all the detail, we can see from the below verification\n",
    "\n",
    "man_div[30].text"
   ]
  },
  {
   "cell_type": "markdown",
   "id": "fd98c3c1-d4e6-4616-845e-59c52912ae4a",
   "metadata": {},
   "source": [
    "### We Will loop and strings manipulation to clean and arranged it in a table foramt"
   ]
  },
  {
   "cell_type": "code",
   "execution_count": 1033,
   "id": "20f3ba17-235a-4fca-a01c-1e22eb6a0a33",
   "metadata": {},
   "outputs": [],
   "source": [
    "## declaration of empty lists\n",
    "Rank= []\n",
    "Name=[]\n",
    "Net_worth =[]\n",
    "Age =[]\n",
    "Citizenship=[]\n",
    "Source =[]\n",
    "Industry =[]\n",
    "for i in range(1,len(man_div)):\n",
    "    items = man_div[i].text\n",
    "    y= items.split(sep=\"\\n\",maxsplit=6)\n",
    "    \n",
    "    Rank.append(y[0])\n",
    "    Name.append(y[1])\n",
    "    Net_worth.append(y[2])\n",
    "    Age.append(y[3])\n",
    "    Citizenship.append(y[4])\n",
    "    Source.append(y[5])\n",
    "    Industry.append(y[6])\n",
    "    items =''\n",
    "    y =[]\n",
    "\n",
    "data_billionaire = pd.DataFrame({\n",
    "    'Rank':Rank,\n",
    "        'Name':Name,\n",
    "        'Net worth':Net_worth,\n",
    "        'Age':Age,\n",
    "        'Citizenship':Citizenship,\n",
    "        'Source':Source,\n",
    "        'Industry':Industry\n",
    "  })"
   ]
  },
  {
   "cell_type": "code",
   "execution_count": 1034,
   "id": "8005b10d-27ef-453c-a81c-953ab26ba752",
   "metadata": {},
   "outputs": [
    {
     "data": {
      "text/html": [
       "<div>\n",
       "<style scoped>\n",
       "    .dataframe tbody tr th:only-of-type {\n",
       "        vertical-align: middle;\n",
       "    }\n",
       "\n",
       "    .dataframe tbody tr th {\n",
       "        vertical-align: top;\n",
       "    }\n",
       "\n",
       "    .dataframe thead th {\n",
       "        text-align: right;\n",
       "    }\n",
       "</style>\n",
       "<table border=\"1\" class=\"dataframe\">\n",
       "  <thead>\n",
       "    <tr style=\"text-align: right;\">\n",
       "      <th></th>\n",
       "      <th>Rank</th>\n",
       "      <th>Name</th>\n",
       "      <th>Net worth</th>\n",
       "      <th>Age</th>\n",
       "      <th>Citizenship</th>\n",
       "      <th>Source</th>\n",
       "      <th>Industry</th>\n",
       "    </tr>\n",
       "  </thead>\n",
       "  <tbody>\n",
       "    <tr>\n",
       "      <th>0</th>\n",
       "      <td>1.</td>\n",
       "      <td>Jeff Bezos</td>\n",
       "      <td>$177 B</td>\n",
       "      <td>57</td>\n",
       "      <td>United States</td>\n",
       "      <td>Amazon</td>\n",
       "      <td>Technology</td>\n",
       "    </tr>\n",
       "    <tr>\n",
       "      <th>1</th>\n",
       "      <td>2.</td>\n",
       "      <td>Elon Musk</td>\n",
       "      <td>$151 B</td>\n",
       "      <td>49</td>\n",
       "      <td>United States</td>\n",
       "      <td>Tesla, SpaceX</td>\n",
       "      <td>Automotive</td>\n",
       "    </tr>\n",
       "    <tr>\n",
       "      <th>2</th>\n",
       "      <td>3.</td>\n",
       "      <td>Bernard Arnault &amp; family</td>\n",
       "      <td>$150 B</td>\n",
       "      <td>72</td>\n",
       "      <td>France</td>\n",
       "      <td>LVMH</td>\n",
       "      <td>Fashion &amp; Retail</td>\n",
       "    </tr>\n",
       "    <tr>\n",
       "      <th>3</th>\n",
       "      <td>4.</td>\n",
       "      <td>Bill Gates</td>\n",
       "      <td>$124 B</td>\n",
       "      <td>65</td>\n",
       "      <td>United States</td>\n",
       "      <td>Microsoft</td>\n",
       "      <td>Technology</td>\n",
       "    </tr>\n",
       "    <tr>\n",
       "      <th>4</th>\n",
       "      <td>5.</td>\n",
       "      <td>Mark Zuckerberg</td>\n",
       "      <td>$97 B</td>\n",
       "      <td>36</td>\n",
       "      <td>United States</td>\n",
       "      <td>Facebook</td>\n",
       "      <td>Technology</td>\n",
       "    </tr>\n",
       "    <tr>\n",
       "      <th>...</th>\n",
       "      <td>...</td>\n",
       "      <td>...</td>\n",
       "      <td>...</td>\n",
       "      <td>...</td>\n",
       "      <td>...</td>\n",
       "      <td>...</td>\n",
       "      <td>...</td>\n",
       "    </tr>\n",
       "    <tr>\n",
       "      <th>195</th>\n",
       "      <td>195.</td>\n",
       "      <td>Harry Triguboff</td>\n",
       "      <td>$11.2 B</td>\n",
       "      <td>88</td>\n",
       "      <td>Australia</td>\n",
       "      <td>real estate</td>\n",
       "      <td>Real Estate</td>\n",
       "    </tr>\n",
       "    <tr>\n",
       "      <th>196</th>\n",
       "      <td>197.</td>\n",
       "      <td>Leonid Fedun &amp; family</td>\n",
       "      <td>$11.1 B</td>\n",
       "      <td>65</td>\n",
       "      <td>Russia</td>\n",
       "      <td>oil</td>\n",
       "      <td>Energy</td>\n",
       "    </tr>\n",
       "    <tr>\n",
       "      <th>197</th>\n",
       "      <td>197.</td>\n",
       "      <td>Eyal Ofer</td>\n",
       "      <td>$11.1 B</td>\n",
       "      <td>70</td>\n",
       "      <td>Israel</td>\n",
       "      <td>real estate, shipping</td>\n",
       "      <td>Diversified</td>\n",
       "    </tr>\n",
       "    <tr>\n",
       "      <th>198</th>\n",
       "      <td>197.</td>\n",
       "      <td>Evan Spiegel</td>\n",
       "      <td>$11.1 B</td>\n",
       "      <td>30</td>\n",
       "      <td>United States</td>\n",
       "      <td>Snapchat</td>\n",
       "      <td>Technology</td>\n",
       "    </tr>\n",
       "    <tr>\n",
       "      <th>199</th>\n",
       "      <td>200.</td>\n",
       "      <td>Luis Carlos Sarmiento</td>\n",
       "      <td>$11 B</td>\n",
       "      <td>88</td>\n",
       "      <td>Colombia</td>\n",
       "      <td>banking</td>\n",
       "      <td>Finance &amp; Investments</td>\n",
       "    </tr>\n",
       "  </tbody>\n",
       "</table>\n",
       "<p>200 rows × 7 columns</p>\n",
       "</div>"
      ],
      "text/plain": [
       "     Rank                      Name Net worth Age    Citizenship  \\\n",
       "0      1.                Jeff Bezos    $177 B  57  United States   \n",
       "1      2.                 Elon Musk    $151 B  49  United States   \n",
       "2      3.  Bernard Arnault & family    $150 B  72         France   \n",
       "3      4.                Bill Gates    $124 B  65  United States   \n",
       "4      5.           Mark Zuckerberg     $97 B  36  United States   \n",
       "..    ...                       ...       ...  ..            ...   \n",
       "195  195.           Harry Triguboff   $11.2 B  88      Australia   \n",
       "196  197.     Leonid Fedun & family   $11.1 B  65         Russia   \n",
       "197  197.                 Eyal Ofer   $11.1 B  70         Israel   \n",
       "198  197.              Evan Spiegel   $11.1 B  30  United States   \n",
       "199  200.     Luis Carlos Sarmiento     $11 B  88       Colombia   \n",
       "\n",
       "                    Source               Industry  \n",
       "0                   Amazon             Technology  \n",
       "1            Tesla, SpaceX             Automotive  \n",
       "2                     LVMH       Fashion & Retail  \n",
       "3                Microsoft             Technology  \n",
       "4                 Facebook             Technology  \n",
       "..                     ...                    ...  \n",
       "195            real estate            Real Estate  \n",
       "196                    oil                 Energy  \n",
       "197  real estate, shipping            Diversified  \n",
       "198               Snapchat             Technology  \n",
       "199                banking  Finance & Investments  \n",
       "\n",
       "[200 rows x 7 columns]"
      ]
     },
     "execution_count": 1034,
     "metadata": {},
     "output_type": "execute_result"
    }
   ],
   "source": [
    "data_billionaire"
   ]
  },
  {
   "cell_type": "code",
   "execution_count": 1035,
   "id": "d7922f7f-110d-4acb-9d0c-b56a3ae4c4fe",
   "metadata": {},
   "outputs": [],
   "source": [
    "#driver.find_element_by_xpath(\"//option[@value='{}']\".format(str(state))).click()\n",
    "#your_needed_xpath = \"//*[contains(text(), '{}')]\".format(variable)\n",
    "#Syntax: driver.find_element_by_xpath(“//tag [contains( text(), ‘word’)]”)\n"
   ]
  },
  {
   "cell_type": "markdown",
   "id": "089b8d8b-73f7-47a0-9a03-3e171d1793a2",
   "metadata": {},
   "source": [
    "#### *****************************************************\n",
    "#### *****************************************************"
   ]
  },
  {
   "cell_type": "markdown",
   "id": "067e4fe7-496d-489a-9fd3-90e2950a3a6b",
   "metadata": {},
   "source": [
    "## Q9. Write a program to extract at least 500 Comments, \n",
    "## Comment upvote and time when comment was posted from any YouTube Video."
   ]
  },
  {
   "cell_type": "code",
   "execution_count": 1091,
   "id": "433d69ce-f71c-4514-8290-8304c721222c",
   "metadata": {},
   "outputs": [],
   "source": []
  },
  {
   "cell_type": "code",
   "execution_count": 1175,
   "id": "423e48e9-d037-4ecd-9dd5-82af95b8c2c5",
   "metadata": {},
   "outputs": [],
   "source": [
    "from selenium.webdriver.common.keys import Keys\n",
    "import time\n",
    "from selenium.webdriver.support.ui import WebDriverWait\n",
    "from selenium.webdriver.support import expected_conditions as EC\n",
    "from selenium.webdriver.common.by import By"
   ]
  },
  {
   "cell_type": "code",
   "execution_count": 1190,
   "id": "17801f4c-973e-4aee-a451-a18577249372",
   "metadata": {},
   "outputs": [],
   "source": [
    "## let's fetch the video link\n",
    "driver.get('https://www.youtube.com/watch?v=9ejnea_VKbg')\n",
    "\n",
    "#end_elem.send_keys(Keys.END)\n",
    "time.sleep(5)\n",
    "driver.find_element_by_tag_name('body').send_keys(Keys.END)\n",
    "delay = 15 # seconds of delay\n",
    "WebDriverWait(driver,delay).until(EC.presence_of_all_elements_located((By.ID,\"comment\")))\n",
    "elements = driver.find_elements_by_id(\"comment\")\n"
   ]
  },
  {
   "cell_type": "code",
   "execution_count": 1165,
   "id": "d670842c-fe32-4270-ad64-553a80a78013",
   "metadata": {},
   "outputs": [],
   "source": [
    "#comments = driver.find_elements_by_id('paid-comment-images')"
   ]
  },
  {
   "cell_type": "code",
   "execution_count": null,
   "id": "648665a3-1452-4b2d-bca7-5e5075e43a25",
   "metadata": {},
   "outputs": [],
   "source": []
  },
  {
   "cell_type": "code",
   "execution_count": null,
   "id": "36a1fbf9-0bd1-40fa-966d-2d527ff073cb",
   "metadata": {},
   "outputs": [],
   "source": []
  },
  {
   "cell_type": "markdown",
   "id": "4a148884-6b15-46db-9d08-30fbfeeeb1a4",
   "metadata": {},
   "source": [
    "### **********************************************************************\n",
    "### **********************************************************************"
   ]
  },
  {
   "cell_type": "markdown",
   "id": "1875a224-ca46-4257-9243-460480166833",
   "metadata": {},
   "source": [
    "## Q10 Write a python program to scrape a data for all available Hostels from\n",
    "## https://www.hostelworld.com/ in “London” location. You have to scrape hostel\n",
    "## name, distance from city centre, ratings, total reviews, overall reviews,\n",
    "## privates from price, dorms from price, facilities and property description."
   ]
  },
  {
   "cell_type": "code",
   "execution_count": 1199,
   "id": "db110b2e-c717-4c69-8edd-c4debaafd93a",
   "metadata": {},
   "outputs": [],
   "source": [
    "## let's fetch the video link\n",
    "driver.get('https://www.hostelworld.com/')"
   ]
  },
  {
   "cell_type": "code",
   "execution_count": 1200,
   "id": "1b30d63a-9e7f-4777-9c4d-39ed49e62388",
   "metadata": {},
   "outputs": [],
   "source": [
    "input_search = driver.find_element_by_id(\"location-text-input-field\")"
   ]
  },
  {
   "cell_type": "code",
   "execution_count": 1201,
   "id": "e926a126-4fde-43ef-aa66-d74f322fc2b6",
   "metadata": {},
   "outputs": [],
   "source": [
    "input_search.click()"
   ]
  },
  {
   "cell_type": "code",
   "execution_count": 1202,
   "id": "664e72b5-9545-4477-aa19-1d4640fa9bc4",
   "metadata": {},
   "outputs": [],
   "source": [
    "input_search.send_keys('london')"
   ]
  },
  {
   "cell_type": "code",
   "execution_count": null,
   "id": "295f7642-1ce5-486c-bade-41bd16868791",
   "metadata": {},
   "outputs": [],
   "source": []
  },
  {
   "cell_type": "code",
   "execution_count": null,
   "id": "0840b2ea-20aa-4300-b61f-a2a508bb2dd0",
   "metadata": {},
   "outputs": [],
   "source": []
  },
  {
   "cell_type": "raw",
   "id": "dce59f8c-8517-4401-990c-547123e80351",
   "metadata": {},
   "source": [
    "#creating empty lists\n",
    "shoe_names=[]\n",
    "s_desc=[]\n",
    "short_desc=[]\n",
    "price=[]\n",
    "page_urls = []\n",
    "\n",
    "time.sleep(4)\n",
    "# scrape next pages urls\n",
    "nxt_page = driver.find_elements_by_xpath(\"//ul[@class='pagination-container']/li/a\")\n",
    "for i in nxt_page:\n",
    "    page_urls.append(i.get_attribute('href'))\n",
    "    \n",
    "\n",
    "for url in page_urls[:3]:\n",
    "    driver.get(url)\n",
    "    Names=driver.find_elements_by_xpath(\"//div[@class='product-productMetaInfo']/h3\")  #for scrapping shoe brand names\n",
    "    for i in Names:\n",
    "        shoe_names.append(i.text)\n",
    "    \n",
    "    desc=driver.find_elements_by_xpath(\"//div[@class='product-productMetaInfo']/h4\") #for scrapping shoe short-description\n",
    "    for i in desc:\n",
    "        s_desc.append(i.text)\n",
    "    #As, the s_desc list contain blank description in every alternate index, so removing the blank or null description\n",
    "    for j in range(0,len(s_desc),2):\n",
    "        short_desc.append(s_desc[j])\n",
    "    \n",
    "    rs=driver.find_elements_by_xpath(\"//div[@class='product-price']\")  #for scrapping shoe prices\n",
    "    for i in rs:\n",
    "        price.append(i.text)    \n",
    "        \n",
    "df=pd.DataFrame({'Brand': shoe_names[:100],'Short-description': short_desc[:100],'Price': price[:100]})"
   ]
  }
 ],
 "metadata": {
  "kernelspec": {
   "display_name": "Python 3",
   "language": "python",
   "name": "python3"
  },
  "language_info": {
   "codemirror_mode": {
    "name": "ipython",
    "version": 3
   },
   "file_extension": ".py",
   "mimetype": "text/x-python",
   "name": "python",
   "nbconvert_exporter": "python",
   "pygments_lexer": "ipython3",
   "version": "3.8.2"
  }
 },
 "nbformat": 4,
 "nbformat_minor": 5
}

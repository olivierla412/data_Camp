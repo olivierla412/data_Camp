{
 "cells": [
  {
   "cell_type": "markdown",
   "id": "0b6675fb",
   "metadata": {},
   "source": [
    "### Web Scraping 3 Handling Exceptions"
   ]
  },
  {
   "cell_type": "markdown",
   "id": "7a2d41d2-041e-40b8-91a2-3ae8cf226eb7",
   "metadata": {},
   "source": [
    "![](sel1.png)"
   ]
  },
  {
   "cell_type": "code",
   "execution_count": 2,
   "id": "5d49c968-974b-4ace-a5c2-044e2ec298ef",
   "metadata": {},
   "outputs": [],
   "source": [
    "from selenium import webdriver\n",
    "import time\n",
    "import pandas as pad\n",
    "from selenium.common.exceptions import NoSuchElementException # Importing the Exception"
   ]
  },
  {
   "cell_type": "code",
   "execution_count": 5,
   "id": "ddb47293-9707-4311-b91c-981d3fe7cca3",
   "metadata": {},
   "outputs": [],
   "source": [
    "driver = webdriver.Chrome('/Users/olivierla412/Desktop/chromedriver')"
   ]
  },
  {
   "cell_type": "code",
   "execution_count": 6,
   "id": "7a8d775e-db91-47a5-88ff-b4768af3f0a0",
   "metadata": {},
   "outputs": [],
   "source": [
    "url = 'https://www.google.com/'"
   ]
  },
  {
   "cell_type": "code",
   "execution_count": 7,
   "id": "f908bd25-50b1-4a95-a70b-83939f1ddfec",
   "metadata": {},
   "outputs": [],
   "source": [
    "driver.get(url=url)"
   ]
  },
  {
   "cell_type": "markdown",
   "id": "12ad461c-9ddb-4bf7-869e-cbc55a65a2f6",
   "metadata": {},
   "source": [
    "### Example , let's find an element which doesnot exist on Google"
   ]
  },
  {
   "cell_type": "markdown",
   "id": "6b4053c1-b49a-4326-ab50-84f372879d6f",
   "metadata": {},
   "source": [
    "## 1.__NoSuchElementException__"
   ]
  },
  {
   "cell_type": "code",
   "execution_count": 8,
   "id": "bf38e77e-bf67-4690-bcf8-468e0536be5f",
   "metadata": {},
   "outputs": [
    {
     "ename": "NoSuchElementException",
     "evalue": "Message: no such element: Unable to locate element: {\"method\":\"css selector\",\"selector\":\"[id=\"hoo-ha-haa\"]\"}\n  (Session info: chrome=91.0.4472.114)\n",
     "output_type": "error",
     "traceback": [
      "\u001b[0;31m---------------------------------------------------------------------------\u001b[0m",
      "\u001b[0;31mNoSuchElementException\u001b[0m                    Traceback (most recent call last)",
      "\u001b[0;32m<ipython-input-8-a9229242b8c1>\u001b[0m in \u001b[0;36m<module>\u001b[0;34m\u001b[0m\n\u001b[0;32m----> 1\u001b[0;31m \u001b[0melement\u001b[0m \u001b[0;34m=\u001b[0m \u001b[0mdriver\u001b[0m\u001b[0;34m.\u001b[0m\u001b[0mfind_element_by_id\u001b[0m\u001b[0;34m(\u001b[0m\u001b[0;34m'hoo-ha-haa'\u001b[0m\u001b[0;34m)\u001b[0m\u001b[0;34m\u001b[0m\u001b[0;34m\u001b[0m\u001b[0m\n\u001b[0m\u001b[1;32m      2\u001b[0m \u001b[0melement\u001b[0m\u001b[0;34m.\u001b[0m\u001b[0mtext\u001b[0m\u001b[0;34m\u001b[0m\u001b[0;34m\u001b[0m\u001b[0m\n",
      "\u001b[0;32m/opt/anaconda3/lib/python3.8/site-packages/selenium/webdriver/remote/webdriver.py\u001b[0m in \u001b[0;36mfind_element_by_id\u001b[0;34m(self, id_)\u001b[0m\n\u001b[1;32m    358\u001b[0m             \u001b[0melement\u001b[0m \u001b[0;34m=\u001b[0m \u001b[0mdriver\u001b[0m\u001b[0;34m.\u001b[0m\u001b[0mfind_element_by_id\u001b[0m\u001b[0;34m(\u001b[0m\u001b[0;34m'foo'\u001b[0m\u001b[0;34m)\u001b[0m\u001b[0;34m\u001b[0m\u001b[0;34m\u001b[0m\u001b[0m\n\u001b[1;32m    359\u001b[0m         \"\"\"\n\u001b[0;32m--> 360\u001b[0;31m         \u001b[0;32mreturn\u001b[0m \u001b[0mself\u001b[0m\u001b[0;34m.\u001b[0m\u001b[0mfind_element\u001b[0m\u001b[0;34m(\u001b[0m\u001b[0mby\u001b[0m\u001b[0;34m=\u001b[0m\u001b[0mBy\u001b[0m\u001b[0;34m.\u001b[0m\u001b[0mID\u001b[0m\u001b[0;34m,\u001b[0m \u001b[0mvalue\u001b[0m\u001b[0;34m=\u001b[0m\u001b[0mid_\u001b[0m\u001b[0;34m)\u001b[0m\u001b[0;34m\u001b[0m\u001b[0;34m\u001b[0m\u001b[0m\n\u001b[0m\u001b[1;32m    361\u001b[0m \u001b[0;34m\u001b[0m\u001b[0m\n\u001b[1;32m    362\u001b[0m     \u001b[0;32mdef\u001b[0m \u001b[0mfind_elements_by_id\u001b[0m\u001b[0;34m(\u001b[0m\u001b[0mself\u001b[0m\u001b[0;34m,\u001b[0m \u001b[0mid_\u001b[0m\u001b[0;34m)\u001b[0m\u001b[0;34m:\u001b[0m\u001b[0;34m\u001b[0m\u001b[0;34m\u001b[0m\u001b[0m\n",
      "\u001b[0;32m/opt/anaconda3/lib/python3.8/site-packages/selenium/webdriver/remote/webdriver.py\u001b[0m in \u001b[0;36mfind_element\u001b[0;34m(self, by, value)\u001b[0m\n\u001b[1;32m    974\u001b[0m                 \u001b[0mby\u001b[0m \u001b[0;34m=\u001b[0m \u001b[0mBy\u001b[0m\u001b[0;34m.\u001b[0m\u001b[0mCSS_SELECTOR\u001b[0m\u001b[0;34m\u001b[0m\u001b[0;34m\u001b[0m\u001b[0m\n\u001b[1;32m    975\u001b[0m                 \u001b[0mvalue\u001b[0m \u001b[0;34m=\u001b[0m \u001b[0;34m'[name=\"%s\"]'\u001b[0m \u001b[0;34m%\u001b[0m \u001b[0mvalue\u001b[0m\u001b[0;34m\u001b[0m\u001b[0;34m\u001b[0m\u001b[0m\n\u001b[0;32m--> 976\u001b[0;31m         return self.execute(Command.FIND_ELEMENT, {\n\u001b[0m\u001b[1;32m    977\u001b[0m             \u001b[0;34m'using'\u001b[0m\u001b[0;34m:\u001b[0m \u001b[0mby\u001b[0m\u001b[0;34m,\u001b[0m\u001b[0;34m\u001b[0m\u001b[0;34m\u001b[0m\u001b[0m\n\u001b[1;32m    978\u001b[0m             'value': value})['value']\n",
      "\u001b[0;32m/opt/anaconda3/lib/python3.8/site-packages/selenium/webdriver/remote/webdriver.py\u001b[0m in \u001b[0;36mexecute\u001b[0;34m(self, driver_command, params)\u001b[0m\n\u001b[1;32m    319\u001b[0m         \u001b[0mresponse\u001b[0m \u001b[0;34m=\u001b[0m \u001b[0mself\u001b[0m\u001b[0;34m.\u001b[0m\u001b[0mcommand_executor\u001b[0m\u001b[0;34m.\u001b[0m\u001b[0mexecute\u001b[0m\u001b[0;34m(\u001b[0m\u001b[0mdriver_command\u001b[0m\u001b[0;34m,\u001b[0m \u001b[0mparams\u001b[0m\u001b[0;34m)\u001b[0m\u001b[0;34m\u001b[0m\u001b[0;34m\u001b[0m\u001b[0m\n\u001b[1;32m    320\u001b[0m         \u001b[0;32mif\u001b[0m \u001b[0mresponse\u001b[0m\u001b[0;34m:\u001b[0m\u001b[0;34m\u001b[0m\u001b[0;34m\u001b[0m\u001b[0m\n\u001b[0;32m--> 321\u001b[0;31m             \u001b[0mself\u001b[0m\u001b[0;34m.\u001b[0m\u001b[0merror_handler\u001b[0m\u001b[0;34m.\u001b[0m\u001b[0mcheck_response\u001b[0m\u001b[0;34m(\u001b[0m\u001b[0mresponse\u001b[0m\u001b[0;34m)\u001b[0m\u001b[0;34m\u001b[0m\u001b[0;34m\u001b[0m\u001b[0m\n\u001b[0m\u001b[1;32m    322\u001b[0m             response['value'] = self._unwrap_value(\n\u001b[1;32m    323\u001b[0m                 response.get('value', None))\n",
      "\u001b[0;32m/opt/anaconda3/lib/python3.8/site-packages/selenium/webdriver/remote/errorhandler.py\u001b[0m in \u001b[0;36mcheck_response\u001b[0;34m(self, response)\u001b[0m\n\u001b[1;32m    240\u001b[0m                 \u001b[0malert_text\u001b[0m \u001b[0;34m=\u001b[0m \u001b[0mvalue\u001b[0m\u001b[0;34m[\u001b[0m\u001b[0;34m'alert'\u001b[0m\u001b[0;34m]\u001b[0m\u001b[0;34m.\u001b[0m\u001b[0mget\u001b[0m\u001b[0;34m(\u001b[0m\u001b[0;34m'text'\u001b[0m\u001b[0;34m)\u001b[0m\u001b[0;34m\u001b[0m\u001b[0;34m\u001b[0m\u001b[0m\n\u001b[1;32m    241\u001b[0m             \u001b[0;32mraise\u001b[0m \u001b[0mexception_class\u001b[0m\u001b[0;34m(\u001b[0m\u001b[0mmessage\u001b[0m\u001b[0;34m,\u001b[0m \u001b[0mscreen\u001b[0m\u001b[0;34m,\u001b[0m \u001b[0mstacktrace\u001b[0m\u001b[0;34m,\u001b[0m \u001b[0malert_text\u001b[0m\u001b[0;34m)\u001b[0m\u001b[0;34m\u001b[0m\u001b[0;34m\u001b[0m\u001b[0m\n\u001b[0;32m--> 242\u001b[0;31m         \u001b[0;32mraise\u001b[0m \u001b[0mexception_class\u001b[0m\u001b[0;34m(\u001b[0m\u001b[0mmessage\u001b[0m\u001b[0;34m,\u001b[0m \u001b[0mscreen\u001b[0m\u001b[0;34m,\u001b[0m \u001b[0mstacktrace\u001b[0m\u001b[0;34m)\u001b[0m\u001b[0;34m\u001b[0m\u001b[0;34m\u001b[0m\u001b[0m\n\u001b[0m\u001b[1;32m    243\u001b[0m \u001b[0;34m\u001b[0m\u001b[0m\n\u001b[1;32m    244\u001b[0m     \u001b[0;32mdef\u001b[0m \u001b[0m_value_or_default\u001b[0m\u001b[0;34m(\u001b[0m\u001b[0mself\u001b[0m\u001b[0;34m,\u001b[0m \u001b[0mobj\u001b[0m\u001b[0;34m,\u001b[0m \u001b[0mkey\u001b[0m\u001b[0;34m,\u001b[0m \u001b[0mdefault\u001b[0m\u001b[0;34m)\u001b[0m\u001b[0;34m:\u001b[0m\u001b[0;34m\u001b[0m\u001b[0;34m\u001b[0m\u001b[0m\n",
      "\u001b[0;31mNoSuchElementException\u001b[0m: Message: no such element: Unable to locate element: {\"method\":\"css selector\",\"selector\":\"[id=\"hoo-ha-haa\"]\"}\n  (Session info: chrome=91.0.4472.114)\n"
     ]
    }
   ],
   "source": [
    "element = driver.find_element_by_id('hoo-ha-haa')\n",
    "element.text"
   ]
  },
  {
   "cell_type": "markdown",
   "id": "639d2036-c927-4c7e-8c03-572e51b09123",
   "metadata": {},
   "source": [
    "### Now we can handle the above exception in this way"
   ]
  },
  {
   "cell_type": "code",
   "execution_count": 9,
   "id": "20412933-3ae2-4f15-a76f-fcdaa6095fa8",
   "metadata": {},
   "outputs": [
    {
     "name": "stdout",
     "output_type": "stream",
     "text": [
      "Exception Raised:  Message: no such element: Unable to locate element: {\"method\":\"css selector\",\"selector\":\"[id=\"hoo-ha-haa\"]\"}\n",
      "  (Session info: chrome=91.0.4472.114)\n",
      "\n"
     ]
    }
   ],
   "source": [
    "# Handling exception\n",
    "\n",
    "try:\n",
    "    time.sleep(3)\n",
    "    element = driver.find_element_by_id('hoo-ha-haa')\n",
    "    print(element.text)\n",
    "except NoSuchElementException as exc:\n",
    "    print('Exception Raised: ',exc) ## printing Exception Message\n",
    "    \n",
    "    "
   ]
  },
  {
   "cell_type": "code",
   "execution_count": 10,
   "id": "e76155cb-ddb3-4e2a-9bba-a880968dc9f3",
   "metadata": {},
   "outputs": [],
   "source": [
    "#driver.close()"
   ]
  },
  {
   "cell_type": "code",
   "execution_count": 57,
   "id": "bc10676a-d9d5-4dbc-8c41-9d0230792eea",
   "metadata": {},
   "outputs": [],
   "source": [
    "from selenium import webdriver\n",
    "import time\n",
    "import pandas as pad\n",
    "from selenium.webdriver.support.ui import WebDriverWait\n",
    "from selenium.webdriver.support import expected_conditions as EC\n",
    "from selenium.webdriver.common.by import By"
   ]
  },
  {
   "cell_type": "code",
   "execution_count": 40,
   "id": "5cb72efd-7e60-4b96-8e03-ea69c8eca153",
   "metadata": {},
   "outputs": [],
   "source": [
    "driver = webdriver.Chrome('/Users/olivierla412/Desktop/chromedriver')"
   ]
  },
  {
   "cell_type": "code",
   "execution_count": 14,
   "id": "ffe9395b-d2b1-47e5-8601-483068e6d244",
   "metadata": {},
   "outputs": [],
   "source": [
    "#driver.close()"
   ]
  },
  {
   "cell_type": "code",
   "execution_count": 20,
   "id": "58e38749-0d87-472f-96ae-c2971c374d3a",
   "metadata": {},
   "outputs": [],
   "source": [
    "driver.get(url='https://www.amazon.in/')"
   ]
  },
  {
   "cell_type": "code",
   "execution_count": 34,
   "id": "66c20946-32c7-41d0-a012-593330008de6",
   "metadata": {},
   "outputs": [],
   "source": [
    "delay = 10 # seconds of delay\n",
    "WebDriverWait(driver,delay).until(EC.presence_of_all_elements_located((By.CLASS_NAME,\"nav_a\")))\n",
    "element = driver.find_elements_by_xpath('//a[@class=\"nav_a\"]')"
   ]
  },
  {
   "cell_type": "code",
   "execution_count": 35,
   "id": "98e04fc8-2cff-454c-94a8-0fbd4c21c55a",
   "metadata": {},
   "outputs": [
    {
     "name": "stdout",
     "output_type": "stream",
     "text": [
      "About Us\n",
      "Careers\n",
      "Press Releases\n",
      "Amazon Cares\n",
      "Gift a Smile\n",
      "Facebook\n",
      "Twitter\n",
      "Instagram\n",
      "Sell on Amazon\n",
      "Sell under Amazon Accelerator\n",
      "Amazon Global Selling\n",
      "Become an Affiliate\n",
      "Fulfilment by Amazon\n",
      "Advertise Your Products\n",
      "Amazon Pay on Merchants\n",
      "COVID-19 and Amazon\n",
      "Your Account\n",
      "Returns Centre\n",
      "100% Purchase Protection\n",
      "Amazon App Download\n",
      "Amazon Assistant Download\n",
      "Help\n",
      "Australia\n",
      "Brazil\n",
      "Canada\n",
      "China\n",
      "France\n",
      "Germany\n",
      "Italy\n",
      "Japan\n",
      "Mexico\n",
      "Netherlands\n",
      "Poland\n",
      "Singapore\n",
      "Spain\n",
      "Turkey\n",
      "United Arab Emirates\n",
      "United Kingdom\n",
      "United States\n",
      "AbeBooks\n",
      "Books, art\n",
      "& collectibles\n",
      "Amazon Web Services\n",
      "Scalable Cloud\n",
      "Computing Services\n",
      "Audible\n",
      "Download\n",
      "Audio Books\n",
      "DPReview\n",
      "Digital\n",
      "Photography\n",
      "IMDb\n",
      "Movies, TV\n",
      "& Celebrities\n",
      "Shopbop\n",
      "Designer\n",
      "Fashion Brands\n",
      "Amazon Business\n",
      "Everything For\n",
      "Your Business\n",
      "Prime Now\n",
      "2-Hour Delivery\n",
      "on Everyday Items\n",
      "Amazon Prime Music\n",
      "70 million songs, ad-free\n",
      "Over 9 million podcast episodes\n",
      "Conditions of Use & Sale\n",
      "Privacy Notice\n",
      "Interest-Based Ads\n"
     ]
    }
   ],
   "source": [
    "for i in element:\n",
    "    print(i.text)"
   ]
  },
  {
   "cell_type": "code",
   "execution_count": null,
   "id": "9439e682-f1b7-4300-b426-5a26d6ce6cdf",
   "metadata": {},
   "outputs": [],
   "source": [
    "#driver.close()"
   ]
  },
  {
   "cell_type": "code",
   "execution_count": 56,
   "id": "4e7a72ee-2406-4a75-bb41-8736200b4aea",
   "metadata": {},
   "outputs": [
    {
     "name": "stdout",
     "output_type": "stream",
     "text": [
      "correct passord 15\n"
     ]
    }
   ],
   "source": [
    "x = 20\n",
    "y = 15\n",
    "try:\n",
    "    print('correct passord',y)\n",
    "except:\n",
    "    print('wrong password')\n",
    "    "
   ]
  },
  {
   "cell_type": "markdown",
   "id": "af77d977-0564-40ac-86bc-19dd931e2c3d",
   "metadata": {},
   "source": [
    "## 2. __StaleElementReferenceException__"
   ]
  },
  {
   "cell_type": "markdown",
   "id": "936a887d-3c2f-4bcd-b56e-f7cd3b99da35",
   "metadata": {},
   "source": [
    "![](sel2.png)"
   ]
  },
  {
   "cell_type": "code",
   "execution_count": 61,
   "id": "8fabf41c-79f6-4fbd-853d-def4043ee770",
   "metadata": {},
   "outputs": [],
   "source": [
    "## importing  the Exception\n",
    "from selenium.common.exceptions import StaleElementReferenceException"
   ]
  },
  {
   "cell_type": "code",
   "execution_count": 58,
   "id": "1d331185-22f9-4bad-b5a2-86b344b1168f",
   "metadata": {},
   "outputs": [],
   "source": [
    "naukri_url = 'https://www.naukri.com/data-scienctist-jobs-in-new-delhi?k=data%20scienctist&l=new%20delhi'"
   ]
  },
  {
   "cell_type": "code",
   "execution_count": 59,
   "id": "a96b93ac-ee04-44fe-a1af-aa2fc767cf6c",
   "metadata": {},
   "outputs": [],
   "source": [
    "driver.get(url= naukri_url)"
   ]
  },
  {
   "cell_type": "code",
   "execution_count": 73,
   "id": "c3a4e4b2-2fda-4ad0-baef-bb55705ac205",
   "metadata": {},
   "outputs": [
    {
     "name": "stdout",
     "output_type": "stream",
     "text": [
      "Exception Raised Message: stale element reference: element is not attached to the page document\n",
      "  (Session info: chrome=91.0.4472.114)\n",
      "\n"
     ]
    }
   ],
   "source": [
    "try:\n",
    "    salary = driver.find_element_by_id(\"chk-15-25 Lakhs-ctcFilter-\")\n",
    "    driver.get(driver.current_url)\n",
    "    salary.click()\n",
    "except StaleElementReferenceException as se:\n",
    "    print('Exception Raised',se)\n",
    "#except NoSuchElementException as exc:\n",
    "    #print('Exception Raised: ',exc)  \n",
    "    "
   ]
  },
  {
   "cell_type": "markdown",
   "id": "43e40de7-6245-4929-9f43-8a93e7f4b83d",
   "metadata": {},
   "source": [
    "## 3 __ElementNotInteractableException__"
   ]
  },
  {
   "cell_type": "markdown",
   "id": "84b3149f-1900-493e-aaf8-7a382a3db439",
   "metadata": {},
   "source": [
    "![](sel3.png)"
   ]
  },
  {
   "cell_type": "code",
   "execution_count": 74,
   "id": "36c55819-6203-46fe-9198-903a3478505c",
   "metadata": {},
   "outputs": [],
   "source": [
    "## Importing  the Exception\n",
    "\n",
    "from selenium.common.exceptions import ElementNotInteractableException"
   ]
  },
  {
   "cell_type": "code",
   "execution_count": 96,
   "id": "df167196-7337-4bc1-82fc-481fccfb9673",
   "metadata": {},
   "outputs": [],
   "source": [
    "amazon_url = \"https://www.amazon.in/\""
   ]
  },
  {
   "cell_type": "code",
   "execution_count": 102,
   "id": "b8b7b91b-38ac-4aac-8240-f131ef3d3881",
   "metadata": {},
   "outputs": [],
   "source": [
    "driver.get(url= amazon_url)"
   ]
  },
  {
   "cell_type": "code",
   "execution_count": 119,
   "id": "73612307-c6d7-49a4-b2da-59ac36a14294",
   "metadata": {},
   "outputs": [
    {
     "name": "stdout",
     "output_type": "stream",
     "text": [
      "Exception Raised Message: element not interactable\n",
      "  (Session info: chrome=91.0.4472.114)\n",
      "\n"
     ]
    }
   ],
   "source": [
    "try:\n",
    "    ell = driver.find_element_by_xpath(\"//i[@class='a-icon a-icon-previous-rounded']/span\")\n",
    "    ell.click()\n",
    "except ElementNotInteractableException as ei:\n",
    "    print('Exception Raised',ei)"
   ]
  },
  {
   "cell_type": "code",
   "execution_count": null,
   "id": "4b9742a0-f618-44da-9c60-81b8b5ab89d1",
   "metadata": {},
   "outputs": [],
   "source": [
    "# driver.close()"
   ]
  },
  {
   "cell_type": "markdown",
   "id": "e9d28726-126d-4ea7-8dd0-93948e5e9798",
   "metadata": {},
   "source": [
    "## 4.__SessionNotCreatedException__"
   ]
  },
  {
   "cell_type": "markdown",
   "id": "f8058093-aa56-4ce7-a109-cc0a982d1956",
   "metadata": {},
   "source": [
    "![](sel4.png)"
   ]
  },
  {
   "cell_type": "code",
   "execution_count": 120,
   "id": "ecccf2d3-f424-412c-8889-ea1486355be9",
   "metadata": {},
   "outputs": [],
   "source": [
    "## Importing  the Exception\n",
    "from selenium.common.exceptions import SessionNotCreatedException"
   ]
  },
  {
   "cell_type": "code",
   "execution_count": 126,
   "id": "9b20d7b0-3e2b-45e2-a3d4-6670e64c9813",
   "metadata": {},
   "outputs": [],
   "source": [
    "try:\n",
    "    driver = webdriver.Chrome('/Users/olivierla412/Desktop/chromedriver')# if this was the old version.\n",
    "    driver.get(url=amazon_url)\n",
    "except SessionNotCreatedException as sce:\n",
    "    print('Exception Raised:',sce)\n",
    "    driver = webdriver.Chrome('/Users/olivierla412/Desktop/chromedriver')\n",
    "    driver.get(amazon_url)\n",
    "    "
   ]
  },
  {
   "cell_type": "markdown",
   "id": "b4c1cedb-50f4-4599-a3fc-9f9b0be3396c",
   "metadata": {},
   "source": [
    "## 5.__TimeoutException__"
   ]
  },
  {
   "cell_type": "markdown",
   "id": "fced3634-e8a3-49df-97e7-e804868be8e3",
   "metadata": {},
   "source": [
    "![](sel5.png)"
   ]
  },
  {
   "cell_type": "code",
   "execution_count": 127,
   "id": "1c3b04dc-4905-43e3-a87a-ddfac7338c03",
   "metadata": {},
   "outputs": [],
   "source": [
    "## Importing  the Exception\n",
    "from selenium.common.exceptions import TimeoutException"
   ]
  },
  {
   "cell_type": "code",
   "execution_count": 129,
   "id": "1a5ceb21-6835-49ad-9cae-14eded4ab041",
   "metadata": {},
   "outputs": [
    {
     "name": "stdout",
     "output_type": "stream",
     "text": [
      "Exception Raised Message: \n",
      "\n"
     ]
    }
   ],
   "source": [
    "delay = 5\n",
    "try:\n",
    "    driver.get(url=amazon_url)\n",
    "    WebDriverWait(driver,delay).until(EC.presence_of_element_located((By.CLASS_NAME,'a-section a-spacing-mini')))\n",
    "    element = driver.find_element_by_xpath('//div[@class=\"a-section a-spacing-mini\"]')\n",
    "    print(element.text)\n",
    "except TimeoutException as to:\n",
    "    print('Exception Raised',to)\n",
    "\n"
   ]
  },
  {
   "cell_type": "markdown",
   "id": "7fdf05cb-cc66-423c-a22a-7ab27e0a409f",
   "metadata": {},
   "source": [
    "# ****************************************************************\n",
    "# ****************************************************************"
   ]
  },
  {
   "cell_type": "markdown",
   "id": "6fe95af7-f1f8-4b07-83a5-3afda425f827",
   "metadata": {},
   "source": [
    "## __Pratical__.\n"
   ]
  },
  {
   "cell_type": "code",
   "execution_count": 194,
   "id": "2ba3d553-1e33-46bc-b23c-e525fbec9b16",
   "metadata": {},
   "outputs": [],
   "source": [
    "from selenium import webdriver\n",
    "import time\n",
    "import pandas as pd\n",
    "from selenium.common.exceptions import NoSuchElementException # Importing the Exception"
   ]
  },
  {
   "cell_type": "code",
   "execution_count": 195,
   "id": "0eab8554-9895-4512-9f12-c529c6013c36",
   "metadata": {},
   "outputs": [],
   "source": [
    "driver = webdriver.Chrome('/Users/olivierla412/Desktop/chromedriver')"
   ]
  },
  {
   "cell_type": "code",
   "execution_count": 196,
   "id": "9699bbe9-743f-4e15-add7-dbceff85ddbb",
   "metadata": {},
   "outputs": [],
   "source": [
    "naukri = 'https://www.naukri.com/data-science-jobs-in-bangalore-bengaluru?k=data%20science&l=bangalore%2Fbengaluru'\n"
   ]
  },
  {
   "cell_type": "code",
   "execution_count": 197,
   "id": "86573d30-aa54-4d17-972e-69254b5d85be",
   "metadata": {},
   "outputs": [],
   "source": [
    "driver.get(url=naukri)"
   ]
  },
  {
   "cell_type": "code",
   "execution_count": 198,
   "id": "cacb657d-bbb2-474a-8ad8-dc749e6416c3",
   "metadata": {},
   "outputs": [],
   "source": [
    "## Fetching urls\n",
    "urls = []\n",
    "links = driver.find_elements_by_xpath('//a[@class=\"title fw500 ellipsis\"]')\n",
    "for i in links:\n",
    "    urls.append(i.get_attribute('href'))"
   ]
  },
  {
   "cell_type": "code",
   "execution_count": 199,
   "id": "4881eec3-2768-48ae-ba7d-5c92b00092ef",
   "metadata": {},
   "outputs": [
    {
     "data": {
      "text/plain": [
       "['https://www.naukri.com/job-listings-advisor-data-science-dell-international-services-india-private-limited-bangalore-bengaluru-2-to-5-years-050721903172?src=jobsearchDesk&sid=16266499761869014&xp=1&px=1',\n",
       " 'https://www.naukri.com/job-listings-specialist-design-engineer-data-science-bt-global-business-services-pvt-ltd-bangalore-bengaluru-2-to-3-years-300621900859?src=jobsearchDesk&sid=16266499761869014&xp=2&px=1',\n",
       " 'https://www.naukri.com/job-listings-data-science-ml-engineer-acuity-knowledge-services-india-private-limited-bangalore-bengaluru-1-to-3-years-160621007819?src=jobsearchDesk&sid=16266499761869014&xp=3&px=1',\n",
       " 'https://www.naukri.com/job-listings-lead-data-scientist-publicis-groupe-bangalore-bengaluru-2-to-5-years-160721501892?src=jobsearchDesk&sid=16266499761869014&xp=4&px=1',\n",
       " 'https://www.naukri.com/job-listings-data-scientist-bion-bangalore-bengaluru-2-to-7-years-040320903130?src=jobsearchDesk&sid=16266499761869014&xp=5&px=1',\n",
       " 'https://www.naukri.com/job-listings-data-science-analysis-expert-machine-learning-catalyst-bangalore-bengaluru-2-to-6-years-280720902564?src=jobsearchDesk&sid=16266499761869014&xp=6&px=1',\n",
       " 'https://www.naukri.com/job-listings-data-scientist-bion-bangalore-bengaluru-2-to-7-years-180621902033?src=jobsearchDesk&sid=16266499761869014&xp=7&px=1',\n",
       " 'https://www.naukri.com/job-listings-inviting-applications-for-data-science-computer-science-bangalore-genpact-india-private-limited-bangalore-bengaluru-0-to-1-years-290621002258?src=jobsearchDesk&sid=16266499761869014&xp=8&px=1',\n",
       " 'https://www.naukri.com/job-listings-data-scientist-machine-learning-catalyst-bangalore-bengaluru-2-to-7-years-290720902628?src=jobsearchDesk&sid=16266499761869014&xp=9&px=1',\n",
       " 'https://www.naukri.com/job-listings-data-science-professional-bion-bangalore-bengaluru-3-to-5-years-160320901841?src=jobsearchDesk&sid=16266499761869014&xp=10&px=1',\n",
       " 'https://www.naukri.com/job-listings-data-scientist-catalyst-bangalore-bengaluru-2-to-7-years-281119905509?src=jobsearchDesk&sid=16266499761869014&xp=11&px=1',\n",
       " 'https://www.naukri.com/job-listings-analytics-consultant-senior-analytics-consultant-data-science-quantzig-bangalore-bengaluru-2-to-4-years-220521500288?src=jobsearchDesk&sid=16266499761869014&xp=12&px=1',\n",
       " 'https://www.naukri.com/job-listings-data-science-analysis-expert-machine-learning-catalyst-bangalore-bengaluru-2-to-6-years-160919001838?src=jobsearchDesk&sid=16266499761869014&xp=13&px=1',\n",
       " 'https://www.naukri.com/job-listings-associate-manager-data-science-enrich-and-enlight-noida-gurgaon-gurugram-bangalore-bengaluru-5-to-10-years-240521001824?src=jobsearchDesk&sid=16266499761869014&xp=14&px=1',\n",
       " 'https://www.naukri.com/job-listings-data-scientist-mobiotics-it-solution-pvt-ltd-bangalore-bengaluru-2-to-5-years-011120000228?src=jobsearchDesk&sid=16266499761869014&xp=15&px=1',\n",
       " 'https://www.naukri.com/job-listings-principal-consultant-data-science-d-cube-analytics-bangalore-bengaluru-5-to-10-years-100521500930?src=jobsearchDesk&sid=16266499761869014&xp=16&px=1',\n",
       " 'https://www.naukri.com/job-listings-data-scientist-innominds-software-pvt-ltd-hyderabad-secunderabad-bangalore-bengaluru-2-to-7-years-260521501408?src=jobsearchDesk&sid=16266499761869014&xp=17&px=1',\n",
       " 'https://www.naukri.com/job-listings-data-scientist-systech-international-bangalore-bengaluru-2-to-7-years-230621005269?src=jobsearchDesk&sid=16266499761869014&xp=18&px=1',\n",
       " 'https://www.naukri.com/job-listings-data-science-manager-unicornhead-online-ventures-india-pvt-ltd-bangalore-bengaluru-7-to-12-years-250521005725?src=jobsearchDesk&sid=16266499761869014&xp=19&px=1',\n",
       " 'https://www.naukri.com/job-listings-data-science-manager-zs-associates-india-pvt-ltd-pune-bangalore-bengaluru-9-to-14-years-010621001414?src=jobsearchDesk&sid=16266499761869014&xp=20&px=1']"
      ]
     },
     "execution_count": 199,
     "metadata": {},
     "output_type": "execute_result"
    }
   ],
   "source": [
    "urls"
   ]
  },
  {
   "cell_type": "code",
   "execution_count": 200,
   "id": "9b56453e-5591-4c04-85ee-f6ed1f51b467",
   "metadata": {},
   "outputs": [
    {
     "data": {
      "text/plain": [
       "20"
      ]
     },
     "execution_count": 200,
     "metadata": {},
     "output_type": "execute_result"
    }
   ],
   "source": [
    "len(urls)"
   ]
  },
  {
   "cell_type": "code",
   "execution_count": 179,
   "id": "471e1979-1941-4580-a7e4-9b89f8724286",
   "metadata": {},
   "outputs": [],
   "source": [
    "\n",
    "\n"
   ]
  },
  {
   "cell_type": "code",
   "execution_count": 216,
   "id": "580d60fd-fc0f-49bb-b9e9-b6d72ab13964",
   "metadata": {},
   "outputs": [],
   "source": [
    "\n",
    "job_title = [] ## defining a variables\n",
    "job_description = []\n",
    "for i in urls[:10]:\n",
    "    driver.get(i)\n",
    "    time.sleep(2)\n",
    "    # fetching job title\n",
    "    try:\n",
    "        job = driver.find_element_by_xpath(\"//h1[@class='jd-header-title']\")\n",
    "        job_title.append(job.text)\n",
    "    except NoSuchElementException:\n",
    "        job_title.append('**') \n",
    "    \n",
    "    #fetching desc \n",
    "    try:\n",
    "        job_desc = driver.find_element_by_xpath('//section[@class=\"job-desc\"]')\n",
    "        job_description.append(job_desc.text.replace('\\n',''))\n",
    "    except NoSuchElementException:\n",
    "        job_description.append('****')\n",
    "        \n",
    "        "
   ]
  },
  {
   "cell_type": "code",
   "execution_count": 217,
   "id": "af28ab81-b7c9-4549-a55c-a326dfef0ba9",
   "metadata": {},
   "outputs": [
    {
     "data": {
      "text/plain": [
       "10"
      ]
     },
     "execution_count": 217,
     "metadata": {},
     "output_type": "execute_result"
    }
   ],
   "source": [
    "len(job_title)"
   ]
  },
  {
   "cell_type": "code",
   "execution_count": 218,
   "id": "5d157190-e610-4567-b501-11d9cd2baabe",
   "metadata": {},
   "outputs": [
    {
     "data": {
      "text/plain": [
       "['Advisor, Data Science',\n",
       " '****',\n",
       " '****',\n",
       " 'Lead Data Scientist',\n",
       " 'Data Scientist',\n",
       " 'Data Science/ Analysis Expert - Machine Learning',\n",
       " 'Data Scientist',\n",
       " '****',\n",
       " 'Data Scientist - Machine Learning',\n",
       " 'Data Science Professional']"
      ]
     },
     "execution_count": 218,
     "metadata": {},
     "output_type": "execute_result"
    }
   ],
   "source": [
    "job_title"
   ]
  },
  {
   "cell_type": "code",
   "execution_count": 219,
   "id": "29e28968-e22f-4e7b-8a8b-0b77225e2690",
   "metadata": {},
   "outputs": [
    {
     "data": {
      "text/plain": [
       "10"
      ]
     },
     "execution_count": 219,
     "metadata": {},
     "output_type": "execute_result"
    }
   ],
   "source": [
    "len(job_description)"
   ]
  },
  {
   "cell_type": "code",
   "execution_count": 220,
   "id": "35077e7f-3aa1-4fce-9218-eda38937e758",
   "metadata": {},
   "outputs": [
    {
     "data": {
      "text/plain": [
       "['Job descriptionAdvisor, Data ScienceData Science is all about breaking new ground to enable businesses to answer their most urgent questions. Pioneering massively parallel data-intensive analytic processing, our mission is to develop a whole new approach to generating meaning and value from petabyte-scale data sets and shape brand new methodologies, tools, statistical methods and models. What€™s more, we are in collaboration with leading academics, industry experts and highly skilled engineers to equip our customers to generate sophisticated new insights from the biggest of big data.Key ResponsibilitiesProvide data science support and work with stakeholders to assess demands and suggest data science methods that provide practical, value-added answers for the company.Comfortable with or are highly motivated to learn and apply database tools and statistical predictive models by analyzing large datasets with a variety of tools (R, Python, SQL, Microsoft PowerBI and Tableau)Develop and deliver data science solutions to further advance Dell€™s competitiveness in the areas of customer experiencePassionate about asking and answering questions in large datasets and have a strong desire to create strategies and solutions that challenge and expand the thinking of everyone around you.Deep dive into data to find answers to yet unknown questions and have a natural desire to go beneath the surface of a problem.Creatively visualize and effectively communicate data findings and insights in a variety of formats.Analyze Customer segments that are most likely to be profitable, strong growth potential & customers with high market influence.Understand drivers of loyalty across multiple products, customer persona€™s and sales life cycle.Continuous monitoring and detecting shifts based on technology and customer needs and expectations.NPS Erosion and Repurchase Relationship Curves.Persona and Usage ViewsRole RequirementsBachelor in Physical sciences, Engineering, Statistics, Computer Science, or Data SciencesRelevant work experience applying data science concepts in a business environmentHigh proficiency of statistics utilizing statistical programming languages (R, Python, etc.)High proficiency in BI, Data Mining, Machine Learning and SQLSelf driven, able to work independently yet acts as a team playerStrong communication skills, willingness to learn and develop their ability to apply data science principles through a business lensThe position offersOpportunity to drive cutting-edge strategies and digital solutions for one of the industry most respected customer experience organizationAccess and interaction with executive leadership team at a Fortune 50 companyOpportunity to work with a highly motivated team that invests in your developmentA commitment to diversity and inclusionCompetitive compensation including bonus plans and a great benefit packageExciting internal career opportunities to different rolesRoleData AnalystIndustry TypeIT Services & ConsultingFunctional AreaAnalytics & Business IntelligenceEmployment TypeFull Time, PermanentRole CategoryAnalytics & BIEducationUG :B.A in Statistics, B.Sc in Statistics, Computers, BCA in Computers, B.Tech/B.E. in ComputersPG :Any PostgraduateKey SkillsData ScienceRArtificial IntelligenceBig DataData MiningTableauMachine LearningStatisticsPythonSQL',\n",
       " '****',\n",
       " '****',\n",
       " 'Job descriptionThis position is in the Data Science team under the Digital Experience organization. We drive the first mile of the customer experience through personalization of offers and content. We are currently on the lookout for a smart, highly driven data scientist. You will be part of a team that is focused on driving results by utilizing the latest Machine/Deep Learning approaches especially developing advanced recommendation engines.The incumbent will be responsible for planning and driving ML delivery projects individually. The incumbent is also expected to partner with various stakeholders, bring scientific rigor to develop and deliver high quality models and business results to our clients. She/He also must have excellent verbal and written communication skills and be comfortable working in an entrepreneurial, startup environment within a larger company.We use everything a data scientist loves like: GIT, Python, Java, AWS, deep and shallow learning, supervised / unsupervised / semi-supervised approaches. We have access to both unstructured and proprietary data that covers close to 100% of the US consumer base.What you will do:Design machine learning/deep learning approaches to address real business problems with a keen eye on business metricsCollaborate with other members of the team to ensure high quality deliverablesPrioritizing, planning and delivering data science projects to create business impact while setting a high bar for scientific rigorDeveloping high-performance algorithms for precision targeting, testing and implementing these algorithms in scalable, product-ready codeInteracting with other teams to define interfaces and understanding and resolving dependenciesWork with the engineering team to deploy, validate, monitor and improve the model performance as requiredDrive engagement with different stakeholders and grow the team to take on more projectsLearning and implementing the latest approaches in Data ScienceQualificationsMS in Computer Science or related field with 8+ years of relevant experienceExtensive knowledge of Machine Learning/Deep Learning approaches and the underlying algorithms/MathTech Stack: Python, PySpark, Big Data tech, Docker, KubernetesExperience with AWS technologies a plusGood written and spoken communication skills, team playerStrong analytic thought process and ability to interpret findingsAbility to work on multiple assignments concurrentlyIn addition, the candidate should have strong business acumen and interpersonal skills, yet also be able to work independentlyShould be able to communicate findings and the way techniques work in a manner that all stakeholders, both technical and non-technical, will understandRoleResearch ScientistIndustry TypeAdvertising & MarketingFunctional AreaMedical, Healthcare, R&D, Pharmaceuticals, BiotechnologyEmployment TypeFull Time, PermanentRole CategoryR&DEducationUG :Any GraduatePG :Any PostgraduateKey SkillsData ScienceCommunication SkillsAlgorithmsCustomer ExperienceData ScientistComputer ScienceBig DataMachine LearningDeep LearningPython',\n",
       " \"Job descriptionResponsibilitiesCollaborate with product and business teams to understand all aspects of the problemDefine the right target metrics that best represent the end-user valueApply knowledge of ML, statistics, and advanced mathematics to conceptualize, experiment and design an intelligent systemWork with engineers to build the system end-to-end including Big Data pipelines and ensure the serving system is scalable and highly performant.QualificationsA Bachelor's degree or a higher degree in Computer Science, Statistics, Mathematics or a related field.Strong problem-solving and programming skills with a deep understanding of data structures and algorithms.Solid understanding of mathematical underpinnings behind Machine Learning algorithms and proficiency in probability, statistics, linear algebra, calculus, and optimization.Must have 2+ years of experience in ML with a proven record of successful ML projects with strong individual contributionExperience with NLP, Distributed Systems, large scale computing, Big Data technologies like Hadoop and Spark are plus.RoleData AnalystIndustry TypeIT Services & ConsultingFunctional AreaAnalytics & Business IntelligenceEmployment TypeFull Time, PermanentRole CategoryAnalytics & BIEducationUG :B.Tech/B.E. in Any SpecializationPG :MCA in ComputersDoctorate :Doctorate Not RequiredKey SkillsData ScienceNLPData ScientistMachine learningPredictiveTime SeriesRegressionPredictivityAnalyticsPython\",\n",
       " 'Job descriptionRoles and ResponsibilitiesLocation : BangaloreFunction : Data Science and Analysis - Data Science Machine LearningJob Description :- Design Analytical Solutions: Problem Statement Articulation; Objective Function Definition; Selection of Analytical solutions and methods (Traditional: CART, Regression Models, Time Series Forecasting; Latest: ML Techniques such as Neural Networks, Random Forest, Support Vector Machines, Deep Learning)- Using latest ML techniques, create AI based self-learning decision engines (Nudging & Gamification) which get better as more and more data gets processed overtimeJob Requirements :- BTech From Tier 1 Institute OR BSTAT & MSTAT From ISI OR Masters in StatisticsEconomics 2.5+ years of analytics experience using Python.- Exposure to Clustering (hierarchical non-hierarchical distribution density Clustering), Regression Modeling (Cross SellUp Sell), Marketing Mix Models, Consumer Segmentation, Market Basket Analysis, CBFM Based Next BestLogical Offer Engines, Promotional Offer Optimisation etc.- Exposure to Machine Learning based techniques and algorithms, including but not limited to Random Forest, Neural Networks, and Support Vector Machines etc.- Hands on experience in managing DWH and ETL resourcesteams and designing data models for analytics solutions.- Exposure to working with a wide range of technologies with a greater preference to open source languages: DB - Mongo, Postgress, NoSQLAnalytics - PythonReporting - Tableau, Qlickview, Zeppelin, MS ToolsRoleData AnalystIndustry TypeBankingFunctional AreaAnalytics & Business IntelligenceEmployment TypeFull Time, PermanentRole CategoryAnalytics & BIEducationUG :BCA in Computers, B.Tech/B.E. in Computers, B.Sc in ComputersPG :MS/M.Sc(Science) in Computers, MCA in Computers, M.Tech in ComputersDoctorate :Doctorate Not RequiredKey SkillsRegression AlgorithmsNLPData ScientistArtificial IntelligenceData ModelingData WarehousingData AnalyticsETLMachine LearningDeep LearningPython',\n",
       " 'Job descriptionResponsibilitiesCollaborate with product and business teams to understand all aspects of the problemDefine the right target metrics that best represent the end-user valueApply knowledge of ML, statistics, and advanced mathematics to conceptualize, experiment and design an intelligent systemWork with engineers to build the system end-to-end including Big Data pipelines and ensure the serving system is scalable and highly performant.QualificationsA Bachelor’s degree or a higher degree in Computer Science, Statistics, Mathematics or a related field.Strong problem-solving and programming skills with a deep understanding of data structures and algorithms.Solid understanding of mathematical underpinnings behind Machine Learning algorithms and proficiency in probability, statistics, linear algebra, calculus, and optimization.Must have 2+ years of experience in ML with a proven record of successful ML projects with strong individual contributionExperience with NLP, Distributed Systems, large scale computing, Big Data technologies like Hadoop and Spark are plus.RoleData AnalystIndustry TypeIT Services & ConsultingFunctional AreaAnalytics & Business IntelligenceEmployment TypeFull Time, PermanentRole CategoryAnalytics & BIEducationUG :B.Tech/B.E. in Computers, B.Sc in Maths, Computers, Statistics, BCA in Computers, B.A in Statistics, MathsPG :MCA in ComputersDoctorate :Doctorate Not RequiredKey SkillsData Science AnalyticsNLPData ScientistMachine learningPredictiveLinear algebraTime SeriesRegressionPython',\n",
       " '****',\n",
       " 'Job descriptionRoles and Responsibilities- Implement data-driven solutions based on advanced ML and optimization algorithms to address business problems- Research, experiment, and innovate MLstatistical approaches in various application areas of interest and contribute to IP- Partner with engineering teams to build scalable, efficient, automated ML-based pipelines (trainingevaluationmonitoring)- Deploy, maintain, and debug MLdecision models in a production environment- Analyze and assess data to ensure high data quality and correctness of downstream processes- Communicate results to stakeholders and present datainsights to participate in and drive decision makingRoleData AnalystIndustry TypeBankingFunctional AreaAnalytics & Business IntelligenceEmployment TypeFull Time, PermanentRole CategoryAnalytics & BIEducationUG :BCA in Computers, B.Tech/B.E. in Any Specialization, B.Sc in Any SpecializationPG :Any PostgraduateDoctorate :Doctorate Not RequiredKey SkillsData ScienceData QualityData ScientistStatistical ModelingStatistical AnalystMachine Learning',\n",
       " 'Job descriptionExpertise in machine learning and statistical modeling.Passion to answer Product/Engineering/Operations questions with data.Ability to code in various languages, use big data platforms, extract and analyze data.Have full stack experience in data collection, aggregation, analysis, visualization and monitoring.Are proficient in data modeling work: Python, R, or related products.Familiarity in big data modeling work: Hadoop, Pig, Scala, SparkCan fish for data: SQL, Oracle, Excel, Oracle CloudDeploy data science solutions: Java, PythonCommunicate concisely and persuasively with engineers and product managers.Required Candidate profileBE/B.Tech/ME/M.Tech/MCARoleData AnalystIndustry TypeIT Services & ConsultingFunctional AreaAnalytics & Business IntelligenceEmployment TypeFull Time, PermanentRole CategoryAnalytics & BIEducationUG :B.Tech/B.E. in Any SpecializationPG :MCA in Computers, M.Tech in Any SpecializationDoctorate :Doctorate Not RequiredKey SkillsJavadata modellingHadoopBig DataMachine LearningSQLData ScienceRdatabaseSCALASparkOraclePython']"
      ]
     },
     "execution_count": 220,
     "metadata": {},
     "output_type": "execute_result"
    }
   ],
   "source": [
    "job_description"
   ]
  },
  {
   "cell_type": "code",
   "execution_count": null,
   "id": "d9c8f385-590e-4245-ad9d-4a027e80d40e",
   "metadata": {},
   "outputs": [],
   "source": []
  },
  {
   "cell_type": "markdown",
   "id": "948e60de-eae7-41e9-ad6b-5529518a3776",
   "metadata": {},
   "source": [
    "## Amazon case about the labtops Q10"
   ]
  },
  {
   "cell_type": "markdown",
   "id": "5516fdf3-d370-4ecc-ba18-e2dfc74a1858",
   "metadata": {},
   "source": [
    "![](sel6.png)"
   ]
  },
  {
   "cell_type": "markdown",
   "id": "b4fd68f3-2828-4ffc-9775-c1c53c3856b6",
   "metadata": {},
   "source": [
    "![](sel7.png)"
   ]
  },
  {
   "cell_type": "code",
   "execution_count": null,
   "id": "ab1b43b1-5408-467d-9063-8596b564d02b",
   "metadata": {},
   "outputs": [],
   "source": []
  }
 ],
 "metadata": {
  "kernelspec": {
   "display_name": "Python 3",
   "language": "python",
   "name": "python3"
  },
  "language_info": {
   "codemirror_mode": {
    "name": "ipython",
    "version": 3
   },
   "file_extension": ".py",
   "mimetype": "text/x-python",
   "name": "python",
   "nbconvert_exporter": "python",
   "pygments_lexer": "ipython3",
   "version": "3.8.2"
  }
 },
 "nbformat": 4,
 "nbformat_minor": 5
}

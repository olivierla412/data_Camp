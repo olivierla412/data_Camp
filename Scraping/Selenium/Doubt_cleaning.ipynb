{
 "cells": [
  {
   "cell_type": "code",
   "execution_count": 18,
   "id": "2a0dedb7-619c-4def-91c4-3c1752fad1e2",
   "metadata": {},
   "outputs": [],
   "source": [
    "# Importing the Libraries\n",
    "import pandas as pd\n",
    "from bs4 import BeautifulSoup as BS\n",
    "import requests"
   ]
  },
  {
   "cell_type": "code",
   "execution_count": 19,
   "id": "bd197f06-dc8a-4a2e-ad38-02c7c814cfef",
   "metadata": {},
   "outputs": [],
   "source": [
    "url_ = 'https://en.wikipedia.org/wiki/Main_Page'"
   ]
  },
  {
   "cell_type": "code",
   "execution_count": 20,
   "id": "751edc72-dae3-4967-834b-7737c40e7e88",
   "metadata": {},
   "outputs": [],
   "source": [
    "response = requests.get(url=url_)"
   ]
  },
  {
   "cell_type": "code",
   "execution_count": 11,
   "id": "2144522f-2c29-4100-836b-0fb83452598a",
   "metadata": {},
   "outputs": [
    {
     "data": {
      "text/plain": [
       "<Response [200]>"
      ]
     },
     "execution_count": 11,
     "metadata": {},
     "output_type": "execute_result"
    }
   ],
   "source": [
    "response"
   ]
  },
  {
   "cell_type": "code",
   "execution_count": 21,
   "id": "77031560-e29f-43f2-af0d-b0ea597dcf72",
   "metadata": {},
   "outputs": [],
   "source": [
    "soup = BS(response.content)"
   ]
  },
  {
   "cell_type": "code",
   "execution_count": 28,
   "id": "46668e87-99d0-4331-af94-b3c9f61503e5",
   "metadata": {},
   "outputs": [
    {
     "data": {
      "text/plain": [
       "['Main Page',\n",
       " \"From today's featured article\",\n",
       " 'Did you know\\xa0...',\n",
       " 'In the news',\n",
       " 'On this day',\n",
       " \"Today's featured picture\",\n",
       " 'Other areas of Wikipedia',\n",
       " \"Wikipedia's sister projects\",\n",
       " 'Wikipedia languages',\n",
       " 'Navigation menu',\n",
       " 'Personal tools',\n",
       " 'Namespaces',\n",
       " 'Variants',\n",
       " 'Views',\n",
       " 'More',\n",
       " 'Search',\n",
       " 'Navigation',\n",
       " 'Contribute',\n",
       " 'Tools',\n",
       " 'Print/export',\n",
       " 'In other projects',\n",
       " 'Languages']"
      ]
     },
     "execution_count": 28,
     "metadata": {},
     "output_type": "execute_result"
    }
   ],
   "source": [
    "Header_tag = []\n",
    "header = soup.find_all(['h1','h2','h3','h4','h5','h6'])\n",
    "for i in header:\n",
    "    Header_tag.append(i.text.replace(\"\\n\",\"\"))\n",
    "Header_tag"
   ]
  },
  {
   "cell_type": "code",
   "execution_count": 29,
   "id": "c805d4e2-9056-4ddc-8f45-f8e5b4073dbf",
   "metadata": {},
   "outputs": [
    {
     "data": {
      "text/plain": [
       "['Main Page',\n",
       " \"From today's featured article\",\n",
       " 'Did you know\\xa0...',\n",
       " 'In the news',\n",
       " 'On this day',\n",
       " \"Today's featured picture\"]"
      ]
     },
     "execution_count": 29,
     "metadata": {},
     "output_type": "execute_result"
    }
   ],
   "source": [
    "##  slicing\n",
    "\n",
    "Header_tag[:6]"
   ]
  },
  {
   "cell_type": "code",
   "execution_count": 31,
   "id": "bf162656-3706-4d6f-be56-b571f86f84ae",
   "metadata": {},
   "outputs": [],
   "source": [
    "rest = requests.get('https://www.imdb.com/search/title/?count=100&groups=top_1000&sort=user_rating')\n"
   ]
  },
  {
   "cell_type": "code",
   "execution_count": 32,
   "id": "494dcc90-4e10-4beb-8ba0-d64ebc7a4934",
   "metadata": {},
   "outputs": [],
   "source": [
    "soup1 = BS(rest.content)"
   ]
  },
  {
   "cell_type": "code",
   "execution_count": 35,
   "id": "e793dbff-5f2a-43df-9fcd-3bb98becf255",
   "metadata": {},
   "outputs": [],
   "source": [
    "movie_name = soup1.find_all('h3',class_='lister-item-header')"
   ]
  },
  {
   "cell_type": "code",
   "execution_count": 38,
   "id": "8959c36f-646b-4372-9b7a-37eac4b24aae",
   "metadata": {},
   "outputs": [],
   "source": [
    "movies_list = []\n",
    "for i in movie_name:\n",
    "    movies_list.append(i.text.replace(\"\\n\",\"\"))"
   ]
  },
  {
   "cell_type": "code",
   "execution_count": 41,
   "id": "6754ff4e-570e-4262-b6ce-5956fea92bf1",
   "metadata": {},
   "outputs": [],
   "source": [
    "#movie_name"
   ]
  },
  {
   "cell_type": "code",
   "execution_count": 43,
   "id": "94162e4c-befe-4acd-b174-c45e44af5a80",
   "metadata": {},
   "outputs": [
    {
     "data": {
      "text/plain": [
       "['The Shawshank Redemption',\n",
       " 'The Godfather',\n",
       " 'Soorarai Pottru',\n",
       " 'Dara iz Jasenovca',\n",
       " 'The Dark Knight',\n",
       " 'The Godfather: Part II',\n",
       " '12 Angry Men',\n",
       " 'The Lord of the Rings: The Return of the King',\n",
       " 'Pulp Fiction',\n",
       " \"Schindler's List\",\n",
       " 'Inception',\n",
       " 'Fight Club',\n",
       " 'The Lord of the Rings: The Fellowship of the Ring',\n",
       " 'Forrest Gump',\n",
       " 'Il buono, il brutto, il cattivo',\n",
       " 'Drishyam 2',\n",
       " 'The Lord of the Rings: The Two Towers',\n",
       " 'The Matrix',\n",
       " 'Goodfellas',\n",
       " 'Star Wars: Episode V - The Empire Strikes Back',\n",
       " \"One Flew Over the Cuckoo's Nest\",\n",
       " 'Gisaengchung',\n",
       " 'Interstellar',\n",
       " 'Cidade de Deus',\n",
       " 'Sen to Chihiro no kamikakushi',\n",
       " 'Saving Private Ryan',\n",
       " 'The Green Mile',\n",
       " 'La vita è bella',\n",
       " 'Se7en',\n",
       " 'The Silence of the Lambs',\n",
       " 'Star Wars',\n",
       " 'Seppuku',\n",
       " 'Shichinin no samurai',\n",
       " \"It's a Wonderful Life\",\n",
       " 'Ratsasan',\n",
       " 'Whiplash',\n",
       " 'The Intouchables',\n",
       " 'The Prestige',\n",
       " 'The Departed',\n",
       " 'The Pianist',\n",
       " 'Gladiator',\n",
       " 'American History X',\n",
       " 'The Usual Suspects',\n",
       " 'Léon',\n",
       " 'The Lion King',\n",
       " 'Terminator 2: Judgment Day',\n",
       " 'Nuovo Cinema Paradiso',\n",
       " 'Hotaru no haka',\n",
       " 'Back to the Future',\n",
       " 'Once Upon a Time in the West',\n",
       " 'Psycho',\n",
       " 'Pather Panchali',\n",
       " 'Rear Window',\n",
       " 'Casablanca',\n",
       " 'Modern Times',\n",
       " 'City Lights',\n",
       " 'Hamilton',\n",
       " 'Capharnaüm',\n",
       " 'Joker',\n",
       " 'Ayla: The Daughter of War',\n",
       " 'Vikram Vedha',\n",
       " 'Kimi no na wa.',\n",
       " 'Dangal',\n",
       " 'Spider-Man: Into the Spider-Verse',\n",
       " 'Avengers: Endgame',\n",
       " 'Avengers: Infinity War',\n",
       " 'Coco',\n",
       " 'Django Unchained',\n",
       " 'The Dark Knight Rises',\n",
       " '3 Idiots',\n",
       " 'Kimetsu no Yaiba: Mugen Ressha-Hen',\n",
       " 'Taare Zameen Par',\n",
       " 'WALL·E',\n",
       " 'The Lives of Others',\n",
       " 'Oldeuboi',\n",
       " 'Memento',\n",
       " 'Mononoke-hime',\n",
       " 'Once Upon a Time in America',\n",
       " 'Raiders of the Lost Ark',\n",
       " 'The Shining',\n",
       " 'Apocalypse Now',\n",
       " 'Alien',\n",
       " 'Tengoku to jigoku',\n",
       " 'Dr. Strangelove or: How I Learned to Stop Worrying and Love the Bomb',\n",
       " 'Witness for the Prosecution',\n",
       " 'Paths of Glory',\n",
       " 'Sunset Blvd.',\n",
       " 'The Great Dictator',\n",
       " 'Chhichhore',\n",
       " '1917',\n",
       " 'Tumbbad',\n",
       " 'K.G.F: Chapter 1',\n",
       " 'Drishyam',\n",
       " 'Jagten',\n",
       " 'Jodaeiye Nader az Simin',\n",
       " 'Incendies',\n",
       " 'The Father',\n",
       " 'Babam ve Oglum',\n",
       " 'Inglourious Basterds',\n",
       " 'Eternal Sunshine of the Spotless Mind']"
      ]
     },
     "execution_count": 43,
     "metadata": {},
     "output_type": "execute_result"
    }
   ],
   "source": [
    "only_movie = []\n",
    "for i  in movie_name:\n",
    "    for j in i.find_all(\"a\"):\n",
    "        only_movie.append(j.text.replace(\"\\n\",\"\"))\n",
    "only_movie        \n",
    "    "
   ]
  },
  {
   "cell_type": "code",
   "execution_count": 44,
   "id": "a328e6e6-5748-4fbc-b7dd-925e7da87d2a",
   "metadata": {},
   "outputs": [],
   "source": [
    "## sending the resquest\n",
    "rest1 = requests.get('https://www.icc-cricket.com/rankings/mens/team-rankings/odi')"
   ]
  },
  {
   "cell_type": "code",
   "execution_count": 45,
   "id": "c25436cb-f031-463b-b0b2-096e676ca5df",
   "metadata": {},
   "outputs": [],
   "source": [
    "soup2 = BS(rest1.content)"
   ]
  },
  {
   "cell_type": "code",
   "execution_count": 46,
   "id": "9f7f15a8-abf1-4f11-9608-8b409d3cda93",
   "metadata": {},
   "outputs": [],
   "source": [
    "team_name = soup2.find_all('span',class_='u-hide-phablet')"
   ]
  },
  {
   "cell_type": "code",
   "execution_count": 48,
   "id": "bac07a60-11af-49fb-a6f8-554514334241",
   "metadata": {},
   "outputs": [],
   "source": [
    "team_list = []\n",
    "for i in team_name:\n",
    "    team_list.append(i.text)"
   ]
  },
  {
   "cell_type": "code",
   "execution_count": 52,
   "id": "22cfd359-524b-4686-8b23-6d0c54da69a5",
   "metadata": {},
   "outputs": [],
   "source": [
    "team_names_list =[]\n",
    "for oli in team_list:\n",
    "    if oli !='':\n",
    "        team_names_list.append(oli)"
   ]
  },
  {
   "cell_type": "code",
   "execution_count": 50,
   "id": "e075b717-7186-4137-901d-2820d701d6e2",
   "metadata": {},
   "outputs": [
    {
     "data": {
      "text/plain": [
       "25"
      ]
     },
     "execution_count": 50,
     "metadata": {},
     "output_type": "execute_result"
    }
   ],
   "source": [
    "len(team_list)"
   ]
  },
  {
   "cell_type": "code",
   "execution_count": 53,
   "id": "99c213d1-915c-41fe-a47e-b25b04a904bb",
   "metadata": {},
   "outputs": [
    {
     "data": {
      "text/plain": [
       "20"
      ]
     },
     "execution_count": 53,
     "metadata": {},
     "output_type": "execute_result"
    }
   ],
   "source": [
    "len(team_names_list)"
   ]
  },
  {
   "cell_type": "code",
   "execution_count": 54,
   "id": "7a62fc9f-e11b-4964-a7f7-93148922a47e",
   "metadata": {},
   "outputs": [
    {
     "data": {
      "text/plain": [
       "['New Zealand',\n",
       " 'Australia',\n",
       " 'England',\n",
       " 'India',\n",
       " 'South Africa',\n",
       " 'Pakistan',\n",
       " 'Bangladesh',\n",
       " 'West Indies',\n",
       " 'Sri Lanka',\n",
       " 'Afghanistan',\n",
       " 'Netherlands',\n",
       " 'Ireland',\n",
       " 'Zimbabwe',\n",
       " 'Scotland',\n",
       " 'Oman',\n",
       " 'Nepal',\n",
       " 'UAE',\n",
       " 'Namibia',\n",
       " 'United States',\n",
       " 'Papua New Guinea']"
      ]
     },
     "execution_count": 54,
     "metadata": {},
     "output_type": "execute_result"
    }
   ],
   "source": [
    "team_names_list"
   ]
  },
  {
   "cell_type": "code",
   "execution_count": null,
   "id": "1fe7b7fd-32d9-4b9b-84f0-b134bc29b13a",
   "metadata": {},
   "outputs": [],
   "source": []
  },
  {
   "cell_type": "code",
   "execution_count": 56,
   "id": "ec2a3df0-782c-4057-8bb7-066c649e5fe2",
   "metadata": {},
   "outputs": [],
   "source": [
    "first_el = soup2.find_all('td',class_=\"rankings-block__banner--matches\")"
   ]
  },
  {
   "cell_type": "code",
   "execution_count": 71,
   "id": "59b90ca3-432e-4368-bf38-e5ee27c9b6a7",
   "metadata": {},
   "outputs": [],
   "source": [
    "MATCHES = []\n",
    "\n",
    "for i in first_el:\n",
    "    MATCHES.append(i.text)"
   ]
  },
  {
   "cell_type": "code",
   "execution_count": 72,
   "id": "82044ef9-3c46-4a79-b9fe-0572db67b6cf",
   "metadata": {},
   "outputs": [
    {
     "data": {
      "text/plain": [
       "['17']"
      ]
     },
     "execution_count": 72,
     "metadata": {},
     "output_type": "execute_result"
    }
   ],
   "source": [
    "MATCHES"
   ]
  },
  {
   "cell_type": "code",
   "execution_count": 68,
   "id": "171fd93a-b092-4048-9cdd-1b388c4806c2",
   "metadata": {},
   "outputs": [],
   "source": [
    "others_el = soup2.find_all('td',class_=\"table-body__cell u-center-text\")\n",
    "\n"
   ]
  },
  {
   "cell_type": "code",
   "execution_count": 73,
   "id": "2da23ad8-1092-4c58-83b5-7b0e0fd4093f",
   "metadata": {},
   "outputs": [],
   "source": [
    "new_list = []"
   ]
  },
  {
   "cell_type": "code",
   "execution_count": 74,
   "id": "1251de63-ca07-4c17-9fb3-de896f9c9319",
   "metadata": {},
   "outputs": [],
   "source": [
    "for oli in others_el:\n",
    "    new_list.append(oli.text)"
   ]
  },
  {
   "cell_type": "code",
   "execution_count": 75,
   "id": "13dd2c16-1bc9-46fe-a0bc-76dd79d2d1b3",
   "metadata": {},
   "outputs": [
    {
     "data": {
      "text/plain": [
       "['25',\n",
       " '2,945',\n",
       " '29',\n",
       " '3,356',\n",
       " '29',\n",
       " '3,344',\n",
       " '20',\n",
       " '2,137',\n",
       " '24',\n",
       " '2,323',\n",
       " '27',\n",
       " '2,438',\n",
       " '27',\n",
       " '2,222',\n",
       " '26',\n",
       " '2,006',\n",
       " '17',\n",
       " '1,054',\n",
       " '7',\n",
       " '336',\n",
       " '21',\n",
       " '897',\n",
       " '15',\n",
       " '588',\n",
       " '7',\n",
       " '258',\n",
       " '7',\n",
       " '240',\n",
       " '5',\n",
       " '119',\n",
       " '9',\n",
       " '190',\n",
       " '6',\n",
       " '97',\n",
       " '8',\n",
       " '93',\n",
       " '5',\n",
       " '0']"
      ]
     },
     "execution_count": 75,
     "metadata": {},
     "output_type": "execute_result"
    }
   ],
   "source": [
    "new_list"
   ]
  },
  {
   "cell_type": "code",
   "execution_count": 76,
   "id": "23750c83-66d4-48d9-9993-c1e107c579e9",
   "metadata": {},
   "outputs": [],
   "source": [
    "no_of_match = []\n",
    "no_of_points = []"
   ]
  },
  {
   "cell_type": "code",
   "execution_count": 77,
   "id": "90f734c3-9c8b-431f-9aa5-24335b26b985",
   "metadata": {},
   "outputs": [],
   "source": [
    "for oli in range(0,len(new_list),2):\n",
    "    no_of_match.append(new_list[oli]) ## other matches\n",
    "    no_of_points.append(new_list[oli+1])"
   ]
  },
  {
   "cell_type": "code",
   "execution_count": 78,
   "id": "30905740-d27c-4085-9b28-de82536a7dbe",
   "metadata": {},
   "outputs": [
    {
     "data": {
      "text/plain": [
       "['25',\n",
       " '29',\n",
       " '29',\n",
       " '20',\n",
       " '24',\n",
       " '27',\n",
       " '27',\n",
       " '26',\n",
       " '17',\n",
       " '7',\n",
       " '21',\n",
       " '15',\n",
       " '7',\n",
       " '7',\n",
       " '5',\n",
       " '9',\n",
       " '6',\n",
       " '8',\n",
       " '5']"
      ]
     },
     "execution_count": 78,
     "metadata": {},
     "output_type": "execute_result"
    }
   ],
   "source": [
    "no_of_match"
   ]
  },
  {
   "cell_type": "code",
   "execution_count": 79,
   "id": "534314ff-85d6-4067-b0cf-b7257fbea4b2",
   "metadata": {},
   "outputs": [
    {
     "data": {
      "text/plain": [
       "['2,945',\n",
       " '3,356',\n",
       " '3,344',\n",
       " '2,137',\n",
       " '2,323',\n",
       " '2,438',\n",
       " '2,222',\n",
       " '2,006',\n",
       " '1,054',\n",
       " '336',\n",
       " '897',\n",
       " '588',\n",
       " '258',\n",
       " '240',\n",
       " '119',\n",
       " '190',\n",
       " '97',\n",
       " '93',\n",
       " '0']"
      ]
     },
     "execution_count": 79,
     "metadata": {},
     "output_type": "execute_result"
    }
   ],
   "source": [
    "no_of_points"
   ]
  },
  {
   "cell_type": "code",
   "execution_count": 80,
   "id": "2a75c7c6-4a89-4b8d-9f48-12dfb028bee3",
   "metadata": {},
   "outputs": [
    {
     "data": {
      "text/plain": [
       "['17',\n",
       " '25',\n",
       " '29',\n",
       " '29',\n",
       " '20',\n",
       " '24',\n",
       " '27',\n",
       " '27',\n",
       " '26',\n",
       " '17',\n",
       " '7',\n",
       " '21',\n",
       " '15',\n",
       " '7',\n",
       " '7',\n",
       " '5',\n",
       " '9',\n",
       " '6',\n",
       " '8',\n",
       " '5']"
      ]
     },
     "execution_count": 80,
     "metadata": {},
     "output_type": "execute_result"
    }
   ],
   "source": [
    "for oli in no_of_match:\n",
    "    MATCHES.append(oli)\n",
    "MATCHES    "
   ]
  },
  {
   "cell_type": "code",
   "execution_count": 81,
   "id": "a7d9ee78-bdb8-412f-bd91-e7cbffe57e3f",
   "metadata": {},
   "outputs": [
    {
     "data": {
      "text/plain": [
       "20"
      ]
     },
     "execution_count": 81,
     "metadata": {},
     "output_type": "execute_result"
    }
   ],
   "source": [
    "len(MATCHES)"
   ]
  },
  {
   "cell_type": "code",
   "execution_count": 83,
   "id": "37deaded-2a75-4ef7-84b1-bac5869099c9",
   "metadata": {},
   "outputs": [
    {
     "data": {
      "text/plain": [
       "19"
      ]
     },
     "execution_count": 83,
     "metadata": {},
     "output_type": "execute_result"
    }
   ],
   "source": [
    "len(no_of_points)"
   ]
  },
  {
   "cell_type": "code",
   "execution_count": 84,
   "id": "14a9753d-5c1c-4d56-aa9d-7e93ab5753ff",
   "metadata": {},
   "outputs": [],
   "source": [
    "first_point = soup2.find_all('td',class_=\"rankings-block__banner--points\")\n"
   ]
  },
  {
   "cell_type": "code",
   "execution_count": 85,
   "id": "bf4d5011-1017-4606-b291-a7df90fa064c",
   "metadata": {},
   "outputs": [],
   "source": [
    "POINTS = []"
   ]
  },
  {
   "cell_type": "code",
   "execution_count": 86,
   "id": "6bc164d9-b014-4df1-a519-d7fb9438302a",
   "metadata": {},
   "outputs": [],
   "source": [
    "for oli in first_point:\n",
    "    POINTS.append(oli.text)\n",
    "    "
   ]
  },
  {
   "cell_type": "code",
   "execution_count": 87,
   "id": "3ccd3f67-8264-42df-9a6f-038bdaf8db1e",
   "metadata": {},
   "outputs": [
    {
     "data": {
      "text/plain": [
       "['2,054']"
      ]
     },
     "execution_count": 87,
     "metadata": {},
     "output_type": "execute_result"
    }
   ],
   "source": [
    "POINTS "
   ]
  },
  {
   "cell_type": "code",
   "execution_count": 88,
   "id": "79206004-2abe-4079-a69e-8560164e144b",
   "metadata": {},
   "outputs": [],
   "source": [
    "for oli in no_of_points:\n",
    "    POINTS.append(oli)"
   ]
  },
  {
   "cell_type": "code",
   "execution_count": 89,
   "id": "c6c4b9d6-1caa-4a89-9723-581b47e6a607",
   "metadata": {},
   "outputs": [
    {
     "data": {
      "text/plain": [
       "['2,054',\n",
       " '2,945',\n",
       " '3,356',\n",
       " '3,344',\n",
       " '2,137',\n",
       " '2,323',\n",
       " '2,438',\n",
       " '2,222',\n",
       " '2,006',\n",
       " '1,054',\n",
       " '336',\n",
       " '897',\n",
       " '588',\n",
       " '258',\n",
       " '240',\n",
       " '119',\n",
       " '190',\n",
       " '97',\n",
       " '93',\n",
       " '0']"
      ]
     },
     "execution_count": 89,
     "metadata": {},
     "output_type": "execute_result"
    }
   ],
   "source": [
    "POINTS "
   ]
  },
  {
   "cell_type": "code",
   "execution_count": 90,
   "id": "3ef373ad-fde2-4083-85a6-dbc4c6779b50",
   "metadata": {},
   "outputs": [
    {
     "data": {
      "text/plain": [
       "20"
      ]
     },
     "execution_count": 90,
     "metadata": {},
     "output_type": "execute_result"
    }
   ],
   "source": [
    "len(POINTS)"
   ]
  },
  {
   "cell_type": "code",
   "execution_count": 91,
   "id": "87b50f47-f9a9-4818-8544-4b9be56a41f6",
   "metadata": {},
   "outputs": [],
   "source": [
    "data = pd.DataFrame({})"
   ]
  },
  {
   "cell_type": "code",
   "execution_count": 92,
   "id": "244f2a16-2e82-4fec-b3df-2fdbfd016748",
   "metadata": {},
   "outputs": [],
   "source": [
    "data['Team_Names'] = team_names_list\n",
    "data['No_Of_Matches'] = MATCHES\n",
    "data['No_Of_Points'] = POINTS"
   ]
  },
  {
   "cell_type": "code",
   "execution_count": 93,
   "id": "679961e2-70da-4944-8e89-cd95611baff6",
   "metadata": {},
   "outputs": [
    {
     "data": {
      "text/html": [
       "<div>\n",
       "<style scoped>\n",
       "    .dataframe tbody tr th:only-of-type {\n",
       "        vertical-align: middle;\n",
       "    }\n",
       "\n",
       "    .dataframe tbody tr th {\n",
       "        vertical-align: top;\n",
       "    }\n",
       "\n",
       "    .dataframe thead th {\n",
       "        text-align: right;\n",
       "    }\n",
       "</style>\n",
       "<table border=\"1\" class=\"dataframe\">\n",
       "  <thead>\n",
       "    <tr style=\"text-align: right;\">\n",
       "      <th></th>\n",
       "      <th>Team_Names</th>\n",
       "      <th>No_Of_Matches</th>\n",
       "      <th>No_Of_Points</th>\n",
       "    </tr>\n",
       "  </thead>\n",
       "  <tbody>\n",
       "    <tr>\n",
       "      <th>0</th>\n",
       "      <td>New Zealand</td>\n",
       "      <td>17</td>\n",
       "      <td>2,054</td>\n",
       "    </tr>\n",
       "    <tr>\n",
       "      <th>1</th>\n",
       "      <td>Australia</td>\n",
       "      <td>25</td>\n",
       "      <td>2,945</td>\n",
       "    </tr>\n",
       "    <tr>\n",
       "      <th>2</th>\n",
       "      <td>England</td>\n",
       "      <td>29</td>\n",
       "      <td>3,356</td>\n",
       "    </tr>\n",
       "    <tr>\n",
       "      <th>3</th>\n",
       "      <td>India</td>\n",
       "      <td>29</td>\n",
       "      <td>3,344</td>\n",
       "    </tr>\n",
       "    <tr>\n",
       "      <th>4</th>\n",
       "      <td>South Africa</td>\n",
       "      <td>20</td>\n",
       "      <td>2,137</td>\n",
       "    </tr>\n",
       "    <tr>\n",
       "      <th>5</th>\n",
       "      <td>Pakistan</td>\n",
       "      <td>24</td>\n",
       "      <td>2,323</td>\n",
       "    </tr>\n",
       "    <tr>\n",
       "      <th>6</th>\n",
       "      <td>Bangladesh</td>\n",
       "      <td>27</td>\n",
       "      <td>2,438</td>\n",
       "    </tr>\n",
       "    <tr>\n",
       "      <th>7</th>\n",
       "      <td>West Indies</td>\n",
       "      <td>27</td>\n",
       "      <td>2,222</td>\n",
       "    </tr>\n",
       "    <tr>\n",
       "      <th>8</th>\n",
       "      <td>Sri Lanka</td>\n",
       "      <td>26</td>\n",
       "      <td>2,006</td>\n",
       "    </tr>\n",
       "    <tr>\n",
       "      <th>9</th>\n",
       "      <td>Afghanistan</td>\n",
       "      <td>17</td>\n",
       "      <td>1,054</td>\n",
       "    </tr>\n",
       "    <tr>\n",
       "      <th>10</th>\n",
       "      <td>Netherlands</td>\n",
       "      <td>7</td>\n",
       "      <td>336</td>\n",
       "    </tr>\n",
       "    <tr>\n",
       "      <th>11</th>\n",
       "      <td>Ireland</td>\n",
       "      <td>21</td>\n",
       "      <td>897</td>\n",
       "    </tr>\n",
       "    <tr>\n",
       "      <th>12</th>\n",
       "      <td>Zimbabwe</td>\n",
       "      <td>15</td>\n",
       "      <td>588</td>\n",
       "    </tr>\n",
       "    <tr>\n",
       "      <th>13</th>\n",
       "      <td>Scotland</td>\n",
       "      <td>7</td>\n",
       "      <td>258</td>\n",
       "    </tr>\n",
       "    <tr>\n",
       "      <th>14</th>\n",
       "      <td>Oman</td>\n",
       "      <td>7</td>\n",
       "      <td>240</td>\n",
       "    </tr>\n",
       "    <tr>\n",
       "      <th>15</th>\n",
       "      <td>Nepal</td>\n",
       "      <td>5</td>\n",
       "      <td>119</td>\n",
       "    </tr>\n",
       "    <tr>\n",
       "      <th>16</th>\n",
       "      <td>UAE</td>\n",
       "      <td>9</td>\n",
       "      <td>190</td>\n",
       "    </tr>\n",
       "    <tr>\n",
       "      <th>17</th>\n",
       "      <td>Namibia</td>\n",
       "      <td>6</td>\n",
       "      <td>97</td>\n",
       "    </tr>\n",
       "    <tr>\n",
       "      <th>18</th>\n",
       "      <td>United States</td>\n",
       "      <td>8</td>\n",
       "      <td>93</td>\n",
       "    </tr>\n",
       "    <tr>\n",
       "      <th>19</th>\n",
       "      <td>Papua New Guinea</td>\n",
       "      <td>5</td>\n",
       "      <td>0</td>\n",
       "    </tr>\n",
       "  </tbody>\n",
       "</table>\n",
       "</div>"
      ],
      "text/plain": [
       "          Team_Names No_Of_Matches No_Of_Points\n",
       "0        New Zealand            17        2,054\n",
       "1          Australia            25        2,945\n",
       "2            England            29        3,356\n",
       "3              India            29        3,344\n",
       "4       South Africa            20        2,137\n",
       "5           Pakistan            24        2,323\n",
       "6         Bangladesh            27        2,438\n",
       "7        West Indies            27        2,222\n",
       "8          Sri Lanka            26        2,006\n",
       "9        Afghanistan            17        1,054\n",
       "10       Netherlands             7          336\n",
       "11           Ireland            21          897\n",
       "12          Zimbabwe            15          588\n",
       "13          Scotland             7          258\n",
       "14              Oman             7          240\n",
       "15             Nepal             5          119\n",
       "16               UAE             9          190\n",
       "17           Namibia             6           97\n",
       "18     United States             8           93\n",
       "19  Papua New Guinea             5            0"
      ]
     },
     "execution_count": 93,
     "metadata": {},
     "output_type": "execute_result"
    }
   ],
   "source": [
    "data"
   ]
  },
  {
   "cell_type": "markdown",
   "id": "de0960f1-65f5-4f53-ac34-e0051f3007b1",
   "metadata": {},
   "source": [
    "## ...\n",
    "## Selenium\n",
    "## ..."
   ]
  },
  {
   "cell_type": "code",
   "execution_count": 97,
   "id": "f887d6a4-11e2-46ef-a5ff-be353c65a1ab",
   "metadata": {},
   "outputs": [],
   "source": [
    "import pandas as pd\n",
    "import selenium\n",
    "from selenium import webdriver\n",
    "import time\n",
    "from selenium.common.exceptions import StaleElementReferenceException,NoSuchElementException"
   ]
  },
  {
   "cell_type": "code",
   "execution_count": 96,
   "id": "f46ca81e-0566-4b50-bf35-3b01483be57f",
   "metadata": {},
   "outputs": [
    {
     "data": {
      "text/plain": [
       "'/Users/olivierla412/Desktop/Selenium/sel1'"
      ]
     },
     "execution_count": 96,
     "metadata": {},
     "output_type": "execute_result"
    }
   ],
   "source": [
    "chromedriver"
   ]
  },
  {
   "cell_type": "code",
   "execution_count": 99,
   "id": "df03195f-3496-45ef-a269-cb9728606954",
   "metadata": {},
   "outputs": [],
   "source": [
    "driver = webdriver.Chrome('/Users/olivierla412/Desktop/chromedriver')"
   ]
  },
  {
   "cell_type": "code",
   "execution_count": 100,
   "id": "355f37e3-9ef2-4d72-ac14-58d6e994d1a9",
   "metadata": {},
   "outputs": [],
   "source": [
    "amazon_url = 'https://www.amazon.in/'"
   ]
  },
  {
   "cell_type": "code",
   "execution_count": 101,
   "id": "6dc74593-61f9-4758-ae63-5131b323498c",
   "metadata": {},
   "outputs": [],
   "source": [
    "driver.get(url= amazon_url)"
   ]
  },
  {
   "cell_type": "code",
   "execution_count": 123,
   "id": "d8e73ef7-3a6a-4159-9a62-b8ff8931edca",
   "metadata": {},
   "outputs": [],
   "source": [
    "find = driver.find_element_by_xpath('//input[@id=\"twotabsearchtextbox\"]')"
   ]
  },
  {
   "cell_type": "code",
   "execution_count": 124,
   "id": "3fc62d35-32aa-4d04-87c4-3c412024fb05",
   "metadata": {},
   "outputs": [],
   "source": [
    "find.send_keys('Mobile Phone Under 20000')"
   ]
  },
  {
   "cell_type": "code",
   "execution_count": 105,
   "id": "d966b87f-67f6-4702-bc06-90d98333a6c0",
   "metadata": {},
   "outputs": [],
   "source": [
    "button = driver.find_element_by_xpath('//input[@id=\"nav-search-submit-button\"]')"
   ]
  },
  {
   "cell_type": "code",
   "execution_count": 108,
   "id": "b421fd4f-340c-44a1-b7eb-b71a5f0e3c49",
   "metadata": {},
   "outputs": [],
   "source": [
    "button.click()"
   ]
  },
  {
   "cell_type": "code",
   "execution_count": 109,
   "id": "fb16e101-2bbd-4b88-8641-2752fdd7ab92",
   "metadata": {},
   "outputs": [],
   "source": [
    "mobile = driver.find_elements_by_xpath('//span[@class=\"a-size-medium a-color-base a-text-normal\"]')"
   ]
  },
  {
   "cell_type": "code",
   "execution_count": 111,
   "id": "4dfa35e0-11d5-4a73-a7d8-e6612647a507",
   "metadata": {},
   "outputs": [
    {
     "data": {
      "text/plain": [
       "[<selenium.webdriver.remote.webelement.WebElement (session=\"2be373ef0b83c92ad214d1fcf0d3eb6f\", element=\"e1d0200e-3360-485b-a9b8-6f7b592b533b\")>,\n",
       " <selenium.webdriver.remote.webelement.WebElement (session=\"2be373ef0b83c92ad214d1fcf0d3eb6f\", element=\"86dee4a8-021d-42f8-a271-5bc3fa6278cb\")>,\n",
       " <selenium.webdriver.remote.webelement.WebElement (session=\"2be373ef0b83c92ad214d1fcf0d3eb6f\", element=\"31d19b07-1abe-4eda-bccc-ee2ca03c1ff1\")>,\n",
       " <selenium.webdriver.remote.webelement.WebElement (session=\"2be373ef0b83c92ad214d1fcf0d3eb6f\", element=\"1ac0d20d-a848-4e40-af8d-0e903e814c8a\")>,\n",
       " <selenium.webdriver.remote.webelement.WebElement (session=\"2be373ef0b83c92ad214d1fcf0d3eb6f\", element=\"3b15392c-9a29-4b21-a24b-2f96c8aa0b00\")>,\n",
       " <selenium.webdriver.remote.webelement.WebElement (session=\"2be373ef0b83c92ad214d1fcf0d3eb6f\", element=\"ccca0604-e124-4b54-9d86-9902a902aed0\")>,\n",
       " <selenium.webdriver.remote.webelement.WebElement (session=\"2be373ef0b83c92ad214d1fcf0d3eb6f\", element=\"98220499-a3be-4a12-9bbd-b558d8d429ef\")>,\n",
       " <selenium.webdriver.remote.webelement.WebElement (session=\"2be373ef0b83c92ad214d1fcf0d3eb6f\", element=\"78f41335-26f5-4eb2-bb74-62c36380bd68\")>,\n",
       " <selenium.webdriver.remote.webelement.WebElement (session=\"2be373ef0b83c92ad214d1fcf0d3eb6f\", element=\"05077d53-2ddf-4d69-8886-270cc742b7ca\")>,\n",
       " <selenium.webdriver.remote.webelement.WebElement (session=\"2be373ef0b83c92ad214d1fcf0d3eb6f\", element=\"f18cb6be-a738-4052-9882-ed09e9f08a75\")>,\n",
       " <selenium.webdriver.remote.webelement.WebElement (session=\"2be373ef0b83c92ad214d1fcf0d3eb6f\", element=\"57c2bbdb-36fa-4335-a94e-204c753dfd47\")>,\n",
       " <selenium.webdriver.remote.webelement.WebElement (session=\"2be373ef0b83c92ad214d1fcf0d3eb6f\", element=\"6fc4f60f-fb94-405e-b511-6664acf4d58c\")>,\n",
       " <selenium.webdriver.remote.webelement.WebElement (session=\"2be373ef0b83c92ad214d1fcf0d3eb6f\", element=\"8e2950b9-3d81-4767-a6f9-61a04f8e11a8\")>,\n",
       " <selenium.webdriver.remote.webelement.WebElement (session=\"2be373ef0b83c92ad214d1fcf0d3eb6f\", element=\"fe470807-4fc7-40ed-b9cb-d35d4611813c\")>,\n",
       " <selenium.webdriver.remote.webelement.WebElement (session=\"2be373ef0b83c92ad214d1fcf0d3eb6f\", element=\"204a1b69-8862-4ed9-8aca-bfa836fd6be5\")>,\n",
       " <selenium.webdriver.remote.webelement.WebElement (session=\"2be373ef0b83c92ad214d1fcf0d3eb6f\", element=\"6531bc32-c50d-4893-bd35-54ed9e5265c9\")>,\n",
       " <selenium.webdriver.remote.webelement.WebElement (session=\"2be373ef0b83c92ad214d1fcf0d3eb6f\", element=\"9f53a5bf-0030-4795-a6fb-f2d724309eff\")>]"
      ]
     },
     "execution_count": 111,
     "metadata": {},
     "output_type": "execute_result"
    }
   ],
   "source": [
    "mobile\n"
   ]
  },
  {
   "cell_type": "code",
   "execution_count": 112,
   "id": "db2ea967-7f1c-47c7-bdfb-ce7511f6e59d",
   "metadata": {},
   "outputs": [],
   "source": [
    "mobile_list = []\n",
    "for oli in mobile:\n",
    "    mobile_list.append(oli.text)"
   ]
  },
  {
   "cell_type": "code",
   "execution_count": 113,
   "id": "2af7a3eb-b8b4-4492-9702-4aae23f55c52",
   "metadata": {},
   "outputs": [
    {
     "data": {
      "text/plain": [
       "['Oppo F19 (Prism Black, 6GB RAM, 128GB Storage) with No Cost EMI/Additional Exchange Offers',\n",
       " 'Redmi 9 (Sky Blue, 4GB RAM, 64GB Storage)| 5000 mAh| 2.3GHz Mediatek Helio G35 Octa core Processor',\n",
       " 'Redmi 9A (Nature Green, 2GB RAM, 32GB Storage) | 2GHz Octa-core Helio G25 Processor | 5000 mAh Battery',\n",
       " 'Redmi 9 Power (Mighty Black, 6GB RAM, 128GB Storage) - 6000mAh Battery |FHD+ Screen| 48MP Quad Camera | Snapdragon 662 Processor',\n",
       " 'Redmi 9 (Carbon Black, 4GB RAM, 64GB Storage) | 5000 mAh| 2.3GHz Mediatek Helio G35 Octa core Processor',\n",
       " 'Samsung Galaxy M31 (Ocean Blue, 8GB RAM, 128GB Storage)',\n",
       " 'Samsung Galaxy M11 (Metallic Blue, 4GB RAM, 64GB Storage) with No Cost EMI/Additional Exchange Offers',\n",
       " 'Redmi 9A (Sea Blue 3GB RAM 32GB Storage)| 2GHz Octa-core Helio G25 Processor | 5000 mAh Battery',\n",
       " 'Vivo Y51A (Titanium Sapphire, 8GB, 128GB Storage) with No Cost EMI/Additional Exchange Offers',\n",
       " 'Redmi Note 9 (Pebble Grey, 4GB RAM 64GB Storage) - 48MP Quad Camera & Full HD+ Display',\n",
       " 'Panasonic Eluga i7 (2GB RAM, 16GB Storage, Finger Print Sensor, 4000mAh Battery) (Black)',\n",
       " 'Redmi 9 (Sporty Orange, 4GB RAM, 64GB Storage) | 5000 mAh| 2.3GHz Mediatek Helio G35 Octa core Processor',\n",
       " 'Redmi 9 Prime (Sunrise Flare, 4GB RAM, 64GB Storage)- Full HD+ Display & AI Quad Camera',\n",
       " 'Redmi 9A (Sea Blue 2GB RAM 32GB Storage) | 2GHz Octa-core Helio G25 Processor | 5000 mAh Battery',\n",
       " 'Redmi 9A (Midnight Black 2GB RAM 32GB Storage) | 2GHz Octa-core Helio G25 Processor | 5000 mAh Battery',\n",
       " 'Vivo Y20G (Obsidiant Black, 6GB, 128GB Storage) with No Cost EMI/Additional Exchange Offers',\n",
       " 'realme C11 (2021) (Cool Blue, 2GB RAM, 32GB Storage) with No Cost EMI/Additional Exchange Offers']"
      ]
     },
     "execution_count": 113,
     "metadata": {},
     "output_type": "execute_result"
    }
   ],
   "source": [
    "mobile_list"
   ]
  },
  {
   "cell_type": "code",
   "execution_count": 114,
   "id": "91fe1519-0616-46f3-a91e-ebaef8acd055",
   "metadata": {},
   "outputs": [
    {
     "data": {
      "text/plain": [
       "17"
      ]
     },
     "execution_count": 114,
     "metadata": {},
     "output_type": "execute_result"
    }
   ],
   "source": [
    "len(mobile_list)"
   ]
  },
  {
   "cell_type": "code",
   "execution_count": 116,
   "id": "e0cff5a1-5324-4e9b-a006-de2320518393",
   "metadata": {},
   "outputs": [],
   "source": [
    "all_mobiles_list = []\n",
    "for i in range(1,20):\n",
    "    mobile = driver.find_elements_by_xpath('//span[@class=\"a-size-medium a-color-base a-text-normal\"]')\n",
    "    for i in mobile:\n",
    "        all_mobiles_list.append(i.text)\n",
    "    button = driver.find_element_by_xpath('//li[@ class=\"a-last\"]')\n",
    "    button.click()\n",
    "    time.sleep(2)\n",
    "   "
   ]
  },
  {
   "cell_type": "code",
   "execution_count": 117,
   "id": "967554f9-e9e4-4bde-8546-18d4690e88f1",
   "metadata": {},
   "outputs": [
    {
     "data": {
      "text/plain": [
       "['Oppo F19 (Midnight Blue, 6GB RAM, 128GB Storage) with No Cost EMI/Additional Exchange Offers',\n",
       " 'OPPO A74 5G (Fantastic Purple, 6GB RAM, 128GB Storage)| 5000 mAh | 18W Fast Charge | 90Hz Super Amoled Display',\n",
       " 'Redmi Note 9 (Pebble Grey, 4GB RAM 64GB Storage) - 48MP Quad Camera & Full HD+ Display',\n",
       " 'Samsung Galaxy M02 (Blue,3GB RAM, 32GB Storage)',\n",
       " 'Vivo Y20G (Purist Blue, 4GB, 64GB Storage) with No Cost EMI/Additional Exchange Offers',\n",
       " 'Redmi 9A(Midnight Black 3GB RAM 32GB Storage) | 2GHz Octa-core Helio G25 Processor | 5000 mAh Battery',\n",
       " 'Samsung Galaxy M02s (Black,4GB RAM, 64GB Storage) | 5000 mAh | Triple Camera',\n",
       " 'Samsung Galaxy M01 Core (Black, 2GB RAM, 32GB Storage) with No Cost EMI/Additional Exchange Offers',\n",
       " 'Samsung Galaxy M31 (Space Black, 8GB RAM, 128GB Storage)',\n",
       " 'Redmi Note 10S (Deep Sea Blue, 6GB RAM, 64GB Storage) - Super Amoled Display | 64 MP Quad Camera |NCEMI Offer on HDFC Cards',\n",
       " 'Tecno Spark 7 (Morpheus Blue, 2GB RAM, 32 GB Storage) - 6000mAh Battery|16 MP Dual Camera| 6.52” Dot Notch Display',\n",
       " 'Tecno Spark 7 Pro (Alps Blue, 6GB RAM 64GB Storage)',\n",
       " 'Samsung Galaxy M12 (Blue,4GB RAM, 64GB Storage) 6000 mAh with 8nm Processor | True 48 MP Quad Camera | 90Hz Refresh Rate',\n",
       " 'Samsung Galaxy M02s (Red,4GB RAM, 64GB Storage) | 5000 mAh | Triple Camera',\n",
       " 'Samsung Galaxy M12 (Blue,6GB RAM, 128GB Storage) 6000 mAh with 8nm Processor | True 48 MP Quad Camera | 90Hz Refresh Rate',\n",
       " 'Redmi Note 9 (Aqua Green, 4GB RAM, 64GB Storage) - 48MP Quad Camera & Full HD+ Display',\n",
       " 'Realme narzo 20 (Glory Sliver, 4GB RAM, 128GB Storage) with No Cost EMI/Additional Exchange Offers',\n",
       " 'Redmi 9 Prime (Space Blue, 4GB RAM, 64GB Storage)- Full HD+ Display & AI Quad Camera',\n",
       " 'Samsung Galaxy A21S (Black, 6GB RAM, 64GB Storage) Without Offer',\n",
       " 'Samsung Galaxy M31s (Mirage Black, 8GB RAM, 128GB Storage)',\n",
       " 'TECNO Spark 7T(Magnet Black, 4GB RAM,64GB Storage) 6000 mAh Battery| 48 MP AI Dual Rear Camera',\n",
       " 'Tecno Spark 7 (Spruce Green, 2GB RAM, 32 GB Storage) - 6000mAh Battery|16 MP Dual Camera| 6.52” Dot Notch Display',\n",
       " 'Tecno Spark 7 Pro (Alps Blue, 4GB RAM 64GB Storage)',\n",
       " 'Samsung Galaxy M02s (Blue,4GB RAM, 64GB Storage) | 5000 mAh | Triple Camera',\n",
       " 'Redmi 9 Power (Mighty Black 4GB RAM 64GB Storage) - 6000mAh Battery |FHD+ Screen | 48MP Quad Camera',\n",
       " \"itel A47 (Cosmic Purple, 2GB RAM, 32GB Storage, 5.5'' HD+ IPS Display), L5505\",\n",
       " 'Panasonic Eluga I6 (Black, 2GB Ram, 16GB Storage) - 3 Month No Cost EMI',\n",
       " 'BOLLYWOOD COLLECTION Jio Phone 3 Model 2021 , Black',\n",
       " 'Samsung Galaxy M11 (Violet, 4GB RAM, 64GB Storage) with No Cost EMI/Additional Exchange Offers',\n",
       " 'Samsung Galaxy M12 (White,4GB RAM, 64GB Storage) 6000 mAh with 8nm Processor | True 48 MP Quad Camera | 90Hz Refresh Rate',\n",
       " 'Samsung Galaxy M12 (Black,4GB RAM, 64GB Storage) 6000 mAh with 8nm Processor | True 48 MP Quad Camera | 90Hz Refresh Rate',\n",
       " 'realme narzo 30A (Laser Black, 4GB RAM, 64GB Storage) with No Cost EMI/Additional Exchange Offers',\n",
       " 'Maplin Ismart Reno4 (2 GB 16 GB) 5.0 inch Touchscreen Smartphone (Goid)',\n",
       " 'Nokia C3 Android 10 Smartphone with 2GB RAM 16GB Storage, All-Day Battery and Fingerprint Sensor – Nordic Blue',\n",
       " 'Gionee F8 Neo (Red) 2GB Ram 32GB ROM, Face Unlock,Smart Gestures, Full View Display',\n",
       " 'realme C11 (2021) (Cool Grey, 2GB RAM, 32GB Storage) with No Cost EMI/Additional Exchange Offers',\n",
       " 'Redmi Note 10 (Aqua Green, 4GB RAM, 64GB Storage) -Amoled Dot Display | 48MP Sony Sensor IMX582 | Snapdragon 678 Processor',\n",
       " 'Samsung Galaxy M32 (Light Blue, 6GB RAM, 128GB Storage) INR 1250 Off with ICICI Credit and Debit Cards | 6 Months Free Screen Replacement for Prime',\n",
       " \"iQOO Z3 5G (Cyber Blue, 6GB RAM, 128GB Storage) | India's First SD 768G 5G Processor | 55W FlashCharge | Upto 6 Months No Cost EMI | Extra 2000 Off on Exchange\",\n",
       " 'Tecno Spark 7 (Spruce Green, 3GB RAM, 64 GB Storage) - 6000mAh Battery|16 MP Dual Camera| 6.52” Dot Notch Display',\n",
       " 'Tecno Spark 7 Pro (Magnet Black, 4GB RAM 64GB Storage)',\n",
       " 'Samsung Galaxy M32 (Light Blue, 4GB RAM, 64GB Storage) INR 1250 Off with ICICI Credit and Debit Cards | 6 Months Free Screen Replacement for Prime',\n",
       " 'OPPO A31 (Lake Green, 4GB RAM, 64GB Storage) with No Cost EMI/Additional Exchange Offers',\n",
       " 'Tecno Spark 7 (Magnet Black, 3GB RAM, 64 GB Storage) - 6000mAh Battery|16 MP Dual Camera| 6.52” Dot Notch Display',\n",
       " 'Tecno Spark 7 (Spruce Green, 3GB RAM, 64 GB Storage) - 6000mAh Battery|16 MP Dual Camera| 6.52” Dot Notch Display',\n",
       " 'Vivo Y31 (Ocean Blue, 6GB, 128GB Storage) with No Cost EMI/Additional Exchange Offers',\n",
       " 'Tecno Spark 7 Pro (Alps Blue, 4GB RAM 64GB Storage)',\n",
       " 'Vivo Y12s (Phantom Black, 3GB, 32GB ) with No Cost EMI/Additional Exchange Offers',\n",
       " 'Micromax J1 Black+Red, Small',\n",
       " 'OPPO A74 5G (Fantastic Purple, 6GB RAM, 128GB Storage)| 5000 mAh | 18W Fast Charge | 90Hz Super Amoled Display',\n",
       " 'Gionee F8 Neo (Blue, 2GB RAM, 32GB Storage)',\n",
       " 'IDEA 3G SMARTPHONE ID-4000 (BLACK)',\n",
       " 'OPPO A31 (Mystery Black, 4GB RAM, 64GB Storage) with No Cost EMI/Additional Exchange Offers',\n",
       " 'Samsung Galaxy M31s (Mirage Blue, 8GB RAM, 128GB Storage)',\n",
       " 'Vivo Y20G (Purist Blue, 6GB, 128GB Storage) with No Cost EMI/Additional Exchange Offers',\n",
       " 'Tecno Spark 7 Pro (Alps Blue, 6GB RAM 64GB Storage)',\n",
       " 'Redmi Note 10 Pro (Dark Night, 6GB RAM, 128GB Storage) -120hz Super Amoled Display|64MP with 5mp Super Tele- Macro, Normal',\n",
       " 'Tecno Spark 7 (Magnet Black, 3GB RAM, 64 GB Storage) - 6000mAh Battery|16 MP Dual Camera| 6.52” Dot Notch Display',\n",
       " 'Redmi 9 Power (Electric Green, 6GB RAM, 128GB Storage) - 6000mAh Battery|FHD+ Screen | 48MP Quad Camera | Snapdragon 662 Processor',\n",
       " 'Samsung Galaxy M02 (Black,2GB RAM, 32GB Storage)',\n",
       " 'OPPO A74 5G (Fluid Black,6GB RAM,128GB Storage) Android Smartphone,5000 mAh battery,18W Fast Charge,90Hz LCD Display',\n",
       " 'FORME U30 Dual Sim 2.4\" Big Screen KEYPAD Mobile with 2500mah Battery or Magic Voice System and King Voice, Black',\n",
       " \"itel A47 (Ice Lake Blue, 2GB RAM, 32GB Storage, 5.5'' HD+ IPS Display)\",\n",
       " 'Panasonic Eluga I8 (Black, 3GB RAM, 32GB Storage)',\n",
       " 'Nokia 3.4 (Charcoal , 4GB RAM, 64GB Storage) with No Cost EMI/Additional Exchange Offers',\n",
       " 'Redmi Note 9 Shadow Black, 4GB RAM, 64GB Storage',\n",
       " 'realme 7 Pro (Mirror Blue, 6GB RAM+128GB Storage) with No Cost EMI/Additional Exchange Offers',\n",
       " 'TECNO Spark 7T(Jewel Blue, 4GB RAM, 64GB Storage) 6000 mAh Battery| 48 MP AI Dual Rear Camera',\n",
       " 'OPPO A31 (Fantasy White, 4GB RAM, 64GB Storage) with No Cost EMI/Additional Exchange Offers',\n",
       " 'Samsung Galaxy M31s (Mirage Black, 6GB RAM, 128GB Storage)',\n",
       " 'Redmi Note 10S (Shadow Black, 6GB RAM, 64GB Storage) - Super Amoled Display | 64 MP Quad Camera|NCEMI Offer on HDFC Cards',\n",
       " 'MAGBOT AB8 Bluetooth Wireless Smart Fitness Band for Boys/Men/Kids/Women | Sports Watch Compatible with Xiaomi, Oppo, Vivo Mobile Phone | Heart Rate and BP Monitor, Calories Counter',\n",
       " 'Surya Ismart Supreme 6.26\" (2 GB 32 GB) Smartphone (Desire Red)',\n",
       " 'Redmi 9 Power (Fiery Red, 6GB RAM, 128GB Storage) - 6000mAh Battery|FHD+ Screen | 48MP Quad Camera | Snapdragon 662 Processor',\n",
       " 'Lava Z1 (2GBRAM, 16GB Storage) Denim Blue',\n",
       " 'Redmi Note 10S (Shadow Black, 6GB RAM, 128GB Storage) - Super Amoled Display | 64 MP Quad Camera |NCEMI Offer on HDFC Cards',\n",
       " \"iQOO Z3 5G (Ace Black, 6GB RAM, 128GB Storage) | India's First SD 768G 5G Processor | 55W FlashCharge | Upto 6 Months No Cost EMI | Extra 2000 Off on Exchange\",\n",
       " 'Redmi Note 10 (Shadow Black, 4GB RAM, 64GB Storage) - Amoled Dot Display | 48MP Sony Sensor IMX582 | Snapdragon 678 Processor',\n",
       " 'Micromax in 1 (Blue, 6GB RAM, 128GB Storage)',\n",
       " 'Vivo Y1s (Aurora Blue, 3GB RAM, 32GB Storage) with No Cost EMI/Additional Exchange Offers',\n",
       " 'I KALL K201 Smartphone (2GB, 16GB)',\n",
       " 'Realme narzo 30A (Laser Black, 3GB RAM, 32GB Storage) with No Cost EMI/Additional Exchange Offers',\n",
       " 'Gionee F11 Black (3GB Ram 32GB ROM) 5000mAh Battery, Dual Camera',\n",
       " 'Micromax Dual Sim X749, Champagne',\n",
       " 'Nokia C3 Android 10 Smartphone with 2GB RAM 16GB Storage, All-Day Battery and Fingerprint Sensor – Sand',\n",
       " 'Redmi Note 10 (Frost White, 4GB RAM, 64GB Storage) - Super Amoled Dot Display | 48MP Sony Sensor IMX582 | Snapdragon 678 Processor',\n",
       " 'Gionee F11 Blue (3GB Ram 32GB ROM) 5000mAh Battery, Dual Camera',\n",
       " 'Redmi Note 9 Pro (Interstellar Black, 4GB RAM, 64GB Storage)- Latest 8nm Snapdragon 720G & Alexa Hands-Free',\n",
       " 'I KALL K380 Smartphone (7.12 Inch IPS Display, 4GB Ram, 32GB Storage, Volte) (Blue)',\n",
       " 'I KALL K5 Smartphone (2GB, 16GB)',\n",
       " 'Samsung Galaxy M02 (Red,2GB RAM, 32GB Storage)',\n",
       " 'TECNO Spark 7T(Magnet Black, 4GB RAM,64GB Storage) 6000 mAh Battery| 48 MP AI Dual Rear Camera',\n",
       " 'Redmi 9 Power (Fiery Red, 4GB RAM, 64GB Storage) - 6000mAh Battery |FHD+ Screen| 48MP Quad Camera',\n",
       " 'IKALL K201 6.26 Inch Water Drop Display, 2GB RAM, 16GB Storage, 4G Volte Smartphone (Green)',\n",
       " 'realme narzo 30 Pro (Sword Black, 6GB RAM, 64GB Storage) with No Cost EMI/Additional Exchange Offers',\n",
       " 'IKALL K220 Smartphone (6 Inch, 2GB, 16GB) - Blue',\n",
       " 'Samsung Galaxy M02 (Gray,3GB RAM, 32GB Storage)',\n",
       " 'Samsung Galaxy A31 (Prism Crush Black, 6GB RAM, 128GB Storage) Without Offer',\n",
       " 'Micromax X755 (Blue)',\n",
       " 'Redmi 8A Dual (Sky White, 2GB RAM, 32GB Storage) – Dual Cameras & 5,000 mAH Battery',\n",
       " 'Nokia 2.4 Android 10 Smartphone with Large HD+ Screen, Night Mode and Portrait Mode, 2-Day Battery Life | Fjord Blue',\n",
       " 'Micromax in Note 1 (White, 4GB RAM, 64GB Storage)',\n",
       " 'LG W41 Pro Laser Blue, 6GB Ram, 128GB Storage (48MP AI Quad Camera)',\n",
       " 'SOYES S10H, 3GB+32GB, Face Identification, 3.46 inch Android 9.0 MTK6739CW Quad Core up to 1.7GHz, Dual SIM, Bluetooth, WiFi, GPS, Google Play, 4G LTE 2100mah Long Battery Mini Smart Phone (Black)',\n",
       " 'Samsung Galaxy A31 (Prism Crush Blue, 6GB RAM, 128GB Storage) Without Offer',\n",
       " 'KECHAODA SM Company K33 Bluetooth Dialer with Camera and Dual Sim,Slim Card Size and Light Weight and Stylish Mobile Phone(Black)',\n",
       " 'realme X7 (Space Silver, 6GB RAM, 128GB Storage) with No Cost EMI/Additional Exchange Offers',\n",
       " 'I KALL K380 Smartphone (7.12 Inch, 4GB, 32GB) (Blue)',\n",
       " 'Redmi 9 Prime (Mint Green, 4GB RAM, 64GB Storage)- Full HD+ Display & AI Quad Camera',\n",
       " 'OPPO A15s (Fancy White, 4GB RAM, 64GB Storage) with No Cost EMI/Additional Exchange Offers',\n",
       " 'Vivo Y31 (Racing Black, 6GB, 128GB Storage) with No Cost EMI/Additional Exchange Offers',\n",
       " 'Vivo Y51A (Crystal Symphony, 8GB, 128GB Storage) with No Cost EMI/Additional Exchange Offers',\n",
       " 'Samsung Galaxy M32 (Black, 6GB RAM, 128GB Storage) INR 1250 Off with ICICI Credit and Debit Cards | 6 Months Free Screen Replacement for Prime',\n",
       " 'Voto V2i (Black, 32 GB) (2 GB RAM)',\n",
       " 'Redmi 9 Prime (Matte Black, 4GB RAM, 64GB Storage) - Full HD+ Display & AI Quad Camera',\n",
       " 'Xifo Gionee S11 4G Volte Smartphone with Fingerprint Sensor Android 7.1 Naugat (4GB, 64GB) (Gold)',\n",
       " 'Redmi 9 Power (Blazing Blue, 4GB RAM, 64GB Storage) - 6000mAh Battery |FHD+ Screen| 48MP Quad Camera',\n",
       " 'Redmi Note 10S (Frost White, 6GB RAM, 128GB) - Super Amoled Display | 64 MP Quad Camera |NCEMI Offer on HDFC Cards',\n",
       " 'Vivo Y30 (Emerald Black, 4GB RAM, 128GB Storage) with No Cost EMI/Additional Exchange Offers',\n",
       " 'Lava Z6 Flame Red, 6GB RAM, 64GB Storage, Regular',\n",
       " 'LG W41 (Magic Blue, 48 MP Quad Camera, 4GB RAM, 64GB Storage), Small',\n",
       " \"G'Five Leo Dual Sim Baisc Mobile Phone with Digital Camera and 1.8 inch Screen (Black-Blue, Upto 16GB)\",\n",
       " 'Nokia 2.4 Android 10 Smartphone with Large HD+ Screen, Night Mode and Portrait Mode, 2-Day Battery Life | Charcoal Black',\n",
       " 'Samsung Galaxy M02s (Black,3GB RAM, 32GB Storage) | 5000 mAh | Triple Camera',\n",
       " 'Motorola E7 Power (Tahiti Blue, 2GB RAM, 32GB Storage)',\n",
       " 'Samsung Galaxy M32 (Black, 4GB RAM, 64GB Storage) INR 1250 Off with ICICI Credit and Debit Cards | 6 Months Free Screen Replacement for Prime',\n",
       " 'Tecno Spark 7 (Spruce Green, 2GB RAM, 32 GB Storage) - 6000mAh Battery|16 MP Dual Camera| 6.52” Dot Notch Display',\n",
       " 'Redmi 9 Power (Electric Green, 4GB RAM, 64GB Storage) - 6000mAh Battery |FHD+ Screen| 48MP Quad Camera',\n",
       " 'Vivo Y20G (Obsidiant Black, 4GB, 64GB Storage) with No Cost EMI/Additional Exchange Offers',\n",
       " 'Redmi Note 9 Pro Max (Champagne Gold, 6GB RAM, 64GB Storage) - 64MP Quad Camera & Latest 8nm Snapdragon 720G & Alexa Hands-Free',\n",
       " 'Redmi 8A Dual (Midnight Grey, 2GB RAM, 32GB Storage) – Dual Cameras & 5,000 mAH Battery',\n",
       " 'Micromax X750 Blue',\n",
       " 'Vivo Y20i (Dawn White, 3GB RAM, 64GB Storage) with No Cost EMI/Additional Exchange Offers',\n",
       " 'OPPO F19 (Space Silver, 6GB RAM, 128GB Storage) with No Cost EMI/Additional Exchange Offers',\n",
       " 'Maplin Map4-Max 5G (4GB / 64 GB) with 6.53 Inch Screen and 5000 mAh Smartphone in Aqua Blue',\n",
       " 'KECHAODA K10 Finger Bluetooth Phone, Single SIM, 0.66 inch Display, 300mAh Battery, DAILER, Wireless FM, BIS Certified (Black), Mini',\n",
       " 'Samsung Galaxy M02 (Blue,2GB RAM, 32GB Storage)',\n",
       " 'MAGBOT AB3 Bluetooth Wireless Smart Fitness Band for Boys/Men/Kids/Women | Sports Watch Compatible with All Smart Mobile Phones | Heart Rate and BP Monitor, Calories Counter',\n",
       " 'realme 8 5G (4 GB RAM, 64GB ROM) (Supersonic Black)',\n",
       " 'Redmi 9 Power (Blazing Blue, 6GB RAM, 128GB Storage) - 6000mAh Battery |FHD+ Screen | 48MP Quad Camera | Snapdragon 662 Processor',\n",
       " 'Vivo Y20i (Nebula Blue, 3GB RAM, 64GB Storage) with No Cost EMI/Additional Exchange Offers',\n",
       " 'I KALL K320 Smartphone (Purple, 6.53 HD+, 4GB, 64GB)',\n",
       " 'Micromax Dual Sim X756, Blue',\n",
       " 'Vivo Y12s (Glacier Blue, 3GB, 32GB ) with No Cost EMI/Additional Exchange Offers',\n",
       " 'Xifo Kekai S5 SE-2021 with 6.8 inch (3 GB 32 GB) 4G Volte Smartphone (Flora Blue)',\n",
       " 'Vivo Y1s (Olive Black, 3GB RAM, 32GB Storage) with No Cost EMI/Additional Exchange Offers',\n",
       " 'itel A48 (Gradation Green, 2GB RAM, 32GB Storage)',\n",
       " 'Vivo Y1s 32 GB, 2 GB RAM, Aurora Blue, Smartphone',\n",
       " 'Redmi Note 10 Pro Max (Glacial Blue, 6GB RAM, 128GB Storage) -108MP Quad Camera|120Hz Super Amoled Display | NCEMI Upto 6 Months',\n",
       " 'Redmi 8A Dual (Sky White, 3GB RAM, 32GB Storage) – Dual Cameras & 5,000 mAH Battery',\n",
       " 'Micromax X381 (800 mAh, BT Calling, Screen Capture) (Black)',\n",
       " 'MOTOROLA G10 Power (64 GB) (4 GB RAM) (Breeze Blue)',\n",
       " 'SHIVANSH 3G Smartphone ID-4000 (Black)',\n",
       " 'Samsung Galaxy M02 (Gray,2GB RAM, 32GB Storage)',\n",
       " 'I KALL K280 Smartphone 4G Volte (6.26 Waterdrop IPS Display, 3GB Ram, 32GB Storage) (Black)',\n",
       " 'LG W31 (Midnight Blue, HD+ FullVision Display, 4GB/64GB Storage) | 4000 mAh Battery with MediaTekHelio G25, 2.0GHz Octa-Core Processor',\n",
       " 'Micromax X741 (Grey Ultra Bright LED Light, 1750mAh)',\n",
       " 'Energizer Energy E20 (Black)',\n",
       " 'Redmi 2GB RAM, 16GB Storage Mi 6A, Rose Gold',\n",
       " 'Tecno Spark 7 (Magnet Black, 2GB RAM, 32 GB Storage) - 6000mAh Battery|16 MP Dual Camera| 6.52” Dot Notch Display',\n",
       " \"Forme D10 1.8'' Big Battery 2500 mAh Mobile Black\",\n",
       " 'realme narzo 30 Pro (Blade Sliver, 6GB RAM, 64GB Storage) with No Cost EMI/Additional Exchange Offers',\n",
       " 'IKALL K260 4G Volte Smartphone (5.5 Inch, 2GB, 16GB) - Blue',\n",
       " 'I KALL K380 Smartphone (7.12 Inch IPS Display, 4GB Ram, 32GB Storage, Volte) (Purple)',\n",
       " 'Realme 8 5G (Supersonic Black, 8GB RAM, 128GB Storage)',\n",
       " 'Samsung Galaxy A22 (Black, 6GB RAM, 128GB Storage) with No Cost EMI/Additional Exchange Offers',\n",
       " 'Redmi 8A Dual (Sea Blue, 3GB RAM, 64GB Storage) – Dual Cameras & 5,000 mAH Battery',\n",
       " 'I KALL K280 Smartphone (3GB, 32GB) (Grey)',\n",
       " 'KECHAODA K116 Plus Dual SIM Mobile with External Memory Card Slot and VGA Camera (Black)',\n",
       " 'I KALL K800 Smartphone (Blue, 2GB, 16GB)',\n",
       " 'Tecno Spark 7 Pro (Magnet Black, 4GB RAM 64GB Storage)',\n",
       " 'Samsung Galaxy F41 (Fusion Green, 6GB RAM, 128GB Storage)',\n",
       " 'Maplin Map4-Max 5G (4GB / 64 GB) with 6.53 Inch Screen and 5000 mAh Smartphone in Mighty Black',\n",
       " 'I KALL K280 Smartphone 4G Volte (6.26 Waterdrop IPS Display, 3GB Ram, 32GB Storage) (Grey)',\n",
       " 'Nokia C3 Sand, 3GB RAM, 32GB Storage',\n",
       " 'KECHAODA A26 Dual Sim Mobile Phone (Bluetooth Size,Rose Gold, 16MB)',\n",
       " 'MOTOROLA G30 (Dark Pearl, 4GB RAM, 64GB Storage)',\n",
       " 'KECHAODAK115 Slim Card Size Dual Sim Phone with External Memory Slot (1.44Inch, Silver)',\n",
       " 'Oppo A54 (Crystal Black, 4GB RAM, 128GB Storage) with No Cost EMI/Additional Exchange Offers',\n",
       " 'Xifo Gionee S11 4G Volte Smartphone with Fingerprint Sensor Android 7.1 Naugat (4GB, 64GB) in Pink Colour',\n",
       " 'IKALL K8 4G Mobile (2GB, 16GB) - Green',\n",
       " 'Xifo Kekai Pro Max 6.8 inch (3 GB 32 GB) 4G Volte Smartphone (Sea Blue)�',\n",
       " 'Micromax X749 Silver Phone',\n",
       " 'KECHAODA K-66 Plus Black Mobile Phone with Dual Sim',\n",
       " 'Lava BeU Rose Pink, 2GB RAM, 32GB Storage',\n",
       " 'Wham Q4 (Black)',\n",
       " 'I KALL K280 Smartphone (3GB, 32GB) (Black)',\n",
       " \"itel A23 Pro Jio (Sapphire Blue, 1GB RAM, 8 GB Storage, 5'' Bright Display) (L5006C)\",\n",
       " 'Redmi Note 9 Pro (Glacier White, 4GB RAM, 64GB Storage) - Latest 8nm Snapdragon 720G &Alexa Hands-Free Capable',\n",
       " 'OPPO A11K (Flowing Silver, 2GB RAM, 32GB Storage) With No Cost EMI/Additional Exchange Offers',\n",
       " 'Xifo Gionee M7 4G Volte Smartphone with Fingerprint Sensor Android 7.1 Naugat and 5.0 Amigo (6GB, 64GB) in Blue Colour',\n",
       " 'Nokia 800 Tough, 4GB, IP68 Rugged Cell Phone, 4G LTE (Black)',\n",
       " 'Redmi Note 9 Pro Max (Aurora Blue, 6GB RAM, 64GB Storage)- 64MP Quad Camera & Alexa Hands-Free Capable',\n",
       " 'Micromax X755 (Black + Maroon)',\n",
       " 'IKALL 8 (Green, 2GB, 16GB)',\n",
       " 'Tecno Spark 7 Pro (Magnet Black 6GB RAM 64GB Storage)',\n",
       " 'MAGBOT AC8 Bluetooth Wireless Smart Fitness Band for Boys/Men/Kids/Women | Sports Watch Compatible with All Smart Mobile Phones | Heart Rate and BP Monitor, Calories Counter',\n",
       " 'Kechaoda A26 Dual Sim Mobile Phone (Bluetooth Size,Silver, 16MB)',\n",
       " 'Realme 8 5G (Supersonic Blue, 4GB RAM, 128GB Storage)',\n",
       " '(Renewed) Panasonic Eluga I8 (Black, 3GB RAM, 32GB Storage)',\n",
       " 'realme narzo 20 (Victory Blue, 4GB RAM, 128GB Storage) with No Cost EMI/Additional Exchange Offers',\n",
       " 'Kechaoda K33 Slim Card Size Light Weight and Stylish Dual Sim GSM Mobile Phone (Rose Gold)',\n",
       " 'MAGBOT AB7 Bluetooth Wireless Smart Fitness Band for Boys/Men/Kids/Women | Sports Watch Compatible with All Smart Mobile Phones | Heart Rate and BP Monitor, Calories Counter',\n",
       " 'Oppo F19 (Prism Black, 6GB RAM, 128GB Storage) with No Cost EMI/Additional Exchange Offers',\n",
       " 'Coolpad Cool 6 Blue, 6GB RAM, 128GB Storage',\n",
       " 'Xifo Kekai S5 SE-2021 with 6.8 inch (3 GB 32 GB) 4G Volte Smartphone (Marine Green)',\n",
       " 'Nokia 3.4 Fjord, 4GB RAM, 64GB Storage',\n",
       " 'MAGBOT AB6 Bluetooth Wireless Smart Fitness Band for Boys/Men/Kids/Women | Sports Watch Compatible with All Smart Mobile Phones | Heart Rate and BP Monitor, Calories Counter',\n",
       " 'Maplin Pro 5G (4GB / 64 GB) with 6.53 Inch Screen and 5000 mAh Smartphone in Interstellar Black',\n",
       " 'OPPO A15 (Mystery Blue, 2GB RAM, 32GB Storage) With No Cost EMI/Additional Exchange Offers',\n",
       " 'Redmi Note 10 Pro Max (Dark Night, 6GB RAM, 128GB Storage) -108MP Quad Camera | 120Hz Super Amoled Display | NCEMI Upto 6 Months',\n",
       " 'Mini Phone, Dual Card Slot Ultra‑Thin Cell Phone for School(Black)',\n",
       " 'IKall K8 Smartphone (5.5 Inch, 16GB) (Gold)',\n",
       " 'Xifo Leeco LETV X527 (3 GB 32 GB) 4G Smartphone 5.5 Inch Display (Gold)',\n",
       " 'realme 8 5G (8 GB RAM, 128GB ROM) (Supersonic Blue)',\n",
       " 'Mi Redmi 6A (Gold, 2GB RAM, 16GB Storage)',\n",
       " 'IKALL K201 Blue, 2GB RAM, 16GB Storage',\n",
       " 'Unlocked Cell Phone, Bang Screen 1+8G HD Dual Cards Dual Standby Cell Phone All‑in‑one 6.26in with Beauty Camera(European regulations)',\n",
       " 'MAGBOT AB7 Bluetooth Wireless Smart Fitness Band for Boys/Men/Kids/Women | Sports Watch Compatible with All Smart Mobile Phones | Heart Rate and BP Monitor, Calories Counter',\n",
       " 'Oppo F19 (Prism Black, 6GB RAM, 128GB Storage) with No Cost EMI/Additional Exchange Offers',\n",
       " 'Coolpad Cool 6 Blue, 6GB RAM, 128GB Storage',\n",
       " 'Xifo Kekai S5 SE-2021 with 6.8 inch (3 GB 32 GB) 4G Volte Smartphone (Marine Green)',\n",
       " 'Nokia 3.4 Fjord, 4GB RAM, 64GB Storage',\n",
       " 'MAGBOT AB6 Bluetooth Wireless Smart Fitness Band for Boys/Men/Kids/Women | Sports Watch Compatible with All Smart Mobile Phones | Heart Rate and BP Monitor, Calories Counter',\n",
       " 'Maplin Pro 5G (4GB / 64 GB) with 6.53 Inch Screen and 5000 mAh Smartphone in Interstellar Black',\n",
       " 'OPPO A15 (Mystery Blue, 2GB RAM, 32GB Storage) With No Cost EMI/Additional Exchange Offers',\n",
       " 'Redmi Note 10 Pro Max (Dark Night, 6GB RAM, 128GB Storage) -108MP Quad Camera | 120Hz Super Amoled Display | NCEMI Upto 6 Months',\n",
       " 'Mini Phone, Dual Card Slot Ultra‑Thin Cell Phone for School(Black)',\n",
       " 'IKall K8 Smartphone (5.5 Inch, 16GB) (Gold)',\n",
       " 'Xifo Leeco LETV X527 (3 GB 32 GB) 4G Smartphone 5.5 Inch Display (Gold)',\n",
       " 'realme 8 5G (8 GB RAM, 128GB ROM) (Supersonic Blue)',\n",
       " 'Mi Redmi 6A (Gold, 2GB RAM, 16GB Storage)',\n",
       " 'IKALL K201 Blue, 2GB RAM, 16GB Storage',\n",
       " 'Unlocked Cell Phone, Bang Screen 1+8G HD Dual Cards Dual Standby Cell Phone All‑in‑one 6.26in with Beauty Camera(European regulations)',\n",
       " 'Nillkin Screen Guard for Xiaomi Poco Phone F2 Pro/Redmi K30 Pro (6.67\" Inch) Whole Set Version Super Clear Front + Camera Sticker',\n",
       " 'Motorola E7 Power (Tahiti Blue, 64 GB) (4 GB RAM)',\n",
       " 'IKALL K500 (6.26 Inch, 4GB, 64GB) (Blue)',\n",
       " 'IKALL K210 Smartphone (Blue, 2GB, 16GB)',\n",
       " '(Renewed) Sony Xperia R1 Plus Dual (Silver)',\n",
       " 'itel A48 (Gradation Purple, 2GB RAM, 32GB Storage)',\n",
       " 'realme 7 Pro (Mirror Sliver, 8GB RAM+128GB Storage) with No Cost EMI/Additional Exchange Offers',\n",
       " \"itel A23 Pro Jio (Lake Blue, 1GB RAM, 8 GB Storage, 5'' Bright Display) (L5006C)\",\n",
       " 'Redmi 7A (Matte Blue, 2GB RAM, 16GB Storage)',\n",
       " 'realme 8 5G (8 GB RAM, 128GB ROM) (Supersonic Black)',\n",
       " 'Oppo F17 (Dynamic Orange, 6GB RAM, 128GB Storage) with No Cost EMI/Additional Exchange Offers',\n",
       " 'Samsung Galaxy A21s (White, 6GB RAM, 64GB Storage) with No Cost EMI/Additional Exchange Offers',\n",
       " 'Redmi Note 10 Pro (Vintage Bronze, 6GB RAM, 128GB Storage) -120Hz Super Amoled Display | 64MP Camera with 5MP Super Tele-Macro, Normal',\n",
       " 'realme X7 (Nebula, 6GB RAM, 128GB Storage) with No Cost EMI/Additional Exchange Offers',\n",
       " 'Redmi K20 (Glacier Blue, 6GB RAM, 128GB Storage)',\n",
       " 'IKALL 201 (6.26 Inch, 2GB, 16GB) (Green)',\n",
       " 'MOTOROLA G30 (Pastel Sky, 4GB RAM, 64GB Storage)',\n",
       " 'Xifo Gionee S11 4G Volte Smartphone with Fingerprint Sensor Android 7.1 Naugat (4GB, 64GB) in Gold Colour',\n",
       " 'Lava Z4 (4GB RAM, 64GB Storage)- Aqua Blue, regular (Lava Z4 Blue)',\n",
       " 'Redmi 9 Prime (Matte Black, 4GB RAM, 128GB Storage) - Full HD+ Display & AI Quad Camera',\n",
       " 'IKALL K800 Blue, 2GB RAM, 16GB Storage',\n",
       " 'Lava Z6 Aqua Blue, 6GB RAM, 64GB Storage, Regular',\n",
       " 'Bigbox99 Mobile Phone Metal Stand with Card Holder for Smartphones and Tablet - Antique Silver',\n",
       " 'MAGBOT AB9 Bluetooth Wireless Smart Fitness Band for Boys/Men/Kids/Women | Sports Watch Compatible with All Smart Mobile Phones | Heart Rate and BP Monitor, Calories Counter',\n",
       " 'IKALL K260 4G Volte Smartphone (5.5 Inch, 2GB, 16GB)',\n",
       " 'T angxi Unlocked Mate40 Pro Dual SIM Unlocked Smartphones with 5.45in HD Full Screen, 1GB RAM, 8GB ROM, 2MP, 5MP, Android 6.0, Face/Fingerprint Unlock, 2200mAh Battery (Golden)',\n",
       " 'Oppo F17 (Navy Blue, 6GB RAM, 128GB Storage) with No Cost EMI/Additional Exchange Offers',\n",
       " 'MOTOROLA G10 Power (64 GB) (4 GB RAM) (Aurora Grey)',\n",
       " 'KECHAODA K10 Finger Bluetooth Phone, Single SIM, 0.66-inch Display, 300mAh Battery, Wireless FM, BIS Certified (Rose Gold)',\n",
       " 'Redmi 5 (Gold, 2GB RAM, 16GB Storage)',\n",
       " 'POCO M3 (Power Black, 6GB RAM, 64GB Storage)',\n",
       " 'SHIVANSH Karbonn K9 Smart Phone',\n",
       " 'Redmi Poco C3 (Arctic Blue, 3 RAM / 32 Storage)',\n",
       " 'OPPO A11K (Deep Blue, 2GB RAM, 32GB Storage) with No Cost EMI/Additional Exchange Offers',\n",
       " 'Lava Z2 Max (Stroked Blue, 2GB RAM, 32 GB Storage) - 6000mAh Battery | 7” HD+ Display',\n",
       " 'Unlocked Cell Phone, HD I12 Pro 1+8G Smartphone Face Unlock for 6.0 for WiFi+BT+FM(European regulations)',\n",
       " 'Nillkin Case for Huawei Mate 40 Pro (6.76\" Inch) Super Frosted Hard Back Cover PC White Color',\n",
       " 'IKALL K210 5.5 Inch, 2GB, 16GB, 4G Volte Smartphone (Blue)',\n",
       " 'Mini Phone, Cell Phone V66+ Ultra‑Thin Sim Card Dual Card Slot for Students for School for Kids(Black)',\n",
       " 'Panasonic Eluga Z1 Pro (Gold, 4GB RAM, 64GB Storage)',\n",
       " 'V66 + Smartphone Without Contract Dual Ultra-Thin Dual Card Mobile Phone with Dual Standby with 1-2 Hour Charging time, 700 mAh Battery(Black)',\n",
       " 'Samsung Galaxy A21S (White, 6GB RAM, 64GB Storage) Without Offer',\n",
       " 'Samsung Galaxy M12 (White,6GB RAM, 128GB Storage) 6000 mAh with 8nm Processor | True 48 MP Quad Camera | 90Hz Refresh Rate',\n",
       " 'OPPO A1K (Black, 2GB RAM, 32GB Storage) Without Offer',\n",
       " 'Redmi 9 Power (Fiery Red, 4GB RAM, 128GB Storage) - 6000mAh Battery |FHD+ Screen| 48MP Quad Camera | Snapdragon 662 Processor',\n",
       " 'Small Portable Cell Phone for Children Mini Student Phone, Touchscreen Companion Smartphone with Earphones Equipped with Cover and Display(Black)',\n",
       " 'I KALL K280 Smartphone (6.26 Inch, 32GB, Grey)',\n",
       " 'India Gadgets - Armor X7 Pro Rugged Android Mobile Phone: 4Gb + 32Gb: 5.0\" HD+ IPS Display: 4000mAh Battery: Dustproof Waterproof IP68 & IP69K Smartphone (Yellow)',\n",
       " 'Oppo A15s (Fancy White, 4GB, 128GB Storage) with No Cost EMI/Additional Exchange Offers (CPH2179)',\n",
       " 'I KALL K510 Smartphone (Grey, 3GB, 32GB)',\n",
       " 'KECHAODA K33 Slim Card Size Dual Sim Phone with External Memory Slot 1.44 inch Display(Gold)',\n",
       " 'Tecno Spark 7 (Morpheus Blue, 2GB RAM, 32 GB Storage) - 6000mAh Battery|16 MP Dual Camera| 6.52” Dot Notch Display',\n",
       " 'Samsung Galaxy M02 (Red,3GB RAM, 32GB Storage)',\n",
       " 'MAGBOT AB2 Bluetooth Wireless Smart Fitness Band for Boys/Men/Kids/Women | Sports Watch Compatible with Xiaomi, Oppo, Vivo Mobile Phone | Heart Rate and BP Monitor, Calories Counter',\n",
       " 'Oppo A54 (Starry Blue, 4GB RAM, 64GB Storage) with No Cost EMI/Additional Exchange Offers, 4gb, 64gb',\n",
       " 'Maplin Pro 5G (4GB / 64 GB) with 6.53 Inch Screen and 5000 mAh Smartphone in Crystal Blue',\n",
       " 'Gionee S11 Lite (Blue, 4GB RAM, 32GB Storage)',\n",
       " \"Vaku Luxos ® World's Smallest Dual-Sim Nano Phone with Voice Changer, Alarm, Bluetooth and More (Blue)\",\n",
       " 'Nokia 3.4 Dusk, 4GB RAM, 64GB Storage',\n",
       " 'Vivo Y55s Mobile Phone Gold Colour',\n",
       " 'Motorola G9 (Sapphire Blue, 64 GB) (4 GB RAM)',\n",
       " \"itel Vision 1 Pro (Ocean Blue, 2GB RAM, 32 GB Storage, 6.52'' HD+ IPS Waterdrop Display)\",\n",
       " 'MAGBOT AC7 Bluetooth Wireless Smart Fitness Band for Boys/Men/Kids/Women | Sports Watch Compatible with Xiaomi, Oppo, Vivo Mobile Phone | Heart Rate and BP Monitor, Calories Counter',\n",
       " 'MAGBOT AC3 Bluetooth Wireless Smart Fitness Band for Boys/Men/Kids/Women | Sports Watch Compatible with All Smart Mobile Phones | Heart Rate and BP Monitor, Calories Counter',\n",
       " 'Micromax in Note 1 (Green, 4GB RAM, 64GB Storage)',\n",
       " 'Redmi Note 10 Pro (Glacial Blue, 6GB RAM, 128GB Storage) -120hz Super Amoled Display|64MP with 5mp Super Tele- Marcro, Normal',\n",
       " 'MAGBOT AB1 Bluetooth Wireless Smart Fitness Band for Boys/Men/Kids/Women | Sports Watch Compatible with All Smart Mobile Phones | Heart Rate and BP Monitor, Calories Counter',\n",
       " 'Realme 8 5G (Supersonic Blue, 8GB RAM, 128GB Storage)',\n",
       " 'Vivo Y15 (Aqua Blue, 4GB RAM, 64GB Storage)',\n",
       " 'LG W30 PRO with 16MP Front Camera (Midnight Purple, 4GB RAM, 64GB Storage, SD 632)',\n",
       " 'Lava Z2 (2GB RAM, 32GB Storage)- Aqua Blue, Regular',\n",
       " 'IKALL K200 4G Smartphone (5.5 Inch IPS Display, 2GB Ram, 16GB Storage, Volte, Gold)',\n",
       " 'Kechaoda A32 Bluetooth Dialer 1.44 inch Dual Sim Mobile Phone with Charging Cable in Aluminum Box Golden Color',\n",
       " 'realme C25 (Watery Grey, 4GB RAM+128GB Storage) with No Cost EMI/Additional Exchange Offers',\n",
       " '(Renewed) Samsung Galaxy M01 (Black, 3GB RAM, 32GB Storage) Without Offer',\n",
       " 'Samsung Galaxy A21s (Blue, 6GB RAM, 64GB Storage) with No Cost EMI/Additional Exchange Offers',\n",
       " 'T angxi i12 Pro MAX, 2GB RAM, 32GB Storage',\n",
       " 'I KALL K280 Smartphone (6.26 Inch, 32GB, Black)',\n",
       " 'Xifo Kekai S5 SE-2021 with 6.8 inch (3 GB 32 GB) 4G Volte Smartphone (Twilight Blue)',\n",
       " 'MAGBOT AC6 Bluetooth Wireless Smart Fitness Band for Boys/Men/Kids/Women | Sports Watch Compatible with All Smart Mobile Phones | Heart Rate and BP Monitor, Calories Counter']"
      ]
     },
     "execution_count": 117,
     "metadata": {},
     "output_type": "execute_result"
    }
   ],
   "source": [
    "all_mobiles_list"
   ]
  },
  {
   "cell_type": "code",
   "execution_count": 118,
   "id": "40d0eb06-92c2-491a-a8bc-45b9906d14c5",
   "metadata": {},
   "outputs": [
    {
     "data": {
      "text/plain": [
       "314"
      ]
     },
     "execution_count": 118,
     "metadata": {},
     "output_type": "execute_result"
    }
   ],
   "source": [
    "len(all_mobiles_list)"
   ]
  },
  {
   "cell_type": "markdown",
   "id": "ad34893e-08c6-4ea2-8550-ac6fc29c398d",
   "metadata": {},
   "source": [
    "## I must used NoSuchElementException"
   ]
  },
  {
   "cell_type": "raw",
   "id": "1a900d80-b383-4b64-8c43-541991a1b8e9",
   "metadata": {},
   "source": [
    "all_prices_list = []\n",
    "for i in range(1,20):\n",
    "    price = driver.find_elements_by_xpath('//span[@class=\"a-price-whole\"]')\n",
    "    for i in price:\n",
    "        all_prices_list.append(i.text)\n",
    "    button = driver.find_element_by_xpath('//li[@ class=\"a-last\"]')\n",
    "    button.click()\n",
    "    time.sleep(2)"
   ]
  },
  {
   "cell_type": "code",
   "execution_count": 128,
   "id": "d24078e6-20f2-4749-8cc6-c57d1e5a5915",
   "metadata": {},
   "outputs": [
    {
     "data": {
      "text/plain": [
       "['9,593']"
      ]
     },
     "execution_count": 128,
     "metadata": {},
     "output_type": "execute_result"
    }
   ],
   "source": [
    "all_prices_list"
   ]
  },
  {
   "cell_type": "code",
   "execution_count": null,
   "id": "b8493d6d-f5bc-40a2-a7fe-398efd5e0f33",
   "metadata": {},
   "outputs": [],
   "source": []
  },
  {
   "cell_type": "code",
   "execution_count": null,
   "id": "adda416d-d725-4301-8851-379dd0e52968",
   "metadata": {},
   "outputs": [],
   "source": [
    "url_list = []\n",
    "for i in range(1,20):\n",
    "    mobile = driver.find_elements_by_xpath('//span[@class=\"a-size-medium a-color-base a-text-normal\"]')\n",
    "    for i in mobile:\n",
    "        for j in driver.get('a'):\n",
    "            \n",
    "        all_mobiles_list.append(i.text)\n",
    "    \n",
    "    button.click()\n",
    "    time.sleep(2)"
   ]
  },
  {
   "cell_type": "markdown",
   "id": "cbf619ac-21e7-4816-80bc-fc14242f7b28",
   "metadata": {},
   "source": [
    "### I must used exception"
   ]
  },
  {
   "cell_type": "raw",
   "id": "f1dff3bd-8cb6-4fb3-b7ea-03b5c98112a6",
   "metadata": {},
   "source": [
    "for i in range(0,20):\n",
    "    image_src = driver.find_elements_by_xpath('//img[@class=\"s-image\"]')\n",
    "    url_list = []\n",
    "    for i in image_src:\n",
    "        url_list.append(i.get_attribute('src'))\n",
    "    button = driver.find_element_by_xpath('//li[@ class=\"a-last\"]')\n",
    "    button.click()\n",
    "    time.sleep(2)\n",
    "   "
   ]
  },
  {
   "cell_type": "code",
   "execution_count": null,
   "id": "b4a3c247-7ff1-4947-8573-e13d10fc438b",
   "metadata": {},
   "outputs": [],
   "source": []
  },
  {
   "cell_type": "code",
   "execution_count": null,
   "id": "a1eedce5-78f1-4c58-b343-7b5302a0902a",
   "metadata": {},
   "outputs": [],
   "source": [
    "url_list1 = []"
   ]
  },
  {
   "cell_type": "code",
   "execution_count": 150,
   "id": "7dcdf3e5-37b0-49c8-8914-84b2c2da6f65",
   "metadata": {},
   "outputs": [
    {
     "data": {
      "text/plain": [
       "['https://m.media-amazon.com/images/I/71ZTu4xe-zL._AC_UY218_.jpg',\n",
       " 'https://m.media-amazon.com/images/I/41NYO-IkV5L._AC_UY218_.jpg',\n",
       " 'https://m.media-amazon.com/images/I/71ZTu4xe-zL._AC_UY218_.jpg',\n",
       " 'https://m.media-amazon.com/images/I/41NYO-IkV5L._AC_UY218_.jpg',\n",
       " 'https://m.media-amazon.com/images/I/71ZTu4xe-zL._AC_UY218_.jpg',\n",
       " 'https://m.media-amazon.com/images/I/41NYO-IkV5L._AC_UY218_.jpg',\n",
       " 'https://m.media-amazon.com/images/I/71ZTu4xe-zL._AC_UY218_.jpg',\n",
       " 'https://m.media-amazon.com/images/I/41NYO-IkV5L._AC_UY218_.jpg',\n",
       " 'https://m.media-amazon.com/images/I/71ZTu4xe-zL._AC_UY218_.jpg',\n",
       " 'https://m.media-amazon.com/images/I/41NYO-IkV5L._AC_UY218_.jpg',\n",
       " 'https://m.media-amazon.com/images/I/71ZTu4xe-zL._AC_UY218_.jpg',\n",
       " 'https://m.media-amazon.com/images/I/41NYO-IkV5L._AC_UY218_.jpg',\n",
       " 'https://m.media-amazon.com/images/I/71ZTu4xe-zL._AC_UY218_.jpg',\n",
       " 'https://m.media-amazon.com/images/I/41NYO-IkV5L._AC_UY218_.jpg',\n",
       " 'https://m.media-amazon.com/images/I/71ZTu4xe-zL._AC_UY218_.jpg',\n",
       " 'https://m.media-amazon.com/images/I/41NYO-IkV5L._AC_UY218_.jpg',\n",
       " 'https://m.media-amazon.com/images/I/71ZTu4xe-zL._AC_UY218_.jpg',\n",
       " 'https://m.media-amazon.com/images/I/41NYO-IkV5L._AC_UY218_.jpg',\n",
       " 'https://m.media-amazon.com/images/I/71ZTu4xe-zL._AC_UY218_.jpg',\n",
       " 'https://m.media-amazon.com/images/I/41NYO-IkV5L._AC_UY218_.jpg']"
      ]
     },
     "execution_count": 150,
     "metadata": {},
     "output_type": "execute_result"
    }
   ],
   "source": [
    "image_src = driver.find_elements_by_xpath('//img[@class=\"s-image\"]')\n",
    "time.sleep(10)\n",
    "for i in image_src:\n",
    "    url_list1.append(i.get_attribute('src'))\n",
    "url_list1        "
   ]
  },
  {
   "cell_type": "code",
   "execution_count": 152,
   "id": "d6c5897a-922b-4432-acc9-79d589f2e41a",
   "metadata": {},
   "outputs": [
    {
     "data": {
      "text/plain": [
       "20"
      ]
     },
     "execution_count": 152,
     "metadata": {},
     "output_type": "execute_result"
    }
   ],
   "source": [
    "len(url_list1)"
   ]
  },
  {
   "cell_type": "code",
   "execution_count": 174,
   "id": "8f470b90-3c8d-4209-9ab9-f32012e976aa",
   "metadata": {},
   "outputs": [],
   "source": [
    "phone_urls = []\n",
    "phone_url = driver.find_elements_by_xpath('//div[@class=\"a-section a-spacing-none\"]//h2//a')\n",
    "time.sleep(10)\n",
    "for x in phone_url:\n",
    "    phone_urls.append(x.get_attribute('href'))\n",
    "\n"
   ]
  },
  {
   "cell_type": "code",
   "execution_count": 175,
   "id": "f7bebe16-2dbd-4951-87a3-2cab58310ffb",
   "metadata": {},
   "outputs": [
    {
     "data": {
      "text/plain": [
       "2"
      ]
     },
     "execution_count": 175,
     "metadata": {},
     "output_type": "execute_result"
    }
   ],
   "source": [
    "len(phone_urls)"
   ]
  },
  {
   "cell_type": "code",
   "execution_count": 176,
   "id": "a792dd56-f8b8-4cf7-a7a0-9a850a21094f",
   "metadata": {},
   "outputs": [
    {
     "data": {
      "text/plain": [
       "['https://www.amazon.in/angxi-i12-Pro-MAX-Storage/dp/B08XXWB34B/ref=sr_1_305?dchild=1&keywords=Mobile+Phone+Under+20000&qid=1625477286&sr=8-305',\n",
       " 'https://www.amazon.in/KALL-K280-Smartphone-6-26-Black/dp/B091CDJY4S/ref=sr_1_306?dchild=1&keywords=Mobile+Phone+Under+20000&qid=1625477286&sr=8-306']"
      ]
     },
     "execution_count": 176,
     "metadata": {},
     "output_type": "execute_result"
    }
   ],
   "source": [
    "phone_urls"
   ]
  },
  {
   "cell_type": "markdown",
   "id": "676b3379-d61d-42a1-a6c8-5162ee4cb230",
   "metadata": {},
   "source": [
    "## Beautifull soup"
   ]
  },
  {
   "cell_type": "code",
   "execution_count": 182,
   "id": "1be4996b-aee1-404e-870b-587a19bf2931",
   "metadata": {},
   "outputs": [],
   "source": [
    "url_i = \"https://internshala.com/fresher-jobs\""
   ]
  },
  {
   "cell_type": "code",
   "execution_count": 183,
   "id": "40b93cb7-fd71-47bf-9044-c132ab77246a",
   "metadata": {},
   "outputs": [],
   "source": [
    "response_i = requests.get(url=url_i)"
   ]
  },
  {
   "cell_type": "code",
   "execution_count": 184,
   "id": "064b52a3-b4d5-4b80-ae85-bc460e683264",
   "metadata": {},
   "outputs": [
    {
     "data": {
      "text/plain": [
       "<Response [200]>"
      ]
     },
     "execution_count": 184,
     "metadata": {},
     "output_type": "execute_result"
    }
   ],
   "source": [
    "response_i"
   ]
  },
  {
   "cell_type": "code",
   "execution_count": 185,
   "id": "6578a9b0-54c1-462e-a3b8-856f55b89788",
   "metadata": {},
   "outputs": [],
   "source": [
    "soup_i = BS(response_i.content)"
   ]
  },
  {
   "cell_type": "code",
   "execution_count": 187,
   "id": "fb04b924-6249-4b08-8f45-93a24a084e85",
   "metadata": {},
   "outputs": [],
   "source": [
    "#soup_i"
   ]
  },
  {
   "cell_type": "code",
   "execution_count": 192,
   "id": "01b81c6c-33d7-4d69-b243-9340e7fe0202",
   "metadata": {},
   "outputs": [],
   "source": [
    "job_info = []\n",
    "ctc = soup_i.find_all('div',class_=\"item_body\")\n",
    "for oli in ctc:\n",
    "    job_info.append(oli.text.replace('\\n','').replace(\"\\xa0\",\"\").strip())\n"
   ]
  },
  {
   "cell_type": "code",
   "execution_count": 193,
   "id": "9d830167-790a-401b-b896-391cc84d11e9",
   "metadata": {},
   "outputs": [
    {
     "data": {
      "text/plain": [
       "['StartsImmediately',\n",
       " '4 - 8.5 LPA',\n",
       " \"4 Aug' 21\",\n",
       " 'StartsImmediately',\n",
       " '3 LPA',\n",
       " \"4 Aug' 21\",\n",
       " 'StartsImmediately',\n",
       " '3 - 3.6 LPA',\n",
       " \"4 Aug' 21\",\n",
       " 'StartsImmediately',\n",
       " '3 - 3.1 LPA',\n",
       " \"4 Aug' 21\",\n",
       " 'StartsImmediately',\n",
       " '3 LPA',\n",
       " \"2 Aug' 21\",\n",
       " 'StartsImmediately',\n",
       " '3 - 4 LPA',\n",
       " \"2 Aug' 21\",\n",
       " 'StartsImmediately',\n",
       " '3.4 - 4.6 LPA',\n",
       " \"1 Aug' 21\",\n",
       " 'StartsImmediately',\n",
       " '3.5 - 5 LPA',\n",
       " \"1 Aug' 21\",\n",
       " 'StartsImmediately',\n",
       " '4 - 6 LPA',\n",
       " \"1 Aug' 21\",\n",
       " 'StartsImmediately',\n",
       " '3 - 3.6 LPA',\n",
       " \"1 Aug' 21\",\n",
       " 'StartsImmediately',\n",
       " '3 - 3.1 LPA',\n",
       " \"1 Aug' 21\",\n",
       " 'StartsImmediately',\n",
       " '3 - 7 LPA',\n",
       " \"1 Aug' 21\",\n",
       " 'StartsImmediately',\n",
       " '5 - 10 LPA',\n",
       " \"1 Aug' 21\",\n",
       " 'StartsImmediately',\n",
       " '3 LPA',\n",
       " \"1 Aug' 21\",\n",
       " 'StartsImmediately',\n",
       " '3 LPA',\n",
       " \"31 Jul' 21\",\n",
       " 'StartsImmediately',\n",
       " '3 LPA',\n",
       " \"31 Jul' 21\",\n",
       " 'StartsImmediately',\n",
       " '9 - 11 LPA',\n",
       " \"30 Jul' 21\",\n",
       " 'StartsImmediately',\n",
       " '3 - 3.5 LPA',\n",
       " \"30 Jul' 21\",\n",
       " 'StartsImmediately',\n",
       " '3 LPA',\n",
       " \"31 Jul' 21\",\n",
       " 'StartsImmediately',\n",
       " '3 - 4 LPA',\n",
       " \"30 Jul' 21\",\n",
       " 'StartsImmediately',\n",
       " '3.75 - 4 LPA',\n",
       " \"30 Jul' 21\",\n",
       " 'StartsImmediately',\n",
       " '3 - 3.25 LPA',\n",
       " \"30 Jul' 21\",\n",
       " 'StartsImmediately',\n",
       " '3 - 4 LPA',\n",
       " \"30 Jul' 21\",\n",
       " 'StartsImmediately',\n",
       " '3 - 4 LPA',\n",
       " \"30 Jul' 21\",\n",
       " 'StartsImmediately',\n",
       " '3 - 3.5 LPA',\n",
       " \"30 Jul' 21\",\n",
       " 'StartsImmediately',\n",
       " '3 - 6 LPA',\n",
       " \"30 Jul' 21\",\n",
       " 'StartsImmediately',\n",
       " '5 - 8 LPA',\n",
       " \"30 Jul' 21\",\n",
       " 'StartsImmediately',\n",
       " '4.5 LPA',\n",
       " \"30 Jul' 21\",\n",
       " 'StartsImmediately',\n",
       " '3.6 - 10 LPA',\n",
       " \"29 Jul' 21\",\n",
       " 'StartsImmediately',\n",
       " '3 - 4 LPA',\n",
       " \"29 Jul' 21\",\n",
       " 'StartsImmediately',\n",
       " '5.5 - 6.5 LPA',\n",
       " \"29 Jul' 21\",\n",
       " 'StartsImmediately',\n",
       " '3 - 3.2 LPA',\n",
       " \"29 Jul' 21\",\n",
       " 'StartsImmediately',\n",
       " '3.8 - 4.8 LPA',\n",
       " \"31 Jul' 21\",\n",
       " 'StartsImmediately',\n",
       " '3 - 4.8 LPA',\n",
       " \"31 Jul' 21\",\n",
       " 'StartsImmediately',\n",
       " '3 LPA',\n",
       " \"29 Jul' 21\",\n",
       " 'StartsImmediately',\n",
       " '3 LPA',\n",
       " \"31 Jul' 21\",\n",
       " 'StartsImmediately',\n",
       " '3 LPA',\n",
       " \"28 Jul' 21\",\n",
       " 'StartsImmediately',\n",
       " '3 - 3.6 LPA',\n",
       " \"28 Jul' 21\",\n",
       " 'StartsImmediately',\n",
       " '3.6 - 5 LPA',\n",
       " \"28 Jul' 21\",\n",
       " 'StartsImmediately',\n",
       " '3 - 4 LPA',\n",
       " \"28 Jul' 21\"]"
      ]
     },
     "execution_count": 193,
     "metadata": {},
     "output_type": "execute_result"
    }
   ],
   "source": [
    "job_info"
   ]
  },
  {
   "cell_type": "code",
   "execution_count": 196,
   "id": "e9067836-84fc-490c-a9f9-8d7bd140b88a",
   "metadata": {},
   "outputs": [],
   "source": [
    "ctc_list =[]\n",
    "for i in range(1,len(job_info),3):\n",
    "    ctc_list.append(job_info[i])\n",
    "    "
   ]
  },
  {
   "cell_type": "code",
   "execution_count": 197,
   "id": "672b64f2-4f31-484d-9a72-46a0ca3330d7",
   "metadata": {},
   "outputs": [
    {
     "data": {
      "text/plain": [
       "['4 - 8.5 LPA',\n",
       " '3 LPA',\n",
       " '3 - 3.6 LPA',\n",
       " '3 - 3.1 LPA',\n",
       " '3 LPA',\n",
       " '3 - 4 LPA',\n",
       " '3.4 - 4.6 LPA',\n",
       " '3.5 - 5 LPA',\n",
       " '4 - 6 LPA',\n",
       " '3 - 3.6 LPA',\n",
       " '3 - 3.1 LPA',\n",
       " '3 - 7 LPA',\n",
       " '5 - 10 LPA',\n",
       " '3 LPA',\n",
       " '3 LPA',\n",
       " '3 LPA',\n",
       " '9 - 11 LPA',\n",
       " '3 - 3.5 LPA',\n",
       " '3 LPA',\n",
       " '3 - 4 LPA',\n",
       " '3.75 - 4 LPA',\n",
       " '3 - 3.25 LPA',\n",
       " '3 - 4 LPA',\n",
       " '3 - 4 LPA',\n",
       " '3 - 3.5 LPA',\n",
       " '3 - 6 LPA',\n",
       " '5 - 8 LPA',\n",
       " '4.5 LPA',\n",
       " '3.6 - 10 LPA',\n",
       " '3 - 4 LPA',\n",
       " '5.5 - 6.5 LPA',\n",
       " '3 - 3.2 LPA',\n",
       " '3.8 - 4.8 LPA',\n",
       " '3 - 4.8 LPA',\n",
       " '3 LPA',\n",
       " '3 LPA',\n",
       " '3 LPA',\n",
       " '3 - 3.6 LPA',\n",
       " '3.6 - 5 LPA',\n",
       " '3 - 4 LPA']"
      ]
     },
     "execution_count": 197,
     "metadata": {},
     "output_type": "execute_result"
    }
   ],
   "source": [
    "ctc_list"
   ]
  },
  {
   "cell_type": "code",
   "execution_count": 200,
   "id": "9187cf71-fcce-4f54-83e7-38009224760e",
   "metadata": {},
   "outputs": [],
   "source": [
    "## for the apply date\n",
    "\n",
    "apply_date_list = []\n",
    "for i in range(2,len(job_info),3):\n",
    "    apply_date_list.append(job_info[i])"
   ]
  },
  {
   "cell_type": "code",
   "execution_count": 201,
   "id": "a52f8534-fe79-4b9a-aef9-f74aac26f3db",
   "metadata": {},
   "outputs": [
    {
     "data": {
      "text/plain": [
       "[\"4 Aug' 21\",\n",
       " \"4 Aug' 21\",\n",
       " \"4 Aug' 21\",\n",
       " \"4 Aug' 21\",\n",
       " \"2 Aug' 21\",\n",
       " \"2 Aug' 21\",\n",
       " \"1 Aug' 21\",\n",
       " \"1 Aug' 21\",\n",
       " \"1 Aug' 21\",\n",
       " \"1 Aug' 21\",\n",
       " \"1 Aug' 21\",\n",
       " \"1 Aug' 21\",\n",
       " \"1 Aug' 21\",\n",
       " \"1 Aug' 21\",\n",
       " \"31 Jul' 21\",\n",
       " \"31 Jul' 21\",\n",
       " \"30 Jul' 21\",\n",
       " \"30 Jul' 21\",\n",
       " \"31 Jul' 21\",\n",
       " \"30 Jul' 21\",\n",
       " \"30 Jul' 21\",\n",
       " \"30 Jul' 21\",\n",
       " \"30 Jul' 21\",\n",
       " \"30 Jul' 21\",\n",
       " \"30 Jul' 21\",\n",
       " \"30 Jul' 21\",\n",
       " \"30 Jul' 21\",\n",
       " \"30 Jul' 21\",\n",
       " \"29 Jul' 21\",\n",
       " \"29 Jul' 21\",\n",
       " \"29 Jul' 21\",\n",
       " \"29 Jul' 21\",\n",
       " \"31 Jul' 21\",\n",
       " \"31 Jul' 21\",\n",
       " \"29 Jul' 21\",\n",
       " \"31 Jul' 21\",\n",
       " \"28 Jul' 21\",\n",
       " \"28 Jul' 21\",\n",
       " \"28 Jul' 21\",\n",
       " \"28 Jul' 21\"]"
      ]
     },
     "execution_count": 201,
     "metadata": {},
     "output_type": "execute_result"
    }
   ],
   "source": [
    "apply_date_list"
   ]
  },
  {
   "cell_type": "markdown",
   "id": "f78b04f5-dc04-4afa-a961-3db6a7c87c8c",
   "metadata": {},
   "source": [
    "### book informations"
   ]
  },
  {
   "cell_type": "code",
   "execution_count": 202,
   "id": "7944b36e-0418-4ed4-8aaf-920727341abf",
   "metadata": {},
   "outputs": [],
   "source": [
    "page = requests.get(url=\"https://bookpage.com/reviews/\")"
   ]
  },
  {
   "cell_type": "code",
   "execution_count": 203,
   "id": "b9c39e52-54bd-49a0-9514-1818edfbdee8",
   "metadata": {},
   "outputs": [
    {
     "data": {
      "text/plain": [
       "<Response [200]>"
      ]
     },
     "execution_count": 203,
     "metadata": {},
     "output_type": "execute_result"
    }
   ],
   "source": [
    "page"
   ]
  },
  {
   "cell_type": "code",
   "execution_count": 204,
   "id": "13ac1868-7122-4a55-aaad-0913f45065d1",
   "metadata": {},
   "outputs": [],
   "source": [
    "page_soup = BS(page.content)"
   ]
  },
  {
   "cell_type": "code",
   "execution_count": 205,
   "id": "85fa2c68-576b-429b-bd4a-221961afb5ef",
   "metadata": {},
   "outputs": [],
   "source": [
    "books_url = page_soup.find_all('h4',class_=\"italic\")"
   ]
  },
  {
   "cell_type": "code",
   "execution_count": 206,
   "id": "7ced762a-159a-48d4-a0ff-29fcea9e4085",
   "metadata": {},
   "outputs": [
    {
     "data": {
      "text/plain": [
       "[<h4 class=\"italic\">\n",
       " <a href=\"/reviews/26382-kristin-harmel-forest-vanishing-stars-fiction\">The Forest of Vanishing Stars</a>\n",
       " </h4>,\n",
       " <h4 class=\"italic\">\n",
       " <a href=\"/reviews/26424-michael-pollan-this-your-mind-plants-nonfiction\"> <span style=\"font-style:normal;\">★ </span>This Is Your Mind on Plants</a>\n",
       " </h4>,\n",
       " <h4 class=\"italic\">\n",
       " <a href=\"/reviews/26458-daniel-james-brown-facing-mountain-audio\">Facing the Mountain</a>\n",
       " </h4>,\n",
       " <h4 class=\"italic\">\n",
       " <a href=\"/reviews/26473-mia-mckenzie-skye-falling-fiction\"> <span style=\"font-style:normal;\">★ </span>Skye Falling</a>\n",
       " </h4>,\n",
       " <h4 class=\"italic\">\n",
       " <a href=\"/reviews/26457-patrick-radden-keefe-empire-pain-biography\"> <span style=\"font-style:normal;\">★ </span>Empire of Pain</a>\n",
       " </h4>,\n",
       " <h4 class=\"italic\">\n",
       " <a href=\"/reviews/26421-amy-sohn-man-who-hated-women-history\"> <span style=\"font-style:normal;\">★ </span>The Man Who Hated Women</a>\n",
       " </h4>,\n",
       " <h4 class=\"italic\">\n",
       " <a href=\"/reviews/26529-nidhi-chanani-jukebox\">Jukebox</a>\n",
       " </h4>,\n",
       " <h4 class=\"italic\">\n",
       " <a href=\"/reviews/26478-richard-wright-man-who-lived-underground-fiction\">The Man Who Lived Underground</a>\n",
       " </h4>,\n",
       " <h4 class=\"italic\">\n",
       " <a href=\"/reviews/26420-shirley-jackson-letters-shirley-jackson-nonfiction\">The Letters of Shirley Jackson</a>\n",
       " </h4>,\n",
       " <h4 class=\"italic\">\n",
       " <a href=\"/reviews/26418-mary-gauthier-saved-by-song-nonfiction\">Saved by a Song</a>\n",
       " </h4>]"
      ]
     },
     "execution_count": 206,
     "metadata": {},
     "output_type": "execute_result"
    }
   ],
   "source": [
    "books_url"
   ]
  },
  {
   "cell_type": "code",
   "execution_count": 218,
   "id": "f541677c-8805-44d6-a08c-76a48eb1ee24",
   "metadata": {},
   "outputs": [],
   "source": [
    "urls = []\n",
    "for oli in books_url:\n",
    "    for j in oli.find_all(\"a\",href=True):\n",
    "        urls.append(j[\"href\"].replace(\"/\",\"\"))\n",
    "    "
   ]
  },
  {
   "cell_type": "code",
   "execution_count": 219,
   "id": "e59e2df4-6d66-4f39-b38b-31eacbd5ff60",
   "metadata": {},
   "outputs": [
    {
     "data": {
      "text/plain": [
       "['reviews26382-kristin-harmel-forest-vanishing-stars-fiction',\n",
       " 'reviews26424-michael-pollan-this-your-mind-plants-nonfiction',\n",
       " 'reviews26458-daniel-james-brown-facing-mountain-audio',\n",
       " 'reviews26473-mia-mckenzie-skye-falling-fiction',\n",
       " 'reviews26457-patrick-radden-keefe-empire-pain-biography',\n",
       " 'reviews26421-amy-sohn-man-who-hated-women-history',\n",
       " 'reviews26529-nidhi-chanani-jukebox',\n",
       " 'reviews26478-richard-wright-man-who-lived-underground-fiction',\n",
       " 'reviews26420-shirley-jackson-letters-shirley-jackson-nonfiction',\n",
       " 'reviews26418-mary-gauthier-saved-by-song-nonfiction']"
      ]
     },
     "execution_count": 219,
     "metadata": {},
     "output_type": "execute_result"
    }
   ],
   "source": [
    "urls"
   ]
  },
  {
   "cell_type": "code",
   "execution_count": null,
   "id": "a6304fb4-8d28-423f-bc87-9be42d2aa812",
   "metadata": {},
   "outputs": [],
   "source": []
  }
 ],
 "metadata": {
  "kernelspec": {
   "display_name": "Python 3",
   "language": "python",
   "name": "python3"
  },
  "language_info": {
   "codemirror_mode": {
    "name": "ipython",
    "version": 3
   },
   "file_extension": ".py",
   "mimetype": "text/x-python",
   "name": "python",
   "nbconvert_exporter": "python",
   "pygments_lexer": "ipython3",
   "version": "3.8.2"
  }
 },
 "nbformat": 4,
 "nbformat_minor": 5
}

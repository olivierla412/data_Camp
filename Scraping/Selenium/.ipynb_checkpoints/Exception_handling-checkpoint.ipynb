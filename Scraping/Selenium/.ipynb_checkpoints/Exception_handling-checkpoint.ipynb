{
 "cells": [
  {
   "cell_type": "markdown",
   "id": "0b6675fb",
   "metadata": {},
   "source": [
    "### Web Scraping 3 Handling Exceptions"
   ]
  },
  {
   "cell_type": "markdown",
   "id": "7a2d41d2-041e-40b8-91a2-3ae8cf226eb7",
   "metadata": {},
   "source": [
    "![](sel1.png)"
   ]
  },
  {
   "cell_type": "code",
   "execution_count": 2,
   "id": "5d49c968-974b-4ace-a5c2-044e2ec298ef",
   "metadata": {},
   "outputs": [],
   "source": [
    "from selenium import webdriver\n",
    "import time\n",
    "import pandas as pad\n",
    "from selenium.common.exceptions import NoSuchElementException # Importing the Exception"
   ]
  },
  {
   "cell_type": "code",
   "execution_count": 5,
   "id": "ddb47293-9707-4311-b91c-981d3fe7cca3",
   "metadata": {},
   "outputs": [],
   "source": [
    "driver = webdriver.Chrome('/Users/olivierla412/Desktop/chromedriver')"
   ]
  },
  {
   "cell_type": "code",
   "execution_count": 6,
   "id": "7a8d775e-db91-47a5-88ff-b4768af3f0a0",
   "metadata": {},
   "outputs": [],
   "source": [
    "url = 'https://www.google.com/'"
   ]
  },
  {
   "cell_type": "code",
   "execution_count": 7,
   "id": "f908bd25-50b1-4a95-a70b-83939f1ddfec",
   "metadata": {},
   "outputs": [],
   "source": [
    "driver.get(url=url)"
   ]
  },
  {
   "cell_type": "markdown",
   "id": "12ad461c-9ddb-4bf7-869e-cbc55a65a2f6",
   "metadata": {},
   "source": [
    "### Example , let's find an element which doesnot exist on Google"
   ]
  },
  {
   "cell_type": "markdown",
   "id": "6b4053c1-b49a-4326-ab50-84f372879d6f",
   "metadata": {},
   "source": [
    "## 1.__NoSuchElementException__"
   ]
  },
  {
   "cell_type": "code",
   "execution_count": 8,
   "id": "bf38e77e-bf67-4690-bcf8-468e0536be5f",
   "metadata": {},
   "outputs": [
    {
     "ename": "NoSuchElementException",
     "evalue": "Message: no such element: Unable to locate element: {\"method\":\"css selector\",\"selector\":\"[id=\"hoo-ha-haa\"]\"}\n  (Session info: chrome=91.0.4472.114)\n",
     "output_type": "error",
     "traceback": [
      "\u001b[0;31m---------------------------------------------------------------------------\u001b[0m",
      "\u001b[0;31mNoSuchElementException\u001b[0m                    Traceback (most recent call last)",
      "\u001b[0;32m<ipython-input-8-a9229242b8c1>\u001b[0m in \u001b[0;36m<module>\u001b[0;34m\u001b[0m\n\u001b[0;32m----> 1\u001b[0;31m \u001b[0melement\u001b[0m \u001b[0;34m=\u001b[0m \u001b[0mdriver\u001b[0m\u001b[0;34m.\u001b[0m\u001b[0mfind_element_by_id\u001b[0m\u001b[0;34m(\u001b[0m\u001b[0;34m'hoo-ha-haa'\u001b[0m\u001b[0;34m)\u001b[0m\u001b[0;34m\u001b[0m\u001b[0;34m\u001b[0m\u001b[0m\n\u001b[0m\u001b[1;32m      2\u001b[0m \u001b[0melement\u001b[0m\u001b[0;34m.\u001b[0m\u001b[0mtext\u001b[0m\u001b[0;34m\u001b[0m\u001b[0;34m\u001b[0m\u001b[0m\n",
      "\u001b[0;32m/opt/anaconda3/lib/python3.8/site-packages/selenium/webdriver/remote/webdriver.py\u001b[0m in \u001b[0;36mfind_element_by_id\u001b[0;34m(self, id_)\u001b[0m\n\u001b[1;32m    358\u001b[0m             \u001b[0melement\u001b[0m \u001b[0;34m=\u001b[0m \u001b[0mdriver\u001b[0m\u001b[0;34m.\u001b[0m\u001b[0mfind_element_by_id\u001b[0m\u001b[0;34m(\u001b[0m\u001b[0;34m'foo'\u001b[0m\u001b[0;34m)\u001b[0m\u001b[0;34m\u001b[0m\u001b[0;34m\u001b[0m\u001b[0m\n\u001b[1;32m    359\u001b[0m         \"\"\"\n\u001b[0;32m--> 360\u001b[0;31m         \u001b[0;32mreturn\u001b[0m \u001b[0mself\u001b[0m\u001b[0;34m.\u001b[0m\u001b[0mfind_element\u001b[0m\u001b[0;34m(\u001b[0m\u001b[0mby\u001b[0m\u001b[0;34m=\u001b[0m\u001b[0mBy\u001b[0m\u001b[0;34m.\u001b[0m\u001b[0mID\u001b[0m\u001b[0;34m,\u001b[0m \u001b[0mvalue\u001b[0m\u001b[0;34m=\u001b[0m\u001b[0mid_\u001b[0m\u001b[0;34m)\u001b[0m\u001b[0;34m\u001b[0m\u001b[0;34m\u001b[0m\u001b[0m\n\u001b[0m\u001b[1;32m    361\u001b[0m \u001b[0;34m\u001b[0m\u001b[0m\n\u001b[1;32m    362\u001b[0m     \u001b[0;32mdef\u001b[0m \u001b[0mfind_elements_by_id\u001b[0m\u001b[0;34m(\u001b[0m\u001b[0mself\u001b[0m\u001b[0;34m,\u001b[0m \u001b[0mid_\u001b[0m\u001b[0;34m)\u001b[0m\u001b[0;34m:\u001b[0m\u001b[0;34m\u001b[0m\u001b[0;34m\u001b[0m\u001b[0m\n",
      "\u001b[0;32m/opt/anaconda3/lib/python3.8/site-packages/selenium/webdriver/remote/webdriver.py\u001b[0m in \u001b[0;36mfind_element\u001b[0;34m(self, by, value)\u001b[0m\n\u001b[1;32m    974\u001b[0m                 \u001b[0mby\u001b[0m \u001b[0;34m=\u001b[0m \u001b[0mBy\u001b[0m\u001b[0;34m.\u001b[0m\u001b[0mCSS_SELECTOR\u001b[0m\u001b[0;34m\u001b[0m\u001b[0;34m\u001b[0m\u001b[0m\n\u001b[1;32m    975\u001b[0m                 \u001b[0mvalue\u001b[0m \u001b[0;34m=\u001b[0m \u001b[0;34m'[name=\"%s\"]'\u001b[0m \u001b[0;34m%\u001b[0m \u001b[0mvalue\u001b[0m\u001b[0;34m\u001b[0m\u001b[0;34m\u001b[0m\u001b[0m\n\u001b[0;32m--> 976\u001b[0;31m         return self.execute(Command.FIND_ELEMENT, {\n\u001b[0m\u001b[1;32m    977\u001b[0m             \u001b[0;34m'using'\u001b[0m\u001b[0;34m:\u001b[0m \u001b[0mby\u001b[0m\u001b[0;34m,\u001b[0m\u001b[0;34m\u001b[0m\u001b[0;34m\u001b[0m\u001b[0m\n\u001b[1;32m    978\u001b[0m             'value': value})['value']\n",
      "\u001b[0;32m/opt/anaconda3/lib/python3.8/site-packages/selenium/webdriver/remote/webdriver.py\u001b[0m in \u001b[0;36mexecute\u001b[0;34m(self, driver_command, params)\u001b[0m\n\u001b[1;32m    319\u001b[0m         \u001b[0mresponse\u001b[0m \u001b[0;34m=\u001b[0m \u001b[0mself\u001b[0m\u001b[0;34m.\u001b[0m\u001b[0mcommand_executor\u001b[0m\u001b[0;34m.\u001b[0m\u001b[0mexecute\u001b[0m\u001b[0;34m(\u001b[0m\u001b[0mdriver_command\u001b[0m\u001b[0;34m,\u001b[0m \u001b[0mparams\u001b[0m\u001b[0;34m)\u001b[0m\u001b[0;34m\u001b[0m\u001b[0;34m\u001b[0m\u001b[0m\n\u001b[1;32m    320\u001b[0m         \u001b[0;32mif\u001b[0m \u001b[0mresponse\u001b[0m\u001b[0;34m:\u001b[0m\u001b[0;34m\u001b[0m\u001b[0;34m\u001b[0m\u001b[0m\n\u001b[0;32m--> 321\u001b[0;31m             \u001b[0mself\u001b[0m\u001b[0;34m.\u001b[0m\u001b[0merror_handler\u001b[0m\u001b[0;34m.\u001b[0m\u001b[0mcheck_response\u001b[0m\u001b[0;34m(\u001b[0m\u001b[0mresponse\u001b[0m\u001b[0;34m)\u001b[0m\u001b[0;34m\u001b[0m\u001b[0;34m\u001b[0m\u001b[0m\n\u001b[0m\u001b[1;32m    322\u001b[0m             response['value'] = self._unwrap_value(\n\u001b[1;32m    323\u001b[0m                 response.get('value', None))\n",
      "\u001b[0;32m/opt/anaconda3/lib/python3.8/site-packages/selenium/webdriver/remote/errorhandler.py\u001b[0m in \u001b[0;36mcheck_response\u001b[0;34m(self, response)\u001b[0m\n\u001b[1;32m    240\u001b[0m                 \u001b[0malert_text\u001b[0m \u001b[0;34m=\u001b[0m \u001b[0mvalue\u001b[0m\u001b[0;34m[\u001b[0m\u001b[0;34m'alert'\u001b[0m\u001b[0;34m]\u001b[0m\u001b[0;34m.\u001b[0m\u001b[0mget\u001b[0m\u001b[0;34m(\u001b[0m\u001b[0;34m'text'\u001b[0m\u001b[0;34m)\u001b[0m\u001b[0;34m\u001b[0m\u001b[0;34m\u001b[0m\u001b[0m\n\u001b[1;32m    241\u001b[0m             \u001b[0;32mraise\u001b[0m \u001b[0mexception_class\u001b[0m\u001b[0;34m(\u001b[0m\u001b[0mmessage\u001b[0m\u001b[0;34m,\u001b[0m \u001b[0mscreen\u001b[0m\u001b[0;34m,\u001b[0m \u001b[0mstacktrace\u001b[0m\u001b[0;34m,\u001b[0m \u001b[0malert_text\u001b[0m\u001b[0;34m)\u001b[0m\u001b[0;34m\u001b[0m\u001b[0;34m\u001b[0m\u001b[0m\n\u001b[0;32m--> 242\u001b[0;31m         \u001b[0;32mraise\u001b[0m \u001b[0mexception_class\u001b[0m\u001b[0;34m(\u001b[0m\u001b[0mmessage\u001b[0m\u001b[0;34m,\u001b[0m \u001b[0mscreen\u001b[0m\u001b[0;34m,\u001b[0m \u001b[0mstacktrace\u001b[0m\u001b[0;34m)\u001b[0m\u001b[0;34m\u001b[0m\u001b[0;34m\u001b[0m\u001b[0m\n\u001b[0m\u001b[1;32m    243\u001b[0m \u001b[0;34m\u001b[0m\u001b[0m\n\u001b[1;32m    244\u001b[0m     \u001b[0;32mdef\u001b[0m \u001b[0m_value_or_default\u001b[0m\u001b[0;34m(\u001b[0m\u001b[0mself\u001b[0m\u001b[0;34m,\u001b[0m \u001b[0mobj\u001b[0m\u001b[0;34m,\u001b[0m \u001b[0mkey\u001b[0m\u001b[0;34m,\u001b[0m \u001b[0mdefault\u001b[0m\u001b[0;34m)\u001b[0m\u001b[0;34m:\u001b[0m\u001b[0;34m\u001b[0m\u001b[0;34m\u001b[0m\u001b[0m\n",
      "\u001b[0;31mNoSuchElementException\u001b[0m: Message: no such element: Unable to locate element: {\"method\":\"css selector\",\"selector\":\"[id=\"hoo-ha-haa\"]\"}\n  (Session info: chrome=91.0.4472.114)\n"
     ]
    }
   ],
   "source": [
    "element = driver.find_element_by_id('hoo-ha-haa')\n",
    "element.text"
   ]
  },
  {
   "cell_type": "markdown",
   "id": "639d2036-c927-4c7e-8c03-572e51b09123",
   "metadata": {},
   "source": [
    "### Now we can handle the above exception in this way"
   ]
  },
  {
   "cell_type": "code",
   "execution_count": 9,
   "id": "20412933-3ae2-4f15-a76f-fcdaa6095fa8",
   "metadata": {},
   "outputs": [
    {
     "name": "stdout",
     "output_type": "stream",
     "text": [
      "Exception Raised:  Message: no such element: Unable to locate element: {\"method\":\"css selector\",\"selector\":\"[id=\"hoo-ha-haa\"]\"}\n",
      "  (Session info: chrome=91.0.4472.114)\n",
      "\n"
     ]
    }
   ],
   "source": [
    "# Handling exception\n",
    "\n",
    "try:\n",
    "    time.sleep(3)\n",
    "    element = driver.find_element_by_id('hoo-ha-haa')\n",
    "    print(element.text)\n",
    "except NoSuchElementException as exc:\n",
    "    print('Exception Raised: ',exc) ## printing Exception Message\n",
    "    \n",
    "    "
   ]
  },
  {
   "cell_type": "code",
   "execution_count": 10,
   "id": "e76155cb-ddb3-4e2a-9bba-a880968dc9f3",
   "metadata": {},
   "outputs": [],
   "source": [
    "#driver.close()"
   ]
  },
  {
   "cell_type": "code",
   "execution_count": 57,
   "id": "bc10676a-d9d5-4dbc-8c41-9d0230792eea",
   "metadata": {},
   "outputs": [],
   "source": [
    "from selenium import webdriver\n",
    "import time\n",
    "import pandas as pad\n",
    "from selenium.webdriver.support.ui import WebDriverWait\n",
    "from selenium.webdriver.support import expected_conditions as EC\n",
    "from selenium.webdriver.common.by import By"
   ]
  },
  {
   "cell_type": "code",
   "execution_count": 40,
   "id": "5cb72efd-7e60-4b96-8e03-ea69c8eca153",
   "metadata": {},
   "outputs": [],
   "source": [
    "driver = webdriver.Chrome('/Users/olivierla412/Desktop/chromedriver')"
   ]
  },
  {
   "cell_type": "code",
   "execution_count": 14,
   "id": "ffe9395b-d2b1-47e5-8601-483068e6d244",
   "metadata": {},
   "outputs": [],
   "source": [
    "#driver.close()"
   ]
  },
  {
   "cell_type": "code",
   "execution_count": 20,
   "id": "58e38749-0d87-472f-96ae-c2971c374d3a",
   "metadata": {},
   "outputs": [],
   "source": [
    "driver.get(url='https://www.amazon.in/')"
   ]
  },
  {
   "cell_type": "code",
   "execution_count": 34,
   "id": "66c20946-32c7-41d0-a012-593330008de6",
   "metadata": {},
   "outputs": [],
   "source": [
    "delay = 10 # seconds of delay\n",
    "WebDriverWait(driver,delay).until(EC.presence_of_all_elements_located((By.CLASS_NAME,\"nav_a\")))\n",
    "element = driver.find_elements_by_xpath('//a[@class=\"nav_a\"]')"
   ]
  },
  {
   "cell_type": "code",
   "execution_count": 35,
   "id": "98e04fc8-2cff-454c-94a8-0fbd4c21c55a",
   "metadata": {},
   "outputs": [
    {
     "name": "stdout",
     "output_type": "stream",
     "text": [
      "About Us\n",
      "Careers\n",
      "Press Releases\n",
      "Amazon Cares\n",
      "Gift a Smile\n",
      "Facebook\n",
      "Twitter\n",
      "Instagram\n",
      "Sell on Amazon\n",
      "Sell under Amazon Accelerator\n",
      "Amazon Global Selling\n",
      "Become an Affiliate\n",
      "Fulfilment by Amazon\n",
      "Advertise Your Products\n",
      "Amazon Pay on Merchants\n",
      "COVID-19 and Amazon\n",
      "Your Account\n",
      "Returns Centre\n",
      "100% Purchase Protection\n",
      "Amazon App Download\n",
      "Amazon Assistant Download\n",
      "Help\n",
      "Australia\n",
      "Brazil\n",
      "Canada\n",
      "China\n",
      "France\n",
      "Germany\n",
      "Italy\n",
      "Japan\n",
      "Mexico\n",
      "Netherlands\n",
      "Poland\n",
      "Singapore\n",
      "Spain\n",
      "Turkey\n",
      "United Arab Emirates\n",
      "United Kingdom\n",
      "United States\n",
      "AbeBooks\n",
      "Books, art\n",
      "& collectibles\n",
      "Amazon Web Services\n",
      "Scalable Cloud\n",
      "Computing Services\n",
      "Audible\n",
      "Download\n",
      "Audio Books\n",
      "DPReview\n",
      "Digital\n",
      "Photography\n",
      "IMDb\n",
      "Movies, TV\n",
      "& Celebrities\n",
      "Shopbop\n",
      "Designer\n",
      "Fashion Brands\n",
      "Amazon Business\n",
      "Everything For\n",
      "Your Business\n",
      "Prime Now\n",
      "2-Hour Delivery\n",
      "on Everyday Items\n",
      "Amazon Prime Music\n",
      "70 million songs, ad-free\n",
      "Over 9 million podcast episodes\n",
      "Conditions of Use & Sale\n",
      "Privacy Notice\n",
      "Interest-Based Ads\n"
     ]
    }
   ],
   "source": [
    "for i in element:\n",
    "    print(i.text)"
   ]
  },
  {
   "cell_type": "code",
   "execution_count": null,
   "id": "9439e682-f1b7-4300-b426-5a26d6ce6cdf",
   "metadata": {},
   "outputs": [],
   "source": [
    "#driver.close()"
   ]
  },
  {
   "cell_type": "code",
   "execution_count": 56,
   "id": "4e7a72ee-2406-4a75-bb41-8736200b4aea",
   "metadata": {},
   "outputs": [
    {
     "name": "stdout",
     "output_type": "stream",
     "text": [
      "correct passord 15\n"
     ]
    }
   ],
   "source": [
    "x = 20\n",
    "y = 15\n",
    "try:\n",
    "    print('correct passord',y)\n",
    "except:\n",
    "    print('wrong password')\n",
    "    "
   ]
  },
  {
   "cell_type": "markdown",
   "id": "af77d977-0564-40ac-86bc-19dd931e2c3d",
   "metadata": {},
   "source": [
    "## 2. __StaleElementReferenceException__"
   ]
  },
  {
   "cell_type": "markdown",
   "id": "936a887d-3c2f-4bcd-b56e-f7cd3b99da35",
   "metadata": {},
   "source": [
    "![](sel2.png)"
   ]
  },
  {
   "cell_type": "code",
   "execution_count": 61,
   "id": "8fabf41c-79f6-4fbd-853d-def4043ee770",
   "metadata": {},
   "outputs": [],
   "source": [
    "## importing  the Exception\n",
    "from selenium.common.exceptions import StaleElementReferenceException"
   ]
  },
  {
   "cell_type": "code",
   "execution_count": 58,
   "id": "1d331185-22f9-4bad-b5a2-86b344b1168f",
   "metadata": {},
   "outputs": [],
   "source": [
    "naukri_url = 'https://www.naukri.com/data-scienctist-jobs-in-new-delhi?k=data%20scienctist&l=new%20delhi'"
   ]
  },
  {
   "cell_type": "code",
   "execution_count": 59,
   "id": "a96b93ac-ee04-44fe-a1af-aa2fc767cf6c",
   "metadata": {},
   "outputs": [],
   "source": [
    "driver.get(url= naukri_url)"
   ]
  },
  {
   "cell_type": "code",
   "execution_count": 73,
   "id": "c3a4e4b2-2fda-4ad0-baef-bb55705ac205",
   "metadata": {},
   "outputs": [
    {
     "name": "stdout",
     "output_type": "stream",
     "text": [
      "Exception Raised Message: stale element reference: element is not attached to the page document\n",
      "  (Session info: chrome=91.0.4472.114)\n",
      "\n"
     ]
    }
   ],
   "source": [
    "try:\n",
    "    salary = driver.find_element_by_id(\"chk-15-25 Lakhs-ctcFilter-\")\n",
    "    driver.get(driver.current_url)\n",
    "    salary.click()\n",
    "except StaleElementReferenceException as se:\n",
    "    print('Exception Raised',se)\n",
    "#except NoSuchElementException as exc:\n",
    "    #print('Exception Raised: ',exc)  \n",
    "    "
   ]
  },
  {
   "cell_type": "markdown",
   "id": "43e40de7-6245-4929-9f43-8a93e7f4b83d",
   "metadata": {},
   "source": [
    "## 3 __ElementNotInteractableException__"
   ]
  },
  {
   "cell_type": "markdown",
   "id": "84b3149f-1900-493e-aaf8-7a382a3db439",
   "metadata": {},
   "source": [
    "![](sel3.png)"
   ]
  },
  {
   "cell_type": "code",
   "execution_count": 74,
   "id": "36c55819-6203-46fe-9198-903a3478505c",
   "metadata": {},
   "outputs": [],
   "source": [
    "## Importing  the Exception\n",
    "\n",
    "from selenium.common.exceptions import ElementNotInteractableException"
   ]
  },
  {
   "cell_type": "code",
   "execution_count": 96,
   "id": "df167196-7337-4bc1-82fc-481fccfb9673",
   "metadata": {},
   "outputs": [],
   "source": [
    "amazon_url = \"https://www.amazon.in/\""
   ]
  },
  {
   "cell_type": "code",
   "execution_count": 102,
   "id": "b8b7b91b-38ac-4aac-8240-f131ef3d3881",
   "metadata": {},
   "outputs": [],
   "source": [
    "driver.get(url= amazon_url)"
   ]
  },
  {
   "cell_type": "code",
   "execution_count": 119,
   "id": "73612307-c6d7-49a4-b2da-59ac36a14294",
   "metadata": {},
   "outputs": [
    {
     "name": "stdout",
     "output_type": "stream",
     "text": [
      "Exception Raised Message: element not interactable\n",
      "  (Session info: chrome=91.0.4472.114)\n",
      "\n"
     ]
    }
   ],
   "source": [
    "try:\n",
    "    ell = driver.find_element_by_xpath(\"//i[@class='a-icon a-icon-previous-rounded']/span\")\n",
    "    ell.click()\n",
    "except ElementNotInteractableException as ei:\n",
    "    print('Exception Raised',ei)"
   ]
  },
  {
   "cell_type": "code",
   "execution_count": null,
   "id": "4b9742a0-f618-44da-9c60-81b8b5ab89d1",
   "metadata": {},
   "outputs": [],
   "source": [
    "# driver.close()"
   ]
  },
  {
   "cell_type": "markdown",
   "id": "e9d28726-126d-4ea7-8dd0-93948e5e9798",
   "metadata": {},
   "source": [
    "## 4.__SessionNotCreatedException__"
   ]
  },
  {
   "cell_type": "markdown",
   "id": "f8058093-aa56-4ce7-a109-cc0a982d1956",
   "metadata": {},
   "source": [
    "![](sel4.png)"
   ]
  },
  {
   "cell_type": "code",
   "execution_count": 120,
   "id": "ecccf2d3-f424-412c-8889-ea1486355be9",
   "metadata": {},
   "outputs": [],
   "source": [
    "## Importing  the Exception\n",
    "from selenium.common.exceptions import SessionNotCreatedException"
   ]
  },
  {
   "cell_type": "code",
   "execution_count": 126,
   "id": "9b20d7b0-3e2b-45e2-a3d4-6670e64c9813",
   "metadata": {},
   "outputs": [],
   "source": [
    "try:\n",
    "    driver = webdriver.Chrome('/Users/olivierla412/Desktop/chromedriver')# if this was the old version.\n",
    "    driver.get(url=amazon_url)\n",
    "except SessionNotCreatedException as sce:\n",
    "    print('Exception Raised:',sce)\n",
    "    driver = webdriver.Chrome('/Users/olivierla412/Desktop/chromedriver')\n",
    "    driver.get(amazon_url)\n",
    "    "
   ]
  },
  {
   "cell_type": "markdown",
   "id": "b4c1cedb-50f4-4599-a3fc-9f9b0be3396c",
   "metadata": {},
   "source": [
    "## 5.__TimeoutException__"
   ]
  },
  {
   "cell_type": "markdown",
   "id": "fced3634-e8a3-49df-97e7-e804868be8e3",
   "metadata": {},
   "source": [
    "![](sel5.png)"
   ]
  },
  {
   "cell_type": "code",
   "execution_count": 127,
   "id": "1c3b04dc-4905-43e3-a87a-ddfac7338c03",
   "metadata": {},
   "outputs": [],
   "source": [
    "## Importing  the Exception\n",
    "from selenium.common.exceptions import TimeoutException"
   ]
  },
  {
   "cell_type": "code",
   "execution_count": null,
   "id": "1a5ceb21-6835-49ad-9cae-14eded4ab041",
   "metadata": {},
   "outputs": [],
   "source": []
  }
 ],
 "metadata": {
  "kernelspec": {
   "display_name": "Python 3",
   "language": "python",
   "name": "python3"
  },
  "language_info": {
   "codemirror_mode": {
    "name": "ipython",
    "version": 3
   },
   "file_extension": ".py",
   "mimetype": "text/x-python",
   "name": "python",
   "nbconvert_exporter": "python",
   "pygments_lexer": "ipython3",
   "version": "3.8.2"
  }
 },
 "nbformat": 4,
 "nbformat_minor": 5
}

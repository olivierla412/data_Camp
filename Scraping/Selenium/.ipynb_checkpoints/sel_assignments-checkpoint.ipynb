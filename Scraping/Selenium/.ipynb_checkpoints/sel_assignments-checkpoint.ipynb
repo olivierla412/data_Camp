{
 "cells": [
  {
   "cell_type": "code",
   "execution_count": 500,
   "id": "cf00d6c8-c77b-4c6d-b01d-f895ae094c4e",
   "metadata": {},
   "outputs": [],
   "source": [
    "## Importing the libraries\n",
    "import pandas as pd\n",
    "import selenium\n",
    "from selenium import webdriver\n",
    "import time\n",
    "from selenium.common.exceptions import StaleElementReferenceException,NoSuchElementException"
   ]
  },
  {
   "cell_type": "markdown",
   "id": "65b50afc-33a8-401f-bff6-5696e1222c80",
   "metadata": {},
   "source": [
    "### Q1: Write a python program to scrape data for “Data Analyst” Job position in “Bangalore” location. You have to scrape the job-title, job-location, company_name, experience_required. You have to scrape first 10 jobs data.\n",
    "### __From:  https://www.naukri.com/__"
   ]
  },
  {
   "cell_type": "markdown",
   "id": "cccfac64-2cd7-43bb-a0f2-5b4182d1c513",
   "metadata": {},
   "source": [
    "#### 2. Enter “Data Analyst” in “Skill,Designations,Companies” field and enter “Bangalore” in “enter the location” field.\n",
    "#### 3. Then click the search button.\n",
    "#### 4. Then scrape the data for the first 10 jobs results you get.\n",
    "#### 5. Finally create a dataframe of the scraped data.\n",
    "#### Note- All of the above steps have to be done in code. No step is to be done manually."
   ]
  },
  {
   "cell_type": "code",
   "execution_count": 501,
   "id": "514a4694-12d9-4351-9cc6-6ab440530007",
   "metadata": {},
   "outputs": [],
   "source": [
    "driver = webdriver.Chrome('/Users/olivierla412/Desktop/chromedriver')"
   ]
  },
  {
   "cell_type": "code",
   "execution_count": 5,
   "id": "e3000e48-c3ae-4719-b9bc-62667c3c1302",
   "metadata": {},
   "outputs": [],
   "source": [
    "url1 = \" https://www.naukri.com/\""
   ]
  },
  {
   "cell_type": "code",
   "execution_count": 6,
   "id": "cabd3b39-bb80-4ee3-a4cf-8e82e8327807",
   "metadata": {},
   "outputs": [],
   "source": [
    "## opening the web page with the above url\n",
    "\n",
    "driver.get(url=url1)"
   ]
  },
  {
   "cell_type": "code",
   "execution_count": 11,
   "id": "f4e761c8-789a-4e54-aeaf-a9a3c97a2e79",
   "metadata": {},
   "outputs": [],
   "source": [
    "## let's find the job skills (1)\n",
    "\n",
    "job_skill = driver.find_element_by_xpath('//input[@class=\"sugInp\"]')"
   ]
  },
  {
   "cell_type": "code",
   "execution_count": 12,
   "id": "219b39d3-725e-4699-aa3e-c746899b18ea",
   "metadata": {},
   "outputs": [],
   "source": [
    "job_skill.send_keys('Data Analyst')"
   ]
  },
  {
   "cell_type": "code",
   "execution_count": 13,
   "id": "70748915-a910-4a3b-bf83-220733cba549",
   "metadata": {},
   "outputs": [],
   "source": [
    "## let's find the job location (2)\n",
    "\n",
    "job_location = driver.find_element_by_xpath('//input[@id=\"qsb-location-sugg\"]')"
   ]
  },
  {
   "cell_type": "code",
   "execution_count": 14,
   "id": "59deb7d8-d936-4968-b59e-3e2ee0efda53",
   "metadata": {},
   "outputs": [],
   "source": [
    "job_location.send_keys('Bangalore')"
   ]
  },
  {
   "cell_type": "code",
   "execution_count": 15,
   "id": "8e842a40-da5a-4200-810e-cdf4a00458b0",
   "metadata": {},
   "outputs": [],
   "source": [
    "## let's press the button for searching (3)\n",
    "\n",
    "button_search = driver.find_element_by_xpath('//button[@class=\"btn\"]')"
   ]
  },
  {
   "cell_type": "code",
   "execution_count": 16,
   "id": "4790964f-6f8c-4c2b-9a5c-f8ee89f15e44",
   "metadata": {},
   "outputs": [],
   "source": [
    "button_search.click()"
   ]
  },
  {
   "cell_type": "code",
   "execution_count": 17,
   "id": "c6bd92b4-7344-4864-aaa1-5d85f1e57933",
   "metadata": {},
   "outputs": [],
   "source": [
    "## let's scrap the then jobs data\n",
    "\n",
    "job_titles = driver.find_elements_by_xpath('//a[@class=\"title fw500 ellipsis\"]')"
   ]
  },
  {
   "cell_type": "code",
   "execution_count": 18,
   "id": "df3964ad-e81e-4ee2-bcce-1c8ce1e548c8",
   "metadata": {},
   "outputs": [
    {
     "data": {
      "text/plain": [
       "[<selenium.webdriver.remote.webelement.WebElement (session=\"f0497f5f99f6c5cb90e5e5b4428c6beb\", element=\"a6c95984-f7cf-49ad-af3a-ecd6e77e819d\")>,\n",
       " <selenium.webdriver.remote.webelement.WebElement (session=\"f0497f5f99f6c5cb90e5e5b4428c6beb\", element=\"313a562b-af5d-4a5d-be57-6c39aa70d003\")>,\n",
       " <selenium.webdriver.remote.webelement.WebElement (session=\"f0497f5f99f6c5cb90e5e5b4428c6beb\", element=\"bc220640-91bd-4e6b-95f1-ae8fccd9df0f\")>,\n",
       " <selenium.webdriver.remote.webelement.WebElement (session=\"f0497f5f99f6c5cb90e5e5b4428c6beb\", element=\"84f6cb45-0085-46cd-9e5c-2b7efc1f24f3\")>,\n",
       " <selenium.webdriver.remote.webelement.WebElement (session=\"f0497f5f99f6c5cb90e5e5b4428c6beb\", element=\"57f350bf-170d-483e-91bd-4d59ce133ee8\")>,\n",
       " <selenium.webdriver.remote.webelement.WebElement (session=\"f0497f5f99f6c5cb90e5e5b4428c6beb\", element=\"31750ad1-daca-4952-b3a4-6275b02e2d44\")>,\n",
       " <selenium.webdriver.remote.webelement.WebElement (session=\"f0497f5f99f6c5cb90e5e5b4428c6beb\", element=\"388f56b4-49a9-433c-a95e-4835706daabb\")>,\n",
       " <selenium.webdriver.remote.webelement.WebElement (session=\"f0497f5f99f6c5cb90e5e5b4428c6beb\", element=\"47ed825a-e865-4529-8958-1032339af80b\")>,\n",
       " <selenium.webdriver.remote.webelement.WebElement (session=\"f0497f5f99f6c5cb90e5e5b4428c6beb\", element=\"8de13a71-b7e7-4c12-83bd-3cd6cc35ed36\")>,\n",
       " <selenium.webdriver.remote.webelement.WebElement (session=\"f0497f5f99f6c5cb90e5e5b4428c6beb\", element=\"08ba5b4c-82ab-4ecd-b4a2-6faf2b032502\")>,\n",
       " <selenium.webdriver.remote.webelement.WebElement (session=\"f0497f5f99f6c5cb90e5e5b4428c6beb\", element=\"499f7a9c-7fed-41ce-ae35-56d01eef2926\")>,\n",
       " <selenium.webdriver.remote.webelement.WebElement (session=\"f0497f5f99f6c5cb90e5e5b4428c6beb\", element=\"b9898964-06de-4ce4-bab1-82794c97e526\")>,\n",
       " <selenium.webdriver.remote.webelement.WebElement (session=\"f0497f5f99f6c5cb90e5e5b4428c6beb\", element=\"fef0323b-5d89-458b-b3bd-30f18edc2b2c\")>,\n",
       " <selenium.webdriver.remote.webelement.WebElement (session=\"f0497f5f99f6c5cb90e5e5b4428c6beb\", element=\"d6d4a452-5be4-4e02-80dc-9f56c52fbcce\")>,\n",
       " <selenium.webdriver.remote.webelement.WebElement (session=\"f0497f5f99f6c5cb90e5e5b4428c6beb\", element=\"411e3d2a-02a4-4727-88ea-cafb4d012693\")>,\n",
       " <selenium.webdriver.remote.webelement.WebElement (session=\"f0497f5f99f6c5cb90e5e5b4428c6beb\", element=\"7b493fd9-5b17-4cbf-9c86-b6241ea5e65c\")>,\n",
       " <selenium.webdriver.remote.webelement.WebElement (session=\"f0497f5f99f6c5cb90e5e5b4428c6beb\", element=\"729009a7-a8a8-4776-8d07-57bc1be7105c\")>,\n",
       " <selenium.webdriver.remote.webelement.WebElement (session=\"f0497f5f99f6c5cb90e5e5b4428c6beb\", element=\"7400d50e-340c-43a8-b896-3571a23167b1\")>,\n",
       " <selenium.webdriver.remote.webelement.WebElement (session=\"f0497f5f99f6c5cb90e5e5b4428c6beb\", element=\"bedb3a92-7fa3-4e5d-bb79-7df0c0864562\")>,\n",
       " <selenium.webdriver.remote.webelement.WebElement (session=\"f0497f5f99f6c5cb90e5e5b4428c6beb\", element=\"a7a00c79-3809-4c89-b839-7547c5b8a09e\")>]"
      ]
     },
     "execution_count": 18,
     "metadata": {},
     "output_type": "execute_result"
    }
   ],
   "source": [
    "## here we can see that you got the data, so let run a for loop\n",
    "job_titles"
   ]
  },
  {
   "cell_type": "code",
   "execution_count": 19,
   "id": "299cd524-799c-4daa-8b1a-b8f56099f75f",
   "metadata": {},
   "outputs": [],
   "source": [
    "job_title_list = []\n",
    "for oli in job_titles:\n",
    "    job_title_list.append(oli.text)"
   ]
  },
  {
   "cell_type": "code",
   "execution_count": 22,
   "id": "c7abbef4-990d-4884-82a5-8391a17a1782",
   "metadata": {},
   "outputs": [
    {
     "data": {
      "text/plain": [
       "['Data Scientist / Data Analyst -Business Analyst',\n",
       " 'Assistant Vice President - MIS & Reporting ( Business Data Analyst)',\n",
       " 'Network Design & Data Analyst',\n",
       " 'Business Data Analyst - MIS & Reporting',\n",
       " 'Data analysts',\n",
       " 'Excel VBA Jobs Bangalore | VBA data analyst Jobs',\n",
       " 'Software Developer / Web Developer/data analyst',\n",
       " 'Consultant - Data Analyst',\n",
       " 'Data Analyst – Financial, Healthcare, Sports Betting',\n",
       " 'Data Analyst']"
      ]
     },
     "execution_count": 22,
     "metadata": {},
     "output_type": "execute_result"
    }
   ],
   "source": [
    "job_title_list[0:10]"
   ]
  },
  {
   "cell_type": "code",
   "execution_count": 23,
   "id": "f450f839-0444-4d66-a104-87986676eef6",
   "metadata": {},
   "outputs": [
    {
     "data": {
      "text/plain": [
       "20"
      ]
     },
     "execution_count": 23,
     "metadata": {},
     "output_type": "execute_result"
    }
   ],
   "source": [
    "len(job_title_list)"
   ]
  },
  {
   "cell_type": "code",
   "execution_count": 24,
   "id": "96140712-0c39-4340-8ed6-1bd60506d472",
   "metadata": {},
   "outputs": [
    {
     "data": {
      "text/plain": [
       "['Data Scientist / Data Analyst -Business Analyst',\n",
       " 'Assistant Vice President - MIS & Reporting ( Business Data Analyst)',\n",
       " 'Network Design & Data Analyst',\n",
       " 'Business Data Analyst - MIS & Reporting',\n",
       " 'Data analysts',\n",
       " 'Excel VBA Jobs Bangalore | VBA data analyst Jobs',\n",
       " 'Software Developer / Web Developer/data analyst',\n",
       " 'Consultant - Data Analyst',\n",
       " 'Data Analyst – Financial, Healthcare, Sports Betting',\n",
       " 'Data Analyst']"
      ]
     },
     "execution_count": 24,
     "metadata": {},
     "output_type": "execute_result"
    }
   ],
   "source": [
    "## selection of the first 10\n",
    "\n",
    "job_title_10 = job_title_list[0:10]\n",
    "job_title_10"
   ]
  },
  {
   "cell_type": "code",
   "execution_count": 25,
   "id": "5e84ed95-66f8-4f9c-8411-b60a95b23f3a",
   "metadata": {},
   "outputs": [],
   "source": [
    "## let's find the job location\n",
    "job_locations = driver.find_elements_by_xpath('//span[@class=\"ellipsis fleft fs12 lh16 \"]')"
   ]
  },
  {
   "cell_type": "code",
   "execution_count": 26,
   "id": "274e66e5-49fd-407f-b95b-012268579d9d",
   "metadata": {},
   "outputs": [
    {
     "data": {
      "text/plain": [
       "[<selenium.webdriver.remote.webelement.WebElement (session=\"f0497f5f99f6c5cb90e5e5b4428c6beb\", element=\"37580a9f-7de2-4cd5-a2a8-514f8768f86e\")>,\n",
       " <selenium.webdriver.remote.webelement.WebElement (session=\"f0497f5f99f6c5cb90e5e5b4428c6beb\", element=\"c8131d83-1ec6-4114-b4db-f47318799bb5\")>,\n",
       " <selenium.webdriver.remote.webelement.WebElement (session=\"f0497f5f99f6c5cb90e5e5b4428c6beb\", element=\"a0c1770f-5cb0-4300-90a9-430b49cf49f0\")>,\n",
       " <selenium.webdriver.remote.webelement.WebElement (session=\"f0497f5f99f6c5cb90e5e5b4428c6beb\", element=\"8d17c817-a904-49c6-aef3-81bc1fc19adc\")>,\n",
       " <selenium.webdriver.remote.webelement.WebElement (session=\"f0497f5f99f6c5cb90e5e5b4428c6beb\", element=\"9a7666f5-d348-4a91-ab3e-c4b993e68c32\")>,\n",
       " <selenium.webdriver.remote.webelement.WebElement (session=\"f0497f5f99f6c5cb90e5e5b4428c6beb\", element=\"0040f27d-4c4a-4a29-8672-36d453a9cd38\")>,\n",
       " <selenium.webdriver.remote.webelement.WebElement (session=\"f0497f5f99f6c5cb90e5e5b4428c6beb\", element=\"70bd6775-b02a-43b7-9c8d-a075d15faaa5\")>,\n",
       " <selenium.webdriver.remote.webelement.WebElement (session=\"f0497f5f99f6c5cb90e5e5b4428c6beb\", element=\"2b677f88-70b0-4e1a-92b7-0098b355c242\")>,\n",
       " <selenium.webdriver.remote.webelement.WebElement (session=\"f0497f5f99f6c5cb90e5e5b4428c6beb\", element=\"c847da04-69c0-4265-8d2a-5ed7f6978440\")>,\n",
       " <selenium.webdriver.remote.webelement.WebElement (session=\"f0497f5f99f6c5cb90e5e5b4428c6beb\", element=\"6c17edd7-0405-4105-80d1-00c7aac50516\")>,\n",
       " <selenium.webdriver.remote.webelement.WebElement (session=\"f0497f5f99f6c5cb90e5e5b4428c6beb\", element=\"38c7bb59-e693-4b94-836a-f4963884f8c6\")>,\n",
       " <selenium.webdriver.remote.webelement.WebElement (session=\"f0497f5f99f6c5cb90e5e5b4428c6beb\", element=\"e241849c-3631-4fd9-b3c3-e2e8cb7f897f\")>,\n",
       " <selenium.webdriver.remote.webelement.WebElement (session=\"f0497f5f99f6c5cb90e5e5b4428c6beb\", element=\"44b76c95-52f6-46ff-bdca-cb973d8cf3a8\")>,\n",
       " <selenium.webdriver.remote.webelement.WebElement (session=\"f0497f5f99f6c5cb90e5e5b4428c6beb\", element=\"1102bcb1-33e4-452b-8313-a28c7b7f73e7\")>,\n",
       " <selenium.webdriver.remote.webelement.WebElement (session=\"f0497f5f99f6c5cb90e5e5b4428c6beb\", element=\"19e26ac0-b4af-4df5-bdfa-062eca7baccb\")>,\n",
       " <selenium.webdriver.remote.webelement.WebElement (session=\"f0497f5f99f6c5cb90e5e5b4428c6beb\", element=\"80e4740d-5cba-45fb-b64c-25444672035a\")>,\n",
       " <selenium.webdriver.remote.webelement.WebElement (session=\"f0497f5f99f6c5cb90e5e5b4428c6beb\", element=\"7016aafd-33be-4a79-b1dd-fcfd1e1026bd\")>,\n",
       " <selenium.webdriver.remote.webelement.WebElement (session=\"f0497f5f99f6c5cb90e5e5b4428c6beb\", element=\"db50460d-5ed1-4c31-ba3c-850680790d6d\")>,\n",
       " <selenium.webdriver.remote.webelement.WebElement (session=\"f0497f5f99f6c5cb90e5e5b4428c6beb\", element=\"c3515359-1011-4224-866b-dd5798853be2\")>,\n",
       " <selenium.webdriver.remote.webelement.WebElement (session=\"f0497f5f99f6c5cb90e5e5b4428c6beb\", element=\"cae9440e-b287-4766-997d-a63b6dd143d8\")>,\n",
       " <selenium.webdriver.remote.webelement.WebElement (session=\"f0497f5f99f6c5cb90e5e5b4428c6beb\", element=\"588daf39-f2ef-4f34-9f69-41823b2280e0\")>,\n",
       " <selenium.webdriver.remote.webelement.WebElement (session=\"f0497f5f99f6c5cb90e5e5b4428c6beb\", element=\"92880265-f137-4559-81e5-4734b14c7d43\")>,\n",
       " <selenium.webdriver.remote.webelement.WebElement (session=\"f0497f5f99f6c5cb90e5e5b4428c6beb\", element=\"9326e8a8-1670-43e2-a5a9-dbd1601bb44a\")>,\n",
       " <selenium.webdriver.remote.webelement.WebElement (session=\"f0497f5f99f6c5cb90e5e5b4428c6beb\", element=\"6bde001b-ebae-4408-ae08-5f2a18dd0efd\")>,\n",
       " <selenium.webdriver.remote.webelement.WebElement (session=\"f0497f5f99f6c5cb90e5e5b4428c6beb\", element=\"52ceef16-f86f-428a-ab2b-ad6108e5e1ef\")>,\n",
       " <selenium.webdriver.remote.webelement.WebElement (session=\"f0497f5f99f6c5cb90e5e5b4428c6beb\", element=\"e7c3ede8-c1e9-476a-a2e0-d7f84c5277a0\")>,\n",
       " <selenium.webdriver.remote.webelement.WebElement (session=\"f0497f5f99f6c5cb90e5e5b4428c6beb\", element=\"bb278fff-b036-4752-bd7a-0b3e8b6c8111\")>,\n",
       " <selenium.webdriver.remote.webelement.WebElement (session=\"f0497f5f99f6c5cb90e5e5b4428c6beb\", element=\"fcc61330-2ae8-4ad0-a91a-42a7fc1b1118\")>,\n",
       " <selenium.webdriver.remote.webelement.WebElement (session=\"f0497f5f99f6c5cb90e5e5b4428c6beb\", element=\"25f1d4cb-85cc-4655-a1d0-a5d159b4eb72\")>,\n",
       " <selenium.webdriver.remote.webelement.WebElement (session=\"f0497f5f99f6c5cb90e5e5b4428c6beb\", element=\"537e243e-839f-4595-b99d-4c4f1185ef28\")>,\n",
       " <selenium.webdriver.remote.webelement.WebElement (session=\"f0497f5f99f6c5cb90e5e5b4428c6beb\", element=\"aeebd933-ebbf-4c7b-865a-795f1a46fc71\")>,\n",
       " <selenium.webdriver.remote.webelement.WebElement (session=\"f0497f5f99f6c5cb90e5e5b4428c6beb\", element=\"103c8085-6414-41b6-a849-0b68eec4e6c0\")>,\n",
       " <selenium.webdriver.remote.webelement.WebElement (session=\"f0497f5f99f6c5cb90e5e5b4428c6beb\", element=\"f69b0137-ae0d-4641-8a38-eef42cae82b8\")>,\n",
       " <selenium.webdriver.remote.webelement.WebElement (session=\"f0497f5f99f6c5cb90e5e5b4428c6beb\", element=\"35dae7c4-23a1-466c-8928-3fdbb8161a44\")>,\n",
       " <selenium.webdriver.remote.webelement.WebElement (session=\"f0497f5f99f6c5cb90e5e5b4428c6beb\", element=\"edf37997-f9f8-4da9-88a9-f199a5c4380d\")>,\n",
       " <selenium.webdriver.remote.webelement.WebElement (session=\"f0497f5f99f6c5cb90e5e5b4428c6beb\", element=\"c4f072ca-eea3-4278-8d3d-2b28aa52022b\")>,\n",
       " <selenium.webdriver.remote.webelement.WebElement (session=\"f0497f5f99f6c5cb90e5e5b4428c6beb\", element=\"24792fc6-ca3c-41cb-9a59-93c2a6646f0a\")>,\n",
       " <selenium.webdriver.remote.webelement.WebElement (session=\"f0497f5f99f6c5cb90e5e5b4428c6beb\", element=\"a42ec7b9-36ea-4424-b745-69110094b95c\")>,\n",
       " <selenium.webdriver.remote.webelement.WebElement (session=\"f0497f5f99f6c5cb90e5e5b4428c6beb\", element=\"3228747a-a9d8-42b5-983b-cc9437a2d63a\")>,\n",
       " <selenium.webdriver.remote.webelement.WebElement (session=\"f0497f5f99f6c5cb90e5e5b4428c6beb\", element=\"1f4148ea-f6ff-49ab-9383-011fabf3238c\")>,\n",
       " <selenium.webdriver.remote.webelement.WebElement (session=\"f0497f5f99f6c5cb90e5e5b4428c6beb\", element=\"7258130c-8721-4162-9f74-0d33a8036ac3\")>,\n",
       " <selenium.webdriver.remote.webelement.WebElement (session=\"f0497f5f99f6c5cb90e5e5b4428c6beb\", element=\"5036d0e5-663c-4424-9b5e-fd4657a4dd01\")>,\n",
       " <selenium.webdriver.remote.webelement.WebElement (session=\"f0497f5f99f6c5cb90e5e5b4428c6beb\", element=\"86e58699-1a0f-4957-9dd1-78a96c38d0cd\")>,\n",
       " <selenium.webdriver.remote.webelement.WebElement (session=\"f0497f5f99f6c5cb90e5e5b4428c6beb\", element=\"ace7d678-3356-42c9-8773-2b563be5c647\")>,\n",
       " <selenium.webdriver.remote.webelement.WebElement (session=\"f0497f5f99f6c5cb90e5e5b4428c6beb\", element=\"3e7d589b-ff68-4f80-91b6-615c23dae2ec\")>,\n",
       " <selenium.webdriver.remote.webelement.WebElement (session=\"f0497f5f99f6c5cb90e5e5b4428c6beb\", element=\"dc49b67c-b1cd-4fe0-a725-f16ddebf709e\")>,\n",
       " <selenium.webdriver.remote.webelement.WebElement (session=\"f0497f5f99f6c5cb90e5e5b4428c6beb\", element=\"df5ea7bb-d6d1-4be7-9418-82bbbdbebbfb\")>,\n",
       " <selenium.webdriver.remote.webelement.WebElement (session=\"f0497f5f99f6c5cb90e5e5b4428c6beb\", element=\"e43d301b-8354-469c-9a62-0397eb8154ef\")>,\n",
       " <selenium.webdriver.remote.webelement.WebElement (session=\"f0497f5f99f6c5cb90e5e5b4428c6beb\", element=\"fbc104ea-5788-485e-a568-3e711c7745ff\")>,\n",
       " <selenium.webdriver.remote.webelement.WebElement (session=\"f0497f5f99f6c5cb90e5e5b4428c6beb\", element=\"4d2fddfb-98c2-46dd-8c5a-f63f54384b14\")>,\n",
       " <selenium.webdriver.remote.webelement.WebElement (session=\"f0497f5f99f6c5cb90e5e5b4428c6beb\", element=\"5b812b74-fadd-4dcc-9b2c-40e39694de30\")>,\n",
       " <selenium.webdriver.remote.webelement.WebElement (session=\"f0497f5f99f6c5cb90e5e5b4428c6beb\", element=\"0f2720d5-692d-49d3-9375-b3f0db9e813f\")>,\n",
       " <selenium.webdriver.remote.webelement.WebElement (session=\"f0497f5f99f6c5cb90e5e5b4428c6beb\", element=\"0b8980b9-7d1a-4c35-a1d6-35cadb72e4f7\")>,\n",
       " <selenium.webdriver.remote.webelement.WebElement (session=\"f0497f5f99f6c5cb90e5e5b4428c6beb\", element=\"76d73ca5-cec5-4a07-b56a-d097f43982ba\")>,\n",
       " <selenium.webdriver.remote.webelement.WebElement (session=\"f0497f5f99f6c5cb90e5e5b4428c6beb\", element=\"1bfb1d93-4374-4523-bec9-ab3dc1210451\")>,\n",
       " <selenium.webdriver.remote.webelement.WebElement (session=\"f0497f5f99f6c5cb90e5e5b4428c6beb\", element=\"0bd54fee-273a-4b5c-b715-dc7d7590b6cb\")>,\n",
       " <selenium.webdriver.remote.webelement.WebElement (session=\"f0497f5f99f6c5cb90e5e5b4428c6beb\", element=\"7919ee63-e52a-4dd9-a259-7bbebae6c6a8\")>,\n",
       " <selenium.webdriver.remote.webelement.WebElement (session=\"f0497f5f99f6c5cb90e5e5b4428c6beb\", element=\"a3d0cf44-2f77-4acb-9cd8-74d86125e797\")>]"
      ]
     },
     "execution_count": 26,
     "metadata": {},
     "output_type": "execute_result"
    }
   ],
   "source": [
    "## checking the data\n",
    "job_locations"
   ]
  },
  {
   "cell_type": "code",
   "execution_count": 27,
   "id": "b30b55fc-e92b-44dc-8b84-a14c11e2b2c7",
   "metadata": {},
   "outputs": [],
   "source": [
    "job_location_list = []\n",
    "for oli in job_locations:\n",
    "    job_location_list.append(oli.text)"
   ]
  },
  {
   "cell_type": "code",
   "execution_count": 28,
   "id": "be57f9ad-e111-4b85-b53d-b5931808cc83",
   "metadata": {},
   "outputs": [
    {
     "data": {
      "text/plain": [
       "['0-3 Yrs',\n",
       " '3,50,000 - 4,50,000 PA.',\n",
       " 'Hyderabad/Secunderabad, Chennai, Bangalore/Bengaluru',\n",
       " '10-15 Yrs',\n",
       " 'Not disclosed',\n",
       " 'Mumbai, Bangalore/Bengaluru',\n",
       " '0-2 Yrs',\n",
       " 'Not disclosed',\n",
       " 'Bangalore/Bengaluru',\n",
       " '3-8 Yrs',\n",
       " 'Not disclosed',\n",
       " 'Mumbai, Bangalore/Bengaluru',\n",
       " '5-10 Yrs',\n",
       " 'Not disclosed',\n",
       " 'Bangalore/Bengaluru',\n",
       " '0-2 Yrs',\n",
       " '90,000 - 2,50,000 PA.',\n",
       " 'Coimbatore, Bangalore/Bengaluru, Trivandrum/Thiruvananthapuram',\n",
       " '0-1 Yrs',\n",
       " '50,000 - 70,000 PA.',\n",
       " 'Hyderabad/Secunderabad, Bangalore/Bengaluru',\n",
       " '0-2 Yrs',\n",
       " 'Not disclosed',\n",
       " 'Bangalore/Bengaluru',\n",
       " '2-4 Yrs',\n",
       " '3,25,000 - 4,75,000 PA.',\n",
       " 'Pune, Chennai, Bangalore/Bengaluru',\n",
       " '3-5 Yrs',\n",
       " 'Not disclosed',\n",
       " 'Bangalore/Bengaluru',\n",
       " '3-6 Yrs',\n",
       " 'Not disclosed',\n",
       " 'Bangalore/Bengaluru',\n",
       " '2-3 Yrs',\n",
       " '5,00,000 - 6,00,000 PA.',\n",
       " 'Bangalore/Bengaluru',\n",
       " '8-13 Yrs',\n",
       " 'Not disclosed',\n",
       " 'Bangalore/Bengaluru',\n",
       " '4-7 Yrs',\n",
       " 'Not disclosed',\n",
       " 'Bangalore/Bengaluru',\n",
       " '1-2 Yrs',\n",
       " 'Not disclosed',\n",
       " 'Bangalore/Bengaluru',\n",
       " '2-7 Yrs',\n",
       " '5,00,000 - 15,00,000 PA.',\n",
       " 'Bangalore/Bengaluru, Bangalore',\n",
       " '0-5 Yrs',\n",
       " 'Not disclosed',\n",
       " 'Bangalore/Bengaluru',\n",
       " '0-2 Yrs',\n",
       " 'Not disclosed',\n",
       " 'Bangalore/Bengaluru',\n",
       " '5-8 Yrs',\n",
       " '10,00,000 - 20,00,000 PA.',\n",
       " 'Bangalore/Bengaluru(2nd Phase JP Nagar)',\n",
       " 'Not disclosed']"
      ]
     },
     "execution_count": 28,
     "metadata": {},
     "output_type": "execute_result"
    }
   ],
   "source": [
    "job_location_list"
   ]
  },
  {
   "cell_type": "code",
   "execution_count": 29,
   "id": "ed092534-f1d9-41c1-9968-5308a6053ea1",
   "metadata": {},
   "outputs": [],
   "source": [
    "## let's filter and take only the job location using for loop\n",
    "job_loc = []\n",
    "for oli in range(2,len(job_location_list),3):\n",
    "    job_loc.append(job_location_list[oli])\n",
    "    "
   ]
  },
  {
   "cell_type": "code",
   "execution_count": 30,
   "id": "ea2e7004-310a-4709-9e65-05e78a06d6ef",
   "metadata": {},
   "outputs": [
    {
     "data": {
      "text/plain": [
       "['Hyderabad/Secunderabad, Chennai, Bangalore/Bengaluru',\n",
       " 'Mumbai, Bangalore/Bengaluru',\n",
       " 'Bangalore/Bengaluru',\n",
       " 'Mumbai, Bangalore/Bengaluru',\n",
       " 'Bangalore/Bengaluru',\n",
       " 'Coimbatore, Bangalore/Bengaluru, Trivandrum/Thiruvananthapuram',\n",
       " 'Hyderabad/Secunderabad, Bangalore/Bengaluru',\n",
       " 'Bangalore/Bengaluru',\n",
       " 'Pune, Chennai, Bangalore/Bengaluru',\n",
       " 'Bangalore/Bengaluru',\n",
       " 'Bangalore/Bengaluru',\n",
       " 'Bangalore/Bengaluru',\n",
       " 'Bangalore/Bengaluru',\n",
       " 'Bangalore/Bengaluru',\n",
       " 'Bangalore/Bengaluru',\n",
       " 'Bangalore/Bengaluru, Bangalore',\n",
       " 'Bangalore/Bengaluru',\n",
       " 'Bangalore/Bengaluru',\n",
       " 'Bangalore/Bengaluru(2nd Phase JP Nagar)']"
      ]
     },
     "execution_count": 30,
     "metadata": {},
     "output_type": "execute_result"
    }
   ],
   "source": [
    "job_loc"
   ]
  },
  {
   "cell_type": "code",
   "execution_count": 31,
   "id": "2299d0dc-443c-485c-91cb-bbb7f7c76481",
   "metadata": {},
   "outputs": [],
   "source": [
    "job_location_10 = job_loc[0:10]"
   ]
  },
  {
   "cell_type": "code",
   "execution_count": 33,
   "id": "b9e65d85-1931-495b-8e42-e637030e03e8",
   "metadata": {},
   "outputs": [
    {
     "data": {
      "text/plain": [
       "10"
      ]
     },
     "execution_count": 33,
     "metadata": {},
     "output_type": "execute_result"
    }
   ],
   "source": [
    "len(job_location_10)"
   ]
  },
  {
   "cell_type": "code",
   "execution_count": 34,
   "id": "eaeb364f-a9a1-47f6-a157-72f426a52abb",
   "metadata": {},
   "outputs": [],
   "source": [
    "## let's find the company's names\n",
    "company_name = driver.find_elements_by_xpath('//a[@class=\"subTitle ellipsis fleft\"]')"
   ]
  },
  {
   "cell_type": "code",
   "execution_count": 36,
   "id": "abbce3c3-80b0-4e4f-abda-232595981d36",
   "metadata": {},
   "outputs": [],
   "source": [
    "#company_name"
   ]
  },
  {
   "cell_type": "code",
   "execution_count": 37,
   "id": "cdc9da22-77a0-41db-9603-14f34c5b0d22",
   "metadata": {},
   "outputs": [],
   "source": [
    "company_name_list = []\n",
    "for oli in company_name:\n",
    "    company_name_list.append(oli.text)\n"
   ]
  },
  {
   "cell_type": "code",
   "execution_count": 38,
   "id": "e91b4d67-3bab-4977-9c60-1f4d687855c8",
   "metadata": {},
   "outputs": [
    {
     "data": {
      "text/plain": [
       "['Inflexion Analytix Private Limited',\n",
       " 'INTERTRUSTVITEOS CORPORATE AND FUND SERVICES PVT. LTD.',\n",
       " 'Dell International Services India Private Limited',\n",
       " 'INTERTRUST GROUP',\n",
       " 'IBM India Pvt. Limited',\n",
       " 'Mind Circus Innovation',\n",
       " 'Edubridgeindia',\n",
       " 'Flipkart Internet Private Limited',\n",
       " 'Quantsys',\n",
       " 'Flipkart Internet Private Limited',\n",
       " 'CONDUENT BUSINESS SERVICES INDIA LLP',\n",
       " 'Flipkart Internet Private Limited',\n",
       " 'Allegis Services India Pvt. Ltd.',\n",
       " 'Cognizant Technology Solutions India Pvt Ltd',\n",
       " 'Clarivate Analytics (TRCPL Projects Pvt Ltd.)',\n",
       " '2coms',\n",
       " 'Siemens Limited',\n",
       " 'Bright Money',\n",
       " 'Liventus, Inc.',\n",
       " 'ZapCom Solutions Pvt Ltd']"
      ]
     },
     "execution_count": 38,
     "metadata": {},
     "output_type": "execute_result"
    }
   ],
   "source": [
    "company_name_list"
   ]
  },
  {
   "cell_type": "code",
   "execution_count": 39,
   "id": "9dda24e6-2dc0-4f43-b74c-bea3240d4b18",
   "metadata": {},
   "outputs": [],
   "source": [
    "## selecting the first 10 companies names\n",
    "company_name_10 = company_name_list[0:10]"
   ]
  },
  {
   "cell_type": "code",
   "execution_count": 40,
   "id": "d32b2caa-7b36-4848-b481-0ae6bbc23bab",
   "metadata": {},
   "outputs": [
    {
     "data": {
      "text/plain": [
       "['Inflexion Analytix Private Limited',\n",
       " 'INTERTRUSTVITEOS CORPORATE AND FUND SERVICES PVT. LTD.',\n",
       " 'Dell International Services India Private Limited',\n",
       " 'INTERTRUST GROUP',\n",
       " 'IBM India Pvt. Limited',\n",
       " 'Mind Circus Innovation',\n",
       " 'Edubridgeindia',\n",
       " 'Flipkart Internet Private Limited',\n",
       " 'Quantsys',\n",
       " 'Flipkart Internet Private Limited']"
      ]
     },
     "execution_count": 40,
     "metadata": {},
     "output_type": "execute_result"
    }
   ],
   "source": [
    "company_name_10"
   ]
  },
  {
   "cell_type": "code",
   "execution_count": 41,
   "id": "93f7b3b8-1851-4411-89b9-01a96ddfe381",
   "metadata": {},
   "outputs": [],
   "source": [
    "## experience_required, it is already in the  job_location_list variable\n",
    "## let's used range() method and filter it.\n",
    "\n",
    "experience_required = []\n",
    "for oli in range(0,len(job_location_list),3):\n",
    "    experience_required.append(job_location_list[oli])\n",
    "\n"
   ]
  },
  {
   "cell_type": "code",
   "execution_count": 42,
   "id": "0b3d7be3-c5ad-4bec-befe-fa0c54def804",
   "metadata": {},
   "outputs": [
    {
     "data": {
      "text/plain": [
       "['0-3 Yrs',\n",
       " '10-15 Yrs',\n",
       " '0-2 Yrs',\n",
       " '3-8 Yrs',\n",
       " '5-10 Yrs',\n",
       " '0-2 Yrs',\n",
       " '0-1 Yrs',\n",
       " '0-2 Yrs',\n",
       " '2-4 Yrs',\n",
       " '3-5 Yrs',\n",
       " '3-6 Yrs',\n",
       " '2-3 Yrs',\n",
       " '8-13 Yrs',\n",
       " '4-7 Yrs',\n",
       " '1-2 Yrs',\n",
       " '2-7 Yrs',\n",
       " '0-5 Yrs',\n",
       " '0-2 Yrs',\n",
       " '5-8 Yrs',\n",
       " 'Not disclosed']"
      ]
     },
     "execution_count": 42,
     "metadata": {},
     "output_type": "execute_result"
    }
   ],
   "source": [
    "experience_required"
   ]
  },
  {
   "cell_type": "code",
   "execution_count": 43,
   "id": "01158990-5023-4a65-b583-9527c032d834",
   "metadata": {},
   "outputs": [],
   "source": [
    "## getting the first 10\n",
    "\n",
    "experience_required_10 = experience_required[0:10]"
   ]
  },
  {
   "cell_type": "code",
   "execution_count": 44,
   "id": "c2e97920-2af6-4b5f-826e-0edd94a435bb",
   "metadata": {},
   "outputs": [
    {
     "data": {
      "text/plain": [
       "['0-3 Yrs',\n",
       " '10-15 Yrs',\n",
       " '0-2 Yrs',\n",
       " '3-8 Yrs',\n",
       " '5-10 Yrs',\n",
       " '0-2 Yrs',\n",
       " '0-1 Yrs',\n",
       " '0-2 Yrs',\n",
       " '2-4 Yrs',\n",
       " '3-5 Yrs']"
      ]
     },
     "execution_count": 44,
     "metadata": {},
     "output_type": "execute_result"
    }
   ],
   "source": [
    "experience_required_10"
   ]
  },
  {
   "cell_type": "markdown",
   "id": "f8bdda1f-4eb5-411d-8ea5-f6a5209110f0",
   "metadata": {},
   "source": [
    "## Now we will make the data Frame"
   ]
  },
  {
   "cell_type": "code",
   "execution_count": 45,
   "id": "b644d2ab-c762-4844-8adf-2896d7ed1205",
   "metadata": {},
   "outputs": [],
   "source": [
    "data = pd.DataFrame({})"
   ]
  },
  {
   "cell_type": "code",
   "execution_count": 46,
   "id": "313803dc-7d02-4ae7-aa7b-924633f981d7",
   "metadata": {},
   "outputs": [],
   "source": [
    "data['Job_Title'] = job_location_10\n",
    "data['Job_Location'] = job_location_10\n",
    "data['Company_Name'] = company_name_10\n",
    "data['Experience_Required'] = experience_required_10"
   ]
  },
  {
   "cell_type": "code",
   "execution_count": 47,
   "id": "8f063d4d-46ed-4f6b-8d81-b0349019bf75",
   "metadata": {},
   "outputs": [
    {
     "data": {
      "text/html": [
       "<div>\n",
       "<style scoped>\n",
       "    .dataframe tbody tr th:only-of-type {\n",
       "        vertical-align: middle;\n",
       "    }\n",
       "\n",
       "    .dataframe tbody tr th {\n",
       "        vertical-align: top;\n",
       "    }\n",
       "\n",
       "    .dataframe thead th {\n",
       "        text-align: right;\n",
       "    }\n",
       "</style>\n",
       "<table border=\"1\" class=\"dataframe\">\n",
       "  <thead>\n",
       "    <tr style=\"text-align: right;\">\n",
       "      <th></th>\n",
       "      <th>Job_Title</th>\n",
       "      <th>Job_Location</th>\n",
       "      <th>Company_Name</th>\n",
       "      <th>Experience_Required</th>\n",
       "    </tr>\n",
       "  </thead>\n",
       "  <tbody>\n",
       "    <tr>\n",
       "      <th>0</th>\n",
       "      <td>Hyderabad/Secunderabad, Chennai, Bangalore/Ben...</td>\n",
       "      <td>Hyderabad/Secunderabad, Chennai, Bangalore/Ben...</td>\n",
       "      <td>Inflexion Analytix Private Limited</td>\n",
       "      <td>0-3 Yrs</td>\n",
       "    </tr>\n",
       "    <tr>\n",
       "      <th>1</th>\n",
       "      <td>Mumbai, Bangalore/Bengaluru</td>\n",
       "      <td>Mumbai, Bangalore/Bengaluru</td>\n",
       "      <td>INTERTRUSTVITEOS CORPORATE AND FUND SERVICES P...</td>\n",
       "      <td>10-15 Yrs</td>\n",
       "    </tr>\n",
       "    <tr>\n",
       "      <th>2</th>\n",
       "      <td>Bangalore/Bengaluru</td>\n",
       "      <td>Bangalore/Bengaluru</td>\n",
       "      <td>Dell International Services India Private Limited</td>\n",
       "      <td>0-2 Yrs</td>\n",
       "    </tr>\n",
       "    <tr>\n",
       "      <th>3</th>\n",
       "      <td>Mumbai, Bangalore/Bengaluru</td>\n",
       "      <td>Mumbai, Bangalore/Bengaluru</td>\n",
       "      <td>INTERTRUST GROUP</td>\n",
       "      <td>3-8 Yrs</td>\n",
       "    </tr>\n",
       "    <tr>\n",
       "      <th>4</th>\n",
       "      <td>Bangalore/Bengaluru</td>\n",
       "      <td>Bangalore/Bengaluru</td>\n",
       "      <td>IBM India Pvt. Limited</td>\n",
       "      <td>5-10 Yrs</td>\n",
       "    </tr>\n",
       "    <tr>\n",
       "      <th>5</th>\n",
       "      <td>Coimbatore, Bangalore/Bengaluru, Trivandrum/Th...</td>\n",
       "      <td>Coimbatore, Bangalore/Bengaluru, Trivandrum/Th...</td>\n",
       "      <td>Mind Circus Innovation</td>\n",
       "      <td>0-2 Yrs</td>\n",
       "    </tr>\n",
       "    <tr>\n",
       "      <th>6</th>\n",
       "      <td>Hyderabad/Secunderabad, Bangalore/Bengaluru</td>\n",
       "      <td>Hyderabad/Secunderabad, Bangalore/Bengaluru</td>\n",
       "      <td>Edubridgeindia</td>\n",
       "      <td>0-1 Yrs</td>\n",
       "    </tr>\n",
       "    <tr>\n",
       "      <th>7</th>\n",
       "      <td>Bangalore/Bengaluru</td>\n",
       "      <td>Bangalore/Bengaluru</td>\n",
       "      <td>Flipkart Internet Private Limited</td>\n",
       "      <td>0-2 Yrs</td>\n",
       "    </tr>\n",
       "    <tr>\n",
       "      <th>8</th>\n",
       "      <td>Pune, Chennai, Bangalore/Bengaluru</td>\n",
       "      <td>Pune, Chennai, Bangalore/Bengaluru</td>\n",
       "      <td>Quantsys</td>\n",
       "      <td>2-4 Yrs</td>\n",
       "    </tr>\n",
       "    <tr>\n",
       "      <th>9</th>\n",
       "      <td>Bangalore/Bengaluru</td>\n",
       "      <td>Bangalore/Bengaluru</td>\n",
       "      <td>Flipkart Internet Private Limited</td>\n",
       "      <td>3-5 Yrs</td>\n",
       "    </tr>\n",
       "  </tbody>\n",
       "</table>\n",
       "</div>"
      ],
      "text/plain": [
       "                                           Job_Title  \\\n",
       "0  Hyderabad/Secunderabad, Chennai, Bangalore/Ben...   \n",
       "1                        Mumbai, Bangalore/Bengaluru   \n",
       "2                                Bangalore/Bengaluru   \n",
       "3                        Mumbai, Bangalore/Bengaluru   \n",
       "4                                Bangalore/Bengaluru   \n",
       "5  Coimbatore, Bangalore/Bengaluru, Trivandrum/Th...   \n",
       "6        Hyderabad/Secunderabad, Bangalore/Bengaluru   \n",
       "7                                Bangalore/Bengaluru   \n",
       "8                 Pune, Chennai, Bangalore/Bengaluru   \n",
       "9                                Bangalore/Bengaluru   \n",
       "\n",
       "                                        Job_Location  \\\n",
       "0  Hyderabad/Secunderabad, Chennai, Bangalore/Ben...   \n",
       "1                        Mumbai, Bangalore/Bengaluru   \n",
       "2                                Bangalore/Bengaluru   \n",
       "3                        Mumbai, Bangalore/Bengaluru   \n",
       "4                                Bangalore/Bengaluru   \n",
       "5  Coimbatore, Bangalore/Bengaluru, Trivandrum/Th...   \n",
       "6        Hyderabad/Secunderabad, Bangalore/Bengaluru   \n",
       "7                                Bangalore/Bengaluru   \n",
       "8                 Pune, Chennai, Bangalore/Bengaluru   \n",
       "9                                Bangalore/Bengaluru   \n",
       "\n",
       "                                        Company_Name Experience_Required  \n",
       "0                 Inflexion Analytix Private Limited             0-3 Yrs  \n",
       "1  INTERTRUSTVITEOS CORPORATE AND FUND SERVICES P...           10-15 Yrs  \n",
       "2  Dell International Services India Private Limited             0-2 Yrs  \n",
       "3                                   INTERTRUST GROUP             3-8 Yrs  \n",
       "4                             IBM India Pvt. Limited            5-10 Yrs  \n",
       "5                             Mind Circus Innovation             0-2 Yrs  \n",
       "6                                     Edubridgeindia             0-1 Yrs  \n",
       "7                  Flipkart Internet Private Limited             0-2 Yrs  \n",
       "8                                           Quantsys             2-4 Yrs  \n",
       "9                  Flipkart Internet Private Limited             3-5 Yrs  "
      ]
     },
     "execution_count": 47,
     "metadata": {},
     "output_type": "execute_result"
    }
   ],
   "source": [
    "data"
   ]
  },
  {
   "cell_type": "markdown",
   "id": "fa148430-dde0-4e1c-b33f-54c32994b9ac",
   "metadata": {},
   "source": [
    "### ------------- ------------- ------------- -------------"
   ]
  },
  {
   "cell_type": "markdown",
   "id": "baec3b77-b7e6-4b0e-8cc7-0a89cbaab1c6",
   "metadata": {},
   "source": [
    "### Q2: Write a python program to scrape data for “Data Scientist” Job position in “Bangalore” location. You have to scrape the job-title, job-location, company_name, full job-description. You have to scrape first 10 jobs data."
   ]
  },
  {
   "cell_type": "markdown",
   "id": "502c2da5-5dd0-48b1-a53b-4cfd5f963da6",
   "metadata": {},
   "source": [
    "### This task will be done in following steps:\n",
    "### 1. first get the webpage https://www.naukri.com/\n",
    "### 2. Enter “Data Scientist” in “Skill,Designations,Companies” field and enter “Bangalore” in “enter the location” field.\n",
    "### 3. Then click the search button.\n",
    "### 4. Then scrape the data for the first 10 jobs results you get. 5. Finally create a dataframe of the scraped data.\n",
    "### Note- 1. All of the above steps have to be done in code. No step is to be done manually."
   ]
  },
  {
   "cell_type": "code",
   "execution_count": 48,
   "id": "bacbba81-8e06-43aa-aad7-a6de2f407bd4",
   "metadata": {},
   "outputs": [],
   "source": [
    "url1 = \" https://www.naukri.com/\"\n",
    "\n",
    "## opening the web page with the above url\n",
    "driver.get(url=url1)"
   ]
  },
  {
   "cell_type": "code",
   "execution_count": 80,
   "id": "cd5cdbaa-7293-4229-a59a-41f2d626a5f3",
   "metadata": {},
   "outputs": [],
   "source": [
    "## let's find the job skills (1)\n",
    "\n",
    "job_skill1 = driver.find_element_by_xpath('//input[@class=\"sugInp\"]')\n",
    "job_skill1.send_keys('Data Scientist')"
   ]
  },
  {
   "cell_type": "code",
   "execution_count": 81,
   "id": "07e434f9-2485-4bb1-bfc3-0467255a6116",
   "metadata": {},
   "outputs": [],
   "source": [
    "## let's find the job location \n",
    "\n",
    "job_location1 = driver.find_element_by_xpath('//input[@id=\"qsb-location-sugg\"]')\n",
    "job_location1.send_keys('Bangalore')\n"
   ]
  },
  {
   "cell_type": "code",
   "execution_count": 82,
   "id": "f7fe7d19-3c49-4c34-9308-34beecce5b42",
   "metadata": {},
   "outputs": [],
   "source": [
    "button_search1 = driver.find_element_by_xpath('//button[@class=\"btn\"]')\n",
    "button_search1.click()"
   ]
  },
  {
   "cell_type": "code",
   "execution_count": 52,
   "id": "47e32b26-c83c-4ca3-80dc-59b3c9cffbd7",
   "metadata": {},
   "outputs": [
    {
     "data": {
      "text/plain": [
       "[<selenium.webdriver.remote.webelement.WebElement (session=\"f0497f5f99f6c5cb90e5e5b4428c6beb\", element=\"af992a1b-29a0-43ba-927a-dc618fe02c1d\")>,\n",
       " <selenium.webdriver.remote.webelement.WebElement (session=\"f0497f5f99f6c5cb90e5e5b4428c6beb\", element=\"f402218b-902e-4272-9050-bacd2063476c\")>,\n",
       " <selenium.webdriver.remote.webelement.WebElement (session=\"f0497f5f99f6c5cb90e5e5b4428c6beb\", element=\"a1183854-5872-4dd8-b7b8-2475cfe52819\")>,\n",
       " <selenium.webdriver.remote.webelement.WebElement (session=\"f0497f5f99f6c5cb90e5e5b4428c6beb\", element=\"c6320dd2-c8e4-4397-9bf6-6565f85e6550\")>,\n",
       " <selenium.webdriver.remote.webelement.WebElement (session=\"f0497f5f99f6c5cb90e5e5b4428c6beb\", element=\"114ddb54-d704-4a4d-b0b6-b79d030a2693\")>,\n",
       " <selenium.webdriver.remote.webelement.WebElement (session=\"f0497f5f99f6c5cb90e5e5b4428c6beb\", element=\"7e163376-a312-40e3-b459-86f1b14afa95\")>,\n",
       " <selenium.webdriver.remote.webelement.WebElement (session=\"f0497f5f99f6c5cb90e5e5b4428c6beb\", element=\"f615bd41-5f57-483d-b443-e1373ac66c00\")>,\n",
       " <selenium.webdriver.remote.webelement.WebElement (session=\"f0497f5f99f6c5cb90e5e5b4428c6beb\", element=\"a32becc7-c748-46b3-8e26-f535bc14c660\")>,\n",
       " <selenium.webdriver.remote.webelement.WebElement (session=\"f0497f5f99f6c5cb90e5e5b4428c6beb\", element=\"96088949-f817-4e81-bbe6-75587d5537f6\")>,\n",
       " <selenium.webdriver.remote.webelement.WebElement (session=\"f0497f5f99f6c5cb90e5e5b4428c6beb\", element=\"bc748065-07e1-4a24-9222-39139d379437\")>,\n",
       " <selenium.webdriver.remote.webelement.WebElement (session=\"f0497f5f99f6c5cb90e5e5b4428c6beb\", element=\"917d1656-08e9-4e88-896f-76dd22a02b16\")>,\n",
       " <selenium.webdriver.remote.webelement.WebElement (session=\"f0497f5f99f6c5cb90e5e5b4428c6beb\", element=\"ad17fa26-1cd7-45aa-970f-56706eea29e6\")>,\n",
       " <selenium.webdriver.remote.webelement.WebElement (session=\"f0497f5f99f6c5cb90e5e5b4428c6beb\", element=\"63feb603-37cb-4f92-a472-cbcaeb0b429d\")>,\n",
       " <selenium.webdriver.remote.webelement.WebElement (session=\"f0497f5f99f6c5cb90e5e5b4428c6beb\", element=\"450cfb25-f0f7-4eda-9549-9df48a6489da\")>,\n",
       " <selenium.webdriver.remote.webelement.WebElement (session=\"f0497f5f99f6c5cb90e5e5b4428c6beb\", element=\"4d501a26-46dd-4e2c-8909-eebfa0cc8c93\")>,\n",
       " <selenium.webdriver.remote.webelement.WebElement (session=\"f0497f5f99f6c5cb90e5e5b4428c6beb\", element=\"42a6f1f6-bdeb-4e2a-a1f3-0bbd0a7e6abf\")>,\n",
       " <selenium.webdriver.remote.webelement.WebElement (session=\"f0497f5f99f6c5cb90e5e5b4428c6beb\", element=\"8d0e1157-5a72-480c-b162-d149f344ec0b\")>,\n",
       " <selenium.webdriver.remote.webelement.WebElement (session=\"f0497f5f99f6c5cb90e5e5b4428c6beb\", element=\"685b51f9-6bda-4ae7-b865-94ad3d2edd1e\")>,\n",
       " <selenium.webdriver.remote.webelement.WebElement (session=\"f0497f5f99f6c5cb90e5e5b4428c6beb\", element=\"13791c6f-a095-4993-8b74-e5d4aa8dccf9\")>,\n",
       " <selenium.webdriver.remote.webelement.WebElement (session=\"f0497f5f99f6c5cb90e5e5b4428c6beb\", element=\"9769f88c-669b-44ca-9921-9a75273371e1\")>]"
      ]
     },
     "execution_count": 52,
     "metadata": {},
     "output_type": "execute_result"
    }
   ],
   "source": [
    "## let's scrap the then jobs data title\n",
    "\n",
    "job_titles1 = driver.find_elements_by_xpath('//a[@class=\"title fw500 ellipsis\"]')\n",
    "\n",
    "job_titles1"
   ]
  },
  {
   "cell_type": "code",
   "execution_count": 53,
   "id": "549d1086-88d5-4056-900e-3e13b6cab284",
   "metadata": {},
   "outputs": [],
   "source": [
    "job_title_ =[]\n",
    "for oli in job_titles1:\n",
    "    job_title_.append(oli.text)"
   ]
  },
  {
   "cell_type": "code",
   "execution_count": 54,
   "id": "792b89b8-2a24-4378-ac95-7a7336f5b781",
   "metadata": {},
   "outputs": [
    {
     "data": {
      "text/plain": [
       "['Data Scientist',\n",
       " 'Data Scientist / Data Analyst -Business Analyst',\n",
       " 'Data Scientist: Advanced Analytics',\n",
       " 'Data Scientist',\n",
       " 'Senior Data Scientist',\n",
       " 'EXL - Senior Data Scientist, 5+ yrs, Mumbai / PUNE / BLR / Chennai',\n",
       " 'Senior Data Scientist',\n",
       " 'Sr Data Scientist',\n",
       " 'Senior Data Scientist',\n",
       " 'Data Scientist',\n",
       " 'Senior Data Scientist/ Tech Lead - SQL/ Python/ Big Data',\n",
       " 'Data Scientist',\n",
       " 'Data Scientist',\n",
       " 'Data Scientist',\n",
       " 'Data Scientist',\n",
       " 'Hiring Data Scientist',\n",
       " 'Data scientist',\n",
       " 'Principal Data Scientist',\n",
       " 'Data science , data scientist',\n",
       " 'DHS _ Hiring For Data Scientist - India']"
      ]
     },
     "execution_count": 54,
     "metadata": {},
     "output_type": "execute_result"
    }
   ],
   "source": [
    "job_title_"
   ]
  },
  {
   "cell_type": "code",
   "execution_count": 55,
   "id": "96e93fcf-f044-4410-a5a0-9f7da304a1fb",
   "metadata": {},
   "outputs": [
    {
     "data": {
      "text/plain": [
       "['Data Scientist',\n",
       " 'Data Scientist / Data Analyst -Business Analyst',\n",
       " 'Data Scientist: Advanced Analytics',\n",
       " 'Data Scientist',\n",
       " 'Senior Data Scientist',\n",
       " 'EXL - Senior Data Scientist, 5+ yrs, Mumbai / PUNE / BLR / Chennai',\n",
       " 'Senior Data Scientist',\n",
       " 'Sr Data Scientist',\n",
       " 'Senior Data Scientist',\n",
       " 'Data Scientist']"
      ]
     },
     "execution_count": 55,
     "metadata": {},
     "output_type": "execute_result"
    }
   ],
   "source": [
    "## finding the first 10 job titles\n",
    "job_title_10_ = job_title_[0:10]\n",
    "job_title_10_"
   ]
  },
  {
   "cell_type": "code",
   "execution_count": 64,
   "id": "44b1ab5f-ca37-4237-93c8-3fcd2e7ed8dc",
   "metadata": {},
   "outputs": [],
   "source": [
    "## let's find the job location\n",
    "job_location1 = driver.find_elements_by_xpath('//li[@class=\"fleft grey-text br2 placeHolderLi location\"]//span')\n",
    "\n"
   ]
  },
  {
   "cell_type": "code",
   "execution_count": 65,
   "id": "82b3b52e-c3a4-4de1-9eb9-5cae933d58fd",
   "metadata": {},
   "outputs": [
    {
     "data": {
      "text/plain": [
       "[<selenium.webdriver.remote.webelement.WebElement (session=\"f0497f5f99f6c5cb90e5e5b4428c6beb\", element=\"6c6a22bf-e998-4da1-a5f3-7ffec8c1c668\")>,\n",
       " <selenium.webdriver.remote.webelement.WebElement (session=\"f0497f5f99f6c5cb90e5e5b4428c6beb\", element=\"6442760b-dff1-47fd-b70e-b5506b2772fb\")>,\n",
       " <selenium.webdriver.remote.webelement.WebElement (session=\"f0497f5f99f6c5cb90e5e5b4428c6beb\", element=\"4cf538d6-5f29-4a2c-9410-ca968f64ef2f\")>,\n",
       " <selenium.webdriver.remote.webelement.WebElement (session=\"f0497f5f99f6c5cb90e5e5b4428c6beb\", element=\"be5c9702-d4db-43ba-9d52-d522d02030ba\")>,\n",
       " <selenium.webdriver.remote.webelement.WebElement (session=\"f0497f5f99f6c5cb90e5e5b4428c6beb\", element=\"d459157a-325a-407d-9c62-9c511b8788fc\")>,\n",
       " <selenium.webdriver.remote.webelement.WebElement (session=\"f0497f5f99f6c5cb90e5e5b4428c6beb\", element=\"c19d889d-0261-40e2-9c11-ac20dca60a53\")>,\n",
       " <selenium.webdriver.remote.webelement.WebElement (session=\"f0497f5f99f6c5cb90e5e5b4428c6beb\", element=\"4e9b786e-9c9c-46e1-99df-c7d327d09cf2\")>,\n",
       " <selenium.webdriver.remote.webelement.WebElement (session=\"f0497f5f99f6c5cb90e5e5b4428c6beb\", element=\"e1e05f39-9944-4a72-ae94-a238775c3b07\")>,\n",
       " <selenium.webdriver.remote.webelement.WebElement (session=\"f0497f5f99f6c5cb90e5e5b4428c6beb\", element=\"b99654c8-4d9f-43a3-a777-e0283b226af0\")>,\n",
       " <selenium.webdriver.remote.webelement.WebElement (session=\"f0497f5f99f6c5cb90e5e5b4428c6beb\", element=\"a683a6e3-2970-4e27-8cee-d347d5cb8113\")>,\n",
       " <selenium.webdriver.remote.webelement.WebElement (session=\"f0497f5f99f6c5cb90e5e5b4428c6beb\", element=\"6d7af3e1-8fbd-474f-9602-db3e57c74074\")>,\n",
       " <selenium.webdriver.remote.webelement.WebElement (session=\"f0497f5f99f6c5cb90e5e5b4428c6beb\", element=\"79417086-c9c6-4b99-a446-8e67aee739c3\")>,\n",
       " <selenium.webdriver.remote.webelement.WebElement (session=\"f0497f5f99f6c5cb90e5e5b4428c6beb\", element=\"80cdd0f6-0d35-49a3-a136-8007772c87ea\")>,\n",
       " <selenium.webdriver.remote.webelement.WebElement (session=\"f0497f5f99f6c5cb90e5e5b4428c6beb\", element=\"4d3ddf16-30ed-4d7d-9a02-99d4cb2fee27\")>,\n",
       " <selenium.webdriver.remote.webelement.WebElement (session=\"f0497f5f99f6c5cb90e5e5b4428c6beb\", element=\"00259e75-cf3a-4bfd-b99a-c4692cf7e0b2\")>,\n",
       " <selenium.webdriver.remote.webelement.WebElement (session=\"f0497f5f99f6c5cb90e5e5b4428c6beb\", element=\"599d357b-219a-4992-aca6-45d6a55a0c30\")>,\n",
       " <selenium.webdriver.remote.webelement.WebElement (session=\"f0497f5f99f6c5cb90e5e5b4428c6beb\", element=\"cc93b0b1-3653-4702-ac1c-aa78d510784b\")>,\n",
       " <selenium.webdriver.remote.webelement.WebElement (session=\"f0497f5f99f6c5cb90e5e5b4428c6beb\", element=\"eefeb379-5e3b-4856-bc31-fdda400c0be0\")>,\n",
       " <selenium.webdriver.remote.webelement.WebElement (session=\"f0497f5f99f6c5cb90e5e5b4428c6beb\", element=\"e057cdfd-9911-4b94-877c-42193785027b\")>,\n",
       " <selenium.webdriver.remote.webelement.WebElement (session=\"f0497f5f99f6c5cb90e5e5b4428c6beb\", element=\"badbb7ce-8318-4464-948f-8c19d6d8b607\")>]"
      ]
     },
     "execution_count": 65,
     "metadata": {},
     "output_type": "execute_result"
    }
   ],
   "source": [
    "job_location1"
   ]
  },
  {
   "cell_type": "code",
   "execution_count": 66,
   "id": "ed9fcf5f-3454-481d-95f2-f5c9e4074c81",
   "metadata": {},
   "outputs": [],
   "source": [
    "job_location_ = []\n",
    "for oli in job_location1:\n",
    "    job_location_.append(oli.text)"
   ]
  },
  {
   "cell_type": "code",
   "execution_count": 67,
   "id": "c4a85895-9afa-481a-a0d8-c98f26eda53c",
   "metadata": {},
   "outputs": [
    {
     "data": {
      "text/plain": [
       "['Bangalore/Bengaluru',\n",
       " 'Hyderabad/Secunderabad, Chennai, Bangalore/Bengaluru',\n",
       " 'Bangalore/Bengaluru',\n",
       " 'Bangalore/Bengaluru',\n",
       " 'Hyderabad/Secunderabad, Gurgaon/Gurugram, Bangalore/Bengaluru',\n",
       " 'Pune, Chennai, Bangalore/Bengaluru, Delhi / NCR',\n",
       " 'Bangalore/Bengaluru',\n",
       " 'Bangalore/Bengaluru',\n",
       " 'Bangalore/Bengaluru',\n",
       " 'Bangalore/Bengaluru',\n",
       " 'Pune, Chennai, Bangalore/Bengaluru',\n",
       " 'Bangalore/Bengaluru',\n",
       " 'Noida, Gurgaon/Gurugram, Bangalore/Bengaluru, Delhi / NCR',\n",
       " 'Bangalore/Bengaluru, Mumbai (All Areas)',\n",
       " 'Bangalore/Bengaluru',\n",
       " 'Bangalore/Bengaluru(5th block Koramangala)',\n",
       " 'Bangalore/Bengaluru',\n",
       " 'Bangalore/Bengaluru',\n",
       " 'Bangalore/Bengaluru',\n",
       " 'Bangalore/Bengaluru']"
      ]
     },
     "execution_count": 67,
     "metadata": {},
     "output_type": "execute_result"
    }
   ],
   "source": [
    "job_location_ "
   ]
  },
  {
   "cell_type": "code",
   "execution_count": 68,
   "id": "3d8cb015-20de-4e15-9954-695cb82dbdb5",
   "metadata": {},
   "outputs": [
    {
     "data": {
      "text/plain": [
       "['Bangalore/Bengaluru',\n",
       " 'Hyderabad/Secunderabad, Chennai, Bangalore/Bengaluru',\n",
       " 'Bangalore/Bengaluru',\n",
       " 'Bangalore/Bengaluru',\n",
       " 'Hyderabad/Secunderabad, Gurgaon/Gurugram, Bangalore/Bengaluru',\n",
       " 'Pune, Chennai, Bangalore/Bengaluru, Delhi / NCR',\n",
       " 'Bangalore/Bengaluru',\n",
       " 'Bangalore/Bengaluru',\n",
       " 'Bangalore/Bengaluru',\n",
       " 'Bangalore/Bengaluru']"
      ]
     },
     "execution_count": 68,
     "metadata": {},
     "output_type": "execute_result"
    }
   ],
   "source": [
    "## let's get the first 10 \n",
    "job_location_10 = job_location_[0:10]\n",
    "job_location_10"
   ]
  },
  {
   "cell_type": "code",
   "execution_count": 74,
   "id": "ab62afa9-14ec-45ad-9856-8e88e048aeaf",
   "metadata": {},
   "outputs": [],
   "source": [
    "## let's find the company's names\n",
    "company_names = driver.find_elements_by_xpath('//a[@class=\"subTitle ellipsis fleft\"]')"
   ]
  },
  {
   "cell_type": "code",
   "execution_count": 75,
   "id": "a0e26a30-c071-41db-882b-f3e3fe23623c",
   "metadata": {},
   "outputs": [],
   "source": [
    "company_name_ = []\n",
    "for oli in company_names:\n",
    "    company_name_.append(oli.text)\n"
   ]
  },
  {
   "cell_type": "code",
   "execution_count": 76,
   "id": "452641e6-6ec0-45bd-a7c3-2ce03e1feb21",
   "metadata": {},
   "outputs": [
    {
     "data": {
      "text/plain": [
       "['Flipkart Internet Private Limited',\n",
       " 'Inflexion Analytix Private Limited',\n",
       " 'IBM India Pvt. Limited',\n",
       " 'IBM India Pvt. Limited',\n",
       " 'inVentiv International Pharma Services Pvt. Ltd.',\n",
       " 'EXL Service',\n",
       " 'Superior Group',\n",
       " 'FabHotel Aay Kay Model Town',\n",
       " 'ORMAE (Operations Research Machine learning & Analytics Experts LLP)',\n",
       " 'Applied Materials',\n",
       " 'Exploro Solutions',\n",
       " 'Center for Study of Science, Technology and Policy',\n",
       " 'Software Data India Ltd.',\n",
       " 'Vision Beyond Resources India Private Limited',\n",
       " 'Blue Ocean Catalyst Private Limited',\n",
       " 'TYA Business Solutions Private Limited',\n",
       " 'Superior Group',\n",
       " 'Superior Group',\n",
       " 'Stalwart Management Consulting',\n",
       " 'DeliverHealth Solutions']"
      ]
     },
     "execution_count": 76,
     "metadata": {},
     "output_type": "execute_result"
    }
   ],
   "source": [
    "company_name_"
   ]
  },
  {
   "cell_type": "code",
   "execution_count": 77,
   "id": "1873093c-5d6a-4224-bdf0-68d5149d07e0",
   "metadata": {},
   "outputs": [],
   "source": [
    "company_name_10 = company_name_[0:10]"
   ]
  },
  {
   "cell_type": "code",
   "execution_count": 78,
   "id": "74ef5c99-e547-4754-8740-a934cba1715e",
   "metadata": {},
   "outputs": [
    {
     "data": {
      "text/plain": [
       "['Flipkart Internet Private Limited',\n",
       " 'Inflexion Analytix Private Limited',\n",
       " 'IBM India Pvt. Limited',\n",
       " 'IBM India Pvt. Limited',\n",
       " 'inVentiv International Pharma Services Pvt. Ltd.',\n",
       " 'EXL Service',\n",
       " 'Superior Group',\n",
       " 'FabHotel Aay Kay Model Town',\n",
       " 'ORMAE (Operations Research Machine learning & Analytics Experts LLP)',\n",
       " 'Applied Materials']"
      ]
     },
     "execution_count": 78,
     "metadata": {},
     "output_type": "execute_result"
    }
   ],
   "source": [
    "company_name_10"
   ]
  },
  {
   "cell_type": "code",
   "execution_count": 83,
   "id": "124914a6-6914-4c5a-8654-34acb8fe351f",
   "metadata": {},
   "outputs": [
    {
     "data": {
      "text/plain": [
       "[<selenium.webdriver.remote.webelement.WebElement (session=\"f0497f5f99f6c5cb90e5e5b4428c6beb\", element=\"a04e6976-b125-418c-bc30-892ea898b08a\")>,\n",
       " <selenium.webdriver.remote.webelement.WebElement (session=\"f0497f5f99f6c5cb90e5e5b4428c6beb\", element=\"526e6d54-1d37-4c43-a2bc-64f601a7ca8e\")>,\n",
       " <selenium.webdriver.remote.webelement.WebElement (session=\"f0497f5f99f6c5cb90e5e5b4428c6beb\", element=\"eb502ac0-2fe1-423d-b005-f3883bce8a56\")>,\n",
       " <selenium.webdriver.remote.webelement.WebElement (session=\"f0497f5f99f6c5cb90e5e5b4428c6beb\", element=\"64130327-3aef-49c9-b2f3-db3f0018a172\")>,\n",
       " <selenium.webdriver.remote.webelement.WebElement (session=\"f0497f5f99f6c5cb90e5e5b4428c6beb\", element=\"b1f6b055-ee09-474b-aa24-f9f14743a91b\")>,\n",
       " <selenium.webdriver.remote.webelement.WebElement (session=\"f0497f5f99f6c5cb90e5e5b4428c6beb\", element=\"e088db7d-cf1a-4b9e-99fb-f0601f11300b\")>,\n",
       " <selenium.webdriver.remote.webelement.WebElement (session=\"f0497f5f99f6c5cb90e5e5b4428c6beb\", element=\"5028de0c-0448-4a69-a2ca-9b4238c6d204\")>,\n",
       " <selenium.webdriver.remote.webelement.WebElement (session=\"f0497f5f99f6c5cb90e5e5b4428c6beb\", element=\"8cbe4c0e-7354-4741-83a8-2b40143f9c48\")>,\n",
       " <selenium.webdriver.remote.webelement.WebElement (session=\"f0497f5f99f6c5cb90e5e5b4428c6beb\", element=\"66994d63-ed2f-4a40-bb9f-96a43b6154d8\")>,\n",
       " <selenium.webdriver.remote.webelement.WebElement (session=\"f0497f5f99f6c5cb90e5e5b4428c6beb\", element=\"25c2cd9a-2c00-49a9-a63d-4778bed7de80\")>,\n",
       " <selenium.webdriver.remote.webelement.WebElement (session=\"f0497f5f99f6c5cb90e5e5b4428c6beb\", element=\"e7772388-6430-4bc4-922b-c6da68bae9bb\")>,\n",
       " <selenium.webdriver.remote.webelement.WebElement (session=\"f0497f5f99f6c5cb90e5e5b4428c6beb\", element=\"c9b32734-b990-468b-b054-0daaa8cd8d77\")>,\n",
       " <selenium.webdriver.remote.webelement.WebElement (session=\"f0497f5f99f6c5cb90e5e5b4428c6beb\", element=\"f0587661-1bb0-4816-8733-81acaeddcff3\")>,\n",
       " <selenium.webdriver.remote.webelement.WebElement (session=\"f0497f5f99f6c5cb90e5e5b4428c6beb\", element=\"feb91366-66c7-446b-b740-0d399da6f62c\")>,\n",
       " <selenium.webdriver.remote.webelement.WebElement (session=\"f0497f5f99f6c5cb90e5e5b4428c6beb\", element=\"deb974a1-5d5f-4e07-bcf6-a60af32557a3\")>,\n",
       " <selenium.webdriver.remote.webelement.WebElement (session=\"f0497f5f99f6c5cb90e5e5b4428c6beb\", element=\"f388b624-a2cb-4958-995a-ec7246e2a3f1\")>,\n",
       " <selenium.webdriver.remote.webelement.WebElement (session=\"f0497f5f99f6c5cb90e5e5b4428c6beb\", element=\"71673977-49de-4380-a372-56db4f8f310d\")>,\n",
       " <selenium.webdriver.remote.webelement.WebElement (session=\"f0497f5f99f6c5cb90e5e5b4428c6beb\", element=\"5ba92f4d-585b-4406-9378-e864983d3cf2\")>,\n",
       " <selenium.webdriver.remote.webelement.WebElement (session=\"f0497f5f99f6c5cb90e5e5b4428c6beb\", element=\"ea6c44ec-22b3-4826-be48-30ec0f54abb3\")>,\n",
       " <selenium.webdriver.remote.webelement.WebElement (session=\"f0497f5f99f6c5cb90e5e5b4428c6beb\", element=\"4232c4f6-9b99-48a8-976d-e56acf5b0b1d\")>]"
      ]
     },
     "execution_count": 83,
     "metadata": {},
     "output_type": "execute_result"
    }
   ],
   "source": [
    "## let's find the job descriptions\n",
    "\n",
    "\n",
    "job_titles1 = driver.find_elements_by_xpath('//a[@class=\"title fw500 ellipsis\"]')\n",
    "\n",
    "job_titles1"
   ]
  },
  {
   "cell_type": "code",
   "execution_count": 84,
   "id": "34071ad3-aa2a-4a30-951b-84740bab553a",
   "metadata": {},
   "outputs": [],
   "source": [
    "## let's get jobs url first\n",
    "job_url =[]\n",
    "for oli in job_titles1:\n",
    "    job_url.append(oli.get_attribute('href'))\n",
    "    "
   ]
  },
  {
   "cell_type": "code",
   "execution_count": 85,
   "id": "9a1b4cab-bc9f-4156-9a7e-80650900a6b6",
   "metadata": {},
   "outputs": [
    {
     "data": {
      "text/plain": [
       "['https://www.naukri.com/job-listings-data-scientist-data-analyst-business-analyst-inflexion-analytix-private-limited-hyderabad-secunderabad-chennai-bangalore-bengaluru-0-to-3-years-020721003625?src=jobsearchDesk&sid=16258192090564020_1&xp=1&px=1',\n",
       " 'https://www.naukri.com/job-listings-data-scientist-software-data-india-ltd-noida-gurgaon-gurugram-bangalore-bengaluru-delhi-ncr-8-to-10-years-180621003560?src=jobsearchDesk&sid=16258192090564020_1&xp=2&px=1',\n",
       " 'https://www.naukri.com/job-listings-data-scientist-applied-materials-india-private-limited-bangalore-bengaluru-5-to-10-years-090721902434?src=jobsearchDesk&sid=16258192090564020_1&xp=3&px=1',\n",
       " 'https://www.naukri.com/job-listings-senior-data-scientist-inventiv-international-pharma-services-pvt-ltd-hyderabad-secunderabad-gurgaon-gurugram-bangalore-bengaluru-3-to-6-years-090721000064?src=jobsearchDesk&sid=16258192090564020_1&xp=4&px=1',\n",
       " 'https://www.naukri.com/job-listings-data-scientist-ibm-india-pvt-limited-bangalore-bengaluru-3-to-6-years-080721906014?src=jobsearchDesk&sid=16258192090564020_1&xp=5&px=1',\n",
       " 'https://www.naukri.com/job-listings-data-scientist-flipkart-internet-private-limited-bangalore-bengaluru-0-to-5-years-080721904425?src=jobsearchDesk&sid=16258192090564020_1&xp=6&px=1',\n",
       " 'https://www.naukri.com/job-listings-data-scientist-center-for-study-of-science-technology-and-policy-bangalore-bengaluru-2-to-4-years-080721501346?src=jobsearchDesk&sid=16258192090564020_1&xp=7&px=1',\n",
       " 'https://www.naukri.com/job-listings-data-scientist-blue-ocean-catalyst-private-limited-bangalore-bengaluru-2-to-6-years-080721500490?src=jobsearchDesk&sid=16258192090564020_1&xp=8&px=1',\n",
       " 'https://www.naukri.com/job-listings-data-scientist-vision-beyond-resources-india-private-limited-bangalore-bengaluru-mumbai-all-areas-10-to-19-years-080721006482?src=jobsearchDesk&sid=16258192090564020_1&xp=9&px=1',\n",
       " 'https://www.naukri.com/job-listings-exl-senior-data-scientist-5-yrs-mumbai-pune-blr-chennai-exl-service-pune-chennai-bangalore-bengaluru-delhi-ncr-5-to-10-years-080721005255?src=jobsearchDesk&sid=16258192090564020_1&xp=10&px=1',\n",
       " 'https://www.naukri.com/job-listings-data-scientist-advanced-analytics-ibm-india-pvt-limited-bangalore-bengaluru-5-to-10-years-070721908032?src=jobsearchDesk&sid=16258192090564020_1&xp=11&px=1',\n",
       " 'https://www.naukri.com/job-listings-senior-data-scientist-superior-group-bangalore-bengaluru-4-to-9-years-070721500778?src=jobsearchDesk&sid=16258192090564020_1&xp=12&px=1',\n",
       " 'https://www.naukri.com/job-listings-sr-data-scientist-fabhotel-aay-kay-model-town-bangalore-bengaluru-2-to-5-years-070721500535?src=jobsearchDesk&sid=16258192090564020_1&xp=13&px=1',\n",
       " 'https://www.naukri.com/job-listings-hiring-data-scientist-tya-business-solutions-private-limited-bangalore-bengaluru-4-to-6-years-090721002695?src=jobsearchDesk&sid=16258192090564020_1&xp=14&px=1',\n",
       " 'https://www.naukri.com/job-listings-dhs-hiring-for-data-scientist-india-deliverhealth-solutions-bangalore-bengaluru-1-to-6-years-080721003439?src=jobsearchDesk&sid=16258192090564020_1&xp=15&px=1',\n",
       " 'https://www.naukri.com/job-listings-data-scientist-superior-group-bangalore-bengaluru-3-to-8-years-070721500780?src=jobsearchDesk&sid=16258192090564020_1&xp=16&px=1',\n",
       " 'https://www.naukri.com/job-listings-principal-data-scientist-superior-group-bangalore-bengaluru-3-to-10-years-070721500779?src=jobsearchDesk&sid=16258192090564020_1&xp=17&px=1',\n",
       " 'https://www.naukri.com/job-listings-data-science-data-scientist-stalwart-management-consulting-bangalore-bengaluru-5-to-10-years-070721500743?src=jobsearchDesk&sid=16258192090564020_1&xp=18&px=1',\n",
       " 'https://www.naukri.com/job-listings-senior-data-scientist-ormae-operations-research-machine-learning-analytics-experts-llp-bangalore-bengaluru-5-to-10-years-070721500357?src=jobsearchDesk&sid=16258192090564020_1&xp=19&px=1',\n",
       " 'https://www.naukri.com/job-listings-hiring-java-programmers-and-data-scientists-sk-vedainfo-universal-technologies-pvt-ltd-hyderabad-secunderabad-bangalore-bengaluru-2-to-4-years-230521001057?src=jobsearchDesk&sid=16258192090564020_1&xp=20&px=1']"
      ]
     },
     "execution_count": 85,
     "metadata": {},
     "output_type": "execute_result"
    }
   ],
   "source": [
    "job_url"
   ]
  },
  {
   "cell_type": "code",
   "execution_count": 93,
   "id": "dfb091f9-7e3a-437f-8079-ffa2341c82e5",
   "metadata": {},
   "outputs": [],
   "source": [
    "job_descrition = []\n",
    "for oli in job_url:\n",
    "    time.sleep(3)\n",
    "    driver.get(oli)\n",
    "    jo_desc= driver.find_elements_by_xpath('//section[@class=\"job-desc\"]')\n",
    "    for i in jo_desc:\n",
    "        job_descrition.append(i.text.replace('\\n',''))\n",
    "    "
   ]
  },
  {
   "cell_type": "code",
   "execution_count": 99,
   "id": "68d3ae9d-439a-4cd3-9b93-0a4c40ffddcc",
   "metadata": {},
   "outputs": [],
   "source": [
    "#job_descrition"
   ]
  },
  {
   "cell_type": "code",
   "execution_count": 95,
   "id": "d9836474-340b-4132-8ab2-e10b9717ead0",
   "metadata": {},
   "outputs": [
    {
     "data": {
      "text/plain": [
       "16"
      ]
     },
     "execution_count": 95,
     "metadata": {},
     "output_type": "execute_result"
    }
   ],
   "source": [
    "len(job_descrition)"
   ]
  },
  {
   "cell_type": "code",
   "execution_count": 96,
   "id": "46ba4539-ee80-4b0c-8362-dccf8cdd4ff1",
   "metadata": {},
   "outputs": [],
   "source": [
    "\n",
    "## let's get the first 10 description\n",
    "\n",
    "job_descrition_10 = job_descrition[0:10]"
   ]
  },
  {
   "cell_type": "code",
   "execution_count": 100,
   "id": "abeafd8c-1f7f-4380-95a1-867c9f15cb03",
   "metadata": {},
   "outputs": [],
   "source": [
    "#job_descrition_10"
   ]
  },
  {
   "cell_type": "markdown",
   "id": "401bfbaa-bbda-4b1a-914e-6d5174bcd9ae",
   "metadata": {},
   "source": [
    "## let's make our data frame"
   ]
  },
  {
   "cell_type": "code",
   "execution_count": 98,
   "id": "c1aec1f3-ef97-4adb-b573-07c1d3ae5cc5",
   "metadata": {},
   "outputs": [],
   "source": [
    "data_ = pd.DataFrame({})"
   ]
  },
  {
   "cell_type": "code",
   "execution_count": 101,
   "id": "6f14b7bf-4c32-498f-a7c1-931e096126d8",
   "metadata": {},
   "outputs": [],
   "source": [
    "data_['Job_Title'] = job_title_10_\n",
    "data_['Job_Location'] = job_location_10\n",
    "data_['Company_Name'] = company_name_10\n",
    "data_['Job_Description'] = job_descrition_10"
   ]
  },
  {
   "cell_type": "code",
   "execution_count": 102,
   "id": "f4bfc76c-9780-46ec-bd28-e1413e5fac82",
   "metadata": {},
   "outputs": [
    {
     "data": {
      "text/html": [
       "<div>\n",
       "<style scoped>\n",
       "    .dataframe tbody tr th:only-of-type {\n",
       "        vertical-align: middle;\n",
       "    }\n",
       "\n",
       "    .dataframe tbody tr th {\n",
       "        vertical-align: top;\n",
       "    }\n",
       "\n",
       "    .dataframe thead th {\n",
       "        text-align: right;\n",
       "    }\n",
       "</style>\n",
       "<table border=\"1\" class=\"dataframe\">\n",
       "  <thead>\n",
       "    <tr style=\"text-align: right;\">\n",
       "      <th></th>\n",
       "      <th>Job_Title</th>\n",
       "      <th>Job_Location</th>\n",
       "      <th>Company_Name</th>\n",
       "      <th>Job_Description</th>\n",
       "    </tr>\n",
       "  </thead>\n",
       "  <tbody>\n",
       "    <tr>\n",
       "      <th>0</th>\n",
       "      <td>Data Scientist</td>\n",
       "      <td>Bangalore/Bengaluru</td>\n",
       "      <td>Flipkart Internet Private Limited</td>\n",
       "      <td>Job descriptionJob descriptionJob Role: Data S...</td>\n",
       "    </tr>\n",
       "    <tr>\n",
       "      <th>1</th>\n",
       "      <td>Data Scientist / Data Analyst -Business Analyst</td>\n",
       "      <td>Hyderabad/Secunderabad, Chennai, Bangalore/Ben...</td>\n",
       "      <td>Inflexion Analytix Private Limited</td>\n",
       "      <td>Job descriptionUrgent job-need with an IT MNC ...</td>\n",
       "    </tr>\n",
       "    <tr>\n",
       "      <th>2</th>\n",
       "      <td>Data Scientist: Advanced Analytics</td>\n",
       "      <td>Bangalore/Bengaluru</td>\n",
       "      <td>IBM India Pvt. Limited</td>\n",
       "      <td>Job descriptionAbout the teamThe Data Sciences...</td>\n",
       "    </tr>\n",
       "    <tr>\n",
       "      <th>3</th>\n",
       "      <td>Data Scientist</td>\n",
       "      <td>Bangalore/Bengaluru</td>\n",
       "      <td>IBM India Pvt. Limited</td>\n",
       "      <td>Job descriptionData Scientist-AI and Digital L...</td>\n",
       "    </tr>\n",
       "    <tr>\n",
       "      <th>4</th>\n",
       "      <td>Senior Data Scientist</td>\n",
       "      <td>Hyderabad/Secunderabad, Gurgaon/Gurugram, Bang...</td>\n",
       "      <td>inVentiv International Pharma Services Pvt. Ltd.</td>\n",
       "      <td>Job descriptionResponsible for scoping, develo...</td>\n",
       "    </tr>\n",
       "    <tr>\n",
       "      <th>5</th>\n",
       "      <td>EXL - Senior Data Scientist, 5+ yrs, Mumbai / ...</td>\n",
       "      <td>Pune, Chennai, Bangalore/Bengaluru, Delhi / NCR</td>\n",
       "      <td>EXL Service</td>\n",
       "      <td>Job descriptionRoles and ResponsibilitiesIdent...</td>\n",
       "    </tr>\n",
       "    <tr>\n",
       "      <th>6</th>\n",
       "      <td>Senior Data Scientist</td>\n",
       "      <td>Bangalore/Bengaluru</td>\n",
       "      <td>Superior Group</td>\n",
       "      <td>Job descriptionMinimum Qualifications: (Specif...</td>\n",
       "    </tr>\n",
       "    <tr>\n",
       "      <th>7</th>\n",
       "      <td>Sr Data Scientist</td>\n",
       "      <td>Bangalore/Bengaluru</td>\n",
       "      <td>FabHotel Aay Kay Model Town</td>\n",
       "      <td>Job descriptionKey Responsibilities:Provide ad...</td>\n",
       "    </tr>\n",
       "    <tr>\n",
       "      <th>8</th>\n",
       "      <td>Senior Data Scientist</td>\n",
       "      <td>Bangalore/Bengaluru</td>\n",
       "      <td>ORMAE (Operations Research Machine learning &amp; ...</td>\n",
       "      <td>Job descriptionAs as Senior Data Scientist, yo...</td>\n",
       "    </tr>\n",
       "    <tr>\n",
       "      <th>9</th>\n",
       "      <td>Data Scientist</td>\n",
       "      <td>Bangalore/Bengaluru</td>\n",
       "      <td>Applied Materials</td>\n",
       "      <td>Job descriptionA consistent record of using pr...</td>\n",
       "    </tr>\n",
       "  </tbody>\n",
       "</table>\n",
       "</div>"
      ],
      "text/plain": [
       "                                           Job_Title  \\\n",
       "0                                     Data Scientist   \n",
       "1    Data Scientist / Data Analyst -Business Analyst   \n",
       "2                 Data Scientist: Advanced Analytics   \n",
       "3                                     Data Scientist   \n",
       "4                              Senior Data Scientist   \n",
       "5  EXL - Senior Data Scientist, 5+ yrs, Mumbai / ...   \n",
       "6                              Senior Data Scientist   \n",
       "7                                  Sr Data Scientist   \n",
       "8                              Senior Data Scientist   \n",
       "9                                     Data Scientist   \n",
       "\n",
       "                                        Job_Location  \\\n",
       "0                                Bangalore/Bengaluru   \n",
       "1  Hyderabad/Secunderabad, Chennai, Bangalore/Ben...   \n",
       "2                                Bangalore/Bengaluru   \n",
       "3                                Bangalore/Bengaluru   \n",
       "4  Hyderabad/Secunderabad, Gurgaon/Gurugram, Bang...   \n",
       "5    Pune, Chennai, Bangalore/Bengaluru, Delhi / NCR   \n",
       "6                                Bangalore/Bengaluru   \n",
       "7                                Bangalore/Bengaluru   \n",
       "8                                Bangalore/Bengaluru   \n",
       "9                                Bangalore/Bengaluru   \n",
       "\n",
       "                                        Company_Name  \\\n",
       "0                  Flipkart Internet Private Limited   \n",
       "1                 Inflexion Analytix Private Limited   \n",
       "2                             IBM India Pvt. Limited   \n",
       "3                             IBM India Pvt. Limited   \n",
       "4   inVentiv International Pharma Services Pvt. Ltd.   \n",
       "5                                        EXL Service   \n",
       "6                                     Superior Group   \n",
       "7                        FabHotel Aay Kay Model Town   \n",
       "8  ORMAE (Operations Research Machine learning & ...   \n",
       "9                                  Applied Materials   \n",
       "\n",
       "                                     Job_Description  \n",
       "0  Job descriptionJob descriptionJob Role: Data S...  \n",
       "1  Job descriptionUrgent job-need with an IT MNC ...  \n",
       "2  Job descriptionAbout the teamThe Data Sciences...  \n",
       "3  Job descriptionData Scientist-AI and Digital L...  \n",
       "4  Job descriptionResponsible for scoping, develo...  \n",
       "5  Job descriptionRoles and ResponsibilitiesIdent...  \n",
       "6  Job descriptionMinimum Qualifications: (Specif...  \n",
       "7  Job descriptionKey Responsibilities:Provide ad...  \n",
       "8  Job descriptionAs as Senior Data Scientist, yo...  \n",
       "9  Job descriptionA consistent record of using pr...  "
      ]
     },
     "execution_count": 102,
     "metadata": {},
     "output_type": "execute_result"
    }
   ],
   "source": [
    "data_"
   ]
  },
  {
   "cell_type": "markdown",
   "id": "6e6e7742-df33-41c3-8976-49f3ff1dc380",
   "metadata": {},
   "source": [
    "### ******************************************"
   ]
  },
  {
   "cell_type": "markdown",
   "id": "9d770821-2dde-4d53-baad-3a28389f08a7",
   "metadata": {},
   "source": [
    "### __Q3: In this question you have to scrape data using the filters available on the webpage as shown below:__"
   ]
  },
  {
   "cell_type": "markdown",
   "id": "2de3ec25-1599-41e6-91b8-f9d91ff1c141",
   "metadata": {},
   "source": [
    "#### You have to use the location and salary filter.\n",
    "#### You have to scrape data for “Data Scientist” designation for first 10 job results.\n",
    "#### You have to scrape the job-title, job-location, company_name, experience_required.\n",
    "#### The location filter to be used is “Delhi/NCR”\n",
    "#### The salary filter to be used is “3-6” lakhs\n",
    "#### The task will be done as shown in the below steps:\n",
    "#### 1. first get the webpage https://www.naukri.com/\n",
    "#### 2. Enter “Data Scientist” in “Skill,Designations,Companies” field .\n",
    "#### 3. Then click the search button.\n",
    "#### 4. Then apply the location filter and salary filter by checking the respective boxes\n",
    "#### 4. Then scrape the data for the first 10 jobs results you get.\n",
    "#### 5. Finally create a dataframe of the scraped data.\n",
    "#### Note- All of the above steps have to be done in code. No step is to be done manually.\n"
   ]
  },
  {
   "cell_type": "code",
   "execution_count": 103,
   "id": "86ad7ddf-2ccb-4cdf-9d1f-a30094d43990",
   "metadata": {},
   "outputs": [],
   "source": [
    "## the website url\n",
    "url_ = \" https://www.naukri.com/\""
   ]
  },
  {
   "cell_type": "code",
   "execution_count": 104,
   "id": "ec8e3b89-263b-438f-b7e2-8fddcf1bb067",
   "metadata": {},
   "outputs": [],
   "source": [
    "## opening the web page with the above url\n",
    "\n",
    "driver.get(url=url1)"
   ]
  },
  {
   "cell_type": "code",
   "execution_count": 105,
   "id": "4a2128e4-0fee-4211-b950-c436d038b4e8",
   "metadata": {},
   "outputs": [],
   "source": [
    "## job skill needed\n",
    "\n",
    "job_skill_ = driver.find_element_by_xpath('//input[@class=\"sugInp\"]')\n",
    "job_skill_.send_keys('Data Scientist')"
   ]
  },
  {
   "cell_type": "code",
   "execution_count": 106,
   "id": "77326b7d-9d0a-4125-b8e5-adac6a2b3575",
   "metadata": {},
   "outputs": [],
   "source": [
    "button_search1 = driver.find_element_by_xpath('//button[@class=\"btn\"]')\n",
    "button_search1.click()"
   ]
  },
  {
   "cell_type": "code",
   "execution_count": 112,
   "id": "f94ae414-7fb6-4586-bc2f-b4e78ecf47f2",
   "metadata": {},
   "outputs": [],
   "source": [
    "## checking the checkbox for New Delhi here atrribute is : \"for\"\n",
    "\n",
    "check_box1 = driver.find_element_by_xpath('//label[@for=\"chk-Delhi / NCR-cityTypeGid-\"]//i')"
   ]
  },
  {
   "cell_type": "code",
   "execution_count": 113,
   "id": "cacc0666-d237-4bea-8b6f-808a9ba5159d",
   "metadata": {},
   "outputs": [],
   "source": [
    "check_box1.click()"
   ]
  },
  {
   "cell_type": "code",
   "execution_count": 114,
   "id": "4e81f54b-2b4e-44ba-913c-f8a15836799e",
   "metadata": {},
   "outputs": [],
   "source": [
    "## checking the checkbox for “3-6” lakhs , here atrribute is : \"for\"\n",
    "\n",
    "check_box2 = driver.find_element_by_xpath('//label[@for=\"chk-3-6 Lakhs-ctcFilter-\"]//i')\n",
    "check_box2.click()"
   ]
  },
  {
   "cell_type": "code",
   "execution_count": 116,
   "id": "57d8743b-e2fc-4604-acc4-c6a5a2eb13ec",
   "metadata": {},
   "outputs": [
    {
     "data": {
      "text/plain": [
       "[<selenium.webdriver.remote.webelement.WebElement (session=\"f0497f5f99f6c5cb90e5e5b4428c6beb\", element=\"4bcb5ab7-6ed2-4167-9dd9-bc13349f2918\")>,\n",
       " <selenium.webdriver.remote.webelement.WebElement (session=\"f0497f5f99f6c5cb90e5e5b4428c6beb\", element=\"77d7e4b0-cdc4-4233-9107-835a0b396869\")>,\n",
       " <selenium.webdriver.remote.webelement.WebElement (session=\"f0497f5f99f6c5cb90e5e5b4428c6beb\", element=\"95f02125-9f24-4d7f-9ec8-7bd7eba23acf\")>,\n",
       " <selenium.webdriver.remote.webelement.WebElement (session=\"f0497f5f99f6c5cb90e5e5b4428c6beb\", element=\"bda58d29-661c-44c4-a7fc-80445d94b985\")>,\n",
       " <selenium.webdriver.remote.webelement.WebElement (session=\"f0497f5f99f6c5cb90e5e5b4428c6beb\", element=\"36a3040b-2158-4d51-b064-b9571886691f\")>,\n",
       " <selenium.webdriver.remote.webelement.WebElement (session=\"f0497f5f99f6c5cb90e5e5b4428c6beb\", element=\"6cac4180-1310-4655-9f2a-ba365a78ae9c\")>,\n",
       " <selenium.webdriver.remote.webelement.WebElement (session=\"f0497f5f99f6c5cb90e5e5b4428c6beb\", element=\"f45f7d0c-ad38-43d8-be42-84f5cfca2c64\")>,\n",
       " <selenium.webdriver.remote.webelement.WebElement (session=\"f0497f5f99f6c5cb90e5e5b4428c6beb\", element=\"d656ffe7-4b1c-4166-b53d-3f2695d89cf6\")>,\n",
       " <selenium.webdriver.remote.webelement.WebElement (session=\"f0497f5f99f6c5cb90e5e5b4428c6beb\", element=\"22a6562d-edb8-4be6-9b43-f2a5969e93c4\")>,\n",
       " <selenium.webdriver.remote.webelement.WebElement (session=\"f0497f5f99f6c5cb90e5e5b4428c6beb\", element=\"1b91a456-f9a1-46ca-baec-5302632d46f8\")>,\n",
       " <selenium.webdriver.remote.webelement.WebElement (session=\"f0497f5f99f6c5cb90e5e5b4428c6beb\", element=\"79317f67-a52b-48f2-9708-06f892c8daf6\")>,\n",
       " <selenium.webdriver.remote.webelement.WebElement (session=\"f0497f5f99f6c5cb90e5e5b4428c6beb\", element=\"5c100861-4f71-4167-b910-bb67b3a1cf1f\")>,\n",
       " <selenium.webdriver.remote.webelement.WebElement (session=\"f0497f5f99f6c5cb90e5e5b4428c6beb\", element=\"4725eaa1-5ff1-4caa-9ac0-aebdc65be47d\")>,\n",
       " <selenium.webdriver.remote.webelement.WebElement (session=\"f0497f5f99f6c5cb90e5e5b4428c6beb\", element=\"e12c0406-8d7e-4afe-9ed4-b9c460e9cd22\")>,\n",
       " <selenium.webdriver.remote.webelement.WebElement (session=\"f0497f5f99f6c5cb90e5e5b4428c6beb\", element=\"8da15192-a1a3-45b4-969c-2706b42e3844\")>,\n",
       " <selenium.webdriver.remote.webelement.WebElement (session=\"f0497f5f99f6c5cb90e5e5b4428c6beb\", element=\"34e76c75-9283-4112-bc65-9d06cc4c45ad\")>,\n",
       " <selenium.webdriver.remote.webelement.WebElement (session=\"f0497f5f99f6c5cb90e5e5b4428c6beb\", element=\"74259b61-7efa-40db-a59b-fb7056ded7b9\")>,\n",
       " <selenium.webdriver.remote.webelement.WebElement (session=\"f0497f5f99f6c5cb90e5e5b4428c6beb\", element=\"4d6c0faa-8a38-4bbc-8226-bac183d6eee1\")>,\n",
       " <selenium.webdriver.remote.webelement.WebElement (session=\"f0497f5f99f6c5cb90e5e5b4428c6beb\", element=\"02d4c9e5-3443-4d62-a563-76ed74d3a726\")>,\n",
       " <selenium.webdriver.remote.webelement.WebElement (session=\"f0497f5f99f6c5cb90e5e5b4428c6beb\", element=\"997792ac-3a82-474e-b375-b93a115366a1\")>]"
      ]
     },
     "execution_count": 116,
     "metadata": {},
     "output_type": "execute_result"
    }
   ],
   "source": [
    "## let's scrap the then jobs data title\n",
    "\n",
    "job_title_a = driver.find_elements_by_xpath('//a[@class=\"title fw500 ellipsis\"]')\n",
    "\n",
    "job_title_a"
   ]
  },
  {
   "cell_type": "code",
   "execution_count": 117,
   "id": "9039f266-ec1f-41d3-852e-e9116969def7",
   "metadata": {},
   "outputs": [],
   "source": [
    "job_title_list_a = []\n",
    "for oli in job_title_a:\n",
    "    job_title_list_a.append(oli.text)"
   ]
  },
  {
   "cell_type": "code",
   "execution_count": 118,
   "id": "da3643ea-ef9d-451c-afff-fa0d8ec125b6",
   "metadata": {},
   "outputs": [
    {
     "data": {
      "text/plain": [
       "['Data Scientist/Data Analyst /Business Analyst',\n",
       " 'Senior Data Scientist',\n",
       " 'Only Fresher / Data Scientist / Data Analyst / Analytics - MNC Jobs',\n",
       " 'Advanced Analytics -Data Scientist',\n",
       " 'Data Scientist (Early Joiner)',\n",
       " 'Data Scientist || Python || C2H',\n",
       " 'Data Scientist || Python || C2H',\n",
       " 'Data Scientist - Machine Learning/ NLP',\n",
       " 'Chaayos is Looking For Data Scientist',\n",
       " 'Data Scientist',\n",
       " 'Data Scientist -Delhi',\n",
       " 'Senior Data Scientist',\n",
       " 'Data Scientist',\n",
       " 'Data Scientist',\n",
       " 'Data Scientist',\n",
       " 'Data Scientist',\n",
       " 'Associate Data Scientist',\n",
       " 'Associate Data Scientist',\n",
       " 'DATA SCIENTIST',\n",
       " 'Data Scientist']"
      ]
     },
     "execution_count": 118,
     "metadata": {},
     "output_type": "execute_result"
    }
   ],
   "source": [
    " job_title_list_a"
   ]
  },
  {
   "cell_type": "code",
   "execution_count": 119,
   "id": "887d8632-7b72-4d1f-b822-17d61834ca58",
   "metadata": {},
   "outputs": [
    {
     "data": {
      "text/plain": [
       "['Data Scientist/Data Analyst /Business Analyst',\n",
       " 'Senior Data Scientist',\n",
       " 'Only Fresher / Data Scientist / Data Analyst / Analytics - MNC Jobs',\n",
       " 'Advanced Analytics -Data Scientist',\n",
       " 'Data Scientist (Early Joiner)',\n",
       " 'Data Scientist || Python || C2H',\n",
       " 'Data Scientist || Python || C2H',\n",
       " 'Data Scientist - Machine Learning/ NLP',\n",
       " 'Chaayos is Looking For Data Scientist',\n",
       " 'Data Scientist']"
      ]
     },
     "execution_count": 119,
     "metadata": {},
     "output_type": "execute_result"
    }
   ],
   "source": [
    "## let's select the first 10 job titles\n",
    "job_title_a =  job_title_list_a[0:10]\n",
    "job_title_a"
   ]
  },
  {
   "cell_type": "code",
   "execution_count": 120,
   "id": "3826f69c-241c-4eb7-b714-0d5c6964deca",
   "metadata": {},
   "outputs": [
    {
     "data": {
      "text/plain": [
       "[<selenium.webdriver.remote.webelement.WebElement (session=\"f0497f5f99f6c5cb90e5e5b4428c6beb\", element=\"30cd1c92-6b5d-4325-90ff-2f42bce59426\")>,\n",
       " <selenium.webdriver.remote.webelement.WebElement (session=\"f0497f5f99f6c5cb90e5e5b4428c6beb\", element=\"1c46ac4e-465f-4147-b4e5-413bb0285fd9\")>,\n",
       " <selenium.webdriver.remote.webelement.WebElement (session=\"f0497f5f99f6c5cb90e5e5b4428c6beb\", element=\"80e4987b-dcb1-4028-af97-fcb66273c325\")>,\n",
       " <selenium.webdriver.remote.webelement.WebElement (session=\"f0497f5f99f6c5cb90e5e5b4428c6beb\", element=\"c5cb3dfe-3da8-473d-870d-964330c35e98\")>,\n",
       " <selenium.webdriver.remote.webelement.WebElement (session=\"f0497f5f99f6c5cb90e5e5b4428c6beb\", element=\"767154ba-e6fb-4eb1-b2b8-ddaf631a4d09\")>,\n",
       " <selenium.webdriver.remote.webelement.WebElement (session=\"f0497f5f99f6c5cb90e5e5b4428c6beb\", element=\"6f16392c-2619-417f-ba18-21eb2ea4f4d5\")>,\n",
       " <selenium.webdriver.remote.webelement.WebElement (session=\"f0497f5f99f6c5cb90e5e5b4428c6beb\", element=\"371831c1-9aab-43a1-8806-2befd250f379\")>,\n",
       " <selenium.webdriver.remote.webelement.WebElement (session=\"f0497f5f99f6c5cb90e5e5b4428c6beb\", element=\"b83faf26-51c9-48bc-a1e4-f20e5ebafa2f\")>,\n",
       " <selenium.webdriver.remote.webelement.WebElement (session=\"f0497f5f99f6c5cb90e5e5b4428c6beb\", element=\"2417245c-a38a-4d85-b319-17f7103c89a4\")>,\n",
       " <selenium.webdriver.remote.webelement.WebElement (session=\"f0497f5f99f6c5cb90e5e5b4428c6beb\", element=\"fd43abf4-fac2-4811-8f74-333913bc5a44\")>,\n",
       " <selenium.webdriver.remote.webelement.WebElement (session=\"f0497f5f99f6c5cb90e5e5b4428c6beb\", element=\"1d3578ac-cfbb-47b2-afcd-d2341228bb12\")>,\n",
       " <selenium.webdriver.remote.webelement.WebElement (session=\"f0497f5f99f6c5cb90e5e5b4428c6beb\", element=\"e47b7381-3409-4073-8edc-a768f46a98d3\")>,\n",
       " <selenium.webdriver.remote.webelement.WebElement (session=\"f0497f5f99f6c5cb90e5e5b4428c6beb\", element=\"65a977d4-ccd7-4773-9075-841754f35b1b\")>,\n",
       " <selenium.webdriver.remote.webelement.WebElement (session=\"f0497f5f99f6c5cb90e5e5b4428c6beb\", element=\"18754968-8c33-4dea-bbcd-90cf2923e090\")>,\n",
       " <selenium.webdriver.remote.webelement.WebElement (session=\"f0497f5f99f6c5cb90e5e5b4428c6beb\", element=\"73506a3f-32bc-419b-bb59-9e866f27cc72\")>,\n",
       " <selenium.webdriver.remote.webelement.WebElement (session=\"f0497f5f99f6c5cb90e5e5b4428c6beb\", element=\"e140c3ff-2d44-4710-9ca3-12ed101d77ee\")>,\n",
       " <selenium.webdriver.remote.webelement.WebElement (session=\"f0497f5f99f6c5cb90e5e5b4428c6beb\", element=\"5e3e384d-55bb-4c87-939f-ec7dd1159103\")>,\n",
       " <selenium.webdriver.remote.webelement.WebElement (session=\"f0497f5f99f6c5cb90e5e5b4428c6beb\", element=\"0df8f8fb-58fc-4ee4-95fd-321d2f920ed1\")>,\n",
       " <selenium.webdriver.remote.webelement.WebElement (session=\"f0497f5f99f6c5cb90e5e5b4428c6beb\", element=\"c12dc43a-e218-46b4-af11-da1c7001e8d8\")>,\n",
       " <selenium.webdriver.remote.webelement.WebElement (session=\"f0497f5f99f6c5cb90e5e5b4428c6beb\", element=\"bd229411-dc33-4a42-8748-e4782098dbd2\")>]"
      ]
     },
     "execution_count": 120,
     "metadata": {},
     "output_type": "execute_result"
    }
   ],
   "source": [
    "## let's find the job location\n",
    "\n",
    "job_loc_a = driver.find_elements_by_xpath('//li[@class=\"fleft grey-text br2 placeHolderLi location\"]//span')\n",
    "\n",
    "job_loc_a"
   ]
  },
  {
   "cell_type": "code",
   "execution_count": 121,
   "id": "ad4cb33d-51e1-4530-add7-b8502a12b1d9",
   "metadata": {},
   "outputs": [],
   "source": [
    "job_loc_a_list = []\n",
    "for oli in job_loc_a:\n",
    "    job_loc_a_list.append(oli.text)\n",
    "    "
   ]
  },
  {
   "cell_type": "code",
   "execution_count": 122,
   "id": "58cccb23-3f69-4014-a6d7-8188d6c60dac",
   "metadata": {},
   "outputs": [
    {
     "data": {
      "text/plain": [
       "['Pune, Delhi / NCR, Mumbai (All Areas)',\n",
       " 'Hyderabad/Secunderabad, Gurgaon/Gurugram, Bangalore/Bengaluru',\n",
       " 'Noida, Greater Noida, Delhi / NCR',\n",
       " 'New Delhi, Hyderabad/Secunderabad',\n",
       " 'Noida(Sector-59 Noida)',\n",
       " 'Noida, Kolkata, Gurgaon/Gurugram, Bangalore/Bengaluru',\n",
       " 'Noida, Kolkata, Gurgaon/Gurugram, Bangalore/Bengaluru',\n",
       " 'Gurgaon/Gurugram',\n",
       " 'New Delhi',\n",
       " 'Mumbai, Gurgaon/Gurugram, Bangalore/Bengaluru',\n",
       " 'New Delhi',\n",
       " 'Delhi',\n",
       " 'Gurgaon/Gurugram, Bangalore/Bengaluru',\n",
       " 'Bharuch, Jaipur, Bhopal, Mumbai, Jhansi, Nagpur, Ghaziabad, Jaunpur, Kanpur, New Delhi, Lucknow, Agra, Gurgaon/Gurugram, Rajkot, Bangalore/Bengaluru',\n",
       " 'New Delhi',\n",
       " 'Delhi',\n",
       " 'Noida',\n",
       " 'New Delhi',\n",
       " 'Gurgaon',\n",
       " 'Gurgaon/Gurugram, Delhi / NCR']"
      ]
     },
     "execution_count": 122,
     "metadata": {},
     "output_type": "execute_result"
    }
   ],
   "source": [
    "job_loc_a_list"
   ]
  },
  {
   "cell_type": "code",
   "execution_count": 123,
   "id": "d151be4f-1636-462b-a98f-e1885a379de0",
   "metadata": {},
   "outputs": [
    {
     "data": {
      "text/plain": [
       "['Pune, Delhi / NCR, Mumbai (All Areas)',\n",
       " 'Hyderabad/Secunderabad, Gurgaon/Gurugram, Bangalore/Bengaluru',\n",
       " 'Noida, Greater Noida, Delhi / NCR',\n",
       " 'New Delhi, Hyderabad/Secunderabad',\n",
       " 'Noida(Sector-59 Noida)',\n",
       " 'Noida, Kolkata, Gurgaon/Gurugram, Bangalore/Bengaluru',\n",
       " 'Noida, Kolkata, Gurgaon/Gurugram, Bangalore/Bengaluru',\n",
       " 'Gurgaon/Gurugram',\n",
       " 'New Delhi',\n",
       " 'Mumbai, Gurgaon/Gurugram, Bangalore/Bengaluru']"
      ]
     },
     "execution_count": 123,
     "metadata": {},
     "output_type": "execute_result"
    }
   ],
   "source": [
    "## let's select the first 10 job locations\n",
    "\n",
    "job_location_a = job_loc_a_list[0:10]\n",
    "job_location_a \n"
   ]
  },
  {
   "cell_type": "code",
   "execution_count": 124,
   "id": "044cf99a-de58-461b-aef8-d5766c45407d",
   "metadata": {},
   "outputs": [
    {
     "data": {
      "text/plain": [
       "[<selenium.webdriver.remote.webelement.WebElement (session=\"f0497f5f99f6c5cb90e5e5b4428c6beb\", element=\"1a9f05ca-c50a-4788-bd10-8c8ac3beea43\")>,\n",
       " <selenium.webdriver.remote.webelement.WebElement (session=\"f0497f5f99f6c5cb90e5e5b4428c6beb\", element=\"33e4a7c9-fb50-49d0-82a6-342e27c2873a\")>,\n",
       " <selenium.webdriver.remote.webelement.WebElement (session=\"f0497f5f99f6c5cb90e5e5b4428c6beb\", element=\"f8903e14-b48b-483c-8a38-9aa1ca1532e0\")>,\n",
       " <selenium.webdriver.remote.webelement.WebElement (session=\"f0497f5f99f6c5cb90e5e5b4428c6beb\", element=\"68ca035f-8749-4ae2-8bff-002091d78f12\")>,\n",
       " <selenium.webdriver.remote.webelement.WebElement (session=\"f0497f5f99f6c5cb90e5e5b4428c6beb\", element=\"900e528d-36eb-4910-8d88-e64effd1c9d6\")>,\n",
       " <selenium.webdriver.remote.webelement.WebElement (session=\"f0497f5f99f6c5cb90e5e5b4428c6beb\", element=\"53d5397b-2d57-4d18-81a0-e3fc33ef0c54\")>,\n",
       " <selenium.webdriver.remote.webelement.WebElement (session=\"f0497f5f99f6c5cb90e5e5b4428c6beb\", element=\"b3ef513c-91c4-4ef5-85ca-2a2943b626ff\")>,\n",
       " <selenium.webdriver.remote.webelement.WebElement (session=\"f0497f5f99f6c5cb90e5e5b4428c6beb\", element=\"ecffc2bc-1dd0-4c69-835d-5d1526daee75\")>,\n",
       " <selenium.webdriver.remote.webelement.WebElement (session=\"f0497f5f99f6c5cb90e5e5b4428c6beb\", element=\"33da5800-77e9-43b6-b969-3b94be8c2d0f\")>,\n",
       " <selenium.webdriver.remote.webelement.WebElement (session=\"f0497f5f99f6c5cb90e5e5b4428c6beb\", element=\"f073582a-3b25-46a5-865a-740b25db9a73\")>,\n",
       " <selenium.webdriver.remote.webelement.WebElement (session=\"f0497f5f99f6c5cb90e5e5b4428c6beb\", element=\"5be357ce-eab4-4d4c-aad0-5ea70efb8cf2\")>,\n",
       " <selenium.webdriver.remote.webelement.WebElement (session=\"f0497f5f99f6c5cb90e5e5b4428c6beb\", element=\"99621c38-5acf-4838-913f-6e91339cbf23\")>,\n",
       " <selenium.webdriver.remote.webelement.WebElement (session=\"f0497f5f99f6c5cb90e5e5b4428c6beb\", element=\"d4e4ce28-4267-4de0-b855-2311aa2cc79b\")>,\n",
       " <selenium.webdriver.remote.webelement.WebElement (session=\"f0497f5f99f6c5cb90e5e5b4428c6beb\", element=\"2a1d2f6d-9033-4257-bafc-ac5d14d51fbc\")>,\n",
       " <selenium.webdriver.remote.webelement.WebElement (session=\"f0497f5f99f6c5cb90e5e5b4428c6beb\", element=\"28da2a7d-4ed6-41ba-82f9-1aa08a60a3f0\")>,\n",
       " <selenium.webdriver.remote.webelement.WebElement (session=\"f0497f5f99f6c5cb90e5e5b4428c6beb\", element=\"4c5ea78d-b038-4b32-9955-29c4f0936fa6\")>,\n",
       " <selenium.webdriver.remote.webelement.WebElement (session=\"f0497f5f99f6c5cb90e5e5b4428c6beb\", element=\"54e79ef3-e7cb-4173-8248-b8015d1b127d\")>,\n",
       " <selenium.webdriver.remote.webelement.WebElement (session=\"f0497f5f99f6c5cb90e5e5b4428c6beb\", element=\"8208b7fb-0367-4eb1-8a3a-9b40e624e9ec\")>,\n",
       " <selenium.webdriver.remote.webelement.WebElement (session=\"f0497f5f99f6c5cb90e5e5b4428c6beb\", element=\"ced53678-cbd3-4c41-8116-2f98acf84c97\")>,\n",
       " <selenium.webdriver.remote.webelement.WebElement (session=\"f0497f5f99f6c5cb90e5e5b4428c6beb\", element=\"da4f2959-6ba2-4601-91d3-1bea1a3a2609\")>]"
      ]
     },
     "execution_count": 124,
     "metadata": {},
     "output_type": "execute_result"
    }
   ],
   "source": [
    "## let's find the company's names\n",
    "company_n = driver.find_elements_by_xpath('//a[@class=\"subTitle ellipsis fleft\"]')\n",
    "company_n"
   ]
  },
  {
   "cell_type": "code",
   "execution_count": 125,
   "id": "73fce0b5-13df-4945-b1f1-9ed84f72e550",
   "metadata": {},
   "outputs": [],
   "source": [
    "company_n_list = []\n",
    "for oli in company_n:\n",
    "    company_n_list.append(oli.text)\n",
    "    "
   ]
  },
  {
   "cell_type": "code",
   "execution_count": 126,
   "id": "83b34113-47e9-4152-a8a9-cd47149a1efe",
   "metadata": {},
   "outputs": [
    {
     "data": {
      "text/plain": [
       "['Inflexion Analytix Private Limited',\n",
       " 'inVentiv International Pharma Services Pvt. Ltd.',\n",
       " 'GABA Consultancy services',\n",
       " 'ERM Placement Services (P) Ltd.',\n",
       " 'R Systems International Ltd.',\n",
       " 'Growel Softech Pvt. Ltd.',\n",
       " 'Growel Softech Pvt. Ltd.',\n",
       " 'TalPro',\n",
       " 'Chaayos (Sunshine Teahouse Pvt. Ltd.)',\n",
       " 'Fractal Analytics',\n",
       " 'CHANGE LEADERS CONSULTING',\n",
       " 'iNICU',\n",
       " 'BlackBuck',\n",
       " 'Country Veggie',\n",
       " 'Mahajan Imaging',\n",
       " 'Mahajan Imaging',\n",
       " 'Right Step Consulting',\n",
       " 'Blow Trumpet Solutions',\n",
       " 'Inference Labs',\n",
       " 'Milliman India Pvt Ltd']"
      ]
     },
     "execution_count": 126,
     "metadata": {},
     "output_type": "execute_result"
    }
   ],
   "source": [
    "company_n_list"
   ]
  },
  {
   "cell_type": "code",
   "execution_count": 128,
   "id": "5652bb02-af69-47fb-91b3-3e16da2750ce",
   "metadata": {},
   "outputs": [
    {
     "data": {
      "text/plain": [
       "['Inflexion Analytix Private Limited',\n",
       " 'inVentiv International Pharma Services Pvt. Ltd.',\n",
       " 'GABA Consultancy services',\n",
       " 'ERM Placement Services (P) Ltd.',\n",
       " 'R Systems International Ltd.',\n",
       " 'Growel Softech Pvt. Ltd.',\n",
       " 'Growel Softech Pvt. Ltd.',\n",
       " 'TalPro',\n",
       " 'Chaayos (Sunshine Teahouse Pvt. Ltd.)',\n",
       " 'Fractal Analytics']"
      ]
     },
     "execution_count": 128,
     "metadata": {},
     "output_type": "execute_result"
    }
   ],
   "source": [
    "## let's get the first 10 job company name\n",
    "\n",
    "company_name_a = company_n_list[0:10]\n",
    "company_name_a\n"
   ]
  },
  {
   "cell_type": "code",
   "execution_count": 129,
   "id": "788bd609-c48a-486d-8c89-b9f071d7e5a7",
   "metadata": {},
   "outputs": [
    {
     "data": {
      "text/plain": [
       "['https://www.naukri.com/job-listings-data-scientist-data-analyst-business-analyst-inflexion-analytix-private-limited-pune-delhi-ncr-mumbai-all-areas-0-to-3-years-040721000317?src=jobsearchDesk&sid=16258403219802571_8&xp=1&px=1',\n",
       " 'https://www.naukri.com/job-listings-senior-data-scientist-inventiv-international-pharma-services-pvt-ltd-hyderabad-secunderabad-gurgaon-gurugram-bangalore-bengaluru-3-to-6-years-090721000064?src=jobsearchDesk&sid=16258403219802571_8&xp=2&px=1',\n",
       " 'https://www.naukri.com/job-listings-only-fresher-data-scientist-data-analyst-analytics-mnc-jobs-gaba-consultancy-services-noida-greater-noida-delhi-ncr-0-to-0-years-050721000317?src=jobsearchDesk&sid=16258403219802571_8&xp=3&px=1',\n",
       " 'https://www.naukri.com/job-listings-advanced-analytics-data-scientist-erm-placement-services-p-ltd-new-delhi-hyderabad-secunderabad-3-to-7-years-030721003648?src=jobsearchDesk&sid=16258403219802571_8&xp=4&px=1',\n",
       " 'https://www.naukri.com/job-listings-data-scientist-early-joiner-r-systems-international-ltd-noida-4-to-8-years-220621005420?src=jobsearchDesk&sid=16258403219802571_8&xp=5&px=1',\n",
       " 'https://www.naukri.com/job-listings-data-scientist-python-c2h-growel-softech-pvt-ltd-noida-kolkata-gurgaon-gurugram-bangalore-bengaluru-4-to-6-years-050721608199?src=jobsearchDesk&sid=16258403219802571_8&xp=6&px=1',\n",
       " 'https://www.naukri.com/job-listings-data-scientist-python-c2h-growel-softech-pvt-ltd-noida-kolkata-gurgaon-gurugram-bangalore-bengaluru-4-to-6-years-050721008197?src=jobsearchDesk&sid=16258403219802571_8&xp=7&px=1',\n",
       " 'https://www.naukri.com/job-listings-data-scientist-machine-learning-nlp-talpro-gurgaon-gurugram-2-to-6-years-040820900222?src=jobsearchDesk&sid=16258403219802571_8&xp=8&px=1',\n",
       " 'https://www.naukri.com/job-listings-chaayos-is-looking-for-data-scientist-chaayos-sunshine-teahouse-pvt-ltd-new-delhi-0-to-5-years-070621000819?src=jobsearchDesk&sid=16258403219802571_8&xp=9&px=1',\n",
       " 'https://www.naukri.com/job-listings-data-scientist-fractal-analytics-ltd-mumbai-gurgaon-gurugram-bangalore-bengaluru-3-to-7-years-070621501457?src=jobsearchDesk&sid=16258403219802571_8&xp=10&px=1',\n",
       " 'https://www.naukri.com/job-listings-data-scientist-delhi-change-leaders-consulting-new-delhi-5-to-8-years-280621615420?src=jobsearchDesk&sid=16258403219802571_8&xp=11&px=1',\n",
       " 'https://www.naukri.com/job-listings-senior-data-scientist-inicu-delhi-1-to-5-years-101218500043?src=jobsearchDesk&sid=16258403219802571_8&xp=12&px=1',\n",
       " 'https://www.naukri.com/job-listings-data-scientist-blackbuck-bengaluru-bangalore-gurgaon-3-to-7-years-170119500435?src=jobsearchDesk&sid=16258403219802571_8&xp=13&px=1',\n",
       " 'https://www.naukri.com/job-listings-data-scientist-country-veggie-ghaziabad-bhopal-lucknow-kanpur-rajkot-bengaluru-bangalore-gurgaon-agra-bharuch-jaunpur-nagpur-delhi-mumbai-jaipur-jhansi-1-to-3-years-010221500832?src=jobsearchDesk&sid=16258403219802571_8&xp=14&px=1',\n",
       " 'https://www.naukri.com/job-listings-data-scientist-mahajan-imaging-delhi-2-to-6-years-120717500227?src=jobsearchDesk&sid=16258403219802571_8&xp=15&px=1',\n",
       " 'https://www.naukri.com/job-listings-data-scientist-mahajan-imaging-delhi-2-to-6-years-041218500056?src=jobsearchDesk&sid=16258403219802571_8&xp=16&px=1',\n",
       " 'https://www.naukri.com/job-listings-associate-data-scientist-right-step-consulting-noida-3-to-6-years-110417501283?src=jobsearchDesk&sid=16258403219802571_8&xp=17&px=1',\n",
       " 'https://www.naukri.com/job-listings-associate-data-scientist-trumpet-solutions-new-delhi-1-to-5-years-200919501222?src=jobsearchDesk&sid=16258403219802571_8&xp=18&px=1',\n",
       " 'https://www.naukri.com/job-listings-data-scientist-inference-labs-gurgaon-3-to-5-years-270819501863?src=jobsearchDesk&sid=16258403219802571_8&xp=19&px=1',\n",
       " 'https://www.naukri.com/job-listings-data-scientist-milliman-india-pvt-ltd-gurgaon-gurugram-delhi-ncr-2-to-5-years-070621000726?src=jobsearchDesk&sid=16258403219802571_8&xp=20&px=1']"
      ]
     },
     "execution_count": 129,
     "metadata": {},
     "output_type": "execute_result"
    }
   ],
   "source": [
    "## let's find the job descriptions, first let's get the jobs urls\n",
    "\n",
    "jobs = driver.find_elements_by_xpath('//a[@class=\"title fw500 ellipsis\"]')\n",
    "\n",
    "## let's get jobs url first\n",
    "jobs_url =[]\n",
    "for oli in jobs:\n",
    "    jobs_url.append(oli.get_attribute('href'))\n",
    "\n",
    "jobs_url"
   ]
  },
  {
   "cell_type": "code",
   "execution_count": 133,
   "id": "4a2a9855-00c5-4def-b115-84bb4d5c7d4a",
   "metadata": {},
   "outputs": [],
   "source": [
    "## Now let's use the job urls and get job's Description\n",
    "\n",
    "\n",
    "job_descrition= []\n",
    "for oli in jobs_url:\n",
    "    time.sleep(2)\n",
    "    driver.get(oli)\n",
    "    jo_desc= driver.find_elements_by_xpath('//section[@class=\"job-desc\"]')\n",
    "    for i in jo_desc:\n",
    "        job_descrition.append(i.text.replace('\\n',''))"
   ]
  },
  {
   "cell_type": "code",
   "execution_count": 135,
   "id": "8d932e10-6bb3-4949-b080-49b748bced60",
   "metadata": {},
   "outputs": [],
   "source": [
    "#job_descrition"
   ]
  },
  {
   "cell_type": "code",
   "execution_count": 141,
   "id": "d4aab31f-3e9b-447b-9455-7d3de6fb2c5b",
   "metadata": {},
   "outputs": [],
   "source": [
    "## let's select the first 10 job description\n",
    "job_descrition_a = job_descrition[0:10]\n",
    "#job_descrition_a"
   ]
  },
  {
   "cell_type": "code",
   "execution_count": 138,
   "id": "d3767c00-8070-4e47-acfe-072812d59ff6",
   "metadata": {},
   "outputs": [
    {
     "data": {
      "text/plain": [
       "(10, 10, 10, 10)"
      ]
     },
     "execution_count": 138,
     "metadata": {},
     "output_type": "execute_result"
    }
   ],
   "source": [
    "len(job_descrition_a),len(company_name_a),len(job_location_a),len(job_title_a)"
   ]
  },
  {
   "cell_type": "markdown",
   "id": "9477c1f9-5b6c-410b-8d8f-ae2cd06bd0ac",
   "metadata": {},
   "source": [
    "### let's create the Data Frame now.\n",
    "\n"
   ]
  },
  {
   "cell_type": "code",
   "execution_count": 139,
   "id": "d5a8e01b-2c3b-4d5b-b94e-77645fd21950",
   "metadata": {},
   "outputs": [],
   "source": [
    "data_a = pd.DataFrame({})"
   ]
  },
  {
   "cell_type": "code",
   "execution_count": 140,
   "id": "bfda26e8-9b9d-46f2-983f-787acb212d26",
   "metadata": {},
   "outputs": [
    {
     "data": {
      "text/html": [
       "<div>\n",
       "<style scoped>\n",
       "    .dataframe tbody tr th:only-of-type {\n",
       "        vertical-align: middle;\n",
       "    }\n",
       "\n",
       "    .dataframe tbody tr th {\n",
       "        vertical-align: top;\n",
       "    }\n",
       "\n",
       "    .dataframe thead th {\n",
       "        text-align: right;\n",
       "    }\n",
       "</style>\n",
       "<table border=\"1\" class=\"dataframe\">\n",
       "  <thead>\n",
       "    <tr style=\"text-align: right;\">\n",
       "      <th></th>\n",
       "      <th>Job_Title</th>\n",
       "      <th>Job_Location</th>\n",
       "      <th>Company_Name</th>\n",
       "      <th>Job_Descrition</th>\n",
       "    </tr>\n",
       "  </thead>\n",
       "  <tbody>\n",
       "    <tr>\n",
       "      <th>0</th>\n",
       "      <td>Data Scientist/Data Analyst /Business Analyst</td>\n",
       "      <td>Pune, Delhi / NCR, Mumbai (All Areas)</td>\n",
       "      <td>Data Scientist/Data Analyst /Business Analyst</td>\n",
       "      <td>Job descriptionLocation: Pune /Mumbai/Delhi/No...</td>\n",
       "    </tr>\n",
       "    <tr>\n",
       "      <th>1</th>\n",
       "      <td>Senior Data Scientist</td>\n",
       "      <td>Hyderabad/Secunderabad, Gurgaon/Gurugram, Bang...</td>\n",
       "      <td>Senior Data Scientist</td>\n",
       "      <td>Job descriptionOnly Fresher Can Apply:Descript...</td>\n",
       "    </tr>\n",
       "    <tr>\n",
       "      <th>2</th>\n",
       "      <td>Only Fresher / Data Scientist / Data Analyst /...</td>\n",
       "      <td>Noida, Greater Noida, Delhi / NCR</td>\n",
       "      <td>Only Fresher / Data Scientist / Data Analyst /...</td>\n",
       "      <td>Job descriptionConnecting you for a job openin...</td>\n",
       "    </tr>\n",
       "    <tr>\n",
       "      <th>3</th>\n",
       "      <td>Advanced Analytics -Data Scientist</td>\n",
       "      <td>New Delhi, Hyderabad/Secunderabad</td>\n",
       "      <td>Advanced Analytics -Data Scientist</td>\n",
       "      <td>Job descriptionRole descriptions / Expectation...</td>\n",
       "    </tr>\n",
       "    <tr>\n",
       "      <th>4</th>\n",
       "      <td>Data Scientist (Early Joiner)</td>\n",
       "      <td>Noida(Sector-59 Noida)</td>\n",
       "      <td>Data Scientist (Early Joiner)</td>\n",
       "      <td>Job descriptionRole descriptions / Expectation...</td>\n",
       "    </tr>\n",
       "    <tr>\n",
       "      <th>5</th>\n",
       "      <td>Data Scientist || Python || C2H</td>\n",
       "      <td>Noida, Kolkata, Gurgaon/Gurugram, Bangalore/Be...</td>\n",
       "      <td>Data Scientist || Python || C2H</td>\n",
       "      <td>Job descriptionRoles and ResponsibilitiesJob D...</td>\n",
       "    </tr>\n",
       "    <tr>\n",
       "      <th>6</th>\n",
       "      <td>Data Scientist || Python || C2H</td>\n",
       "      <td>Noida, Kolkata, Gurgaon/Gurugram, Bangalore/Be...</td>\n",
       "      <td>Data Scientist || Python || C2H</td>\n",
       "      <td>Job descriptionDescription - \"In god we trust,...</td>\n",
       "    </tr>\n",
       "    <tr>\n",
       "      <th>7</th>\n",
       "      <td>Data Scientist - Machine Learning/ NLP</td>\n",
       "      <td>Gurgaon/Gurugram</td>\n",
       "      <td>Data Scientist - Machine Learning/ NLP</td>\n",
       "      <td>Job descriptionJob ResponsibilitiesAbility to ...</td>\n",
       "    </tr>\n",
       "    <tr>\n",
       "      <th>8</th>\n",
       "      <td>Chaayos is Looking For Data Scientist</td>\n",
       "      <td>New Delhi</td>\n",
       "      <td>Chaayos is Looking For Data Scientist</td>\n",
       "      <td>Job descriptionRoles and ResponsibilitiesMust ...</td>\n",
       "    </tr>\n",
       "    <tr>\n",
       "      <th>9</th>\n",
       "      <td>Data Scientist</td>\n",
       "      <td>Mumbai, Gurgaon/Gurugram, Bangalore/Bengaluru</td>\n",
       "      <td>Data Scientist</td>\n",
       "      <td>Job descriptionSenior Data Scientist We are in...</td>\n",
       "    </tr>\n",
       "  </tbody>\n",
       "</table>\n",
       "</div>"
      ],
      "text/plain": [
       "                                           Job_Title  \\\n",
       "0      Data Scientist/Data Analyst /Business Analyst   \n",
       "1                              Senior Data Scientist   \n",
       "2  Only Fresher / Data Scientist / Data Analyst /...   \n",
       "3                 Advanced Analytics -Data Scientist   \n",
       "4                      Data Scientist (Early Joiner)   \n",
       "5                    Data Scientist || Python || C2H   \n",
       "6                    Data Scientist || Python || C2H   \n",
       "7             Data Scientist - Machine Learning/ NLP   \n",
       "8              Chaayos is Looking For Data Scientist   \n",
       "9                                     Data Scientist   \n",
       "\n",
       "                                        Job_Location  \\\n",
       "0              Pune, Delhi / NCR, Mumbai (All Areas)   \n",
       "1  Hyderabad/Secunderabad, Gurgaon/Gurugram, Bang...   \n",
       "2                  Noida, Greater Noida, Delhi / NCR   \n",
       "3                  New Delhi, Hyderabad/Secunderabad   \n",
       "4                             Noida(Sector-59 Noida)   \n",
       "5  Noida, Kolkata, Gurgaon/Gurugram, Bangalore/Be...   \n",
       "6  Noida, Kolkata, Gurgaon/Gurugram, Bangalore/Be...   \n",
       "7                                   Gurgaon/Gurugram   \n",
       "8                                          New Delhi   \n",
       "9      Mumbai, Gurgaon/Gurugram, Bangalore/Bengaluru   \n",
       "\n",
       "                                        Company_Name  \\\n",
       "0      Data Scientist/Data Analyst /Business Analyst   \n",
       "1                              Senior Data Scientist   \n",
       "2  Only Fresher / Data Scientist / Data Analyst /...   \n",
       "3                 Advanced Analytics -Data Scientist   \n",
       "4                      Data Scientist (Early Joiner)   \n",
       "5                    Data Scientist || Python || C2H   \n",
       "6                    Data Scientist || Python || C2H   \n",
       "7             Data Scientist - Machine Learning/ NLP   \n",
       "8              Chaayos is Looking For Data Scientist   \n",
       "9                                     Data Scientist   \n",
       "\n",
       "                                      Job_Descrition  \n",
       "0  Job descriptionLocation: Pune /Mumbai/Delhi/No...  \n",
       "1  Job descriptionOnly Fresher Can Apply:Descript...  \n",
       "2  Job descriptionConnecting you for a job openin...  \n",
       "3  Job descriptionRole descriptions / Expectation...  \n",
       "4  Job descriptionRole descriptions / Expectation...  \n",
       "5  Job descriptionRoles and ResponsibilitiesJob D...  \n",
       "6  Job descriptionDescription - \"In god we trust,...  \n",
       "7  Job descriptionJob ResponsibilitiesAbility to ...  \n",
       "8  Job descriptionRoles and ResponsibilitiesMust ...  \n",
       "9  Job descriptionSenior Data Scientist We are in...  "
      ]
     },
     "execution_count": 140,
     "metadata": {},
     "output_type": "execute_result"
    }
   ],
   "source": [
    "data_a['Job_Title'] = job_title_a\n",
    "data_a['Job_Location'] = job_location_a\n",
    "data_a['Company_Name'] = job_title_a\n",
    "data_a['Job_Descrition'] = job_descrition_a\n",
    "\n",
    "\n",
    "data_a"
   ]
  },
  {
   "cell_type": "markdown",
   "id": "42aa37e9-8d2a-498d-8ac3-7d6add2e116a",
   "metadata": {},
   "source": [
    "### ********* ********* ********* *********"
   ]
  },
  {
   "cell_type": "markdown",
   "id": "82ac980f-43b5-45fa-a565-65dca27a57af",
   "metadata": {},
   "source": [
    "### __Q4: Write a python program to scrape data for first 10 job results for Data scientist Designation in Noida location. You have to scrape company_name, No. of days ago when job was posted, Rating of the company.__\n",
    "## __This task will be done in following steps:__"
   ]
  },
  {
   "cell_type": "markdown",
   "id": "ef7a88c9-a95e-4a74-ad19-1e7e0ae9d0b7",
   "metadata": {},
   "source": [
    "#### 1. first get the webpage https://www.glassdoor.co.in/index.htm\n",
    "#### 2. Enter “Data Scientist” in “Job Title,Keyword,Company” field and enter “Noida” in “location” field.\n",
    "#### 3. Then click the search button. You will land up in the below page:\n",
    "#### 4. Then scrape the data for the first 10 jobs results you get in the above shown page.\n",
    "#### 5. Finally create a dataframe of the scraped data.\n",
    "#### Note- All of the above steps have to be done in code. No step is to be done manually"
   ]
  },
  {
   "cell_type": "code",
   "execution_count": null,
   "id": "1984ffae-4e17-4216-8af4-23b0bf1e72f4",
   "metadata": {},
   "outputs": [],
   "source": [
    "\n",
    "\n",
    "\n"
   ]
  },
  {
   "cell_type": "code",
   "execution_count": 143,
   "id": "b5b30aa3-33f2-44e6-9f5f-2db15d486b0b",
   "metadata": {},
   "outputs": [],
   "source": [
    "## the website url\n",
    "url_ = \" https://www.naukri.com/\"\n",
    "\n",
    "# opening the web page with the above url\n",
    "\n",
    "driver.get(url=url_)"
   ]
  },
  {
   "cell_type": "code",
   "execution_count": 144,
   "id": "a86bbfe8-8fbe-4609-ba31-88bf13e92a96",
   "metadata": {},
   "outputs": [],
   "source": [
    "job_skills = driver.find_element_by_xpath('//input[@class=\"sugInp\"]')\n",
    "job_skills.send_keys('Data Scientist')"
   ]
  },
  {
   "cell_type": "code",
   "execution_count": 145,
   "id": "25660107-74a7-435d-960f-c4db9d58bd90",
   "metadata": {},
   "outputs": [],
   "source": [
    "job_location1 = driver.find_element_by_xpath('//input[@id=\"qsb-location-sugg\"]')\n",
    "job_location1.send_keys('Noida')"
   ]
  },
  {
   "cell_type": "code",
   "execution_count": 146,
   "id": "a2d8af70-a4a8-4266-802c-1fe15f441827",
   "metadata": {},
   "outputs": [],
   "source": [
    "button_search = driver.find_element_by_xpath('//button[@class=\"btn\"]')\n",
    "button_search.click()"
   ]
  },
  {
   "cell_type": "code",
   "execution_count": 148,
   "id": "c7b4ac13-2e48-4498-802a-43451afa3d2c",
   "metadata": {},
   "outputs": [
    {
     "data": {
      "text/plain": [
       "[<selenium.webdriver.remote.webelement.WebElement (session=\"f0497f5f99f6c5cb90e5e5b4428c6beb\", element=\"fd97eb38-1fd6-4e55-94bc-04649d878c73\")>,\n",
       " <selenium.webdriver.remote.webelement.WebElement (session=\"f0497f5f99f6c5cb90e5e5b4428c6beb\", element=\"c081d54b-9fcd-4b05-b16c-12dd651d8cd3\")>,\n",
       " <selenium.webdriver.remote.webelement.WebElement (session=\"f0497f5f99f6c5cb90e5e5b4428c6beb\", element=\"95bee8c0-1b57-4f89-a3b6-fca4989e53e9\")>,\n",
       " <selenium.webdriver.remote.webelement.WebElement (session=\"f0497f5f99f6c5cb90e5e5b4428c6beb\", element=\"b340aefe-6879-4d41-b950-3ebad2e0266c\")>,\n",
       " <selenium.webdriver.remote.webelement.WebElement (session=\"f0497f5f99f6c5cb90e5e5b4428c6beb\", element=\"8a8bd843-3fc8-4535-a9c2-47e2d0f90a1e\")>,\n",
       " <selenium.webdriver.remote.webelement.WebElement (session=\"f0497f5f99f6c5cb90e5e5b4428c6beb\", element=\"24cc050f-34da-4558-bcfc-1f7cae4cce15\")>,\n",
       " <selenium.webdriver.remote.webelement.WebElement (session=\"f0497f5f99f6c5cb90e5e5b4428c6beb\", element=\"f1729eba-a797-431b-95a3-225ace7cf94e\")>,\n",
       " <selenium.webdriver.remote.webelement.WebElement (session=\"f0497f5f99f6c5cb90e5e5b4428c6beb\", element=\"7f51fd89-8c42-4476-a98d-78987190ea6b\")>,\n",
       " <selenium.webdriver.remote.webelement.WebElement (session=\"f0497f5f99f6c5cb90e5e5b4428c6beb\", element=\"bc5b9f68-b133-400b-a9cf-092c41dfab26\")>,\n",
       " <selenium.webdriver.remote.webelement.WebElement (session=\"f0497f5f99f6c5cb90e5e5b4428c6beb\", element=\"c4a6d820-ed27-4a40-b560-cd2ab82c0f92\")>,\n",
       " <selenium.webdriver.remote.webelement.WebElement (session=\"f0497f5f99f6c5cb90e5e5b4428c6beb\", element=\"59f3f0ec-615e-4904-87c9-a14992e0b8c4\")>,\n",
       " <selenium.webdriver.remote.webelement.WebElement (session=\"f0497f5f99f6c5cb90e5e5b4428c6beb\", element=\"fdde29d9-4d31-440c-8c2e-99c3f59ec593\")>,\n",
       " <selenium.webdriver.remote.webelement.WebElement (session=\"f0497f5f99f6c5cb90e5e5b4428c6beb\", element=\"1f47955f-28a1-4aba-a801-965d68d46e3c\")>,\n",
       " <selenium.webdriver.remote.webelement.WebElement (session=\"f0497f5f99f6c5cb90e5e5b4428c6beb\", element=\"9aa17a88-4380-4c6f-9014-a5465cf225ff\")>,\n",
       " <selenium.webdriver.remote.webelement.WebElement (session=\"f0497f5f99f6c5cb90e5e5b4428c6beb\", element=\"9ef11a3e-7016-4299-8c7e-0ee7c7d6534a\")>,\n",
       " <selenium.webdriver.remote.webelement.WebElement (session=\"f0497f5f99f6c5cb90e5e5b4428c6beb\", element=\"8ee11a0a-b7b4-42c6-9cbc-803c2cabfbc5\")>,\n",
       " <selenium.webdriver.remote.webelement.WebElement (session=\"f0497f5f99f6c5cb90e5e5b4428c6beb\", element=\"91afbd88-0278-4854-8194-40e1707a8c55\")>,\n",
       " <selenium.webdriver.remote.webelement.WebElement (session=\"f0497f5f99f6c5cb90e5e5b4428c6beb\", element=\"8798d1d1-60ca-41ec-8dc1-7adccb868514\")>,\n",
       " <selenium.webdriver.remote.webelement.WebElement (session=\"f0497f5f99f6c5cb90e5e5b4428c6beb\", element=\"b64cb6d3-acc9-446b-aaf9-27424dd3147e\")>,\n",
       " <selenium.webdriver.remote.webelement.WebElement (session=\"f0497f5f99f6c5cb90e5e5b4428c6beb\", element=\"3f60b021-52b6-4f76-a2d3-555bfaf4c3ba\")>]"
      ]
     },
     "execution_count": 148,
     "metadata": {},
     "output_type": "execute_result"
    }
   ],
   "source": [
    "## let's find the company's names\n",
    "company_name_ = driver.find_elements_by_xpath('//a[@class=\"subTitle ellipsis fleft\"]')\n",
    "company_name_"
   ]
  },
  {
   "cell_type": "code",
   "execution_count": 149,
   "id": "82c1deca-f1a6-4175-9c5e-744372654a15",
   "metadata": {},
   "outputs": [],
   "source": [
    "company_list = []\n",
    "for oli in company_name_:\n",
    "    company_list.append(oli.text)"
   ]
  },
  {
   "cell_type": "code",
   "execution_count": 150,
   "id": "49d20b5e-cadb-407b-9801-f6b73807a73d",
   "metadata": {},
   "outputs": [
    {
     "data": {
      "text/plain": [
       "['Oracle India Pvt. Ltd.',\n",
       " 'Agreeya',\n",
       " 'HCL Technologies Limited',\n",
       " 'Optum Global Solutions (India) Private Limited',\n",
       " 'Ultimate Search Private Limited',\n",
       " 'R Systems International Ltd.',\n",
       " 'Newgen Software Technologies Limited',\n",
       " 'Agreeya',\n",
       " 'Agreeya',\n",
       " 'Conduent',\n",
       " 'Huquo Consulting Pvt. Ltd',\n",
       " 'GABA Consultancy services',\n",
       " 'R Systems International Ltd.',\n",
       " 'R Systems International Ltd.',\n",
       " 'Growel Softech Pvt. Ltd.',\n",
       " 'Growel Softech Pvt. Ltd.',\n",
       " 'HyrEzy Talent Solutions',\n",
       " 'Bigshyft Hiring for Indus OS',\n",
       " 'Jubna',\n",
       " 'InnovAccer']"
      ]
     },
     "execution_count": 150,
     "metadata": {},
     "output_type": "execute_result"
    }
   ],
   "source": [
    "company_list"
   ]
  },
  {
   "cell_type": "code",
   "execution_count": 151,
   "id": "48a081b5-ad90-4431-9ec5-5dc9af48921b",
   "metadata": {},
   "outputs": [],
   "source": [
    "## let's get the first 10 company names \n",
    "company_name_b =company_list[0:10]"
   ]
  },
  {
   "cell_type": "code",
   "execution_count": 152,
   "id": "cdbd0a0f-859f-4f2e-984f-f1bcbd9f70d1",
   "metadata": {},
   "outputs": [
    {
     "data": {
      "text/plain": [
       "['Oracle India Pvt. Ltd.',\n",
       " 'Agreeya',\n",
       " 'HCL Technologies Limited',\n",
       " 'Optum Global Solutions (India) Private Limited',\n",
       " 'Ultimate Search Private Limited',\n",
       " 'R Systems International Ltd.',\n",
       " 'Newgen Software Technologies Limited',\n",
       " 'Agreeya',\n",
       " 'Agreeya',\n",
       " 'Conduent']"
      ]
     },
     "execution_count": 152,
     "metadata": {},
     "output_type": "execute_result"
    }
   ],
   "source": [
    "company_name_b"
   ]
  },
  {
   "cell_type": "code",
   "execution_count": 157,
   "id": "42ad3c91-55ca-44e6-be74-8b37f4f6e340",
   "metadata": {},
   "outputs": [
    {
     "data": {
      "text/plain": [
       "[<selenium.webdriver.remote.webelement.WebElement (session=\"f0497f5f99f6c5cb90e5e5b4428c6beb\", element=\"dd4e7f4a-af6b-4350-9798-d5ee5da7fa9c\")>,\n",
       " <selenium.webdriver.remote.webelement.WebElement (session=\"f0497f5f99f6c5cb90e5e5b4428c6beb\", element=\"25c70d2e-2dc0-4346-8704-1c3e8c81841b\")>,\n",
       " <selenium.webdriver.remote.webelement.WebElement (session=\"f0497f5f99f6c5cb90e5e5b4428c6beb\", element=\"6964fd24-38d4-40d2-bdba-1539f1875fb9\")>,\n",
       " <selenium.webdriver.remote.webelement.WebElement (session=\"f0497f5f99f6c5cb90e5e5b4428c6beb\", element=\"13e8b8e6-40c2-41db-bd6c-6e5d5b506581\")>,\n",
       " <selenium.webdriver.remote.webelement.WebElement (session=\"f0497f5f99f6c5cb90e5e5b4428c6beb\", element=\"47860ece-bb62-4452-9139-b87b517b9a2e\")>,\n",
       " <selenium.webdriver.remote.webelement.WebElement (session=\"f0497f5f99f6c5cb90e5e5b4428c6beb\", element=\"079a3e2c-67e1-44aa-ba8b-7f36d4248158\")>,\n",
       " <selenium.webdriver.remote.webelement.WebElement (session=\"f0497f5f99f6c5cb90e5e5b4428c6beb\", element=\"53050499-25d8-48c1-9095-32ffd22717a0\")>,\n",
       " <selenium.webdriver.remote.webelement.WebElement (session=\"f0497f5f99f6c5cb90e5e5b4428c6beb\", element=\"691f4de1-0599-4b9e-91fa-5cf16048bc0c\")>,\n",
       " <selenium.webdriver.remote.webelement.WebElement (session=\"f0497f5f99f6c5cb90e5e5b4428c6beb\", element=\"7a09d014-8abc-4c82-989f-c73e9ed52454\")>,\n",
       " <selenium.webdriver.remote.webelement.WebElement (session=\"f0497f5f99f6c5cb90e5e5b4428c6beb\", element=\"3643145b-2ff4-441c-a74a-abf7d204ec99\")>,\n",
       " <selenium.webdriver.remote.webelement.WebElement (session=\"f0497f5f99f6c5cb90e5e5b4428c6beb\", element=\"e0d33731-afd5-48c1-b058-3fa3b65222cf\")>,\n",
       " <selenium.webdriver.remote.webelement.WebElement (session=\"f0497f5f99f6c5cb90e5e5b4428c6beb\", element=\"c3e6dd3f-02ce-44b2-80a7-244e7f6f01ee\")>,\n",
       " <selenium.webdriver.remote.webelement.WebElement (session=\"f0497f5f99f6c5cb90e5e5b4428c6beb\", element=\"a26ab1d6-cc9e-41e2-8dfe-dbef9111c416\")>,\n",
       " <selenium.webdriver.remote.webelement.WebElement (session=\"f0497f5f99f6c5cb90e5e5b4428c6beb\", element=\"935b927d-c01d-4330-ae56-5cc32a9b12f8\")>,\n",
       " <selenium.webdriver.remote.webelement.WebElement (session=\"f0497f5f99f6c5cb90e5e5b4428c6beb\", element=\"53bda493-9759-480e-a79c-b7d0ba59cfaa\")>,\n",
       " <selenium.webdriver.remote.webelement.WebElement (session=\"f0497f5f99f6c5cb90e5e5b4428c6beb\", element=\"753f57f1-ee34-40bb-9474-0c4fa06e4b11\")>,\n",
       " <selenium.webdriver.remote.webelement.WebElement (session=\"f0497f5f99f6c5cb90e5e5b4428c6beb\", element=\"34499b63-ce1b-4d05-9eb3-e0b108ddcc95\")>,\n",
       " <selenium.webdriver.remote.webelement.WebElement (session=\"f0497f5f99f6c5cb90e5e5b4428c6beb\", element=\"177b178e-89f2-4eae-9391-6c701b0bd54c\")>,\n",
       " <selenium.webdriver.remote.webelement.WebElement (session=\"f0497f5f99f6c5cb90e5e5b4428c6beb\", element=\"c8c185b7-130c-411c-9c5f-f57fbed9a335\")>,\n",
       " <selenium.webdriver.remote.webelement.WebElement (session=\"f0497f5f99f6c5cb90e5e5b4428c6beb\", element=\"41b73e10-1d89-410b-9772-83b04b44b413\")>,\n",
       " <selenium.webdriver.remote.webelement.WebElement (session=\"f0497f5f99f6c5cb90e5e5b4428c6beb\", element=\"a21bea9a-64aa-40c3-afca-2aaca901385e\")>,\n",
       " <selenium.webdriver.remote.webelement.WebElement (session=\"f0497f5f99f6c5cb90e5e5b4428c6beb\", element=\"c299f62b-d4a5-449b-a0da-486ad45158e8\")>,\n",
       " <selenium.webdriver.remote.webelement.WebElement (session=\"f0497f5f99f6c5cb90e5e5b4428c6beb\", element=\"8b7d36af-bdef-4373-891d-3d04dec9ba0c\")>,\n",
       " <selenium.webdriver.remote.webelement.WebElement (session=\"f0497f5f99f6c5cb90e5e5b4428c6beb\", element=\"56a56a25-b636-4e1a-b708-07c5801ae4d2\")>,\n",
       " <selenium.webdriver.remote.webelement.WebElement (session=\"f0497f5f99f6c5cb90e5e5b4428c6beb\", element=\"bc00b09a-9a41-4f75-9ebf-fb3f9b546ab8\")>,\n",
       " <selenium.webdriver.remote.webelement.WebElement (session=\"f0497f5f99f6c5cb90e5e5b4428c6beb\", element=\"c843deb7-9276-49e5-8a31-a96d14c4c2cb\")>,\n",
       " <selenium.webdriver.remote.webelement.WebElement (session=\"f0497f5f99f6c5cb90e5e5b4428c6beb\", element=\"47b4de5d-2d70-489c-9ced-9f51e6c00ce0\")>,\n",
       " <selenium.webdriver.remote.webelement.WebElement (session=\"f0497f5f99f6c5cb90e5e5b4428c6beb\", element=\"63ca2b50-aeda-43c3-ae4a-c89c6bac1266\")>,\n",
       " <selenium.webdriver.remote.webelement.WebElement (session=\"f0497f5f99f6c5cb90e5e5b4428c6beb\", element=\"d790216f-41db-4a31-ad9e-2eed83c54002\")>,\n",
       " <selenium.webdriver.remote.webelement.WebElement (session=\"f0497f5f99f6c5cb90e5e5b4428c6beb\", element=\"6067ebf5-c29b-4521-a806-774799741a3c\")>,\n",
       " <selenium.webdriver.remote.webelement.WebElement (session=\"f0497f5f99f6c5cb90e5e5b4428c6beb\", element=\"1898780c-5f7f-44de-83d7-75e31f67127c\")>,\n",
       " <selenium.webdriver.remote.webelement.WebElement (session=\"f0497f5f99f6c5cb90e5e5b4428c6beb\", element=\"22cb3324-2f4d-4144-9a3f-d470b5ffaddc\")>,\n",
       " <selenium.webdriver.remote.webelement.WebElement (session=\"f0497f5f99f6c5cb90e5e5b4428c6beb\", element=\"2a0d9aef-3912-4312-9e5a-adda0de1974c\")>,\n",
       " <selenium.webdriver.remote.webelement.WebElement (session=\"f0497f5f99f6c5cb90e5e5b4428c6beb\", element=\"538d4751-0077-4ce5-84af-1b002f4d02f4\")>,\n",
       " <selenium.webdriver.remote.webelement.WebElement (session=\"f0497f5f99f6c5cb90e5e5b4428c6beb\", element=\"a7f1342d-c4b2-4a78-853a-5556b591d891\")>,\n",
       " <selenium.webdriver.remote.webelement.WebElement (session=\"f0497f5f99f6c5cb90e5e5b4428c6beb\", element=\"6642b095-35ff-4717-9671-b3ffb30e738e\")>]"
      ]
     },
     "execution_count": 157,
     "metadata": {},
     "output_type": "execute_result"
    }
   ],
   "source": [
    "## let's find No. of days ago when job was posted\n",
    "days_of_post = driver.find_elements_by_xpath('//span[@class=\"fleft fw500\"]')\n",
    "days_of_post"
   ]
  },
  {
   "cell_type": "code",
   "execution_count": 158,
   "id": "27f104dc-b5a4-4067-87db-b23e534d4b64",
   "metadata": {},
   "outputs": [
    {
     "data": {
      "text/plain": [
       "['PREMIUM',\n",
       " '6 DAYS AGO',\n",
       " '1 DAY AGO',\n",
       " 'PREFERRED',\n",
       " '3 DAYS AGO',\n",
       " 'HOT JOB',\n",
       " '4 DAYS AGO',\n",
       " 'HOT JOB',\n",
       " '1 DAY AGO',\n",
       " 'PREMIUM',\n",
       " '2 DAYS AGO',\n",
       " '2 DAYS AGO',\n",
       " 'PREMIUM',\n",
       " '4 DAYS AGO',\n",
       " 'PREMIUM',\n",
       " '3 DAYS AGO',\n",
       " 'PREMIUM',\n",
       " '6 DAYS AGO',\n",
       " 'PREMIUM',\n",
       " '3 DAYS AGO',\n",
       " '4 DAYS AGO',\n",
       " 'PREFERRED',\n",
       " 'JUST NOW',\n",
       " 'PREFERRED',\n",
       " '13 DAYS AGO',\n",
       " '4 DAYS AGO',\n",
       " 'HOT JOB',\n",
       " '4 DAYS AGO',\n",
       " 'PREMIUM',\n",
       " '11 DAYS AGO',\n",
       " 'PREMIUM',\n",
       " '4 DAYS AGO',\n",
       " 'HOT JOB',\n",
       " '9 DAYS AGO',\n",
       " 'PREMIUM',\n",
       " '13 DAYS AGO']"
      ]
     },
     "execution_count": 158,
     "metadata": {},
     "output_type": "execute_result"
    }
   ],
   "source": [
    "days = []\n",
    "for oli in days_of_post:\n",
    "    days.append(oli.text)\n",
    "days"
   ]
  },
  {
   "cell_type": "code",
   "execution_count": 161,
   "id": "3eeb1dbd-351b-4fee-8f27-f91b157925c6",
   "metadata": {},
   "outputs": [],
   "source": [
    "days_filter = []\n",
    "## let's use for loop to select only days ago when job was posted\n",
    "for oli in days:\n",
    "    if oli !='PREFERRED' and oli !='PREMIUM':\n",
    "        days_filter.append(oli)\n",
    "        \n",
    "    "
   ]
  },
  {
   "cell_type": "code",
   "execution_count": 162,
   "id": "31fc96e9-a9e4-4fb8-8d30-3b4ec583f1a9",
   "metadata": {},
   "outputs": [
    {
     "data": {
      "text/plain": [
       "['6 DAYS AGO',\n",
       " '1 DAY AGO',\n",
       " '3 DAYS AGO',\n",
       " 'HOT JOB',\n",
       " '4 DAYS AGO',\n",
       " 'HOT JOB',\n",
       " '1 DAY AGO',\n",
       " '2 DAYS AGO',\n",
       " '2 DAYS AGO',\n",
       " '4 DAYS AGO',\n",
       " '3 DAYS AGO',\n",
       " '6 DAYS AGO',\n",
       " '3 DAYS AGO',\n",
       " '4 DAYS AGO',\n",
       " 'JUST NOW',\n",
       " '13 DAYS AGO',\n",
       " '4 DAYS AGO',\n",
       " 'HOT JOB',\n",
       " '4 DAYS AGO',\n",
       " '11 DAYS AGO',\n",
       " '4 DAYS AGO',\n",
       " 'HOT JOB',\n",
       " '9 DAYS AGO',\n",
       " '13 DAYS AGO']"
      ]
     },
     "execution_count": 162,
     "metadata": {},
     "output_type": "execute_result"
    }
   ],
   "source": [
    "days_filter"
   ]
  },
  {
   "cell_type": "code",
   "execution_count": 163,
   "id": "3d4c186f-1213-4f2f-9603-749cc6af9422",
   "metadata": {},
   "outputs": [
    {
     "data": {
      "text/plain": [
       "['6 DAYS AGO',\n",
       " '1 DAY AGO',\n",
       " '3 DAYS AGO',\n",
       " 'HOT JOB',\n",
       " '4 DAYS AGO',\n",
       " 'HOT JOB',\n",
       " '1 DAY AGO',\n",
       " '2 DAYS AGO',\n",
       " '2 DAYS AGO',\n",
       " '4 DAYS AGO']"
      ]
     },
     "execution_count": 163,
     "metadata": {},
     "output_type": "execute_result"
    }
   ],
   "source": [
    "## let's get the first 10 \n",
    "\n",
    "days_of_posted_b = days_filter[0:10]\n",
    "days_of_posted_b\n"
   ]
  },
  {
   "cell_type": "code",
   "execution_count": 164,
   "id": "16980a0d-0536-42ed-9982-eba6663667bd",
   "metadata": {},
   "outputs": [
    {
     "data": {
      "text/plain": [
       "[<selenium.webdriver.remote.webelement.WebElement (session=\"f0497f5f99f6c5cb90e5e5b4428c6beb\", element=\"ee1109dc-02f2-4d26-aaff-3c8593f07339\")>,\n",
       " <selenium.webdriver.remote.webelement.WebElement (session=\"f0497f5f99f6c5cb90e5e5b4428c6beb\", element=\"ca4aa70d-0fb4-48dd-af87-6cca614bb8e1\")>,\n",
       " <selenium.webdriver.remote.webelement.WebElement (session=\"f0497f5f99f6c5cb90e5e5b4428c6beb\", element=\"e1cb483b-8b74-4d55-be47-2c19de1f3801\")>,\n",
       " <selenium.webdriver.remote.webelement.WebElement (session=\"f0497f5f99f6c5cb90e5e5b4428c6beb\", element=\"22af97c0-6666-4183-997d-89831287373c\")>,\n",
       " <selenium.webdriver.remote.webelement.WebElement (session=\"f0497f5f99f6c5cb90e5e5b4428c6beb\", element=\"a559f250-67d8-4def-afc1-9d558c35a702\")>,\n",
       " <selenium.webdriver.remote.webelement.WebElement (session=\"f0497f5f99f6c5cb90e5e5b4428c6beb\", element=\"39bc2422-c5dd-42c5-b077-42ad7f7898c6\")>,\n",
       " <selenium.webdriver.remote.webelement.WebElement (session=\"f0497f5f99f6c5cb90e5e5b4428c6beb\", element=\"69851fe8-bae9-444a-bcbc-bbf0d7ef3c4c\")>,\n",
       " <selenium.webdriver.remote.webelement.WebElement (session=\"f0497f5f99f6c5cb90e5e5b4428c6beb\", element=\"eb79adef-b9b7-400b-ac54-59c0775a364e\")>,\n",
       " <selenium.webdriver.remote.webelement.WebElement (session=\"f0497f5f99f6c5cb90e5e5b4428c6beb\", element=\"5ac9b0f2-4414-4233-add3-ad6f51a05d8b\")>,\n",
       " <selenium.webdriver.remote.webelement.WebElement (session=\"f0497f5f99f6c5cb90e5e5b4428c6beb\", element=\"df8d3f05-6574-4cc5-8012-490aef92b573\")>,\n",
       " <selenium.webdriver.remote.webelement.WebElement (session=\"f0497f5f99f6c5cb90e5e5b4428c6beb\", element=\"5ff1f59c-936b-4605-b4fa-290f683deeba\")>,\n",
       " <selenium.webdriver.remote.webelement.WebElement (session=\"f0497f5f99f6c5cb90e5e5b4428c6beb\", element=\"e718fa2a-ccdb-4e58-aca6-533ce2a1c3a5\")>]"
      ]
     },
     "execution_count": 164,
     "metadata": {},
     "output_type": "execute_result"
    }
   ],
   "source": [
    "## let's find the Rating of the company\n",
    "\n",
    "rating = driver.find_elements_by_xpath('//span[@class=\"starRating fleft dot\"]')\n",
    "rating"
   ]
  },
  {
   "cell_type": "code",
   "execution_count": 165,
   "id": "522ff83b-facd-4a5a-be84-e5896fd17ac7",
   "metadata": {},
   "outputs": [],
   "source": [
    "rante_list = []\n",
    "for oli in rating:\n",
    "    rante_list.append(oli.text)"
   ]
  },
  {
   "cell_type": "code",
   "execution_count": 166,
   "id": "16df4a01-6bf9-4b02-b263-a263a8360ac3",
   "metadata": {},
   "outputs": [
    {
     "data": {
      "text/plain": [
       "['3.7',\n",
       " '3.1',\n",
       " '3.8',\n",
       " '4.1',\n",
       " '3.1',\n",
       " '3.3',\n",
       " '3.1',\n",
       " '3.1',\n",
       " '3.5',\n",
       " '3.1',\n",
       " '3.1',\n",
       " '2.9']"
      ]
     },
     "execution_count": 166,
     "metadata": {},
     "output_type": "execute_result"
    }
   ],
   "source": [
    "rante_list"
   ]
  },
  {
   "cell_type": "code",
   "execution_count": 167,
   "id": "ed0c8d2d-77ae-493a-a87b-53122fcdeaac",
   "metadata": {},
   "outputs": [
    {
     "data": {
      "text/plain": [
       "12"
      ]
     },
     "execution_count": 167,
     "metadata": {},
     "output_type": "execute_result"
    }
   ],
   "source": [
    "len(rante_list)"
   ]
  },
  {
   "cell_type": "code",
   "execution_count": 168,
   "id": "0dedd62b-b752-48a5-a5d6-7017302a7c65",
   "metadata": {},
   "outputs": [
    {
     "data": {
      "text/plain": [
       "['3.7', '3.1', '3.8', '4.1', '3.1', '3.3', '3.1', '3.1', '3.5', '3.1']"
      ]
     },
     "execution_count": 168,
     "metadata": {},
     "output_type": "execute_result"
    }
   ],
   "source": [
    "## let's get the 10 first rating\n",
    "ranting_b = rante_list[0:10]\n",
    "ranting_b"
   ]
  },
  {
   "cell_type": "markdown",
   "id": "b12b5147-3d75-4444-8df0-da2bf3b55375",
   "metadata": {},
   "source": [
    "## Now let's create our data Frame\n"
   ]
  },
  {
   "cell_type": "code",
   "execution_count": 169,
   "id": "db601fc9-d290-4348-bfa8-f7904fb10862",
   "metadata": {},
   "outputs": [],
   "source": [
    "data_b = pd.DataFrame({})"
   ]
  },
  {
   "cell_type": "code",
   "execution_count": 170,
   "id": "46b2a85b-73c2-4249-8bec-028d8f851210",
   "metadata": {},
   "outputs": [
    {
     "data": {
      "text/html": [
       "<div>\n",
       "<style scoped>\n",
       "    .dataframe tbody tr th:only-of-type {\n",
       "        vertical-align: middle;\n",
       "    }\n",
       "\n",
       "    .dataframe tbody tr th {\n",
       "        vertical-align: top;\n",
       "    }\n",
       "\n",
       "    .dataframe thead th {\n",
       "        text-align: right;\n",
       "    }\n",
       "</style>\n",
       "<table border=\"1\" class=\"dataframe\">\n",
       "  <thead>\n",
       "    <tr style=\"text-align: right;\">\n",
       "      <th></th>\n",
       "      <th>Company_Name</th>\n",
       "      <th>Days_Of_Posted</th>\n",
       "      <th>Company_Rating</th>\n",
       "    </tr>\n",
       "  </thead>\n",
       "  <tbody>\n",
       "    <tr>\n",
       "      <th>0</th>\n",
       "      <td>Oracle India Pvt. Ltd.</td>\n",
       "      <td>6 DAYS AGO</td>\n",
       "      <td>3.7</td>\n",
       "    </tr>\n",
       "    <tr>\n",
       "      <th>1</th>\n",
       "      <td>Agreeya</td>\n",
       "      <td>1 DAY AGO</td>\n",
       "      <td>3.1</td>\n",
       "    </tr>\n",
       "    <tr>\n",
       "      <th>2</th>\n",
       "      <td>HCL Technologies Limited</td>\n",
       "      <td>3 DAYS AGO</td>\n",
       "      <td>3.8</td>\n",
       "    </tr>\n",
       "    <tr>\n",
       "      <th>3</th>\n",
       "      <td>Optum Global Solutions (India) Private Limited</td>\n",
       "      <td>HOT JOB</td>\n",
       "      <td>4.1</td>\n",
       "    </tr>\n",
       "    <tr>\n",
       "      <th>4</th>\n",
       "      <td>Ultimate Search Private Limited</td>\n",
       "      <td>4 DAYS AGO</td>\n",
       "      <td>3.1</td>\n",
       "    </tr>\n",
       "    <tr>\n",
       "      <th>5</th>\n",
       "      <td>R Systems International Ltd.</td>\n",
       "      <td>HOT JOB</td>\n",
       "      <td>3.3</td>\n",
       "    </tr>\n",
       "    <tr>\n",
       "      <th>6</th>\n",
       "      <td>Newgen Software Technologies Limited</td>\n",
       "      <td>1 DAY AGO</td>\n",
       "      <td>3.1</td>\n",
       "    </tr>\n",
       "    <tr>\n",
       "      <th>7</th>\n",
       "      <td>Agreeya</td>\n",
       "      <td>2 DAYS AGO</td>\n",
       "      <td>3.1</td>\n",
       "    </tr>\n",
       "    <tr>\n",
       "      <th>8</th>\n",
       "      <td>Agreeya</td>\n",
       "      <td>2 DAYS AGO</td>\n",
       "      <td>3.5</td>\n",
       "    </tr>\n",
       "    <tr>\n",
       "      <th>9</th>\n",
       "      <td>Conduent</td>\n",
       "      <td>4 DAYS AGO</td>\n",
       "      <td>3.1</td>\n",
       "    </tr>\n",
       "  </tbody>\n",
       "</table>\n",
       "</div>"
      ],
      "text/plain": [
       "                                     Company_Name Days_Of_Posted  \\\n",
       "0                          Oracle India Pvt. Ltd.     6 DAYS AGO   \n",
       "1                                         Agreeya      1 DAY AGO   \n",
       "2                        HCL Technologies Limited     3 DAYS AGO   \n",
       "3  Optum Global Solutions (India) Private Limited        HOT JOB   \n",
       "4                 Ultimate Search Private Limited     4 DAYS AGO   \n",
       "5                    R Systems International Ltd.        HOT JOB   \n",
       "6            Newgen Software Technologies Limited      1 DAY AGO   \n",
       "7                                         Agreeya     2 DAYS AGO   \n",
       "8                                         Agreeya     2 DAYS AGO   \n",
       "9                                        Conduent     4 DAYS AGO   \n",
       "\n",
       "  Company_Rating  \n",
       "0            3.7  \n",
       "1            3.1  \n",
       "2            3.8  \n",
       "3            4.1  \n",
       "4            3.1  \n",
       "5            3.3  \n",
       "6            3.1  \n",
       "7            3.1  \n",
       "8            3.5  \n",
       "9            3.1  "
      ]
     },
     "execution_count": 170,
     "metadata": {},
     "output_type": "execute_result"
    }
   ],
   "source": [
    "data_b['Company_Name'] = company_name_b\n",
    "data_b['Days_Of_Posted'] = days_of_posted_b\n",
    "data_b['Company_Rating'] = ranting_b\n",
    "data_b\n"
   ]
  },
  {
   "cell_type": "markdown",
   "id": "a78aeaf2-1dde-48aa-bc73-9a415c7edfd0",
   "metadata": {},
   "source": [
    "### *************** *************** ***************\n"
   ]
  },
  {
   "cell_type": "markdown",
   "id": "3fa0aa28-b827-49c1-8cd7-03917867daea",
   "metadata": {},
   "source": [
    "### __Q5: Write a python program to scrape the salary data for Data Scientist designation in Noida location.__\n",
    "### __You have to scrape Company name, Number of salaries, Average salary, Min salary, Max Salary.__\n",
    "### __The above task will be, done as shown in the below steps:__"
   ]
  },
  {
   "cell_type": "markdown",
   "id": "c3d6c8a8-3131-4e4d-a2cc-6783787711ab",
   "metadata": {},
   "source": [
    "#### 1. first get the webpage https://www.glassdoor.co.in/Salaries/index.htm \n",
    "#### 2. Enter “Data Scientist” in Job title field and “Noida” in location field.\n",
    "#### 3. Click the search button.\n",
    "#### 4. After that you will land on the below page\n",
    "#### You have to scrape whole data from this webpage\n",
    "#### 5. Scrape data for first 10 companies. Scrape the min salary, max salary, company name, Average salary and rating of the company.\n",
    "#### 6.Store the data in a dataframe.\n",
    "#### Note that all of the above steps have to be done by coding only and not manually."
   ]
  },
  {
   "cell_type": "code",
   "execution_count": 320,
   "id": "ec5a1db8-071c-429f-b0c3-e2ecef6ef51e",
   "metadata": {},
   "outputs": [],
   "source": [
    "## the website url\n",
    "url = \"https://www.glassdoor.co.in/Salaries/index.htm\"\n",
    "\n",
    "# opening the web page with the above url\n",
    "\n",
    "driver.get(url=url)"
   ]
  },
  {
   "cell_type": "code",
   "execution_count": 321,
   "id": "62084968-7f11-4945-ad15-66fac3c56cb4",
   "metadata": {},
   "outputs": [],
   "source": [
    "inpu_xpath = driver.find_element_by_xpath('//input[@id=\"KeywordSearch\"]')\n"
   ]
  },
  {
   "cell_type": "code",
   "execution_count": 322,
   "id": "b980571e-ce19-48af-9679-56f4f5435624",
   "metadata": {},
   "outputs": [],
   "source": [
    "inpu_xpath.send_keys('Data Scientist')"
   ]
  },
  {
   "cell_type": "code",
   "execution_count": 323,
   "id": "a60090f3-1e8f-4bb4-b061-af15ca378263",
   "metadata": {},
   "outputs": [],
   "source": [
    "input_loc = driver.find_element_by_xpath('//input[@id=\"LocationSearch\"]')\n"
   ]
  },
  {
   "cell_type": "code",
   "execution_count": 324,
   "id": "d4d025cb-40f6-40dd-aac5-0ca2916fc534",
   "metadata": {},
   "outputs": [],
   "source": [
    "input_loc.send_keys('Noida')"
   ]
  },
  {
   "cell_type": "code",
   "execution_count": 325,
   "id": "6aae03b8-b1ac-4b68-9ba4-ca163a9e1ddc",
   "metadata": {},
   "outputs": [],
   "source": [
    "search_button = driver.find_element_by_xpath('//button[@id=\"HeroSearchButton\"]')\n"
   ]
  },
  {
   "cell_type": "code",
   "execution_count": 326,
   "id": "67dd0f06-c389-42c1-8a68-dfb290af570c",
   "metadata": {},
   "outputs": [],
   "source": [
    "search_button.click()"
   ]
  },
  {
   "cell_type": "code",
   "execution_count": 237,
   "id": "0653e91b-1fae-4e0d-a214-3fb58659f6de",
   "metadata": {},
   "outputs": [],
   "source": [
    "company_name = driver.find_elements_by_xpath('//a[@class=\"css-f3vw95 e1aj7ssy3\"]')"
   ]
  },
  {
   "cell_type": "code",
   "execution_count": 238,
   "id": "ff4e1b4e-a7b8-4df1-89c6-490040a77772",
   "metadata": {},
   "outputs": [
    {
     "data": {
      "text/plain": [
       "[<selenium.webdriver.remote.webelement.WebElement (session=\"8b5b2d8ed6865a2610d5097c5256a939\", element=\"9ad6667c-10d2-4863-9f75-24587eed6d18\")>,\n",
       " <selenium.webdriver.remote.webelement.WebElement (session=\"8b5b2d8ed6865a2610d5097c5256a939\", element=\"54df670e-67a9-4414-be9f-ad1a5fd1ac82\")>,\n",
       " <selenium.webdriver.remote.webelement.WebElement (session=\"8b5b2d8ed6865a2610d5097c5256a939\", element=\"ee528142-b6e4-4f31-9af0-b5e79c7302ef\")>,\n",
       " <selenium.webdriver.remote.webelement.WebElement (session=\"8b5b2d8ed6865a2610d5097c5256a939\", element=\"a0cc3390-3691-42e5-8659-2599765740ae\")>,\n",
       " <selenium.webdriver.remote.webelement.WebElement (session=\"8b5b2d8ed6865a2610d5097c5256a939\", element=\"12f7e5c6-b855-4e4e-82e3-a3897189b696\")>,\n",
       " <selenium.webdriver.remote.webelement.WebElement (session=\"8b5b2d8ed6865a2610d5097c5256a939\", element=\"b8e6b50d-c093-4f60-9701-d89085f896d6\")>,\n",
       " <selenium.webdriver.remote.webelement.WebElement (session=\"8b5b2d8ed6865a2610d5097c5256a939\", element=\"739a8730-791a-4f6f-9524-76a3d2eb7357\")>,\n",
       " <selenium.webdriver.remote.webelement.WebElement (session=\"8b5b2d8ed6865a2610d5097c5256a939\", element=\"9893a964-bb94-4cda-aea4-4a2d828a2cd6\")>,\n",
       " <selenium.webdriver.remote.webelement.WebElement (session=\"8b5b2d8ed6865a2610d5097c5256a939\", element=\"40ea0b67-5720-459d-b6ed-e8deb6541db3\")>,\n",
       " <selenium.webdriver.remote.webelement.WebElement (session=\"8b5b2d8ed6865a2610d5097c5256a939\", element=\"4f1404bc-2fd1-4f4a-b63d-d61aa9e1352a\")>,\n",
       " <selenium.webdriver.remote.webelement.WebElement (session=\"8b5b2d8ed6865a2610d5097c5256a939\", element=\"52020ad5-ac71-4a4c-b3fb-a987a04c3d90\")>,\n",
       " <selenium.webdriver.remote.webelement.WebElement (session=\"8b5b2d8ed6865a2610d5097c5256a939\", element=\"810dc979-96ed-4d2c-be21-9ac6e7d54a59\")>,\n",
       " <selenium.webdriver.remote.webelement.WebElement (session=\"8b5b2d8ed6865a2610d5097c5256a939\", element=\"9dea56d9-7554-41c7-bbac-505df57576ef\")>,\n",
       " <selenium.webdriver.remote.webelement.WebElement (session=\"8b5b2d8ed6865a2610d5097c5256a939\", element=\"7541edd4-8b5b-4cf5-97f1-c51564e1ecca\")>,\n",
       " <selenium.webdriver.remote.webelement.WebElement (session=\"8b5b2d8ed6865a2610d5097c5256a939\", element=\"286db840-7613-4b5c-883e-b5b839f7b840\")>,\n",
       " <selenium.webdriver.remote.webelement.WebElement (session=\"8b5b2d8ed6865a2610d5097c5256a939\", element=\"08461b88-a080-40a6-96db-dcee8d28fc94\")>,\n",
       " <selenium.webdriver.remote.webelement.WebElement (session=\"8b5b2d8ed6865a2610d5097c5256a939\", element=\"4aa09a97-a655-4f3b-9977-d7fa04841f18\")>,\n",
       " <selenium.webdriver.remote.webelement.WebElement (session=\"8b5b2d8ed6865a2610d5097c5256a939\", element=\"653a033c-ba6b-4b6a-a132-5123a580facf\")>,\n",
       " <selenium.webdriver.remote.webelement.WebElement (session=\"8b5b2d8ed6865a2610d5097c5256a939\", element=\"cd5032d0-1061-4a84-87c6-f0b4d277d65f\")>,\n",
       " <selenium.webdriver.remote.webelement.WebElement (session=\"8b5b2d8ed6865a2610d5097c5256a939\", element=\"27c12272-53e7-4e10-87b8-4003caf14978\")>]"
      ]
     },
     "execution_count": 238,
     "metadata": {},
     "output_type": "execute_result"
    }
   ],
   "source": [
    "company_name"
   ]
  },
  {
   "cell_type": "code",
   "execution_count": 239,
   "id": "7fe803a9-aced-46f3-9b58-a563dd46d49f",
   "metadata": {},
   "outputs": [],
   "source": [
    "company_name_list = []\n",
    "for oli in company_name:\n",
    "    company_name_list.append(oli.text)"
   ]
  },
  {
   "cell_type": "code",
   "execution_count": 240,
   "id": "3e5d7ed2-ada3-4dd2-a637-c342133a2303",
   "metadata": {},
   "outputs": [
    {
     "data": {
      "text/plain": [
       "['IBM',\n",
       " 'Tata Consultancy Services',\n",
       " 'Accenture',\n",
       " 'Delhivery',\n",
       " 'Ericsson-Worldwide',\n",
       " 'UnitedHealth Group',\n",
       " 'Valiance Solutions',\n",
       " 'EXL Service',\n",
       " 'Optum Global Solutions',\n",
       " 'ZS Associates',\n",
       " 'Optum',\n",
       " 'Innovaccer',\n",
       " 'Cognizant Technology Solutions',\n",
       " 'OYO',\n",
       " 'Nagarro',\n",
       " 'dunnhumby',\n",
       " 'Vidooly Media Tech',\n",
       " 'Tech Mahindra',\n",
       " 'R Systems',\n",
       " 'CARS24.com']"
      ]
     },
     "execution_count": 240,
     "metadata": {},
     "output_type": "execute_result"
    }
   ],
   "source": [
    "company_name_list"
   ]
  },
  {
   "cell_type": "code",
   "execution_count": 305,
   "id": "cbd723ff-86db-47e1-9570-211dca6eb46e",
   "metadata": {},
   "outputs": [],
   "source": [
    "### we will remove the 'Tata Consultancy Services' because we cannot access the website\n",
    "\n",
    "company_name_list1=[]\n",
    "for oli in company_name_list:\n",
    "    if oli != 'Tata Consultancy Services':\n",
    "        company_name_list1.append(oli)\n",
    "        \n",
    "        \n"
   ]
  },
  {
   "cell_type": "code",
   "execution_count": 306,
   "id": "27687af1-534f-43af-a8ae-b79a507a2765",
   "metadata": {},
   "outputs": [
    {
     "data": {
      "text/plain": [
       "['IBM',\n",
       " 'Accenture',\n",
       " 'Delhivery',\n",
       " 'Ericsson-Worldwide',\n",
       " 'UnitedHealth Group',\n",
       " 'Valiance Solutions',\n",
       " 'EXL Service',\n",
       " 'Optum Global Solutions',\n",
       " 'ZS Associates',\n",
       " 'Optum']"
      ]
     },
     "execution_count": 306,
     "metadata": {},
     "output_type": "execute_result"
    }
   ],
   "source": [
    "## let's get the first 10 company names\n",
    "\n",
    "company_name_c = company_name_list1[0:10]\n",
    "company_name_c"
   ]
  },
  {
   "cell_type": "code",
   "execution_count": 242,
   "id": "79be4912-93e4-4134-aae1-463b8624f9e8",
   "metadata": {},
   "outputs": [],
   "source": [
    "## let's find the min salary, but let's get the companies url\n",
    "\n",
    "company_urls = []\n",
    "for oli in company_name:\n",
    "    company_urls.append(oli.get_attribute('href'))\n",
    "    "
   ]
  },
  {
   "cell_type": "code",
   "execution_count": 243,
   "id": "71e2f61f-4b67-41d2-8b75-4247ceb97255",
   "metadata": {},
   "outputs": [
    {
     "data": {
      "text/plain": [
       "['https://www.glassdoor.co.in/Salary/IBM-Data-Scientist-New-Delhi-Salaries-EJI_IE354.0,3_KO4,18_IL.19,28_IM1083.htm',\n",
       " 'https://www.glassdoor.co.in/Salary/Tata-Consultancy-Services-Data-Scientist-New-Delhi-Salaries-EJI_IE13461.0,25_KO26,40_IL.41,50_IM1083.htm',\n",
       " 'https://www.glassdoor.co.in/Salary/Accenture-Data-Scientist-New-Delhi-Salaries-EJI_IE4138.0,9_KO10,24_IL.25,34_IM1083.htm',\n",
       " 'https://www.glassdoor.co.in/Salary/Delhivery-Data-Scientist-New-Delhi-Salaries-EJI_IE513409.0,9_KO10,24_IL.25,34_IM1083.htm',\n",
       " 'https://www.glassdoor.co.in/Salary/Ericsson-Worldwide-Data-Scientist-New-Delhi-Salaries-EJI_IE3472.0,18_KO19,33_IL.34,43_IM1083.htm',\n",
       " 'https://www.glassdoor.co.in/Salary/UnitedHealth-Group-Data-Scientist-New-Delhi-Salaries-EJI_IE1991.0,18_KO19,33_IL.34,43_IM1083.htm',\n",
       " 'https://www.glassdoor.co.in/Salary/Valiance-Solutions-Data-Scientist-New-Delhi-Salaries-EJI_IE895637.0,18_KO19,33_IL.34,43_IM1083.htm',\n",
       " 'https://www.glassdoor.co.in/Salary/EXL-Service-Data-Scientist-New-Delhi-Salaries-EJI_IE37901.0,11_KO12,26_IL.27,36_IM1083.htm',\n",
       " 'https://www.glassdoor.co.in/Salary/Optum-Global-Solutions-Data-Scientist-New-Delhi-Salaries-EJI_IE3725926.0,22_KO23,37_IL.38,47_IM1083.htm',\n",
       " 'https://www.glassdoor.co.in/Salary/ZS-Associates-Data-Scientist-New-Delhi-Salaries-EJI_IE115506.0,13_KO14,28_IL.29,38_IM1083.htm',\n",
       " 'https://www.glassdoor.co.in/Salary/Optum-Data-Scientist-New-Delhi-Salaries-EJI_IE2409113.0,5_KO6,20_IL.21,30_IM1083.htm',\n",
       " 'https://www.glassdoor.co.in/Salary/Innovaccer-Data-Scientist-New-Delhi-Salaries-EJI_IE721552.0,10_KO11,25_IL.26,35_IM1083.htm',\n",
       " 'https://www.glassdoor.co.in/Salary/Cognizant-Technology-Solutions-Data-Scientist-New-Delhi-Salaries-EJI_IE8014.0,30_KO31,45_IL.46,55_IM1083.htm',\n",
       " 'https://www.glassdoor.co.in/Salary/OYO-Data-Scientist-New-Delhi-Salaries-EJI_IE953789.0,3_KO4,18_IL.19,28_IM1083.htm',\n",
       " 'https://www.glassdoor.co.in/Salary/Nagarro-Data-Scientist-New-Delhi-Salaries-EJI_IE240077.0,7_KO8,22_IL.23,32_IM1083.htm',\n",
       " 'https://www.glassdoor.co.in/Salary/dunnhumby-Data-Scientist-New-Delhi-Salaries-EJI_IE195922.0,9_KO10,24_IL.25,34_IM1083.htm',\n",
       " 'https://www.glassdoor.co.in/Salary/Vidooly-Media-Tech-Data-Scientist-New-Delhi-EJI_IE1483199.0,18_KO19,33_IL.34,43_IM1083.htm?filter.payPeriod=MONTHLY',\n",
       " 'https://www.glassdoor.co.in/Salary/Tech-Mahindra-Data-Scientist-New-Delhi-Salaries-EJI_IE135932.0,13_KO14,28_IL.29,38_IM1083.htm',\n",
       " 'https://www.glassdoor.co.in/Salary/R-Systems-Data-Scientist-New-Delhi-Salaries-EJI_IE32444.0,9_KO10,24_IL.25,34_IM1083.htm',\n",
       " 'https://www.glassdoor.co.in/Salary/CARS24-com-Data-Scientist-New-Delhi-Salaries-EJI_IE1316104.0,10_KO11,25_IL.26,35_IM1083.htm']"
      ]
     },
     "execution_count": 243,
     "metadata": {},
     "output_type": "execute_result"
    }
   ],
   "source": [
    "company_urls"
   ]
  },
  {
   "cell_type": "code",
   "execution_count": 307,
   "id": "8993f8d2-e574-4e4e-a39f-1e92f86ec03b",
   "metadata": {},
   "outputs": [],
   "source": [
    "# let's find the min salary\n",
    "min_salary = []\n",
    "for oli in company_urls:\n",
    "    if company_urls.index(oli) ==1:\n",
    "        continue\n",
    "    time.sleep(2)\n",
    "    driver.get(oli)\n",
    "    sal_xpath = driver.find_elements_by_xpath('//strong[@class=\"css-1uyte9r css-1qxtz39 css-fkag2m\"]')\n",
    "    for i in sal_xpath:\n",
    "        min_salary.append(i.text)"
   ]
  },
  {
   "cell_type": "code",
   "execution_count": 308,
   "id": "d8638df3-6d42-4285-9612-789fbf4ff7c5",
   "metadata": {},
   "outputs": [
    {
     "data": {
      "text/plain": [
       "['₹6L',\n",
       " '₹27L',\n",
       " '₹7L',\n",
       " '₹21L',\n",
       " '₹6L',\n",
       " '₹22L',\n",
       " '₹7L',\n",
       " '₹15L',\n",
       " '₹5L',\n",
       " '₹1Cr',\n",
       " '₹10L',\n",
       " '₹15L',\n",
       " '₹4L',\n",
       " '₹16L',\n",
       " '₹5L',\n",
       " '₹11L',\n",
       " '₹8L',\n",
       " '₹15L',\n",
       " '₹11L',\n",
       " '₹15L',\n",
       " '₹5L',\n",
       " '₹15L',\n",
       " '₹7L',\n",
       " '₹12L',\n",
       " '₹6L',\n",
       " '₹15L',\n",
       " '₹9L',\n",
       " '₹13L',\n",
       " '₹4L',\n",
       " '₹22L',\n",
       " '₹11L',\n",
       " '₹17L',\n",
       " '₹2L',\n",
       " '₹18L',\n",
       " '₹5L',\n",
       " '₹13L',\n",
       " '₹8L',\n",
       " '₹20L',\n",
       " '₹11L',\n",
       " '₹16L',\n",
       " '₹6L',\n",
       " '₹17L',\n",
       " '₹6L',\n",
       " '₹16L',\n",
       " '₹8L',\n",
       " '₹13L',\n",
       " '₹8L',\n",
       " '₹12L',\n",
       " '₹10L',\n",
       " '₹19L',\n",
       " '₹10L',\n",
       " '₹17L',\n",
       " '₹4L',\n",
       " '₹16L',\n",
       " '₹6L',\n",
       " '₹12L',\n",
       " '₹8L',\n",
       " '₹20L',\n",
       " '₹8L',\n",
       " '₹17L',\n",
       " '₹12T',\n",
       " '₹63T',\n",
       " '₹15T',\n",
       " '₹62T',\n",
       " '₹4L',\n",
       " '₹17L',\n",
       " '₹4L',\n",
       " '₹17L',\n",
       " '₹8L',\n",
       " '₹30L',\n",
       " '₹8L',\n",
       " '₹25L',\n",
       " '₹9L',\n",
       " '₹15L',\n",
       " '₹9L',\n",
       " '₹15L']"
      ]
     },
     "execution_count": 308,
     "metadata": {},
     "output_type": "execute_result"
    }
   ],
   "source": [
    "## this bring the both max_salary and min_salary\n",
    "\n",
    "min_salary"
   ]
  },
  {
   "cell_type": "code",
   "execution_count": 309,
   "id": "4521c376-c05e-419d-b501-5e38318bf65c",
   "metadata": {},
   "outputs": [],
   "source": [
    "## let use for loop to seperate the both salaries\n",
    "min_salaries = []\n",
    "for i in range(0,len(min_salary),2):\n",
    "    min_salaries.append(min_salary[i])\n",
    "    "
   ]
  },
  {
   "cell_type": "code",
   "execution_count": 310,
   "id": "a74e6c78-c7e2-4a77-a18b-21b977aaf7a4",
   "metadata": {},
   "outputs": [
    {
     "data": {
      "text/plain": [
       "['₹6L',\n",
       " '₹7L',\n",
       " '₹6L',\n",
       " '₹7L',\n",
       " '₹5L',\n",
       " '₹10L',\n",
       " '₹4L',\n",
       " '₹5L',\n",
       " '₹8L',\n",
       " '₹11L',\n",
       " '₹5L',\n",
       " '₹7L',\n",
       " '₹6L',\n",
       " '₹9L',\n",
       " '₹4L',\n",
       " '₹11L',\n",
       " '₹2L',\n",
       " '₹5L',\n",
       " '₹8L',\n",
       " '₹11L',\n",
       " '₹6L',\n",
       " '₹6L',\n",
       " '₹8L',\n",
       " '₹8L',\n",
       " '₹10L',\n",
       " '₹10L',\n",
       " '₹4L',\n",
       " '₹6L',\n",
       " '₹8L',\n",
       " '₹8L',\n",
       " '₹12T',\n",
       " '₹15T',\n",
       " '₹4L',\n",
       " '₹4L',\n",
       " '₹8L',\n",
       " '₹8L',\n",
       " '₹9L',\n",
       " '₹9L']"
      ]
     },
     "execution_count": 310,
     "metadata": {},
     "output_type": "execute_result"
    }
   ],
   "source": [
    "min_salaries"
   ]
  },
  {
   "cell_type": "code",
   "execution_count": 311,
   "id": "f397b56f-a1e9-4502-b228-e297e87fcba9",
   "metadata": {},
   "outputs": [
    {
     "data": {
      "text/plain": [
       "['₹6L', '₹7L', '₹6L', '₹7L', '₹5L', '₹10L', '₹4L', '₹5L', '₹8L', '₹11L']"
      ]
     },
     "execution_count": 311,
     "metadata": {},
     "output_type": "execute_result"
    }
   ],
   "source": [
    "## first 10 min salaries\n",
    "\n",
    "min_salary_c = min_salaries[0:10]\n",
    "min_salary_c"
   ]
  },
  {
   "cell_type": "code",
   "execution_count": 251,
   "id": "ff73d221-a8de-4f4a-8a6d-54fc7553759c",
   "metadata": {},
   "outputs": [],
   "source": []
  },
  {
   "cell_type": "code",
   "execution_count": 312,
   "id": "d70b77f1-7129-42d1-96c0-7eed20486fd2",
   "metadata": {},
   "outputs": [
    {
     "data": {
      "text/plain": [
       "['₹27L',\n",
       " '₹21L',\n",
       " '₹22L',\n",
       " '₹15L',\n",
       " '₹1Cr',\n",
       " '₹15L',\n",
       " '₹16L',\n",
       " '₹11L',\n",
       " '₹15L',\n",
       " '₹15L']"
      ]
     },
     "execution_count": 312,
     "metadata": {},
     "output_type": "execute_result"
    }
   ],
   "source": [
    "## let's get the max salary\n",
    "\n",
    "max_salaries = []\n",
    "for i in range(1,len(min_salary),2):\n",
    "    max_salaries.append(min_salary[i])\n",
    "    \n",
    "max_salary_c = max_salaries[0:10]\n",
    "max_salary_c    "
   ]
  },
  {
   "cell_type": "code",
   "execution_count": 313,
   "id": "536b0fc1-d518-44c0-a492-40187698aa47",
   "metadata": {},
   "outputs": [],
   "source": [
    "## let's get the average salaries\n",
    "\n",
    "avg_salary = []\n",
    "for oli in company_urls:\n",
    "    if company_urls.index(oli) ==1:\n",
    "        continue\n",
    "    time.sleep(2)\n",
    "    driver.get(oli)\n",
    "    sal_xpath1 = driver.find_elements_by_xpath('//strong[@class=\"css-1uyte9r css-1qxtz39 css-fkag2m\"]')\n",
    "    for i in sal_xpath1:\n",
    "        avg_salary.append(i.text)\n",
    "        \n",
    "        \n"
   ]
  },
  {
   "cell_type": "code",
   "execution_count": 314,
   "id": "7e79c8a4-5985-41a4-ba39-f098751391fe",
   "metadata": {},
   "outputs": [
    {
     "data": {
      "text/plain": [
       "['₹6L',\n",
       " '₹27L',\n",
       " '₹7L',\n",
       " '₹21L',\n",
       " '₹6L',\n",
       " '₹22L',\n",
       " '₹7L',\n",
       " '₹15L',\n",
       " '₹5L',\n",
       " '₹1Cr',\n",
       " '₹10L',\n",
       " '₹15L',\n",
       " '₹4L',\n",
       " '₹16L',\n",
       " '₹5L',\n",
       " '₹11L',\n",
       " '₹8L',\n",
       " '₹15L',\n",
       " '₹11L',\n",
       " '₹15L',\n",
       " '₹5L',\n",
       " '₹15L',\n",
       " '₹7L',\n",
       " '₹12L',\n",
       " '₹6L',\n",
       " '₹15L',\n",
       " '₹9L',\n",
       " '₹13L',\n",
       " '₹4L',\n",
       " '₹22L',\n",
       " '₹11L',\n",
       " '₹17L',\n",
       " '₹2L',\n",
       " '₹18L',\n",
       " '₹5L',\n",
       " '₹13L',\n",
       " '₹8L',\n",
       " '₹20L',\n",
       " '₹11L',\n",
       " '₹16L',\n",
       " '₹6L',\n",
       " '₹17L',\n",
       " '₹6L',\n",
       " '₹16L',\n",
       " '₹8L',\n",
       " '₹13L',\n",
       " '₹8L',\n",
       " '₹12L',\n",
       " '₹10L',\n",
       " '₹19L',\n",
       " '₹10L',\n",
       " '₹17L',\n",
       " '₹4L',\n",
       " '₹16L',\n",
       " '₹6L',\n",
       " '₹12L',\n",
       " '₹8L',\n",
       " '₹20L',\n",
       " '₹8L',\n",
       " '₹17L',\n",
       " '₹12T',\n",
       " '₹63T',\n",
       " '₹15T',\n",
       " '₹62T',\n",
       " '₹4L',\n",
       " '₹17L',\n",
       " '₹4L',\n",
       " '₹17L',\n",
       " '₹8L',\n",
       " '₹30L',\n",
       " '₹8L',\n",
       " '₹25L',\n",
       " '₹9L',\n",
       " '₹15L',\n",
       " '₹9L',\n",
       " '₹15L']"
      ]
     },
     "execution_count": 314,
     "metadata": {},
     "output_type": "execute_result"
    }
   ],
   "source": [
    "avg_salary"
   ]
  },
  {
   "cell_type": "code",
   "execution_count": 315,
   "id": "01d1c357-78d8-42f0-b2bd-cad8740beb6d",
   "metadata": {},
   "outputs": [],
   "source": [
    "## we can see that the average salary start with index 4\n",
    "## let's use range and for loop and filter it.\n",
    "avg_filtered = []\n",
    "for oli in range(3,len(avg_salary),4):\n",
    "    avg_filtered.append(avg_salary[oli])\n"
   ]
  },
  {
   "cell_type": "code",
   "execution_count": 316,
   "id": "2b28b194-9b5c-4f2c-9ee5-57b25208203b",
   "metadata": {},
   "outputs": [
    {
     "data": {
      "text/plain": [
       "['₹21L',\n",
       " '₹15L',\n",
       " '₹15L',\n",
       " '₹11L',\n",
       " '₹15L',\n",
       " '₹12L',\n",
       " '₹13L',\n",
       " '₹17L',\n",
       " '₹13L',\n",
       " '₹16L',\n",
       " '₹16L',\n",
       " '₹12L',\n",
       " '₹17L',\n",
       " '₹12L',\n",
       " '₹17L',\n",
       " '₹62T',\n",
       " '₹17L',\n",
       " '₹25L',\n",
       " '₹15L']"
      ]
     },
     "execution_count": 316,
     "metadata": {},
     "output_type": "execute_result"
    }
   ],
   "source": [
    "avg_filtered"
   ]
  },
  {
   "cell_type": "code",
   "execution_count": 317,
   "id": "9157324f-91c2-435a-8db0-fae8e350086c",
   "metadata": {},
   "outputs": [
    {
     "data": {
      "text/plain": [
       "['₹21L',\n",
       " '₹15L',\n",
       " '₹15L',\n",
       " '₹11L',\n",
       " '₹15L',\n",
       " '₹12L',\n",
       " '₹13L',\n",
       " '₹17L',\n",
       " '₹13L',\n",
       " '₹16L']"
      ]
     },
     "execution_count": 317,
     "metadata": {},
     "output_type": "execute_result"
    }
   ],
   "source": [
    "### let's take the first 10\n",
    "\n",
    "avg_salary_c = avg_filtered[0:10]\n",
    "avg_salary_c "
   ]
  },
  {
   "cell_type": "code",
   "execution_count": 327,
   "id": "52ee69b1-05bc-440a-a616-df44c50349fd",
   "metadata": {},
   "outputs": [
    {
     "data": {
      "text/plain": [
       "[<selenium.webdriver.remote.webelement.WebElement (session=\"8b5b2d8ed6865a2610d5097c5256a939\", element=\"a7c7aa17-8a52-4e11-8aef-b1f5ff37cc62\")>,\n",
       " <selenium.webdriver.remote.webelement.WebElement (session=\"8b5b2d8ed6865a2610d5097c5256a939\", element=\"5061c349-15df-4900-b3d9-6a72940d7b9a\")>,\n",
       " <selenium.webdriver.remote.webelement.WebElement (session=\"8b5b2d8ed6865a2610d5097c5256a939\", element=\"a613d84e-ea91-4537-b352-d9f12524fc7c\")>,\n",
       " <selenium.webdriver.remote.webelement.WebElement (session=\"8b5b2d8ed6865a2610d5097c5256a939\", element=\"4d85181e-2215-4bdc-9726-163fb2b0b275\")>,\n",
       " <selenium.webdriver.remote.webelement.WebElement (session=\"8b5b2d8ed6865a2610d5097c5256a939\", element=\"875277e3-1514-4ee0-ac5a-7ef8713a75b7\")>,\n",
       " <selenium.webdriver.remote.webelement.WebElement (session=\"8b5b2d8ed6865a2610d5097c5256a939\", element=\"0dcfc403-4625-4e53-aff7-1e08507ce7de\")>,\n",
       " <selenium.webdriver.remote.webelement.WebElement (session=\"8b5b2d8ed6865a2610d5097c5256a939\", element=\"d84b7362-5954-4268-9527-acd98b03a068\")>,\n",
       " <selenium.webdriver.remote.webelement.WebElement (session=\"8b5b2d8ed6865a2610d5097c5256a939\", element=\"ce4c9c81-37e7-4791-bc94-43cce8765a26\")>,\n",
       " <selenium.webdriver.remote.webelement.WebElement (session=\"8b5b2d8ed6865a2610d5097c5256a939\", element=\"a04e6070-b22c-4209-97fe-4c7cdc7af682\")>,\n",
       " <selenium.webdriver.remote.webelement.WebElement (session=\"8b5b2d8ed6865a2610d5097c5256a939\", element=\"c99dd92d-5c7c-4618-afed-018c2a2dd3ae\")>,\n",
       " <selenium.webdriver.remote.webelement.WebElement (session=\"8b5b2d8ed6865a2610d5097c5256a939\", element=\"a8389bfa-ae38-4ef6-92e8-8f3db767dbe6\")>,\n",
       " <selenium.webdriver.remote.webelement.WebElement (session=\"8b5b2d8ed6865a2610d5097c5256a939\", element=\"97ddceef-217b-4f03-8c3a-ed6719f7ddf0\")>,\n",
       " <selenium.webdriver.remote.webelement.WebElement (session=\"8b5b2d8ed6865a2610d5097c5256a939\", element=\"4d3d5379-3098-4b98-bcc3-9389625612f9\")>,\n",
       " <selenium.webdriver.remote.webelement.WebElement (session=\"8b5b2d8ed6865a2610d5097c5256a939\", element=\"ba4edfe9-9d43-4238-82dd-4bf65d6b9856\")>,\n",
       " <selenium.webdriver.remote.webelement.WebElement (session=\"8b5b2d8ed6865a2610d5097c5256a939\", element=\"1c7f15db-fb20-43a4-8036-efb2e5d057ad\")>,\n",
       " <selenium.webdriver.remote.webelement.WebElement (session=\"8b5b2d8ed6865a2610d5097c5256a939\", element=\"1aa5f1d7-d05a-4044-879a-1ab87b2c827f\")>,\n",
       " <selenium.webdriver.remote.webelement.WebElement (session=\"8b5b2d8ed6865a2610d5097c5256a939\", element=\"019619b8-2a3d-417f-b101-71940c47274d\")>,\n",
       " <selenium.webdriver.remote.webelement.WebElement (session=\"8b5b2d8ed6865a2610d5097c5256a939\", element=\"dd15befd-92b2-4394-b9f5-96fa6d043d6d\")>,\n",
       " <selenium.webdriver.remote.webelement.WebElement (session=\"8b5b2d8ed6865a2610d5097c5256a939\", element=\"5074e82a-9d6a-4208-ae06-107a278adb56\")>,\n",
       " <selenium.webdriver.remote.webelement.WebElement (session=\"8b5b2d8ed6865a2610d5097c5256a939\", element=\"7753944d-96ff-426c-9e35-7f996fe099e3\")>,\n",
       " <selenium.webdriver.remote.webelement.WebElement (session=\"8b5b2d8ed6865a2610d5097c5256a939\", element=\"37e289b2-dce1-43d3-aace-e657fd0369a1\")>,\n",
       " <selenium.webdriver.remote.webelement.WebElement (session=\"8b5b2d8ed6865a2610d5097c5256a939\", element=\"5f567f13-6602-46f1-9b89-14ebb30088dc\")>]"
      ]
     },
     "execution_count": 327,
     "metadata": {},
     "output_type": "execute_result"
    }
   ],
   "source": [
    "### let's find the number of salaries\n",
    "\n",
    "num_of_sal = driver.find_elements_by_xpath('//span[@class=\"m-0 css-1b6bxoo\"]')\n",
    "num_of_sal\n"
   ]
  },
  {
   "cell_type": "code",
   "execution_count": 328,
   "id": "55fdd748-d1cb-4eeb-8bb2-5d1ca40f8aa5",
   "metadata": {},
   "outputs": [],
   "source": [
    "no_of_sal_list = []\n",
    "for oli in num_of_sal:\n",
    "    no_of_sal_list.append(oli.text)\n",
    "    "
   ]
  },
  {
   "cell_type": "code",
   "execution_count": 329,
   "id": "7760c3a1-eeed-4ee6-814e-90336469cdd3",
   "metadata": {},
   "outputs": [
    {
     "data": {
      "text/plain": [
       "['Average',\n",
       " '₹34,365 - ₹3,00,000',\n",
       " '18 salaries',\n",
       " '17 salaries',\n",
       " '15 salaries',\n",
       " '15 salaries',\n",
       " '14 salaries',\n",
       " '13 salaries',\n",
       " '10 salaries',\n",
       " '9 salaries',\n",
       " '9 salaries',\n",
       " '8 salaries',\n",
       " '8 salaries',\n",
       " '8 salaries',\n",
       " '6 salaries',\n",
       " '6 salaries',\n",
       " '6 salaries',\n",
       " '6 salaries',\n",
       " '6 salaries',\n",
       " '5 salaries',\n",
       " '5 salaries',\n",
       " '5 salaries']"
      ]
     },
     "execution_count": 329,
     "metadata": {},
     "output_type": "execute_result"
    }
   ],
   "source": [
    "no_of_sal_list"
   ]
  },
  {
   "cell_type": "code",
   "execution_count": null,
   "id": "47e1bc00-bf10-4e51-9635-2b3b0f824df8",
   "metadata": {},
   "outputs": [],
   "source": []
  },
  {
   "cell_type": "code",
   "execution_count": 334,
   "id": "5592c591-bb85-4ec8-a4f1-02d398105764",
   "metadata": {},
   "outputs": [],
   "source": [
    "## the first two element are included so let's  remove them and take the first 10 \n",
    "\n",
    "No_of_salaries_xx = no_of_sal_list[2:]\n"
   ]
  },
  {
   "cell_type": "code",
   "execution_count": 335,
   "id": "33700c45-3e8d-4050-be9f-36335e0a1043",
   "metadata": {},
   "outputs": [],
   "source": [
    "## let's removed the salaries of tata consistancy\n",
    "No_of_salar =[]\n",
    "for x in No_of_salaries_xx:\n",
    "    if x !='17 salaries':\n",
    "        No_of_salar.append(x)"
   ]
  },
  {
   "cell_type": "code",
   "execution_count": 336,
   "id": "a6ae510f-b49a-466f-ad69-b2508f4b2502",
   "metadata": {},
   "outputs": [
    {
     "data": {
      "text/plain": [
       "['18 salaries',\n",
       " '15 salaries',\n",
       " '15 salaries',\n",
       " '14 salaries',\n",
       " '13 salaries',\n",
       " '10 salaries',\n",
       " '9 salaries',\n",
       " '9 salaries',\n",
       " '8 salaries',\n",
       " '8 salaries',\n",
       " '8 salaries',\n",
       " '6 salaries',\n",
       " '6 salaries',\n",
       " '6 salaries',\n",
       " '6 salaries',\n",
       " '6 salaries',\n",
       " '5 salaries',\n",
       " '5 salaries',\n",
       " '5 salaries']"
      ]
     },
     "execution_count": 336,
     "metadata": {},
     "output_type": "execute_result"
    }
   ],
   "source": [
    "No_of_salar"
   ]
  },
  {
   "cell_type": "code",
   "execution_count": 337,
   "id": "ab6496f6-8a34-41c5-bd35-a8b3f93ecb4d",
   "metadata": {},
   "outputs": [],
   "source": [
    "## now let's select the first 10\n",
    "\n",
    "No_of_salaries_c = No_of_salar[0:10]"
   ]
  },
  {
   "cell_type": "code",
   "execution_count": 338,
   "id": "9b2d21a7-2334-46aa-98ab-814d4dc32cab",
   "metadata": {},
   "outputs": [
    {
     "data": {
      "text/plain": [
       "['18 salaries',\n",
       " '15 salaries',\n",
       " '15 salaries',\n",
       " '14 salaries',\n",
       " '13 salaries',\n",
       " '10 salaries',\n",
       " '9 salaries',\n",
       " '9 salaries',\n",
       " '8 salaries',\n",
       " '8 salaries']"
      ]
     },
     "execution_count": 338,
     "metadata": {},
     "output_type": "execute_result"
    }
   ],
   "source": [
    "No_of_salaries_c"
   ]
  },
  {
   "cell_type": "code",
   "execution_count": 342,
   "id": "c6ddd52b-a560-4de3-bb2b-914bc480ca9f",
   "metadata": {},
   "outputs": [
    {
     "data": {
      "text/plain": [
       "[<selenium.webdriver.remote.webelement.WebElement (session=\"8b5b2d8ed6865a2610d5097c5256a939\", element=\"1a8e4337-4f37-4f67-92f7-2127a57283b6\")>,\n",
       " <selenium.webdriver.remote.webelement.WebElement (session=\"8b5b2d8ed6865a2610d5097c5256a939\", element=\"c5d041b0-842c-478a-b775-f743d6afa22b\")>,\n",
       " <selenium.webdriver.remote.webelement.WebElement (session=\"8b5b2d8ed6865a2610d5097c5256a939\", element=\"03c6361a-0e88-4952-858e-316ba837e34a\")>,\n",
       " <selenium.webdriver.remote.webelement.WebElement (session=\"8b5b2d8ed6865a2610d5097c5256a939\", element=\"23901ce3-b6a0-419a-aa4e-987459839585\")>,\n",
       " <selenium.webdriver.remote.webelement.WebElement (session=\"8b5b2d8ed6865a2610d5097c5256a939\", element=\"350ef3c8-4577-4444-9eed-4d25ae1d79ce\")>,\n",
       " <selenium.webdriver.remote.webelement.WebElement (session=\"8b5b2d8ed6865a2610d5097c5256a939\", element=\"da03f314-8ecb-4ef6-aedd-fb8ebcbb90ac\")>,\n",
       " <selenium.webdriver.remote.webelement.WebElement (session=\"8b5b2d8ed6865a2610d5097c5256a939\", element=\"b43f86ef-0a7c-453c-abfa-79ebcb2e195d\")>,\n",
       " <selenium.webdriver.remote.webelement.WebElement (session=\"8b5b2d8ed6865a2610d5097c5256a939\", element=\"acc3eefc-5f50-49a8-b828-e4d9bdd3723b\")>,\n",
       " <selenium.webdriver.remote.webelement.WebElement (session=\"8b5b2d8ed6865a2610d5097c5256a939\", element=\"b56d1abf-6c44-47dc-ba3c-b49352af26dc\")>,\n",
       " <selenium.webdriver.remote.webelement.WebElement (session=\"8b5b2d8ed6865a2610d5097c5256a939\", element=\"ea1e72cb-db43-4bf1-b755-84fc467adc54\")>,\n",
       " <selenium.webdriver.remote.webelement.WebElement (session=\"8b5b2d8ed6865a2610d5097c5256a939\", element=\"edbd3bd2-b8bc-4f64-bc05-3c939b8566ec\")>,\n",
       " <selenium.webdriver.remote.webelement.WebElement (session=\"8b5b2d8ed6865a2610d5097c5256a939\", element=\"175d705e-f2b6-465b-b975-06280f08b8d4\")>,\n",
       " <selenium.webdriver.remote.webelement.WebElement (session=\"8b5b2d8ed6865a2610d5097c5256a939\", element=\"cc31f2f2-7a19-4265-a027-160df98e9d88\")>,\n",
       " <selenium.webdriver.remote.webelement.WebElement (session=\"8b5b2d8ed6865a2610d5097c5256a939\", element=\"907e8feb-bf1d-45c1-a905-97fe5d5f321e\")>,\n",
       " <selenium.webdriver.remote.webelement.WebElement (session=\"8b5b2d8ed6865a2610d5097c5256a939\", element=\"9dda70a2-f43b-4069-a5dd-06b3a6478bbd\")>,\n",
       " <selenium.webdriver.remote.webelement.WebElement (session=\"8b5b2d8ed6865a2610d5097c5256a939\", element=\"2433b21f-8547-4d73-b57b-c92df73e1180\")>,\n",
       " <selenium.webdriver.remote.webelement.WebElement (session=\"8b5b2d8ed6865a2610d5097c5256a939\", element=\"02b68778-a4ab-4a8a-a2bc-bcd7214d18a6\")>,\n",
       " <selenium.webdriver.remote.webelement.WebElement (session=\"8b5b2d8ed6865a2610d5097c5256a939\", element=\"4e39091d-7b04-4e0c-96d0-f4e438c10485\")>,\n",
       " <selenium.webdriver.remote.webelement.WebElement (session=\"8b5b2d8ed6865a2610d5097c5256a939\", element=\"4ac09363-37eb-4723-920d-d52447ce89d3\")>,\n",
       " <selenium.webdriver.remote.webelement.WebElement (session=\"8b5b2d8ed6865a2610d5097c5256a939\", element=\"ad8e3d03-750b-4a71-8380-ff346a80d17b\")>]"
      ]
     },
     "execution_count": 342,
     "metadata": {},
     "output_type": "execute_result"
    }
   ],
   "source": [
    "## let's find the companies rating\n",
    "rating = driver.find_elements_by_xpath('//span[@class=\"m-0 css-kyx745\"]')\n",
    "\n",
    "rating "
   ]
  },
  {
   "cell_type": "code",
   "execution_count": 343,
   "id": "1b961556-1a46-40b3-bd34-d645659e5fcc",
   "metadata": {},
   "outputs": [],
   "source": [
    "rates_list = []\n",
    "for oli in rating:\n",
    "    rates_list.append(oli.text)"
   ]
  },
  {
   "cell_type": "code",
   "execution_count": 344,
   "id": "d960948a-7e55-449d-91bd-65b07b1b6e03",
   "metadata": {},
   "outputs": [
    {
     "data": {
      "text/plain": [
       "['3.9',\n",
       " '3.9',\n",
       " '4',\n",
       " '3.9',\n",
       " '4',\n",
       " '3.7',\n",
       " '4.2',\n",
       " '3.6',\n",
       " '3.9',\n",
       " '4',\n",
       " '3.6',\n",
       " '3.8',\n",
       " '3.8',\n",
       " '3.2',\n",
       " '4',\n",
       " '4.1',\n",
       " '3.7',\n",
       " '3.6',\n",
       " '3.5',\n",
       " '4.1']"
      ]
     },
     "execution_count": 344,
     "metadata": {},
     "output_type": "execute_result"
    }
   ],
   "source": [
    "rates_list"
   ]
  },
  {
   "cell_type": "code",
   "execution_count": 345,
   "id": "b15f5302-fe4b-4035-8af2-521caa9e94cf",
   "metadata": {},
   "outputs": [],
   "source": [
    "## let's remove the element at second position about tata consultancy\n",
    "rate_xx =[]\n",
    "for oli in rates_list:\n",
    "    if rates_list.index(oli) ==1:\n",
    "        continue\n",
    "    rate_xx.append(oli)    \n"
   ]
  },
  {
   "cell_type": "code",
   "execution_count": 347,
   "id": "04e51a72-ed2e-4115-9802-7c1fea4002a4",
   "metadata": {},
   "outputs": [
    {
     "data": {
      "text/plain": [
       "['3.9', '3.9', '4', '3.9', '4', '3.7', '4.2', '3.6', '3.9', '4']"
      ]
     },
     "execution_count": 347,
     "metadata": {},
     "output_type": "execute_result"
    }
   ],
   "source": [
    "## let's select the first 10 rating\n",
    "\n",
    "rating_c = rate_xx[0:10]\n",
    "rating_c"
   ]
  },
  {
   "cell_type": "code",
   "execution_count": 348,
   "id": "bab0e300-f923-4a21-a801-0e33db938da4",
   "metadata": {},
   "outputs": [],
   "source": [
    "### Now let's create our Data Frame\n",
    "data_c = pd.DataFrame({})"
   ]
  },
  {
   "cell_type": "code",
   "execution_count": 349,
   "id": "7f32b4f4-8e7a-45f4-8559-811d0a97072a",
   "metadata": {},
   "outputs": [
    {
     "data": {
      "text/html": [
       "<div>\n",
       "<style scoped>\n",
       "    .dataframe tbody tr th:only-of-type {\n",
       "        vertical-align: middle;\n",
       "    }\n",
       "\n",
       "    .dataframe tbody tr th {\n",
       "        vertical-align: top;\n",
       "    }\n",
       "\n",
       "    .dataframe thead th {\n",
       "        text-align: right;\n",
       "    }\n",
       "</style>\n",
       "<table border=\"1\" class=\"dataframe\">\n",
       "  <thead>\n",
       "    <tr style=\"text-align: right;\">\n",
       "      <th></th>\n",
       "      <th>Company_Name</th>\n",
       "      <th>Max_Salary</th>\n",
       "      <th>Average_Salary</th>\n",
       "      <th>Min_Salary</th>\n",
       "      <th>No_Of_Salary</th>\n",
       "      <th>Company_Rating</th>\n",
       "    </tr>\n",
       "  </thead>\n",
       "  <tbody>\n",
       "    <tr>\n",
       "      <th>0</th>\n",
       "      <td>IBM</td>\n",
       "      <td>₹27L</td>\n",
       "      <td>₹21L</td>\n",
       "      <td>₹6L</td>\n",
       "      <td>18 salaries</td>\n",
       "      <td>3.9</td>\n",
       "    </tr>\n",
       "    <tr>\n",
       "      <th>1</th>\n",
       "      <td>Accenture</td>\n",
       "      <td>₹21L</td>\n",
       "      <td>₹15L</td>\n",
       "      <td>₹7L</td>\n",
       "      <td>15 salaries</td>\n",
       "      <td>3.9</td>\n",
       "    </tr>\n",
       "    <tr>\n",
       "      <th>2</th>\n",
       "      <td>Delhivery</td>\n",
       "      <td>₹22L</td>\n",
       "      <td>₹15L</td>\n",
       "      <td>₹6L</td>\n",
       "      <td>15 salaries</td>\n",
       "      <td>4</td>\n",
       "    </tr>\n",
       "    <tr>\n",
       "      <th>3</th>\n",
       "      <td>Ericsson-Worldwide</td>\n",
       "      <td>₹15L</td>\n",
       "      <td>₹11L</td>\n",
       "      <td>₹7L</td>\n",
       "      <td>14 salaries</td>\n",
       "      <td>3.9</td>\n",
       "    </tr>\n",
       "    <tr>\n",
       "      <th>4</th>\n",
       "      <td>UnitedHealth Group</td>\n",
       "      <td>₹1Cr</td>\n",
       "      <td>₹15L</td>\n",
       "      <td>₹5L</td>\n",
       "      <td>13 salaries</td>\n",
       "      <td>4</td>\n",
       "    </tr>\n",
       "    <tr>\n",
       "      <th>5</th>\n",
       "      <td>Valiance Solutions</td>\n",
       "      <td>₹15L</td>\n",
       "      <td>₹12L</td>\n",
       "      <td>₹10L</td>\n",
       "      <td>10 salaries</td>\n",
       "      <td>3.7</td>\n",
       "    </tr>\n",
       "    <tr>\n",
       "      <th>6</th>\n",
       "      <td>EXL Service</td>\n",
       "      <td>₹16L</td>\n",
       "      <td>₹13L</td>\n",
       "      <td>₹4L</td>\n",
       "      <td>9 salaries</td>\n",
       "      <td>4.2</td>\n",
       "    </tr>\n",
       "    <tr>\n",
       "      <th>7</th>\n",
       "      <td>Optum Global Solutions</td>\n",
       "      <td>₹11L</td>\n",
       "      <td>₹17L</td>\n",
       "      <td>₹5L</td>\n",
       "      <td>9 salaries</td>\n",
       "      <td>3.6</td>\n",
       "    </tr>\n",
       "    <tr>\n",
       "      <th>8</th>\n",
       "      <td>ZS Associates</td>\n",
       "      <td>₹15L</td>\n",
       "      <td>₹13L</td>\n",
       "      <td>₹8L</td>\n",
       "      <td>8 salaries</td>\n",
       "      <td>3.9</td>\n",
       "    </tr>\n",
       "    <tr>\n",
       "      <th>9</th>\n",
       "      <td>Optum</td>\n",
       "      <td>₹15L</td>\n",
       "      <td>₹16L</td>\n",
       "      <td>₹11L</td>\n",
       "      <td>8 salaries</td>\n",
       "      <td>4</td>\n",
       "    </tr>\n",
       "  </tbody>\n",
       "</table>\n",
       "</div>"
      ],
      "text/plain": [
       "             Company_Name Max_Salary Average_Salary Min_Salary No_Of_Salary  \\\n",
       "0                     IBM       ₹27L           ₹21L        ₹6L  18 salaries   \n",
       "1               Accenture       ₹21L           ₹15L        ₹7L  15 salaries   \n",
       "2               Delhivery       ₹22L           ₹15L        ₹6L  15 salaries   \n",
       "3      Ericsson-Worldwide       ₹15L           ₹11L        ₹7L  14 salaries   \n",
       "4      UnitedHealth Group       ₹1Cr           ₹15L        ₹5L  13 salaries   \n",
       "5      Valiance Solutions       ₹15L           ₹12L       ₹10L  10 salaries   \n",
       "6             EXL Service       ₹16L           ₹13L        ₹4L   9 salaries   \n",
       "7  Optum Global Solutions       ₹11L           ₹17L        ₹5L   9 salaries   \n",
       "8           ZS Associates       ₹15L           ₹13L        ₹8L   8 salaries   \n",
       "9                   Optum       ₹15L           ₹16L       ₹11L   8 salaries   \n",
       "\n",
       "  Company_Rating  \n",
       "0            3.9  \n",
       "1            3.9  \n",
       "2              4  \n",
       "3            3.9  \n",
       "4              4  \n",
       "5            3.7  \n",
       "6            4.2  \n",
       "7            3.6  \n",
       "8            3.9  \n",
       "9              4  "
      ]
     },
     "execution_count": 349,
     "metadata": {},
     "output_type": "execute_result"
    }
   ],
   "source": [
    "data_c['Company_Name'] = company_name_c\n",
    "data_c['Max_Salary'] = max_salary_c\n",
    "data_c['Average_Salary'] = avg_salary_c\n",
    "data_c['Min_Salary'] = min_salary_c\n",
    "data_c['No_Of_Salary'] = No_of_salaries_c\n",
    "data_c['Company_Rating'] = rating_c\n",
    "data_c"
   ]
  },
  {
   "cell_type": "markdown",
   "id": "1f1e7cae-c400-453e-aa5b-601cb7cd1de2",
   "metadata": {},
   "source": [
    "### *********************************************"
   ]
  },
  {
   "cell_type": "markdown",
   "id": "d66fd130-2ba7-497c-8166-65c2764fd470",
   "metadata": {},
   "source": [
    "### __Q6 : Scrape data of first 100 sunglasses listings on flipkart.com. You have to scrape four attributes:__"
   ]
  },
  {
   "cell_type": "markdown",
   "id": "f1cfe811-d8ee-4e7a-865e-40755694dc19",
   "metadata": {},
   "source": [
    "#### 1. Brand\n",
    "#### 2. Product Description\n",
    "#### 3. Price\n",
    "#### 4. Discount %\n",
    "#### The attributes which you have to scrape is ticked marked in the below image.\n",
    "#### To scrape the data you have to go through following steps: 1. Go to flipkart webpage by url https://www.flipkart.com/\n",
    "#### 2. Enter “sunglasses” in the search field where “search for products, brands and more” is written and click the search icon\n",
    "#### 3. after that you will reach to a webpage having a lot of sunglasses. From this page you can scrap the required data as usual.\n",
    "#### 4. after scraping data from the first page, go to the “Next” Button at the bottom of the page , then click on it\n",
    "#### 5. Now scrape data from this page as usual\n",
    "#### 6. repeat this until you get data for 100 sunglasses.\n",
    "#### Note that all of the above steps have to be done by coding only and not manually."
   ]
  },
  {
   "cell_type": "code",
   "execution_count": 502,
   "id": "a4f2bbda-9eec-4ac9-8e7a-bdb7c01e3249",
   "metadata": {},
   "outputs": [],
   "source": [
    "## the website url\n",
    "url_flipk = \" https://www.flipkart.com/\"\n",
    "\n",
    "# opening the web page with the above url\n",
    "\n",
    "driver.get(url=url_flipk)"
   ]
  },
  {
   "cell_type": "code",
   "execution_count": 525,
   "id": "51e886d4-c9cb-4473-86a6-681958cf6afe",
   "metadata": {},
   "outputs": [],
   "source": [
    "inpu_search = driver.find_element_by_xpath('//div[@class=\"_3OO5Xc\"]//input')\n"
   ]
  },
  {
   "cell_type": "code",
   "execution_count": 526,
   "id": "1ec877ad-5b6a-42b5-861f-30701f62b983",
   "metadata": {},
   "outputs": [],
   "source": [
    "inpu_search.send_keys('sunglasses')"
   ]
  },
  {
   "cell_type": "code",
   "execution_count": 527,
   "id": "9efd3646-7801-4517-ab51-b9a38040fb39",
   "metadata": {},
   "outputs": [],
   "source": [
    "search_button = driver.find_element_by_xpath('//button[@class=\"L0Z3Pu\"]')"
   ]
  },
  {
   "cell_type": "code",
   "execution_count": 528,
   "id": "cd9931ef-7946-4a2c-ae24-d4653151ddab",
   "metadata": {},
   "outputs": [],
   "source": [
    "search_button.click()"
   ]
  },
  {
   "cell_type": "markdown",
   "id": "bee3e1da-f1ad-446b-b4e2-5d3da469d45c",
   "metadata": {},
   "source": [
    "## First let's get first 100 products links"
   ]
  },
  {
   "cell_type": "code",
   "execution_count": 529,
   "id": "3bf9a696-7f7f-4519-b597-1e53f3c558d4",
   "metadata": {},
   "outputs": [],
   "source": []
  },
  {
   "cell_type": "code",
   "execution_count": 538,
   "id": "41c1191a-4bed-42f7-9b67-4ebaddbb0981",
   "metadata": {},
   "outputs": [],
   "source": [
    "links = []\n",
    "for i in range(1,4):\n",
    "    product_link = driver.find_elements_by_xpath('//a[@class=\"IRpwTa\"]')\n",
    "    for oli in product_link:\n",
    "        links.append(oli.get_attribute('href'))\n",
    "    next_btn = driver.find_element_by_xpath('//a[@class=\"_1LKTO3\"]')\n",
    "    next_btn.click()\n",
    "    time.sleep(2)"
   ]
  },
  {
   "cell_type": "code",
   "execution_count": 543,
   "id": "5519eb51-6932-49d7-a1ea-3b52a582059b",
   "metadata": {},
   "outputs": [],
   "source": [
    "#links"
   ]
  },
  {
   "cell_type": "code",
   "execution_count": 540,
   "id": "e9edb6c6-5392-466f-ac7b-d843e32843bd",
   "metadata": {},
   "outputs": [
    {
     "data": {
      "text/plain": [
       "120"
      ]
     },
     "execution_count": 540,
     "metadata": {},
     "output_type": "execute_result"
    }
   ],
   "source": [
    "len(links)"
   ]
  },
  {
   "cell_type": "code",
   "execution_count": 541,
   "id": "c322433e-43a4-4378-af54-63d06adfa5cf",
   "metadata": {},
   "outputs": [],
   "source": [
    "first_100_urls = links[0:100]"
   ]
  },
  {
   "cell_type": "code",
   "execution_count": 542,
   "id": "3da33503-2909-403d-bb79-addeca53a8d8",
   "metadata": {},
   "outputs": [
    {
     "data": {
      "text/plain": [
       "['https://www.flipkart.com/style-guru-retro-square-sunglasses/p/itm9c8745cedc06c?pid=SGLFTGSDWHDZBANB&lid=LSTSGLFTGSDWHDZBANBNONC8Y&marketplace=FLIPKART&q=sunglasses&store=26x&srno=s_1_1&otracker=search&otracker1=search&fm=SEARCH&iid=en_dQW0PxY4g785hw9nAZMeqri19i293E1u0IQmxTYuL7QrCMpRyUttH1FpoWPNqYEQVxS9wAy3KY4fqih9SkB9Ig%3D%3D&ppt=sp&ppn=sp&ssid=6on6f2nvjk0000001625934992028&qH=2cc465e3eef5bff0',\n",
       " 'https://www.flipkart.com/villain-wayfarer-sunglasses/p/itm8a24290c043c2?pid=SGLG3Z5KP9FHFTFY&lid=LSTSGLG3Z5KP9FHFTFYJ4AVFA&marketplace=FLIPKART&q=sunglasses&store=26x&srno=s_1_2&otracker=search&otracker1=search&fm=SEARCH&iid=en_dQW0PxY4g785hw9nAZMeqri19i293E1u0IQmxTYuL7SoR90pcDJYyHKN8VHLlYjp4OAfreprcOT7ijYDWKbNlw%3D%3D&ppt=sp&ppn=sp&ssid=6on6f2nvjk0000001625934992028&qH=2cc465e3eef5bff0',\n",
       " 'https://www.flipkart.com/fastrack-wayfarer-sunglasses/p/itmf79dqjqucq9f3?pid=SGLF79DQR8NQAT2W&lid=LSTSGLF79DQR8NQAT2W0MLSHN&marketplace=FLIPKART&q=sunglasses&store=26x&srno=s_1_3&otracker=search&otracker1=search&fm=SEARCH&iid=f2fda338-c9b0-461a-903c-b1926aa7da56.SGLF79DQR8NQAT2W.SEARCH&ppt=sp&ppn=sp&ssid=6on6f2nvjk0000001625934992028&qH=2cc465e3eef5bff0',\n",
       " 'https://www.flipkart.com/kingsunglasses-wayfarer-sunglasses/p/itm9c7287be7c247?pid=SGLG2ZY9UERPGCZX&lid=LSTSGLG2ZY9UERPGCZXOWQRMA&marketplace=FLIPKART&q=sunglasses&store=26x&srno=s_1_4&otracker=search&otracker1=search&fm=SEARCH&iid=f2fda338-c9b0-461a-903c-b1926aa7da56.SGLG2ZY9UERPGCZX.SEARCH&ppt=sp&ppn=sp&ssid=6on6f2nvjk0000001625934992028&qH=2cc465e3eef5bff0',\n",
       " 'https://www.flipkart.com/piraso-aviator-sunglasses/p/itm70504d13b7992?pid=SGLFV8YYCEA8RWAC&lid=LSTSGLFV8YYCEA8RWACIACICJ&marketplace=FLIPKART&q=sunglasses&store=26x&spotlightTagId=BestsellerId_26x&srno=s_1_5&otracker=search&otracker1=search&fm=SEARCH&iid=f2fda338-c9b0-461a-903c-b1926aa7da56.SGLFV8YYCEA8RWAC.SEARCH&ppt=sp&ppn=sp&ssid=6on6f2nvjk0000001625934992028&qH=2cc465e3eef5bff0',\n",
       " 'https://www.flipkart.com/phenomenal-retro-square-sunglasses/p/itm05605e75ed801?pid=SGLFUXYAXFHYQAK4&lid=LSTSGLFUXYAXFHYQAK4VF4MKG&marketplace=FLIPKART&q=sunglasses&store=26x&srno=s_1_6&otracker=search&otracker1=search&fm=SEARCH&iid=f2fda338-c9b0-461a-903c-b1926aa7da56.SGLFUXYAXFHYQAK4.SEARCH&ppt=sp&ppn=sp&ssid=6on6f2nvjk0000001625934992028&qH=2cc465e3eef5bff0',\n",
       " 'https://www.flipkart.com/gansta-aviator-sunglasses/p/itmf7hmfp5r8hcdb?pid=SGLF7HGZKHHSTQ8H&lid=LSTSGLF7HGZKHHSTQ8H5VK4WX&marketplace=FLIPKART&q=sunglasses&store=26x&srno=s_1_7&otracker=search&otracker1=search&fm=SEARCH&iid=f2fda338-c9b0-461a-903c-b1926aa7da56.SGLF7HGZKHHSTQ8H.SEARCH&ppt=sp&ppn=sp&ssid=6on6f2nvjk0000001625934992028&qH=2cc465e3eef5bff0',\n",
       " 'https://www.flipkart.com/wrogn-wayfarer-sunglasses/p/itme1c2e4290b443?pid=SGLFVHMBJFMFRJGS&lid=LSTSGLFVHMBJFMFRJGSSZRM0S&marketplace=FLIPKART&q=sunglasses&store=26x&srno=s_1_8&otracker=search&otracker1=search&fm=SEARCH&iid=en_dQW0PxY4g785hw9nAZMeqri19i293E1u0IQmxTYuL7Q%2BDpxqLAzYg7Y6nkYaAtbhggLqBeBnz1M6DJs0BMyYlg%3D%3D&ppt=sp&ppn=sp&ssid=6on6f2nvjk0000001625934992028&qH=2cc465e3eef5bff0',\n",
       " 'https://www.flipkart.com/singco-india-sports-sunglasses/p/itmb6d550eb0932b?pid=SGLFVYKGREY28QVK&lid=LSTSGLFVYKGREY28QVKRAX3RH&marketplace=FLIPKART&q=sunglasses&store=26x&srno=s_1_9&otracker=search&otracker1=search&fm=SEARCH&iid=f2fda338-c9b0-461a-903c-b1926aa7da56.SGLFVYKGREY28QVK.SEARCH&ppt=sp&ppn=sp&ssid=6on6f2nvjk0000001625934992028&qH=2cc465e3eef5bff0',\n",
       " 'https://www.flipkart.com/silver-kartz-wayfarer-sunglasses/p/itmf3ykz37jypbdd?pid=SGLEXSP4CY6G2ZTY&lid=LSTSGLEXSP4CY6G2ZTYGHVAAN&marketplace=FLIPKART&q=sunglasses&store=26x&srno=s_1_10&otracker=search&otracker1=search&fm=SEARCH&iid=f2fda338-c9b0-461a-903c-b1926aa7da56.SGLEXSP4CY6G2ZTY.SEARCH&ppt=sp&ppn=sp&ssid=6on6f2nvjk0000001625934992028&qH=2cc465e3eef5bff0',\n",
       " 'https://www.flipkart.com/rozzetta-craft-retro-square-sunglasses/p/itmf248ba5b3a895?pid=SGLFZFZNAQNZHYB7&lid=LSTSGLFZFZNAQNZHYB7GZ3YO5&marketplace=FLIPKART&q=sunglasses&store=26x&srno=s_1_11&otracker=search&otracker1=search&fm=SEARCH&iid=f2fda338-c9b0-461a-903c-b1926aa7da56.SGLFZFZNAQNZHYB7.SEARCH&ppt=sp&ppn=sp&ssid=6on6f2nvjk0000001625934992028&qH=2cc465e3eef5bff0',\n",
       " 'https://www.flipkart.com/vincent-chase-lenskart-wayfarer-sunglasses/p/itm9c4230c4c4a43?pid=SGLFU52BJPM22ZXZ&lid=LSTSGLFU52BJPM22ZXZP99YTI&marketplace=FLIPKART&q=sunglasses&store=26x&srno=s_1_12&otracker=search&otracker1=search&fm=SEARCH&iid=en_dQW0PxY4g785hw9nAZMeqri19i293E1u0IQmxTYuL7T0SSer2GXByEZwCz%2FFou55gdoiZqQGVUHCO%2BzhyGPDkQ%3D%3D&ppt=sp&ppn=sp&ssid=6on6f2nvjk0000001625934992028&qH=2cc465e3eef5bff0',\n",
       " 'https://www.flipkart.com/hipe-round-sunglasses/p/itm05dde0582be36?pid=SGLFQETNDUT4ZRPX&lid=LSTSGLFQETNDUT4ZRPXSFWXQA&marketplace=FLIPKART&q=sunglasses&store=26x&srno=s_1_13&otracker=search&otracker1=search&fm=SEARCH&iid=f2fda338-c9b0-461a-903c-b1926aa7da56.SGLFQETNDUT4ZRPX.SEARCH&ppt=sp&ppn=sp&ssid=6on6f2nvjk0000001625934992028&qH=2cc465e3eef5bff0',\n",
       " 'https://www.flipkart.com/deixels-aviator-wayfarer-sunglasses/p/itmf3yke7n2axuym?pid=SGLF2YZXCDM6QACV&lid=LSTSGLF2YZXCDM6QACV8HRV24&marketplace=FLIPKART&q=sunglasses&store=26x&srno=s_1_14&otracker=search&otracker1=search&fm=SEARCH&iid=f2fda338-c9b0-461a-903c-b1926aa7da56.SGLF2YZXCDM6QACV.SEARCH&ppt=sp&ppn=sp&ssid=6on6f2nvjk0000001625934992028&qH=2cc465e3eef5bff0',\n",
       " 'https://www.flipkart.com/nuvew-aviator-sunglasses/p/itm1b5c5bd8eee84?pid=SGLFKJW39ZRP8MYU&lid=LSTSGLFKJW39ZRP8MYUANUM4Q&marketplace=FLIPKART&q=sunglasses&store=26x&srno=s_1_15&otracker=search&otracker1=search&fm=SEARCH&iid=f2fda338-c9b0-461a-903c-b1926aa7da56.SGLFKJW39ZRP8MYU.SEARCH&ppt=sp&ppn=sp&ssid=6on6f2nvjk0000001625934992028&qH=2cc465e3eef5bff0',\n",
       " 'https://www.flipkart.com/royal-son-retro-square-sunglasses/p/itm6d8c70978e36a?pid=SGLG3PH3RVHAGZEZ&lid=LSTSGLG3PH3RVHAGZEZMHN7P7&marketplace=FLIPKART&q=sunglasses&store=26x&srno=s_1_16&otracker=search&otracker1=search&fm=SEARCH&iid=en_dQW0PxY4g785hw9nAZMeqri19i293E1u0IQmxTYuL7R5KwK17qxJ5r8g9%2BcO7WhgcUrXhrNG0BplHbPrRH%2Fh%2BQ%3D%3D&ppt=sp&ppn=sp&ssid=6on6f2nvjk0000001625934992028&qH=2cc465e3eef5bff0',\n",
       " 'https://www.flipkart.com/hippon-wayfarer-sunglasses/p/itm05550ccebbf7b?pid=SGLFHPMMVHHGWKNG&lid=LSTSGLFHPMMVHHGWKNG1S9QVG&marketplace=FLIPKART&q=sunglasses&store=26x&srno=s_1_17&otracker=search&otracker1=search&fm=SEARCH&iid=f2fda338-c9b0-461a-903c-b1926aa7da56.SGLFHPMMVHHGWKNG.SEARCH&ppt=sp&ppn=sp&ssid=6on6f2nvjk0000001625934992028&qH=2cc465e3eef5bff0',\n",
       " 'https://www.flipkart.com/flizz-retro-square-sunglasses/p/itmfcfa8ecd9dbce?pid=SGLFWQP8JZVJZEZW&lid=LSTSGLFWQP8JZVJZEZWAUAWZL&marketplace=FLIPKART&q=sunglasses&store=26x&srno=s_1_18&otracker=search&otracker1=search&fm=SEARCH&iid=f2fda338-c9b0-461a-903c-b1926aa7da56.SGLFWQP8JZVJZEZW.SEARCH&ppt=sp&ppn=sp&ssid=6on6f2nvjk0000001625934992028&qH=2cc465e3eef5bff0',\n",
       " 'https://www.flipkart.com/singco-aviator-sunglasses/p/itma6f7be892becc?pid=SGLFQEWXNHU5URPQ&lid=LSTSGLFQEWXNHU5URPQNYJECW&marketplace=FLIPKART&q=sunglasses&store=26x&srno=s_1_19&otracker=search&otracker1=search&fm=SEARCH&iid=f2fda338-c9b0-461a-903c-b1926aa7da56.SGLFQEWXNHU5URPQ.SEARCH&ppt=sp&ppn=sp&ssid=6on6f2nvjk0000001625934992028&qH=2cc465e3eef5bff0',\n",
       " 'https://www.flipkart.com/vincent-chase-lenskart-cat-eye-sunglasses/p/itme5e43b2b68256?pid=SGLFZSZQAMZ5BHCV&lid=LSTSGLFZSZQAMZ5BHCVXDPSAT&marketplace=FLIPKART&q=sunglasses&store=26x&srno=s_1_20&otracker=search&otracker1=search&fm=SEARCH&iid=en_dQW0PxY4g785hw9nAZMeqri19i293E1u0IQmxTYuL7QbyX9K20on2i%2BpnTctu%2BHRNHRA1cSs5LJVQb947Gy0gQ%3D%3D&ppt=sp&ppn=sp&ssid=6on6f2nvjk0000001625934992028&qH=2cc465e3eef5bff0',\n",
       " 'https://www.flipkart.com/royal-son-wayfarer-sunglasses/p/itmfgaf93tm9amaa?pid=SGLFGAYYCQWCN5FH&lid=LSTSGLFGAYYCQWCN5FHJBRXON&marketplace=FLIPKART&q=sunglasses&store=26x&srno=s_1_21&otracker=search&otracker1=search&fm=SEARCH&iid=f2fda338-c9b0-461a-903c-b1926aa7da56.SGLFGAYYCQWCN5FH.SEARCH&ppt=sp&ppn=sp&ssid=6on6f2nvjk0000001625934992028&qH=2cc465e3eef5bff0',\n",
       " 'https://www.flipkart.com/elegante-round-sunglasses/p/itm58a4f476a7ae1?pid=SGLFZ6NZJ2QH7EGH&lid=LSTSGLFZ6NZJ2QH7EGHOKX9P3&marketplace=FLIPKART&q=sunglasses&store=26x&srno=s_1_22&otracker=search&otracker1=search&fm=SEARCH&iid=f2fda338-c9b0-461a-903c-b1926aa7da56.SGLFZ6NZJ2QH7EGH.SEARCH&ppt=sp&ppn=sp&ssid=6on6f2nvjk0000001625934992028&qH=2cc465e3eef5bff0',\n",
       " 'https://www.flipkart.com/fravy-retro-square-sunglasses/p/itm04fda6395be09?pid=SGLFVSMZSXHDR3QG&lid=LSTSGLFVSMZSXHDR3QGLQ4IJX&marketplace=FLIPKART&q=sunglasses&store=26x&srno=s_1_23&otracker=search&otracker1=search&fm=SEARCH&iid=f2fda338-c9b0-461a-903c-b1926aa7da56.SGLFVSMZSXHDR3QG.SEARCH&ppt=sp&ppn=sp&ssid=6on6f2nvjk0000001625934992028&qH=2cc465e3eef5bff0',\n",
       " 'https://www.flipkart.com/rozzetta-craft-retro-square-sunglasses/p/itmfd05447fa5361?pid=SGLFZ2YCQ7UQ3XBQ&lid=LSTSGLFZ2YCQ7UQ3XBQRG02II&marketplace=FLIPKART&q=sunglasses&store=26x&srno=s_1_24&otracker=search&otracker1=search&fm=SEARCH&iid=en_dQW0PxY4g785hw9nAZMeqri19i293E1u0IQmxTYuL7TG9d%2BwEeZQF8g9eiMgSV9pG0bdKHKrcfK8FlIHOljfyg%3D%3D&ppt=sp&ppn=sp&ssid=6on6f2nvjk0000001625934992028&qH=2cc465e3eef5bff0',\n",
       " 'https://www.flipkart.com/irus-idee-rectangular-sunglasses/p/itm15f1f8c72b6be?pid=SGLFUG58GGAZXPFY&lid=LSTSGLFUG58GGAZXPFYYHEKLD&marketplace=FLIPKART&q=sunglasses&store=26x&srno=s_1_25&otracker=search&otracker1=search&fm=SEARCH&iid=f2fda338-c9b0-461a-903c-b1926aa7da56.SGLFUG58GGAZXPFY.SEARCH&ppt=sp&ppn=sp&ssid=6on6f2nvjk0000001625934992028&qH=2cc465e3eef5bff0',\n",
       " 'https://www.flipkart.com/poland-wayfarer-sunglasses/p/itmf5rz8q7benykg?pid=SGLF5RXAYNCUZZZ2&lid=LSTSGLF5RXAYNCUZZZ2HEUI6X&marketplace=FLIPKART&q=sunglasses&store=26x&srno=s_1_26&otracker=search&otracker1=search&fm=SEARCH&iid=f2fda338-c9b0-461a-903c-b1926aa7da56.SGLF5RXAYNCUZZZ2.SEARCH&ppt=sp&ppn=sp&ssid=6on6f2nvjk0000001625934992028&qH=2cc465e3eef5bff0',\n",
       " 'https://www.flipkart.com/wrogn-wayfarer-sunglasses/p/itm83e74b365abdd?pid=SGLFVHMCDPHJYVUE&lid=LSTSGLFVHMCDPHJYVUESAA4LP&marketplace=FLIPKART&q=sunglasses&store=26x&srno=s_1_27&otracker=search&otracker1=search&fm=SEARCH&iid=f2fda338-c9b0-461a-903c-b1926aa7da56.SGLFVHMCDPHJYVUE.SEARCH&ppt=sp&ppn=sp&ssid=6on6f2nvjk0000001625934992028&qH=2cc465e3eef5bff0',\n",
       " 'https://www.flipkart.com/deixels-wayfarer-sunglasses/p/itmda1235c86a61f?pid=SGLFV9G68DRGFBZU&lid=LSTSGLFV9G68DRGFBZUZRFY9I&marketplace=FLIPKART&q=sunglasses&store=26x&srno=s_1_28&otracker=search&otracker1=search&fm=SEARCH&iid=en_dQW0PxY4g785hw9nAZMeqri19i293E1u0IQmxTYuL7QcRAM3NjADQIyzQgIkxPZYBKjh280vn9AhJCnu6a%2FBCQ%3D%3D&ppt=sp&ppn=sp&ssid=6on6f2nvjk0000001625934992028&qH=2cc465e3eef5bff0',\n",
       " 'https://www.flipkart.com/badfella-retro-square-sunglasses/p/itmd216919949721?pid=SGLFTUQXDS6C9BMU&lid=LSTSGLFTUQXDS6C9BMUS51YQR&marketplace=FLIPKART&q=sunglasses&store=26x&srno=s_1_29&otracker=search&otracker1=search&fm=SEARCH&iid=f2fda338-c9b0-461a-903c-b1926aa7da56.SGLFTUQXDS6C9BMU.SEARCH&ppt=sp&ppn=sp&ssid=6on6f2nvjk0000001625934992028&qH=2cc465e3eef5bff0',\n",
       " 'https://www.flipkart.com/united-colors-benetton-aviator-sunglasses/p/itm614feb011625f?pid=SGLFUQZ8N4TMYEHD&lid=LSTSGLFUQZ8N4TMYEHD34QN7K&marketplace=FLIPKART&q=sunglasses&store=26x&srno=s_1_30&otracker=search&otracker1=search&fm=SEARCH&iid=f2fda338-c9b0-461a-903c-b1926aa7da56.SGLFUQZ8N4TMYEHD.SEARCH&ppt=sp&ppn=sp&ssid=6on6f2nvjk0000001625934992028&qH=2cc465e3eef5bff0',\n",
       " 'https://www.flipkart.com/idee-aviator-sunglasses/p/itmfccrbeqmr9mvw?pid=SGLFCCRBVVFFBWJY&lid=LSTSGLFCCRBVVFFBWJYD1J141&marketplace=FLIPKART&q=sunglasses&store=26x&srno=s_1_31&otracker=search&otracker1=search&fm=SEARCH&iid=f2fda338-c9b0-461a-903c-b1926aa7da56.SGLFCCRBVVFFBWJY.SEARCH&ppt=sp&ppn=sp&ssid=6on6f2nvjk0000001625934992028&qH=2cc465e3eef5bff0',\n",
       " 'https://www.flipkart.com/nuvew-sports-sunglasses/p/itmcb9e3b33486b5?pid=SGLFKGRFAH8Z3BUZ&lid=LSTSGLFKGRFAH8Z3BUZOMFEGK&marketplace=FLIPKART&q=sunglasses&store=26x&srno=s_1_32&otracker=search&otracker1=search&fm=SEARCH&iid=en_dQW0PxY4g785hw9nAZMeqri19i293E1u0IQmxTYuL7SiFN%2BJoq8TQD9mfRnbVCC%2Fi5ri3U9MdqwnfiRthnr5bw%3D%3D&ppt=sp&ppn=sp&ssid=6on6f2nvjk0000001625934992028&qH=2cc465e3eef5bff0',\n",
       " 'https://www.flipkart.com/aislin-butterfly-retro-square-sunglasses/p/itma409b55e8037c?pid=SGLFRGT7GJF6GG84&lid=LSTSGLFRGT7GJF6GG84BJPHJY&marketplace=FLIPKART&q=sunglasses&store=26x&srno=s_1_33&otracker=search&otracker1=search&fm=SEARCH&iid=f2fda338-c9b0-461a-903c-b1926aa7da56.SGLFRGT7GJF6GG84.SEARCH&ppt=sp&ppn=sp&ssid=6on6f2nvjk0000001625934992028&qH=2cc465e3eef5bff0',\n",
       " 'https://www.flipkart.com/fastrack-rectangular-sunglasses/p/itmf3yhd8wephwxh?pid=SGLES2WMF6CH5GYF&lid=LSTSGLES2WMF6CH5GYFXRVSZN&marketplace=FLIPKART&q=sunglasses&store=26x&srno=s_1_34&otracker=search&otracker1=search&fm=SEARCH&iid=f2fda338-c9b0-461a-903c-b1926aa7da56.SGLES2WMF6CH5GYF.SEARCH&ppt=sp&ppn=sp&ssid=6on6f2nvjk0000001625934992028&qH=2cc465e3eef5bff0',\n",
       " 'https://www.flipkart.com/kingsunglasses-round-sunglasses/p/itm668e2503f485e?pid=SGLFY5AYFU27DZM4&lid=LSTSGLFY5AYFU27DZM4RRJKPX&marketplace=FLIPKART&q=sunglasses&store=26x&srno=s_1_35&otracker=search&otracker1=search&fm=SEARCH&iid=f2fda338-c9b0-461a-903c-b1926aa7da56.SGLFY5AYFU27DZM4.SEARCH&ppt=sp&ppn=sp&ssid=6on6f2nvjk0000001625934992028&qH=2cc465e3eef5bff0',\n",
       " 'https://www.flipkart.com/wrogn-aviator-sunglasses/p/itm7fa19a4b466b9?pid=SGLFVHMCXQNMYGTY&lid=LSTSGLFVHMCXQNMYGTYZI7OT5&marketplace=FLIPKART&q=sunglasses&store=26x&srno=s_1_36&otracker=search&otracker1=search&fm=SEARCH&iid=en_dQW0PxY4g785hw9nAZMeqri19i293E1u0IQmxTYuL7QunajeGD95hu77Ey6WGsIfzVz7RT1P8IOdy9fZ%2BRKbrA%3D%3D&ppt=sp&ppn=sp&ssid=6on6f2nvjk0000001625934992028&qH=2cc465e3eef5bff0',\n",
       " 'https://www.flipkart.com/phenomenal-round-sunglasses/p/itm7fc559d677aa4?pid=SGLFN8AUWJHNFAZD&lid=LSTSGLFN8AUWJHNFAZDP6OYYD&marketplace=FLIPKART&q=sunglasses&store=26x&srno=s_1_37&otracker=search&otracker1=search&fm=SEARCH&iid=f2fda338-c9b0-461a-903c-b1926aa7da56.SGLFN8AUWJHNFAZD.SEARCH&ppt=sp&ppn=sp&ssid=6on6f2nvjk0000001625934992028&qH=2cc465e3eef5bff0',\n",
       " 'https://www.flipkart.com/hipe-sports-sunglasses/p/itm3e54ea56c399f?pid=SGLFGYGHYR7AAJPJ&lid=LSTSGLFGYGHYR7AAJPJMUU6KY&marketplace=FLIPKART&q=sunglasses&store=26x&srno=s_1_38&otracker=search&otracker1=search&fm=SEARCH&iid=f2fda338-c9b0-461a-903c-b1926aa7da56.SGLFGYGHYR7AAJPJ.SEARCH&ppt=sp&ppn=sp&ssid=6on6f2nvjk0000001625934992028&qH=2cc465e3eef5bff0',\n",
       " 'https://www.flipkart.com/singco-india-aviator-sunglasses/p/itm2bc818fcd5d29?pid=SGLFH5ZGZGPZJ5DP&lid=LSTSGLFH5ZGZGPZJ5DPAYBD27&marketplace=FLIPKART&q=sunglasses&store=26x&srno=s_1_39&otracker=search&otracker1=search&fm=SEARCH&iid=f2fda338-c9b0-461a-903c-b1926aa7da56.SGLFH5ZGZGPZJ5DP.SEARCH&ppt=sp&ppn=sp&ssid=6on6f2nvjk0000001625934992028&qH=2cc465e3eef5bff0',\n",
       " 'https://www.flipkart.com/aislin-wayfarer-rectangular-sunglasses/p/itm72c6355dc1868?pid=SGLFRHGMHEJRYABS&lid=LSTSGLFRHGMHEJRYABSTQHD6X&marketplace=FLIPKART&q=sunglasses&store=26x&srno=s_1_40&otracker=search&otracker1=search&fm=SEARCH&iid=en_dQW0PxY4g785hw9nAZMeqri19i293E1u0IQmxTYuL7RhExUFP0z5oCub%2FzVtjMp%2FxN1hcwh0B5iioqkC6tPwNQ%3D%3D&ppt=sp&ppn=sp&ssid=6on6f2nvjk0000001625934992028&qH=2cc465e3eef5bff0',\n",
       " 'https://www.flipkart.com/style-guru-retro-square-sunglasses/p/itm9c8745cedc06c?pid=SGLFTGSDWHDZBANB&lid=LSTSGLFTGSDWHDZBANBNONC8Y&marketplace=FLIPKART&q=sunglasses&store=26x&srno=s_1_1&otracker=search&otracker1=search&fm=SEARCH&iid=en_dQW0PxY4g785hw9nAZMeqri19i293E1u0IQmxTYuL7QrCMpRyUttH1FpoWPNqYEQVxS9wAy3KY4fqih9SkB9Ig%3D%3D&ppt=sp&ppn=sp&ssid=6on6f2nvjk0000001625934992028&qH=2cc465e3eef5bff0',\n",
       " 'https://www.flipkart.com/villain-wayfarer-sunglasses/p/itm8a24290c043c2?pid=SGLG3Z5KP9FHFTFY&lid=LSTSGLG3Z5KP9FHFTFYJ4AVFA&marketplace=FLIPKART&q=sunglasses&store=26x&srno=s_1_2&otracker=search&otracker1=search&fm=SEARCH&iid=en_dQW0PxY4g785hw9nAZMeqri19i293E1u0IQmxTYuL7SoR90pcDJYyHKN8VHLlYjp4OAfreprcOT7ijYDWKbNlw%3D%3D&ppt=sp&ppn=sp&ssid=6on6f2nvjk0000001625934992028&qH=2cc465e3eef5bff0',\n",
       " 'https://www.flipkart.com/fastrack-wayfarer-sunglasses/p/itmf79dqjqucq9f3?pid=SGLF79DQR8NQAT2W&lid=LSTSGLF79DQR8NQAT2W0MLSHN&marketplace=FLIPKART&q=sunglasses&store=26x&srno=s_1_3&otracker=search&otracker1=search&fm=SEARCH&iid=f2fda338-c9b0-461a-903c-b1926aa7da56.SGLF79DQR8NQAT2W.SEARCH&ppt=sp&ppn=sp&ssid=6on6f2nvjk0000001625934992028&qH=2cc465e3eef5bff0',\n",
       " 'https://www.flipkart.com/kingsunglasses-wayfarer-sunglasses/p/itm9c7287be7c247?pid=SGLG2ZY9UERPGCZX&lid=LSTSGLG2ZY9UERPGCZXOWQRMA&marketplace=FLIPKART&q=sunglasses&store=26x&srno=s_1_4&otracker=search&otracker1=search&fm=SEARCH&iid=f2fda338-c9b0-461a-903c-b1926aa7da56.SGLG2ZY9UERPGCZX.SEARCH&ppt=sp&ppn=sp&ssid=6on6f2nvjk0000001625934992028&qH=2cc465e3eef5bff0',\n",
       " 'https://www.flipkart.com/piraso-aviator-sunglasses/p/itm70504d13b7992?pid=SGLFV8YYCEA8RWAC&lid=LSTSGLFV8YYCEA8RWACIACICJ&marketplace=FLIPKART&q=sunglasses&store=26x&spotlightTagId=BestsellerId_26x&srno=s_1_5&otracker=search&otracker1=search&fm=SEARCH&iid=f2fda338-c9b0-461a-903c-b1926aa7da56.SGLFV8YYCEA8RWAC.SEARCH&ppt=sp&ppn=sp&ssid=6on6f2nvjk0000001625934992028&qH=2cc465e3eef5bff0',\n",
       " 'https://www.flipkart.com/phenomenal-retro-square-sunglasses/p/itm05605e75ed801?pid=SGLFUXYAXFHYQAK4&lid=LSTSGLFUXYAXFHYQAK4VF4MKG&marketplace=FLIPKART&q=sunglasses&store=26x&srno=s_1_6&otracker=search&otracker1=search&fm=SEARCH&iid=f2fda338-c9b0-461a-903c-b1926aa7da56.SGLFUXYAXFHYQAK4.SEARCH&ppt=sp&ppn=sp&ssid=6on6f2nvjk0000001625934992028&qH=2cc465e3eef5bff0',\n",
       " 'https://www.flipkart.com/gansta-aviator-sunglasses/p/itmf7hmfp5r8hcdb?pid=SGLF7HGZKHHSTQ8H&lid=LSTSGLF7HGZKHHSTQ8H5VK4WX&marketplace=FLIPKART&q=sunglasses&store=26x&srno=s_1_7&otracker=search&otracker1=search&fm=SEARCH&iid=f2fda338-c9b0-461a-903c-b1926aa7da56.SGLF7HGZKHHSTQ8H.SEARCH&ppt=sp&ppn=sp&ssid=6on6f2nvjk0000001625934992028&qH=2cc465e3eef5bff0',\n",
       " 'https://www.flipkart.com/wrogn-wayfarer-sunglasses/p/itme1c2e4290b443?pid=SGLFVHMBJFMFRJGS&lid=LSTSGLFVHMBJFMFRJGSSZRM0S&marketplace=FLIPKART&q=sunglasses&store=26x&srno=s_1_8&otracker=search&otracker1=search&fm=SEARCH&iid=en_dQW0PxY4g785hw9nAZMeqri19i293E1u0IQmxTYuL7Q%2BDpxqLAzYg7Y6nkYaAtbhggLqBeBnz1M6DJs0BMyYlg%3D%3D&ppt=sp&ppn=sp&ssid=6on6f2nvjk0000001625934992028&qH=2cc465e3eef5bff0',\n",
       " 'https://www.flipkart.com/singco-india-sports-sunglasses/p/itmb6d550eb0932b?pid=SGLFVYKGREY28QVK&lid=LSTSGLFVYKGREY28QVKRAX3RH&marketplace=FLIPKART&q=sunglasses&store=26x&srno=s_1_9&otracker=search&otracker1=search&fm=SEARCH&iid=f2fda338-c9b0-461a-903c-b1926aa7da56.SGLFVYKGREY28QVK.SEARCH&ppt=sp&ppn=sp&ssid=6on6f2nvjk0000001625934992028&qH=2cc465e3eef5bff0',\n",
       " 'https://www.flipkart.com/silver-kartz-wayfarer-sunglasses/p/itmf3ykz37jypbdd?pid=SGLEXSP4CY6G2ZTY&lid=LSTSGLEXSP4CY6G2ZTYGHVAAN&marketplace=FLIPKART&q=sunglasses&store=26x&srno=s_1_10&otracker=search&otracker1=search&fm=SEARCH&iid=f2fda338-c9b0-461a-903c-b1926aa7da56.SGLEXSP4CY6G2ZTY.SEARCH&ppt=sp&ppn=sp&ssid=6on6f2nvjk0000001625934992028&qH=2cc465e3eef5bff0',\n",
       " 'https://www.flipkart.com/rozzetta-craft-retro-square-sunglasses/p/itmf248ba5b3a895?pid=SGLFZFZNAQNZHYB7&lid=LSTSGLFZFZNAQNZHYB7GZ3YO5&marketplace=FLIPKART&q=sunglasses&store=26x&srno=s_1_11&otracker=search&otracker1=search&fm=SEARCH&iid=f2fda338-c9b0-461a-903c-b1926aa7da56.SGLFZFZNAQNZHYB7.SEARCH&ppt=sp&ppn=sp&ssid=6on6f2nvjk0000001625934992028&qH=2cc465e3eef5bff0',\n",
       " 'https://www.flipkart.com/vincent-chase-lenskart-wayfarer-sunglasses/p/itm9c4230c4c4a43?pid=SGLFU52BJPM22ZXZ&lid=LSTSGLFU52BJPM22ZXZP99YTI&marketplace=FLIPKART&q=sunglasses&store=26x&srno=s_1_12&otracker=search&otracker1=search&fm=SEARCH&iid=en_dQW0PxY4g785hw9nAZMeqri19i293E1u0IQmxTYuL7T0SSer2GXByEZwCz%2FFou55gdoiZqQGVUHCO%2BzhyGPDkQ%3D%3D&ppt=sp&ppn=sp&ssid=6on6f2nvjk0000001625934992028&qH=2cc465e3eef5bff0',\n",
       " 'https://www.flipkart.com/hipe-round-sunglasses/p/itm05dde0582be36?pid=SGLFQETNDUT4ZRPX&lid=LSTSGLFQETNDUT4ZRPXSFWXQA&marketplace=FLIPKART&q=sunglasses&store=26x&srno=s_1_13&otracker=search&otracker1=search&fm=SEARCH&iid=f2fda338-c9b0-461a-903c-b1926aa7da56.SGLFQETNDUT4ZRPX.SEARCH&ppt=sp&ppn=sp&ssid=6on6f2nvjk0000001625934992028&qH=2cc465e3eef5bff0',\n",
       " 'https://www.flipkart.com/deixels-aviator-wayfarer-sunglasses/p/itmf3yke7n2axuym?pid=SGLF2YZXCDM6QACV&lid=LSTSGLF2YZXCDM6QACV8HRV24&marketplace=FLIPKART&q=sunglasses&store=26x&srno=s_1_14&otracker=search&otracker1=search&fm=SEARCH&iid=f2fda338-c9b0-461a-903c-b1926aa7da56.SGLF2YZXCDM6QACV.SEARCH&ppt=sp&ppn=sp&ssid=6on6f2nvjk0000001625934992028&qH=2cc465e3eef5bff0',\n",
       " 'https://www.flipkart.com/nuvew-aviator-sunglasses/p/itm1b5c5bd8eee84?pid=SGLFKJW39ZRP8MYU&lid=LSTSGLFKJW39ZRP8MYUANUM4Q&marketplace=FLIPKART&q=sunglasses&store=26x&srno=s_1_15&otracker=search&otracker1=search&fm=SEARCH&iid=f2fda338-c9b0-461a-903c-b1926aa7da56.SGLFKJW39ZRP8MYU.SEARCH&ppt=sp&ppn=sp&ssid=6on6f2nvjk0000001625934992028&qH=2cc465e3eef5bff0',\n",
       " 'https://www.flipkart.com/royal-son-retro-square-sunglasses/p/itm6d8c70978e36a?pid=SGLG3PH3RVHAGZEZ&lid=LSTSGLG3PH3RVHAGZEZMHN7P7&marketplace=FLIPKART&q=sunglasses&store=26x&srno=s_1_16&otracker=search&otracker1=search&fm=SEARCH&iid=en_dQW0PxY4g785hw9nAZMeqri19i293E1u0IQmxTYuL7R5KwK17qxJ5r8g9%2BcO7WhgcUrXhrNG0BplHbPrRH%2Fh%2BQ%3D%3D&ppt=sp&ppn=sp&ssid=6on6f2nvjk0000001625934992028&qH=2cc465e3eef5bff0',\n",
       " 'https://www.flipkart.com/hippon-wayfarer-sunglasses/p/itm05550ccebbf7b?pid=SGLFHPMMVHHGWKNG&lid=LSTSGLFHPMMVHHGWKNG1S9QVG&marketplace=FLIPKART&q=sunglasses&store=26x&srno=s_1_17&otracker=search&otracker1=search&fm=SEARCH&iid=f2fda338-c9b0-461a-903c-b1926aa7da56.SGLFHPMMVHHGWKNG.SEARCH&ppt=sp&ppn=sp&ssid=6on6f2nvjk0000001625934992028&qH=2cc465e3eef5bff0',\n",
       " 'https://www.flipkart.com/flizz-retro-square-sunglasses/p/itmfcfa8ecd9dbce?pid=SGLFWQP8JZVJZEZW&lid=LSTSGLFWQP8JZVJZEZWAUAWZL&marketplace=FLIPKART&q=sunglasses&store=26x&srno=s_1_18&otracker=search&otracker1=search&fm=SEARCH&iid=f2fda338-c9b0-461a-903c-b1926aa7da56.SGLFWQP8JZVJZEZW.SEARCH&ppt=sp&ppn=sp&ssid=6on6f2nvjk0000001625934992028&qH=2cc465e3eef5bff0',\n",
       " 'https://www.flipkart.com/singco-aviator-sunglasses/p/itma6f7be892becc?pid=SGLFQEWXNHU5URPQ&lid=LSTSGLFQEWXNHU5URPQNYJECW&marketplace=FLIPKART&q=sunglasses&store=26x&srno=s_1_19&otracker=search&otracker1=search&fm=SEARCH&iid=f2fda338-c9b0-461a-903c-b1926aa7da56.SGLFQEWXNHU5URPQ.SEARCH&ppt=sp&ppn=sp&ssid=6on6f2nvjk0000001625934992028&qH=2cc465e3eef5bff0',\n",
       " 'https://www.flipkart.com/vincent-chase-lenskart-cat-eye-sunglasses/p/itme5e43b2b68256?pid=SGLFZSZQAMZ5BHCV&lid=LSTSGLFZSZQAMZ5BHCVXDPSAT&marketplace=FLIPKART&q=sunglasses&store=26x&srno=s_1_20&otracker=search&otracker1=search&fm=SEARCH&iid=en_dQW0PxY4g785hw9nAZMeqri19i293E1u0IQmxTYuL7QbyX9K20on2i%2BpnTctu%2BHRNHRA1cSs5LJVQb947Gy0gQ%3D%3D&ppt=sp&ppn=sp&ssid=6on6f2nvjk0000001625934992028&qH=2cc465e3eef5bff0',\n",
       " 'https://www.flipkart.com/royal-son-wayfarer-sunglasses/p/itmfgaf93tm9amaa?pid=SGLFGAYYCQWCN5FH&lid=LSTSGLFGAYYCQWCN5FHJBRXON&marketplace=FLIPKART&q=sunglasses&store=26x&srno=s_1_21&otracker=search&otracker1=search&fm=SEARCH&iid=f2fda338-c9b0-461a-903c-b1926aa7da56.SGLFGAYYCQWCN5FH.SEARCH&ppt=sp&ppn=sp&ssid=6on6f2nvjk0000001625934992028&qH=2cc465e3eef5bff0',\n",
       " 'https://www.flipkart.com/elegante-round-sunglasses/p/itm58a4f476a7ae1?pid=SGLFZ6NZJ2QH7EGH&lid=LSTSGLFZ6NZJ2QH7EGHOKX9P3&marketplace=FLIPKART&q=sunglasses&store=26x&srno=s_1_22&otracker=search&otracker1=search&fm=SEARCH&iid=f2fda338-c9b0-461a-903c-b1926aa7da56.SGLFZ6NZJ2QH7EGH.SEARCH&ppt=sp&ppn=sp&ssid=6on6f2nvjk0000001625934992028&qH=2cc465e3eef5bff0',\n",
       " 'https://www.flipkart.com/fravy-retro-square-sunglasses/p/itm04fda6395be09?pid=SGLFVSMZSXHDR3QG&lid=LSTSGLFVSMZSXHDR3QGLQ4IJX&marketplace=FLIPKART&q=sunglasses&store=26x&srno=s_1_23&otracker=search&otracker1=search&fm=SEARCH&iid=f2fda338-c9b0-461a-903c-b1926aa7da56.SGLFVSMZSXHDR3QG.SEARCH&ppt=sp&ppn=sp&ssid=6on6f2nvjk0000001625934992028&qH=2cc465e3eef5bff0',\n",
       " 'https://www.flipkart.com/rozzetta-craft-retro-square-sunglasses/p/itmfd05447fa5361?pid=SGLFZ2YCQ7UQ3XBQ&lid=LSTSGLFZ2YCQ7UQ3XBQRG02II&marketplace=FLIPKART&q=sunglasses&store=26x&srno=s_1_24&otracker=search&otracker1=search&fm=SEARCH&iid=en_dQW0PxY4g785hw9nAZMeqri19i293E1u0IQmxTYuL7TG9d%2BwEeZQF8g9eiMgSV9pG0bdKHKrcfK8FlIHOljfyg%3D%3D&ppt=sp&ppn=sp&ssid=6on6f2nvjk0000001625934992028&qH=2cc465e3eef5bff0',\n",
       " 'https://www.flipkart.com/irus-idee-rectangular-sunglasses/p/itm15f1f8c72b6be?pid=SGLFUG58GGAZXPFY&lid=LSTSGLFUG58GGAZXPFYYHEKLD&marketplace=FLIPKART&q=sunglasses&store=26x&srno=s_1_25&otracker=search&otracker1=search&fm=SEARCH&iid=f2fda338-c9b0-461a-903c-b1926aa7da56.SGLFUG58GGAZXPFY.SEARCH&ppt=sp&ppn=sp&ssid=6on6f2nvjk0000001625934992028&qH=2cc465e3eef5bff0',\n",
       " 'https://www.flipkart.com/poland-wayfarer-sunglasses/p/itmf5rz8q7benykg?pid=SGLF5RXAYNCUZZZ2&lid=LSTSGLF5RXAYNCUZZZ2HEUI6X&marketplace=FLIPKART&q=sunglasses&store=26x&srno=s_1_26&otracker=search&otracker1=search&fm=SEARCH&iid=f2fda338-c9b0-461a-903c-b1926aa7da56.SGLF5RXAYNCUZZZ2.SEARCH&ppt=sp&ppn=sp&ssid=6on6f2nvjk0000001625934992028&qH=2cc465e3eef5bff0',\n",
       " 'https://www.flipkart.com/wrogn-wayfarer-sunglasses/p/itm83e74b365abdd?pid=SGLFVHMCDPHJYVUE&lid=LSTSGLFVHMCDPHJYVUESAA4LP&marketplace=FLIPKART&q=sunglasses&store=26x&srno=s_1_27&otracker=search&otracker1=search&fm=SEARCH&iid=f2fda338-c9b0-461a-903c-b1926aa7da56.SGLFVHMCDPHJYVUE.SEARCH&ppt=sp&ppn=sp&ssid=6on6f2nvjk0000001625934992028&qH=2cc465e3eef5bff0',\n",
       " 'https://www.flipkart.com/deixels-wayfarer-sunglasses/p/itmda1235c86a61f?pid=SGLFV9G68DRGFBZU&lid=LSTSGLFV9G68DRGFBZUZRFY9I&marketplace=FLIPKART&q=sunglasses&store=26x&srno=s_1_28&otracker=search&otracker1=search&fm=SEARCH&iid=en_dQW0PxY4g785hw9nAZMeqri19i293E1u0IQmxTYuL7QcRAM3NjADQIyzQgIkxPZYBKjh280vn9AhJCnu6a%2FBCQ%3D%3D&ppt=sp&ppn=sp&ssid=6on6f2nvjk0000001625934992028&qH=2cc465e3eef5bff0',\n",
       " 'https://www.flipkart.com/badfella-retro-square-sunglasses/p/itmd216919949721?pid=SGLFTUQXDS6C9BMU&lid=LSTSGLFTUQXDS6C9BMUS51YQR&marketplace=FLIPKART&q=sunglasses&store=26x&srno=s_1_29&otracker=search&otracker1=search&fm=SEARCH&iid=f2fda338-c9b0-461a-903c-b1926aa7da56.SGLFTUQXDS6C9BMU.SEARCH&ppt=sp&ppn=sp&ssid=6on6f2nvjk0000001625934992028&qH=2cc465e3eef5bff0',\n",
       " 'https://www.flipkart.com/united-colors-benetton-aviator-sunglasses/p/itm614feb011625f?pid=SGLFUQZ8N4TMYEHD&lid=LSTSGLFUQZ8N4TMYEHD34QN7K&marketplace=FLIPKART&q=sunglasses&store=26x&srno=s_1_30&otracker=search&otracker1=search&fm=SEARCH&iid=f2fda338-c9b0-461a-903c-b1926aa7da56.SGLFUQZ8N4TMYEHD.SEARCH&ppt=sp&ppn=sp&ssid=6on6f2nvjk0000001625934992028&qH=2cc465e3eef5bff0',\n",
       " 'https://www.flipkart.com/idee-aviator-sunglasses/p/itmfccrbeqmr9mvw?pid=SGLFCCRBVVFFBWJY&lid=LSTSGLFCCRBVVFFBWJYD1J141&marketplace=FLIPKART&q=sunglasses&store=26x&srno=s_1_31&otracker=search&otracker1=search&fm=SEARCH&iid=f2fda338-c9b0-461a-903c-b1926aa7da56.SGLFCCRBVVFFBWJY.SEARCH&ppt=sp&ppn=sp&ssid=6on6f2nvjk0000001625934992028&qH=2cc465e3eef5bff0',\n",
       " 'https://www.flipkart.com/nuvew-sports-sunglasses/p/itmcb9e3b33486b5?pid=SGLFKGRFAH8Z3BUZ&lid=LSTSGLFKGRFAH8Z3BUZOMFEGK&marketplace=FLIPKART&q=sunglasses&store=26x&srno=s_1_32&otracker=search&otracker1=search&fm=SEARCH&iid=en_dQW0PxY4g785hw9nAZMeqri19i293E1u0IQmxTYuL7SiFN%2BJoq8TQD9mfRnbVCC%2Fi5ri3U9MdqwnfiRthnr5bw%3D%3D&ppt=sp&ppn=sp&ssid=6on6f2nvjk0000001625934992028&qH=2cc465e3eef5bff0',\n",
       " 'https://www.flipkart.com/aislin-butterfly-retro-square-sunglasses/p/itma409b55e8037c?pid=SGLFRGT7GJF6GG84&lid=LSTSGLFRGT7GJF6GG84BJPHJY&marketplace=FLIPKART&q=sunglasses&store=26x&srno=s_1_33&otracker=search&otracker1=search&fm=SEARCH&iid=f2fda338-c9b0-461a-903c-b1926aa7da56.SGLFRGT7GJF6GG84.SEARCH&ppt=sp&ppn=sp&ssid=6on6f2nvjk0000001625934992028&qH=2cc465e3eef5bff0',\n",
       " 'https://www.flipkart.com/fastrack-rectangular-sunglasses/p/itmf3yhd8wephwxh?pid=SGLES2WMF6CH5GYF&lid=LSTSGLES2WMF6CH5GYFXRVSZN&marketplace=FLIPKART&q=sunglasses&store=26x&srno=s_1_34&otracker=search&otracker1=search&fm=SEARCH&iid=f2fda338-c9b0-461a-903c-b1926aa7da56.SGLES2WMF6CH5GYF.SEARCH&ppt=sp&ppn=sp&ssid=6on6f2nvjk0000001625934992028&qH=2cc465e3eef5bff0',\n",
       " 'https://www.flipkart.com/kingsunglasses-round-sunglasses/p/itm668e2503f485e?pid=SGLFY5AYFU27DZM4&lid=LSTSGLFY5AYFU27DZM4RRJKPX&marketplace=FLIPKART&q=sunglasses&store=26x&srno=s_1_35&otracker=search&otracker1=search&fm=SEARCH&iid=f2fda338-c9b0-461a-903c-b1926aa7da56.SGLFY5AYFU27DZM4.SEARCH&ppt=sp&ppn=sp&ssid=6on6f2nvjk0000001625934992028&qH=2cc465e3eef5bff0',\n",
       " 'https://www.flipkart.com/wrogn-aviator-sunglasses/p/itm7fa19a4b466b9?pid=SGLFVHMCXQNMYGTY&lid=LSTSGLFVHMCXQNMYGTYZI7OT5&marketplace=FLIPKART&q=sunglasses&store=26x&srno=s_1_36&otracker=search&otracker1=search&fm=SEARCH&iid=en_dQW0PxY4g785hw9nAZMeqri19i293E1u0IQmxTYuL7QunajeGD95hu77Ey6WGsIfzVz7RT1P8IOdy9fZ%2BRKbrA%3D%3D&ppt=sp&ppn=sp&ssid=6on6f2nvjk0000001625934992028&qH=2cc465e3eef5bff0',\n",
       " 'https://www.flipkart.com/phenomenal-round-sunglasses/p/itm7fc559d677aa4?pid=SGLFN8AUWJHNFAZD&lid=LSTSGLFN8AUWJHNFAZDP6OYYD&marketplace=FLIPKART&q=sunglasses&store=26x&srno=s_1_37&otracker=search&otracker1=search&fm=SEARCH&iid=f2fda338-c9b0-461a-903c-b1926aa7da56.SGLFN8AUWJHNFAZD.SEARCH&ppt=sp&ppn=sp&ssid=6on6f2nvjk0000001625934992028&qH=2cc465e3eef5bff0',\n",
       " 'https://www.flipkart.com/hipe-sports-sunglasses/p/itm3e54ea56c399f?pid=SGLFGYGHYR7AAJPJ&lid=LSTSGLFGYGHYR7AAJPJMUU6KY&marketplace=FLIPKART&q=sunglasses&store=26x&srno=s_1_38&otracker=search&otracker1=search&fm=SEARCH&iid=f2fda338-c9b0-461a-903c-b1926aa7da56.SGLFGYGHYR7AAJPJ.SEARCH&ppt=sp&ppn=sp&ssid=6on6f2nvjk0000001625934992028&qH=2cc465e3eef5bff0',\n",
       " 'https://www.flipkart.com/singco-india-aviator-sunglasses/p/itm2bc818fcd5d29?pid=SGLFH5ZGZGPZJ5DP&lid=LSTSGLFH5ZGZGPZJ5DPAYBD27&marketplace=FLIPKART&q=sunglasses&store=26x&srno=s_1_39&otracker=search&otracker1=search&fm=SEARCH&iid=f2fda338-c9b0-461a-903c-b1926aa7da56.SGLFH5ZGZGPZJ5DP.SEARCH&ppt=sp&ppn=sp&ssid=6on6f2nvjk0000001625934992028&qH=2cc465e3eef5bff0',\n",
       " 'https://www.flipkart.com/aislin-wayfarer-rectangular-sunglasses/p/itm72c6355dc1868?pid=SGLFRHGMHEJRYABS&lid=LSTSGLFRHGMHEJRYABSTQHD6X&marketplace=FLIPKART&q=sunglasses&store=26x&srno=s_1_40&otracker=search&otracker1=search&fm=SEARCH&iid=en_dQW0PxY4g785hw9nAZMeqri19i293E1u0IQmxTYuL7RhExUFP0z5oCub%2FzVtjMp%2FxN1hcwh0B5iioqkC6tPwNQ%3D%3D&ppt=sp&ppn=sp&ssid=6on6f2nvjk0000001625934992028&qH=2cc465e3eef5bff0',\n",
       " 'https://www.flipkart.com/piraso-aviator-sunglasses/p/itm4210bb67b2728?pid=SGLFPFD7WRNASWSV&lid=LSTSGLFPFD7WRNASWSVJLGDDX&marketplace=FLIPKART&q=sunglasses&store=26x&srno=s_2_41&otracker=search&otracker1=search&fm=SEARCH&iid=75678349-791a-48b5-87fd-b7994fbbce3e.SGLFPFD7WRNASWSV.SEARCH&ppt=sp&ppn=sp&ssid=6on6f2nvjk0000001625934992028&qH=2cc465e3eef5bff0',\n",
       " 'https://www.flipkart.com/hipe-sports-sunglasses/p/itm3e54ea56c399f?pid=SGLFGYGHYR7AAJPJ&lid=LSTSGLFGYGHYR7AAJPJMUU6KY&marketplace=FLIPKART&q=sunglasses&store=26x&srno=s_2_42&otracker=search&otracker1=search&fm=SEARCH&iid=75678349-791a-48b5-87fd-b7994fbbce3e.SGLFGYGHYR7AAJPJ.SEARCH&ppt=sp&ppn=sp&ssid=6on6f2nvjk0000001625934992028&qH=2cc465e3eef5bff0',\n",
       " 'https://www.flipkart.com/gansta-aviator-sunglasses/p/itma841cb28ba5b2?pid=SGLFSFVG8R3XZAMN&lid=LSTSGLFSFVG8R3XZAMNIB8HEQ&marketplace=FLIPKART&q=sunglasses&store=26x&srno=s_2_43&otracker=search&otracker1=search&fm=SEARCH&iid=75678349-791a-48b5-87fd-b7994fbbce3e.SGLFSFVG8R3XZAMN.SEARCH&ppt=sp&ppn=sp&ssid=6on6f2nvjk0000001625934992028&qH=2cc465e3eef5bff0',\n",
       " 'https://www.flipkart.com/fravy-retro-square-sunglasses/p/itma42c41d69987a?pid=SGLFYMDHWZU4BYRG&lid=LSTSGLFYMDHWZU4BYRG0C4QCL&marketplace=FLIPKART&q=sunglasses&store=26x&srno=s_2_44&otracker=search&otracker1=search&fm=SEARCH&iid=en_0GGpvqMh%2B79a9HILDwop0iA6MCEJNIkHwCDqQu3OohV%2Bp8fN7Thi%2FP%2Fbat5swKZ80si6NQXuFAlCInNgox6OTg%3D%3D&ppt=sp&ppn=sp&ssid=6on6f2nvjk0000001625934992028&qH=2cc465e3eef5bff0',\n",
       " 'https://www.flipkart.com/royal-son-aviator-sunglasses/p/itme479614d796cc?pid=SGLED3YH6AQQFTJT&lid=LSTSGLED3YH6AQQFTJTD9JARU&marketplace=FLIPKART&q=sunglasses&store=26x&srno=s_2_45&otracker=search&otracker1=search&fm=SEARCH&iid=75678349-791a-48b5-87fd-b7994fbbce3e.SGLED3YH6AQQFTJT.SEARCH&ppt=sp&ppn=sp&ssid=6on6f2nvjk0000001625934992028&qH=2cc465e3eef5bff0',\n",
       " 'https://www.flipkart.com/singco-aviator-sunglasses/p/itmad59ee26b3c94?pid=SGLF3859NKPNFBSW&lid=LSTSGLF3859NKPNFBSWJF0WXM&marketplace=FLIPKART&q=sunglasses&store=26x&srno=s_2_46&otracker=search&otracker1=search&fm=SEARCH&iid=75678349-791a-48b5-87fd-b7994fbbce3e.SGLF3859NKPNFBSW.SEARCH&ppt=sp&ppn=sp&ssid=6on6f2nvjk0000001625934992028&qH=2cc465e3eef5bff0',\n",
       " 'https://www.flipkart.com/deixels-wayfarer-sunglasses/p/itmd472d69f3666e?pid=SGLFKMMXWMAEFHMF&lid=LSTSGLFKMMXWMAEFHMFSMSLWM&marketplace=FLIPKART&q=sunglasses&store=26x&srno=s_2_47&otracker=search&otracker1=search&fm=SEARCH&iid=75678349-791a-48b5-87fd-b7994fbbce3e.SGLFKMMXWMAEFHMF.SEARCH&ppt=sp&ppn=sp&ssid=6on6f2nvjk0000001625934992028&qH=2cc465e3eef5bff0',\n",
       " 'https://www.flipkart.com/wrogn-aviator-sunglasses/p/itm4580405e8b274?pid=SGLFVHMCZHFQCYBW&lid=LSTSGLFVHMCZHFQCYBWPACMJI&marketplace=FLIPKART&q=sunglasses&store=26x&srno=s_2_48&otracker=search&otracker1=search&fm=SEARCH&iid=en_0GGpvqMh%2B79a9HILDwop0iA6MCEJNIkHwCDqQu3OohXcYbYM4p7Xu2zmmgFSDzsgolsyhr0LuwYLqeGnadRqxw%3D%3D&ppt=sp&ppn=sp&ssid=6on6f2nvjk0000001625934992028&qH=2cc465e3eef5bff0',\n",
       " 'https://www.flipkart.com/wrogn-retro-square-sunglasses/p/itm3cbbe9e744e6c?pid=SGLFVHMBZ7J5MXFF&lid=LSTSGLFVHMBZ7J5MXFFNAZTL9&marketplace=FLIPKART&q=sunglasses&store=26x&srno=s_2_49&otracker=search&otracker1=search&fm=SEARCH&iid=75678349-791a-48b5-87fd-b7994fbbce3e.SGLFVHMBZ7J5MXFF.SEARCH&ppt=sp&ppn=sp&ssid=6on6f2nvjk0000001625934992028&qH=2cc465e3eef5bff0',\n",
       " 'https://www.flipkart.com/nuvew-wayfarer-sunglasses/p/itmb1f24534ef860?pid=SGLFT46ZRHWPXBPR&lid=LSTSGLFT46ZRHWPXBPRNX9KER&marketplace=FLIPKART&q=sunglasses&store=26x&srno=s_2_50&otracker=search&otracker1=search&fm=SEARCH&iid=75678349-791a-48b5-87fd-b7994fbbce3e.SGLFT46ZRHWPXBPR.SEARCH&ppt=sp&ppn=sp&ssid=6on6f2nvjk0000001625934992028&qH=2cc465e3eef5bff0',\n",
       " 'https://www.flipkart.com/flizz-rectangular-sunglasses/p/itm5827604c312cd?pid=SGLFSPHJHPMHNAXB&lid=LSTSGLFSPHJHPMHNAXB2MQBSZ&marketplace=FLIPKART&q=sunglasses&store=26x&srno=s_2_51&otracker=search&otracker1=search&fm=SEARCH&iid=75678349-791a-48b5-87fd-b7994fbbce3e.SGLFSPHJHPMHNAXB.SEARCH&ppt=sp&ppn=sp&ssid=6on6f2nvjk0000001625934992028&qH=2cc465e3eef5bff0',\n",
       " 'https://www.flipkart.com/rozzetta-craft-shield-sunglasses/p/itmc5444d5058e09?pid=SGLFPZ65YQPYKUQP&lid=LSTSGLFPZ65YQPYKUQP4W0V5O&marketplace=FLIPKART&q=sunglasses&store=26x&srno=s_2_52&otracker=search&otracker1=search&fm=SEARCH&iid=en_0GGpvqMh%2B79a9HILDwop0iA6MCEJNIkHwCDqQu3OohWz6rwNaRiGaZmEXn8QB1D1ZMvNoiTBE%2BEl1Ea7HXUbvw%3D%3D&ppt=sp&ppn=sp&ssid=6on6f2nvjk0000001625934992028&qH=2cc465e3eef5bff0',\n",
       " 'https://www.flipkart.com/elegante-round-sunglasses/p/itmcd8c6ed5ae8bf?pid=SGLFZ6JF72GAPVGM&lid=LSTSGLFZ6JF72GAPVGMOCU6XV&marketplace=FLIPKART&q=sunglasses&store=26x&srno=s_2_53&otracker=search&otracker1=search&fm=SEARCH&iid=75678349-791a-48b5-87fd-b7994fbbce3e.SGLFZ6JF72GAPVGM.SEARCH&ppt=sp&ppn=sp&ssid=6on6f2nvjk0000001625934992028&qH=2cc465e3eef5bff0',\n",
       " 'https://www.flipkart.com/silver-kartz-oval-sunglasses/p/itmf0519a6d0669a?pid=SGLFJV3GWTUZSANC&lid=LSTSGLFJV3GWTUZSANCNBLT6O&marketplace=FLIPKART&q=sunglasses&store=26x&srno=s_2_54&otracker=search&otracker1=search&fm=SEARCH&iid=75678349-791a-48b5-87fd-b7994fbbce3e.SGLFJV3GWTUZSANC.SEARCH&ppt=sp&ppn=sp&ssid=6on6f2nvjk0000001625934992028&qH=2cc465e3eef5bff0',\n",
       " 'https://www.flipkart.com/united-colors-benetton-round-sunglasses/p/itm49fb045a897f1?pid=SGLFTSG2QATJ7HZT&lid=LSTSGLFTSG2QATJ7HZTP1NKKO&marketplace=FLIPKART&q=sunglasses&store=26x&srno=s_2_55&otracker=search&otracker1=search&fm=SEARCH&iid=75678349-791a-48b5-87fd-b7994fbbce3e.SGLFTSG2QATJ7HZT.SEARCH&ppt=sp&ppn=sp&ssid=6on6f2nvjk0000001625934992028&qH=2cc465e3eef5bff0',\n",
       " 'https://www.flipkart.com/wrogn-wayfarer-sunglasses/p/itmd7d590850262c?pid=SGLFVHMC9ENAZCJ5&lid=LSTSGLFVHMC9ENAZCJ5S7FTN0&marketplace=FLIPKART&q=sunglasses&store=26x&srno=s_2_56&otracker=search&otracker1=search&fm=SEARCH&iid=en_0GGpvqMh%2B79a9HILDwop0iA6MCEJNIkHwCDqQu3OohUiFf2uVmFEHFZiyFpFwN1QPyFW2Ilj12Qsn4FZXJiepQ%3D%3D&ppt=sp&ppn=sp&ssid=6on6f2nvjk0000001625934992028&qH=2cc465e3eef5bff0',\n",
       " 'https://www.flipkart.com/fastrack-wayfarer-sunglasses/p/itm04d9621b98c78?pid=SGLFG94C8PAHZ3SH&lid=LSTSGLFG94C8PAHZ3SHAFCJXO&marketplace=FLIPKART&q=sunglasses&store=26x&srno=s_2_57&otracker=search&otracker1=search&fm=SEARCH&iid=75678349-791a-48b5-87fd-b7994fbbce3e.SGLFG94C8PAHZ3SH.SEARCH&ppt=sp&ppn=sp&ssid=6on6f2nvjk0000001625934992028&qH=2cc465e3eef5bff0',\n",
       " 'https://www.flipkart.com/kingsunglasses-wayfarer-sunglasses/p/itm59aef661362cd?pid=SGLG2ZY2RFEUSYZS&lid=LSTSGLG2ZY2RFEUSYZSBUS16I&marketplace=FLIPKART&q=sunglasses&store=26x&srno=s_2_58&otracker=search&otracker1=search&fm=SEARCH&iid=75678349-791a-48b5-87fd-b7994fbbce3e.SGLG2ZY2RFEUSYZS.SEARCH&ppt=sp&ppn=sp&ssid=6on6f2nvjk0000001625934992028&qH=2cc465e3eef5bff0',\n",
       " 'https://www.flipkart.com/phenomenal-retro-square-sunglasses/p/itm1ead9ddbbb3d8?pid=SGLFUBFWNBFEAVD3&lid=LSTSGLFUBFWNBFEAVD31E0HIC&marketplace=FLIPKART&q=sunglasses&store=26x&srno=s_2_59&otracker=search&otracker1=search&fm=SEARCH&iid=75678349-791a-48b5-87fd-b7994fbbce3e.SGLFUBFWNBFEAVD3.SEARCH&ppt=sp&ppn=sp&ssid=6on6f2nvjk0000001625934992028&qH=2cc465e3eef5bff0',\n",
       " 'https://www.flipkart.com/aislin-wayfarer-sunglasses/p/itm03b74e9890bd2?pid=SGLFRGSVHQZMUKPA&lid=LSTSGLFRGSVHQZMUKPASVROAW&marketplace=FLIPKART&q=sunglasses&store=26x&srno=s_2_60&otracker=search&otracker1=search&fm=SEARCH&iid=en_0GGpvqMh%2B79a9HILDwop0iA6MCEJNIkHwCDqQu3OohWIcKDgQFR2%2B%2BOsoY6tL%2FxMvG0dK7wrc8zTcyvAdqf0ng%3D%3D&ppt=sp&ppn=sp&ssid=6on6f2nvjk0000001625934992028&qH=2cc465e3eef5bff0']"
      ]
     },
     "execution_count": 542,
     "metadata": {},
     "output_type": "execute_result"
    }
   ],
   "source": [
    "first_100_urls"
   ]
  },
  {
   "cell_type": "code",
   "execution_count": 549,
   "id": "e1a9ae2d-c53f-4db0-a945-8ec5d6156568",
   "metadata": {},
   "outputs": [],
   "source": [
    "## first let's get the brand name\n",
    "brands_names = []\n",
    "for oli in first_100_urls:\n",
    "    driver.get(oli)\n",
    "    brand = driver.find_elements_by_xpath('//h1[@class=\"yhB1nd\"]/span[1]')\n",
    "    for x in brand:\n",
    "        brands_names.append(x.text)\n",
    "    time.sleep(2)    \n"
   ]
  },
  {
   "cell_type": "code",
   "execution_count": 550,
   "id": "a9bee8da-add2-4b0e-9f7f-4905b2a5f29c",
   "metadata": {},
   "outputs": [
    {
     "data": {
      "text/plain": [
       "['style guru ',\n",
       " 'Villain ',\n",
       " 'Fastrack ',\n",
       " 'kingsunglasses ',\n",
       " 'PIRASO ',\n",
       " 'PHENOMENAL ',\n",
       " 'GANSTA ',\n",
       " 'Wrogn ',\n",
       " 'Singco India ',\n",
       " 'Silver Kartz ',\n",
       " 'ROZZETTA CRAFT ',\n",
       " 'VINCENT CHASE ',\n",
       " 'hipe ',\n",
       " 'DEIXELS ',\n",
       " 'NuVew ',\n",
       " 'ROYAL SON ',\n",
       " 'HIPPON ',\n",
       " 'Flizz ',\n",
       " 'Singco ',\n",
       " 'VINCENT CHASE ',\n",
       " 'ROYAL SON ',\n",
       " 'elegante ',\n",
       " 'Fravy ',\n",
       " 'ROZZETTA CRAFT ',\n",
       " 'IRUS by IDEE ',\n",
       " 'Poland ',\n",
       " 'Wrogn ',\n",
       " 'DEIXELS ',\n",
       " 'Badfella ',\n",
       " 'United Colors of Benetton ',\n",
       " 'IDEE ',\n",
       " 'NuVew ',\n",
       " 'AISLIN ',\n",
       " 'Fastrack ',\n",
       " 'kingsunglasses ',\n",
       " 'Wrogn ',\n",
       " 'PHENOMENAL ',\n",
       " 'hipe ',\n",
       " 'Singco India ',\n",
       " 'AISLIN ',\n",
       " 'style guru ',\n",
       " 'Villain ',\n",
       " 'Fastrack ',\n",
       " 'kingsunglasses ',\n",
       " 'PIRASO ',\n",
       " 'PHENOMENAL ',\n",
       " 'GANSTA ',\n",
       " 'Wrogn ',\n",
       " 'Singco India ',\n",
       " 'Silver Kartz ',\n",
       " 'ROZZETTA CRAFT ',\n",
       " 'VINCENT CHASE ',\n",
       " 'hipe ',\n",
       " 'DEIXELS ',\n",
       " 'NuVew ',\n",
       " 'ROYAL SON ',\n",
       " 'HIPPON ',\n",
       " 'Flizz ',\n",
       " 'Singco ',\n",
       " 'VINCENT CHASE ',\n",
       " 'ROYAL SON ',\n",
       " 'elegante ',\n",
       " 'Fravy ',\n",
       " 'ROZZETTA CRAFT ',\n",
       " 'IRUS by IDEE ',\n",
       " 'Poland ',\n",
       " 'Wrogn ',\n",
       " 'DEIXELS ',\n",
       " 'Badfella ',\n",
       " 'United Colors of Benetton ',\n",
       " 'IDEE ',\n",
       " 'NuVew ',\n",
       " 'AISLIN ',\n",
       " 'Fastrack ',\n",
       " 'kingsunglasses ',\n",
       " 'Wrogn ',\n",
       " 'PHENOMENAL ',\n",
       " 'hipe ',\n",
       " 'Singco India ',\n",
       " 'AISLIN ',\n",
       " 'PIRASO ',\n",
       " 'hipe ',\n",
       " 'GANSTA ',\n",
       " 'Fravy ',\n",
       " 'ROYAL SON ',\n",
       " 'Singco ',\n",
       " 'DEIXELS ',\n",
       " 'Wrogn ',\n",
       " 'Wrogn ',\n",
       " 'NuVew ',\n",
       " 'Flizz ',\n",
       " 'ROZZETTA CRAFT ',\n",
       " 'elegante ',\n",
       " 'Silver Kartz ',\n",
       " 'United Colors of Benetton ',\n",
       " 'Wrogn ',\n",
       " 'Fastrack ',\n",
       " 'kingsunglasses ',\n",
       " 'PHENOMENAL ',\n",
       " 'AISLIN ']"
      ]
     },
     "execution_count": 550,
     "metadata": {},
     "output_type": "execute_result"
    }
   ],
   "source": [
    "brands_names"
   ]
  },
  {
   "cell_type": "code",
   "execution_count": 551,
   "id": "0d5b7dc5-79a1-4046-9d47-688ce8fb2ce8",
   "metadata": {},
   "outputs": [
    {
     "data": {
      "text/plain": [
       "100"
      ]
     },
     "execution_count": 551,
     "metadata": {},
     "output_type": "execute_result"
    }
   ],
   "source": [
    "len(brands_names)"
   ]
  },
  {
   "cell_type": "code",
   "execution_count": 552,
   "id": "09a74054-8731-4c01-be51-686422665c44",
   "metadata": {},
   "outputs": [],
   "source": [
    "## let's get the product prices\n",
    "\n",
    "product_prices = []\n",
    "for oli in first_100_urls:\n",
    "    driver.get(oli)\n",
    "    prices = driver.find_elements_by_xpath('//div[@class=\"_30jeq3 _16Jk6d\"]')\n",
    "    for x in prices:\n",
    "        product_prices.append(x.text)\n",
    "    time.sleep(2)    \n"
   ]
  },
  {
   "cell_type": "code",
   "execution_count": 553,
   "id": "4eb3b48a-7fcb-448b-927c-436c5fa7fa22",
   "metadata": {},
   "outputs": [
    {
     "data": {
      "text/plain": [
       "['₹349',\n",
       " '₹675',\n",
       " '₹758',\n",
       " '₹299',\n",
       " '₹237',\n",
       " '₹399',\n",
       " '₹281',\n",
       " '₹826',\n",
       " '₹236',\n",
       " '₹259',\n",
       " '₹499',\n",
       " '₹1,179',\n",
       " '₹197',\n",
       " '₹213',\n",
       " '₹215',\n",
       " '₹799',\n",
       " '₹251',\n",
       " '₹399',\n",
       " '₹331',\n",
       " '₹1,415',\n",
       " '₹217',\n",
       " '₹199',\n",
       " '₹299',\n",
       " '₹499',\n",
       " '₹606',\n",
       " '₹162',\n",
       " '₹676',\n",
       " '₹349',\n",
       " '₹269',\n",
       " '₹1,405',\n",
       " '₹1,318',\n",
       " '₹348',\n",
       " '₹545',\n",
       " '₹513',\n",
       " '₹349',\n",
       " '₹1,007',\n",
       " '₹309',\n",
       " '₹299',\n",
       " '₹352',\n",
       " '₹1,085',\n",
       " '₹349',\n",
       " '₹675',\n",
       " '₹758',\n",
       " '₹299',\n",
       " '₹237',\n",
       " '₹399',\n",
       " '₹281',\n",
       " '₹826',\n",
       " '₹236',\n",
       " '₹259',\n",
       " '₹499',\n",
       " '₹1,179',\n",
       " '₹197',\n",
       " '₹213',\n",
       " '₹215',\n",
       " '₹799',\n",
       " '₹251',\n",
       " '₹399',\n",
       " '₹331',\n",
       " '₹1,415',\n",
       " '₹217',\n",
       " '₹199',\n",
       " '₹299',\n",
       " '₹499',\n",
       " '₹606',\n",
       " '₹162',\n",
       " '₹676',\n",
       " '₹349',\n",
       " '₹269',\n",
       " '₹1,405',\n",
       " '₹1,318',\n",
       " '₹348',\n",
       " '₹545',\n",
       " '₹513',\n",
       " '₹349',\n",
       " '₹1,007',\n",
       " '₹309',\n",
       " '₹299',\n",
       " '₹352',\n",
       " '₹1,085',\n",
       " '₹237',\n",
       " '₹299',\n",
       " '₹292',\n",
       " '₹339',\n",
       " '₹379',\n",
       " '₹252',\n",
       " '₹249',\n",
       " '₹1,175',\n",
       " '₹711',\n",
       " '₹235',\n",
       " '₹279',\n",
       " '₹499',\n",
       " '₹199',\n",
       " '₹299',\n",
       " '₹1,162',\n",
       " '₹1,165',\n",
       " '₹509',\n",
       " '₹299',\n",
       " '₹399',\n",
       " '₹625']"
      ]
     },
     "execution_count": 553,
     "metadata": {},
     "output_type": "execute_result"
    }
   ],
   "source": [
    "product_prices "
   ]
  },
  {
   "cell_type": "code",
   "execution_count": 554,
   "id": "ca409d72-9093-4969-9fdc-e94d4f18269f",
   "metadata": {},
   "outputs": [
    {
     "data": {
      "text/plain": [
       "100"
      ]
     },
     "execution_count": 554,
     "metadata": {},
     "output_type": "execute_result"
    }
   ],
   "source": [
    "len(product_prices )"
   ]
  },
  {
   "cell_type": "code",
   "execution_count": 555,
   "id": "015e9e20-c3ee-4905-89f2-0247f1a3ac21",
   "metadata": {},
   "outputs": [],
   "source": [
    "### let's find the product Discount\n",
    "product_discount =[]\n",
    "for oli in first_100_urls:\n",
    "    driver.get(oli)\n",
    "    discount = driver.find_elements_by_xpath('//div[@class=\"_3Ay6Sb _31Dcoz pZkvcx\"]//span')\n",
    "    for x in discount:\n",
    "        product_discount.append(x.text)\n",
    "    time.sleep(2)   \n",
    "\n"
   ]
  },
  {
   "cell_type": "code",
   "execution_count": 556,
   "id": "58524ff4-1ec5-4b3b-8a88-d5c7ca419279",
   "metadata": {},
   "outputs": [
    {
     "data": {
      "text/plain": [
       "['86% off',\n",
       " '32% off',\n",
       " '15% off',\n",
       " '88% off',\n",
       " '85% off',\n",
       " '80% off',\n",
       " '85% off',\n",
       " '72% off',\n",
       " '84% off',\n",
       " '82% off',\n",
       " '77% off',\n",
       " '41% off',\n",
       " '86% off',\n",
       " '82% off',\n",
       " '72% off',\n",
       " '60% off',\n",
       " '79% off',\n",
       " '81% off',\n",
       " '83% off',\n",
       " '29% off',\n",
       " '78% off',\n",
       " '80% off',\n",
       " '80% off',\n",
       " '77% off',\n",
       " '52% off',\n",
       " '67% off',\n",
       " '73% off',\n",
       " '56% off',\n",
       " '73% off',\n",
       " '65% off',\n",
       " '43% off',\n",
       " '72% off',\n",
       " '64% off',\n",
       " '35% off',\n",
       " '78% off',\n",
       " '69% off',\n",
       " '86% off',\n",
       " '84% off',\n",
       " '70% off',\n",
       " '72% off',\n",
       " '86% off',\n",
       " '32% off',\n",
       " '15% off',\n",
       " '88% off',\n",
       " '85% off',\n",
       " '80% off',\n",
       " '85% off',\n",
       " '72% off',\n",
       " '84% off',\n",
       " '82% off',\n",
       " '77% off',\n",
       " '41% off',\n",
       " '86% off',\n",
       " '82% off',\n",
       " '72% off',\n",
       " '60% off',\n",
       " '79% off',\n",
       " '81% off',\n",
       " '83% off',\n",
       " '29% off',\n",
       " '78% off',\n",
       " '80% off',\n",
       " '80% off',\n",
       " '77% off',\n",
       " '52% off',\n",
       " '67% off',\n",
       " '73% off',\n",
       " '56% off',\n",
       " '73% off',\n",
       " '65% off',\n",
       " '43% off',\n",
       " '72% off',\n",
       " '64% off',\n",
       " '35% off',\n",
       " '78% off',\n",
       " '69% off',\n",
       " '86% off',\n",
       " '84% off',\n",
       " '70% off',\n",
       " '72% off',\n",
       " '85% off',\n",
       " '84% off',\n",
       " '85% off',\n",
       " '83% off',\n",
       " '74% off',\n",
       " '74% off',\n",
       " '58% off',\n",
       " '63% off',\n",
       " '72% off',\n",
       " '75% off',\n",
       " '81% off',\n",
       " '80% off',\n",
       " '80% off',\n",
       " '75% off',\n",
       " '70% off',\n",
       " '61% off',\n",
       " '36% off',\n",
       " '88% off',\n",
       " '80% off',\n",
       " '70% off']"
      ]
     },
     "execution_count": 556,
     "metadata": {},
     "output_type": "execute_result"
    }
   ],
   "source": [
    "product_discount"
   ]
  },
  {
   "cell_type": "code",
   "execution_count": 557,
   "id": "3551cc45-8b94-43f5-bd02-221c96dcb86c",
   "metadata": {},
   "outputs": [
    {
     "data": {
      "text/plain": [
       "100"
      ]
     },
     "execution_count": 557,
     "metadata": {},
     "output_type": "execute_result"
    }
   ],
   "source": [
    "len(product_discount)"
   ]
  },
  {
   "cell_type": "markdown",
   "id": "a8efb04c-97c5-4f8a-98be-244caa33d5b5",
   "metadata": {},
   "source": [
    "## Now let's make our Data Frame\n"
   ]
  },
  {
   "cell_type": "code",
   "execution_count": 562,
   "id": "1a18d078-384c-4b6c-8aed-145a13f61625",
   "metadata": {},
   "outputs": [],
   "source": [
    "data_d = pd.DataFrame({})"
   ]
  },
  {
   "cell_type": "code",
   "execution_count": 563,
   "id": "1e70eafd-da10-48f5-b154-a4441c7bca56",
   "metadata": {},
   "outputs": [],
   "source": [
    "data_d['Brand_Name'] = brands_names\n",
    "data_d['Product_Price'] = product_prices \n",
    "data_d['Product_Discount'] = product_discount"
   ]
  },
  {
   "cell_type": "code",
   "execution_count": 564,
   "id": "d287dfe0-6cf2-4286-a3e9-bad7199c149e",
   "metadata": {},
   "outputs": [
    {
     "data": {
      "text/html": [
       "<div>\n",
       "<style scoped>\n",
       "    .dataframe tbody tr th:only-of-type {\n",
       "        vertical-align: middle;\n",
       "    }\n",
       "\n",
       "    .dataframe tbody tr th {\n",
       "        vertical-align: top;\n",
       "    }\n",
       "\n",
       "    .dataframe thead th {\n",
       "        text-align: right;\n",
       "    }\n",
       "</style>\n",
       "<table border=\"1\" class=\"dataframe\">\n",
       "  <thead>\n",
       "    <tr style=\"text-align: right;\">\n",
       "      <th></th>\n",
       "      <th>Brand_Name</th>\n",
       "      <th>Product_Price</th>\n",
       "      <th>Product_Discount</th>\n",
       "    </tr>\n",
       "  </thead>\n",
       "  <tbody>\n",
       "    <tr>\n",
       "      <th>0</th>\n",
       "      <td>style guru</td>\n",
       "      <td>₹349</td>\n",
       "      <td>86% off</td>\n",
       "    </tr>\n",
       "    <tr>\n",
       "      <th>1</th>\n",
       "      <td>Villain</td>\n",
       "      <td>₹675</td>\n",
       "      <td>32% off</td>\n",
       "    </tr>\n",
       "    <tr>\n",
       "      <th>2</th>\n",
       "      <td>Fastrack</td>\n",
       "      <td>₹758</td>\n",
       "      <td>15% off</td>\n",
       "    </tr>\n",
       "    <tr>\n",
       "      <th>3</th>\n",
       "      <td>kingsunglasses</td>\n",
       "      <td>₹299</td>\n",
       "      <td>88% off</td>\n",
       "    </tr>\n",
       "    <tr>\n",
       "      <th>4</th>\n",
       "      <td>PIRASO</td>\n",
       "      <td>₹237</td>\n",
       "      <td>85% off</td>\n",
       "    </tr>\n",
       "    <tr>\n",
       "      <th>...</th>\n",
       "      <td>...</td>\n",
       "      <td>...</td>\n",
       "      <td>...</td>\n",
       "    </tr>\n",
       "    <tr>\n",
       "      <th>95</th>\n",
       "      <td>Wrogn</td>\n",
       "      <td>₹1,165</td>\n",
       "      <td>61% off</td>\n",
       "    </tr>\n",
       "    <tr>\n",
       "      <th>96</th>\n",
       "      <td>Fastrack</td>\n",
       "      <td>₹509</td>\n",
       "      <td>36% off</td>\n",
       "    </tr>\n",
       "    <tr>\n",
       "      <th>97</th>\n",
       "      <td>kingsunglasses</td>\n",
       "      <td>₹299</td>\n",
       "      <td>88% off</td>\n",
       "    </tr>\n",
       "    <tr>\n",
       "      <th>98</th>\n",
       "      <td>PHENOMENAL</td>\n",
       "      <td>₹399</td>\n",
       "      <td>80% off</td>\n",
       "    </tr>\n",
       "    <tr>\n",
       "      <th>99</th>\n",
       "      <td>AISLIN</td>\n",
       "      <td>₹625</td>\n",
       "      <td>70% off</td>\n",
       "    </tr>\n",
       "  </tbody>\n",
       "</table>\n",
       "<p>100 rows × 3 columns</p>\n",
       "</div>"
      ],
      "text/plain": [
       "         Brand_Name Product_Price Product_Discount\n",
       "0       style guru           ₹349          86% off\n",
       "1          Villain           ₹675          32% off\n",
       "2         Fastrack           ₹758          15% off\n",
       "3   kingsunglasses           ₹299          88% off\n",
       "4           PIRASO           ₹237          85% off\n",
       "..              ...           ...              ...\n",
       "95           Wrogn         ₹1,165          61% off\n",
       "96        Fastrack           ₹509          36% off\n",
       "97  kingsunglasses           ₹299          88% off\n",
       "98      PHENOMENAL           ₹399          80% off\n",
       "99          AISLIN           ₹625          70% off\n",
       "\n",
       "[100 rows x 3 columns]"
      ]
     },
     "execution_count": 564,
     "metadata": {},
     "output_type": "execute_result"
    }
   ],
   "source": [
    "data_d"
   ]
  },
  {
   "cell_type": "markdown",
   "id": "0a471b70-6c8f-479a-9f97-8df76fd44387",
   "metadata": {},
   "source": [
    "### ********** ********** ********** **********"
   ]
  },
  {
   "cell_type": "markdown",
   "id": "01afad6b-0a97-4933-b765-3e1368efd601",
   "metadata": {},
   "source": [
    "### __Q7: Scrape 100 reviews data from flipkart.com for iphone11 phone. You have to go the link:__\n",
    "\n",
    "### https://www.flipkart.com/apple-iphone-11-black-64-gb-includes- earpods-power- adapter/p/itm0f37c2240b217?pid=MOBFKCTSVZAXUHGR&lid=LSTMOBFKC TSVZAXUHGREPBFGI&marketplace.\n"
   ]
  },
  {
   "cell_type": "markdown",
   "id": "4f502769-8db7-4f2a-9948-309169d6f361",
   "metadata": {},
   "source": [
    "#### When you will open the above link you will reach to the below shown webpage.\n",
    "#### As shown in the above page you have to scrape the tick marked attributes. These are\n",
    "#### 1. Rating\n",
    "#### 2. Review_summary\n",
    "#### 3. Full review\n",
    "#### You have to scrape this data for first 100 reviews."
   ]
  },
  {
   "cell_type": "code",
   "execution_count": 578,
   "id": "79e095c1-bb86-4334-a245-a1162ecddfc3",
   "metadata": {},
   "outputs": [
    {
     "data": {
      "text/plain": [
       "'/Users/olivierla412/projects/data_camp/Scraping/Selenium'"
      ]
     },
     "execution_count": 578,
     "metadata": {},
     "output_type": "execute_result"
    }
   ],
   "source": [
    "pwd"
   ]
  },
  {
   "cell_type": "code",
   "execution_count": null,
   "id": "b6615d29-0925-4b6c-b1e0-638bb582eeec",
   "metadata": {},
   "outputs": [],
   "source": []
  },
  {
   "cell_type": "code",
   "execution_count": null,
   "id": "bd6743ae-1c01-4258-a329-fdfefb9401c8",
   "metadata": {},
   "outputs": [],
   "source": []
  }
 ],
 "metadata": {
  "kernelspec": {
   "display_name": "Python 3",
   "language": "python",
   "name": "python3"
  },
  "language_info": {
   "codemirror_mode": {
    "name": "ipython",
    "version": 3
   },
   "file_extension": ".py",
   "mimetype": "text/x-python",
   "name": "python",
   "nbconvert_exporter": "python",
   "pygments_lexer": "ipython3",
   "version": "3.8.2"
  }
 },
 "nbformat": 4,
 "nbformat_minor": 5
}

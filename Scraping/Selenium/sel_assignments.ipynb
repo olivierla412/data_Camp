{
 "cells": [
  {
   "cell_type": "code",
   "execution_count": 500,
   "id": "cf00d6c8-c77b-4c6d-b01d-f895ae094c4e",
   "metadata": {},
   "outputs": [],
   "source": [
    "## Importing the libraries\n",
    "import pandas as pd\n",
    "import selenium\n",
    "from selenium import webdriver\n",
    "import time\n",
    "from selenium.common.exceptions import StaleElementReferenceException,NoSuchElementException"
   ]
  },
  {
   "cell_type": "markdown",
   "id": "65b50afc-33a8-401f-bff6-5696e1222c80",
   "metadata": {},
   "source": [
    "### Q1: Write a python program to scrape data for “Data Analyst” Job position in “Bangalore” location. You have to scrape the job-title, job-location, company_name, experience_required. You have to scrape first 10 jobs data.\n",
    "### __From:  https://www.naukri.com/__"
   ]
  },
  {
   "cell_type": "markdown",
   "id": "cccfac64-2cd7-43bb-a0f2-5b4182d1c513",
   "metadata": {},
   "source": [
    "#### 2. Enter “Data Analyst” in “Skill,Designations,Companies” field and enter “Bangalore” in “enter the location” field.\n",
    "#### 3. Then click the search button.\n",
    "#### 4. Then scrape the data for the first 10 jobs results you get.\n",
    "#### 5. Finally create a dataframe of the scraped data.\n",
    "#### Note- All of the above steps have to be done in code. No step is to be done manually."
   ]
  },
  {
   "cell_type": "code",
   "execution_count": 501,
   "id": "514a4694-12d9-4351-9cc6-6ab440530007",
   "metadata": {},
   "outputs": [],
   "source": [
    "driver = webdriver.Chrome('/Users/olivierla412/Desktop/chromedriver')"
   ]
  },
  {
   "cell_type": "code",
   "execution_count": 5,
   "id": "e3000e48-c3ae-4719-b9bc-62667c3c1302",
   "metadata": {},
   "outputs": [],
   "source": [
    "url1 = \" https://www.naukri.com/\""
   ]
  },
  {
   "cell_type": "code",
   "execution_count": 6,
   "id": "cabd3b39-bb80-4ee3-a4cf-8e82e8327807",
   "metadata": {},
   "outputs": [],
   "source": [
    "## opening the web page with the above url\n",
    "\n",
    "driver.get(url=url1)"
   ]
  },
  {
   "cell_type": "code",
   "execution_count": 11,
   "id": "f4e761c8-789a-4e54-aeaf-a9a3c97a2e79",
   "metadata": {},
   "outputs": [],
   "source": [
    "## let's find the job skills (1)\n",
    "\n",
    "job_skill = driver.find_element_by_xpath('//input[@class=\"sugInp\"]')"
   ]
  },
  {
   "cell_type": "code",
   "execution_count": 12,
   "id": "219b39d3-725e-4699-aa3e-c746899b18ea",
   "metadata": {},
   "outputs": [],
   "source": [
    "job_skill.send_keys('Data Analyst')"
   ]
  },
  {
   "cell_type": "code",
   "execution_count": 13,
   "id": "70748915-a910-4a3b-bf83-220733cba549",
   "metadata": {},
   "outputs": [],
   "source": [
    "## let's find the job location (2)\n",
    "\n",
    "job_location = driver.find_element_by_xpath('//input[@id=\"qsb-location-sugg\"]')"
   ]
  },
  {
   "cell_type": "code",
   "execution_count": 14,
   "id": "59deb7d8-d936-4968-b59e-3e2ee0efda53",
   "metadata": {},
   "outputs": [],
   "source": [
    "job_location.send_keys('Bangalore')"
   ]
  },
  {
   "cell_type": "code",
   "execution_count": 15,
   "id": "8e842a40-da5a-4200-810e-cdf4a00458b0",
   "metadata": {},
   "outputs": [],
   "source": [
    "## let's press the button for searching (3)\n",
    "\n",
    "button_search = driver.find_element_by_xpath('//button[@class=\"btn\"]')"
   ]
  },
  {
   "cell_type": "code",
   "execution_count": 16,
   "id": "4790964f-6f8c-4c2b-9a5c-f8ee89f15e44",
   "metadata": {},
   "outputs": [],
   "source": [
    "button_search.click()"
   ]
  },
  {
   "cell_type": "code",
   "execution_count": 17,
   "id": "c6bd92b4-7344-4864-aaa1-5d85f1e57933",
   "metadata": {},
   "outputs": [],
   "source": [
    "## let's scrap the then jobs data\n",
    "\n",
    "job_titles = driver.find_elements_by_xpath('//a[@class=\"title fw500 ellipsis\"]')"
   ]
  },
  {
   "cell_type": "code",
   "execution_count": 18,
   "id": "df3964ad-e81e-4ee2-bcce-1c8ce1e548c8",
   "metadata": {},
   "outputs": [
    {
     "data": {
      "text/plain": [
       "[<selenium.webdriver.remote.webelement.WebElement (session=\"f0497f5f99f6c5cb90e5e5b4428c6beb\", element=\"a6c95984-f7cf-49ad-af3a-ecd6e77e819d\")>,\n",
       " <selenium.webdriver.remote.webelement.WebElement (session=\"f0497f5f99f6c5cb90e5e5b4428c6beb\", element=\"313a562b-af5d-4a5d-be57-6c39aa70d003\")>,\n",
       " <selenium.webdriver.remote.webelement.WebElement (session=\"f0497f5f99f6c5cb90e5e5b4428c6beb\", element=\"bc220640-91bd-4e6b-95f1-ae8fccd9df0f\")>,\n",
       " <selenium.webdriver.remote.webelement.WebElement (session=\"f0497f5f99f6c5cb90e5e5b4428c6beb\", element=\"84f6cb45-0085-46cd-9e5c-2b7efc1f24f3\")>,\n",
       " <selenium.webdriver.remote.webelement.WebElement (session=\"f0497f5f99f6c5cb90e5e5b4428c6beb\", element=\"57f350bf-170d-483e-91bd-4d59ce133ee8\")>,\n",
       " <selenium.webdriver.remote.webelement.WebElement (session=\"f0497f5f99f6c5cb90e5e5b4428c6beb\", element=\"31750ad1-daca-4952-b3a4-6275b02e2d44\")>,\n",
       " <selenium.webdriver.remote.webelement.WebElement (session=\"f0497f5f99f6c5cb90e5e5b4428c6beb\", element=\"388f56b4-49a9-433c-a95e-4835706daabb\")>,\n",
       " <selenium.webdriver.remote.webelement.WebElement (session=\"f0497f5f99f6c5cb90e5e5b4428c6beb\", element=\"47ed825a-e865-4529-8958-1032339af80b\")>,\n",
       " <selenium.webdriver.remote.webelement.WebElement (session=\"f0497f5f99f6c5cb90e5e5b4428c6beb\", element=\"8de13a71-b7e7-4c12-83bd-3cd6cc35ed36\")>,\n",
       " <selenium.webdriver.remote.webelement.WebElement (session=\"f0497f5f99f6c5cb90e5e5b4428c6beb\", element=\"08ba5b4c-82ab-4ecd-b4a2-6faf2b032502\")>,\n",
       " <selenium.webdriver.remote.webelement.WebElement (session=\"f0497f5f99f6c5cb90e5e5b4428c6beb\", element=\"499f7a9c-7fed-41ce-ae35-56d01eef2926\")>,\n",
       " <selenium.webdriver.remote.webelement.WebElement (session=\"f0497f5f99f6c5cb90e5e5b4428c6beb\", element=\"b9898964-06de-4ce4-bab1-82794c97e526\")>,\n",
       " <selenium.webdriver.remote.webelement.WebElement (session=\"f0497f5f99f6c5cb90e5e5b4428c6beb\", element=\"fef0323b-5d89-458b-b3bd-30f18edc2b2c\")>,\n",
       " <selenium.webdriver.remote.webelement.WebElement (session=\"f0497f5f99f6c5cb90e5e5b4428c6beb\", element=\"d6d4a452-5be4-4e02-80dc-9f56c52fbcce\")>,\n",
       " <selenium.webdriver.remote.webelement.WebElement (session=\"f0497f5f99f6c5cb90e5e5b4428c6beb\", element=\"411e3d2a-02a4-4727-88ea-cafb4d012693\")>,\n",
       " <selenium.webdriver.remote.webelement.WebElement (session=\"f0497f5f99f6c5cb90e5e5b4428c6beb\", element=\"7b493fd9-5b17-4cbf-9c86-b6241ea5e65c\")>,\n",
       " <selenium.webdriver.remote.webelement.WebElement (session=\"f0497f5f99f6c5cb90e5e5b4428c6beb\", element=\"729009a7-a8a8-4776-8d07-57bc1be7105c\")>,\n",
       " <selenium.webdriver.remote.webelement.WebElement (session=\"f0497f5f99f6c5cb90e5e5b4428c6beb\", element=\"7400d50e-340c-43a8-b896-3571a23167b1\")>,\n",
       " <selenium.webdriver.remote.webelement.WebElement (session=\"f0497f5f99f6c5cb90e5e5b4428c6beb\", element=\"bedb3a92-7fa3-4e5d-bb79-7df0c0864562\")>,\n",
       " <selenium.webdriver.remote.webelement.WebElement (session=\"f0497f5f99f6c5cb90e5e5b4428c6beb\", element=\"a7a00c79-3809-4c89-b839-7547c5b8a09e\")>]"
      ]
     },
     "execution_count": 18,
     "metadata": {},
     "output_type": "execute_result"
    }
   ],
   "source": [
    "## here we can see that you got the data, so let run a for loop\n",
    "job_titles"
   ]
  },
  {
   "cell_type": "code",
   "execution_count": 19,
   "id": "299cd524-799c-4daa-8b1a-b8f56099f75f",
   "metadata": {},
   "outputs": [],
   "source": [
    "job_title_list = []\n",
    "for oli in job_titles:\n",
    "    job_title_list.append(oli.text)"
   ]
  },
  {
   "cell_type": "code",
   "execution_count": 22,
   "id": "c7abbef4-990d-4884-82a5-8391a17a1782",
   "metadata": {},
   "outputs": [
    {
     "data": {
      "text/plain": [
       "['Data Scientist / Data Analyst -Business Analyst',\n",
       " 'Assistant Vice President - MIS & Reporting ( Business Data Analyst)',\n",
       " 'Network Design & Data Analyst',\n",
       " 'Business Data Analyst - MIS & Reporting',\n",
       " 'Data analysts',\n",
       " 'Excel VBA Jobs Bangalore | VBA data analyst Jobs',\n",
       " 'Software Developer / Web Developer/data analyst',\n",
       " 'Consultant - Data Analyst',\n",
       " 'Data Analyst – Financial, Healthcare, Sports Betting',\n",
       " 'Data Analyst']"
      ]
     },
     "execution_count": 22,
     "metadata": {},
     "output_type": "execute_result"
    }
   ],
   "source": [
    "job_title_list[0:10]"
   ]
  },
  {
   "cell_type": "code",
   "execution_count": 23,
   "id": "f450f839-0444-4d66-a104-87986676eef6",
   "metadata": {},
   "outputs": [
    {
     "data": {
      "text/plain": [
       "20"
      ]
     },
     "execution_count": 23,
     "metadata": {},
     "output_type": "execute_result"
    }
   ],
   "source": [
    "len(job_title_list)"
   ]
  },
  {
   "cell_type": "code",
   "execution_count": 24,
   "id": "96140712-0c39-4340-8ed6-1bd60506d472",
   "metadata": {},
   "outputs": [
    {
     "data": {
      "text/plain": [
       "['Data Scientist / Data Analyst -Business Analyst',\n",
       " 'Assistant Vice President - MIS & Reporting ( Business Data Analyst)',\n",
       " 'Network Design & Data Analyst',\n",
       " 'Business Data Analyst - MIS & Reporting',\n",
       " 'Data analysts',\n",
       " 'Excel VBA Jobs Bangalore | VBA data analyst Jobs',\n",
       " 'Software Developer / Web Developer/data analyst',\n",
       " 'Consultant - Data Analyst',\n",
       " 'Data Analyst – Financial, Healthcare, Sports Betting',\n",
       " 'Data Analyst']"
      ]
     },
     "execution_count": 24,
     "metadata": {},
     "output_type": "execute_result"
    }
   ],
   "source": [
    "## selection of the first 10\n",
    "\n",
    "job_title_10 = job_title_list[0:10]\n",
    "job_title_10"
   ]
  },
  {
   "cell_type": "code",
   "execution_count": 25,
   "id": "5e84ed95-66f8-4f9c-8411-b60a95b23f3a",
   "metadata": {},
   "outputs": [],
   "source": [
    "## let's find the job location\n",
    "job_locations = driver.find_elements_by_xpath('//span[@class=\"ellipsis fleft fs12 lh16 \"]')"
   ]
  },
  {
   "cell_type": "code",
   "execution_count": 26,
   "id": "274e66e5-49fd-407f-b95b-012268579d9d",
   "metadata": {},
   "outputs": [
    {
     "data": {
      "text/plain": [
       "[<selenium.webdriver.remote.webelement.WebElement (session=\"f0497f5f99f6c5cb90e5e5b4428c6beb\", element=\"37580a9f-7de2-4cd5-a2a8-514f8768f86e\")>,\n",
       " <selenium.webdriver.remote.webelement.WebElement (session=\"f0497f5f99f6c5cb90e5e5b4428c6beb\", element=\"c8131d83-1ec6-4114-b4db-f47318799bb5\")>,\n",
       " <selenium.webdriver.remote.webelement.WebElement (session=\"f0497f5f99f6c5cb90e5e5b4428c6beb\", element=\"a0c1770f-5cb0-4300-90a9-430b49cf49f0\")>,\n",
       " <selenium.webdriver.remote.webelement.WebElement (session=\"f0497f5f99f6c5cb90e5e5b4428c6beb\", element=\"8d17c817-a904-49c6-aef3-81bc1fc19adc\")>,\n",
       " <selenium.webdriver.remote.webelement.WebElement (session=\"f0497f5f99f6c5cb90e5e5b4428c6beb\", element=\"9a7666f5-d348-4a91-ab3e-c4b993e68c32\")>,\n",
       " <selenium.webdriver.remote.webelement.WebElement (session=\"f0497f5f99f6c5cb90e5e5b4428c6beb\", element=\"0040f27d-4c4a-4a29-8672-36d453a9cd38\")>,\n",
       " <selenium.webdriver.remote.webelement.WebElement (session=\"f0497f5f99f6c5cb90e5e5b4428c6beb\", element=\"70bd6775-b02a-43b7-9c8d-a075d15faaa5\")>,\n",
       " <selenium.webdriver.remote.webelement.WebElement (session=\"f0497f5f99f6c5cb90e5e5b4428c6beb\", element=\"2b677f88-70b0-4e1a-92b7-0098b355c242\")>,\n",
       " <selenium.webdriver.remote.webelement.WebElement (session=\"f0497f5f99f6c5cb90e5e5b4428c6beb\", element=\"c847da04-69c0-4265-8d2a-5ed7f6978440\")>,\n",
       " <selenium.webdriver.remote.webelement.WebElement (session=\"f0497f5f99f6c5cb90e5e5b4428c6beb\", element=\"6c17edd7-0405-4105-80d1-00c7aac50516\")>,\n",
       " <selenium.webdriver.remote.webelement.WebElement (session=\"f0497f5f99f6c5cb90e5e5b4428c6beb\", element=\"38c7bb59-e693-4b94-836a-f4963884f8c6\")>,\n",
       " <selenium.webdriver.remote.webelement.WebElement (session=\"f0497f5f99f6c5cb90e5e5b4428c6beb\", element=\"e241849c-3631-4fd9-b3c3-e2e8cb7f897f\")>,\n",
       " <selenium.webdriver.remote.webelement.WebElement (session=\"f0497f5f99f6c5cb90e5e5b4428c6beb\", element=\"44b76c95-52f6-46ff-bdca-cb973d8cf3a8\")>,\n",
       " <selenium.webdriver.remote.webelement.WebElement (session=\"f0497f5f99f6c5cb90e5e5b4428c6beb\", element=\"1102bcb1-33e4-452b-8313-a28c7b7f73e7\")>,\n",
       " <selenium.webdriver.remote.webelement.WebElement (session=\"f0497f5f99f6c5cb90e5e5b4428c6beb\", element=\"19e26ac0-b4af-4df5-bdfa-062eca7baccb\")>,\n",
       " <selenium.webdriver.remote.webelement.WebElement (session=\"f0497f5f99f6c5cb90e5e5b4428c6beb\", element=\"80e4740d-5cba-45fb-b64c-25444672035a\")>,\n",
       " <selenium.webdriver.remote.webelement.WebElement (session=\"f0497f5f99f6c5cb90e5e5b4428c6beb\", element=\"7016aafd-33be-4a79-b1dd-fcfd1e1026bd\")>,\n",
       " <selenium.webdriver.remote.webelement.WebElement (session=\"f0497f5f99f6c5cb90e5e5b4428c6beb\", element=\"db50460d-5ed1-4c31-ba3c-850680790d6d\")>,\n",
       " <selenium.webdriver.remote.webelement.WebElement (session=\"f0497f5f99f6c5cb90e5e5b4428c6beb\", element=\"c3515359-1011-4224-866b-dd5798853be2\")>,\n",
       " <selenium.webdriver.remote.webelement.WebElement (session=\"f0497f5f99f6c5cb90e5e5b4428c6beb\", element=\"cae9440e-b287-4766-997d-a63b6dd143d8\")>,\n",
       " <selenium.webdriver.remote.webelement.WebElement (session=\"f0497f5f99f6c5cb90e5e5b4428c6beb\", element=\"588daf39-f2ef-4f34-9f69-41823b2280e0\")>,\n",
       " <selenium.webdriver.remote.webelement.WebElement (session=\"f0497f5f99f6c5cb90e5e5b4428c6beb\", element=\"92880265-f137-4559-81e5-4734b14c7d43\")>,\n",
       " <selenium.webdriver.remote.webelement.WebElement (session=\"f0497f5f99f6c5cb90e5e5b4428c6beb\", element=\"9326e8a8-1670-43e2-a5a9-dbd1601bb44a\")>,\n",
       " <selenium.webdriver.remote.webelement.WebElement (session=\"f0497f5f99f6c5cb90e5e5b4428c6beb\", element=\"6bde001b-ebae-4408-ae08-5f2a18dd0efd\")>,\n",
       " <selenium.webdriver.remote.webelement.WebElement (session=\"f0497f5f99f6c5cb90e5e5b4428c6beb\", element=\"52ceef16-f86f-428a-ab2b-ad6108e5e1ef\")>,\n",
       " <selenium.webdriver.remote.webelement.WebElement (session=\"f0497f5f99f6c5cb90e5e5b4428c6beb\", element=\"e7c3ede8-c1e9-476a-a2e0-d7f84c5277a0\")>,\n",
       " <selenium.webdriver.remote.webelement.WebElement (session=\"f0497f5f99f6c5cb90e5e5b4428c6beb\", element=\"bb278fff-b036-4752-bd7a-0b3e8b6c8111\")>,\n",
       " <selenium.webdriver.remote.webelement.WebElement (session=\"f0497f5f99f6c5cb90e5e5b4428c6beb\", element=\"fcc61330-2ae8-4ad0-a91a-42a7fc1b1118\")>,\n",
       " <selenium.webdriver.remote.webelement.WebElement (session=\"f0497f5f99f6c5cb90e5e5b4428c6beb\", element=\"25f1d4cb-85cc-4655-a1d0-a5d159b4eb72\")>,\n",
       " <selenium.webdriver.remote.webelement.WebElement (session=\"f0497f5f99f6c5cb90e5e5b4428c6beb\", element=\"537e243e-839f-4595-b99d-4c4f1185ef28\")>,\n",
       " <selenium.webdriver.remote.webelement.WebElement (session=\"f0497f5f99f6c5cb90e5e5b4428c6beb\", element=\"aeebd933-ebbf-4c7b-865a-795f1a46fc71\")>,\n",
       " <selenium.webdriver.remote.webelement.WebElement (session=\"f0497f5f99f6c5cb90e5e5b4428c6beb\", element=\"103c8085-6414-41b6-a849-0b68eec4e6c0\")>,\n",
       " <selenium.webdriver.remote.webelement.WebElement (session=\"f0497f5f99f6c5cb90e5e5b4428c6beb\", element=\"f69b0137-ae0d-4641-8a38-eef42cae82b8\")>,\n",
       " <selenium.webdriver.remote.webelement.WebElement (session=\"f0497f5f99f6c5cb90e5e5b4428c6beb\", element=\"35dae7c4-23a1-466c-8928-3fdbb8161a44\")>,\n",
       " <selenium.webdriver.remote.webelement.WebElement (session=\"f0497f5f99f6c5cb90e5e5b4428c6beb\", element=\"edf37997-f9f8-4da9-88a9-f199a5c4380d\")>,\n",
       " <selenium.webdriver.remote.webelement.WebElement (session=\"f0497f5f99f6c5cb90e5e5b4428c6beb\", element=\"c4f072ca-eea3-4278-8d3d-2b28aa52022b\")>,\n",
       " <selenium.webdriver.remote.webelement.WebElement (session=\"f0497f5f99f6c5cb90e5e5b4428c6beb\", element=\"24792fc6-ca3c-41cb-9a59-93c2a6646f0a\")>,\n",
       " <selenium.webdriver.remote.webelement.WebElement (session=\"f0497f5f99f6c5cb90e5e5b4428c6beb\", element=\"a42ec7b9-36ea-4424-b745-69110094b95c\")>,\n",
       " <selenium.webdriver.remote.webelement.WebElement (session=\"f0497f5f99f6c5cb90e5e5b4428c6beb\", element=\"3228747a-a9d8-42b5-983b-cc9437a2d63a\")>,\n",
       " <selenium.webdriver.remote.webelement.WebElement (session=\"f0497f5f99f6c5cb90e5e5b4428c6beb\", element=\"1f4148ea-f6ff-49ab-9383-011fabf3238c\")>,\n",
       " <selenium.webdriver.remote.webelement.WebElement (session=\"f0497f5f99f6c5cb90e5e5b4428c6beb\", element=\"7258130c-8721-4162-9f74-0d33a8036ac3\")>,\n",
       " <selenium.webdriver.remote.webelement.WebElement (session=\"f0497f5f99f6c5cb90e5e5b4428c6beb\", element=\"5036d0e5-663c-4424-9b5e-fd4657a4dd01\")>,\n",
       " <selenium.webdriver.remote.webelement.WebElement (session=\"f0497f5f99f6c5cb90e5e5b4428c6beb\", element=\"86e58699-1a0f-4957-9dd1-78a96c38d0cd\")>,\n",
       " <selenium.webdriver.remote.webelement.WebElement (session=\"f0497f5f99f6c5cb90e5e5b4428c6beb\", element=\"ace7d678-3356-42c9-8773-2b563be5c647\")>,\n",
       " <selenium.webdriver.remote.webelement.WebElement (session=\"f0497f5f99f6c5cb90e5e5b4428c6beb\", element=\"3e7d589b-ff68-4f80-91b6-615c23dae2ec\")>,\n",
       " <selenium.webdriver.remote.webelement.WebElement (session=\"f0497f5f99f6c5cb90e5e5b4428c6beb\", element=\"dc49b67c-b1cd-4fe0-a725-f16ddebf709e\")>,\n",
       " <selenium.webdriver.remote.webelement.WebElement (session=\"f0497f5f99f6c5cb90e5e5b4428c6beb\", element=\"df5ea7bb-d6d1-4be7-9418-82bbbdbebbfb\")>,\n",
       " <selenium.webdriver.remote.webelement.WebElement (session=\"f0497f5f99f6c5cb90e5e5b4428c6beb\", element=\"e43d301b-8354-469c-9a62-0397eb8154ef\")>,\n",
       " <selenium.webdriver.remote.webelement.WebElement (session=\"f0497f5f99f6c5cb90e5e5b4428c6beb\", element=\"fbc104ea-5788-485e-a568-3e711c7745ff\")>,\n",
       " <selenium.webdriver.remote.webelement.WebElement (session=\"f0497f5f99f6c5cb90e5e5b4428c6beb\", element=\"4d2fddfb-98c2-46dd-8c5a-f63f54384b14\")>,\n",
       " <selenium.webdriver.remote.webelement.WebElement (session=\"f0497f5f99f6c5cb90e5e5b4428c6beb\", element=\"5b812b74-fadd-4dcc-9b2c-40e39694de30\")>,\n",
       " <selenium.webdriver.remote.webelement.WebElement (session=\"f0497f5f99f6c5cb90e5e5b4428c6beb\", element=\"0f2720d5-692d-49d3-9375-b3f0db9e813f\")>,\n",
       " <selenium.webdriver.remote.webelement.WebElement (session=\"f0497f5f99f6c5cb90e5e5b4428c6beb\", element=\"0b8980b9-7d1a-4c35-a1d6-35cadb72e4f7\")>,\n",
       " <selenium.webdriver.remote.webelement.WebElement (session=\"f0497f5f99f6c5cb90e5e5b4428c6beb\", element=\"76d73ca5-cec5-4a07-b56a-d097f43982ba\")>,\n",
       " <selenium.webdriver.remote.webelement.WebElement (session=\"f0497f5f99f6c5cb90e5e5b4428c6beb\", element=\"1bfb1d93-4374-4523-bec9-ab3dc1210451\")>,\n",
       " <selenium.webdriver.remote.webelement.WebElement (session=\"f0497f5f99f6c5cb90e5e5b4428c6beb\", element=\"0bd54fee-273a-4b5c-b715-dc7d7590b6cb\")>,\n",
       " <selenium.webdriver.remote.webelement.WebElement (session=\"f0497f5f99f6c5cb90e5e5b4428c6beb\", element=\"7919ee63-e52a-4dd9-a259-7bbebae6c6a8\")>,\n",
       " <selenium.webdriver.remote.webelement.WebElement (session=\"f0497f5f99f6c5cb90e5e5b4428c6beb\", element=\"a3d0cf44-2f77-4acb-9cd8-74d86125e797\")>]"
      ]
     },
     "execution_count": 26,
     "metadata": {},
     "output_type": "execute_result"
    }
   ],
   "source": [
    "## checking the data\n",
    "job_locations"
   ]
  },
  {
   "cell_type": "code",
   "execution_count": 27,
   "id": "b30b55fc-e92b-44dc-8b84-a14c11e2b2c7",
   "metadata": {},
   "outputs": [],
   "source": [
    "job_location_list = []\n",
    "for oli in job_locations:\n",
    "    job_location_list.append(oli.text)"
   ]
  },
  {
   "cell_type": "code",
   "execution_count": 28,
   "id": "be57f9ad-e111-4b85-b53d-b5931808cc83",
   "metadata": {},
   "outputs": [
    {
     "data": {
      "text/plain": [
       "['0-3 Yrs',\n",
       " '3,50,000 - 4,50,000 PA.',\n",
       " 'Hyderabad/Secunderabad, Chennai, Bangalore/Bengaluru',\n",
       " '10-15 Yrs',\n",
       " 'Not disclosed',\n",
       " 'Mumbai, Bangalore/Bengaluru',\n",
       " '0-2 Yrs',\n",
       " 'Not disclosed',\n",
       " 'Bangalore/Bengaluru',\n",
       " '3-8 Yrs',\n",
       " 'Not disclosed',\n",
       " 'Mumbai, Bangalore/Bengaluru',\n",
       " '5-10 Yrs',\n",
       " 'Not disclosed',\n",
       " 'Bangalore/Bengaluru',\n",
       " '0-2 Yrs',\n",
       " '90,000 - 2,50,000 PA.',\n",
       " 'Coimbatore, Bangalore/Bengaluru, Trivandrum/Thiruvananthapuram',\n",
       " '0-1 Yrs',\n",
       " '50,000 - 70,000 PA.',\n",
       " 'Hyderabad/Secunderabad, Bangalore/Bengaluru',\n",
       " '0-2 Yrs',\n",
       " 'Not disclosed',\n",
       " 'Bangalore/Bengaluru',\n",
       " '2-4 Yrs',\n",
       " '3,25,000 - 4,75,000 PA.',\n",
       " 'Pune, Chennai, Bangalore/Bengaluru',\n",
       " '3-5 Yrs',\n",
       " 'Not disclosed',\n",
       " 'Bangalore/Bengaluru',\n",
       " '3-6 Yrs',\n",
       " 'Not disclosed',\n",
       " 'Bangalore/Bengaluru',\n",
       " '2-3 Yrs',\n",
       " '5,00,000 - 6,00,000 PA.',\n",
       " 'Bangalore/Bengaluru',\n",
       " '8-13 Yrs',\n",
       " 'Not disclosed',\n",
       " 'Bangalore/Bengaluru',\n",
       " '4-7 Yrs',\n",
       " 'Not disclosed',\n",
       " 'Bangalore/Bengaluru',\n",
       " '1-2 Yrs',\n",
       " 'Not disclosed',\n",
       " 'Bangalore/Bengaluru',\n",
       " '2-7 Yrs',\n",
       " '5,00,000 - 15,00,000 PA.',\n",
       " 'Bangalore/Bengaluru, Bangalore',\n",
       " '0-5 Yrs',\n",
       " 'Not disclosed',\n",
       " 'Bangalore/Bengaluru',\n",
       " '0-2 Yrs',\n",
       " 'Not disclosed',\n",
       " 'Bangalore/Bengaluru',\n",
       " '5-8 Yrs',\n",
       " '10,00,000 - 20,00,000 PA.',\n",
       " 'Bangalore/Bengaluru(2nd Phase JP Nagar)',\n",
       " 'Not disclosed']"
      ]
     },
     "execution_count": 28,
     "metadata": {},
     "output_type": "execute_result"
    }
   ],
   "source": [
    "job_location_list"
   ]
  },
  {
   "cell_type": "code",
   "execution_count": 29,
   "id": "ed092534-f1d9-41c1-9968-5308a6053ea1",
   "metadata": {},
   "outputs": [],
   "source": [
    "## let's filter and take only the job location using for loop\n",
    "job_loc = []\n",
    "for oli in range(2,len(job_location_list),3):\n",
    "    job_loc.append(job_location_list[oli])\n",
    "    "
   ]
  },
  {
   "cell_type": "code",
   "execution_count": 30,
   "id": "ea2e7004-310a-4709-9e65-05e78a06d6ef",
   "metadata": {},
   "outputs": [
    {
     "data": {
      "text/plain": [
       "['Hyderabad/Secunderabad, Chennai, Bangalore/Bengaluru',\n",
       " 'Mumbai, Bangalore/Bengaluru',\n",
       " 'Bangalore/Bengaluru',\n",
       " 'Mumbai, Bangalore/Bengaluru',\n",
       " 'Bangalore/Bengaluru',\n",
       " 'Coimbatore, Bangalore/Bengaluru, Trivandrum/Thiruvananthapuram',\n",
       " 'Hyderabad/Secunderabad, Bangalore/Bengaluru',\n",
       " 'Bangalore/Bengaluru',\n",
       " 'Pune, Chennai, Bangalore/Bengaluru',\n",
       " 'Bangalore/Bengaluru',\n",
       " 'Bangalore/Bengaluru',\n",
       " 'Bangalore/Bengaluru',\n",
       " 'Bangalore/Bengaluru',\n",
       " 'Bangalore/Bengaluru',\n",
       " 'Bangalore/Bengaluru',\n",
       " 'Bangalore/Bengaluru, Bangalore',\n",
       " 'Bangalore/Bengaluru',\n",
       " 'Bangalore/Bengaluru',\n",
       " 'Bangalore/Bengaluru(2nd Phase JP Nagar)']"
      ]
     },
     "execution_count": 30,
     "metadata": {},
     "output_type": "execute_result"
    }
   ],
   "source": [
    "job_loc"
   ]
  },
  {
   "cell_type": "code",
   "execution_count": 31,
   "id": "2299d0dc-443c-485c-91cb-bbb7f7c76481",
   "metadata": {},
   "outputs": [],
   "source": [
    "job_location_10 = job_loc[0:10]"
   ]
  },
  {
   "cell_type": "code",
   "execution_count": 33,
   "id": "b9e65d85-1931-495b-8e42-e637030e03e8",
   "metadata": {},
   "outputs": [
    {
     "data": {
      "text/plain": [
       "10"
      ]
     },
     "execution_count": 33,
     "metadata": {},
     "output_type": "execute_result"
    }
   ],
   "source": [
    "len(job_location_10)"
   ]
  },
  {
   "cell_type": "code",
   "execution_count": 34,
   "id": "eaeb364f-a9a1-47f6-a157-72f426a52abb",
   "metadata": {},
   "outputs": [],
   "source": [
    "## let's find the company's names\n",
    "company_name = driver.find_elements_by_xpath('//a[@class=\"subTitle ellipsis fleft\"]')"
   ]
  },
  {
   "cell_type": "code",
   "execution_count": 36,
   "id": "abbce3c3-80b0-4e4f-abda-232595981d36",
   "metadata": {},
   "outputs": [],
   "source": [
    "#company_name"
   ]
  },
  {
   "cell_type": "code",
   "execution_count": 37,
   "id": "cdc9da22-77a0-41db-9603-14f34c5b0d22",
   "metadata": {},
   "outputs": [],
   "source": [
    "company_name_list = []\n",
    "for oli in company_name:\n",
    "    company_name_list.append(oli.text)\n"
   ]
  },
  {
   "cell_type": "code",
   "execution_count": 38,
   "id": "e91b4d67-3bab-4977-9c60-1f4d687855c8",
   "metadata": {},
   "outputs": [
    {
     "data": {
      "text/plain": [
       "['Inflexion Analytix Private Limited',\n",
       " 'INTERTRUSTVITEOS CORPORATE AND FUND SERVICES PVT. LTD.',\n",
       " 'Dell International Services India Private Limited',\n",
       " 'INTERTRUST GROUP',\n",
       " 'IBM India Pvt. Limited',\n",
       " 'Mind Circus Innovation',\n",
       " 'Edubridgeindia',\n",
       " 'Flipkart Internet Private Limited',\n",
       " 'Quantsys',\n",
       " 'Flipkart Internet Private Limited',\n",
       " 'CONDUENT BUSINESS SERVICES INDIA LLP',\n",
       " 'Flipkart Internet Private Limited',\n",
       " 'Allegis Services India Pvt. Ltd.',\n",
       " 'Cognizant Technology Solutions India Pvt Ltd',\n",
       " 'Clarivate Analytics (TRCPL Projects Pvt Ltd.)',\n",
       " '2coms',\n",
       " 'Siemens Limited',\n",
       " 'Bright Money',\n",
       " 'Liventus, Inc.',\n",
       " 'ZapCom Solutions Pvt Ltd']"
      ]
     },
     "execution_count": 38,
     "metadata": {},
     "output_type": "execute_result"
    }
   ],
   "source": [
    "company_name_list"
   ]
  },
  {
   "cell_type": "code",
   "execution_count": 39,
   "id": "9dda24e6-2dc0-4f43-b74c-bea3240d4b18",
   "metadata": {},
   "outputs": [],
   "source": [
    "## selecting the first 10 companies names\n",
    "company_name_10 = company_name_list[0:10]"
   ]
  },
  {
   "cell_type": "code",
   "execution_count": 40,
   "id": "d32b2caa-7b36-4848-b481-0ae6bbc23bab",
   "metadata": {},
   "outputs": [
    {
     "data": {
      "text/plain": [
       "['Inflexion Analytix Private Limited',\n",
       " 'INTERTRUSTVITEOS CORPORATE AND FUND SERVICES PVT. LTD.',\n",
       " 'Dell International Services India Private Limited',\n",
       " 'INTERTRUST GROUP',\n",
       " 'IBM India Pvt. Limited',\n",
       " 'Mind Circus Innovation',\n",
       " 'Edubridgeindia',\n",
       " 'Flipkart Internet Private Limited',\n",
       " 'Quantsys',\n",
       " 'Flipkart Internet Private Limited']"
      ]
     },
     "execution_count": 40,
     "metadata": {},
     "output_type": "execute_result"
    }
   ],
   "source": [
    "company_name_10"
   ]
  },
  {
   "cell_type": "code",
   "execution_count": 41,
   "id": "93f7b3b8-1851-4411-89b9-01a96ddfe381",
   "metadata": {},
   "outputs": [],
   "source": [
    "## experience_required, it is already in the  job_location_list variable\n",
    "## let's used range() method and filter it.\n",
    "\n",
    "experience_required = []\n",
    "for oli in range(0,len(job_location_list),3):\n",
    "    experience_required.append(job_location_list[oli])\n",
    "\n"
   ]
  },
  {
   "cell_type": "code",
   "execution_count": 42,
   "id": "0b3d7be3-c5ad-4bec-befe-fa0c54def804",
   "metadata": {},
   "outputs": [
    {
     "data": {
      "text/plain": [
       "['0-3 Yrs',\n",
       " '10-15 Yrs',\n",
       " '0-2 Yrs',\n",
       " '3-8 Yrs',\n",
       " '5-10 Yrs',\n",
       " '0-2 Yrs',\n",
       " '0-1 Yrs',\n",
       " '0-2 Yrs',\n",
       " '2-4 Yrs',\n",
       " '3-5 Yrs',\n",
       " '3-6 Yrs',\n",
       " '2-3 Yrs',\n",
       " '8-13 Yrs',\n",
       " '4-7 Yrs',\n",
       " '1-2 Yrs',\n",
       " '2-7 Yrs',\n",
       " '0-5 Yrs',\n",
       " '0-2 Yrs',\n",
       " '5-8 Yrs',\n",
       " 'Not disclosed']"
      ]
     },
     "execution_count": 42,
     "metadata": {},
     "output_type": "execute_result"
    }
   ],
   "source": [
    "experience_required"
   ]
  },
  {
   "cell_type": "code",
   "execution_count": 43,
   "id": "01158990-5023-4a65-b583-9527c032d834",
   "metadata": {},
   "outputs": [],
   "source": [
    "## getting the first 10\n",
    "\n",
    "experience_required_10 = experience_required[0:10]"
   ]
  },
  {
   "cell_type": "code",
   "execution_count": 44,
   "id": "c2e97920-2af6-4b5f-826e-0edd94a435bb",
   "metadata": {},
   "outputs": [
    {
     "data": {
      "text/plain": [
       "['0-3 Yrs',\n",
       " '10-15 Yrs',\n",
       " '0-2 Yrs',\n",
       " '3-8 Yrs',\n",
       " '5-10 Yrs',\n",
       " '0-2 Yrs',\n",
       " '0-1 Yrs',\n",
       " '0-2 Yrs',\n",
       " '2-4 Yrs',\n",
       " '3-5 Yrs']"
      ]
     },
     "execution_count": 44,
     "metadata": {},
     "output_type": "execute_result"
    }
   ],
   "source": [
    "experience_required_10"
   ]
  },
  {
   "cell_type": "markdown",
   "id": "f8bdda1f-4eb5-411d-8ea5-f6a5209110f0",
   "metadata": {},
   "source": [
    "## Now we will make the data Frame"
   ]
  },
  {
   "cell_type": "code",
   "execution_count": 45,
   "id": "b644d2ab-c762-4844-8adf-2896d7ed1205",
   "metadata": {},
   "outputs": [],
   "source": [
    "data = pd.DataFrame({})"
   ]
  },
  {
   "cell_type": "code",
   "execution_count": 46,
   "id": "313803dc-7d02-4ae7-aa7b-924633f981d7",
   "metadata": {},
   "outputs": [],
   "source": [
    "data['Job_Title'] = job_location_10\n",
    "data['Job_Location'] = job_location_10\n",
    "data['Company_Name'] = company_name_10\n",
    "data['Experience_Required'] = experience_required_10"
   ]
  },
  {
   "cell_type": "code",
   "execution_count": 47,
   "id": "8f063d4d-46ed-4f6b-8d81-b0349019bf75",
   "metadata": {},
   "outputs": [
    {
     "data": {
      "text/html": [
       "<div>\n",
       "<style scoped>\n",
       "    .dataframe tbody tr th:only-of-type {\n",
       "        vertical-align: middle;\n",
       "    }\n",
       "\n",
       "    .dataframe tbody tr th {\n",
       "        vertical-align: top;\n",
       "    }\n",
       "\n",
       "    .dataframe thead th {\n",
       "        text-align: right;\n",
       "    }\n",
       "</style>\n",
       "<table border=\"1\" class=\"dataframe\">\n",
       "  <thead>\n",
       "    <tr style=\"text-align: right;\">\n",
       "      <th></th>\n",
       "      <th>Job_Title</th>\n",
       "      <th>Job_Location</th>\n",
       "      <th>Company_Name</th>\n",
       "      <th>Experience_Required</th>\n",
       "    </tr>\n",
       "  </thead>\n",
       "  <tbody>\n",
       "    <tr>\n",
       "      <th>0</th>\n",
       "      <td>Hyderabad/Secunderabad, Chennai, Bangalore/Ben...</td>\n",
       "      <td>Hyderabad/Secunderabad, Chennai, Bangalore/Ben...</td>\n",
       "      <td>Inflexion Analytix Private Limited</td>\n",
       "      <td>0-3 Yrs</td>\n",
       "    </tr>\n",
       "    <tr>\n",
       "      <th>1</th>\n",
       "      <td>Mumbai, Bangalore/Bengaluru</td>\n",
       "      <td>Mumbai, Bangalore/Bengaluru</td>\n",
       "      <td>INTERTRUSTVITEOS CORPORATE AND FUND SERVICES P...</td>\n",
       "      <td>10-15 Yrs</td>\n",
       "    </tr>\n",
       "    <tr>\n",
       "      <th>2</th>\n",
       "      <td>Bangalore/Bengaluru</td>\n",
       "      <td>Bangalore/Bengaluru</td>\n",
       "      <td>Dell International Services India Private Limited</td>\n",
       "      <td>0-2 Yrs</td>\n",
       "    </tr>\n",
       "    <tr>\n",
       "      <th>3</th>\n",
       "      <td>Mumbai, Bangalore/Bengaluru</td>\n",
       "      <td>Mumbai, Bangalore/Bengaluru</td>\n",
       "      <td>INTERTRUST GROUP</td>\n",
       "      <td>3-8 Yrs</td>\n",
       "    </tr>\n",
       "    <tr>\n",
       "      <th>4</th>\n",
       "      <td>Bangalore/Bengaluru</td>\n",
       "      <td>Bangalore/Bengaluru</td>\n",
       "      <td>IBM India Pvt. Limited</td>\n",
       "      <td>5-10 Yrs</td>\n",
       "    </tr>\n",
       "    <tr>\n",
       "      <th>5</th>\n",
       "      <td>Coimbatore, Bangalore/Bengaluru, Trivandrum/Th...</td>\n",
       "      <td>Coimbatore, Bangalore/Bengaluru, Trivandrum/Th...</td>\n",
       "      <td>Mind Circus Innovation</td>\n",
       "      <td>0-2 Yrs</td>\n",
       "    </tr>\n",
       "    <tr>\n",
       "      <th>6</th>\n",
       "      <td>Hyderabad/Secunderabad, Bangalore/Bengaluru</td>\n",
       "      <td>Hyderabad/Secunderabad, Bangalore/Bengaluru</td>\n",
       "      <td>Edubridgeindia</td>\n",
       "      <td>0-1 Yrs</td>\n",
       "    </tr>\n",
       "    <tr>\n",
       "      <th>7</th>\n",
       "      <td>Bangalore/Bengaluru</td>\n",
       "      <td>Bangalore/Bengaluru</td>\n",
       "      <td>Flipkart Internet Private Limited</td>\n",
       "      <td>0-2 Yrs</td>\n",
       "    </tr>\n",
       "    <tr>\n",
       "      <th>8</th>\n",
       "      <td>Pune, Chennai, Bangalore/Bengaluru</td>\n",
       "      <td>Pune, Chennai, Bangalore/Bengaluru</td>\n",
       "      <td>Quantsys</td>\n",
       "      <td>2-4 Yrs</td>\n",
       "    </tr>\n",
       "    <tr>\n",
       "      <th>9</th>\n",
       "      <td>Bangalore/Bengaluru</td>\n",
       "      <td>Bangalore/Bengaluru</td>\n",
       "      <td>Flipkart Internet Private Limited</td>\n",
       "      <td>3-5 Yrs</td>\n",
       "    </tr>\n",
       "  </tbody>\n",
       "</table>\n",
       "</div>"
      ],
      "text/plain": [
       "                                           Job_Title  \\\n",
       "0  Hyderabad/Secunderabad, Chennai, Bangalore/Ben...   \n",
       "1                        Mumbai, Bangalore/Bengaluru   \n",
       "2                                Bangalore/Bengaluru   \n",
       "3                        Mumbai, Bangalore/Bengaluru   \n",
       "4                                Bangalore/Bengaluru   \n",
       "5  Coimbatore, Bangalore/Bengaluru, Trivandrum/Th...   \n",
       "6        Hyderabad/Secunderabad, Bangalore/Bengaluru   \n",
       "7                                Bangalore/Bengaluru   \n",
       "8                 Pune, Chennai, Bangalore/Bengaluru   \n",
       "9                                Bangalore/Bengaluru   \n",
       "\n",
       "                                        Job_Location  \\\n",
       "0  Hyderabad/Secunderabad, Chennai, Bangalore/Ben...   \n",
       "1                        Mumbai, Bangalore/Bengaluru   \n",
       "2                                Bangalore/Bengaluru   \n",
       "3                        Mumbai, Bangalore/Bengaluru   \n",
       "4                                Bangalore/Bengaluru   \n",
       "5  Coimbatore, Bangalore/Bengaluru, Trivandrum/Th...   \n",
       "6        Hyderabad/Secunderabad, Bangalore/Bengaluru   \n",
       "7                                Bangalore/Bengaluru   \n",
       "8                 Pune, Chennai, Bangalore/Bengaluru   \n",
       "9                                Bangalore/Bengaluru   \n",
       "\n",
       "                                        Company_Name Experience_Required  \n",
       "0                 Inflexion Analytix Private Limited             0-3 Yrs  \n",
       "1  INTERTRUSTVITEOS CORPORATE AND FUND SERVICES P...           10-15 Yrs  \n",
       "2  Dell International Services India Private Limited             0-2 Yrs  \n",
       "3                                   INTERTRUST GROUP             3-8 Yrs  \n",
       "4                             IBM India Pvt. Limited            5-10 Yrs  \n",
       "5                             Mind Circus Innovation             0-2 Yrs  \n",
       "6                                     Edubridgeindia             0-1 Yrs  \n",
       "7                  Flipkart Internet Private Limited             0-2 Yrs  \n",
       "8                                           Quantsys             2-4 Yrs  \n",
       "9                  Flipkart Internet Private Limited             3-5 Yrs  "
      ]
     },
     "execution_count": 47,
     "metadata": {},
     "output_type": "execute_result"
    }
   ],
   "source": [
    "data"
   ]
  },
  {
   "cell_type": "markdown",
   "id": "fa148430-dde0-4e1c-b33f-54c32994b9ac",
   "metadata": {},
   "source": [
    "### ------------- ------------- ------------- -------------"
   ]
  },
  {
   "cell_type": "markdown",
   "id": "baec3b77-b7e6-4b0e-8cc7-0a89cbaab1c6",
   "metadata": {},
   "source": [
    "### Q2: Write a python program to scrape data for “Data Scientist” Job position in “Bangalore” location. You have to scrape the job-title, job-location, company_name, full job-description. You have to scrape first 10 jobs data."
   ]
  },
  {
   "cell_type": "markdown",
   "id": "502c2da5-5dd0-48b1-a53b-4cfd5f963da6",
   "metadata": {},
   "source": [
    "### This task will be done in following steps:\n",
    "### 1. first get the webpage https://www.naukri.com/\n",
    "### 2. Enter “Data Scientist” in “Skill,Designations,Companies” field and enter “Bangalore” in “enter the location” field.\n",
    "### 3. Then click the search button.\n",
    "### 4. Then scrape the data for the first 10 jobs results you get. 5. Finally create a dataframe of the scraped data.\n",
    "### Note- 1. All of the above steps have to be done in code. No step is to be done manually."
   ]
  },
  {
   "cell_type": "markdown",
   "id": "0c7ccd83-0219-4ee5-adff-1b83eaff7133",
   "metadata": {},
   "source": [
    "![](2.jpg)"
   ]
  },
  {
   "cell_type": "code",
   "execution_count": 48,
   "id": "bacbba81-8e06-43aa-aad7-a6de2f407bd4",
   "metadata": {},
   "outputs": [],
   "source": [
    "url1 = \" https://www.naukri.com/\"\n",
    "\n",
    "## opening the web page with the above url\n",
    "driver.get(url=url1)"
   ]
  },
  {
   "cell_type": "code",
   "execution_count": 80,
   "id": "cd5cdbaa-7293-4229-a59a-41f2d626a5f3",
   "metadata": {},
   "outputs": [],
   "source": [
    "## let's find the job skills (1)\n",
    "\n",
    "job_skill1 = driver.find_element_by_xpath('//input[@class=\"sugInp\"]')\n",
    "job_skill1.send_keys('Data Scientist')"
   ]
  },
  {
   "cell_type": "code",
   "execution_count": 81,
   "id": "07e434f9-2485-4bb1-bfc3-0467255a6116",
   "metadata": {},
   "outputs": [],
   "source": [
    "## let's find the job location \n",
    "\n",
    "job_location1 = driver.find_element_by_xpath('//input[@id=\"qsb-location-sugg\"]')\n",
    "job_location1.send_keys('Bangalore')\n"
   ]
  },
  {
   "cell_type": "code",
   "execution_count": 82,
   "id": "f7fe7d19-3c49-4c34-9308-34beecce5b42",
   "metadata": {},
   "outputs": [],
   "source": [
    "button_search1 = driver.find_element_by_xpath('//button[@class=\"btn\"]')\n",
    "button_search1.click()"
   ]
  },
  {
   "cell_type": "code",
   "execution_count": 52,
   "id": "47e32b26-c83c-4ca3-80dc-59b3c9cffbd7",
   "metadata": {},
   "outputs": [
    {
     "data": {
      "text/plain": [
       "[<selenium.webdriver.remote.webelement.WebElement (session=\"f0497f5f99f6c5cb90e5e5b4428c6beb\", element=\"af992a1b-29a0-43ba-927a-dc618fe02c1d\")>,\n",
       " <selenium.webdriver.remote.webelement.WebElement (session=\"f0497f5f99f6c5cb90e5e5b4428c6beb\", element=\"f402218b-902e-4272-9050-bacd2063476c\")>,\n",
       " <selenium.webdriver.remote.webelement.WebElement (session=\"f0497f5f99f6c5cb90e5e5b4428c6beb\", element=\"a1183854-5872-4dd8-b7b8-2475cfe52819\")>,\n",
       " <selenium.webdriver.remote.webelement.WebElement (session=\"f0497f5f99f6c5cb90e5e5b4428c6beb\", element=\"c6320dd2-c8e4-4397-9bf6-6565f85e6550\")>,\n",
       " <selenium.webdriver.remote.webelement.WebElement (session=\"f0497f5f99f6c5cb90e5e5b4428c6beb\", element=\"114ddb54-d704-4a4d-b0b6-b79d030a2693\")>,\n",
       " <selenium.webdriver.remote.webelement.WebElement (session=\"f0497f5f99f6c5cb90e5e5b4428c6beb\", element=\"7e163376-a312-40e3-b459-86f1b14afa95\")>,\n",
       " <selenium.webdriver.remote.webelement.WebElement (session=\"f0497f5f99f6c5cb90e5e5b4428c6beb\", element=\"f615bd41-5f57-483d-b443-e1373ac66c00\")>,\n",
       " <selenium.webdriver.remote.webelement.WebElement (session=\"f0497f5f99f6c5cb90e5e5b4428c6beb\", element=\"a32becc7-c748-46b3-8e26-f535bc14c660\")>,\n",
       " <selenium.webdriver.remote.webelement.WebElement (session=\"f0497f5f99f6c5cb90e5e5b4428c6beb\", element=\"96088949-f817-4e81-bbe6-75587d5537f6\")>,\n",
       " <selenium.webdriver.remote.webelement.WebElement (session=\"f0497f5f99f6c5cb90e5e5b4428c6beb\", element=\"bc748065-07e1-4a24-9222-39139d379437\")>,\n",
       " <selenium.webdriver.remote.webelement.WebElement (session=\"f0497f5f99f6c5cb90e5e5b4428c6beb\", element=\"917d1656-08e9-4e88-896f-76dd22a02b16\")>,\n",
       " <selenium.webdriver.remote.webelement.WebElement (session=\"f0497f5f99f6c5cb90e5e5b4428c6beb\", element=\"ad17fa26-1cd7-45aa-970f-56706eea29e6\")>,\n",
       " <selenium.webdriver.remote.webelement.WebElement (session=\"f0497f5f99f6c5cb90e5e5b4428c6beb\", element=\"63feb603-37cb-4f92-a472-cbcaeb0b429d\")>,\n",
       " <selenium.webdriver.remote.webelement.WebElement (session=\"f0497f5f99f6c5cb90e5e5b4428c6beb\", element=\"450cfb25-f0f7-4eda-9549-9df48a6489da\")>,\n",
       " <selenium.webdriver.remote.webelement.WebElement (session=\"f0497f5f99f6c5cb90e5e5b4428c6beb\", element=\"4d501a26-46dd-4e2c-8909-eebfa0cc8c93\")>,\n",
       " <selenium.webdriver.remote.webelement.WebElement (session=\"f0497f5f99f6c5cb90e5e5b4428c6beb\", element=\"42a6f1f6-bdeb-4e2a-a1f3-0bbd0a7e6abf\")>,\n",
       " <selenium.webdriver.remote.webelement.WebElement (session=\"f0497f5f99f6c5cb90e5e5b4428c6beb\", element=\"8d0e1157-5a72-480c-b162-d149f344ec0b\")>,\n",
       " <selenium.webdriver.remote.webelement.WebElement (session=\"f0497f5f99f6c5cb90e5e5b4428c6beb\", element=\"685b51f9-6bda-4ae7-b865-94ad3d2edd1e\")>,\n",
       " <selenium.webdriver.remote.webelement.WebElement (session=\"f0497f5f99f6c5cb90e5e5b4428c6beb\", element=\"13791c6f-a095-4993-8b74-e5d4aa8dccf9\")>,\n",
       " <selenium.webdriver.remote.webelement.WebElement (session=\"f0497f5f99f6c5cb90e5e5b4428c6beb\", element=\"9769f88c-669b-44ca-9921-9a75273371e1\")>]"
      ]
     },
     "execution_count": 52,
     "metadata": {},
     "output_type": "execute_result"
    }
   ],
   "source": [
    "## let's scrap the then jobs data title\n",
    "\n",
    "job_titles1 = driver.find_elements_by_xpath('//a[@class=\"title fw500 ellipsis\"]')\n",
    "\n",
    "job_titles1"
   ]
  },
  {
   "cell_type": "code",
   "execution_count": 53,
   "id": "549d1086-88d5-4056-900e-3e13b6cab284",
   "metadata": {},
   "outputs": [],
   "source": [
    "job_title_ =[]\n",
    "for oli in job_titles1:\n",
    "    job_title_.append(oli.text)"
   ]
  },
  {
   "cell_type": "code",
   "execution_count": 54,
   "id": "792b89b8-2a24-4378-ac95-7a7336f5b781",
   "metadata": {},
   "outputs": [
    {
     "data": {
      "text/plain": [
       "['Data Scientist',\n",
       " 'Data Scientist / Data Analyst -Business Analyst',\n",
       " 'Data Scientist: Advanced Analytics',\n",
       " 'Data Scientist',\n",
       " 'Senior Data Scientist',\n",
       " 'EXL - Senior Data Scientist, 5+ yrs, Mumbai / PUNE / BLR / Chennai',\n",
       " 'Senior Data Scientist',\n",
       " 'Sr Data Scientist',\n",
       " 'Senior Data Scientist',\n",
       " 'Data Scientist',\n",
       " 'Senior Data Scientist/ Tech Lead - SQL/ Python/ Big Data',\n",
       " 'Data Scientist',\n",
       " 'Data Scientist',\n",
       " 'Data Scientist',\n",
       " 'Data Scientist',\n",
       " 'Hiring Data Scientist',\n",
       " 'Data scientist',\n",
       " 'Principal Data Scientist',\n",
       " 'Data science , data scientist',\n",
       " 'DHS _ Hiring For Data Scientist - India']"
      ]
     },
     "execution_count": 54,
     "metadata": {},
     "output_type": "execute_result"
    }
   ],
   "source": [
    "job_title_"
   ]
  },
  {
   "cell_type": "code",
   "execution_count": 55,
   "id": "96e93fcf-f044-4410-a5a0-9f7da304a1fb",
   "metadata": {},
   "outputs": [
    {
     "data": {
      "text/plain": [
       "['Data Scientist',\n",
       " 'Data Scientist / Data Analyst -Business Analyst',\n",
       " 'Data Scientist: Advanced Analytics',\n",
       " 'Data Scientist',\n",
       " 'Senior Data Scientist',\n",
       " 'EXL - Senior Data Scientist, 5+ yrs, Mumbai / PUNE / BLR / Chennai',\n",
       " 'Senior Data Scientist',\n",
       " 'Sr Data Scientist',\n",
       " 'Senior Data Scientist',\n",
       " 'Data Scientist']"
      ]
     },
     "execution_count": 55,
     "metadata": {},
     "output_type": "execute_result"
    }
   ],
   "source": [
    "## finding the first 10 job titles\n",
    "job_title_10_ = job_title_[0:10]\n",
    "job_title_10_"
   ]
  },
  {
   "cell_type": "code",
   "execution_count": 64,
   "id": "44b1ab5f-ca37-4237-93c8-3fcd2e7ed8dc",
   "metadata": {},
   "outputs": [],
   "source": [
    "## let's find the job location\n",
    "job_location1 = driver.find_elements_by_xpath('//li[@class=\"fleft grey-text br2 placeHolderLi location\"]//span')\n",
    "\n"
   ]
  },
  {
   "cell_type": "code",
   "execution_count": 65,
   "id": "82b3b52e-c3a4-4de1-9eb9-5cae933d58fd",
   "metadata": {},
   "outputs": [
    {
     "data": {
      "text/plain": [
       "[<selenium.webdriver.remote.webelement.WebElement (session=\"f0497f5f99f6c5cb90e5e5b4428c6beb\", element=\"6c6a22bf-e998-4da1-a5f3-7ffec8c1c668\")>,\n",
       " <selenium.webdriver.remote.webelement.WebElement (session=\"f0497f5f99f6c5cb90e5e5b4428c6beb\", element=\"6442760b-dff1-47fd-b70e-b5506b2772fb\")>,\n",
       " <selenium.webdriver.remote.webelement.WebElement (session=\"f0497f5f99f6c5cb90e5e5b4428c6beb\", element=\"4cf538d6-5f29-4a2c-9410-ca968f64ef2f\")>,\n",
       " <selenium.webdriver.remote.webelement.WebElement (session=\"f0497f5f99f6c5cb90e5e5b4428c6beb\", element=\"be5c9702-d4db-43ba-9d52-d522d02030ba\")>,\n",
       " <selenium.webdriver.remote.webelement.WebElement (session=\"f0497f5f99f6c5cb90e5e5b4428c6beb\", element=\"d459157a-325a-407d-9c62-9c511b8788fc\")>,\n",
       " <selenium.webdriver.remote.webelement.WebElement (session=\"f0497f5f99f6c5cb90e5e5b4428c6beb\", element=\"c19d889d-0261-40e2-9c11-ac20dca60a53\")>,\n",
       " <selenium.webdriver.remote.webelement.WebElement (session=\"f0497f5f99f6c5cb90e5e5b4428c6beb\", element=\"4e9b786e-9c9c-46e1-99df-c7d327d09cf2\")>,\n",
       " <selenium.webdriver.remote.webelement.WebElement (session=\"f0497f5f99f6c5cb90e5e5b4428c6beb\", element=\"e1e05f39-9944-4a72-ae94-a238775c3b07\")>,\n",
       " <selenium.webdriver.remote.webelement.WebElement (session=\"f0497f5f99f6c5cb90e5e5b4428c6beb\", element=\"b99654c8-4d9f-43a3-a777-e0283b226af0\")>,\n",
       " <selenium.webdriver.remote.webelement.WebElement (session=\"f0497f5f99f6c5cb90e5e5b4428c6beb\", element=\"a683a6e3-2970-4e27-8cee-d347d5cb8113\")>,\n",
       " <selenium.webdriver.remote.webelement.WebElement (session=\"f0497f5f99f6c5cb90e5e5b4428c6beb\", element=\"6d7af3e1-8fbd-474f-9602-db3e57c74074\")>,\n",
       " <selenium.webdriver.remote.webelement.WebElement (session=\"f0497f5f99f6c5cb90e5e5b4428c6beb\", element=\"79417086-c9c6-4b99-a446-8e67aee739c3\")>,\n",
       " <selenium.webdriver.remote.webelement.WebElement (session=\"f0497f5f99f6c5cb90e5e5b4428c6beb\", element=\"80cdd0f6-0d35-49a3-a136-8007772c87ea\")>,\n",
       " <selenium.webdriver.remote.webelement.WebElement (session=\"f0497f5f99f6c5cb90e5e5b4428c6beb\", element=\"4d3ddf16-30ed-4d7d-9a02-99d4cb2fee27\")>,\n",
       " <selenium.webdriver.remote.webelement.WebElement (session=\"f0497f5f99f6c5cb90e5e5b4428c6beb\", element=\"00259e75-cf3a-4bfd-b99a-c4692cf7e0b2\")>,\n",
       " <selenium.webdriver.remote.webelement.WebElement (session=\"f0497f5f99f6c5cb90e5e5b4428c6beb\", element=\"599d357b-219a-4992-aca6-45d6a55a0c30\")>,\n",
       " <selenium.webdriver.remote.webelement.WebElement (session=\"f0497f5f99f6c5cb90e5e5b4428c6beb\", element=\"cc93b0b1-3653-4702-ac1c-aa78d510784b\")>,\n",
       " <selenium.webdriver.remote.webelement.WebElement (session=\"f0497f5f99f6c5cb90e5e5b4428c6beb\", element=\"eefeb379-5e3b-4856-bc31-fdda400c0be0\")>,\n",
       " <selenium.webdriver.remote.webelement.WebElement (session=\"f0497f5f99f6c5cb90e5e5b4428c6beb\", element=\"e057cdfd-9911-4b94-877c-42193785027b\")>,\n",
       " <selenium.webdriver.remote.webelement.WebElement (session=\"f0497f5f99f6c5cb90e5e5b4428c6beb\", element=\"badbb7ce-8318-4464-948f-8c19d6d8b607\")>]"
      ]
     },
     "execution_count": 65,
     "metadata": {},
     "output_type": "execute_result"
    }
   ],
   "source": [
    "job_location1"
   ]
  },
  {
   "cell_type": "code",
   "execution_count": 66,
   "id": "ed9fcf5f-3454-481d-95f2-f5c9e4074c81",
   "metadata": {},
   "outputs": [],
   "source": [
    "job_location_ = []\n",
    "for oli in job_location1:\n",
    "    job_location_.append(oli.text)"
   ]
  },
  {
   "cell_type": "code",
   "execution_count": 67,
   "id": "c4a85895-9afa-481a-a0d8-c98f26eda53c",
   "metadata": {},
   "outputs": [
    {
     "data": {
      "text/plain": [
       "['Bangalore/Bengaluru',\n",
       " 'Hyderabad/Secunderabad, Chennai, Bangalore/Bengaluru',\n",
       " 'Bangalore/Bengaluru',\n",
       " 'Bangalore/Bengaluru',\n",
       " 'Hyderabad/Secunderabad, Gurgaon/Gurugram, Bangalore/Bengaluru',\n",
       " 'Pune, Chennai, Bangalore/Bengaluru, Delhi / NCR',\n",
       " 'Bangalore/Bengaluru',\n",
       " 'Bangalore/Bengaluru',\n",
       " 'Bangalore/Bengaluru',\n",
       " 'Bangalore/Bengaluru',\n",
       " 'Pune, Chennai, Bangalore/Bengaluru',\n",
       " 'Bangalore/Bengaluru',\n",
       " 'Noida, Gurgaon/Gurugram, Bangalore/Bengaluru, Delhi / NCR',\n",
       " 'Bangalore/Bengaluru, Mumbai (All Areas)',\n",
       " 'Bangalore/Bengaluru',\n",
       " 'Bangalore/Bengaluru(5th block Koramangala)',\n",
       " 'Bangalore/Bengaluru',\n",
       " 'Bangalore/Bengaluru',\n",
       " 'Bangalore/Bengaluru',\n",
       " 'Bangalore/Bengaluru']"
      ]
     },
     "execution_count": 67,
     "metadata": {},
     "output_type": "execute_result"
    }
   ],
   "source": [
    "job_location_ "
   ]
  },
  {
   "cell_type": "code",
   "execution_count": 68,
   "id": "3d8cb015-20de-4e15-9954-695cb82dbdb5",
   "metadata": {},
   "outputs": [
    {
     "data": {
      "text/plain": [
       "['Bangalore/Bengaluru',\n",
       " 'Hyderabad/Secunderabad, Chennai, Bangalore/Bengaluru',\n",
       " 'Bangalore/Bengaluru',\n",
       " 'Bangalore/Bengaluru',\n",
       " 'Hyderabad/Secunderabad, Gurgaon/Gurugram, Bangalore/Bengaluru',\n",
       " 'Pune, Chennai, Bangalore/Bengaluru, Delhi / NCR',\n",
       " 'Bangalore/Bengaluru',\n",
       " 'Bangalore/Bengaluru',\n",
       " 'Bangalore/Bengaluru',\n",
       " 'Bangalore/Bengaluru']"
      ]
     },
     "execution_count": 68,
     "metadata": {},
     "output_type": "execute_result"
    }
   ],
   "source": [
    "## let's get the first 10 \n",
    "job_location_10 = job_location_[0:10]\n",
    "job_location_10"
   ]
  },
  {
   "cell_type": "code",
   "execution_count": 74,
   "id": "ab62afa9-14ec-45ad-9856-8e88e048aeaf",
   "metadata": {},
   "outputs": [],
   "source": [
    "## let's find the company's names\n",
    "company_names = driver.find_elements_by_xpath('//a[@class=\"subTitle ellipsis fleft\"]')"
   ]
  },
  {
   "cell_type": "code",
   "execution_count": 75,
   "id": "a0e26a30-c071-41db-882b-f3e3fe23623c",
   "metadata": {},
   "outputs": [],
   "source": [
    "company_name_ = []\n",
    "for oli in company_names:\n",
    "    company_name_.append(oli.text)\n"
   ]
  },
  {
   "cell_type": "code",
   "execution_count": 76,
   "id": "452641e6-6ec0-45bd-a7c3-2ce03e1feb21",
   "metadata": {},
   "outputs": [
    {
     "data": {
      "text/plain": [
       "['Flipkart Internet Private Limited',\n",
       " 'Inflexion Analytix Private Limited',\n",
       " 'IBM India Pvt. Limited',\n",
       " 'IBM India Pvt. Limited',\n",
       " 'inVentiv International Pharma Services Pvt. Ltd.',\n",
       " 'EXL Service',\n",
       " 'Superior Group',\n",
       " 'FabHotel Aay Kay Model Town',\n",
       " 'ORMAE (Operations Research Machine learning & Analytics Experts LLP)',\n",
       " 'Applied Materials',\n",
       " 'Exploro Solutions',\n",
       " 'Center for Study of Science, Technology and Policy',\n",
       " 'Software Data India Ltd.',\n",
       " 'Vision Beyond Resources India Private Limited',\n",
       " 'Blue Ocean Catalyst Private Limited',\n",
       " 'TYA Business Solutions Private Limited',\n",
       " 'Superior Group',\n",
       " 'Superior Group',\n",
       " 'Stalwart Management Consulting',\n",
       " 'DeliverHealth Solutions']"
      ]
     },
     "execution_count": 76,
     "metadata": {},
     "output_type": "execute_result"
    }
   ],
   "source": [
    "company_name_"
   ]
  },
  {
   "cell_type": "code",
   "execution_count": 77,
   "id": "1873093c-5d6a-4224-bdf0-68d5149d07e0",
   "metadata": {},
   "outputs": [],
   "source": [
    "company_name_10 = company_name_[0:10]"
   ]
  },
  {
   "cell_type": "code",
   "execution_count": 78,
   "id": "74ef5c99-e547-4754-8740-a934cba1715e",
   "metadata": {},
   "outputs": [
    {
     "data": {
      "text/plain": [
       "['Flipkart Internet Private Limited',\n",
       " 'Inflexion Analytix Private Limited',\n",
       " 'IBM India Pvt. Limited',\n",
       " 'IBM India Pvt. Limited',\n",
       " 'inVentiv International Pharma Services Pvt. Ltd.',\n",
       " 'EXL Service',\n",
       " 'Superior Group',\n",
       " 'FabHotel Aay Kay Model Town',\n",
       " 'ORMAE (Operations Research Machine learning & Analytics Experts LLP)',\n",
       " 'Applied Materials']"
      ]
     },
     "execution_count": 78,
     "metadata": {},
     "output_type": "execute_result"
    }
   ],
   "source": [
    "company_name_10"
   ]
  },
  {
   "cell_type": "code",
   "execution_count": 83,
   "id": "124914a6-6914-4c5a-8654-34acb8fe351f",
   "metadata": {},
   "outputs": [
    {
     "data": {
      "text/plain": [
       "[<selenium.webdriver.remote.webelement.WebElement (session=\"f0497f5f99f6c5cb90e5e5b4428c6beb\", element=\"a04e6976-b125-418c-bc30-892ea898b08a\")>,\n",
       " <selenium.webdriver.remote.webelement.WebElement (session=\"f0497f5f99f6c5cb90e5e5b4428c6beb\", element=\"526e6d54-1d37-4c43-a2bc-64f601a7ca8e\")>,\n",
       " <selenium.webdriver.remote.webelement.WebElement (session=\"f0497f5f99f6c5cb90e5e5b4428c6beb\", element=\"eb502ac0-2fe1-423d-b005-f3883bce8a56\")>,\n",
       " <selenium.webdriver.remote.webelement.WebElement (session=\"f0497f5f99f6c5cb90e5e5b4428c6beb\", element=\"64130327-3aef-49c9-b2f3-db3f0018a172\")>,\n",
       " <selenium.webdriver.remote.webelement.WebElement (session=\"f0497f5f99f6c5cb90e5e5b4428c6beb\", element=\"b1f6b055-ee09-474b-aa24-f9f14743a91b\")>,\n",
       " <selenium.webdriver.remote.webelement.WebElement (session=\"f0497f5f99f6c5cb90e5e5b4428c6beb\", element=\"e088db7d-cf1a-4b9e-99fb-f0601f11300b\")>,\n",
       " <selenium.webdriver.remote.webelement.WebElement (session=\"f0497f5f99f6c5cb90e5e5b4428c6beb\", element=\"5028de0c-0448-4a69-a2ca-9b4238c6d204\")>,\n",
       " <selenium.webdriver.remote.webelement.WebElement (session=\"f0497f5f99f6c5cb90e5e5b4428c6beb\", element=\"8cbe4c0e-7354-4741-83a8-2b40143f9c48\")>,\n",
       " <selenium.webdriver.remote.webelement.WebElement (session=\"f0497f5f99f6c5cb90e5e5b4428c6beb\", element=\"66994d63-ed2f-4a40-bb9f-96a43b6154d8\")>,\n",
       " <selenium.webdriver.remote.webelement.WebElement (session=\"f0497f5f99f6c5cb90e5e5b4428c6beb\", element=\"25c2cd9a-2c00-49a9-a63d-4778bed7de80\")>,\n",
       " <selenium.webdriver.remote.webelement.WebElement (session=\"f0497f5f99f6c5cb90e5e5b4428c6beb\", element=\"e7772388-6430-4bc4-922b-c6da68bae9bb\")>,\n",
       " <selenium.webdriver.remote.webelement.WebElement (session=\"f0497f5f99f6c5cb90e5e5b4428c6beb\", element=\"c9b32734-b990-468b-b054-0daaa8cd8d77\")>,\n",
       " <selenium.webdriver.remote.webelement.WebElement (session=\"f0497f5f99f6c5cb90e5e5b4428c6beb\", element=\"f0587661-1bb0-4816-8733-81acaeddcff3\")>,\n",
       " <selenium.webdriver.remote.webelement.WebElement (session=\"f0497f5f99f6c5cb90e5e5b4428c6beb\", element=\"feb91366-66c7-446b-b740-0d399da6f62c\")>,\n",
       " <selenium.webdriver.remote.webelement.WebElement (session=\"f0497f5f99f6c5cb90e5e5b4428c6beb\", element=\"deb974a1-5d5f-4e07-bcf6-a60af32557a3\")>,\n",
       " <selenium.webdriver.remote.webelement.WebElement (session=\"f0497f5f99f6c5cb90e5e5b4428c6beb\", element=\"f388b624-a2cb-4958-995a-ec7246e2a3f1\")>,\n",
       " <selenium.webdriver.remote.webelement.WebElement (session=\"f0497f5f99f6c5cb90e5e5b4428c6beb\", element=\"71673977-49de-4380-a372-56db4f8f310d\")>,\n",
       " <selenium.webdriver.remote.webelement.WebElement (session=\"f0497f5f99f6c5cb90e5e5b4428c6beb\", element=\"5ba92f4d-585b-4406-9378-e864983d3cf2\")>,\n",
       " <selenium.webdriver.remote.webelement.WebElement (session=\"f0497f5f99f6c5cb90e5e5b4428c6beb\", element=\"ea6c44ec-22b3-4826-be48-30ec0f54abb3\")>,\n",
       " <selenium.webdriver.remote.webelement.WebElement (session=\"f0497f5f99f6c5cb90e5e5b4428c6beb\", element=\"4232c4f6-9b99-48a8-976d-e56acf5b0b1d\")>]"
      ]
     },
     "execution_count": 83,
     "metadata": {},
     "output_type": "execute_result"
    }
   ],
   "source": [
    "## let's find the job descriptions\n",
    "\n",
    "\n",
    "job_titles1 = driver.find_elements_by_xpath('//a[@class=\"title fw500 ellipsis\"]')\n",
    "\n",
    "job_titles1"
   ]
  },
  {
   "cell_type": "code",
   "execution_count": 84,
   "id": "34071ad3-aa2a-4a30-951b-84740bab553a",
   "metadata": {},
   "outputs": [],
   "source": [
    "## let's get jobs url first\n",
    "job_url =[]\n",
    "for oli in job_titles1:\n",
    "    job_url.append(oli.get_attribute('href'))\n",
    "    "
   ]
  },
  {
   "cell_type": "code",
   "execution_count": 85,
   "id": "9a1b4cab-bc9f-4156-9a7e-80650900a6b6",
   "metadata": {},
   "outputs": [
    {
     "data": {
      "text/plain": [
       "['https://www.naukri.com/job-listings-data-scientist-data-analyst-business-analyst-inflexion-analytix-private-limited-hyderabad-secunderabad-chennai-bangalore-bengaluru-0-to-3-years-020721003625?src=jobsearchDesk&sid=16258192090564020_1&xp=1&px=1',\n",
       " 'https://www.naukri.com/job-listings-data-scientist-software-data-india-ltd-noida-gurgaon-gurugram-bangalore-bengaluru-delhi-ncr-8-to-10-years-180621003560?src=jobsearchDesk&sid=16258192090564020_1&xp=2&px=1',\n",
       " 'https://www.naukri.com/job-listings-data-scientist-applied-materials-india-private-limited-bangalore-bengaluru-5-to-10-years-090721902434?src=jobsearchDesk&sid=16258192090564020_1&xp=3&px=1',\n",
       " 'https://www.naukri.com/job-listings-senior-data-scientist-inventiv-international-pharma-services-pvt-ltd-hyderabad-secunderabad-gurgaon-gurugram-bangalore-bengaluru-3-to-6-years-090721000064?src=jobsearchDesk&sid=16258192090564020_1&xp=4&px=1',\n",
       " 'https://www.naukri.com/job-listings-data-scientist-ibm-india-pvt-limited-bangalore-bengaluru-3-to-6-years-080721906014?src=jobsearchDesk&sid=16258192090564020_1&xp=5&px=1',\n",
       " 'https://www.naukri.com/job-listings-data-scientist-flipkart-internet-private-limited-bangalore-bengaluru-0-to-5-years-080721904425?src=jobsearchDesk&sid=16258192090564020_1&xp=6&px=1',\n",
       " 'https://www.naukri.com/job-listings-data-scientist-center-for-study-of-science-technology-and-policy-bangalore-bengaluru-2-to-4-years-080721501346?src=jobsearchDesk&sid=16258192090564020_1&xp=7&px=1',\n",
       " 'https://www.naukri.com/job-listings-data-scientist-blue-ocean-catalyst-private-limited-bangalore-bengaluru-2-to-6-years-080721500490?src=jobsearchDesk&sid=16258192090564020_1&xp=8&px=1',\n",
       " 'https://www.naukri.com/job-listings-data-scientist-vision-beyond-resources-india-private-limited-bangalore-bengaluru-mumbai-all-areas-10-to-19-years-080721006482?src=jobsearchDesk&sid=16258192090564020_1&xp=9&px=1',\n",
       " 'https://www.naukri.com/job-listings-exl-senior-data-scientist-5-yrs-mumbai-pune-blr-chennai-exl-service-pune-chennai-bangalore-bengaluru-delhi-ncr-5-to-10-years-080721005255?src=jobsearchDesk&sid=16258192090564020_1&xp=10&px=1',\n",
       " 'https://www.naukri.com/job-listings-data-scientist-advanced-analytics-ibm-india-pvt-limited-bangalore-bengaluru-5-to-10-years-070721908032?src=jobsearchDesk&sid=16258192090564020_1&xp=11&px=1',\n",
       " 'https://www.naukri.com/job-listings-senior-data-scientist-superior-group-bangalore-bengaluru-4-to-9-years-070721500778?src=jobsearchDesk&sid=16258192090564020_1&xp=12&px=1',\n",
       " 'https://www.naukri.com/job-listings-sr-data-scientist-fabhotel-aay-kay-model-town-bangalore-bengaluru-2-to-5-years-070721500535?src=jobsearchDesk&sid=16258192090564020_1&xp=13&px=1',\n",
       " 'https://www.naukri.com/job-listings-hiring-data-scientist-tya-business-solutions-private-limited-bangalore-bengaluru-4-to-6-years-090721002695?src=jobsearchDesk&sid=16258192090564020_1&xp=14&px=1',\n",
       " 'https://www.naukri.com/job-listings-dhs-hiring-for-data-scientist-india-deliverhealth-solutions-bangalore-bengaluru-1-to-6-years-080721003439?src=jobsearchDesk&sid=16258192090564020_1&xp=15&px=1',\n",
       " 'https://www.naukri.com/job-listings-data-scientist-superior-group-bangalore-bengaluru-3-to-8-years-070721500780?src=jobsearchDesk&sid=16258192090564020_1&xp=16&px=1',\n",
       " 'https://www.naukri.com/job-listings-principal-data-scientist-superior-group-bangalore-bengaluru-3-to-10-years-070721500779?src=jobsearchDesk&sid=16258192090564020_1&xp=17&px=1',\n",
       " 'https://www.naukri.com/job-listings-data-science-data-scientist-stalwart-management-consulting-bangalore-bengaluru-5-to-10-years-070721500743?src=jobsearchDesk&sid=16258192090564020_1&xp=18&px=1',\n",
       " 'https://www.naukri.com/job-listings-senior-data-scientist-ormae-operations-research-machine-learning-analytics-experts-llp-bangalore-bengaluru-5-to-10-years-070721500357?src=jobsearchDesk&sid=16258192090564020_1&xp=19&px=1',\n",
       " 'https://www.naukri.com/job-listings-hiring-java-programmers-and-data-scientists-sk-vedainfo-universal-technologies-pvt-ltd-hyderabad-secunderabad-bangalore-bengaluru-2-to-4-years-230521001057?src=jobsearchDesk&sid=16258192090564020_1&xp=20&px=1']"
      ]
     },
     "execution_count": 85,
     "metadata": {},
     "output_type": "execute_result"
    }
   ],
   "source": [
    "job_url"
   ]
  },
  {
   "cell_type": "code",
   "execution_count": 93,
   "id": "dfb091f9-7e3a-437f-8079-ffa2341c82e5",
   "metadata": {},
   "outputs": [],
   "source": [
    "job_descrition = []\n",
    "for oli in job_url:\n",
    "    time.sleep(3)\n",
    "    driver.get(oli)\n",
    "    jo_desc= driver.find_elements_by_xpath('//section[@class=\"job-desc\"]')\n",
    "    for i in jo_desc:\n",
    "        job_descrition.append(i.text.replace('\\n',''))\n",
    "    "
   ]
  },
  {
   "cell_type": "code",
   "execution_count": 99,
   "id": "68d3ae9d-439a-4cd3-9b93-0a4c40ffddcc",
   "metadata": {},
   "outputs": [],
   "source": [
    "#job_descrition"
   ]
  },
  {
   "cell_type": "code",
   "execution_count": 95,
   "id": "d9836474-340b-4132-8ab2-e10b9717ead0",
   "metadata": {},
   "outputs": [
    {
     "data": {
      "text/plain": [
       "16"
      ]
     },
     "execution_count": 95,
     "metadata": {},
     "output_type": "execute_result"
    }
   ],
   "source": [
    "len(job_descrition)"
   ]
  },
  {
   "cell_type": "code",
   "execution_count": 96,
   "id": "46ba4539-ee80-4b0c-8362-dccf8cdd4ff1",
   "metadata": {},
   "outputs": [],
   "source": [
    "\n",
    "## let's get the first 10 description\n",
    "\n",
    "job_descrition_10 = job_descrition[0:10]"
   ]
  },
  {
   "cell_type": "code",
   "execution_count": 100,
   "id": "abeafd8c-1f7f-4380-95a1-867c9f15cb03",
   "metadata": {},
   "outputs": [],
   "source": [
    "#job_descrition_10"
   ]
  },
  {
   "cell_type": "markdown",
   "id": "401bfbaa-bbda-4b1a-914e-6d5174bcd9ae",
   "metadata": {},
   "source": [
    "## let's make our data frame"
   ]
  },
  {
   "cell_type": "code",
   "execution_count": 98,
   "id": "c1aec1f3-ef97-4adb-b573-07c1d3ae5cc5",
   "metadata": {},
   "outputs": [],
   "source": [
    "data_ = pd.DataFrame({})"
   ]
  },
  {
   "cell_type": "code",
   "execution_count": 101,
   "id": "6f14b7bf-4c32-498f-a7c1-931e096126d8",
   "metadata": {},
   "outputs": [],
   "source": [
    "data_['Job_Title'] = job_title_10_\n",
    "data_['Job_Location'] = job_location_10\n",
    "data_['Company_Name'] = company_name_10\n",
    "data_['Job_Description'] = job_descrition_10"
   ]
  },
  {
   "cell_type": "code",
   "execution_count": 102,
   "id": "f4bfc76c-9780-46ec-bd28-e1413e5fac82",
   "metadata": {},
   "outputs": [
    {
     "data": {
      "text/html": [
       "<div>\n",
       "<style scoped>\n",
       "    .dataframe tbody tr th:only-of-type {\n",
       "        vertical-align: middle;\n",
       "    }\n",
       "\n",
       "    .dataframe tbody tr th {\n",
       "        vertical-align: top;\n",
       "    }\n",
       "\n",
       "    .dataframe thead th {\n",
       "        text-align: right;\n",
       "    }\n",
       "</style>\n",
       "<table border=\"1\" class=\"dataframe\">\n",
       "  <thead>\n",
       "    <tr style=\"text-align: right;\">\n",
       "      <th></th>\n",
       "      <th>Job_Title</th>\n",
       "      <th>Job_Location</th>\n",
       "      <th>Company_Name</th>\n",
       "      <th>Job_Description</th>\n",
       "    </tr>\n",
       "  </thead>\n",
       "  <tbody>\n",
       "    <tr>\n",
       "      <th>0</th>\n",
       "      <td>Data Scientist</td>\n",
       "      <td>Bangalore/Bengaluru</td>\n",
       "      <td>Flipkart Internet Private Limited</td>\n",
       "      <td>Job descriptionJob descriptionJob Role: Data S...</td>\n",
       "    </tr>\n",
       "    <tr>\n",
       "      <th>1</th>\n",
       "      <td>Data Scientist / Data Analyst -Business Analyst</td>\n",
       "      <td>Hyderabad/Secunderabad, Chennai, Bangalore/Ben...</td>\n",
       "      <td>Inflexion Analytix Private Limited</td>\n",
       "      <td>Job descriptionUrgent job-need with an IT MNC ...</td>\n",
       "    </tr>\n",
       "    <tr>\n",
       "      <th>2</th>\n",
       "      <td>Data Scientist: Advanced Analytics</td>\n",
       "      <td>Bangalore/Bengaluru</td>\n",
       "      <td>IBM India Pvt. Limited</td>\n",
       "      <td>Job descriptionAbout the teamThe Data Sciences...</td>\n",
       "    </tr>\n",
       "    <tr>\n",
       "      <th>3</th>\n",
       "      <td>Data Scientist</td>\n",
       "      <td>Bangalore/Bengaluru</td>\n",
       "      <td>IBM India Pvt. Limited</td>\n",
       "      <td>Job descriptionData Scientist-AI and Digital L...</td>\n",
       "    </tr>\n",
       "    <tr>\n",
       "      <th>4</th>\n",
       "      <td>Senior Data Scientist</td>\n",
       "      <td>Hyderabad/Secunderabad, Gurgaon/Gurugram, Bang...</td>\n",
       "      <td>inVentiv International Pharma Services Pvt. Ltd.</td>\n",
       "      <td>Job descriptionResponsible for scoping, develo...</td>\n",
       "    </tr>\n",
       "    <tr>\n",
       "      <th>5</th>\n",
       "      <td>EXL - Senior Data Scientist, 5+ yrs, Mumbai / ...</td>\n",
       "      <td>Pune, Chennai, Bangalore/Bengaluru, Delhi / NCR</td>\n",
       "      <td>EXL Service</td>\n",
       "      <td>Job descriptionRoles and ResponsibilitiesIdent...</td>\n",
       "    </tr>\n",
       "    <tr>\n",
       "      <th>6</th>\n",
       "      <td>Senior Data Scientist</td>\n",
       "      <td>Bangalore/Bengaluru</td>\n",
       "      <td>Superior Group</td>\n",
       "      <td>Job descriptionMinimum Qualifications: (Specif...</td>\n",
       "    </tr>\n",
       "    <tr>\n",
       "      <th>7</th>\n",
       "      <td>Sr Data Scientist</td>\n",
       "      <td>Bangalore/Bengaluru</td>\n",
       "      <td>FabHotel Aay Kay Model Town</td>\n",
       "      <td>Job descriptionKey Responsibilities:Provide ad...</td>\n",
       "    </tr>\n",
       "    <tr>\n",
       "      <th>8</th>\n",
       "      <td>Senior Data Scientist</td>\n",
       "      <td>Bangalore/Bengaluru</td>\n",
       "      <td>ORMAE (Operations Research Machine learning &amp; ...</td>\n",
       "      <td>Job descriptionAs as Senior Data Scientist, yo...</td>\n",
       "    </tr>\n",
       "    <tr>\n",
       "      <th>9</th>\n",
       "      <td>Data Scientist</td>\n",
       "      <td>Bangalore/Bengaluru</td>\n",
       "      <td>Applied Materials</td>\n",
       "      <td>Job descriptionA consistent record of using pr...</td>\n",
       "    </tr>\n",
       "  </tbody>\n",
       "</table>\n",
       "</div>"
      ],
      "text/plain": [
       "                                           Job_Title  \\\n",
       "0                                     Data Scientist   \n",
       "1    Data Scientist / Data Analyst -Business Analyst   \n",
       "2                 Data Scientist: Advanced Analytics   \n",
       "3                                     Data Scientist   \n",
       "4                              Senior Data Scientist   \n",
       "5  EXL - Senior Data Scientist, 5+ yrs, Mumbai / ...   \n",
       "6                              Senior Data Scientist   \n",
       "7                                  Sr Data Scientist   \n",
       "8                              Senior Data Scientist   \n",
       "9                                     Data Scientist   \n",
       "\n",
       "                                        Job_Location  \\\n",
       "0                                Bangalore/Bengaluru   \n",
       "1  Hyderabad/Secunderabad, Chennai, Bangalore/Ben...   \n",
       "2                                Bangalore/Bengaluru   \n",
       "3                                Bangalore/Bengaluru   \n",
       "4  Hyderabad/Secunderabad, Gurgaon/Gurugram, Bang...   \n",
       "5    Pune, Chennai, Bangalore/Bengaluru, Delhi / NCR   \n",
       "6                                Bangalore/Bengaluru   \n",
       "7                                Bangalore/Bengaluru   \n",
       "8                                Bangalore/Bengaluru   \n",
       "9                                Bangalore/Bengaluru   \n",
       "\n",
       "                                        Company_Name  \\\n",
       "0                  Flipkart Internet Private Limited   \n",
       "1                 Inflexion Analytix Private Limited   \n",
       "2                             IBM India Pvt. Limited   \n",
       "3                             IBM India Pvt. Limited   \n",
       "4   inVentiv International Pharma Services Pvt. Ltd.   \n",
       "5                                        EXL Service   \n",
       "6                                     Superior Group   \n",
       "7                        FabHotel Aay Kay Model Town   \n",
       "8  ORMAE (Operations Research Machine learning & ...   \n",
       "9                                  Applied Materials   \n",
       "\n",
       "                                     Job_Description  \n",
       "0  Job descriptionJob descriptionJob Role: Data S...  \n",
       "1  Job descriptionUrgent job-need with an IT MNC ...  \n",
       "2  Job descriptionAbout the teamThe Data Sciences...  \n",
       "3  Job descriptionData Scientist-AI and Digital L...  \n",
       "4  Job descriptionResponsible for scoping, develo...  \n",
       "5  Job descriptionRoles and ResponsibilitiesIdent...  \n",
       "6  Job descriptionMinimum Qualifications: (Specif...  \n",
       "7  Job descriptionKey Responsibilities:Provide ad...  \n",
       "8  Job descriptionAs as Senior Data Scientist, yo...  \n",
       "9  Job descriptionA consistent record of using pr...  "
      ]
     },
     "execution_count": 102,
     "metadata": {},
     "output_type": "execute_result"
    }
   ],
   "source": [
    "data_"
   ]
  },
  {
   "cell_type": "markdown",
   "id": "6e6e7742-df33-41c3-8976-49f3ff1dc380",
   "metadata": {},
   "source": [
    "### ******************************************"
   ]
  },
  {
   "cell_type": "markdown",
   "id": "9d770821-2dde-4d53-baad-3a28389f08a7",
   "metadata": {},
   "source": [
    "### __Q3: In this question you have to scrape data using the filters available on the webpage as shown below:__"
   ]
  },
  {
   "cell_type": "markdown",
   "id": "2de3ec25-1599-41e6-91b8-f9d91ff1c141",
   "metadata": {},
   "source": [
    "#### You have to use the location and salary filter.\n",
    "#### You have to scrape data for “Data Scientist” designation for first 10 job results.\n",
    "#### You have to scrape the job-title, job-location, company_name, experience_required.\n",
    "#### The location filter to be used is “Delhi/NCR”\n",
    "#### The salary filter to be used is “3-6” lakhs\n",
    "#### The task will be done as shown in the below steps:\n",
    "#### 1. first get the webpage https://www.naukri.com/\n",
    "#### 2. Enter “Data Scientist” in “Skill,Designations,Companies” field .\n",
    "#### 3. Then click the search button.\n",
    "#### 4. Then apply the location filter and salary filter by checking the respective boxes\n",
    "#### 4. Then scrape the data for the first 10 jobs results you get.\n",
    "#### 5. Finally create a dataframe of the scraped data.\n",
    "#### Note- All of the above steps have to be done in code. No step is to be done manually.\n"
   ]
  },
  {
   "cell_type": "markdown",
   "id": "9ffe942b-aab0-4a6e-90d5-a549f73b4bb5",
   "metadata": {},
   "source": [
    "![](3.jpg)"
   ]
  },
  {
   "cell_type": "code",
   "execution_count": 103,
   "id": "86ad7ddf-2ccb-4cdf-9d1f-a30094d43990",
   "metadata": {},
   "outputs": [],
   "source": [
    "## the website url\n",
    "url_ = \" https://www.naukri.com/\""
   ]
  },
  {
   "cell_type": "code",
   "execution_count": 104,
   "id": "ec8e3b89-263b-438f-b7e2-8fddcf1bb067",
   "metadata": {},
   "outputs": [],
   "source": [
    "## opening the web page with the above url\n",
    "\n",
    "driver.get(url=url1)"
   ]
  },
  {
   "cell_type": "code",
   "execution_count": 105,
   "id": "4a2128e4-0fee-4211-b950-c436d038b4e8",
   "metadata": {},
   "outputs": [],
   "source": [
    "## job skill needed\n",
    "\n",
    "job_skill_ = driver.find_element_by_xpath('//input[@class=\"sugInp\"]')\n",
    "job_skill_.send_keys('Data Scientist')"
   ]
  },
  {
   "cell_type": "code",
   "execution_count": 106,
   "id": "77326b7d-9d0a-4125-b8e5-adac6a2b3575",
   "metadata": {},
   "outputs": [],
   "source": [
    "button_search1 = driver.find_element_by_xpath('//button[@class=\"btn\"]')\n",
    "button_search1.click()"
   ]
  },
  {
   "cell_type": "code",
   "execution_count": 112,
   "id": "f94ae414-7fb6-4586-bc2f-b4e78ecf47f2",
   "metadata": {},
   "outputs": [],
   "source": [
    "## checking the checkbox for New Delhi here atrribute is : \"for\"\n",
    "\n",
    "check_box1 = driver.find_element_by_xpath('//label[@for=\"chk-Delhi / NCR-cityTypeGid-\"]//i')"
   ]
  },
  {
   "cell_type": "code",
   "execution_count": 113,
   "id": "cacc0666-d237-4bea-8b6f-808a9ba5159d",
   "metadata": {},
   "outputs": [],
   "source": [
    "check_box1.click()"
   ]
  },
  {
   "cell_type": "code",
   "execution_count": 114,
   "id": "4e81f54b-2b4e-44ba-913c-f8a15836799e",
   "metadata": {},
   "outputs": [],
   "source": [
    "## checking the checkbox for “3-6” lakhs , here atrribute is : \"for\"\n",
    "\n",
    "check_box2 = driver.find_element_by_xpath('//label[@for=\"chk-3-6 Lakhs-ctcFilter-\"]//i')\n",
    "check_box2.click()"
   ]
  },
  {
   "cell_type": "code",
   "execution_count": 116,
   "id": "57d8743b-e2fc-4604-acc4-c6a5a2eb13ec",
   "metadata": {},
   "outputs": [
    {
     "data": {
      "text/plain": [
       "[<selenium.webdriver.remote.webelement.WebElement (session=\"f0497f5f99f6c5cb90e5e5b4428c6beb\", element=\"4bcb5ab7-6ed2-4167-9dd9-bc13349f2918\")>,\n",
       " <selenium.webdriver.remote.webelement.WebElement (session=\"f0497f5f99f6c5cb90e5e5b4428c6beb\", element=\"77d7e4b0-cdc4-4233-9107-835a0b396869\")>,\n",
       " <selenium.webdriver.remote.webelement.WebElement (session=\"f0497f5f99f6c5cb90e5e5b4428c6beb\", element=\"95f02125-9f24-4d7f-9ec8-7bd7eba23acf\")>,\n",
       " <selenium.webdriver.remote.webelement.WebElement (session=\"f0497f5f99f6c5cb90e5e5b4428c6beb\", element=\"bda58d29-661c-44c4-a7fc-80445d94b985\")>,\n",
       " <selenium.webdriver.remote.webelement.WebElement (session=\"f0497f5f99f6c5cb90e5e5b4428c6beb\", element=\"36a3040b-2158-4d51-b064-b9571886691f\")>,\n",
       " <selenium.webdriver.remote.webelement.WebElement (session=\"f0497f5f99f6c5cb90e5e5b4428c6beb\", element=\"6cac4180-1310-4655-9f2a-ba365a78ae9c\")>,\n",
       " <selenium.webdriver.remote.webelement.WebElement (session=\"f0497f5f99f6c5cb90e5e5b4428c6beb\", element=\"f45f7d0c-ad38-43d8-be42-84f5cfca2c64\")>,\n",
       " <selenium.webdriver.remote.webelement.WebElement (session=\"f0497f5f99f6c5cb90e5e5b4428c6beb\", element=\"d656ffe7-4b1c-4166-b53d-3f2695d89cf6\")>,\n",
       " <selenium.webdriver.remote.webelement.WebElement (session=\"f0497f5f99f6c5cb90e5e5b4428c6beb\", element=\"22a6562d-edb8-4be6-9b43-f2a5969e93c4\")>,\n",
       " <selenium.webdriver.remote.webelement.WebElement (session=\"f0497f5f99f6c5cb90e5e5b4428c6beb\", element=\"1b91a456-f9a1-46ca-baec-5302632d46f8\")>,\n",
       " <selenium.webdriver.remote.webelement.WebElement (session=\"f0497f5f99f6c5cb90e5e5b4428c6beb\", element=\"79317f67-a52b-48f2-9708-06f892c8daf6\")>,\n",
       " <selenium.webdriver.remote.webelement.WebElement (session=\"f0497f5f99f6c5cb90e5e5b4428c6beb\", element=\"5c100861-4f71-4167-b910-bb67b3a1cf1f\")>,\n",
       " <selenium.webdriver.remote.webelement.WebElement (session=\"f0497f5f99f6c5cb90e5e5b4428c6beb\", element=\"4725eaa1-5ff1-4caa-9ac0-aebdc65be47d\")>,\n",
       " <selenium.webdriver.remote.webelement.WebElement (session=\"f0497f5f99f6c5cb90e5e5b4428c6beb\", element=\"e12c0406-8d7e-4afe-9ed4-b9c460e9cd22\")>,\n",
       " <selenium.webdriver.remote.webelement.WebElement (session=\"f0497f5f99f6c5cb90e5e5b4428c6beb\", element=\"8da15192-a1a3-45b4-969c-2706b42e3844\")>,\n",
       " <selenium.webdriver.remote.webelement.WebElement (session=\"f0497f5f99f6c5cb90e5e5b4428c6beb\", element=\"34e76c75-9283-4112-bc65-9d06cc4c45ad\")>,\n",
       " <selenium.webdriver.remote.webelement.WebElement (session=\"f0497f5f99f6c5cb90e5e5b4428c6beb\", element=\"74259b61-7efa-40db-a59b-fb7056ded7b9\")>,\n",
       " <selenium.webdriver.remote.webelement.WebElement (session=\"f0497f5f99f6c5cb90e5e5b4428c6beb\", element=\"4d6c0faa-8a38-4bbc-8226-bac183d6eee1\")>,\n",
       " <selenium.webdriver.remote.webelement.WebElement (session=\"f0497f5f99f6c5cb90e5e5b4428c6beb\", element=\"02d4c9e5-3443-4d62-a563-76ed74d3a726\")>,\n",
       " <selenium.webdriver.remote.webelement.WebElement (session=\"f0497f5f99f6c5cb90e5e5b4428c6beb\", element=\"997792ac-3a82-474e-b375-b93a115366a1\")>]"
      ]
     },
     "execution_count": 116,
     "metadata": {},
     "output_type": "execute_result"
    }
   ],
   "source": [
    "## let's scrap the then jobs data title\n",
    "\n",
    "job_title_a = driver.find_elements_by_xpath('//a[@class=\"title fw500 ellipsis\"]')\n",
    "\n",
    "job_title_a"
   ]
  },
  {
   "cell_type": "code",
   "execution_count": 117,
   "id": "9039f266-ec1f-41d3-852e-e9116969def7",
   "metadata": {},
   "outputs": [],
   "source": [
    "job_title_list_a = []\n",
    "for oli in job_title_a:\n",
    "    job_title_list_a.append(oli.text)"
   ]
  },
  {
   "cell_type": "code",
   "execution_count": 118,
   "id": "da3643ea-ef9d-451c-afff-fa0d8ec125b6",
   "metadata": {},
   "outputs": [
    {
     "data": {
      "text/plain": [
       "['Data Scientist/Data Analyst /Business Analyst',\n",
       " 'Senior Data Scientist',\n",
       " 'Only Fresher / Data Scientist / Data Analyst / Analytics - MNC Jobs',\n",
       " 'Advanced Analytics -Data Scientist',\n",
       " 'Data Scientist (Early Joiner)',\n",
       " 'Data Scientist || Python || C2H',\n",
       " 'Data Scientist || Python || C2H',\n",
       " 'Data Scientist - Machine Learning/ NLP',\n",
       " 'Chaayos is Looking For Data Scientist',\n",
       " 'Data Scientist',\n",
       " 'Data Scientist -Delhi',\n",
       " 'Senior Data Scientist',\n",
       " 'Data Scientist',\n",
       " 'Data Scientist',\n",
       " 'Data Scientist',\n",
       " 'Data Scientist',\n",
       " 'Associate Data Scientist',\n",
       " 'Associate Data Scientist',\n",
       " 'DATA SCIENTIST',\n",
       " 'Data Scientist']"
      ]
     },
     "execution_count": 118,
     "metadata": {},
     "output_type": "execute_result"
    }
   ],
   "source": [
    " job_title_list_a"
   ]
  },
  {
   "cell_type": "code",
   "execution_count": 119,
   "id": "887d8632-7b72-4d1f-b822-17d61834ca58",
   "metadata": {},
   "outputs": [
    {
     "data": {
      "text/plain": [
       "['Data Scientist/Data Analyst /Business Analyst',\n",
       " 'Senior Data Scientist',\n",
       " 'Only Fresher / Data Scientist / Data Analyst / Analytics - MNC Jobs',\n",
       " 'Advanced Analytics -Data Scientist',\n",
       " 'Data Scientist (Early Joiner)',\n",
       " 'Data Scientist || Python || C2H',\n",
       " 'Data Scientist || Python || C2H',\n",
       " 'Data Scientist - Machine Learning/ NLP',\n",
       " 'Chaayos is Looking For Data Scientist',\n",
       " 'Data Scientist']"
      ]
     },
     "execution_count": 119,
     "metadata": {},
     "output_type": "execute_result"
    }
   ],
   "source": [
    "## let's select the first 10 job titles\n",
    "job_title_a =  job_title_list_a[0:10]\n",
    "job_title_a"
   ]
  },
  {
   "cell_type": "code",
   "execution_count": 120,
   "id": "3826f69c-241c-4eb7-b714-0d5c6964deca",
   "metadata": {},
   "outputs": [
    {
     "data": {
      "text/plain": [
       "[<selenium.webdriver.remote.webelement.WebElement (session=\"f0497f5f99f6c5cb90e5e5b4428c6beb\", element=\"30cd1c92-6b5d-4325-90ff-2f42bce59426\")>,\n",
       " <selenium.webdriver.remote.webelement.WebElement (session=\"f0497f5f99f6c5cb90e5e5b4428c6beb\", element=\"1c46ac4e-465f-4147-b4e5-413bb0285fd9\")>,\n",
       " <selenium.webdriver.remote.webelement.WebElement (session=\"f0497f5f99f6c5cb90e5e5b4428c6beb\", element=\"80e4987b-dcb1-4028-af97-fcb66273c325\")>,\n",
       " <selenium.webdriver.remote.webelement.WebElement (session=\"f0497f5f99f6c5cb90e5e5b4428c6beb\", element=\"c5cb3dfe-3da8-473d-870d-964330c35e98\")>,\n",
       " <selenium.webdriver.remote.webelement.WebElement (session=\"f0497f5f99f6c5cb90e5e5b4428c6beb\", element=\"767154ba-e6fb-4eb1-b2b8-ddaf631a4d09\")>,\n",
       " <selenium.webdriver.remote.webelement.WebElement (session=\"f0497f5f99f6c5cb90e5e5b4428c6beb\", element=\"6f16392c-2619-417f-ba18-21eb2ea4f4d5\")>,\n",
       " <selenium.webdriver.remote.webelement.WebElement (session=\"f0497f5f99f6c5cb90e5e5b4428c6beb\", element=\"371831c1-9aab-43a1-8806-2befd250f379\")>,\n",
       " <selenium.webdriver.remote.webelement.WebElement (session=\"f0497f5f99f6c5cb90e5e5b4428c6beb\", element=\"b83faf26-51c9-48bc-a1e4-f20e5ebafa2f\")>,\n",
       " <selenium.webdriver.remote.webelement.WebElement (session=\"f0497f5f99f6c5cb90e5e5b4428c6beb\", element=\"2417245c-a38a-4d85-b319-17f7103c89a4\")>,\n",
       " <selenium.webdriver.remote.webelement.WebElement (session=\"f0497f5f99f6c5cb90e5e5b4428c6beb\", element=\"fd43abf4-fac2-4811-8f74-333913bc5a44\")>,\n",
       " <selenium.webdriver.remote.webelement.WebElement (session=\"f0497f5f99f6c5cb90e5e5b4428c6beb\", element=\"1d3578ac-cfbb-47b2-afcd-d2341228bb12\")>,\n",
       " <selenium.webdriver.remote.webelement.WebElement (session=\"f0497f5f99f6c5cb90e5e5b4428c6beb\", element=\"e47b7381-3409-4073-8edc-a768f46a98d3\")>,\n",
       " <selenium.webdriver.remote.webelement.WebElement (session=\"f0497f5f99f6c5cb90e5e5b4428c6beb\", element=\"65a977d4-ccd7-4773-9075-841754f35b1b\")>,\n",
       " <selenium.webdriver.remote.webelement.WebElement (session=\"f0497f5f99f6c5cb90e5e5b4428c6beb\", element=\"18754968-8c33-4dea-bbcd-90cf2923e090\")>,\n",
       " <selenium.webdriver.remote.webelement.WebElement (session=\"f0497f5f99f6c5cb90e5e5b4428c6beb\", element=\"73506a3f-32bc-419b-bb59-9e866f27cc72\")>,\n",
       " <selenium.webdriver.remote.webelement.WebElement (session=\"f0497f5f99f6c5cb90e5e5b4428c6beb\", element=\"e140c3ff-2d44-4710-9ca3-12ed101d77ee\")>,\n",
       " <selenium.webdriver.remote.webelement.WebElement (session=\"f0497f5f99f6c5cb90e5e5b4428c6beb\", element=\"5e3e384d-55bb-4c87-939f-ec7dd1159103\")>,\n",
       " <selenium.webdriver.remote.webelement.WebElement (session=\"f0497f5f99f6c5cb90e5e5b4428c6beb\", element=\"0df8f8fb-58fc-4ee4-95fd-321d2f920ed1\")>,\n",
       " <selenium.webdriver.remote.webelement.WebElement (session=\"f0497f5f99f6c5cb90e5e5b4428c6beb\", element=\"c12dc43a-e218-46b4-af11-da1c7001e8d8\")>,\n",
       " <selenium.webdriver.remote.webelement.WebElement (session=\"f0497f5f99f6c5cb90e5e5b4428c6beb\", element=\"bd229411-dc33-4a42-8748-e4782098dbd2\")>]"
      ]
     },
     "execution_count": 120,
     "metadata": {},
     "output_type": "execute_result"
    }
   ],
   "source": [
    "## let's find the job location\n",
    "\n",
    "job_loc_a = driver.find_elements_by_xpath('//li[@class=\"fleft grey-text br2 placeHolderLi location\"]//span')\n",
    "\n",
    "job_loc_a"
   ]
  },
  {
   "cell_type": "code",
   "execution_count": 121,
   "id": "ad4cb33d-51e1-4530-add7-b8502a12b1d9",
   "metadata": {},
   "outputs": [],
   "source": [
    "job_loc_a_list = []\n",
    "for oli in job_loc_a:\n",
    "    job_loc_a_list.append(oli.text)\n",
    "    "
   ]
  },
  {
   "cell_type": "code",
   "execution_count": 122,
   "id": "58cccb23-3f69-4014-a6d7-8188d6c60dac",
   "metadata": {},
   "outputs": [
    {
     "data": {
      "text/plain": [
       "['Pune, Delhi / NCR, Mumbai (All Areas)',\n",
       " 'Hyderabad/Secunderabad, Gurgaon/Gurugram, Bangalore/Bengaluru',\n",
       " 'Noida, Greater Noida, Delhi / NCR',\n",
       " 'New Delhi, Hyderabad/Secunderabad',\n",
       " 'Noida(Sector-59 Noida)',\n",
       " 'Noida, Kolkata, Gurgaon/Gurugram, Bangalore/Bengaluru',\n",
       " 'Noida, Kolkata, Gurgaon/Gurugram, Bangalore/Bengaluru',\n",
       " 'Gurgaon/Gurugram',\n",
       " 'New Delhi',\n",
       " 'Mumbai, Gurgaon/Gurugram, Bangalore/Bengaluru',\n",
       " 'New Delhi',\n",
       " 'Delhi',\n",
       " 'Gurgaon/Gurugram, Bangalore/Bengaluru',\n",
       " 'Bharuch, Jaipur, Bhopal, Mumbai, Jhansi, Nagpur, Ghaziabad, Jaunpur, Kanpur, New Delhi, Lucknow, Agra, Gurgaon/Gurugram, Rajkot, Bangalore/Bengaluru',\n",
       " 'New Delhi',\n",
       " 'Delhi',\n",
       " 'Noida',\n",
       " 'New Delhi',\n",
       " 'Gurgaon',\n",
       " 'Gurgaon/Gurugram, Delhi / NCR']"
      ]
     },
     "execution_count": 122,
     "metadata": {},
     "output_type": "execute_result"
    }
   ],
   "source": [
    "job_loc_a_list"
   ]
  },
  {
   "cell_type": "code",
   "execution_count": 123,
   "id": "d151be4f-1636-462b-a98f-e1885a379de0",
   "metadata": {},
   "outputs": [
    {
     "data": {
      "text/plain": [
       "['Pune, Delhi / NCR, Mumbai (All Areas)',\n",
       " 'Hyderabad/Secunderabad, Gurgaon/Gurugram, Bangalore/Bengaluru',\n",
       " 'Noida, Greater Noida, Delhi / NCR',\n",
       " 'New Delhi, Hyderabad/Secunderabad',\n",
       " 'Noida(Sector-59 Noida)',\n",
       " 'Noida, Kolkata, Gurgaon/Gurugram, Bangalore/Bengaluru',\n",
       " 'Noida, Kolkata, Gurgaon/Gurugram, Bangalore/Bengaluru',\n",
       " 'Gurgaon/Gurugram',\n",
       " 'New Delhi',\n",
       " 'Mumbai, Gurgaon/Gurugram, Bangalore/Bengaluru']"
      ]
     },
     "execution_count": 123,
     "metadata": {},
     "output_type": "execute_result"
    }
   ],
   "source": [
    "## let's select the first 10 job locations\n",
    "\n",
    "job_location_a = job_loc_a_list[0:10]\n",
    "job_location_a \n"
   ]
  },
  {
   "cell_type": "code",
   "execution_count": 124,
   "id": "044cf99a-de58-461b-aef8-d5766c45407d",
   "metadata": {},
   "outputs": [
    {
     "data": {
      "text/plain": [
       "[<selenium.webdriver.remote.webelement.WebElement (session=\"f0497f5f99f6c5cb90e5e5b4428c6beb\", element=\"1a9f05ca-c50a-4788-bd10-8c8ac3beea43\")>,\n",
       " <selenium.webdriver.remote.webelement.WebElement (session=\"f0497f5f99f6c5cb90e5e5b4428c6beb\", element=\"33e4a7c9-fb50-49d0-82a6-342e27c2873a\")>,\n",
       " <selenium.webdriver.remote.webelement.WebElement (session=\"f0497f5f99f6c5cb90e5e5b4428c6beb\", element=\"f8903e14-b48b-483c-8a38-9aa1ca1532e0\")>,\n",
       " <selenium.webdriver.remote.webelement.WebElement (session=\"f0497f5f99f6c5cb90e5e5b4428c6beb\", element=\"68ca035f-8749-4ae2-8bff-002091d78f12\")>,\n",
       " <selenium.webdriver.remote.webelement.WebElement (session=\"f0497f5f99f6c5cb90e5e5b4428c6beb\", element=\"900e528d-36eb-4910-8d88-e64effd1c9d6\")>,\n",
       " <selenium.webdriver.remote.webelement.WebElement (session=\"f0497f5f99f6c5cb90e5e5b4428c6beb\", element=\"53d5397b-2d57-4d18-81a0-e3fc33ef0c54\")>,\n",
       " <selenium.webdriver.remote.webelement.WebElement (session=\"f0497f5f99f6c5cb90e5e5b4428c6beb\", element=\"b3ef513c-91c4-4ef5-85ca-2a2943b626ff\")>,\n",
       " <selenium.webdriver.remote.webelement.WebElement (session=\"f0497f5f99f6c5cb90e5e5b4428c6beb\", element=\"ecffc2bc-1dd0-4c69-835d-5d1526daee75\")>,\n",
       " <selenium.webdriver.remote.webelement.WebElement (session=\"f0497f5f99f6c5cb90e5e5b4428c6beb\", element=\"33da5800-77e9-43b6-b969-3b94be8c2d0f\")>,\n",
       " <selenium.webdriver.remote.webelement.WebElement (session=\"f0497f5f99f6c5cb90e5e5b4428c6beb\", element=\"f073582a-3b25-46a5-865a-740b25db9a73\")>,\n",
       " <selenium.webdriver.remote.webelement.WebElement (session=\"f0497f5f99f6c5cb90e5e5b4428c6beb\", element=\"5be357ce-eab4-4d4c-aad0-5ea70efb8cf2\")>,\n",
       " <selenium.webdriver.remote.webelement.WebElement (session=\"f0497f5f99f6c5cb90e5e5b4428c6beb\", element=\"99621c38-5acf-4838-913f-6e91339cbf23\")>,\n",
       " <selenium.webdriver.remote.webelement.WebElement (session=\"f0497f5f99f6c5cb90e5e5b4428c6beb\", element=\"d4e4ce28-4267-4de0-b855-2311aa2cc79b\")>,\n",
       " <selenium.webdriver.remote.webelement.WebElement (session=\"f0497f5f99f6c5cb90e5e5b4428c6beb\", element=\"2a1d2f6d-9033-4257-bafc-ac5d14d51fbc\")>,\n",
       " <selenium.webdriver.remote.webelement.WebElement (session=\"f0497f5f99f6c5cb90e5e5b4428c6beb\", element=\"28da2a7d-4ed6-41ba-82f9-1aa08a60a3f0\")>,\n",
       " <selenium.webdriver.remote.webelement.WebElement (session=\"f0497f5f99f6c5cb90e5e5b4428c6beb\", element=\"4c5ea78d-b038-4b32-9955-29c4f0936fa6\")>,\n",
       " <selenium.webdriver.remote.webelement.WebElement (session=\"f0497f5f99f6c5cb90e5e5b4428c6beb\", element=\"54e79ef3-e7cb-4173-8248-b8015d1b127d\")>,\n",
       " <selenium.webdriver.remote.webelement.WebElement (session=\"f0497f5f99f6c5cb90e5e5b4428c6beb\", element=\"8208b7fb-0367-4eb1-8a3a-9b40e624e9ec\")>,\n",
       " <selenium.webdriver.remote.webelement.WebElement (session=\"f0497f5f99f6c5cb90e5e5b4428c6beb\", element=\"ced53678-cbd3-4c41-8116-2f98acf84c97\")>,\n",
       " <selenium.webdriver.remote.webelement.WebElement (session=\"f0497f5f99f6c5cb90e5e5b4428c6beb\", element=\"da4f2959-6ba2-4601-91d3-1bea1a3a2609\")>]"
      ]
     },
     "execution_count": 124,
     "metadata": {},
     "output_type": "execute_result"
    }
   ],
   "source": [
    "## let's find the company's names\n",
    "company_n = driver.find_elements_by_xpath('//a[@class=\"subTitle ellipsis fleft\"]')\n",
    "company_n"
   ]
  },
  {
   "cell_type": "code",
   "execution_count": 125,
   "id": "73fce0b5-13df-4945-b1f1-9ed84f72e550",
   "metadata": {},
   "outputs": [],
   "source": [
    "company_n_list = []\n",
    "for oli in company_n:\n",
    "    company_n_list.append(oli.text)\n",
    "    "
   ]
  },
  {
   "cell_type": "code",
   "execution_count": 126,
   "id": "83b34113-47e9-4152-a8a9-cd47149a1efe",
   "metadata": {},
   "outputs": [
    {
     "data": {
      "text/plain": [
       "['Inflexion Analytix Private Limited',\n",
       " 'inVentiv International Pharma Services Pvt. Ltd.',\n",
       " 'GABA Consultancy services',\n",
       " 'ERM Placement Services (P) Ltd.',\n",
       " 'R Systems International Ltd.',\n",
       " 'Growel Softech Pvt. Ltd.',\n",
       " 'Growel Softech Pvt. Ltd.',\n",
       " 'TalPro',\n",
       " 'Chaayos (Sunshine Teahouse Pvt. Ltd.)',\n",
       " 'Fractal Analytics',\n",
       " 'CHANGE LEADERS CONSULTING',\n",
       " 'iNICU',\n",
       " 'BlackBuck',\n",
       " 'Country Veggie',\n",
       " 'Mahajan Imaging',\n",
       " 'Mahajan Imaging',\n",
       " 'Right Step Consulting',\n",
       " 'Blow Trumpet Solutions',\n",
       " 'Inference Labs',\n",
       " 'Milliman India Pvt Ltd']"
      ]
     },
     "execution_count": 126,
     "metadata": {},
     "output_type": "execute_result"
    }
   ],
   "source": [
    "company_n_list"
   ]
  },
  {
   "cell_type": "code",
   "execution_count": 128,
   "id": "5652bb02-af69-47fb-91b3-3e16da2750ce",
   "metadata": {},
   "outputs": [
    {
     "data": {
      "text/plain": [
       "['Inflexion Analytix Private Limited',\n",
       " 'inVentiv International Pharma Services Pvt. Ltd.',\n",
       " 'GABA Consultancy services',\n",
       " 'ERM Placement Services (P) Ltd.',\n",
       " 'R Systems International Ltd.',\n",
       " 'Growel Softech Pvt. Ltd.',\n",
       " 'Growel Softech Pvt. Ltd.',\n",
       " 'TalPro',\n",
       " 'Chaayos (Sunshine Teahouse Pvt. Ltd.)',\n",
       " 'Fractal Analytics']"
      ]
     },
     "execution_count": 128,
     "metadata": {},
     "output_type": "execute_result"
    }
   ],
   "source": [
    "## let's get the first 10 job company name\n",
    "\n",
    "company_name_a = company_n_list[0:10]\n",
    "company_name_a\n"
   ]
  },
  {
   "cell_type": "code",
   "execution_count": 129,
   "id": "788bd609-c48a-486d-8c89-b9f071d7e5a7",
   "metadata": {},
   "outputs": [
    {
     "data": {
      "text/plain": [
       "['https://www.naukri.com/job-listings-data-scientist-data-analyst-business-analyst-inflexion-analytix-private-limited-pune-delhi-ncr-mumbai-all-areas-0-to-3-years-040721000317?src=jobsearchDesk&sid=16258403219802571_8&xp=1&px=1',\n",
       " 'https://www.naukri.com/job-listings-senior-data-scientist-inventiv-international-pharma-services-pvt-ltd-hyderabad-secunderabad-gurgaon-gurugram-bangalore-bengaluru-3-to-6-years-090721000064?src=jobsearchDesk&sid=16258403219802571_8&xp=2&px=1',\n",
       " 'https://www.naukri.com/job-listings-only-fresher-data-scientist-data-analyst-analytics-mnc-jobs-gaba-consultancy-services-noida-greater-noida-delhi-ncr-0-to-0-years-050721000317?src=jobsearchDesk&sid=16258403219802571_8&xp=3&px=1',\n",
       " 'https://www.naukri.com/job-listings-advanced-analytics-data-scientist-erm-placement-services-p-ltd-new-delhi-hyderabad-secunderabad-3-to-7-years-030721003648?src=jobsearchDesk&sid=16258403219802571_8&xp=4&px=1',\n",
       " 'https://www.naukri.com/job-listings-data-scientist-early-joiner-r-systems-international-ltd-noida-4-to-8-years-220621005420?src=jobsearchDesk&sid=16258403219802571_8&xp=5&px=1',\n",
       " 'https://www.naukri.com/job-listings-data-scientist-python-c2h-growel-softech-pvt-ltd-noida-kolkata-gurgaon-gurugram-bangalore-bengaluru-4-to-6-years-050721608199?src=jobsearchDesk&sid=16258403219802571_8&xp=6&px=1',\n",
       " 'https://www.naukri.com/job-listings-data-scientist-python-c2h-growel-softech-pvt-ltd-noida-kolkata-gurgaon-gurugram-bangalore-bengaluru-4-to-6-years-050721008197?src=jobsearchDesk&sid=16258403219802571_8&xp=7&px=1',\n",
       " 'https://www.naukri.com/job-listings-data-scientist-machine-learning-nlp-talpro-gurgaon-gurugram-2-to-6-years-040820900222?src=jobsearchDesk&sid=16258403219802571_8&xp=8&px=1',\n",
       " 'https://www.naukri.com/job-listings-chaayos-is-looking-for-data-scientist-chaayos-sunshine-teahouse-pvt-ltd-new-delhi-0-to-5-years-070621000819?src=jobsearchDesk&sid=16258403219802571_8&xp=9&px=1',\n",
       " 'https://www.naukri.com/job-listings-data-scientist-fractal-analytics-ltd-mumbai-gurgaon-gurugram-bangalore-bengaluru-3-to-7-years-070621501457?src=jobsearchDesk&sid=16258403219802571_8&xp=10&px=1',\n",
       " 'https://www.naukri.com/job-listings-data-scientist-delhi-change-leaders-consulting-new-delhi-5-to-8-years-280621615420?src=jobsearchDesk&sid=16258403219802571_8&xp=11&px=1',\n",
       " 'https://www.naukri.com/job-listings-senior-data-scientist-inicu-delhi-1-to-5-years-101218500043?src=jobsearchDesk&sid=16258403219802571_8&xp=12&px=1',\n",
       " 'https://www.naukri.com/job-listings-data-scientist-blackbuck-bengaluru-bangalore-gurgaon-3-to-7-years-170119500435?src=jobsearchDesk&sid=16258403219802571_8&xp=13&px=1',\n",
       " 'https://www.naukri.com/job-listings-data-scientist-country-veggie-ghaziabad-bhopal-lucknow-kanpur-rajkot-bengaluru-bangalore-gurgaon-agra-bharuch-jaunpur-nagpur-delhi-mumbai-jaipur-jhansi-1-to-3-years-010221500832?src=jobsearchDesk&sid=16258403219802571_8&xp=14&px=1',\n",
       " 'https://www.naukri.com/job-listings-data-scientist-mahajan-imaging-delhi-2-to-6-years-120717500227?src=jobsearchDesk&sid=16258403219802571_8&xp=15&px=1',\n",
       " 'https://www.naukri.com/job-listings-data-scientist-mahajan-imaging-delhi-2-to-6-years-041218500056?src=jobsearchDesk&sid=16258403219802571_8&xp=16&px=1',\n",
       " 'https://www.naukri.com/job-listings-associate-data-scientist-right-step-consulting-noida-3-to-6-years-110417501283?src=jobsearchDesk&sid=16258403219802571_8&xp=17&px=1',\n",
       " 'https://www.naukri.com/job-listings-associate-data-scientist-trumpet-solutions-new-delhi-1-to-5-years-200919501222?src=jobsearchDesk&sid=16258403219802571_8&xp=18&px=1',\n",
       " 'https://www.naukri.com/job-listings-data-scientist-inference-labs-gurgaon-3-to-5-years-270819501863?src=jobsearchDesk&sid=16258403219802571_8&xp=19&px=1',\n",
       " 'https://www.naukri.com/job-listings-data-scientist-milliman-india-pvt-ltd-gurgaon-gurugram-delhi-ncr-2-to-5-years-070621000726?src=jobsearchDesk&sid=16258403219802571_8&xp=20&px=1']"
      ]
     },
     "execution_count": 129,
     "metadata": {},
     "output_type": "execute_result"
    }
   ],
   "source": [
    "## let's find the job descriptions, first let's get the jobs urls\n",
    "\n",
    "jobs = driver.find_elements_by_xpath('//a[@class=\"title fw500 ellipsis\"]')\n",
    "\n",
    "## let's get jobs url first\n",
    "jobs_url =[]\n",
    "for oli in jobs:\n",
    "    jobs_url.append(oli.get_attribute('href'))\n",
    "\n",
    "jobs_url"
   ]
  },
  {
   "cell_type": "code",
   "execution_count": 133,
   "id": "4a2a9855-00c5-4def-b115-84bb4d5c7d4a",
   "metadata": {},
   "outputs": [],
   "source": [
    "## Now let's use the job urls and get job's Description\n",
    "\n",
    "\n",
    "job_descrition= []\n",
    "for oli in jobs_url:\n",
    "    time.sleep(2)\n",
    "    driver.get(oli)\n",
    "    jo_desc= driver.find_elements_by_xpath('//section[@class=\"job-desc\"]')\n",
    "    for i in jo_desc:\n",
    "        job_descrition.append(i.text.replace('\\n',''))"
   ]
  },
  {
   "cell_type": "code",
   "execution_count": 135,
   "id": "8d932e10-6bb3-4949-b080-49b748bced60",
   "metadata": {},
   "outputs": [],
   "source": [
    "#job_descrition"
   ]
  },
  {
   "cell_type": "code",
   "execution_count": 141,
   "id": "d4aab31f-3e9b-447b-9455-7d3de6fb2c5b",
   "metadata": {},
   "outputs": [],
   "source": [
    "## let's select the first 10 job description\n",
    "job_descrition_a = job_descrition[0:10]\n",
    "#job_descrition_a"
   ]
  },
  {
   "cell_type": "code",
   "execution_count": 138,
   "id": "d3767c00-8070-4e47-acfe-072812d59ff6",
   "metadata": {},
   "outputs": [
    {
     "data": {
      "text/plain": [
       "(10, 10, 10, 10)"
      ]
     },
     "execution_count": 138,
     "metadata": {},
     "output_type": "execute_result"
    }
   ],
   "source": [
    "len(job_descrition_a),len(company_name_a),len(job_location_a),len(job_title_a)"
   ]
  },
  {
   "cell_type": "markdown",
   "id": "9477c1f9-5b6c-410b-8d8f-ae2cd06bd0ac",
   "metadata": {},
   "source": [
    "### let's create the Data Frame now.\n",
    "\n"
   ]
  },
  {
   "cell_type": "code",
   "execution_count": 139,
   "id": "d5a8e01b-2c3b-4d5b-b94e-77645fd21950",
   "metadata": {},
   "outputs": [],
   "source": [
    "data_a = pd.DataFrame({})"
   ]
  },
  {
   "cell_type": "code",
   "execution_count": 140,
   "id": "bfda26e8-9b9d-46f2-983f-787acb212d26",
   "metadata": {},
   "outputs": [
    {
     "data": {
      "text/html": [
       "<div>\n",
       "<style scoped>\n",
       "    .dataframe tbody tr th:only-of-type {\n",
       "        vertical-align: middle;\n",
       "    }\n",
       "\n",
       "    .dataframe tbody tr th {\n",
       "        vertical-align: top;\n",
       "    }\n",
       "\n",
       "    .dataframe thead th {\n",
       "        text-align: right;\n",
       "    }\n",
       "</style>\n",
       "<table border=\"1\" class=\"dataframe\">\n",
       "  <thead>\n",
       "    <tr style=\"text-align: right;\">\n",
       "      <th></th>\n",
       "      <th>Job_Title</th>\n",
       "      <th>Job_Location</th>\n",
       "      <th>Company_Name</th>\n",
       "      <th>Job_Descrition</th>\n",
       "    </tr>\n",
       "  </thead>\n",
       "  <tbody>\n",
       "    <tr>\n",
       "      <th>0</th>\n",
       "      <td>Data Scientist/Data Analyst /Business Analyst</td>\n",
       "      <td>Pune, Delhi / NCR, Mumbai (All Areas)</td>\n",
       "      <td>Data Scientist/Data Analyst /Business Analyst</td>\n",
       "      <td>Job descriptionLocation: Pune /Mumbai/Delhi/No...</td>\n",
       "    </tr>\n",
       "    <tr>\n",
       "      <th>1</th>\n",
       "      <td>Senior Data Scientist</td>\n",
       "      <td>Hyderabad/Secunderabad, Gurgaon/Gurugram, Bang...</td>\n",
       "      <td>Senior Data Scientist</td>\n",
       "      <td>Job descriptionOnly Fresher Can Apply:Descript...</td>\n",
       "    </tr>\n",
       "    <tr>\n",
       "      <th>2</th>\n",
       "      <td>Only Fresher / Data Scientist / Data Analyst /...</td>\n",
       "      <td>Noida, Greater Noida, Delhi / NCR</td>\n",
       "      <td>Only Fresher / Data Scientist / Data Analyst /...</td>\n",
       "      <td>Job descriptionConnecting you for a job openin...</td>\n",
       "    </tr>\n",
       "    <tr>\n",
       "      <th>3</th>\n",
       "      <td>Advanced Analytics -Data Scientist</td>\n",
       "      <td>New Delhi, Hyderabad/Secunderabad</td>\n",
       "      <td>Advanced Analytics -Data Scientist</td>\n",
       "      <td>Job descriptionRole descriptions / Expectation...</td>\n",
       "    </tr>\n",
       "    <tr>\n",
       "      <th>4</th>\n",
       "      <td>Data Scientist (Early Joiner)</td>\n",
       "      <td>Noida(Sector-59 Noida)</td>\n",
       "      <td>Data Scientist (Early Joiner)</td>\n",
       "      <td>Job descriptionRole descriptions / Expectation...</td>\n",
       "    </tr>\n",
       "    <tr>\n",
       "      <th>5</th>\n",
       "      <td>Data Scientist || Python || C2H</td>\n",
       "      <td>Noida, Kolkata, Gurgaon/Gurugram, Bangalore/Be...</td>\n",
       "      <td>Data Scientist || Python || C2H</td>\n",
       "      <td>Job descriptionRoles and ResponsibilitiesJob D...</td>\n",
       "    </tr>\n",
       "    <tr>\n",
       "      <th>6</th>\n",
       "      <td>Data Scientist || Python || C2H</td>\n",
       "      <td>Noida, Kolkata, Gurgaon/Gurugram, Bangalore/Be...</td>\n",
       "      <td>Data Scientist || Python || C2H</td>\n",
       "      <td>Job descriptionDescription - \"In god we trust,...</td>\n",
       "    </tr>\n",
       "    <tr>\n",
       "      <th>7</th>\n",
       "      <td>Data Scientist - Machine Learning/ NLP</td>\n",
       "      <td>Gurgaon/Gurugram</td>\n",
       "      <td>Data Scientist - Machine Learning/ NLP</td>\n",
       "      <td>Job descriptionJob ResponsibilitiesAbility to ...</td>\n",
       "    </tr>\n",
       "    <tr>\n",
       "      <th>8</th>\n",
       "      <td>Chaayos is Looking For Data Scientist</td>\n",
       "      <td>New Delhi</td>\n",
       "      <td>Chaayos is Looking For Data Scientist</td>\n",
       "      <td>Job descriptionRoles and ResponsibilitiesMust ...</td>\n",
       "    </tr>\n",
       "    <tr>\n",
       "      <th>9</th>\n",
       "      <td>Data Scientist</td>\n",
       "      <td>Mumbai, Gurgaon/Gurugram, Bangalore/Bengaluru</td>\n",
       "      <td>Data Scientist</td>\n",
       "      <td>Job descriptionSenior Data Scientist We are in...</td>\n",
       "    </tr>\n",
       "  </tbody>\n",
       "</table>\n",
       "</div>"
      ],
      "text/plain": [
       "                                           Job_Title  \\\n",
       "0      Data Scientist/Data Analyst /Business Analyst   \n",
       "1                              Senior Data Scientist   \n",
       "2  Only Fresher / Data Scientist / Data Analyst /...   \n",
       "3                 Advanced Analytics -Data Scientist   \n",
       "4                      Data Scientist (Early Joiner)   \n",
       "5                    Data Scientist || Python || C2H   \n",
       "6                    Data Scientist || Python || C2H   \n",
       "7             Data Scientist - Machine Learning/ NLP   \n",
       "8              Chaayos is Looking For Data Scientist   \n",
       "9                                     Data Scientist   \n",
       "\n",
       "                                        Job_Location  \\\n",
       "0              Pune, Delhi / NCR, Mumbai (All Areas)   \n",
       "1  Hyderabad/Secunderabad, Gurgaon/Gurugram, Bang...   \n",
       "2                  Noida, Greater Noida, Delhi / NCR   \n",
       "3                  New Delhi, Hyderabad/Secunderabad   \n",
       "4                             Noida(Sector-59 Noida)   \n",
       "5  Noida, Kolkata, Gurgaon/Gurugram, Bangalore/Be...   \n",
       "6  Noida, Kolkata, Gurgaon/Gurugram, Bangalore/Be...   \n",
       "7                                   Gurgaon/Gurugram   \n",
       "8                                          New Delhi   \n",
       "9      Mumbai, Gurgaon/Gurugram, Bangalore/Bengaluru   \n",
       "\n",
       "                                        Company_Name  \\\n",
       "0      Data Scientist/Data Analyst /Business Analyst   \n",
       "1                              Senior Data Scientist   \n",
       "2  Only Fresher / Data Scientist / Data Analyst /...   \n",
       "3                 Advanced Analytics -Data Scientist   \n",
       "4                      Data Scientist (Early Joiner)   \n",
       "5                    Data Scientist || Python || C2H   \n",
       "6                    Data Scientist || Python || C2H   \n",
       "7             Data Scientist - Machine Learning/ NLP   \n",
       "8              Chaayos is Looking For Data Scientist   \n",
       "9                                     Data Scientist   \n",
       "\n",
       "                                      Job_Descrition  \n",
       "0  Job descriptionLocation: Pune /Mumbai/Delhi/No...  \n",
       "1  Job descriptionOnly Fresher Can Apply:Descript...  \n",
       "2  Job descriptionConnecting you for a job openin...  \n",
       "3  Job descriptionRole descriptions / Expectation...  \n",
       "4  Job descriptionRole descriptions / Expectation...  \n",
       "5  Job descriptionRoles and ResponsibilitiesJob D...  \n",
       "6  Job descriptionDescription - \"In god we trust,...  \n",
       "7  Job descriptionJob ResponsibilitiesAbility to ...  \n",
       "8  Job descriptionRoles and ResponsibilitiesMust ...  \n",
       "9  Job descriptionSenior Data Scientist We are in...  "
      ]
     },
     "execution_count": 140,
     "metadata": {},
     "output_type": "execute_result"
    }
   ],
   "source": [
    "data_a['Job_Title'] = job_title_a\n",
    "data_a['Job_Location'] = job_location_a\n",
    "data_a['Company_Name'] = job_title_a\n",
    "data_a['Job_Descrition'] = job_descrition_a\n",
    "\n",
    "\n",
    "data_a"
   ]
  },
  {
   "cell_type": "markdown",
   "id": "42aa37e9-8d2a-498d-8ac3-7d6add2e116a",
   "metadata": {},
   "source": [
    "### ********* ********* ********* *********"
   ]
  },
  {
   "cell_type": "markdown",
   "id": "82ac980f-43b5-45fa-a565-65dca27a57af",
   "metadata": {},
   "source": [
    "### __Q4: Write a python program to scrape data for first 10 job results for Data scientist Designation in Noida location. You have to scrape company_name, No. of days ago when job was posted, Rating of the company.__\n",
    "## __This task will be done in following steps:__"
   ]
  },
  {
   "cell_type": "markdown",
   "id": "ef7a88c9-a95e-4a74-ad19-1e7e0ae9d0b7",
   "metadata": {},
   "source": [
    "#### 1. first get the webpage https://www.glassdoor.co.in/index.htm\n",
    "#### 2. Enter “Data Scientist” in “Job Title,Keyword,Company” field and enter “Noida” in “location” field.\n",
    "#### 3. Then click the search button. You will land up in the below page:\n",
    "#### 4. Then scrape the data for the first 10 jobs results you get in the above shown page.\n",
    "#### 5. Finally create a dataframe of the scraped data.\n",
    "#### Note- All of the above steps have to be done in code. No step is to be done manually"
   ]
  },
  {
   "cell_type": "markdown",
   "id": "02bd764e-a548-4167-985b-4cdf72794668",
   "metadata": {},
   "source": [
    "![](4.jpg)"
   ]
  },
  {
   "cell_type": "code",
   "execution_count": 143,
   "id": "b5b30aa3-33f2-44e6-9f5f-2db15d486b0b",
   "metadata": {},
   "outputs": [],
   "source": [
    "## the website url\n",
    "url_ = \" https://www.naukri.com/\"\n",
    "\n",
    "# opening the web page with the above url\n",
    "\n",
    "driver.get(url=url_)"
   ]
  },
  {
   "cell_type": "code",
   "execution_count": 144,
   "id": "a86bbfe8-8fbe-4609-ba31-88bf13e92a96",
   "metadata": {},
   "outputs": [],
   "source": [
    "job_skills = driver.find_element_by_xpath('//input[@class=\"sugInp\"]')\n",
    "job_skills.send_keys('Data Scientist')"
   ]
  },
  {
   "cell_type": "code",
   "execution_count": 145,
   "id": "25660107-74a7-435d-960f-c4db9d58bd90",
   "metadata": {},
   "outputs": [],
   "source": [
    "job_location1 = driver.find_element_by_xpath('//input[@id=\"qsb-location-sugg\"]')\n",
    "job_location1.send_keys('Noida')"
   ]
  },
  {
   "cell_type": "code",
   "execution_count": 146,
   "id": "a2d8af70-a4a8-4266-802c-1fe15f441827",
   "metadata": {},
   "outputs": [],
   "source": [
    "button_search = driver.find_element_by_xpath('//button[@class=\"btn\"]')\n",
    "button_search.click()"
   ]
  },
  {
   "cell_type": "code",
   "execution_count": 148,
   "id": "c7b4ac13-2e48-4498-802a-43451afa3d2c",
   "metadata": {},
   "outputs": [
    {
     "data": {
      "text/plain": [
       "[<selenium.webdriver.remote.webelement.WebElement (session=\"f0497f5f99f6c5cb90e5e5b4428c6beb\", element=\"fd97eb38-1fd6-4e55-94bc-04649d878c73\")>,\n",
       " <selenium.webdriver.remote.webelement.WebElement (session=\"f0497f5f99f6c5cb90e5e5b4428c6beb\", element=\"c081d54b-9fcd-4b05-b16c-12dd651d8cd3\")>,\n",
       " <selenium.webdriver.remote.webelement.WebElement (session=\"f0497f5f99f6c5cb90e5e5b4428c6beb\", element=\"95bee8c0-1b57-4f89-a3b6-fca4989e53e9\")>,\n",
       " <selenium.webdriver.remote.webelement.WebElement (session=\"f0497f5f99f6c5cb90e5e5b4428c6beb\", element=\"b340aefe-6879-4d41-b950-3ebad2e0266c\")>,\n",
       " <selenium.webdriver.remote.webelement.WebElement (session=\"f0497f5f99f6c5cb90e5e5b4428c6beb\", element=\"8a8bd843-3fc8-4535-a9c2-47e2d0f90a1e\")>,\n",
       " <selenium.webdriver.remote.webelement.WebElement (session=\"f0497f5f99f6c5cb90e5e5b4428c6beb\", element=\"24cc050f-34da-4558-bcfc-1f7cae4cce15\")>,\n",
       " <selenium.webdriver.remote.webelement.WebElement (session=\"f0497f5f99f6c5cb90e5e5b4428c6beb\", element=\"f1729eba-a797-431b-95a3-225ace7cf94e\")>,\n",
       " <selenium.webdriver.remote.webelement.WebElement (session=\"f0497f5f99f6c5cb90e5e5b4428c6beb\", element=\"7f51fd89-8c42-4476-a98d-78987190ea6b\")>,\n",
       " <selenium.webdriver.remote.webelement.WebElement (session=\"f0497f5f99f6c5cb90e5e5b4428c6beb\", element=\"bc5b9f68-b133-400b-a9cf-092c41dfab26\")>,\n",
       " <selenium.webdriver.remote.webelement.WebElement (session=\"f0497f5f99f6c5cb90e5e5b4428c6beb\", element=\"c4a6d820-ed27-4a40-b560-cd2ab82c0f92\")>,\n",
       " <selenium.webdriver.remote.webelement.WebElement (session=\"f0497f5f99f6c5cb90e5e5b4428c6beb\", element=\"59f3f0ec-615e-4904-87c9-a14992e0b8c4\")>,\n",
       " <selenium.webdriver.remote.webelement.WebElement (session=\"f0497f5f99f6c5cb90e5e5b4428c6beb\", element=\"fdde29d9-4d31-440c-8c2e-99c3f59ec593\")>,\n",
       " <selenium.webdriver.remote.webelement.WebElement (session=\"f0497f5f99f6c5cb90e5e5b4428c6beb\", element=\"1f47955f-28a1-4aba-a801-965d68d46e3c\")>,\n",
       " <selenium.webdriver.remote.webelement.WebElement (session=\"f0497f5f99f6c5cb90e5e5b4428c6beb\", element=\"9aa17a88-4380-4c6f-9014-a5465cf225ff\")>,\n",
       " <selenium.webdriver.remote.webelement.WebElement (session=\"f0497f5f99f6c5cb90e5e5b4428c6beb\", element=\"9ef11a3e-7016-4299-8c7e-0ee7c7d6534a\")>,\n",
       " <selenium.webdriver.remote.webelement.WebElement (session=\"f0497f5f99f6c5cb90e5e5b4428c6beb\", element=\"8ee11a0a-b7b4-42c6-9cbc-803c2cabfbc5\")>,\n",
       " <selenium.webdriver.remote.webelement.WebElement (session=\"f0497f5f99f6c5cb90e5e5b4428c6beb\", element=\"91afbd88-0278-4854-8194-40e1707a8c55\")>,\n",
       " <selenium.webdriver.remote.webelement.WebElement (session=\"f0497f5f99f6c5cb90e5e5b4428c6beb\", element=\"8798d1d1-60ca-41ec-8dc1-7adccb868514\")>,\n",
       " <selenium.webdriver.remote.webelement.WebElement (session=\"f0497f5f99f6c5cb90e5e5b4428c6beb\", element=\"b64cb6d3-acc9-446b-aaf9-27424dd3147e\")>,\n",
       " <selenium.webdriver.remote.webelement.WebElement (session=\"f0497f5f99f6c5cb90e5e5b4428c6beb\", element=\"3f60b021-52b6-4f76-a2d3-555bfaf4c3ba\")>]"
      ]
     },
     "execution_count": 148,
     "metadata": {},
     "output_type": "execute_result"
    }
   ],
   "source": [
    "## let's find the company's names\n",
    "company_name_ = driver.find_elements_by_xpath('//a[@class=\"subTitle ellipsis fleft\"]')\n",
    "company_name_"
   ]
  },
  {
   "cell_type": "code",
   "execution_count": 149,
   "id": "82c1deca-f1a6-4175-9c5e-744372654a15",
   "metadata": {},
   "outputs": [],
   "source": [
    "company_list = []\n",
    "for oli in company_name_:\n",
    "    company_list.append(oli.text)"
   ]
  },
  {
   "cell_type": "code",
   "execution_count": 150,
   "id": "49d20b5e-cadb-407b-9801-f6b73807a73d",
   "metadata": {},
   "outputs": [
    {
     "data": {
      "text/plain": [
       "['Oracle India Pvt. Ltd.',\n",
       " 'Agreeya',\n",
       " 'HCL Technologies Limited',\n",
       " 'Optum Global Solutions (India) Private Limited',\n",
       " 'Ultimate Search Private Limited',\n",
       " 'R Systems International Ltd.',\n",
       " 'Newgen Software Technologies Limited',\n",
       " 'Agreeya',\n",
       " 'Agreeya',\n",
       " 'Conduent',\n",
       " 'Huquo Consulting Pvt. Ltd',\n",
       " 'GABA Consultancy services',\n",
       " 'R Systems International Ltd.',\n",
       " 'R Systems International Ltd.',\n",
       " 'Growel Softech Pvt. Ltd.',\n",
       " 'Growel Softech Pvt. Ltd.',\n",
       " 'HyrEzy Talent Solutions',\n",
       " 'Bigshyft Hiring for Indus OS',\n",
       " 'Jubna',\n",
       " 'InnovAccer']"
      ]
     },
     "execution_count": 150,
     "metadata": {},
     "output_type": "execute_result"
    }
   ],
   "source": [
    "company_list"
   ]
  },
  {
   "cell_type": "code",
   "execution_count": 151,
   "id": "48a081b5-ad90-4431-9ec5-5dc9af48921b",
   "metadata": {},
   "outputs": [],
   "source": [
    "## let's get the first 10 company names \n",
    "company_name_b =company_list[0:10]"
   ]
  },
  {
   "cell_type": "code",
   "execution_count": 152,
   "id": "cdbd0a0f-859f-4f2e-984f-f1bcbd9f70d1",
   "metadata": {},
   "outputs": [
    {
     "data": {
      "text/plain": [
       "['Oracle India Pvt. Ltd.',\n",
       " 'Agreeya',\n",
       " 'HCL Technologies Limited',\n",
       " 'Optum Global Solutions (India) Private Limited',\n",
       " 'Ultimate Search Private Limited',\n",
       " 'R Systems International Ltd.',\n",
       " 'Newgen Software Technologies Limited',\n",
       " 'Agreeya',\n",
       " 'Agreeya',\n",
       " 'Conduent']"
      ]
     },
     "execution_count": 152,
     "metadata": {},
     "output_type": "execute_result"
    }
   ],
   "source": [
    "company_name_b"
   ]
  },
  {
   "cell_type": "code",
   "execution_count": 157,
   "id": "42ad3c91-55ca-44e6-be74-8b37f4f6e340",
   "metadata": {},
   "outputs": [
    {
     "data": {
      "text/plain": [
       "[<selenium.webdriver.remote.webelement.WebElement (session=\"f0497f5f99f6c5cb90e5e5b4428c6beb\", element=\"dd4e7f4a-af6b-4350-9798-d5ee5da7fa9c\")>,\n",
       " <selenium.webdriver.remote.webelement.WebElement (session=\"f0497f5f99f6c5cb90e5e5b4428c6beb\", element=\"25c70d2e-2dc0-4346-8704-1c3e8c81841b\")>,\n",
       " <selenium.webdriver.remote.webelement.WebElement (session=\"f0497f5f99f6c5cb90e5e5b4428c6beb\", element=\"6964fd24-38d4-40d2-bdba-1539f1875fb9\")>,\n",
       " <selenium.webdriver.remote.webelement.WebElement (session=\"f0497f5f99f6c5cb90e5e5b4428c6beb\", element=\"13e8b8e6-40c2-41db-bd6c-6e5d5b506581\")>,\n",
       " <selenium.webdriver.remote.webelement.WebElement (session=\"f0497f5f99f6c5cb90e5e5b4428c6beb\", element=\"47860ece-bb62-4452-9139-b87b517b9a2e\")>,\n",
       " <selenium.webdriver.remote.webelement.WebElement (session=\"f0497f5f99f6c5cb90e5e5b4428c6beb\", element=\"079a3e2c-67e1-44aa-ba8b-7f36d4248158\")>,\n",
       " <selenium.webdriver.remote.webelement.WebElement (session=\"f0497f5f99f6c5cb90e5e5b4428c6beb\", element=\"53050499-25d8-48c1-9095-32ffd22717a0\")>,\n",
       " <selenium.webdriver.remote.webelement.WebElement (session=\"f0497f5f99f6c5cb90e5e5b4428c6beb\", element=\"691f4de1-0599-4b9e-91fa-5cf16048bc0c\")>,\n",
       " <selenium.webdriver.remote.webelement.WebElement (session=\"f0497f5f99f6c5cb90e5e5b4428c6beb\", element=\"7a09d014-8abc-4c82-989f-c73e9ed52454\")>,\n",
       " <selenium.webdriver.remote.webelement.WebElement (session=\"f0497f5f99f6c5cb90e5e5b4428c6beb\", element=\"3643145b-2ff4-441c-a74a-abf7d204ec99\")>,\n",
       " <selenium.webdriver.remote.webelement.WebElement (session=\"f0497f5f99f6c5cb90e5e5b4428c6beb\", element=\"e0d33731-afd5-48c1-b058-3fa3b65222cf\")>,\n",
       " <selenium.webdriver.remote.webelement.WebElement (session=\"f0497f5f99f6c5cb90e5e5b4428c6beb\", element=\"c3e6dd3f-02ce-44b2-80a7-244e7f6f01ee\")>,\n",
       " <selenium.webdriver.remote.webelement.WebElement (session=\"f0497f5f99f6c5cb90e5e5b4428c6beb\", element=\"a26ab1d6-cc9e-41e2-8dfe-dbef9111c416\")>,\n",
       " <selenium.webdriver.remote.webelement.WebElement (session=\"f0497f5f99f6c5cb90e5e5b4428c6beb\", element=\"935b927d-c01d-4330-ae56-5cc32a9b12f8\")>,\n",
       " <selenium.webdriver.remote.webelement.WebElement (session=\"f0497f5f99f6c5cb90e5e5b4428c6beb\", element=\"53bda493-9759-480e-a79c-b7d0ba59cfaa\")>,\n",
       " <selenium.webdriver.remote.webelement.WebElement (session=\"f0497f5f99f6c5cb90e5e5b4428c6beb\", element=\"753f57f1-ee34-40bb-9474-0c4fa06e4b11\")>,\n",
       " <selenium.webdriver.remote.webelement.WebElement (session=\"f0497f5f99f6c5cb90e5e5b4428c6beb\", element=\"34499b63-ce1b-4d05-9eb3-e0b108ddcc95\")>,\n",
       " <selenium.webdriver.remote.webelement.WebElement (session=\"f0497f5f99f6c5cb90e5e5b4428c6beb\", element=\"177b178e-89f2-4eae-9391-6c701b0bd54c\")>,\n",
       " <selenium.webdriver.remote.webelement.WebElement (session=\"f0497f5f99f6c5cb90e5e5b4428c6beb\", element=\"c8c185b7-130c-411c-9c5f-f57fbed9a335\")>,\n",
       " <selenium.webdriver.remote.webelement.WebElement (session=\"f0497f5f99f6c5cb90e5e5b4428c6beb\", element=\"41b73e10-1d89-410b-9772-83b04b44b413\")>,\n",
       " <selenium.webdriver.remote.webelement.WebElement (session=\"f0497f5f99f6c5cb90e5e5b4428c6beb\", element=\"a21bea9a-64aa-40c3-afca-2aaca901385e\")>,\n",
       " <selenium.webdriver.remote.webelement.WebElement (session=\"f0497f5f99f6c5cb90e5e5b4428c6beb\", element=\"c299f62b-d4a5-449b-a0da-486ad45158e8\")>,\n",
       " <selenium.webdriver.remote.webelement.WebElement (session=\"f0497f5f99f6c5cb90e5e5b4428c6beb\", element=\"8b7d36af-bdef-4373-891d-3d04dec9ba0c\")>,\n",
       " <selenium.webdriver.remote.webelement.WebElement (session=\"f0497f5f99f6c5cb90e5e5b4428c6beb\", element=\"56a56a25-b636-4e1a-b708-07c5801ae4d2\")>,\n",
       " <selenium.webdriver.remote.webelement.WebElement (session=\"f0497f5f99f6c5cb90e5e5b4428c6beb\", element=\"bc00b09a-9a41-4f75-9ebf-fb3f9b546ab8\")>,\n",
       " <selenium.webdriver.remote.webelement.WebElement (session=\"f0497f5f99f6c5cb90e5e5b4428c6beb\", element=\"c843deb7-9276-49e5-8a31-a96d14c4c2cb\")>,\n",
       " <selenium.webdriver.remote.webelement.WebElement (session=\"f0497f5f99f6c5cb90e5e5b4428c6beb\", element=\"47b4de5d-2d70-489c-9ced-9f51e6c00ce0\")>,\n",
       " <selenium.webdriver.remote.webelement.WebElement (session=\"f0497f5f99f6c5cb90e5e5b4428c6beb\", element=\"63ca2b50-aeda-43c3-ae4a-c89c6bac1266\")>,\n",
       " <selenium.webdriver.remote.webelement.WebElement (session=\"f0497f5f99f6c5cb90e5e5b4428c6beb\", element=\"d790216f-41db-4a31-ad9e-2eed83c54002\")>,\n",
       " <selenium.webdriver.remote.webelement.WebElement (session=\"f0497f5f99f6c5cb90e5e5b4428c6beb\", element=\"6067ebf5-c29b-4521-a806-774799741a3c\")>,\n",
       " <selenium.webdriver.remote.webelement.WebElement (session=\"f0497f5f99f6c5cb90e5e5b4428c6beb\", element=\"1898780c-5f7f-44de-83d7-75e31f67127c\")>,\n",
       " <selenium.webdriver.remote.webelement.WebElement (session=\"f0497f5f99f6c5cb90e5e5b4428c6beb\", element=\"22cb3324-2f4d-4144-9a3f-d470b5ffaddc\")>,\n",
       " <selenium.webdriver.remote.webelement.WebElement (session=\"f0497f5f99f6c5cb90e5e5b4428c6beb\", element=\"2a0d9aef-3912-4312-9e5a-adda0de1974c\")>,\n",
       " <selenium.webdriver.remote.webelement.WebElement (session=\"f0497f5f99f6c5cb90e5e5b4428c6beb\", element=\"538d4751-0077-4ce5-84af-1b002f4d02f4\")>,\n",
       " <selenium.webdriver.remote.webelement.WebElement (session=\"f0497f5f99f6c5cb90e5e5b4428c6beb\", element=\"a7f1342d-c4b2-4a78-853a-5556b591d891\")>,\n",
       " <selenium.webdriver.remote.webelement.WebElement (session=\"f0497f5f99f6c5cb90e5e5b4428c6beb\", element=\"6642b095-35ff-4717-9671-b3ffb30e738e\")>]"
      ]
     },
     "execution_count": 157,
     "metadata": {},
     "output_type": "execute_result"
    }
   ],
   "source": [
    "## let's find No. of days ago when job was posted\n",
    "days_of_post = driver.find_elements_by_xpath('//span[@class=\"fleft fw500\"]')\n",
    "days_of_post"
   ]
  },
  {
   "cell_type": "code",
   "execution_count": 158,
   "id": "27f104dc-b5a4-4067-87db-b23e534d4b64",
   "metadata": {},
   "outputs": [
    {
     "data": {
      "text/plain": [
       "['PREMIUM',\n",
       " '6 DAYS AGO',\n",
       " '1 DAY AGO',\n",
       " 'PREFERRED',\n",
       " '3 DAYS AGO',\n",
       " 'HOT JOB',\n",
       " '4 DAYS AGO',\n",
       " 'HOT JOB',\n",
       " '1 DAY AGO',\n",
       " 'PREMIUM',\n",
       " '2 DAYS AGO',\n",
       " '2 DAYS AGO',\n",
       " 'PREMIUM',\n",
       " '4 DAYS AGO',\n",
       " 'PREMIUM',\n",
       " '3 DAYS AGO',\n",
       " 'PREMIUM',\n",
       " '6 DAYS AGO',\n",
       " 'PREMIUM',\n",
       " '3 DAYS AGO',\n",
       " '4 DAYS AGO',\n",
       " 'PREFERRED',\n",
       " 'JUST NOW',\n",
       " 'PREFERRED',\n",
       " '13 DAYS AGO',\n",
       " '4 DAYS AGO',\n",
       " 'HOT JOB',\n",
       " '4 DAYS AGO',\n",
       " 'PREMIUM',\n",
       " '11 DAYS AGO',\n",
       " 'PREMIUM',\n",
       " '4 DAYS AGO',\n",
       " 'HOT JOB',\n",
       " '9 DAYS AGO',\n",
       " 'PREMIUM',\n",
       " '13 DAYS AGO']"
      ]
     },
     "execution_count": 158,
     "metadata": {},
     "output_type": "execute_result"
    }
   ],
   "source": [
    "days = []\n",
    "for oli in days_of_post:\n",
    "    days.append(oli.text)\n",
    "days"
   ]
  },
  {
   "cell_type": "code",
   "execution_count": 161,
   "id": "3eeb1dbd-351b-4fee-8f27-f91b157925c6",
   "metadata": {},
   "outputs": [],
   "source": [
    "days_filter = []\n",
    "## let's use for loop to select only days ago when job was posted\n",
    "for oli in days:\n",
    "    if oli !='PREFERRED' and oli !='PREMIUM':\n",
    "        days_filter.append(oli)\n",
    "        \n",
    "    "
   ]
  },
  {
   "cell_type": "code",
   "execution_count": 162,
   "id": "31fc96e9-a9e4-4fb8-8d30-3b4ec583f1a9",
   "metadata": {},
   "outputs": [
    {
     "data": {
      "text/plain": [
       "['6 DAYS AGO',\n",
       " '1 DAY AGO',\n",
       " '3 DAYS AGO',\n",
       " 'HOT JOB',\n",
       " '4 DAYS AGO',\n",
       " 'HOT JOB',\n",
       " '1 DAY AGO',\n",
       " '2 DAYS AGO',\n",
       " '2 DAYS AGO',\n",
       " '4 DAYS AGO',\n",
       " '3 DAYS AGO',\n",
       " '6 DAYS AGO',\n",
       " '3 DAYS AGO',\n",
       " '4 DAYS AGO',\n",
       " 'JUST NOW',\n",
       " '13 DAYS AGO',\n",
       " '4 DAYS AGO',\n",
       " 'HOT JOB',\n",
       " '4 DAYS AGO',\n",
       " '11 DAYS AGO',\n",
       " '4 DAYS AGO',\n",
       " 'HOT JOB',\n",
       " '9 DAYS AGO',\n",
       " '13 DAYS AGO']"
      ]
     },
     "execution_count": 162,
     "metadata": {},
     "output_type": "execute_result"
    }
   ],
   "source": [
    "days_filter"
   ]
  },
  {
   "cell_type": "code",
   "execution_count": 163,
   "id": "3d4c186f-1213-4f2f-9603-749cc6af9422",
   "metadata": {},
   "outputs": [
    {
     "data": {
      "text/plain": [
       "['6 DAYS AGO',\n",
       " '1 DAY AGO',\n",
       " '3 DAYS AGO',\n",
       " 'HOT JOB',\n",
       " '4 DAYS AGO',\n",
       " 'HOT JOB',\n",
       " '1 DAY AGO',\n",
       " '2 DAYS AGO',\n",
       " '2 DAYS AGO',\n",
       " '4 DAYS AGO']"
      ]
     },
     "execution_count": 163,
     "metadata": {},
     "output_type": "execute_result"
    }
   ],
   "source": [
    "## let's get the first 10 \n",
    "\n",
    "days_of_posted_b = days_filter[0:10]\n",
    "days_of_posted_b\n"
   ]
  },
  {
   "cell_type": "code",
   "execution_count": 164,
   "id": "16980a0d-0536-42ed-9982-eba6663667bd",
   "metadata": {},
   "outputs": [
    {
     "data": {
      "text/plain": [
       "[<selenium.webdriver.remote.webelement.WebElement (session=\"f0497f5f99f6c5cb90e5e5b4428c6beb\", element=\"ee1109dc-02f2-4d26-aaff-3c8593f07339\")>,\n",
       " <selenium.webdriver.remote.webelement.WebElement (session=\"f0497f5f99f6c5cb90e5e5b4428c6beb\", element=\"ca4aa70d-0fb4-48dd-af87-6cca614bb8e1\")>,\n",
       " <selenium.webdriver.remote.webelement.WebElement (session=\"f0497f5f99f6c5cb90e5e5b4428c6beb\", element=\"e1cb483b-8b74-4d55-be47-2c19de1f3801\")>,\n",
       " <selenium.webdriver.remote.webelement.WebElement (session=\"f0497f5f99f6c5cb90e5e5b4428c6beb\", element=\"22af97c0-6666-4183-997d-89831287373c\")>,\n",
       " <selenium.webdriver.remote.webelement.WebElement (session=\"f0497f5f99f6c5cb90e5e5b4428c6beb\", element=\"a559f250-67d8-4def-afc1-9d558c35a702\")>,\n",
       " <selenium.webdriver.remote.webelement.WebElement (session=\"f0497f5f99f6c5cb90e5e5b4428c6beb\", element=\"39bc2422-c5dd-42c5-b077-42ad7f7898c6\")>,\n",
       " <selenium.webdriver.remote.webelement.WebElement (session=\"f0497f5f99f6c5cb90e5e5b4428c6beb\", element=\"69851fe8-bae9-444a-bcbc-bbf0d7ef3c4c\")>,\n",
       " <selenium.webdriver.remote.webelement.WebElement (session=\"f0497f5f99f6c5cb90e5e5b4428c6beb\", element=\"eb79adef-b9b7-400b-ac54-59c0775a364e\")>,\n",
       " <selenium.webdriver.remote.webelement.WebElement (session=\"f0497f5f99f6c5cb90e5e5b4428c6beb\", element=\"5ac9b0f2-4414-4233-add3-ad6f51a05d8b\")>,\n",
       " <selenium.webdriver.remote.webelement.WebElement (session=\"f0497f5f99f6c5cb90e5e5b4428c6beb\", element=\"df8d3f05-6574-4cc5-8012-490aef92b573\")>,\n",
       " <selenium.webdriver.remote.webelement.WebElement (session=\"f0497f5f99f6c5cb90e5e5b4428c6beb\", element=\"5ff1f59c-936b-4605-b4fa-290f683deeba\")>,\n",
       " <selenium.webdriver.remote.webelement.WebElement (session=\"f0497f5f99f6c5cb90e5e5b4428c6beb\", element=\"e718fa2a-ccdb-4e58-aca6-533ce2a1c3a5\")>]"
      ]
     },
     "execution_count": 164,
     "metadata": {},
     "output_type": "execute_result"
    }
   ],
   "source": [
    "## let's find the Rating of the company\n",
    "\n",
    "rating = driver.find_elements_by_xpath('//span[@class=\"starRating fleft dot\"]')\n",
    "rating"
   ]
  },
  {
   "cell_type": "code",
   "execution_count": 165,
   "id": "522ff83b-facd-4a5a-be84-e5896fd17ac7",
   "metadata": {},
   "outputs": [],
   "source": [
    "rante_list = []\n",
    "for oli in rating:\n",
    "    rante_list.append(oli.text)"
   ]
  },
  {
   "cell_type": "code",
   "execution_count": 166,
   "id": "16df4a01-6bf9-4b02-b263-a263a8360ac3",
   "metadata": {},
   "outputs": [
    {
     "data": {
      "text/plain": [
       "['3.7',\n",
       " '3.1',\n",
       " '3.8',\n",
       " '4.1',\n",
       " '3.1',\n",
       " '3.3',\n",
       " '3.1',\n",
       " '3.1',\n",
       " '3.5',\n",
       " '3.1',\n",
       " '3.1',\n",
       " '2.9']"
      ]
     },
     "execution_count": 166,
     "metadata": {},
     "output_type": "execute_result"
    }
   ],
   "source": [
    "rante_list"
   ]
  },
  {
   "cell_type": "code",
   "execution_count": 167,
   "id": "ed0c8d2d-77ae-493a-a87b-53122fcdeaac",
   "metadata": {},
   "outputs": [
    {
     "data": {
      "text/plain": [
       "12"
      ]
     },
     "execution_count": 167,
     "metadata": {},
     "output_type": "execute_result"
    }
   ],
   "source": [
    "len(rante_list)"
   ]
  },
  {
   "cell_type": "code",
   "execution_count": 168,
   "id": "0dedd62b-b752-48a5-a5d6-7017302a7c65",
   "metadata": {},
   "outputs": [
    {
     "data": {
      "text/plain": [
       "['3.7', '3.1', '3.8', '4.1', '3.1', '3.3', '3.1', '3.1', '3.5', '3.1']"
      ]
     },
     "execution_count": 168,
     "metadata": {},
     "output_type": "execute_result"
    }
   ],
   "source": [
    "## let's get the 10 first rating\n",
    "ranting_b = rante_list[0:10]\n",
    "ranting_b"
   ]
  },
  {
   "cell_type": "markdown",
   "id": "b12b5147-3d75-4444-8df0-da2bf3b55375",
   "metadata": {},
   "source": [
    "## Now let's create our data Frame\n"
   ]
  },
  {
   "cell_type": "code",
   "execution_count": 169,
   "id": "db601fc9-d290-4348-bfa8-f7904fb10862",
   "metadata": {},
   "outputs": [],
   "source": [
    "data_b = pd.DataFrame({})"
   ]
  },
  {
   "cell_type": "code",
   "execution_count": 170,
   "id": "46b2a85b-73c2-4249-8bec-028d8f851210",
   "metadata": {},
   "outputs": [
    {
     "data": {
      "text/html": [
       "<div>\n",
       "<style scoped>\n",
       "    .dataframe tbody tr th:only-of-type {\n",
       "        vertical-align: middle;\n",
       "    }\n",
       "\n",
       "    .dataframe tbody tr th {\n",
       "        vertical-align: top;\n",
       "    }\n",
       "\n",
       "    .dataframe thead th {\n",
       "        text-align: right;\n",
       "    }\n",
       "</style>\n",
       "<table border=\"1\" class=\"dataframe\">\n",
       "  <thead>\n",
       "    <tr style=\"text-align: right;\">\n",
       "      <th></th>\n",
       "      <th>Company_Name</th>\n",
       "      <th>Days_Of_Posted</th>\n",
       "      <th>Company_Rating</th>\n",
       "    </tr>\n",
       "  </thead>\n",
       "  <tbody>\n",
       "    <tr>\n",
       "      <th>0</th>\n",
       "      <td>Oracle India Pvt. Ltd.</td>\n",
       "      <td>6 DAYS AGO</td>\n",
       "      <td>3.7</td>\n",
       "    </tr>\n",
       "    <tr>\n",
       "      <th>1</th>\n",
       "      <td>Agreeya</td>\n",
       "      <td>1 DAY AGO</td>\n",
       "      <td>3.1</td>\n",
       "    </tr>\n",
       "    <tr>\n",
       "      <th>2</th>\n",
       "      <td>HCL Technologies Limited</td>\n",
       "      <td>3 DAYS AGO</td>\n",
       "      <td>3.8</td>\n",
       "    </tr>\n",
       "    <tr>\n",
       "      <th>3</th>\n",
       "      <td>Optum Global Solutions (India) Private Limited</td>\n",
       "      <td>HOT JOB</td>\n",
       "      <td>4.1</td>\n",
       "    </tr>\n",
       "    <tr>\n",
       "      <th>4</th>\n",
       "      <td>Ultimate Search Private Limited</td>\n",
       "      <td>4 DAYS AGO</td>\n",
       "      <td>3.1</td>\n",
       "    </tr>\n",
       "    <tr>\n",
       "      <th>5</th>\n",
       "      <td>R Systems International Ltd.</td>\n",
       "      <td>HOT JOB</td>\n",
       "      <td>3.3</td>\n",
       "    </tr>\n",
       "    <tr>\n",
       "      <th>6</th>\n",
       "      <td>Newgen Software Technologies Limited</td>\n",
       "      <td>1 DAY AGO</td>\n",
       "      <td>3.1</td>\n",
       "    </tr>\n",
       "    <tr>\n",
       "      <th>7</th>\n",
       "      <td>Agreeya</td>\n",
       "      <td>2 DAYS AGO</td>\n",
       "      <td>3.1</td>\n",
       "    </tr>\n",
       "    <tr>\n",
       "      <th>8</th>\n",
       "      <td>Agreeya</td>\n",
       "      <td>2 DAYS AGO</td>\n",
       "      <td>3.5</td>\n",
       "    </tr>\n",
       "    <tr>\n",
       "      <th>9</th>\n",
       "      <td>Conduent</td>\n",
       "      <td>4 DAYS AGO</td>\n",
       "      <td>3.1</td>\n",
       "    </tr>\n",
       "  </tbody>\n",
       "</table>\n",
       "</div>"
      ],
      "text/plain": [
       "                                     Company_Name Days_Of_Posted  \\\n",
       "0                          Oracle India Pvt. Ltd.     6 DAYS AGO   \n",
       "1                                         Agreeya      1 DAY AGO   \n",
       "2                        HCL Technologies Limited     3 DAYS AGO   \n",
       "3  Optum Global Solutions (India) Private Limited        HOT JOB   \n",
       "4                 Ultimate Search Private Limited     4 DAYS AGO   \n",
       "5                    R Systems International Ltd.        HOT JOB   \n",
       "6            Newgen Software Technologies Limited      1 DAY AGO   \n",
       "7                                         Agreeya     2 DAYS AGO   \n",
       "8                                         Agreeya     2 DAYS AGO   \n",
       "9                                        Conduent     4 DAYS AGO   \n",
       "\n",
       "  Company_Rating  \n",
       "0            3.7  \n",
       "1            3.1  \n",
       "2            3.8  \n",
       "3            4.1  \n",
       "4            3.1  \n",
       "5            3.3  \n",
       "6            3.1  \n",
       "7            3.1  \n",
       "8            3.5  \n",
       "9            3.1  "
      ]
     },
     "execution_count": 170,
     "metadata": {},
     "output_type": "execute_result"
    }
   ],
   "source": [
    "data_b['Company_Name'] = company_name_b\n",
    "data_b['Days_Of_Posted'] = days_of_posted_b\n",
    "data_b['Company_Rating'] = ranting_b\n",
    "data_b\n"
   ]
  },
  {
   "cell_type": "markdown",
   "id": "a78aeaf2-1dde-48aa-bc73-9a415c7edfd0",
   "metadata": {},
   "source": [
    "### *************** *************** ***************\n"
   ]
  },
  {
   "cell_type": "markdown",
   "id": "3fa0aa28-b827-49c1-8cd7-03917867daea",
   "metadata": {},
   "source": [
    "### __Q5: Write a python program to scrape the salary data for Data Scientist designation in Noida location.__\n",
    "### __You have to scrape Company name, Number of salaries, Average salary, Min salary, Max Salary.__\n",
    "### __The above task will be, done as shown in the below steps:__"
   ]
  },
  {
   "cell_type": "markdown",
   "id": "c3d6c8a8-3131-4e4d-a2cc-6783787711ab",
   "metadata": {},
   "source": [
    "#### 1. first get the webpage https://www.glassdoor.co.in/Salaries/index.htm \n",
    "#### 2. Enter “Data Scientist” in Job title field and “Noida” in location field.\n",
    "#### 3. Click the search button.\n",
    "#### 4. After that you will land on the below page\n",
    "#### You have to scrape whole data from this webpage\n",
    "#### 5. Scrape data for first 10 companies. Scrape the min salary, max salary, company name, Average salary and rating of the company.\n",
    "#### 6.Store the data in a dataframe.\n",
    "#### Note that all of the above steps have to be done by coding only and not manually."
   ]
  },
  {
   "cell_type": "markdown",
   "id": "83f74df4-d16e-4425-8029-8db4ab4fd37f",
   "metadata": {},
   "source": [
    "![](5.jpg)"
   ]
  },
  {
   "cell_type": "code",
   "execution_count": 320,
   "id": "ec5a1db8-071c-429f-b0c3-e2ecef6ef51e",
   "metadata": {},
   "outputs": [],
   "source": [
    "## the website url\n",
    "url = \"https://www.glassdoor.co.in/Salaries/index.htm\"\n",
    "\n",
    "# opening the web page with the above url\n",
    "\n",
    "driver.get(url=url)"
   ]
  },
  {
   "cell_type": "code",
   "execution_count": 321,
   "id": "62084968-7f11-4945-ad15-66fac3c56cb4",
   "metadata": {},
   "outputs": [],
   "source": [
    "inpu_xpath = driver.find_element_by_xpath('//input[@id=\"KeywordSearch\"]')\n"
   ]
  },
  {
   "cell_type": "code",
   "execution_count": 322,
   "id": "b980571e-ce19-48af-9679-56f4f5435624",
   "metadata": {},
   "outputs": [],
   "source": [
    "inpu_xpath.send_keys('Data Scientist')"
   ]
  },
  {
   "cell_type": "code",
   "execution_count": 323,
   "id": "a60090f3-1e8f-4bb4-b061-af15ca378263",
   "metadata": {},
   "outputs": [],
   "source": [
    "input_loc = driver.find_element_by_xpath('//input[@id=\"LocationSearch\"]')\n"
   ]
  },
  {
   "cell_type": "code",
   "execution_count": 324,
   "id": "d4d025cb-40f6-40dd-aac5-0ca2916fc534",
   "metadata": {},
   "outputs": [],
   "source": [
    "input_loc.send_keys('Noida')"
   ]
  },
  {
   "cell_type": "code",
   "execution_count": 325,
   "id": "6aae03b8-b1ac-4b68-9ba4-ca163a9e1ddc",
   "metadata": {},
   "outputs": [],
   "source": [
    "search_button = driver.find_element_by_xpath('//button[@id=\"HeroSearchButton\"]')\n"
   ]
  },
  {
   "cell_type": "code",
   "execution_count": 326,
   "id": "67dd0f06-c389-42c1-8a68-dfb290af570c",
   "metadata": {},
   "outputs": [],
   "source": [
    "search_button.click()"
   ]
  },
  {
   "cell_type": "code",
   "execution_count": 237,
   "id": "0653e91b-1fae-4e0d-a214-3fb58659f6de",
   "metadata": {},
   "outputs": [],
   "source": [
    "company_name = driver.find_elements_by_xpath('//a[@class=\"css-f3vw95 e1aj7ssy3\"]')"
   ]
  },
  {
   "cell_type": "code",
   "execution_count": 238,
   "id": "ff4e1b4e-a7b8-4df1-89c6-490040a77772",
   "metadata": {},
   "outputs": [
    {
     "data": {
      "text/plain": [
       "[<selenium.webdriver.remote.webelement.WebElement (session=\"8b5b2d8ed6865a2610d5097c5256a939\", element=\"9ad6667c-10d2-4863-9f75-24587eed6d18\")>,\n",
       " <selenium.webdriver.remote.webelement.WebElement (session=\"8b5b2d8ed6865a2610d5097c5256a939\", element=\"54df670e-67a9-4414-be9f-ad1a5fd1ac82\")>,\n",
       " <selenium.webdriver.remote.webelement.WebElement (session=\"8b5b2d8ed6865a2610d5097c5256a939\", element=\"ee528142-b6e4-4f31-9af0-b5e79c7302ef\")>,\n",
       " <selenium.webdriver.remote.webelement.WebElement (session=\"8b5b2d8ed6865a2610d5097c5256a939\", element=\"a0cc3390-3691-42e5-8659-2599765740ae\")>,\n",
       " <selenium.webdriver.remote.webelement.WebElement (session=\"8b5b2d8ed6865a2610d5097c5256a939\", element=\"12f7e5c6-b855-4e4e-82e3-a3897189b696\")>,\n",
       " <selenium.webdriver.remote.webelement.WebElement (session=\"8b5b2d8ed6865a2610d5097c5256a939\", element=\"b8e6b50d-c093-4f60-9701-d89085f896d6\")>,\n",
       " <selenium.webdriver.remote.webelement.WebElement (session=\"8b5b2d8ed6865a2610d5097c5256a939\", element=\"739a8730-791a-4f6f-9524-76a3d2eb7357\")>,\n",
       " <selenium.webdriver.remote.webelement.WebElement (session=\"8b5b2d8ed6865a2610d5097c5256a939\", element=\"9893a964-bb94-4cda-aea4-4a2d828a2cd6\")>,\n",
       " <selenium.webdriver.remote.webelement.WebElement (session=\"8b5b2d8ed6865a2610d5097c5256a939\", element=\"40ea0b67-5720-459d-b6ed-e8deb6541db3\")>,\n",
       " <selenium.webdriver.remote.webelement.WebElement (session=\"8b5b2d8ed6865a2610d5097c5256a939\", element=\"4f1404bc-2fd1-4f4a-b63d-d61aa9e1352a\")>,\n",
       " <selenium.webdriver.remote.webelement.WebElement (session=\"8b5b2d8ed6865a2610d5097c5256a939\", element=\"52020ad5-ac71-4a4c-b3fb-a987a04c3d90\")>,\n",
       " <selenium.webdriver.remote.webelement.WebElement (session=\"8b5b2d8ed6865a2610d5097c5256a939\", element=\"810dc979-96ed-4d2c-be21-9ac6e7d54a59\")>,\n",
       " <selenium.webdriver.remote.webelement.WebElement (session=\"8b5b2d8ed6865a2610d5097c5256a939\", element=\"9dea56d9-7554-41c7-bbac-505df57576ef\")>,\n",
       " <selenium.webdriver.remote.webelement.WebElement (session=\"8b5b2d8ed6865a2610d5097c5256a939\", element=\"7541edd4-8b5b-4cf5-97f1-c51564e1ecca\")>,\n",
       " <selenium.webdriver.remote.webelement.WebElement (session=\"8b5b2d8ed6865a2610d5097c5256a939\", element=\"286db840-7613-4b5c-883e-b5b839f7b840\")>,\n",
       " <selenium.webdriver.remote.webelement.WebElement (session=\"8b5b2d8ed6865a2610d5097c5256a939\", element=\"08461b88-a080-40a6-96db-dcee8d28fc94\")>,\n",
       " <selenium.webdriver.remote.webelement.WebElement (session=\"8b5b2d8ed6865a2610d5097c5256a939\", element=\"4aa09a97-a655-4f3b-9977-d7fa04841f18\")>,\n",
       " <selenium.webdriver.remote.webelement.WebElement (session=\"8b5b2d8ed6865a2610d5097c5256a939\", element=\"653a033c-ba6b-4b6a-a132-5123a580facf\")>,\n",
       " <selenium.webdriver.remote.webelement.WebElement (session=\"8b5b2d8ed6865a2610d5097c5256a939\", element=\"cd5032d0-1061-4a84-87c6-f0b4d277d65f\")>,\n",
       " <selenium.webdriver.remote.webelement.WebElement (session=\"8b5b2d8ed6865a2610d5097c5256a939\", element=\"27c12272-53e7-4e10-87b8-4003caf14978\")>]"
      ]
     },
     "execution_count": 238,
     "metadata": {},
     "output_type": "execute_result"
    }
   ],
   "source": [
    "company_name"
   ]
  },
  {
   "cell_type": "code",
   "execution_count": 239,
   "id": "7fe803a9-aced-46f3-9b58-a563dd46d49f",
   "metadata": {},
   "outputs": [],
   "source": [
    "company_name_list = []\n",
    "for oli in company_name:\n",
    "    company_name_list.append(oli.text)"
   ]
  },
  {
   "cell_type": "code",
   "execution_count": 240,
   "id": "3e5d7ed2-ada3-4dd2-a637-c342133a2303",
   "metadata": {},
   "outputs": [
    {
     "data": {
      "text/plain": [
       "['IBM',\n",
       " 'Tata Consultancy Services',\n",
       " 'Accenture',\n",
       " 'Delhivery',\n",
       " 'Ericsson-Worldwide',\n",
       " 'UnitedHealth Group',\n",
       " 'Valiance Solutions',\n",
       " 'EXL Service',\n",
       " 'Optum Global Solutions',\n",
       " 'ZS Associates',\n",
       " 'Optum',\n",
       " 'Innovaccer',\n",
       " 'Cognizant Technology Solutions',\n",
       " 'OYO',\n",
       " 'Nagarro',\n",
       " 'dunnhumby',\n",
       " 'Vidooly Media Tech',\n",
       " 'Tech Mahindra',\n",
       " 'R Systems',\n",
       " 'CARS24.com']"
      ]
     },
     "execution_count": 240,
     "metadata": {},
     "output_type": "execute_result"
    }
   ],
   "source": [
    "company_name_list"
   ]
  },
  {
   "cell_type": "code",
   "execution_count": 305,
   "id": "cbd723ff-86db-47e1-9570-211dca6eb46e",
   "metadata": {},
   "outputs": [],
   "source": [
    "### we will remove the 'Tata Consultancy Services' because we cannot access the website\n",
    "\n",
    "company_name_list1=[]\n",
    "for oli in company_name_list:\n",
    "    if oli != 'Tata Consultancy Services':\n",
    "        company_name_list1.append(oli)\n",
    "        \n",
    "        \n"
   ]
  },
  {
   "cell_type": "code",
   "execution_count": 306,
   "id": "27687af1-534f-43af-a8ae-b79a507a2765",
   "metadata": {},
   "outputs": [
    {
     "data": {
      "text/plain": [
       "['IBM',\n",
       " 'Accenture',\n",
       " 'Delhivery',\n",
       " 'Ericsson-Worldwide',\n",
       " 'UnitedHealth Group',\n",
       " 'Valiance Solutions',\n",
       " 'EXL Service',\n",
       " 'Optum Global Solutions',\n",
       " 'ZS Associates',\n",
       " 'Optum']"
      ]
     },
     "execution_count": 306,
     "metadata": {},
     "output_type": "execute_result"
    }
   ],
   "source": [
    "## let's get the first 10 company names\n",
    "\n",
    "company_name_c = company_name_list1[0:10]\n",
    "company_name_c"
   ]
  },
  {
   "cell_type": "code",
   "execution_count": 242,
   "id": "79be4912-93e4-4134-aae1-463b8624f9e8",
   "metadata": {},
   "outputs": [],
   "source": [
    "## let's find the min salary, but let's get the companies url\n",
    "\n",
    "company_urls = []\n",
    "for oli in company_name:\n",
    "    company_urls.append(oli.get_attribute('href'))\n",
    "    "
   ]
  },
  {
   "cell_type": "code",
   "execution_count": 243,
   "id": "71e2f61f-4b67-41d2-8b75-4247ceb97255",
   "metadata": {},
   "outputs": [
    {
     "data": {
      "text/plain": [
       "['https://www.glassdoor.co.in/Salary/IBM-Data-Scientist-New-Delhi-Salaries-EJI_IE354.0,3_KO4,18_IL.19,28_IM1083.htm',\n",
       " 'https://www.glassdoor.co.in/Salary/Tata-Consultancy-Services-Data-Scientist-New-Delhi-Salaries-EJI_IE13461.0,25_KO26,40_IL.41,50_IM1083.htm',\n",
       " 'https://www.glassdoor.co.in/Salary/Accenture-Data-Scientist-New-Delhi-Salaries-EJI_IE4138.0,9_KO10,24_IL.25,34_IM1083.htm',\n",
       " 'https://www.glassdoor.co.in/Salary/Delhivery-Data-Scientist-New-Delhi-Salaries-EJI_IE513409.0,9_KO10,24_IL.25,34_IM1083.htm',\n",
       " 'https://www.glassdoor.co.in/Salary/Ericsson-Worldwide-Data-Scientist-New-Delhi-Salaries-EJI_IE3472.0,18_KO19,33_IL.34,43_IM1083.htm',\n",
       " 'https://www.glassdoor.co.in/Salary/UnitedHealth-Group-Data-Scientist-New-Delhi-Salaries-EJI_IE1991.0,18_KO19,33_IL.34,43_IM1083.htm',\n",
       " 'https://www.glassdoor.co.in/Salary/Valiance-Solutions-Data-Scientist-New-Delhi-Salaries-EJI_IE895637.0,18_KO19,33_IL.34,43_IM1083.htm',\n",
       " 'https://www.glassdoor.co.in/Salary/EXL-Service-Data-Scientist-New-Delhi-Salaries-EJI_IE37901.0,11_KO12,26_IL.27,36_IM1083.htm',\n",
       " 'https://www.glassdoor.co.in/Salary/Optum-Global-Solutions-Data-Scientist-New-Delhi-Salaries-EJI_IE3725926.0,22_KO23,37_IL.38,47_IM1083.htm',\n",
       " 'https://www.glassdoor.co.in/Salary/ZS-Associates-Data-Scientist-New-Delhi-Salaries-EJI_IE115506.0,13_KO14,28_IL.29,38_IM1083.htm',\n",
       " 'https://www.glassdoor.co.in/Salary/Optum-Data-Scientist-New-Delhi-Salaries-EJI_IE2409113.0,5_KO6,20_IL.21,30_IM1083.htm',\n",
       " 'https://www.glassdoor.co.in/Salary/Innovaccer-Data-Scientist-New-Delhi-Salaries-EJI_IE721552.0,10_KO11,25_IL.26,35_IM1083.htm',\n",
       " 'https://www.glassdoor.co.in/Salary/Cognizant-Technology-Solutions-Data-Scientist-New-Delhi-Salaries-EJI_IE8014.0,30_KO31,45_IL.46,55_IM1083.htm',\n",
       " 'https://www.glassdoor.co.in/Salary/OYO-Data-Scientist-New-Delhi-Salaries-EJI_IE953789.0,3_KO4,18_IL.19,28_IM1083.htm',\n",
       " 'https://www.glassdoor.co.in/Salary/Nagarro-Data-Scientist-New-Delhi-Salaries-EJI_IE240077.0,7_KO8,22_IL.23,32_IM1083.htm',\n",
       " 'https://www.glassdoor.co.in/Salary/dunnhumby-Data-Scientist-New-Delhi-Salaries-EJI_IE195922.0,9_KO10,24_IL.25,34_IM1083.htm',\n",
       " 'https://www.glassdoor.co.in/Salary/Vidooly-Media-Tech-Data-Scientist-New-Delhi-EJI_IE1483199.0,18_KO19,33_IL.34,43_IM1083.htm?filter.payPeriod=MONTHLY',\n",
       " 'https://www.glassdoor.co.in/Salary/Tech-Mahindra-Data-Scientist-New-Delhi-Salaries-EJI_IE135932.0,13_KO14,28_IL.29,38_IM1083.htm',\n",
       " 'https://www.glassdoor.co.in/Salary/R-Systems-Data-Scientist-New-Delhi-Salaries-EJI_IE32444.0,9_KO10,24_IL.25,34_IM1083.htm',\n",
       " 'https://www.glassdoor.co.in/Salary/CARS24-com-Data-Scientist-New-Delhi-Salaries-EJI_IE1316104.0,10_KO11,25_IL.26,35_IM1083.htm']"
      ]
     },
     "execution_count": 243,
     "metadata": {},
     "output_type": "execute_result"
    }
   ],
   "source": [
    "company_urls"
   ]
  },
  {
   "cell_type": "code",
   "execution_count": 307,
   "id": "8993f8d2-e574-4e4e-a39f-1e92f86ec03b",
   "metadata": {},
   "outputs": [],
   "source": [
    "# let's find the min salary\n",
    "min_salary = []\n",
    "for oli in company_urls:\n",
    "    if company_urls.index(oli) ==1:\n",
    "        continue\n",
    "    time.sleep(2)\n",
    "    driver.get(oli)\n",
    "    sal_xpath = driver.find_elements_by_xpath('//strong[@class=\"css-1uyte9r css-1qxtz39 css-fkag2m\"]')\n",
    "    for i in sal_xpath:\n",
    "        min_salary.append(i.text)"
   ]
  },
  {
   "cell_type": "code",
   "execution_count": 308,
   "id": "d8638df3-6d42-4285-9612-789fbf4ff7c5",
   "metadata": {},
   "outputs": [
    {
     "data": {
      "text/plain": [
       "['₹6L',\n",
       " '₹27L',\n",
       " '₹7L',\n",
       " '₹21L',\n",
       " '₹6L',\n",
       " '₹22L',\n",
       " '₹7L',\n",
       " '₹15L',\n",
       " '₹5L',\n",
       " '₹1Cr',\n",
       " '₹10L',\n",
       " '₹15L',\n",
       " '₹4L',\n",
       " '₹16L',\n",
       " '₹5L',\n",
       " '₹11L',\n",
       " '₹8L',\n",
       " '₹15L',\n",
       " '₹11L',\n",
       " '₹15L',\n",
       " '₹5L',\n",
       " '₹15L',\n",
       " '₹7L',\n",
       " '₹12L',\n",
       " '₹6L',\n",
       " '₹15L',\n",
       " '₹9L',\n",
       " '₹13L',\n",
       " '₹4L',\n",
       " '₹22L',\n",
       " '₹11L',\n",
       " '₹17L',\n",
       " '₹2L',\n",
       " '₹18L',\n",
       " '₹5L',\n",
       " '₹13L',\n",
       " '₹8L',\n",
       " '₹20L',\n",
       " '₹11L',\n",
       " '₹16L',\n",
       " '₹6L',\n",
       " '₹17L',\n",
       " '₹6L',\n",
       " '₹16L',\n",
       " '₹8L',\n",
       " '₹13L',\n",
       " '₹8L',\n",
       " '₹12L',\n",
       " '₹10L',\n",
       " '₹19L',\n",
       " '₹10L',\n",
       " '₹17L',\n",
       " '₹4L',\n",
       " '₹16L',\n",
       " '₹6L',\n",
       " '₹12L',\n",
       " '₹8L',\n",
       " '₹20L',\n",
       " '₹8L',\n",
       " '₹17L',\n",
       " '₹12T',\n",
       " '₹63T',\n",
       " '₹15T',\n",
       " '₹62T',\n",
       " '₹4L',\n",
       " '₹17L',\n",
       " '₹4L',\n",
       " '₹17L',\n",
       " '₹8L',\n",
       " '₹30L',\n",
       " '₹8L',\n",
       " '₹25L',\n",
       " '₹9L',\n",
       " '₹15L',\n",
       " '₹9L',\n",
       " '₹15L']"
      ]
     },
     "execution_count": 308,
     "metadata": {},
     "output_type": "execute_result"
    }
   ],
   "source": [
    "## this bring the both max_salary and min_salary\n",
    "\n",
    "min_salary"
   ]
  },
  {
   "cell_type": "code",
   "execution_count": 309,
   "id": "4521c376-c05e-419d-b501-5e38318bf65c",
   "metadata": {},
   "outputs": [],
   "source": [
    "## let use for loop to seperate the both salaries\n",
    "min_salaries = []\n",
    "for i in range(0,len(min_salary),2):\n",
    "    min_salaries.append(min_salary[i])\n",
    "    "
   ]
  },
  {
   "cell_type": "code",
   "execution_count": 310,
   "id": "a74e6c78-c7e2-4a77-a18b-21b977aaf7a4",
   "metadata": {},
   "outputs": [
    {
     "data": {
      "text/plain": [
       "['₹6L',\n",
       " '₹7L',\n",
       " '₹6L',\n",
       " '₹7L',\n",
       " '₹5L',\n",
       " '₹10L',\n",
       " '₹4L',\n",
       " '₹5L',\n",
       " '₹8L',\n",
       " '₹11L',\n",
       " '₹5L',\n",
       " '₹7L',\n",
       " '₹6L',\n",
       " '₹9L',\n",
       " '₹4L',\n",
       " '₹11L',\n",
       " '₹2L',\n",
       " '₹5L',\n",
       " '₹8L',\n",
       " '₹11L',\n",
       " '₹6L',\n",
       " '₹6L',\n",
       " '₹8L',\n",
       " '₹8L',\n",
       " '₹10L',\n",
       " '₹10L',\n",
       " '₹4L',\n",
       " '₹6L',\n",
       " '₹8L',\n",
       " '₹8L',\n",
       " '₹12T',\n",
       " '₹15T',\n",
       " '₹4L',\n",
       " '₹4L',\n",
       " '₹8L',\n",
       " '₹8L',\n",
       " '₹9L',\n",
       " '₹9L']"
      ]
     },
     "execution_count": 310,
     "metadata": {},
     "output_type": "execute_result"
    }
   ],
   "source": [
    "min_salaries"
   ]
  },
  {
   "cell_type": "code",
   "execution_count": 311,
   "id": "f397b56f-a1e9-4502-b228-e297e87fcba9",
   "metadata": {},
   "outputs": [
    {
     "data": {
      "text/plain": [
       "['₹6L', '₹7L', '₹6L', '₹7L', '₹5L', '₹10L', '₹4L', '₹5L', '₹8L', '₹11L']"
      ]
     },
     "execution_count": 311,
     "metadata": {},
     "output_type": "execute_result"
    }
   ],
   "source": [
    "## first 10 min salaries\n",
    "\n",
    "min_salary_c = min_salaries[0:10]\n",
    "min_salary_c"
   ]
  },
  {
   "cell_type": "code",
   "execution_count": 251,
   "id": "ff73d221-a8de-4f4a-8a6d-54fc7553759c",
   "metadata": {},
   "outputs": [],
   "source": []
  },
  {
   "cell_type": "code",
   "execution_count": 312,
   "id": "d70b77f1-7129-42d1-96c0-7eed20486fd2",
   "metadata": {},
   "outputs": [
    {
     "data": {
      "text/plain": [
       "['₹27L',\n",
       " '₹21L',\n",
       " '₹22L',\n",
       " '₹15L',\n",
       " '₹1Cr',\n",
       " '₹15L',\n",
       " '₹16L',\n",
       " '₹11L',\n",
       " '₹15L',\n",
       " '₹15L']"
      ]
     },
     "execution_count": 312,
     "metadata": {},
     "output_type": "execute_result"
    }
   ],
   "source": [
    "## let's get the max salary\n",
    "\n",
    "max_salaries = []\n",
    "for i in range(1,len(min_salary),2):\n",
    "    max_salaries.append(min_salary[i])\n",
    "    \n",
    "max_salary_c = max_salaries[0:10]\n",
    "max_salary_c    "
   ]
  },
  {
   "cell_type": "code",
   "execution_count": 313,
   "id": "536b0fc1-d518-44c0-a492-40187698aa47",
   "metadata": {},
   "outputs": [],
   "source": [
    "## let's get the average salaries\n",
    "\n",
    "avg_salary = []\n",
    "for oli in company_urls:\n",
    "    if company_urls.index(oli) ==1:\n",
    "        continue\n",
    "    time.sleep(2)\n",
    "    driver.get(oli)\n",
    "    sal_xpath1 = driver.find_elements_by_xpath('//strong[@class=\"css-1uyte9r css-1qxtz39 css-fkag2m\"]')\n",
    "    for i in sal_xpath1:\n",
    "        avg_salary.append(i.text)\n",
    "        \n",
    "        \n"
   ]
  },
  {
   "cell_type": "code",
   "execution_count": 314,
   "id": "7e79c8a4-5985-41a4-ba39-f098751391fe",
   "metadata": {},
   "outputs": [
    {
     "data": {
      "text/plain": [
       "['₹6L',\n",
       " '₹27L',\n",
       " '₹7L',\n",
       " '₹21L',\n",
       " '₹6L',\n",
       " '₹22L',\n",
       " '₹7L',\n",
       " '₹15L',\n",
       " '₹5L',\n",
       " '₹1Cr',\n",
       " '₹10L',\n",
       " '₹15L',\n",
       " '₹4L',\n",
       " '₹16L',\n",
       " '₹5L',\n",
       " '₹11L',\n",
       " '₹8L',\n",
       " '₹15L',\n",
       " '₹11L',\n",
       " '₹15L',\n",
       " '₹5L',\n",
       " '₹15L',\n",
       " '₹7L',\n",
       " '₹12L',\n",
       " '₹6L',\n",
       " '₹15L',\n",
       " '₹9L',\n",
       " '₹13L',\n",
       " '₹4L',\n",
       " '₹22L',\n",
       " '₹11L',\n",
       " '₹17L',\n",
       " '₹2L',\n",
       " '₹18L',\n",
       " '₹5L',\n",
       " '₹13L',\n",
       " '₹8L',\n",
       " '₹20L',\n",
       " '₹11L',\n",
       " '₹16L',\n",
       " '₹6L',\n",
       " '₹17L',\n",
       " '₹6L',\n",
       " '₹16L',\n",
       " '₹8L',\n",
       " '₹13L',\n",
       " '₹8L',\n",
       " '₹12L',\n",
       " '₹10L',\n",
       " '₹19L',\n",
       " '₹10L',\n",
       " '₹17L',\n",
       " '₹4L',\n",
       " '₹16L',\n",
       " '₹6L',\n",
       " '₹12L',\n",
       " '₹8L',\n",
       " '₹20L',\n",
       " '₹8L',\n",
       " '₹17L',\n",
       " '₹12T',\n",
       " '₹63T',\n",
       " '₹15T',\n",
       " '₹62T',\n",
       " '₹4L',\n",
       " '₹17L',\n",
       " '₹4L',\n",
       " '₹17L',\n",
       " '₹8L',\n",
       " '₹30L',\n",
       " '₹8L',\n",
       " '₹25L',\n",
       " '₹9L',\n",
       " '₹15L',\n",
       " '₹9L',\n",
       " '₹15L']"
      ]
     },
     "execution_count": 314,
     "metadata": {},
     "output_type": "execute_result"
    }
   ],
   "source": [
    "avg_salary"
   ]
  },
  {
   "cell_type": "code",
   "execution_count": 315,
   "id": "01d1c357-78d8-42f0-b2bd-cad8740beb6d",
   "metadata": {},
   "outputs": [],
   "source": [
    "## we can see that the average salary start with index 4\n",
    "## let's use range and for loop and filter it.\n",
    "avg_filtered = []\n",
    "for oli in range(3,len(avg_salary),4):\n",
    "    avg_filtered.append(avg_salary[oli])\n"
   ]
  },
  {
   "cell_type": "code",
   "execution_count": 316,
   "id": "2b28b194-9b5c-4f2c-9ee5-57b25208203b",
   "metadata": {},
   "outputs": [
    {
     "data": {
      "text/plain": [
       "['₹21L',\n",
       " '₹15L',\n",
       " '₹15L',\n",
       " '₹11L',\n",
       " '₹15L',\n",
       " '₹12L',\n",
       " '₹13L',\n",
       " '₹17L',\n",
       " '₹13L',\n",
       " '₹16L',\n",
       " '₹16L',\n",
       " '₹12L',\n",
       " '₹17L',\n",
       " '₹12L',\n",
       " '₹17L',\n",
       " '₹62T',\n",
       " '₹17L',\n",
       " '₹25L',\n",
       " '₹15L']"
      ]
     },
     "execution_count": 316,
     "metadata": {},
     "output_type": "execute_result"
    }
   ],
   "source": [
    "avg_filtered"
   ]
  },
  {
   "cell_type": "code",
   "execution_count": 317,
   "id": "9157324f-91c2-435a-8db0-fae8e350086c",
   "metadata": {},
   "outputs": [
    {
     "data": {
      "text/plain": [
       "['₹21L',\n",
       " '₹15L',\n",
       " '₹15L',\n",
       " '₹11L',\n",
       " '₹15L',\n",
       " '₹12L',\n",
       " '₹13L',\n",
       " '₹17L',\n",
       " '₹13L',\n",
       " '₹16L']"
      ]
     },
     "execution_count": 317,
     "metadata": {},
     "output_type": "execute_result"
    }
   ],
   "source": [
    "### let's take the first 10\n",
    "\n",
    "avg_salary_c = avg_filtered[0:10]\n",
    "avg_salary_c "
   ]
  },
  {
   "cell_type": "code",
   "execution_count": 327,
   "id": "52ee69b1-05bc-440a-a616-df44c50349fd",
   "metadata": {},
   "outputs": [
    {
     "data": {
      "text/plain": [
       "[<selenium.webdriver.remote.webelement.WebElement (session=\"8b5b2d8ed6865a2610d5097c5256a939\", element=\"a7c7aa17-8a52-4e11-8aef-b1f5ff37cc62\")>,\n",
       " <selenium.webdriver.remote.webelement.WebElement (session=\"8b5b2d8ed6865a2610d5097c5256a939\", element=\"5061c349-15df-4900-b3d9-6a72940d7b9a\")>,\n",
       " <selenium.webdriver.remote.webelement.WebElement (session=\"8b5b2d8ed6865a2610d5097c5256a939\", element=\"a613d84e-ea91-4537-b352-d9f12524fc7c\")>,\n",
       " <selenium.webdriver.remote.webelement.WebElement (session=\"8b5b2d8ed6865a2610d5097c5256a939\", element=\"4d85181e-2215-4bdc-9726-163fb2b0b275\")>,\n",
       " <selenium.webdriver.remote.webelement.WebElement (session=\"8b5b2d8ed6865a2610d5097c5256a939\", element=\"875277e3-1514-4ee0-ac5a-7ef8713a75b7\")>,\n",
       " <selenium.webdriver.remote.webelement.WebElement (session=\"8b5b2d8ed6865a2610d5097c5256a939\", element=\"0dcfc403-4625-4e53-aff7-1e08507ce7de\")>,\n",
       " <selenium.webdriver.remote.webelement.WebElement (session=\"8b5b2d8ed6865a2610d5097c5256a939\", element=\"d84b7362-5954-4268-9527-acd98b03a068\")>,\n",
       " <selenium.webdriver.remote.webelement.WebElement (session=\"8b5b2d8ed6865a2610d5097c5256a939\", element=\"ce4c9c81-37e7-4791-bc94-43cce8765a26\")>,\n",
       " <selenium.webdriver.remote.webelement.WebElement (session=\"8b5b2d8ed6865a2610d5097c5256a939\", element=\"a04e6070-b22c-4209-97fe-4c7cdc7af682\")>,\n",
       " <selenium.webdriver.remote.webelement.WebElement (session=\"8b5b2d8ed6865a2610d5097c5256a939\", element=\"c99dd92d-5c7c-4618-afed-018c2a2dd3ae\")>,\n",
       " <selenium.webdriver.remote.webelement.WebElement (session=\"8b5b2d8ed6865a2610d5097c5256a939\", element=\"a8389bfa-ae38-4ef6-92e8-8f3db767dbe6\")>,\n",
       " <selenium.webdriver.remote.webelement.WebElement (session=\"8b5b2d8ed6865a2610d5097c5256a939\", element=\"97ddceef-217b-4f03-8c3a-ed6719f7ddf0\")>,\n",
       " <selenium.webdriver.remote.webelement.WebElement (session=\"8b5b2d8ed6865a2610d5097c5256a939\", element=\"4d3d5379-3098-4b98-bcc3-9389625612f9\")>,\n",
       " <selenium.webdriver.remote.webelement.WebElement (session=\"8b5b2d8ed6865a2610d5097c5256a939\", element=\"ba4edfe9-9d43-4238-82dd-4bf65d6b9856\")>,\n",
       " <selenium.webdriver.remote.webelement.WebElement (session=\"8b5b2d8ed6865a2610d5097c5256a939\", element=\"1c7f15db-fb20-43a4-8036-efb2e5d057ad\")>,\n",
       " <selenium.webdriver.remote.webelement.WebElement (session=\"8b5b2d8ed6865a2610d5097c5256a939\", element=\"1aa5f1d7-d05a-4044-879a-1ab87b2c827f\")>,\n",
       " <selenium.webdriver.remote.webelement.WebElement (session=\"8b5b2d8ed6865a2610d5097c5256a939\", element=\"019619b8-2a3d-417f-b101-71940c47274d\")>,\n",
       " <selenium.webdriver.remote.webelement.WebElement (session=\"8b5b2d8ed6865a2610d5097c5256a939\", element=\"dd15befd-92b2-4394-b9f5-96fa6d043d6d\")>,\n",
       " <selenium.webdriver.remote.webelement.WebElement (session=\"8b5b2d8ed6865a2610d5097c5256a939\", element=\"5074e82a-9d6a-4208-ae06-107a278adb56\")>,\n",
       " <selenium.webdriver.remote.webelement.WebElement (session=\"8b5b2d8ed6865a2610d5097c5256a939\", element=\"7753944d-96ff-426c-9e35-7f996fe099e3\")>,\n",
       " <selenium.webdriver.remote.webelement.WebElement (session=\"8b5b2d8ed6865a2610d5097c5256a939\", element=\"37e289b2-dce1-43d3-aace-e657fd0369a1\")>,\n",
       " <selenium.webdriver.remote.webelement.WebElement (session=\"8b5b2d8ed6865a2610d5097c5256a939\", element=\"5f567f13-6602-46f1-9b89-14ebb30088dc\")>]"
      ]
     },
     "execution_count": 327,
     "metadata": {},
     "output_type": "execute_result"
    }
   ],
   "source": [
    "### let's find the number of salaries\n",
    "\n",
    "num_of_sal = driver.find_elements_by_xpath('//span[@class=\"m-0 css-1b6bxoo\"]')\n",
    "num_of_sal\n"
   ]
  },
  {
   "cell_type": "code",
   "execution_count": 328,
   "id": "55fdd748-d1cb-4eeb-8bb2-5d1ca40f8aa5",
   "metadata": {},
   "outputs": [],
   "source": [
    "no_of_sal_list = []\n",
    "for oli in num_of_sal:\n",
    "    no_of_sal_list.append(oli.text)\n",
    "    "
   ]
  },
  {
   "cell_type": "code",
   "execution_count": 329,
   "id": "7760c3a1-eeed-4ee6-814e-90336469cdd3",
   "metadata": {},
   "outputs": [
    {
     "data": {
      "text/plain": [
       "['Average',\n",
       " '₹34,365 - ₹3,00,000',\n",
       " '18 salaries',\n",
       " '17 salaries',\n",
       " '15 salaries',\n",
       " '15 salaries',\n",
       " '14 salaries',\n",
       " '13 salaries',\n",
       " '10 salaries',\n",
       " '9 salaries',\n",
       " '9 salaries',\n",
       " '8 salaries',\n",
       " '8 salaries',\n",
       " '8 salaries',\n",
       " '6 salaries',\n",
       " '6 salaries',\n",
       " '6 salaries',\n",
       " '6 salaries',\n",
       " '6 salaries',\n",
       " '5 salaries',\n",
       " '5 salaries',\n",
       " '5 salaries']"
      ]
     },
     "execution_count": 329,
     "metadata": {},
     "output_type": "execute_result"
    }
   ],
   "source": [
    "no_of_sal_list"
   ]
  },
  {
   "cell_type": "code",
   "execution_count": null,
   "id": "47e1bc00-bf10-4e51-9635-2b3b0f824df8",
   "metadata": {},
   "outputs": [],
   "source": []
  },
  {
   "cell_type": "code",
   "execution_count": 334,
   "id": "5592c591-bb85-4ec8-a4f1-02d398105764",
   "metadata": {},
   "outputs": [],
   "source": [
    "## the first two element are included so let's  remove them and take the first 10 \n",
    "\n",
    "No_of_salaries_xx = no_of_sal_list[2:]\n"
   ]
  },
  {
   "cell_type": "code",
   "execution_count": 335,
   "id": "33700c45-3e8d-4050-be9f-36335e0a1043",
   "metadata": {},
   "outputs": [],
   "source": [
    "## let's removed the salaries of tata consistancy\n",
    "No_of_salar =[]\n",
    "for x in No_of_salaries_xx:\n",
    "    if x !='17 salaries':\n",
    "        No_of_salar.append(x)"
   ]
  },
  {
   "cell_type": "code",
   "execution_count": 336,
   "id": "a6ae510f-b49a-466f-ad69-b2508f4b2502",
   "metadata": {},
   "outputs": [
    {
     "data": {
      "text/plain": [
       "['18 salaries',\n",
       " '15 salaries',\n",
       " '15 salaries',\n",
       " '14 salaries',\n",
       " '13 salaries',\n",
       " '10 salaries',\n",
       " '9 salaries',\n",
       " '9 salaries',\n",
       " '8 salaries',\n",
       " '8 salaries',\n",
       " '8 salaries',\n",
       " '6 salaries',\n",
       " '6 salaries',\n",
       " '6 salaries',\n",
       " '6 salaries',\n",
       " '6 salaries',\n",
       " '5 salaries',\n",
       " '5 salaries',\n",
       " '5 salaries']"
      ]
     },
     "execution_count": 336,
     "metadata": {},
     "output_type": "execute_result"
    }
   ],
   "source": [
    "No_of_salar"
   ]
  },
  {
   "cell_type": "code",
   "execution_count": 337,
   "id": "ab6496f6-8a34-41c5-bd35-a8b3f93ecb4d",
   "metadata": {},
   "outputs": [],
   "source": [
    "## now let's select the first 10\n",
    "\n",
    "No_of_salaries_c = No_of_salar[0:10]"
   ]
  },
  {
   "cell_type": "code",
   "execution_count": 338,
   "id": "9b2d21a7-2334-46aa-98ab-814d4dc32cab",
   "metadata": {},
   "outputs": [
    {
     "data": {
      "text/plain": [
       "['18 salaries',\n",
       " '15 salaries',\n",
       " '15 salaries',\n",
       " '14 salaries',\n",
       " '13 salaries',\n",
       " '10 salaries',\n",
       " '9 salaries',\n",
       " '9 salaries',\n",
       " '8 salaries',\n",
       " '8 salaries']"
      ]
     },
     "execution_count": 338,
     "metadata": {},
     "output_type": "execute_result"
    }
   ],
   "source": [
    "No_of_salaries_c"
   ]
  },
  {
   "cell_type": "code",
   "execution_count": 342,
   "id": "c6ddd52b-a560-4de3-bb2b-914bc480ca9f",
   "metadata": {},
   "outputs": [
    {
     "data": {
      "text/plain": [
       "[<selenium.webdriver.remote.webelement.WebElement (session=\"8b5b2d8ed6865a2610d5097c5256a939\", element=\"1a8e4337-4f37-4f67-92f7-2127a57283b6\")>,\n",
       " <selenium.webdriver.remote.webelement.WebElement (session=\"8b5b2d8ed6865a2610d5097c5256a939\", element=\"c5d041b0-842c-478a-b775-f743d6afa22b\")>,\n",
       " <selenium.webdriver.remote.webelement.WebElement (session=\"8b5b2d8ed6865a2610d5097c5256a939\", element=\"03c6361a-0e88-4952-858e-316ba837e34a\")>,\n",
       " <selenium.webdriver.remote.webelement.WebElement (session=\"8b5b2d8ed6865a2610d5097c5256a939\", element=\"23901ce3-b6a0-419a-aa4e-987459839585\")>,\n",
       " <selenium.webdriver.remote.webelement.WebElement (session=\"8b5b2d8ed6865a2610d5097c5256a939\", element=\"350ef3c8-4577-4444-9eed-4d25ae1d79ce\")>,\n",
       " <selenium.webdriver.remote.webelement.WebElement (session=\"8b5b2d8ed6865a2610d5097c5256a939\", element=\"da03f314-8ecb-4ef6-aedd-fb8ebcbb90ac\")>,\n",
       " <selenium.webdriver.remote.webelement.WebElement (session=\"8b5b2d8ed6865a2610d5097c5256a939\", element=\"b43f86ef-0a7c-453c-abfa-79ebcb2e195d\")>,\n",
       " <selenium.webdriver.remote.webelement.WebElement (session=\"8b5b2d8ed6865a2610d5097c5256a939\", element=\"acc3eefc-5f50-49a8-b828-e4d9bdd3723b\")>,\n",
       " <selenium.webdriver.remote.webelement.WebElement (session=\"8b5b2d8ed6865a2610d5097c5256a939\", element=\"b56d1abf-6c44-47dc-ba3c-b49352af26dc\")>,\n",
       " <selenium.webdriver.remote.webelement.WebElement (session=\"8b5b2d8ed6865a2610d5097c5256a939\", element=\"ea1e72cb-db43-4bf1-b755-84fc467adc54\")>,\n",
       " <selenium.webdriver.remote.webelement.WebElement (session=\"8b5b2d8ed6865a2610d5097c5256a939\", element=\"edbd3bd2-b8bc-4f64-bc05-3c939b8566ec\")>,\n",
       " <selenium.webdriver.remote.webelement.WebElement (session=\"8b5b2d8ed6865a2610d5097c5256a939\", element=\"175d705e-f2b6-465b-b975-06280f08b8d4\")>,\n",
       " <selenium.webdriver.remote.webelement.WebElement (session=\"8b5b2d8ed6865a2610d5097c5256a939\", element=\"cc31f2f2-7a19-4265-a027-160df98e9d88\")>,\n",
       " <selenium.webdriver.remote.webelement.WebElement (session=\"8b5b2d8ed6865a2610d5097c5256a939\", element=\"907e8feb-bf1d-45c1-a905-97fe5d5f321e\")>,\n",
       " <selenium.webdriver.remote.webelement.WebElement (session=\"8b5b2d8ed6865a2610d5097c5256a939\", element=\"9dda70a2-f43b-4069-a5dd-06b3a6478bbd\")>,\n",
       " <selenium.webdriver.remote.webelement.WebElement (session=\"8b5b2d8ed6865a2610d5097c5256a939\", element=\"2433b21f-8547-4d73-b57b-c92df73e1180\")>,\n",
       " <selenium.webdriver.remote.webelement.WebElement (session=\"8b5b2d8ed6865a2610d5097c5256a939\", element=\"02b68778-a4ab-4a8a-a2bc-bcd7214d18a6\")>,\n",
       " <selenium.webdriver.remote.webelement.WebElement (session=\"8b5b2d8ed6865a2610d5097c5256a939\", element=\"4e39091d-7b04-4e0c-96d0-f4e438c10485\")>,\n",
       " <selenium.webdriver.remote.webelement.WebElement (session=\"8b5b2d8ed6865a2610d5097c5256a939\", element=\"4ac09363-37eb-4723-920d-d52447ce89d3\")>,\n",
       " <selenium.webdriver.remote.webelement.WebElement (session=\"8b5b2d8ed6865a2610d5097c5256a939\", element=\"ad8e3d03-750b-4a71-8380-ff346a80d17b\")>]"
      ]
     },
     "execution_count": 342,
     "metadata": {},
     "output_type": "execute_result"
    }
   ],
   "source": [
    "## let's find the companies rating\n",
    "rating = driver.find_elements_by_xpath('//span[@class=\"m-0 css-kyx745\"]')\n",
    "\n",
    "rating "
   ]
  },
  {
   "cell_type": "code",
   "execution_count": 343,
   "id": "1b961556-1a46-40b3-bd34-d645659e5fcc",
   "metadata": {},
   "outputs": [],
   "source": [
    "rates_list = []\n",
    "for oli in rating:\n",
    "    rates_list.append(oli.text)"
   ]
  },
  {
   "cell_type": "code",
   "execution_count": 344,
   "id": "d960948a-7e55-449d-91bd-65b07b1b6e03",
   "metadata": {},
   "outputs": [
    {
     "data": {
      "text/plain": [
       "['3.9',\n",
       " '3.9',\n",
       " '4',\n",
       " '3.9',\n",
       " '4',\n",
       " '3.7',\n",
       " '4.2',\n",
       " '3.6',\n",
       " '3.9',\n",
       " '4',\n",
       " '3.6',\n",
       " '3.8',\n",
       " '3.8',\n",
       " '3.2',\n",
       " '4',\n",
       " '4.1',\n",
       " '3.7',\n",
       " '3.6',\n",
       " '3.5',\n",
       " '4.1']"
      ]
     },
     "execution_count": 344,
     "metadata": {},
     "output_type": "execute_result"
    }
   ],
   "source": [
    "rates_list"
   ]
  },
  {
   "cell_type": "code",
   "execution_count": 345,
   "id": "b15f5302-fe4b-4035-8af2-521caa9e94cf",
   "metadata": {},
   "outputs": [],
   "source": [
    "## let's remove the element at second position about tata consultancy\n",
    "rate_xx =[]\n",
    "for oli in rates_list:\n",
    "    if rates_list.index(oli) ==1:\n",
    "        continue\n",
    "    rate_xx.append(oli)    \n"
   ]
  },
  {
   "cell_type": "code",
   "execution_count": 347,
   "id": "04e51a72-ed2e-4115-9802-7c1fea4002a4",
   "metadata": {},
   "outputs": [
    {
     "data": {
      "text/plain": [
       "['3.9', '3.9', '4', '3.9', '4', '3.7', '4.2', '3.6', '3.9', '4']"
      ]
     },
     "execution_count": 347,
     "metadata": {},
     "output_type": "execute_result"
    }
   ],
   "source": [
    "## let's select the first 10 rating\n",
    "\n",
    "rating_c = rate_xx[0:10]\n",
    "rating_c"
   ]
  },
  {
   "cell_type": "code",
   "execution_count": 348,
   "id": "bab0e300-f923-4a21-a801-0e33db938da4",
   "metadata": {},
   "outputs": [],
   "source": [
    "### Now let's create our Data Frame\n",
    "data_c = pd.DataFrame({})"
   ]
  },
  {
   "cell_type": "code",
   "execution_count": 349,
   "id": "7f32b4f4-8e7a-45f4-8559-811d0a97072a",
   "metadata": {},
   "outputs": [
    {
     "data": {
      "text/html": [
       "<div>\n",
       "<style scoped>\n",
       "    .dataframe tbody tr th:only-of-type {\n",
       "        vertical-align: middle;\n",
       "    }\n",
       "\n",
       "    .dataframe tbody tr th {\n",
       "        vertical-align: top;\n",
       "    }\n",
       "\n",
       "    .dataframe thead th {\n",
       "        text-align: right;\n",
       "    }\n",
       "</style>\n",
       "<table border=\"1\" class=\"dataframe\">\n",
       "  <thead>\n",
       "    <tr style=\"text-align: right;\">\n",
       "      <th></th>\n",
       "      <th>Company_Name</th>\n",
       "      <th>Max_Salary</th>\n",
       "      <th>Average_Salary</th>\n",
       "      <th>Min_Salary</th>\n",
       "      <th>No_Of_Salary</th>\n",
       "      <th>Company_Rating</th>\n",
       "    </tr>\n",
       "  </thead>\n",
       "  <tbody>\n",
       "    <tr>\n",
       "      <th>0</th>\n",
       "      <td>IBM</td>\n",
       "      <td>₹27L</td>\n",
       "      <td>₹21L</td>\n",
       "      <td>₹6L</td>\n",
       "      <td>18 salaries</td>\n",
       "      <td>3.9</td>\n",
       "    </tr>\n",
       "    <tr>\n",
       "      <th>1</th>\n",
       "      <td>Accenture</td>\n",
       "      <td>₹21L</td>\n",
       "      <td>₹15L</td>\n",
       "      <td>₹7L</td>\n",
       "      <td>15 salaries</td>\n",
       "      <td>3.9</td>\n",
       "    </tr>\n",
       "    <tr>\n",
       "      <th>2</th>\n",
       "      <td>Delhivery</td>\n",
       "      <td>₹22L</td>\n",
       "      <td>₹15L</td>\n",
       "      <td>₹6L</td>\n",
       "      <td>15 salaries</td>\n",
       "      <td>4</td>\n",
       "    </tr>\n",
       "    <tr>\n",
       "      <th>3</th>\n",
       "      <td>Ericsson-Worldwide</td>\n",
       "      <td>₹15L</td>\n",
       "      <td>₹11L</td>\n",
       "      <td>₹7L</td>\n",
       "      <td>14 salaries</td>\n",
       "      <td>3.9</td>\n",
       "    </tr>\n",
       "    <tr>\n",
       "      <th>4</th>\n",
       "      <td>UnitedHealth Group</td>\n",
       "      <td>₹1Cr</td>\n",
       "      <td>₹15L</td>\n",
       "      <td>₹5L</td>\n",
       "      <td>13 salaries</td>\n",
       "      <td>4</td>\n",
       "    </tr>\n",
       "    <tr>\n",
       "      <th>5</th>\n",
       "      <td>Valiance Solutions</td>\n",
       "      <td>₹15L</td>\n",
       "      <td>₹12L</td>\n",
       "      <td>₹10L</td>\n",
       "      <td>10 salaries</td>\n",
       "      <td>3.7</td>\n",
       "    </tr>\n",
       "    <tr>\n",
       "      <th>6</th>\n",
       "      <td>EXL Service</td>\n",
       "      <td>₹16L</td>\n",
       "      <td>₹13L</td>\n",
       "      <td>₹4L</td>\n",
       "      <td>9 salaries</td>\n",
       "      <td>4.2</td>\n",
       "    </tr>\n",
       "    <tr>\n",
       "      <th>7</th>\n",
       "      <td>Optum Global Solutions</td>\n",
       "      <td>₹11L</td>\n",
       "      <td>₹17L</td>\n",
       "      <td>₹5L</td>\n",
       "      <td>9 salaries</td>\n",
       "      <td>3.6</td>\n",
       "    </tr>\n",
       "    <tr>\n",
       "      <th>8</th>\n",
       "      <td>ZS Associates</td>\n",
       "      <td>₹15L</td>\n",
       "      <td>₹13L</td>\n",
       "      <td>₹8L</td>\n",
       "      <td>8 salaries</td>\n",
       "      <td>3.9</td>\n",
       "    </tr>\n",
       "    <tr>\n",
       "      <th>9</th>\n",
       "      <td>Optum</td>\n",
       "      <td>₹15L</td>\n",
       "      <td>₹16L</td>\n",
       "      <td>₹11L</td>\n",
       "      <td>8 salaries</td>\n",
       "      <td>4</td>\n",
       "    </tr>\n",
       "  </tbody>\n",
       "</table>\n",
       "</div>"
      ],
      "text/plain": [
       "             Company_Name Max_Salary Average_Salary Min_Salary No_Of_Salary  \\\n",
       "0                     IBM       ₹27L           ₹21L        ₹6L  18 salaries   \n",
       "1               Accenture       ₹21L           ₹15L        ₹7L  15 salaries   \n",
       "2               Delhivery       ₹22L           ₹15L        ₹6L  15 salaries   \n",
       "3      Ericsson-Worldwide       ₹15L           ₹11L        ₹7L  14 salaries   \n",
       "4      UnitedHealth Group       ₹1Cr           ₹15L        ₹5L  13 salaries   \n",
       "5      Valiance Solutions       ₹15L           ₹12L       ₹10L  10 salaries   \n",
       "6             EXL Service       ₹16L           ₹13L        ₹4L   9 salaries   \n",
       "7  Optum Global Solutions       ₹11L           ₹17L        ₹5L   9 salaries   \n",
       "8           ZS Associates       ₹15L           ₹13L        ₹8L   8 salaries   \n",
       "9                   Optum       ₹15L           ₹16L       ₹11L   8 salaries   \n",
       "\n",
       "  Company_Rating  \n",
       "0            3.9  \n",
       "1            3.9  \n",
       "2              4  \n",
       "3            3.9  \n",
       "4              4  \n",
       "5            3.7  \n",
       "6            4.2  \n",
       "7            3.6  \n",
       "8            3.9  \n",
       "9              4  "
      ]
     },
     "execution_count": 349,
     "metadata": {},
     "output_type": "execute_result"
    }
   ],
   "source": [
    "data_c['Company_Name'] = company_name_c\n",
    "data_c['Max_Salary'] = max_salary_c\n",
    "data_c['Average_Salary'] = avg_salary_c\n",
    "data_c['Min_Salary'] = min_salary_c\n",
    "data_c['No_Of_Salary'] = No_of_salaries_c\n",
    "data_c['Company_Rating'] = rating_c\n",
    "data_c"
   ]
  },
  {
   "cell_type": "markdown",
   "id": "1f1e7cae-c400-453e-aa5b-601cb7cd1de2",
   "metadata": {},
   "source": [
    "### *********************************************"
   ]
  },
  {
   "cell_type": "markdown",
   "id": "d66fd130-2ba7-497c-8166-65c2764fd470",
   "metadata": {},
   "source": [
    "### __Q6 : Scrape data of first 100 sunglasses listings on flipkart.com. You have to scrape four attributes:__"
   ]
  },
  {
   "cell_type": "markdown",
   "id": "f1cfe811-d8ee-4e7a-865e-40755694dc19",
   "metadata": {},
   "source": [
    "#### 1. Brand\n",
    "#### 2. Product Description\n",
    "#### 3. Price\n",
    "#### 4. Discount %\n",
    "#### The attributes which you have to scrape is ticked marked in the below image.\n",
    "#### To scrape the data you have to go through following steps: 1. Go to flipkart webpage by url https://www.flipkart.com/\n",
    "#### 2. Enter “sunglasses” in the search field where “search for products, brands and more” is written and click the search icon\n",
    "#### 3. after that you will reach to a webpage having a lot of sunglasses. From this page you can scrap the required data as usual.\n",
    "#### 4. after scraping data from the first page, go to the “Next” Button at the bottom of the page , then click on it\n",
    "#### 5. Now scrape data from this page as usual\n",
    "#### 6. repeat this until you get data for 100 sunglasses.\n",
    "#### Note that all of the above steps have to be done by coding only and not manually."
   ]
  },
  {
   "cell_type": "markdown",
   "id": "a9a869f7-0120-4fe0-b633-e93754d5351b",
   "metadata": {},
   "source": [
    "![](6.jpg)"
   ]
  },
  {
   "cell_type": "code",
   "execution_count": 662,
   "id": "a4f2bbda-9eec-4ac9-8e7a-bdb7c01e3249",
   "metadata": {},
   "outputs": [],
   "source": [
    "## the website url\n",
    "url_flipk = \" https://www.flipkart.com/\"\n",
    "\n",
    "# opening the web page with the above url\n",
    "\n",
    "driver.get(url=url_flipk)"
   ]
  },
  {
   "cell_type": "code",
   "execution_count": 663,
   "id": "51e886d4-c9cb-4473-86a6-681958cf6afe",
   "metadata": {},
   "outputs": [],
   "source": [
    "inpu_search = driver.find_element_by_xpath('//div[@class=\"_3OO5Xc\"]//input')\n"
   ]
  },
  {
   "cell_type": "code",
   "execution_count": 664,
   "id": "1ec877ad-5b6a-42b5-861f-30701f62b983",
   "metadata": {},
   "outputs": [],
   "source": [
    "inpu_search.send_keys('sunglasses')"
   ]
  },
  {
   "cell_type": "code",
   "execution_count": 665,
   "id": "9efd3646-7801-4517-ab51-b9a38040fb39",
   "metadata": {},
   "outputs": [],
   "source": [
    "search_button = driver.find_element_by_xpath('//button[@class=\"L0Z3Pu\"]')"
   ]
  },
  {
   "cell_type": "code",
   "execution_count": 666,
   "id": "cd9931ef-7946-4a2c-ae24-d4653151ddab",
   "metadata": {},
   "outputs": [],
   "source": [
    "search_button.click()"
   ]
  },
  {
   "cell_type": "markdown",
   "id": "bee3e1da-f1ad-446b-b4e2-5d3da469d45c",
   "metadata": {},
   "source": [
    "## First let's get first 100 products links"
   ]
  },
  {
   "cell_type": "code",
   "execution_count": 529,
   "id": "3bf9a696-7f7f-4519-b597-1e53f3c558d4",
   "metadata": {},
   "outputs": [],
   "source": []
  },
  {
   "cell_type": "code",
   "execution_count": 538,
   "id": "41c1191a-4bed-42f7-9b67-4ebaddbb0981",
   "metadata": {},
   "outputs": [],
   "source": [
    "links = []\n",
    "for i in range(1,4):\n",
    "    product_link = driver.find_elements_by_xpath('//a[@class=\"IRpwTa\"]')\n",
    "    for oli in product_link:\n",
    "        links.append(oli.get_attribute('href'))\n",
    "    next_btn = driver.find_element_by_xpath('//a[@class=\"_1LKTO3\"]')\n",
    "    next_btn.click()\n",
    "    time.sleep(2)"
   ]
  },
  {
   "cell_type": "code",
   "execution_count": 543,
   "id": "5519eb51-6932-49d7-a1ea-3b52a582059b",
   "metadata": {},
   "outputs": [],
   "source": [
    "#links"
   ]
  },
  {
   "cell_type": "code",
   "execution_count": 540,
   "id": "e9edb6c6-5392-466f-ac7b-d843e32843bd",
   "metadata": {},
   "outputs": [
    {
     "data": {
      "text/plain": [
       "120"
      ]
     },
     "execution_count": 540,
     "metadata": {},
     "output_type": "execute_result"
    }
   ],
   "source": [
    "len(links)"
   ]
  },
  {
   "cell_type": "code",
   "execution_count": 541,
   "id": "c322433e-43a4-4378-af54-63d06adfa5cf",
   "metadata": {},
   "outputs": [],
   "source": [
    "first_100_urls = links[0:100]"
   ]
  },
  {
   "cell_type": "code",
   "execution_count": 542,
   "id": "3da33503-2909-403d-bb79-addeca53a8d8",
   "metadata": {},
   "outputs": [
    {
     "data": {
      "text/plain": [
       "['https://www.flipkart.com/style-guru-retro-square-sunglasses/p/itm9c8745cedc06c?pid=SGLFTGSDWHDZBANB&lid=LSTSGLFTGSDWHDZBANBNONC8Y&marketplace=FLIPKART&q=sunglasses&store=26x&srno=s_1_1&otracker=search&otracker1=search&fm=SEARCH&iid=en_dQW0PxY4g785hw9nAZMeqri19i293E1u0IQmxTYuL7QrCMpRyUttH1FpoWPNqYEQVxS9wAy3KY4fqih9SkB9Ig%3D%3D&ppt=sp&ppn=sp&ssid=6on6f2nvjk0000001625934992028&qH=2cc465e3eef5bff0',\n",
       " 'https://www.flipkart.com/villain-wayfarer-sunglasses/p/itm8a24290c043c2?pid=SGLG3Z5KP9FHFTFY&lid=LSTSGLG3Z5KP9FHFTFYJ4AVFA&marketplace=FLIPKART&q=sunglasses&store=26x&srno=s_1_2&otracker=search&otracker1=search&fm=SEARCH&iid=en_dQW0PxY4g785hw9nAZMeqri19i293E1u0IQmxTYuL7SoR90pcDJYyHKN8VHLlYjp4OAfreprcOT7ijYDWKbNlw%3D%3D&ppt=sp&ppn=sp&ssid=6on6f2nvjk0000001625934992028&qH=2cc465e3eef5bff0',\n",
       " 'https://www.flipkart.com/fastrack-wayfarer-sunglasses/p/itmf79dqjqucq9f3?pid=SGLF79DQR8NQAT2W&lid=LSTSGLF79DQR8NQAT2W0MLSHN&marketplace=FLIPKART&q=sunglasses&store=26x&srno=s_1_3&otracker=search&otracker1=search&fm=SEARCH&iid=f2fda338-c9b0-461a-903c-b1926aa7da56.SGLF79DQR8NQAT2W.SEARCH&ppt=sp&ppn=sp&ssid=6on6f2nvjk0000001625934992028&qH=2cc465e3eef5bff0',\n",
       " 'https://www.flipkart.com/kingsunglasses-wayfarer-sunglasses/p/itm9c7287be7c247?pid=SGLG2ZY9UERPGCZX&lid=LSTSGLG2ZY9UERPGCZXOWQRMA&marketplace=FLIPKART&q=sunglasses&store=26x&srno=s_1_4&otracker=search&otracker1=search&fm=SEARCH&iid=f2fda338-c9b0-461a-903c-b1926aa7da56.SGLG2ZY9UERPGCZX.SEARCH&ppt=sp&ppn=sp&ssid=6on6f2nvjk0000001625934992028&qH=2cc465e3eef5bff0',\n",
       " 'https://www.flipkart.com/piraso-aviator-sunglasses/p/itm70504d13b7992?pid=SGLFV8YYCEA8RWAC&lid=LSTSGLFV8YYCEA8RWACIACICJ&marketplace=FLIPKART&q=sunglasses&store=26x&spotlightTagId=BestsellerId_26x&srno=s_1_5&otracker=search&otracker1=search&fm=SEARCH&iid=f2fda338-c9b0-461a-903c-b1926aa7da56.SGLFV8YYCEA8RWAC.SEARCH&ppt=sp&ppn=sp&ssid=6on6f2nvjk0000001625934992028&qH=2cc465e3eef5bff0',\n",
       " 'https://www.flipkart.com/phenomenal-retro-square-sunglasses/p/itm05605e75ed801?pid=SGLFUXYAXFHYQAK4&lid=LSTSGLFUXYAXFHYQAK4VF4MKG&marketplace=FLIPKART&q=sunglasses&store=26x&srno=s_1_6&otracker=search&otracker1=search&fm=SEARCH&iid=f2fda338-c9b0-461a-903c-b1926aa7da56.SGLFUXYAXFHYQAK4.SEARCH&ppt=sp&ppn=sp&ssid=6on6f2nvjk0000001625934992028&qH=2cc465e3eef5bff0',\n",
       " 'https://www.flipkart.com/gansta-aviator-sunglasses/p/itmf7hmfp5r8hcdb?pid=SGLF7HGZKHHSTQ8H&lid=LSTSGLF7HGZKHHSTQ8H5VK4WX&marketplace=FLIPKART&q=sunglasses&store=26x&srno=s_1_7&otracker=search&otracker1=search&fm=SEARCH&iid=f2fda338-c9b0-461a-903c-b1926aa7da56.SGLF7HGZKHHSTQ8H.SEARCH&ppt=sp&ppn=sp&ssid=6on6f2nvjk0000001625934992028&qH=2cc465e3eef5bff0',\n",
       " 'https://www.flipkart.com/wrogn-wayfarer-sunglasses/p/itme1c2e4290b443?pid=SGLFVHMBJFMFRJGS&lid=LSTSGLFVHMBJFMFRJGSSZRM0S&marketplace=FLIPKART&q=sunglasses&store=26x&srno=s_1_8&otracker=search&otracker1=search&fm=SEARCH&iid=en_dQW0PxY4g785hw9nAZMeqri19i293E1u0IQmxTYuL7Q%2BDpxqLAzYg7Y6nkYaAtbhggLqBeBnz1M6DJs0BMyYlg%3D%3D&ppt=sp&ppn=sp&ssid=6on6f2nvjk0000001625934992028&qH=2cc465e3eef5bff0',\n",
       " 'https://www.flipkart.com/singco-india-sports-sunglasses/p/itmb6d550eb0932b?pid=SGLFVYKGREY28QVK&lid=LSTSGLFVYKGREY28QVKRAX3RH&marketplace=FLIPKART&q=sunglasses&store=26x&srno=s_1_9&otracker=search&otracker1=search&fm=SEARCH&iid=f2fda338-c9b0-461a-903c-b1926aa7da56.SGLFVYKGREY28QVK.SEARCH&ppt=sp&ppn=sp&ssid=6on6f2nvjk0000001625934992028&qH=2cc465e3eef5bff0',\n",
       " 'https://www.flipkart.com/silver-kartz-wayfarer-sunglasses/p/itmf3ykz37jypbdd?pid=SGLEXSP4CY6G2ZTY&lid=LSTSGLEXSP4CY6G2ZTYGHVAAN&marketplace=FLIPKART&q=sunglasses&store=26x&srno=s_1_10&otracker=search&otracker1=search&fm=SEARCH&iid=f2fda338-c9b0-461a-903c-b1926aa7da56.SGLEXSP4CY6G2ZTY.SEARCH&ppt=sp&ppn=sp&ssid=6on6f2nvjk0000001625934992028&qH=2cc465e3eef5bff0',\n",
       " 'https://www.flipkart.com/rozzetta-craft-retro-square-sunglasses/p/itmf248ba5b3a895?pid=SGLFZFZNAQNZHYB7&lid=LSTSGLFZFZNAQNZHYB7GZ3YO5&marketplace=FLIPKART&q=sunglasses&store=26x&srno=s_1_11&otracker=search&otracker1=search&fm=SEARCH&iid=f2fda338-c9b0-461a-903c-b1926aa7da56.SGLFZFZNAQNZHYB7.SEARCH&ppt=sp&ppn=sp&ssid=6on6f2nvjk0000001625934992028&qH=2cc465e3eef5bff0',\n",
       " 'https://www.flipkart.com/vincent-chase-lenskart-wayfarer-sunglasses/p/itm9c4230c4c4a43?pid=SGLFU52BJPM22ZXZ&lid=LSTSGLFU52BJPM22ZXZP99YTI&marketplace=FLIPKART&q=sunglasses&store=26x&srno=s_1_12&otracker=search&otracker1=search&fm=SEARCH&iid=en_dQW0PxY4g785hw9nAZMeqri19i293E1u0IQmxTYuL7T0SSer2GXByEZwCz%2FFou55gdoiZqQGVUHCO%2BzhyGPDkQ%3D%3D&ppt=sp&ppn=sp&ssid=6on6f2nvjk0000001625934992028&qH=2cc465e3eef5bff0',\n",
       " 'https://www.flipkart.com/hipe-round-sunglasses/p/itm05dde0582be36?pid=SGLFQETNDUT4ZRPX&lid=LSTSGLFQETNDUT4ZRPXSFWXQA&marketplace=FLIPKART&q=sunglasses&store=26x&srno=s_1_13&otracker=search&otracker1=search&fm=SEARCH&iid=f2fda338-c9b0-461a-903c-b1926aa7da56.SGLFQETNDUT4ZRPX.SEARCH&ppt=sp&ppn=sp&ssid=6on6f2nvjk0000001625934992028&qH=2cc465e3eef5bff0',\n",
       " 'https://www.flipkart.com/deixels-aviator-wayfarer-sunglasses/p/itmf3yke7n2axuym?pid=SGLF2YZXCDM6QACV&lid=LSTSGLF2YZXCDM6QACV8HRV24&marketplace=FLIPKART&q=sunglasses&store=26x&srno=s_1_14&otracker=search&otracker1=search&fm=SEARCH&iid=f2fda338-c9b0-461a-903c-b1926aa7da56.SGLF2YZXCDM6QACV.SEARCH&ppt=sp&ppn=sp&ssid=6on6f2nvjk0000001625934992028&qH=2cc465e3eef5bff0',\n",
       " 'https://www.flipkart.com/nuvew-aviator-sunglasses/p/itm1b5c5bd8eee84?pid=SGLFKJW39ZRP8MYU&lid=LSTSGLFKJW39ZRP8MYUANUM4Q&marketplace=FLIPKART&q=sunglasses&store=26x&srno=s_1_15&otracker=search&otracker1=search&fm=SEARCH&iid=f2fda338-c9b0-461a-903c-b1926aa7da56.SGLFKJW39ZRP8MYU.SEARCH&ppt=sp&ppn=sp&ssid=6on6f2nvjk0000001625934992028&qH=2cc465e3eef5bff0',\n",
       " 'https://www.flipkart.com/royal-son-retro-square-sunglasses/p/itm6d8c70978e36a?pid=SGLG3PH3RVHAGZEZ&lid=LSTSGLG3PH3RVHAGZEZMHN7P7&marketplace=FLIPKART&q=sunglasses&store=26x&srno=s_1_16&otracker=search&otracker1=search&fm=SEARCH&iid=en_dQW0PxY4g785hw9nAZMeqri19i293E1u0IQmxTYuL7R5KwK17qxJ5r8g9%2BcO7WhgcUrXhrNG0BplHbPrRH%2Fh%2BQ%3D%3D&ppt=sp&ppn=sp&ssid=6on6f2nvjk0000001625934992028&qH=2cc465e3eef5bff0',\n",
       " 'https://www.flipkart.com/hippon-wayfarer-sunglasses/p/itm05550ccebbf7b?pid=SGLFHPMMVHHGWKNG&lid=LSTSGLFHPMMVHHGWKNG1S9QVG&marketplace=FLIPKART&q=sunglasses&store=26x&srno=s_1_17&otracker=search&otracker1=search&fm=SEARCH&iid=f2fda338-c9b0-461a-903c-b1926aa7da56.SGLFHPMMVHHGWKNG.SEARCH&ppt=sp&ppn=sp&ssid=6on6f2nvjk0000001625934992028&qH=2cc465e3eef5bff0',\n",
       " 'https://www.flipkart.com/flizz-retro-square-sunglasses/p/itmfcfa8ecd9dbce?pid=SGLFWQP8JZVJZEZW&lid=LSTSGLFWQP8JZVJZEZWAUAWZL&marketplace=FLIPKART&q=sunglasses&store=26x&srno=s_1_18&otracker=search&otracker1=search&fm=SEARCH&iid=f2fda338-c9b0-461a-903c-b1926aa7da56.SGLFWQP8JZVJZEZW.SEARCH&ppt=sp&ppn=sp&ssid=6on6f2nvjk0000001625934992028&qH=2cc465e3eef5bff0',\n",
       " 'https://www.flipkart.com/singco-aviator-sunglasses/p/itma6f7be892becc?pid=SGLFQEWXNHU5URPQ&lid=LSTSGLFQEWXNHU5URPQNYJECW&marketplace=FLIPKART&q=sunglasses&store=26x&srno=s_1_19&otracker=search&otracker1=search&fm=SEARCH&iid=f2fda338-c9b0-461a-903c-b1926aa7da56.SGLFQEWXNHU5URPQ.SEARCH&ppt=sp&ppn=sp&ssid=6on6f2nvjk0000001625934992028&qH=2cc465e3eef5bff0',\n",
       " 'https://www.flipkart.com/vincent-chase-lenskart-cat-eye-sunglasses/p/itme5e43b2b68256?pid=SGLFZSZQAMZ5BHCV&lid=LSTSGLFZSZQAMZ5BHCVXDPSAT&marketplace=FLIPKART&q=sunglasses&store=26x&srno=s_1_20&otracker=search&otracker1=search&fm=SEARCH&iid=en_dQW0PxY4g785hw9nAZMeqri19i293E1u0IQmxTYuL7QbyX9K20on2i%2BpnTctu%2BHRNHRA1cSs5LJVQb947Gy0gQ%3D%3D&ppt=sp&ppn=sp&ssid=6on6f2nvjk0000001625934992028&qH=2cc465e3eef5bff0',\n",
       " 'https://www.flipkart.com/royal-son-wayfarer-sunglasses/p/itmfgaf93tm9amaa?pid=SGLFGAYYCQWCN5FH&lid=LSTSGLFGAYYCQWCN5FHJBRXON&marketplace=FLIPKART&q=sunglasses&store=26x&srno=s_1_21&otracker=search&otracker1=search&fm=SEARCH&iid=f2fda338-c9b0-461a-903c-b1926aa7da56.SGLFGAYYCQWCN5FH.SEARCH&ppt=sp&ppn=sp&ssid=6on6f2nvjk0000001625934992028&qH=2cc465e3eef5bff0',\n",
       " 'https://www.flipkart.com/elegante-round-sunglasses/p/itm58a4f476a7ae1?pid=SGLFZ6NZJ2QH7EGH&lid=LSTSGLFZ6NZJ2QH7EGHOKX9P3&marketplace=FLIPKART&q=sunglasses&store=26x&srno=s_1_22&otracker=search&otracker1=search&fm=SEARCH&iid=f2fda338-c9b0-461a-903c-b1926aa7da56.SGLFZ6NZJ2QH7EGH.SEARCH&ppt=sp&ppn=sp&ssid=6on6f2nvjk0000001625934992028&qH=2cc465e3eef5bff0',\n",
       " 'https://www.flipkart.com/fravy-retro-square-sunglasses/p/itm04fda6395be09?pid=SGLFVSMZSXHDR3QG&lid=LSTSGLFVSMZSXHDR3QGLQ4IJX&marketplace=FLIPKART&q=sunglasses&store=26x&srno=s_1_23&otracker=search&otracker1=search&fm=SEARCH&iid=f2fda338-c9b0-461a-903c-b1926aa7da56.SGLFVSMZSXHDR3QG.SEARCH&ppt=sp&ppn=sp&ssid=6on6f2nvjk0000001625934992028&qH=2cc465e3eef5bff0',\n",
       " 'https://www.flipkart.com/rozzetta-craft-retro-square-sunglasses/p/itmfd05447fa5361?pid=SGLFZ2YCQ7UQ3XBQ&lid=LSTSGLFZ2YCQ7UQ3XBQRG02II&marketplace=FLIPKART&q=sunglasses&store=26x&srno=s_1_24&otracker=search&otracker1=search&fm=SEARCH&iid=en_dQW0PxY4g785hw9nAZMeqri19i293E1u0IQmxTYuL7TG9d%2BwEeZQF8g9eiMgSV9pG0bdKHKrcfK8FlIHOljfyg%3D%3D&ppt=sp&ppn=sp&ssid=6on6f2nvjk0000001625934992028&qH=2cc465e3eef5bff0',\n",
       " 'https://www.flipkart.com/irus-idee-rectangular-sunglasses/p/itm15f1f8c72b6be?pid=SGLFUG58GGAZXPFY&lid=LSTSGLFUG58GGAZXPFYYHEKLD&marketplace=FLIPKART&q=sunglasses&store=26x&srno=s_1_25&otracker=search&otracker1=search&fm=SEARCH&iid=f2fda338-c9b0-461a-903c-b1926aa7da56.SGLFUG58GGAZXPFY.SEARCH&ppt=sp&ppn=sp&ssid=6on6f2nvjk0000001625934992028&qH=2cc465e3eef5bff0',\n",
       " 'https://www.flipkart.com/poland-wayfarer-sunglasses/p/itmf5rz8q7benykg?pid=SGLF5RXAYNCUZZZ2&lid=LSTSGLF5RXAYNCUZZZ2HEUI6X&marketplace=FLIPKART&q=sunglasses&store=26x&srno=s_1_26&otracker=search&otracker1=search&fm=SEARCH&iid=f2fda338-c9b0-461a-903c-b1926aa7da56.SGLF5RXAYNCUZZZ2.SEARCH&ppt=sp&ppn=sp&ssid=6on6f2nvjk0000001625934992028&qH=2cc465e3eef5bff0',\n",
       " 'https://www.flipkart.com/wrogn-wayfarer-sunglasses/p/itm83e74b365abdd?pid=SGLFVHMCDPHJYVUE&lid=LSTSGLFVHMCDPHJYVUESAA4LP&marketplace=FLIPKART&q=sunglasses&store=26x&srno=s_1_27&otracker=search&otracker1=search&fm=SEARCH&iid=f2fda338-c9b0-461a-903c-b1926aa7da56.SGLFVHMCDPHJYVUE.SEARCH&ppt=sp&ppn=sp&ssid=6on6f2nvjk0000001625934992028&qH=2cc465e3eef5bff0',\n",
       " 'https://www.flipkart.com/deixels-wayfarer-sunglasses/p/itmda1235c86a61f?pid=SGLFV9G68DRGFBZU&lid=LSTSGLFV9G68DRGFBZUZRFY9I&marketplace=FLIPKART&q=sunglasses&store=26x&srno=s_1_28&otracker=search&otracker1=search&fm=SEARCH&iid=en_dQW0PxY4g785hw9nAZMeqri19i293E1u0IQmxTYuL7QcRAM3NjADQIyzQgIkxPZYBKjh280vn9AhJCnu6a%2FBCQ%3D%3D&ppt=sp&ppn=sp&ssid=6on6f2nvjk0000001625934992028&qH=2cc465e3eef5bff0',\n",
       " 'https://www.flipkart.com/badfella-retro-square-sunglasses/p/itmd216919949721?pid=SGLFTUQXDS6C9BMU&lid=LSTSGLFTUQXDS6C9BMUS51YQR&marketplace=FLIPKART&q=sunglasses&store=26x&srno=s_1_29&otracker=search&otracker1=search&fm=SEARCH&iid=f2fda338-c9b0-461a-903c-b1926aa7da56.SGLFTUQXDS6C9BMU.SEARCH&ppt=sp&ppn=sp&ssid=6on6f2nvjk0000001625934992028&qH=2cc465e3eef5bff0',\n",
       " 'https://www.flipkart.com/united-colors-benetton-aviator-sunglasses/p/itm614feb011625f?pid=SGLFUQZ8N4TMYEHD&lid=LSTSGLFUQZ8N4TMYEHD34QN7K&marketplace=FLIPKART&q=sunglasses&store=26x&srno=s_1_30&otracker=search&otracker1=search&fm=SEARCH&iid=f2fda338-c9b0-461a-903c-b1926aa7da56.SGLFUQZ8N4TMYEHD.SEARCH&ppt=sp&ppn=sp&ssid=6on6f2nvjk0000001625934992028&qH=2cc465e3eef5bff0',\n",
       " 'https://www.flipkart.com/idee-aviator-sunglasses/p/itmfccrbeqmr9mvw?pid=SGLFCCRBVVFFBWJY&lid=LSTSGLFCCRBVVFFBWJYD1J141&marketplace=FLIPKART&q=sunglasses&store=26x&srno=s_1_31&otracker=search&otracker1=search&fm=SEARCH&iid=f2fda338-c9b0-461a-903c-b1926aa7da56.SGLFCCRBVVFFBWJY.SEARCH&ppt=sp&ppn=sp&ssid=6on6f2nvjk0000001625934992028&qH=2cc465e3eef5bff0',\n",
       " 'https://www.flipkart.com/nuvew-sports-sunglasses/p/itmcb9e3b33486b5?pid=SGLFKGRFAH8Z3BUZ&lid=LSTSGLFKGRFAH8Z3BUZOMFEGK&marketplace=FLIPKART&q=sunglasses&store=26x&srno=s_1_32&otracker=search&otracker1=search&fm=SEARCH&iid=en_dQW0PxY4g785hw9nAZMeqri19i293E1u0IQmxTYuL7SiFN%2BJoq8TQD9mfRnbVCC%2Fi5ri3U9MdqwnfiRthnr5bw%3D%3D&ppt=sp&ppn=sp&ssid=6on6f2nvjk0000001625934992028&qH=2cc465e3eef5bff0',\n",
       " 'https://www.flipkart.com/aislin-butterfly-retro-square-sunglasses/p/itma409b55e8037c?pid=SGLFRGT7GJF6GG84&lid=LSTSGLFRGT7GJF6GG84BJPHJY&marketplace=FLIPKART&q=sunglasses&store=26x&srno=s_1_33&otracker=search&otracker1=search&fm=SEARCH&iid=f2fda338-c9b0-461a-903c-b1926aa7da56.SGLFRGT7GJF6GG84.SEARCH&ppt=sp&ppn=sp&ssid=6on6f2nvjk0000001625934992028&qH=2cc465e3eef5bff0',\n",
       " 'https://www.flipkart.com/fastrack-rectangular-sunglasses/p/itmf3yhd8wephwxh?pid=SGLES2WMF6CH5GYF&lid=LSTSGLES2WMF6CH5GYFXRVSZN&marketplace=FLIPKART&q=sunglasses&store=26x&srno=s_1_34&otracker=search&otracker1=search&fm=SEARCH&iid=f2fda338-c9b0-461a-903c-b1926aa7da56.SGLES2WMF6CH5GYF.SEARCH&ppt=sp&ppn=sp&ssid=6on6f2nvjk0000001625934992028&qH=2cc465e3eef5bff0',\n",
       " 'https://www.flipkart.com/kingsunglasses-round-sunglasses/p/itm668e2503f485e?pid=SGLFY5AYFU27DZM4&lid=LSTSGLFY5AYFU27DZM4RRJKPX&marketplace=FLIPKART&q=sunglasses&store=26x&srno=s_1_35&otracker=search&otracker1=search&fm=SEARCH&iid=f2fda338-c9b0-461a-903c-b1926aa7da56.SGLFY5AYFU27DZM4.SEARCH&ppt=sp&ppn=sp&ssid=6on6f2nvjk0000001625934992028&qH=2cc465e3eef5bff0',\n",
       " 'https://www.flipkart.com/wrogn-aviator-sunglasses/p/itm7fa19a4b466b9?pid=SGLFVHMCXQNMYGTY&lid=LSTSGLFVHMCXQNMYGTYZI7OT5&marketplace=FLIPKART&q=sunglasses&store=26x&srno=s_1_36&otracker=search&otracker1=search&fm=SEARCH&iid=en_dQW0PxY4g785hw9nAZMeqri19i293E1u0IQmxTYuL7QunajeGD95hu77Ey6WGsIfzVz7RT1P8IOdy9fZ%2BRKbrA%3D%3D&ppt=sp&ppn=sp&ssid=6on6f2nvjk0000001625934992028&qH=2cc465e3eef5bff0',\n",
       " 'https://www.flipkart.com/phenomenal-round-sunglasses/p/itm7fc559d677aa4?pid=SGLFN8AUWJHNFAZD&lid=LSTSGLFN8AUWJHNFAZDP6OYYD&marketplace=FLIPKART&q=sunglasses&store=26x&srno=s_1_37&otracker=search&otracker1=search&fm=SEARCH&iid=f2fda338-c9b0-461a-903c-b1926aa7da56.SGLFN8AUWJHNFAZD.SEARCH&ppt=sp&ppn=sp&ssid=6on6f2nvjk0000001625934992028&qH=2cc465e3eef5bff0',\n",
       " 'https://www.flipkart.com/hipe-sports-sunglasses/p/itm3e54ea56c399f?pid=SGLFGYGHYR7AAJPJ&lid=LSTSGLFGYGHYR7AAJPJMUU6KY&marketplace=FLIPKART&q=sunglasses&store=26x&srno=s_1_38&otracker=search&otracker1=search&fm=SEARCH&iid=f2fda338-c9b0-461a-903c-b1926aa7da56.SGLFGYGHYR7AAJPJ.SEARCH&ppt=sp&ppn=sp&ssid=6on6f2nvjk0000001625934992028&qH=2cc465e3eef5bff0',\n",
       " 'https://www.flipkart.com/singco-india-aviator-sunglasses/p/itm2bc818fcd5d29?pid=SGLFH5ZGZGPZJ5DP&lid=LSTSGLFH5ZGZGPZJ5DPAYBD27&marketplace=FLIPKART&q=sunglasses&store=26x&srno=s_1_39&otracker=search&otracker1=search&fm=SEARCH&iid=f2fda338-c9b0-461a-903c-b1926aa7da56.SGLFH5ZGZGPZJ5DP.SEARCH&ppt=sp&ppn=sp&ssid=6on6f2nvjk0000001625934992028&qH=2cc465e3eef5bff0',\n",
       " 'https://www.flipkart.com/aislin-wayfarer-rectangular-sunglasses/p/itm72c6355dc1868?pid=SGLFRHGMHEJRYABS&lid=LSTSGLFRHGMHEJRYABSTQHD6X&marketplace=FLIPKART&q=sunglasses&store=26x&srno=s_1_40&otracker=search&otracker1=search&fm=SEARCH&iid=en_dQW0PxY4g785hw9nAZMeqri19i293E1u0IQmxTYuL7RhExUFP0z5oCub%2FzVtjMp%2FxN1hcwh0B5iioqkC6tPwNQ%3D%3D&ppt=sp&ppn=sp&ssid=6on6f2nvjk0000001625934992028&qH=2cc465e3eef5bff0',\n",
       " 'https://www.flipkart.com/style-guru-retro-square-sunglasses/p/itm9c8745cedc06c?pid=SGLFTGSDWHDZBANB&lid=LSTSGLFTGSDWHDZBANBNONC8Y&marketplace=FLIPKART&q=sunglasses&store=26x&srno=s_1_1&otracker=search&otracker1=search&fm=SEARCH&iid=en_dQW0PxY4g785hw9nAZMeqri19i293E1u0IQmxTYuL7QrCMpRyUttH1FpoWPNqYEQVxS9wAy3KY4fqih9SkB9Ig%3D%3D&ppt=sp&ppn=sp&ssid=6on6f2nvjk0000001625934992028&qH=2cc465e3eef5bff0',\n",
       " 'https://www.flipkart.com/villain-wayfarer-sunglasses/p/itm8a24290c043c2?pid=SGLG3Z5KP9FHFTFY&lid=LSTSGLG3Z5KP9FHFTFYJ4AVFA&marketplace=FLIPKART&q=sunglasses&store=26x&srno=s_1_2&otracker=search&otracker1=search&fm=SEARCH&iid=en_dQW0PxY4g785hw9nAZMeqri19i293E1u0IQmxTYuL7SoR90pcDJYyHKN8VHLlYjp4OAfreprcOT7ijYDWKbNlw%3D%3D&ppt=sp&ppn=sp&ssid=6on6f2nvjk0000001625934992028&qH=2cc465e3eef5bff0',\n",
       " 'https://www.flipkart.com/fastrack-wayfarer-sunglasses/p/itmf79dqjqucq9f3?pid=SGLF79DQR8NQAT2W&lid=LSTSGLF79DQR8NQAT2W0MLSHN&marketplace=FLIPKART&q=sunglasses&store=26x&srno=s_1_3&otracker=search&otracker1=search&fm=SEARCH&iid=f2fda338-c9b0-461a-903c-b1926aa7da56.SGLF79DQR8NQAT2W.SEARCH&ppt=sp&ppn=sp&ssid=6on6f2nvjk0000001625934992028&qH=2cc465e3eef5bff0',\n",
       " 'https://www.flipkart.com/kingsunglasses-wayfarer-sunglasses/p/itm9c7287be7c247?pid=SGLG2ZY9UERPGCZX&lid=LSTSGLG2ZY9UERPGCZXOWQRMA&marketplace=FLIPKART&q=sunglasses&store=26x&srno=s_1_4&otracker=search&otracker1=search&fm=SEARCH&iid=f2fda338-c9b0-461a-903c-b1926aa7da56.SGLG2ZY9UERPGCZX.SEARCH&ppt=sp&ppn=sp&ssid=6on6f2nvjk0000001625934992028&qH=2cc465e3eef5bff0',\n",
       " 'https://www.flipkart.com/piraso-aviator-sunglasses/p/itm70504d13b7992?pid=SGLFV8YYCEA8RWAC&lid=LSTSGLFV8YYCEA8RWACIACICJ&marketplace=FLIPKART&q=sunglasses&store=26x&spotlightTagId=BestsellerId_26x&srno=s_1_5&otracker=search&otracker1=search&fm=SEARCH&iid=f2fda338-c9b0-461a-903c-b1926aa7da56.SGLFV8YYCEA8RWAC.SEARCH&ppt=sp&ppn=sp&ssid=6on6f2nvjk0000001625934992028&qH=2cc465e3eef5bff0',\n",
       " 'https://www.flipkart.com/phenomenal-retro-square-sunglasses/p/itm05605e75ed801?pid=SGLFUXYAXFHYQAK4&lid=LSTSGLFUXYAXFHYQAK4VF4MKG&marketplace=FLIPKART&q=sunglasses&store=26x&srno=s_1_6&otracker=search&otracker1=search&fm=SEARCH&iid=f2fda338-c9b0-461a-903c-b1926aa7da56.SGLFUXYAXFHYQAK4.SEARCH&ppt=sp&ppn=sp&ssid=6on6f2nvjk0000001625934992028&qH=2cc465e3eef5bff0',\n",
       " 'https://www.flipkart.com/gansta-aviator-sunglasses/p/itmf7hmfp5r8hcdb?pid=SGLF7HGZKHHSTQ8H&lid=LSTSGLF7HGZKHHSTQ8H5VK4WX&marketplace=FLIPKART&q=sunglasses&store=26x&srno=s_1_7&otracker=search&otracker1=search&fm=SEARCH&iid=f2fda338-c9b0-461a-903c-b1926aa7da56.SGLF7HGZKHHSTQ8H.SEARCH&ppt=sp&ppn=sp&ssid=6on6f2nvjk0000001625934992028&qH=2cc465e3eef5bff0',\n",
       " 'https://www.flipkart.com/wrogn-wayfarer-sunglasses/p/itme1c2e4290b443?pid=SGLFVHMBJFMFRJGS&lid=LSTSGLFVHMBJFMFRJGSSZRM0S&marketplace=FLIPKART&q=sunglasses&store=26x&srno=s_1_8&otracker=search&otracker1=search&fm=SEARCH&iid=en_dQW0PxY4g785hw9nAZMeqri19i293E1u0IQmxTYuL7Q%2BDpxqLAzYg7Y6nkYaAtbhggLqBeBnz1M6DJs0BMyYlg%3D%3D&ppt=sp&ppn=sp&ssid=6on6f2nvjk0000001625934992028&qH=2cc465e3eef5bff0',\n",
       " 'https://www.flipkart.com/singco-india-sports-sunglasses/p/itmb6d550eb0932b?pid=SGLFVYKGREY28QVK&lid=LSTSGLFVYKGREY28QVKRAX3RH&marketplace=FLIPKART&q=sunglasses&store=26x&srno=s_1_9&otracker=search&otracker1=search&fm=SEARCH&iid=f2fda338-c9b0-461a-903c-b1926aa7da56.SGLFVYKGREY28QVK.SEARCH&ppt=sp&ppn=sp&ssid=6on6f2nvjk0000001625934992028&qH=2cc465e3eef5bff0',\n",
       " 'https://www.flipkart.com/silver-kartz-wayfarer-sunglasses/p/itmf3ykz37jypbdd?pid=SGLEXSP4CY6G2ZTY&lid=LSTSGLEXSP4CY6G2ZTYGHVAAN&marketplace=FLIPKART&q=sunglasses&store=26x&srno=s_1_10&otracker=search&otracker1=search&fm=SEARCH&iid=f2fda338-c9b0-461a-903c-b1926aa7da56.SGLEXSP4CY6G2ZTY.SEARCH&ppt=sp&ppn=sp&ssid=6on6f2nvjk0000001625934992028&qH=2cc465e3eef5bff0',\n",
       " 'https://www.flipkart.com/rozzetta-craft-retro-square-sunglasses/p/itmf248ba5b3a895?pid=SGLFZFZNAQNZHYB7&lid=LSTSGLFZFZNAQNZHYB7GZ3YO5&marketplace=FLIPKART&q=sunglasses&store=26x&srno=s_1_11&otracker=search&otracker1=search&fm=SEARCH&iid=f2fda338-c9b0-461a-903c-b1926aa7da56.SGLFZFZNAQNZHYB7.SEARCH&ppt=sp&ppn=sp&ssid=6on6f2nvjk0000001625934992028&qH=2cc465e3eef5bff0',\n",
       " 'https://www.flipkart.com/vincent-chase-lenskart-wayfarer-sunglasses/p/itm9c4230c4c4a43?pid=SGLFU52BJPM22ZXZ&lid=LSTSGLFU52BJPM22ZXZP99YTI&marketplace=FLIPKART&q=sunglasses&store=26x&srno=s_1_12&otracker=search&otracker1=search&fm=SEARCH&iid=en_dQW0PxY4g785hw9nAZMeqri19i293E1u0IQmxTYuL7T0SSer2GXByEZwCz%2FFou55gdoiZqQGVUHCO%2BzhyGPDkQ%3D%3D&ppt=sp&ppn=sp&ssid=6on6f2nvjk0000001625934992028&qH=2cc465e3eef5bff0',\n",
       " 'https://www.flipkart.com/hipe-round-sunglasses/p/itm05dde0582be36?pid=SGLFQETNDUT4ZRPX&lid=LSTSGLFQETNDUT4ZRPXSFWXQA&marketplace=FLIPKART&q=sunglasses&store=26x&srno=s_1_13&otracker=search&otracker1=search&fm=SEARCH&iid=f2fda338-c9b0-461a-903c-b1926aa7da56.SGLFQETNDUT4ZRPX.SEARCH&ppt=sp&ppn=sp&ssid=6on6f2nvjk0000001625934992028&qH=2cc465e3eef5bff0',\n",
       " 'https://www.flipkart.com/deixels-aviator-wayfarer-sunglasses/p/itmf3yke7n2axuym?pid=SGLF2YZXCDM6QACV&lid=LSTSGLF2YZXCDM6QACV8HRV24&marketplace=FLIPKART&q=sunglasses&store=26x&srno=s_1_14&otracker=search&otracker1=search&fm=SEARCH&iid=f2fda338-c9b0-461a-903c-b1926aa7da56.SGLF2YZXCDM6QACV.SEARCH&ppt=sp&ppn=sp&ssid=6on6f2nvjk0000001625934992028&qH=2cc465e3eef5bff0',\n",
       " 'https://www.flipkart.com/nuvew-aviator-sunglasses/p/itm1b5c5bd8eee84?pid=SGLFKJW39ZRP8MYU&lid=LSTSGLFKJW39ZRP8MYUANUM4Q&marketplace=FLIPKART&q=sunglasses&store=26x&srno=s_1_15&otracker=search&otracker1=search&fm=SEARCH&iid=f2fda338-c9b0-461a-903c-b1926aa7da56.SGLFKJW39ZRP8MYU.SEARCH&ppt=sp&ppn=sp&ssid=6on6f2nvjk0000001625934992028&qH=2cc465e3eef5bff0',\n",
       " 'https://www.flipkart.com/royal-son-retro-square-sunglasses/p/itm6d8c70978e36a?pid=SGLG3PH3RVHAGZEZ&lid=LSTSGLG3PH3RVHAGZEZMHN7P7&marketplace=FLIPKART&q=sunglasses&store=26x&srno=s_1_16&otracker=search&otracker1=search&fm=SEARCH&iid=en_dQW0PxY4g785hw9nAZMeqri19i293E1u0IQmxTYuL7R5KwK17qxJ5r8g9%2BcO7WhgcUrXhrNG0BplHbPrRH%2Fh%2BQ%3D%3D&ppt=sp&ppn=sp&ssid=6on6f2nvjk0000001625934992028&qH=2cc465e3eef5bff0',\n",
       " 'https://www.flipkart.com/hippon-wayfarer-sunglasses/p/itm05550ccebbf7b?pid=SGLFHPMMVHHGWKNG&lid=LSTSGLFHPMMVHHGWKNG1S9QVG&marketplace=FLIPKART&q=sunglasses&store=26x&srno=s_1_17&otracker=search&otracker1=search&fm=SEARCH&iid=f2fda338-c9b0-461a-903c-b1926aa7da56.SGLFHPMMVHHGWKNG.SEARCH&ppt=sp&ppn=sp&ssid=6on6f2nvjk0000001625934992028&qH=2cc465e3eef5bff0',\n",
       " 'https://www.flipkart.com/flizz-retro-square-sunglasses/p/itmfcfa8ecd9dbce?pid=SGLFWQP8JZVJZEZW&lid=LSTSGLFWQP8JZVJZEZWAUAWZL&marketplace=FLIPKART&q=sunglasses&store=26x&srno=s_1_18&otracker=search&otracker1=search&fm=SEARCH&iid=f2fda338-c9b0-461a-903c-b1926aa7da56.SGLFWQP8JZVJZEZW.SEARCH&ppt=sp&ppn=sp&ssid=6on6f2nvjk0000001625934992028&qH=2cc465e3eef5bff0',\n",
       " 'https://www.flipkart.com/singco-aviator-sunglasses/p/itma6f7be892becc?pid=SGLFQEWXNHU5URPQ&lid=LSTSGLFQEWXNHU5URPQNYJECW&marketplace=FLIPKART&q=sunglasses&store=26x&srno=s_1_19&otracker=search&otracker1=search&fm=SEARCH&iid=f2fda338-c9b0-461a-903c-b1926aa7da56.SGLFQEWXNHU5URPQ.SEARCH&ppt=sp&ppn=sp&ssid=6on6f2nvjk0000001625934992028&qH=2cc465e3eef5bff0',\n",
       " 'https://www.flipkart.com/vincent-chase-lenskart-cat-eye-sunglasses/p/itme5e43b2b68256?pid=SGLFZSZQAMZ5BHCV&lid=LSTSGLFZSZQAMZ5BHCVXDPSAT&marketplace=FLIPKART&q=sunglasses&store=26x&srno=s_1_20&otracker=search&otracker1=search&fm=SEARCH&iid=en_dQW0PxY4g785hw9nAZMeqri19i293E1u0IQmxTYuL7QbyX9K20on2i%2BpnTctu%2BHRNHRA1cSs5LJVQb947Gy0gQ%3D%3D&ppt=sp&ppn=sp&ssid=6on6f2nvjk0000001625934992028&qH=2cc465e3eef5bff0',\n",
       " 'https://www.flipkart.com/royal-son-wayfarer-sunglasses/p/itmfgaf93tm9amaa?pid=SGLFGAYYCQWCN5FH&lid=LSTSGLFGAYYCQWCN5FHJBRXON&marketplace=FLIPKART&q=sunglasses&store=26x&srno=s_1_21&otracker=search&otracker1=search&fm=SEARCH&iid=f2fda338-c9b0-461a-903c-b1926aa7da56.SGLFGAYYCQWCN5FH.SEARCH&ppt=sp&ppn=sp&ssid=6on6f2nvjk0000001625934992028&qH=2cc465e3eef5bff0',\n",
       " 'https://www.flipkart.com/elegante-round-sunglasses/p/itm58a4f476a7ae1?pid=SGLFZ6NZJ2QH7EGH&lid=LSTSGLFZ6NZJ2QH7EGHOKX9P3&marketplace=FLIPKART&q=sunglasses&store=26x&srno=s_1_22&otracker=search&otracker1=search&fm=SEARCH&iid=f2fda338-c9b0-461a-903c-b1926aa7da56.SGLFZ6NZJ2QH7EGH.SEARCH&ppt=sp&ppn=sp&ssid=6on6f2nvjk0000001625934992028&qH=2cc465e3eef5bff0',\n",
       " 'https://www.flipkart.com/fravy-retro-square-sunglasses/p/itm04fda6395be09?pid=SGLFVSMZSXHDR3QG&lid=LSTSGLFVSMZSXHDR3QGLQ4IJX&marketplace=FLIPKART&q=sunglasses&store=26x&srno=s_1_23&otracker=search&otracker1=search&fm=SEARCH&iid=f2fda338-c9b0-461a-903c-b1926aa7da56.SGLFVSMZSXHDR3QG.SEARCH&ppt=sp&ppn=sp&ssid=6on6f2nvjk0000001625934992028&qH=2cc465e3eef5bff0',\n",
       " 'https://www.flipkart.com/rozzetta-craft-retro-square-sunglasses/p/itmfd05447fa5361?pid=SGLFZ2YCQ7UQ3XBQ&lid=LSTSGLFZ2YCQ7UQ3XBQRG02II&marketplace=FLIPKART&q=sunglasses&store=26x&srno=s_1_24&otracker=search&otracker1=search&fm=SEARCH&iid=en_dQW0PxY4g785hw9nAZMeqri19i293E1u0IQmxTYuL7TG9d%2BwEeZQF8g9eiMgSV9pG0bdKHKrcfK8FlIHOljfyg%3D%3D&ppt=sp&ppn=sp&ssid=6on6f2nvjk0000001625934992028&qH=2cc465e3eef5bff0',\n",
       " 'https://www.flipkart.com/irus-idee-rectangular-sunglasses/p/itm15f1f8c72b6be?pid=SGLFUG58GGAZXPFY&lid=LSTSGLFUG58GGAZXPFYYHEKLD&marketplace=FLIPKART&q=sunglasses&store=26x&srno=s_1_25&otracker=search&otracker1=search&fm=SEARCH&iid=f2fda338-c9b0-461a-903c-b1926aa7da56.SGLFUG58GGAZXPFY.SEARCH&ppt=sp&ppn=sp&ssid=6on6f2nvjk0000001625934992028&qH=2cc465e3eef5bff0',\n",
       " 'https://www.flipkart.com/poland-wayfarer-sunglasses/p/itmf5rz8q7benykg?pid=SGLF5RXAYNCUZZZ2&lid=LSTSGLF5RXAYNCUZZZ2HEUI6X&marketplace=FLIPKART&q=sunglasses&store=26x&srno=s_1_26&otracker=search&otracker1=search&fm=SEARCH&iid=f2fda338-c9b0-461a-903c-b1926aa7da56.SGLF5RXAYNCUZZZ2.SEARCH&ppt=sp&ppn=sp&ssid=6on6f2nvjk0000001625934992028&qH=2cc465e3eef5bff0',\n",
       " 'https://www.flipkart.com/wrogn-wayfarer-sunglasses/p/itm83e74b365abdd?pid=SGLFVHMCDPHJYVUE&lid=LSTSGLFVHMCDPHJYVUESAA4LP&marketplace=FLIPKART&q=sunglasses&store=26x&srno=s_1_27&otracker=search&otracker1=search&fm=SEARCH&iid=f2fda338-c9b0-461a-903c-b1926aa7da56.SGLFVHMCDPHJYVUE.SEARCH&ppt=sp&ppn=sp&ssid=6on6f2nvjk0000001625934992028&qH=2cc465e3eef5bff0',\n",
       " 'https://www.flipkart.com/deixels-wayfarer-sunglasses/p/itmda1235c86a61f?pid=SGLFV9G68DRGFBZU&lid=LSTSGLFV9G68DRGFBZUZRFY9I&marketplace=FLIPKART&q=sunglasses&store=26x&srno=s_1_28&otracker=search&otracker1=search&fm=SEARCH&iid=en_dQW0PxY4g785hw9nAZMeqri19i293E1u0IQmxTYuL7QcRAM3NjADQIyzQgIkxPZYBKjh280vn9AhJCnu6a%2FBCQ%3D%3D&ppt=sp&ppn=sp&ssid=6on6f2nvjk0000001625934992028&qH=2cc465e3eef5bff0',\n",
       " 'https://www.flipkart.com/badfella-retro-square-sunglasses/p/itmd216919949721?pid=SGLFTUQXDS6C9BMU&lid=LSTSGLFTUQXDS6C9BMUS51YQR&marketplace=FLIPKART&q=sunglasses&store=26x&srno=s_1_29&otracker=search&otracker1=search&fm=SEARCH&iid=f2fda338-c9b0-461a-903c-b1926aa7da56.SGLFTUQXDS6C9BMU.SEARCH&ppt=sp&ppn=sp&ssid=6on6f2nvjk0000001625934992028&qH=2cc465e3eef5bff0',\n",
       " 'https://www.flipkart.com/united-colors-benetton-aviator-sunglasses/p/itm614feb011625f?pid=SGLFUQZ8N4TMYEHD&lid=LSTSGLFUQZ8N4TMYEHD34QN7K&marketplace=FLIPKART&q=sunglasses&store=26x&srno=s_1_30&otracker=search&otracker1=search&fm=SEARCH&iid=f2fda338-c9b0-461a-903c-b1926aa7da56.SGLFUQZ8N4TMYEHD.SEARCH&ppt=sp&ppn=sp&ssid=6on6f2nvjk0000001625934992028&qH=2cc465e3eef5bff0',\n",
       " 'https://www.flipkart.com/idee-aviator-sunglasses/p/itmfccrbeqmr9mvw?pid=SGLFCCRBVVFFBWJY&lid=LSTSGLFCCRBVVFFBWJYD1J141&marketplace=FLIPKART&q=sunglasses&store=26x&srno=s_1_31&otracker=search&otracker1=search&fm=SEARCH&iid=f2fda338-c9b0-461a-903c-b1926aa7da56.SGLFCCRBVVFFBWJY.SEARCH&ppt=sp&ppn=sp&ssid=6on6f2nvjk0000001625934992028&qH=2cc465e3eef5bff0',\n",
       " 'https://www.flipkart.com/nuvew-sports-sunglasses/p/itmcb9e3b33486b5?pid=SGLFKGRFAH8Z3BUZ&lid=LSTSGLFKGRFAH8Z3BUZOMFEGK&marketplace=FLIPKART&q=sunglasses&store=26x&srno=s_1_32&otracker=search&otracker1=search&fm=SEARCH&iid=en_dQW0PxY4g785hw9nAZMeqri19i293E1u0IQmxTYuL7SiFN%2BJoq8TQD9mfRnbVCC%2Fi5ri3U9MdqwnfiRthnr5bw%3D%3D&ppt=sp&ppn=sp&ssid=6on6f2nvjk0000001625934992028&qH=2cc465e3eef5bff0',\n",
       " 'https://www.flipkart.com/aislin-butterfly-retro-square-sunglasses/p/itma409b55e8037c?pid=SGLFRGT7GJF6GG84&lid=LSTSGLFRGT7GJF6GG84BJPHJY&marketplace=FLIPKART&q=sunglasses&store=26x&srno=s_1_33&otracker=search&otracker1=search&fm=SEARCH&iid=f2fda338-c9b0-461a-903c-b1926aa7da56.SGLFRGT7GJF6GG84.SEARCH&ppt=sp&ppn=sp&ssid=6on6f2nvjk0000001625934992028&qH=2cc465e3eef5bff0',\n",
       " 'https://www.flipkart.com/fastrack-rectangular-sunglasses/p/itmf3yhd8wephwxh?pid=SGLES2WMF6CH5GYF&lid=LSTSGLES2WMF6CH5GYFXRVSZN&marketplace=FLIPKART&q=sunglasses&store=26x&srno=s_1_34&otracker=search&otracker1=search&fm=SEARCH&iid=f2fda338-c9b0-461a-903c-b1926aa7da56.SGLES2WMF6CH5GYF.SEARCH&ppt=sp&ppn=sp&ssid=6on6f2nvjk0000001625934992028&qH=2cc465e3eef5bff0',\n",
       " 'https://www.flipkart.com/kingsunglasses-round-sunglasses/p/itm668e2503f485e?pid=SGLFY5AYFU27DZM4&lid=LSTSGLFY5AYFU27DZM4RRJKPX&marketplace=FLIPKART&q=sunglasses&store=26x&srno=s_1_35&otracker=search&otracker1=search&fm=SEARCH&iid=f2fda338-c9b0-461a-903c-b1926aa7da56.SGLFY5AYFU27DZM4.SEARCH&ppt=sp&ppn=sp&ssid=6on6f2nvjk0000001625934992028&qH=2cc465e3eef5bff0',\n",
       " 'https://www.flipkart.com/wrogn-aviator-sunglasses/p/itm7fa19a4b466b9?pid=SGLFVHMCXQNMYGTY&lid=LSTSGLFVHMCXQNMYGTYZI7OT5&marketplace=FLIPKART&q=sunglasses&store=26x&srno=s_1_36&otracker=search&otracker1=search&fm=SEARCH&iid=en_dQW0PxY4g785hw9nAZMeqri19i293E1u0IQmxTYuL7QunajeGD95hu77Ey6WGsIfzVz7RT1P8IOdy9fZ%2BRKbrA%3D%3D&ppt=sp&ppn=sp&ssid=6on6f2nvjk0000001625934992028&qH=2cc465e3eef5bff0',\n",
       " 'https://www.flipkart.com/phenomenal-round-sunglasses/p/itm7fc559d677aa4?pid=SGLFN8AUWJHNFAZD&lid=LSTSGLFN8AUWJHNFAZDP6OYYD&marketplace=FLIPKART&q=sunglasses&store=26x&srno=s_1_37&otracker=search&otracker1=search&fm=SEARCH&iid=f2fda338-c9b0-461a-903c-b1926aa7da56.SGLFN8AUWJHNFAZD.SEARCH&ppt=sp&ppn=sp&ssid=6on6f2nvjk0000001625934992028&qH=2cc465e3eef5bff0',\n",
       " 'https://www.flipkart.com/hipe-sports-sunglasses/p/itm3e54ea56c399f?pid=SGLFGYGHYR7AAJPJ&lid=LSTSGLFGYGHYR7AAJPJMUU6KY&marketplace=FLIPKART&q=sunglasses&store=26x&srno=s_1_38&otracker=search&otracker1=search&fm=SEARCH&iid=f2fda338-c9b0-461a-903c-b1926aa7da56.SGLFGYGHYR7AAJPJ.SEARCH&ppt=sp&ppn=sp&ssid=6on6f2nvjk0000001625934992028&qH=2cc465e3eef5bff0',\n",
       " 'https://www.flipkart.com/singco-india-aviator-sunglasses/p/itm2bc818fcd5d29?pid=SGLFH5ZGZGPZJ5DP&lid=LSTSGLFH5ZGZGPZJ5DPAYBD27&marketplace=FLIPKART&q=sunglasses&store=26x&srno=s_1_39&otracker=search&otracker1=search&fm=SEARCH&iid=f2fda338-c9b0-461a-903c-b1926aa7da56.SGLFH5ZGZGPZJ5DP.SEARCH&ppt=sp&ppn=sp&ssid=6on6f2nvjk0000001625934992028&qH=2cc465e3eef5bff0',\n",
       " 'https://www.flipkart.com/aislin-wayfarer-rectangular-sunglasses/p/itm72c6355dc1868?pid=SGLFRHGMHEJRYABS&lid=LSTSGLFRHGMHEJRYABSTQHD6X&marketplace=FLIPKART&q=sunglasses&store=26x&srno=s_1_40&otracker=search&otracker1=search&fm=SEARCH&iid=en_dQW0PxY4g785hw9nAZMeqri19i293E1u0IQmxTYuL7RhExUFP0z5oCub%2FzVtjMp%2FxN1hcwh0B5iioqkC6tPwNQ%3D%3D&ppt=sp&ppn=sp&ssid=6on6f2nvjk0000001625934992028&qH=2cc465e3eef5bff0',\n",
       " 'https://www.flipkart.com/piraso-aviator-sunglasses/p/itm4210bb67b2728?pid=SGLFPFD7WRNASWSV&lid=LSTSGLFPFD7WRNASWSVJLGDDX&marketplace=FLIPKART&q=sunglasses&store=26x&srno=s_2_41&otracker=search&otracker1=search&fm=SEARCH&iid=75678349-791a-48b5-87fd-b7994fbbce3e.SGLFPFD7WRNASWSV.SEARCH&ppt=sp&ppn=sp&ssid=6on6f2nvjk0000001625934992028&qH=2cc465e3eef5bff0',\n",
       " 'https://www.flipkart.com/hipe-sports-sunglasses/p/itm3e54ea56c399f?pid=SGLFGYGHYR7AAJPJ&lid=LSTSGLFGYGHYR7AAJPJMUU6KY&marketplace=FLIPKART&q=sunglasses&store=26x&srno=s_2_42&otracker=search&otracker1=search&fm=SEARCH&iid=75678349-791a-48b5-87fd-b7994fbbce3e.SGLFGYGHYR7AAJPJ.SEARCH&ppt=sp&ppn=sp&ssid=6on6f2nvjk0000001625934992028&qH=2cc465e3eef5bff0',\n",
       " 'https://www.flipkart.com/gansta-aviator-sunglasses/p/itma841cb28ba5b2?pid=SGLFSFVG8R3XZAMN&lid=LSTSGLFSFVG8R3XZAMNIB8HEQ&marketplace=FLIPKART&q=sunglasses&store=26x&srno=s_2_43&otracker=search&otracker1=search&fm=SEARCH&iid=75678349-791a-48b5-87fd-b7994fbbce3e.SGLFSFVG8R3XZAMN.SEARCH&ppt=sp&ppn=sp&ssid=6on6f2nvjk0000001625934992028&qH=2cc465e3eef5bff0',\n",
       " 'https://www.flipkart.com/fravy-retro-square-sunglasses/p/itma42c41d69987a?pid=SGLFYMDHWZU4BYRG&lid=LSTSGLFYMDHWZU4BYRG0C4QCL&marketplace=FLIPKART&q=sunglasses&store=26x&srno=s_2_44&otracker=search&otracker1=search&fm=SEARCH&iid=en_0GGpvqMh%2B79a9HILDwop0iA6MCEJNIkHwCDqQu3OohV%2Bp8fN7Thi%2FP%2Fbat5swKZ80si6NQXuFAlCInNgox6OTg%3D%3D&ppt=sp&ppn=sp&ssid=6on6f2nvjk0000001625934992028&qH=2cc465e3eef5bff0',\n",
       " 'https://www.flipkart.com/royal-son-aviator-sunglasses/p/itme479614d796cc?pid=SGLED3YH6AQQFTJT&lid=LSTSGLED3YH6AQQFTJTD9JARU&marketplace=FLIPKART&q=sunglasses&store=26x&srno=s_2_45&otracker=search&otracker1=search&fm=SEARCH&iid=75678349-791a-48b5-87fd-b7994fbbce3e.SGLED3YH6AQQFTJT.SEARCH&ppt=sp&ppn=sp&ssid=6on6f2nvjk0000001625934992028&qH=2cc465e3eef5bff0',\n",
       " 'https://www.flipkart.com/singco-aviator-sunglasses/p/itmad59ee26b3c94?pid=SGLF3859NKPNFBSW&lid=LSTSGLF3859NKPNFBSWJF0WXM&marketplace=FLIPKART&q=sunglasses&store=26x&srno=s_2_46&otracker=search&otracker1=search&fm=SEARCH&iid=75678349-791a-48b5-87fd-b7994fbbce3e.SGLF3859NKPNFBSW.SEARCH&ppt=sp&ppn=sp&ssid=6on6f2nvjk0000001625934992028&qH=2cc465e3eef5bff0',\n",
       " 'https://www.flipkart.com/deixels-wayfarer-sunglasses/p/itmd472d69f3666e?pid=SGLFKMMXWMAEFHMF&lid=LSTSGLFKMMXWMAEFHMFSMSLWM&marketplace=FLIPKART&q=sunglasses&store=26x&srno=s_2_47&otracker=search&otracker1=search&fm=SEARCH&iid=75678349-791a-48b5-87fd-b7994fbbce3e.SGLFKMMXWMAEFHMF.SEARCH&ppt=sp&ppn=sp&ssid=6on6f2nvjk0000001625934992028&qH=2cc465e3eef5bff0',\n",
       " 'https://www.flipkart.com/wrogn-aviator-sunglasses/p/itm4580405e8b274?pid=SGLFVHMCZHFQCYBW&lid=LSTSGLFVHMCZHFQCYBWPACMJI&marketplace=FLIPKART&q=sunglasses&store=26x&srno=s_2_48&otracker=search&otracker1=search&fm=SEARCH&iid=en_0GGpvqMh%2B79a9HILDwop0iA6MCEJNIkHwCDqQu3OohXcYbYM4p7Xu2zmmgFSDzsgolsyhr0LuwYLqeGnadRqxw%3D%3D&ppt=sp&ppn=sp&ssid=6on6f2nvjk0000001625934992028&qH=2cc465e3eef5bff0',\n",
       " 'https://www.flipkart.com/wrogn-retro-square-sunglasses/p/itm3cbbe9e744e6c?pid=SGLFVHMBZ7J5MXFF&lid=LSTSGLFVHMBZ7J5MXFFNAZTL9&marketplace=FLIPKART&q=sunglasses&store=26x&srno=s_2_49&otracker=search&otracker1=search&fm=SEARCH&iid=75678349-791a-48b5-87fd-b7994fbbce3e.SGLFVHMBZ7J5MXFF.SEARCH&ppt=sp&ppn=sp&ssid=6on6f2nvjk0000001625934992028&qH=2cc465e3eef5bff0',\n",
       " 'https://www.flipkart.com/nuvew-wayfarer-sunglasses/p/itmb1f24534ef860?pid=SGLFT46ZRHWPXBPR&lid=LSTSGLFT46ZRHWPXBPRNX9KER&marketplace=FLIPKART&q=sunglasses&store=26x&srno=s_2_50&otracker=search&otracker1=search&fm=SEARCH&iid=75678349-791a-48b5-87fd-b7994fbbce3e.SGLFT46ZRHWPXBPR.SEARCH&ppt=sp&ppn=sp&ssid=6on6f2nvjk0000001625934992028&qH=2cc465e3eef5bff0',\n",
       " 'https://www.flipkart.com/flizz-rectangular-sunglasses/p/itm5827604c312cd?pid=SGLFSPHJHPMHNAXB&lid=LSTSGLFSPHJHPMHNAXB2MQBSZ&marketplace=FLIPKART&q=sunglasses&store=26x&srno=s_2_51&otracker=search&otracker1=search&fm=SEARCH&iid=75678349-791a-48b5-87fd-b7994fbbce3e.SGLFSPHJHPMHNAXB.SEARCH&ppt=sp&ppn=sp&ssid=6on6f2nvjk0000001625934992028&qH=2cc465e3eef5bff0',\n",
       " 'https://www.flipkart.com/rozzetta-craft-shield-sunglasses/p/itmc5444d5058e09?pid=SGLFPZ65YQPYKUQP&lid=LSTSGLFPZ65YQPYKUQP4W0V5O&marketplace=FLIPKART&q=sunglasses&store=26x&srno=s_2_52&otracker=search&otracker1=search&fm=SEARCH&iid=en_0GGpvqMh%2B79a9HILDwop0iA6MCEJNIkHwCDqQu3OohWz6rwNaRiGaZmEXn8QB1D1ZMvNoiTBE%2BEl1Ea7HXUbvw%3D%3D&ppt=sp&ppn=sp&ssid=6on6f2nvjk0000001625934992028&qH=2cc465e3eef5bff0',\n",
       " 'https://www.flipkart.com/elegante-round-sunglasses/p/itmcd8c6ed5ae8bf?pid=SGLFZ6JF72GAPVGM&lid=LSTSGLFZ6JF72GAPVGMOCU6XV&marketplace=FLIPKART&q=sunglasses&store=26x&srno=s_2_53&otracker=search&otracker1=search&fm=SEARCH&iid=75678349-791a-48b5-87fd-b7994fbbce3e.SGLFZ6JF72GAPVGM.SEARCH&ppt=sp&ppn=sp&ssid=6on6f2nvjk0000001625934992028&qH=2cc465e3eef5bff0',\n",
       " 'https://www.flipkart.com/silver-kartz-oval-sunglasses/p/itmf0519a6d0669a?pid=SGLFJV3GWTUZSANC&lid=LSTSGLFJV3GWTUZSANCNBLT6O&marketplace=FLIPKART&q=sunglasses&store=26x&srno=s_2_54&otracker=search&otracker1=search&fm=SEARCH&iid=75678349-791a-48b5-87fd-b7994fbbce3e.SGLFJV3GWTUZSANC.SEARCH&ppt=sp&ppn=sp&ssid=6on6f2nvjk0000001625934992028&qH=2cc465e3eef5bff0',\n",
       " 'https://www.flipkart.com/united-colors-benetton-round-sunglasses/p/itm49fb045a897f1?pid=SGLFTSG2QATJ7HZT&lid=LSTSGLFTSG2QATJ7HZTP1NKKO&marketplace=FLIPKART&q=sunglasses&store=26x&srno=s_2_55&otracker=search&otracker1=search&fm=SEARCH&iid=75678349-791a-48b5-87fd-b7994fbbce3e.SGLFTSG2QATJ7HZT.SEARCH&ppt=sp&ppn=sp&ssid=6on6f2nvjk0000001625934992028&qH=2cc465e3eef5bff0',\n",
       " 'https://www.flipkart.com/wrogn-wayfarer-sunglasses/p/itmd7d590850262c?pid=SGLFVHMC9ENAZCJ5&lid=LSTSGLFVHMC9ENAZCJ5S7FTN0&marketplace=FLIPKART&q=sunglasses&store=26x&srno=s_2_56&otracker=search&otracker1=search&fm=SEARCH&iid=en_0GGpvqMh%2B79a9HILDwop0iA6MCEJNIkHwCDqQu3OohUiFf2uVmFEHFZiyFpFwN1QPyFW2Ilj12Qsn4FZXJiepQ%3D%3D&ppt=sp&ppn=sp&ssid=6on6f2nvjk0000001625934992028&qH=2cc465e3eef5bff0',\n",
       " 'https://www.flipkart.com/fastrack-wayfarer-sunglasses/p/itm04d9621b98c78?pid=SGLFG94C8PAHZ3SH&lid=LSTSGLFG94C8PAHZ3SHAFCJXO&marketplace=FLIPKART&q=sunglasses&store=26x&srno=s_2_57&otracker=search&otracker1=search&fm=SEARCH&iid=75678349-791a-48b5-87fd-b7994fbbce3e.SGLFG94C8PAHZ3SH.SEARCH&ppt=sp&ppn=sp&ssid=6on6f2nvjk0000001625934992028&qH=2cc465e3eef5bff0',\n",
       " 'https://www.flipkart.com/kingsunglasses-wayfarer-sunglasses/p/itm59aef661362cd?pid=SGLG2ZY2RFEUSYZS&lid=LSTSGLG2ZY2RFEUSYZSBUS16I&marketplace=FLIPKART&q=sunglasses&store=26x&srno=s_2_58&otracker=search&otracker1=search&fm=SEARCH&iid=75678349-791a-48b5-87fd-b7994fbbce3e.SGLG2ZY2RFEUSYZS.SEARCH&ppt=sp&ppn=sp&ssid=6on6f2nvjk0000001625934992028&qH=2cc465e3eef5bff0',\n",
       " 'https://www.flipkart.com/phenomenal-retro-square-sunglasses/p/itm1ead9ddbbb3d8?pid=SGLFUBFWNBFEAVD3&lid=LSTSGLFUBFWNBFEAVD31E0HIC&marketplace=FLIPKART&q=sunglasses&store=26x&srno=s_2_59&otracker=search&otracker1=search&fm=SEARCH&iid=75678349-791a-48b5-87fd-b7994fbbce3e.SGLFUBFWNBFEAVD3.SEARCH&ppt=sp&ppn=sp&ssid=6on6f2nvjk0000001625934992028&qH=2cc465e3eef5bff0',\n",
       " 'https://www.flipkart.com/aislin-wayfarer-sunglasses/p/itm03b74e9890bd2?pid=SGLFRGSVHQZMUKPA&lid=LSTSGLFRGSVHQZMUKPASVROAW&marketplace=FLIPKART&q=sunglasses&store=26x&srno=s_2_60&otracker=search&otracker1=search&fm=SEARCH&iid=en_0GGpvqMh%2B79a9HILDwop0iA6MCEJNIkHwCDqQu3OohWIcKDgQFR2%2B%2BOsoY6tL%2FxMvG0dK7wrc8zTcyvAdqf0ng%3D%3D&ppt=sp&ppn=sp&ssid=6on6f2nvjk0000001625934992028&qH=2cc465e3eef5bff0']"
      ]
     },
     "execution_count": 542,
     "metadata": {},
     "output_type": "execute_result"
    }
   ],
   "source": [
    "first_100_urls"
   ]
  },
  {
   "cell_type": "code",
   "execution_count": 549,
   "id": "e1a9ae2d-c53f-4db0-a945-8ec5d6156568",
   "metadata": {},
   "outputs": [],
   "source": [
    "## first let's get the brand name\n",
    "brands_names = []\n",
    "for oli in first_100_urls:\n",
    "    driver.get(oli)\n",
    "    brand = driver.find_elements_by_xpath('//h1[@class=\"yhB1nd\"]/span[1]')\n",
    "    for x in brand:\n",
    "        brands_names.append(x.text)\n",
    "    time.sleep(2)    \n"
   ]
  },
  {
   "cell_type": "code",
   "execution_count": 550,
   "id": "a9bee8da-add2-4b0e-9f7f-4905b2a5f29c",
   "metadata": {},
   "outputs": [
    {
     "data": {
      "text/plain": [
       "['style guru ',\n",
       " 'Villain ',\n",
       " 'Fastrack ',\n",
       " 'kingsunglasses ',\n",
       " 'PIRASO ',\n",
       " 'PHENOMENAL ',\n",
       " 'GANSTA ',\n",
       " 'Wrogn ',\n",
       " 'Singco India ',\n",
       " 'Silver Kartz ',\n",
       " 'ROZZETTA CRAFT ',\n",
       " 'VINCENT CHASE ',\n",
       " 'hipe ',\n",
       " 'DEIXELS ',\n",
       " 'NuVew ',\n",
       " 'ROYAL SON ',\n",
       " 'HIPPON ',\n",
       " 'Flizz ',\n",
       " 'Singco ',\n",
       " 'VINCENT CHASE ',\n",
       " 'ROYAL SON ',\n",
       " 'elegante ',\n",
       " 'Fravy ',\n",
       " 'ROZZETTA CRAFT ',\n",
       " 'IRUS by IDEE ',\n",
       " 'Poland ',\n",
       " 'Wrogn ',\n",
       " 'DEIXELS ',\n",
       " 'Badfella ',\n",
       " 'United Colors of Benetton ',\n",
       " 'IDEE ',\n",
       " 'NuVew ',\n",
       " 'AISLIN ',\n",
       " 'Fastrack ',\n",
       " 'kingsunglasses ',\n",
       " 'Wrogn ',\n",
       " 'PHENOMENAL ',\n",
       " 'hipe ',\n",
       " 'Singco India ',\n",
       " 'AISLIN ',\n",
       " 'style guru ',\n",
       " 'Villain ',\n",
       " 'Fastrack ',\n",
       " 'kingsunglasses ',\n",
       " 'PIRASO ',\n",
       " 'PHENOMENAL ',\n",
       " 'GANSTA ',\n",
       " 'Wrogn ',\n",
       " 'Singco India ',\n",
       " 'Silver Kartz ',\n",
       " 'ROZZETTA CRAFT ',\n",
       " 'VINCENT CHASE ',\n",
       " 'hipe ',\n",
       " 'DEIXELS ',\n",
       " 'NuVew ',\n",
       " 'ROYAL SON ',\n",
       " 'HIPPON ',\n",
       " 'Flizz ',\n",
       " 'Singco ',\n",
       " 'VINCENT CHASE ',\n",
       " 'ROYAL SON ',\n",
       " 'elegante ',\n",
       " 'Fravy ',\n",
       " 'ROZZETTA CRAFT ',\n",
       " 'IRUS by IDEE ',\n",
       " 'Poland ',\n",
       " 'Wrogn ',\n",
       " 'DEIXELS ',\n",
       " 'Badfella ',\n",
       " 'United Colors of Benetton ',\n",
       " 'IDEE ',\n",
       " 'NuVew ',\n",
       " 'AISLIN ',\n",
       " 'Fastrack ',\n",
       " 'kingsunglasses ',\n",
       " 'Wrogn ',\n",
       " 'PHENOMENAL ',\n",
       " 'hipe ',\n",
       " 'Singco India ',\n",
       " 'AISLIN ',\n",
       " 'PIRASO ',\n",
       " 'hipe ',\n",
       " 'GANSTA ',\n",
       " 'Fravy ',\n",
       " 'ROYAL SON ',\n",
       " 'Singco ',\n",
       " 'DEIXELS ',\n",
       " 'Wrogn ',\n",
       " 'Wrogn ',\n",
       " 'NuVew ',\n",
       " 'Flizz ',\n",
       " 'ROZZETTA CRAFT ',\n",
       " 'elegante ',\n",
       " 'Silver Kartz ',\n",
       " 'United Colors of Benetton ',\n",
       " 'Wrogn ',\n",
       " 'Fastrack ',\n",
       " 'kingsunglasses ',\n",
       " 'PHENOMENAL ',\n",
       " 'AISLIN ']"
      ]
     },
     "execution_count": 550,
     "metadata": {},
     "output_type": "execute_result"
    }
   ],
   "source": [
    "brands_names"
   ]
  },
  {
   "cell_type": "code",
   "execution_count": 551,
   "id": "0d5b7dc5-79a1-4046-9d47-688ce8fb2ce8",
   "metadata": {},
   "outputs": [
    {
     "data": {
      "text/plain": [
       "100"
      ]
     },
     "execution_count": 551,
     "metadata": {},
     "output_type": "execute_result"
    }
   ],
   "source": [
    "len(brands_names)"
   ]
  },
  {
   "cell_type": "code",
   "execution_count": 552,
   "id": "09a74054-8731-4c01-be51-686422665c44",
   "metadata": {},
   "outputs": [],
   "source": [
    "## let's get the product prices\n",
    "\n",
    "product_prices = []\n",
    "for oli in first_100_urls:\n",
    "    driver.get(oli)\n",
    "    prices = driver.find_elements_by_xpath('//div[@class=\"_30jeq3 _16Jk6d\"]')\n",
    "    for x in prices:\n",
    "        product_prices.append(x.text)\n",
    "    time.sleep(2)    \n"
   ]
  },
  {
   "cell_type": "code",
   "execution_count": 553,
   "id": "4eb3b48a-7fcb-448b-927c-436c5fa7fa22",
   "metadata": {},
   "outputs": [
    {
     "data": {
      "text/plain": [
       "['₹349',\n",
       " '₹675',\n",
       " '₹758',\n",
       " '₹299',\n",
       " '₹237',\n",
       " '₹399',\n",
       " '₹281',\n",
       " '₹826',\n",
       " '₹236',\n",
       " '₹259',\n",
       " '₹499',\n",
       " '₹1,179',\n",
       " '₹197',\n",
       " '₹213',\n",
       " '₹215',\n",
       " '₹799',\n",
       " '₹251',\n",
       " '₹399',\n",
       " '₹331',\n",
       " '₹1,415',\n",
       " '₹217',\n",
       " '₹199',\n",
       " '₹299',\n",
       " '₹499',\n",
       " '₹606',\n",
       " '₹162',\n",
       " '₹676',\n",
       " '₹349',\n",
       " '₹269',\n",
       " '₹1,405',\n",
       " '₹1,318',\n",
       " '₹348',\n",
       " '₹545',\n",
       " '₹513',\n",
       " '₹349',\n",
       " '₹1,007',\n",
       " '₹309',\n",
       " '₹299',\n",
       " '₹352',\n",
       " '₹1,085',\n",
       " '₹349',\n",
       " '₹675',\n",
       " '₹758',\n",
       " '₹299',\n",
       " '₹237',\n",
       " '₹399',\n",
       " '₹281',\n",
       " '₹826',\n",
       " '₹236',\n",
       " '₹259',\n",
       " '₹499',\n",
       " '₹1,179',\n",
       " '₹197',\n",
       " '₹213',\n",
       " '₹215',\n",
       " '₹799',\n",
       " '₹251',\n",
       " '₹399',\n",
       " '₹331',\n",
       " '₹1,415',\n",
       " '₹217',\n",
       " '₹199',\n",
       " '₹299',\n",
       " '₹499',\n",
       " '₹606',\n",
       " '₹162',\n",
       " '₹676',\n",
       " '₹349',\n",
       " '₹269',\n",
       " '₹1,405',\n",
       " '₹1,318',\n",
       " '₹348',\n",
       " '₹545',\n",
       " '₹513',\n",
       " '₹349',\n",
       " '₹1,007',\n",
       " '₹309',\n",
       " '₹299',\n",
       " '₹352',\n",
       " '₹1,085',\n",
       " '₹237',\n",
       " '₹299',\n",
       " '₹292',\n",
       " '₹339',\n",
       " '₹379',\n",
       " '₹252',\n",
       " '₹249',\n",
       " '₹1,175',\n",
       " '₹711',\n",
       " '₹235',\n",
       " '₹279',\n",
       " '₹499',\n",
       " '₹199',\n",
       " '₹299',\n",
       " '₹1,162',\n",
       " '₹1,165',\n",
       " '₹509',\n",
       " '₹299',\n",
       " '₹399',\n",
       " '₹625']"
      ]
     },
     "execution_count": 553,
     "metadata": {},
     "output_type": "execute_result"
    }
   ],
   "source": [
    "product_prices "
   ]
  },
  {
   "cell_type": "code",
   "execution_count": 554,
   "id": "ca409d72-9093-4969-9fdc-e94d4f18269f",
   "metadata": {},
   "outputs": [
    {
     "data": {
      "text/plain": [
       "100"
      ]
     },
     "execution_count": 554,
     "metadata": {},
     "output_type": "execute_result"
    }
   ],
   "source": [
    "len(product_prices )"
   ]
  },
  {
   "cell_type": "code",
   "execution_count": 555,
   "id": "015e9e20-c3ee-4905-89f2-0247f1a3ac21",
   "metadata": {},
   "outputs": [],
   "source": [
    "### let's find the product Discount\n",
    "product_discount =[]\n",
    "for oli in first_100_urls:\n",
    "    driver.get(oli)\n",
    "    discount = driver.find_elements_by_xpath('//div[@class=\"_3Ay6Sb _31Dcoz pZkvcx\"]//span')\n",
    "    for x in discount:\n",
    "        product_discount.append(x.text)\n",
    "    time.sleep(2)   \n",
    "\n"
   ]
  },
  {
   "cell_type": "code",
   "execution_count": 556,
   "id": "58524ff4-1ec5-4b3b-8a88-d5c7ca419279",
   "metadata": {},
   "outputs": [
    {
     "data": {
      "text/plain": [
       "['86% off',\n",
       " '32% off',\n",
       " '15% off',\n",
       " '88% off',\n",
       " '85% off',\n",
       " '80% off',\n",
       " '85% off',\n",
       " '72% off',\n",
       " '84% off',\n",
       " '82% off',\n",
       " '77% off',\n",
       " '41% off',\n",
       " '86% off',\n",
       " '82% off',\n",
       " '72% off',\n",
       " '60% off',\n",
       " '79% off',\n",
       " '81% off',\n",
       " '83% off',\n",
       " '29% off',\n",
       " '78% off',\n",
       " '80% off',\n",
       " '80% off',\n",
       " '77% off',\n",
       " '52% off',\n",
       " '67% off',\n",
       " '73% off',\n",
       " '56% off',\n",
       " '73% off',\n",
       " '65% off',\n",
       " '43% off',\n",
       " '72% off',\n",
       " '64% off',\n",
       " '35% off',\n",
       " '78% off',\n",
       " '69% off',\n",
       " '86% off',\n",
       " '84% off',\n",
       " '70% off',\n",
       " '72% off',\n",
       " '86% off',\n",
       " '32% off',\n",
       " '15% off',\n",
       " '88% off',\n",
       " '85% off',\n",
       " '80% off',\n",
       " '85% off',\n",
       " '72% off',\n",
       " '84% off',\n",
       " '82% off',\n",
       " '77% off',\n",
       " '41% off',\n",
       " '86% off',\n",
       " '82% off',\n",
       " '72% off',\n",
       " '60% off',\n",
       " '79% off',\n",
       " '81% off',\n",
       " '83% off',\n",
       " '29% off',\n",
       " '78% off',\n",
       " '80% off',\n",
       " '80% off',\n",
       " '77% off',\n",
       " '52% off',\n",
       " '67% off',\n",
       " '73% off',\n",
       " '56% off',\n",
       " '73% off',\n",
       " '65% off',\n",
       " '43% off',\n",
       " '72% off',\n",
       " '64% off',\n",
       " '35% off',\n",
       " '78% off',\n",
       " '69% off',\n",
       " '86% off',\n",
       " '84% off',\n",
       " '70% off',\n",
       " '72% off',\n",
       " '85% off',\n",
       " '84% off',\n",
       " '85% off',\n",
       " '83% off',\n",
       " '74% off',\n",
       " '74% off',\n",
       " '58% off',\n",
       " '63% off',\n",
       " '72% off',\n",
       " '75% off',\n",
       " '81% off',\n",
       " '80% off',\n",
       " '80% off',\n",
       " '75% off',\n",
       " '70% off',\n",
       " '61% off',\n",
       " '36% off',\n",
       " '88% off',\n",
       " '80% off',\n",
       " '70% off']"
      ]
     },
     "execution_count": 556,
     "metadata": {},
     "output_type": "execute_result"
    }
   ],
   "source": [
    "product_discount"
   ]
  },
  {
   "cell_type": "code",
   "execution_count": 557,
   "id": "3551cc45-8b94-43f5-bd02-221c96dcb86c",
   "metadata": {},
   "outputs": [
    {
     "data": {
      "text/plain": [
       "100"
      ]
     },
     "execution_count": 557,
     "metadata": {},
     "output_type": "execute_result"
    }
   ],
   "source": [
    "len(product_discount)"
   ]
  },
  {
   "cell_type": "code",
   "execution_count": 669,
   "id": "3a82809a-6acd-43a6-9aa9-ab7f5520aea0",
   "metadata": {},
   "outputs": [],
   "source": [
    "## let's find the product description\n",
    "product_disc =[]\n",
    "for oli in first_100_urls:\n",
    "    driver.get(oli)\n",
    "    produc_decrip = driver.find_elements_by_xpath('//span[@class=\"B_NuCI\"]')\n",
    "    for x in produc_decrip:\n",
    "        product_disc.append(x.text)\n",
    "    time.sleep(2)   \n",
    "\n",
    "\n"
   ]
  },
  {
   "cell_type": "code",
   "execution_count": 670,
   "id": "d7c187f0-3a50-4b42-9d47-73bc699b26d7",
   "metadata": {},
   "outputs": [
    {
     "data": {
      "text/plain": [
       "['UV Protection Retro Square Sunglasses (Free Size)  (For Men & Women, Blue, Grey)',\n",
       " 'Others Wayfarer Sunglasses (Free Size)  (For Men, Black)',\n",
       " 'UV Protection Wayfarer Sunglasses (Free Size)  (For Men, Green)',\n",
       " 'Mirrored, UV Protection Wayfarer Sunglasses (Free Size)  (For Men & Women, Blue, Green, Brown, Black, Clear)',\n",
       " 'UV Protection Aviator Sunglasses (54)  (For Men & Women, Black)',\n",
       " 'UV Protection Retro Square Sunglasses (Free Size)  (For Men & Women, Yellow, Red)',\n",
       " 'UV Protection Aviator Sunglasses (57)  (For Men & Women, Black, Blue)',\n",
       " 'UV Protection Wayfarer Sunglasses (55)  (For Men & Women, Green)',\n",
       " 'Mirrored, Riding Glasses, Others Sports Sunglasses (50)  (For Men & Women, Black, Blue, Silver)',\n",
       " 'UV Protection Wayfarer Sunglasses (Free Size)  (For Men & Women, Black)',\n",
       " 'UV Protection Retro Square Sunglasses (Free Size)  (For Men & Women, Blue)',\n",
       " 'by Lenskart UV Protection Wayfarer Sunglasses (49)  (For Men & Women, Green)',\n",
       " 'Mirrored, UV Protection, Gradient Round Sunglasses (55)  (For Men & Women, Blue, Silver)',\n",
       " 'UV Protection Aviator, Wayfarer Sunglasses (Free Size)  (For Men & Women, Black)',\n",
       " 'UV Protection Aviator Sunglasses (58)  (For Men & Women, Black, Grey, Violet)',\n",
       " 'UV Protection Retro Square Sunglasses (60)  (For Women, Black)',\n",
       " 'UV Protection Wayfarer Sunglasses (55)  (For Men & Women, Violet)',\n",
       " 'UV Protection Retro Square Sunglasses (Free Size)  (For Boys & Girls, Black, Red)',\n",
       " 'UV Protection, Others Aviator Sunglasses (32)  (For Men & Women, Red, Blue, Pink, Yellow)',\n",
       " 'by Lenskart Polarized, UV Protection Cat-eye Sunglasses (51)  (For Women, Brown)',\n",
       " 'UV Protection, Gradient Wayfarer Sunglasses (55)  (For Men & Women, Black, Brown)',\n",
       " 'UV Protection Round Sunglasses (Free Size)  (For Men, Black)',\n",
       " 'UV Protection Retro Square Sunglasses (Free Size)  (For Men & Women, Blue)',\n",
       " 'UV Protection Retro Square Sunglasses (Free Size)  (For Men & Women, Brown)',\n",
       " 'Gradient Rectangular Sunglasses (56)  (For Men, Grey)',\n",
       " 'UV Protection Wayfarer Sunglasses (Free Size)  (For Boys, Black)',\n",
       " 'Mirrored Wayfarer Sunglasses (56)  (For Men & Women, Blue)',\n",
       " 'UV Protection Wayfarer Sunglasses (Free Size)  (For Men & Women, Blue)',\n",
       " 'Polarized, UV Protection Retro Square Sunglasses (53)  (For Men & Women, Pink)',\n",
       " 'Gradient, UV Protection Aviator Sunglasses (56)  (For Men & Women, Blue)',\n",
       " 'Gradient Aviator Sunglasses (58)  (For Men & Women, Grey)',\n",
       " 'UV Protection Sports Sunglasses (73)  (For Men & Women, Blue, Violet)',\n",
       " 'UV Protection, Gradient Butterfly, Retro Square Sunglasses (58)  (For Women, Pink)',\n",
       " 'UV Protection Rectangular Sunglasses (Free Size)  (For Men, Grey)',\n",
       " 'UV Protection Round Sunglasses (Free Size)  (For Men & Women, Yellow, Blue, Red, Black, Green, Blue)',\n",
       " 'UV Protection Aviator Sunglasses (60)  (For Men & Women, Grey)',\n",
       " 'UV Protection Round Sunglasses (53)  (For Men & Women, Blue, Black, Silver, Red, Yellow)',\n",
       " 'UV Protection Sports Sunglasses (Free Size)  (For Men & Women, Multicolor)',\n",
       " 'UV Protection Aviator Sunglasses (Free Size)  (For Men & Women, Black, Blue, Brown)',\n",
       " 'Polarized, UV Protection Wayfarer, Rectangular Sunglasses (59)  (For Men & Women, Green)',\n",
       " 'UV Protection Retro Square Sunglasses (Free Size)  (For Men & Women, Blue, Grey)',\n",
       " 'Others Wayfarer Sunglasses (Free Size)  (For Men, Black)',\n",
       " 'UV Protection Wayfarer Sunglasses (Free Size)  (For Men, Green)',\n",
       " 'Mirrored, UV Protection Wayfarer Sunglasses (Free Size)  (For Men & Women, Blue, Green, Brown, Black, Clear)',\n",
       " 'UV Protection Aviator Sunglasses (54)  (For Men & Women, Black)',\n",
       " 'UV Protection Retro Square Sunglasses (Free Size)  (For Men & Women, Yellow, Red)',\n",
       " 'UV Protection Aviator Sunglasses (57)  (For Men & Women, Black, Blue)',\n",
       " 'UV Protection Wayfarer Sunglasses (55)  (For Men & Women, Green)',\n",
       " 'Mirrored, Riding Glasses, Others Sports Sunglasses (50)  (For Men & Women, Black, Blue, Silver)',\n",
       " 'UV Protection Wayfarer Sunglasses (Free Size)  (For Men & Women, Black)',\n",
       " 'UV Protection Retro Square Sunglasses (Free Size)  (For Men & Women, Blue)',\n",
       " 'by Lenskart UV Protection Wayfarer Sunglasses (49)  (For Men & Women, Green)',\n",
       " 'Mirrored, UV Protection, Gradient Round Sunglasses (55)  (For Men & Women, Blue, Silver)',\n",
       " 'UV Protection Aviator, Wayfarer Sunglasses (Free Size)  (For Men & Women, Black)',\n",
       " 'UV Protection Aviator Sunglasses (58)  (For Men & Women, Black, Grey, Violet)',\n",
       " 'UV Protection Retro Square Sunglasses (60)  (For Women, Black)',\n",
       " 'UV Protection Wayfarer Sunglasses (55)  (For Men & Women, Violet)',\n",
       " 'UV Protection Retro Square Sunglasses (Free Size)  (For Boys & Girls, Black, Red)',\n",
       " 'UV Protection, Others Aviator Sunglasses (32)  (For Men & Women, Red, Blue, Pink, Yellow)',\n",
       " 'by Lenskart Polarized, UV Protection Cat-eye Sunglasses (51)  (For Women, Brown)',\n",
       " 'UV Protection, Gradient Wayfarer Sunglasses (55)  (For Men & Women, Black, Brown)',\n",
       " 'UV Protection Round Sunglasses (Free Size)  (For Men, Black)',\n",
       " 'UV Protection Retro Square Sunglasses (Free Size)  (For Men & Women, Blue)',\n",
       " 'UV Protection Retro Square Sunglasses (Free Size)  (For Men & Women, Brown)',\n",
       " 'Gradient Rectangular Sunglasses (56)  (For Men, Grey)',\n",
       " 'UV Protection Wayfarer Sunglasses (Free Size)  (For Boys, Black)',\n",
       " 'Mirrored Wayfarer Sunglasses (56)  (For Men & Women, Blue)',\n",
       " 'UV Protection Wayfarer Sunglasses (Free Size)  (For Men & Women, Blue)',\n",
       " 'Polarized, UV Protection Retro Square Sunglasses (53)  (For Men & Women, Pink)',\n",
       " 'Gradient, UV Protection Aviator Sunglasses (56)  (For Men & Women, Blue)',\n",
       " 'Gradient Aviator Sunglasses (58)  (For Men & Women, Grey)',\n",
       " 'UV Protection Sports Sunglasses (73)  (For Men & Women, Blue, Violet)',\n",
       " 'UV Protection, Gradient Butterfly, Retro Square Sunglasses (58)  (For Women, Pink)',\n",
       " 'UV Protection Rectangular Sunglasses (Free Size)  (For Men, Grey)',\n",
       " 'UV Protection Round Sunglasses (Free Size)  (For Men & Women, Yellow, Blue, Red, Black, Green, Blue)',\n",
       " 'UV Protection Aviator Sunglasses (60)  (For Men & Women, Grey)',\n",
       " 'UV Protection Round Sunglasses (53)  (For Men & Women, Blue, Black, Silver, Red, Yellow)',\n",
       " 'UV Protection Sports Sunglasses (Free Size)  (For Men & Women, Multicolor)',\n",
       " 'UV Protection Aviator Sunglasses (Free Size)  (For Men & Women, Black, Blue, Brown)',\n",
       " 'Polarized, UV Protection Wayfarer, Rectangular Sunglasses (59)  (For Men & Women, Green)',\n",
       " 'UV Protection Aviator Sunglasses (54)  (For Men & Women, Green)',\n",
       " 'UV Protection Sports Sunglasses (Free Size)  (For Men & Women, Multicolor)',\n",
       " 'UV Protection, Night Vision, Riding Glasses Aviator Sunglasses (57)  (For Men & Women, Yellow, Clear)',\n",
       " 'UV Protection, Gradient, Night Vision Retro Square Sunglasses (Free Size)  (For Men & Women, Blue)',\n",
       " 'Mirrored Aviator Sunglasses (55)  (For Men, Black, Brown)',\n",
       " 'Mirrored Aviator Sunglasses (53)  (For Men & Women, Blue, Black, Brown)',\n",
       " 'Polarized, UV Protection, Riding Glasses Wayfarer Sunglasses (Free Size)  (For Men & Women, Black)',\n",
       " 'Polarized, UV Protection Aviator Sunglasses (55)  (For Men & Women, Grey)',\n",
       " 'Mirrored Retro Square Sunglasses (57)  (For Men & Women, Blue)',\n",
       " 'UV Protection, Riding Glasses Wayfarer Sunglasses (56)  (For Men & Women, Black, Clear)',\n",
       " 'UV Protection, Polarized Rectangular Sunglasses (Free Size)  (For Men & Women, Black)',\n",
       " 'UV Protection Shield Sunglasses (54)  (For Men & Women, Black)',\n",
       " 'UV Protection Round Sunglasses (Free Size)  (For Men, Black)',\n",
       " 'UV Protection Oval Sunglasses (56)  (For Men & Women, Green)',\n",
       " 'Gradient Round Sunglasses (53)  (For Men & Women, Brown)',\n",
       " 'Mirrored Wayfarer Sunglasses (55)  (For Men & Women, Blue)',\n",
       " 'Gradient, UV Protection Wayfarer Sunglasses (Free Size)  (For Men, Green)',\n",
       " 'Mirrored, UV Protection Wayfarer Sunglasses (Free Size)  (For Men & Women, Yellow, Blue, Green, Brown, Black)',\n",
       " 'UV Protection, Mirrored Retro Square Sunglasses (53)  (For Men & Women, Red, Black)',\n",
       " 'UV Protection, Gradient Wayfarer Sunglasses (57)  (For Women, Grey, Orange)']"
      ]
     },
     "execution_count": 670,
     "metadata": {},
     "output_type": "execute_result"
    }
   ],
   "source": [
    "product_disc"
   ]
  },
  {
   "cell_type": "code",
   "execution_count": 671,
   "id": "415d1fc8-a0a9-4c90-ab91-e60dda56b2ad",
   "metadata": {},
   "outputs": [
    {
     "data": {
      "text/plain": [
       "100"
      ]
     },
     "execution_count": 671,
     "metadata": {},
     "output_type": "execute_result"
    }
   ],
   "source": [
    "len(product_disc)"
   ]
  },
  {
   "cell_type": "markdown",
   "id": "a8efb04c-97c5-4f8a-98be-244caa33d5b5",
   "metadata": {},
   "source": [
    "## Now let's make our Data Frame\n"
   ]
  },
  {
   "cell_type": "code",
   "execution_count": 672,
   "id": "1a18d078-384c-4b6c-8aed-145a13f61625",
   "metadata": {},
   "outputs": [],
   "source": [
    "data_d = pd.DataFrame({})"
   ]
  },
  {
   "cell_type": "code",
   "execution_count": 673,
   "id": "1e70eafd-da10-48f5-b154-a4441c7bca56",
   "metadata": {},
   "outputs": [],
   "source": [
    "data_d['Brand_Name'] = brands_names\n",
    "data_d['Product_Price'] = product_prices \n",
    "data_d['Product_Discount'] = product_discount\n",
    "data_d['Product_Description'] = product_disc"
   ]
  },
  {
   "cell_type": "code",
   "execution_count": 674,
   "id": "d287dfe0-6cf2-4286-a3e9-bad7199c149e",
   "metadata": {},
   "outputs": [
    {
     "data": {
      "text/html": [
       "<div>\n",
       "<style scoped>\n",
       "    .dataframe tbody tr th:only-of-type {\n",
       "        vertical-align: middle;\n",
       "    }\n",
       "\n",
       "    .dataframe tbody tr th {\n",
       "        vertical-align: top;\n",
       "    }\n",
       "\n",
       "    .dataframe thead th {\n",
       "        text-align: right;\n",
       "    }\n",
       "</style>\n",
       "<table border=\"1\" class=\"dataframe\">\n",
       "  <thead>\n",
       "    <tr style=\"text-align: right;\">\n",
       "      <th></th>\n",
       "      <th>Brand_Name</th>\n",
       "      <th>Product_Price</th>\n",
       "      <th>Product_Discount</th>\n",
       "      <th>Product_Description</th>\n",
       "    </tr>\n",
       "  </thead>\n",
       "  <tbody>\n",
       "    <tr>\n",
       "      <th>0</th>\n",
       "      <td>style guru</td>\n",
       "      <td>₹349</td>\n",
       "      <td>86% off</td>\n",
       "      <td>UV Protection Retro Square Sunglasses (Free Si...</td>\n",
       "    </tr>\n",
       "    <tr>\n",
       "      <th>1</th>\n",
       "      <td>Villain</td>\n",
       "      <td>₹675</td>\n",
       "      <td>32% off</td>\n",
       "      <td>Others Wayfarer Sunglasses (Free Size)  (For M...</td>\n",
       "    </tr>\n",
       "    <tr>\n",
       "      <th>2</th>\n",
       "      <td>Fastrack</td>\n",
       "      <td>₹758</td>\n",
       "      <td>15% off</td>\n",
       "      <td>UV Protection Wayfarer Sunglasses (Free Size) ...</td>\n",
       "    </tr>\n",
       "    <tr>\n",
       "      <th>3</th>\n",
       "      <td>kingsunglasses</td>\n",
       "      <td>₹299</td>\n",
       "      <td>88% off</td>\n",
       "      <td>Mirrored, UV Protection Wayfarer Sunglasses (F...</td>\n",
       "    </tr>\n",
       "    <tr>\n",
       "      <th>4</th>\n",
       "      <td>PIRASO</td>\n",
       "      <td>₹237</td>\n",
       "      <td>85% off</td>\n",
       "      <td>UV Protection Aviator Sunglasses (54)  (For Me...</td>\n",
       "    </tr>\n",
       "    <tr>\n",
       "      <th>5</th>\n",
       "      <td>PHENOMENAL</td>\n",
       "      <td>₹399</td>\n",
       "      <td>80% off</td>\n",
       "      <td>UV Protection Retro Square Sunglasses (Free Si...</td>\n",
       "    </tr>\n",
       "    <tr>\n",
       "      <th>6</th>\n",
       "      <td>GANSTA</td>\n",
       "      <td>₹281</td>\n",
       "      <td>85% off</td>\n",
       "      <td>UV Protection Aviator Sunglasses (57)  (For Me...</td>\n",
       "    </tr>\n",
       "    <tr>\n",
       "      <th>7</th>\n",
       "      <td>Wrogn</td>\n",
       "      <td>₹826</td>\n",
       "      <td>72% off</td>\n",
       "      <td>UV Protection Wayfarer Sunglasses (55)  (For M...</td>\n",
       "    </tr>\n",
       "    <tr>\n",
       "      <th>8</th>\n",
       "      <td>Singco India</td>\n",
       "      <td>₹236</td>\n",
       "      <td>84% off</td>\n",
       "      <td>Mirrored, Riding Glasses, Others Sports Sungla...</td>\n",
       "    </tr>\n",
       "    <tr>\n",
       "      <th>9</th>\n",
       "      <td>Silver Kartz</td>\n",
       "      <td>₹259</td>\n",
       "      <td>82% off</td>\n",
       "      <td>UV Protection Wayfarer Sunglasses (Free Size) ...</td>\n",
       "    </tr>\n",
       "    <tr>\n",
       "      <th>10</th>\n",
       "      <td>ROZZETTA CRAFT</td>\n",
       "      <td>₹499</td>\n",
       "      <td>77% off</td>\n",
       "      <td>UV Protection Retro Square Sunglasses (Free Si...</td>\n",
       "    </tr>\n",
       "    <tr>\n",
       "      <th>11</th>\n",
       "      <td>VINCENT CHASE</td>\n",
       "      <td>₹1,179</td>\n",
       "      <td>41% off</td>\n",
       "      <td>by Lenskart UV Protection Wayfarer Sunglasses ...</td>\n",
       "    </tr>\n",
       "    <tr>\n",
       "      <th>12</th>\n",
       "      <td>hipe</td>\n",
       "      <td>₹197</td>\n",
       "      <td>86% off</td>\n",
       "      <td>Mirrored, UV Protection, Gradient Round Sungla...</td>\n",
       "    </tr>\n",
       "    <tr>\n",
       "      <th>13</th>\n",
       "      <td>DEIXELS</td>\n",
       "      <td>₹213</td>\n",
       "      <td>82% off</td>\n",
       "      <td>UV Protection Aviator, Wayfarer Sunglasses (Fr...</td>\n",
       "    </tr>\n",
       "    <tr>\n",
       "      <th>14</th>\n",
       "      <td>NuVew</td>\n",
       "      <td>₹215</td>\n",
       "      <td>72% off</td>\n",
       "      <td>UV Protection Aviator Sunglasses (58)  (For Me...</td>\n",
       "    </tr>\n",
       "    <tr>\n",
       "      <th>15</th>\n",
       "      <td>ROYAL SON</td>\n",
       "      <td>₹799</td>\n",
       "      <td>60% off</td>\n",
       "      <td>UV Protection Retro Square Sunglasses (60)  (F...</td>\n",
       "    </tr>\n",
       "    <tr>\n",
       "      <th>16</th>\n",
       "      <td>HIPPON</td>\n",
       "      <td>₹251</td>\n",
       "      <td>79% off</td>\n",
       "      <td>UV Protection Wayfarer Sunglasses (55)  (For M...</td>\n",
       "    </tr>\n",
       "    <tr>\n",
       "      <th>17</th>\n",
       "      <td>Flizz</td>\n",
       "      <td>₹399</td>\n",
       "      <td>81% off</td>\n",
       "      <td>UV Protection Retro Square Sunglasses (Free Si...</td>\n",
       "    </tr>\n",
       "    <tr>\n",
       "      <th>18</th>\n",
       "      <td>Singco</td>\n",
       "      <td>₹331</td>\n",
       "      <td>83% off</td>\n",
       "      <td>UV Protection, Others Aviator Sunglasses (32) ...</td>\n",
       "    </tr>\n",
       "    <tr>\n",
       "      <th>19</th>\n",
       "      <td>VINCENT CHASE</td>\n",
       "      <td>₹1,415</td>\n",
       "      <td>29% off</td>\n",
       "      <td>by Lenskart Polarized, UV Protection Cat-eye S...</td>\n",
       "    </tr>\n",
       "    <tr>\n",
       "      <th>20</th>\n",
       "      <td>ROYAL SON</td>\n",
       "      <td>₹217</td>\n",
       "      <td>78% off</td>\n",
       "      <td>UV Protection, Gradient Wayfarer Sunglasses (5...</td>\n",
       "    </tr>\n",
       "    <tr>\n",
       "      <th>21</th>\n",
       "      <td>elegante</td>\n",
       "      <td>₹199</td>\n",
       "      <td>80% off</td>\n",
       "      <td>UV Protection Round Sunglasses (Free Size)  (F...</td>\n",
       "    </tr>\n",
       "    <tr>\n",
       "      <th>22</th>\n",
       "      <td>Fravy</td>\n",
       "      <td>₹299</td>\n",
       "      <td>80% off</td>\n",
       "      <td>UV Protection Retro Square Sunglasses (Free Si...</td>\n",
       "    </tr>\n",
       "    <tr>\n",
       "      <th>23</th>\n",
       "      <td>ROZZETTA CRAFT</td>\n",
       "      <td>₹499</td>\n",
       "      <td>77% off</td>\n",
       "      <td>UV Protection Retro Square Sunglasses (Free Si...</td>\n",
       "    </tr>\n",
       "    <tr>\n",
       "      <th>24</th>\n",
       "      <td>IRUS by IDEE</td>\n",
       "      <td>₹606</td>\n",
       "      <td>52% off</td>\n",
       "      <td>Gradient Rectangular Sunglasses (56)  (For Men...</td>\n",
       "    </tr>\n",
       "    <tr>\n",
       "      <th>25</th>\n",
       "      <td>Poland</td>\n",
       "      <td>₹162</td>\n",
       "      <td>67% off</td>\n",
       "      <td>UV Protection Wayfarer Sunglasses (Free Size) ...</td>\n",
       "    </tr>\n",
       "    <tr>\n",
       "      <th>26</th>\n",
       "      <td>Wrogn</td>\n",
       "      <td>₹676</td>\n",
       "      <td>73% off</td>\n",
       "      <td>Mirrored Wayfarer Sunglasses (56)  (For Men &amp; ...</td>\n",
       "    </tr>\n",
       "    <tr>\n",
       "      <th>27</th>\n",
       "      <td>DEIXELS</td>\n",
       "      <td>₹349</td>\n",
       "      <td>56% off</td>\n",
       "      <td>UV Protection Wayfarer Sunglasses (Free Size) ...</td>\n",
       "    </tr>\n",
       "    <tr>\n",
       "      <th>28</th>\n",
       "      <td>Badfella</td>\n",
       "      <td>₹269</td>\n",
       "      <td>73% off</td>\n",
       "      <td>Polarized, UV Protection Retro Square Sunglass...</td>\n",
       "    </tr>\n",
       "    <tr>\n",
       "      <th>29</th>\n",
       "      <td>United Colors of Benetton</td>\n",
       "      <td>₹1,405</td>\n",
       "      <td>65% off</td>\n",
       "      <td>Gradient, UV Protection Aviator Sunglasses (56...</td>\n",
       "    </tr>\n",
       "    <tr>\n",
       "      <th>30</th>\n",
       "      <td>IDEE</td>\n",
       "      <td>₹1,318</td>\n",
       "      <td>43% off</td>\n",
       "      <td>Gradient Aviator Sunglasses (58)  (For Men &amp; W...</td>\n",
       "    </tr>\n",
       "    <tr>\n",
       "      <th>31</th>\n",
       "      <td>NuVew</td>\n",
       "      <td>₹348</td>\n",
       "      <td>72% off</td>\n",
       "      <td>UV Protection Sports Sunglasses (73)  (For Men...</td>\n",
       "    </tr>\n",
       "    <tr>\n",
       "      <th>32</th>\n",
       "      <td>AISLIN</td>\n",
       "      <td>₹545</td>\n",
       "      <td>64% off</td>\n",
       "      <td>UV Protection, Gradient Butterfly, Retro Squar...</td>\n",
       "    </tr>\n",
       "    <tr>\n",
       "      <th>33</th>\n",
       "      <td>Fastrack</td>\n",
       "      <td>₹513</td>\n",
       "      <td>35% off</td>\n",
       "      <td>UV Protection Rectangular Sunglasses (Free Siz...</td>\n",
       "    </tr>\n",
       "    <tr>\n",
       "      <th>34</th>\n",
       "      <td>kingsunglasses</td>\n",
       "      <td>₹349</td>\n",
       "      <td>78% off</td>\n",
       "      <td>UV Protection Round Sunglasses (Free Size)  (F...</td>\n",
       "    </tr>\n",
       "    <tr>\n",
       "      <th>35</th>\n",
       "      <td>Wrogn</td>\n",
       "      <td>₹1,007</td>\n",
       "      <td>69% off</td>\n",
       "      <td>UV Protection Aviator Sunglasses (60)  (For Me...</td>\n",
       "    </tr>\n",
       "    <tr>\n",
       "      <th>36</th>\n",
       "      <td>PHENOMENAL</td>\n",
       "      <td>₹309</td>\n",
       "      <td>86% off</td>\n",
       "      <td>UV Protection Round Sunglasses (53)  (For Men ...</td>\n",
       "    </tr>\n",
       "    <tr>\n",
       "      <th>37</th>\n",
       "      <td>hipe</td>\n",
       "      <td>₹299</td>\n",
       "      <td>84% off</td>\n",
       "      <td>UV Protection Sports Sunglasses (Free Size)  (...</td>\n",
       "    </tr>\n",
       "    <tr>\n",
       "      <th>38</th>\n",
       "      <td>Singco India</td>\n",
       "      <td>₹352</td>\n",
       "      <td>70% off</td>\n",
       "      <td>UV Protection Aviator Sunglasses (Free Size)  ...</td>\n",
       "    </tr>\n",
       "    <tr>\n",
       "      <th>39</th>\n",
       "      <td>AISLIN</td>\n",
       "      <td>₹1,085</td>\n",
       "      <td>72% off</td>\n",
       "      <td>Polarized, UV Protection Wayfarer, Rectangular...</td>\n",
       "    </tr>\n",
       "    <tr>\n",
       "      <th>40</th>\n",
       "      <td>style guru</td>\n",
       "      <td>₹349</td>\n",
       "      <td>86% off</td>\n",
       "      <td>UV Protection Retro Square Sunglasses (Free Si...</td>\n",
       "    </tr>\n",
       "    <tr>\n",
       "      <th>41</th>\n",
       "      <td>Villain</td>\n",
       "      <td>₹675</td>\n",
       "      <td>32% off</td>\n",
       "      <td>Others Wayfarer Sunglasses (Free Size)  (For M...</td>\n",
       "    </tr>\n",
       "    <tr>\n",
       "      <th>42</th>\n",
       "      <td>Fastrack</td>\n",
       "      <td>₹758</td>\n",
       "      <td>15% off</td>\n",
       "      <td>UV Protection Wayfarer Sunglasses (Free Size) ...</td>\n",
       "    </tr>\n",
       "    <tr>\n",
       "      <th>43</th>\n",
       "      <td>kingsunglasses</td>\n",
       "      <td>₹299</td>\n",
       "      <td>88% off</td>\n",
       "      <td>Mirrored, UV Protection Wayfarer Sunglasses (F...</td>\n",
       "    </tr>\n",
       "    <tr>\n",
       "      <th>44</th>\n",
       "      <td>PIRASO</td>\n",
       "      <td>₹237</td>\n",
       "      <td>85% off</td>\n",
       "      <td>UV Protection Aviator Sunglasses (54)  (For Me...</td>\n",
       "    </tr>\n",
       "    <tr>\n",
       "      <th>45</th>\n",
       "      <td>PHENOMENAL</td>\n",
       "      <td>₹399</td>\n",
       "      <td>80% off</td>\n",
       "      <td>UV Protection Retro Square Sunglasses (Free Si...</td>\n",
       "    </tr>\n",
       "    <tr>\n",
       "      <th>46</th>\n",
       "      <td>GANSTA</td>\n",
       "      <td>₹281</td>\n",
       "      <td>85% off</td>\n",
       "      <td>UV Protection Aviator Sunglasses (57)  (For Me...</td>\n",
       "    </tr>\n",
       "    <tr>\n",
       "      <th>47</th>\n",
       "      <td>Wrogn</td>\n",
       "      <td>₹826</td>\n",
       "      <td>72% off</td>\n",
       "      <td>UV Protection Wayfarer Sunglasses (55)  (For M...</td>\n",
       "    </tr>\n",
       "    <tr>\n",
       "      <th>48</th>\n",
       "      <td>Singco India</td>\n",
       "      <td>₹236</td>\n",
       "      <td>84% off</td>\n",
       "      <td>Mirrored, Riding Glasses, Others Sports Sungla...</td>\n",
       "    </tr>\n",
       "    <tr>\n",
       "      <th>49</th>\n",
       "      <td>Silver Kartz</td>\n",
       "      <td>₹259</td>\n",
       "      <td>82% off</td>\n",
       "      <td>UV Protection Wayfarer Sunglasses (Free Size) ...</td>\n",
       "    </tr>\n",
       "    <tr>\n",
       "      <th>50</th>\n",
       "      <td>ROZZETTA CRAFT</td>\n",
       "      <td>₹499</td>\n",
       "      <td>77% off</td>\n",
       "      <td>UV Protection Retro Square Sunglasses (Free Si...</td>\n",
       "    </tr>\n",
       "    <tr>\n",
       "      <th>51</th>\n",
       "      <td>VINCENT CHASE</td>\n",
       "      <td>₹1,179</td>\n",
       "      <td>41% off</td>\n",
       "      <td>by Lenskart UV Protection Wayfarer Sunglasses ...</td>\n",
       "    </tr>\n",
       "    <tr>\n",
       "      <th>52</th>\n",
       "      <td>hipe</td>\n",
       "      <td>₹197</td>\n",
       "      <td>86% off</td>\n",
       "      <td>Mirrored, UV Protection, Gradient Round Sungla...</td>\n",
       "    </tr>\n",
       "    <tr>\n",
       "      <th>53</th>\n",
       "      <td>DEIXELS</td>\n",
       "      <td>₹213</td>\n",
       "      <td>82% off</td>\n",
       "      <td>UV Protection Aviator, Wayfarer Sunglasses (Fr...</td>\n",
       "    </tr>\n",
       "    <tr>\n",
       "      <th>54</th>\n",
       "      <td>NuVew</td>\n",
       "      <td>₹215</td>\n",
       "      <td>72% off</td>\n",
       "      <td>UV Protection Aviator Sunglasses (58)  (For Me...</td>\n",
       "    </tr>\n",
       "    <tr>\n",
       "      <th>55</th>\n",
       "      <td>ROYAL SON</td>\n",
       "      <td>₹799</td>\n",
       "      <td>60% off</td>\n",
       "      <td>UV Protection Retro Square Sunglasses (60)  (F...</td>\n",
       "    </tr>\n",
       "    <tr>\n",
       "      <th>56</th>\n",
       "      <td>HIPPON</td>\n",
       "      <td>₹251</td>\n",
       "      <td>79% off</td>\n",
       "      <td>UV Protection Wayfarer Sunglasses (55)  (For M...</td>\n",
       "    </tr>\n",
       "    <tr>\n",
       "      <th>57</th>\n",
       "      <td>Flizz</td>\n",
       "      <td>₹399</td>\n",
       "      <td>81% off</td>\n",
       "      <td>UV Protection Retro Square Sunglasses (Free Si...</td>\n",
       "    </tr>\n",
       "    <tr>\n",
       "      <th>58</th>\n",
       "      <td>Singco</td>\n",
       "      <td>₹331</td>\n",
       "      <td>83% off</td>\n",
       "      <td>UV Protection, Others Aviator Sunglasses (32) ...</td>\n",
       "    </tr>\n",
       "    <tr>\n",
       "      <th>59</th>\n",
       "      <td>VINCENT CHASE</td>\n",
       "      <td>₹1,415</td>\n",
       "      <td>29% off</td>\n",
       "      <td>by Lenskart Polarized, UV Protection Cat-eye S...</td>\n",
       "    </tr>\n",
       "    <tr>\n",
       "      <th>60</th>\n",
       "      <td>ROYAL SON</td>\n",
       "      <td>₹217</td>\n",
       "      <td>78% off</td>\n",
       "      <td>UV Protection, Gradient Wayfarer Sunglasses (5...</td>\n",
       "    </tr>\n",
       "    <tr>\n",
       "      <th>61</th>\n",
       "      <td>elegante</td>\n",
       "      <td>₹199</td>\n",
       "      <td>80% off</td>\n",
       "      <td>UV Protection Round Sunglasses (Free Size)  (F...</td>\n",
       "    </tr>\n",
       "    <tr>\n",
       "      <th>62</th>\n",
       "      <td>Fravy</td>\n",
       "      <td>₹299</td>\n",
       "      <td>80% off</td>\n",
       "      <td>UV Protection Retro Square Sunglasses (Free Si...</td>\n",
       "    </tr>\n",
       "    <tr>\n",
       "      <th>63</th>\n",
       "      <td>ROZZETTA CRAFT</td>\n",
       "      <td>₹499</td>\n",
       "      <td>77% off</td>\n",
       "      <td>UV Protection Retro Square Sunglasses (Free Si...</td>\n",
       "    </tr>\n",
       "    <tr>\n",
       "      <th>64</th>\n",
       "      <td>IRUS by IDEE</td>\n",
       "      <td>₹606</td>\n",
       "      <td>52% off</td>\n",
       "      <td>Gradient Rectangular Sunglasses (56)  (For Men...</td>\n",
       "    </tr>\n",
       "    <tr>\n",
       "      <th>65</th>\n",
       "      <td>Poland</td>\n",
       "      <td>₹162</td>\n",
       "      <td>67% off</td>\n",
       "      <td>UV Protection Wayfarer Sunglasses (Free Size) ...</td>\n",
       "    </tr>\n",
       "    <tr>\n",
       "      <th>66</th>\n",
       "      <td>Wrogn</td>\n",
       "      <td>₹676</td>\n",
       "      <td>73% off</td>\n",
       "      <td>Mirrored Wayfarer Sunglasses (56)  (For Men &amp; ...</td>\n",
       "    </tr>\n",
       "    <tr>\n",
       "      <th>67</th>\n",
       "      <td>DEIXELS</td>\n",
       "      <td>₹349</td>\n",
       "      <td>56% off</td>\n",
       "      <td>UV Protection Wayfarer Sunglasses (Free Size) ...</td>\n",
       "    </tr>\n",
       "    <tr>\n",
       "      <th>68</th>\n",
       "      <td>Badfella</td>\n",
       "      <td>₹269</td>\n",
       "      <td>73% off</td>\n",
       "      <td>Polarized, UV Protection Retro Square Sunglass...</td>\n",
       "    </tr>\n",
       "    <tr>\n",
       "      <th>69</th>\n",
       "      <td>United Colors of Benetton</td>\n",
       "      <td>₹1,405</td>\n",
       "      <td>65% off</td>\n",
       "      <td>Gradient, UV Protection Aviator Sunglasses (56...</td>\n",
       "    </tr>\n",
       "    <tr>\n",
       "      <th>70</th>\n",
       "      <td>IDEE</td>\n",
       "      <td>₹1,318</td>\n",
       "      <td>43% off</td>\n",
       "      <td>Gradient Aviator Sunglasses (58)  (For Men &amp; W...</td>\n",
       "    </tr>\n",
       "    <tr>\n",
       "      <th>71</th>\n",
       "      <td>NuVew</td>\n",
       "      <td>₹348</td>\n",
       "      <td>72% off</td>\n",
       "      <td>UV Protection Sports Sunglasses (73)  (For Men...</td>\n",
       "    </tr>\n",
       "    <tr>\n",
       "      <th>72</th>\n",
       "      <td>AISLIN</td>\n",
       "      <td>₹545</td>\n",
       "      <td>64% off</td>\n",
       "      <td>UV Protection, Gradient Butterfly, Retro Squar...</td>\n",
       "    </tr>\n",
       "    <tr>\n",
       "      <th>73</th>\n",
       "      <td>Fastrack</td>\n",
       "      <td>₹513</td>\n",
       "      <td>35% off</td>\n",
       "      <td>UV Protection Rectangular Sunglasses (Free Siz...</td>\n",
       "    </tr>\n",
       "    <tr>\n",
       "      <th>74</th>\n",
       "      <td>kingsunglasses</td>\n",
       "      <td>₹349</td>\n",
       "      <td>78% off</td>\n",
       "      <td>UV Protection Round Sunglasses (Free Size)  (F...</td>\n",
       "    </tr>\n",
       "    <tr>\n",
       "      <th>75</th>\n",
       "      <td>Wrogn</td>\n",
       "      <td>₹1,007</td>\n",
       "      <td>69% off</td>\n",
       "      <td>UV Protection Aviator Sunglasses (60)  (For Me...</td>\n",
       "    </tr>\n",
       "    <tr>\n",
       "      <th>76</th>\n",
       "      <td>PHENOMENAL</td>\n",
       "      <td>₹309</td>\n",
       "      <td>86% off</td>\n",
       "      <td>UV Protection Round Sunglasses (53)  (For Men ...</td>\n",
       "    </tr>\n",
       "    <tr>\n",
       "      <th>77</th>\n",
       "      <td>hipe</td>\n",
       "      <td>₹299</td>\n",
       "      <td>84% off</td>\n",
       "      <td>UV Protection Sports Sunglasses (Free Size)  (...</td>\n",
       "    </tr>\n",
       "    <tr>\n",
       "      <th>78</th>\n",
       "      <td>Singco India</td>\n",
       "      <td>₹352</td>\n",
       "      <td>70% off</td>\n",
       "      <td>UV Protection Aviator Sunglasses (Free Size)  ...</td>\n",
       "    </tr>\n",
       "    <tr>\n",
       "      <th>79</th>\n",
       "      <td>AISLIN</td>\n",
       "      <td>₹1,085</td>\n",
       "      <td>72% off</td>\n",
       "      <td>Polarized, UV Protection Wayfarer, Rectangular...</td>\n",
       "    </tr>\n",
       "    <tr>\n",
       "      <th>80</th>\n",
       "      <td>PIRASO</td>\n",
       "      <td>₹237</td>\n",
       "      <td>85% off</td>\n",
       "      <td>UV Protection Aviator Sunglasses (54)  (For Me...</td>\n",
       "    </tr>\n",
       "    <tr>\n",
       "      <th>81</th>\n",
       "      <td>hipe</td>\n",
       "      <td>₹299</td>\n",
       "      <td>84% off</td>\n",
       "      <td>UV Protection Sports Sunglasses (Free Size)  (...</td>\n",
       "    </tr>\n",
       "    <tr>\n",
       "      <th>82</th>\n",
       "      <td>GANSTA</td>\n",
       "      <td>₹292</td>\n",
       "      <td>85% off</td>\n",
       "      <td>UV Protection, Night Vision, Riding Glasses Av...</td>\n",
       "    </tr>\n",
       "    <tr>\n",
       "      <th>83</th>\n",
       "      <td>Fravy</td>\n",
       "      <td>₹339</td>\n",
       "      <td>83% off</td>\n",
       "      <td>UV Protection, Gradient, Night Vision Retro Sq...</td>\n",
       "    </tr>\n",
       "    <tr>\n",
       "      <th>84</th>\n",
       "      <td>ROYAL SON</td>\n",
       "      <td>₹379</td>\n",
       "      <td>74% off</td>\n",
       "      <td>Mirrored Aviator Sunglasses (55)  (For Men, Bl...</td>\n",
       "    </tr>\n",
       "    <tr>\n",
       "      <th>85</th>\n",
       "      <td>Singco</td>\n",
       "      <td>₹252</td>\n",
       "      <td>74% off</td>\n",
       "      <td>Mirrored Aviator Sunglasses (53)  (For Men &amp; W...</td>\n",
       "    </tr>\n",
       "    <tr>\n",
       "      <th>86</th>\n",
       "      <td>DEIXELS</td>\n",
       "      <td>₹249</td>\n",
       "      <td>58% off</td>\n",
       "      <td>Polarized, UV Protection, Riding Glasses Wayfa...</td>\n",
       "    </tr>\n",
       "    <tr>\n",
       "      <th>87</th>\n",
       "      <td>Wrogn</td>\n",
       "      <td>₹1,175</td>\n",
       "      <td>63% off</td>\n",
       "      <td>Polarized, UV Protection Aviator Sunglasses (5...</td>\n",
       "    </tr>\n",
       "    <tr>\n",
       "      <th>88</th>\n",
       "      <td>Wrogn</td>\n",
       "      <td>₹711</td>\n",
       "      <td>72% off</td>\n",
       "      <td>Mirrored Retro Square Sunglasses (57)  (For Me...</td>\n",
       "    </tr>\n",
       "    <tr>\n",
       "      <th>89</th>\n",
       "      <td>NuVew</td>\n",
       "      <td>₹235</td>\n",
       "      <td>75% off</td>\n",
       "      <td>UV Protection, Riding Glasses Wayfarer Sunglas...</td>\n",
       "    </tr>\n",
       "    <tr>\n",
       "      <th>90</th>\n",
       "      <td>Flizz</td>\n",
       "      <td>₹279</td>\n",
       "      <td>81% off</td>\n",
       "      <td>UV Protection, Polarized Rectangular Sunglasse...</td>\n",
       "    </tr>\n",
       "    <tr>\n",
       "      <th>91</th>\n",
       "      <td>ROZZETTA CRAFT</td>\n",
       "      <td>₹499</td>\n",
       "      <td>80% off</td>\n",
       "      <td>UV Protection Shield Sunglasses (54)  (For Men...</td>\n",
       "    </tr>\n",
       "    <tr>\n",
       "      <th>92</th>\n",
       "      <td>elegante</td>\n",
       "      <td>₹199</td>\n",
       "      <td>80% off</td>\n",
       "      <td>UV Protection Round Sunglasses (Free Size)  (F...</td>\n",
       "    </tr>\n",
       "    <tr>\n",
       "      <th>93</th>\n",
       "      <td>Silver Kartz</td>\n",
       "      <td>₹299</td>\n",
       "      <td>75% off</td>\n",
       "      <td>UV Protection Oval Sunglasses (56)  (For Men &amp;...</td>\n",
       "    </tr>\n",
       "    <tr>\n",
       "      <th>94</th>\n",
       "      <td>United Colors of Benetton</td>\n",
       "      <td>₹1,162</td>\n",
       "      <td>70% off</td>\n",
       "      <td>Gradient Round Sunglasses (53)  (For Men &amp; Wom...</td>\n",
       "    </tr>\n",
       "    <tr>\n",
       "      <th>95</th>\n",
       "      <td>Wrogn</td>\n",
       "      <td>₹1,165</td>\n",
       "      <td>61% off</td>\n",
       "      <td>Mirrored Wayfarer Sunglasses (55)  (For Men &amp; ...</td>\n",
       "    </tr>\n",
       "    <tr>\n",
       "      <th>96</th>\n",
       "      <td>Fastrack</td>\n",
       "      <td>₹509</td>\n",
       "      <td>36% off</td>\n",
       "      <td>Gradient, UV Protection Wayfarer Sunglasses (F...</td>\n",
       "    </tr>\n",
       "    <tr>\n",
       "      <th>97</th>\n",
       "      <td>kingsunglasses</td>\n",
       "      <td>₹299</td>\n",
       "      <td>88% off</td>\n",
       "      <td>Mirrored, UV Protection Wayfarer Sunglasses (F...</td>\n",
       "    </tr>\n",
       "    <tr>\n",
       "      <th>98</th>\n",
       "      <td>PHENOMENAL</td>\n",
       "      <td>₹399</td>\n",
       "      <td>80% off</td>\n",
       "      <td>UV Protection, Mirrored Retro Square Sunglasse...</td>\n",
       "    </tr>\n",
       "    <tr>\n",
       "      <th>99</th>\n",
       "      <td>AISLIN</td>\n",
       "      <td>₹625</td>\n",
       "      <td>70% off</td>\n",
       "      <td>UV Protection, Gradient Wayfarer Sunglasses (5...</td>\n",
       "    </tr>\n",
       "  </tbody>\n",
       "</table>\n",
       "</div>"
      ],
      "text/plain": [
       "                    Brand_Name Product_Price Product_Discount  \\\n",
       "0                  style guru           ₹349          86% off   \n",
       "1                     Villain           ₹675          32% off   \n",
       "2                    Fastrack           ₹758          15% off   \n",
       "3              kingsunglasses           ₹299          88% off   \n",
       "4                      PIRASO           ₹237          85% off   \n",
       "5                  PHENOMENAL           ₹399          80% off   \n",
       "6                      GANSTA           ₹281          85% off   \n",
       "7                       Wrogn           ₹826          72% off   \n",
       "8                Singco India           ₹236          84% off   \n",
       "9                Silver Kartz           ₹259          82% off   \n",
       "10             ROZZETTA CRAFT           ₹499          77% off   \n",
       "11              VINCENT CHASE         ₹1,179          41% off   \n",
       "12                       hipe           ₹197          86% off   \n",
       "13                    DEIXELS           ₹213          82% off   \n",
       "14                      NuVew           ₹215          72% off   \n",
       "15                  ROYAL SON           ₹799          60% off   \n",
       "16                     HIPPON           ₹251          79% off   \n",
       "17                      Flizz           ₹399          81% off   \n",
       "18                     Singco           ₹331          83% off   \n",
       "19              VINCENT CHASE         ₹1,415          29% off   \n",
       "20                  ROYAL SON           ₹217          78% off   \n",
       "21                   elegante           ₹199          80% off   \n",
       "22                      Fravy           ₹299          80% off   \n",
       "23             ROZZETTA CRAFT           ₹499          77% off   \n",
       "24               IRUS by IDEE           ₹606          52% off   \n",
       "25                     Poland           ₹162          67% off   \n",
       "26                      Wrogn           ₹676          73% off   \n",
       "27                    DEIXELS           ₹349          56% off   \n",
       "28                   Badfella           ₹269          73% off   \n",
       "29  United Colors of Benetton         ₹1,405          65% off   \n",
       "30                       IDEE         ₹1,318          43% off   \n",
       "31                      NuVew           ₹348          72% off   \n",
       "32                     AISLIN           ₹545          64% off   \n",
       "33                   Fastrack           ₹513          35% off   \n",
       "34             kingsunglasses           ₹349          78% off   \n",
       "35                      Wrogn         ₹1,007          69% off   \n",
       "36                 PHENOMENAL           ₹309          86% off   \n",
       "37                       hipe           ₹299          84% off   \n",
       "38               Singco India           ₹352          70% off   \n",
       "39                     AISLIN         ₹1,085          72% off   \n",
       "40                 style guru           ₹349          86% off   \n",
       "41                    Villain           ₹675          32% off   \n",
       "42                   Fastrack           ₹758          15% off   \n",
       "43             kingsunglasses           ₹299          88% off   \n",
       "44                     PIRASO           ₹237          85% off   \n",
       "45                 PHENOMENAL           ₹399          80% off   \n",
       "46                     GANSTA           ₹281          85% off   \n",
       "47                      Wrogn           ₹826          72% off   \n",
       "48               Singco India           ₹236          84% off   \n",
       "49               Silver Kartz           ₹259          82% off   \n",
       "50             ROZZETTA CRAFT           ₹499          77% off   \n",
       "51              VINCENT CHASE         ₹1,179          41% off   \n",
       "52                       hipe           ₹197          86% off   \n",
       "53                    DEIXELS           ₹213          82% off   \n",
       "54                      NuVew           ₹215          72% off   \n",
       "55                  ROYAL SON           ₹799          60% off   \n",
       "56                     HIPPON           ₹251          79% off   \n",
       "57                      Flizz           ₹399          81% off   \n",
       "58                     Singco           ₹331          83% off   \n",
       "59              VINCENT CHASE         ₹1,415          29% off   \n",
       "60                  ROYAL SON           ₹217          78% off   \n",
       "61                   elegante           ₹199          80% off   \n",
       "62                      Fravy           ₹299          80% off   \n",
       "63             ROZZETTA CRAFT           ₹499          77% off   \n",
       "64               IRUS by IDEE           ₹606          52% off   \n",
       "65                     Poland           ₹162          67% off   \n",
       "66                      Wrogn           ₹676          73% off   \n",
       "67                    DEIXELS           ₹349          56% off   \n",
       "68                   Badfella           ₹269          73% off   \n",
       "69  United Colors of Benetton         ₹1,405          65% off   \n",
       "70                       IDEE         ₹1,318          43% off   \n",
       "71                      NuVew           ₹348          72% off   \n",
       "72                     AISLIN           ₹545          64% off   \n",
       "73                   Fastrack           ₹513          35% off   \n",
       "74             kingsunglasses           ₹349          78% off   \n",
       "75                      Wrogn         ₹1,007          69% off   \n",
       "76                 PHENOMENAL           ₹309          86% off   \n",
       "77                       hipe           ₹299          84% off   \n",
       "78               Singco India           ₹352          70% off   \n",
       "79                     AISLIN         ₹1,085          72% off   \n",
       "80                     PIRASO           ₹237          85% off   \n",
       "81                       hipe           ₹299          84% off   \n",
       "82                     GANSTA           ₹292          85% off   \n",
       "83                      Fravy           ₹339          83% off   \n",
       "84                  ROYAL SON           ₹379          74% off   \n",
       "85                     Singco           ₹252          74% off   \n",
       "86                    DEIXELS           ₹249          58% off   \n",
       "87                      Wrogn         ₹1,175          63% off   \n",
       "88                      Wrogn           ₹711          72% off   \n",
       "89                      NuVew           ₹235          75% off   \n",
       "90                      Flizz           ₹279          81% off   \n",
       "91             ROZZETTA CRAFT           ₹499          80% off   \n",
       "92                   elegante           ₹199          80% off   \n",
       "93               Silver Kartz           ₹299          75% off   \n",
       "94  United Colors of Benetton         ₹1,162          70% off   \n",
       "95                      Wrogn         ₹1,165          61% off   \n",
       "96                   Fastrack           ₹509          36% off   \n",
       "97             kingsunglasses           ₹299          88% off   \n",
       "98                 PHENOMENAL           ₹399          80% off   \n",
       "99                     AISLIN           ₹625          70% off   \n",
       "\n",
       "                                  Product_Description  \n",
       "0   UV Protection Retro Square Sunglasses (Free Si...  \n",
       "1   Others Wayfarer Sunglasses (Free Size)  (For M...  \n",
       "2   UV Protection Wayfarer Sunglasses (Free Size) ...  \n",
       "3   Mirrored, UV Protection Wayfarer Sunglasses (F...  \n",
       "4   UV Protection Aviator Sunglasses (54)  (For Me...  \n",
       "5   UV Protection Retro Square Sunglasses (Free Si...  \n",
       "6   UV Protection Aviator Sunglasses (57)  (For Me...  \n",
       "7   UV Protection Wayfarer Sunglasses (55)  (For M...  \n",
       "8   Mirrored, Riding Glasses, Others Sports Sungla...  \n",
       "9   UV Protection Wayfarer Sunglasses (Free Size) ...  \n",
       "10  UV Protection Retro Square Sunglasses (Free Si...  \n",
       "11  by Lenskart UV Protection Wayfarer Sunglasses ...  \n",
       "12  Mirrored, UV Protection, Gradient Round Sungla...  \n",
       "13  UV Protection Aviator, Wayfarer Sunglasses (Fr...  \n",
       "14  UV Protection Aviator Sunglasses (58)  (For Me...  \n",
       "15  UV Protection Retro Square Sunglasses (60)  (F...  \n",
       "16  UV Protection Wayfarer Sunglasses (55)  (For M...  \n",
       "17  UV Protection Retro Square Sunglasses (Free Si...  \n",
       "18  UV Protection, Others Aviator Sunglasses (32) ...  \n",
       "19  by Lenskart Polarized, UV Protection Cat-eye S...  \n",
       "20  UV Protection, Gradient Wayfarer Sunglasses (5...  \n",
       "21  UV Protection Round Sunglasses (Free Size)  (F...  \n",
       "22  UV Protection Retro Square Sunglasses (Free Si...  \n",
       "23  UV Protection Retro Square Sunglasses (Free Si...  \n",
       "24  Gradient Rectangular Sunglasses (56)  (For Men...  \n",
       "25  UV Protection Wayfarer Sunglasses (Free Size) ...  \n",
       "26  Mirrored Wayfarer Sunglasses (56)  (For Men & ...  \n",
       "27  UV Protection Wayfarer Sunglasses (Free Size) ...  \n",
       "28  Polarized, UV Protection Retro Square Sunglass...  \n",
       "29  Gradient, UV Protection Aviator Sunglasses (56...  \n",
       "30  Gradient Aviator Sunglasses (58)  (For Men & W...  \n",
       "31  UV Protection Sports Sunglasses (73)  (For Men...  \n",
       "32  UV Protection, Gradient Butterfly, Retro Squar...  \n",
       "33  UV Protection Rectangular Sunglasses (Free Siz...  \n",
       "34  UV Protection Round Sunglasses (Free Size)  (F...  \n",
       "35  UV Protection Aviator Sunglasses (60)  (For Me...  \n",
       "36  UV Protection Round Sunglasses (53)  (For Men ...  \n",
       "37  UV Protection Sports Sunglasses (Free Size)  (...  \n",
       "38  UV Protection Aviator Sunglasses (Free Size)  ...  \n",
       "39  Polarized, UV Protection Wayfarer, Rectangular...  \n",
       "40  UV Protection Retro Square Sunglasses (Free Si...  \n",
       "41  Others Wayfarer Sunglasses (Free Size)  (For M...  \n",
       "42  UV Protection Wayfarer Sunglasses (Free Size) ...  \n",
       "43  Mirrored, UV Protection Wayfarer Sunglasses (F...  \n",
       "44  UV Protection Aviator Sunglasses (54)  (For Me...  \n",
       "45  UV Protection Retro Square Sunglasses (Free Si...  \n",
       "46  UV Protection Aviator Sunglasses (57)  (For Me...  \n",
       "47  UV Protection Wayfarer Sunglasses (55)  (For M...  \n",
       "48  Mirrored, Riding Glasses, Others Sports Sungla...  \n",
       "49  UV Protection Wayfarer Sunglasses (Free Size) ...  \n",
       "50  UV Protection Retro Square Sunglasses (Free Si...  \n",
       "51  by Lenskart UV Protection Wayfarer Sunglasses ...  \n",
       "52  Mirrored, UV Protection, Gradient Round Sungla...  \n",
       "53  UV Protection Aviator, Wayfarer Sunglasses (Fr...  \n",
       "54  UV Protection Aviator Sunglasses (58)  (For Me...  \n",
       "55  UV Protection Retro Square Sunglasses (60)  (F...  \n",
       "56  UV Protection Wayfarer Sunglasses (55)  (For M...  \n",
       "57  UV Protection Retro Square Sunglasses (Free Si...  \n",
       "58  UV Protection, Others Aviator Sunglasses (32) ...  \n",
       "59  by Lenskart Polarized, UV Protection Cat-eye S...  \n",
       "60  UV Protection, Gradient Wayfarer Sunglasses (5...  \n",
       "61  UV Protection Round Sunglasses (Free Size)  (F...  \n",
       "62  UV Protection Retro Square Sunglasses (Free Si...  \n",
       "63  UV Protection Retro Square Sunglasses (Free Si...  \n",
       "64  Gradient Rectangular Sunglasses (56)  (For Men...  \n",
       "65  UV Protection Wayfarer Sunglasses (Free Size) ...  \n",
       "66  Mirrored Wayfarer Sunglasses (56)  (For Men & ...  \n",
       "67  UV Protection Wayfarer Sunglasses (Free Size) ...  \n",
       "68  Polarized, UV Protection Retro Square Sunglass...  \n",
       "69  Gradient, UV Protection Aviator Sunglasses (56...  \n",
       "70  Gradient Aviator Sunglasses (58)  (For Men & W...  \n",
       "71  UV Protection Sports Sunglasses (73)  (For Men...  \n",
       "72  UV Protection, Gradient Butterfly, Retro Squar...  \n",
       "73  UV Protection Rectangular Sunglasses (Free Siz...  \n",
       "74  UV Protection Round Sunglasses (Free Size)  (F...  \n",
       "75  UV Protection Aviator Sunglasses (60)  (For Me...  \n",
       "76  UV Protection Round Sunglasses (53)  (For Men ...  \n",
       "77  UV Protection Sports Sunglasses (Free Size)  (...  \n",
       "78  UV Protection Aviator Sunglasses (Free Size)  ...  \n",
       "79  Polarized, UV Protection Wayfarer, Rectangular...  \n",
       "80  UV Protection Aviator Sunglasses (54)  (For Me...  \n",
       "81  UV Protection Sports Sunglasses (Free Size)  (...  \n",
       "82  UV Protection, Night Vision, Riding Glasses Av...  \n",
       "83  UV Protection, Gradient, Night Vision Retro Sq...  \n",
       "84  Mirrored Aviator Sunglasses (55)  (For Men, Bl...  \n",
       "85  Mirrored Aviator Sunglasses (53)  (For Men & W...  \n",
       "86  Polarized, UV Protection, Riding Glasses Wayfa...  \n",
       "87  Polarized, UV Protection Aviator Sunglasses (5...  \n",
       "88  Mirrored Retro Square Sunglasses (57)  (For Me...  \n",
       "89  UV Protection, Riding Glasses Wayfarer Sunglas...  \n",
       "90  UV Protection, Polarized Rectangular Sunglasse...  \n",
       "91  UV Protection Shield Sunglasses (54)  (For Men...  \n",
       "92  UV Protection Round Sunglasses (Free Size)  (F...  \n",
       "93  UV Protection Oval Sunglasses (56)  (For Men &...  \n",
       "94  Gradient Round Sunglasses (53)  (For Men & Wom...  \n",
       "95  Mirrored Wayfarer Sunglasses (55)  (For Men & ...  \n",
       "96  Gradient, UV Protection Wayfarer Sunglasses (F...  \n",
       "97  Mirrored, UV Protection Wayfarer Sunglasses (F...  \n",
       "98  UV Protection, Mirrored Retro Square Sunglasse...  \n",
       "99  UV Protection, Gradient Wayfarer Sunglasses (5...  "
      ]
     },
     "execution_count": 674,
     "metadata": {},
     "output_type": "execute_result"
    }
   ],
   "source": [
    "data_d"
   ]
  },
  {
   "cell_type": "markdown",
   "id": "0a471b70-6c8f-479a-9f97-8df76fd44387",
   "metadata": {},
   "source": [
    "### ********** ********** ********** **********"
   ]
  },
  {
   "cell_type": "markdown",
   "id": "01afad6b-0a97-4933-b765-3e1368efd601",
   "metadata": {},
   "source": [
    "### __Q7: Scrape 100 reviews data from flipkart.com for iphone11 phone. You have to go the link:__\n",
    "\n",
    "### https://www.flipkart.com/apple-iphone-11-black-64-gb-includes- earpods-power- adapter/p/itm0f37c2240b217?pid=MOBFKCTSVZAXUHGR&lid=LSTMOBFKC TSVZAXUHGREPBFGI&marketplace.\n"
   ]
  },
  {
   "cell_type": "markdown",
   "id": "4f502769-8db7-4f2a-9948-309169d6f361",
   "metadata": {},
   "source": [
    "#### When you will open the above link you will reach to the below shown webpage.\n",
    "#### As shown in the above page you have to scrape the tick marked attributes. These are\n",
    "#### 1. Rating\n",
    "#### 2. Review_summary\n",
    "#### 3. Full review\n",
    "#### You have to scrape this data for first 100 reviews."
   ]
  },
  {
   "cell_type": "markdown",
   "id": "3508c2b1-9d54-46b4-968e-59d37f8a845f",
   "metadata": {},
   "source": [
    "![](7.jpg)"
   ]
  },
  {
   "cell_type": "code",
   "execution_count": 608,
   "id": "b6e25465-dc40-4f9c-82ad-c9dda5adbbd2",
   "metadata": {},
   "outputs": [],
   "source": [
    "## getting the url\n",
    "url_11 ='https://www.flipkart.com/apple-iphone-11-black-64-gb-includes- earpods-power- adapter/p/itm0f37c2240b217?pid=MOBFKCTSVZAXUHGR&lid=LSTMOBFKC TSVZAXUHGREPBFGI&marketplace'\n"
   ]
  },
  {
   "cell_type": "code",
   "execution_count": 609,
   "id": "7fc351bd-8279-41d2-b951-2bf0cc4b2855",
   "metadata": {},
   "outputs": [],
   "source": [
    "driver.get(url=url_11)"
   ]
  },
  {
   "cell_type": "code",
   "execution_count": 749,
   "id": "fdc4867f-a298-4b3f-842b-3555a0e31280",
   "metadata": {},
   "outputs": [],
   "source": [
    "## first let's get 100 phone urls\n",
    "\n",
    "phones_urls = []\n",
    "for i in range(1,101):\n",
    "    phone_link = driver.find_elements_by_xpath('//a[@class=\"ge-49M _2Kfbh8\"]')\n",
    "    for oli in phone_link:\n",
    "        phones_urls.append(oli.get_attribute('href'))\n",
    "    next_button = driver.find_element_by_xpath('//a[@class=\"_1LKTO3\"]')\n",
    "    next_button.click()\n",
    "    time.sleep(2)\n",
    "    "
   ]
  },
  {
   "cell_type": "code",
   "execution_count": 752,
   "id": "21d8b5b8-6c16-4d01-a0ba-1db5817ef3a7",
   "metadata": {},
   "outputs": [],
   "source": [
    "#phones_urls"
   ]
  },
  {
   "cell_type": "code",
   "execution_count": 747,
   "id": "c080864b-2e90-4069-b9b6-02ed434206d5",
   "metadata": {},
   "outputs": [
    {
     "data": {
      "text/plain": [
       "['2', '1']"
      ]
     },
     "execution_count": 747,
     "metadata": {},
     "output_type": "execute_result"
    }
   ],
   "source": []
  },
  {
   "cell_type": "code",
   "execution_count": null,
   "id": "d7bc0a9e-c967-4b85-a3fe-ef47d4734501",
   "metadata": {},
   "outputs": [],
   "source": []
  },
  {
   "cell_type": "code",
   "execution_count": null,
   "id": "9243e422-4145-453a-92fd-8b16cb516941",
   "metadata": {},
   "outputs": [],
   "source": []
  },
  {
   "cell_type": "code",
   "execution_count": 626,
   "id": "31512842-7248-4a30-b0cb-b44aa04c2ced",
   "metadata": {},
   "outputs": [],
   "source": [
    "# let's find the rating\n",
    "\n",
    "frist_100_rating=[]\n",
    "\n",
    "for oli in phones_urls:\n",
    "    driver.get(oli)\n",
    "    rates = driver.find_elements_by_xpath('//div[@class=\"_3LWZlK _1BLPMq\"]')\n",
    "    for x in rates:\n",
    "        frist_100_rating.append(x.text)\n",
    "    time.sleep(2)   \n"
   ]
  },
  {
   "cell_type": "code",
   "execution_count": 631,
   "id": "86c6d995-72b6-490b-9176-d724611fb138",
   "metadata": {},
   "outputs": [],
   "source": [
    "#frist_100_rating"
   ]
  },
  {
   "cell_type": "code",
   "execution_count": 629,
   "id": "114c7b24-a9d5-462b-bf51-1b165522dda7",
   "metadata": {},
   "outputs": [
    {
     "data": {
      "text/plain": [
       "['5',\n",
       " '5',\n",
       " '5',\n",
       " '5',\n",
       " '5',\n",
       " '5',\n",
       " '4',\n",
       " '5',\n",
       " '5',\n",
       " '5',\n",
       " '5',\n",
       " '5',\n",
       " '5',\n",
       " '5',\n",
       " '5',\n",
       " '5',\n",
       " '5',\n",
       " '5',\n",
       " '5',\n",
       " '5',\n",
       " '5',\n",
       " '5',\n",
       " '5',\n",
       " '5',\n",
       " '5',\n",
       " '5',\n",
       " '5',\n",
       " '5',\n",
       " '5',\n",
       " '5',\n",
       " '5',\n",
       " '5',\n",
       " '5',\n",
       " '5',\n",
       " '5',\n",
       " '4',\n",
       " '4',\n",
       " '4',\n",
       " '5',\n",
       " '4',\n",
       " '5',\n",
       " '5',\n",
       " '5',\n",
       " '5',\n",
       " '5',\n",
       " '3',\n",
       " '4',\n",
       " '3',\n",
       " '5',\n",
       " '5',\n",
       " '5',\n",
       " '5',\n",
       " '5',\n",
       " '5',\n",
       " '4',\n",
       " '5',\n",
       " '5',\n",
       " '5',\n",
       " '5',\n",
       " '5',\n",
       " '5',\n",
       " '4',\n",
       " '5',\n",
       " '5',\n",
       " '4',\n",
       " '5',\n",
       " '4',\n",
       " '5',\n",
       " '5',\n",
       " '5',\n",
       " '5',\n",
       " '5',\n",
       " '5',\n",
       " '5',\n",
       " '5',\n",
       " '5',\n",
       " '5',\n",
       " '5',\n",
       " '5',\n",
       " '5',\n",
       " '5',\n",
       " '5',\n",
       " '4',\n",
       " '5',\n",
       " '5',\n",
       " '5',\n",
       " '5',\n",
       " '5',\n",
       " '5',\n",
       " '5',\n",
       " '4',\n",
       " '5',\n",
       " '5',\n",
       " '5',\n",
       " '5',\n",
       " '5',\n",
       " '5',\n",
       " '5',\n",
       " '5',\n",
       " '4']"
      ]
     },
     "execution_count": 629,
     "metadata": {},
     "output_type": "execute_result"
    }
   ],
   "source": [
    "## let's take the first 100\n",
    "rating_e = frist_100_rating[0:100]\n",
    "rating_e"
   ]
  },
  {
   "cell_type": "code",
   "execution_count": 630,
   "id": "3fff757b-621b-4477-ab47-8df09b4ddb59",
   "metadata": {},
   "outputs": [
    {
     "data": {
      "text/plain": [
       "100"
      ]
     },
     "execution_count": 630,
     "metadata": {},
     "output_type": "execute_result"
    }
   ],
   "source": [
    "len(rating_e)"
   ]
  },
  {
   "cell_type": "code",
   "execution_count": 633,
   "id": "26225c8c-d4e6-4793-aaa6-deec8f059817",
   "metadata": {},
   "outputs": [],
   "source": [
    "# let's find the Review_summary\n",
    "Review_summary=[]\n",
    "\n",
    "for oli in phones_urls:\n",
    "    driver.get(oli)\n",
    "    Review_sum = driver.find_elements_by_xpath('//p[@class=\"_2-N8zT\"]')\n",
    "    for x in Review_sum:\n",
    "        Review_summary.append(x.text)\n",
    "    time.sleep(2)"
   ]
  },
  {
   "cell_type": "code",
   "execution_count": 637,
   "id": "feafe4e9-4026-41d3-a87d-c1b0b4bcab2c",
   "metadata": {},
   "outputs": [],
   "source": [
    "#Review_summary"
   ]
  },
  {
   "cell_type": "code",
   "execution_count": 635,
   "id": "223745a5-ee64-4d62-8efe-eeedc83c736a",
   "metadata": {},
   "outputs": [
    {
     "data": {
      "text/plain": [
       "130"
      ]
     },
     "execution_count": 635,
     "metadata": {},
     "output_type": "execute_result"
    }
   ],
   "source": [
    "len(Review_summary)"
   ]
  },
  {
   "cell_type": "code",
   "execution_count": 636,
   "id": "8a227224-6108-4694-9bbb-53a2dda48fa8",
   "metadata": {},
   "outputs": [
    {
     "data": {
      "text/plain": [
       "['Mind-blowing purchase',\n",
       " 'Terrific',\n",
       " 'Excellent',\n",
       " 'Terrific purchase',\n",
       " 'Worth every penny',\n",
       " 'Fabulous!',\n",
       " 'Value-for-money',\n",
       " 'Must buy!',\n",
       " 'Wonderful',\n",
       " 'Worth every penny',\n",
       " 'Highly recommended',\n",
       " 'Worth every penny',\n",
       " 'Very poor',\n",
       " 'Excellent',\n",
       " 'Mind-blowing purchase',\n",
       " 'Mind-blowing purchase',\n",
       " 'Classy product',\n",
       " 'Brilliant',\n",
       " 'Most Price worthy Iphone',\n",
       " 'Great product',\n",
       " 'Highly recommended',\n",
       " 'Worth every penny',\n",
       " 'Very poor',\n",
       " 'Excellent',\n",
       " 'Mind-blowing purchase',\n",
       " 'Mind-blowing purchase',\n",
       " 'Classy product',\n",
       " 'Brilliant',\n",
       " 'Most Price worthy Iphone',\n",
       " 'Great product',\n",
       " 'Wonderful',\n",
       " 'Classy product',\n",
       " 'Super!',\n",
       " 'Fabulous!',\n",
       " 'Excellent',\n",
       " 'Best in the market!',\n",
       " 'Brilliant',\n",
       " 'Wonderful',\n",
       " 'Nice product',\n",
       " 'Good quality product',\n",
       " 'Mind-blowing purchase',\n",
       " 'Good quality product',\n",
       " 'Fabulous!',\n",
       " 'Super!',\n",
       " 'Awesome',\n",
       " 'Terrific purchase',\n",
       " 'Awesome',\n",
       " 'Decent product',\n",
       " 'Pretty good',\n",
       " 'Does the job',\n",
       " 'Just wow!',\n",
       " 'Super!',\n",
       " 'Best in the market!',\n",
       " 'Mind-blowing purchase',\n",
       " 'Excellent',\n",
       " 'Excellent',\n",
       " 'Pretty good',\n",
       " 'Must buy!',\n",
       " 'Worth every penny',\n",
       " 'Awesome',\n",
       " 'Not recommended at all',\n",
       " 'Fabulous!',\n",
       " 'Excellent',\n",
       " 'Must buy!',\n",
       " 'Value-for-money',\n",
       " 'Brilliant',\n",
       " 'Terrific purchase',\n",
       " 'Good quality product',\n",
       " 'Perfect product!',\n",
       " 'Value-for-money',\n",
       " 'Awesome',\n",
       " 'Terrific',\n",
       " 'Terrific purchase',\n",
       " 'Awesome',\n",
       " 'Perfect product!',\n",
       " 'Brilliant',\n",
       " 'Perfect product!',\n",
       " 'Awesome',\n",
       " 'Perfect product!',\n",
       " 'Excellent',\n",
       " 'Mind-blowing purchase',\n",
       " 'Wonderful',\n",
       " 'Worth every penny',\n",
       " 'Great product',\n",
       " 'Just wow!',\n",
       " 'Very Good',\n",
       " 'Perfect product!',\n",
       " 'Classy product',\n",
       " 'Perfect product!',\n",
       " 'Just wow!',\n",
       " 'Mind-blowing purchase',\n",
       " 'Terrific purchase',\n",
       " 'Simply awesome',\n",
       " 'Good quality product',\n",
       " 'Very poor',\n",
       " 'Best in the market!',\n",
       " 'Perfect product!',\n",
       " 'Must buy!',\n",
       " 'Fabulous!',\n",
       " 'Mind-blowing purchase']"
      ]
     },
     "execution_count": 636,
     "metadata": {},
     "output_type": "execute_result"
    }
   ],
   "source": [
    "## let's get the first 100 \n",
    "Review_summary_e = Review_summary[0:100]\n",
    "Review_summary_e"
   ]
  },
  {
   "cell_type": "code",
   "execution_count": 649,
   "id": "9982cdf3-2dba-4dab-845c-4132e8ead353",
   "metadata": {},
   "outputs": [],
   "source": [
    "# let's find the Full_review\n",
    "Full_review=[]\n",
    "\n",
    "for oli in phones_urls:\n",
    "    driver.get(oli)\n",
    "    f_review = driver.find_elements_by_xpath('//div[@class=\"t-ZTKy\"]//div/div')\n",
    "    for x in f_review: \n",
    "        Full_review.append(x.text.replace('\\n\\n','').replace('\\n',''))\n",
    "    time.sleep(2)"
   ]
  },
  {
   "cell_type": "code",
   "execution_count": 654,
   "id": "fd08b769-34ea-412f-8e66-72e562f83e11",
   "metadata": {},
   "outputs": [],
   "source": [
    "#Full_review"
   ]
  },
  {
   "cell_type": "code",
   "execution_count": 651,
   "id": "4870d425-f5a2-4663-9af8-4146e1a6936d",
   "metadata": {},
   "outputs": [
    {
     "data": {
      "text/plain": [
       "130"
      ]
     },
     "execution_count": 651,
     "metadata": {},
     "output_type": "execute_result"
    }
   ],
   "source": [
    "len(Full_review)"
   ]
  },
  {
   "cell_type": "code",
   "execution_count": 652,
   "id": "978f68b1-52ee-493c-b2eb-ef0181a55238",
   "metadata": {},
   "outputs": [],
   "source": [
    "## let's get the first Full Review\n",
    "\n",
    "full_review_e = Full_review[0:100]\n"
   ]
  },
  {
   "cell_type": "code",
   "execution_count": 653,
   "id": "f7802277-3390-496f-8009-3c377d721c66",
   "metadata": {},
   "outputs": [
    {
     "data": {
      "text/plain": [
       "['Flipkart honoured on time delivery, I have used 6s , now I have upgraded apple 11 . Really great experience for new iPhone. Thank you apple and flipkart.',\n",
       " 'Good buy.. working perfectly !That was upgrade from 6S to 11. I see no deference in both the phones except:1. Battery performance2. Camera quality3. Face detection unlockGo for it..!',\n",
       " 'Seller - SuperComNet ( my trust in you has grown deeper. Thanks for the genuine product )The package came packed perfectly. The box was sealed which gave me a big relief.Apple needs no introduction since its the dominant market player. I just love the way how IPhone 11 stands out so boldly. The moment I took it out from the box, I could feel the premium intensity. The body is remarkable and crafted for giving you a elite vibe.Camera is to die for. There is no other phone that can beat...',\n",
       " 'Well , as we all know if its not an Iphone , its not an iphone . The iphones are always beast . The camera game has been level up . The A13 Bionic is just fabulous . The update this year are certainly the camera which is damn good with d addition of wide angle lens as well as ultra wide . If anyones purchasing an iphone for the first time , do opt for the black color . Its just feels more than premium . Battery life is damn good with lasting fully a day . Overall a nice package . Well managed...',\n",
       " 'I upgraded from one plus 6 to iPhone 11 and it’s too good. Very smooth, battery also good. I love it. And thanks flipkart for fast delivery.',\n",
       " \"Just an awesome phone...upgraded from 6s to 11 and trust me guys it's super cool with amazing features..loved it ♥️ and a big thank you to Flipkart for delivering it in just 2 days ?\",\n",
       " 'As usual a great product from Apple. but the look wise there were some scope to make it more attractive. from the back it looks nice. picture quality is awesome . face id is blazing fast. The lightning fast bionic processor makes the phone butter smooth.Battery back up is unbeatable and best of the released iPhone.full display is still missing. however, a iPhone is a iPhone. The iPhone lovers know the value of an iPhone 🙂',\n",
       " 'Product is nice at the deviled time the delivery boy not open the box and this order is oBD but he is not open and not showing product he gives Product and gone time God product is super nice and good Tq Flipkart and seller love you Flipkart Product is nice display good touch screen amazing compared to other brands over all Product is super. Tq Flipkart Tq so much',\n",
       " \"Ok, so after almost 3 years I am again back into Apple Ecosystem. Switching from Android to iOS has just one disadvantage imo, and that's you can't take your WhatsApp data restored to iOS. Everything starts fresh, pretty sad. I am so glad that I chose iPhone 11 over 12. With 5G nowhere in India for at least an year will have an added advantage to iPhone 11. Spending extra 25k just for A14 chipset and OLED display is not a clever choice. Anyways, a fantastic phone with everything fit perfectly...\",\n",
       " 'Here is the thingThe only reason why you should buy this phone is for the camera, iOS, and if you have headaches looking at AMOLED display.I’m not an avid gamer but watch a lot of movies on smartphone. However, my migraine attacks increased considerably after using AMOLED Smartphone. That’s why I made a calculated decision to buy iPhone 11. It has the best LCD display and the blacks, though not as natural as an AMOLED, is better than some of the other smartphones.Adding to this the ste...',\n",
       " 'Thanks Flipkart For this amazing deal! I had a dream of owning a iphone since i had known about.Im very happy with my purchase & it is totally worth it.Amazing experience all over !!Anyone who’s thinking of buying it in 2021, i would simply say go for it without any second thoughts ❤️',\n",
       " 'iPhone is delivered on time. Display is great u won’t feel that it’s a hd panel. Quality is excellent. Sounds is great it has stereo setup. Camera is good. iOS 14.2 comes in the box. U roughly get 113 gb free if u buy 128 gb. This is my second iPhone and i love it. Value for money.',\n",
       " 'Please DONT buy from here,I purchased Apple iPhone 11. with an exchange of IPhone 7, the exchange did not go well, iPhone 7 had a small scratch out side screen which i could never identify till date, but the FLIPKART person could, so he reduced 50% from exchange rate. I decided not to trade in, but paid money.iPhone 11 Detail Below---------------------------------------------It came with no charging, then i have put for charging, it took lot of time for charging, the phone also showe...',\n",
       " 'A perfect phone and a good battery super camera and the sound is dynamic overall the phone is perfect for upgrading from lower iPhone model to iPhone 11',\n",
       " \"i was confused between 11 and 11 pro. i was going towards 11 pro, but the screen size was not enough for me.And i saw 11 in the showroom. i didn't find much difference in screen quality.And cameras seems to be ok with me. And i saw offer's in flipkart and made the purchase.the device is fabulous. The hardware and software quality is excellent. The new iOS is something you need to experience yourself. The drawback i found was absence of fast charger, but the pricing can compensate that. Am...\",\n",
       " 'Released in 2019In 2021 still the best in segmentPros:Camera 4/5 night photograph takes -1Performance 5/5Battery backup normal usage 5/5 should last more than a dayHeavy usage battery backup 4/5 as compared have a smaller battery but should give around 5-6h of heavy usage like game playBattery charging from 18w charger 3.5/5 not as fast as compared to dash charger but does the job well 0-50% in somewhat takes 40 mins which is okCons:No earpodNo 3.5mm jack connector I remember gett...',\n",
       " 'Got my iPhone 11 today! It’s totally worth it even in 2021. Takes wonderful images and the stabilisation of video on this phone is just awesome although it is a 2019 model. Performance wise it’s ultra fast as expected to be. The only drawback per paper is the screen it has, but in usage I noticed nothing bad and the screen was totally fine for me!I upgraded from Nokia 6.1 Plus and it’s great 🤩',\n",
       " 'Wow wow and wow, in 48k you will not get anything better than this, processor is awsome, camera is a beast, display is superb, this is my first iphone, and I am already in love with these',\n",
       " 'Reviewing within 1st Month1st Month ReviewThis is my first Iphone. So been new to the Ios Environment i faced some basic issues. Whatever issues i am facing is because of change in environment.Video Output is amazing.Battery - Typical One Day Battery. 20 W fast charger is amazing which charges the iphone within 40-60 Mins ( purchased separately)Camera - Good and Natural Colours. ( I have Samsung S21+ and not at par with its camera) but the output is same all the time which is good....',\n",
       " \"I was using android phone earlier..I was thinking apple phones are much more costy than other phones with less specifications..so why to waste money in this??..But trust me guys once if you start using ios then you won't go back to android...beleive me this phone is the best than all other...There is no other phone which can beat iphones in terms of camera..iphones gives the best real image..its very faster and smoother than android phones...if you think to switch to ios iphone 11 is the best...\",\n",
       " 'Thanks Flipkart For this amazing deal! I had a dream of owning a iphone since i had known about.Im very happy with my purchase & it is totally worth it.Amazing experience all over !!Anyone who’s thinking of buying it in 2021, i would simply say go for it without any second thoughts ❤️',\n",
       " 'iPhone is delivered on time. Display is great u won’t feel that it’s a hd panel. Quality is excellent. Sounds is great it has stereo setup. Camera is good. iOS 14.2 comes in the box. U roughly get 113 gb free if u buy 128 gb. This is my second iPhone and i love it. Value for money.',\n",
       " 'Please DONT buy from here,I purchased Apple iPhone 11. with an exchange of IPhone 7, the exchange did not go well, iPhone 7 had a small scratch out side screen which i could never identify till date, but the FLIPKART person could, so he reduced 50% from exchange rate. I decided not to trade in, but paid money.iPhone 11 Detail Below---------------------------------------------It came with no charging, then i have put for charging, it took lot of time for charging, the phone also showe...',\n",
       " 'A perfect phone and a good battery super camera and the sound is dynamic overall the phone is perfect for upgrading from lower iPhone model to iPhone 11',\n",
       " \"i was confused between 11 and 11 pro. i was going towards 11 pro, but the screen size was not enough for me.And i saw 11 in the showroom. i didn't find much difference in screen quality.And cameras seems to be ok with me. And i saw offer's in flipkart and made the purchase.the device is fabulous. The hardware and software quality is excellent. The new iOS is something you need to experience yourself. The drawback i found was absence of fast charger, but the pricing can compensate that. Am...\",\n",
       " 'Released in 2019In 2021 still the best in segmentPros:Camera 4/5 night photograph takes -1Performance 5/5Battery backup normal usage 5/5 should last more than a dayHeavy usage battery backup 4/5 as compared have a smaller battery but should give around 5-6h of heavy usage like game playBattery charging from 18w charger 3.5/5 not as fast as compared to dash charger but does the job well 0-50% in somewhat takes 40 mins which is okCons:No earpodNo 3.5mm jack connector I remember gett...',\n",
       " 'Got my iPhone 11 today! It’s totally worth it even in 2021. Takes wonderful images and the stabilisation of video on this phone is just awesome although it is a 2019 model. Performance wise it’s ultra fast as expected to be. The only drawback per paper is the screen it has, but in usage I noticed nothing bad and the screen was totally fine for me!I upgraded from Nokia 6.1 Plus and it’s great 🤩',\n",
       " 'Wow wow and wow, in 48k you will not get anything better than this, processor is awsome, camera is a beast, display is superb, this is my first iphone, and I am already in love with these',\n",
       " 'Reviewing within 1st Month1st Month ReviewThis is my first Iphone. So been new to the Ios Environment i faced some basic issues. Whatever issues i am facing is because of change in environment.Video Output is amazing.Battery - Typical One Day Battery. 20 W fast charger is amazing which charges the iphone within 40-60 Mins ( purchased separately)Camera - Good and Natural Colours. ( I have Samsung S21+ and not at par with its camera) but the output is same all the time which is good....',\n",
       " \"I was using android phone earlier..I was thinking apple phones are much more costy than other phones with less specifications..so why to waste money in this??..But trust me guys once if you start using ios then you won't go back to android...beleive me this phone is the best than all other...There is no other phone which can beat iphones in terms of camera..iphones gives the best real image..its very faster and smoother than android phones...if you think to switch to ios iphone 11 is the best...\",\n",
       " 'Nice value for money good and best price I phone mind blowing camera processor very fast other android mobile I am happy India top selling phone 2020',\n",
       " 'We are on apple ecosystem for almost eight years now with couple of iPads and iPhones, including Xr.Bought iPhone 11 as a gift to my daughter who loves it. We chose for a purple coloured one. Believe me it is gorgeous and towards the lighter shade. Dazzling and brilliant!The phone is great and does excellent RAM management like any other Apple device.The screen, though a LCD and lesser ppi as compared to other flagship phones of competitor brands, is a delight to watch with perfect re...',\n",
       " 'This is my first ever iPhone.And I truly don’t regret switching to IOS from my Android.It is easily an alternative to a DSLR camera.If you’re obsessed with photos and videos, just don’t think twice or don’t compare to other androids(Samsung S10 lite or OnePlus 8/8T), as it’s far better from them in every field.Comparing will only make you confused.I am getting an average Screen on Time of around 10 hours with 30 percent left. I haven’t let my device discharged below 30 % as it aff...',\n",
       " 'Everything is perfect pictures come out so clearly and at first I wasn’t sure when I got it then when I started to use it and get the hang of it it was amazing!! I can’t wait to see what the next future phones will be like. The screen display on this bad boy are unbelievable they are so clear and never fail me. The performance is super cool there is a lot of cool features as well I like this phone because I feel that it is easy to use and one of my favorite things about this phone is the Face...',\n",
       " 'Value for money product. This iphone 11 is really amazing. Again nice release by apple. Great camera, battery backup is excellent. I just love this phone',\n",
       " \"The best all rounder iphone. Flipkart is doing a great job. They're delivery services are blazing fast. I got delivery on the same day. Genuine Apple Product. Working great. Talking about review There's no need of review for iphones. They're simply the best.\",\n",
       " 'A wort full value for money decision it’s . Simply go for it in 2021 its still a good decision . Awesome camera , Super smothered performance, Heck of build quality. And Most important it protects your privacy.',\n",
       " \"I genuinely liked it. One of the best mobile phones I have used. It's sho smooth and it's security is very astonishing. Plus it has a very good camera quality. so overall it's a win win.\",\n",
       " \"If you are looking for a premium phone under 55k, this is the one for you.Got the iPhone 11 during the Republic day sale. Performance is top notch in this price range. Camera's do a perfect job in taking good quality photos and videos. Battery backup too is satisfactory. Writing this review after using for a week. Any further observations would be updated.\",\n",
       " 'Awesome camera, smooth and fast UI, display is great (though not LED) but the black area at the top could have been reduced. Battery remains a day even if used heavily. Charger in the box is ok, but 12 or 18W could have been nothing like anything. Overall an excellent product and comfortable to use. I have got it almost a month back and so far so good.',\n",
       " 'Absolutely powerful gadget. Loved it’s look! Soo glassy and classy. I would definitely recommend this model of Apple. Only disappointed with the 5W charger, one should purchase an 18W adapter for fast charging. Though battery backup is great. Bought it in September 2020, reviewing after so long so I’m gonna put the genuine review here.✅',\n",
       " 'I was torn between the oneplus 8 pro and the iphone 11. I had to shell out extra money for this, but I say if you can afford it, this truely is the best package.Mind blowing camera, battery and overall performance. Face Id works like magic even in complete darkness without firing up the screen brightness. The phones with in display fingerprint scanners do this at night time and it really burns your eyes.I wanted the oneplus for its display but tbh the OLEDs on oneplus is really bad. Flick...',\n",
       " 'I purchased the iPhone 11 a month back. I must say Apple has impressed me yet again . I have been an Apple user for past 5 years . The phone is power packed with amazing features . What impressed me the most was the battery backup the phone offers . Battery can easily run upto 1.5 days in single charge with moderate toHeavy usage . If you’re looking for a value for money device , I don’t see any other phone in the price range which can match the iPhone 11 .One thing I didn’t like was that ...',\n",
       " \"It's a great phone. From camera to display everything is best for the price.Best camera , best performance. I think everyone should buy it . This phone has best battery life so far in iphone series which I had used earlier. Happy to have it. Thanks Flipkart\",\n",
       " 'Can’t beat the software and hardware integration of apple.Performs like a beast. Great quality camera6-7 hours screen on time which is good. Nothing much to complaint about the screen. Good connectivity speeds.Great buy and Flipkart’s delivery top notch as usual',\n",
       " 'I use a Note10+ and have been using both iOS and Android devices.Camera has really good features and portraits are super good, better than Samsung flagship. Overall camera setup can still be enhanced and hopeful for better upgrades on software in next releaseOperating system is quite a breeze and user experience of daily usage is very high as compared to Android. I moved to iOS very swiftly in 2 days for all my office work from Note10+Battery holds up quite well with 4 hrs of call and ...',\n",
       " 'The phone is completely goodAs far as camera Apple is king of itAnd its a beast in performanceAnd the battery is pretty good too',\n",
       " 'Everything u ll like it when u use this iPhone. Simple changes only not many to lower models but it’s nice to use. Little heavy compared to previous models like 7,8',\n",
       " 'I was using Iphone 6s and also Oneplus 6t. Both mobiles were perfectly alright in Photos, gaming, and smooth interface . My 6s mobile getting battery issue. thought upgrade to 11. Really like this mobile of its Internal storage (compare to 6s) , camera and its touch feeling. Its a worth buying mobile for me.',\n",
       " \"phone is good but in display is 720p lcd in this price range we can get full hd OLED displays with higher refresh rate processor is very good camera is nice but looks kind of oldish in front of todays phone also there's no charging in box had to buy it seperately\",\n",
       " 'Great iphone.I am writing this review after 2 months of usage.Camera is excellent, especially the nightmodeDisplay perfectBattery backup awesomeSound quality very goodOverall Apple gives you a perfect iphone in this range.Really in love with iPhone 11',\n",
       " 'Did an upgrade from 6s plus to iphone 11.Ao far the experience is well and good. Felt smoother than 6s plus. The camera quality is superb. Battery backup is descent. Not a heavy user, and gets power more than a day. Go for it if you need an alrounder iphone in a competitve price.',\n",
       " 'Damn this phone is a blast . Upgraded from android to ios and is a duperb experience. Battery backup is top notch and display also pretty good',\n",
       " 'awesome Phone Smooth Touch Too good Sexyy looks one word Awesome',\n",
       " \"Just go for it.This phone is really amazing. I ordered it for my wife and we click photos on this thing which are better than dslr. I own OnePlus 6t but it's camera sucks. iPhone is really amazing when it comes to camera. It's worth spending 50k on this. Cons- only display is lcd. While using u don't feel it but if u compare with other phone then u can see difference quite easily.Changing from Android to iphone is bit difficult coz most of things u don't know but I liked it. Some of the a...\",\n",
       " \"It was amazing experience for me. Honestly i am using iPhone first time so I don't have that much past experience about that. But after using 7 days this mobile i want to give some honest feedback.1- Display 9 out of 102- Camera 9.5 out of 103- Battery 7 out of 104- Performance 9.5 out of 105- Features & Functions 10 out of 106- Outer looks and colour 10 out of 10Rest i think i will understand after using this for few months.I will highly recommend you guys if you have budget then you...\",\n",
       " \"I've used this phone for over a month now and here are my takeaways.I would like to first talk about the best things about this phone and then the cons of it.Pros:This phone is a performance beast. It handles large games and applications effortlessly and you won't find any stutters or lags while playing graphic intensive games like pubg, cod , mortal kombat and asphalt.This phone has only 4gb ram and yet the ram management is amazing, it can keep 3 heavy games in memory without reload...\",\n",
       " 'I rate this product 5* as it has got amazing user experience with the best performing A13 bionic processor. The screen responds and graphics rendering is top notch. With casual gaming and internet browsing, the battery lasts for approx. 1 day. Camera is very good. You will fall in love with the portrait mode. You can call me a loyal Apple customer or whatever but I won’t stop praising the products and overall experience. That user experience matters and is worth every penny you pay.Below ar...',\n",
       " 'Undoubtedly Iphone 11 is the most successful model till now and its performance is extraordinary and the security features are very impressive, display is more vibrant sound quality Camera Quality 5*****, but Iphone should add accessories too and act like scrooge.',\n",
       " 'I dreamt about this day from a long time.... Getting an iPhone with my own money.... Super happy and worth spending every penny',\n",
       " 'They are selling cheep quality items. There is a black line on the edge of the display. Waiting for the replacement..Update:today I got the replacement from flipkart.. The second one is nice and the display and camera quality is much better than the previous one.. Thanks for the support',\n",
       " 'awesome phone to have. it has got many smart features apart from mind blowing looks, camera, display, battery and sound. have fallen in love with this phone. must buy phone if you have got enough money. thanks to flipkart and apple of course..',\n",
       " 'Its a fabulous mobile look awesome performance unbeaten camera like dslr battery good i think this is a beast of mobile',\n",
       " 'Dear friends... I want to share my experience with you about this amazing I phone 11....this is my first iPhone and special things about this mobile is it has great camera, battery backup and awesome display.... I mean everything is perfect.loved it 👍👍👍',\n",
       " \"Just got this iphone 11And it is most powerful mobile phone I have used everSo,go for it if you want a phone with best specification like camera,battery backup,display, A13 bionic chipThat's my review about this phone but yours can be differ from me....\",\n",
       " 'Amazing phone and on great deal I received with super fast delivery by Flipkart...',\n",
       " 'finally an iPhone with very nice battery backup. update from iPhone 7 and happy to have it. camera is not up to the mark in low light but overall a recommended phone if your budget allows 😀',\n",
       " \"I'm switching this phone to oppo reno 10x zoomIt's really impressiveRarely I'm missing smooth display touch response like oppo reno butI really loved it.Camera really impressive\",\n",
       " 'Worth the money’ starting first from its performance it beats out all phones , second the smoothness of camera is awesome, contrast ratio is much than expected. Price will not matter if u r a quality person, if not other phones are available with better discount',\n",
       " \"I'm Really happy with the productDelivery was fast as well..it was a gift for my sister and she loved it so much.\",\n",
       " 'Very excited to have this phone. This phone has the real power unlike the android phones having SD 855 . The battery life is very good and the camera quality is excellent as comapred to redmi and other phones except google pixel. I M enjoying every single bit of it. Would recommed only if you have the budget.',\n",
       " \"I upgraded (downgraded?) from my iPhone X since the phone fell down and I didn't want to repair the screen. The box that the phone came in was super slim and I was worried that there'd be no 5W charger with it and my fears were confirmed. However, thankfully I had the 18W USB-C PD charger from Apple which I bought for my iPhone X and it worked perfectly. The charging time is as lethargic as ever though and it takes about 1:30 mins or even 2 hours depending on charge remaining. I'll list some ...\",\n",
       " 'Its Very awesome product working and good camera quality and all about best product and also flipkart is very great deal and offer nice price',\n",
       " 'I am using this phone for 5 days and its one of the best camera out there ❤️ the screen is not oled and i am coming from iphone xs so its little bit not up to the mark i would sayBut overall value for money💕😍the battery back up is far better than my iphone xs and its worth in my apple ecosystem💫❤️if u are an apple User and have the eco system then go for it❤️though i will be getting the new iphone but its pretty good💫',\n",
       " 'Best and amazing product.....phone looks so premium.... battary is also good as expected .... Wide angle camera is so addictive ...if you are a IOS lover....then this phone will be the best choice for you all!!💯🔥',\n",
       " 'Excellent camera and display touching very nice and smooth very improvement against iPhone XR and new processor is very fast',\n",
       " 'Awesome purchase. Amazing phone with good battery backup. It’s a top notch device. White colour looks amazing. Phone has a few extra feature than iPhone XR. Overall, this is value for money',\n",
       " 'Always love the apple products, upgraded from old iPhone 6S plus to this after having my first baby. I just love to click baby’s photos with it. Overall I just love this phone. Battery back up is okay, sound quality is good. Haven’t tested yet waterproof yet. Only one thing I hate is apple could have given charger & headphones in box.',\n",
       " 'Value for money5 star ratingExcellent cameraBattery backup full day in single charge.Tougher and water resistant design, glossy back.The screen has excellent brightness and contrast.Apple A13 Bionic is the fastest smartphone chip on the planet.Excellent battery life, fast charging support.Stereo speakers with great quality.',\n",
       " 'Amazing camera and feel super machine I am not describe my feeling but this is amazing Phone I am so lucky I have this',\n",
       " 'First thanks to Flipkart for this amazing deal and phone is outstanding. I upgraded from iPhone 7 and this is like very big upgrade. But the packaging was very basic I expected a good packaging as they only wrapped one layer of bubble wrap which I don’t think is enough to protect this expensive phone. And I recommend this phone and seller as well.And I’m posting this review after using it for 4 days.',\n",
       " 'Superfast delivery by Flipkart. Thanks.1. iPhone 11 is a pretty solid phone for the money you are paying.2. All the bad reviews about the display is confusing. It’s not that bad.3. I switched from a Oneplus 7t. I have no complaints about the display quality of iPhone. Yes, it’s not OLED, so, we are missing on the deep blacks. But that’s it. It is a very colour accurate display. Gets adequately bright and I could not find any pixelation.4. Performance is one of the best, if not best, in ...',\n",
       " 'Smooth like butter, camera like fantabulous, sound is crystal clear & its red color is damn attractive, i am just loving it. Must buy if you love photography.Lucky to get it in sale, thank you Flipkart.',\n",
       " \"Again back to apple iphone after a gap of 2-3 years. It's pleasure to use iOS and the quality product by Apple. Iphone 11 still works like a beast in 2021 also. It really capable of doing day to day usage as well as hard core gaming. Battery is awesome. I'm really too much satisfied with it. Apart fto the very gorgious IPS LCD (AMOLED will be better) everything is mind boggling. Iphone💕.\",\n",
       " 'The ultimate performanceCamera is superbThe battery backup also very good i never saw iphone gives this much of battery backupIf any one wana buy iphone 11 definitely i will recommend this mobileIt has the better battery and powerfull processer peak performance glorious camera and the display also 100% high quality lcd display if u had money for for 12 if u dont wana invest much money on that then go for iphone 11 it has maximum same specs only main difference between the 12 and 11 is...',\n",
       " 'impressive super phone and best in class camera ,sound and face unlock is super fast just see and phone is unlock and fast in daily apps use',\n",
       " 'Battery backup is extraordinary, camera is decent & performance offered by A13 bionic is awsome. The display is good in practical usage like the visibility of display is very good in direct sun light compare to pro models. Iam extremely satisfied for the money I spent.',\n",
       " 'Well while switching from android to iOS the first thing you need to be careful about is that you will loose all your whatsapp chat backups as both are different operating systems. Camera clarity is awesome and though being an lcd screen clarity and resolution is good. Battery backup is also good unlike previous gen iPhone. So far the experience is good will Padre after a few months of usage.P.S the black is more of a dark grey shade and not jet black',\n",
       " 'In love with this iphone great performance,camera ,battery everything. Go for it have a uncompareble battery backup, no doubts in iPhone camera here You can see the picture which is shot on my iPhone In love with this iphone great performance,camera ,battery everything. Go for it have a uncompareble battery backup, no doubts in iPhone camera here You can see the picture which is shot on my iPhone In love with this iphone great performance,camera ,battery everything. Go for it have a uncompare...',\n",
       " 'Best in class. Battery backup is good especially when you play games like Pubg COD. But it is sort of heavy when you hold in hands. Portrait mode is best to click pictures. Stage light effect is awesome. Try to click photos outside in nature because photos inside home or room will not give you the quality in any phone even in DSLR.',\n",
       " 'This will help you more. See if you are planning to buy iPhone 11. I will say. Yes. But there are some plans I just want to disclose before you buy. 1) If you are an existing iPhone X/XS/XS Max/ XR user, better you guys do not think it to buy. You guys have more or less better gadget. 2) If you are an android user and planning to buy premium phone. I will suggest them to please buy iPhone instead of buying an Android. I bet you will never go back to android after using IOS. Now I want to shar...',\n",
       " 'The built quality is not very premium.The battery back is great .The LCD panel is not so sharp but the brightness level is very High .Camera is super duper awesome.The red colour which people think is bright is actually very soothing and excellent colour to choose from .The A13 Bionic chip is really a flagship processor and can beat any phone which even has 12 gb ram .Camera module is very great and looks very stylish.',\n",
       " 'Really good actually this is my first apple product am using its really awesome performance wise excellent. Am really happy with this iphone11',\n",
       " 'it is very good at performance. Camera is best like before and very smooth response even in water. Don’t buy 12 mini buy iPhone 11 , it is far better than 12 mini believe me ! Have a nice day \\uf8ff ☺️',\n",
       " 'Reviewing again after 5 months. At the beginning the battery and performance was good but it degraded soon. Also I was facing heating issues. The mobile will heat up like a stove sometimes. You cannot even play Pubg even in low settings properly, performance is not a problem but heating is. Also if you play that game for 10 mins the brightness will be automatically down due to over heating even when the auto brightness is set to off. This will not be solved even if u manually increase the bri...',\n",
       " 'Great iPhone very snappy experience as apple kind. Upgraded from iPhone 7.Pros-Camera top class- Battery top performed-Chipset no need to say as apple kind-Security as you expect from apple- Display super bright industry leading colouraccuracy and super responsive-Build quality as expect from apple sturdypremium durable beautiful stylish.-Os most stable os in smartphone industryCons-No 5G-Display is not based on OLED technology-Charger headphones and 1 apple stic...',\n",
       " 'It is just awesome mobile for this price from Apple,After 10 days reviewBattery enough for 1 day even 24*7 Internet will be on and mostly internet usageCamera is just awesome cool , android 64 MP is equal to this just 12 MPA13 Bionic chip will give more high performance without hangingAudio stereo speakers will give Dolby atoms sound with crystal clearVideo recording is like cinematic shots of every sec can be a 4K 60fps. Just awesome this phoneiPhone 11 loved one',\n",
       " 'Best Apple iPhone that i have bought at a very reasonable price, camera quality is next level just awesome n of superior quality android phones not even close(RIP) to that and also battery is really good but packaging by Flipkart of iPhone was very poor of such a expensive product, firstly im bit worried about the quality of product if i purchased it through online how was the product but i think now this was mine best decision to bought it through Flipkart online because i got genuine Apple...',\n",
       " \"I can say I'm damn impressed with iPhone 11. As they says iPhone 11 have the toughest glass ever in the smartphone which you'll find on the front and back and it's totally smooth. The fit and finish is full apple quality - there's no sense that any cheaping out has happened in the construction. Without saying it's camera features this review won't complete. The iPhone 11 has a dual camera system, consisting of a wide angle len's that's pretty much same as found on the iPhone XR last year, but...\",\n",
       " 'Best Quality Product OF iPhone Series , Sound Quality & Camera quality is very awesome, Battery Life is very Sufficient for 24 hr Backup With Full Internet Access , I love this this Product too much , It is very fast & making me Very fast in all my daily RoutineHighlights;1.Camera: 5 STAR2.Video Recording: 5 star3.Night mODE sHOOTING & Camera:4 star4. Audio Quality: Awesome5. Battery : 5 Star6. Touch:5 Star7. Processor: Very FastThe M...']"
      ]
     },
     "execution_count": 653,
     "metadata": {},
     "output_type": "execute_result"
    }
   ],
   "source": [
    "full_review_e"
   ]
  },
  {
   "cell_type": "code",
   "execution_count": 655,
   "id": "486b0efd-fac4-438b-9a68-0d1dd1bd0716",
   "metadata": {},
   "outputs": [
    {
     "data": {
      "text/plain": [
       "100"
      ]
     },
     "execution_count": 655,
     "metadata": {},
     "output_type": "execute_result"
    }
   ],
   "source": [
    "len(full_review_e)"
   ]
  },
  {
   "cell_type": "code",
   "execution_count": 657,
   "id": "7746cbb4-df78-4e4e-a849-8ade623a7b24",
   "metadata": {},
   "outputs": [],
   "source": [
    "data_e = pd.DataFrame({})"
   ]
  },
  {
   "cell_type": "code",
   "execution_count": 658,
   "id": "d4de994f-842c-4f81-8fb2-692e15b6bd81",
   "metadata": {},
   "outputs": [
    {
     "data": {
      "text/html": [
       "<div>\n",
       "<style scoped>\n",
       "    .dataframe tbody tr th:only-of-type {\n",
       "        vertical-align: middle;\n",
       "    }\n",
       "\n",
       "    .dataframe tbody tr th {\n",
       "        vertical-align: top;\n",
       "    }\n",
       "\n",
       "    .dataframe thead th {\n",
       "        text-align: right;\n",
       "    }\n",
       "</style>\n",
       "<table border=\"1\" class=\"dataframe\">\n",
       "  <thead>\n",
       "    <tr style=\"text-align: right;\">\n",
       "      <th></th>\n",
       "      <th>Phone_Rating</th>\n",
       "      <th>Review_Summary</th>\n",
       "      <th>Full_Review</th>\n",
       "    </tr>\n",
       "  </thead>\n",
       "  <tbody>\n",
       "    <tr>\n",
       "      <th>0</th>\n",
       "      <td>5</td>\n",
       "      <td>Mind-blowing purchase</td>\n",
       "      <td>Flipkart honoured on time delivery, I have use...</td>\n",
       "    </tr>\n",
       "    <tr>\n",
       "      <th>1</th>\n",
       "      <td>5</td>\n",
       "      <td>Terrific</td>\n",
       "      <td>Good buy.. working perfectly !That was upgrade...</td>\n",
       "    </tr>\n",
       "    <tr>\n",
       "      <th>2</th>\n",
       "      <td>5</td>\n",
       "      <td>Excellent</td>\n",
       "      <td>Seller - SuperComNet ( my trust in you has gro...</td>\n",
       "    </tr>\n",
       "    <tr>\n",
       "      <th>3</th>\n",
       "      <td>5</td>\n",
       "      <td>Terrific purchase</td>\n",
       "      <td>Well , as we all know if its not an Iphone , i...</td>\n",
       "    </tr>\n",
       "    <tr>\n",
       "      <th>4</th>\n",
       "      <td>5</td>\n",
       "      <td>Worth every penny</td>\n",
       "      <td>I upgraded from one plus 6 to iPhone 11 and it...</td>\n",
       "    </tr>\n",
       "    <tr>\n",
       "      <th>...</th>\n",
       "      <td>...</td>\n",
       "      <td>...</td>\n",
       "      <td>...</td>\n",
       "    </tr>\n",
       "    <tr>\n",
       "      <th>95</th>\n",
       "      <td>5</td>\n",
       "      <td>Best in the market!</td>\n",
       "      <td>Great iPhone very snappy experience as apple k...</td>\n",
       "    </tr>\n",
       "    <tr>\n",
       "      <th>96</th>\n",
       "      <td>5</td>\n",
       "      <td>Perfect product!</td>\n",
       "      <td>It is just awesome mobile for this price from ...</td>\n",
       "    </tr>\n",
       "    <tr>\n",
       "      <th>97</th>\n",
       "      <td>5</td>\n",
       "      <td>Must buy!</td>\n",
       "      <td>Best Apple iPhone that i have bought at a very...</td>\n",
       "    </tr>\n",
       "    <tr>\n",
       "      <th>98</th>\n",
       "      <td>5</td>\n",
       "      <td>Fabulous!</td>\n",
       "      <td>I can say I'm damn impressed with iPhone 11. A...</td>\n",
       "    </tr>\n",
       "    <tr>\n",
       "      <th>99</th>\n",
       "      <td>4</td>\n",
       "      <td>Mind-blowing purchase</td>\n",
       "      <td>Best Quality Product OF iPhone Series , Sound ...</td>\n",
       "    </tr>\n",
       "  </tbody>\n",
       "</table>\n",
       "<p>100 rows × 3 columns</p>\n",
       "</div>"
      ],
      "text/plain": [
       "   Phone_Rating         Review_Summary  \\\n",
       "0             5  Mind-blowing purchase   \n",
       "1             5               Terrific   \n",
       "2             5              Excellent   \n",
       "3             5      Terrific purchase   \n",
       "4             5      Worth every penny   \n",
       "..          ...                    ...   \n",
       "95            5    Best in the market!   \n",
       "96            5       Perfect product!   \n",
       "97            5              Must buy!   \n",
       "98            5              Fabulous!   \n",
       "99            4  Mind-blowing purchase   \n",
       "\n",
       "                                          Full_Review  \n",
       "0   Flipkart honoured on time delivery, I have use...  \n",
       "1   Good buy.. working perfectly !That was upgrade...  \n",
       "2   Seller - SuperComNet ( my trust in you has gro...  \n",
       "3   Well , as we all know if its not an Iphone , i...  \n",
       "4   I upgraded from one plus 6 to iPhone 11 and it...  \n",
       "..                                                ...  \n",
       "95  Great iPhone very snappy experience as apple k...  \n",
       "96  It is just awesome mobile for this price from ...  \n",
       "97  Best Apple iPhone that i have bought at a very...  \n",
       "98  I can say I'm damn impressed with iPhone 11. A...  \n",
       "99  Best Quality Product OF iPhone Series , Sound ...  \n",
       "\n",
       "[100 rows x 3 columns]"
      ]
     },
     "execution_count": 658,
     "metadata": {},
     "output_type": "execute_result"
    }
   ],
   "source": [
    "data_e['Phone_Rating'] = rating_e\n",
    "data_e['Review_Summary'] = Review_summary_e\n",
    "data_e['Full_Review'] = full_review_e\n",
    "data_e"
   ]
  },
  {
   "cell_type": "code",
   "execution_count": 675,
   "id": "e6ba9dbe-9e4b-475e-91a7-5de3f36ebf01",
   "metadata": {},
   "outputs": [],
   "source": [
    "#pd.options.display.max_rows = None\n",
    "pd.options.display.max_rows = 10\n"
   ]
  },
  {
   "cell_type": "code",
   "execution_count": 676,
   "id": "afa205a1-1c70-45f7-ac20-b4602c2710bd",
   "metadata": {},
   "outputs": [
    {
     "data": {
      "text/html": [
       "<div>\n",
       "<style scoped>\n",
       "    .dataframe tbody tr th:only-of-type {\n",
       "        vertical-align: middle;\n",
       "    }\n",
       "\n",
       "    .dataframe tbody tr th {\n",
       "        vertical-align: top;\n",
       "    }\n",
       "\n",
       "    .dataframe thead th {\n",
       "        text-align: right;\n",
       "    }\n",
       "</style>\n",
       "<table border=\"1\" class=\"dataframe\">\n",
       "  <thead>\n",
       "    <tr style=\"text-align: right;\">\n",
       "      <th></th>\n",
       "      <th>Phone_Rating</th>\n",
       "      <th>Review_Summary</th>\n",
       "      <th>Full_Review</th>\n",
       "    </tr>\n",
       "  </thead>\n",
       "  <tbody>\n",
       "    <tr>\n",
       "      <th>0</th>\n",
       "      <td>5</td>\n",
       "      <td>Mind-blowing purchase</td>\n",
       "      <td>Flipkart honoured on time delivery, I have use...</td>\n",
       "    </tr>\n",
       "    <tr>\n",
       "      <th>1</th>\n",
       "      <td>5</td>\n",
       "      <td>Terrific</td>\n",
       "      <td>Good buy.. working perfectly !That was upgrade...</td>\n",
       "    </tr>\n",
       "    <tr>\n",
       "      <th>2</th>\n",
       "      <td>5</td>\n",
       "      <td>Excellent</td>\n",
       "      <td>Seller - SuperComNet ( my trust in you has gro...</td>\n",
       "    </tr>\n",
       "    <tr>\n",
       "      <th>3</th>\n",
       "      <td>5</td>\n",
       "      <td>Terrific purchase</td>\n",
       "      <td>Well , as we all know if its not an Iphone , i...</td>\n",
       "    </tr>\n",
       "    <tr>\n",
       "      <th>4</th>\n",
       "      <td>5</td>\n",
       "      <td>Worth every penny</td>\n",
       "      <td>I upgraded from one plus 6 to iPhone 11 and it...</td>\n",
       "    </tr>\n",
       "    <tr>\n",
       "      <th>...</th>\n",
       "      <td>...</td>\n",
       "      <td>...</td>\n",
       "      <td>...</td>\n",
       "    </tr>\n",
       "    <tr>\n",
       "      <th>95</th>\n",
       "      <td>5</td>\n",
       "      <td>Best in the market!</td>\n",
       "      <td>Great iPhone very snappy experience as apple k...</td>\n",
       "    </tr>\n",
       "    <tr>\n",
       "      <th>96</th>\n",
       "      <td>5</td>\n",
       "      <td>Perfect product!</td>\n",
       "      <td>It is just awesome mobile for this price from ...</td>\n",
       "    </tr>\n",
       "    <tr>\n",
       "      <th>97</th>\n",
       "      <td>5</td>\n",
       "      <td>Must buy!</td>\n",
       "      <td>Best Apple iPhone that i have bought at a very...</td>\n",
       "    </tr>\n",
       "    <tr>\n",
       "      <th>98</th>\n",
       "      <td>5</td>\n",
       "      <td>Fabulous!</td>\n",
       "      <td>I can say I'm damn impressed with iPhone 11. A...</td>\n",
       "    </tr>\n",
       "    <tr>\n",
       "      <th>99</th>\n",
       "      <td>4</td>\n",
       "      <td>Mind-blowing purchase</td>\n",
       "      <td>Best Quality Product OF iPhone Series , Sound ...</td>\n",
       "    </tr>\n",
       "  </tbody>\n",
       "</table>\n",
       "<p>100 rows × 3 columns</p>\n",
       "</div>"
      ],
      "text/plain": [
       "   Phone_Rating         Review_Summary  \\\n",
       "0             5  Mind-blowing purchase   \n",
       "1             5               Terrific   \n",
       "2             5              Excellent   \n",
       "3             5      Terrific purchase   \n",
       "4             5      Worth every penny   \n",
       "..          ...                    ...   \n",
       "95            5    Best in the market!   \n",
       "96            5       Perfect product!   \n",
       "97            5              Must buy!   \n",
       "98            5              Fabulous!   \n",
       "99            4  Mind-blowing purchase   \n",
       "\n",
       "                                          Full_Review  \n",
       "0   Flipkart honoured on time delivery, I have use...  \n",
       "1   Good buy.. working perfectly !That was upgrade...  \n",
       "2   Seller - SuperComNet ( my trust in you has gro...  \n",
       "3   Well , as we all know if its not an Iphone , i...  \n",
       "4   I upgraded from one plus 6 to iPhone 11 and it...  \n",
       "..                                                ...  \n",
       "95  Great iPhone very snappy experience as apple k...  \n",
       "96  It is just awesome mobile for this price from ...  \n",
       "97  Best Apple iPhone that i have bought at a very...  \n",
       "98  I can say I'm damn impressed with iPhone 11. A...  \n",
       "99  Best Quality Product OF iPhone Series , Sound ...  \n",
       "\n",
       "[100 rows x 3 columns]"
      ]
     },
     "execution_count": 676,
     "metadata": {},
     "output_type": "execute_result"
    }
   ],
   "source": [
    "data_e"
   ]
  },
  {
   "cell_type": "markdown",
   "id": "2a1a4812-87a0-4566-9acc-130ae2065ebe",
   "metadata": {},
   "source": [
    "### **************************************************************"
   ]
  },
  {
   "cell_type": "markdown",
   "id": "19721cf4-c62e-4d4b-a3c0-5558364dba75",
   "metadata": {},
   "source": [
    "### __Q8: Scrape data for first 100 sneakers you find when you visit flipkart.com and search for “sneakers” in the search field.__\n",
    "### __You have to scrape 4 attributes of each sneaker :__"
   ]
  },
  {
   "cell_type": "markdown",
   "id": "79c76ecf-5fab-4a91-94a9-e33980191a3e",
   "metadata": {},
   "source": [
    "#### 1. Brand\n",
    "#### 2. Product Description\n",
    "#### 3. Price\n",
    "#### 4. discount %\n",
    "#### As shown in the below image, you have to scrape the tick marked attributes.\n",
    "#### Also note that all the steps required during scraping should be done through code only and not manually."
   ]
  },
  {
   "cell_type": "markdown",
   "id": "1234dbde-a2ea-486b-ae3f-b541b76f7125",
   "metadata": {},
   "source": [
    "![](8.jpg)"
   ]
  },
  {
   "cell_type": "code",
   "execution_count": 784,
   "id": "15c06739-63ff-41df-97fa-1a15719ffa76",
   "metadata": {},
   "outputs": [],
   "source": [
    "## let's get the sneakers url\n",
    "url_sneakers = 'https://www.flipkart.com/'"
   ]
  },
  {
   "cell_type": "code",
   "execution_count": 785,
   "id": "a339b871-83dd-4386-aade-072976ca27e7",
   "metadata": {},
   "outputs": [],
   "source": [
    "driver.get(url=url_sneakers)\n"
   ]
  },
  {
   "cell_type": "code",
   "execution_count": 786,
   "id": "7f38e0de-f34a-467f-be99-e5a2963f79fd",
   "metadata": {},
   "outputs": [],
   "source": [
    "input_sneakers = driver.find_element_by_xpath('//div[@class=\"_3OO5Xc\"]//input')\n"
   ]
  },
  {
   "cell_type": "code",
   "execution_count": 787,
   "id": "35725af7-d8f7-4482-aa06-319042d82fab",
   "metadata": {},
   "outputs": [],
   "source": [
    "input_sneakers.send_keys('sneaker')"
   ]
  },
  {
   "cell_type": "code",
   "execution_count": 788,
   "id": "9dfe5a33-1194-4ad2-abb2-b8b2f5dfdc83",
   "metadata": {},
   "outputs": [],
   "source": [
    "search_btn = driver.find_element_by_xpath('//button[@class=\"L0Z3Pu\"]')\n"
   ]
  },
  {
   "cell_type": "code",
   "execution_count": 789,
   "id": "bdef61a5-64b3-4d01-a7f1-b1346a7a6e34",
   "metadata": {},
   "outputs": [],
   "source": [
    "search_btn.click()"
   ]
  },
  {
   "cell_type": "code",
   "execution_count": 767,
   "id": "cde4f328-b0a2-4f0b-82de-e3e923284baf",
   "metadata": {},
   "outputs": [],
   "source": [
    "## first let's the first 100 sneakers urls\n",
    "\n",
    "Sneakers_urls = []\n",
    "\n",
    "for i in range(1,4):\n",
    "    time.sleep(2)\n",
    "    links = driver.find_elements_by_xpath('//a[@class=\"_2UzuFa\"]')\n",
    "    for oli in links:\n",
    "        Sneakers_urls.append(oli.get_attribute('href'))\n",
    "    next1_button = driver.find_element_by_xpath('//a[@class=\"_1LKTO3\"]')\n",
    "    next1_button.click()\n",
    "    \n",
    "    \n"
   ]
  },
  {
   "cell_type": "code",
   "execution_count": 717,
   "id": "94e1b299-38e9-4a2a-8983-4da83aeef827",
   "metadata": {},
   "outputs": [],
   "source": [
    "#Sneakers_urls"
   ]
  },
  {
   "cell_type": "code",
   "execution_count": 768,
   "id": "3d49d534-c1f2-4c6f-bcd7-cc0311aa5bd9",
   "metadata": {},
   "outputs": [
    {
     "data": {
      "text/plain": [
       "120"
      ]
     },
     "execution_count": 768,
     "metadata": {},
     "output_type": "execute_result"
    }
   ],
   "source": [
    "len(Sneakers_urls)"
   ]
  },
  {
   "cell_type": "code",
   "execution_count": 769,
   "id": "ad6ef9d9-8e1d-440f-9161-488deb6a835e",
   "metadata": {},
   "outputs": [],
   "source": [
    "## let's get the 100 sneaker links\n",
    "\n",
    "sneak_url_100 = Sneakers_urls[0:100]"
   ]
  },
  {
   "cell_type": "code",
   "execution_count": null,
   "id": "caab2abe-337f-4b55-a53d-40f6cf3670f8",
   "metadata": {},
   "outputs": [],
   "source": []
  },
  {
   "cell_type": "code",
   "execution_count": 770,
   "id": "79cab8c6-8fe8-4f7b-a23d-0908a6615223",
   "metadata": {},
   "outputs": [
    {
     "data": {
      "text/plain": [
       "100"
      ]
     },
     "execution_count": 770,
     "metadata": {},
     "output_type": "execute_result"
    }
   ],
   "source": [
    "len(sneak_url_100)"
   ]
  },
  {
   "cell_type": "code",
   "execution_count": 771,
   "id": "a0aebc3e-fdfb-4174-8ebd-de4aad24cfd3",
   "metadata": {},
   "outputs": [],
   "source": [
    "## let's get the brand name\n",
    "\n",
    "sneakers_brand=[]\n",
    "\n",
    "for oli in sneak_url_100:\n",
    "    driver.get(oli)\n",
    "    brd= driver.find_elements_by_xpath('//span[@class=\"G6XhRU\"]')\n",
    "    for x in brd:\n",
    "        sneakers_brand.append(x.text)\n",
    "    time.sleep(2)\n",
    "\n"
   ]
  },
  {
   "cell_type": "code",
   "execution_count": 790,
   "id": "ba6fa83d-fafa-4b60-807d-eab070e8670a",
   "metadata": {},
   "outputs": [
    {
     "data": {
      "text/plain": [
       "['Zsyto ',\n",
       " 'bluemaker ',\n",
       " 'World Wear Footwear ',\n",
       " 'CALCADOS ',\n",
       " 'bluemaker ',\n",
       " 'SPARX ',\n",
       " 'Zixer ',\n",
       " 'Vedboy ',\n",
       " 'HOCKWOOD ',\n",
       " 'Chevit ',\n",
       " 'DEER ROCK ',\n",
       " 'PUMA ',\n",
       " 'Airland ',\n",
       " 'SPARX ',\n",
       " 'BRUTON ',\n",
       " 'OZJI ',\n",
       " 'D-SNEAKERZ ',\n",
       " 'TR ',\n",
       " 'India hub ',\n",
       " 'PUMA ',\n",
       " 'Birde ',\n",
       " 'HOTSTYLE ',\n",
       " 'Robbie jones ',\n",
       " 'jootiyapa ',\n",
       " 'STRANGER BROTHERS ',\n",
       " 'SPARX ',\n",
       " 'FILA ',\n",
       " 'PUMA ',\n",
       " 'SPARX ',\n",
       " 'PUMA ',\n",
       " 'Zsyto ',\n",
       " 'PUMA ',\n",
       " 'Robbie jones ',\n",
       " 'SHOEFLY ',\n",
       " 'SPARX ',\n",
       " 'SUSON ',\n",
       " 'Axter ',\n",
       " 'kardam&sons ',\n",
       " 'Absolute comfort ',\n",
       " 'PUMA ',\n",
       " 'SPARX ',\n",
       " 'WRIZT ',\n",
       " 'Fzzirok ',\n",
       " 'DUCATI ',\n",
       " 'BRUTON ',\n",
       " 'Chevit ',\n",
       " 'Zorth ',\n",
       " 'Numenzo ',\n",
       " 'Zsyto ',\n",
       " 'REEBOK ',\n",
       " 'SPARX ',\n",
       " 'Echor ',\n",
       " 'HOTSTYLE ',\n",
       " 'Ktiz ',\n",
       " 'World Wear Footwear ',\n",
       " 'TR ',\n",
       " 'Magnolia ',\n",
       " '3SIX5 ',\n",
       " 'Absolute comfort ',\n",
       " 'Echor ',\n",
       " 'ESSENCE ',\n",
       " 'STRANGER BROTHERS ',\n",
       " 'Robbie jones ',\n",
       " 'Next INN ',\n",
       " 'kardam&sons ',\n",
       " 'SPARX ',\n",
       " 'T-ROCK ',\n",
       " 'Chevit ',\n",
       " 'Arohi ',\n",
       " 'Chevit ',\n",
       " 'D-SNEAKERZ ',\n",
       " 'bluemaker ',\n",
       " 'HOCKWOOD ',\n",
       " 'Zsyto ',\n",
       " 'BRUTON ',\n",
       " 'DUCATI ',\n",
       " 'ASIAN ',\n",
       " 'ALAN COSTO ',\n",
       " 'ESSENCE ',\n",
       " 'bluemaker ',\n",
       " 'SPARX ',\n",
       " 'WRIZT ',\n",
       " 'Fzzirok ',\n",
       " 'DUCATI ',\n",
       " 'BRUTON ',\n",
       " 'Chevit ',\n",
       " 'Zorth ',\n",
       " 'Numenzo ',\n",
       " 'Zsyto ',\n",
       " 'REEBOK ',\n",
       " 'SPARX ',\n",
       " 'Echor ',\n",
       " 'HOTSTYLE ',\n",
       " 'Ktiz ',\n",
       " 'World Wear Footwear ',\n",
       " 'TR ',\n",
       " 'Magnolia ',\n",
       " '3SIX5 ',\n",
       " 'Absolute comfort ',\n",
       " 'Echor ']"
      ]
     },
     "execution_count": 790,
     "metadata": {},
     "output_type": "execute_result"
    }
   ],
   "source": [
    "sneakers_brand"
   ]
  },
  {
   "cell_type": "code",
   "execution_count": 791,
   "id": "7a7f9210-58c2-44ee-850c-b9170a760661",
   "metadata": {},
   "outputs": [
    {
     "data": {
      "text/plain": [
       "100"
      ]
     },
     "execution_count": 791,
     "metadata": {},
     "output_type": "execute_result"
    }
   ],
   "source": [
    "len(sneakers_brand)"
   ]
  },
  {
   "cell_type": "code",
   "execution_count": 792,
   "id": "8c14013e-0b60-4523-8d51-405bf7b32c32",
   "metadata": {},
   "outputs": [],
   "source": [
    "## let's product description\n",
    "\n",
    "\n",
    "prodc_desc=[]\n",
    "for oli in sneak_url_100:\n",
    "    driver.get(oli)\n",
    "    produc= driver.find_elements_by_xpath('//span[@class=\"B_NuCI\"]')\n",
    "    for x in produc:\n",
    "        prodc_desc.append(x.text)\n",
    "    time.sleep(2)\n"
   ]
  },
  {
   "cell_type": "code",
   "execution_count": 793,
   "id": "0ad5f3a6-84a4-4cbd-8841-d7a9a9efb7a1",
   "metadata": {},
   "outputs": [
    {
     "data": {
      "text/plain": [
       "['Sneakers For Men  (White)',\n",
       " 'casual shoe for men Sneakers For Men  (Black)',\n",
       " 'Combo Pack of 4 Latest Collection Stylish Casual Loafer Sneakers Shoes Sneakers For Men  (Multicolor)',\n",
       " 'Relaxed Attractive Combo pack of 3 Sneakers For Men  (Green, Yellow, Orange)',\n",
       " 'casual for men (black 08) Sneakers For Men  (Black)',\n",
       " 'SM-482 Sneakers For Men  (Black, Red)',\n",
       " 'Shoes For Boys Dance shoes Sneakers For Men  (Multicolor)',\n",
       " 'Sneakers For Men  8) Sneakers For Men  (White)',\n",
       " 'Street Smart Sneakers For Men  (White, Black)',\n",
       " 'Stylish & Unique Design Combo Pack of 02 Shoes for Men Casual Sneakers & Outdoor Walking Shoes for Men Sport Shoes for Men Running Gym Cycling & Trekking Rock Climbing Shoes for Men Sneakers For Men  (White, Grey)',\n",
       " 'Sneakers For Men  (Black)',\n",
       " 'Deco IDP Sneakers For Men  (Blue)',\n",
       " 'shoe Sneakers For Men  (Red)',\n",
       " 'SM-162 Sneakers For Men  (Black)',\n",
       " 'Combo Pack of 5 Casual Sneakers With Sneakers For Men  (Multicolor)',\n",
       " 'Sneakers For Men  (White)',\n",
       " \"Casual , Partywear Sneakers Shoes For Men's And Boys Red Color Sneakers For Men  (Red)\",\n",
       " 'Sneakers For Men  (White)',\n",
       " 'Fashionable casual sneakers shoes Sneakers For Men  (Black)',\n",
       " 'Smash v2 Sneakers For Men  (Black)',\n",
       " 'Combo Pack of 2 Casual Shoes Sneakers For Men  (Black, Grey)',\n",
       " 'Sneakers Sneakers For Men  (Grey)',\n",
       " 'Casual Sneakers Green Shoes For Men And Boys Sneakers For Men  (White)',\n",
       " 'Black Boxer Sneakers For Men  (Black)',\n",
       " 'Sneakers For Men  (White, Brown)',\n",
       " 'SPARX SD0323G Sneakers For Men  (White, Black)',\n",
       " 'MESTO Sneakers For Men  (Black)',\n",
       " 'Scuderia Ferrari Race RS-X Sneakers For Men  (White)',\n",
       " 'Men White Sneakers Sneakers For Men  (White)',\n",
       " 'Simha IDP Sneakers For Men  (Black)',\n",
       " 'Casual sneaker shoes for men Sneakers For Men  (White)',\n",
       " 'Puma Smash Vulc Sneakers For Men  (Black)',\n",
       " 'Casual Sneakers White Shoes For Men And Boys Sneakers For Men  (White, Black)',\n",
       " 'Combo Pack of 4 Casual Shoes For Men Sneakers For Men  (Multicolor)',\n",
       " 'SD-323 Sneakers For Men  (White, Black)',\n",
       " 'Gym/Walking/Running Sneakers For Men  (Red)',\n",
       " 'Combo Pack of 2 New Fashion Casual Loafers Sneakers Sneakers For Men  (Multicolor)',\n",
       " \"Karda Casual Sneakers and Gym Shoes for Men's and Boys White Color Sneakers Sneakers For Men  (White)\",\n",
       " 'COMBO-PACK-(3)-SNEAKER-WRBT Sneakers For Men  (White, Red, Blue)',\n",
       " 'Trackracer 2.0 IDP Sneakers For Men  (Blue)',\n",
       " 'SM439G Sneakers For Men  (White)',\n",
       " 'Casual Sneakers,dancing, walking Sneakers For Men  (White, Black)',\n",
       " 'Premium quality Sneakers For Men  (Blue)',\n",
       " 'Sneakers For Men  (Grey)',\n",
       " 'Combo Pack Of 4 Casual Sneakers For Men  (Multicolor)',\n",
       " 'Perfect & Affordable Combo Pack of 02 Pairs Sneakers Outdoor Loafer Sports for Running Rock Climbing Gym Shoes Sneakers For Men  (Black, Grey)',\n",
       " 'New Fashion Outdoor Trendy Lightweight Casual,Canvas Stylish Partywear Sneakers Shoes Boys Sneakers For Men  (Black)',\n",
       " 'Sneakers For Men  (Black)',\n",
       " 'Sneakers For Men  (White, Black)',\n",
       " 'TREAD LITE LUX Sneakers For Men  (Black)',\n",
       " 'SM-322 Sneakers For Men  (Black, Grey)',\n",
       " 'shoes for boys Sneakers For Men  (Multicolor)',\n",
       " 'Sneakers Sneakers For Men  (Black)',\n",
       " 'Rockstyle Trending Multicolor Ultralight canvas Sport/ Training Lace-up Morning / Evening walk Dating Running Shoes For Men | sports shoes for men | Latest Stylish Casual sneakers for men | Lace up lightweight shoes for running, walking, gym, trekking, hiking & party Sneakers For Men  (Grey, Orange)',\n",
       " 'Men 5014 Latest Collection Stylish Casual Sports Loafers Shoes Sneakers Shoes Sneakers For Men  (Brown, Blue)',\n",
       " 'Sneakers For Men  (Multicolor)',\n",
       " 'White Sneakers Sneakers For Men  (White)',\n",
       " 'Sneakers For Men  (White)',\n",
       " 'REDT Sneakers For Men  (Red)',\n",
       " 'Trend Sneakers For Men  (Black)',\n",
       " 'Trendy Sneakers For Men  (Blue, Black)',\n",
       " 'Sneakers For Men  (White, Black)',\n",
       " 'Casual Sneakers Green Shoes For Men And Boys Sneakers For Men  (White)',\n",
       " 'Sneakers For Men  (White)',\n",
       " 'Fashionable casual sneaker shoes Sneakers For Men  (White)',\n",
       " 'SM-162 Sneakers For Men  (Black)',\n",
       " 'Synthetic Leather Casual Sneakers Shoes For Men Sneakers For Men  (Black)',\n",
       " 'Affordable Combo Pack of 03 Pairs Sneakers Outdoor Loafer Sports for Running Rock Climbing Gym Shoes Sneakers For Men  (Orange, Black, Blue)',\n",
       " 'Sneakers For Men  (White)',\n",
       " 'Combo Pack of 4 Casual Sneakers With Sneakers For Men  (Multicolor)',\n",
       " \"Casual , Partywear Sneakers Shoes For Men's And Boys White Color Sneakers For Men  (White)\",\n",
       " 'casual for men (beige 10) Sneakers For Men  (Beige)',\n",
       " 'Street Smart Sneakers For Men  (White)',\n",
       " 'Sneakers For Men  (Black)',\n",
       " 'Combo Pack of 2 Casual Shoes Sneakers For Men  (Multicolor)',\n",
       " 'Sneakers For Men  (Navy)',\n",
       " 'Skypy-31 Walking Shoes,Training Shoes,Sneakers,Loafers,Canvas Shoes,Casual Shoes,Sneakers Sneakers For Men  (Grey)',\n",
       " \"Men's Casual Shoes in White Color Walking Running Gymwear Sports Sneakers for Daily use Outdoors For Men Sneakers For Men  (White)\",\n",
       " 'Trendy Sneakers For Men  (Blue, Black)',\n",
       " 'Sneakers For Men  (Black)',\n",
       " 'SM439G Sneakers For Men  (White)',\n",
       " 'Casual Sneakers,dancing, walking Sneakers For Men  (White, Black)',\n",
       " 'Premium quality Sneakers For Men  (Blue)',\n",
       " 'Sneakers For Men  (Grey)',\n",
       " 'Combo Pack Of 4 Casual Sneakers For Men  (Multicolor)',\n",
       " 'Perfect & Affordable Combo Pack of 02 Pairs Sneakers Outdoor Loafer Sports for Running Rock Climbing Gym Shoes Sneakers For Men  (Black, Grey)',\n",
       " 'New Fashion Outdoor Trendy Lightweight Casual,Canvas Stylish Partywear Sneakers Shoes Boys Sneakers For Men  (Black)',\n",
       " 'Sneakers For Men  (Black)',\n",
       " 'Sneakers For Men  (White, Black)',\n",
       " 'TREAD LITE LUX Sneakers For Men  (Black)',\n",
       " 'SM-322 Sneakers For Men  (Black, Grey)',\n",
       " 'shoes for boys Sneakers For Men  (Multicolor)',\n",
       " 'Sneakers Sneakers For Men  (Black)',\n",
       " 'Rockstyle Trending Multicolor Ultralight canvas Sport/ Training Lace-up Morning / Evening walk Dating Running Shoes For Men | sports shoes for men | Latest Stylish Casual sneakers for men | Lace up lightweight shoes for running, walking, gym, trekking, hiking & party Sneakers For Men  (Grey, Orange)',\n",
       " 'Men 5014 Latest Collection Stylish Casual Sports Loafers Shoes Sneakers Shoes Sneakers For Men  (Brown, Blue)',\n",
       " 'Sneakers For Men  (Multicolor)',\n",
       " 'White Sneakers Sneakers For Men  (White)',\n",
       " 'Sneakers For Men  (White)',\n",
       " 'REDT Sneakers For Men  (Red)',\n",
       " 'Trend Sneakers For Men  (Black)']"
      ]
     },
     "execution_count": 793,
     "metadata": {},
     "output_type": "execute_result"
    }
   ],
   "source": [
    "prodc_desc"
   ]
  },
  {
   "cell_type": "code",
   "execution_count": 794,
   "id": "f89953a3-fe24-416d-aea1-fc64e1328475",
   "metadata": {},
   "outputs": [
    {
     "data": {
      "text/plain": [
       "100"
      ]
     },
     "execution_count": 794,
     "metadata": {},
     "output_type": "execute_result"
    }
   ],
   "source": [
    "len(prodc_desc)"
   ]
  },
  {
   "cell_type": "code",
   "execution_count": 795,
   "id": "9dd1fb97-b1f1-4019-b66b-0be0aa17b06e",
   "metadata": {},
   "outputs": [],
   "source": [
    "## let's find the sneaker prices\n",
    "prodc_price=[]\n",
    "for oli in sneak_url_100:\n",
    "    driver.get(oli)\n",
    "    pro_price= driver.find_elements_by_xpath('//div[@class=\"_30jeq3 _16Jk6d\"]')\n",
    "    for x in pro_price:\n",
    "        prodc_price.append(x.text)\n",
    "    time.sleep(2)\n",
    "\n"
   ]
  },
  {
   "cell_type": "code",
   "execution_count": 796,
   "id": "faea52e7-7bf7-4cc3-a8e5-6ea8b820d501",
   "metadata": {},
   "outputs": [
    {
     "data": {
      "text/plain": [
       "100"
      ]
     },
     "execution_count": 796,
     "metadata": {},
     "output_type": "execute_result"
    }
   ],
   "source": [
    "len(prodc_price)"
   ]
  },
  {
   "cell_type": "code",
   "execution_count": null,
   "id": "ca027909-1692-4fff-9a32-1207bcde7cbc",
   "metadata": {},
   "outputs": [],
   "source": [
    "prodc_price"
   ]
  },
  {
   "cell_type": "code",
   "execution_count": 797,
   "id": "19501abb-910e-42c5-a376-1c3fe9974104",
   "metadata": {},
   "outputs": [],
   "source": [
    "## let's find the sneaker discount\n",
    "prodc_discount=[]\n",
    "for oli in sneak_url_100:\n",
    "    driver.get(oli)\n",
    "    pro_discount= driver.find_elements_by_xpath('//div[@class=\"_3Ay6Sb _31Dcoz pZkvcx\"]//span')\n",
    "    for x in pro_discount:\n",
    "        prodc_discount.append(x.text)\n",
    "    time.sleep(2)\n"
   ]
  },
  {
   "cell_type": "code",
   "execution_count": 798,
   "id": "e40ee221-6c38-4d1e-96fd-660107f0691a",
   "metadata": {},
   "outputs": [
    {
     "data": {
      "text/plain": [
       "100"
      ]
     },
     "execution_count": 798,
     "metadata": {},
     "output_type": "execute_result"
    }
   ],
   "source": [
    "len(prodc_discount)"
   ]
  },
  {
   "cell_type": "code",
   "execution_count": null,
   "id": "c93e851f-8700-41a7-afbf-37857ad4927a",
   "metadata": {},
   "outputs": [],
   "source": [
    "prodc_discount"
   ]
  },
  {
   "cell_type": "code",
   "execution_count": 800,
   "id": "d99213df-2c8c-4bd6-b675-428cb0defff7",
   "metadata": {},
   "outputs": [],
   "source": [
    "data_f = pd.DataFrame({})"
   ]
  },
  {
   "cell_type": "code",
   "execution_count": 801,
   "id": "eefb050f-05e5-4e49-929f-4fe4df333198",
   "metadata": {},
   "outputs": [
    {
     "data": {
      "text/html": [
       "<div>\n",
       "<style scoped>\n",
       "    .dataframe tbody tr th:only-of-type {\n",
       "        vertical-align: middle;\n",
       "    }\n",
       "\n",
       "    .dataframe tbody tr th {\n",
       "        vertical-align: top;\n",
       "    }\n",
       "\n",
       "    .dataframe thead th {\n",
       "        text-align: right;\n",
       "    }\n",
       "</style>\n",
       "<table border=\"1\" class=\"dataframe\">\n",
       "  <thead>\n",
       "    <tr style=\"text-align: right;\">\n",
       "      <th></th>\n",
       "      <th>Band</th>\n",
       "      <th>Product_Description</th>\n",
       "      <th>Product_Price</th>\n",
       "      <th>Product_discount</th>\n",
       "    </tr>\n",
       "  </thead>\n",
       "  <tbody>\n",
       "    <tr>\n",
       "      <th>0</th>\n",
       "      <td>Zsyto</td>\n",
       "      <td>Sneakers For Men  (White)</td>\n",
       "      <td>₹398</td>\n",
       "      <td>69% off</td>\n",
       "    </tr>\n",
       "    <tr>\n",
       "      <th>1</th>\n",
       "      <td>bluemaker</td>\n",
       "      <td>casual shoe for men Sneakers For Men  (Black)</td>\n",
       "      <td>₹449</td>\n",
       "      <td>55% off</td>\n",
       "    </tr>\n",
       "    <tr>\n",
       "      <th>2</th>\n",
       "      <td>World Wear Footwear</td>\n",
       "      <td>Combo Pack of 4 Latest Collection Stylish Casu...</td>\n",
       "      <td>₹499</td>\n",
       "      <td>81% off</td>\n",
       "    </tr>\n",
       "    <tr>\n",
       "      <th>3</th>\n",
       "      <td>CALCADOS</td>\n",
       "      <td>Relaxed Attractive Combo pack of 3 Sneakers Fo...</td>\n",
       "      <td>₹649</td>\n",
       "      <td>56% off</td>\n",
       "    </tr>\n",
       "    <tr>\n",
       "      <th>4</th>\n",
       "      <td>bluemaker</td>\n",
       "      <td>casual for men (black 08) Sneakers For Men  (B...</td>\n",
       "      <td>₹449</td>\n",
       "      <td>55% off</td>\n",
       "    </tr>\n",
       "    <tr>\n",
       "      <th>...</th>\n",
       "      <td>...</td>\n",
       "      <td>...</td>\n",
       "      <td>...</td>\n",
       "      <td>...</td>\n",
       "    </tr>\n",
       "    <tr>\n",
       "      <th>95</th>\n",
       "      <td>TR</td>\n",
       "      <td>Sneakers For Men  (Multicolor)</td>\n",
       "      <td>₹599</td>\n",
       "      <td>70% off</td>\n",
       "    </tr>\n",
       "    <tr>\n",
       "      <th>96</th>\n",
       "      <td>Magnolia</td>\n",
       "      <td>White Sneakers Sneakers For Men  (White)</td>\n",
       "      <td>₹348</td>\n",
       "      <td>65% off</td>\n",
       "    </tr>\n",
       "    <tr>\n",
       "      <th>97</th>\n",
       "      <td>3SIX5</td>\n",
       "      <td>Sneakers For Men  (White)</td>\n",
       "      <td>₹465</td>\n",
       "      <td>59% off</td>\n",
       "    </tr>\n",
       "    <tr>\n",
       "      <th>98</th>\n",
       "      <td>Absolute comfort</td>\n",
       "      <td>REDT Sneakers For Men  (Red)</td>\n",
       "      <td>₹189</td>\n",
       "      <td>62% off</td>\n",
       "    </tr>\n",
       "    <tr>\n",
       "      <th>99</th>\n",
       "      <td>Echor</td>\n",
       "      <td>Trend Sneakers For Men  (Black)</td>\n",
       "      <td>₹499</td>\n",
       "      <td>50% off</td>\n",
       "    </tr>\n",
       "  </tbody>\n",
       "</table>\n",
       "<p>100 rows × 4 columns</p>\n",
       "</div>"
      ],
      "text/plain": [
       "                    Band                                Product_Description  \\\n",
       "0                 Zsyto                           Sneakers For Men  (White)   \n",
       "1             bluemaker       casual shoe for men Sneakers For Men  (Black)   \n",
       "2   World Wear Footwear   Combo Pack of 4 Latest Collection Stylish Casu...   \n",
       "3              CALCADOS   Relaxed Attractive Combo pack of 3 Sneakers Fo...   \n",
       "4             bluemaker   casual for men (black 08) Sneakers For Men  (B...   \n",
       "..                   ...                                                ...   \n",
       "95                   TR                      Sneakers For Men  (Multicolor)   \n",
       "96             Magnolia            White Sneakers Sneakers For Men  (White)   \n",
       "97                3SIX5                           Sneakers For Men  (White)   \n",
       "98     Absolute comfort                        REDT Sneakers For Men  (Red)   \n",
       "99                Echor                     Trend Sneakers For Men  (Black)   \n",
       "\n",
       "   Product_Price Product_discount  \n",
       "0           ₹398          69% off  \n",
       "1           ₹449          55% off  \n",
       "2           ₹499          81% off  \n",
       "3           ₹649          56% off  \n",
       "4           ₹449          55% off  \n",
       "..           ...              ...  \n",
       "95          ₹599          70% off  \n",
       "96          ₹348          65% off  \n",
       "97          ₹465          59% off  \n",
       "98          ₹189          62% off  \n",
       "99          ₹499          50% off  \n",
       "\n",
       "[100 rows x 4 columns]"
      ]
     },
     "execution_count": 801,
     "metadata": {},
     "output_type": "execute_result"
    }
   ],
   "source": [
    "data_f['Band'] = sneakers_brand\n",
    "data_f['Product_Description'] = prodc_desc\n",
    "data_f['Product_Price'] = prodc_price\n",
    "data_f['Product_discount'] = prodc_discount\n",
    "data_f"
   ]
  },
  {
   "cell_type": "markdown",
   "id": "854a3f9f-6623-46c4-89b1-4d16dd069091",
   "metadata": {},
   "source": [
    "### ******************************************\n"
   ]
  },
  {
   "cell_type": "markdown",
   "id": "4032b330-27d5-44bf-b01b-32b6e940e2cb",
   "metadata": {},
   "source": [
    "### __Q9: Go to the link - https://www.myntra.com/shoes__\n",
    "### __Set Price filter to “Rs. 6649 to Rs. 13099” , Color filter to “Black”, as shown in the below image__"
   ]
  },
  {
   "cell_type": "markdown",
   "id": "dd924ccb-7715-4e95-951d-0990b025dfed",
   "metadata": {},
   "source": [
    "#### And then scrape First 100 shoes data you get. The data should include “Brand” of the shoes ,\n",
    "#### Short Shoe description, price of the shoe as shown in the below image.\n",
    "#### Please note that applying the filter and scraping the data ,\n",
    "#### everything should be done through code only and there should not be any manual step."
   ]
  },
  {
   "cell_type": "markdown",
   "id": "80279208-fc3f-4642-a848-221bc31e15fa",
   "metadata": {},
   "source": [
    "![](9.jpg)"
   ]
  },
  {
   "cell_type": "code",
   "execution_count": 802,
   "id": "ac63baef-4825-444f-886d-3567d738cfc7",
   "metadata": {},
   "outputs": [],
   "source": [
    "## let's get the website url\n",
    "shoes_url ='https://www.myntra.com/shoes'\n"
   ]
  },
  {
   "cell_type": "code",
   "execution_count": 803,
   "id": "7ab94d01-7f92-472d-8206-9eb262f69a4c",
   "metadata": {},
   "outputs": [],
   "source": [
    "driver.get(url=shoes_url)"
   ]
  },
  {
   "cell_type": "code",
   "execution_count": 809,
   "id": "13cb1985-7de4-49ff-8390-0eaf1d0f4c1d",
   "metadata": {},
   "outputs": [],
   "source": [
    "black_checkbox = driver.find_element_by_xpath('/html/body/div[2]/div/div[1]/main/div[3]/div[1]/section/div/div[6]/ul/li[1]/label/div')"
   ]
  },
  {
   "cell_type": "code",
   "execution_count": 810,
   "id": "7a5242a3-b599-45c4-bdac-e5f85f8c60b6",
   "metadata": {},
   "outputs": [],
   "source": [
    "black_checkbox.click()"
   ]
  },
  {
   "cell_type": "code",
   "execution_count": 811,
   "id": "0e13c6ca-9f54-4fd0-8f83-e72d7bd56d9d",
   "metadata": {},
   "outputs": [],
   "source": [
    "price_checkbox = driver.find_element_by_xpath('//*[@id=\"mountRoot\"]/div/div[1]/main/div[3]/div[1]/section/div/div[5]/ul/li[2]/label/div')"
   ]
  },
  {
   "cell_type": "code",
   "execution_count": 812,
   "id": "3de5a9b8-ab94-4f25-82a9-f1c0da473269",
   "metadata": {},
   "outputs": [],
   "source": [
    "price_checkbox.click()"
   ]
  },
  {
   "cell_type": "code",
   "execution_count": null,
   "id": "a2564840-49a8-4df2-95c4-0c7828596a4c",
   "metadata": {},
   "outputs": [],
   "source": [
    "\n",
    "\n"
   ]
  },
  {
   "cell_type": "code",
   "execution_count": null,
   "id": "23f33126-a9b8-4faa-913e-2d42fbe4b7cd",
   "metadata": {},
   "outputs": [],
   "source": []
  },
  {
   "cell_type": "code",
   "execution_count": 817,
   "id": "c402a1c3-e61f-4b5c-96b4-575d0789ea84",
   "metadata": {},
   "outputs": [],
   "source": [
    "## let's get the first 100 shoes urls\n",
    "shoes_links = []\n",
    "for i in range(1,3):\n",
    "    links = driver.find_elements_by_xpath('//li[@class=\"product-base\"]//a')\n",
    "    for i in links:\n",
    "        shoes_links.append(i.get_attribute('href'))\n",
    "    next_button = driver.find_element_by_xpath('//li[@class=\"pagination-next\"]')\n",
    "    next_button.click()\n",
    "    time.sleep(2)"
   ]
  },
  {
   "cell_type": "code",
   "execution_count": 818,
   "id": "81409cd6-d805-40c6-8acd-96975d8aa8ae",
   "metadata": {},
   "outputs": [
    {
     "data": {
      "text/plain": [
       "100"
      ]
     },
     "execution_count": 818,
     "metadata": {},
     "output_type": "execute_result"
    }
   ],
   "source": [
    "len(shoes_links)"
   ]
  },
  {
   "cell_type": "code",
   "execution_count": 819,
   "id": "e8b4f1a0-d43b-4563-a95d-8d493eb7005b",
   "metadata": {},
   "outputs": [
    {
     "data": {
      "text/plain": [
       "['https://www.myntra.com/sports-shoes/reebok/reebok-men-black-mesh-road-running-shoes/14137570/buy',\n",
       " 'https://www.myntra.com/flats/birkenstock/birkenstock-women-black--grey-open-toe-flats/14022972/buy',\n",
       " 'https://www.myntra.com/sports-shoes/adidas/adidas-men-black-textile-tennis-non-marking-shoes/14609284/buy',\n",
       " 'https://www.myntra.com/casual-shoes/adidas-originals/adidas-originals-women-black-woven-design-nmdr1-sneakers/12709304/buy',\n",
       " 'https://www.myntra.com/sports-shoes/nike/nike-unisex-black-kyrie-flytrap-iv-ep-mid-top-basketball-shoes/13327892/buy',\n",
       " 'https://www.myntra.com/sports-shoes/nike/nike-unisex-black-kyrie-flytrap-iv-ep-basketball-shoes/13885982/buy',\n",
       " 'https://www.myntra.com/sports-shoes/adidas/adidas-men-black/14023204/buy',\n",
       " 'https://www.myntra.com/casual-shoes/adidas-originals/adidas-originals-men-black-colourblocked-zx-torsion-sneakers/10394587/buy',\n",
       " 'https://www.myntra.com/casual-shoes/reebok-classic/reebok-classic-unisex-black--red-answer-v-colourblocked-sneakers/10234063/buy',\n",
       " 'https://www.myntra.com/sports-shoes/puma/puma-men-black--green-one-1-il-lth-fgag-football-shoes/7252473/buy',\n",
       " 'https://www.myntra.com/formal-shoes/heel--buckle-london/heel--buckle-london-men-black-solid-leather-formal-slip-ons/12940984/buy',\n",
       " 'https://www.myntra.com/formal-shoes/clarks/clarks-men-black-solid-leather-formal-brogues/11453490/buy',\n",
       " 'https://www.myntra.com/heels/saint-g/saint-g-women-black-solid-leather-heeled-boots/5345818/buy',\n",
       " 'https://www.myntra.com/sports-shoes/puma/puma-men-black-textile-football-future-61-netfit-fg-ag-shoes/12188036/buy',\n",
       " 'https://www.myntra.com/casual-shoes/aldo/aldo-women-black-colourblocked-casual-sneakers-/14086066/buy',\n",
       " 'https://www.myntra.com/heels/aldo/aldo-women-black-solid-block-heels/13925860/buy',\n",
       " 'https://www.myntra.com/flats/cole-haan/cole-haan-women-black-solid-leather-ballerinas/13077822/buy',\n",
       " 'https://www.myntra.com/heels/clarks/clarks-women-black-solid-heeled-leather-boots/11133390/buy',\n",
       " 'https://www.myntra.com/flats/birkenstock/birkenstock-women-black--brown-snakeskin-print-leather-open-toe-flats/14599090/buy',\n",
       " 'https://www.myntra.com/formal-shoes/jfontini/jfontini-men-black-solid-leather-formal-slip-ons/12682184/buy',\n",
       " 'https://www.myntra.com/heels/naturalizer/naturalizer-women-black-solid-leather-block-heels/12988298/buy',\n",
       " 'https://www.myntra.com/formal-shoes/heel--buckle-london/heel--buckle-london-men-black-solid-slip-on-shoes/13466640/buy',\n",
       " 'https://www.myntra.com/casual-shoes/cole-haan/cole-haan-women-black-leather-sneakers/8199631/buy',\n",
       " 'https://www.myntra.com/casual-shoes/onitsuka-tiger/onitsuka-tiger-big-logo-trainer/10393379/buy',\n",
       " 'https://www.myntra.com/sports-shoes/asics/asics-women-black-synthetic-novablast-running-shoes/12368664/buy',\n",
       " 'https://www.myntra.com/casual-shoes/diesel/skb-s-kb-elastic-black-casual-sneakers/7941445/buy',\n",
       " 'https://www.myntra.com/sports-shoes/adidas/adidas-women-black-woven-design-sl20-running-shoes/13444346/buy',\n",
       " 'https://www.myntra.com/formal-shoes/kenneth-cole/kenneth-cole-men-black-solid-leather-formal-loafers/12651384/buy',\n",
       " 'https://www.myntra.com/sports-shoes/adidas/adidas-men-black-solid-x9000l1-running-shoes/13445036/buy',\n",
       " 'https://www.myntra.com/heels/steve-madden/steve-madden-women-black-solid-mid-top-leather-heels/10355217/buy',\n",
       " 'https://www.myntra.com/formal-shoes/davinchi/davinchi-men-black-textured-formal-leather-slip-on-shoes/13376944/buy',\n",
       " 'https://www.myntra.com/casual-shoes/vanilla-moon/vanilla-moon-women-black-leather-derbys/12875414/buy',\n",
       " 'https://www.myntra.com/formal-shoes/kenneth-cole/kenneth-cole-men-black-solid-leather-formal-derbys/12599534/buy',\n",
       " 'https://www.myntra.com/casual-shoes/jfontini/jfontini-men-black-solid-leather-loafers/12681344/buy',\n",
       " 'https://www.myntra.com/casual-shoes/onitsuka-tiger/onitsuka-tiger-unisex-black-ohbori-sneakers/12393506/buy',\n",
       " 'https://www.myntra.com/heels/saint-g/saint-g-women-black-solid-leather-heeled-boots/11209368/buy',\n",
       " 'https://www.myntra.com/formal-shoes/heel--buckle-london/heel--buckle-london-men-black-solid-leather-monk-shoes/10878260/buy',\n",
       " 'https://www.myntra.com/formal-shoes/aldo/aldo-men-black-leather-semiformal-slip-ons/2479712/buy',\n",
       " 'https://www.myntra.com/sports-shoes/puma/puma-men-black-ultraride-running-shoes/13483780/buy',\n",
       " 'https://www.myntra.com/sports-shoes/nike/nike-men-black-zoom-freak-2-basketball-shoes/13327926/buy',\n",
       " 'https://www.myntra.com/sports-shoes/reebok/reebok-unisex-black--grey-textured-zig-kinetica-ii-running-shoes/13426992/buy',\n",
       " 'https://www.myntra.com/sports-shoes/nike/nike-men-black-react-miler-prm-running-shoes/13327968/buy',\n",
       " 'https://www.myntra.com/sports-shoes/adidas/adidas-unisex-black--grey-harden-stepback-2-basketball-shoes/13444942/buy',\n",
       " 'https://www.myntra.com/sports-shoes/nike/nike-men-black--yellow-joyride-running-shoes/11979996/buy',\n",
       " 'https://www.myntra.com/sports-shoes/under-armour/under-armour-men-black-solid-hovr-strt-walking-shoes/11373590/buy',\n",
       " 'https://www.myntra.com/casual-shoes/aldo/aldo-men-black-solid-leather-driving-shoes/12668062/buy',\n",
       " 'https://www.myntra.com/casual-shoes/adidas-originals/adidas-originals-men-black-zx-2k-boost-solid-sneakers/12031868/buy',\n",
       " 'https://www.myntra.com/casual-shoes/onitsuka-tiger/onitsuka-tiger-unisex-black-mexico-66-striped-slip-on-sneakers/13140532/buy',\n",
       " 'https://www.myntra.com/casual-shoes/nike/nike-men-black-solid-skyve-max-sneakers/11980126/buy',\n",
       " 'https://www.myntra.com/heels/aldo/aldo-women-black-solid-sandals/14099416/buy',\n",
       " 'https://www.myntra.com/casual-shoes/adidas-originals/adidas-originals-men-black--white-solid-nmdr1-sneakers/12031866/buy',\n",
       " 'https://www.myntra.com/casual-shoes/adidas-originals/adidas-originals-men-black-ozweego-solid-sneakers/12031804/buy',\n",
       " 'https://www.myntra.com/sports-shoes/adidas/adidas-unisex-black--white-pro-boost-mid-basketball-shoes/14609310/buy',\n",
       " 'https://www.myntra.com/casual-shoes/fila/fila-women-black-sneakers/13127098/buy',\n",
       " 'https://www.myntra.com/formal-shoes/rosso-brunello/rosso-brunello-men-black-woven-design-leather-formal-slip-on-shoes/13382200/buy',\n",
       " 'https://www.myntra.com/formal-shoes/heel--buckle-london/heel--buckle-london-men-black-patent-leather-oxfords/13466652/buy',\n",
       " 'https://www.myntra.com/casual-shoes/adidas-originals/adidas-originals-men-black-lxcon-94-sneakers/10233869/buy',\n",
       " 'https://www.myntra.com/formal-shoes/ruosh/ruosh-work-men-black-rare-leather-textured-formal-slip-ons/2035828/buy',\n",
       " 'https://www.myntra.com/sports-shoes/puma/puma-men-black-ignite-xt-netfit-sports-training-shoes/2429700/buy',\n",
       " 'https://www.myntra.com/sports-shoes/kiprun-by-decathlon/kiprun-by-decathlon-men-black-synthetic-running-shoes/13982160/buy',\n",
       " 'https://www.myntra.com/casual-shoes/cat/cat-men-black-knox-lo-leather-casual-shoes/1494561/buy',\n",
       " 'https://www.myntra.com/formal-shoes/rosso-brunello/rosso-brunello-men-black-solid-leather-formal-slip-ons/13416728/buy',\n",
       " 'https://www.myntra.com/formal-shoes/heel--buckle-london/heel--buckle-london-men-black-solid-formal-leather-penny-loafers/10878314/buy',\n",
       " 'https://www.myntra.com/sports-shoes/nike/nike-women-black-air-zoom-pegasus-37-running-shoes/12738362/buy',\n",
       " 'https://www.myntra.com/sports-shoes/under-armour/under-armour-men-black-woven-design-charged-vantage-running-shoes/14649160/buy',\n",
       " 'https://www.myntra.com/sports-shoes/under-armour/under-armour-men-black-woven-design-charged-pursuit-2-se-running-shoes/14649136/buy',\n",
       " 'https://www.myntra.com/heels/birkenstock/birkenstock-women-black-buckle-detail-narrow-width-leather-wedges/12332102/buy',\n",
       " 'https://www.myntra.com/heels/birkenstock/birkenstock-women-black-solid--regular-width-ashley-leather-heels/12332090/buy',\n",
       " 'https://www.myntra.com/casual-shoes/clarks/clarks-men-black-solid-suede-finish-sneakers/10995578/buy',\n",
       " 'https://www.myntra.com/flats/birkenstock/birkenstock-women-black-solid-mayari-oiled-leather-one-toe-regular-width-flats/11658848/buy',\n",
       " 'https://www.myntra.com/sports-shoes/puma/puma-men-black-evoknit-ignite-ct-football-shoes/1965810/buy',\n",
       " 'https://www.myntra.com/formal-shoes/jfontini/jfontini-men-black-solid-leather-formal-loafers/13336372/buy',\n",
       " 'https://www.myntra.com/formal-shoes/davinchi/davinchi-men-black-solid-formal-leather-slip-on-shoes/13220624/buy',\n",
       " 'https://www.myntra.com/heels/naturalizer/naturalizer-women-black-solid-leather-peep-toes/13160662/buy',\n",
       " 'https://www.myntra.com/casual-shoes/vanilla-moon/vanilla-moon-women-black-textured-leather-mid-top-driving-shoes/13098110/buy',\n",
       " 'https://www.myntra.com/casual-shoes/skechers/skechers-men-black-woven-design-hardee-casual-shoes/8886165/buy',\n",
       " 'https://www.myntra.com/casual-shoes/puma/puma-women-black--brown-colourblocked-rs-x-wcats-sneakers/12280968/buy',\n",
       " 'https://www.myntra.com/sports-shoes/asics/asics-women-black-novablast-running-shoes/11872304/buy',\n",
       " 'https://www.myntra.com/casual-shoes/onitsuka-tiger/onitsuka-tiger-lawnship-20/10505650/buy',\n",
       " 'https://www.myntra.com/casual-shoes/geox/geox-men-black-solid-leather-slip-on-sneakers-/10030347/buy',\n",
       " 'https://www.myntra.com/casual-shoes/puma/puma-women-black-woven-design-textile-mid-top-sneakers/8213245/buy',\n",
       " 'https://www.myntra.com/casual-shoes/timberland/black-boots/7927979/buy',\n",
       " 'https://www.myntra.com/sports-shoes/nike/nike-women-black-legend-react-3-running-shoes/11980142/buy',\n",
       " 'https://www.myntra.com/sports-shoes/nike/nike-men-black-air-zoom-pegasus-37-running-shoes/11979982/buy',\n",
       " 'https://www.myntra.com/sports-shoes/under-armour/under-armour-men-black--charcoal-grey-woven-design-liquify-rebel-running-shoes/12247306/buy',\n",
       " 'https://www.myntra.com/sports-shoes/nike/nike-men-black-kd13-ep-mid-top-basketball-shoes/11980028/buy',\n",
       " 'https://www.myntra.com/sports-shoes/skechers/skechers-men-black-go-walk-air-airflow-walking-shoes/13847962/buy',\n",
       " 'https://www.myntra.com/sports-shoes/adidas/adidas-men-black-woven-design-x9000l2-running-shoes/13444466/buy',\n",
       " 'https://www.myntra.com/casual-shoes/puma/puma-unisex-black--white-rs-fast-nano-sneakers/13486024/buy',\n",
       " 'https://www.myntra.com/sports-shoes/adidas/adidas-men-black--gold-toned-woven-design-ultraboost-40-dna-running-shoes/13444964/buy',\n",
       " 'https://www.myntra.com/casual-shoes/puma/puma-unisex-black--teal-rs-fast-futurverse-sneakers-/13486090/buy',\n",
       " 'https://www.myntra.com/casual-shoes/aldo/aldo-men-black-solid-leather-loafers/12668050/buy',\n",
       " 'https://www.myntra.com/sports-shoes/nike/nike-men-black-zoom-winflo-5-running-shoes/4330967/buy',\n",
       " 'https://www.myntra.com/sports-shoes/adidas/adidas-men-black--grey-adizero-ubersonic-3-m-tennis-shoes/14609374/buy',\n",
       " 'https://www.myntra.com/sports-shoes/nike/nike-men-black-air-zoom-pegasus-37-running-shoes/12738354/buy',\n",
       " 'https://www.myntra.com/casual-shoes/aldo/aldo-women-black-sneakers-casual-shoes/14210500/buy',\n",
       " 'https://www.myntra.com/casual-shoes/puma/puma-unisex-black--coral-solid-rs-fast-tech-sneakers/13486752/buy',\n",
       " 'https://www.myntra.com/casual-shoes/tommy-hilfiger/tommy-hilfiger-men-black-solid-leather-sneakers/13874152/buy',\n",
       " 'https://www.myntra.com/sports-shoes/nike/nike-men-black-zoom-winflo-7-running-shoes/11652600/buy',\n",
       " 'https://www.myntra.com/sports-shoes/under-armour/under-armour-men-black-hovr-strt-woven-design-sportstyle-shoes/11373578/buy']"
      ]
     },
     "execution_count": 819,
     "metadata": {},
     "output_type": "execute_result"
    }
   ],
   "source": [
    "shoes_links"
   ]
  },
  {
   "cell_type": "code",
   "execution_count": 820,
   "id": "76cba3c9-5310-4aa3-91f7-9fecfd11c2e4",
   "metadata": {},
   "outputs": [],
   "source": [
    "# let's get “Brand” of shoes \n",
    "\n",
    "brand_shoes = []\n",
    "for oli in shoes_links:\n",
    "    driver.get(oli)\n",
    "    brand_s= driver.find_elements_by_xpath('//h1[@class=\"pdp-title\"]')\n",
    "    for x in brand_s:\n",
    "        brand_shoes.append(x.text)\n",
    "    time.sleep(2)\n",
    "\n"
   ]
  },
  {
   "cell_type": "code",
   "execution_count": 821,
   "id": "43c7a830-f30c-40c0-8c3b-9b084ff67159",
   "metadata": {},
   "outputs": [
    {
     "data": {
      "text/plain": [
       "100"
      ]
     },
     "execution_count": 821,
     "metadata": {},
     "output_type": "execute_result"
    }
   ],
   "source": [
    "len(brand_shoes)"
   ]
  },
  {
   "cell_type": "code",
   "execution_count": 822,
   "id": "85aaf18a-8fe4-442d-944f-8d15897b02ea",
   "metadata": {},
   "outputs": [
    {
     "data": {
      "text/plain": [
       "['Reebok',\n",
       " 'Birkenstock',\n",
       " 'ADIDAS',\n",
       " 'ADIDAS Originals',\n",
       " 'Nike',\n",
       " 'Nike',\n",
       " 'ADIDAS',\n",
       " 'ADIDAS Originals',\n",
       " 'Reebok Classic',\n",
       " 'Puma',\n",
       " 'Heel & Buckle London',\n",
       " 'Clarks',\n",
       " 'Saint G',\n",
       " 'Puma',\n",
       " 'ALDO',\n",
       " 'ALDO',\n",
       " 'Cole Haan',\n",
       " 'Clarks',\n",
       " 'Birkenstock',\n",
       " 'J.FONTINI',\n",
       " 'Naturalizer',\n",
       " 'Heel & Buckle London',\n",
       " 'Cole Haan',\n",
       " 'Onitsuka Tiger',\n",
       " 'ASICS',\n",
       " 'DIESEL',\n",
       " 'ADIDAS',\n",
       " 'Kenneth Cole',\n",
       " 'ADIDAS',\n",
       " 'Steve Madden',\n",
       " 'DAVINCHI',\n",
       " 'Vanilla Moon',\n",
       " 'Kenneth Cole',\n",
       " 'J.FONTINI',\n",
       " 'Onitsuka Tiger',\n",
       " 'Saint G',\n",
       " 'Heel & Buckle London',\n",
       " 'ALDO',\n",
       " 'Puma',\n",
       " 'Nike',\n",
       " 'Reebok',\n",
       " 'Nike',\n",
       " 'ADIDAS',\n",
       " 'Nike',\n",
       " 'UNDER ARMOUR',\n",
       " 'ALDO',\n",
       " 'ADIDAS Originals',\n",
       " 'Onitsuka Tiger',\n",
       " 'Nike',\n",
       " 'ALDO',\n",
       " 'ADIDAS Originals',\n",
       " 'ADIDAS Originals',\n",
       " 'ADIDAS',\n",
       " 'FILA',\n",
       " 'ROSSO BRUNELLO',\n",
       " 'Heel & Buckle London',\n",
       " 'ADIDAS Originals',\n",
       " 'Ruosh',\n",
       " 'Puma',\n",
       " 'KIPRUN By Decathlon',\n",
       " 'CAT',\n",
       " 'ROSSO BRUNELLO',\n",
       " 'Heel & Buckle London',\n",
       " 'Nike',\n",
       " 'UNDER ARMOUR',\n",
       " 'UNDER ARMOUR',\n",
       " 'Birkenstock',\n",
       " 'Birkenstock',\n",
       " 'Clarks',\n",
       " 'Birkenstock',\n",
       " 'Puma',\n",
       " 'J.FONTINI',\n",
       " 'DAVINCHI',\n",
       " 'Naturalizer',\n",
       " 'Vanilla Moon',\n",
       " 'Skechers',\n",
       " 'Puma',\n",
       " 'ASICS',\n",
       " 'Onitsuka Tiger',\n",
       " 'Geox',\n",
       " 'Puma',\n",
       " 'Timberland',\n",
       " 'Nike',\n",
       " 'Nike',\n",
       " 'UNDER ARMOUR',\n",
       " 'Nike',\n",
       " 'Skechers',\n",
       " 'ADIDAS',\n",
       " 'Puma',\n",
       " 'ADIDAS',\n",
       " 'Puma',\n",
       " 'ALDO',\n",
       " 'Nike',\n",
       " 'ADIDAS',\n",
       " 'Nike',\n",
       " 'ALDO',\n",
       " 'Puma',\n",
       " 'Tommy Hilfiger',\n",
       " 'Nike',\n",
       " 'UNDER ARMOUR']"
      ]
     },
     "execution_count": 822,
     "metadata": {},
     "output_type": "execute_result"
    }
   ],
   "source": [
    "brand_shoes"
   ]
  },
  {
   "cell_type": "code",
   "execution_count": 824,
   "id": "7a331b15-6fa3-45c1-b62f-f777d34e2425",
   "metadata": {},
   "outputs": [],
   "source": [
    "# let's get the Short Shoe description\n",
    "\n",
    "shoes_desc_list = []\n",
    "for oli in shoes_links:\n",
    "    driver.get(oli)\n",
    "    shoes_descrip= driver.find_elements_by_xpath('//h1[@class=\"pdp-name\"]')\n",
    "    for x in shoes_descrip:\n",
    "        shoes_desc_list.append(x.text)\n",
    "    time.sleep(2)\n"
   ]
  },
  {
   "cell_type": "code",
   "execution_count": 825,
   "id": "8c980e62-d416-49fa-890c-5389eb7924e4",
   "metadata": {},
   "outputs": [
    {
     "data": {
      "text/plain": [
       "100"
      ]
     },
     "execution_count": 825,
     "metadata": {},
     "output_type": "execute_result"
    }
   ],
   "source": [
    "len(shoes_desc_list)"
   ]
  },
  {
   "cell_type": "code",
   "execution_count": 826,
   "id": "bcba63b9-19b9-4948-b282-43541277e9d7",
   "metadata": {},
   "outputs": [
    {
     "data": {
      "text/plain": [
       "['Men Black Mesh Road Running Shoes',\n",
       " 'Women Black & Grey Open Toe Flats',\n",
       " 'Men Black Textile Tennis Non-Marking Shoes',\n",
       " 'Women Black Woven Design NMD_R1 Sneakers',\n",
       " 'Unisex Black KYRIE FLYTRAP IV EP Mid-Top Basketball Shoes',\n",
       " 'Unisex Black KYRIE FLYTRAP IV EP Basketball Shoes',\n",
       " 'Men Black',\n",
       " 'Men Black Colourblocked ZX Torsion Sneakers',\n",
       " 'Unisex Black & Red Answer V Colourblocked Sneakers',\n",
       " 'Men Black & Green ONE 1 IL Lth FG/AG Football Shoes',\n",
       " 'Men Black Solid Leather Formal Slip-Ons',\n",
       " 'Men Black Solid Leather Formal Brogues',\n",
       " 'Women Black Solid Leather Heeled Boots',\n",
       " 'Men Black Textile Football FUTURE 6.1 NETFIT FG AG Shoes',\n",
       " 'Women Black Colourblocked Casual Sneakers',\n",
       " 'Women Black Solid Block Heels',\n",
       " 'Women Black Solid Leather Ballerinas',\n",
       " 'Women Black Solid Heeled Leather Boots',\n",
       " 'Women Black & Brown Snakeskin Print Leather Open Toe Flats',\n",
       " 'Men Black Solid Leather Formal Slip-Ons',\n",
       " 'Women Black Solid Leather Block Heels',\n",
       " 'Men Black Solid Slip-on Shoes',\n",
       " 'Women Black Leather Sneakers',\n",
       " 'Big Logo Trainer',\n",
       " 'Women Black Synthetic NOVABLAST Running Shoes',\n",
       " 'Skb S-Kb Elastic Black Casual Sneakers',\n",
       " 'Women Black Woven Design SL20 Running Shoes',\n",
       " 'Men Black Solid Leather Formal Loafers',\n",
       " 'Men Black Solid X9000L1 Running Shoes',\n",
       " 'Women Black Solid Mid-Top Leather Heels',\n",
       " 'Men Black Textured Formal Leather Slip-On Shoes',\n",
       " 'Women Black Leather Derbys',\n",
       " 'Men Black Solid Leather Formal Derbys',\n",
       " 'Men Black Solid Leather Loafers',\n",
       " 'Unisex Black Ohbori Sneakers',\n",
       " 'Women Black Solid Leather Heeled Boots',\n",
       " 'Men Black Solid Leather Monk Shoes',\n",
       " 'Men Black Leather Semiformal Slip-Ons',\n",
       " 'Men Black UltraRide Running Shoes',\n",
       " 'Men Black ZOOM FREAK 2 Basketball Shoes',\n",
       " 'Unisex Black & Grey Textured Zig Kinetica II Running Shoes',\n",
       " 'Men Black REACT MILER PRM Running Shoes',\n",
       " 'Unisex Black & Grey Harden Stepback 2 Basketball Shoes',\n",
       " 'Men Black & Yellow JOYRIDE Running Shoes',\n",
       " 'Men Black Solid HOVR Strt Walking Shoes',\n",
       " 'Men Black Solid Leather Driving Shoes',\n",
       " 'Men Black ZX 2K Boost Solid Sneakers',\n",
       " 'Unisex Black Mexico 66 Striped Slip-On Sneakers',\n",
       " 'Men Black Solid SKYVE MAX Sneakers',\n",
       " 'Women Black Solid Sandals',\n",
       " 'Men Black & White Solid NMD_R1 Sneakers',\n",
       " 'Men Black OZWEEGO Solid Sneakers',\n",
       " 'Unisex Black & White PRO BOOST Mid Basketball Shoes',\n",
       " 'Women Black Sneakers',\n",
       " 'Men Black Woven Design Leather Formal Slip-On Shoes',\n",
       " 'Men Black Patent Leather Oxfords',\n",
       " 'Men Black LXCON 94 Sneakers',\n",
       " 'Work Men Black Rare Leather Textured Formal Slip-Ons',\n",
       " 'Men Black IGNITE XT NETFIT Sports Training Shoes',\n",
       " 'Men Black Synthetic Running Shoes',\n",
       " 'Men Black Knox Lo Leather Casual Shoes',\n",
       " 'Men Black Solid Leather Formal Slip-Ons',\n",
       " 'Men Black Solid Formal Leather Penny Loafers',\n",
       " 'Women Black AIR ZOOM PEGASUS 37 Running Shoes',\n",
       " 'Men Black Woven Design Charged Vantage Running Shoes',\n",
       " 'Men Black Woven Design Charged Pursuit 2 SE Running Shoes',\n",
       " 'Women Black Buckle Detail Narrow Width Leather Wedges',\n",
       " 'Women Black Solid Regular Width Ashley Leather Heels',\n",
       " 'Men Black Solid Suede Finish Sneakers',\n",
       " 'Women Black Solid Mayari Oiled Leather One Toe Regular Width Flats',\n",
       " 'Men Black evoKNIT IGNITE CT Football Shoes',\n",
       " 'Men Black Solid Leather Formal Loafers',\n",
       " 'Men Black Solid Formal Leather Slip-On Shoes',\n",
       " 'Women Black Solid Leather Peep Toes',\n",
       " 'Women Black Textured Leather Mid-Top Driving Shoes',\n",
       " 'Men Black Woven Design Hardee Casual Shoes',\n",
       " 'Women Black & Brown Colourblocked RS-X W.Cats Sneakers',\n",
       " 'Women Black NOVABLAST Running Shoes',\n",
       " 'Lawnship 2.0',\n",
       " 'Men Black Solid Leather Slip-On Sneakers',\n",
       " 'Women Black Woven Design Textile Mid-Top Sneakers',\n",
       " 'Black Boots',\n",
       " 'Women Black Legend React 3 Running Shoes',\n",
       " 'Men Black AIR ZOOM PEGASUS 37 Running Shoes',\n",
       " 'Men Black & Charcoal Grey Woven Design Liquify Rebel Running Shoes',\n",
       " 'Men Black KD13 EP Mid-Top Basketball Shoes',\n",
       " 'Men Black GO WALK AIR-AIRFLOW Walking Shoes',\n",
       " 'Men Black Woven Design X9000L2 Running Shoes',\n",
       " 'Unisex Black & White RS-Fast Nano Sneakers',\n",
       " 'Men Black & Gold-Toned Woven Design Ultraboost 4.0 DNA Running Shoes',\n",
       " 'Unisex Black & Teal RS-FAST Futurverse Sneakers',\n",
       " 'Men Black Solid Leather Loafers',\n",
       " 'Men Black Zoom Winflo 5 Running Shoes',\n",
       " 'Men Black & Grey adizero ubersonic 3 m Tennis Shoes',\n",
       " 'Men Black AIR ZOOM PEGASUS 37 Running Shoes',\n",
       " 'Women Black Sneakers Casual Shoes',\n",
       " 'Unisex Black & Coral Solid RS-FAST TECH Sneakers',\n",
       " 'Men Black Solid Leather Sneakers',\n",
       " 'Men Black ZOOM WINFLO 7 Running Shoes',\n",
       " 'Men Black HOVR STRT Woven Design Sportstyle Shoes']"
      ]
     },
     "execution_count": 826,
     "metadata": {},
     "output_type": "execute_result"
    }
   ],
   "source": [
    "shoes_desc_list"
   ]
  },
  {
   "cell_type": "code",
   "execution_count": 827,
   "id": "d422293b-d8cb-410f-ae11-c3b16dc9aca8",
   "metadata": {},
   "outputs": [],
   "source": [
    "# let's get the Shoe prices\n",
    "\n",
    "\n",
    "shoes_prices = []\n",
    "for oli in shoes_links:\n",
    "    driver.get(oli)\n",
    "    shoes_price= driver.find_elements_by_xpath('//span[@class=\"pdp-price\"]//strong')\n",
    "    for x in shoes_price:\n",
    "        shoes_prices .append(x.text)\n",
    "    time.sleep(2)\n"
   ]
  },
  {
   "cell_type": "code",
   "execution_count": 828,
   "id": "a8544b20-86b8-46ba-83bf-a55c675fcba7",
   "metadata": {},
   "outputs": [
    {
     "data": {
      "text/plain": [
       "100"
      ]
     },
     "execution_count": 828,
     "metadata": {},
     "output_type": "execute_result"
    }
   ],
   "source": [
    "len(shoes_prices )"
   ]
  },
  {
   "cell_type": "code",
   "execution_count": 830,
   "id": "79c112d6-257c-433a-a1de-0287aceeb123",
   "metadata": {},
   "outputs": [
    {
     "data": {
      "text/plain": [
       "['Rs. 9599',\n",
       " 'Rs. 6990',\n",
       " 'Rs. 7799',\n",
       " 'Rs. 7799',\n",
       " 'Rs. 8195',\n",
       " 'Rs. 8195',\n",
       " 'Rs. 8999',\n",
       " 'Rs. 8399',\n",
       " 'Rs. 7999',\n",
       " 'Rs. 10499',\n",
       " 'Rs. 8792',\n",
       " 'Rs. 7999',\n",
       " 'Rs. 12500',\n",
       " 'Rs. 9349',\n",
       " 'Rs. 7199',\n",
       " 'Rs. 8999',\n",
       " 'Rs. 12999',\n",
       " 'Rs. 7499',\n",
       " 'Rs. 10990',\n",
       " 'Rs. 7990',\n",
       " 'Rs. 6999',\n",
       " 'Rs. 6995',\n",
       " 'Rs. 12999',\n",
       " 'Rs. 10999',\n",
       " 'Rs. 10399',\n",
       " 'Rs. 8443',\n",
       " 'Rs. 7699',\n",
       " 'Rs. 6993',\n",
       " 'Rs. 6799',\n",
       " 'Rs. 6749',\n",
       " 'Rs. 7990',\n",
       " 'Rs. 6990',\n",
       " 'Rs. 8393',\n",
       " 'Rs. 7990',\n",
       " 'Rs. 8999',\n",
       " 'Rs. 8500',\n",
       " 'Rs. 9093',\n",
       " 'Rs. 7799',\n",
       " 'Rs. 6749',\n",
       " 'Rs. 7721',\n",
       " 'Rs. 9999',\n",
       " 'Rs. 9371',\n",
       " 'Rs. 8549',\n",
       " 'Rs. 12745',\n",
       " 'Rs. 9999',\n",
       " 'Rs. 7199',\n",
       " 'Rs. 6999',\n",
       " 'Rs. 6999',\n",
       " 'Rs. 7900',\n",
       " 'Rs. 7999',\n",
       " 'Rs. 7149',\n",
       " 'Rs. 7149',\n",
       " 'Rs. 7799',\n",
       " 'Rs. 6999',\n",
       " 'Rs. 7699',\n",
       " 'Rs. 7995',\n",
       " 'Rs. 7199',\n",
       " 'Rs. 8990',\n",
       " 'Rs. 8999',\n",
       " 'Rs. 7857',\n",
       " 'Rs. 7999',\n",
       " 'Rs. 8399',\n",
       " 'Rs. 9793',\n",
       " 'Rs. 8495',\n",
       " 'Rs. 7999',\n",
       " 'Rs. 6999',\n",
       " 'Rs. 11990',\n",
       " 'Rs. 7990',\n",
       " 'Rs. 7799',\n",
       " 'Rs. 7490',\n",
       " 'Rs. 6999',\n",
       " 'Rs. 6990',\n",
       " 'Rs. 7990',\n",
       " 'Rs. 6999',\n",
       " 'Rs. 8990',\n",
       " 'Rs. 7499',\n",
       " 'Rs. 9999',\n",
       " 'Rs. 7799',\n",
       " 'Rs. 7999',\n",
       " 'Rs. 7199',\n",
       " 'Rs. 7649',\n",
       " 'Rs. 10989',\n",
       " 'Rs. 7465',\n",
       " 'Rs. 6897',\n",
       " 'Rs. 8999',\n",
       " 'Rs. 7797',\n",
       " 'Rs. 6999',\n",
       " 'Rs. 9499',\n",
       " 'Rs. 8499',\n",
       " 'Rs. 11049',\n",
       " 'Rs. 7499',\n",
       " 'Rs. 8399',\n",
       " 'Rs. 7995',\n",
       " 'Rs. 7799',\n",
       " 'Rs. 9995',\n",
       " 'Rs. 7199',\n",
       " 'Rs. 9999',\n",
       " 'Rs. 6799',\n",
       " 'Rs. 7995',\n",
       " 'Rs. 9999']"
      ]
     },
     "execution_count": 830,
     "metadata": {},
     "output_type": "execute_result"
    }
   ],
   "source": [
    "shoes_prices"
   ]
  },
  {
   "cell_type": "markdown",
   "id": "7bf2c349-2078-4145-9e90-eb74a88c46a5",
   "metadata": {},
   "source": [
    "## Now let's create how data frame.."
   ]
  },
  {
   "cell_type": "code",
   "execution_count": 829,
   "id": "14cc820a-d2dd-47f8-8b46-607649825034",
   "metadata": {},
   "outputs": [],
   "source": [
    "\n",
    "data_g = pd.DataFrame({})"
   ]
  },
  {
   "cell_type": "code",
   "execution_count": 831,
   "id": "6804034b-47b6-4f1e-b7ff-780b8c255b05",
   "metadata": {},
   "outputs": [
    {
     "data": {
      "text/html": [
       "<div>\n",
       "<style scoped>\n",
       "    .dataframe tbody tr th:only-of-type {\n",
       "        vertical-align: middle;\n",
       "    }\n",
       "\n",
       "    .dataframe tbody tr th {\n",
       "        vertical-align: top;\n",
       "    }\n",
       "\n",
       "    .dataframe thead th {\n",
       "        text-align: right;\n",
       "    }\n",
       "</style>\n",
       "<table border=\"1\" class=\"dataframe\">\n",
       "  <thead>\n",
       "    <tr style=\"text-align: right;\">\n",
       "      <th></th>\n",
       "      <th>Shoes_Brand</th>\n",
       "      <th>Shoes_Description</th>\n",
       "      <th>Shoes_Price</th>\n",
       "    </tr>\n",
       "  </thead>\n",
       "  <tbody>\n",
       "    <tr>\n",
       "      <th>0</th>\n",
       "      <td>Reebok</td>\n",
       "      <td>Men Black Mesh Road Running Shoes</td>\n",
       "      <td>Rs. 9599</td>\n",
       "    </tr>\n",
       "    <tr>\n",
       "      <th>1</th>\n",
       "      <td>Birkenstock</td>\n",
       "      <td>Women Black &amp; Grey Open Toe Flats</td>\n",
       "      <td>Rs. 6990</td>\n",
       "    </tr>\n",
       "    <tr>\n",
       "      <th>2</th>\n",
       "      <td>ADIDAS</td>\n",
       "      <td>Men Black Textile Tennis Non-Marking Shoes</td>\n",
       "      <td>Rs. 7799</td>\n",
       "    </tr>\n",
       "    <tr>\n",
       "      <th>3</th>\n",
       "      <td>ADIDAS Originals</td>\n",
       "      <td>Women Black Woven Design NMD_R1 Sneakers</td>\n",
       "      <td>Rs. 7799</td>\n",
       "    </tr>\n",
       "    <tr>\n",
       "      <th>4</th>\n",
       "      <td>Nike</td>\n",
       "      <td>Unisex Black KYRIE FLYTRAP IV EP Mid-Top Baske...</td>\n",
       "      <td>Rs. 8195</td>\n",
       "    </tr>\n",
       "    <tr>\n",
       "      <th>...</th>\n",
       "      <td>...</td>\n",
       "      <td>...</td>\n",
       "      <td>...</td>\n",
       "    </tr>\n",
       "    <tr>\n",
       "      <th>95</th>\n",
       "      <td>ALDO</td>\n",
       "      <td>Women Black Sneakers Casual Shoes</td>\n",
       "      <td>Rs. 7199</td>\n",
       "    </tr>\n",
       "    <tr>\n",
       "      <th>96</th>\n",
       "      <td>Puma</td>\n",
       "      <td>Unisex Black &amp; Coral Solid RS-FAST TECH Sneakers</td>\n",
       "      <td>Rs. 9999</td>\n",
       "    </tr>\n",
       "    <tr>\n",
       "      <th>97</th>\n",
       "      <td>Tommy Hilfiger</td>\n",
       "      <td>Men Black Solid Leather Sneakers</td>\n",
       "      <td>Rs. 6799</td>\n",
       "    </tr>\n",
       "    <tr>\n",
       "      <th>98</th>\n",
       "      <td>Nike</td>\n",
       "      <td>Men Black ZOOM WINFLO 7 Running Shoes</td>\n",
       "      <td>Rs. 7995</td>\n",
       "    </tr>\n",
       "    <tr>\n",
       "      <th>99</th>\n",
       "      <td>UNDER ARMOUR</td>\n",
       "      <td>Men Black HOVR STRT Woven Design Sportstyle Shoes</td>\n",
       "      <td>Rs. 9999</td>\n",
       "    </tr>\n",
       "  </tbody>\n",
       "</table>\n",
       "<p>100 rows × 3 columns</p>\n",
       "</div>"
      ],
      "text/plain": [
       "         Shoes_Brand                                  Shoes_Description  \\\n",
       "0             Reebok                  Men Black Mesh Road Running Shoes   \n",
       "1        Birkenstock                  Women Black & Grey Open Toe Flats   \n",
       "2             ADIDAS         Men Black Textile Tennis Non-Marking Shoes   \n",
       "3   ADIDAS Originals           Women Black Woven Design NMD_R1 Sneakers   \n",
       "4               Nike  Unisex Black KYRIE FLYTRAP IV EP Mid-Top Baske...   \n",
       "..               ...                                                ...   \n",
       "95              ALDO                  Women Black Sneakers Casual Shoes   \n",
       "96              Puma   Unisex Black & Coral Solid RS-FAST TECH Sneakers   \n",
       "97    Tommy Hilfiger                   Men Black Solid Leather Sneakers   \n",
       "98              Nike              Men Black ZOOM WINFLO 7 Running Shoes   \n",
       "99      UNDER ARMOUR  Men Black HOVR STRT Woven Design Sportstyle Shoes   \n",
       "\n",
       "   Shoes_Price  \n",
       "0     Rs. 9599  \n",
       "1     Rs. 6990  \n",
       "2     Rs. 7799  \n",
       "3     Rs. 7799  \n",
       "4     Rs. 8195  \n",
       "..         ...  \n",
       "95    Rs. 7199  \n",
       "96    Rs. 9999  \n",
       "97    Rs. 6799  \n",
       "98    Rs. 7995  \n",
       "99    Rs. 9999  \n",
       "\n",
       "[100 rows x 3 columns]"
      ]
     },
     "execution_count": 831,
     "metadata": {},
     "output_type": "execute_result"
    }
   ],
   "source": [
    "data_g['Shoes_Brand']= brand_shoes\n",
    "data_g['Shoes_Description']= shoes_desc_list\n",
    "data_g['Shoes_Price']= shoes_prices \n",
    "data_g"
   ]
  },
  {
   "cell_type": "markdown",
   "id": "743bfe7f-6faf-416e-8c2f-46b0d808cc7b",
   "metadata": {},
   "source": [
    "### ****************************************************"
   ]
  },
  {
   "cell_type": "markdown",
   "id": "0325f69b-4de4-443b-b02b-cd03a11d55c2",
   "metadata": {},
   "source": [
    "### __Q10: Go to webpage https://www.amazon.in/__\n",
    "### __Enter “Laptop” in the search field and then click the search icon.__\n",
    "### __Then set CPU Type filter to “Intel Core i7” and “Intel Core i9” as shown in the below image:__"
   ]
  },
  {
   "cell_type": "markdown",
   "id": "30db9475-d73d-4d6a-a586-3a3dcadfbad7",
   "metadata": {},
   "source": [
    "#### After setting the filters scrape first 10 laptops data. You have to scrape 3 attributes for each laptop:\n",
    "#### 1. title\n",
    "#### 2. Ratings\n",
    "#### 3. Price\n",
    "#### As shown in the below image as the tick marked attributes."
   ]
  },
  {
   "cell_type": "markdown",
   "id": "fa00d010-3311-4df7-8760-6474c2df251f",
   "metadata": {},
   "source": [
    "![](10.1.jpg)"
   ]
  },
  {
   "cell_type": "markdown",
   "id": "2f9373a7-07cf-4dcf-93ec-907600761321",
   "metadata": {},
   "source": [
    "![](10.jpg)"
   ]
  },
  {
   "cell_type": "code",
   "execution_count": 851,
   "id": "5111a2f9-5f4a-41f4-880e-2f1a5d07c487",
   "metadata": {},
   "outputs": [],
   "source": [
    "## getting the link\n",
    "\n",
    "labtop_link = 'https://www.amazon.in/'"
   ]
  },
  {
   "cell_type": "code",
   "execution_count": 852,
   "id": "4339f138-28cc-445d-b07b-e10f8d75d389",
   "metadata": {},
   "outputs": [],
   "source": [
    "driver.get(labtop_link)"
   ]
  },
  {
   "cell_type": "code",
   "execution_count": 853,
   "id": "bd1f50c7-5dec-4672-8a11-c432cb09461b",
   "metadata": {},
   "outputs": [],
   "source": [
    "input_search = driver.find_element_by_xpath('//input[@id=\"twotabsearchtextbox\"]')"
   ]
  },
  {
   "cell_type": "code",
   "execution_count": 854,
   "id": "2b3c94b0-176a-40cd-b1aa-7f3026b99c50",
   "metadata": {},
   "outputs": [],
   "source": [
    "input_search.send_keys('labtop')"
   ]
  },
  {
   "cell_type": "code",
   "execution_count": 855,
   "id": "6df7a240-a98a-44f5-8033-54d0e5334645",
   "metadata": {},
   "outputs": [],
   "source": [
    "search_btn = driver.find_element_by_xpath('//input[@id=\"nav-search-submit-button\"]')\n"
   ]
  },
  {
   "cell_type": "code",
   "execution_count": 856,
   "id": "0c14a5bf-81c1-467f-a5dd-4cc7e3780721",
   "metadata": {},
   "outputs": [],
   "source": [
    "search_btn.click()"
   ]
  },
  {
   "cell_type": "code",
   "execution_count": 857,
   "id": "496fa5c4-dd57-43e8-bf87-483b21be9afe",
   "metadata": {},
   "outputs": [],
   "source": [
    "checkbox_i7 = driver.find_element_by_xpath('//*[@id=\"p_n_feature_thirteen_browse-bin/12598163031\"]/span/a/div/label/i')"
   ]
  },
  {
   "cell_type": "code",
   "execution_count": 858,
   "id": "f70a777e-7c0e-4f5f-96a1-00a858e91b08",
   "metadata": {},
   "outputs": [],
   "source": [
    "checkbox_i7.click()"
   ]
  },
  {
   "cell_type": "code",
   "execution_count": 859,
   "id": "65eac22b-c9ad-4881-80e1-7737841eba95",
   "metadata": {},
   "outputs": [],
   "source": [
    "checkbox_i9 = driver.find_element_by_xpath('//*[@id=\"p_n_feature_thirteen_browse-bin/16757432031\"]/span/a/div/label/i')\n"
   ]
  },
  {
   "cell_type": "code",
   "execution_count": 861,
   "id": "ee9dd900-023f-43ec-a234-2118a92d644a",
   "metadata": {},
   "outputs": [],
   "source": [
    "## let's fetch the 10 labto urls\n",
    "\n",
    "labtops_links = []\n",
    "link_core = driver.find_elements_by_xpath('//a[@class=\"a-link-normal a-text-normal\"]')\n",
    "for i in link_core:\n",
    "    labtops_links.append(i.get_attribute('href'))"
   ]
  },
  {
   "cell_type": "code",
   "execution_count": 862,
   "id": "208f64af-aa53-4288-beee-eec0a9c9a309",
   "metadata": {},
   "outputs": [
    {
     "data": {
      "text/plain": [
       "24"
      ]
     },
     "execution_count": 862,
     "metadata": {},
     "output_type": "execute_result"
    }
   ],
   "source": [
    "len(labtops_links)"
   ]
  },
  {
   "cell_type": "code",
   "execution_count": 863,
   "id": "da22665d-cb00-4327-b6b6-310e43b84b75",
   "metadata": {},
   "outputs": [
    {
     "data": {
      "text/plain": [
       "['https://www.amazon.in/HP-Pavilion-Touchscreen-i7-10510U-14-dh1180tu/dp/B08GD8LQTY/ref=sr_1_1?dchild=1&keywords=labtop&qid=1626093480&refinements=p_n_feature_thirteen_browse-bin%3A12598163031%7C16757432031&rnid=12598141031&s=computers&sr=1-1',\n",
       " 'https://www.amazon.in/ASUS-i7-10750H-Graphics-Original-G712LU-H7015T/dp/B08DVLCNKK/ref=sr_1_2?dchild=1&keywords=labtop&qid=1626093480&refinements=p_n_feature_thirteen_browse-bin%3A12598163031%7C16757432031&rnid=12598141031&s=computers&sr=1-2',\n",
       " 'https://www.amazon.in/Asus-G703GI-E5148T-17-3-inch-i9-8950HK-Processor/dp/B07GRCW51K/ref=sr_1_3?dchild=1&keywords=labtop&qid=1626093480&refinements=p_n_feature_thirteen_browse-bin%3A12598163031%7C16757432031&rnid=12598141031&s=computers&sr=1-3',\n",
       " 'https://www.amazon.in/9500-15-6-inch-i7-10750H-NVIDIA1650-Graphics/dp/B08BZPRWR5/ref=sr_1_4?dchild=1&keywords=labtop&qid=1626093480&refinements=p_n_feature_thirteen_browse-bin%3A12598163031%7C16757432031&rnid=12598141031&s=computers&sr=1-4',\n",
       " 'https://www.amazon.in/Notebook-Horizon-i7-10510U-Graphics-XMA1904-AF/dp/B089F2W1KW/ref=sr_1_5?dchild=1&keywords=labtop&qid=1626093480&refinements=p_n_feature_thirteen_browse-bin%3A12598163031%7C16757432031&rnid=12598141031&s=computers&sr=1-5',\n",
       " 'https://www.amazon.in/HP-15-6-inch-Windows-Graphics-15-dg0018TX/dp/B07TFNZG7W/ref=sr_1_6?dchild=1&keywords=labtop&qid=1626093480&refinements=p_n_feature_thirteen_browse-bin%3A12598163031%7C16757432031&rnid=12598141031&s=computers&sr=1-6',\n",
       " 'https://www.amazon.in/Nexstgo-NP14N1IN008P-i7-8550U-Integrated-Graphics/dp/B07KGVMWKX/ref=sr_1_7?dchild=1&keywords=labtop&qid=1626093480&refinements=p_n_feature_thirteen_browse-bin%3A12598163031%7C16757432031&rnid=12598141031&s=computers&sr=1-7',\n",
       " 'https://www.amazon.in/HP-Pavilion-Touchscreen-Graphics-14-dh0112tx/dp/B08C5VYGPG/ref=sr_1_8?dchild=1&keywords=labtop&qid=1626093480&refinements=p_n_feature_thirteen_browse-bin%3A12598163031%7C16757432031&rnid=12598141031&s=computers&sr=1-8',\n",
       " 'https://www.amazon.in/Razer-Blade-Gaming-Laptop-2019/dp/B07X379CZ9/ref=sr_1_9?dchild=1&keywords=labtop&qid=1626093480&refinements=p_n_feature_thirteen_browse-bin%3A12598163031%7C16757432031&rnid=12598141031&s=computers&sr=1-9',\n",
       " 'https://www.amazon.in/Apple-MacBook-16-inch-Storage-Intel-Core-i7/dp/B081JWZQJB/ref=sr_1_10?dchild=1&keywords=labtop&qid=1626093480&refinements=p_n_feature_thirteen_browse-bin%3A12598163031%7C16757432031&rnid=12598141031&s=computers&sr=1-10']"
      ]
     },
     "execution_count": 863,
     "metadata": {},
     "output_type": "execute_result"
    }
   ],
   "source": [
    "## let's take the first 10\n",
    "labtop_link_list = labtops_links[0:10]\n",
    "labtop_link_list\n"
   ]
  },
  {
   "cell_type": "code",
   "execution_count": 864,
   "id": "0e79917a-4349-4f0a-ab73-d91c7746ae7b",
   "metadata": {},
   "outputs": [],
   "source": [
    "## let's get the labtops titles\n",
    "\n",
    "lab_title = []\n",
    "for oli in labtop_link_list:\n",
    "    driver.get(oli)\n",
    "    labtops= driver.find_elements_by_xpath('//span[@class=\"a-size-large product-title-word-break\"]')\n",
    "    for x in labtops:\n",
    "        lab_title.append(x.text)\n",
    "    time.sleep(2)\n"
   ]
  },
  {
   "cell_type": "code",
   "execution_count": 865,
   "id": "10c41829-f141-413b-a23b-847096cdbcc7",
   "metadata": {},
   "outputs": [
    {
     "data": {
      "text/plain": [
       "['HP Pavilion x360 Touchscreen 2-in-1 FHD 14\" (35.56cms) Laptop (10th Gen Core i7-10510U/8GB/512GB SSD/Windows 10 Home/MS Office/Mineral Silver/1.58 kg), 14-dh1180tu',\n",
       " 'ASUS ROG Strix G17 17.3\" (43.94 cms) FHD 120Hz Intel Core i7-10750H 10th Gen, GTX 1660Ti 6GB Graphics (16GB RAM/512GB NVMe SSD/Windows 10/Original Black/2.83 Kg), G712LU-H7015T + Xbox Game Pass for PC',\n",
       " 'ASUS ROG G703GI-E5148T 17.3\" (43.94 cms) FHD 144Hz/3ms Gaming Laptop (8th Gen Intel Core i9-8950HK/64GB/2TB SSHD + 1.5TB NVMe SSD/Windows 10/GTX 1080 8GB Graphics/4.70 Kg), Aluminum',\n",
       " 'DELL XPS 9500 15.6-inch UHD Laptop (10th Gen Core i7-10750H/32GB/1TB SSD/Windows 10 Home Plus & MS Office/4GB NVIDIA1650 Ti Graphics), Silver',\n",
       " 'Mi Notebook Horizon Edition 14 Intel Core i7-10510U 10th Gen 14-inch (35.56 cms) Thin and Light Laptop(8GB/512GB SSD/Windows 10/Nvidia MX350 2GB Graphics/Grey/1.35Kg), XMA1904-AF+Webcam',\n",
       " 'HP Omen X 2S Core i7 9th Gen 15.6-inch Dual Screen Gaming Laptop (16GB/1TB SSD/Windows 10/8GB NVIDIA RTX 2080 Graphics/Shadow Black), 15-dg0018TX',\n",
       " 'NEXSTGO Primus NX101 NP14N1IN008P 14-inch Laptop (Core i7-8550U/16GB/512SSD/Windows 10 Pro/Full HD+ IR/Finger Print/Integrated Graphics/Thin & Light/1.3KG), Silver',\n",
       " 'HP Pavilion x360 core i7 8th Gen 14 inch FHD Touchscreen Laptop (8GB/256GB SSD+1 TB HDD/Windows 10/MS Office 2019/2GB MX 250 Graphics/Mineral Silver/1.61kg), 14-dh0112tx',\n",
       " 'Razer Blade Pro 17 Gaming Laptop 2019',\n",
       " '2019 Apple MacBook Pro (16-inch/40.65 cm, 16GB RAM, 512GB Storage, 2.6GHz 9th Gen Intel Core i7) - Space Grey']"
      ]
     },
     "execution_count": 865,
     "metadata": {},
     "output_type": "execute_result"
    }
   ],
   "source": [
    "lab_title"
   ]
  },
  {
   "cell_type": "code",
   "execution_count": 866,
   "id": "a1003f47-6b9c-49e0-99e0-0418a048ee85",
   "metadata": {},
   "outputs": [
    {
     "data": {
      "text/plain": [
       "10"
      ]
     },
     "execution_count": 866,
     "metadata": {},
     "output_type": "execute_result"
    }
   ],
   "source": [
    "len(lab_title)"
   ]
  },
  {
   "cell_type": "code",
   "execution_count": 906,
   "id": "a0583b4b-59cb-4ce6-904d-7376532e2299",
   "metadata": {},
   "outputs": [],
   "source": [
    "## let's get the labtops Ratings\n",
    "\n",
    "lab_ratings = []\n",
    "for oli in labtop_link_list:\n",
    "    driver.get(oli)\n",
    "    lab_rating= driver.find_elements_by_xpath('//span[@id=\"acrCustomerReviewText\"]')\n",
    "    for x in lab_rating:\n",
    "        lab_ratings.append(x.text)\n",
    "    time.sleep(2)"
   ]
  },
  {
   "cell_type": "code",
   "execution_count": 907,
   "id": "9c9cf25c-f438-4175-8742-b2085a153fe1",
   "metadata": {},
   "outputs": [
    {
     "data": {
      "text/plain": [
       "['148 ratings',\n",
       " '148 ratings',\n",
       " '195 ratings',\n",
       " '195 ratings',\n",
       " '30 ratings',\n",
       " '30 ratings',\n",
       " '19 ratings',\n",
       " '19 ratings',\n",
       " '954 ratings',\n",
       " '954 ratings',\n",
       " '1 rating',\n",
       " '1 rating',\n",
       " '8 ratings',\n",
       " '8 ratings',\n",
       " '4 ratings',\n",
       " '4 ratings',\n",
       " '1 rating',\n",
       " '1 rating',\n",
       " '314 ratings']"
      ]
     },
     "execution_count": 907,
     "metadata": {},
     "output_type": "execute_result"
    }
   ],
   "source": [
    "lab_ratings"
   ]
  },
  {
   "cell_type": "code",
   "execution_count": 916,
   "id": "86ce7723-4bae-4eca-bf48-b2e9e794d601",
   "metadata": {},
   "outputs": [],
   "source": [
    "## let's filter because some rating are repeated\n",
    "unique = []\n",
    "for i in lab_ratings:\n",
    "    if i not in unique:\n",
    "        unique.append(i)"
   ]
  },
  {
   "cell_type": "code",
   "execution_count": 917,
   "id": "3f8f72d2-695f-4b00-88e1-477eaf10bbcc",
   "metadata": {},
   "outputs": [
    {
     "data": {
      "text/plain": [
       "9"
      ]
     },
     "execution_count": 917,
     "metadata": {},
     "output_type": "execute_result"
    }
   ],
   "source": [
    "len(unique)"
   ]
  },
  {
   "cell_type": "code",
   "execution_count": 918,
   "id": "6cb8884e-5ee8-4677-a419-a70a0978bd61",
   "metadata": {},
   "outputs": [],
   "source": [
    "## the labtop at index 9 when i checked it doesnot have rating \n",
    "# So i will it by nan\n",
    "unique.insert(9,'nan')"
   ]
  },
  {
   "cell_type": "code",
   "execution_count": 919,
   "id": "d537527f-9374-4e8c-a5b5-ed9d19ff499b",
   "metadata": {},
   "outputs": [
    {
     "data": {
      "text/plain": [
       "['148 ratings',\n",
       " '195 ratings',\n",
       " '30 ratings',\n",
       " '19 ratings',\n",
       " '954 ratings',\n",
       " '1 rating',\n",
       " '8 ratings',\n",
       " '4 ratings',\n",
       " '314 ratings',\n",
       " 'nan']"
      ]
     },
     "execution_count": 919,
     "metadata": {},
     "output_type": "execute_result"
    }
   ],
   "source": [
    "rating_lab_ = unique\n",
    "rating_lab_"
   ]
  },
  {
   "cell_type": "code",
   "execution_count": 920,
   "id": "1a23bfac-f11f-43c0-ae1f-671496063328",
   "metadata": {},
   "outputs": [
    {
     "data": {
      "text/plain": [
       "10"
      ]
     },
     "execution_count": 920,
     "metadata": {},
     "output_type": "execute_result"
    }
   ],
   "source": [
    "len(rating_lab_)"
   ]
  },
  {
   "cell_type": "code",
   "execution_count": 921,
   "id": "fca560a2-1b02-4830-96ed-07ca7c48c014",
   "metadata": {},
   "outputs": [],
   "source": [
    "## let's find the labtop Price\n",
    "\n",
    "lab_prices = []\n",
    "for oli in labtop_link_list:\n",
    "    driver.get(oli)\n",
    "    lab_price= driver.find_elements_by_xpath('//*[@id=\"priceblock_ourprice\"]')\n",
    "    for x in lab_price:\n",
    "        lab_prices.append(x.text)\n",
    "    time.sleep(2)"
   ]
  },
  {
   "cell_type": "code",
   "execution_count": 922,
   "id": "a9b73a6d-4adc-4aba-8e1f-15397a82adab",
   "metadata": {},
   "outputs": [
    {
     "data": {
      "text/plain": [
       "['₹ 74,990.00',\n",
       " '₹ 93,990.00',\n",
       " '₹ 2,00,000.00',\n",
       " '₹ 59,999.00',\n",
       " '₹ 2,83,000.00',\n",
       " '₹ 1,12,479.00',\n",
       " '₹ 1,85,659.00']"
      ]
     },
     "execution_count": 922,
     "metadata": {},
     "output_type": "execute_result"
    }
   ],
   "source": [
    "\n",
    "lab_prices"
   ]
  },
  {
   "cell_type": "code",
   "execution_count": 923,
   "id": "727d5886-f3a4-4acd-8542-864f9d4ced40",
   "metadata": {},
   "outputs": [
    {
     "data": {
      "text/plain": [
       "7"
      ]
     },
     "execution_count": 923,
     "metadata": {},
     "output_type": "execute_result"
    }
   ],
   "source": [
    "len(lab_prices)"
   ]
  },
  {
   "cell_type": "code",
   "execution_count": null,
   "id": "d63769a1-de19-4847-aa42-043bfe957a6a",
   "metadata": {},
   "outputs": [],
   "source": []
  },
  {
   "cell_type": "code",
   "execution_count": null,
   "id": "6d34f7a2-60b4-44a0-ad7f-836e36df90fa",
   "metadata": {},
   "outputs": [],
   "source": []
  }
 ],
 "metadata": {
  "kernelspec": {
   "display_name": "Python 3",
   "language": "python",
   "name": "python3"
  },
  "language_info": {
   "codemirror_mode": {
    "name": "ipython",
    "version": 3
   },
   "file_extension": ".py",
   "mimetype": "text/x-python",
   "name": "python",
   "nbconvert_exporter": "python",
   "pygments_lexer": "ipython3",
   "version": "3.8.2"
  }
 },
 "nbformat": 4,
 "nbformat_minor": 5
}

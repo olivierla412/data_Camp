{
 "cells": [
  {
   "cell_type": "code",
   "execution_count": null,
   "id": "af6cc275-9318-4720-bb18-40ee53acbd1e",
   "metadata": {},
   "outputs": [],
   "source": []
  },
  {
   "cell_type": "code",
   "execution_count": 1,
   "id": "0cbec699-3741-4de6-bdff-966e7ddcdd2a",
   "metadata": {},
   "outputs": [],
   "source": [
    "\n",
    "from selenium import webdriver\n",
    "import pandas as pd"
   ]
  },
  {
   "cell_type": "code",
   "execution_count": null,
   "id": "a2c581c4-69f5-422e-b2de-aaf4a2587342",
   "metadata": {},
   "outputs": [],
   "source": []
  },
  {
   "cell_type": "code",
   "execution_count": 49,
   "id": "e0a2888b-5b17-4c40-9958-6ca1455fd57d",
   "metadata": {},
   "outputs": [],
   "source": [
    "driver = webdriver.Chrome(\"/Users/olivierla412/Desktop/chromedriver\")"
   ]
  },
  {
   "cell_type": "code",
   "execution_count": 50,
   "id": "1a03e7c7-3b34-4e1d-a3cd-7c6fc1288d28",
   "metadata": {},
   "outputs": [],
   "source": [
    "url = 'https://www.naukri.com/'"
   ]
  },
  {
   "cell_type": "code",
   "execution_count": 51,
   "id": "ed625939-ca31-4a6c-9cbf-08892536a087",
   "metadata": {},
   "outputs": [],
   "source": [
    "driver.get(url=url)"
   ]
  },
  {
   "cell_type": "markdown",
   "id": "f9572b26-31c3-4b28-a334-07318f124fef",
   "metadata": {},
   "source": [
    "### __find_element_by_classe__ and __find_element_by_id__"
   ]
  },
  {
   "cell_type": "markdown",
   "id": "3e4d8b3f-e771-46a1-9c85-5fc70a35d8a9",
   "metadata": {},
   "source": [
    "## __find_element_by_id__"
   ]
  },
  {
   "cell_type": "code",
   "execution_count": 52,
   "id": "0bfbdb4f-d081-427f-aaac-b3a5c1aaa110",
   "metadata": {},
   "outputs": [
    {
     "data": {
      "text/plain": [
       "<selenium.webdriver.remote.webelement.WebElement (session=\"0bc82d638969c60e26cca3781f60fd62\", element=\"d6b9f8a0-13be-4dfa-a2d2-dd71a482e615\")>"
      ]
     },
     "execution_count": 52,
     "metadata": {},
     "output_type": "execute_result"
    }
   ],
   "source": [
    "search_job = driver.find_element_by_id('qsb-keyword-sugg')\n",
    "search_job"
   ]
  },
  {
   "cell_type": "code",
   "execution_count": 53,
   "id": "37ce3ec8-d3b5-475d-9180-0771a877f9d2",
   "metadata": {},
   "outputs": [],
   "source": [
    "search_job.send_keys(\"Data Science\")"
   ]
  },
  {
   "cell_type": "code",
   "execution_count": 54,
   "id": "3db95a79-c2f9-4a89-908e-c26a5375f159",
   "metadata": {},
   "outputs": [],
   "source": [
    "## using Xpath and class attribute\n",
    "\n",
    "s_job = driver.find_element_by_xpath('//input[@class=\"sugInp\"]')"
   ]
  },
  {
   "cell_type": "code",
   "execution_count": 55,
   "id": "c77aed53-bed1-4f78-aa1e-77437d208e5b",
   "metadata": {},
   "outputs": [],
   "source": [
    "s_job.send_keys('Software Developer')"
   ]
  },
  {
   "cell_type": "code",
   "execution_count": 9,
   "id": "9c4dcc29-38aa-4800-9ef9-02060a884681",
   "metadata": {},
   "outputs": [],
   "source": [
    "## using Xpath and class attribute\n",
    "\n",
    "s_job1 = driver.find_element_by_xpath('//input[@name =\"keyword\"]')"
   ]
  },
  {
   "cell_type": "code",
   "execution_count": 10,
   "id": "76a13eaa-ec79-4e0e-8c57-557a8fde0484",
   "metadata": {},
   "outputs": [],
   "source": [
    "s_job1.send_keys('IBM')"
   ]
  },
  {
   "cell_type": "markdown",
   "id": "759c9ddb-1c4a-474d-ab2a-2c33ff61d294",
   "metadata": {},
   "source": []
  },
  {
   "cell_type": "code",
   "execution_count": 57,
   "id": "d2010630-cfbf-455c-9359-ae966d437652",
   "metadata": {},
   "outputs": [],
   "source": [
    "search_loc = driver.find_element_by_id('qsb-location-sugg')"
   ]
  },
  {
   "cell_type": "code",
   "execution_count": 58,
   "id": "def52888-28a5-4b7d-b5b5-4f206e2c5991",
   "metadata": {},
   "outputs": [],
   "source": [
    "search_loc.send_keys('Delhi')"
   ]
  },
  {
   "cell_type": "code",
   "execution_count": 59,
   "id": "339b719d-1b10-4f3c-8985-4fa6a7d3c6bb",
   "metadata": {},
   "outputs": [],
   "source": [
    "search_bnt =  driver.find_element_by_xpath('//button[@class=\"btn\"]')"
   ]
  },
  {
   "cell_type": "code",
   "execution_count": 60,
   "id": "075b48f9-2ac8-4e5d-930d-fb7d55e85878",
   "metadata": {},
   "outputs": [],
   "source": [
    "search_bnt.click()"
   ]
  },
  {
   "cell_type": "markdown",
   "id": "56db3f9c-c908-482b-b66f-2c2af3c47762",
   "metadata": {},
   "source": [
    "### __find_element_by_classe__ "
   ]
  },
  {
   "cell_type": "code",
   "execution_count": 15,
   "id": "6df86533-a3f9-4b2a-ad02-da63bdaaf7ee",
   "metadata": {},
   "outputs": [],
   "source": [
    "#search_bnt1 = driver.find_element_by_class_name('btn')"
   ]
  },
  {
   "cell_type": "markdown",
   "id": "65741fcf-8d3a-4c02-8c6c-bc57ba811764",
   "metadata": {},
   "source": [
    "## __Let's extract all the tags having job-titles__"
   ]
  },
  {
   "cell_type": "code",
   "execution_count": 61,
   "id": "2484d52b-3280-4544-a433-dc0c2122b137",
   "metadata": {},
   "outputs": [],
   "source": [
    "job_title_Xpath = driver.find_elements_by_xpath('//a[@class=\"title fw500 ellipsis\"]')"
   ]
  },
  {
   "cell_type": "code",
   "execution_count": 62,
   "id": "3b349e1a-6813-4e38-92fd-a2fc0a115fdb",
   "metadata": {},
   "outputs": [
    {
     "data": {
      "text/plain": [
       "[<selenium.webdriver.remote.webelement.WebElement (session=\"0bc82d638969c60e26cca3781f60fd62\", element=\"7e41da9c-cf0b-4ca1-894f-8d66a0c1274a\")>,\n",
       " <selenium.webdriver.remote.webelement.WebElement (session=\"0bc82d638969c60e26cca3781f60fd62\", element=\"234a1d7f-9bf2-465c-9009-d898c51a2879\")>,\n",
       " <selenium.webdriver.remote.webelement.WebElement (session=\"0bc82d638969c60e26cca3781f60fd62\", element=\"70635e75-83f9-4a20-8e95-c6ffafb20d5f\")>,\n",
       " <selenium.webdriver.remote.webelement.WebElement (session=\"0bc82d638969c60e26cca3781f60fd62\", element=\"51dbc6de-925a-463d-871d-81fabc182a19\")>,\n",
       " <selenium.webdriver.remote.webelement.WebElement (session=\"0bc82d638969c60e26cca3781f60fd62\", element=\"44d2b155-b070-4c63-8e38-35b9113e8347\")>,\n",
       " <selenium.webdriver.remote.webelement.WebElement (session=\"0bc82d638969c60e26cca3781f60fd62\", element=\"93cba4de-a67f-4b94-8367-b62c75d7cdc0\")>,\n",
       " <selenium.webdriver.remote.webelement.WebElement (session=\"0bc82d638969c60e26cca3781f60fd62\", element=\"f0a7329e-4cb3-4ba5-8e21-132fbb824b93\")>,\n",
       " <selenium.webdriver.remote.webelement.WebElement (session=\"0bc82d638969c60e26cca3781f60fd62\", element=\"6731815b-5b5a-450d-8d8a-e49ffe671825\")>,\n",
       " <selenium.webdriver.remote.webelement.WebElement (session=\"0bc82d638969c60e26cca3781f60fd62\", element=\"301a37ae-d7de-4322-8f01-d301b28c569f\")>,\n",
       " <selenium.webdriver.remote.webelement.WebElement (session=\"0bc82d638969c60e26cca3781f60fd62\", element=\"03b7cc27-dfaa-4da7-8763-d8bb61b2a38a\")>,\n",
       " <selenium.webdriver.remote.webelement.WebElement (session=\"0bc82d638969c60e26cca3781f60fd62\", element=\"e39c5b2f-da58-4621-8cf5-6f145274f6f1\")>,\n",
       " <selenium.webdriver.remote.webelement.WebElement (session=\"0bc82d638969c60e26cca3781f60fd62\", element=\"3e1f4e20-4bfb-4804-ace1-756b35105ff8\")>,\n",
       " <selenium.webdriver.remote.webelement.WebElement (session=\"0bc82d638969c60e26cca3781f60fd62\", element=\"cc3e29cd-588d-4b45-bbc7-d9d635c3dd1b\")>,\n",
       " <selenium.webdriver.remote.webelement.WebElement (session=\"0bc82d638969c60e26cca3781f60fd62\", element=\"b0d4a12e-9dd0-4a9f-b91f-1e15f45dcac0\")>,\n",
       " <selenium.webdriver.remote.webelement.WebElement (session=\"0bc82d638969c60e26cca3781f60fd62\", element=\"c646caf2-394b-4381-9ec0-9a58beabc677\")>,\n",
       " <selenium.webdriver.remote.webelement.WebElement (session=\"0bc82d638969c60e26cca3781f60fd62\", element=\"ef267ed5-47d1-4751-b05f-011ebdf01bc5\")>,\n",
       " <selenium.webdriver.remote.webelement.WebElement (session=\"0bc82d638969c60e26cca3781f60fd62\", element=\"b50f51e2-b148-44a9-9d30-61f53629a57e\")>,\n",
       " <selenium.webdriver.remote.webelement.WebElement (session=\"0bc82d638969c60e26cca3781f60fd62\", element=\"caced410-40fa-4c0c-ab0f-148d89aaa4e5\")>,\n",
       " <selenium.webdriver.remote.webelement.WebElement (session=\"0bc82d638969c60e26cca3781f60fd62\", element=\"1f99dd85-9554-48ea-8adb-ccbcfb7eb97f\")>,\n",
       " <selenium.webdriver.remote.webelement.WebElement (session=\"0bc82d638969c60e26cca3781f60fd62\", element=\"81a5a2af-8260-4aa6-a7e0-a37a7855a0fa\")>]"
      ]
     },
     "execution_count": 62,
     "metadata": {},
     "output_type": "execute_result"
    }
   ],
   "source": [
    "job_title_Xpath"
   ]
  },
  {
   "cell_type": "code",
   "execution_count": 63,
   "id": "2e055b0f-f7ed-47b9-a3c0-b071666b9c14",
   "metadata": {},
   "outputs": [],
   "source": [
    "Job_tite = []\n",
    "for x in job_title_Xpath:\n",
    "    Job_tite.append(x.text)"
   ]
  },
  {
   "cell_type": "code",
   "execution_count": 64,
   "id": "ed2fb774-b37f-471d-8c78-c9b25f6a28e4",
   "metadata": {},
   "outputs": [
    {
     "data": {
      "text/plain": [
       "['Marketing/ Export Executive',\n",
       " 'Senior QA Engineer- Automation',\n",
       " 'Associate Specialist - Digital Transformation Practice - IIT/ IIM/XLRI',\n",
       " 'Java Developer',\n",
       " 'Java Fullstack',\n",
       " 'AWS Lead( server less development(min 3 years)) - 7+Years -',\n",
       " 'Pega Developer',\n",
       " 'java Developer with Angular - 5+Yrs',\n",
       " 'Big Data Spark AWS - Senior Software Engineer- 5- 9 Years - Pan India',\n",
       " 'Opening WITH Virtusa For AWS Developer',\n",
       " 'Opening with Virtusa For Reinsurance BA',\n",
       " 'Database/MSBI developer (SSIS)',\n",
       " 'AWS Technical Project Manager- 12+ Years',\n",
       " 'AWS Senior Cloud Engineer-5-9 Years',\n",
       " 'AWS Cloud Engineer- 3 To 5 Years',\n",
       " 'AWS Cloud /Azure - 4-9 Years- Pan India',\n",
       " 'Beauty Therapist',\n",
       " 'Dynatrace Expert Designer',\n",
       " 'Business Analyst',\n",
       " 'Big Data Engineer']"
      ]
     },
     "execution_count": 64,
     "metadata": {},
     "output_type": "execute_result"
    }
   ],
   "source": [
    "Job_tite"
   ]
  },
  {
   "cell_type": "code",
   "execution_count": 20,
   "id": "70e37068-1a65-42cb-a286-844e81ddcf92",
   "metadata": {},
   "outputs": [
    {
     "data": {
      "text/plain": [
       "0"
      ]
     },
     "execution_count": 20,
     "metadata": {},
     "output_type": "execute_result"
    }
   ],
   "source": [
    "len(Job_tite)"
   ]
  },
  {
   "cell_type": "code",
   "execution_count": 65,
   "id": "5ca4759a-2ecd-458d-b8ec-9e7f747bf50a",
   "metadata": {},
   "outputs": [],
   "source": [
    "job_exp_Xpath = driver.find_elements_by_xpath('//li[@class=\"fleft grey-text br2 placeHolderLi experience\"]//span') "
   ]
  },
  {
   "cell_type": "code",
   "execution_count": 66,
   "id": "8eec6c50-eab4-40a2-815e-bd5bce2f7e15",
   "metadata": {},
   "outputs": [
    {
     "data": {
      "text/plain": [
       "[<selenium.webdriver.remote.webelement.WebElement (session=\"0bc82d638969c60e26cca3781f60fd62\", element=\"47a6e3f1-b749-4f5d-b006-9f7429d1432c\")>,\n",
       " <selenium.webdriver.remote.webelement.WebElement (session=\"0bc82d638969c60e26cca3781f60fd62\", element=\"fb8d19e7-6743-4d43-bca9-583b03c47d33\")>,\n",
       " <selenium.webdriver.remote.webelement.WebElement (session=\"0bc82d638969c60e26cca3781f60fd62\", element=\"b216268d-2a1d-4c4c-8e0f-b506b02df711\")>,\n",
       " <selenium.webdriver.remote.webelement.WebElement (session=\"0bc82d638969c60e26cca3781f60fd62\", element=\"c8d5aa3f-c84f-4960-bb30-b99b3fa2312a\")>,\n",
       " <selenium.webdriver.remote.webelement.WebElement (session=\"0bc82d638969c60e26cca3781f60fd62\", element=\"72e32a72-0f3a-4d5d-a078-c759ec2b87d7\")>,\n",
       " <selenium.webdriver.remote.webelement.WebElement (session=\"0bc82d638969c60e26cca3781f60fd62\", element=\"2e3a6365-fa22-4203-849a-18fec66cf415\")>,\n",
       " <selenium.webdriver.remote.webelement.WebElement (session=\"0bc82d638969c60e26cca3781f60fd62\", element=\"f2fb4521-6417-4959-92f8-e3bf1bffecda\")>,\n",
       " <selenium.webdriver.remote.webelement.WebElement (session=\"0bc82d638969c60e26cca3781f60fd62\", element=\"a09d3fb7-fee8-4e9d-805d-80ba6e2d9d36\")>,\n",
       " <selenium.webdriver.remote.webelement.WebElement (session=\"0bc82d638969c60e26cca3781f60fd62\", element=\"8b29696f-9cf2-4a1b-acc1-c4e6a39facd9\")>,\n",
       " <selenium.webdriver.remote.webelement.WebElement (session=\"0bc82d638969c60e26cca3781f60fd62\", element=\"66a4f1f0-e21c-4fc3-9494-3c296aec8ec2\")>,\n",
       " <selenium.webdriver.remote.webelement.WebElement (session=\"0bc82d638969c60e26cca3781f60fd62\", element=\"7d322362-6d5d-48f6-8877-c650600f6f76\")>,\n",
       " <selenium.webdriver.remote.webelement.WebElement (session=\"0bc82d638969c60e26cca3781f60fd62\", element=\"00669604-de5c-4385-882b-fc2ed3c738a6\")>,\n",
       " <selenium.webdriver.remote.webelement.WebElement (session=\"0bc82d638969c60e26cca3781f60fd62\", element=\"30269ac3-8d37-46c1-8952-46a1575ca9af\")>,\n",
       " <selenium.webdriver.remote.webelement.WebElement (session=\"0bc82d638969c60e26cca3781f60fd62\", element=\"dfdb440f-7cee-49cf-bc48-36f2db59c5b2\")>,\n",
       " <selenium.webdriver.remote.webelement.WebElement (session=\"0bc82d638969c60e26cca3781f60fd62\", element=\"839bba33-8ada-42a8-9d1d-3b08b056e679\")>,\n",
       " <selenium.webdriver.remote.webelement.WebElement (session=\"0bc82d638969c60e26cca3781f60fd62\", element=\"bc7a9655-2c79-4001-bbb9-3799a365a93a\")>,\n",
       " <selenium.webdriver.remote.webelement.WebElement (session=\"0bc82d638969c60e26cca3781f60fd62\", element=\"9a6d6476-3653-462d-b42e-1e35c5586d04\")>,\n",
       " <selenium.webdriver.remote.webelement.WebElement (session=\"0bc82d638969c60e26cca3781f60fd62\", element=\"49d05df5-4d72-4d9f-a004-78eb650a46f0\")>,\n",
       " <selenium.webdriver.remote.webelement.WebElement (session=\"0bc82d638969c60e26cca3781f60fd62\", element=\"54d0f614-84e9-4a95-81ec-0d8942f1614c\")>,\n",
       " <selenium.webdriver.remote.webelement.WebElement (session=\"0bc82d638969c60e26cca3781f60fd62\", element=\"65e81212-9df8-4e2a-9f04-f63b9a33fa24\")>]"
      ]
     },
     "execution_count": 66,
     "metadata": {},
     "output_type": "execute_result"
    }
   ],
   "source": [
    "job_exp_Xpath"
   ]
  },
  {
   "cell_type": "code",
   "execution_count": 67,
   "id": "d160ce7e-8c45-4e1d-a079-2b2f5e4d1dcc",
   "metadata": {},
   "outputs": [],
   "source": [
    "job_ex_arr= []\n",
    "for  i in job_exp_Xpath:\n",
    "    job_ex_arr.append(i.text)\n",
    "    "
   ]
  },
  {
   "cell_type": "code",
   "execution_count": 68,
   "id": "a63a280e-52e3-444b-a567-a0289a26fcd4",
   "metadata": {},
   "outputs": [
    {
     "data": {
      "text/plain": [
       "['2-3 Yrs',\n",
       " '5-10 Yrs',\n",
       " '8-13 Yrs',\n",
       " '3-7 Yrs',\n",
       " '3-8 Yrs',\n",
       " '7-11 Yrs',\n",
       " '2-7 Yrs',\n",
       " '5-9 Yrs',\n",
       " '5-10 Yrs',\n",
       " '5-10 Yrs',\n",
       " '4-9 Yrs',\n",
       " '3-7 Yrs',\n",
       " '12-18 Yrs',\n",
       " '5-9 Yrs',\n",
       " '3-5 Yrs',\n",
       " '4-9 Yrs',\n",
       " '3-5 Yrs',\n",
       " '4-8 Yrs',\n",
       " '1-6 Yrs',\n",
       " '6-11 Yrs']"
      ]
     },
     "execution_count": 68,
     "metadata": {},
     "output_type": "execute_result"
    }
   ],
   "source": [
    "job_ex_arr"
   ]
  },
  {
   "cell_type": "code",
   "execution_count": null,
   "id": "03a5899d-0626-47da-b924-d1fdbdf0efd3",
   "metadata": {},
   "outputs": [],
   "source": []
  },
  {
   "cell_type": "code",
   "execution_count": 69,
   "id": "23d6dd49-2a14-45d8-b429-7af586acbee0",
   "metadata": {},
   "outputs": [],
   "source": [
    "locaction = driver.find_elements_by_xpath('//li[@class=\"fleft grey-text br2 placeHolderLi location\"]//span')"
   ]
  },
  {
   "cell_type": "code",
   "execution_count": 70,
   "id": "08e344cb-19a2-41c7-8959-955dc2ce9cc7",
   "metadata": {},
   "outputs": [
    {
     "data": {
      "text/plain": [
       "[<selenium.webdriver.remote.webelement.WebElement (session=\"0bc82d638969c60e26cca3781f60fd62\", element=\"6070a8dd-2835-41dc-947e-816923a67041\")>,\n",
       " <selenium.webdriver.remote.webelement.WebElement (session=\"0bc82d638969c60e26cca3781f60fd62\", element=\"8afd861d-871a-47f5-8354-c9990d0bd9fc\")>,\n",
       " <selenium.webdriver.remote.webelement.WebElement (session=\"0bc82d638969c60e26cca3781f60fd62\", element=\"12776722-1394-4b28-bf0e-19a45a64912d\")>,\n",
       " <selenium.webdriver.remote.webelement.WebElement (session=\"0bc82d638969c60e26cca3781f60fd62\", element=\"f68162b7-c84f-4fcf-be98-996066eeafd0\")>,\n",
       " <selenium.webdriver.remote.webelement.WebElement (session=\"0bc82d638969c60e26cca3781f60fd62\", element=\"82d86962-3028-4671-8b39-dd7f003ce52a\")>,\n",
       " <selenium.webdriver.remote.webelement.WebElement (session=\"0bc82d638969c60e26cca3781f60fd62\", element=\"6bbe836b-74fd-411c-aba6-b08c439f0e4b\")>,\n",
       " <selenium.webdriver.remote.webelement.WebElement (session=\"0bc82d638969c60e26cca3781f60fd62\", element=\"a8ce7d87-f332-464a-ace5-cba8dbaca590\")>,\n",
       " <selenium.webdriver.remote.webelement.WebElement (session=\"0bc82d638969c60e26cca3781f60fd62\", element=\"4e8a78f9-185a-4989-b990-28abccf30b4b\")>,\n",
       " <selenium.webdriver.remote.webelement.WebElement (session=\"0bc82d638969c60e26cca3781f60fd62\", element=\"17a79508-52dd-4a4c-8e95-aae7b41e859b\")>,\n",
       " <selenium.webdriver.remote.webelement.WebElement (session=\"0bc82d638969c60e26cca3781f60fd62\", element=\"edecc59d-4d43-4d66-bd47-c2514bdc7600\")>,\n",
       " <selenium.webdriver.remote.webelement.WebElement (session=\"0bc82d638969c60e26cca3781f60fd62\", element=\"8fb099e5-4da2-4880-a563-e91ac2ddfe7d\")>,\n",
       " <selenium.webdriver.remote.webelement.WebElement (session=\"0bc82d638969c60e26cca3781f60fd62\", element=\"26230063-b96d-4b6d-b5d3-19a2eb17d5d1\")>,\n",
       " <selenium.webdriver.remote.webelement.WebElement (session=\"0bc82d638969c60e26cca3781f60fd62\", element=\"0cfae865-4c89-4b89-8b39-975ab297d5fe\")>,\n",
       " <selenium.webdriver.remote.webelement.WebElement (session=\"0bc82d638969c60e26cca3781f60fd62\", element=\"991ecd99-cb00-4b33-8a65-b6db2a0f36ac\")>,\n",
       " <selenium.webdriver.remote.webelement.WebElement (session=\"0bc82d638969c60e26cca3781f60fd62\", element=\"e06f84bd-5b40-4590-9284-f0e61721b2c1\")>,\n",
       " <selenium.webdriver.remote.webelement.WebElement (session=\"0bc82d638969c60e26cca3781f60fd62\", element=\"c180c0f3-c84e-4484-8740-2effe7ada5e8\")>,\n",
       " <selenium.webdriver.remote.webelement.WebElement (session=\"0bc82d638969c60e26cca3781f60fd62\", element=\"28aa3a22-97d5-47bb-a384-111d117e38c1\")>,\n",
       " <selenium.webdriver.remote.webelement.WebElement (session=\"0bc82d638969c60e26cca3781f60fd62\", element=\"33d01503-e060-4d3b-8976-831fc6148dbe\")>,\n",
       " <selenium.webdriver.remote.webelement.WebElement (session=\"0bc82d638969c60e26cca3781f60fd62\", element=\"8989f73e-949c-4e88-9a39-a73a15603849\")>,\n",
       " <selenium.webdriver.remote.webelement.WebElement (session=\"0bc82d638969c60e26cca3781f60fd62\", element=\"9423fe15-6a67-417f-a649-0ab6d056fc9b\")>]"
      ]
     },
     "execution_count": 70,
     "metadata": {},
     "output_type": "execute_result"
    }
   ],
   "source": [
    "locaction"
   ]
  },
  {
   "cell_type": "code",
   "execution_count": 71,
   "id": "0e89e7a2-d079-4231-a335-2bb02cd7ea7c",
   "metadata": {},
   "outputs": [
    {
     "data": {
      "text/plain": [
       "['Faridabad',\n",
       " 'Ahmedabad, Gurgaon/Gurugram',\n",
       " 'Gurgaon/Gurugram',\n",
       " 'Kolkata, Hyderabad/Secunderabad, Pune, Ahmedabad, Chennai, Bangalore/Bengaluru, Delhi / NCR, Mumbai (All Areas)',\n",
       " 'Hyderabad/Secunderabad, Pune, Gurgaon/Gurugram, Chennai, Bangalore/Bengaluru, Mumbai (All Areas)',\n",
       " 'Kolkata, Hyderabad/Secunderabad, Pune, Ahmedabad, Chennai, Bangalore/Bengaluru, Delhi / NCR, Mumbai (All Areas)',\n",
       " 'Hyderabad/Secunderabad, Pune, Chennai, Bangalore/Bengaluru, Delhi / NCR, Mumbai (All Areas)',\n",
       " 'Kolkata, Hyderabad/Secunderabad, Pune, Ahmedabad, Chennai, Bangalore/Bengaluru, Delhi / NCR, Mumbai (All Areas)',\n",
       " 'Kolkata, Hyderabad/Secunderabad, Pune, Chennai, Bangalore/Bengaluru, Delhi / NCR, Mumbai (All Areas)',\n",
       " 'Hyderabad/Secunderabad, Pune, Chennai, Bangalore/Bengaluru, Delhi / NCR, Mumbai (All Areas)',\n",
       " 'Hyderabad/Secunderabad, Pune, Chennai, Bangalore/Bengaluru, Delhi / NCR, Mumbai (All Areas)',\n",
       " 'Hyderabad/Secunderabad, Pune, Gurgaon/Gurugram, Chennai, Bangalore/Bengaluru, Mumbai (All Areas)',\n",
       " 'Hyderabad/Secunderabad, Pune, Chennai, Bangalore/Bengaluru, Delhi / NCR, Mumbai (All Areas)',\n",
       " 'Hyderabad/Secunderabad, Pune, Chennai, Bangalore/Bengaluru, Delhi / NCR, Mumbai (All Areas)',\n",
       " 'Kolkata, Hyderabad/Secunderabad, Pune, Ahmedabad, Chennai, Bangalore/Bengaluru, Delhi / NCR, Mumbai (All Areas)',\n",
       " 'Hyderabad/Secunderabad, Pune, Chennai, Bangalore/Bengaluru, Delhi / NCR',\n",
       " 'Kolkata, Mumbai, New Delhi, Pune, Chennai, Bangalore/Bengaluru',\n",
       " 'Kolkata, Hyderabad/Secunderabad, Pune, Chennai, Bangalore/Bengaluru, Delhi / NCR, Mumbai (All Areas)',\n",
       " 'Hyderabad/Secunderabad, Pune, Chennai, Bangalore/Bengaluru, Delhi / NCR, Mumbai (All Areas)',\n",
       " 'Kolkata, Hyderabad/Secunderabad, Pune, Ahmedabad, Chennai, Bangalore/Bengaluru, Delhi / NCR, Mumbai (All Areas)']"
      ]
     },
     "execution_count": 71,
     "metadata": {},
     "output_type": "execute_result"
    }
   ],
   "source": [
    "locat_array = []\n",
    "for x in locaction:\n",
    "    locat_array.append(x.text)\n",
    "locat_array"
   ]
  },
  {
   "cell_type": "code",
   "execution_count": 28,
   "id": "2b25f638-d36a-4a3e-9321-aca538b23d15",
   "metadata": {},
   "outputs": [
    {
     "data": {
      "text/plain": [
       "0"
      ]
     },
     "execution_count": 28,
     "metadata": {},
     "output_type": "execute_result"
    }
   ],
   "source": [
    "len(locat_array)"
   ]
  },
  {
   "cell_type": "code",
   "execution_count": 72,
   "id": "4de38e90-eaba-4c77-897e-6c8c1bf765a2",
   "metadata": {},
   "outputs": [],
   "source": [
    "company_Xpath = driver.find_elements_by_xpath('//a[@class=\"subTitle ellipsis fleft\"]')"
   ]
  },
  {
   "cell_type": "code",
   "execution_count": 73,
   "id": "e99aee73-5343-45b6-b281-74a6dea122a4",
   "metadata": {},
   "outputs": [],
   "source": [
    "company_array =[]\n",
    "for x in company_Xpath:\n",
    "    company_array.append(x.text)"
   ]
  },
  {
   "cell_type": "code",
   "execution_count": 74,
   "id": "d99c8d5e-4d3b-4ce8-a9af-172c838deefc",
   "metadata": {},
   "outputs": [
    {
     "data": {
      "text/plain": [
       "(20, 20, 20, 20)"
      ]
     },
     "execution_count": 74,
     "metadata": {},
     "output_type": "execute_result"
    }
   ],
   "source": [
    "len(Job_tite),len(job_ex_arr),len(locat_array),len(company_array)"
   ]
  },
  {
   "cell_type": "code",
   "execution_count": 75,
   "id": "67219ddd-7b13-4637-8b1c-2f16511cc9aa",
   "metadata": {},
   "outputs": [],
   "source": [
    "import pandas as pd"
   ]
  },
  {
   "cell_type": "code",
   "execution_count": 76,
   "id": "3ef2b5f2-9bd0-4a98-a1be-17e798ca5cca",
   "metadata": {},
   "outputs": [],
   "source": [
    "df = pd.DataFrame({})"
   ]
  },
  {
   "cell_type": "code",
   "execution_count": 77,
   "id": "2c5ca891-87ae-4f34-baea-4569bb76428e",
   "metadata": {},
   "outputs": [],
   "source": [
    "df['Company_Name']   =   company_array\n",
    "df['Job_Title']      =   Job_tite\n",
    "df['Job_Experience'] = job_ex_arr\n",
    "df['Job_Location']   =   locat_array"
   ]
  },
  {
   "cell_type": "code",
   "execution_count": 78,
   "id": "997a9c37-a7b1-4c0c-99c7-f908cdb3c1ef",
   "metadata": {},
   "outputs": [
    {
     "data": {
      "text/html": [
       "<div>\n",
       "<style scoped>\n",
       "    .dataframe tbody tr th:only-of-type {\n",
       "        vertical-align: middle;\n",
       "    }\n",
       "\n",
       "    .dataframe tbody tr th {\n",
       "        vertical-align: top;\n",
       "    }\n",
       "\n",
       "    .dataframe thead th {\n",
       "        text-align: right;\n",
       "    }\n",
       "</style>\n",
       "<table border=\"1\" class=\"dataframe\">\n",
       "  <thead>\n",
       "    <tr style=\"text-align: right;\">\n",
       "      <th></th>\n",
       "      <th>Company_Name</th>\n",
       "      <th>Job_Title</th>\n",
       "      <th>Job_Experience</th>\n",
       "      <th>Job_Location</th>\n",
       "    </tr>\n",
       "  </thead>\n",
       "  <tbody>\n",
       "    <tr>\n",
       "      <th>0</th>\n",
       "      <td>MANAV MANAGEMENT GROUP</td>\n",
       "      <td>Marketing/ Export Executive</td>\n",
       "      <td>2-3 Yrs</td>\n",
       "      <td>Faridabad</td>\n",
       "    </tr>\n",
       "    <tr>\n",
       "      <th>1</th>\n",
       "      <td>Novorise Fintech India Pvt. Ltd.</td>\n",
       "      <td>Senior QA Engineer- Automation</td>\n",
       "      <td>5-10 Yrs</td>\n",
       "      <td>Ahmedabad, Gurgaon/Gurugram</td>\n",
       "    </tr>\n",
       "    <tr>\n",
       "      <th>2</th>\n",
       "      <td>Huquo Consulting Pvt. Ltd</td>\n",
       "      <td>Associate Specialist - Digital Transformation ...</td>\n",
       "      <td>8-13 Yrs</td>\n",
       "      <td>Gurgaon/Gurugram</td>\n",
       "    </tr>\n",
       "    <tr>\n",
       "      <th>3</th>\n",
       "      <td>Virtusa Consulting Services Pvt Ltd</td>\n",
       "      <td>Java Developer</td>\n",
       "      <td>3-7 Yrs</td>\n",
       "      <td>Kolkata, Hyderabad/Secunderabad, Pune, Ahmedab...</td>\n",
       "    </tr>\n",
       "    <tr>\n",
       "      <th>4</th>\n",
       "      <td>Virtusa Consulting Services Pvt Ltd</td>\n",
       "      <td>Java Fullstack</td>\n",
       "      <td>3-8 Yrs</td>\n",
       "      <td>Hyderabad/Secunderabad, Pune, Gurgaon/Gurugram...</td>\n",
       "    </tr>\n",
       "    <tr>\n",
       "      <th>5</th>\n",
       "      <td>Virtusa Consulting Services Pvt Ltd</td>\n",
       "      <td>AWS Lead( server less development(min 3 years)...</td>\n",
       "      <td>7-11 Yrs</td>\n",
       "      <td>Kolkata, Hyderabad/Secunderabad, Pune, Ahmedab...</td>\n",
       "    </tr>\n",
       "    <tr>\n",
       "      <th>6</th>\n",
       "      <td>Virtusa Consulting Services Pvt Ltd</td>\n",
       "      <td>Pega Developer</td>\n",
       "      <td>2-7 Yrs</td>\n",
       "      <td>Hyderabad/Secunderabad, Pune, Chennai, Bangalo...</td>\n",
       "    </tr>\n",
       "    <tr>\n",
       "      <th>7</th>\n",
       "      <td>Virtusa Consulting Services Pvt Ltd</td>\n",
       "      <td>java Developer with Angular - 5+Yrs</td>\n",
       "      <td>5-9 Yrs</td>\n",
       "      <td>Kolkata, Hyderabad/Secunderabad, Pune, Ahmedab...</td>\n",
       "    </tr>\n",
       "    <tr>\n",
       "      <th>8</th>\n",
       "      <td>Virtusa Consulting Services Pvt Ltd</td>\n",
       "      <td>Big Data Spark AWS - Senior Software Engineer-...</td>\n",
       "      <td>5-10 Yrs</td>\n",
       "      <td>Kolkata, Hyderabad/Secunderabad, Pune, Chennai...</td>\n",
       "    </tr>\n",
       "    <tr>\n",
       "      <th>9</th>\n",
       "      <td>Virtusa Consulting Services Pvt Ltd</td>\n",
       "      <td>Opening WITH Virtusa For AWS Developer</td>\n",
       "      <td>5-10 Yrs</td>\n",
       "      <td>Hyderabad/Secunderabad, Pune, Chennai, Bangalo...</td>\n",
       "    </tr>\n",
       "    <tr>\n",
       "      <th>10</th>\n",
       "      <td>Virtusa Consulting Services Pvt Ltd</td>\n",
       "      <td>Opening with Virtusa For Reinsurance BA</td>\n",
       "      <td>4-9 Yrs</td>\n",
       "      <td>Hyderabad/Secunderabad, Pune, Chennai, Bangalo...</td>\n",
       "    </tr>\n",
       "    <tr>\n",
       "      <th>11</th>\n",
       "      <td>Virtusa Consulting Services Pvt Ltd</td>\n",
       "      <td>Database/MSBI developer (SSIS)</td>\n",
       "      <td>3-7 Yrs</td>\n",
       "      <td>Hyderabad/Secunderabad, Pune, Gurgaon/Gurugram...</td>\n",
       "    </tr>\n",
       "    <tr>\n",
       "      <th>12</th>\n",
       "      <td>Virtusa Consulting Services Pvt Ltd</td>\n",
       "      <td>AWS Technical Project Manager- 12+ Years</td>\n",
       "      <td>12-18 Yrs</td>\n",
       "      <td>Hyderabad/Secunderabad, Pune, Chennai, Bangalo...</td>\n",
       "    </tr>\n",
       "    <tr>\n",
       "      <th>13</th>\n",
       "      <td>Virtusa Consulting Services Pvt Ltd</td>\n",
       "      <td>AWS Senior Cloud Engineer-5-9 Years</td>\n",
       "      <td>5-9 Yrs</td>\n",
       "      <td>Hyderabad/Secunderabad, Pune, Chennai, Bangalo...</td>\n",
       "    </tr>\n",
       "    <tr>\n",
       "      <th>14</th>\n",
       "      <td>Virtusa Consulting Services Pvt Ltd</td>\n",
       "      <td>AWS Cloud Engineer- 3 To 5 Years</td>\n",
       "      <td>3-5 Yrs</td>\n",
       "      <td>Kolkata, Hyderabad/Secunderabad, Pune, Ahmedab...</td>\n",
       "    </tr>\n",
       "    <tr>\n",
       "      <th>15</th>\n",
       "      <td>Virtusa Consulting Services Pvt Ltd</td>\n",
       "      <td>AWS Cloud /Azure - 4-9 Years- Pan India</td>\n",
       "      <td>4-9 Yrs</td>\n",
       "      <td>Hyderabad/Secunderabad, Pune, Chennai, Bangalo...</td>\n",
       "    </tr>\n",
       "    <tr>\n",
       "      <th>16</th>\n",
       "      <td>Kaya Skin Clinic</td>\n",
       "      <td>Beauty Therapist</td>\n",
       "      <td>3-5 Yrs</td>\n",
       "      <td>Kolkata, Mumbai, New Delhi, Pune, Chennai, Ban...</td>\n",
       "    </tr>\n",
       "    <tr>\n",
       "      <th>17</th>\n",
       "      <td>Tech Mahindra Ltd.</td>\n",
       "      <td>Dynatrace Expert Designer</td>\n",
       "      <td>4-8 Yrs</td>\n",
       "      <td>Kolkata, Hyderabad/Secunderabad, Pune, Chennai...</td>\n",
       "    </tr>\n",
       "    <tr>\n",
       "      <th>18</th>\n",
       "      <td>Deloitte Shared Services India LLP</td>\n",
       "      <td>Business Analyst</td>\n",
       "      <td>1-6 Yrs</td>\n",
       "      <td>Hyderabad/Secunderabad, Pune, Chennai, Bangalo...</td>\n",
       "    </tr>\n",
       "    <tr>\n",
       "      <th>19</th>\n",
       "      <td>Tech Mahindra Ltd.</td>\n",
       "      <td>Big Data Engineer</td>\n",
       "      <td>6-11 Yrs</td>\n",
       "      <td>Kolkata, Hyderabad/Secunderabad, Pune, Ahmedab...</td>\n",
       "    </tr>\n",
       "  </tbody>\n",
       "</table>\n",
       "</div>"
      ],
      "text/plain": [
       "                           Company_Name  \\\n",
       "0                MANAV MANAGEMENT GROUP   \n",
       "1      Novorise Fintech India Pvt. Ltd.   \n",
       "2             Huquo Consulting Pvt. Ltd   \n",
       "3   Virtusa Consulting Services Pvt Ltd   \n",
       "4   Virtusa Consulting Services Pvt Ltd   \n",
       "5   Virtusa Consulting Services Pvt Ltd   \n",
       "6   Virtusa Consulting Services Pvt Ltd   \n",
       "7   Virtusa Consulting Services Pvt Ltd   \n",
       "8   Virtusa Consulting Services Pvt Ltd   \n",
       "9   Virtusa Consulting Services Pvt Ltd   \n",
       "10  Virtusa Consulting Services Pvt Ltd   \n",
       "11  Virtusa Consulting Services Pvt Ltd   \n",
       "12  Virtusa Consulting Services Pvt Ltd   \n",
       "13  Virtusa Consulting Services Pvt Ltd   \n",
       "14  Virtusa Consulting Services Pvt Ltd   \n",
       "15  Virtusa Consulting Services Pvt Ltd   \n",
       "16                     Kaya Skin Clinic   \n",
       "17                   Tech Mahindra Ltd.   \n",
       "18   Deloitte Shared Services India LLP   \n",
       "19                   Tech Mahindra Ltd.   \n",
       "\n",
       "                                            Job_Title Job_Experience  \\\n",
       "0                         Marketing/ Export Executive        2-3 Yrs   \n",
       "1                      Senior QA Engineer- Automation       5-10 Yrs   \n",
       "2   Associate Specialist - Digital Transformation ...       8-13 Yrs   \n",
       "3                                      Java Developer        3-7 Yrs   \n",
       "4                                      Java Fullstack        3-8 Yrs   \n",
       "5   AWS Lead( server less development(min 3 years)...       7-11 Yrs   \n",
       "6                                      Pega Developer        2-7 Yrs   \n",
       "7                 java Developer with Angular - 5+Yrs        5-9 Yrs   \n",
       "8   Big Data Spark AWS - Senior Software Engineer-...       5-10 Yrs   \n",
       "9              Opening WITH Virtusa For AWS Developer       5-10 Yrs   \n",
       "10            Opening with Virtusa For Reinsurance BA        4-9 Yrs   \n",
       "11                     Database/MSBI developer (SSIS)        3-7 Yrs   \n",
       "12           AWS Technical Project Manager- 12+ Years      12-18 Yrs   \n",
       "13                AWS Senior Cloud Engineer-5-9 Years        5-9 Yrs   \n",
       "14                   AWS Cloud Engineer- 3 To 5 Years        3-5 Yrs   \n",
       "15            AWS Cloud /Azure - 4-9 Years- Pan India        4-9 Yrs   \n",
       "16                                   Beauty Therapist        3-5 Yrs   \n",
       "17                          Dynatrace Expert Designer        4-8 Yrs   \n",
       "18                                   Business Analyst        1-6 Yrs   \n",
       "19                                  Big Data Engineer       6-11 Yrs   \n",
       "\n",
       "                                         Job_Location  \n",
       "0                                           Faridabad  \n",
       "1                         Ahmedabad, Gurgaon/Gurugram  \n",
       "2                                    Gurgaon/Gurugram  \n",
       "3   Kolkata, Hyderabad/Secunderabad, Pune, Ahmedab...  \n",
       "4   Hyderabad/Secunderabad, Pune, Gurgaon/Gurugram...  \n",
       "5   Kolkata, Hyderabad/Secunderabad, Pune, Ahmedab...  \n",
       "6   Hyderabad/Secunderabad, Pune, Chennai, Bangalo...  \n",
       "7   Kolkata, Hyderabad/Secunderabad, Pune, Ahmedab...  \n",
       "8   Kolkata, Hyderabad/Secunderabad, Pune, Chennai...  \n",
       "9   Hyderabad/Secunderabad, Pune, Chennai, Bangalo...  \n",
       "10  Hyderabad/Secunderabad, Pune, Chennai, Bangalo...  \n",
       "11  Hyderabad/Secunderabad, Pune, Gurgaon/Gurugram...  \n",
       "12  Hyderabad/Secunderabad, Pune, Chennai, Bangalo...  \n",
       "13  Hyderabad/Secunderabad, Pune, Chennai, Bangalo...  \n",
       "14  Kolkata, Hyderabad/Secunderabad, Pune, Ahmedab...  \n",
       "15  Hyderabad/Secunderabad, Pune, Chennai, Bangalo...  \n",
       "16  Kolkata, Mumbai, New Delhi, Pune, Chennai, Ban...  \n",
       "17  Kolkata, Hyderabad/Secunderabad, Pune, Chennai...  \n",
       "18  Hyderabad/Secunderabad, Pune, Chennai, Bangalo...  \n",
       "19  Kolkata, Hyderabad/Secunderabad, Pune, Ahmedab...  "
      ]
     },
     "execution_count": 78,
     "metadata": {},
     "output_type": "execute_result"
    }
   ],
   "source": [
    "df"
   ]
  },
  {
   "cell_type": "code",
   "execution_count": null,
   "id": "a6779873-16b4-4584-b8f2-3c17d50f8871",
   "metadata": {},
   "outputs": [],
   "source": []
  },
  {
   "cell_type": "code",
   "execution_count": 79,
   "id": "6a20fd17-d08f-43c0-8fca-ff1af874412d",
   "metadata": {},
   "outputs": [
    {
     "data": {
      "text/plain": [
       "['https://www.naukri.com/job-listings-marketing-export-executive-manav-management-group-faridabad-2-to-3-years-210916500112?src=jobsearchDesk&sid=16253871755225118&xp=1&px=1',\n",
       " 'https://www.naukri.com/job-listings-senior-qa-engineer-automation-novorise-fintech-india-pvt-ltd-ahmedabad-gurgaon-gurugram-5-to-10-years-040621004893?src=jobsearchDesk&sid=16253871755225118&xp=2&px=1',\n",
       " 'https://www.naukri.com/job-listings-associate-specialist-digital-transformation-practice-iit-iim-xlri-huquo-consulting-pvt-ltd-gurgaon-gurugram-8-to-13-years-250521901241?src=jobsearchDesk&sid=16253871755225118&xp=3&px=1',\n",
       " 'https://www.naukri.com/job-listings-java-developer-virtusa-consulting-services-pvt-ltd-kolkata-hyderabad-secunderabad-pune-ahmedabad-chennai-bangalore-bengaluru-delhi-ncr-mumbai-all-areas-3-to-7-years-300621006106?src=jobsearchDesk&sid=16253871755225118&xp=4&px=1',\n",
       " 'https://www.naukri.com/job-listings-java-fullstack-virtusa-consulting-services-pvt-ltd-hyderabad-secunderabad-pune-gurgaon-gurugram-chennai-bangalore-bengaluru-mumbai-all-areas-3-to-8-years-280621016738?src=jobsearchDesk&sid=16253871755225118&xp=5&px=1',\n",
       " 'https://www.naukri.com/job-listings-aws-lead-server-less-development-min-3-years-7-years-virtusa-consulting-services-pvt-ltd-kolkata-hyderabad-secunderabad-pune-ahmedabad-chennai-bangalore-bengaluru-delhi-ncr-mumbai-all-areas-7-to-11-years-250521001450?src=jobsearchDesk&sid=16253871755225118&xp=6&px=1',\n",
       " 'https://www.naukri.com/job-listings-pega-developer-virtusa-consulting-services-pvt-ltd-hyderabad-secunderabad-pune-chennai-bangalore-bengaluru-delhi-ncr-mumbai-all-areas-2-to-7-years-230621005603?src=jobsearchDesk&sid=16253871755225118&xp=7&px=1',\n",
       " 'https://www.naukri.com/job-listings-java-developer-with-angular-5-yrs-virtusa-consulting-services-pvt-ltd-kolkata-hyderabad-secunderabad-pune-ahmedabad-chennai-bangalore-bengaluru-delhi-ncr-mumbai-all-areas-5-to-9-years-240621006899?src=jobsearchDesk&sid=16253871755225118&xp=8&px=1',\n",
       " 'https://www.naukri.com/job-listings-big-data-spark-aws-senior-software-engineer-5-9-years-pan-india-virtusa-consulting-services-pvt-ltd-kolkata-hyderabad-secunderabad-pune-chennai-bangalore-bengaluru-delhi-ncr-mumbai-all-areas-5-to-10-years-180521006889?src=jobsearchDesk&sid=16253871755225118&xp=9&px=1',\n",
       " 'https://www.naukri.com/job-listings-opening-with-virtusa-for-aws-developer-virtusa-consulting-services-pvt-ltd-hyderabad-secunderabad-pune-chennai-bangalore-bengaluru-delhi-ncr-mumbai-all-areas-5-to-10-years-160621003741?src=jobsearchDesk&sid=16253871755225118&xp=10&px=1',\n",
       " 'https://www.naukri.com/job-listings-opening-with-virtusa-for-reinsurance-ba-virtusa-consulting-services-pvt-ltd-hyderabad-secunderabad-pune-chennai-bangalore-bengaluru-delhi-ncr-mumbai-all-areas-4-to-9-years-160621003671?src=jobsearchDesk&sid=16253871755225118&xp=11&px=1',\n",
       " 'https://www.naukri.com/job-listings-database-msbi-developer-ssis-virtusa-consulting-services-pvt-ltd-hyderabad-secunderabad-pune-gurgaon-gurugram-chennai-bangalore-bengaluru-mumbai-all-areas-3-to-7-years-160621001797?src=jobsearchDesk&sid=16253871755225118&xp=12&px=1',\n",
       " 'https://www.naukri.com/job-listings-aws-technical-project-manager-12-years-virtusa-consulting-services-pvt-ltd-hyderabad-secunderabad-pune-chennai-bangalore-bengaluru-delhi-ncr-mumbai-all-areas-12-to-18-years-040621003455?src=jobsearchDesk&sid=16253871755225118&xp=13&px=1',\n",
       " 'https://www.naukri.com/job-listings-aws-senior-cloud-engineer-5-9-years-virtusa-consulting-services-pvt-ltd-hyderabad-secunderabad-pune-chennai-bangalore-bengaluru-delhi-ncr-mumbai-all-areas-5-to-9-years-040621002244?src=jobsearchDesk&sid=16253871755225118&xp=14&px=1',\n",
       " 'https://www.naukri.com/job-listings-aws-cloud-engineer-3-to-5-years-virtusa-consulting-services-pvt-ltd-kolkata-hyderabad-secunderabad-pune-ahmedabad-chennai-bangalore-bengaluru-delhi-ncr-mumbai-all-areas-3-to-5-years-040621002190?src=jobsearchDesk&sid=16253871755225118&xp=15&px=1',\n",
       " 'https://www.naukri.com/job-listings-aws-cloud-azure-4-9-years-pan-india-virtusa-consulting-services-pvt-ltd-hyderabad-secunderabad-pune-chennai-bangalore-bengaluru-delhi-ncr-4-to-9-years-280621016705?src=jobsearchDesk&sid=16253871755225118&xp=16&px=1',\n",
       " 'https://www.naukri.com/job-listings-beauty-therapist-kaya-skin-clinic-kolkata-mumbai-new-delhi-pune-chennai-bangalore-bengaluru-3-to-5-years-220318500150?src=jobsearchDesk&sid=16253871755225118&xp=17&px=1',\n",
       " 'https://www.naukri.com/job-listings-dynatrace-expert-designer-tech-mahindra-ltd-kolkata-hyderabad-secunderabad-pune-chennai-bangalore-bengaluru-delhi-ncr-mumbai-all-areas-4-to-8-years-030721001134?src=jobsearchDesk&sid=16253871755225118&xp=18&px=1',\n",
       " 'https://www.naukri.com/job-listings-business-analyst-deloitte-shared-services-india-llp-hyderabad-secunderabad-pune-chennai-bangalore-bengaluru-delhi-ncr-mumbai-all-areas-1-to-6-years-030721000281?src=jobsearchDesk&sid=16253871755225118&xp=19&px=1',\n",
       " 'https://www.naukri.com/job-listings-big-data-engineer-tech-mahindra-ltd-kolkata-hyderabad-secunderabad-pune-ahmedabad-chennai-bangalore-bengaluru-delhi-ncr-mumbai-all-areas-6-to-11-years-020721004138?src=jobsearchDesk&sid=16253871755225118&xp=20&px=1']"
      ]
     },
     "execution_count": 79,
     "metadata": {},
     "output_type": "execute_result"
    }
   ],
   "source": [
    "job_open_url = []\n",
    "\n",
    "job_title = driver.find_elements_by_xpath('//a[@class=\"title fw500 ellipsis\"]')\n",
    "for i in job_title:\n",
    "    job_open_url.append(i.get_attribute('href'))\n",
    "job_open_url    \n",
    "    "
   ]
  },
  {
   "cell_type": "code",
   "execution_count": null,
   "id": "5e14724e-ffaa-4df0-bcfe-0dbbbd6b8041",
   "metadata": {},
   "outputs": [],
   "source": []
  },
  {
   "cell_type": "code",
   "execution_count": 99,
   "id": "7cb90d7e-5ef2-4522-bf8f-11eb48485dac",
   "metadata": {},
   "outputs": [],
   "source": [
    "page_url = driver.find_elements_by_xpath('//div[@class=\"fleft pages\"]//a')"
   ]
  },
  {
   "cell_type": "code",
   "execution_count": 100,
   "id": "f9ae3d88-e1e9-4d5e-8285-6c50b746e111",
   "metadata": {},
   "outputs": [],
   "source": [
    "url_array = []\n",
    "for i in page_url:\n",
    "    url_array.append(i.get_attribute('href'))\n",
    "    "
   ]
  },
  {
   "cell_type": "code",
   "execution_count": 101,
   "id": "625e9528-fb67-43eb-b2bd-b385ed974710",
   "metadata": {},
   "outputs": [
    {
     "data": {
      "text/plain": [
       "['https://www.naukri.com/jobs-in-delhi',\n",
       " 'https://www.naukri.com/jobs-in-delhi-2',\n",
       " 'https://www.naukri.com/jobs-in-delhi-3',\n",
       " 'https://www.naukri.com/jobs-in-delhi-4',\n",
       " 'https://www.naukri.com/jobs-in-delhi-5',\n",
       " 'https://www.naukri.com/jobs-in-delhi-6',\n",
       " 'https://www.naukri.com/jobs-in-delhi-7',\n",
       " 'https://www.naukri.com/jobs-in-delhi-8',\n",
       " 'https://www.naukri.com/jobs-in-delhi-9',\n",
       " 'https://www.naukri.com/jobs-in-delhi-10']"
      ]
     },
     "execution_count": 101,
     "metadata": {},
     "output_type": "execute_result"
    }
   ],
   "source": [
    "url_array"
   ]
  },
  {
   "cell_type": "code",
   "execution_count": 90,
   "id": "0c42c764-b6f7-4ffc-a598-b8b9073b2b27",
   "metadata": {},
   "outputs": [],
   "source": [
    "import time"
   ]
  },
  {
   "cell_type": "code",
   "execution_count": 91,
   "id": "880eccd0-2fc3-43b6-a1e8-b983afb9660f",
   "metadata": {},
   "outputs": [
    {
     "data": {
      "text/plain": [
       "['TPM role For Bangalore/Gurgaon',\n",
       " 'Java Developer',\n",
       " 'Java Fullstack',\n",
       " 'AWS Lead( server less development(min 3 years)) - 7+Years -',\n",
       " 'Pega Developer',\n",
       " 'java Developer with Angular - 5+Yrs',\n",
       " 'Big Data Spark AWS - Senior Software Engineer- 5- 9 Years - Pan India',\n",
       " 'Opening WITH Virtusa For AWS Developer',\n",
       " 'Opening with Virtusa For Reinsurance BA',\n",
       " 'Database/MSBI developer (SSIS)',\n",
       " 'AWS Technical Project Manager- 12+ Years',\n",
       " 'AWS Senior Cloud Engineer-5-9 Years',\n",
       " 'AWS Cloud Engineer- 3 To 5 Years',\n",
       " 'AWS Cloud /Azure - 4-9 Years- Pan India',\n",
       " 'Beauty Therapist',\n",
       " 'Dynatrace Expert Designer',\n",
       " 'Business Analyst',\n",
       " 'Big Data Engineer',\n",
       " 'AWS cloud with DevOps engineer (must have 4+yrs experiences)',\n",
       " 'MS FullStack Azure Experience',\n",
       " 'Looking For \"Sap Ariba Consultant\" For Bristlecone !!',\n",
       " 'ORACLE FUSION FINANCE with PWC',\n",
       " 'ORACLE SCM with PWC',\n",
       " 'Hiring For Field Sales || Refractionist',\n",
       " 'Mindtree Hiring For the position Sr. Lead automation Test Engineer .',\n",
       " 'Hiring For Field Sales || Refractionist',\n",
       " 'Senior RPA/ UiPath Analyst',\n",
       " 'Hiring For Java Developer (Bangalore, Chennai, Mumbai, Pune, Noida)',\n",
       " 'SAP ABAP Consultant',\n",
       " 'Opportunity with Deloitte India | Full Stack Developer',\n",
       " 'KPMG hiring Technical Sourcer on Immediate Basis!!!',\n",
       " 'Tech Mahindra Hiring Permanent WFH For Chat Process',\n",
       " 'RPA Developer',\n",
       " 'Full Stack Engineer',\n",
       " 'Data Scientist',\n",
       " 'Full Stack Engineer',\n",
       " 'Oracle DBA II Pan India Location',\n",
       " 'Salesforce Developer',\n",
       " 'Salesforce Commerce Cloud',\n",
       " 'Hiring US IT Sourcing Specialist For One Of The Top consulting Firm',\n",
       " 'Hiring US IT Sourcing Specialist For One Of The Top consulting Firm',\n",
       " 'Hiring IT Sourcing Specialist For One Of The Top Consulting Firm',\n",
       " 'Senior Big Data Architect',\n",
       " 'Java Developer - Pan India Location',\n",
       " 'Oracle DBA II Pan India Location',\n",
       " 'Informatica IICS (Developer) | Client of Ruboid | 4+ years',\n",
       " 'Informatica Data Quality (Developer) | Client of Ruboid | 6+ Years',\n",
       " 'Informatica MDM Developer | Client of Ruboid',\n",
       " 'Solution Architect (Telecom Billing Domain)',\n",
       " 'OSS Inventory Management consultant',\n",
       " 'Immediate opening For Lead Java developer',\n",
       " 'Software Engineer - Windows Applications',\n",
       " 'Magento Developer - PHP/MySQL/MVC',\n",
       " 'Project Manager - Agile & Scrum',\n",
       " 'Celonis Data Engineer - Java/Python',\n",
       " 'Java Developer',\n",
       " 'Selenium Tester with SQL',\n",
       " 'Java Developer',\n",
       " 'Recruitment Executive',\n",
       " 'Assistant Manager – Enterprise Sales - 100% WFH',\n",
       " 'Recruitment Executive',\n",
       " 'Assistant Manager – Enterprise Sales - 100% WFH',\n",
       " 'Manager- Customer Success, 100% WFH',\n",
       " 'UFT Tester',\n",
       " 'Scrum Master - 100% WFH',\n",
       " 'UFT Tester',\n",
       " 'Java Developer',\n",
       " 'Development Executive',\n",
       " 'Oracle Database Administrator || Immediate Joining',\n",
       " 'Software Maintenance Engineer (Linux, Embedded, Automotive Domain)',\n",
       " 'Servicenow Developer (ITOM OR HR OR Service portal)',\n",
       " 'SAP ABAP Consultant-Immediate Joinee-Pan India-C2H',\n",
       " 'SAP MM Required For Quick Joining For Pan India (WFH currently)',\n",
       " 'Selenium Tester with SQL',\n",
       " 'Job opportunity with Nagarro',\n",
       " 'Senior React Native Developer - HTC - Chennai/Bangalore/Hyderabad.',\n",
       " 'Job opportunity with Nagarro',\n",
       " 'Java Developer - Pan India',\n",
       " 'Service Now Developer- Associate/Senior Associate',\n",
       " 'Cloud Migration Engineer- Associate/ Senior Associate',\n",
       " 'Cloud Migration Engineer- Associate/ Senior Associate',\n",
       " 'Azure Devops Engineer- Associate/ Senior Associate',\n",
       " 'Urgent Requirement | IT Recruiter | Tech Mahindra (Immediate joiner)',\n",
       " 'Permanent Employment - 6+ Yrs - .Net FullStack - Java Developer',\n",
       " 'Site core Developer',\n",
       " 'Genpact Hiring Informatica MDM Professionals',\n",
       " 'Hiring For Qlik view/ Qlik Sense',\n",
       " 'Genpact Hiring Collibra Professionals!!',\n",
       " 'Devops Engineer',\n",
       " 'Adobe Analytics - Tata Consultancy Services',\n",
       " 'Adobe Target - Tata Consultancy Services',\n",
       " 'Presale Solution Architect',\n",
       " 'Private Banking Group',\n",
       " 'RF Engineer (RF Optimization : Ericsson) -Gurgaon',\n",
       " 'Digital Assets Management (DAM Librarian)',\n",
       " 'Tech Mahindra hiring For Pega SSA developer',\n",
       " 'Tech Mahindra Hiring For Pega LSA Developer/Achitecture',\n",
       " 'GCP - Cloud & Network Engineering',\n",
       " 'Opening For Snowflake Developer & Architect Position',\n",
       " 'Tcs-Documentum Professional_Urgent_Pan India',\n",
       " 'Tableau Analyst',\n",
       " 'Front End - Solution Architect',\n",
       " 'Business Development Manager - Agency',\n",
       " 'Relationship Manager - Direct',\n",
       " 'ServiceNow - Technical Lead',\n",
       " 'Tcs--Urgent opening For Datastage Developer - PAN India',\n",
       " 'Urgent Opening For Informatica Developer Pan India',\n",
       " 'Tcs is Hiring For Java API & Spring Boot',\n",
       " 'IOS Developer - Urgent opportunity = Pan India',\n",
       " 'Tcs Hiring! RPA Developer- NICE',\n",
       " 'Tcs is Hiring For Java developer with Micro services',\n",
       " 'RF Engineer (Skill: Huawei / Nokia Optimization: VoLTE/5G)- Gurgaon',\n",
       " 'ERP Consultant-Technical',\n",
       " 'SAP CPQ, SAP PM/QM, SAP WM/EWM, SAP TM, SAP CPQ,Hybris E-commerce',\n",
       " 'Java fullstack with react developer @ Work from Home --Hexaware',\n",
       " 'Nextthink Developer',\n",
       " 'Incident Response Consultant',\n",
       " 'ERP Senior Consultant',\n",
       " 'Delivery Module Lead',\n",
       " 'Delivery Module Lead',\n",
       " 'ERP Senior Consultant',\n",
       " 'Tcs is Hiring For Java Developer with Micro services',\n",
       " 'Mainframe Performance and Capacity planning Architect',\n",
       " 'Mainframe zOS Administrator',\n",
       " 'Mainframe DB2 System Administrator (DB2 DBA)',\n",
       " 'Mainframe CICS Administrator',\n",
       " 'Big Data Solution Architect',\n",
       " '.Net / .Net Full Stack Developer',\n",
       " 'Business Analyst- Retail & Trade Promotions Management',\n",
       " 'ETL Developer with datastage || Chennai/Bangalore/Hyderabad/Noida/Pune',\n",
       " 'Azure Data Architect',\n",
       " 'Mindtree is hiring For Dotnet core,Aws/Azure',\n",
       " 'Genpact is looking For SAP Successfactors immediate joiners',\n",
       " 'Hiring For GCP Architect in Tata Consultancy Services - Pan India.',\n",
       " 'Senor Database Architect',\n",
       " \"HCL Hiring Node JS with AWS -Loc: Chennai/B'lore/Noida/Hyd/Pune\",\n",
       " 'Sterling Integrator Lead',\n",
       " 'PEGA Lead System Architect',\n",
       " 'Hiring For Organizational Change Management Consultant',\n",
       " 'Climate Risk - Financial Services',\n",
       " 'IBM open pages',\n",
       " 'Java Programmer',\n",
       " 'Desktop Support Engineer',\n",
       " 'Opportunity with Infogain For Engineering Manager-Immediate Joiners',\n",
       " 'Immediate opening For SAP ABAP Consultant',\n",
       " 'AVP / Regional Manager / Business Manager - Business Development',\n",
       " 'Escalation Manager - Complaint Desk',\n",
       " '4G, 5G, LTE Development / Developer',\n",
       " 'Hiring Medical Advisors For Reliance Jio',\n",
       " 'Manager - Presales',\n",
       " 'Data Analyst/Scientist- (Counterparty Credit risk)',\n",
       " 'Presales - Mainframe Solutioning Architect',\n",
       " 'Genpact Hiring IT Recruiters(On contract)!!',\n",
       " 'RCM (Pre Sales and solutioning) tl/tm/sdm',\n",
       " '.Net developer',\n",
       " 'Immediate Requirement For AX Developer',\n",
       " 'Java Developer (Immediate joiners)',\n",
       " 'Senior Site Reliability Engineer - Azure/Python/CentOS',\n",
       " 'Hiring For ServiceNow Technical Architect',\n",
       " 'ETL Tester',\n",
       " 'Risk Advisory - Consultant / AM - ITGC, S4 Controls and SAP GRC AC',\n",
       " 'Dot Net Developer',\n",
       " 'Hiring For Cloud Security Solution Architect',\n",
       " 'Hiring For MDM consultant',\n",
       " 'Senior DevOps Architect - Distributed Systems',\n",
       " 'Manager - Talent Acquisition, Remote',\n",
       " 'DevOps Engineer',\n",
       " 'Backend Developer - Remote',\n",
       " 'Full-Stack Developer – React & Node.JS',\n",
       " 'Sr. Backend Developer - Remote',\n",
       " 'Hiring For SFDC Vlocity Professionals - PAN India',\n",
       " 'Job opening at Tech Mahindra',\n",
       " 'Cloud Network & Security Architect',\n",
       " 'Mulesoft Tech Lead /Senior Developer',\n",
       " 'Hybrid Cloud Architect',\n",
       " 'Presales Consultant (ITSM - ServiceNow)',\n",
       " 'Deputy General Manager - Corporate Strategy',\n",
       " 'Product Strategy & Lifecycle Management',\n",
       " 'DevOps Engineer',\n",
       " 'VP- Digital Transformation Role',\n",
       " 'VP- Digital Transformation Role',\n",
       " 'Hiring - Machine / Deep Learning Engineer',\n",
       " 'Hiring For Scrum Master....Apply Now.',\n",
       " 'Hiring For SAP SD....Apply Now.',\n",
       " 'Hiring For SAP PIPO...Apply Now.',\n",
       " 'Hiring For ASP .NET Developer Apply Now.....',\n",
       " 'Hiring For Hadoop Admin Cloudera - Apply Now..!!',\n",
       " 'SAP ABAP | Saturday Drive',\n",
       " 'Hiring For Internal Talent Acquisition Team - ( Immediate Joiners)',\n",
       " 'Mathematics - Academic Content Writer || 4 Months Contract',\n",
       " 'Accounts - Academic Content Writer || 4 Months Contractual',\n",
       " 'Contractor - Training',\n",
       " '.Net with Angular - Immediate Joinners',\n",
       " 'Opening For Medical Coders with Joining Bonus & Permanent WFH Option',\n",
       " 'Tech Lead/Developer - Salesforce',\n",
       " 'Java Developer',\n",
       " 'Job Opportunity For Java Developer II PAN India',\n",
       " 'Senior WordPress Developer - Website Architecture',\n",
       " 'Job Opportunity For Oracle/SQL DBA II PAN India',\n",
       " 'Senior WordPress Developer - Website Architecture']"
      ]
     },
     "execution_count": 91,
     "metadata": {},
     "output_type": "execute_result"
    }
   ],
   "source": [
    "job_titles = []\n",
    "\n",
    "for i in url_array:\n",
    "    driver.get(i)\n",
    "    time.sleep(3)\n",
    "    titles = driver.find_elements_by_xpath(\"//a[@class='title fw500 ellipsis']\")\n",
    "    for j in titles:\n",
    "        job_titles.append(j.text)\n",
    "job_titles        \n",
    "        \n",
    "    "
   ]
  },
  {
   "cell_type": "code",
   "execution_count": 92,
   "id": "a69278ec-bdbe-4eee-90eb-afcc1d8bd4fd",
   "metadata": {},
   "outputs": [
    {
     "data": {
      "text/plain": [
       "200"
      ]
     },
     "execution_count": 92,
     "metadata": {},
     "output_type": "execute_result"
    }
   ],
   "source": [
    "len(job_titles)"
   ]
  },
  {
   "cell_type": "code",
   "execution_count": 106,
   "id": "6b7e134e-9394-4fe8-b03a-af447cfa494d",
   "metadata": {},
   "outputs": [],
   "source": [
    "b = []\n",
    "\n",
    "for i in url_array:\n",
    "    driver.get(i)\n",
    "    time.sleep(3)\n",
    "    a = driver.find_elements_by_xpath(\"//a[@class='title fw500 ellipsis']\")\n",
    "    for j in a:\n",
    "        if j.text ==\"Java Developer\":\n",
    "            b.append(j.text)\n"
   ]
  },
  {
   "cell_type": "code",
   "execution_count": 107,
   "id": "19cd1154-7684-475a-b155-919a6b067bed",
   "metadata": {},
   "outputs": [
    {
     "data": {
      "text/plain": [
       "['Java Developer', 'Java Developer', 'Java Developer', 'Java Developer']"
      ]
     },
     "execution_count": 107,
     "metadata": {},
     "output_type": "execute_result"
    }
   ],
   "source": [
    "b"
   ]
  },
  {
   "cell_type": "code",
   "execution_count": 108,
   "id": "eea97c9f-2f42-48b6-9f46-31baa86e24bc",
   "metadata": {},
   "outputs": [
    {
     "data": {
      "text/plain": [
       "4"
      ]
     },
     "execution_count": 108,
     "metadata": {},
     "output_type": "execute_result"
    }
   ],
   "source": [
    "len(b)"
   ]
  },
  {
   "cell_type": "markdown",
   "id": "2f7934dd-2aad-41c2-8428-96d05534d29a",
   "metadata": {},
   "source": [
    "## How to click on the next button"
   ]
  },
  {
   "cell_type": "code",
   "execution_count": 114,
   "id": "b273db6e-2ad6-4ae7-9828-feb191a0e428",
   "metadata": {},
   "outputs": [],
   "source": [
    "list_data = []"
   ]
  },
  {
   "cell_type": "code",
   "execution_count": 116,
   "id": "91e1c1f9-527a-42fc-b473-4440f44291b6",
   "metadata": {},
   "outputs": [],
   "source": [
    "list_data = []\n",
    "for i in range(1,60):\n",
    "    time.sleep(2)\n",
    "    xpart =  driver.find_elements_by_xpath(\"//a[@class='title fw500 ellipsis']\")\n",
    "    for j in xpart:\n",
    "        list_data.append(j.text)\n",
    "    next_button = driver.find_element_by_xpath('//a[@class=\"fright fs14 btn-secondary br2\"]')\n",
    "    next_button.click()\n",
    "    \n",
    "    \n",
    "    "
   ]
  },
  {
   "cell_type": "code",
   "execution_count": 119,
   "id": "c8625085-9935-46fa-ad6d-b57343c2b025",
   "metadata": {},
   "outputs": [],
   "source": [
    "# list_data"
   ]
  },
  {
   "cell_type": "code",
   "execution_count": 118,
   "id": "985d02e2-01f7-429b-8675-599a48671dfb",
   "metadata": {},
   "outputs": [
    {
     "data": {
      "text/plain": [
       "1180"
      ]
     },
     "execution_count": 118,
     "metadata": {},
     "output_type": "execute_result"
    }
   ],
   "source": [
    "len(list_data)"
   ]
  },
  {
   "cell_type": "code",
   "execution_count": 120,
   "id": "122d4a72-28ec-4f9a-b533-9d84d7748e4a",
   "metadata": {},
   "outputs": [],
   "source": [
    "data_ = pd.DataFrame({})"
   ]
  },
  {
   "cell_type": "code",
   "execution_count": 121,
   "id": "7a5de2cf-0d7d-45c3-a28d-126c09182d82",
   "metadata": {},
   "outputs": [],
   "source": [
    "data_['Job_title'] = list_data"
   ]
  },
  {
   "cell_type": "code",
   "execution_count": 122,
   "id": "e4ffd7af-ef67-4889-b5f2-8aaf7a9179c0",
   "metadata": {},
   "outputs": [
    {
     "data": {
      "text/html": [
       "<div>\n",
       "<style scoped>\n",
       "    .dataframe tbody tr th:only-of-type {\n",
       "        vertical-align: middle;\n",
       "    }\n",
       "\n",
       "    .dataframe tbody tr th {\n",
       "        vertical-align: top;\n",
       "    }\n",
       "\n",
       "    .dataframe thead th {\n",
       "        text-align: right;\n",
       "    }\n",
       "</style>\n",
       "<table border=\"1\" class=\"dataframe\">\n",
       "  <thead>\n",
       "    <tr style=\"text-align: right;\">\n",
       "      <th></th>\n",
       "      <th>Job_title</th>\n",
       "    </tr>\n",
       "  </thead>\n",
       "  <tbody>\n",
       "    <tr>\n",
       "      <th>0</th>\n",
       "      <td>PureSoftware Hiring For Firmware Developer || ...</td>\n",
       "    </tr>\n",
       "    <tr>\n",
       "      <th>1</th>\n",
       "      <td>Sales Manager (Corporate and professional sales)</td>\n",
       "    </tr>\n",
       "    <tr>\n",
       "      <th>2</th>\n",
       "      <td>Python Fresher Product Company</td>\n",
       "    </tr>\n",
       "    <tr>\n",
       "      <th>3</th>\n",
       "      <td>Intern/Trainee - Gurgaon 8 B - DS&amp;O (Deals Str...</td>\n",
       "    </tr>\n",
       "    <tr>\n",
       "      <th>4</th>\n",
       "      <td>Territory Business Manager</td>\n",
       "    </tr>\n",
       "    <tr>\n",
       "      <th>...</th>\n",
       "      <td>...</td>\n",
       "    </tr>\n",
       "    <tr>\n",
       "      <th>1175</th>\n",
       "      <td>Senior Business Analyst - Analytics and Report...</td>\n",
       "    </tr>\n",
       "    <tr>\n",
       "      <th>1176</th>\n",
       "      <td>Testing Engineer Python !! 4-8 Years !! Gurgaon</td>\n",
       "    </tr>\n",
       "    <tr>\n",
       "      <th>1177</th>\n",
       "      <td>Head - Programme and Project Management- Green...</td>\n",
       "    </tr>\n",
       "    <tr>\n",
       "      <th>1178</th>\n",
       "      <td>Senior Research Analyst</td>\n",
       "    </tr>\n",
       "    <tr>\n",
       "      <th>1179</th>\n",
       "      <td>Hiring For SAS Developer- Gurgaon location</td>\n",
       "    </tr>\n",
       "  </tbody>\n",
       "</table>\n",
       "<p>1180 rows × 1 columns</p>\n",
       "</div>"
      ],
      "text/plain": [
       "                                              Job_title\n",
       "0     PureSoftware Hiring For Firmware Developer || ...\n",
       "1      Sales Manager (Corporate and professional sales)\n",
       "2                        Python Fresher Product Company\n",
       "3     Intern/Trainee - Gurgaon 8 B - DS&O (Deals Str...\n",
       "4                            Territory Business Manager\n",
       "...                                                 ...\n",
       "1175  Senior Business Analyst - Analytics and Report...\n",
       "1176    Testing Engineer Python !! 4-8 Years !! Gurgaon\n",
       "1177  Head - Programme and Project Management- Green...\n",
       "1178                            Senior Research Analyst\n",
       "1179         Hiring For SAS Developer- Gurgaon location\n",
       "\n",
       "[1180 rows x 1 columns]"
      ]
     },
     "execution_count": 122,
     "metadata": {},
     "output_type": "execute_result"
    }
   ],
   "source": [
    "data_"
   ]
  },
  {
   "cell_type": "code",
   "execution_count": null,
   "id": "f8e953a9-f993-4ba6-b382-cd66d365be4c",
   "metadata": {},
   "outputs": [],
   "source": []
  }
 ],
 "metadata": {
  "kernelspec": {
   "display_name": "Python 3",
   "language": "python",
   "name": "python3"
  },
  "language_info": {
   "codemirror_mode": {
    "name": "ipython",
    "version": 3
   },
   "file_extension": ".py",
   "mimetype": "text/x-python",
   "name": "python",
   "nbconvert_exporter": "python",
   "pygments_lexer": "ipython3",
   "version": "3.8.2"
  }
 },
 "nbformat": 4,
 "nbformat_minor": 5
}

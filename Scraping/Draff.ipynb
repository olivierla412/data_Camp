{
 "cells": [
  {
   "cell_type": "markdown",
   "id": "00ca3908-71f9-4dd6-a288-be6f1aa24dde",
   "metadata": {},
   "source": [
    "## Assigments"
   ]
  },
  {
   "cell_type": "code",
   "execution_count": 3,
   "id": "129e2764-842b-4127-b0ac-d48a66fd5337",
   "metadata": {},
   "outputs": [],
   "source": [
    "# Importing the Libraries\n",
    "\n",
    "from bs4 import BeautifulSoup\n",
    "import requests\n",
    "import pandas as pd "
   ]
  },
  {
   "cell_type": "markdown",
   "id": "3cc8c30f-cfb9-418a-a29c-4aafab077cbd",
   "metadata": {},
   "source": [
    "## __WEB SCRAPING__"
   ]
  },
  {
   "cell_type": "markdown",
   "id": "11693f7a-9dac-407b-97e2-4d8d9616e110",
   "metadata": {},
   "source": [
    "#### __1. Write a python program to display all the header tags from ‘en.wikipedia.org/wiki/Main_Page’.__"
   ]
  },
  {
   "cell_type": "code",
   "execution_count": 6,
   "id": "45e0fdc2-173f-4b2b-bd5a-539d588ce3eb",
   "metadata": {},
   "outputs": [
    {
     "data": {
      "text/plain": [
       "<Response [200]>"
      ]
     },
     "execution_count": 6,
     "metadata": {},
     "output_type": "execute_result"
    }
   ],
   "source": [
    "source = requests.get('https://en.wikipedia.org/wiki/Main_Page')\n",
    "source"
   ]
  },
  {
   "cell_type": "code",
   "execution_count": 7,
   "id": "06fda0a5-db1f-4319-a910-e04440057ef2",
   "metadata": {},
   "outputs": [],
   "source": [
    "soup = BeautifulSoup(source.content)"
   ]
  },
  {
   "cell_type": "code",
   "execution_count": 8,
   "id": "22fdf1d0-c541-4107-a6d1-f64eb3254300",
   "metadata": {},
   "outputs": [],
   "source": [
    "article = soup.find_all('span',class_=\"mw-headline\")"
   ]
  },
  {
   "cell_type": "code",
   "execution_count": 9,
   "id": "c75925cb-7bf5-4acf-ba9b-d2b213ad797f",
   "metadata": {},
   "outputs": [
    {
     "name": "stdout",
     "output_type": "stream",
     "text": [
      "[<span class=\"mw-headline\" id=\"From_today's_featured_article\">From today's featured article</span>, <span class=\"mw-headline\" id=\"Did_you_know_...\">Did you know ...</span>, <span class=\"mw-headline\" id=\"In_the_news\">In the news</span>, <span class=\"mw-headline\" id=\"On_this_day\">On this day</span>, <span class=\"mw-headline\" id=\"Today's_featured_picture\">Today's featured picture</span>, <span class=\"mw-headline\" id=\"Other_areas_of_Wikipedia\">Other areas of Wikipedia</span>, <span class=\"mw-headline\" id=\"Wikipedia's_sister_projects\">Wikipedia's sister projects</span>, <span class=\"mw-headline\" id=\"Wikipedia_languages\">Wikipedia languages</span>]\n"
     ]
    }
   ],
   "source": [
    "print(article)"
   ]
  },
  {
   "cell_type": "code",
   "execution_count": 10,
   "id": "a5534b43-8715-42d3-afbc-47801dadee11",
   "metadata": {},
   "outputs": [
    {
     "name": "stdout",
     "output_type": "stream",
     "text": [
      "[\"From today's featured article\", 'Did you know\\xa0...', 'In the news', 'On this day', \"Today's featured picture\", 'Other areas of Wikipedia', \"Wikipedia's sister projects\", 'Wikipedia languages']\n"
     ]
    }
   ],
   "source": [
    "Article_Headert = []\n",
    "for x in article:\n",
    "    Article_Headert.append(x.text.strip())\n",
    "print(Article_Headert)    "
   ]
  },
  {
   "cell_type": "code",
   "execution_count": 47,
   "id": "ba2459fe-c5cd-4938-8bd8-13b580ef2959",
   "metadata": {},
   "outputs": [],
   "source": [
    "\n",
    "def article_header_func(*args):\n",
    "    url = input()\n",
    "    source = requests.get(url=url)\n",
    "    soup = BeautifulSoup(source.content)\n",
    "    article = soup.find_all('span',class_=\"mw-headline\")\n",
    "    Article_Headert = []\n",
    "    for x in article:\n",
    "        Article_Headert.append(x.text.strip())\n",
    "#print(Article_Headert,'\\n','-'*40,'\\nLength of Article is : ',len(Article_Headert))\n",
    "    return Article_Headert"
   ]
  },
  {
   "cell_type": "code",
   "execution_count": 48,
   "id": "ee928137-79c0-4fc2-8084-dd06ece16071",
   "metadata": {},
   "outputs": [
    {
     "name": "stdin",
     "output_type": "stream",
     "text": [
      " https://en.wikipedia.org/wiki/Main_Page\n"
     ]
    },
    {
     "data": {
      "text/plain": [
       "[\"From today's featured article\",\n",
       " 'Did you know\\xa0...',\n",
       " 'In the news',\n",
       " 'On this day',\n",
       " \"Today's featured picture\",\n",
       " 'Other areas of Wikipedia',\n",
       " \"Wikipedia's sister projects\",\n",
       " 'Wikipedia languages']"
      ]
     },
     "execution_count": 48,
     "metadata": {},
     "output_type": "execute_result"
    }
   ],
   "source": [
    "article_header_func()"
   ]
  },
  {
   "cell_type": "markdown",
   "id": "a40b2d1b-cb40-42ed-855c-d7d8818023d2",
   "metadata": {},
   "source": [
    "#### __2. Write a python program to display IMDB’s Top rated 100 movies’ data (i.e. Name, IMDB rating, Year of release) and make data frame.__"
   ]
  },
  {
   "cell_type": "code",
   "execution_count": null,
   "id": "8e4152eb-5b62-45ee-ba95-c06c743d12dd",
   "metadata": {},
   "outputs": [],
   "source": []
  },
  {
   "cell_type": "code",
   "execution_count": 87,
   "id": "0a38a9e7-ac23-44d5-b06b-6f4e775443aa",
   "metadata": {},
   "outputs": [],
   "source": [
    "#Finding the movies names\n",
    "\n",
    "source1 = requests.get('https://www.imdb.com/list/ls091520106/')\n",
    "soup1 = BeautifulSoup(source1.content)\n",
    "\n",
    "name = soup1.select('h3.lister-item-header > a')\n"
   ]
  },
  {
   "cell_type": "code",
   "execution_count": 88,
   "id": "866d70c6-d07e-402e-acfb-d28d85e814cd",
   "metadata": {},
   "outputs": [],
   "source": [
    "list_name1 =[]\n",
    "for x in name:\n",
    "    list_name1.append(x.text.strip())\n",
    "    "
   ]
  },
  {
   "cell_type": "code",
   "execution_count": 89,
   "id": "cd6dc811-b97d-476a-91e2-770011dba3ea",
   "metadata": {},
   "outputs": [
    {
     "name": "stdout",
     "output_type": "stream",
     "text": [
      "['The Shawshank Redemption', 'The Godfather', 'The Godfather: Part II', 'The Dark Knight', '12 Angry Men', \"Schindler's List\", 'The Lord of the Rings: The Return of the King', 'Pulp Fiction', 'Il buono, il brutto, il cattivo', 'Fight Club', 'Joker', 'The Lord of the Rings: The Fellowship of the Ring', 'Forrest Gump', 'Inception', 'Star Wars: Episode V - The Empire Strikes Back', 'The Lord of the Rings: The Two Towers', 'The Matrix', \"One Flew Over the Cuckoo's Nest\", 'Goodfellas', 'Shichinin no samurai', 'Se7en', 'Cidade de Deus', 'La vita è bella', 'The Silence of the Lambs', 'Star Wars', \"It's a Wonderful Life\", 'Saving Private Ryan', 'Sen to Chihiro no kamikakushi', 'The Green Mile', 'Léon', 'Seppuku', 'Interstellar', 'The Usual Suspects', 'The Lion King', 'American History X', 'Back to the Future', 'The Pianist', 'Modern Times', 'Terminator 2: Judgment Day', 'The Intouchables', 'Psycho', 'Gladiator', 'City Lights', 'The Departed', 'Whiplash', 'Once Upon a Time in the West', 'The Prestige', 'Avengers: Endgame', 'Casablanca', 'Hotaru no haka', 'Rear Window', 'Nuovo Cinema Paradiso', 'Alien', 'Raiders of the Lost Ark', 'Memento', 'Apocalypse Now', 'The Great Dictator', 'The Lives of Others', 'Avengers: Infinity War', 'Django Unchained', 'Spider-Man: Into the Spider-Verse', 'The Shining', 'Paths of Glory', 'WALL·E', 'Sunset Blvd.', 'Dr. Strangelove or: How I Learned to Stop Worrying and Love the Bomb', 'Mononoke-hime', 'Oldeuboi', 'Witness for the Prosecution', 'The Dark Knight Rises', 'Once Upon a Time in America', 'Gisaengchung', 'Aliens', 'American Beauty', 'Coco', 'Kimi no na wa.', 'Braveheart', 'Das Boot', '3 Idiots', 'Taare Zameen Par', 'Star Wars: Episode VI - Return of the Jedi', 'Toy Story', 'Reservoir Dogs', 'Amadeus', 'Dangal', 'Good Will Hunting', 'Inglourious Basterds', 'M - Eine Stadt sucht einen Mörder', 'Requiem for a Dream', '2001: A Space Odyssey', 'Vertigo', 'Eternal Sunshine of the Spotless Mind', 'Citizen Kane', 'Full Metal Jacket', 'Jagten', 'North by Northwest', 'A Clockwork Orange', 'Snatch', \"Le fabuleux destin d'Amélie Poulain\", 'The Kid']\n"
     ]
    }
   ],
   "source": [
    "print(list_name1)"
   ]
  },
  {
   "cell_type": "code",
   "execution_count": 90,
   "id": "5d7488e3-8875-4b2b-9648-d0dc0ecb10c5",
   "metadata": {},
   "outputs": [
    {
     "data": {
      "text/plain": [
       "100"
      ]
     },
     "execution_count": 90,
     "metadata": {},
     "output_type": "execute_result"
    }
   ],
   "source": [
    "len(list_name1)\n",
    "# "
   ]
  },
  {
   "cell_type": "code",
   "execution_count": 98,
   "id": "c60ff432-c4c6-41f5-9edb-b9b02c0c5526",
   "metadata": {},
   "outputs": [],
   "source": [
    "movie_names = []\n",
    "def IMDB_movies_func(*args):\n",
    "    url = input()\n",
    "    source1 = requests.get(url=url)\n",
    "    soup1 = BeautifulSoup(source1.content)\n",
    "    year = soup2.find_all(\"span\",class_=\"lister-item-year\")\n",
    "    names = soup1.select('h3.lister-item-header > a')\n",
    "    for x in names:\n",
    "        movie_names.append(x.text.strip())\n",
    "    return movie_names"
   ]
  },
  {
   "cell_type": "code",
   "execution_count": 99,
   "id": "1e063dc9-e166-4181-ac07-96574026bc5f",
   "metadata": {},
   "outputs": [
    {
     "name": "stdin",
     "output_type": "stream",
     "text": [
      " https://www.imdb.com/list/ls091520106/\n"
     ]
    },
    {
     "data": {
      "text/plain": [
       "['The Shawshank Redemption',\n",
       " 'The Godfather',\n",
       " 'The Godfather: Part II',\n",
       " 'The Dark Knight',\n",
       " '12 Angry Men',\n",
       " \"Schindler's List\",\n",
       " 'The Lord of the Rings: The Return of the King',\n",
       " 'Pulp Fiction',\n",
       " 'Il buono, il brutto, il cattivo',\n",
       " 'Fight Club',\n",
       " 'Joker',\n",
       " 'The Lord of the Rings: The Fellowship of the Ring',\n",
       " 'Forrest Gump',\n",
       " 'Inception',\n",
       " 'Star Wars: Episode V - The Empire Strikes Back',\n",
       " 'The Lord of the Rings: The Two Towers',\n",
       " 'The Matrix',\n",
       " \"One Flew Over the Cuckoo's Nest\",\n",
       " 'Goodfellas',\n",
       " 'Shichinin no samurai',\n",
       " 'Se7en',\n",
       " 'Cidade de Deus',\n",
       " 'La vita è bella',\n",
       " 'The Silence of the Lambs',\n",
       " 'Star Wars',\n",
       " \"It's a Wonderful Life\",\n",
       " 'Saving Private Ryan',\n",
       " 'Sen to Chihiro no kamikakushi',\n",
       " 'The Green Mile',\n",
       " 'Léon',\n",
       " 'Seppuku',\n",
       " 'Interstellar',\n",
       " 'The Usual Suspects',\n",
       " 'The Lion King',\n",
       " 'American History X',\n",
       " 'Back to the Future',\n",
       " 'The Pianist',\n",
       " 'Modern Times',\n",
       " 'Terminator 2: Judgment Day',\n",
       " 'The Intouchables',\n",
       " 'Psycho',\n",
       " 'Gladiator',\n",
       " 'City Lights',\n",
       " 'The Departed',\n",
       " 'Whiplash',\n",
       " 'Once Upon a Time in the West',\n",
       " 'The Prestige',\n",
       " 'Avengers: Endgame',\n",
       " 'Casablanca',\n",
       " 'Hotaru no haka',\n",
       " 'Rear Window',\n",
       " 'Nuovo Cinema Paradiso',\n",
       " 'Alien',\n",
       " 'Raiders of the Lost Ark',\n",
       " 'Memento',\n",
       " 'Apocalypse Now',\n",
       " 'The Great Dictator',\n",
       " 'The Lives of Others',\n",
       " 'Avengers: Infinity War',\n",
       " 'Django Unchained',\n",
       " 'Spider-Man: Into the Spider-Verse',\n",
       " 'The Shining',\n",
       " 'Paths of Glory',\n",
       " 'WALL·E',\n",
       " 'Sunset Blvd.',\n",
       " 'Dr. Strangelove or: How I Learned to Stop Worrying and Love the Bomb',\n",
       " 'Mononoke-hime',\n",
       " 'Oldeuboi',\n",
       " 'Witness for the Prosecution',\n",
       " 'The Dark Knight Rises',\n",
       " 'Once Upon a Time in America',\n",
       " 'Gisaengchung',\n",
       " 'Aliens',\n",
       " 'American Beauty',\n",
       " 'Coco',\n",
       " 'Kimi no na wa.',\n",
       " 'Braveheart',\n",
       " 'Das Boot',\n",
       " '3 Idiots',\n",
       " 'Taare Zameen Par',\n",
       " 'Star Wars: Episode VI - Return of the Jedi',\n",
       " 'Toy Story',\n",
       " 'Reservoir Dogs',\n",
       " 'Amadeus',\n",
       " 'Dangal',\n",
       " 'Good Will Hunting',\n",
       " 'Inglourious Basterds',\n",
       " 'M - Eine Stadt sucht einen Mörder',\n",
       " 'Requiem for a Dream',\n",
       " '2001: A Space Odyssey',\n",
       " 'Vertigo',\n",
       " 'Eternal Sunshine of the Spotless Mind',\n",
       " 'Citizen Kane',\n",
       " 'Full Metal Jacket',\n",
       " 'Jagten',\n",
       " 'North by Northwest',\n",
       " 'A Clockwork Orange',\n",
       " 'Snatch',\n",
       " \"Le fabuleux destin d'Amélie Poulain\",\n",
       " 'The Kid']"
      ]
     },
     "execution_count": 99,
     "metadata": {},
     "output_type": "execute_result"
    }
   ],
   "source": [
    "IMDB_movies_func()"
   ]
  },
  {
   "cell_type": "code",
   "execution_count": 101,
   "id": "5cb40ac7-79f7-4351-8fa9-2d9280e6a1d4",
   "metadata": {},
   "outputs": [],
   "source": [
    "# movie_names"
   ]
  },
  {
   "cell_type": "code",
   "execution_count": 109,
   "id": "b47b1055-b88d-41d4-9144-47c45c6d6c1e",
   "metadata": {},
   "outputs": [],
   "source": [
    "# Finding the movies rating \n",
    "\n",
    "movie_rates = []\n",
    "def IMDB_movies_func1(*args):\n",
    "    url = input()\n",
    "    source2 = requests.get(url=url)\n",
    "    soup2 = BeautifulSoup(source2.content)\n",
    "    rates = soup2.find_all(\"span\",class_=\"ipl-rating-star__rating\")\n",
    "    for x in rates:\n",
    "        movie_rates.append(x.text.strip())\n",
    "    return movie_rates\n"
   ]
  },
  {
   "cell_type": "code",
   "execution_count": null,
   "id": "bf0b391e-f98a-4d2b-801e-99ecbeff4566",
   "metadata": {},
   "outputs": [],
   "source": [
    "IMDB_movies_func1()\n",
    "ipl-rating-star small"
   ]
  },
  {
   "cell_type": "code",
   "execution_count": 151,
   "id": "b1889bce-160d-42c9-aec2-c267ef306b40",
   "metadata": {},
   "outputs": [],
   "source": [
    "source2 = requests.get('https://www.imdb.com/list/ls091520106/?sort=user_rating,desc&st_dt=&mode=detail&page=1')\n",
    "soup2 = BeautifulSoup(source2.content)\n",
    "#rates = soup2.find_all(\"span\",class_=\"ipl-rating-star__rating\")\n",
    "\n",
    "\n",
    "#names = soup1.select('h3.lister-item-header > a')\n",
    "#class=\"ipl-rating-star small\"\n",
    "rates = soup2.find_all(\"span\",class_=\"ipl-rating-star__rating\")\n",
    "#class=\"ipl-rating-star__rating\""
   ]
  },
  {
   "cell_type": "code",
   "execution_count": 154,
   "id": "c79574ed-4026-4c21-bd7f-2050280aad1e",
   "metadata": {},
   "outputs": [],
   "source": [
    "list_a =[]\n",
    "for x in rates:\n",
    "    list_a.append(x.text.replace('<span class=\"ipl-rating-star__rating\">',' '))"
   ]
  },
  {
   "cell_type": "code",
   "execution_count": 156,
   "id": "8984f617-a5a9-4c9e-9cca-bcf6d6224a73",
   "metadata": {},
   "outputs": [
    {
     "data": {
      "text/plain": [
       "list"
      ]
     },
     "execution_count": 156,
     "metadata": {},
     "output_type": "execute_result"
    }
   ],
   "source": [
    "list_a"
   ]
  },
  {
   "cell_type": "raw",
   "id": "31e44116-a665-41b3-b9de-d5383dc9ce5a",
   "metadata": {},
   "source": [
    "arr_v = []\n",
    "for x in list_a:\n",
    "    if x.isdigit():\n",
    "        print(x)"
   ]
  },
  {
   "cell_type": "code",
   "execution_count": 158,
   "id": "68e191a6-d3b8-436d-86f1-c0e455e15791",
   "metadata": {},
   "outputs": [],
   "source": [
    "\n",
    "\n",
    "\n",
    "source3 = requests.get('https://www.imdb.com/list/ls091520106/?sort=user_rating,desc&st_dt=&mode=detail&page=1')\n",
    "soup3 = BeautifulSoup(source3.content)\n",
    "\n",
    "year = soup2.find_all(\"span\",class_=\"lister-item-year\")\n",
    "\n",
    "#class=\"lister-item-year text-muted unbold\""
   ]
  },
  {
   "cell_type": "code",
   "execution_count": 179,
   "id": "ecba94c2-28e6-4385-9675-da5402ce4498",
   "metadata": {},
   "outputs": [],
   "source": [
    "Year_of_release = []\n",
    "for x in year:\n",
    "    Year_of_release.append(x.text.strip().replace('(','').replace(')','').replace('I ',''))"
   ]
  },
  {
   "cell_type": "code",
   "execution_count": 182,
   "id": "fc060aa5-fc12-46dd-8790-05a6a4862d7a",
   "metadata": {},
   "outputs": [],
   "source": [
    "#Year_of_release"
   ]
  },
  {
   "cell_type": "code",
   "execution_count": 162,
   "id": "3b037510-c5f9-4971-9307-bb302cc45e4e",
   "metadata": {},
   "outputs": [
    {
     "data": {
      "text/plain": [
       "100"
      ]
     },
     "execution_count": 162,
     "metadata": {},
     "output_type": "execute_result"
    }
   ],
   "source": [
    "len(Year_of_release)"
   ]
  },
  {
   "cell_type": "code",
   "execution_count": 171,
   "id": "d79a1e06-eafd-481b-98df-de61b34fdb86",
   "metadata": {},
   "outputs": [],
   "source": [
    "result_list = []\n",
    "release = []\n",
    "for x in Year_of_release:\n",
    "    release.append(x.replace('(',''))\n",
    "        \n",
    "for y in release:\n",
    "    result_list.append(y.replace(')',''))\n",
    "    \n",
    "    "
   ]
  },
  {
   "cell_type": "code",
   "execution_count": 175,
   "id": "070c68b5-3333-42b6-8e76-d62353896628",
   "metadata": {},
   "outputs": [],
   "source": [
    "# result_list\n",
    "year_list =[]\n",
    "for y in result_list:\n",
    "    year_list.append(y.replace('I ',''))"
   ]
  },
  {
   "cell_type": "code",
   "execution_count": 181,
   "id": "eb7b2a14-1dc7-47fe-af0f-f66c42bdaf6c",
   "metadata": {},
   "outputs": [],
   "source": [
    "#year_list"
   ]
  },
  {
   "cell_type": "code",
   "execution_count": 271,
   "id": "4e0e759c-2325-4f92-a9ac-2ffad4aedffb",
   "metadata": {},
   "outputs": [],
   "source": [
    "names_x = []\n",
    "release = []\n",
    "rating = []\n",
    "data = pd.DataFrame({})\n",
    "def IMDB_movies_func1(*args):\n",
    "    url = input()\n",
    "    source = requests.get(url=url)\n",
    "    soup = BeautifulSoup(source.content)\n",
    "    names = soup.select('h3.lister-item-header > a')\n",
    "    years = soup.find_all(\"span\",class_=\"lister-item-year\")\n",
    "    Rate = soup.find_all(\"div\",class_=\"ipl-rating-star small\")\n",
    "    values = [names,years,list(Rate)]\n",
    "    for x in values:\n",
    "        if x == values[0]:\n",
    "            for y in x:\n",
    "                names_x.append(y.text.strip())\n",
    "        if x == values[1]:\n",
    "            for y in x:\n",
    "                release.append(y.text.strip().replace('(','').replace(')','').replace('I ',''))\n",
    "        if x == values[2]:\n",
    "            for y in x:\n",
    "                rating.append(y.text.strip())\n",
    "                \n",
    "            \n",
    "            \n",
    "                \n",
    "    #print(names_x,release)\n",
    "    data['Name'] = names_x\n",
    "    data['Year_of_release'] = release\n",
    "    data['Rating'] = rating\n",
    "    return data\n",
    "    \n",
    "                \n",
    "                \n",
    "            \n",
    "      \n",
    "    #return movie_name\n",
    "#Year_of_release.append(x.text.strip().replace('(','').replace(')','').replace('I ',''))\n",
    "#  "
   ]
  },
  {
   "cell_type": "code",
   "execution_count": 272,
   "id": "5835746d-8619-490c-9bab-42e0f6e7a8a1",
   "metadata": {},
   "outputs": [
    {
     "name": "stdin",
     "output_type": "stream",
     "text": [
      "  https://www.imdb.com/list/ls091520106/?sort=user_rating,desc&st_dt=&mode=detail&page=1\n"
     ]
    },
    {
     "data": {
      "text/html": [
       "<div>\n",
       "<style scoped>\n",
       "    .dataframe tbody tr th:only-of-type {\n",
       "        vertical-align: middle;\n",
       "    }\n",
       "\n",
       "    .dataframe tbody tr th {\n",
       "        vertical-align: top;\n",
       "    }\n",
       "\n",
       "    .dataframe thead th {\n",
       "        text-align: right;\n",
       "    }\n",
       "</style>\n",
       "<table border=\"1\" class=\"dataframe\">\n",
       "  <thead>\n",
       "    <tr style=\"text-align: right;\">\n",
       "      <th></th>\n",
       "      <th>Name</th>\n",
       "      <th>Year_of_release</th>\n",
       "      <th>Rating</th>\n",
       "    </tr>\n",
       "  </thead>\n",
       "  <tbody>\n",
       "    <tr>\n",
       "      <th>0</th>\n",
       "      <td>The Shawshank Redemption</td>\n",
       "      <td>1994</td>\n",
       "      <td>9.3</td>\n",
       "    </tr>\n",
       "    <tr>\n",
       "      <th>1</th>\n",
       "      <td>The Godfather</td>\n",
       "      <td>1972</td>\n",
       "      <td>9.2</td>\n",
       "    </tr>\n",
       "    <tr>\n",
       "      <th>2</th>\n",
       "      <td>The Dark Knight</td>\n",
       "      <td>2008</td>\n",
       "      <td>9</td>\n",
       "    </tr>\n",
       "    <tr>\n",
       "      <th>3</th>\n",
       "      <td>The Godfather: Part II</td>\n",
       "      <td>1974</td>\n",
       "      <td>9</td>\n",
       "    </tr>\n",
       "    <tr>\n",
       "      <th>4</th>\n",
       "      <td>12 Angry Men</td>\n",
       "      <td>1957</td>\n",
       "      <td>9</td>\n",
       "    </tr>\n",
       "    <tr>\n",
       "      <th>...</th>\n",
       "      <td>...</td>\n",
       "      <td>...</td>\n",
       "      <td>...</td>\n",
       "    </tr>\n",
       "    <tr>\n",
       "      <th>95</th>\n",
       "      <td>Vertigo</td>\n",
       "      <td>1958</td>\n",
       "      <td>8.3</td>\n",
       "    </tr>\n",
       "    <tr>\n",
       "      <th>96</th>\n",
       "      <td>North by Northwest</td>\n",
       "      <td>1959</td>\n",
       "      <td>8.3</td>\n",
       "    </tr>\n",
       "    <tr>\n",
       "      <th>97</th>\n",
       "      <td>Das Boot</td>\n",
       "      <td>1981</td>\n",
       "      <td>8.3</td>\n",
       "    </tr>\n",
       "    <tr>\n",
       "      <th>98</th>\n",
       "      <td>M - Eine Stadt sucht einen Mörder</td>\n",
       "      <td>1931</td>\n",
       "      <td>8.3</td>\n",
       "    </tr>\n",
       "    <tr>\n",
       "      <th>99</th>\n",
       "      <td>The Kid</td>\n",
       "      <td>1921</td>\n",
       "      <td>8.3</td>\n",
       "    </tr>\n",
       "  </tbody>\n",
       "</table>\n",
       "<p>100 rows × 3 columns</p>\n",
       "</div>"
      ],
      "text/plain": [
       "                                 Name Year_of_release Rating\n",
       "0            The Shawshank Redemption            1994    9.3\n",
       "1                       The Godfather            1972    9.2\n",
       "2                     The Dark Knight            2008      9\n",
       "3              The Godfather: Part II            1974      9\n",
       "4                        12 Angry Men            1957      9\n",
       "..                                ...             ...    ...\n",
       "95                            Vertigo            1958    8.3\n",
       "96                 North by Northwest            1959    8.3\n",
       "97                           Das Boot            1981    8.3\n",
       "98  M - Eine Stadt sucht einen Mörder            1931    8.3\n",
       "99                            The Kid            1921    8.3\n",
       "\n",
       "[100 rows x 3 columns]"
      ]
     },
     "execution_count": 272,
     "metadata": {},
     "output_type": "execute_result"
    }
   ],
   "source": [
    "IMDB_movies_func1()"
   ]
  },
  {
   "cell_type": "code",
   "execution_count": null,
   "id": "c9ee59b4-fc21-44f2-bffd-e492752fc99f",
   "metadata": {},
   "outputs": [],
   "source": [
    "\n"
   ]
  },
  {
   "cell_type": "code",
   "execution_count": 187,
   "id": "5e851d83-02fc-428e-b0ff-3d8a1ca1b58c",
   "metadata": {},
   "outputs": [],
   "source": [
    "b = 22\n",
    "v = 99\n",
    "a = [b,v]"
   ]
  },
  {
   "cell_type": "code",
   "execution_count": 188,
   "id": "1c00909c-6db1-4b2a-8597-751d255888a9",
   "metadata": {},
   "outputs": [
    {
     "data": {
      "text/plain": [
       "[22, 99]"
      ]
     },
     "execution_count": 188,
     "metadata": {},
     "output_type": "execute_result"
    }
   ],
   "source": [
    "a"
   ]
  },
  {
   "cell_type": "code",
   "execution_count": null,
   "id": "99b4ed06-4cb1-43f7-a78a-038ae3f3deca",
   "metadata": {},
   "outputs": [],
   "source": []
  },
  {
   "cell_type": "code",
   "execution_count": 258,
   "id": "3bb3df2c-b2d2-45c5-a5cf-aaaa451f02d2",
   "metadata": {},
   "outputs": [],
   "source": [
    "\n",
    "source4 = requests.get('https://www.imdb.com/list/ls091520106/?sort=user_rating,desc&st_dt=&mode=detail&page=1')\n",
    "soup4 = BeautifulSoup(source3.content)\n",
    "\n",
    "Rate = soup4.find_all(\"div\",class_=\"ipl-rating-star small\")\n",
    "# class=\"ipl-rating-star small\""
   ]
  },
  {
   "cell_type": "code",
   "execution_count": 261,
   "id": "0dc28dad-356e-4a6c-ae3c-530efd98c2de",
   "metadata": {},
   "outputs": [],
   "source": [
    "arr_v=  list(Rate)"
   ]
  },
  {
   "cell_type": "code",
   "execution_count": 260,
   "id": "ab2f6a13-da1a-4085-ab67-f4b25c0480a0",
   "metadata": {},
   "outputs": [
    {
     "data": {
      "text/plain": [
       "bs4.element.ResultSet"
      ]
     },
     "execution_count": 260,
     "metadata": {},
     "output_type": "execute_result"
    }
   ],
   "source": [
    "type(Rate)"
   ]
  },
  {
   "cell_type": "code",
   "execution_count": 274,
   "id": "d1e310b4-1940-45f3-a68a-45190f22cd32",
   "metadata": {},
   "outputs": [],
   "source": [
    "#Rate"
   ]
  },
  {
   "cell_type": "code",
   "execution_count": 267,
   "id": "5d70315a-db85-41ec-b803-b4116580406d",
   "metadata": {},
   "outputs": [],
   "source": [
    "arr_v\n",
    "rating = []\n",
    "for x in arr_v:\n",
    "    rating.append(x.text.strip())"
   ]
  },
  {
   "cell_type": "code",
   "execution_count": 275,
   "id": "e04d3937-2761-435c-bf5f-09619f6af272",
   "metadata": {},
   "outputs": [],
   "source": [
    "#rating"
   ]
  },
  {
   "cell_type": "code",
   "execution_count": 269,
   "id": "3ef8a83d-4d89-4101-8205-1285640750df",
   "metadata": {},
   "outputs": [
    {
     "data": {
      "text/plain": [
       "100"
      ]
     },
     "execution_count": 269,
     "metadata": {},
     "output_type": "execute_result"
    }
   ],
   "source": [
    "len(rating)"
   ]
  },
  {
   "cell_type": "code",
   "execution_count": 374,
   "id": "69f23bd7-1307-40e1-9342-daa5a9bcfd42",
   "metadata": {},
   "outputs": [],
   "source": [
    "\n",
    "def Batsmen_detaitls_func(*args):\n",
    "    data = pd.DataFrame({})\n",
    "    name_list = []\n",
    "    price_list = []\n",
    "    image_list = []\n",
    "    rating_list =[]\n",
    "    url = input()\n",
    "    html = requests.get(url=url).content\n",
    "    sel = Selector(text= html)\n",
    "    source = requests.get(url=url)\n",
    "    soup = BeautifulSoup(source.content)\n",
    "    #names = soup.select('h3.lister-item-header > a')\n",
    "    product_name = soup.find_all(\"span\",class_=\"a-size-base-plus a-color-base a-text-normal\")\n",
    "    product_price = soup.find_all(\"span\",class_=\"a-price-whole\")\n",
    "    image_url = sel.xpath(\"//img[@class ='s-image']/@src\").extract()\n",
    "    rating = sel.xpath(\"//span[@class='a-size-base']\").extract()\n",
    "   \n",
    "    \n",
    "    values = [product_name ,product_price,image_url,rating]\n",
    "    for x in values:\n",
    "        if x == values[0]:\n",
    "            for y in x:\n",
    "                name_list.append(y.text.strip())\n",
    "                #matches_list.sort(reverse=True)\n",
    "                if len(name_list) == 23:\n",
    "                    break\n",
    "        if x == values[1]:\n",
    "            for y in x:\n",
    "                price_list.append(y.text.strip())\n",
    "                #points_list.sort(reverse=True)\n",
    "                if len(price_list) == 23:\n",
    "                    break\n",
    "        if x == values[2]:\n",
    "            for y in x:\n",
    "                image_url.append(y)\n",
    "                #rating_list.sort(reverse=True)\n",
    "                if len(image_url) == 23:\n",
    "                    break\n",
    "        if x == values[3]:\n",
    "            for y in x:\n",
    "                rating_list.append(y.replace('<span class=\"a-size-base\">','').replace('</span>',''))\n",
    "                #rating_list.sort(reverse=True)\n",
    "                if len(rating_list) == 23:\n",
    "                    break             \n",
    "                \n",
    "    #print(names_x,release)\n",
    "    data['Product_Name'] = name_list\n",
    "    data['Product_Price'] = price_list\n",
    "    data['Product_Image_link'] = image_list\n",
    "    data['Product_Rating'] = rating_list\n",
    "    return data"
   ]
  },
  {
   "cell_type": "code",
   "execution_count": 375,
   "id": "4141ee39-99ff-4394-a488-8ee71e7f8e19",
   "metadata": {},
   "outputs": [
    {
     "name": "stdin",
     "output_type": "stream",
     "text": [
      " https://www.icc-cricket.com/rankings/mens/player-rankings/odi/bowling\n"
     ]
    },
    {
     "data": {
      "text/html": [
       "<div>\n",
       "<style scoped>\n",
       "    .dataframe tbody tr th:only-of-type {\n",
       "        vertical-align: middle;\n",
       "    }\n",
       "\n",
       "    .dataframe tbody tr th {\n",
       "        vertical-align: top;\n",
       "    }\n",
       "\n",
       "    .dataframe thead th {\n",
       "        text-align: right;\n",
       "    }\n",
       "</style>\n",
       "<table border=\"1\" class=\"dataframe\">\n",
       "  <thead>\n",
       "    <tr style=\"text-align: right;\">\n",
       "      <th></th>\n",
       "      <th>Player_Name</th>\n",
       "      <th>Player_Team</th>\n",
       "      <th>Player_Rating</th>\n",
       "    </tr>\n",
       "  </thead>\n",
       "  <tbody>\n",
       "    <tr>\n",
       "      <th>0</th>\n",
       "      <td>Mehedi Hasan</td>\n",
       "      <td>BAN</td>\n",
       "      <td>713</td>\n",
       "    </tr>\n",
       "    <tr>\n",
       "      <th>1</th>\n",
       "      <td>Mujeeb Ur Rahman</td>\n",
       "      <td>AFG</td>\n",
       "      <td>708</td>\n",
       "    </tr>\n",
       "    <tr>\n",
       "      <th>2</th>\n",
       "      <td>Matt Henry</td>\n",
       "      <td>NZ</td>\n",
       "      <td>691</td>\n",
       "    </tr>\n",
       "    <tr>\n",
       "      <th>3</th>\n",
       "      <td>Jasprit Bumrah</td>\n",
       "      <td>IND</td>\n",
       "      <td>690</td>\n",
       "    </tr>\n",
       "    <tr>\n",
       "      <th>4</th>\n",
       "      <td>Kagiso Rabada</td>\n",
       "      <td>SA</td>\n",
       "      <td>666</td>\n",
       "    </tr>\n",
       "    <tr>\n",
       "      <th>5</th>\n",
       "      <td>Chris Woakes</td>\n",
       "      <td>ENG</td>\n",
       "      <td>665</td>\n",
       "    </tr>\n",
       "    <tr>\n",
       "      <th>6</th>\n",
       "      <td>Josh Hazlewood</td>\n",
       "      <td>AUS</td>\n",
       "      <td>660</td>\n",
       "    </tr>\n",
       "    <tr>\n",
       "      <th>7</th>\n",
       "      <td>Pat Cummins</td>\n",
       "      <td>AUS</td>\n",
       "      <td>646</td>\n",
       "    </tr>\n",
       "    <tr>\n",
       "      <th>8</th>\n",
       "      <td>Mustafizur Rahman</td>\n",
       "      <td>BAN</td>\n",
       "      <td>645</td>\n",
       "    </tr>\n",
       "    <tr>\n",
       "      <th>9</th>\n",
       "      <td>Mohammad Amir</td>\n",
       "      <td>PAK</td>\n",
       "      <td>638</td>\n",
       "    </tr>\n",
       "  </tbody>\n",
       "</table>\n",
       "</div>"
      ],
      "text/plain": [
       "         Player_Name Player_Team Player_Rating\n",
       "0       Mehedi Hasan         BAN           713\n",
       "1   Mujeeb Ur Rahman         AFG           708\n",
       "2         Matt Henry          NZ           691\n",
       "3     Jasprit Bumrah         IND           690\n",
       "4      Kagiso Rabada          SA           666\n",
       "5       Chris Woakes         ENG           665\n",
       "6     Josh Hazlewood         AUS           660\n",
       "7        Pat Cummins         AUS           646\n",
       "8  Mustafizur Rahman         BAN           645\n",
       "9      Mohammad Amir         PAK           638"
      ]
     },
     "execution_count": 375,
     "metadata": {},
     "output_type": "execute_result"
    }
   ],
   "source": [
    "Batsmen_detaitls_func()"
   ]
  },
  {
   "cell_type": "code",
   "execution_count": null,
   "id": "d6d9eb40-0930-4ebf-a3d0-b20663a2cd16",
   "metadata": {},
   "outputs": [],
   "source": []
  },
  {
   "cell_type": "code",
   "execution_count": 18,
   "id": "47878a80-c0de-4414-8b79-8ca02e1a5c90",
   "metadata": {},
   "outputs": [
    {
     "data": {
      "text/plain": [
       "<Response [200]>"
      ]
     },
     "execution_count": 18,
     "metadata": {},
     "output_type": "execute_result"
    }
   ],
   "source": [
    "source11 = requests.get(url='https://www.amazon.in/Smartphones-Under-%E2%82%B920-000-Basic-Mobiles/s?rh=n%3A1805560031%2Cp_36%3A-2000000')\n",
    "soup22 = BeautifulSoup(source11.content)\n",
    "source11\n",
    "    \n",
    "# https://www.amazon.in/s?k=all+mobile+under+20000&rh=n%3A1389432031&ref=nb_sb_noss    "
   ]
  },
  {
   "cell_type": "code",
   "execution_count": 435,
   "id": "79e46351-7d29-43e8-b745-ac700e19cf77",
   "metadata": {},
   "outputs": [],
   "source": [
    "#m = soup.find_all(\"tr\",class_=\"table-body\"\n",
    "\n",
    "#name = soup.select('td.rankings-table__name>a')\n",
    "#name = soup.find_all(\"td\",class_=\"table-body__cell rating\")\n",
    "#team = soup.find_all(\"span\",class_=\"table-body__logo-text\")\n",
    "#class=\"table-body__logo-text\"\n",
    "\n",
    "\n",
    "# product_name = soup22.find_all(\"span\",class_=\"a-size-base-plus a-color-base a-text-normal\")\n",
    "\n",
    "product_url = soup22.select(\"img\",class_='s-image')\n",
    "\n",
    "response.xpath('//img')"
   ]
  },
  {
   "cell_type": "code",
   "execution_count": 436,
   "id": "db9c3ebb-e11f-4a1d-a6c7-b2e5eab4f210",
   "metadata": {},
   "outputs": [],
   "source": [
    "# print(matches)\n",
    "axx =[]\n",
    "for x in product_url:\n",
    "    axx.append(x.text)\n",
    "    \n",
    "    \n",
    "    \n"
   ]
  },
  {
   "cell_type": "code",
   "execution_count": 2,
   "id": "8479ffa8-247a-49f0-9449-700840190901",
   "metadata": {},
   "outputs": [],
   "source": [
    "from scrapy import Selector"
   ]
  },
  {
   "cell_type": "code",
   "execution_count": 437,
   "id": "4e5d4498-f79e-48d7-9bfa-db1367f62ecf",
   "metadata": {},
   "outputs": [
    {
     "name": "stdout",
     "output_type": "stream",
     "text": [
      "['', '', '', '', '', '', '', '', '', '', '', '', '', '', '', '', '', '', '', '', '', '', '', '', '', '', '']\n"
     ]
    }
   ],
   "source": [
    "print(axx)"
   ]
  },
  {
   "cell_type": "raw",
   "id": "1878d643-2f96-464d-a70d-876f1d590977",
   "metadata": {},
   "source": [
    "1) name = soup.select('td.rankings-table__name>a')\n",
    "2) team = soup.find_all(\"span\",class_=\"table-body__logo-text\")\n",
    "3) rate = soup.find_all(\"td\",class_=\"table-body__cell rating\")\n",
    "\n",
    "https://www.amazon.in/s?k=all+mobile+under+20000&crid=1RP5D9PHB4DD9&sprefix=all+mobi%2Caps%2C439&ref=nb_sb_ss_ts-doa-p_7_8"
   ]
  },
  {
   "cell_type": "code",
   "execution_count": null,
   "id": "4e2e05f9-850a-4bbf-9af3-656e23b7a0a4",
   "metadata": {},
   "outputs": [],
   "source": [
    "[<Selector xpath='//img' data='<img src=\"https://db.ygoprodeck.com/sear'>]"
   ]
  },
  {
   "cell_type": "raw",
   "id": "f30ebdbe-4566-41c2-818e-bf1fd2475b40",
   "metadata": {},
   "source": [
    "source5 = requests.get(url=source_url)\n",
    "    html = requests.get(url=source_url).content\n",
    "    sel = Selector(text= html)\n",
    "    genre =sel.xpath('//p[@class =\"genre-links hidden-phone\"]').extract()"
   ]
  },
  {
   "cell_type": "code",
   "execution_count": 3,
   "id": "5a37c5f8-2dd8-4a68-822a-8c1d820948a2",
   "metadata": {},
   "outputs": [],
   "source": [
    "html = requests.get(url='https://www.amazon.in/Smartphones-Under-%E2%82%B920-000-Basic-Mobiles/s?rh=n%3A1805560031%2Cp_36%3A-2000000').content"
   ]
  },
  {
   "cell_type": "code",
   "execution_count": 4,
   "id": "a0aaf0de-0fe7-48c8-b6ae-9a98f40a92a9",
   "metadata": {},
   "outputs": [],
   "source": [
    "sel = Selector(text= html)"
   ]
  },
  {
   "cell_type": "code",
   "execution_count": 464,
   "id": "047870a6-e6df-4bc2-a525-dba97e9e30fc",
   "metadata": {},
   "outputs": [],
   "source": [
    "#data1 = sel.xpath(\"//img[@class ='s-image']/@src\").extract()"
   ]
  },
  {
   "cell_type": "code",
   "execution_count": 475,
   "id": "c50ba8a1-8e13-4c1d-8e23-9d4d7f367f2a",
   "metadata": {},
   "outputs": [],
   "source": [
    "rate = soup22.select(\"span\",class_=\"a-size-base\")\n"
   ]
  },
  {
   "cell_type": "code",
   "execution_count": 477,
   "id": "56b789de-271f-439c-8f95-3838309d17e4",
   "metadata": {},
   "outputs": [],
   "source": [
    "rating = sel.xpath(\"//span[@class='a-size-base']\").extract()"
   ]
  },
  {
   "cell_type": "code",
   "execution_count": 480,
   "id": "d2fbeeae-47e7-4908-9cb9-2479c68a2ba1",
   "metadata": {},
   "outputs": [],
   "source": [
    "# rating\n",
    "# 34,860\n",
    "\n",
    "product_price = soup22.find_all(\"span\",class_=\"a-price-whole\")"
   ]
  },
  {
   "cell_type": "code",
   "execution_count": 481,
   "id": "5c09f321-0881-48f0-a6d8-fe7abea12d11",
   "metadata": {},
   "outputs": [
    {
     "data": {
      "text/plain": [
       "23"
      ]
     },
     "execution_count": 481,
     "metadata": {},
     "output_type": "execute_result"
    }
   ],
   "source": [
    "len(product_price)"
   ]
  },
  {
   "cell_type": "code",
   "execution_count": 483,
   "id": "b51ce229-cefb-4f4b-b0dd-51de51582b68",
   "metadata": {},
   "outputs": [],
   "source": [
    "image_url = sel.xpath(\"//img[@class ='s-image']/@src\").extract()"
   ]
  },
  {
   "cell_type": "code",
   "execution_count": 16,
   "id": "944a91cb-d5a8-4cc4-b397-e1146d92a3d0",
   "metadata": {},
   "outputs": [
    {
     "ename": "NameError",
     "evalue": "name 'soup22' is not defined",
     "output_type": "error",
     "traceback": [
      "\u001b[0;31m---------------------------------------------------------------------------\u001b[0m",
      "\u001b[0;31mNameError\u001b[0m                                 Traceback (most recent call last)",
      "\u001b[0;32m<ipython-input-16-ce0b286fc1e5>\u001b[0m in \u001b[0;36m<module>\u001b[0;34m\u001b[0m\n\u001b[0;32m----> 1\u001b[0;31m \u001b[0mproduct_name\u001b[0m \u001b[0;34m=\u001b[0m \u001b[0msoup22\u001b[0m\u001b[0;34m.\u001b[0m\u001b[0mfind_all\u001b[0m\u001b[0;34m(\u001b[0m\u001b[0;34m\"span\"\u001b[0m\u001b[0;34m,\u001b[0m\u001b[0mclass_\u001b[0m\u001b[0;34m=\u001b[0m\u001b[0;34m\"a-size-base-plus a-color-base a-text-normal\"\u001b[0m\u001b[0;34m)\u001b[0m\u001b[0;34m\u001b[0m\u001b[0;34m\u001b[0m\u001b[0m\n\u001b[0m",
      "\u001b[0;31mNameError\u001b[0m: name 'soup22' is not defined"
     ]
    }
   ],
   "source": [
    "product_name = soup22.find_all(\"span\",class_=\"a-size-base-plus a-color-base a-text-normal\")\n"
   ]
  },
  {
   "cell_type": "code",
   "execution_count": null,
   "id": "c3ebabfe-d0fe-48b0-8db7-0eca700aeff0",
   "metadata": {},
   "outputs": [],
   "source": [
    "for x in list(product_name):\n",
    "    len(x.text.strip())\n",
    "    "
   ]
  },
  {
   "cell_type": "code",
   "execution_count": 503,
   "id": "fc069fb3-bac0-4bd7-82f0-f1be9d7d6bc8",
   "metadata": {},
   "outputs": [],
   "source": [
    "image_url = sel.xpath(\"//img[@class ='s-image']/@src\").extract()"
   ]
  },
  {
   "cell_type": "code",
   "execution_count": 494,
   "id": "04666978-9471-4e02-8f51-63fe1c8a9707",
   "metadata": {},
   "outputs": [
    {
     "data": {
      "text/plain": [
       "24"
      ]
     },
     "execution_count": 494,
     "metadata": {},
     "output_type": "execute_result"
    }
   ],
   "source": [
    "or x in image:\n",
    "    len(x.text.strip())"
   ]
  },
  {
   "cell_type": "code",
   "execution_count": null,
   "id": "2b4ef975-9237-4fa1-abdb-ce8d6da1e2ce",
   "metadata": {},
   "outputs": [],
   "source": []
  },
  {
   "cell_type": "code",
   "execution_count": 502,
   "id": "e3f72228-dfff-4e45-9419-7525de7a7e51",
   "metadata": {},
   "outputs": [
    {
     "name": "stdin",
     "output_type": "stream",
     "text": [
      " https://www.amazon.in/Smartphones-Under-%E2%82%B920-000-Basic-Mobiles/s?rh=n%3A1805560031%2Cp_36%3A-2000000\n"
     ]
    },
    {
     "ename": "KeyboardInterrupt",
     "evalue": "",
     "output_type": "error",
     "traceback": [
      "\u001b[0;31m---------------------------------------------------------------------------\u001b[0m",
      "\u001b[0;31mKeyboardInterrupt\u001b[0m                         Traceback (most recent call last)",
      "\u001b[0;32m<ipython-input-502-d73448a85174>\u001b[0m in \u001b[0;36m<module>\u001b[0;34m\u001b[0m\n\u001b[0;32m----> 1\u001b[0;31m \u001b[0mamazon_phone_func\u001b[0m\u001b[0;34m(\u001b[0m\u001b[0;34m)\u001b[0m\u001b[0;34m\u001b[0m\u001b[0;34m\u001b[0m\u001b[0m\n\u001b[0m",
      "\u001b[0;32m<ipython-input-501-4f81b3cf3074>\u001b[0m in \u001b[0;36mamazon_phone_func\u001b[0;34m(*args)\u001b[0m\n\u001b[1;32m     33\u001b[0m         \u001b[0;32mif\u001b[0m \u001b[0mx\u001b[0m \u001b[0;34m==\u001b[0m \u001b[0mvalues\u001b[0m\u001b[0;34m[\u001b[0m\u001b[0;36m2\u001b[0m\u001b[0;34m]\u001b[0m\u001b[0;34m:\u001b[0m\u001b[0;34m\u001b[0m\u001b[0;34m\u001b[0m\u001b[0m\n\u001b[1;32m     34\u001b[0m             \u001b[0;32mfor\u001b[0m \u001b[0my\u001b[0m \u001b[0;32min\u001b[0m \u001b[0mx\u001b[0m\u001b[0;34m:\u001b[0m\u001b[0;34m\u001b[0m\u001b[0;34m\u001b[0m\u001b[0m\n\u001b[0;32m---> 35\u001b[0;31m                 \u001b[0mimage_url\u001b[0m\u001b[0;34m.\u001b[0m\u001b[0mappend\u001b[0m\u001b[0;34m(\u001b[0m\u001b[0my\u001b[0m\u001b[0;34m)\u001b[0m\u001b[0;34m\u001b[0m\u001b[0;34m\u001b[0m\u001b[0m\n\u001b[0m\u001b[1;32m     36\u001b[0m                 \u001b[0;31m#rating_list.sort(reverse=True)\u001b[0m\u001b[0;34m\u001b[0m\u001b[0;34m\u001b[0m\u001b[0;34m\u001b[0m\u001b[0m\n\u001b[1;32m     37\u001b[0m                 \u001b[0;31m#if len(image_url) == 23:\u001b[0m\u001b[0;34m\u001b[0m\u001b[0;34m\u001b[0m\u001b[0;34m\u001b[0m\u001b[0m\n",
      "\u001b[0;31mKeyboardInterrupt\u001b[0m: "
     ]
    }
   ],
   "source": [
    "amazon_phone_func()\n",
    "\n"
   ]
  },
  {
   "cell_type": "code",
   "execution_count": 23,
   "id": "be1e6ae1-8ef0-4b8a-ab25-a3a02f03be60",
   "metadata": {},
   "outputs": [],
   "source": [
    "#product_name = soup22.find_all(\"span\",class_=\"a-size-base-plus a-color-base a-text-normal\")\n",
    "product_price = soup22.find_all(\"span\",class_=\"a-price-whole\")"
   ]
  },
  {
   "cell_type": "code",
   "execution_count": 24,
   "id": "60b00fe9-b7eb-4e6f-a2a0-144b9bdb2fc1",
   "metadata": {},
   "outputs": [
    {
     "name": "stdout",
     "output_type": "stream",
     "text": [
      "8,799\n",
      "6,798\n",
      "10,499\n",
      "6,799\n",
      "12,499\n",
      "10,999\n",
      "14,499\n",
      "12,499\n",
      "10,999\n",
      "10,499\n",
      "10,499\n",
      "10,999\n",
      "10,499\n",
      "8,799\n",
      "10,499\n",
      "12,499\n",
      "16,999\n",
      "9,499\n",
      "7,499\n",
      "11,490\n",
      "8,799\n",
      "15,999\n",
      "14,499\n"
     ]
    }
   ],
   "source": [
    "for x in product_price:\n",
    "    print(x.text.strip())"
   ]
  },
  {
   "cell_type": "code",
   "execution_count": 25,
   "id": "00261469-00a7-447d-a91a-aa3a7ebb46ba",
   "metadata": {},
   "outputs": [
    {
     "data": {
      "text/plain": [
       "23"
      ]
     },
     "execution_count": 25,
     "metadata": {},
     "output_type": "execute_result"
    }
   ],
   "source": [
    "len(product_price)"
   ]
  },
  {
   "cell_type": "raw",
   "id": "360d0b9c-af6c-455e-a803-7ad4cf53a910",
   "metadata": {},
   "source": [
    "1 ) image_url = sel.xpath(\"//img[@class ='s-image']/@src\").extract()\n",
    "for x in image_url:\n",
    "    print(x)\n",
    "\n",
    "\n",
    "2)\n",
    "Rate= sel.xpath(\"//span[@class='a-size-base']\").extract()\n",
    "x.replace('<span class=\"a-size-base\">','').replace('</span>','')\n",
    "\n",
    "\n",
    "\n",
    "3)\n",
    "product_name = soup22.find_all(\"span\",class_=\"a-size-base-plus a-color-base a-text-normal\")\n",
    "\n",
    "for x in product_name:\n",
    "    print(x.text.strip())\n",
    "    \n",
    "    \n",
    "4)   \n",
    "product_price = soup22.find_all(\"span\",class_=\"a-price-whole\")\n",
    "\n",
    "for x in product_price:\n",
    "    print(x.text.strip())"
   ]
  },
  {
   "cell_type": "code",
   "execution_count": null,
   "id": "73aef2fd-ee05-423d-afa4-07a88a981524",
   "metadata": {},
   "outputs": [],
   "source": []
  },
  {
   "cell_type": "code",
   "execution_count": 33,
   "id": "6da80539-880c-4102-83d0-5357195da057",
   "metadata": {},
   "outputs": [],
   "source": [
    "product_price_list=[]\n",
    "for x in product_price:\n",
    "    product_price_list.append(x.text.strip())\n",
    "    if len(product_price_list) ==23:\n",
    "        break"
   ]
  },
  {
   "cell_type": "code",
   "execution_count": 34,
   "id": "9267dff8-766f-4623-a822-a1f332d6f025",
   "metadata": {},
   "outputs": [
    {
     "data": {
      "text/plain": [
       "23"
      ]
     },
     "execution_count": 34,
     "metadata": {},
     "output_type": "execute_result"
    }
   ],
   "source": [
    "len(product_price_list)\n",
    "    "
   ]
  },
  {
   "cell_type": "code",
   "execution_count": 36,
   "id": "d791f13b-e07d-42e3-b729-78f3d4e4f2ae",
   "metadata": {},
   "outputs": [],
   "source": [
    "df = pd.DataFrame({})"
   ]
  },
  {
   "cell_type": "code",
   "execution_count": 37,
   "id": "5b83f04f-f151-48a3-8a2b-f7f0e9530390",
   "metadata": {},
   "outputs": [],
   "source": [
    "df['product_price'] = product_price_list"
   ]
  },
  {
   "cell_type": "code",
   "execution_count": 39,
   "id": "84c9f83b-fe61-4260-98c9-aabae3e07974",
   "metadata": {},
   "outputs": [],
   "source": [
    "#df 1"
   ]
  },
  {
   "cell_type": "code",
   "execution_count": 40,
   "id": "738cf00d-a114-4449-9a97-a0159ab87874",
   "metadata": {},
   "outputs": [],
   "source": [
    "Rate= sel.xpath(\"//span[@class='a-size-base']\").extract()\n",
    "phone_rate = []\n",
    "for x in Rate:\n",
    "    phone_rate.append(x.replace('<span class=\"a-size-base\">','').replace('</span>',''))\n",
    "    if len(phone_rate) ==23:\n",
    "        break\n",
    "df['Mobile_rate'] = phone_rate      "
   ]
  },
  {
   "cell_type": "code",
   "execution_count": 42,
   "id": "479496e9-71e0-4985-bf1c-d4d8f532472f",
   "metadata": {},
   "outputs": [],
   "source": [
    "#df2"
   ]
  },
  {
   "cell_type": "code",
   "execution_count": 43,
   "id": "7418cfc7-72a6-4fd0-846b-0afbdfab298e",
   "metadata": {},
   "outputs": [],
   "source": [
    "img_link = []\n",
    "image_url = sel.xpath(\"//img[@class ='s-image']/@src\").extract()\n",
    "for x in image_url:\n",
    "    img_link.append(x)\n",
    "    if len(img_link) ==23:\n",
    "        break\n",
    "df['Img_links'] = img_link        \n",
    "   \n"
   ]
  },
  {
   "cell_type": "code",
   "execution_count": 63,
   "id": "4e6b5148-696d-4dac-ad76-c8ab142e66f7",
   "metadata": {},
   "outputs": [
    {
     "data": {
      "text/html": [
       "<div>\n",
       "<style scoped>\n",
       "    .dataframe tbody tr th:only-of-type {\n",
       "        vertical-align: middle;\n",
       "    }\n",
       "\n",
       "    .dataframe tbody tr th {\n",
       "        vertical-align: top;\n",
       "    }\n",
       "\n",
       "    .dataframe thead th {\n",
       "        text-align: right;\n",
       "    }\n",
       "</style>\n",
       "<table border=\"1\" class=\"dataframe\">\n",
       "  <thead>\n",
       "    <tr style=\"text-align: right;\">\n",
       "      <th></th>\n",
       "      <th>product_price</th>\n",
       "      <th>Mobile_rate</th>\n",
       "      <th>Img_links</th>\n",
       "      <th>Product_name</th>\n",
       "    </tr>\n",
       "  </thead>\n",
       "  <tbody>\n",
       "    <tr>\n",
       "      <th>0</th>\n",
       "      <td>8,799</td>\n",
       "      <td>46,526</td>\n",
       "      <td>https://m.media-amazon.com/images/I/71A9Vo1Bat...</td>\n",
       "      <td>Redmi 9 (Sky Blue, 4GB RAM, 64GB Storage)| 500...</td>\n",
       "    </tr>\n",
       "    <tr>\n",
       "      <th>1</th>\n",
       "      <td>6,798</td>\n",
       "      <td>50,623</td>\n",
       "      <td>https://m.media-amazon.com/images/I/71sxlhYhKW...</td>\n",
       "      <td>Redmi 9A (Sea Blue 2GB RAM 32GB Storage) | 2GH...</td>\n",
       "    </tr>\n",
       "    <tr>\n",
       "      <th>2</th>\n",
       "      <td>10,499</td>\n",
       "      <td>34,893</td>\n",
       "      <td>https://m.media-amazon.com/images/I/71hEzQGO5q...</td>\n",
       "      <td>Redmi 9 Power (Blazing Blue, 4GB RAM, 64GB Sto...</td>\n",
       "    </tr>\n",
       "    <tr>\n",
       "      <th>3</th>\n",
       "      <td>6,799</td>\n",
       "      <td>50,623</td>\n",
       "      <td>https://m.media-amazon.com/images/I/71sxlhYhKW...</td>\n",
       "      <td>Redmi 9A (Nature Green, 2GB RAM, 32GB Storage)...</td>\n",
       "    </tr>\n",
       "    <tr>\n",
       "      <th>4</th>\n",
       "      <td>12,499</td>\n",
       "      <td>36,949</td>\n",
       "      <td>https://m.media-amazon.com/images/I/71OGzLCrjZ...</td>\n",
       "      <td>Redmi Note 10 (Aqua Green, 4GB RAM, 64GB Storage)</td>\n",
       "    </tr>\n",
       "    <tr>\n",
       "      <th>5</th>\n",
       "      <td>10,999</td>\n",
       "      <td>67,740</td>\n",
       "      <td>https://m.media-amazon.com/images/I/71X5I1cVfb...</td>\n",
       "      <td>Redmi Note 9 (Arctic White, 4GB RAM, 64GB Stor...</td>\n",
       "    </tr>\n",
       "    <tr>\n",
       "      <th>6</th>\n",
       "      <td>14,499</td>\n",
       "      <td>36,949</td>\n",
       "      <td>https://m.media-amazon.com/images/I/71-BcSc9rh...</td>\n",
       "      <td>Redmi Note 10 (Aqua Green, 6GB RAM, 128GB Stor...</td>\n",
       "    </tr>\n",
       "    <tr>\n",
       "      <th>7</th>\n",
       "      <td>12,499</td>\n",
       "      <td>36,949</td>\n",
       "      <td>https://m.media-amazon.com/images/I/71QY6JV6Fh...</td>\n",
       "      <td>Redmi Note 10 (Shadow Black, 4GB RAM, 64GB Sto...</td>\n",
       "    </tr>\n",
       "    <tr>\n",
       "      <th>8</th>\n",
       "      <td>10,999</td>\n",
       "      <td>67,740</td>\n",
       "      <td>https://m.media-amazon.com/images/I/71X5I1cVfb...</td>\n",
       "      <td>Redmi Note 9 (Pebble Grey, 4GB RAM 64GB Storag...</td>\n",
       "    </tr>\n",
       "    <tr>\n",
       "      <th>9</th>\n",
       "      <td>10,499</td>\n",
       "      <td>34,893</td>\n",
       "      <td>https://m.media-amazon.com/images/I/71hEzQGO5q...</td>\n",
       "      <td>Redmi 9 Power (Mighty Black 4GB RAM 64GB Stora...</td>\n",
       "    </tr>\n",
       "    <tr>\n",
       "      <th>10</th>\n",
       "      <td>10,499</td>\n",
       "      <td>20,845</td>\n",
       "      <td>https://m.media-amazon.com/images/I/71yYaNztZ0...</td>\n",
       "      <td>Samsung Galaxy M12 (Blue,4GB RAM, 64GB Storage...</td>\n",
       "    </tr>\n",
       "    <tr>\n",
       "      <th>11</th>\n",
       "      <td>10,999</td>\n",
       "      <td>67,740</td>\n",
       "      <td>https://m.media-amazon.com/images/I/71X5I1cVfb...</td>\n",
       "      <td>Redmi Note 9 (Aqua Green, 4GB RAM, 64GB Storag...</td>\n",
       "    </tr>\n",
       "    <tr>\n",
       "      <th>12</th>\n",
       "      <td>10,499</td>\n",
       "      <td>34,893</td>\n",
       "      <td>https://m.media-amazon.com/images/I/71hEzQGO5q...</td>\n",
       "      <td>Redmi 9 Power (Electric Green, 4GB RAM, 64GB S...</td>\n",
       "    </tr>\n",
       "    <tr>\n",
       "      <th>13</th>\n",
       "      <td>8,799</td>\n",
       "      <td>46,526</td>\n",
       "      <td>https://m.media-amazon.com/images/I/716nHhG9SW...</td>\n",
       "      <td>Redmi 9 (Carbon Black, 4GB RAM, 64GB Storage) ...</td>\n",
       "    </tr>\n",
       "    <tr>\n",
       "      <th>14</th>\n",
       "      <td>10,499</td>\n",
       "      <td>20,845</td>\n",
       "      <td>https://m.media-amazon.com/images/I/714QWDxXgN...</td>\n",
       "      <td>Samsung Galaxy M12 (Black,4GB RAM, 64GB Storag...</td>\n",
       "    </tr>\n",
       "    <tr>\n",
       "      <th>15</th>\n",
       "      <td>12,499</td>\n",
       "      <td>36,949</td>\n",
       "      <td>https://m.media-amazon.com/images/I/71SSmaLA7x...</td>\n",
       "      <td>Redmi Note 10 (Frost White, 4GB RAM, 64GB Stor...</td>\n",
       "    </tr>\n",
       "    <tr>\n",
       "      <th>16</th>\n",
       "      <td>16,999</td>\n",
       "      <td>196,439</td>\n",
       "      <td>https://m.media-amazon.com/images/I/71-Su4Wr0H...</td>\n",
       "      <td>Samsung Galaxy M31 (Ocean Blue, 8GB RAM, 128GB...</td>\n",
       "    </tr>\n",
       "    <tr>\n",
       "      <th>17</th>\n",
       "      <td>9,499</td>\n",
       "      <td>50,623</td>\n",
       "      <td>https://m.media-amazon.com/images/I/71sxlhYhKW...</td>\n",
       "      <td>Samsung Galaxy M11 (Metallic Blue, 4GB RAM, 64...</td>\n",
       "    </tr>\n",
       "    <tr>\n",
       "      <th>18</th>\n",
       "      <td>7,499</td>\n",
       "      <td>1,848</td>\n",
       "      <td>https://m.media-amazon.com/images/I/71GQUxuSpn...</td>\n",
       "      <td>Redmi 9A (Sea Blue 3GB RAM 32GB Storage)| 2GHz...</td>\n",
       "    </tr>\n",
       "    <tr>\n",
       "      <th>19</th>\n",
       "      <td>11,490</td>\n",
       "      <td>50,623</td>\n",
       "      <td>https://m.media-amazon.com/images/I/71sxlhYhKW...</td>\n",
       "      <td>Oppo A31 (Mystery Black, 6GB RAM, 128GB Storag...</td>\n",
       "    </tr>\n",
       "    <tr>\n",
       "      <th>20</th>\n",
       "      <td>8,799</td>\n",
       "      <td>15,529</td>\n",
       "      <td>https://m.media-amazon.com/images/I/71KCwNV6Mu...</td>\n",
       "      <td>Oppo A31 (Fantasy White, 6GB RAM, 128GB Storag...</td>\n",
       "    </tr>\n",
       "    <tr>\n",
       "      <th>21</th>\n",
       "      <td>15,999</td>\n",
       "      <td>15,529</td>\n",
       "      <td>https://m.media-amazon.com/images/I/61IhTtJUXJ...</td>\n",
       "      <td>Redmi 9 (Sporty Orange, 4GB RAM, 64GB Storage)...</td>\n",
       "    </tr>\n",
       "    <tr>\n",
       "      <th>22</th>\n",
       "      <td>14,499</td>\n",
       "      <td>46,526</td>\n",
       "      <td>https://m.media-amazon.com/images/I/71A9Vo1Bat...</td>\n",
       "      <td>Redmi Note 10S (Deep Sea Blue, 6GB RAM, 128GB ...</td>\n",
       "    </tr>\n",
       "  </tbody>\n",
       "</table>\n",
       "</div>"
      ],
      "text/plain": [
       "   product_price Mobile_rate  \\\n",
       "0          8,799      46,526   \n",
       "1          6,798      50,623   \n",
       "2         10,499      34,893   \n",
       "3          6,799      50,623   \n",
       "4         12,499      36,949   \n",
       "5         10,999      67,740   \n",
       "6         14,499      36,949   \n",
       "7         12,499      36,949   \n",
       "8         10,999      67,740   \n",
       "9         10,499      34,893   \n",
       "10        10,499      20,845   \n",
       "11        10,999      67,740   \n",
       "12        10,499      34,893   \n",
       "13         8,799      46,526   \n",
       "14        10,499      20,845   \n",
       "15        12,499      36,949   \n",
       "16        16,999     196,439   \n",
       "17         9,499      50,623   \n",
       "18         7,499       1,848   \n",
       "19        11,490      50,623   \n",
       "20         8,799      15,529   \n",
       "21        15,999      15,529   \n",
       "22        14,499      46,526   \n",
       "\n",
       "                                            Img_links  \\\n",
       "0   https://m.media-amazon.com/images/I/71A9Vo1Bat...   \n",
       "1   https://m.media-amazon.com/images/I/71sxlhYhKW...   \n",
       "2   https://m.media-amazon.com/images/I/71hEzQGO5q...   \n",
       "3   https://m.media-amazon.com/images/I/71sxlhYhKW...   \n",
       "4   https://m.media-amazon.com/images/I/71OGzLCrjZ...   \n",
       "5   https://m.media-amazon.com/images/I/71X5I1cVfb...   \n",
       "6   https://m.media-amazon.com/images/I/71-BcSc9rh...   \n",
       "7   https://m.media-amazon.com/images/I/71QY6JV6Fh...   \n",
       "8   https://m.media-amazon.com/images/I/71X5I1cVfb...   \n",
       "9   https://m.media-amazon.com/images/I/71hEzQGO5q...   \n",
       "10  https://m.media-amazon.com/images/I/71yYaNztZ0...   \n",
       "11  https://m.media-amazon.com/images/I/71X5I1cVfb...   \n",
       "12  https://m.media-amazon.com/images/I/71hEzQGO5q...   \n",
       "13  https://m.media-amazon.com/images/I/716nHhG9SW...   \n",
       "14  https://m.media-amazon.com/images/I/714QWDxXgN...   \n",
       "15  https://m.media-amazon.com/images/I/71SSmaLA7x...   \n",
       "16  https://m.media-amazon.com/images/I/71-Su4Wr0H...   \n",
       "17  https://m.media-amazon.com/images/I/71sxlhYhKW...   \n",
       "18  https://m.media-amazon.com/images/I/71GQUxuSpn...   \n",
       "19  https://m.media-amazon.com/images/I/71sxlhYhKW...   \n",
       "20  https://m.media-amazon.com/images/I/71KCwNV6Mu...   \n",
       "21  https://m.media-amazon.com/images/I/61IhTtJUXJ...   \n",
       "22  https://m.media-amazon.com/images/I/71A9Vo1Bat...   \n",
       "\n",
       "                                         Product_name  \n",
       "0   Redmi 9 (Sky Blue, 4GB RAM, 64GB Storage)| 500...  \n",
       "1   Redmi 9A (Sea Blue 2GB RAM 32GB Storage) | 2GH...  \n",
       "2   Redmi 9 Power (Blazing Blue, 4GB RAM, 64GB Sto...  \n",
       "3   Redmi 9A (Nature Green, 2GB RAM, 32GB Storage)...  \n",
       "4   Redmi Note 10 (Aqua Green, 4GB RAM, 64GB Storage)  \n",
       "5   Redmi Note 9 (Arctic White, 4GB RAM, 64GB Stor...  \n",
       "6   Redmi Note 10 (Aqua Green, 6GB RAM, 128GB Stor...  \n",
       "7   Redmi Note 10 (Shadow Black, 4GB RAM, 64GB Sto...  \n",
       "8   Redmi Note 9 (Pebble Grey, 4GB RAM 64GB Storag...  \n",
       "9   Redmi 9 Power (Mighty Black 4GB RAM 64GB Stora...  \n",
       "10  Samsung Galaxy M12 (Blue,4GB RAM, 64GB Storage...  \n",
       "11  Redmi Note 9 (Aqua Green, 4GB RAM, 64GB Storag...  \n",
       "12  Redmi 9 Power (Electric Green, 4GB RAM, 64GB S...  \n",
       "13  Redmi 9 (Carbon Black, 4GB RAM, 64GB Storage) ...  \n",
       "14  Samsung Galaxy M12 (Black,4GB RAM, 64GB Storag...  \n",
       "15  Redmi Note 10 (Frost White, 4GB RAM, 64GB Stor...  \n",
       "16  Samsung Galaxy M31 (Ocean Blue, 8GB RAM, 128GB...  \n",
       "17  Samsung Galaxy M11 (Metallic Blue, 4GB RAM, 64...  \n",
       "18  Redmi 9A (Sea Blue 3GB RAM 32GB Storage)| 2GHz...  \n",
       "19  Oppo A31 (Mystery Black, 6GB RAM, 128GB Storag...  \n",
       "20  Oppo A31 (Fantasy White, 6GB RAM, 128GB Storag...  \n",
       "21  Redmi 9 (Sporty Orange, 4GB RAM, 64GB Storage)...  \n",
       "22  Redmi Note 10S (Deep Sea Blue, 6GB RAM, 128GB ...  "
      ]
     },
     "execution_count": 63,
     "metadata": {},
     "output_type": "execute_result"
    }
   ],
   "source": [
    "df"
   ]
  },
  {
   "cell_type": "code",
   "execution_count": 47,
   "id": "0cb90491-9fd9-48f7-b70e-5ecfc3b43a65",
   "metadata": {},
   "outputs": [],
   "source": [
    "product_name = soup22.find_all(\"span\",class_=\"a-size-base-plus a-color-base a-text-normal\")\n",
    "name_list = []\n",
    "for x in product_name:\n",
    "    name_list.append(x.text.strip())\n",
    "    if len(name_list) == 23:\n",
    "        break\n",
    "df['Product_name'] = name_list       \n",
    "    "
   ]
  },
  {
   "cell_type": "code",
   "execution_count": 49,
   "id": "361c9fb0-6125-4c06-bac2-898e02cfa11a",
   "metadata": {},
   "outputs": [],
   "source": [
    "#df4\n"
   ]
  },
  {
   "cell_type": "code",
   "execution_count": 50,
   "id": "313516f2-91fd-42cb-90b1-4102b9777a84",
   "metadata": {},
   "outputs": [],
   "source": [
    "#k = [product_price,Rate,image_url,product_name]"
   ]
  },
  {
   "cell_type": "code",
   "execution_count": 56,
   "id": "ce94b0df-773c-494c-8a66-015e2388c789",
   "metadata": {},
   "outputs": [],
   "source": [
    "#k[3]"
   ]
  },
  {
   "cell_type": "code",
   "execution_count": 93,
   "id": "7e697ac4-c966-4d21-9ad6-f309e0e55e52",
   "metadata": {},
   "outputs": [],
   "source": [
    "data = pd.DataFrame({})\n",
    "def amazon_phone_under20k_func(*args):\n",
    "    source_url = input()\n",
    "    image_list = []\n",
    "    rating_list =[]\n",
    "    price_list = []\n",
    "    name_list = []\n",
    "    \n",
    "    \n",
    "    html = requests.get(url=source_url).content\n",
    "    source_ = requests.get(url=source_url)\n",
    "    sel = Selector(text= html)\n",
    "    soup_= BeautifulSoup(source_.content)\n",
    "    #names = soup.select('h3.lister-item-header > a')\n",
    "    \n",
    "    image_url = sel.xpath(\"//img[@class ='s-image']/@src\").extract()\n",
    "    Rate= sel.xpath(\"//span[@class='a-size-base']\").extract()\n",
    "    product_name = soup_.find_all(\"span\",class_=\"a-size-base-plus a-color-base a-text-normal\")\n",
    "    product_price = soup_.find_all(\"span\",class_=\"a-price-whole\")\n",
    "   \n",
    "    \n",
    "    values = [image_url,Rate,product_price,product_name]\n",
    "    for items in values:\n",
    "        if items == values[0]:\n",
    "            for y in items:\n",
    "                image_list.append(y.replace('',''))\n",
    "                #matches_list.sort(reverse=True)\n",
    "                if len(image_list) == 23:\n",
    "                    break\n",
    "        if items == values[1]:\n",
    "            for y in items:\n",
    "                rating_list.append(y.replace('<span class=\"a-size-base\">','').replace('</span>',''))\n",
    "                #points_list.sort(reverse=True)\n",
    "                if len(rating_list) == 23:\n",
    "                    break\n",
    "        if items == values[2]:\n",
    "            for y in items:\n",
    "                price_list.append(y.text.strip())\n",
    "                #rating_list.sort(reverse=True)\n",
    "                if len(price_list) == 23:\n",
    "                    break\n",
    "        if items == values[3]:\n",
    "            for y in items:\n",
    "                name_list.append(y.text.strip())\n",
    "                #rating_list.sort(reverse=True)\n",
    "                if len(name_list) == 23:\n",
    "                    break             \n",
    "                \n",
    "    #print(name_list,price_list,image_list,rating_list)\n",
    "    data['Product_Image_link'] = image_list\n",
    "    data['Product_Rating'] = rating_list\n",
    "    data['Product_Price'] = price_list\n",
    "    data['Product_Name'] = name_list\n",
    "    return data\n",
    "    "
   ]
  },
  {
   "cell_type": "code",
   "execution_count": null,
   "id": "3df31141-5d25-44d3-b471-a2422fbff2b8",
   "metadata": {},
   "outputs": [],
   "source": [
    "amazon_phone_under20k_func()"
   ]
  },
  {
   "cell_type": "code",
   "execution_count": null,
   "id": "3c1cafb1-2dab-4cda-b0ea-186ffb4cccd5",
   "metadata": {},
   "outputs": [],
   "source": [
    "\n"
   ]
  },
  {
   "cell_type": "code",
   "execution_count": 25,
   "id": "77d0a805-7bb2-4a34-b057-ce68a88e919d",
   "metadata": {},
   "outputs": [],
   "source": [
    "url_ = 'https://forecast.weather.gov/MapClick.php?lat=37.7771&lon=-122.4196#.YMtRGJMzZQI'"
   ]
  },
  {
   "cell_type": "code",
   "execution_count": 26,
   "id": "38b7624d-5b3a-4d80-8474-62f2715dc92e",
   "metadata": {},
   "outputs": [],
   "source": [
    "response = requests.get(url = url_)"
   ]
  },
  {
   "cell_type": "code",
   "execution_count": 27,
   "id": "dfaa7c56-f140-46e4-9387-e586deb00ae4",
   "metadata": {},
   "outputs": [
    {
     "data": {
      "text/plain": [
       "<Response [200]>"
      ]
     },
     "execution_count": 27,
     "metadata": {},
     "output_type": "execute_result"
    }
   ],
   "source": [
    "response"
   ]
  },
  {
   "cell_type": "code",
   "execution_count": 28,
   "id": "2ed14f19-f15c-4b35-bea2-867376c6a873",
   "metadata": {},
   "outputs": [],
   "source": [
    "my_soup = BeautifulSoup(response.text,'html.parser')"
   ]
  },
  {
   "cell_type": "code",
   "execution_count": 29,
   "id": "3ba7fd3a-ecca-41c9-b0c1-ac8665b6cbed",
   "metadata": {},
   "outputs": [],
   "source": [
    "period = my_soup.select('p.period-name')"
   ]
  },
  {
   "cell_type": "code",
   "execution_count": 30,
   "id": "94e7b3d9-de39-4b99-b600-844218b9153e",
   "metadata": {},
   "outputs": [],
   "source": [
    "\n",
    "period_list = []\n",
    "for x in period:\n",
    "    period_list.append(x.text)"
   ]
  },
  {
   "cell_type": "code",
   "execution_count": 31,
   "id": "db2c8db8-d33b-46ee-96de-88ef3232fc58",
   "metadata": {},
   "outputs": [
    {
     "data": {
      "text/plain": [
       "['Today',\n",
       " 'Tonight',\n",
       " 'Friday',\n",
       " 'FridayNight',\n",
       " 'Saturday',\n",
       " 'SaturdayNight',\n",
       " 'Sunday',\n",
       " 'SundayNight',\n",
       " 'Monday']"
      ]
     },
     "execution_count": 31,
     "metadata": {},
     "output_type": "execute_result"
    }
   ],
   "source": [
    "period_list"
   ]
  },
  {
   "cell_type": "code",
   "execution_count": 36,
   "id": "9e4bed57-a530-4348-8005-c4e82ea7d717",
   "metadata": {},
   "outputs": [
    {
     "data": {
      "text/plain": [
       "9"
      ]
     },
     "execution_count": 36,
     "metadata": {},
     "output_type": "execute_result"
    }
   ],
   "source": [
    "len(period_list)"
   ]
  },
  {
   "cell_type": "code",
   "execution_count": 32,
   "id": "10efaf12-1821-4673-8d1e-c21ad2c5ced1",
   "metadata": {},
   "outputs": [],
   "source": [
    "short_desc = my_soup.select(\"p.short-desc\")"
   ]
  },
  {
   "cell_type": "code",
   "execution_count": 34,
   "id": "366b8d0f-aebf-48e8-a178-5de9eb31962a",
   "metadata": {},
   "outputs": [],
   "source": [
    "short_desc_list = []\n",
    "for x in short_desc:\n",
    "    short_desc_list.append(x.text)\n"
   ]
  },
  {
   "cell_type": "code",
   "execution_count": 35,
   "id": "e0cf0a77-8872-4e94-9a28-3ece9d66a2ed",
   "metadata": {},
   "outputs": [
    {
     "data": {
      "text/plain": [
       "['Sunny thenSunny andBreezy',\n",
       " 'Mostly Clear',\n",
       " 'Sunny thenSunny andBreezy',\n",
       " 'Mostly Clear',\n",
       " 'Sunny thenSunny andBreezy',\n",
       " 'Mostly Clearand Breezythen MostlyClear',\n",
       " 'Sunny',\n",
       " 'Partly Cloudy',\n",
       " 'Mostly Sunny']"
      ]
     },
     "execution_count": 35,
     "metadata": {},
     "output_type": "execute_result"
    }
   ],
   "source": [
    "short_desc_list"
   ]
  },
  {
   "cell_type": "code",
   "execution_count": 37,
   "id": "c1b2d6e0-86c4-4f30-acc4-f10c5ce6b2d6",
   "metadata": {},
   "outputs": [
    {
     "data": {
      "text/plain": [
       "9"
      ]
     },
     "execution_count": 37,
     "metadata": {},
     "output_type": "execute_result"
    }
   ],
   "source": [
    "len(short_desc_list)"
   ]
  },
  {
   "cell_type": "code",
   "execution_count": 54,
   "id": "f94c5260-13d9-4873-8fcf-e4791a09410b",
   "metadata": {},
   "outputs": [],
   "source": [
    "temp_hight_1 = my_soup.find_all('p',class_=\"temp temp-high\")"
   ]
  },
  {
   "cell_type": "code",
   "execution_count": 55,
   "id": "fd254811-caec-4550-99ae-4115b2d0e68a",
   "metadata": {},
   "outputs": [
    {
     "data": {
      "text/plain": [
       "[<p class=\"temp temp-high\">High: 83 °F</p>,\n",
       " <p class=\"temp temp-high\">High: 76 °F</p>,\n",
       " <p class=\"temp temp-high\">High: 73 °F</p>,\n",
       " <p class=\"temp temp-high\">High: 71 °F</p>,\n",
       " <p class=\"temp temp-high\">High: 69 °F</p>]"
      ]
     },
     "execution_count": 55,
     "metadata": {},
     "output_type": "execute_result"
    }
   ],
   "source": [
    "temp_hight_1"
   ]
  },
  {
   "cell_type": "code",
   "execution_count": 56,
   "id": "a0d69c92-1872-4500-a10d-5f2ee2d23b6b",
   "metadata": {},
   "outputs": [],
   "source": [
    "temp_1 = []\n",
    "for x in temp_hight_1:\n",
    "    temp_1.append(x.text)"
   ]
  },
  {
   "cell_type": "code",
   "execution_count": 87,
   "id": "605cb9b5-02c3-4c6e-8df1-7f685218e7d5",
   "metadata": {},
   "outputs": [],
   "source": [
    "temp_1 = list(temp_1)"
   ]
  },
  {
   "cell_type": "code",
   "execution_count": null,
   "id": "5659f108-aba8-46b1-8ec5-693a66e560f6",
   "metadata": {},
   "outputs": [],
   "source": [
    "class=\"temp temp-low\""
   ]
  },
  {
   "cell_type": "code",
   "execution_count": 47,
   "id": "8eea4f81-4758-4579-a6f7-6d5b47d84f98",
   "metadata": {},
   "outputs": [],
   "source": [
    "temp_low = my_soup.find_all('p',class_=\"temp temp-low\")"
   ]
  },
  {
   "cell_type": "code",
   "execution_count": 48,
   "id": "c73a057d-9553-4c7b-81c6-e5a52f5202ed",
   "metadata": {},
   "outputs": [],
   "source": [
    "temp_low_1 = []\n",
    "for x in temp_low:\n",
    "    temp_low_1.append(x.text)"
   ]
  },
  {
   "cell_type": "code",
   "execution_count": 88,
   "id": "07a6ff82-b197-4efe-b72e-41aef5cdf839",
   "metadata": {},
   "outputs": [],
   "source": [
    "temp_low_1 = list(temp_low_1)"
   ]
  },
  {
   "cell_type": "code",
   "execution_count": 90,
   "id": "6f4fbfb4-1594-45ab-9e02-439dbb1d9a7a",
   "metadata": {},
   "outputs": [],
   "source": [
    "assk = temp_1+temp_low_1\n",
    "        "
   ]
  },
  {
   "cell_type": "code",
   "execution_count": 92,
   "id": "86c5cbc8-05e8-448b-bf3b-221462d6c4f3",
   "metadata": {},
   "outputs": [
    {
     "data": {
      "text/plain": [
       "9"
      ]
     },
     "execution_count": 92,
     "metadata": {},
     "output_type": "execute_result"
    }
   ],
   "source": [
    "len(assk)"
   ]
  },
  {
   "cell_type": "code",
   "execution_count": null,
   "id": "9ab5002d-bcb5-4e22-b262-4ee019cc468c",
   "metadata": {},
   "outputs": [],
   "source": [
    "# class=\"col-sm-2 \""
   ]
  },
  {
   "cell_type": "code",
   "execution_count": 93,
   "id": "f3dc09cb-b7bb-436f-aad1-75a59d831b39",
   "metadata": {},
   "outputs": [],
   "source": [
    "period_ = my_soup.select(\"div.forecast-label>b\")"
   ]
  },
  {
   "cell_type": "code",
   "execution_count": 95,
   "id": "c42fa0e6-f04b-4eb7-9b9a-bc78f5e8ae6a",
   "metadata": {},
   "outputs": [],
   "source": [
    "list_period =[]\n",
    "for x in period_:\n",
    "    list_period.append(x.text)"
   ]
  },
  {
   "cell_type": "code",
   "execution_count": 96,
   "id": "28a8e79c-25e3-4d4a-b92c-cb7a01aa2136",
   "metadata": {},
   "outputs": [
    {
     "data": {
      "text/plain": [
       "['Today',\n",
       " 'Tonight',\n",
       " 'Friday',\n",
       " 'Friday Night',\n",
       " 'Saturday',\n",
       " 'Saturday Night',\n",
       " 'Sunday',\n",
       " 'Sunday Night',\n",
       " 'Monday',\n",
       " 'Monday Night',\n",
       " 'Tuesday',\n",
       " 'Tuesday Night',\n",
       " 'Wednesday']"
      ]
     },
     "execution_count": 96,
     "metadata": {},
     "output_type": "execute_result"
    }
   ],
   "source": [
    "list_period"
   ]
  },
  {
   "cell_type": "code",
   "execution_count": 97,
   "id": "d0d59d03-387f-46dd-aed8-c4c9a6009309",
   "metadata": {},
   "outputs": [
    {
     "data": {
      "text/plain": [
       "13"
      ]
     },
     "execution_count": 97,
     "metadata": {},
     "output_type": "execute_result"
    }
   ],
   "source": [
    "len(period_)"
   ]
  },
  {
   "cell_type": "code",
   "execution_count": null,
   "id": "9dfe3dc6-124e-4876-b9d5-e35eda2d65a3",
   "metadata": {},
   "outputs": [],
   "source": [
    "class=\"col-sm-10 \""
   ]
  },
  {
   "cell_type": "code",
   "execution_count": 100,
   "id": "c3aa3b4d-e4c8-411b-84df-6ab29ece8934",
   "metadata": {},
   "outputs": [],
   "source": [
    "full_desc = my_soup.select(\"div.forecast-text\")"
   ]
  },
  {
   "cell_type": "code",
   "execution_count": 104,
   "id": "6842cda0-2777-49d9-95e0-59202385f607",
   "metadata": {},
   "outputs": [],
   "source": [
    "desc_list =[]\n",
    "for x in full_desc:\n",
    "    full_desc_list.append(x.text)"
   ]
  },
  {
   "cell_type": "code",
   "execution_count": 105,
   "id": "96601fa1-2dc4-4393-a685-cd711fbb0dd2",
   "metadata": {},
   "outputs": [
    {
     "data": {
      "text/plain": [
       "['Sunny, with a high near 83. Breezy, with a light west southwest wind becoming west 18 to 23 mph in the morning. Winds could gust as high as 29 mph. ',\n",
       " 'Mostly clear, with a low around 57. West southwest wind 16 to 21 mph decreasing to 10 to 15 mph in the evening. Winds could gust as high as 26 mph. ',\n",
       " 'Sunny, with a high near 76. Breezy, with a west southwest wind 10 to 15 mph increasing to 17 to 22 mph in the afternoon. Winds could gust as high as 29 mph. ',\n",
       " 'Mostly clear, with a low around 56. West southwest wind 13 to 18 mph, with gusts as high as 24 mph. ',\n",
       " 'Sunny, with a high near 73. Breezy, with a west southwest wind 16 to 22 mph, with gusts as high as 29 mph. ',\n",
       " 'Mostly clear, with a low around 56. Breezy. ',\n",
       " 'Sunny, with a high near 71.',\n",
       " 'Partly cloudy, with a low around 56.',\n",
       " 'Mostly sunny, with a high near 69.',\n",
       " 'Mostly cloudy, with a low around 58.',\n",
       " 'Mostly sunny, with a high near 68.',\n",
       " 'Partly cloudy, with a low around 57.',\n",
       " 'Mostly sunny, with a high near 68.']"
      ]
     },
     "execution_count": 105,
     "metadata": {},
     "output_type": "execute_result"
    }
   ],
   "source": [
    "full_desc_list"
   ]
  },
  {
   "cell_type": "code",
   "execution_count": 106,
   "id": "aaf208ab-106e-4aae-aa8a-abbd26a36125",
   "metadata": {},
   "outputs": [
    {
     "data": {
      "text/plain": [
       "13"
      ]
     },
     "execution_count": 106,
     "metadata": {},
     "output_type": "execute_result"
    }
   ],
   "source": [
    "len(full_desc_list)"
   ]
  },
  {
   "cell_type": "code",
   "execution_count": 109,
   "id": "189a14ed-dc95-4b6f-ba93-31882035b13c",
   "metadata": {},
   "outputs": [],
   "source": [
    "data = pd.DataFrame({})\n",
    "def San_Francisco_funct(*args):\n",
    "    url_ = input()\n",
    "    list_period =[]\n",
    "    desc_list = []\n",
    "    \n",
    "    response = requests.get(url = url_)\n",
    "    my_soup= BeautifulSoup(response.text,'html.parser')\n",
    "    period_ = my_soup.select(\"div.forecast-label>b\")\n",
    "    description = my_soup.select(\"div.forecast-text\")\n",
    "    \n",
    "    values = [period_,description]\n",
    "    for items in values:\n",
    "        if items == values[0]:\n",
    "            for y in items:\n",
    "                list_period.append(y.text)\n",
    "    for items in values:\n",
    "        if items == values[1]:\n",
    "            for y in items:\n",
    "                desc_list.append(y.text)  \n",
    "    data['Weather_Periods'] = list_period\n",
    "    data['Temperature_and_description'] = desc_list\n",
    "    return data\n",
    "                "
   ]
  },
  {
   "cell_type": "code",
   "execution_count": 110,
   "id": "4e7fe4b1-de9b-455a-874b-08c595af0d5e",
   "metadata": {},
   "outputs": [
    {
     "name": "stdin",
     "output_type": "stream",
     "text": [
      " https://forecast.weather.gov/MapClick.php?lat=37.7771&lon=-122.4196#.YMtRGJMzZQI\n"
     ]
    },
    {
     "data": {
      "text/html": [
       "<div>\n",
       "<style scoped>\n",
       "    .dataframe tbody tr th:only-of-type {\n",
       "        vertical-align: middle;\n",
       "    }\n",
       "\n",
       "    .dataframe tbody tr th {\n",
       "        vertical-align: top;\n",
       "    }\n",
       "\n",
       "    .dataframe thead th {\n",
       "        text-align: right;\n",
       "    }\n",
       "</style>\n",
       "<table border=\"1\" class=\"dataframe\">\n",
       "  <thead>\n",
       "    <tr style=\"text-align: right;\">\n",
       "      <th></th>\n",
       "      <th>Weather_Periods</th>\n",
       "      <th>Temperature_and_description</th>\n",
       "    </tr>\n",
       "  </thead>\n",
       "  <tbody>\n",
       "    <tr>\n",
       "      <th>0</th>\n",
       "      <td>Today</td>\n",
       "      <td>Sunny, with a high near 85. Breezy, with a lig...</td>\n",
       "    </tr>\n",
       "    <tr>\n",
       "      <th>1</th>\n",
       "      <td>Tonight</td>\n",
       "      <td>Mostly clear, with a low around 57. West south...</td>\n",
       "    </tr>\n",
       "    <tr>\n",
       "      <th>2</th>\n",
       "      <td>Friday</td>\n",
       "      <td>Sunny, with a high near 76. Breezy, with a wes...</td>\n",
       "    </tr>\n",
       "    <tr>\n",
       "      <th>3</th>\n",
       "      <td>Friday Night</td>\n",
       "      <td>Mostly clear, with a low around 56. West south...</td>\n",
       "    </tr>\n",
       "    <tr>\n",
       "      <th>4</th>\n",
       "      <td>Saturday</td>\n",
       "      <td>Sunny, with a high near 73. Breezy, with a wes...</td>\n",
       "    </tr>\n",
       "    <tr>\n",
       "      <th>5</th>\n",
       "      <td>Saturday Night</td>\n",
       "      <td>Mostly clear, with a low around 56. Breezy.</td>\n",
       "    </tr>\n",
       "    <tr>\n",
       "      <th>6</th>\n",
       "      <td>Sunday</td>\n",
       "      <td>Sunny, with a high near 71.</td>\n",
       "    </tr>\n",
       "    <tr>\n",
       "      <th>7</th>\n",
       "      <td>Sunday Night</td>\n",
       "      <td>Partly cloudy, with a low around 56.</td>\n",
       "    </tr>\n",
       "    <tr>\n",
       "      <th>8</th>\n",
       "      <td>Monday</td>\n",
       "      <td>Mostly sunny, with a high near 69.</td>\n",
       "    </tr>\n",
       "    <tr>\n",
       "      <th>9</th>\n",
       "      <td>Monday Night</td>\n",
       "      <td>Mostly cloudy, with a low around 58.</td>\n",
       "    </tr>\n",
       "    <tr>\n",
       "      <th>10</th>\n",
       "      <td>Tuesday</td>\n",
       "      <td>Mostly sunny, with a high near 68.</td>\n",
       "    </tr>\n",
       "    <tr>\n",
       "      <th>11</th>\n",
       "      <td>Tuesday Night</td>\n",
       "      <td>Partly cloudy, with a low around 57.</td>\n",
       "    </tr>\n",
       "    <tr>\n",
       "      <th>12</th>\n",
       "      <td>Wednesday</td>\n",
       "      <td>Mostly sunny, with a high near 68.</td>\n",
       "    </tr>\n",
       "  </tbody>\n",
       "</table>\n",
       "</div>"
      ],
      "text/plain": [
       "   Weather_Periods                        Temperature_and_description\n",
       "0            Today  Sunny, with a high near 85. Breezy, with a lig...\n",
       "1          Tonight  Mostly clear, with a low around 57. West south...\n",
       "2           Friday  Sunny, with a high near 76. Breezy, with a wes...\n",
       "3     Friday Night  Mostly clear, with a low around 56. West south...\n",
       "4         Saturday  Sunny, with a high near 73. Breezy, with a wes...\n",
       "5   Saturday Night       Mostly clear, with a low around 56. Breezy. \n",
       "6           Sunday                        Sunny, with a high near 71.\n",
       "7     Sunday Night               Partly cloudy, with a low around 56.\n",
       "8           Monday                 Mostly sunny, with a high near 69.\n",
       "9     Monday Night               Mostly cloudy, with a low around 58.\n",
       "10         Tuesday                 Mostly sunny, with a high near 68.\n",
       "11   Tuesday Night               Partly cloudy, with a low around 57.\n",
       "12       Wednesday                 Mostly sunny, with a high near 68."
      ]
     },
     "execution_count": 110,
     "metadata": {},
     "output_type": "execute_result"
    }
   ],
   "source": [
    "\n",
    "## give the following link while call the function: https://forecast.weather.gov/MapClick.php?lat=37.7771&lon=-122.4196#.YMtRGJMzZQI\n",
    "\n",
    "San_Francisco_funct()"
   ]
  },
  {
   "cell_type": "code",
   "execution_count": null,
   "id": "01d6a340-4f84-44d5-94e8-30f09e9ef143",
   "metadata": {},
   "outputs": [],
   "source": []
  },
  {
   "cell_type": "code",
   "execution_count": 350,
   "id": "c9ff4544-294c-4b88-bb8f-4a50cfb30ce9",
   "metadata": {},
   "outputs": [
    {
     "data": {
      "text/plain": [
       "['',\n",
       " '',\n",
       " '',\n",
       " '',\n",
       " '',\n",
       " 'WebAnalyticsDeveloper',\n",
       " 'JuniorSocialMediaMarketingManager',\n",
       " 'JuniorSocialMediaMarketingAssociate',\n",
       " 'BusinessDevelopmentManager(DigitalMarketingSales)',\n",
       " 'BusinessDevelopmentExecutive',\n",
       " 'Accountant',\n",
       " 'ResearchAssociate',\n",
       " 'AssistantCoordinator-TenderDepartment',\n",
       " 'CustomerRelationshipManager(PublishingConsultant)',\n",
       " 'ExecutiveAssistantToDirector',\n",
       " 'LearningConsultant-Sales',\n",
       " 'School/TeacherConsultant',\n",
       " 'JuniorRecruiter',\n",
       " 'SoftwareDeveloper',\n",
       " 'BusinessDevelopmentExecutive(InsideSales)',\n",
       " 'WebDeveloper',\n",
       " 'OrderProcessor',\n",
       " 'FullStackDeveloper',\n",
       " 'AssociateSoftwareDeveloper',\n",
       " 'ReactjsDeveloper',\n",
       " 'FullStackDeveloper',\n",
       " 'BusinessDevelopmentExecutive',\n",
       " 'CorporateSalesAssociate',\n",
       " 'InsideSalesAssociate',\n",
       " 'MobileAppDeveloper',\n",
       " 'JuniorMERNStackDeveloper',\n",
       " 'EducationInnovationManager',\n",
       " 'GeneralManagementAssociate',\n",
       " 'Content&E-commerceManagementTrainee',\n",
       " 'SoftwareEngineer',\n",
       " 'SalesSupport&OperationsExecutive',\n",
       " 'BackendDeveloper',\n",
       " 'Accountant',\n",
       " 'BusinessDevelopment(Sales)Associate',\n",
       " 'CorporateSalesAssociate',\n",
       " 'SalesExecutive-Mobile/Electronics',\n",
       " 'ReactjsDeveloper',\n",
       " 'SoftwareEngineer',\n",
       " 'PHP&LARAVELDEVELOPER',\n",
       " 'CustomerServiceSpecialist']"
      ]
     },
     "execution_count": 350,
     "metadata": {},
     "output_type": "execute_result"
    }
   ],
   "source": [
    "src_url1 = 'https://internshala.com/fresher-jobs'\n",
    "response1 = requests.get(url=src_url1)\n",
    "x_soup = BeautifulSoup(response.text,'html.parser')\n",
    "job_title1 = x_soup.select(\"div.heading_4_5\")\n",
    "\n",
    "job_title_list1 =[]\n",
    "for x in job_title1:\n",
    "    job_title_list1.append(x.text.replace('\\n','').replace(' ',''))\n",
    "job_title_list1   "
   ]
  },
  {
   "cell_type": "code",
   "execution_count": 354,
   "id": "deead7c8-f17f-425a-90e6-da60431fac3d",
   "metadata": {},
   "outputs": [
    {
     "data": {
      "text/plain": [
       "''"
      ]
     },
     "execution_count": 354,
     "metadata": {},
     "output_type": "execute_result"
    }
   ],
   "source": [
    "result[0]"
   ]
  },
  {
   "cell_type": "code",
   "execution_count": 336,
   "id": "edfa331c-fcb7-4923-a712-c9a30dee9c18",
   "metadata": {},
   "outputs": [],
   "source": [
    "apply = x_soup.select(\"div.item_body\")\n",
    "\n",
    "apply_details = []\n",
    "for x in apply:\n",
    "    apply_details.append(x.text.strip())\n",
    "    "
   ]
  },
  {
   "cell_type": "code",
   "execution_count": 338,
   "id": "99bc7f4b-aede-47bd-bd8d-55ee94c92eda",
   "metadata": {},
   "outputs": [],
   "source": [
    "apply_del = []\n",
    "\n",
    "for x in apply_details:\n",
    "    if x !='Starts\\xa0Immediately':\n",
    "        apply_del.append(x)"
   ]
  },
  {
   "cell_type": "code",
   "execution_count": 343,
   "id": "17950f9d-d0fa-4365-9022-e8b8c0b630ba",
   "metadata": {},
   "outputs": [
    {
     "data": {
      "text/plain": [
       "\"17 Jul' 21\""
      ]
     },
     "execution_count": 343,
     "metadata": {},
     "output_type": "execute_result"
    }
   ],
   "source": [
    "apply_del[1]"
   ]
  },
  {
   "cell_type": "code",
   "execution_count": 348,
   "id": "b535db7e-57e2-4632-bb03-482cafcf8683",
   "metadata": {},
   "outputs": [],
   "source": [
    "v = []\n",
    "n = []\n",
    "for y in apply_del:\n",
    "    if apply_del.index(y)%2 ==0:\n",
    "        v.append(y)\n",
    "    else:\n",
    "        n.append(y)\n",
    "        \n",
    "        "
   ]
  },
  {
   "cell_type": "code",
   "execution_count": 349,
   "id": "547ce7e0-5a3e-4730-ba19-1f2e9aa50793",
   "metadata": {},
   "outputs": [
    {
     "data": {
      "text/plain": [
       "[\"17 Jul' 21\",\n",
       " \"17 Jul' 21\",\n",
       " \"17 Jul' 21\",\n",
       " \"17 Jul' 21\",\n",
       " \"17 Jul' 21\",\n",
       " \"16 Jul' 21\",\n",
       " \"17 Jul' 21\",\n",
       " \"16 Jul' 21\",\n",
       " \"16 Jul' 21\",\n",
       " \"17 Jul' 21\",\n",
       " \"16 Jul' 21\",\n",
       " \"16 Jul' 21\",\n",
       " \"16 Jul' 21\",\n",
       " \"15 Jul' 21\",\n",
       " \"15 Jul' 21\",\n",
       " \"15 Jul' 21\",\n",
       " \"14 Jul' 21\",\n",
       " \"14 Jul' 21\",\n",
       " \"11 Jul' 21\",\n",
       " \"11 Jul' 21\",\n",
       " \"11 Jul' 21\",\n",
       " \"11 Jul' 21\",\n",
       " \"11 Jul' 21\",\n",
       " \"11 Jul' 21\",\n",
       " \"14 Jul' 21\",\n",
       " \"15 Jul' 21\",\n",
       " \"10 Jul' 21\",\n",
       " \"10 Jul' 21\",\n",
       " \"9 Jul' 21\",\n",
       " \"9 Jul' 21\",\n",
       " \"9 Jul' 21\",\n",
       " \"9 Jul' 21\",\n",
       " \"8 Jul' 21\",\n",
       " \"8 Jul' 21\",\n",
       " \"7 Jul' 21\",\n",
       " \"7 Jul' 21\",\n",
       " \"7 Jul' 21\",\n",
       " \"7 Jul' 21\",\n",
       " \"4 Jul' 21\",\n",
       " \"3 Jul' 21\"]"
      ]
     },
     "execution_count": 349,
     "metadata": {},
     "output_type": "execute_result"
    }
   ],
   "source": [
    "n"
   ]
  },
  {
   "cell_type": "code",
   "execution_count": null,
   "id": "e5ff47f7-b297-4020-a4e1-c0d519cbb745",
   "metadata": {},
   "outputs": [],
   "source": [
    "\n",
    "\n",
    "\n",
    "\n",
    "div_ = soup.find('div').findChildren()\n",
    "for i, child in enumerate(div_):\n",
    "    if i == 1:\n",
    "         print child.text\n",
    "\n",
    "\n"
   ]
  },
  {
   "cell_type": "code",
   "execution_count": null,
   "id": "b8b9c2b0-9e8a-4188-87a8-243c553eb8a6",
   "metadata": {},
   "outputs": [],
   "source": []
  },
  {
   "cell_type": "code",
   "execution_count": 283,
   "id": "2cef9187-d359-4a54-a4fb-20a47e17c7a6",
   "metadata": {},
   "outputs": [],
   "source": []
  },
  {
   "cell_type": "code",
   "execution_count": 136,
   "id": "eb9c83e1-880c-48c2-8b3d-a5fa0302a9fa",
   "metadata": {},
   "outputs": [
    {
     "data": {
      "text/plain": [
       "45"
      ]
     },
     "execution_count": 136,
     "metadata": {},
     "output_type": "execute_result"
    }
   ],
   "source": [
    "len(job_title_list1)"
   ]
  },
  {
   "cell_type": "code",
   "execution_count": null,
   "id": "62a4fa70-9dfa-4fe0-9e22-da9bf93c4014",
   "metadata": {},
   "outputs": [],
   "source": [
    "for x in ctc_list"
   ]
  },
  {
   "cell_type": "code",
   "execution_count": null,
   "id": "ae7cc7e3-1cea-46df-bdfa-26a69dd5c43b",
   "metadata": {},
   "outputs": [],
   "source": []
  },
  {
   "cell_type": "code",
   "execution_count": null,
   "id": "2477f300-4827-4b43-9f8c-1d8efe3bea11",
   "metadata": {},
   "outputs": [],
   "source": [
    "src_url2 = 'https://internshala.com/fresher-jobs/page-2'\n",
    "response2 = requests.get(url=src_url2)\n",
    "y_soup = BeautifulSoup(response2.text,'html.parser')\n",
    "job_title2 = y_soup.select(\"div.heading_4_5\")\n",
    "\n",
    "job_title_list2 =[]\n",
    "for x in job_title2:\n",
    "    job_title_list2.append(x.text.replace('\\n',''))\n",
    "#job_title_list2  "
   ]
  },
  {
   "cell_type": "code",
   "execution_count": 244,
   "id": "1804a87c-1d1d-4256-a45e-9e673ca1e3be",
   "metadata": {},
   "outputs": [
    {
     "data": {
      "text/plain": [
       "[]"
      ]
     },
     "execution_count": 244,
     "metadata": {},
     "output_type": "execute_result"
    }
   ],
   "source": [
    "apply_date_list"
   ]
  },
  {
   "cell_type": "code",
   "execution_count": 135,
   "id": "6c7de629-e2a7-41c0-be3a-522cd5e2494c",
   "metadata": {},
   "outputs": [
    {
     "data": {
      "text/plain": [
       "45"
      ]
     },
     "execution_count": 135,
     "metadata": {},
     "output_type": "execute_result"
    }
   ],
   "source": [
    "len(job_title_list2)"
   ]
  },
  {
   "cell_type": "code",
   "execution_count": null,
   "id": "6e970e72-9864-438d-aca6-8f02a0e5ace8",
   "metadata": {},
   "outputs": [],
   "source": []
  },
  {
   "cell_type": "code",
   "execution_count": null,
   "id": "b28ee1d3-62c1-46d3-b46b-2406c36bb4a0",
   "metadata": {},
   "outputs": [],
   "source": [
    "src_url3 = 'https://internshala.com/fresher-jobs/page-3'\n",
    "response3 = requests.get(url=src_url3)\n",
    "z_soup = BeautifulSoup(response3.text,'html.parser')\n",
    "job_title3 = z_soup.select(\"div.heading_4_5\")\n",
    "job_title_list3 =[]\n",
    "for x in job_title3:\n",
    "    job_title_list3.append(x.text.replace('\\n',''))\n",
    "    \n",
    "job_title_list3  "
   ]
  },
  {
   "cell_type": "code",
   "execution_count": 134,
   "id": "f83e96ad-09fd-49b3-9df0-538e32de857e",
   "metadata": {},
   "outputs": [
    {
     "data": {
      "text/plain": [
       "22"
      ]
     },
     "execution_count": 134,
     "metadata": {},
     "output_type": "execute_result"
    }
   ],
   "source": [
    "len(job_title_list3)"
   ]
  },
  {
   "cell_type": "code",
   "execution_count": null,
   "id": "deb22d1f-1aa0-47de-a2d2-950b8b3fe41f",
   "metadata": {},
   "outputs": [],
   "source": []
  },
  {
   "cell_type": "code",
   "execution_count": null,
   "id": "14122517-7eb7-46cf-9a6a-9da479f09722",
   "metadata": {},
   "outputs": [],
   "source": [
    "job_title2 = x_soup.select(\"div.heading_4_5\")"
   ]
  },
  {
   "cell_type": "code",
   "execution_count": null,
   "id": "b29dfcc5-1fef-40bf-8f97-b2cbf90f90cb",
   "metadata": {},
   "outputs": [],
   "source": []
  },
  {
   "cell_type": "code",
   "execution_count": 123,
   "id": "98c7a3df-736c-432a-8e96-50d4f99d2394",
   "metadata": {},
   "outputs": [
    {
     "data": {
      "text/plain": [
       "45"
      ]
     },
     "execution_count": 123,
     "metadata": {},
     "output_type": "execute_result"
    }
   ],
   "source": [
    "len(title)"
   ]
  },
  {
   "cell_type": "code",
   "execution_count": 137,
   "id": "f79a6966-dfc1-4683-88a4-b091ff31c81c",
   "metadata": {},
   "outputs": [],
   "source": [
    "result = job_title_list1 + job_title_list2 + job_title_list3\n"
   ]
  },
  {
   "cell_type": "code",
   "execution_count": 125,
   "id": "2c3ea8bd-9f23-4c69-92e2-5bb208f498ae",
   "metadata": {},
   "outputs": [],
   "source": [
    "\n",
    "\n",
    "company_name = x_soup.select(\"a.link_display_like_text\")"
   ]
  },
  {
   "cell_type": "code",
   "execution_count": 358,
   "id": "0453f431-4ff8-4612-a1c3-e723a6ad3ee5",
   "metadata": {},
   "outputs": [
    {
     "name": "stdout",
     "output_type": "stream",
     "text": [
      "DataVinci Private Limited\n",
      "The Test Tribe\n",
      "Glu Studios\n",
      "Graygraph Technologies LLC\n",
      "BookLeaf Publishing\n",
      "Ravi Ladia & Co\n",
      "Market Vistas Consumer Insights\n",
      "Global Source Trading LLC\n",
      "Blue Rose Publishers\n",
      "Best Roadways Limited\n",
      "Geekster\n",
      "InfyBytes AI Labs Private Limited\n",
      "Radish Consultants Private Limited\n",
      "Moxie.xyz\n",
      "GREedge\n",
      "Fullmoon Outdoor Web Solutions\n",
      "InspectHOA\n",
      "Nikulsan Technologies Private Limited\n",
      "IQGateway\n",
      "Startxlabs Technologies Private Limited\n",
      "RavGins International Private Limited (Wobb.ai)\n",
      "Varenyam Placements\n",
      "HealthPlix Technologies Private Limited\n",
      "Wizklub Learning\n",
      "Fusion Engineering\n",
      "DeepThought Edutech Ventures Private Limited\n",
      "DeepThought Edutech Ventures Private Limited\n",
      "Redwood Algorithms\n",
      "Blooprint Ecom Consulting\n",
      "QuikieApps\n",
      "SysCloud Technologies Private Limited\n",
      "Medcords Healthcare Solution Private Limited\n",
      "Bagga Infrastructure Limited\n",
      "Exploring Infinities Edtech Private Limited\n",
      "Best Roadways Limited\n",
      "iShopAtoZ\n",
      "The Tech Bridge\n",
      "SalaryBox\n",
      "Nyx Wolves\n",
      "Wono Inc\n"
     ]
    }
   ],
   "source": [
    "for x in company_name:\n",
    "    print(x.text.strip())"
   ]
  },
  {
   "cell_type": "code",
   "execution_count": 355,
   "id": "b0e1d180-dfff-47c2-a7b6-b1300653ecbd",
   "metadata": {},
   "outputs": [
    {
     "data": {
      "text/plain": [
       "40"
      ]
     },
     "execution_count": 355,
     "metadata": {},
     "output_type": "execute_result"
    }
   ],
   "source": [
    "len(company_name)"
   ]
  },
  {
   "cell_type": "code",
   "execution_count": 128,
   "id": "fada4d11-955c-4f7e-9d93-e6a26ed171b1",
   "metadata": {},
   "outputs": [
    {
     "name": "stdin",
     "output_type": "stream",
     "text": [
      " a\n",
      " b\n",
      " c\n"
     ]
    },
    {
     "name": "stdout",
     "output_type": "stream",
     "text": [
      "a b c\n"
     ]
    }
   ],
   "source": [
    "a = input()\n",
    "b = input()\n",
    "c = input()\n",
    "print(a,b,c)"
   ]
  },
  {
   "cell_type": "code",
   "execution_count": null,
   "id": "b0a808f1-ed7b-4e3b-b688-45412b00581c",
   "metadata": {},
   "outputs": [],
   "source": [
    "result"
   ]
  },
  {
   "cell_type": "code",
   "execution_count": 142,
   "id": "4fa8c14f-301f-465c-befe-1194835cd8df",
   "metadata": {},
   "outputs": [
    {
     "ename": "AttributeError",
     "evalue": "'list' object has no attribute 'unique'",
     "output_type": "error",
     "traceback": [
      "\u001b[0;31m---------------------------------------------------------------------------\u001b[0m",
      "\u001b[0;31mAttributeError\u001b[0m                            Traceback (most recent call last)",
      "\u001b[0;32m<ipython-input-142-cc5775a1ab85>\u001b[0m in \u001b[0;36m<module>\u001b[0;34m\u001b[0m\n\u001b[0;32m----> 1\u001b[0;31m \u001b[0mresult\u001b[0m\u001b[0;34m.\u001b[0m\u001b[0munique\u001b[0m\u001b[0;34m(\u001b[0m\u001b[0;34m)\u001b[0m\u001b[0;34m\u001b[0m\u001b[0;34m\u001b[0m\u001b[0m\n\u001b[0m",
      "\u001b[0;31mAttributeError\u001b[0m: 'list' object has no attribute 'unique'"
     ]
    }
   ],
   "source": [
    "result.unique()"
   ]
  },
  {
   "cell_type": "code",
   "execution_count": 145,
   "id": "a2f41ccd-6566-429c-a577-e482700a5416",
   "metadata": {},
   "outputs": [],
   "source": [
    "calc = tuple(result)"
   ]
  },
  {
   "cell_type": "code",
   "execution_count": 144,
   "id": "e20e17a2-0af6-40fe-9e05-53fbed4fb72a",
   "metadata": {},
   "outputs": [
    {
     "data": {
      "text/plain": [
       "112"
      ]
     },
     "execution_count": 144,
     "metadata": {},
     "output_type": "execute_result"
    }
   ],
   "source": [
    "len(result)"
   ]
  },
  {
   "cell_type": "code",
   "execution_count": null,
   "id": "0e548a3a-ca8c-49f7-a123-b8a0e5bd3ed7",
   "metadata": {},
   "outputs": [],
   "source": []
  },
  {
   "cell_type": "code",
   "execution_count": 147,
   "id": "245ed53b-59e8-4144-a331-b2f9f5cdc2e7",
   "metadata": {},
   "outputs": [
    {
     "data": {
      "text/plain": [
       "112"
      ]
     },
     "execution_count": 147,
     "metadata": {},
     "output_type": "execute_result"
    }
   ],
   "source": [
    "len(calc)"
   ]
  },
  {
   "cell_type": "code",
   "execution_count": 393,
   "id": "faa39fee-41b4-4976-bc04-65018d662ba1",
   "metadata": {},
   "outputs": [],
   "source": [
    "data = pd.DataFrame({})\n",
    "def Fresher_Jobs_funct(*args):\n",
    "    url_1 = input('Enter first url')\n",
    "    url_2 = input('Enter second url')\n",
    "    url_3 = input('Enter the third ulr')\n",
    "    response1 = requests.get(url=url_1)\n",
    "    response2 = requests.get(url=url_2)\n",
    "    response3 = requests.get(url=url_3)\n",
    "    \n",
    "    x_soup = BeautifulSoup(response1.text,'html.parser')\n",
    "    job_title1 = x_soup.select(\"div.heading_4_5\")\n",
    "    \n",
    "    y_soup = BeautifulSoup(response2.text,'html.parser')\n",
    "    job_title2 = y_soup.select(\"div.heading_4_5\")\n",
    "    \n",
    "    z_soup = BeautifulSoup(response3.text,'html.parser')\n",
    "    job_title3 = z_soup.select(\"div.heading_4_5\")\n",
    "    \n",
    "    # company_name\n",
    "    company_name_1 = x_soup.select(\"a.link_display_like_text\")\n",
    "    company_name_2 = y_soup.select(\"a.link_display_like_text\")\n",
    "    company_name_3 = z_soup.select(\"a.link_display_like_text\")\n",
    "    \n",
    "    # CTC\n",
    "    ctc1_aplly_date1 = x_soup.find_all('div',class_=\"item_body\")\n",
    "    ctc2_aplly_date2 = y_soup.find_all('div',class_=\"item_body\")\n",
    "    ctc3_aplly_date3 = z_soup.find_all('div',class_=\"item_body\")\n",
    "    \n",
    "    # Company name block\n",
    "    company_name_list1 = []\n",
    "    for x in company_name_1:\n",
    "        company_name_list1.append(x.text.strip())\n",
    "    company_name_list2 = []\n",
    "    for x in company_name_2:\n",
    "        company_name_list2.append(x.text.strip())\n",
    "    company_name_list3 = []\n",
    "    for x in company_name_3:\n",
    "        company_name_list3.append(x.text.strip())\n",
    "    \n",
    "    Company_Name = company_name_list1 + company_name_list2 + company_name_list3\n",
    "    \n",
    "    ## Job Titble block\n",
    "    job_title_list1 =[]\n",
    "    for x in job_title1:\n",
    "        job_title_list1.append(x.text.replace('\\n',''))\n",
    "        \n",
    "    job_title_list2 =[]\n",
    "    for x in job_title2:\n",
    "        job_title_list2.append(x.text.replace('\\n',''))\n",
    "    job_title_list3 =[]\n",
    "    for x in job_title3:\n",
    "        job_title_list3.append(x.text.replace('\\n',''))\n",
    "    job_T1 = []\n",
    "    for y in job_title_list1:\n",
    "        if y!='':\n",
    "            job_T1.append(y)\n",
    "    job_T2 = []\n",
    "    for y in job_title_list2:\n",
    "        if y!='':\n",
    "            job_T2.append(y)\n",
    "    job_T3 = []\n",
    "    for y in job_title_list3:\n",
    "        if y!='':\n",
    "            job_T3.append(y)        \n",
    "            \n",
    "            \n",
    "    Job_Title = job_T1 + job_T2 + job_T3   \n",
    "\n",
    "    \n",
    "    \n",
    "    \n",
    "    ## aplly_date and CTC block\n",
    "    apply_details1 = []\n",
    "    for x in ctc1_aplly_date1:\n",
    "        apply_details1.append(x.text.strip())\n",
    "        \n",
    "    apply_del1 = []\n",
    "    for x in apply_details1:\n",
    "        if x !='Starts\\xa0Immediately':\n",
    "            apply_del1.append(x)\n",
    "    ctc1 = []\n",
    "    date1 = []\n",
    "    for y in apply_del1:\n",
    "        if apply_del1.index(y)%2 ==0:\n",
    "            ctc1.append(y)\n",
    "        else:\n",
    "            date1.append(y)\n",
    "            \n",
    "    \n",
    "    apply_details2 = []\n",
    "    for x in ctc2_aplly_date2:\n",
    "        apply_details2.append(x.text.strip())\n",
    "        \n",
    "    apply_del2 = []\n",
    "    for x in apply_details2:\n",
    "        if x !='Starts\\xa0Immediately':\n",
    "            apply_del2.append(x)\n",
    "    ctc2 = []\n",
    "    date2 = []\n",
    "    for y in apply_del2:\n",
    "        if apply_del2.index(y)%2 ==0:\n",
    "            ctc2.append(y)\n",
    "        else:\n",
    "            date2.append(y)\n",
    "     \n",
    "    apply_details3 = []\n",
    "    for x in ctc3_aplly_date3:\n",
    "        apply_details3.append(x.text.strip())\n",
    "        \n",
    "    apply_del3 = []\n",
    "    for x in apply_details3:\n",
    "        if x !='Starts\\xa0Immediately':\n",
    "            apply_del3.append(x)\n",
    "    ctc3 = []\n",
    "    date3 = []\n",
    "    for y in apply_del3:\n",
    "        if apply_del3.index(y)%2 ==0:\n",
    "            ctc3.append(y)\n",
    "        else:\n",
    "            date3.append(y)\n",
    "    CTC = ctc1 + ctc2 + ctc3\n",
    "    Date = date1 + date2 + date3\n",
    "    \n",
    "    data['Job_Title'] = Job_Title\n",
    "    data['Company_Name'] = Company_Name\n",
    "    data['CTC'] = CTC\n",
    "    data['Apply_Date'] = Date\n",
    "    \n",
    "    return data"
   ]
  },
  {
   "cell_type": "code",
   "execution_count": null,
   "id": "47f0f971-2b39-4091-9fe9-f2fe5bfc4847",
   "metadata": {},
   "outputs": [],
   "source": [
    "#Enter first url:  https://internshala.com/fresher-jobs\n",
    "\n",
    "#Enter second url: https://internshala.com/fresher-jobs/page-2\n",
    "\n",
    "# Enter the third ulr https://internshala.com/fresher-jobs/page-3"
   ]
  },
  {
   "cell_type": "code",
   "execution_count": 394,
   "id": "41578c21-6355-4e5b-ac71-647c99e65ab0",
   "metadata": {},
   "outputs": [
    {
     "name": "stdin",
     "output_type": "stream",
     "text": [
      "Enter first url https://internshala.com/fresher-jobs\n",
      "Enter second url https://internshala.com/fresher-jobs/page-2\n",
      "Enter the third ulr https://internshala.com/fresher-jobs/page-3\n"
     ]
    },
    {
     "data": {
      "text/html": [
       "<div>\n",
       "<style scoped>\n",
       "    .dataframe tbody tr th:only-of-type {\n",
       "        vertical-align: middle;\n",
       "    }\n",
       "\n",
       "    .dataframe tbody tr th {\n",
       "        vertical-align: top;\n",
       "    }\n",
       "\n",
       "    .dataframe thead th {\n",
       "        text-align: right;\n",
       "    }\n",
       "</style>\n",
       "<table border=\"1\" class=\"dataframe\">\n",
       "  <thead>\n",
       "    <tr style=\"text-align: right;\">\n",
       "      <th></th>\n",
       "      <th>Job_Title</th>\n",
       "      <th>Company_Name</th>\n",
       "      <th>CTC</th>\n",
       "      <th>Apply_Date</th>\n",
       "    </tr>\n",
       "  </thead>\n",
       "  <tbody>\n",
       "    <tr>\n",
       "      <th>0</th>\n",
       "      <td>Web Analytics Developer</td>\n",
       "      <td>DataVinci Private Limited</td>\n",
       "      <td>4.99 - 5 LPA</td>\n",
       "      <td>17 Jul' 21</td>\n",
       "    </tr>\n",
       "    <tr>\n",
       "      <th>1</th>\n",
       "      <td>Junior Social Media Marketing Manager</td>\n",
       "      <td>The Test Tribe</td>\n",
       "      <td>3 - 4 LPA</td>\n",
       "      <td>17 Jul' 21</td>\n",
       "    </tr>\n",
       "    <tr>\n",
       "      <th>2</th>\n",
       "      <td>Junior Social Media Marketing Associate</td>\n",
       "      <td>Glu Studios</td>\n",
       "      <td>3 - 3.6 LPA</td>\n",
       "      <td>17 Jul' 21</td>\n",
       "    </tr>\n",
       "    <tr>\n",
       "      <th>3</th>\n",
       "      <td>Business Development Manager (Digital Marketin...</td>\n",
       "      <td>Graygraph Technologies LLC</td>\n",
       "      <td>3 - 4.5 LPA</td>\n",
       "      <td>17 Jul' 21</td>\n",
       "    </tr>\n",
       "    <tr>\n",
       "      <th>4</th>\n",
       "      <td>Business Development Executive</td>\n",
       "      <td>BookLeaf Publishing</td>\n",
       "      <td>3 - 3.6 LPA</td>\n",
       "      <td>17 Jul' 21</td>\n",
       "    </tr>\n",
       "    <tr>\n",
       "      <th>...</th>\n",
       "      <td>...</td>\n",
       "      <td>...</td>\n",
       "      <td>...</td>\n",
       "      <td>...</td>\n",
       "    </tr>\n",
       "    <tr>\n",
       "      <th>88</th>\n",
       "      <td>Business Development Executive</td>\n",
       "      <td>Square Select Estates</td>\n",
       "      <td>3 - 5 LPA</td>\n",
       "      <td>19 Jun' 21</td>\n",
       "    </tr>\n",
       "    <tr>\n",
       "      <th>89</th>\n",
       "      <td>Full Stack Flutter Developer</td>\n",
       "      <td>HeartShirt</td>\n",
       "      <td>3 - 3.5 LPA</td>\n",
       "      <td>19 Jun' 21</td>\n",
       "    </tr>\n",
       "    <tr>\n",
       "      <th>90</th>\n",
       "      <td>Associate Software Developer</td>\n",
       "      <td>Labellerr By Tensor Matics Private Limited</td>\n",
       "      <td>7 - 10 LPA</td>\n",
       "      <td>23 Jun' 21</td>\n",
       "    </tr>\n",
       "    <tr>\n",
       "      <th>91</th>\n",
       "      <td>Hardware Simulation Engineer</td>\n",
       "      <td>Keysight Technologies</td>\n",
       "      <td>4 - 7 LPA</td>\n",
       "      <td>19 Jun' 21</td>\n",
       "    </tr>\n",
       "    <tr>\n",
       "      <th>92</th>\n",
       "      <td>Software Development Engineer (Android)</td>\n",
       "      <td>Internshala</td>\n",
       "      <td>6.6 - 8.28 LPA</td>\n",
       "      <td>19 Jun' 21</td>\n",
       "    </tr>\n",
       "  </tbody>\n",
       "</table>\n",
       "<p>93 rows × 4 columns</p>\n",
       "</div>"
      ],
      "text/plain": [
       "                                            Job_Title  \\\n",
       "0                            Web Analytics Developer    \n",
       "1              Junior Social Media Marketing Manager    \n",
       "2            Junior Social Media Marketing Associate    \n",
       "3   Business Development Manager (Digital Marketin...   \n",
       "4                     Business Development Executive    \n",
       "..                                                ...   \n",
       "88                    Business Development Executive    \n",
       "89                      Full Stack Flutter Developer    \n",
       "90                      Associate Software Developer    \n",
       "91                      Hardware Simulation Engineer    \n",
       "92           Software Development Engineer (Android)    \n",
       "\n",
       "                                  Company_Name             CTC  Apply_Date  \n",
       "0                    DataVinci Private Limited    4.99 - 5 LPA  17 Jul' 21  \n",
       "1                               The Test Tribe       3 - 4 LPA  17 Jul' 21  \n",
       "2                                  Glu Studios     3 - 3.6 LPA  17 Jul' 21  \n",
       "3                   Graygraph Technologies LLC     3 - 4.5 LPA  17 Jul' 21  \n",
       "4                          BookLeaf Publishing     3 - 3.6 LPA  17 Jul' 21  \n",
       "..                                         ...             ...         ...  \n",
       "88                       Square Select Estates       3 - 5 LPA  19 Jun' 21  \n",
       "89                                  HeartShirt     3 - 3.5 LPA  19 Jun' 21  \n",
       "90  Labellerr By Tensor Matics Private Limited      7 - 10 LPA  23 Jun' 21  \n",
       "91                       Keysight Technologies       4 - 7 LPA  19 Jun' 21  \n",
       "92                                 Internshala  6.6 - 8.28 LPA  19 Jun' 21  \n",
       "\n",
       "[93 rows x 4 columns]"
      ]
     },
     "execution_count": 394,
     "metadata": {},
     "output_type": "execute_result"
    }
   ],
   "source": [
    "Fresher_Jobs_funct()"
   ]
  },
  {
   "cell_type": "code",
   "execution_count": 385,
   "id": "55fbb5c6-c953-42da-b16f-ffb72e92639a",
   "metadata": {},
   "outputs": [],
   "source": [
    "fort = ['',1,7,'']"
   ]
  },
  {
   "cell_type": "code",
   "execution_count": 386,
   "id": "70275b7d-0cb2-4c2b-b743-36184e34d009",
   "metadata": {},
   "outputs": [
    {
     "name": "stdout",
     "output_type": "stream",
     "text": [
      "['', 1, 7, '']\n"
     ]
    }
   ],
   "source": [
    "print(fort)"
   ]
  },
  {
   "cell_type": "code",
   "execution_count": 387,
   "id": "0fcc1e29-42ec-4773-a582-f5369baddf8e",
   "metadata": {},
   "outputs": [
    {
     "name": "stdout",
     "output_type": "stream",
     "text": [
      "1\n",
      "7\n"
     ]
    }
   ],
   "source": [
    "for x in fort:\n",
    "    if x !='':\n",
    "        print(x)"
   ]
  },
  {
   "cell_type": "code",
   "execution_count": null,
   "id": "c46eef52-4265-4b97-815b-9932b6a0c27d",
   "metadata": {},
   "outputs": [],
   "source": []
  }
 ],
 "metadata": {
  "kernelspec": {
   "display_name": "Python 3",
   "language": "python",
   "name": "python3"
  },
  "language_info": {
   "codemirror_mode": {
    "name": "ipython",
    "version": 3
   },
   "file_extension": ".py",
   "mimetype": "text/x-python",
   "name": "python",
   "nbconvert_exporter": "python",
   "pygments_lexer": "ipython3",
   "version": "3.8.2"
  }
 },
 "nbformat": 4,
 "nbformat_minor": 5
}

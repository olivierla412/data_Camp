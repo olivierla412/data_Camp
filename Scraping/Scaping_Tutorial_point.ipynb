{
 "cells": [
  {
   "cell_type": "code",
   "execution_count": 1,
   "id": "d037bfb3-9b25-47a2-9bd6-1a79022727e8",
   "metadata": {},
   "outputs": [],
   "source": [
    "from bs4 import BeautifulSoup\n",
    "import requests\n"
   ]
  },
  {
   "cell_type": "code",
   "execution_count": 2,
   "id": "9c24f8c8-c479-499e-92a1-e1dcca3a2dbe",
   "metadata": {},
   "outputs": [],
   "source": [
    "url = \"https://www.tutorialspoint.com/index.htm\""
   ]
  },
  {
   "cell_type": "code",
   "execution_count": 3,
   "id": "e9c2cac2-ee66-4a71-be9b-bc4a74285aed",
   "metadata": {},
   "outputs": [
    {
     "name": "stdout",
     "output_type": "stream",
     "text": [
      "<title>RxJS, ggplot2, Python Data Persistence, Caffe2, PyBrain, Python Data Access, H2O, Colab, Theano, Flutter, KNime, Mean.js, Weka, Solidity</title>\n"
     ]
    }
   ],
   "source": [
    "req = requests.get(url)\n",
    "soup = BeautifulSoup(req.text, \"html.parser\")\n",
    "print(soup.title)"
   ]
  },
  {
   "cell_type": "code",
   "execution_count": 5,
   "id": "1a551b1f-3796-425d-b52d-32a953c4380f",
   "metadata": {},
   "outputs": [],
   "source": [
    "container = soup.find_all('a')"
   ]
  },
  {
   "cell_type": "code",
   "execution_count": 29,
   "id": "7589577a-6e10-4ede-a9c9-d853b64af57e",
   "metadata": {},
   "outputs": [],
   "source": [
    "tuto_list = []\n",
    "for i in container:\n",
    "    tuto_list.append(i.get('href'))"
   ]
  },
  {
   "cell_type": "code",
   "execution_count": 10,
   "id": "0a73a02e-14b2-4751-95b9-223446f0e1d1",
   "metadata": {},
   "outputs": [
    {
     "data": {
      "text/plain": [
       "253"
      ]
     },
     "execution_count": 10,
     "metadata": {},
     "output_type": "execute_result"
    }
   ],
   "source": [
    "len(tuto_list)"
   ]
  },
  {
   "cell_type": "code",
   "execution_count": 11,
   "id": "7109cd41-1cde-4ff2-a343-d6c8852e2582",
   "metadata": {},
   "outputs": [
    {
     "data": {
      "text/plain": [
       "'https://www.tutorialspoint.com/index.htm'"
      ]
     },
     "execution_count": 11,
     "metadata": {},
     "output_type": "execute_result"
    }
   ],
   "source": [
    "tuto_list[0]"
   ]
  },
  {
   "cell_type": "code",
   "execution_count": 12,
   "id": "58abe45e-b9cb-44b7-be60-30b6617e9969",
   "metadata": {},
   "outputs": [],
   "source": [
    "import pandas as pd"
   ]
  },
  {
   "cell_type": "code",
   "execution_count": 13,
   "id": "0c145e68-136a-47f2-82ef-ce12ab84bafe",
   "metadata": {},
   "outputs": [],
   "source": [
    "data = pd.DataFrame({})\n",
    "data['Urls'] = tuto_list"
   ]
  },
  {
   "cell_type": "code",
   "execution_count": 23,
   "id": "ace9ee5f-f8d0-49a4-9e36-b8dfb58ed1c1",
   "metadata": {},
   "outputs": [],
   "source": [
    "# data.head(20)"
   ]
  },
  {
   "cell_type": "code",
   "execution_count": 21,
   "id": "99d42ea4-4d09-4ab3-987e-097fedd1ac72",
   "metadata": {},
   "outputs": [],
   "source": [
    "data.dropna(inplace=True)\n"
   ]
  },
  {
   "cell_type": "code",
   "execution_count": 24,
   "id": "72146462-5fc8-4d14-8c2a-4911e7f098e6",
   "metadata": {},
   "outputs": [],
   "source": [
    "#data.head(20)"
   ]
  },
  {
   "cell_type": "code",
   "execution_count": 37,
   "id": "b0a24799-a460-41c5-8afb-09e28be68434",
   "metadata": {},
   "outputs": [],
   "source": [
    "tutorialsP = BeautifulSoup(\"<div class='tutorialsP'></div>\",'lxml')\n",
    "tag2 = tutorialsP.div\n"
   ]
  },
  {
   "cell_type": "code",
   "execution_count": 38,
   "id": "f97a8b74-54ae-499e-ae71-674f90a7f017",
   "metadata": {},
   "outputs": [
    {
     "data": {
      "text/plain": [
       "<div class=\"tutorialsP\"></div>"
      ]
     },
     "execution_count": 38,
     "metadata": {},
     "output_type": "execute_result"
    }
   ],
   "source": [
    "tag2"
   ]
  },
  {
   "cell_type": "code",
   "execution_count": 27,
   "id": "5c7216f0-9bd5-4d34-9425-6d4c72371a3e",
   "metadata": {},
   "outputs": [
    {
     "data": {
      "text/plain": [
       "['tutorialsP']"
      ]
     },
     "execution_count": 27,
     "metadata": {},
     "output_type": "execute_result"
    }
   ],
   "source": [
    "tag2['class'] "
   ]
  },
  {
   "cell_type": "markdown",
   "id": "19fdc2dc-4584-4bd4-827e-4922d3599ba3",
   "metadata": {},
   "source": [
    "### We can do all kind of modifications to our tag’s attributes (add/remove/modify)."
   ]
  },
  {
   "cell_type": "code",
   "execution_count": 39,
   "id": "d2b6d9b2-1bcd-41fb-aa8b-2dbee1af04b9",
   "metadata": {},
   "outputs": [],
   "source": [
    "tag2['class'] = 'olivier'"
   ]
  },
  {
   "cell_type": "code",
   "execution_count": 40,
   "id": "7e88ad61-689b-4e26-976c-beab1b59d2d3",
   "metadata": {},
   "outputs": [
    {
     "data": {
      "text/plain": [
       "'olivier'"
      ]
     },
     "execution_count": 40,
     "metadata": {},
     "output_type": "execute_result"
    }
   ],
   "source": [
    "tag2['class'] "
   ]
  },
  {
   "cell_type": "code",
   "execution_count": 41,
   "id": "c61a563a-8601-428e-9425-6a23ad39ec38",
   "metadata": {},
   "outputs": [
    {
     "data": {
      "text/plain": [
       "'body bold'"
      ]
     },
     "execution_count": 41,
     "metadata": {},
     "output_type": "execute_result"
    }
   ],
   "source": [
    "id_soup = BeautifulSoup('<p id=\"body bold\"></p>','lxml')\n",
    "id_soup.p['id']\n"
   ]
  },
  {
   "cell_type": "code",
   "execution_count": 42,
   "id": "006943f1-b298-4e89-bc8a-83f02770ccb4",
   "metadata": {},
   "outputs": [
    {
     "data": {
      "text/plain": [
       "str"
      ]
     },
     "execution_count": 42,
     "metadata": {},
     "output_type": "execute_result"
    }
   ],
   "source": [
    "type(id_soup.p['id'])"
   ]
  },
  {
   "cell_type": "markdown",
   "id": "45892575-0546-466e-9807-4126805a4352",
   "metadata": {},
   "source": [
    "### ou can consolidate multiple attribute values if you turn a tag to a string."
   ]
  },
  {
   "cell_type": "code",
   "execution_count": 43,
   "id": "4a553d46-6b7b-4518-9095-5a1a8948dc30",
   "metadata": {},
   "outputs": [],
   "source": [
    "rel_soup = BeautifulSoup(\"<p> tutorialspoint Main <a rel='Index'> Page</a></p>\")"
   ]
  },
  {
   "cell_type": "code",
   "execution_count": 44,
   "id": "1ab5aeb3-1697-4b95-b529-e80c60c2c3a6",
   "metadata": {},
   "outputs": [
    {
     "data": {
      "text/plain": [
       "['Index']"
      ]
     },
     "execution_count": 44,
     "metadata": {},
     "output_type": "execute_result"
    }
   ],
   "source": [
    "rel_soup.a['rel']"
   ]
  },
  {
   "cell_type": "code",
   "execution_count": 45,
   "id": "b315f479-f167-4f1c-8be1-5ad9b11cb1f3",
   "metadata": {},
   "outputs": [
    {
     "name": "stdout",
     "output_type": "stream",
     "text": [
      "<p> tutorialspoint Main <a rel=\"Index  Online Library, Its all Free, oliver\"> Page</a></p>\n"
     ]
    }
   ],
   "source": [
    "rel_soup.a['rel'] = ['Index', ' Online Library, Its all Free, oliver']\n",
    "print(rel_soup.p)"
   ]
  },
  {
   "cell_type": "code",
   "execution_count": 46,
   "id": "714265b9-bbab-4223-872f-f9f639515e10",
   "metadata": {},
   "outputs": [],
   "source": [
    "## id_soup.p.get_attribute_list(‘id’)"
   ]
  },
  {
   "cell_type": "markdown",
   "id": "1c2ecebc-2c34-42c6-967c-7de75cea4dc3",
   "metadata": {},
   "source": [
    "### However, if you parse the document as ‘xml’, there are no multi-valued attributes −"
   ]
  },
  {
   "cell_type": "code",
   "execution_count": 52,
   "id": "75b1af6f-27f7-43ab-bf25-5aa7a3d870b4",
   "metadata": {},
   "outputs": [
    {
     "data": {
      "text/plain": [
       "'body bold'"
      ]
     },
     "execution_count": 52,
     "metadata": {},
     "output_type": "execute_result"
    }
   ],
   "source": [
    "xml_soup = BeautifulSoup('<p class=\"body bold\"></p>', 'xml')\n",
    "xml_soup.p['class']\n"
   ]
  },
  {
   "cell_type": "markdown",
   "id": "9dfcea44-32fc-4f11-9457-5542ce2a878b",
   "metadata": {},
   "source": [
    "#### here you can see the diffence between lxml and xml parsing"
   ]
  },
  {
   "cell_type": "code",
   "execution_count": 53,
   "id": "30d5f197-3102-4d30-919c-4b69afe8b76a",
   "metadata": {},
   "outputs": [
    {
     "data": {
      "text/plain": [
       "['body', 'bold']"
      ]
     },
     "execution_count": 53,
     "metadata": {},
     "output_type": "execute_result"
    }
   ],
   "source": [
    "xml_soup1 = BeautifulSoup('<p class=\"body bold\"></p>', 'lxml')\n",
    "xml_soup1.p['class']"
   ]
  },
  {
   "cell_type": "code",
   "execution_count": null,
   "id": "4086c0fd-d4d9-403d-88d8-cb8f06f14abf",
   "metadata": {},
   "outputs": [],
   "source": []
  },
  {
   "cell_type": "markdown",
   "id": "6fa76cc5-5792-4754-ac0f-af7b5cb5f6b7",
   "metadata": {},
   "source": [
    "## __NavigableString__"
   ]
  },
  {
   "cell_type": "markdown",
   "id": "7422aa84-1bad-4b68-b2ca-cff8fea22e82",
   "metadata": {},
   "source": [
    "### The navigablestring object is used to represent the contents of a tag. To access the contents, use “.string” with tag."
   ]
  },
  {
   "cell_type": "code",
   "execution_count": 56,
   "id": "e3f586fb-cc48-4be1-8393-33a1b09ab855",
   "metadata": {},
   "outputs": [],
   "source": [
    "from bs4 import BeautifulSoup\n",
    "soup = BeautifulSoup(\"<h2 id='message'>Hello, Tutorialspoint!</h2>\",'xml')"
   ]
  },
  {
   "cell_type": "code",
   "execution_count": 57,
   "id": "815df404-8abc-4668-9b5d-d1490b15a2f7",
   "metadata": {},
   "outputs": [
    {
     "data": {
      "text/plain": [
       "'Hello, Tutorialspoint!'"
      ]
     },
     "execution_count": 57,
     "metadata": {},
     "output_type": "execute_result"
    }
   ],
   "source": [
    "soup.string"
   ]
  },
  {
   "cell_type": "code",
   "execution_count": 59,
   "id": "f641aee0-67ed-4f2a-b910-24eb9b50d42d",
   "metadata": {},
   "outputs": [
    {
     "data": {
      "text/plain": [
       "'message'"
      ]
     },
     "execution_count": 59,
     "metadata": {},
     "output_type": "execute_result"
    }
   ],
   "source": [
    "soup.h2['id']"
   ]
  },
  {
   "cell_type": "code",
   "execution_count": 60,
   "id": "c3bbed77-24cc-4cbf-878a-c0d97839e414",
   "metadata": {},
   "outputs": [
    {
     "data": {
      "text/plain": [
       "bs4.element.NavigableString"
      ]
     },
     "execution_count": 60,
     "metadata": {},
     "output_type": "execute_result"
    }
   ],
   "source": [
    "type(soup.string)"
   ]
  },
  {
   "cell_type": "markdown",
   "id": "59dff935-2baf-4d15-8fc5-a9ef98f53bed",
   "metadata": {},
   "source": [
    "### You can replace the string with another string but you can’t edit the existing string."
   ]
  },
  {
   "cell_type": "code",
   "execution_count": 246,
   "id": "525983ff-d54a-42ec-9601-a098b8c871f3",
   "metadata": {},
   "outputs": [],
   "source": [
    "soupq = BeautifulSoup(\"<h2 id='message'>Hello, Tutorialspoint!</h2>\")\n"
   ]
  },
  {
   "cell_type": "code",
   "execution_count": 247,
   "id": "9eca998f-3271-4b5a-852d-401d02c70e79",
   "metadata": {},
   "outputs": [
    {
     "data": {
      "text/plain": [
       "'Hello, Tutorialspoint!'"
      ]
     },
     "execution_count": 247,
     "metadata": {},
     "output_type": "execute_result"
    }
   ],
   "source": [
    "soupq.string.replace_with(\"Online Learning!    \")"
   ]
  },
  {
   "cell_type": "code",
   "execution_count": 248,
   "id": "7eb4c35e-c9c4-4716-8467-c098157152d4",
   "metadata": {},
   "outputs": [
    {
     "data": {
      "text/plain": [
       "'Online Learning!'"
      ]
     },
     "execution_count": 248,
     "metadata": {},
     "output_type": "execute_result"
    }
   ],
   "source": [
    "soupq.string.strip()"
   ]
  },
  {
   "cell_type": "code",
   "execution_count": 72,
   "id": "dc54bf2b-1e06-4d41-916b-f5fa6a1a9eaa",
   "metadata": {},
   "outputs": [
    {
     "data": {
      "text/plain": [
       "<html><body><h2 id=\"message\">Online Learning!    </h2></body></html>"
      ]
     },
     "execution_count": 72,
     "metadata": {},
     "output_type": "execute_result"
    }
   ],
   "source": [
    "soup"
   ]
  },
  {
   "cell_type": "code",
   "execution_count": 73,
   "id": "889e1243-f709-45c5-b3d5-d9f12491aeb4",
   "metadata": {},
   "outputs": [
    {
     "data": {
      "text/plain": [
       "'[document]'"
      ]
     },
     "execution_count": 73,
     "metadata": {},
     "output_type": "execute_result"
    }
   ],
   "source": [
    "soup.name"
   ]
  },
  {
   "cell_type": "code",
   "execution_count": null,
   "id": "15bbd63c-4fa0-4937-86eb-1e0d1b2c878f",
   "metadata": {},
   "outputs": [],
   "source": []
  },
  {
   "cell_type": "markdown",
   "id": "01f15af3-e06f-4dc5-a9eb-aa97e2763106",
   "metadata": {},
   "source": [
    "### Comments"
   ]
  },
  {
   "cell_type": "code",
   "execution_count": 75,
   "id": "6eadf308-2063-4b01-abd6-cf2474d4ffa7",
   "metadata": {},
   "outputs": [],
   "source": [
    "soup = BeautifulSoup('<p><!-- Everything inside it is COMMENTS --></p>')\n",
    "comment = soup.p.string"
   ]
  },
  {
   "cell_type": "code",
   "execution_count": 76,
   "id": "d1b4107e-466b-4496-8cbe-ca242f0f6b5b",
   "metadata": {},
   "outputs": [
    {
     "data": {
      "text/plain": [
       "' Everything inside it is COMMENTS '"
      ]
     },
     "execution_count": 76,
     "metadata": {},
     "output_type": "execute_result"
    }
   ],
   "source": [
    "comment"
   ]
  },
  {
   "cell_type": "markdown",
   "id": "3d7e1a6e-6da6-4002-b737-762a5d230e62",
   "metadata": {},
   "source": [
    "#### __prettify()__"
   ]
  },
  {
   "cell_type": "code",
   "execution_count": 80,
   "id": "d91886b1-21e6-4d94-9bc4-6d95f72e92eb",
   "metadata": {},
   "outputs": [
    {
     "name": "stdout",
     "output_type": "stream",
     "text": [
      "<p>\n",
      " <!-- Everything inside it is COMMENTS -->\n",
      "</p>\n"
     ]
    }
   ],
   "source": [
    "print(soup.p.prettify())"
   ]
  },
  {
   "cell_type": "code",
   "execution_count": null,
   "id": "22f8d3ff-7635-420c-a596-3a0042454e16",
   "metadata": {},
   "outputs": [],
   "source": []
  },
  {
   "cell_type": "markdown",
   "id": "6a5e546e-bf09-4e44-9133-ebaa1322a100",
   "metadata": {},
   "source": [
    "### __In this chapter, we shall discuss about Navigating by Tags.__"
   ]
  },
  {
   "cell_type": "markdown",
   "id": "a7feddee-8a45-425b-9027-9237b270a8c4",
   "metadata": {},
   "source": [
    "##### Below is our html document :-"
   ]
  },
  {
   "cell_type": "code",
   "execution_count": 84,
   "id": "ce886321-f6bc-4782-bb1c-255a274225d1",
   "metadata": {},
   "outputs": [],
   "source": [
    "html_doc = \"\"\"\n",
    "<html><head><title>Tutorials Point</title></head>\n",
    "<body>\n",
    "<p class=\"title\"><b>The Biggest Online Tutorials Library, It's all Free</b></p>\n",
    "<p class=\"prog\">Top 5 most used Programming Languages are:\n",
    "<a href=\"https://www.tutorialspoint.com/java/java_overview.htm\" class=\"prog\" id=\"link1\">Java</a>,\n",
    "<a href=\"https://www.tutorialspoint.com/cprogramming/index.htm\" class=\"prog\" id=\"link2\">C</a>,\n",
    "<a href=\"https://www.tutorialspoint.com/python/index.htm\" class=\"prog\" id=\"link3\">Python</a>,\n",
    "<a href=\"https://www.tutorialspoint.com/javascript/javascript_overview.htm\" class=\"prog\" id=\"link4\">JavaScript</a> and\n",
    "<a href=\"https://www.tutorialspoint.com/ruby/index.htm\" class=\"prog\" id=\"link5\">C</a>;\n",
    "as per online survey.</p>\n",
    "<p class=\"prog\">Programming Languages</p>\n",
    "\"\"\""
   ]
  },
  {
   "cell_type": "code",
   "execution_count": 85,
   "id": "37245a8a-a21d-4c0e-9a8d-44e7fc82909d",
   "metadata": {},
   "outputs": [],
   "source": [
    "from bs4 import BeautifulSoup as bs"
   ]
  },
  {
   "cell_type": "code",
   "execution_count": 87,
   "id": "c9984334-fffc-48ed-b5d7-190bd025091f",
   "metadata": {},
   "outputs": [],
   "source": [
    "soup_ = bs(html_doc,'html.parser')"
   ]
  },
  {
   "cell_type": "code",
   "execution_count": 90,
   "id": "b8e0f924-e274-41a3-aa42-c99a6fd2e036",
   "metadata": {},
   "outputs": [
    {
     "data": {
      "text/plain": [
       "'Tutorials Point'"
      ]
     },
     "execution_count": 90,
     "metadata": {},
     "output_type": "execute_result"
    }
   ],
   "source": [
    "soup_.head.title.string"
   ]
  },
  {
   "cell_type": "code",
   "execution_count": 91,
   "id": "1f50e8c0-625a-4085-93cf-7383064b2843",
   "metadata": {},
   "outputs": [],
   "source": [
    "Htag = soup_.head"
   ]
  },
  {
   "cell_type": "code",
   "execution_count": 93,
   "id": "5aa45a44-4b4f-4763-99b1-a782a3c8c501",
   "metadata": {},
   "outputs": [],
   "source": [
    "var = Htag.contents"
   ]
  },
  {
   "cell_type": "code",
   "execution_count": 98,
   "id": "918d57cd-9aa2-465c-8396-59b3c5a524f5",
   "metadata": {},
   "outputs": [
    {
     "data": {
      "text/plain": [
       "[<title>Tutorials Point</title>]"
      ]
     },
     "execution_count": 98,
     "metadata": {},
     "output_type": "execute_result"
    }
   ],
   "source": [
    "var"
   ]
  },
  {
   "cell_type": "markdown",
   "id": "46f89804-6761-47de-b184-05603b45906c",
   "metadata": {},
   "source": [
    "### How to use __get()__ extract the url ?"
   ]
  },
  {
   "cell_type": "code",
   "execution_count": 101,
   "id": "d89c4f05-7b78-4c3a-a6cf-89b54dfa381c",
   "metadata": {},
   "outputs": [],
   "source": [
    " cont = soup_.find_all('a')"
   ]
  },
  {
   "cell_type": "code",
   "execution_count": 106,
   "id": "2a5abba7-c348-4fe7-bcf9-f2ae1f2f8aac",
   "metadata": {},
   "outputs": [],
   "source": [
    "arr = []\n",
    "for x in cont:\n",
    "    arr.append(x.get('href'))\n",
    "    if len(arr) == 3:\n",
    "        break"
   ]
  },
  {
   "cell_type": "code",
   "execution_count": 107,
   "id": "3e2daead-5de7-4bbd-ad38-4894158071b0",
   "metadata": {},
   "outputs": [
    {
     "data": {
      "text/plain": [
       "['https://www.tutorialspoint.com/java/java_overview.htm',\n",
       " 'https://www.tutorialspoint.com/cprogramming/index.htm',\n",
       " 'https://www.tutorialspoint.com/python/index.htm']"
      ]
     },
     "execution_count": 107,
     "metadata": {},
     "output_type": "execute_result"
    }
   ],
   "source": [
    "arr"
   ]
  },
  {
   "cell_type": "code",
   "execution_count": 105,
   "id": "29bcd2ab-5eb4-4344-a5b5-30cd8d0634ee",
   "metadata": {},
   "outputs": [],
   "source": [
    "import pandas as pd"
   ]
  },
  {
   "cell_type": "code",
   "execution_count": 109,
   "id": "d64b2891-aaaf-4ac5-a7d5-5b6d48d2cffc",
   "metadata": {},
   "outputs": [
    {
     "data": {
      "text/html": [
       "<div>\n",
       "<style scoped>\n",
       "    .dataframe tbody tr th:only-of-type {\n",
       "        vertical-align: middle;\n",
       "    }\n",
       "\n",
       "    .dataframe tbody tr th {\n",
       "        vertical-align: top;\n",
       "    }\n",
       "\n",
       "    .dataframe thead th {\n",
       "        text-align: right;\n",
       "    }\n",
       "</style>\n",
       "<table border=\"1\" class=\"dataframe\">\n",
       "  <thead>\n",
       "    <tr style=\"text-align: right;\">\n",
       "      <th></th>\n",
       "      <th>Product_link</th>\n",
       "    </tr>\n",
       "  </thead>\n",
       "  <tbody>\n",
       "    <tr>\n",
       "      <th>0</th>\n",
       "      <td>https://www.tutorialspoint.com/java/java_overv...</td>\n",
       "    </tr>\n",
       "    <tr>\n",
       "      <th>1</th>\n",
       "      <td>https://www.tutorialspoint.com/cprogramming/in...</td>\n",
       "    </tr>\n",
       "    <tr>\n",
       "      <th>2</th>\n",
       "      <td>https://www.tutorialspoint.com/python/index.htm</td>\n",
       "    </tr>\n",
       "  </tbody>\n",
       "</table>\n",
       "</div>"
      ],
      "text/plain": [
       "                                        Product_link\n",
       "0  https://www.tutorialspoint.com/java/java_overv...\n",
       "1  https://www.tutorialspoint.com/cprogramming/in...\n",
       "2    https://www.tutorialspoint.com/python/index.htm"
      ]
     },
     "execution_count": 109,
     "metadata": {},
     "output_type": "execute_result"
    }
   ],
   "source": [
    "data = pd.DataFrame({})\n",
    "data['Product_link'] = arr\n",
    "data"
   ]
  },
  {
   "cell_type": "code",
   "execution_count": 110,
   "id": "264613e8-8c77-4bac-b2c3-55f73dfde505",
   "metadata": {},
   "outputs": [
    {
     "name": "stdout",
     "output_type": "stream",
     "text": [
      "https://www.tutorialspoint.com/java/java_overview.htm\n",
      "https://www.tutorialspoint.com/cprogramming/index.htm\n",
      "https://www.tutorialspoint.com/python/index.htm\n"
     ]
    }
   ],
   "source": [
    "for x in data['Product_link']:\n",
    "    print(x)"
   ]
  },
  {
   "cell_type": "code",
   "execution_count": 113,
   "id": "63b63499-e545-450c-b14a-c3709a019ffb",
   "metadata": {},
   "outputs": [
    {
     "data": {
      "text/plain": [
       "<html><head><title>Tutorials Point</title></head>\n",
       "<body>\n",
       "<p class=\"title\"><b>The Biggest Online Tutorials Library, It's all Free</b></p>\n",
       "<p class=\"prog\">Top 5 most used Programming Languages are:\n",
       "<a class=\"prog\" href=\"https://www.tutorialspoint.com/java/java_overview.htm\" id=\"link1\">Java</a>,\n",
       "<a class=\"prog\" href=\"https://www.tutorialspoint.com/cprogramming/index.htm\" id=\"link2\">C</a>,\n",
       "<a class=\"prog\" href=\"https://www.tutorialspoint.com/python/index.htm\" id=\"link3\">Python</a>,\n",
       "<a class=\"prog\" href=\"https://www.tutorialspoint.com/javascript/javascript_overview.htm\" id=\"link4\">JavaScript</a> and\n",
       "<a class=\"prog\" href=\"https://www.tutorialspoint.com/ruby/index.htm\" id=\"link5\">C</a>;\n",
       "as per online survey.</p>\n",
       "<p class=\"prog\">Programming Languages</p>\n",
       "</body></html>"
      ]
     },
     "execution_count": 113,
     "metadata": {},
     "output_type": "execute_result"
    }
   ],
   "source": [
    "soup_.contents[1]"
   ]
  },
  {
   "cell_type": "code",
   "execution_count": 114,
   "id": "81598cf5-7839-4604-ba66-d2ad9a759beb",
   "metadata": {},
   "outputs": [
    {
     "data": {
      "text/plain": [
       "'html'"
      ]
     },
     "execution_count": 114,
     "metadata": {},
     "output_type": "execute_result"
    }
   ],
   "source": [
    "soup_.contents[1].name"
   ]
  },
  {
   "cell_type": "code",
   "execution_count": null,
   "id": "6fd36b68-2b25-4cfb-a0df-b0695dcd96ff",
   "metadata": {},
   "outputs": [],
   "source": []
  },
  {
   "cell_type": "code",
   "execution_count": 125,
   "id": "0ec138f8-bf1c-4dc2-b2cf-b02dce104431",
   "metadata": {},
   "outputs": [
    {
     "data": {
      "text/plain": [
       "['title']"
      ]
     },
     "execution_count": 125,
     "metadata": {},
     "output_type": "execute_result"
    }
   ],
   "source": [
    "soup_.p['class']"
   ]
  },
  {
   "cell_type": "code",
   "execution_count": 129,
   "id": "3b10cf05-1808-4d82-859f-671ba2afc83c",
   "metadata": {},
   "outputs": [],
   "source": [
    "vs = soup_.find_all('p',class_='prog')"
   ]
  },
  {
   "cell_type": "code",
   "execution_count": 130,
   "id": "43475477-b718-45ce-9f37-7720045b808f",
   "metadata": {},
   "outputs": [
    {
     "name": "stdout",
     "output_type": "stream",
     "text": [
      "Top 5 most used Programming Languages are:\n",
      "Java,\n",
      "C,\n",
      "Python,\n",
      "JavaScript and\n",
      "C;\n",
      "as per online survey.\n",
      "Programming Languages\n"
     ]
    }
   ],
   "source": [
    "for x in vs:\n",
    "    print(x.text)"
   ]
  },
  {
   "cell_type": "code",
   "execution_count": 133,
   "id": "f773b58f-657c-4873-ac08-1e897d9495e7",
   "metadata": {},
   "outputs": [],
   "source": [
    "cl =[]\n",
    "for x in cont:\n",
    "    cl.append(x.get('class'))"
   ]
  },
  {
   "cell_type": "code",
   "execution_count": null,
   "id": "c32da704-6bb5-4233-aed5-3fa2944c3241",
   "metadata": {},
   "outputs": [],
   "source": []
  },
  {
   "cell_type": "code",
   "execution_count": 135,
   "id": "9709567f-c6c2-4969-9922-ae5727267ce8",
   "metadata": {},
   "outputs": [
    {
     "data": {
      "text/plain": [
       "5"
      ]
     },
     "execution_count": 135,
     "metadata": {},
     "output_type": "execute_result"
    }
   ],
   "source": [
    "len(cl)"
   ]
  },
  {
   "cell_type": "code",
   "execution_count": 136,
   "id": "29d57417-1c86-46d1-907f-c1b5e451d4a1",
   "metadata": {},
   "outputs": [],
   "source": [
    "link = 'https://dir.indiamart.com/industry/electronic-goods.html'\n",
    "source = requests.get(url=link)\n"
   ]
  },
  {
   "cell_type": "code",
   "execution_count": 137,
   "id": "d93a52c1-b2a5-4b0d-ac51-af0967a0fd98",
   "metadata": {},
   "outputs": [],
   "source": [
    "soup = bs(source.content)"
   ]
  },
  {
   "cell_type": "code",
   "execution_count": 147,
   "id": "43c02116-f0de-405d-b52d-452b993b3c54",
   "metadata": {},
   "outputs": [],
   "source": [
    "conta = soup.find_all('div',class_=\"mid\")"
   ]
  },
  {
   "cell_type": "code",
   "execution_count": 152,
   "id": "b1d99a4b-cf5e-4313-b3a2-5254470c8685",
   "metadata": {},
   "outputs": [],
   "source": [
    "device_name = []\n",
    "for x in conta:\n",
    "    device_name.append(x.text)"
   ]
  },
  {
   "cell_type": "code",
   "execution_count": 155,
   "id": "83dc32c1-3ead-4c10-8cfb-85afedb13346",
   "metadata": {},
   "outputs": [],
   "source": [
    "# device_name"
   ]
  },
  {
   "cell_type": "code",
   "execution_count": 154,
   "id": "0b2f1eb3-e7ee-4fbd-a917-232d63dd30d6",
   "metadata": {},
   "outputs": [
    {
     "data": {
      "text/plain": [
       "1"
      ]
     },
     "execution_count": 154,
     "metadata": {},
     "output_type": "execute_result"
    }
   ],
   "source": [
    "len(device_name)"
   ]
  },
  {
   "cell_type": "code",
   "execution_count": 171,
   "id": "966fadbe-5a50-4c5f-87e2-d6db5b1abd02",
   "metadata": {},
   "outputs": [],
   "source": [
    "#conta1 = soup.select(\"div.mid >ul>li\")"
   ]
  },
  {
   "cell_type": "code",
   "execution_count": null,
   "id": "54150bfb-a536-4475-bac3-aa7eea00438b",
   "metadata": {},
   "outputs": [],
   "source": []
  },
  {
   "cell_type": "code",
   "execution_count": null,
   "id": "a9a34c66-cbc1-45e2-a4c7-2892eccea6e8",
   "metadata": {},
   "outputs": [],
   "source": []
  },
  {
   "cell_type": "code",
   "execution_count": 182,
   "id": "bb21eab5-9df6-4da2-89ba-926bc8c5d79c",
   "metadata": {},
   "outputs": [],
   "source": [
    "devices = soup.select('li.q_cb >a')"
   ]
  },
  {
   "cell_type": "code",
   "execution_count": 184,
   "id": "dad15c20-aba3-466c-ab79-2e4d3925a228",
   "metadata": {},
   "outputs": [],
   "source": [
    "# devices"
   ]
  },
  {
   "cell_type": "code",
   "execution_count": 185,
   "id": "c7bead26-c5b5-4185-8b0e-43e9415198b4",
   "metadata": {},
   "outputs": [],
   "source": [
    "devices_list = []\n",
    "for x in devices:\n",
    "    devices_list.append(x.text)"
   ]
  },
  {
   "cell_type": "code",
   "execution_count": 186,
   "id": "1b791862-cfc0-4329-a138-ec262aa88cef",
   "metadata": {},
   "outputs": [
    {
     "data": {
      "text/plain": [
       "['Indoor Lights & Lighting Accessories',\n",
       " 'Street, Flood and Commercial Lights',\n",
       " 'Domestic Fans, AC & Coolers',\n",
       " 'Heater, Thermostat & Heating Devices',\n",
       " 'Camera & Photography Equipments',\n",
       " 'CCTV, Surveillance Systems and Parts',\n",
       " 'Adaptors, Plugs & Sockets',\n",
       " 'Headphones and Microphones',\n",
       " 'Computer Hard Disk, RAM & Pen Drives',\n",
       " 'Decorative and Party Lights',\n",
       " 'Electrical & Electronic Test Devices',\n",
       " 'Solar & Renewable Energy Products',\n",
       " 'Safety Equipment & Systems',\n",
       " 'Electrical & Signaling Contractors',\n",
       " 'Security & Inspection Devices',\n",
       " 'Electrical & Electronic Goods Rental']"
      ]
     },
     "execution_count": 186,
     "metadata": {},
     "output_type": "execute_result"
    }
   ],
   "source": [
    "devices_list"
   ]
  },
  {
   "cell_type": "code",
   "execution_count": 187,
   "id": "c348531a-1027-4c46-8b7a-e3385396d01a",
   "metadata": {},
   "outputs": [
    {
     "data": {
      "text/plain": [
       "16"
      ]
     },
     "execution_count": 187,
     "metadata": {},
     "output_type": "execute_result"
    }
   ],
   "source": [
    "len(devices_list)"
   ]
  },
  {
   "cell_type": "code",
   "execution_count": 190,
   "id": "4e5c13b3-20a4-4249-91a1-03f586e32295",
   "metadata": {},
   "outputs": [
    {
     "data": {
      "text/plain": [
       "<title>Electrical Goods Manufacturers,Electronic Products Suppliers,Electrical Goods Manufacturers</title>"
      ]
     },
     "execution_count": 190,
     "metadata": {},
     "output_type": "execute_result"
    }
   ],
   "source": [
    "soup.html.head.title"
   ]
  },
  {
   "cell_type": "code",
   "execution_count": 192,
   "id": "16892336-88e1-48cc-82a3-12143880a7b7",
   "metadata": {},
   "outputs": [],
   "source": [
    "#soup.contents"
   ]
  },
  {
   "cell_type": "code",
   "execution_count": 195,
   "id": "27021a2d-5720-4c9c-810d-4ab5af6da162",
   "metadata": {},
   "outputs": [
    {
     "data": {
      "text/plain": [
       "4"
      ]
     },
     "execution_count": 195,
     "metadata": {},
     "output_type": "execute_result"
    }
   ],
   "source": [
    "len(soup.contents[0])"
   ]
  },
  {
   "cell_type": "code",
   "execution_count": 204,
   "id": "6312efdd-def5-4445-b382-8cd579a991d7",
   "metadata": {},
   "outputs": [],
   "source": [
    "tag = soup.contents[1]"
   ]
  },
  {
   "cell_type": "raw",
   "id": "18e76d08-600a-481a-b1da-f9f21ddb3b7b",
   "metadata": {},
   "source": [
    "for x in tag.children:\n",
    "    print(x)"
   ]
  },
  {
   "cell_type": "raw",
   "id": "bc0c079f-c0b9-4cdb-93fd-2fdd51ac5f91",
   "metadata": {},
   "source": [
    "for x in tag.descendants:\n",
    "    print(x)"
   ]
  },
  {
   "cell_type": "code",
   "execution_count": null,
   "id": "89e572fc-dd0b-4e99-9fbd-41cf39b5476a",
   "metadata": {},
   "outputs": [],
   "source": []
  },
  {
   "cell_type": "code",
   "execution_count": 221,
   "id": "fd6d4ec6-f979-4b17-9830-3b1379183321",
   "metadata": {},
   "outputs": [],
   "source": [
    "import re"
   ]
  },
  {
   "cell_type": "code",
   "execution_count": 222,
   "id": "d6357786-f41e-421e-a21f-558a140ccb1a",
   "metadata": {},
   "outputs": [],
   "source": [
    "markup = BeautifulSoup('<p>Top Three</p><p><pre>Programming Languages are:</pre></p><p><b>Java, Python, Cplusplus</b></p>')\n"
   ]
  },
  {
   "cell_type": "code",
   "execution_count": 226,
   "id": "15ce492d-d432-4e68-a54e-305a1a0202a1",
   "metadata": {},
   "outputs": [],
   "source": [
    "ass = markup.find_all(re.compile('^p'))"
   ]
  },
  {
   "cell_type": "code",
   "execution_count": 259,
   "id": "ef9b1d87-2554-49c1-96a3-c936e0f50d95",
   "metadata": {},
   "outputs": [
    {
     "data": {
      "text/plain": [
       "[<pre>Programming Languages are:</pre>, <b>Java, Python, Cplusplus</b>]"
      ]
     },
     "execution_count": 259,
     "metadata": {},
     "output_type": "execute_result"
    }
   ],
   "source": [
    "listt = markup.find_all(['pre','b'])\n",
    "listt"
   ]
  },
  {
   "cell_type": "code",
   "execution_count": null,
   "id": "1719f08d-2d0a-4496-a23a-443734604404",
   "metadata": {},
   "outputs": [],
   "source": []
  },
  {
   "cell_type": "markdown",
   "id": "cc0e30c3-e342-4013-97ae-c4b9c9f77cfb",
   "metadata": {},
   "source": [
    "### __To return only the tags from the above soup  (markup)__ "
   ]
  },
  {
   "cell_type": "code",
   "execution_count": 262,
   "id": "48004ed1-42f9-415a-aedd-b2ef16c8c7ba",
   "metadata": {},
   "outputs": [
    {
     "name": "stdout",
     "output_type": "stream",
     "text": [
      "html\n",
      "body\n",
      "p\n",
      "p\n",
      "pre\n",
      "p\n",
      "b\n"
     ]
    }
   ],
   "source": [
    "for tag in markup.find_all(True):\n",
    "    print(tag.name)"
   ]
  },
  {
   "cell_type": "code",
   "execution_count": 251,
   "id": "01bf6172-530b-436e-a9cc-54f16eed5162",
   "metadata": {},
   "outputs": [],
   "source": []
  },
  {
   "cell_type": "markdown",
   "id": "00364ddb-54c2-4da4-8f4c-05dd1b6a673d",
   "metadata": {},
   "source": [
    "## You can use find_all to extract all the occurrences of a particular tag from the page response as −\n",
    "\n",
    "## Syntax:"
   ]
  },
  {
   "cell_type": "markdown",
   "id": "2fdc7fed-88d4-43e4-8a99-d418989302d4",
   "metadata": {},
   "source": [
    "### __find_all(name, attrs, recursive, string, limit, **kwargs)__\n"
   ]
  },
  {
   "cell_type": "markdown",
   "id": "bc68cb04-134a-4afb-a7c4-50867bdf753a",
   "metadata": {},
   "source": [
    "#### __Let us extract some interesting data from IMDB-“Top rated movies” of all time.__"
   ]
  },
  {
   "cell_type": "code",
   "execution_count": 264,
   "id": "566cb437-d189-405d-9eaa-775028764237",
   "metadata": {},
   "outputs": [],
   "source": [
    "url_=\"https://www.imdb.com/chart/top/?ref_=nv_mv_250\""
   ]
  },
  {
   "cell_type": "code",
   "execution_count": 266,
   "id": "8b148aad-43c4-47fe-8680-e6c8b9a54799",
   "metadata": {},
   "outputs": [],
   "source": [
    "response = requests.get(url= url_)"
   ]
  },
  {
   "cell_type": "code",
   "execution_count": 267,
   "id": "7638e640-aa20-46ea-b0e2-58ef1ea99049",
   "metadata": {},
   "outputs": [],
   "source": [
    "my_soup = bs(response.text,'html.parser')"
   ]
  },
  {
   "cell_type": "code",
   "execution_count": 268,
   "id": "016f65d9-4373-4e05-a8b5-aefab9269f2f",
   "metadata": {},
   "outputs": [
    {
     "name": "stdout",
     "output_type": "stream",
     "text": [
      "<title>IMDb Top 250 - IMDb</title>\n"
     ]
    }
   ],
   "source": [
    "## Let's extract the page title:\n",
    "\n",
    "print(my_soup.find('title'))"
   ]
  },
  {
   "cell_type": "code",
   "execution_count": 271,
   "id": "28f55f21-36a1-4015-aae8-4d8852d77bdb",
   "metadata": {},
   "outputs": [
    {
     "name": "stdout",
     "output_type": "stream",
     "text": [
      "Top Rated Movies\n"
     ]
    }
   ],
   "source": [
    "#Extracting main heading\n",
    "\n",
    "for heading in my_soup.find_all('h1'):\n",
    "    print(heading.text)"
   ]
  },
  {
   "cell_type": "code",
   "execution_count": 273,
   "id": "54de9956-1264-4d1e-95e6-251b77f4da82",
   "metadata": {},
   "outputs": [
    {
     "name": "stdout",
     "output_type": "stream",
     "text": [
      "IMDb Charts\n",
      "You Have Seen\n",
      " IMDb Charts\n",
      " Top India Charts\n",
      "Top Rated Movies by Genre\n",
      "Recently Viewed\n"
     ]
    }
   ],
   "source": [
    "#Extracting sub-heading\n",
    "\n",
    "for heading in my_soup.find_all('h3'):\n",
    "    print(heading.text)"
   ]
  },
  {
   "cell_type": "code",
   "execution_count": null,
   "id": "90b20dec-1d67-406c-af64-aaf4daaa101e",
   "metadata": {},
   "outputs": [],
   "source": []
  },
  {
   "cell_type": "markdown",
   "id": "8b7b4cb6-565d-4feb-8d16-c24785d2d8ec",
   "metadata": {},
   "source": [
    "### __find() and find_all() with limit=1__ both are same."
   ]
  },
  {
   "cell_type": "code",
   "execution_count": 276,
   "id": "23dbaf6e-ca52-48f8-9ae4-c42c66577d55",
   "metadata": {},
   "outputs": [
    {
     "name": "stdout",
     "output_type": "stream",
     "text": [
      "<title>IMDb Top 250 - IMDb</title>\n"
     ]
    }
   ],
   "source": [
    "#my_soup.find_all('title',limit=1)\n",
    "print(my_soup.find('title'))\n"
   ]
  },
  {
   "cell_type": "code",
   "execution_count": 277,
   "id": "df7cea54-cc17-4d3b-8fc7-e1c82b361650",
   "metadata": {},
   "outputs": [
    {
     "name": "stdout",
     "output_type": "stream",
     "text": [
      "[<title>IMDb Top 250 - IMDb</title>]\n"
     ]
    }
   ],
   "source": [
    "print(my_soup.find_all('title',limit=1))"
   ]
  },
  {
   "cell_type": "code",
   "execution_count": null,
   "id": "bfc860e0-98a0-4819-8c63-844995a937c9",
   "metadata": {},
   "outputs": [],
   "source": []
  },
  {
   "cell_type": "markdown",
   "id": "64147ac0-13ee-4280-9aba-a0b0c395d655",
   "metadata": {},
   "source": [
    "### __find_parents() and find_parent()__"
   ]
  },
  {
   "cell_type": "markdown",
   "id": "a9931848-eae7-4625-8203-6d4bb3bf6a58",
   "metadata": {},
   "source": [
    "#### __Syntax:__"
   ]
  },
  {
   "cell_type": "markdown",
   "id": "b1cd52fb-aff5-42da-b0a0-32609263172b",
   "metadata": {},
   "source": [
    "\n",
    "##### find_parents(name, attrs, string, limit, **kwargs)\n",
    "##### find_parent(name, attrs, string, **kwargs)"
   ]
  },
  {
   "cell_type": "code",
   "execution_count": 281,
   "id": "535dc26a-04a1-41a3-882d-5de5ed219793",
   "metadata": {},
   "outputs": [
    {
     "data": {
      "text/plain": [
       "'The Godfather'"
      ]
     },
     "execution_count": 281,
     "metadata": {},
     "output_type": "execute_result"
    }
   ],
   "source": [
    "a_string = my_soup.find(string=\"The Godfather\")\n",
    "a_string"
   ]
  },
  {
   "cell_type": "code",
   "execution_count": 286,
   "id": "7a1a8b0b-b044-4b2c-8c65-c792f5270af4",
   "metadata": {},
   "outputs": [
    {
     "data": {
      "text/plain": [
       "[<a href=\"/title/tt0068646/\" title=\"Francis Ford Coppola (dir.), Marlon Brando, Al Pacino\">The Godfather</a>]"
      ]
     },
     "execution_count": 286,
     "metadata": {},
     "output_type": "execute_result"
    }
   ],
   "source": [
    "q = a_string.find_parents('a')\n",
    "q"
   ]
  },
  {
   "cell_type": "code",
   "execution_count": null,
   "id": "14599727-a66c-4942-b165-70df8406c951",
   "metadata": {},
   "outputs": [],
   "source": []
  },
  {
   "cell_type": "code",
   "execution_count": 287,
   "id": "b3a7c615-d360-4168-850e-03dbdc65fbd1",
   "metadata": {},
   "outputs": [
    {
     "data": {
      "text/plain": [
       "<a href=\"/title/tt0068646/\" title=\"Francis Ford Coppola (dir.), Marlon Brando, Al Pacino\">The Godfather</a>"
      ]
     },
     "execution_count": 287,
     "metadata": {},
     "output_type": "execute_result"
    }
   ],
   "source": [
    "t = a_string.find_parent('a')\n",
    "t"
   ]
  },
  {
   "cell_type": "code",
   "execution_count": null,
   "id": "080f4e97-333d-4a62-9ea4-68487309c408",
   "metadata": {},
   "outputs": [],
   "source": []
  },
  {
   "cell_type": "code",
   "execution_count": 289,
   "id": "7b92c142-6f15-4db9-b725-e0ccc645b1ea",
   "metadata": {},
   "outputs": [],
   "source": [
    "# a_string.find_parent('tr')"
   ]
  },
  {
   "cell_type": "code",
   "execution_count": null,
   "id": "3831bc7b-fd31-44d4-8554-a1813c622bd1",
   "metadata": {},
   "outputs": [],
   "source": []
  },
  {
   "cell_type": "code",
   "execution_count": 291,
   "id": "ea5c6989-3617-445a-ac3f-75f6e511b412",
   "metadata": {},
   "outputs": [],
   "source": [
    "ds = a_string.find_parents('td')"
   ]
  },
  {
   "cell_type": "code",
   "execution_count": null,
   "id": "30bdf4b4-f2df-41ef-806f-c043815b4274",
   "metadata": {},
   "outputs": [],
   "source": []
  },
  {
   "cell_type": "markdown",
   "id": "9bb0e479-7b52-4049-ad7c-70587ae54ad5",
   "metadata": {},
   "source": [
    "### __There are eight other similar methods__"
   ]
  },
  {
   "cell_type": "raw",
   "id": "e6f0bd4f-592e-409d-b191-6cffd03d1106",
   "metadata": {},
   "source": [
    "find_next_siblings(name, attrs, string, limit, **kwargs)\n",
    "find_next_sibling(name, attrs, string, **kwargs)\n",
    "\n",
    "find_previous_siblings(name, attrs, string, limit, **kwargs)\n",
    "find_previous_sibling(name, attrs, string, **kwargs)\n",
    "\n",
    "find_all_next(name, attrs, string, limit, **kwargs)\n",
    "find_next(name, attrs, string, **kwargs)\n",
    "\n",
    "find_all_previous(name, attrs, string, limit, **kwargs)\n",
    "find_previous(name, attrs, string, **kwargs)"
   ]
  },
  {
   "cell_type": "code",
   "execution_count": 303,
   "id": "dd2fc949-b05c-4a16-a9ca-38d91c08cabb",
   "metadata": {},
   "outputs": [],
   "source": [
    "# a_string.find_next_sibling('a')"
   ]
  },
  {
   "cell_type": "code",
   "execution_count": 305,
   "id": "48fa201a-cfc6-4beb-b768-ff980f3b435c",
   "metadata": {},
   "outputs": [],
   "source": [
    "#a_string.find_all_previous('tr')"
   ]
  },
  {
   "cell_type": "code",
   "execution_count": 307,
   "id": "c2f0ab0e-5a64-4cbc-b650-d2fbc27f0c90",
   "metadata": {},
   "outputs": [],
   "source": [
    "# a_string.find_previous('tr')"
   ]
  },
  {
   "cell_type": "raw",
   "id": "0b7339d0-8f81-42a6-87fe-132e90ecfc2e",
   "metadata": {},
   "source": [
    "Where,\n",
    "\n",
    "find_next_siblings() and find_next_sibling() methods will iterate over all the siblings of the element that come after the current one.\n",
    "\n",
    "find_previous_siblings() and find_previous_sibling() methods will iterate over all the siblings that come before the current element.\n",
    "\n",
    "find_all_next() and find_next() methods will iterate over all the tags and strings that come after the current element.\n",
    "\n",
    "find_all_previous and find_previous() methods will iterate over all the tags and strings that come before the current element.\n",
    "\n"
   ]
  },
  {
   "cell_type": "code",
   "execution_count": null,
   "id": "b873fdef-4bc3-42ae-86c9-9fa363f7b365",
   "metadata": {},
   "outputs": [],
   "source": []
  },
  {
   "cell_type": "markdown",
   "id": "412b1cac-60f0-4b13-88e3-faabe1a47776",
   "metadata": {},
   "source": [
    "### __CSS selectors__"
   ]
  },
  {
   "cell_type": "markdown",
   "id": "8f52eb7c-6285-43e8-879e-5a2bc743d5f1",
   "metadata": {},
   "source": [
    "#### The BeautifulSoup library to support the most commonly-used CSS selectors. You can search for elements using CSS selectors with the help of the select() method."
   ]
  },
  {
   "cell_type": "code",
   "execution_count": 308,
   "id": "7bcb5534-fd22-421b-9ae9-cba3498bcb5e",
   "metadata": {},
   "outputs": [
    {
     "data": {
      "text/plain": [
       "[<title>IMDb Top 250 - IMDb</title>, <title>IMDb Top Rated Movies</title>]"
      ]
     },
     "execution_count": 308,
     "metadata": {},
     "output_type": "execute_result"
    }
   ],
   "source": [
    "my_soup.select('title')"
   ]
  },
  {
   "cell_type": "code",
   "execution_count": null,
   "id": "a8cd7d78-5cc5-44cf-8f60-5ddb69f1fce1",
   "metadata": {},
   "outputs": [],
   "source": []
  },
  {
   "cell_type": "code",
   "execution_count": 312,
   "id": "6dba9468-defd-4615-935e-8083cf652708",
   "metadata": {},
   "outputs": [
    {
     "data": {
      "text/plain": [
       "[<p>The Top Rated Movie list only includes feature films.</p>,\n",
       " <p class=\"imdb-footer__copyright _2-iNNCFskmr4l2OFN2DRsf\">© 1990-<!-- -->2021<!-- --> by IMDb.com, Inc.</p>]"
      ]
     },
     "execution_count": 312,
     "metadata": {},
     "output_type": "execute_result"
    }
   ],
   "source": [
    "x_ = my_soup.select('p:nth-of-type(1)')\n",
    "x_"
   ]
  },
  {
   "cell_type": "code",
   "execution_count": 313,
   "id": "8384f26a-d7db-46e8-9ff5-f0ad1e36ef5c",
   "metadata": {},
   "outputs": [
    {
     "data": {
      "text/plain": [
       "2"
      ]
     },
     "execution_count": 313,
     "metadata": {},
     "output_type": "execute_result"
    }
   ],
   "source": [
    "len(x_)"
   ]
  },
  {
   "cell_type": "code",
   "execution_count": 314,
   "id": "0b386064-e4bf-4ae7-b25b-9e7d29bd844b",
   "metadata": {},
   "outputs": [
    {
     "data": {
      "text/plain": [
       "<p>The Top Rated Movie list only includes feature films.</p>"
      ]
     },
     "execution_count": 314,
     "metadata": {},
     "output_type": "execute_result"
    }
   ],
   "source": [
    "x_[0]"
   ]
  },
  {
   "cell_type": "code",
   "execution_count": 315,
   "id": "ac057e53-05e5-40d7-b574-98d140c34c0b",
   "metadata": {},
   "outputs": [
    {
     "data": {
      "text/plain": [
       "<p class=\"imdb-footer__copyright _2-iNNCFskmr4l2OFN2DRsf\">© 1990-<!-- -->2021<!-- --> by IMDb.com, Inc.</p>"
      ]
     },
     "execution_count": 315,
     "metadata": {},
     "output_type": "execute_result"
    }
   ],
   "source": [
    "x_[1]"
   ]
  },
  {
   "cell_type": "code",
   "execution_count": 318,
   "id": "cf6d45bb-7c93-41c7-a6db-6e2d2ec1ae4b",
   "metadata": {},
   "outputs": [
    {
     "name": "stdout",
     "output_type": "stream",
     "text": [
      "© 1990-\n",
      "\n",
      "2021\n",
      "\n",
      "by IMDb.com, Inc.\n"
     ]
    }
   ],
   "source": [
    "for x in x_[1]:\n",
    "    print(x.strip())"
   ]
  },
  {
   "cell_type": "code",
   "execution_count": null,
   "id": "1f7de285-498a-478a-9d55-b124134d9942",
   "metadata": {},
   "outputs": [],
   "source": []
  },
  {
   "cell_type": "code",
   "execution_count": 335,
   "id": "b44f08f8-84a4-4199-9d17-635958f4bd11",
   "metadata": {},
   "outputs": [],
   "source": [
    "y_ = my_soup.select('img')\n",
    "#y_"
   ]
  },
  {
   "cell_type": "code",
   "execution_count": 328,
   "id": "0e0d3ad9-d4d9-49c0-8399-b0eb2c6b20bd",
   "metadata": {},
   "outputs": [
    {
     "data": {
      "text/plain": [
       "617"
      ]
     },
     "execution_count": 328,
     "metadata": {},
     "output_type": "execute_result"
    }
   ],
   "source": [
    "len(y_)"
   ]
  },
  {
   "cell_type": "code",
   "execution_count": 337,
   "id": "daa9541f-7965-44a7-a5cf-2811d2baf1e2",
   "metadata": {},
   "outputs": [],
   "source": [
    "image_link = []\n",
    "for x in y_:\n",
    "    image_link.append(x.get('src'))"
   ]
  },
  {
   "cell_type": "code",
   "execution_count": 338,
   "id": "cf022c58-5fbb-4892-baf3-29d4c6dc65d8",
   "metadata": {},
   "outputs": [],
   "source": [
    "df_ = pd.DataFrame({})\n",
    "df_['Iamge_links'] = image_link"
   ]
  },
  {
   "cell_type": "code",
   "execution_count": 339,
   "id": "fa939893-eac1-465e-bc37-03e2030dd388",
   "metadata": {},
   "outputs": [
    {
     "data": {
      "text/html": [
       "<div>\n",
       "<style scoped>\n",
       "    .dataframe tbody tr th:only-of-type {\n",
       "        vertical-align: middle;\n",
       "    }\n",
       "\n",
       "    .dataframe tbody tr th {\n",
       "        vertical-align: top;\n",
       "    }\n",
       "\n",
       "    .dataframe thead th {\n",
       "        text-align: right;\n",
       "    }\n",
       "</style>\n",
       "<table border=\"1\" class=\"dataframe\">\n",
       "  <thead>\n",
       "    <tr style=\"text-align: right;\">\n",
       "      <th></th>\n",
       "      <th>Iamge_links</th>\n",
       "    </tr>\n",
       "  </thead>\n",
       "  <tbody>\n",
       "    <tr>\n",
       "      <th>0</th>\n",
       "      <td>https://m.media-amazon.com/images/M/MV5BMDFkYT...</td>\n",
       "    </tr>\n",
       "    <tr>\n",
       "      <th>1</th>\n",
       "      <td>https://m.media-amazon.com/images/M/MV5BM2MyNj...</td>\n",
       "    </tr>\n",
       "    <tr>\n",
       "      <th>2</th>\n",
       "      <td>https://m.media-amazon.com/images/M/MV5BMWMwMG...</td>\n",
       "    </tr>\n",
       "    <tr>\n",
       "      <th>3</th>\n",
       "      <td>https://m.media-amazon.com/images/M/MV5BMTMxNT...</td>\n",
       "    </tr>\n",
       "    <tr>\n",
       "      <th>4</th>\n",
       "      <td>https://m.media-amazon.com/images/M/MV5BMWU4N2...</td>\n",
       "    </tr>\n",
       "    <tr>\n",
       "      <th>...</th>\n",
       "      <td>...</td>\n",
       "    </tr>\n",
       "    <tr>\n",
       "      <th>245</th>\n",
       "      <td>https://m.media-amazon.com/images/M/MV5BYTg1Mm...</td>\n",
       "    </tr>\n",
       "    <tr>\n",
       "      <th>246</th>\n",
       "      <td>https://m.media-amazon.com/images/M/MV5BNDVkYm...</td>\n",
       "    </tr>\n",
       "    <tr>\n",
       "      <th>247</th>\n",
       "      <td>https://m.media-amazon.com/images/M/MV5BZjJhMT...</td>\n",
       "    </tr>\n",
       "    <tr>\n",
       "      <th>248</th>\n",
       "      <td>https://m.media-amazon.com/images/M/MV5BYmY3Mz...</td>\n",
       "    </tr>\n",
       "    <tr>\n",
       "      <th>249</th>\n",
       "      <td>https://m.media-amazon.com/images/M/MV5BOGE3N2...</td>\n",
       "    </tr>\n",
       "  </tbody>\n",
       "</table>\n",
       "<p>250 rows × 1 columns</p>\n",
       "</div>"
      ],
      "text/plain": [
       "                                           Iamge_links\n",
       "0    https://m.media-amazon.com/images/M/MV5BMDFkYT...\n",
       "1    https://m.media-amazon.com/images/M/MV5BM2MyNj...\n",
       "2    https://m.media-amazon.com/images/M/MV5BMWMwMG...\n",
       "3    https://m.media-amazon.com/images/M/MV5BMTMxNT...\n",
       "4    https://m.media-amazon.com/images/M/MV5BMWU4N2...\n",
       "..                                                 ...\n",
       "245  https://m.media-amazon.com/images/M/MV5BYTg1Mm...\n",
       "246  https://m.media-amazon.com/images/M/MV5BNDVkYm...\n",
       "247  https://m.media-amazon.com/images/M/MV5BZjJhMT...\n",
       "248  https://m.media-amazon.com/images/M/MV5BYmY3Mz...\n",
       "249  https://m.media-amazon.com/images/M/MV5BOGE3N2...\n",
       "\n",
       "[250 rows x 1 columns]"
      ]
     },
     "execution_count": 339,
     "metadata": {},
     "output_type": "execute_result"
    }
   ],
   "source": [
    "df_"
   ]
  },
  {
   "cell_type": "markdown",
   "id": "6429fdbf-c7eb-4a86-bf32-ba356b3a9034",
   "metadata": {},
   "source": [
    "### print HTML code of the tenth li elemnet"
   ]
  },
  {
   "cell_type": "code",
   "execution_count": 349,
   "id": "6d6b49f4-5d32-4772-b937-f7e467dce74e",
   "metadata": {},
   "outputs": [
    {
     "data": {
      "text/plain": [
       "[<li class=\"subnav_item_main\">\n",
       " <a href=\"/search/title?genres=film_noir&amp;sort=user_rating,desc&amp;title_type=feature&amp;num_votes=25000,\"> Film-Noir\n",
       " </a> </li>]"
      ]
     },
     "execution_count": 349,
     "metadata": {},
     "output_type": "execute_result"
    }
   ],
   "source": [
    "asu = my_soup.select(\"li:nth-of-type(10)\")\n",
    "asu"
   ]
  },
  {
   "cell_type": "code",
   "execution_count": 350,
   "id": "ca62f672-49a1-4564-a26e-039c20047ff0",
   "metadata": {},
   "outputs": [],
   "source": [
    "#soup.select(\"li\")"
   ]
  },
  {
   "cell_type": "code",
   "execution_count": 351,
   "id": "393f6f95-b46f-4c49-9712-4538afe6998d",
   "metadata": {},
   "outputs": [
    {
     "data": {
      "text/plain": [
       "'/Users/olivierla412/projects/data_camp/Scraping'"
      ]
     },
     "execution_count": 351,
     "metadata": {},
     "output_type": "execute_result"
    }
   ],
   "source": [
    "pwd"
   ]
  },
  {
   "cell_type": "code",
   "execution_count": 352,
   "id": "a87d551e-6181-4459-bed9-cd195348e702",
   "metadata": {},
   "outputs": [
    {
     "ename": "SyntaxError",
     "evalue": "invalid syntax (<ipython-input-352-d93c8dd246e3>, line 1)",
     "output_type": "error",
     "traceback": [
      "\u001b[0;36m  File \u001b[0;32m\"<ipython-input-352-d93c8dd246e3>\"\u001b[0;36m, line \u001b[0;32m1\u001b[0m\n\u001b[0;31m    git status\u001b[0m\n\u001b[0m        ^\u001b[0m\n\u001b[0;31mSyntaxError\u001b[0m\u001b[0;31m:\u001b[0m invalid syntax\n"
     ]
    }
   ],
   "source": [
    "git status"
   ]
  },
  {
   "cell_type": "code",
   "execution_count": null,
   "id": "8be25c38-2914-4717-baa8-b9c0a4afa135",
   "metadata": {},
   "outputs": [],
   "source": []
  }
 ],
 "metadata": {
  "kernelspec": {
   "display_name": "Python 3",
   "language": "python",
   "name": "python3"
  },
  "language_info": {
   "codemirror_mode": {
    "name": "ipython",
    "version": 3
   },
   "file_extension": ".py",
   "mimetype": "text/x-python",
   "name": "python",
   "nbconvert_exporter": "python",
   "pygments_lexer": "ipython3",
   "version": "3.8.2"
  }
 },
 "nbformat": 4,
 "nbformat_minor": 5
}

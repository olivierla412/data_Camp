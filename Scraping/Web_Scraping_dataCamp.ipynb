{
 "cells": [
  {
   "cell_type": "code",
   "execution_count": null,
   "metadata": {},
   "outputs": [],
   "source": [
    "# __Web Scrapping in Python.__"
   ]
  },
  {
   "cell_type": "markdown",
   "metadata": {},
   "source": [
    "# Simple __Xpath:__"
   ]
  },
  {
   "cell_type": "code",
   "execution_count": 2,
   "metadata": {},
   "outputs": [],
   "source": [
    "xpath = '/html/body/div[2]'\n",
    "\n",
    "# div[2] = the second div tag in body tag"
   ]
  },
  {
   "cell_type": "markdown",
   "metadata": {},
   "source": [
    "# Slasher __double__ feature?\n",
    "\n",
    "#### .Direct to all __table__ elements within the entire __HTML__ code:"
   ]
  },
  {
   "cell_type": "code",
   "execution_count": 3,
   "metadata": {},
   "outputs": [],
   "source": [
    "xpath = '//table'"
   ]
  },
  {
   "cell_type": "markdown",
   "metadata": {},
   "source": [
    "#### Direct to __all table__ elements which are descendants of the 2nd __div__ child of the __body__ element:"
   ]
  },
  {
   "cell_type": "code",
   "execution_count": 4,
   "metadata": {},
   "outputs": [],
   "source": [
    "xpath = 'html/body/div[2]//table' "
   ]
  },
  {
   "cell_type": "code",
   "execution_count": 5,
   "metadata": {},
   "outputs": [],
   "source": [
    "xpath = 'html/body/div/p[2]' "
   ]
  },
  {
   "cell_type": "markdown",
   "metadata": {},
   "source": [
    "### The __\"Wildcard\"__  __*__ asterisks"
   ]
  },
  {
   "cell_type": "code",
   "execution_count": 6,
   "metadata": {},
   "outputs": [],
   "source": [
    "xpath ='/html/body/*'"
   ]
  },
  {
   "cell_type": "markdown",
   "metadata": {},
   "source": [
    "## __(At)tribute__\n",
    "## __@__ represent \"Attribute\"\n",
    "### @class, @id, @href\n"
   ]
  },
  {
   "cell_type": "code",
   "execution_count": 7,
   "metadata": {},
   "outputs": [],
   "source": [
    "xpath = '//p[@class =\"class-1\"]'"
   ]
  },
  {
   "cell_type": "code",
   "execution_count": 8,
   "metadata": {},
   "outputs": [],
   "source": [
    "xpath = '//*[@id=\"uid\"]'"
   ]
  },
  {
   "cell_type": "code",
   "execution_count": 9,
   "metadata": {},
   "outputs": [],
   "source": [
    "## select 2nd p tag in div having id = uid\n",
    "\n",
    "xpath = '//div[@id=\"uid\"]/p[2]'"
   ]
  },
  {
   "cell_type": "markdown",
   "metadata": {},
   "source": [
    "## Content with __Contains__\n",
    "#### Xpath contains notation:"
   ]
  },
  {
   "cell_type": "markdown",
   "metadata": {},
   "source": [
    "#### syntax: __contains__(@attri-name,\"string-expression\")"
   ]
  },
  {
   "cell_type": "code",
   "execution_count": 10,
   "metadata": {},
   "outputs": [],
   "source": [
    "# select all the elements those have the class value = \"class-1\"\n",
    "\n",
    "xpath = '//*[conatins(@class, \"class-1\")]'"
   ]
  },
  {
   "cell_type": "code",
   "execution_count": 11,
   "metadata": {},
   "outputs": [],
   "source": [
    "xpath = '/html/body/div/p[2]/@class'"
   ]
  },
  {
   "cell_type": "code",
   "execution_count": null,
   "metadata": {},
   "outputs": [],
   "source": []
  },
  {
   "cell_type": "markdown",
   "metadata": {},
   "source": [
    "# Introduction to the __scrapy Selector__ in Python."
   ]
  },
  {
   "cell_type": "code",
   "execution_count": 2,
   "metadata": {},
   "outputs": [],
   "source": [
    "from scrapy import Selector"
   ]
  },
  {
   "cell_type": "markdown",
   "metadata": {},
   "source": [
    "#### creating  Selector __object__ with html code.\n"
   ]
  },
  {
   "cell_type": "code",
   "execution_count": 3,
   "metadata": {},
   "outputs": [],
   "source": [
    "\n",
    "html ='''\n",
    "<html>\n",
    "<body>\n",
    "<div class =\"hello datacamp\">\n",
    "<p>Hello World</p>\n",
    "\n",
    "</div>\n",
    "<p>Enjoy DataCamp!</p>\n",
    "\n",
    "</body>\n",
    "</html>\n",
    "\n",
    "'''"
   ]
  },
  {
   "cell_type": "code",
   "execution_count": 4,
   "metadata": {},
   "outputs": [],
   "source": [
    "\n",
    "sel = Selector(text = html)"
   ]
  },
  {
   "cell_type": "code",
   "execution_count": 5,
   "metadata": {},
   "outputs": [
    {
     "name": "stdout",
     "output_type": "stream",
     "text": [
      "<Selector xpath=None data='<html>\\n<body>\\n<div class=\"hello datac...'>\n"
     ]
    }
   ],
   "source": [
    "print(sel)"
   ]
  },
  {
   "cell_type": "code",
   "execution_count": 9,
   "metadata": {},
   "outputs": [
    {
     "data": {
      "text/plain": [
       "[<Selector xpath='//p' data='<p>Hello World</p>'>,\n",
       " <Selector xpath='//p' data='<p>Enjoy DataCamp!</p>'>]"
      ]
     },
     "execution_count": 9,
     "metadata": {},
     "output_type": "execute_result"
    }
   ],
   "source": [
    "## let pratice with what we know\n",
    "sel.xpath(\"//p\")"
   ]
  },
  {
   "cell_type": "markdown",
   "metadata": {},
   "source": [
    "## Get the data using __extract()__ method."
   ]
  },
  {
   "cell_type": "code",
   "execution_count": 10,
   "metadata": {},
   "outputs": [],
   "source": [
    "result = sel.xpath(\"//p\").extract()"
   ]
  },
  {
   "cell_type": "code",
   "execution_count": 11,
   "metadata": {},
   "outputs": [
    {
     "name": "stdout",
     "output_type": "stream",
     "text": [
      "['<p>Hello World</p>', '<p>Enjoy DataCamp!</p>']\n"
     ]
    }
   ],
   "source": [
    "print(result)"
   ]
  },
  {
   "cell_type": "code",
   "execution_count": 12,
   "metadata": {},
   "outputs": [],
   "source": [
    "## To get the first data use extract_first() method\n",
    "\n",
    "first_data = sel.xpath(\"//p\").extract_first()"
   ]
  },
  {
   "cell_type": "code",
   "execution_count": 13,
   "metadata": {},
   "outputs": [
    {
     "name": "stdout",
     "output_type": "stream",
     "text": [
      "<p>Hello World</p>\n"
     ]
    }
   ],
   "source": [
    "print(first_data)"
   ]
  },
  {
   "cell_type": "code",
   "execution_count": 14,
   "metadata": {},
   "outputs": [],
   "source": [
    "## another way extrac the second data\n",
    "\n",
    "ps = sel.xpath('//p')"
   ]
  },
  {
   "cell_type": "code",
   "execution_count": 20,
   "metadata": {},
   "outputs": [],
   "source": [
    "second_paragraph = ps[1]"
   ]
  },
  {
   "cell_type": "code",
   "execution_count": 21,
   "metadata": {},
   "outputs": [
    {
     "data": {
      "text/plain": [
       "'<p>Enjoy DataCamp!</p>'"
      ]
     },
     "execution_count": 21,
     "metadata": {},
     "output_type": "execute_result"
    }
   ],
   "source": [
    "second_paragraph.extract()"
   ]
  },
  {
   "cell_type": "code",
   "execution_count": 22,
   "metadata": {},
   "outputs": [],
   "source": [
    "import requests"
   ]
  },
  {
   "cell_type": "code",
   "execution_count": 23,
   "metadata": {},
   "outputs": [],
   "source": [
    "url = 'https://learn.datacamp.com/courses'"
   ]
  },
  {
   "cell_type": "code",
   "execution_count": 24,
   "metadata": {},
   "outputs": [],
   "source": [
    "html = requests.get(url).content"
   ]
  },
  {
   "cell_type": "code",
   "execution_count": 25,
   "metadata": {},
   "outputs": [],
   "source": [
    "sel = Selector(text = html)"
   ]
  },
  {
   "cell_type": "code",
   "execution_count": 40,
   "metadata": {},
   "outputs": [],
   "source": [
    "data = sel.xpath('/html/body/div/*')"
   ]
  },
  {
   "cell_type": "code",
   "execution_count": 41,
   "metadata": {},
   "outputs": [
    {
     "name": "stdout",
     "output_type": "stream",
     "text": [
      "[<Selector xpath='/html/body/div/*' data='<div class=\"cf-alert cf-alert-error c...'>, <Selector xpath='/html/body/div/*' data='<div id=\"cf-error-details\" class=\"cf-...'>]\n"
     ]
    }
   ],
   "source": [
    "print(data)"
   ]
  },
  {
   "cell_type": "code",
   "execution_count": 43,
   "metadata": {},
   "outputs": [
    {
     "name": "stdout",
     "output_type": "stream",
     "text": [
      "[<Selector xpath='/html/body/div/*' data='<div class=\"cf-alert cf-alert-error c...'>, <Selector xpath='/html/body/div/*' data='<div id=\"cf-error-details\" class=\"cf-...'>]\n"
     ]
    }
   ],
   "source": [
    "print(data)"
   ]
  },
  {
   "cell_type": "markdown",
   "metadata": {},
   "source": [
    "# Rosetta __CSStone__"
   ]
  },
  {
   "cell_type": "markdown",
   "metadata": {},
   "source": [
    "#   /  replace   >   (except first character)\n",
    "\n",
    "### . __xpath:__  /html/body/div\n",
    "\n",
    "### __CSS LOCATOR__: __html > body > div__"
   ]
  },
  {
   "cell_type": "markdown",
   "metadata": {},
   "source": [
    "## xpath: //div/p[2]\n",
    "\n",
    "## cssloactor: div > p:nth-of-type(2)"
   ]
  },
  {
   "cell_type": "markdown",
   "metadata": {},
   "source": [
    "### xpath: //div/span//p     , cssloactor: div > span p"
   ]
  },
  {
   "cell_type": "code",
   "execution_count": 44,
   "metadata": {},
   "outputs": [],
   "source": [
    "xpath = '/html/body//div/p[2]'\n",
    "\n",
    "##css\n",
    "css = 'html > body div > p:nth-of-type(2)'"
   ]
  },
  {
   "cell_type": "markdown",
   "metadata": {},
   "source": [
    "## Attributes in __css__"
   ]
  },
  {
   "cell_type": "markdown",
   "metadata": {},
   "source": [
    "#### To find the element (tags) by class, use a preriod: __.__"
   ]
  },
  {
   "cell_type": "markdown",
   "metadata": {},
   "source": [
    "#### Example:  p.class-1 selects all paragraph elements belonging to __class-1__\n",
    "\n",
    "#### for id : div#uid selects the __div__ element with __id__ equal to __uid__"
   ]
  },
  {
   "cell_type": "code",
   "execution_count": 46,
   "metadata": {},
   "outputs": [],
   "source": [
    "## Select paragraph element within calss: class1\n",
    "\n",
    "css_locator = 'div#uid > p.class1'\n",
    "\n"
   ]
  },
  {
   "cell_type": "code",
   "execution_count": 47,
   "metadata": {},
   "outputs": [],
   "source": [
    "## select all html elements those are within the class1\n",
    "\n",
    "css_locator = '.class1'"
   ]
  },
  {
   "cell_type": "code",
   "execution_count": 48,
   "metadata": {},
   "outputs": [],
   "source": [
    "from scrapy import Selector"
   ]
  },
  {
   "cell_type": "code",
   "execution_count": 49,
   "metadata": {},
   "outputs": [],
   "source": [
    "html ='''\n",
    "<html>\n",
    "<body>\n",
    "<div class =\"hello datacamp\">\n",
    "<p>Hello World</p>\n",
    "\n",
    "</div>\n",
    "<p>Enjoy DataCamp!</p>\n",
    "\n",
    "</body>\n",
    "</html>\n",
    "\n",
    "'''"
   ]
  },
  {
   "cell_type": "code",
   "execution_count": 50,
   "metadata": {},
   "outputs": [],
   "source": [
    "sel = Selector(text = html)"
   ]
  },
  {
   "cell_type": "code",
   "execution_count": 51,
   "metadata": {},
   "outputs": [
    {
     "data": {
      "text/plain": [
       "[<Selector xpath='descendant-or-self::div/p' data='<p>Hello World</p>'>]"
      ]
     },
     "execution_count": 51,
     "metadata": {},
     "output_type": "execute_result"
    }
   ],
   "source": [
    "sel.css('div > p')"
   ]
  },
  {
   "cell_type": "code",
   "execution_count": 52,
   "metadata": {},
   "outputs": [
    {
     "data": {
      "text/plain": [
       "['<p>Hello World</p>']"
      ]
     },
     "execution_count": 52,
     "metadata": {},
     "output_type": "execute_result"
    }
   ],
   "source": [
    "sel.css('div > p').extract()"
   ]
  },
  {
   "cell_type": "markdown",
   "metadata": {},
   "source": [
    "## Using colon:"
   ]
  },
  {
   "cell_type": "markdown",
   "metadata": {},
   "source": [
    "### Using csslocator: "
   ]
  },
  {
   "cell_type": "code",
   "execution_count": 53,
   "metadata": {},
   "outputs": [],
   "source": [
    "# syntax:  <css-to-element>::attr(attr-name)\n",
    "\n",
    "xpath = '//div[@id=\"uid\"]/a/@href'\n",
    "\n",
    "css_locator = 'div#uid > a::attr(href)'\n"
   ]
  },
  {
   "cell_type": "code",
   "execution_count": 55,
   "metadata": {},
   "outputs": [],
   "source": [
    "html = '''\n",
    "<p id =\"p-example\">Hello World 2021!\n",
    "Try <a href='https://learn.datacamp.com/courses'>DataCamp </a> today\n",
    "</p>\n",
    "'''"
   ]
  },
  {
   "cell_type": "code",
   "execution_count": 56,
   "metadata": {},
   "outputs": [],
   "source": [
    "# In xpath: text()\n",
    "\n",
    "sel = Selector(text = html)"
   ]
  },
  {
   "cell_type": "code",
   "execution_count": 58,
   "metadata": {},
   "outputs": [],
   "source": [
    "xx = sel.xpath('//p[@id=\"p-example\"]/text()').extract()"
   ]
  },
  {
   "cell_type": "code",
   "execution_count": 59,
   "metadata": {},
   "outputs": [
    {
     "name": "stdout",
     "output_type": "stream",
     "text": [
      "['Hello World 2021!\\nTry ', ' today\\n']\n"
     ]
    }
   ],
   "source": [
    "print(xx)"
   ]
  },
  {
   "cell_type": "code",
   "execution_count": 60,
   "metadata": {},
   "outputs": [
    {
     "name": "stdout",
     "output_type": "stream",
     "text": [
      "Hello World 2021!\n",
      "Try \n",
      " today\n",
      "\n"
     ]
    }
   ],
   "source": [
    "for x in xx:\n",
    "    print(x)"
   ]
  },
  {
   "cell_type": "code",
   "execution_count": 62,
   "metadata": {},
   "outputs": [],
   "source": [
    "## using double // before text() method , got all the children and feature descendants\n",
    "\n",
    "yy = sel.xpath('//p[@id=\"p-example\"]//text()').extract()"
   ]
  },
  {
   "cell_type": "code",
   "execution_count": 63,
   "metadata": {},
   "outputs": [
    {
     "name": "stdout",
     "output_type": "stream",
     "text": [
      "['Hello World 2021!\\nTry ', 'DataCamp ', ' today\\n']\n"
     ]
    }
   ],
   "source": [
    "print(yy)"
   ]
  },
  {
   "cell_type": "code",
   "execution_count": 64,
   "metadata": {},
   "outputs": [
    {
     "name": "stdout",
     "output_type": "stream",
     "text": [
      "Hello World 2021!\n",
      "Try \n",
      "DataCamp \n",
      " today\n",
      "\n"
     ]
    }
   ],
   "source": [
    "for y in yy:\n",
    "    print(y)"
   ]
  },
  {
   "cell_type": "markdown",
   "metadata": {},
   "source": [
    "## Using css_locator with the above example ::text\n",
    "\n"
   ]
  },
  {
   "cell_type": "code",
   "execution_count": 68,
   "metadata": {},
   "outputs": [],
   "source": [
    "ww = sel.css('p#p-example::text').extract()"
   ]
  },
  {
   "cell_type": "code",
   "execution_count": 69,
   "metadata": {},
   "outputs": [
    {
     "name": "stdout",
     "output_type": "stream",
     "text": [
      "['Hello World 2021!\\nTry ', ' today\\n']\n"
     ]
    }
   ],
   "source": [
    "print(ww)"
   ]
  },
  {
   "cell_type": "code",
   "execution_count": 70,
   "metadata": {},
   "outputs": [],
   "source": [
    "## using white_space    before ::text method , got all the children and feature descendants or generations\n",
    "\n",
    "ww = sel.css('p#p-example ::text').extract()\n",
    "\n"
   ]
  },
  {
   "cell_type": "code",
   "execution_count": 74,
   "metadata": {},
   "outputs": [
    {
     "name": "stdout",
     "output_type": "stream",
     "text": [
      "['Hello World 2021!\\nTry ', 'DataCamp ', ' today\\n']\n"
     ]
    }
   ],
   "source": [
    "print(ww)"
   ]
  },
  {
   "cell_type": "code",
   "execution_count": 75,
   "metadata": {},
   "outputs": [
    {
     "name": "stdout",
     "output_type": "stream",
     "text": [
      "Hello World 2021!\n",
      "Try DataCamp  today\n",
      "\n"
     ]
    }
   ],
   "source": [
    "print(\"\".join(ww))"
   ]
  },
  {
   "cell_type": "markdown",
   "metadata": {},
   "source": [
    "## Response __crawl__"
   ]
  },
  {
   "cell_type": "code",
   "execution_count": 78,
   "metadata": {},
   "outputs": [],
   "source": [
    "## xpath method works like Selector\n",
    "\n",
    "# response.xpath('//div/span[@class=\"bio\"]')\n",
    "\n",
    "## css method works like a selector\n",
    "\n",
    "#response.css('div > span.bio')"
   ]
  },
  {
   "cell_type": "code",
   "execution_count": 79,
   "metadata": {},
   "outputs": [],
   "source": [
    "# reponse.xpath('//div').css('span.bio')\n"
   ]
  },
  {
   "cell_type": "markdown",
   "metadata": {},
   "source": [
    "#### .Data extraction works like Selector"
   ]
  },
  {
   "cell_type": "code",
   "execution_count": 80,
   "metadata": {},
   "outputs": [],
   "source": [
    "# reponse.xpath('//div').css('span.bio').extract()\n",
    "\n",
    "# reponse.xpath('//div').css('span.bio').extract_first()"
   ]
  },
  {
   "cell_type": "code",
   "execution_count": 83,
   "metadata": {},
   "outputs": [],
   "source": [
    "from scrapy import responsetypes"
   ]
  },
  {
   "cell_type": "code",
   "execution_count": 84,
   "metadata": {},
   "outputs": [],
   "source": [
    "url = 'https://learn.datacamp.com/courses' "
   ]
  },
  {
   "cell_type": "code",
   "execution_count": 85,
   "metadata": {},
   "outputs": [],
   "source": [
    "html = requests.get(url).content"
   ]
  },
  {
   "cell_type": "code",
   "execution_count": 87,
   "metadata": {},
   "outputs": [],
   "source": [
    "response = Selector(text = html)"
   ]
  },
  {
   "cell_type": "code",
   "execution_count": 101,
   "metadata": {},
   "outputs": [],
   "source": [
    "course_divs = response.css('div/*')"
   ]
  },
  {
   "cell_type": "code",
   "execution_count": 102,
   "metadata": {},
   "outputs": [
    {
     "name": "stdout",
     "output_type": "stream",
     "text": [
      "24\n"
     ]
    }
   ],
   "source": [
    "print( len(course_divs) )"
   ]
  },
  {
   "cell_type": "code",
   "execution_count": 103,
   "metadata": {},
   "outputs": [],
   "source": [
    "first_div = course_divs[0]"
   ]
  },
  {
   "cell_type": "code",
   "execution_count": 104,
   "metadata": {},
   "outputs": [
    {
     "name": "stdout",
     "output_type": "stream",
     "text": [
      "<Selector xpath='descendant-or-self::div' data='<div id=\"cf-wrapper\">\\n    <div class=...'>\n"
     ]
    }
   ],
   "source": [
    "print(first_div)"
   ]
  },
  {
   "cell_type": "code",
   "execution_count": 105,
   "metadata": {},
   "outputs": [],
   "source": [
    "first_children = first_div.xpath('./*')"
   ]
  },
  {
   "cell_type": "code",
   "execution_count": 126,
   "metadata": {},
   "outputs": [
    {
     "name": "stdout",
     "output_type": "stream",
     "text": [
      "2\n"
     ]
    }
   ],
   "source": [
    "print(len(first_children))"
   ]
  },
  {
   "cell_type": "code",
   "execution_count": 108,
   "metadata": {},
   "outputs": [],
   "source": [
    "first_child = first_children[0]"
   ]
  },
  {
   "cell_type": "code",
   "execution_count": 109,
   "metadata": {},
   "outputs": [
    {
     "name": "stdout",
     "output_type": "stream",
     "text": [
      "<Selector xpath='./*' data='<div class=\"cf-alert cf-alert-error c...'>\n"
     ]
    }
   ],
   "source": [
    "print(first_child)"
   ]
  },
  {
   "cell_type": "code",
   "execution_count": 113,
   "metadata": {},
   "outputs": [],
   "source": [
    "second_child = first_children[1]"
   ]
  },
  {
   "cell_type": "code",
   "execution_count": 115,
   "metadata": {},
   "outputs": [],
   "source": [
    "# print(second_child.extract())"
   ]
  },
  {
   "cell_type": "code",
   "execution_count": 117,
   "metadata": {},
   "outputs": [],
   "source": []
  },
  {
   "cell_type": "markdown",
   "metadata": {},
   "source": [
    "# Your Spider "
   ]
  },
  {
   "cell_type": "code",
   "execution_count": 1,
   "metadata": {},
   "outputs": [],
   "source": [
    "import scrapy\n",
    "from scrapy.crawler import CrawlerProcess"
   ]
  },
  {
   "cell_type": "code",
   "execution_count": 123,
   "metadata": {},
   "outputs": [],
   "source": [
    "class SpiderClassName(scrapy.Spider):\n",
    "    name = \"spider_name\"\n",
    "    \n",
    "    # The code for your spider\n",
    "    \n",
    "    "
   ]
  },
  {
   "cell_type": "markdown",
   "metadata": {},
   "source": [
    "## Running the spider"
   ]
  },
  {
   "cell_type": "code",
   "execution_count": 124,
   "metadata": {},
   "outputs": [],
   "source": [
    "## Initialize a CrawlerProcess\n",
    "\n",
    "# process = CrawlerProcess()\n",
    "\n",
    "## Tell the process which spider to use\n",
    "\n",
    "# process.crawl(YourSpider)\n",
    "\n",
    "# process.start()"
   ]
  },
  {
   "cell_type": "markdown",
   "metadata": {},
   "source": [
    "### Example od code"
   ]
  },
  {
   "cell_type": "code",
   "execution_count": 2,
   "metadata": {},
   "outputs": [],
   "source": [
    "class DCspider( scrapy.Spider ):\n",
    "    \n",
    "    name = \"dc_spider\"\n",
    "    \n",
    "    def start_requests(self):\n",
    "        urls =[ 'https://learn.datacamp.com/courses' ]\n",
    "        for url in urls:\n",
    "            yield scrapy.Request( url = url, callback = self.parse)\n",
    "            \n",
    "            # or without loop when you have a single url.\n",
    "            \n",
    "            #def start_requests(self):\n",
    "        #urls =[ 'https://learn.datacamp.com/courses' ]\n",
    "        #yield scrapy.Request( url = url, callback = self.parse)\n",
    "            \n",
    "            \n",
    "            ## yield : return values when start request method is running\n",
    "            ## scrapy.Request : here will fill in response variable for us\n",
    "            ## The url: argument tells us which web site to scrape\n",
    "            ## The callback: argument tells us where to send the response variable for processing\n",
    "            \n",
    "    def parse( self,response):\n",
    "        \n",
    "        # simple example : write out the html\n",
    "        html_file = 'DC_course.html'\n",
    "        with open( html_file, 'wb') as fout:\n",
    "            fout.write(response.body)\n"
   ]
  },
  {
   "cell_type": "markdown",
   "metadata": {},
   "source": [
    "### Another to do it"
   ]
  },
  {
   "cell_type": "code",
   "execution_count": 127,
   "metadata": {},
   "outputs": [],
   "source": [
    "class DCspider( scrapy.Spider ):\n",
    "    \n",
    "    name = \"dc_spider\"\n",
    "    \n",
    "    def start_requests(self):\n",
    "        urls =[ 'https://learn.datacamp.com/courses' ]\n",
    "        for url in urls:\n",
    "            yield scrapy.Request( url = url, callback = self.parse)\n",
    "            \n",
    "            ## yield : return values when start request method is running\n",
    "            ## scrapy.Request : here will fill in response variable for us\n",
    "            ## The url: argument tells us which web site to scrape\n",
    "            ## The callback: argument tells us where to send the response variable for processing\n",
    "            \n",
    "    def parse( self,response):\n",
    "        \n",
    "        # simple example : write out the html\n",
    "        links = response.css('div.course-block > a::attr(href)').extract()\n",
    "        for link in links:\n",
    "            yield response.follow( url = link, callback = self.parse2)\n",
    "    def parse2( self,response):\n",
    "        \n",
    "        ## parse the course sites here\n",
    "        \n",
    "        html_file = 'DC_course.html'\n",
    "        with open( html_file, 'wb') as fout:\n",
    "            fout.write(response.body)"
   ]
  },
  {
   "cell_type": "code",
   "execution_count": null,
   "metadata": {},
   "outputs": [],
   "source": []
  }
 ],
 "metadata": {
  "kernelspec": {
   "display_name": "Python 3",
   "language": "python",
   "name": "python3"
  },
  "language_info": {
   "codemirror_mode": {
    "name": "ipython",
    "version": 3
   },
   "file_extension": ".py",
   "mimetype": "text/x-python",
   "name": "python",
   "nbconvert_exporter": "python",
   "pygments_lexer": "ipython3",
   "version": "3.8.5"
  }
 },
 "nbformat": 4,
 "nbformat_minor": 4
}

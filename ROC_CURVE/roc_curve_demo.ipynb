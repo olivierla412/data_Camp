{
 "cells": [
  {
   "cell_type": "code",
   "execution_count": 1,
   "id": "6fb7348f-27a6-43d2-a67e-68f5243fc5c9",
   "metadata": {},
   "outputs": [],
   "source": [
    "import numpy as np\n"
   ]
  },
  {
   "cell_type": "code",
   "execution_count": 6,
   "id": "7e05f418-27d9-4ae3-932a-6b27436f1b4d",
   "metadata": {},
   "outputs": [],
   "source": [
    "from sklearn.datasets import make_classification"
   ]
  },
  {
   "cell_type": "markdown",
   "id": "2e12de7d-7639-4f11-a713-4659506ca986",
   "metadata": {},
   "source": [
    "## Generating Synthetic dataset"
   ]
  },
  {
   "cell_type": "code",
   "execution_count": 8,
   "id": "5873070f-f0f9-40ef-aefe-ba42b691c6ae",
   "metadata": {},
   "outputs": [],
   "source": [
    "x, y = make_classification(n_samples=2000,n_classes=2,n_features = 10,random_state=0)"
   ]
  },
  {
   "cell_type": "markdown",
   "id": "16c03906-ed9a-4f08-9b8d-51508d99a96b",
   "metadata": {},
   "source": [
    "## Adding nosy to the features data to make the problem more deffficult and real."
   ]
  },
  {
   "cell_type": "code",
   "execution_count": 9,
   "id": "7cab20b8-2c1a-43ae-b0c1-9347d1df3a53",
   "metadata": {},
   "outputs": [],
   "source": [
    "random_state = np.random.RandomState(0)\n",
    "n_samples, n_features = x.shape\n",
    "x = np.c_[x,random_state.randn(n_samples,200*n_features)]"
   ]
  },
  {
   "cell_type": "code",
   "execution_count": 10,
   "id": "902aee7e-ea53-402c-a422-c7d928c5c5ed",
   "metadata": {},
   "outputs": [
    {
     "data": {
      "text/plain": [
       "(2000, 2010)"
      ]
     },
     "execution_count": 10,
     "metadata": {},
     "output_type": "execute_result"
    }
   ],
   "source": [
    "x.shape"
   ]
  },
  {
   "cell_type": "markdown",
   "id": "beb7843f-4670-4cf1-8d09-fabc8b577a4d",
   "metadata": {},
   "source": [
    "## Datat spliting"
   ]
  },
  {
   "cell_type": "code",
   "execution_count": 11,
   "id": "d2cf5f3a-be4b-4da4-8fae-0b91c3d8468a",
   "metadata": {},
   "outputs": [],
   "source": [
    "from sklearn.model_selection import train_test_split"
   ]
  },
  {
   "cell_type": "code",
   "execution_count": 12,
   "id": "448d8855-2508-4a76-942b-2c55d76f5de1",
   "metadata": {},
   "outputs": [],
   "source": [
    "x_train,x_test,y_train,y_test = train_test_split(x,y,test_size=.2,random_state=0)"
   ]
  },
  {
   "cell_type": "code",
   "execution_count": 13,
   "id": "15aeade9-6c2c-4061-a3d6-389d76c597df",
   "metadata": {},
   "outputs": [],
   "source": [
    "from sklearn.ensemble import RandomForestClassifier\n",
    "from sklearn.naive_bayes import GaussianNB"
   ]
  },
  {
   "cell_type": "code",
   "execution_count": 15,
   "id": "662b9489-b5d5-4897-b3e7-c3608f27da1c",
   "metadata": {},
   "outputs": [
    {
     "data": {
      "text/plain": [
       "RandomForestClassifier(max_features=5, n_estimators=500)"
      ]
     },
     "execution_count": 15,
     "metadata": {},
     "output_type": "execute_result"
    }
   ],
   "source": [
    "## building the model using RandomForestClassifer Algo\n",
    "\n",
    "rf = RandomForestClassifier(max_features=5,n_estimators =500)\n",
    "rf.fit(x_train, y_train)"
   ]
  },
  {
   "cell_type": "code",
   "execution_count": 16,
   "id": "541659dc-2a56-48f6-a6bf-6131fe588a17",
   "metadata": {},
   "outputs": [],
   "source": [
    "## building the model using GaussianNB Algo\n",
    "nb = GaussianNB()"
   ]
  },
  {
   "cell_type": "code",
   "execution_count": 17,
   "id": "283504e2-4b79-4698-8c9a-23aa3ac219f2",
   "metadata": {},
   "outputs": [
    {
     "data": {
      "text/plain": [
       "GaussianNB()"
      ]
     },
     "execution_count": 17,
     "metadata": {},
     "output_type": "execute_result"
    }
   ],
   "source": [
    "nb.fit(x_train,y_train)"
   ]
  },
  {
   "cell_type": "markdown",
   "id": "e5a9b2ad-85b0-40db-8e4f-13927eb41545",
   "metadata": {},
   "source": [
    "## Prediction probabilities\n"
   ]
  },
  {
   "cell_type": "code",
   "execution_count": 22,
   "id": "e23a7dc7-b690-4c13-959f-44907700e222",
   "metadata": {},
   "outputs": [],
   "source": [
    "r_probs = [ 0 for _ in range(len(y_test))]"
   ]
  },
  {
   "cell_type": "code",
   "execution_count": 25,
   "id": "4fe64107-9086-4836-84b7-7db790b479e8",
   "metadata": {},
   "outputs": [],
   "source": [
    "rf_probs = rf.predict_proba(x_test)\n",
    "nb_probs = nb.predict_proba(x_test)"
   ]
  },
  {
   "cell_type": "code",
   "execution_count": 26,
   "id": "ac089377-1caf-44c8-b37a-1ee0707e5191",
   "metadata": {},
   "outputs": [],
   "source": [
    "### probabilities for the positive outcome is kept\n",
    "rf_probs = rf_probs[:, 1]\n",
    "nb_probs = nb_probs[:, 1]\n"
   ]
  },
  {
   "cell_type": "code",
   "execution_count": 27,
   "id": "0e788b23-654d-4806-91b8-5a380c829f5b",
   "metadata": {},
   "outputs": [
    {
     "data": {
      "text/plain": [
       "array([0.43 , 0.474, 0.5  , 0.478, 0.542, 0.568, 0.504, 0.544, 0.57 ,\n",
       "       0.444, 0.516, 0.452, 0.516, 0.55 , 0.432, 0.47 , 0.494, 0.534,\n",
       "       0.52 , 0.536, 0.482, 0.58 , 0.488, 0.428, 0.45 , 0.526, 0.472,\n",
       "       0.506, 0.534, 0.456, 0.478, 0.534, 0.492, 0.456, 0.468, 0.548,\n",
       "       0.558, 0.452, 0.474, 0.518, 0.474, 0.478, 0.484, 0.49 , 0.574,\n",
       "       0.526, 0.568, 0.5  , 0.532, 0.544, 0.46 , 0.446, 0.438, 0.494,\n",
       "       0.556, 0.516, 0.514, 0.454, 0.494, 0.52 , 0.58 , 0.526, 0.508,\n",
       "       0.472, 0.466, 0.516, 0.574, 0.44 , 0.506, 0.526, 0.564, 0.482,\n",
       "       0.47 , 0.528, 0.534, 0.472, 0.458, 0.558, 0.466, 0.464, 0.49 ,\n",
       "       0.502, 0.528, 0.562, 0.494, 0.524, 0.48 , 0.482, 0.514, 0.56 ,\n",
       "       0.46 , 0.484, 0.494, 0.496, 0.472, 0.468, 0.472, 0.514, 0.494,\n",
       "       0.478, 0.502, 0.486, 0.45 , 0.572, 0.542, 0.556, 0.504, 0.5  ,\n",
       "       0.424, 0.516, 0.5  , 0.456, 0.532, 0.472, 0.562, 0.49 , 0.442,\n",
       "       0.5  , 0.492, 0.484, 0.458, 0.498, 0.482, 0.51 , 0.46 , 0.464,\n",
       "       0.554, 0.47 , 0.45 , 0.508, 0.462, 0.458, 0.518, 0.54 , 0.524,\n",
       "       0.532, 0.568, 0.524, 0.562, 0.514, 0.45 , 0.414, 0.588, 0.562,\n",
       "       0.458, 0.51 , 0.554, 0.544, 0.556, 0.478, 0.564, 0.428, 0.486,\n",
       "       0.568, 0.518, 0.536, 0.514, 0.578, 0.56 , 0.494, 0.442, 0.486,\n",
       "       0.46 , 0.516, 0.45 , 0.466, 0.508, 0.46 , 0.472, 0.44 , 0.388,\n",
       "       0.464, 0.438, 0.504, 0.476, 0.508, 0.574, 0.54 , 0.484, 0.53 ,\n",
       "       0.474, 0.456, 0.544, 0.522, 0.582, 0.522, 0.508, 0.502, 0.474,\n",
       "       0.466, 0.57 , 0.486, 0.55 , 0.472, 0.508, 0.494, 0.552, 0.492,\n",
       "       0.554, 0.5  , 0.464, 0.524, 0.522, 0.464, 0.45 , 0.512, 0.57 ,\n",
       "       0.498, 0.444, 0.538, 0.444, 0.552, 0.558, 0.502, 0.476, 0.566,\n",
       "       0.476, 0.446, 0.528, 0.468, 0.542, 0.484, 0.536, 0.496, 0.49 ,\n",
       "       0.472, 0.438, 0.478, 0.448, 0.556, 0.508, 0.54 , 0.572, 0.526,\n",
       "       0.484, 0.512, 0.53 , 0.516, 0.46 , 0.478, 0.562, 0.508, 0.472,\n",
       "       0.46 , 0.514, 0.528, 0.464, 0.448, 0.512, 0.542, 0.494, 0.518,\n",
       "       0.56 , 0.506, 0.526, 0.582, 0.474, 0.458, 0.492, 0.51 , 0.53 ,\n",
       "       0.516, 0.532, 0.498, 0.466, 0.458, 0.444, 0.546, 0.492, 0.542,\n",
       "       0.558, 0.478, 0.484, 0.514, 0.5  , 0.538, 0.438, 0.478, 0.582,\n",
       "       0.534, 0.446, 0.512, 0.566, 0.52 , 0.526, 0.522, 0.468, 0.402,\n",
       "       0.538, 0.472, 0.438, 0.544, 0.552, 0.482, 0.448, 0.506, 0.4  ,\n",
       "       0.522, 0.538, 0.518, 0.516, 0.512, 0.57 , 0.586, 0.482, 0.426,\n",
       "       0.556, 0.438, 0.452, 0.538, 0.522, 0.516, 0.5  , 0.552, 0.5  ,\n",
       "       0.52 , 0.578, 0.502, 0.482, 0.458, 0.464, 0.49 , 0.486, 0.52 ,\n",
       "       0.53 , 0.506, 0.462, 0.452, 0.52 , 0.532, 0.494, 0.582, 0.514,\n",
       "       0.508, 0.476, 0.518, 0.468, 0.566, 0.462, 0.478, 0.42 , 0.476,\n",
       "       0.52 , 0.514, 0.548, 0.494, 0.47 , 0.434, 0.476, 0.432, 0.454,\n",
       "       0.47 , 0.51 , 0.508, 0.528, 0.472, 0.454, 0.458, 0.48 , 0.528,\n",
       "       0.488, 0.514, 0.534, 0.586, 0.568, 0.452, 0.558, 0.508, 0.448,\n",
       "       0.444, 0.522, 0.54 , 0.508, 0.512, 0.536, 0.524, 0.472, 0.462,\n",
       "       0.526, 0.456, 0.508, 0.576, 0.548, 0.47 , 0.492, 0.504, 0.514,\n",
       "       0.432, 0.512, 0.518, 0.48 , 0.524, 0.496, 0.504, 0.508, 0.492,\n",
       "       0.518, 0.426, 0.478, 0.442])"
      ]
     },
     "execution_count": 27,
     "metadata": {},
     "output_type": "execute_result"
    }
   ],
   "source": [
    "rf_probs"
   ]
  },
  {
   "cell_type": "markdown",
   "id": "29ddd40d-8e4e-4c8a-b739-9c6bb67da1d4",
   "metadata": {},
   "source": [
    "### Computig AUROC and ROC curve values\n"
   ]
  },
  {
   "cell_type": "code",
   "execution_count": 28,
   "id": "18c14f6f-be96-4b6c-b855-fce722512476",
   "metadata": {},
   "outputs": [],
   "source": [
    "from sklearn.metrics import roc_curve,roc_auc_score"
   ]
  },
  {
   "cell_type": "markdown",
   "id": "4f5327aa-3e33-455a-923e-40ea4b2e6b29",
   "metadata": {},
   "source": [
    "### Calculating AUCROC"
   ]
  },
  {
   "cell_type": "markdown",
   "id": "38520352-532b-4fe1-ba5f-316300821471",
   "metadata": {},
   "source": [
    "#### __ROC:__ is Receiver Characteristics Curve\n",
    "#### __AUC:__ is Area Under the Curve"
   ]
  },
  {
   "cell_type": "code",
   "execution_count": 29,
   "id": "93aeccc2-b352-4d31-98d3-7606a2ce0e85",
   "metadata": {},
   "outputs": [],
   "source": [
    "r_auc = roc_auc_score(y_test,r_probs)\n",
    "rf_auc = roc_auc_score(y_test,rf_probs)\n",
    "nb_auc = roc_auc_score(y_test,nb_probs)"
   ]
  },
  {
   "cell_type": "markdown",
   "id": "e03dd185-6da7-460d-87da-8798700ac13e",
   "metadata": {},
   "source": [
    "### Printing the AUROC score"
   ]
  },
  {
   "cell_type": "code",
   "execution_count": 30,
   "id": "9ed2f558-9c7e-40c2-8bfe-ad45df4f029f",
   "metadata": {},
   "outputs": [
    {
     "name": "stdout",
     "output_type": "stream",
     "text": [
      "Random(chance) Prediction:AUROC =0.500000\n",
      "**************************************************\n",
      "Random Forest:AUROC = 0.923531\n",
      "**************************************************\n",
      "Naive Bayes: AUROC = 0.993242\n"
     ]
    }
   ],
   "source": [
    "print('Random(chance) Prediction:AUROC =%3f'%(r_auc))\n",
    "print(\"*\"*50)\n",
    "print('Random Forest:AUROC = %3f'%(rf_auc))\n",
    "print(\"*\"*50)\n",
    "print('Naive Bayes: AUROC = %3f'%(nb_auc))"
   ]
  },
  {
   "cell_type": "markdown",
   "id": "a3a56a8a-51a8-4ab5-afcb-fadbf98e34f1",
   "metadata": {},
   "source": [
    "### Calculating the ROC curve"
   ]
  },
  {
   "cell_type": "code",
   "execution_count": 31,
   "id": "e7079fb7-ffa2-4ab2-bd2f-305a3ebd955b",
   "metadata": {},
   "outputs": [],
   "source": [
    "r_fpr,r_tpr,_ = roc_curve(y_test,r_probs)\n",
    "rf_fpr,rf_tpr,_ = roc_curve(y_test,rf_probs)\n",
    "nb_fpr,nb_tpr,_ = roc_curve(y_test,nb_probs)"
   ]
  },
  {
   "cell_type": "markdown",
   "id": "b820caf5-a5df-4fcd-86a1-5bb26ae6286d",
   "metadata": {},
   "source": [
    "### Plotting ROC curve"
   ]
  },
  {
   "cell_type": "code",
   "execution_count": 32,
   "id": "a107e658-6fba-485d-a430-77e27a619f6e",
   "metadata": {},
   "outputs": [],
   "source": [
    "import matplotlib.pyplot as plt"
   ]
  },
  {
   "cell_type": "code",
   "execution_count": 36,
   "id": "3b8b7348-b386-40a0-ac3e-ffa8b12b35be",
   "metadata": {},
   "outputs": [
    {
     "data": {
      "image/png": "[encoded data removed]",
      "text/plain": [
       "<Figure size 432x288 with 1 Axes>"
      ]
     },
     "metadata": {
      "needs_background": "light"
     },
     "output_type": "display_data"
    }
   ],
   "source": [
    "plt.plot(r_fpr,r_tpr,linestyle = '--',label ='Random Prediction )AUROC =%0.3f)'%r_auc)\n",
    "plt.plot(rf_fpr,rf_tpr,linestyle = '-',label='Random Forest (AUROC = %0.3f)'%rf_auc)\n",
    "plt.plot(nb_fpr,nb_tpr,linestyle = '-',label='Naive Bayes (AUROC = %0.3f)'%nb_auc)\n",
    "\n",
    "## title\n",
    "plt.title('ROC Plot')\n",
    "\n",
    "## Axis labels\n",
    "plt.xlabel('False Positive Rate')\n",
    "plt.ylabel('True Positive Rate')\n",
    "\n",
    "## show Legend\n",
    "plt.legend()\n",
    "plt.show()\n"
   ]
  },
  {
   "cell_type": "code",
   "execution_count": null,
   "id": "1c651053-c230-4df8-a89b-3b9bfafaa6c4",
   "metadata": {},
   "outputs": [],
   "source": []
  }
 ],
 "metadata": {
  "kernelspec": {
   "display_name": "Python 3",
   "language": "python",
   "name": "python3"
  },
  "language_info": {
   "codemirror_mode": {
    "name": "ipython",
    "version": 3
   },
   "file_extension": ".py",
   "mimetype": "text/x-python",
   "name": "python",
   "nbconvert_exporter": "python",
   "pygments_lexer": "ipython3",
   "version": "3.8.2"
  }
 },
 "nbformat": 4,
 "nbformat_minor": 5
}

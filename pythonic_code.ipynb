{
 "cells": [
  {
   "cell_type": "code",
   "execution_count": null,
   "metadata": {},
   "outputs": [],
   "source": [
    "numbers = [1,2,3,4,5,6,7,8]"
   ]
  },
  {
   "cell_type": "code",
   "execution_count": null,
   "metadata": {},
   "outputs": [],
   "source": [
    "double_numbers = []"
   ]
  },
  {
   "cell_type": "code",
   "execution_count": null,
   "metadata": {},
   "outputs": [],
   "source": [
    "# Non-Pythonic code\n",
    "\n",
    "for i in range(len(numbers)):\n",
    "    double_numbers.append(numbers[i] * 2)\n",
    "    \n",
    "    \n",
    "    "
   ]
  },
  {
   "cell_type": "code",
   "execution_count": null,
   "metadata": {},
   "outputs": [],
   "source": [
    "double_numbers"
   ]
  },
  {
   "cell_type": "code",
   "execution_count": null,
   "metadata": {},
   "outputs": [],
   "source": [
    "# Pythonic code\n",
    "\n",
    "\n",
    "double_no = [ x * 2 for x in numbers ]"
   ]
  },
  {
   "cell_type": "code",
   "execution_count": null,
   "metadata": {},
   "outputs": [],
   "source": [
    "  for i in double_no:\n",
    "        if i % 2 == 0:\n",
    "            print(i)"
   ]
  },
  {
   "cell_type": "markdown",
   "metadata": {},
   "source": [
    "\n",
    "# __Numpy arrays__ are __homogenuous__ ( elements should have the same dataType )"
   ]
  },
  {
   "cell_type": "code",
   "execution_count": 7,
   "metadata": {},
   "outputs": [],
   "source": [
    "import numpy as np"
   ]
  },
  {
   "cell_type": "code",
   "execution_count": 8,
   "metadata": {},
   "outputs": [],
   "source": [
    "num_np_ints = np.array([20,1,25,33,102])"
   ]
  },
  {
   "cell_type": "code",
   "execution_count": 9,
   "metadata": {},
   "outputs": [
    {
     "data": {
      "text/plain": [
       "array([ 20,   1,  25,  33, 102])"
      ]
     },
     "execution_count": 9,
     "metadata": {},
     "output_type": "execute_result"
    }
   ],
   "source": [
    "num_np_ints"
   ]
  },
  {
   "cell_type": "code",
   "execution_count": 10,
   "metadata": {},
   "outputs": [
    {
     "name": "stdout",
     "output_type": "stream",
     "text": [
      "<class 'numpy.ndarray'>\n"
     ]
    }
   ],
   "source": [
    "print(type(num_np_ints))"
   ]
  },
  {
   "cell_type": "markdown",
   "metadata": {},
   "source": [
    "## __dtype__ it is used to check __individual__ type"
   ]
  },
  {
   "cell_type": "code",
   "execution_count": 11,
   "metadata": {},
   "outputs": [
    {
     "data": {
      "text/plain": [
       "dtype('int64')"
      ]
     },
     "execution_count": 11,
     "metadata": {},
     "output_type": "execute_result"
    }
   ],
   "source": [
    "num_np_ints.dtype"
   ]
  },
  {
   "cell_type": "code",
   "execution_count": 12,
   "metadata": {},
   "outputs": [],
   "source": [
    "new_data = num_np_ints / 10"
   ]
  },
  {
   "cell_type": "code",
   "execution_count": 13,
   "metadata": {},
   "outputs": [
    {
     "data": {
      "text/plain": [
       "numpy.ndarray"
      ]
     },
     "execution_count": 13,
     "metadata": {},
     "output_type": "execute_result"
    }
   ],
   "source": [
    "type(new_data)"
   ]
  },
  {
   "cell_type": "code",
   "execution_count": 14,
   "metadata": {},
   "outputs": [
    {
     "data": {
      "text/plain": [
       "dtype('float64')"
      ]
     },
     "execution_count": 14,
     "metadata": {},
     "output_type": "execute_result"
    }
   ],
   "source": [
    "new_data.dtype"
   ]
  },
  {
   "cell_type": "code",
   "execution_count": 15,
   "metadata": {},
   "outputs": [
    {
     "data": {
      "text/plain": [
       "array([ 2. ,  0.1,  2.5,  3.3, 10.2])"
      ]
     },
     "execution_count": 15,
     "metadata": {},
     "output_type": "execute_result"
    }
   ],
   "source": [
    "new_data"
   ]
  },
  {
   "cell_type": "markdown",
   "metadata": {},
   "source": [
    "# Diference between __simple_2D_array__  and __Numpy_2D_array__"
   ]
  },
  {
   "cell_type": "code",
   "execution_count": 16,
   "metadata": {},
   "outputs": [],
   "source": [
    "# simple_2D_array \n",
    "\n",
    "simple_2d_array = [\n",
    "    [12,44,33],\n",
    "    [30,1,4]\n",
    "]"
   ]
  },
  {
   "cell_type": "code",
   "execution_count": 17,
   "metadata": {},
   "outputs": [
    {
     "data": {
      "text/plain": [
       "1"
      ]
     },
     "execution_count": 17,
     "metadata": {},
     "output_type": "execute_result"
    }
   ],
   "source": [
    "simple_2d_array[1][1]"
   ]
  },
  {
   "cell_type": "code",
   "execution_count": 18,
   "metadata": {},
   "outputs": [
    {
     "data": {
      "text/plain": [
       "[12, 30]"
      ]
     },
     "execution_count": 18,
     "metadata": {},
     "output_type": "execute_result"
    }
   ],
   "source": [
    "[ row[0] for row in simple_2d_array ]"
   ]
  },
  {
   "cell_type": "markdown",
   "metadata": {},
   "source": [
    "## Indexing capabilities of numpy array __easiest__ one "
   ]
  },
  {
   "cell_type": "code",
   "execution_count": 19,
   "metadata": {},
   "outputs": [],
   "source": [
    "# Numpy_2D_array\n",
    "\n",
    "numpy_array = np.array([\n",
    "    [10,11,13],\n",
    "    [16,1,3]\n",
    "])"
   ]
  },
  {
   "cell_type": "code",
   "execution_count": 20,
   "metadata": {},
   "outputs": [
    {
     "data": {
      "text/plain": [
       "1"
      ]
     },
     "execution_count": 20,
     "metadata": {},
     "output_type": "execute_result"
    }
   ],
   "source": [
    "numpy_array[1,1]"
   ]
  },
  {
   "cell_type": "code",
   "execution_count": 21,
   "metadata": {},
   "outputs": [
    {
     "data": {
      "text/plain": [
       "array([11,  1])"
      ]
     },
     "execution_count": 21,
     "metadata": {},
     "output_type": "execute_result"
    }
   ],
   "source": [
    "numpy_array[0:,1]"
   ]
  },
  {
   "cell_type": "code",
   "execution_count": 22,
   "metadata": {},
   "outputs": [],
   "source": [
    " boolean_array = np.array([10,-26,2,-3])"
   ]
  },
  {
   "cell_type": "code",
   "execution_count": 23,
   "metadata": {},
   "outputs": [
    {
     "data": {
      "text/plain": [
       "array([ True, False,  True, False])"
      ]
     },
     "execution_count": 23,
     "metadata": {},
     "output_type": "execute_result"
    }
   ],
   "source": [
    " boolean_array > 0"
   ]
  },
  {
   "cell_type": "code",
   "execution_count": 24,
   "metadata": {},
   "outputs": [],
   "source": [
    "positive_numbers=  boolean_array[ boolean_array > 0 ] "
   ]
  },
  {
   "cell_type": "code",
   "execution_count": 25,
   "metadata": {},
   "outputs": [
    {
     "data": {
      "text/plain": [
       "array([11.5,  3.5])"
      ]
     },
     "execution_count": 25,
     "metadata": {},
     "output_type": "execute_result"
    }
   ],
   "source": [
    "positive_numbers +1.5"
   ]
  },
  {
   "cell_type": "markdown",
   "metadata": {},
   "source": [
    "## Using list comprehension for a __list__ it can be done in this way."
   ]
  },
  {
   "cell_type": "code",
   "execution_count": 26,
   "metadata": {},
   "outputs": [],
   "source": [
    "list_array = [1,-2,33,6,-45,8]"
   ]
  },
  {
   "cell_type": "code",
   "execution_count": 27,
   "metadata": {},
   "outputs": [],
   "source": [
    "result = [ num for num in list_array if num > 0]"
   ]
  },
  {
   "cell_type": "code",
   "execution_count": 28,
   "metadata": {},
   "outputs": [
    {
     "data": {
      "text/plain": [
       "[1, 33, 6, 8]"
      ]
     },
     "execution_count": 28,
     "metadata": {},
     "output_type": "execute_result"
    }
   ],
   "source": [
    "result"
   ]
  },
  {
   "cell_type": "markdown",
   "metadata": {},
   "source": [
    "## Code to be timed / Using __%timeit__"
   ]
  },
  {
   "cell_type": "code",
   "execution_count": 29,
   "metadata": {},
   "outputs": [],
   "source": [
    "rand_nums = np.random.rand(1000)"
   ]
  },
  {
   "cell_type": "code",
   "execution_count": 30,
   "metadata": {},
   "outputs": [
    {
     "data": {
      "text/plain": [
       "array([0.18207642, 0.14081249, 0.50237166, 0.43115212, 0.24307498,\n",
       "       0.17631977, 0.86752708, 0.01834451, 0.07995001, 0.29828423,\n",
       "       0.06482887, 0.92356444, 0.66115896, 0.73214802, 0.82622937,\n",
       "       0.87249035, 0.62989397, 0.9508645 , 0.02546733, 0.1621857 ,\n",
       "       0.90515903, 0.53065236, 0.19585017, 0.87889514, 0.36118341,\n",
       "       0.86353163, 0.83415425, 0.54401774, 0.1920745 , 0.990875  ,\n",
       "       0.39537847, 0.86003239, 0.71191874, 0.38149841, 0.16328508,\n",
       "       0.57934694, 0.43982608, 0.96978224, 0.40228829, 0.79493792,\n",
       "       0.14572156, 0.272316  , 0.01122562, 0.79502044, 0.06919636,\n",
       "       0.83115503, 0.90435798, 0.9704182 , 0.44821985, 0.73152153,\n",
       "       0.76162184, 0.27525607, 0.21202072, 0.76941829, 0.21845785,\n",
       "       0.12704171, 0.79828131, 0.9064614 , 0.60025881, 0.95823422,\n",
       "       0.51474487, 0.87052513, 0.95953143, 0.12415501, 0.64069252,\n",
       "       0.34290867, 0.84097872, 0.52888526, 0.77491848, 0.93389536,\n",
       "       0.73134543, 0.31804241, 0.02568693, 0.33686138, 0.00318597,\n",
       "       0.23020618, 0.27508162, 0.31259006, 0.02651963, 0.1660575 ,\n",
       "       0.04842409, 0.45473997, 0.04809469, 0.40462782, 0.50176393,\n",
       "       0.77742571, 0.83353273, 0.46460606, 0.40413783, 0.98984281,\n",
       "       0.77321231, 0.81216246, 0.08632708, 0.33064033, 0.2537463 ,\n",
       "       0.29541121, 0.09904946, 0.0253071 , 0.73939388, 0.54934584,\n",
       "       0.77756692, 0.96784669, 0.85759775, 0.95740318, 0.94571396,\n",
       "       0.05153067, 0.49117554, 0.25870305, 0.14991563, 0.0425425 ,\n",
       "       0.09497152, 0.69008824, 0.3378248 , 0.82629571, 0.3360466 ,\n",
       "       0.65943805, 0.09271081, 0.88722925, 0.16556498, 0.58937979,\n",
       "       0.62227187, 0.18633739, 0.80545849, 0.8080238 , 0.28633757,\n",
       "       0.68230025, 0.60236083, 0.60846093, 0.86562635, 0.20973498,\n",
       "       0.21964425, 0.70037265, 0.84046025, 0.21687538, 0.37681115,\n",
       "       0.69821363, 0.76290222, 0.21096696, 0.29751909, 0.91986139,\n",
       "       0.54174435, 0.67158451, 0.50836736, 0.00491856, 0.88177282,\n",
       "       0.6132256 , 0.34662608, 0.46196829, 0.15900501, 0.08480715,\n",
       "       0.34122568, 0.28308064, 0.56420537, 0.71115523, 0.28220631,\n",
       "       0.49307194, 0.56198213, 0.30688685, 0.82081693, 0.00572691,\n",
       "       0.48646444, 0.77933407, 0.30002563, 0.63530898, 0.85122106,\n",
       "       0.24302472, 0.70806494, 0.36593992, 0.46544088, 0.14002476,\n",
       "       0.69848026, 0.53211292, 0.24542474, 0.75922528, 0.47134275,\n",
       "       0.22621598, 0.62191115, 0.65898114, 0.87741664, 0.21483885,\n",
       "       0.01295845, 0.04406722, 0.16175426, 0.56099523, 0.80402731,\n",
       "       0.51781401, 0.42267943, 0.00912615, 0.30618504, 0.4065791 ,\n",
       "       0.46656592, 0.05719296, 0.72684109, 0.49702296, 0.33765135,\n",
       "       0.36476401, 0.62325716, 0.01311972, 0.20711809, 0.80189646,\n",
       "       0.70643754, 0.40400133, 0.25909192, 0.3336159 , 0.27622583,\n",
       "       0.17740888, 0.45156464, 0.15384553, 0.88231211, 0.01504023,\n",
       "       0.29272122, 0.28264951, 0.72104897, 0.05836066, 0.91795975,\n",
       "       0.03973764, 0.36410392, 0.34742351, 0.78335668, 0.09414407,\n",
       "       0.03125345, 0.2308096 , 0.28195491, 0.96883321, 0.21831435,\n",
       "       0.86589841, 0.02541273, 0.6511041 , 0.4702625 , 0.58244011,\n",
       "       0.7773063 , 0.90684085, 0.03470102, 0.9213303 , 0.08492576,\n",
       "       0.24506036, 0.85425895, 0.37617817, 0.57961069, 0.23839493,\n",
       "       0.57794418, 0.34400972, 0.98833636, 0.27582618, 0.1587345 ,\n",
       "       0.72787449, 0.37019958, 0.05777986, 0.56691033, 0.14515089,\n",
       "       0.61317989, 0.3087773 , 0.35799325, 0.17274009, 0.24741407,\n",
       "       0.03133066, 0.64982193, 0.58484832, 0.44598173, 0.66227205,\n",
       "       0.40241989, 0.20439314, 0.64246667, 0.78226507, 0.1748267 ,\n",
       "       0.22068961, 0.16067311, 0.51779813, 0.98222806, 0.15039642,\n",
       "       0.5076467 , 0.04399046, 0.65375421, 0.38954619, 0.25639158,\n",
       "       0.19691301, 0.4909704 , 0.12269851, 0.86248493, 0.15778204,\n",
       "       0.80220242, 0.09002849, 0.07228839, 0.24515672, 0.9922967 ,\n",
       "       0.63823439, 0.87136771, 0.3728346 , 0.45792723, 0.8608615 ,\n",
       "       0.01827683, 0.31395357, 0.86082896, 0.93511652, 0.33948334,\n",
       "       0.07530674, 0.40715696, 0.07659303, 0.0388233 , 0.78831222,\n",
       "       0.08185568, 0.2960656 , 0.49698523, 0.76357318, 0.63839266,\n",
       "       0.49105629, 0.90027515, 0.66396633, 0.72000527, 0.77207072,\n",
       "       0.93207097, 0.28813981, 0.74994544, 0.67486102, 0.71943851,\n",
       "       0.77509624, 0.92239558, 0.83340823, 0.62394848, 0.88924583,\n",
       "       0.77603887, 0.39304791, 0.30990312, 0.81025161, 0.92805481,\n",
       "       0.26977743, 0.7614142 , 0.31555664, 0.04803729, 0.97974105,\n",
       "       0.12713927, 0.99137657, 0.97582744, 0.55507717, 0.87729112,\n",
       "       0.84567821, 0.85018191, 0.65525723, 0.75094941, 0.5973111 ,\n",
       "       0.4564685 , 0.87476105, 0.76837399, 0.59808842, 0.61807396,\n",
       "       0.25222522, 0.45227107, 0.43955937, 0.69921514, 0.96865822,\n",
       "       0.15137929, 0.08005433, 0.51723831, 0.940933  , 0.71746762,\n",
       "       0.56462669, 0.37333297, 0.50263186, 0.07277178, 0.71006017,\n",
       "       0.82369813, 0.6183145 , 0.77890379, 0.21897568, 0.81681499,\n",
       "       0.31620905, 0.72880376, 0.72241238, 0.29134778, 0.65204557,\n",
       "       0.34038709, 0.14018778, 0.97620468, 0.71205488, 0.0922672 ,\n",
       "       0.03821107, 0.68630296, 0.58143539, 0.40862145, 0.40001076,\n",
       "       0.22025118, 0.62481071, 0.79064146, 0.80355731, 0.71898942,\n",
       "       0.55635332, 0.06275331, 0.91615335, 0.68293852, 0.00428885,\n",
       "       0.99810863, 0.71371646, 0.55701232, 0.26467816, 0.69704977,\n",
       "       0.3162236 , 0.62574825, 0.49857948, 0.02016779, 0.90233498,\n",
       "       0.21077948, 0.68327187, 0.70953035, 0.78310726, 0.44773185,\n",
       "       0.49601278, 0.11662513, 0.8841866 , 0.68432305, 0.55424168,\n",
       "       0.27623489, 0.78102074, 0.32542883, 0.7850102 , 0.65805019,\n",
       "       0.64246864, 0.1510878 , 0.92145081, 0.48439484, 0.83274452,\n",
       "       0.62821905, 0.05673381, 0.81529995, 0.17262071, 0.41796367,\n",
       "       0.28978557, 0.66608399, 0.57876743, 0.13971686, 0.09085599,\n",
       "       0.56904058, 0.10123192, 0.15404329, 0.73740156, 0.34832412,\n",
       "       0.53271692, 0.66360975, 0.78945157, 0.93241912, 0.9474621 ,\n",
       "       0.556942  , 0.04225705, 0.72533206, 0.31781014, 0.21115662,\n",
       "       0.86525637, 0.14751796, 0.31241487, 0.01828533, 0.4736694 ,\n",
       "       0.48750428, 0.87488132, 0.20291295, 0.54920322, 0.11760131,\n",
       "       0.56289579, 0.37552628, 0.51286726, 0.30723313, 0.22724913,\n",
       "       0.29990533, 0.69195889, 0.09424058, 0.72267991, 0.5708362 ,\n",
       "       0.4975853 , 0.07889574, 0.89639635, 0.36394835, 0.61669208,\n",
       "       0.85282282, 0.33629826, 0.94813071, 0.06978367, 0.78368785,\n",
       "       0.07480261, 0.52158127, 0.7975973 , 0.98886852, 0.28218205,\n",
       "       0.60677671, 0.37633399, 0.25111309, 0.66937333, 0.7670548 ,\n",
       "       0.4638031 , 0.60205989, 0.96103168, 0.57293525, 0.21292586,\n",
       "       0.31498087, 0.51052982, 0.52983746, 0.61152578, 0.38994944,\n",
       "       0.21921144, 0.26685488, 0.08330382, 0.00236841, 0.07149148,\n",
       "       0.40622388, 0.59933833, 0.69071443, 0.92917435, 0.58018223,\n",
       "       0.96385427, 0.25750239, 0.38637715, 0.99318717, 0.87367558,\n",
       "       0.11877254, 0.3456102 , 0.63211204, 0.88295334, 0.43473436,\n",
       "       0.30296526, 0.02961807, 0.81495487, 0.57781655, 0.03305542,\n",
       "       0.75758958, 0.53570797, 0.26398179, 0.8004128 , 0.50151878,\n",
       "       0.03094305, 0.38479933, 0.4181149 , 0.674026  , 0.05407187,\n",
       "       0.23337461, 0.7169446 , 0.87957587, 0.9503181 , 0.83397614,\n",
       "       0.00869732, 0.15748818, 0.85753707, 0.42937814, 0.85158735,\n",
       "       0.01671799, 0.91516391, 0.08336804, 0.49189273, 0.82744643,\n",
       "       0.41523773, 0.98776168, 0.54613068, 0.47606713, 0.04781104,\n",
       "       0.02395591, 0.88949239, 0.54002109, 0.16654351, 0.95083628,\n",
       "       0.87654908, 0.77084278, 0.96903537, 0.13984691, 0.14376579,\n",
       "       0.72443427, 0.97020694, 0.61959134, 0.30608831, 0.61782378,\n",
       "       0.10637499, 0.76919748, 0.38677026, 0.25363432, 0.51250817,\n",
       "       0.73024225, 0.22687068, 0.93068974, 0.01879932, 0.9768739 ,\n",
       "       0.42679947, 0.64258744, 0.90650947, 0.34088583, 0.12233647,\n",
       "       0.96763642, 0.89364901, 0.7701368 , 0.48652946, 0.31006116,\n",
       "       0.15433738, 0.89567315, 0.50870046, 0.5633947 , 0.41281923,\n",
       "       0.25684652, 0.04573946, 0.34141924, 0.3775189 , 0.44534821,\n",
       "       0.94467626, 0.13732738, 0.09017103, 0.35272845, 0.37717187,\n",
       "       0.27861013, 0.17735557, 0.64851381, 0.89253009, 0.85473985,\n",
       "       0.38563071, 0.89766818, 0.15267425, 0.13251818, 0.38638412,\n",
       "       0.16857125, 0.04105089, 0.21449102, 0.47968985, 0.51291123,\n",
       "       0.38917936, 0.71980615, 0.2280365 , 0.07278926, 0.92847828,\n",
       "       0.95335163, 0.48523955, 0.26003332, 0.01868842, 0.11847634,\n",
       "       0.68599794, 0.37647836, 0.70431262, 0.11164098, 0.92367625,\n",
       "       0.17231506, 0.66656993, 0.97731161, 0.96904646, 0.0688906 ,\n",
       "       0.69192809, 0.71302494, 0.34108304, 0.27569513, 0.80432295,\n",
       "       0.55875457, 0.90700443, 0.01614654, 0.09210003, 0.82159544,\n",
       "       0.56250209, 0.80782152, 0.50874028, 0.01303239, 0.77482517,\n",
       "       0.29485674, 0.90121413, 0.89965383, 0.30808947, 0.65047246,\n",
       "       0.48097176, 0.85855884, 0.80246347, 0.70993407, 0.8992365 ,\n",
       "       0.51614977, 0.42363859, 0.82514007, 0.72104375, 0.94696967,\n",
       "       0.52216283, 0.14162851, 0.59000773, 0.99997421, 0.77597057,\n",
       "       0.49898966, 0.56329776, 0.93012298, 0.05447576, 0.37337392,\n",
       "       0.77664726, 0.4991501 , 0.4513812 , 0.28334636, 0.52970756,\n",
       "       0.68778125, 0.8714649 , 0.42711902, 0.57188083, 0.73759065,\n",
       "       0.77508293, 0.59968861, 0.639698  , 0.01417917, 0.8673561 ,\n",
       "       0.30095642, 0.02157533, 0.41875803, 0.68864038, 0.13892486,\n",
       "       0.14873723, 0.86701068, 0.54882277, 0.32921301, 0.51757098,\n",
       "       0.72620019, 0.253525  , 0.73494527, 0.50162388, 0.93091035,\n",
       "       0.2295522 , 0.69521789, 0.51049526, 0.37693677, 0.38252544,\n",
       "       0.32951631, 0.26337375, 0.15305796, 0.78122103, 0.50351518,\n",
       "       0.50946924, 0.33598944, 0.11368458, 0.29297115, 0.56559253,\n",
       "       0.04748772, 0.45029844, 0.03606509, 0.74132312, 0.28747695,\n",
       "       0.17447453, 0.52078239, 0.50295161, 0.38816952, 0.72164568,\n",
       "       0.40388772, 0.3077068 , 0.44859837, 0.20569476, 0.1317434 ,\n",
       "       0.43661909, 0.44177817, 0.71273072, 0.55980267, 0.67012226,\n",
       "       0.75579396, 0.06496063, 0.24178421, 0.03810605, 0.84228159,\n",
       "       0.87187893, 0.08030232, 0.95937698, 0.21908314, 0.04951228,\n",
       "       0.49273494, 0.24844859, 0.99127247, 0.0517786 , 0.24017943,\n",
       "       0.94368679, 0.24033942, 0.64937845, 0.55193294, 0.20970492,\n",
       "       0.03132816, 0.43893197, 0.1809956 , 0.4950948 , 0.06269947,\n",
       "       0.68262107, 0.05584489, 0.18507867, 0.77384907, 0.5937725 ,\n",
       "       0.02853789, 0.05793499, 0.12873404, 0.02785763, 0.06330034,\n",
       "       0.17033292, 0.16713128, 0.97390213, 0.12801766, 0.17750911,\n",
       "       0.97918148, 0.09464236, 0.78349444, 0.13187363, 0.36800414,\n",
       "       0.82831808, 0.22220987, 0.97850651, 0.11186148, 0.74271391,\n",
       "       0.96747185, 0.26969187, 0.66074573, 0.54751013, 0.52457675,\n",
       "       0.16797122, 0.62690915, 0.54641477, 0.21856587, 0.50232073,\n",
       "       0.75738612, 0.33347406, 0.43959819, 0.66924737, 0.83563223,\n",
       "       0.4825092 , 0.20083483, 0.48942296, 0.28933761, 0.47524561,\n",
       "       0.94529725, 0.65882151, 0.2296486 , 0.57020136, 0.73008952,\n",
       "       0.69356788, 0.75692052, 0.9955987 , 0.94534164, 0.53558822,\n",
       "       0.92662507, 0.46579939, 0.73066839, 0.70450316, 0.16384678,\n",
       "       0.91329133, 0.60481   , 0.07448718, 0.7270389 , 0.78431955,\n",
       "       0.37436878, 0.78930529, 0.81716048, 0.48965525, 0.21626697,\n",
       "       0.46167829, 0.52985947, 0.19797453, 0.03666471, 0.46910098,\n",
       "       0.67531431, 0.75298147, 0.65139186, 0.59971995, 0.46832459,\n",
       "       0.53297416, 0.05883715, 0.5697902 , 0.41289604, 0.01268814,\n",
       "       0.92064751, 0.09691571, 0.34693204, 0.623996  , 0.32560442,\n",
       "       0.05981951, 0.26216058, 0.3859355 , 0.59558649, 0.83407436,\n",
       "       0.28825098, 0.33059347, 0.22953881, 0.72841421, 0.57506727,\n",
       "       0.05945986, 0.0387842 , 0.54470353, 0.20001065, 0.33701551,\n",
       "       0.58392466, 0.64002229, 0.63270683, 0.46857146, 0.06437582,\n",
       "       0.92197364, 0.07475588, 0.55185928, 0.18790481, 0.35218298,\n",
       "       0.7041989 , 0.63114896, 0.50000684, 0.49700599, 0.73575898,\n",
       "       0.82295394, 0.53429715, 0.71430855, 0.52484751, 0.34703709,\n",
       "       0.80319241, 0.66896172, 0.68988614, 0.64259635, 0.88726107,\n",
       "       0.59576988, 0.67797594, 0.09421896, 0.83813369, 0.58824347,\n",
       "       0.55516746, 0.55858177, 0.06707331, 0.85130638, 0.26855712,\n",
       "       0.07750542, 0.84195081, 0.67619284, 0.662279  , 0.81644731,\n",
       "       0.38104826, 0.76447744, 0.73963335, 0.41323307, 0.20999279,\n",
       "       0.74753646, 0.73572462, 0.9471186 , 0.30644958, 0.94662518,\n",
       "       0.77508971, 0.53273761, 0.90165911, 0.5511387 , 0.85733132,\n",
       "       0.24142186, 0.13311473, 0.35983307, 0.98500246, 0.62401362,\n",
       "       0.57316374, 0.68878142, 0.87874753, 0.52558649, 0.48130064,\n",
       "       0.49304853, 0.13959669, 0.70773446, 0.76128334, 0.93563052,\n",
       "       0.08237014, 0.41396999, 0.09528447, 0.28897705, 0.20394545,\n",
       "       0.22288592, 0.34757496, 0.34557107, 0.82865376, 0.15814709,\n",
       "       0.05337517, 0.84198197, 0.66549949, 0.07339877, 0.66846112,\n",
       "       0.58851257, 0.07735921, 0.74429381, 0.69139376, 0.51147957,\n",
       "       0.7399431 , 0.19608561, 0.14779844, 0.68740725, 0.90837649,\n",
       "       0.97383331, 0.50920425, 0.4741791 , 0.70801285, 0.87338451,\n",
       "       0.09700325, 0.83663045, 0.29250608, 0.40021963, 0.38817363,\n",
       "       0.61505528, 0.23625868, 0.35342197, 0.94731748, 0.30082831,\n",
       "       0.71470131, 0.00785002, 0.33846247, 0.72713785, 0.13857605,\n",
       "       0.72573794, 0.54556883, 0.95153452, 0.97320065, 0.69134873,\n",
       "       0.65169077, 0.01908469, 0.59300236, 0.43180809, 0.12612972,\n",
       "       0.39963066, 0.77251691, 0.79670782, 0.50402828, 0.64715189])"
      ]
     },
     "execution_count": 30,
     "metadata": {},
     "output_type": "execute_result"
    }
   ],
   "source": [
    "rand_nums"
   ]
  },
  {
   "cell_type": "code",
   "execution_count": 31,
   "metadata": {},
   "outputs": [
    {
     "name": "stdout",
     "output_type": "stream",
     "text": [
      "6.94 µs ± 59.3 ns per loop (mean ± std. dev. of 7 runs, 100000 loops each)\n"
     ]
    }
   ],
   "source": [
    "%timeit rand_nums = np.random.rand(1000)"
   ]
  },
  {
   "cell_type": "code",
   "execution_count": 32,
   "metadata": {},
   "outputs": [
    {
     "name": "stdout",
     "output_type": "stream",
     "text": [
      "The slowest run took 6.78 times longer than the fastest. This could mean that an intermediate result is being cached.\n",
      "44 µs ± 32.7 µs per loop (mean ± std. dev. of 2 runs, 10 loops each)\n"
     ]
    }
   ],
   "source": [
    "## -r = numbers of runs, r2 = two runs\n",
    "## -n = number of loops, n10 = 10 loops\n",
    "%timeit -r2 -n10 rand_nums = np.random.rand(1000)"
   ]
  },
  {
   "cell_type": "code",
   "execution_count": 33,
   "metadata": {},
   "outputs": [
    {
     "name": "stdout",
     "output_type": "stream",
     "text": [
      "87.6 ns ± 3.61 ns per loop (mean ± std. dev. of 7 runs, 10000000 loops each)\n"
     ]
    }
   ],
   "source": [
    "%timeit formal_dict = dict()"
   ]
  },
  {
   "cell_type": "code",
   "execution_count": 34,
   "metadata": {},
   "outputs": [
    {
     "name": "stdout",
     "output_type": "stream",
     "text": [
      "25.4 ns ± 0.481 ns per loop (mean ± std. dev. of 7 runs, 10000000 loops each)\n"
     ]
    }
   ],
   "source": [
    "%timeit literal_dict = {}"
   ]
  },
  {
   "cell_type": "markdown",
   "metadata": {},
   "source": [
    "# Checking memory usage"
   ]
  },
  {
   "cell_type": "code",
   "execution_count": 35,
   "metadata": {},
   "outputs": [],
   "source": [
    "import sys"
   ]
  },
  {
   "cell_type": "code",
   "execution_count": 36,
   "metadata": {},
   "outputs": [],
   "source": [
    "data = [23,67]"
   ]
  },
  {
   "cell_type": "code",
   "execution_count": 37,
   "metadata": {},
   "outputs": [
    {
     "data": {
      "text/plain": [
       "72"
      ]
     },
     "execution_count": 37,
     "metadata": {},
     "output_type": "execute_result"
    }
   ],
   "source": [
    "sys.getsizeof(data)"
   ]
  },
  {
   "cell_type": "code",
   "execution_count": 38,
   "metadata": {},
   "outputs": [],
   "source": [
    "data1 = np.array([23,67])"
   ]
  },
  {
   "cell_type": "code",
   "execution_count": 39,
   "metadata": {},
   "outputs": [
    {
     "data": {
      "text/plain": [
       "112"
      ]
     },
     "execution_count": 39,
     "metadata": {},
     "output_type": "execute_result"
    }
   ],
   "source": [
    "sys.getsizeof(data1)"
   ]
  },
  {
   "cell_type": "markdown",
   "metadata": {},
   "source": [
    "## Code profiling: __line_profiler__ with __%lprun__"
   ]
  },
  {
   "cell_type": "code",
   "execution_count": 40,
   "metadata": {},
   "outputs": [],
   "source": [
    "def even_num(num):\n",
    "    if num % 2 == 0:\n",
    "        print(num)\n",
    "    else:\n",
    "        print('not even')"
   ]
  },
  {
   "cell_type": "code",
   "execution_count": 41,
   "metadata": {},
   "outputs": [
    {
     "name": "stdout",
     "output_type": "stream",
     "text": [
      "not even\n"
     ]
    }
   ],
   "source": [
    "even_num(9)"
   ]
  },
  {
   "cell_type": "code",
   "execution_count": 42,
   "metadata": {},
   "outputs": [],
   "source": [
    "## load first the line_profiler\n",
    "\n",
    "%load_ext line_profiler"
   ]
  },
  {
   "cell_type": "code",
   "execution_count": 43,
   "metadata": {},
   "outputs": [
    {
     "name": "stdout",
     "output_type": "stream",
     "text": [
      "not even\n"
     ]
    },
    {
     "data": {
      "text/plain": [
       "Timer unit: 1e-06 s\n",
       "\n",
       "Total time: 0.000841 s\n",
       "File: <ipython-input-40-ef630fa43f15>\n",
       "Function: even_num at line 1\n",
       "\n",
       "Line #      Hits         Time  Per Hit   % Time  Line Contents\n",
       "==============================================================\n",
       "     1                                           def even_num(num):\n",
       "     2         1          4.0      4.0      0.5      if num % 2 == 0:\n",
       "     3                                                   print(num)\n",
       "     4                                               else:\n",
       "     5         1        837.0    837.0     99.5          print('not even')"
      ]
     },
     "metadata": {},
     "output_type": "display_data"
    }
   ],
   "source": [
    "%lprun  -f even_num even_num(9)"
   ]
  },
  {
   "cell_type": "markdown",
   "metadata": {},
   "source": [
    "## Code profiling: __memory_profiler__\n",
    "### check line by line memory usages"
   ]
  },
  {
   "cell_type": "code",
   "execution_count": 44,
   "metadata": {},
   "outputs": [],
   "source": [
    "from funtions import even_num"
   ]
  },
  {
   "cell_type": "code",
   "execution_count": 45,
   "metadata": {},
   "outputs": [],
   "source": [
    "%load_ext memory_profiler "
   ]
  },
  {
   "cell_type": "code",
   "execution_count": 46,
   "metadata": {},
   "outputs": [
    {
     "name": "stdout",
     "output_type": "stream",
     "text": [
      "28\n",
      "\n"
     ]
    },
    {
     "data": {
      "text/plain": [
       "Filename: /Users/olivierla412/projects/data_camp/funtions.py\n",
       "\n",
       "Line #    Mem usage    Increment  Occurences   Line Contents\n",
       "============================================================\n",
       "     1     62.5 MiB     62.5 MiB           1   def even_num(num):\n",
       "     2     62.5 MiB      0.0 MiB           1       if num % 2 == 0:\n",
       "     3     62.5 MiB      0.0 MiB           1           print(num)\n",
       "     4                                             else:\n",
       "     5                                                 print('not even')"
      ]
     },
     "metadata": {},
     "output_type": "display_data"
    }
   ],
   "source": [
    "%mprun -f even_num even_num(28)"
   ]
  },
  {
   "cell_type": "markdown",
   "metadata": {},
   "source": [
    "## Combining objects"
   ]
  },
  {
   "cell_type": "code",
   "execution_count": 55,
   "metadata": {},
   "outputs": [],
   "source": [
    "tast = ['coffee','orange','mango']\n",
    "points = [45,100,20]"
   ]
  },
  {
   "cell_type": "code",
   "execution_count": 69,
   "metadata": {},
   "outputs": [],
   "source": [
    "combined = []"
   ]
  },
  {
   "cell_type": "code",
   "execution_count": 49,
   "metadata": {},
   "outputs": [],
   "source": [
    "x = enumerate(tast)"
   ]
  },
  {
   "cell_type": "code",
   "execution_count": 50,
   "metadata": {},
   "outputs": [
    {
     "data": {
      "text/plain": [
       "[(0, 'coffee'), (1, 'orange'), (2, 'mango')]"
      ]
     },
     "execution_count": 50,
     "metadata": {},
     "output_type": "execute_result"
    }
   ],
   "source": [
    "list(x)"
   ]
  },
  {
   "cell_type": "code",
   "execution_count": 70,
   "metadata": {},
   "outputs": [],
   "source": [
    "for i ,value in enumerate(tast):\n",
    "    combined.append((value, points[i]))"
   ]
  },
  {
   "cell_type": "code",
   "execution_count": 71,
   "metadata": {},
   "outputs": [
    {
     "name": "stdout",
     "output_type": "stream",
     "text": [
      "[('coffee', 45), ('orange', 100), ('mango', 20)]\n"
     ]
    }
   ],
   "source": [
    "print(combined)"
   ]
  },
  {
   "cell_type": "markdown",
   "metadata": {},
   "source": [
    "## Combining objects using __zip()__ function"
   ]
  },
  {
   "cell_type": "code",
   "execution_count": 82,
   "metadata": {},
   "outputs": [],
   "source": [
    "data1 = ['Orange','Mango','Bananas','Apple']\n",
    "data2 = [100,101,102,103]"
   ]
  },
  {
   "cell_type": "code",
   "execution_count": 84,
   "metadata": {},
   "outputs": [],
   "source": [
    "resulta = zip(data1, data2)"
   ]
  },
  {
   "cell_type": "code",
   "execution_count": 77,
   "metadata": {},
   "outputs": [
    {
     "data": {
      "text/plain": [
       "<zip at 0x7fa97debb080>"
      ]
     },
     "execution_count": 77,
     "metadata": {},
     "output_type": "execute_result"
    }
   ],
   "source": [
    "resulta"
   ]
  },
  {
   "cell_type": "code",
   "execution_count": 85,
   "metadata": {},
   "outputs": [],
   "source": [
    "## result = list(resulta)\n",
    "result = [ *resulta ]"
   ]
  },
  {
   "cell_type": "code",
   "execution_count": 86,
   "metadata": {},
   "outputs": [
    {
     "data": {
      "text/plain": [
       "[('Orange', 100), ('Mango', 101), ('Bananas', 102), ('Apple', 103)]"
      ]
     },
     "execution_count": 86,
     "metadata": {},
     "output_type": "execute_result"
    }
   ],
   "source": [
    "result"
   ]
  },
  {
   "cell_type": "markdown",
   "metadata": {},
   "source": [
    "# __collections__.__Counter__\n",
    "\n",
    "### help to build a __dict__ from a list using __counter__"
   ]
  },
  {
   "cell_type": "code",
   "execution_count": 94,
   "metadata": {},
   "outputs": [],
   "source": []
  },
  {
   "cell_type": "code",
   "execution_count": 97,
   "metadata": {},
   "outputs": [],
   "source": [
    "data1 = ['Orange','Mango','Bananas','Apple']\n"
   ]
  },
  {
   "cell_type": "code",
   "execution_count": 98,
   "metadata": {},
   "outputs": [],
   "source": [
    "from collections import Counter"
   ]
  },
  {
   "cell_type": "code",
   "execution_count": 99,
   "metadata": {},
   "outputs": [],
   "source": [
    "dict_data = Counter(data1)"
   ]
  },
  {
   "cell_type": "code",
   "execution_count": 100,
   "metadata": {},
   "outputs": [
    {
     "name": "stdout",
     "output_type": "stream",
     "text": [
      "Counter({'Orange': 1, 'Mango': 1, 'Bananas': 1, 'Apple': 1})\n"
     ]
    }
   ],
   "source": [
    "print(dict_data )"
   ]
  },
  {
   "cell_type": "markdown",
   "metadata": {},
   "source": [
    "## Combinations with loops"
   ]
  },
  {
   "cell_type": "code",
   "execution_count": 101,
   "metadata": {},
   "outputs": [],
   "source": [
    "data1 = ['Orange','Mango','Bananas','Apple']\n"
   ]
  },
  {
   "cell_type": "code",
   "execution_count": 102,
   "metadata": {},
   "outputs": [],
   "source": [
    "combined = []"
   ]
  },
  {
   "cell_type": "code",
   "execution_count": 103,
   "metadata": {},
   "outputs": [],
   "source": [
    "for x in data1:\n",
    "    for y in data1:\n",
    "        if x == y :\n",
    "            continue\n",
    "        if ((x,y) not in combined) & ((y,x) not in combined):\n",
    "            combined.append((x,y))"
   ]
  },
  {
   "cell_type": "code",
   "execution_count": 104,
   "metadata": {},
   "outputs": [
    {
     "name": "stdout",
     "output_type": "stream",
     "text": [
      "[('Orange', 'Mango'), ('Orange', 'Bananas'), ('Orange', 'Apple'), ('Mango', 'Bananas'), ('Mango', 'Apple'), ('Bananas', 'Apple')]\n"
     ]
    }
   ],
   "source": [
    "print(combined)"
   ]
  },
  {
   "cell_type": "markdown",
   "metadata": {},
   "source": [
    "# __itertools__.__combinations()__ give better option than above example"
   ]
  },
  {
   "cell_type": "code",
   "execution_count": 106,
   "metadata": {},
   "outputs": [],
   "source": [
    "from itertools import combinations"
   ]
  },
  {
   "cell_type": "code",
   "execution_count": 123,
   "metadata": {},
   "outputs": [],
   "source": [
    "data1 = ['Orange','Mango','Bananas','Apple']\n"
   ]
  },
  {
   "cell_type": "markdown",
   "metadata": {},
   "source": [
    "#### create a combination of called __object1__"
   ]
  },
  {
   "cell_type": "code",
   "execution_count": 124,
   "metadata": {},
   "outputs": [],
   "source": [
    "object1 = combinations(data1, 2)"
   ]
  },
  {
   "cell_type": "code",
   "execution_count": 125,
   "metadata": {},
   "outputs": [],
   "source": [
    "result = [*object1]"
   ]
  },
  {
   "cell_type": "code",
   "execution_count": 126,
   "metadata": {},
   "outputs": [
    {
     "data": {
      "text/plain": [
       "[('Orange', 'Mango'),\n",
       " ('Orange', 'Bananas'),\n",
       " ('Orange', 'Apple'),\n",
       " ('Mango', 'Bananas'),\n",
       " ('Mango', 'Apple'),\n",
       " ('Bananas', 'Apple')]"
      ]
     },
     "execution_count": 126,
     "metadata": {},
     "output_type": "execute_result"
    }
   ],
   "source": [
    "result"
   ]
  },
  {
   "cell_type": "code",
   "execution_count": 128,
   "metadata": {},
   "outputs": [],
   "source": [
    "data1 = {'Orange','Mango','Bananas','Apple'}\n",
    "data2 = {'Orange','Mango','Greep','Apple'}\n"
   ]
  },
  {
   "cell_type": "code",
   "execution_count": 129,
   "metadata": {},
   "outputs": [
    {
     "data": {
      "text/plain": [
       "{'Apple', 'Mango', 'Orange'}"
      ]
     },
     "execution_count": 129,
     "metadata": {},
     "output_type": "execute_result"
    }
   ],
   "source": [
    "data1.intersection(data2)"
   ]
  },
  {
   "cell_type": "code",
   "execution_count": 130,
   "metadata": {},
   "outputs": [
    {
     "data": {
      "text/plain": [
       "{'Bananas'}"
      ]
     },
     "execution_count": 130,
     "metadata": {},
     "output_type": "execute_result"
    }
   ],
   "source": [
    "data1.difference(data2)"
   ]
  },
  {
   "cell_type": "markdown",
   "metadata": {},
   "source": [
    "## to item in one set but not in the other "
   ]
  },
  {
   "cell_type": "code",
   "execution_count": 132,
   "metadata": {},
   "outputs": [],
   "source": [
    "da = data1.symmetric_difference(data2)"
   ]
  },
  {
   "cell_type": "code",
   "execution_count": 133,
   "metadata": {},
   "outputs": [
    {
     "data": {
      "text/plain": [
       "{'Bananas', 'Greep'}"
      ]
     },
     "execution_count": 133,
     "metadata": {},
     "output_type": "execute_result"
    }
   ],
   "source": [
    "da"
   ]
  },
  {
   "cell_type": "code",
   "execution_count": 134,
   "metadata": {},
   "outputs": [],
   "source": [
    "daa = data2.union(data1)"
   ]
  },
  {
   "cell_type": "code",
   "execution_count": 135,
   "metadata": {},
   "outputs": [
    {
     "data": {
      "text/plain": [
       "{'Apple', 'Bananas', 'Greep', 'Mango', 'Orange'}"
      ]
     },
     "execution_count": 135,
     "metadata": {},
     "output_type": "execute_result"
    }
   ],
   "source": [
    "daa"
   ]
  },
  {
   "cell_type": "markdown",
   "metadata": {},
   "source": [
    "## Uniqueness using a __for loop__"
   ]
  },
  {
   "cell_type": "code",
   "execution_count": 138,
   "metadata": {},
   "outputs": [],
   "source": [
    "data = ['Orange','Mango','Bananas','Apple','Apple','Mango','Lemon']\n"
   ]
  },
  {
   "cell_type": "code",
   "execution_count": 139,
   "metadata": {},
   "outputs": [],
   "source": [
    "uniq = []"
   ]
  },
  {
   "cell_type": "code",
   "execution_count": 140,
   "metadata": {},
   "outputs": [],
   "source": [
    "for item in data:\n",
    "    if item not in uniq:\n",
    "        uniq.append(item)"
   ]
  },
  {
   "cell_type": "code",
   "execution_count": 141,
   "metadata": {},
   "outputs": [
    {
     "name": "stdout",
     "output_type": "stream",
     "text": [
      "['Orange', 'Mango', 'Bananas', 'Apple', 'Lemon']\n"
     ]
    }
   ],
   "source": [
    "print(uniq)"
   ]
  },
  {
   "cell_type": "markdown",
   "metadata": {},
   "source": [
    "## set is a collection of __distinct__ elements"
   ]
  },
  {
   "cell_type": "code",
   "execution_count": 145,
   "metadata": {},
   "outputs": [],
   "source": [
    "set_data = set(data)"
   ]
  },
  {
   "cell_type": "code",
   "execution_count": 146,
   "metadata": {},
   "outputs": [
    {
     "data": {
      "text/plain": [
       "{'Apple', 'Bananas', 'Lemon', 'Mango', 'Orange'}"
      ]
     },
     "execution_count": 146,
     "metadata": {},
     "output_type": "execute_result"
    }
   ],
   "source": [
    "set_data"
   ]
  },
  {
   "cell_type": "code",
   "execution_count": 147,
   "metadata": {},
   "outputs": [],
   "source": []
  }
 ],
 "metadata": {
  "kernelspec": {
   "display_name": "Python 3",
   "language": "python",
   "name": "python3"
  },
  "language_info": {
   "codemirror_mode": {
    "name": "ipython",
    "version": 3
   },
   "file_extension": ".py",
   "mimetype": "text/x-python",
   "name": "python",
   "nbconvert_exporter": "python",
   "pygments_lexer": "ipython3",
   "version": "3.8.5"
  }
 },
 "nbformat": 4,
 "nbformat_minor": 4
}
